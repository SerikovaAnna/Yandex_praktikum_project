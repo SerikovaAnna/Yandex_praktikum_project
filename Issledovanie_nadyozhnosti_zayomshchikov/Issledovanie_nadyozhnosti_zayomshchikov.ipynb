{
 "cells": [
  {
   "cell_type": "markdown",
   "id": "4fc1efef",
   "metadata": {},
   "source": [
    "# Исследование надежности заемщиков."
   ]
  },
  {
   "cell_type": "markdown",
   "id": "2b6f916e",
   "metadata": {},
   "source": [
    "**Цель исследования** - ответить на вопросы:\n",
    "1. Есть ли зависимость между количеством детей и возвратом кредита в срок?\n",
    "2. Есть ли зависимость между семейным положением и возвратом кредита в срок?\n",
    "3. Есть ли зависимость между уровнем дохода и возвратом кредита в срок?\n",
    "4. Как разные цели кредита влияют на его возврат в срок?\n"
   ]
  },
  {
   "cell_type": "markdown",
   "id": "f437344f",
   "metadata": {},
   "source": [
    "## Шаг Обзор данных"
   ]
  },
  {
   "cell_type": "code",
   "execution_count": 83,
   "id": "f84a943c",
   "metadata": {},
   "outputs": [],
   "source": [
    "import pandas as pd\n",
    "import numpy as np\n",
    "import warnings\n",
    "warnings.filterwarnings('ignore')"
   ]
  },
  {
   "cell_type": "code",
   "execution_count": 84,
   "id": "b6f16422",
   "metadata": {
    "scrolled": true
   },
   "outputs": [
    {
     "name": "stdout",
     "output_type": "stream",
     "text": [
      "<class 'pandas.core.frame.DataFrame'>\n",
      "RangeIndex: 21525 entries, 0 to 21524\n",
      "Data columns (total 12 columns):\n",
      " #   Column            Non-Null Count  Dtype  \n",
      "---  ------            --------------  -----  \n",
      " 0   children          21525 non-null  int64  \n",
      " 1   days_employed     19351 non-null  float64\n",
      " 2   dob_years         21525 non-null  int64  \n",
      " 3   education         21525 non-null  object \n",
      " 4   education_id      21525 non-null  int64  \n",
      " 5   family_status     21525 non-null  object \n",
      " 6   family_status_id  21525 non-null  int64  \n",
      " 7   gender            21525 non-null  object \n",
      " 8   income_type       21525 non-null  object \n",
      " 9   debt              21525 non-null  int64  \n",
      " 10  total_income      19351 non-null  float64\n",
      " 11  purpose           21525 non-null  object \n",
      "dtypes: float64(2), int64(5), object(5)\n",
      "memory usage: 2.0+ MB\n"
     ]
    }
   ],
   "source": [
    "data = pd.read_csv('/datasets/data.csv') \n",
    "data.info()"
   ]
  },
  {
   "cell_type": "code",
   "execution_count": 85,
   "id": "f952bcad",
   "metadata": {},
   "outputs": [
    {
     "data": {
      "text/html": [
       "<div>\n",
       "<style scoped>\n",
       "    .dataframe tbody tr th:only-of-type {\n",
       "        vertical-align: middle;\n",
       "    }\n",
       "\n",
       "    .dataframe tbody tr th {\n",
       "        vertical-align: top;\n",
       "    }\n",
       "\n",
       "    .dataframe thead th {\n",
       "        text-align: right;\n",
       "    }\n",
       "</style>\n",
       "<table border=\"1\" class=\"dataframe\">\n",
       "  <thead>\n",
       "    <tr style=\"text-align: right;\">\n",
       "      <th></th>\n",
       "      <th>children</th>\n",
       "      <th>days_employed</th>\n",
       "      <th>dob_years</th>\n",
       "      <th>education</th>\n",
       "      <th>education_id</th>\n",
       "      <th>family_status</th>\n",
       "      <th>family_status_id</th>\n",
       "      <th>gender</th>\n",
       "      <th>income_type</th>\n",
       "      <th>debt</th>\n",
       "      <th>total_income</th>\n",
       "      <th>purpose</th>\n",
       "    </tr>\n",
       "  </thead>\n",
       "  <tbody>\n",
       "    <tr>\n",
       "      <th>0</th>\n",
       "      <td>1</td>\n",
       "      <td>-8437.673028</td>\n",
       "      <td>42</td>\n",
       "      <td>высшее</td>\n",
       "      <td>0</td>\n",
       "      <td>женат / замужем</td>\n",
       "      <td>0</td>\n",
       "      <td>F</td>\n",
       "      <td>сотрудник</td>\n",
       "      <td>0</td>\n",
       "      <td>253875.639453</td>\n",
       "      <td>покупка жилья</td>\n",
       "    </tr>\n",
       "    <tr>\n",
       "      <th>1</th>\n",
       "      <td>1</td>\n",
       "      <td>-4024.803754</td>\n",
       "      <td>36</td>\n",
       "      <td>среднее</td>\n",
       "      <td>1</td>\n",
       "      <td>женат / замужем</td>\n",
       "      <td>0</td>\n",
       "      <td>F</td>\n",
       "      <td>сотрудник</td>\n",
       "      <td>0</td>\n",
       "      <td>112080.014102</td>\n",
       "      <td>приобретение автомобиля</td>\n",
       "    </tr>\n",
       "    <tr>\n",
       "      <th>2</th>\n",
       "      <td>0</td>\n",
       "      <td>-5623.422610</td>\n",
       "      <td>33</td>\n",
       "      <td>Среднее</td>\n",
       "      <td>1</td>\n",
       "      <td>женат / замужем</td>\n",
       "      <td>0</td>\n",
       "      <td>M</td>\n",
       "      <td>сотрудник</td>\n",
       "      <td>0</td>\n",
       "      <td>145885.952297</td>\n",
       "      <td>покупка жилья</td>\n",
       "    </tr>\n",
       "    <tr>\n",
       "      <th>3</th>\n",
       "      <td>3</td>\n",
       "      <td>-4124.747207</td>\n",
       "      <td>32</td>\n",
       "      <td>среднее</td>\n",
       "      <td>1</td>\n",
       "      <td>женат / замужем</td>\n",
       "      <td>0</td>\n",
       "      <td>M</td>\n",
       "      <td>сотрудник</td>\n",
       "      <td>0</td>\n",
       "      <td>267628.550329</td>\n",
       "      <td>дополнительное образование</td>\n",
       "    </tr>\n",
       "    <tr>\n",
       "      <th>4</th>\n",
       "      <td>0</td>\n",
       "      <td>340266.072047</td>\n",
       "      <td>53</td>\n",
       "      <td>среднее</td>\n",
       "      <td>1</td>\n",
       "      <td>гражданский брак</td>\n",
       "      <td>1</td>\n",
       "      <td>F</td>\n",
       "      <td>пенсионер</td>\n",
       "      <td>0</td>\n",
       "      <td>158616.077870</td>\n",
       "      <td>сыграть свадьбу</td>\n",
       "    </tr>\n",
       "    <tr>\n",
       "      <th>5</th>\n",
       "      <td>0</td>\n",
       "      <td>-926.185831</td>\n",
       "      <td>27</td>\n",
       "      <td>высшее</td>\n",
       "      <td>0</td>\n",
       "      <td>гражданский брак</td>\n",
       "      <td>1</td>\n",
       "      <td>M</td>\n",
       "      <td>компаньон</td>\n",
       "      <td>0</td>\n",
       "      <td>255763.565419</td>\n",
       "      <td>покупка жилья</td>\n",
       "    </tr>\n",
       "    <tr>\n",
       "      <th>6</th>\n",
       "      <td>0</td>\n",
       "      <td>-2879.202052</td>\n",
       "      <td>43</td>\n",
       "      <td>высшее</td>\n",
       "      <td>0</td>\n",
       "      <td>женат / замужем</td>\n",
       "      <td>0</td>\n",
       "      <td>F</td>\n",
       "      <td>компаньон</td>\n",
       "      <td>0</td>\n",
       "      <td>240525.971920</td>\n",
       "      <td>операции с жильем</td>\n",
       "    </tr>\n",
       "    <tr>\n",
       "      <th>7</th>\n",
       "      <td>0</td>\n",
       "      <td>-152.779569</td>\n",
       "      <td>50</td>\n",
       "      <td>СРЕДНЕЕ</td>\n",
       "      <td>1</td>\n",
       "      <td>женат / замужем</td>\n",
       "      <td>0</td>\n",
       "      <td>M</td>\n",
       "      <td>сотрудник</td>\n",
       "      <td>0</td>\n",
       "      <td>135823.934197</td>\n",
       "      <td>образование</td>\n",
       "    </tr>\n",
       "    <tr>\n",
       "      <th>8</th>\n",
       "      <td>2</td>\n",
       "      <td>-6929.865299</td>\n",
       "      <td>35</td>\n",
       "      <td>ВЫСШЕЕ</td>\n",
       "      <td>0</td>\n",
       "      <td>гражданский брак</td>\n",
       "      <td>1</td>\n",
       "      <td>F</td>\n",
       "      <td>сотрудник</td>\n",
       "      <td>0</td>\n",
       "      <td>95856.832424</td>\n",
       "      <td>на проведение свадьбы</td>\n",
       "    </tr>\n",
       "    <tr>\n",
       "      <th>9</th>\n",
       "      <td>0</td>\n",
       "      <td>-2188.756445</td>\n",
       "      <td>41</td>\n",
       "      <td>среднее</td>\n",
       "      <td>1</td>\n",
       "      <td>женат / замужем</td>\n",
       "      <td>0</td>\n",
       "      <td>M</td>\n",
       "      <td>сотрудник</td>\n",
       "      <td>0</td>\n",
       "      <td>144425.938277</td>\n",
       "      <td>покупка жилья для семьи</td>\n",
       "    </tr>\n",
       "  </tbody>\n",
       "</table>\n",
       "</div>"
      ],
      "text/plain": [
       "   children  days_employed  dob_years education  education_id  \\\n",
       "0         1   -8437.673028         42    высшее             0   \n",
       "1         1   -4024.803754         36   среднее             1   \n",
       "2         0   -5623.422610         33   Среднее             1   \n",
       "3         3   -4124.747207         32   среднее             1   \n",
       "4         0  340266.072047         53   среднее             1   \n",
       "5         0    -926.185831         27    высшее             0   \n",
       "6         0   -2879.202052         43    высшее             0   \n",
       "7         0    -152.779569         50   СРЕДНЕЕ             1   \n",
       "8         2   -6929.865299         35    ВЫСШЕЕ             0   \n",
       "9         0   -2188.756445         41   среднее             1   \n",
       "\n",
       "      family_status  family_status_id gender income_type  debt  total_income  \\\n",
       "0   женат / замужем                 0      F   сотрудник     0 253875.639453   \n",
       "1   женат / замужем                 0      F   сотрудник     0 112080.014102   \n",
       "2   женат / замужем                 0      M   сотрудник     0 145885.952297   \n",
       "3   женат / замужем                 0      M   сотрудник     0 267628.550329   \n",
       "4  гражданский брак                 1      F   пенсионер     0 158616.077870   \n",
       "5  гражданский брак                 1      M   компаньон     0 255763.565419   \n",
       "6   женат / замужем                 0      F   компаньон     0 240525.971920   \n",
       "7   женат / замужем                 0      M   сотрудник     0 135823.934197   \n",
       "8  гражданский брак                 1      F   сотрудник     0  95856.832424   \n",
       "9   женат / замужем                 0      M   сотрудник     0 144425.938277   \n",
       "\n",
       "                      purpose  \n",
       "0               покупка жилья  \n",
       "1     приобретение автомобиля  \n",
       "2               покупка жилья  \n",
       "3  дополнительное образование  \n",
       "4             сыграть свадьбу  \n",
       "5               покупка жилья  \n",
       "6           операции с жильем  \n",
       "7                 образование  \n",
       "8       на проведение свадьбы  \n",
       "9     покупка жилья для семьи  "
      ]
     },
     "execution_count": 85,
     "metadata": {},
     "output_type": "execute_result"
    }
   ],
   "source": [
    "data.head(10)"
   ]
  },
  {
   "cell_type": "markdown",
   "id": "190e5a85",
   "metadata": {},
   "source": [
    "**Вывод**:\n",
    "1. В двух столбцах \"days_employed\" и \"total_income\" есть пропуски в данных\n",
    "2. В столбце \"days_employed\" отрицательные значения\n",
    "3. В столбце \"education\" дубликаты"
   ]
  },
  {
   "cell_type": "markdown",
   "id": "71d1505f",
   "metadata": {},
   "source": [
    "## Шаг Предобработка данных"
   ]
  },
  {
   "cell_type": "markdown",
   "id": "995e1353",
   "metadata": {},
   "source": [
    "### Шаг Заполнение пропусков"
   ]
  },
  {
   "cell_type": "code",
   "execution_count": 86,
   "id": "028eaf61",
   "metadata": {},
   "outputs": [
    {
     "data": {
      "text/plain": [
       "children               0\n",
       "days_employed       2174\n",
       "dob_years              0\n",
       "education              0\n",
       "education_id           0\n",
       "family_status          0\n",
       "family_status_id       0\n",
       "gender                 0\n",
       "income_type            0\n",
       "debt                   0\n",
       "total_income        2174\n",
       "purpose                0\n",
       "dtype: int64"
      ]
     },
     "execution_count": 86,
     "metadata": {},
     "output_type": "execute_result"
    }
   ],
   "source": [
    "data.isna().sum() # поиск пропусков по столбцам"
   ]
  },
  {
   "cell_type": "markdown",
   "id": "8acfd8de",
   "metadata": {},
   "source": [
    "При обзоре данных, в столбце \"total_income\" найдены пропуски.\n",
    "Смотрим их количество и долю от общего числа значений."
   ]
  },
  {
   "cell_type": "code",
   "execution_count": 88,
   "id": "9088deb5",
   "metadata": {},
   "outputs": [
    {
     "data": {
      "text/html": [
       "<style  type=\"text/css\" >\n",
       "#T_05559_row0_col0,#T_05559_row2_col0,#T_05559_row3_col0,#T_05559_row4_col0,#T_05559_row5_col0,#T_05559_row6_col0,#T_05559_row7_col0,#T_05559_row8_col0,#T_05559_row9_col0,#T_05559_row11_col0{\n",
       "            background-color:  #3b4cc0;\n",
       "            color:  #f1f1f1;\n",
       "        }#T_05559_row1_col0,#T_05559_row10_col0{\n",
       "            background-color:  #b40426;\n",
       "            color:  #f1f1f1;\n",
       "        }</style><table id=\"T_05559_\" ><thead>    <tr>        <th class=\"blank level0\" ></th>        <th class=\"col_heading level0 col0\" >NaNs, %</th>    </tr></thead><tbody>\n",
       "                <tr>\n",
       "                        <th id=\"T_05559_level0_row0\" class=\"row_heading level0 row0\" >children</th>\n",
       "                        <td id=\"T_05559_row0_col0\" class=\"data row0 col0\" >0.00</td>\n",
       "            </tr>\n",
       "            <tr>\n",
       "                        <th id=\"T_05559_level0_row1\" class=\"row_heading level0 row1\" >days_employed</th>\n",
       "                        <td id=\"T_05559_row1_col0\" class=\"data row1 col0\" >10.10</td>\n",
       "            </tr>\n",
       "            <tr>\n",
       "                        <th id=\"T_05559_level0_row2\" class=\"row_heading level0 row2\" >dob_years</th>\n",
       "                        <td id=\"T_05559_row2_col0\" class=\"data row2 col0\" >0.00</td>\n",
       "            </tr>\n",
       "            <tr>\n",
       "                        <th id=\"T_05559_level0_row3\" class=\"row_heading level0 row3\" >education</th>\n",
       "                        <td id=\"T_05559_row3_col0\" class=\"data row3 col0\" >0.00</td>\n",
       "            </tr>\n",
       "            <tr>\n",
       "                        <th id=\"T_05559_level0_row4\" class=\"row_heading level0 row4\" >education_id</th>\n",
       "                        <td id=\"T_05559_row4_col0\" class=\"data row4 col0\" >0.00</td>\n",
       "            </tr>\n",
       "            <tr>\n",
       "                        <th id=\"T_05559_level0_row5\" class=\"row_heading level0 row5\" >family_status</th>\n",
       "                        <td id=\"T_05559_row5_col0\" class=\"data row5 col0\" >0.00</td>\n",
       "            </tr>\n",
       "            <tr>\n",
       "                        <th id=\"T_05559_level0_row6\" class=\"row_heading level0 row6\" >family_status_id</th>\n",
       "                        <td id=\"T_05559_row6_col0\" class=\"data row6 col0\" >0.00</td>\n",
       "            </tr>\n",
       "            <tr>\n",
       "                        <th id=\"T_05559_level0_row7\" class=\"row_heading level0 row7\" >gender</th>\n",
       "                        <td id=\"T_05559_row7_col0\" class=\"data row7 col0\" >0.00</td>\n",
       "            </tr>\n",
       "            <tr>\n",
       "                        <th id=\"T_05559_level0_row8\" class=\"row_heading level0 row8\" >income_type</th>\n",
       "                        <td id=\"T_05559_row8_col0\" class=\"data row8 col0\" >0.00</td>\n",
       "            </tr>\n",
       "            <tr>\n",
       "                        <th id=\"T_05559_level0_row9\" class=\"row_heading level0 row9\" >debt</th>\n",
       "                        <td id=\"T_05559_row9_col0\" class=\"data row9 col0\" >0.00</td>\n",
       "            </tr>\n",
       "            <tr>\n",
       "                        <th id=\"T_05559_level0_row10\" class=\"row_heading level0 row10\" >total_income</th>\n",
       "                        <td id=\"T_05559_row10_col0\" class=\"data row10 col0\" >10.10</td>\n",
       "            </tr>\n",
       "            <tr>\n",
       "                        <th id=\"T_05559_level0_row11\" class=\"row_heading level0 row11\" >purpose</th>\n",
       "                        <td id=\"T_05559_row11_col0\" class=\"data row11 col0\" >0.00</td>\n",
       "            </tr>\n",
       "    </tbody></table>"
      ],
      "text/plain": [
       "<pandas.io.formats.style.Styler at 0x7ff611796af0>"
      ]
     },
     "execution_count": 88,
     "metadata": {},
     "output_type": "execute_result"
    }
   ],
   "source": [
    "pd.DataFrame(round((data.isna().mean()*100),2), columns=['NaNs, %']).style.format(\n",
    "    '{:.2f}').background_gradient('coolwarm')"
   ]
  },
  {
   "cell_type": "markdown",
   "id": "a7f08c5b",
   "metadata": {},
   "source": [
    "Доля пропусков - чуть больше 10%.\n",
    "Столбец содержит количественные значения, заполняю пропуски медианным значением."
   ]
  },
  {
   "cell_type": "code",
   "execution_count": 90,
   "id": "ccb5834f",
   "metadata": {},
   "outputs": [],
   "source": [
    "for unic_type in data['income_type'].unique(): # заменю нулевые значени, на медианные по типу занятости \n",
    "    median_type = data[(data['income_type'] == unic_type)]['total_income'].median()\n",
    "    data.loc[(data['income_type'] == unic_type), 'total_income'] = data.loc[(data['income_type'] == unic_type), 'total_income'].fillna(median_type)"
   ]
  },
  {
   "cell_type": "markdown",
   "id": "99d36f80",
   "metadata": {},
   "source": [
    "### Шаг Проверка данных на аномалии и исправления."
   ]
  },
  {
   "cell_type": "markdown",
   "id": "95194e2a",
   "metadata": {},
   "source": [
    "При обзоре данных, в столбце \"days_employed\" найдены отрицательные значения. Считаю их кол-во и хочу посмотреть первые 10 строк, возможно удасться восстановить закономерность."
   ]
  },
  {
   "cell_type": "code",
   "execution_count": 91,
   "id": "46e4a5ff",
   "metadata": {},
   "outputs": [
    {
     "data": {
      "text/html": [
       "<div>\n",
       "<style scoped>\n",
       "    .dataframe tbody tr th:only-of-type {\n",
       "        vertical-align: middle;\n",
       "    }\n",
       "\n",
       "    .dataframe tbody tr th {\n",
       "        vertical-align: top;\n",
       "    }\n",
       "\n",
       "    .dataframe thead th {\n",
       "        text-align: right;\n",
       "    }\n",
       "</style>\n",
       "<table border=\"1\" class=\"dataframe\">\n",
       "  <thead>\n",
       "    <tr style=\"text-align: right;\">\n",
       "      <th></th>\n",
       "      <th>children</th>\n",
       "      <th>days_employed</th>\n",
       "      <th>dob_years</th>\n",
       "      <th>education</th>\n",
       "      <th>education_id</th>\n",
       "      <th>family_status</th>\n",
       "      <th>family_status_id</th>\n",
       "      <th>gender</th>\n",
       "      <th>income_type</th>\n",
       "      <th>debt</th>\n",
       "      <th>total_income</th>\n",
       "      <th>purpose</th>\n",
       "    </tr>\n",
       "  </thead>\n",
       "  <tbody>\n",
       "    <tr>\n",
       "      <th>0</th>\n",
       "      <td>1</td>\n",
       "      <td>-8437.673028</td>\n",
       "      <td>42</td>\n",
       "      <td>высшее</td>\n",
       "      <td>0</td>\n",
       "      <td>женат / замужем</td>\n",
       "      <td>0</td>\n",
       "      <td>F</td>\n",
       "      <td>сотрудник</td>\n",
       "      <td>0</td>\n",
       "      <td>253875.639453</td>\n",
       "      <td>покупка жилья</td>\n",
       "    </tr>\n",
       "    <tr>\n",
       "      <th>1</th>\n",
       "      <td>1</td>\n",
       "      <td>-4024.803754</td>\n",
       "      <td>36</td>\n",
       "      <td>среднее</td>\n",
       "      <td>1</td>\n",
       "      <td>женат / замужем</td>\n",
       "      <td>0</td>\n",
       "      <td>F</td>\n",
       "      <td>сотрудник</td>\n",
       "      <td>0</td>\n",
       "      <td>112080.014102</td>\n",
       "      <td>приобретение автомобиля</td>\n",
       "    </tr>\n",
       "    <tr>\n",
       "      <th>2</th>\n",
       "      <td>0</td>\n",
       "      <td>-5623.422610</td>\n",
       "      <td>33</td>\n",
       "      <td>Среднее</td>\n",
       "      <td>1</td>\n",
       "      <td>женат / замужем</td>\n",
       "      <td>0</td>\n",
       "      <td>M</td>\n",
       "      <td>сотрудник</td>\n",
       "      <td>0</td>\n",
       "      <td>145885.952297</td>\n",
       "      <td>покупка жилья</td>\n",
       "    </tr>\n",
       "    <tr>\n",
       "      <th>3</th>\n",
       "      <td>3</td>\n",
       "      <td>-4124.747207</td>\n",
       "      <td>32</td>\n",
       "      <td>среднее</td>\n",
       "      <td>1</td>\n",
       "      <td>женат / замужем</td>\n",
       "      <td>0</td>\n",
       "      <td>M</td>\n",
       "      <td>сотрудник</td>\n",
       "      <td>0</td>\n",
       "      <td>267628.550329</td>\n",
       "      <td>дополнительное образование</td>\n",
       "    </tr>\n",
       "    <tr>\n",
       "      <th>5</th>\n",
       "      <td>0</td>\n",
       "      <td>-926.185831</td>\n",
       "      <td>27</td>\n",
       "      <td>высшее</td>\n",
       "      <td>0</td>\n",
       "      <td>гражданский брак</td>\n",
       "      <td>1</td>\n",
       "      <td>M</td>\n",
       "      <td>компаньон</td>\n",
       "      <td>0</td>\n",
       "      <td>255763.565419</td>\n",
       "      <td>покупка жилья</td>\n",
       "    </tr>\n",
       "    <tr>\n",
       "      <th>6</th>\n",
       "      <td>0</td>\n",
       "      <td>-2879.202052</td>\n",
       "      <td>43</td>\n",
       "      <td>высшее</td>\n",
       "      <td>0</td>\n",
       "      <td>женат / замужем</td>\n",
       "      <td>0</td>\n",
       "      <td>F</td>\n",
       "      <td>компаньон</td>\n",
       "      <td>0</td>\n",
       "      <td>240525.971920</td>\n",
       "      <td>операции с жильем</td>\n",
       "    </tr>\n",
       "    <tr>\n",
       "      <th>7</th>\n",
       "      <td>0</td>\n",
       "      <td>-152.779569</td>\n",
       "      <td>50</td>\n",
       "      <td>СРЕДНЕЕ</td>\n",
       "      <td>1</td>\n",
       "      <td>женат / замужем</td>\n",
       "      <td>0</td>\n",
       "      <td>M</td>\n",
       "      <td>сотрудник</td>\n",
       "      <td>0</td>\n",
       "      <td>135823.934197</td>\n",
       "      <td>образование</td>\n",
       "    </tr>\n",
       "    <tr>\n",
       "      <th>8</th>\n",
       "      <td>2</td>\n",
       "      <td>-6929.865299</td>\n",
       "      <td>35</td>\n",
       "      <td>ВЫСШЕЕ</td>\n",
       "      <td>0</td>\n",
       "      <td>гражданский брак</td>\n",
       "      <td>1</td>\n",
       "      <td>F</td>\n",
       "      <td>сотрудник</td>\n",
       "      <td>0</td>\n",
       "      <td>95856.832424</td>\n",
       "      <td>на проведение свадьбы</td>\n",
       "    </tr>\n",
       "    <tr>\n",
       "      <th>9</th>\n",
       "      <td>0</td>\n",
       "      <td>-2188.756445</td>\n",
       "      <td>41</td>\n",
       "      <td>среднее</td>\n",
       "      <td>1</td>\n",
       "      <td>женат / замужем</td>\n",
       "      <td>0</td>\n",
       "      <td>M</td>\n",
       "      <td>сотрудник</td>\n",
       "      <td>0</td>\n",
       "      <td>144425.938277</td>\n",
       "      <td>покупка жилья для семьи</td>\n",
       "    </tr>\n",
       "    <tr>\n",
       "      <th>10</th>\n",
       "      <td>2</td>\n",
       "      <td>-4171.483647</td>\n",
       "      <td>36</td>\n",
       "      <td>высшее</td>\n",
       "      <td>0</td>\n",
       "      <td>женат / замужем</td>\n",
       "      <td>0</td>\n",
       "      <td>M</td>\n",
       "      <td>компаньон</td>\n",
       "      <td>0</td>\n",
       "      <td>113943.491460</td>\n",
       "      <td>покупка недвижимости</td>\n",
       "    </tr>\n",
       "  </tbody>\n",
       "</table>\n",
       "</div>"
      ],
      "text/plain": [
       "    children  days_employed  dob_years education  education_id  \\\n",
       "0          1   -8437.673028         42    высшее             0   \n",
       "1          1   -4024.803754         36   среднее             1   \n",
       "2          0   -5623.422610         33   Среднее             1   \n",
       "3          3   -4124.747207         32   среднее             1   \n",
       "5          0    -926.185831         27    высшее             0   \n",
       "6          0   -2879.202052         43    высшее             0   \n",
       "7          0    -152.779569         50   СРЕДНЕЕ             1   \n",
       "8          2   -6929.865299         35    ВЫСШЕЕ             0   \n",
       "9          0   -2188.756445         41   среднее             1   \n",
       "10         2   -4171.483647         36    высшее             0   \n",
       "\n",
       "       family_status  family_status_id gender income_type  debt  total_income  \\\n",
       "0    женат / замужем                 0      F   сотрудник     0 253875.639453   \n",
       "1    женат / замужем                 0      F   сотрудник     0 112080.014102   \n",
       "2    женат / замужем                 0      M   сотрудник     0 145885.952297   \n",
       "3    женат / замужем                 0      M   сотрудник     0 267628.550329   \n",
       "5   гражданский брак                 1      M   компаньон     0 255763.565419   \n",
       "6    женат / замужем                 0      F   компаньон     0 240525.971920   \n",
       "7    женат / замужем                 0      M   сотрудник     0 135823.934197   \n",
       "8   гражданский брак                 1      F   сотрудник     0  95856.832424   \n",
       "9    женат / замужем                 0      M   сотрудник     0 144425.938277   \n",
       "10   женат / замужем                 0      M   компаньон     0 113943.491460   \n",
       "\n",
       "                       purpose  \n",
       "0                покупка жилья  \n",
       "1      приобретение автомобиля  \n",
       "2                покупка жилья  \n",
       "3   дополнительное образование  \n",
       "5                покупка жилья  \n",
       "6            операции с жильем  \n",
       "7                  образование  \n",
       "8        на проведение свадьбы  \n",
       "9      покупка жилья для семьи  \n",
       "10        покупка недвижимости  "
      ]
     },
     "execution_count": 91,
     "metadata": {},
     "output_type": "execute_result"
    }
   ],
   "source": [
    "data.loc[data['days_employed'] < 0, 'days_employed'].count()\n",
    "data.loc[data['days_employed'] < 0].head(10)"
   ]
  },
  {
   "cell_type": "markdown",
   "id": "3e6f2b2e",
   "metadata": {},
   "source": [
    "Предполагаю, что появление отрицательных значений - какая-то техничекая ошибка. Заменяю все значения на положительные.\n",
    "Также в столбце присутствуют пропуски. Считаю их кол-во и долю от общего числа."
   ]
  },
  {
   "cell_type": "code",
   "execution_count": 92,
   "id": "c7b7d658",
   "metadata": {},
   "outputs": [
    {
     "data": {
      "text/plain": [
       "0.10099883855981417"
      ]
     },
     "execution_count": 92,
     "metadata": {},
     "output_type": "execute_result"
    }
   ],
   "source": [
    "data['days_employed'] = data['days_employed'].abs() # меняю отрицательные значения\n",
    "len(data[data['days_employed'].isna()]) # проверка на пропуски в столбце 'days_employed'\n",
    "len(data[data['days_employed'].isna()]) / len(data['days_employed']) #считаю долю пропусков от общего числа значений"
   ]
  },
  {
   "cell_type": "markdown",
   "id": "489c2919",
   "metadata": {},
   "source": [
    "Доля пропусков - чуть больше 10%. Столбец содержит количественные значения, заполняю медианным значением с учётом возраста заёмщика. Для этого сначала проверяю столбец 'dob_years' на нулевые значения и аномалии."
   ]
  },
  {
   "cell_type": "code",
   "execution_count": 93,
   "id": "ff0db8a3",
   "metadata": {},
   "outputs": [
    {
     "data": {
      "text/html": [
       "<div>\n",
       "<style scoped>\n",
       "    .dataframe tbody tr th:only-of-type {\n",
       "        vertical-align: middle;\n",
       "    }\n",
       "\n",
       "    .dataframe tbody tr th {\n",
       "        vertical-align: top;\n",
       "    }\n",
       "\n",
       "    .dataframe thead th {\n",
       "        text-align: right;\n",
       "    }\n",
       "</style>\n",
       "<table border=\"1\" class=\"dataframe\">\n",
       "  <thead>\n",
       "    <tr style=\"text-align: right;\">\n",
       "      <th></th>\n",
       "      <th>children</th>\n",
       "      <th>days_employed</th>\n",
       "      <th>dob_years</th>\n",
       "      <th>education_id</th>\n",
       "      <th>family_status_id</th>\n",
       "      <th>debt</th>\n",
       "      <th>total_income</th>\n",
       "    </tr>\n",
       "  </thead>\n",
       "  <tbody>\n",
       "    <tr>\n",
       "      <th>count</th>\n",
       "      <td>21525.000000</td>\n",
       "      <td>19351.000000</td>\n",
       "      <td>21525.000000</td>\n",
       "      <td>21525.000000</td>\n",
       "      <td>21525.000000</td>\n",
       "      <td>21525.000000</td>\n",
       "      <td>21525.000000</td>\n",
       "    </tr>\n",
       "    <tr>\n",
       "      <th>mean</th>\n",
       "      <td>0.538908</td>\n",
       "      <td>66914.728907</td>\n",
       "      <td>43.293380</td>\n",
       "      <td>0.817236</td>\n",
       "      <td>0.972544</td>\n",
       "      <td>0.080883</td>\n",
       "      <td>165225.324514</td>\n",
       "    </tr>\n",
       "    <tr>\n",
       "      <th>std</th>\n",
       "      <td>1.381587</td>\n",
       "      <td>139030.880527</td>\n",
       "      <td>12.574584</td>\n",
       "      <td>0.548138</td>\n",
       "      <td>1.420324</td>\n",
       "      <td>0.272661</td>\n",
       "      <td>98043.665491</td>\n",
       "    </tr>\n",
       "    <tr>\n",
       "      <th>min</th>\n",
       "      <td>-1.000000</td>\n",
       "      <td>24.141633</td>\n",
       "      <td>0.000000</td>\n",
       "      <td>0.000000</td>\n",
       "      <td>0.000000</td>\n",
       "      <td>0.000000</td>\n",
       "      <td>20667.263793</td>\n",
       "    </tr>\n",
       "    <tr>\n",
       "      <th>25%</th>\n",
       "      <td>0.000000</td>\n",
       "      <td>927.009265</td>\n",
       "      <td>33.000000</td>\n",
       "      <td>1.000000</td>\n",
       "      <td>0.000000</td>\n",
       "      <td>0.000000</td>\n",
       "      <td>107798.172619</td>\n",
       "    </tr>\n",
       "    <tr>\n",
       "      <th>50%</th>\n",
       "      <td>0.000000</td>\n",
       "      <td>2194.220567</td>\n",
       "      <td>42.000000</td>\n",
       "      <td>1.000000</td>\n",
       "      <td>0.000000</td>\n",
       "      <td>0.000000</td>\n",
       "      <td>142594.396847</td>\n",
       "    </tr>\n",
       "    <tr>\n",
       "      <th>75%</th>\n",
       "      <td>1.000000</td>\n",
       "      <td>5537.882441</td>\n",
       "      <td>53.000000</td>\n",
       "      <td>1.000000</td>\n",
       "      <td>1.000000</td>\n",
       "      <td>0.000000</td>\n",
       "      <td>195549.940861</td>\n",
       "    </tr>\n",
       "    <tr>\n",
       "      <th>max</th>\n",
       "      <td>20.000000</td>\n",
       "      <td>401755.400475</td>\n",
       "      <td>75.000000</td>\n",
       "      <td>4.000000</td>\n",
       "      <td>4.000000</td>\n",
       "      <td>1.000000</td>\n",
       "      <td>2265604.028723</td>\n",
       "    </tr>\n",
       "  </tbody>\n",
       "</table>\n",
       "</div>"
      ],
      "text/plain": [
       "          children  days_employed    dob_years  education_id  \\\n",
       "count 21525.000000   19351.000000 21525.000000  21525.000000   \n",
       "mean      0.538908   66914.728907    43.293380      0.817236   \n",
       "std       1.381587  139030.880527    12.574584      0.548138   \n",
       "min      -1.000000      24.141633     0.000000      0.000000   \n",
       "25%       0.000000     927.009265    33.000000      1.000000   \n",
       "50%       0.000000    2194.220567    42.000000      1.000000   \n",
       "75%       1.000000    5537.882441    53.000000      1.000000   \n",
       "max      20.000000  401755.400475    75.000000      4.000000   \n",
       "\n",
       "       family_status_id         debt   total_income  \n",
       "count      21525.000000 21525.000000   21525.000000  \n",
       "mean           0.972544     0.080883  165225.324514  \n",
       "std            1.420324     0.272661   98043.665491  \n",
       "min            0.000000     0.000000   20667.263793  \n",
       "25%            0.000000     0.000000  107798.172619  \n",
       "50%            0.000000     0.000000  142594.396847  \n",
       "75%            1.000000     0.000000  195549.940861  \n",
       "max            4.000000     1.000000 2265604.028723  "
      ]
     },
     "execution_count": 93,
     "metadata": {},
     "output_type": "execute_result"
    }
   ],
   "source": [
    "pd.set_option('float_format', '{:f}'.format)\n",
    "data.describe()"
   ]
  },
  {
   "cell_type": "code",
   "execution_count": 94,
   "id": "94f497c6",
   "metadata": {},
   "outputs": [
    {
     "data": {
      "text/plain": [
       "<AxesSubplot:>"
      ]
     },
     "execution_count": 94,
     "metadata": {},
     "output_type": "execute_result"
    },
    {
     "data": {
      "image/png": "[encoded data removed]",
      "text/plain": [
       "<Figure size 432x288 with 1 Axes>"
      ]
     },
     "metadata": {
      "needs_background": "light"
     },
     "output_type": "display_data"
    }
   ],
   "source": [
    "data['days_employed'].hist(bins = 20)"
   ]
  },
  {
   "cell_type": "code",
   "execution_count": 95,
   "id": "072a64d7",
   "metadata": {},
   "outputs": [
    {
     "data": {
      "text/plain": [
       "3445"
      ]
     },
     "execution_count": 95,
     "metadata": {},
     "output_type": "execute_result"
    }
   ],
   "source": [
    "len(data.loc[data['days_employed'] > 300000]) # считаю, сколько таких значений в таблице"
   ]
  },
  {
   "cell_type": "markdown",
   "id": "7c55437b",
   "metadata": {},
   "source": [
    "Предполагаю, что при внесении данных, значения были проставлены в часах, а не в днях. Корректирую."
   ]
  },
  {
   "cell_type": "code",
   "execution_count": 96,
   "id": "b9dd0928",
   "metadata": {},
   "outputs": [],
   "source": [
    "data.loc[(data['days_employed'] >= 300000), 'days_employed'] = data.loc[(data['days_employed'] >= 300000), 'days_employed'] / 24"
   ]
  },
  {
   "cell_type": "code",
   "execution_count": 97,
   "id": "6e7c59c5",
   "metadata": {},
   "outputs": [
    {
     "data": {
      "text/plain": [
       "35    617\n",
       "40    609\n",
       "41    607\n",
       "34    603\n",
       "38    598\n",
       "42    597\n",
       "33    581\n",
       "39    573\n",
       "31    560\n",
       "36    555\n",
       "44    547\n",
       "29    545\n",
       "30    540\n",
       "48    538\n",
       "37    537\n",
       "50    514\n",
       "43    513\n",
       "32    510\n",
       "49    508\n",
       "28    503\n",
       "45    497\n",
       "27    493\n",
       "56    487\n",
       "52    484\n",
       "47    480\n",
       "54    479\n",
       "46    475\n",
       "58    461\n",
       "57    460\n",
       "53    459\n",
       "51    448\n",
       "59    444\n",
       "55    443\n",
       "26    408\n",
       "60    377\n",
       "25    357\n",
       "61    355\n",
       "62    352\n",
       "63    269\n",
       "64    265\n",
       "24    264\n",
       "23    254\n",
       "65    194\n",
       "66    183\n",
       "22    183\n",
       "67    167\n",
       "21    111\n",
       "0     101\n",
       "68     99\n",
       "69     85\n",
       "70     65\n",
       "71     58\n",
       "20     51\n",
       "72     33\n",
       "19     14\n",
       "73      8\n",
       "74      6\n",
       "75      1\n",
       "Name: dob_years, dtype: int64"
      ]
     },
     "execution_count": 97,
     "metadata": {},
     "output_type": "execute_result"
    }
   ],
   "source": [
    "data['dob_years'].isna().sum()\n",
    "data['dob_years'].value_counts() # проверка значений столбца 'dob_years'"
   ]
  },
  {
   "cell_type": "markdown",
   "id": "243bfd9a",
   "metadata": {},
   "source": [
    "У 101 клиента банка возраст указан 0. Скорее всего данные не были заполнены.\n",
    "В конкретном случае выделю таких заёмщиков в отдельную категорию. \n",
    "Чтобы заполнить пропуски в days_employed, категоризирую столбец возраста.\n",
    "Затем заполняю пропуски медианными значениям, с учётом возрастной группы."
   ]
  },
  {
   "cell_type": "code",
   "execution_count": 99,
   "id": "47307434",
   "metadata": {},
   "outputs": [
    {
     "data": {
      "text/plain": [
       "age_category\n",
       "18+         299\n",
       "30+         565\n",
       "40+         537\n",
       "50+         501\n",
       "60+         262\n",
       "unknowen     10\n",
       "Name: days_employed, dtype: int64"
      ]
     },
     "execution_count": 99,
     "metadata": {},
     "output_type": "execute_result"
    }
   ],
   "source": [
    "def age_group (age): #создаю функцию для категоризации возраста заёмщика\n",
    "    if age == 0:\n",
    "        return 'unknowen'\n",
    "    if 18 <= age <= 29:\n",
    "        return '18+'\n",
    "    if 30 <= age <= 39:\n",
    "        return '30+'\n",
    "    if 40 <= age <= 49:\n",
    "        return '40+'\n",
    "    if 50 <= age <= 59:\n",
    "        return '50+'\n",
    "    if  age >= 60:\n",
    "        return '60+'\n",
    "\n",
    "data['age_category'] = data['dob_years'].apply(age_group) # добавляю столбец с категориями по возрасту\n",
    "data.groupby('age_category')['days_employed'].apply(lambda data: data.isna().sum()) # проверяю, для каких возрастных групп отсутствуют данные о трудовом стаже"
   ]
  },
  {
   "cell_type": "code",
   "execution_count": 100,
   "id": "959cd09a",
   "metadata": {},
   "outputs": [],
   "source": [
    "for unic_age_category in data['age_category'].unique(): # заменю нулевые значени на медианные по категории возраста \n",
    "    median_type = data[(data['age_category'] == unic_age_category)]['days_employed'].median()\n",
    "    data.loc[(data['age_category'] == unic_age_category), 'days_employed'] = data.loc[(data['age_category'] == unic_age_category), 'days_employed'].fillna(median_type)"
   ]
  },
  {
   "cell_type": "markdown",
   "id": "2340645b",
   "metadata": {},
   "source": [
    "### Шаг Изменение типов данных."
   ]
  },
  {
   "cell_type": "code",
   "execution_count": 101,
   "id": "ed9a4398",
   "metadata": {},
   "outputs": [
    {
     "data": {
      "text/plain": [
       "dtype('int64')"
      ]
     },
     "execution_count": 101,
     "metadata": {},
     "output_type": "execute_result"
    }
   ],
   "source": [
    "data['total_income'] = data ['total_income'].astype('int') #замена типа данных на целочисленное значение\n",
    "data['total_income'].dtypes"
   ]
  },
  {
   "cell_type": "code",
   "execution_count": 102,
   "id": "539ef16d",
   "metadata": {},
   "outputs": [
    {
     "data": {
      "text/plain": [
       "dtype('int64')"
      ]
     },
     "execution_count": 102,
     "metadata": {},
     "output_type": "execute_result"
    }
   ],
   "source": [
    "data['days_employed'] = data ['days_employed'].astype('int') #замена типа данных на целочисленное значение\n",
    "data['days_employed'].dtypes"
   ]
  },
  {
   "cell_type": "markdown",
   "id": "35c22e99",
   "metadata": {},
   "source": [
    "### Шаг Удаление дубликатов."
   ]
  },
  {
   "cell_type": "markdown",
   "id": "b7df291c",
   "metadata": {},
   "source": [
    "При обзоре данных, в столбце \"education\" найдены дубликаты. Методом value_counts() смотрю все уникальные значения и частоту их использования"
   ]
  },
  {
   "cell_type": "code",
   "execution_count": 103,
   "id": "e134dab6",
   "metadata": {},
   "outputs": [
    {
     "data": {
      "text/plain": [
       "среднее                13750\n",
       "высшее                  4718\n",
       "СРЕДНЕЕ                  772\n",
       "Среднее                  711\n",
       "неоконченное высшее      668\n",
       "ВЫСШЕЕ                   274\n",
       "Высшее                   268\n",
       "начальное                250\n",
       "Неоконченное высшее       47\n",
       "НЕОКОНЧЕННОЕ ВЫСШЕЕ       29\n",
       "НАЧАЛЬНОЕ                 17\n",
       "Начальное                 15\n",
       "ученая степень             4\n",
       "УЧЕНАЯ СТЕПЕНЬ             1\n",
       "Ученая степень             1\n",
       "Name: education, dtype: int64"
      ]
     },
     "execution_count": 103,
     "metadata": {},
     "output_type": "execute_result"
    }
   ],
   "source": [
    "data['education'].value_counts() # проверяю уникальные значение в столбце 'education'"
   ]
  },
  {
   "cell_type": "markdown",
   "id": "25bcd35c",
   "metadata": {},
   "source": [
    "Значения в столбце отличаются только регистром букв. Привожу их к одинаковым значениям методом .str.lower()"
   ]
  },
  {
   "cell_type": "code",
   "execution_count": 104,
   "id": "23166959",
   "metadata": {},
   "outputs": [],
   "source": [
    "data['education'] = data['education'].str.lower() #устраняю неявные дубликаты в столбце 'education'"
   ]
  },
  {
   "cell_type": "markdown",
   "id": "ddb07050",
   "metadata": {},
   "source": [
    "### Шаг Проверка данных в остальных столбцах"
   ]
  },
  {
   "cell_type": "code",
   "execution_count": 105,
   "id": "77356713",
   "metadata": {},
   "outputs": [
    {
     "data": {
      "text/plain": [
       " 0     14149\n",
       " 1      4818\n",
       " 2      2055\n",
       " 3       330\n",
       " 20       76\n",
       "-1        47\n",
       " 4        41\n",
       " 5         9\n",
       "Name: children, dtype: int64"
      ]
     },
     "execution_count": 105,
     "metadata": {},
     "output_type": "execute_result"
    }
   ],
   "source": [
    "data['children'].value_counts() #проверка данных в столбце 'children'"
   ]
  },
  {
   "cell_type": "markdown",
   "id": "f1c5a0d4",
   "metadata": {},
   "source": [
    "В столбце 'children' найдены две аномалии: отрицательные значения и сомнительные 20 детей у 76 заёмщиков. \n",
    "В первом случае, предположительно, ошибка при выгрузке данных и значение можно заменить на положительное.\n",
    "Во втором случае возможно ошибка внесения данных: так как в статистике нет ни одного клиента банка с кол-вом детей от 6 и до 19. А 20 детей есть сразу у 76 человек. Если имело место опечатка - нет уверенности, хотел ли человек внести 2 или 0 детей. Строки с аномалией составляют менее процента от общего числа. Предполагаю, что от них можно избавитья."
   ]
  },
  {
   "cell_type": "code",
   "execution_count": 106,
   "id": "28443f2b",
   "metadata": {},
   "outputs": [],
   "source": [
    "data.drop(data.loc[data['children'] == 20].index, inplace=True) #удаляю строку со странной аномалией\n",
    "# data['children'] = data['children'].abs() # заменяю отрицательное значение на положительное"
   ]
  },
  {
   "cell_type": "code",
   "execution_count": 107,
   "id": "52a5c42f",
   "metadata": {},
   "outputs": [],
   "source": [
    "data.drop(data.loc[data['children'] == -1].index, inplace=True)"
   ]
  },
  {
   "cell_type": "code",
   "execution_count": 108,
   "id": "32b36266",
   "metadata": {},
   "outputs": [
    {
     "data": {
      "text/plain": [
       "1    15136\n",
       "0     5237\n",
       "2      741\n",
       "3      282\n",
       "4        6\n",
       "Name: education_id, dtype: int64"
      ]
     },
     "execution_count": 108,
     "metadata": {},
     "output_type": "execute_result"
    }
   ],
   "source": [
    "data['education_id'].value_counts() # проверка значений столбца 'education_id' "
   ]
  },
  {
   "cell_type": "code",
   "execution_count": 109,
   "id": "841a2dd2",
   "metadata": {},
   "outputs": [
    {
     "data": {
      "text/plain": [
       "женат / замужем          12302\n",
       "гражданский брак          4160\n",
       "Не женат / не замужем     2799\n",
       "в разводе                 1189\n",
       "вдовец / вдова             952\n",
       "Name: family_status, dtype: int64"
      ]
     },
     "execution_count": 109,
     "metadata": {},
     "output_type": "execute_result"
    }
   ],
   "source": [
    "data['family_status'].value_counts() # проверка значений столбца 'family_status'"
   ]
  },
  {
   "cell_type": "code",
   "execution_count": 110,
   "id": "b1a7d428",
   "metadata": {},
   "outputs": [
    {
     "data": {
      "text/plain": [
       "0    12302\n",
       "1     4160\n",
       "4     2799\n",
       "3     1189\n",
       "2      952\n",
       "Name: family_status_id, dtype: int64"
      ]
     },
     "execution_count": 110,
     "metadata": {},
     "output_type": "execute_result"
    }
   ],
   "source": [
    "data['family_status_id'].value_counts() # проверка значений столбца 'family_status_id'"
   ]
  },
  {
   "cell_type": "code",
   "execution_count": 111,
   "id": "9464818f",
   "metadata": {},
   "outputs": [
    {
     "data": {
      "text/plain": [
       "F      14154\n",
       "M       7247\n",
       "XNA        1\n",
       "Name: gender, dtype: int64"
      ]
     },
     "execution_count": 111,
     "metadata": {},
     "output_type": "execute_result"
    }
   ],
   "source": [
    "data['gender'].value_counts() # проверка значений столбца 'family_status_id'"
   ]
  },
  {
   "cell_type": "code",
   "execution_count": 112,
   "id": "222bf812",
   "metadata": {},
   "outputs": [
    {
     "data": {
      "text/html": [
       "<div>\n",
       "<style scoped>\n",
       "    .dataframe tbody tr th:only-of-type {\n",
       "        vertical-align: middle;\n",
       "    }\n",
       "\n",
       "    .dataframe tbody tr th {\n",
       "        vertical-align: top;\n",
       "    }\n",
       "\n",
       "    .dataframe thead th {\n",
       "        text-align: right;\n",
       "    }\n",
       "</style>\n",
       "<table border=\"1\" class=\"dataframe\">\n",
       "  <thead>\n",
       "    <tr style=\"text-align: right;\">\n",
       "      <th></th>\n",
       "      <th>children</th>\n",
       "      <th>days_employed</th>\n",
       "      <th>dob_years</th>\n",
       "      <th>education</th>\n",
       "      <th>education_id</th>\n",
       "      <th>family_status</th>\n",
       "      <th>family_status_id</th>\n",
       "      <th>gender</th>\n",
       "      <th>income_type</th>\n",
       "      <th>debt</th>\n",
       "      <th>total_income</th>\n",
       "      <th>purpose</th>\n",
       "      <th>age_category</th>\n",
       "    </tr>\n",
       "  </thead>\n",
       "  <tbody>\n",
       "    <tr>\n",
       "      <th>10701</th>\n",
       "      <td>0</td>\n",
       "      <td>2358</td>\n",
       "      <td>24</td>\n",
       "      <td>неоконченное высшее</td>\n",
       "      <td>2</td>\n",
       "      <td>гражданский брак</td>\n",
       "      <td>1</td>\n",
       "      <td>XNA</td>\n",
       "      <td>компаньон</td>\n",
       "      <td>0</td>\n",
       "      <td>203905</td>\n",
       "      <td>покупка недвижимости</td>\n",
       "      <td>18+</td>\n",
       "    </tr>\n",
       "  </tbody>\n",
       "</table>\n",
       "</div>"
      ],
      "text/plain": [
       "       children  days_employed  dob_years            education  education_id  \\\n",
       "10701         0           2358         24  неоконченное высшее             2   \n",
       "\n",
       "          family_status  family_status_id gender income_type  debt  \\\n",
       "10701  гражданский брак                 1    XNA   компаньон     0   \n",
       "\n",
       "       total_income               purpose age_category  \n",
       "10701        203905  покупка недвижимости          18+  "
      ]
     },
     "execution_count": 112,
     "metadata": {},
     "output_type": "execute_result"
    }
   ],
   "source": [
    "data.loc[data['gender'] == 'XNA'] # просматриваю строку с артефактом в поле гендер"
   ]
  },
  {
   "cell_type": "markdown",
   "id": "99d24525",
   "metadata": {},
   "source": [
    "Скорее всего ошибка в заполнении данных. По  сопутствующим в таблице данным запонить ячейку не удасться. Так как значения столбца пол не будут учавстовать в исследовании, значением можно пренебречь."
   ]
  },
  {
   "cell_type": "code",
   "execution_count": 113,
   "id": "598df07d",
   "metadata": {},
   "outputs": [
    {
     "data": {
      "text/plain": [
       "сотрудник          11050\n",
       "компаньон           5054\n",
       "пенсионер           3839\n",
       "госслужащий         1453\n",
       "предприниматель        2\n",
       "безработный            2\n",
       "студент                1\n",
       "в декрете              1\n",
       "Name: income_type, dtype: int64"
      ]
     },
     "execution_count": 113,
     "metadata": {},
     "output_type": "execute_result"
    }
   ],
   "source": [
    "data['income_type'].value_counts() # проверка значений столбца 'income_type'"
   ]
  },
  {
   "cell_type": "code",
   "execution_count": 114,
   "id": "cc25c0d5",
   "metadata": {},
   "outputs": [
    {
     "data": {
      "text/plain": [
       "0    19670\n",
       "1     1732\n",
       "Name: debt, dtype: int64"
      ]
     },
     "execution_count": 114,
     "metadata": {},
     "output_type": "execute_result"
    }
   ],
   "source": [
    "data['debt'].value_counts() # проверка значений столбца 'debt'"
   ]
  },
  {
   "cell_type": "code",
   "execution_count": 115,
   "id": "0bf99981",
   "metadata": {},
   "outputs": [
    {
     "data": {
      "text/plain": [
       "свадьба                                   796\n",
       "на проведение свадьбы                     772\n",
       "сыграть свадьбу                           769\n",
       "операции с недвижимостью                  673\n",
       "покупка коммерческой недвижимости         661\n",
       "покупка жилья для сдачи                   651\n",
       "операции с жильем                         648\n",
       "операции с коммерческой недвижимостью     646\n",
       "жилье                                     642\n",
       "покупка жилья                             641\n",
       "покупка жилья для семьи                   640\n",
       "недвижимость                              632\n",
       "строительство собственной недвижимости    628\n",
       "операции со своей недвижимостью           626\n",
       "строительство жилой недвижимости          622\n",
       "строительство недвижимости                620\n",
       "покупка своего жилья                      619\n",
       "покупка недвижимости                      619\n",
       "ремонт жилью                              609\n",
       "покупка жилой недвижимости                603\n",
       "на покупку своего автомобиля              504\n",
       "заняться высшим образованием              496\n",
       "автомобиль                                492\n",
       "сделка с подержанным автомобилем          484\n",
       "автомобили                                476\n",
       "свой автомобиль                           475\n",
       "на покупку подержанного автомобиля        472\n",
       "на покупку автомобиля                     470\n",
       "приобретение автомобиля                   460\n",
       "дополнительное образование                457\n",
       "сделка с автомобилем                      455\n",
       "высшее образование                        447\n",
       "получение дополнительного образования     445\n",
       "образование                               442\n",
       "получение образования                     441\n",
       "профильное образование                    432\n",
       "получение высшего образования             425\n",
       "заняться образованием                     412\n",
       "Name: purpose, dtype: int64"
      ]
     },
     "execution_count": 115,
     "metadata": {},
     "output_type": "execute_result"
    }
   ],
   "source": [
    "data['purpose'].value_counts() # проверка значений столбца 'purpose'"
   ]
  },
  {
   "cell_type": "markdown",
   "id": "2d00299a",
   "metadata": {},
   "source": [
    "В столбце 'purpose' очень много скрытых дубликатов. Для этого столбца в следущих шагах будет сделана категоризация. Поэтому оставляем без изменений. "
   ]
  },
  {
   "cell_type": "code",
   "execution_count": 116,
   "id": "8e0f171a",
   "metadata": {},
   "outputs": [
    {
     "data": {
      "text/plain": [
       "71"
      ]
     },
     "execution_count": 116,
     "metadata": {},
     "output_type": "execute_result"
    }
   ],
   "source": [
    "data.duplicated().sum() #проверяю кол-во дубликатов в таблице"
   ]
  },
  {
   "cell_type": "code",
   "execution_count": 117,
   "id": "881e9ccf",
   "metadata": {},
   "outputs": [],
   "source": [
    "data = data.drop_duplicates().reset_index(drop = True) #удаляю дубликаты"
   ]
  },
  {
   "cell_type": "code",
   "execution_count": 118,
   "id": "71ae9d70",
   "metadata": {},
   "outputs": [
    {
     "data": {
      "text/plain": [
       "<AxesSubplot:>"
      ]
     },
     "execution_count": 118,
     "metadata": {},
     "output_type": "execute_result"
    },
    {
     "data": {
      "image/png": "[encoded data removed]",
      "text/plain": [
       "<Figure size 432x288 with 1 Axes>"
      ]
     },
     "metadata": {
      "needs_background": "light"
     },
     "output_type": "display_data"
    }
   ],
   "source": [
    "data['total_income'].hist(bins = 10)"
   ]
  },
  {
   "cell_type": "markdown",
   "id": "3929f6a0",
   "metadata": {},
   "source": [
    "### Шаг Формирование дополнительных датафреймов словарей, декомпозиция исходного датафрейма."
   ]
  },
  {
   "cell_type": "code",
   "execution_count": 119,
   "id": "d5f311a0",
   "metadata": {},
   "outputs": [],
   "source": [
    "education_dict = data[['education', 'education_id']] # создаю отдельную таблицу для словаря значений образования\n",
    "education_dict = education_dict.drop_duplicates().reset_index(drop=True) # удаляю дубликаты"
   ]
  },
  {
   "cell_type": "code",
   "execution_count": 120,
   "id": "844aa1bc",
   "metadata": {},
   "outputs": [],
   "source": [
    "family_status_dict = data[['family_status', 'family_status_id']] # создаю отдельную таблицу для словаря значений образования\n",
    "family_status_dict = family_status_dict.drop_duplicates().reset_index(drop=True) # удаляю дубликаты"
   ]
  },
  {
   "cell_type": "code",
   "execution_count": 121,
   "id": "4191f780",
   "metadata": {},
   "outputs": [
    {
     "data": {
      "text/html": [
       "<div>\n",
       "<style scoped>\n",
       "    .dataframe tbody tr th:only-of-type {\n",
       "        vertical-align: middle;\n",
       "    }\n",
       "\n",
       "    .dataframe tbody tr th {\n",
       "        vertical-align: top;\n",
       "    }\n",
       "\n",
       "    .dataframe thead th {\n",
       "        text-align: right;\n",
       "    }\n",
       "</style>\n",
       "<table border=\"1\" class=\"dataframe\">\n",
       "  <thead>\n",
       "    <tr style=\"text-align: right;\">\n",
       "      <th></th>\n",
       "      <th>children</th>\n",
       "      <th>days_employed</th>\n",
       "      <th>dob_years</th>\n",
       "      <th>education_id</th>\n",
       "      <th>family_status_id</th>\n",
       "      <th>gender</th>\n",
       "      <th>income_type</th>\n",
       "      <th>debt</th>\n",
       "      <th>total_income</th>\n",
       "      <th>purpose</th>\n",
       "      <th>age_category</th>\n",
       "    </tr>\n",
       "  </thead>\n",
       "  <tbody>\n",
       "    <tr>\n",
       "      <th>0</th>\n",
       "      <td>1</td>\n",
       "      <td>8437</td>\n",
       "      <td>42</td>\n",
       "      <td>0</td>\n",
       "      <td>0</td>\n",
       "      <td>F</td>\n",
       "      <td>сотрудник</td>\n",
       "      <td>0</td>\n",
       "      <td>253875</td>\n",
       "      <td>покупка жилья</td>\n",
       "      <td>40+</td>\n",
       "    </tr>\n",
       "    <tr>\n",
       "      <th>1</th>\n",
       "      <td>1</td>\n",
       "      <td>4024</td>\n",
       "      <td>36</td>\n",
       "      <td>1</td>\n",
       "      <td>0</td>\n",
       "      <td>F</td>\n",
       "      <td>сотрудник</td>\n",
       "      <td>0</td>\n",
       "      <td>112080</td>\n",
       "      <td>приобретение автомобиля</td>\n",
       "      <td>30+</td>\n",
       "    </tr>\n",
       "    <tr>\n",
       "      <th>2</th>\n",
       "      <td>0</td>\n",
       "      <td>5623</td>\n",
       "      <td>33</td>\n",
       "      <td>1</td>\n",
       "      <td>0</td>\n",
       "      <td>M</td>\n",
       "      <td>сотрудник</td>\n",
       "      <td>0</td>\n",
       "      <td>145885</td>\n",
       "      <td>покупка жилья</td>\n",
       "      <td>30+</td>\n",
       "    </tr>\n",
       "    <tr>\n",
       "      <th>3</th>\n",
       "      <td>3</td>\n",
       "      <td>4124</td>\n",
       "      <td>32</td>\n",
       "      <td>1</td>\n",
       "      <td>0</td>\n",
       "      <td>M</td>\n",
       "      <td>сотрудник</td>\n",
       "      <td>0</td>\n",
       "      <td>267628</td>\n",
       "      <td>дополнительное образование</td>\n",
       "      <td>30+</td>\n",
       "    </tr>\n",
       "    <tr>\n",
       "      <th>4</th>\n",
       "      <td>0</td>\n",
       "      <td>14177</td>\n",
       "      <td>53</td>\n",
       "      <td>1</td>\n",
       "      <td>1</td>\n",
       "      <td>F</td>\n",
       "      <td>пенсионер</td>\n",
       "      <td>0</td>\n",
       "      <td>158616</td>\n",
       "      <td>сыграть свадьбу</td>\n",
       "      <td>50+</td>\n",
       "    </tr>\n",
       "    <tr>\n",
       "      <th>5</th>\n",
       "      <td>0</td>\n",
       "      <td>926</td>\n",
       "      <td>27</td>\n",
       "      <td>0</td>\n",
       "      <td>1</td>\n",
       "      <td>M</td>\n",
       "      <td>компаньон</td>\n",
       "      <td>0</td>\n",
       "      <td>255763</td>\n",
       "      <td>покупка жилья</td>\n",
       "      <td>18+</td>\n",
       "    </tr>\n",
       "    <tr>\n",
       "      <th>6</th>\n",
       "      <td>0</td>\n",
       "      <td>2879</td>\n",
       "      <td>43</td>\n",
       "      <td>0</td>\n",
       "      <td>0</td>\n",
       "      <td>F</td>\n",
       "      <td>компаньон</td>\n",
       "      <td>0</td>\n",
       "      <td>240525</td>\n",
       "      <td>операции с жильем</td>\n",
       "      <td>40+</td>\n",
       "    </tr>\n",
       "    <tr>\n",
       "      <th>7</th>\n",
       "      <td>0</td>\n",
       "      <td>152</td>\n",
       "      <td>50</td>\n",
       "      <td>1</td>\n",
       "      <td>0</td>\n",
       "      <td>M</td>\n",
       "      <td>сотрудник</td>\n",
       "      <td>0</td>\n",
       "      <td>135823</td>\n",
       "      <td>образование</td>\n",
       "      <td>50+</td>\n",
       "    </tr>\n",
       "    <tr>\n",
       "      <th>8</th>\n",
       "      <td>2</td>\n",
       "      <td>6929</td>\n",
       "      <td>35</td>\n",
       "      <td>0</td>\n",
       "      <td>1</td>\n",
       "      <td>F</td>\n",
       "      <td>сотрудник</td>\n",
       "      <td>0</td>\n",
       "      <td>95856</td>\n",
       "      <td>на проведение свадьбы</td>\n",
       "      <td>30+</td>\n",
       "    </tr>\n",
       "    <tr>\n",
       "      <th>9</th>\n",
       "      <td>0</td>\n",
       "      <td>2188</td>\n",
       "      <td>41</td>\n",
       "      <td>1</td>\n",
       "      <td>0</td>\n",
       "      <td>M</td>\n",
       "      <td>сотрудник</td>\n",
       "      <td>0</td>\n",
       "      <td>144425</td>\n",
       "      <td>покупка жилья для семьи</td>\n",
       "      <td>40+</td>\n",
       "    </tr>\n",
       "  </tbody>\n",
       "</table>\n",
       "</div>"
      ],
      "text/plain": [
       "   children  days_employed  dob_years  education_id  family_status_id gender  \\\n",
       "0         1           8437         42             0                 0      F   \n",
       "1         1           4024         36             1                 0      F   \n",
       "2         0           5623         33             1                 0      M   \n",
       "3         3           4124         32             1                 0      M   \n",
       "4         0          14177         53             1                 1      F   \n",
       "5         0            926         27             0                 1      M   \n",
       "6         0           2879         43             0                 0      F   \n",
       "7         0            152         50             1                 0      M   \n",
       "8         2           6929         35             0                 1      F   \n",
       "9         0           2188         41             1                 0      M   \n",
       "\n",
       "  income_type  debt  total_income                     purpose age_category  \n",
       "0   сотрудник     0        253875               покупка жилья          40+  \n",
       "1   сотрудник     0        112080     приобретение автомобиля          30+  \n",
       "2   сотрудник     0        145885               покупка жилья          30+  \n",
       "3   сотрудник     0        267628  дополнительное образование          30+  \n",
       "4   пенсионер     0        158616             сыграть свадьбу          50+  \n",
       "5   компаньон     0        255763               покупка жилья          18+  \n",
       "6   компаньон     0        240525           операции с жильем          40+  \n",
       "7   сотрудник     0        135823                 образование          50+  \n",
       "8   сотрудник     0         95856       на проведение свадьбы          30+  \n",
       "9   сотрудник     0        144425     покупка жилья для семьи          40+  "
      ]
     },
     "execution_count": 121,
     "metadata": {},
     "output_type": "execute_result"
    }
   ],
   "source": [
    "data.drop([\"education\", \"family_status\"], axis = 1, inplace = True) # удаляю столбцы\n",
    "data.head(10)"
   ]
  },
  {
   "cell_type": "markdown",
   "id": "b02367ba",
   "metadata": {},
   "source": [
    "### Шаг Категоризация дохода."
   ]
  },
  {
   "cell_type": "code",
   "execution_count": 122,
   "id": "46af1c49",
   "metadata": {},
   "outputs": [
    {
     "data": {
      "text/html": [
       "<div>\n",
       "<style scoped>\n",
       "    .dataframe tbody tr th:only-of-type {\n",
       "        vertical-align: middle;\n",
       "    }\n",
       "\n",
       "    .dataframe tbody tr th {\n",
       "        vertical-align: top;\n",
       "    }\n",
       "\n",
       "    .dataframe thead th {\n",
       "        text-align: right;\n",
       "    }\n",
       "</style>\n",
       "<table border=\"1\" class=\"dataframe\">\n",
       "  <thead>\n",
       "    <tr style=\"text-align: right;\">\n",
       "      <th></th>\n",
       "      <th>children</th>\n",
       "      <th>days_employed</th>\n",
       "      <th>dob_years</th>\n",
       "      <th>education_id</th>\n",
       "      <th>family_status_id</th>\n",
       "      <th>gender</th>\n",
       "      <th>income_type</th>\n",
       "      <th>debt</th>\n",
       "      <th>total_income</th>\n",
       "      <th>purpose</th>\n",
       "      <th>age_category</th>\n",
       "      <th>total_income_category</th>\n",
       "    </tr>\n",
       "  </thead>\n",
       "  <tbody>\n",
       "    <tr>\n",
       "      <th>0</th>\n",
       "      <td>1</td>\n",
       "      <td>8437</td>\n",
       "      <td>42</td>\n",
       "      <td>0</td>\n",
       "      <td>0</td>\n",
       "      <td>F</td>\n",
       "      <td>сотрудник</td>\n",
       "      <td>0</td>\n",
       "      <td>253875</td>\n",
       "      <td>покупка жилья</td>\n",
       "      <td>40+</td>\n",
       "      <td>B</td>\n",
       "    </tr>\n",
       "    <tr>\n",
       "      <th>1</th>\n",
       "      <td>1</td>\n",
       "      <td>4024</td>\n",
       "      <td>36</td>\n",
       "      <td>1</td>\n",
       "      <td>0</td>\n",
       "      <td>F</td>\n",
       "      <td>сотрудник</td>\n",
       "      <td>0</td>\n",
       "      <td>112080</td>\n",
       "      <td>приобретение автомобиля</td>\n",
       "      <td>30+</td>\n",
       "      <td>C</td>\n",
       "    </tr>\n",
       "    <tr>\n",
       "      <th>2</th>\n",
       "      <td>0</td>\n",
       "      <td>5623</td>\n",
       "      <td>33</td>\n",
       "      <td>1</td>\n",
       "      <td>0</td>\n",
       "      <td>M</td>\n",
       "      <td>сотрудник</td>\n",
       "      <td>0</td>\n",
       "      <td>145885</td>\n",
       "      <td>покупка жилья</td>\n",
       "      <td>30+</td>\n",
       "      <td>C</td>\n",
       "    </tr>\n",
       "    <tr>\n",
       "      <th>3</th>\n",
       "      <td>3</td>\n",
       "      <td>4124</td>\n",
       "      <td>32</td>\n",
       "      <td>1</td>\n",
       "      <td>0</td>\n",
       "      <td>M</td>\n",
       "      <td>сотрудник</td>\n",
       "      <td>0</td>\n",
       "      <td>267628</td>\n",
       "      <td>дополнительное образование</td>\n",
       "      <td>30+</td>\n",
       "      <td>B</td>\n",
       "    </tr>\n",
       "    <tr>\n",
       "      <th>4</th>\n",
       "      <td>0</td>\n",
       "      <td>14177</td>\n",
       "      <td>53</td>\n",
       "      <td>1</td>\n",
       "      <td>1</td>\n",
       "      <td>F</td>\n",
       "      <td>пенсионер</td>\n",
       "      <td>0</td>\n",
       "      <td>158616</td>\n",
       "      <td>сыграть свадьбу</td>\n",
       "      <td>50+</td>\n",
       "      <td>C</td>\n",
       "    </tr>\n",
       "  </tbody>\n",
       "</table>\n",
       "</div>"
      ],
      "text/plain": [
       "   children  days_employed  dob_years  education_id  family_status_id gender  \\\n",
       "0         1           8437         42             0                 0      F   \n",
       "1         1           4024         36             1                 0      F   \n",
       "2         0           5623         33             1                 0      M   \n",
       "3         3           4124         32             1                 0      M   \n",
       "4         0          14177         53             1                 1      F   \n",
       "\n",
       "  income_type  debt  total_income                     purpose age_category  \\\n",
       "0   сотрудник     0        253875               покупка жилья          40+   \n",
       "1   сотрудник     0        112080     приобретение автомобиля          30+   \n",
       "2   сотрудник     0        145885               покупка жилья          30+   \n",
       "3   сотрудник     0        267628  дополнительное образование          30+   \n",
       "4   пенсионер     0        158616             сыграть свадьбу          50+   \n",
       "\n",
       "  total_income_category  \n",
       "0                     B  \n",
       "1                     C  \n",
       "2                     C  \n",
       "3                     B  \n",
       "4                     C  "
      ]
     },
     "execution_count": 122,
     "metadata": {},
     "output_type": "execute_result"
    }
   ],
   "source": [
    "def total_income_group (income): #создаю функцию для категоризации доходов\n",
    "    if 0 <= income <= 30000:\n",
    "        return 'E'\n",
    "    if 30001 <= income <= 50000:\n",
    "        return 'D'\n",
    "    if 50001 <= income <= 200000:\n",
    "        return 'C'\n",
    "    if 200001 <= income <= 1000000:\n",
    "        return 'B'\n",
    "    if  income >= 1000001:\n",
    "        return 'A'\n",
    "\n",
    "data['total_income_category'] = data['total_income'].apply(total_income_group) # добавляю столбец с категориями по доходу\n",
    "data.head()"
   ]
  },
  {
   "cell_type": "markdown",
   "id": "e7a4f912",
   "metadata": {},
   "source": [
    "### Шаг Категоризация целей кредита."
   ]
  },
  {
   "cell_type": "code",
   "execution_count": 123,
   "id": "d9d3f1ac",
   "metadata": {},
   "outputs": [
    {
     "data": {
      "text/html": [
       "<div>\n",
       "<style scoped>\n",
       "    .dataframe tbody tr th:only-of-type {\n",
       "        vertical-align: middle;\n",
       "    }\n",
       "\n",
       "    .dataframe tbody tr th {\n",
       "        vertical-align: top;\n",
       "    }\n",
       "\n",
       "    .dataframe thead th {\n",
       "        text-align: right;\n",
       "    }\n",
       "</style>\n",
       "<table border=\"1\" class=\"dataframe\">\n",
       "  <thead>\n",
       "    <tr style=\"text-align: right;\">\n",
       "      <th></th>\n",
       "      <th>children</th>\n",
       "      <th>days_employed</th>\n",
       "      <th>dob_years</th>\n",
       "      <th>education_id</th>\n",
       "      <th>family_status_id</th>\n",
       "      <th>gender</th>\n",
       "      <th>income_type</th>\n",
       "      <th>debt</th>\n",
       "      <th>total_income</th>\n",
       "      <th>purpose</th>\n",
       "      <th>age_category</th>\n",
       "      <th>total_income_category</th>\n",
       "      <th>purpose_category</th>\n",
       "    </tr>\n",
       "  </thead>\n",
       "  <tbody>\n",
       "    <tr>\n",
       "      <th>0</th>\n",
       "      <td>1</td>\n",
       "      <td>8437</td>\n",
       "      <td>42</td>\n",
       "      <td>0</td>\n",
       "      <td>0</td>\n",
       "      <td>F</td>\n",
       "      <td>сотрудник</td>\n",
       "      <td>0</td>\n",
       "      <td>253875</td>\n",
       "      <td>покупка жилья</td>\n",
       "      <td>40+</td>\n",
       "      <td>B</td>\n",
       "      <td>операции с недвижимостью</td>\n",
       "    </tr>\n",
       "    <tr>\n",
       "      <th>1</th>\n",
       "      <td>1</td>\n",
       "      <td>4024</td>\n",
       "      <td>36</td>\n",
       "      <td>1</td>\n",
       "      <td>0</td>\n",
       "      <td>F</td>\n",
       "      <td>сотрудник</td>\n",
       "      <td>0</td>\n",
       "      <td>112080</td>\n",
       "      <td>приобретение автомобиля</td>\n",
       "      <td>30+</td>\n",
       "      <td>C</td>\n",
       "      <td>операции с автомобилем</td>\n",
       "    </tr>\n",
       "    <tr>\n",
       "      <th>2</th>\n",
       "      <td>0</td>\n",
       "      <td>5623</td>\n",
       "      <td>33</td>\n",
       "      <td>1</td>\n",
       "      <td>0</td>\n",
       "      <td>M</td>\n",
       "      <td>сотрудник</td>\n",
       "      <td>0</td>\n",
       "      <td>145885</td>\n",
       "      <td>покупка жилья</td>\n",
       "      <td>30+</td>\n",
       "      <td>C</td>\n",
       "      <td>операции с недвижимостью</td>\n",
       "    </tr>\n",
       "    <tr>\n",
       "      <th>3</th>\n",
       "      <td>3</td>\n",
       "      <td>4124</td>\n",
       "      <td>32</td>\n",
       "      <td>1</td>\n",
       "      <td>0</td>\n",
       "      <td>M</td>\n",
       "      <td>сотрудник</td>\n",
       "      <td>0</td>\n",
       "      <td>267628</td>\n",
       "      <td>дополнительное образование</td>\n",
       "      <td>30+</td>\n",
       "      <td>B</td>\n",
       "      <td>получение образования</td>\n",
       "    </tr>\n",
       "    <tr>\n",
       "      <th>4</th>\n",
       "      <td>0</td>\n",
       "      <td>14177</td>\n",
       "      <td>53</td>\n",
       "      <td>1</td>\n",
       "      <td>1</td>\n",
       "      <td>F</td>\n",
       "      <td>пенсионер</td>\n",
       "      <td>0</td>\n",
       "      <td>158616</td>\n",
       "      <td>сыграть свадьбу</td>\n",
       "      <td>50+</td>\n",
       "      <td>C</td>\n",
       "      <td>проведение свадьбы</td>\n",
       "    </tr>\n",
       "  </tbody>\n",
       "</table>\n",
       "</div>"
      ],
      "text/plain": [
       "   children  days_employed  dob_years  education_id  family_status_id gender  \\\n",
       "0         1           8437         42             0                 0      F   \n",
       "1         1           4024         36             1                 0      F   \n",
       "2         0           5623         33             1                 0      M   \n",
       "3         3           4124         32             1                 0      M   \n",
       "4         0          14177         53             1                 1      F   \n",
       "\n",
       "  income_type  debt  total_income                     purpose age_category  \\\n",
       "0   сотрудник     0        253875               покупка жилья          40+   \n",
       "1   сотрудник     0        112080     приобретение автомобиля          30+   \n",
       "2   сотрудник     0        145885               покупка жилья          30+   \n",
       "3   сотрудник     0        267628  дополнительное образование          30+   \n",
       "4   пенсионер     0        158616             сыграть свадьбу          50+   \n",
       "\n",
       "  total_income_category          purpose_category  \n",
       "0                     B  операции с недвижимостью  \n",
       "1                     C    операции с автомобилем  \n",
       "2                     C  операции с недвижимостью  \n",
       "3                     B     получение образования  \n",
       "4                     C        проведение свадьбы  "
      ]
     },
     "execution_count": 123,
     "metadata": {},
     "output_type": "execute_result"
    }
   ],
   "source": [
    "def purpose_cat (purpose): # создаю функцию, для присвоения категорий целям кредита\n",
    "    if 'автомобил' in purpose :\n",
    "        return 'операции с автомобилем'\n",
    "    if 'недвижимост' in purpose or 'жиль' in purpose:\n",
    "        return 'операции с недвижимостью'\n",
    "    if 'свадьб' in purpose:\n",
    "        return 'проведение свадьбы'\n",
    "    if 'образован' in purpose:\n",
    "        return 'получение образования'\n",
    "\n",
    "data['purpose_category'] = data['purpose'].apply(purpose_cat) # добавляю столбец с категориями\n",
    "data.head() "
   ]
  },
  {
   "cell_type": "markdown",
   "id": "b26e2a56",
   "metadata": {},
   "source": [
    "## Ответы на вопросы."
   ]
  },
  {
   "cell_type": "markdown",
   "id": "8c63d290",
   "metadata": {},
   "source": [
    "### Вопрос 1: Есть ли зависимость между количеством детей и возвратом кредита в срок?"
   ]
  },
  {
   "cell_type": "markdown",
   "id": "8a98367f",
   "metadata": {},
   "source": [
    "В группах заёмщиков с 3 детьми и более, очень небольшая выборка. Их можно объеденить в одну группу многодетных."
   ]
  },
  {
   "cell_type": "code",
   "execution_count": 126,
   "id": "f912dd3f",
   "metadata": {},
   "outputs": [],
   "source": [
    "def data_pivot(column_name): \n",
    "    return data.pivot_table(index = column_name, values = ['debt'], aggfunc = [len, sum, np.mean]).rename(columns = {'len': 'Всего кредитополучателей', 'sum': 'Количество должников', 'mean': 'Доля должников'}).reset_index()"
   ]
  },
  {
   "cell_type": "code",
   "execution_count": 127,
   "id": "87c6f1cb",
   "metadata": {},
   "outputs": [
    {
     "data": {
      "text/html": [
       "<div>\n",
       "<style scoped>\n",
       "    .dataframe tbody tr th:only-of-type {\n",
       "        vertical-align: middle;\n",
       "    }\n",
       "\n",
       "    .dataframe tbody tr th {\n",
       "        vertical-align: top;\n",
       "    }\n",
       "\n",
       "    .dataframe thead tr th {\n",
       "        text-align: left;\n",
       "    }\n",
       "</style>\n",
       "<table border=\"1\" class=\"dataframe\">\n",
       "  <thead>\n",
       "    <tr>\n",
       "      <th></th>\n",
       "      <th>children</th>\n",
       "      <th>Всего кредитополучателей</th>\n",
       "      <th>Количество должников</th>\n",
       "      <th>Доля должников</th>\n",
       "    </tr>\n",
       "    <tr>\n",
       "      <th></th>\n",
       "      <th></th>\n",
       "      <th>debt</th>\n",
       "      <th>debt</th>\n",
       "      <th>debt</th>\n",
       "    </tr>\n",
       "  </thead>\n",
       "  <tbody>\n",
       "    <tr>\n",
       "      <th>0</th>\n",
       "      <td>0</td>\n",
       "      <td>14091</td>\n",
       "      <td>1063</td>\n",
       "      <td>0.075438</td>\n",
       "    </tr>\n",
       "    <tr>\n",
       "      <th>1</th>\n",
       "      <td>1</td>\n",
       "      <td>4808</td>\n",
       "      <td>444</td>\n",
       "      <td>0.092346</td>\n",
       "    </tr>\n",
       "    <tr>\n",
       "      <th>2</th>\n",
       "      <td>2</td>\n",
       "      <td>2052</td>\n",
       "      <td>194</td>\n",
       "      <td>0.094542</td>\n",
       "    </tr>\n",
       "    <tr>\n",
       "      <th>3</th>\n",
       "      <td>3</td>\n",
       "      <td>330</td>\n",
       "      <td>27</td>\n",
       "      <td>0.081818</td>\n",
       "    </tr>\n",
       "    <tr>\n",
       "      <th>4</th>\n",
       "      <td>4</td>\n",
       "      <td>41</td>\n",
       "      <td>4</td>\n",
       "      <td>0.097561</td>\n",
       "    </tr>\n",
       "    <tr>\n",
       "      <th>5</th>\n",
       "      <td>5</td>\n",
       "      <td>9</td>\n",
       "      <td>0</td>\n",
       "      <td>0.000000</td>\n",
       "    </tr>\n",
       "  </tbody>\n",
       "</table>\n",
       "</div>"
      ],
      "text/plain": [
       "  children Всего кредитополучателей Количество должников Доля должников\n",
       "                               debt                 debt           debt\n",
       "0        0                    14091                 1063       0.075438\n",
       "1        1                     4808                  444       0.092346\n",
       "2        2                     2052                  194       0.094542\n",
       "3        3                      330                   27       0.081818\n",
       "4        4                       41                    4       0.097561\n",
       "5        5                        9                    0       0.000000"
      ]
     },
     "execution_count": 127,
     "metadata": {},
     "output_type": "execute_result"
    }
   ],
   "source": [
    "data_pivot(column_name = ['children'])"
   ]
  },
  {
   "cell_type": "markdown",
   "id": "216dc4e3",
   "metadata": {},
   "source": [
    "**Вывод 1:** заёмщики без детей берут больше кредитов и имеют меньше задолжностей. Больше всего задолжностей у родителей 4 детей, 2 и 1 ребёнка."
   ]
  },
  {
   "cell_type": "markdown",
   "id": "aeebac41",
   "metadata": {},
   "source": [
    "### Вопрос 2: Есть ли зависимость между семейным положением и возвратом кредита в срок?"
   ]
  },
  {
   "cell_type": "code",
   "execution_count": 129,
   "id": "577a6abc",
   "metadata": {},
   "outputs": [
    {
     "data": {
      "text/html": [
       "<div>\n",
       "<style scoped>\n",
       "    .dataframe tbody tr th:only-of-type {\n",
       "        vertical-align: middle;\n",
       "    }\n",
       "\n",
       "    .dataframe tbody tr th {\n",
       "        vertical-align: top;\n",
       "    }\n",
       "\n",
       "    .dataframe thead th {\n",
       "        text-align: right;\n",
       "    }\n",
       "</style>\n",
       "<table border=\"1\" class=\"dataframe\">\n",
       "  <thead>\n",
       "    <tr style=\"text-align: right;\">\n",
       "      <th></th>\n",
       "      <th>family_status</th>\n",
       "      <th>family_status_id</th>\n",
       "      <th>(Всего кредитополучателей, debt)</th>\n",
       "      <th>(Количество должников, debt)</th>\n",
       "      <th>(Доля должников, debt)</th>\n",
       "    </tr>\n",
       "  </thead>\n",
       "  <tbody>\n",
       "    <tr>\n",
       "      <th>0</th>\n",
       "      <td>женат / замужем</td>\n",
       "      <td>0</td>\n",
       "      <td>12261</td>\n",
       "      <td>927</td>\n",
       "      <td>0.075606</td>\n",
       "    </tr>\n",
       "    <tr>\n",
       "      <th>1</th>\n",
       "      <td>гражданский брак</td>\n",
       "      <td>1</td>\n",
       "      <td>4134</td>\n",
       "      <td>385</td>\n",
       "      <td>0.093130</td>\n",
       "    </tr>\n",
       "    <tr>\n",
       "      <th>2</th>\n",
       "      <td>вдовец / вдова</td>\n",
       "      <td>2</td>\n",
       "      <td>951</td>\n",
       "      <td>63</td>\n",
       "      <td>0.066246</td>\n",
       "    </tr>\n",
       "    <tr>\n",
       "      <th>3</th>\n",
       "      <td>в разводе</td>\n",
       "      <td>3</td>\n",
       "      <td>1189</td>\n",
       "      <td>84</td>\n",
       "      <td>0.070648</td>\n",
       "    </tr>\n",
       "    <tr>\n",
       "      <th>4</th>\n",
       "      <td>Не женат / не замужем</td>\n",
       "      <td>4</td>\n",
       "      <td>2796</td>\n",
       "      <td>273</td>\n",
       "      <td>0.097639</td>\n",
       "    </tr>\n",
       "  </tbody>\n",
       "</table>\n",
       "</div>"
      ],
      "text/plain": [
       "           family_status  family_status_id  (Всего кредитополучателей, debt)  \\\n",
       "0        женат / замужем                 0                             12261   \n",
       "1       гражданский брак                 1                              4134   \n",
       "2         вдовец / вдова                 2                               951   \n",
       "3              в разводе                 3                              1189   \n",
       "4  Не женат / не замужем                 4                              2796   \n",
       "\n",
       "   (Количество должников, debt)  (Доля должников, debt)  \n",
       "0                           927                0.075606  \n",
       "1                           385                0.093130  \n",
       "2                            63                0.066246  \n",
       "3                            84                0.070648  \n",
       "4                           273                0.097639  "
      ]
     },
     "execution_count": 129,
     "metadata": {},
     "output_type": "execute_result"
    }
   ],
   "source": [
    "pivot_family_status = data_pivot(column_name = ['family_status_id'])\n",
    "family_status_dict.merge(pivot_family_status, on = 'family_status_id', how='left')"
   ]
  },
  {
   "cell_type": "markdown",
   "id": "55822bf8",
   "metadata": {},
   "source": [
    "**Вывод 2:** Больше всего задолжностей у никогда не состоявших в официальном браке"
   ]
  },
  {
   "cell_type": "markdown",
   "id": "095bf505",
   "metadata": {},
   "source": [
    "Рассмотрим доли должников в разрезе семейного статуса и кол-ва детей"
   ]
  },
  {
   "cell_type": "code",
   "execution_count": 130,
   "id": "7db63a2f",
   "metadata": {},
   "outputs": [
    {
     "data": {
      "text/html": [
       "<div>\n",
       "<style scoped>\n",
       "    .dataframe tbody tr th:only-of-type {\n",
       "        vertical-align: middle;\n",
       "    }\n",
       "\n",
       "    .dataframe tbody tr th {\n",
       "        vertical-align: top;\n",
       "    }\n",
       "\n",
       "    .dataframe thead tr th {\n",
       "        text-align: left;\n",
       "    }\n",
       "</style>\n",
       "<table border=\"1\" class=\"dataframe\">\n",
       "  <thead>\n",
       "    <tr>\n",
       "      <th></th>\n",
       "      <th>family_status_id</th>\n",
       "      <th>children</th>\n",
       "      <th>Всего кредитополучателей</th>\n",
       "      <th>Количество должников</th>\n",
       "      <th>Доля должников</th>\n",
       "    </tr>\n",
       "    <tr>\n",
       "      <th></th>\n",
       "      <th></th>\n",
       "      <th></th>\n",
       "      <th>debt</th>\n",
       "      <th>debt</th>\n",
       "      <th>debt</th>\n",
       "    </tr>\n",
       "  </thead>\n",
       "  <tbody>\n",
       "    <tr>\n",
       "      <th>0</th>\n",
       "      <td>0</td>\n",
       "      <td>0</td>\n",
       "      <td>7468</td>\n",
       "      <td>516</td>\n",
       "      <td>0.069095</td>\n",
       "    </tr>\n",
       "    <tr>\n",
       "      <th>1</th>\n",
       "      <td>0</td>\n",
       "      <td>1</td>\n",
       "      <td>2975</td>\n",
       "      <td>246</td>\n",
       "      <td>0.082689</td>\n",
       "    </tr>\n",
       "    <tr>\n",
       "      <th>2</th>\n",
       "      <td>0</td>\n",
       "      <td>2</td>\n",
       "      <td>1533</td>\n",
       "      <td>145</td>\n",
       "      <td>0.094586</td>\n",
       "    </tr>\n",
       "    <tr>\n",
       "      <th>3</th>\n",
       "      <td>0</td>\n",
       "      <td>3</td>\n",
       "      <td>249</td>\n",
       "      <td>17</td>\n",
       "      <td>0.068273</td>\n",
       "    </tr>\n",
       "    <tr>\n",
       "      <th>4</th>\n",
       "      <td>0</td>\n",
       "      <td>4</td>\n",
       "      <td>29</td>\n",
       "      <td>3</td>\n",
       "      <td>0.103448</td>\n",
       "    </tr>\n",
       "    <tr>\n",
       "      <th>5</th>\n",
       "      <td>0</td>\n",
       "      <td>5</td>\n",
       "      <td>7</td>\n",
       "      <td>0</td>\n",
       "      <td>0.000000</td>\n",
       "    </tr>\n",
       "    <tr>\n",
       "      <th>6</th>\n",
       "      <td>1</td>\n",
       "      <td>0</td>\n",
       "      <td>2730</td>\n",
       "      <td>229</td>\n",
       "      <td>0.083883</td>\n",
       "    </tr>\n",
       "    <tr>\n",
       "      <th>7</th>\n",
       "      <td>1</td>\n",
       "      <td>1</td>\n",
       "      <td>995</td>\n",
       "      <td>118</td>\n",
       "      <td>0.118593</td>\n",
       "    </tr>\n",
       "    <tr>\n",
       "      <th>8</th>\n",
       "      <td>1</td>\n",
       "      <td>2</td>\n",
       "      <td>343</td>\n",
       "      <td>30</td>\n",
       "      <td>0.087464</td>\n",
       "    </tr>\n",
       "    <tr>\n",
       "      <th>9</th>\n",
       "      <td>1</td>\n",
       "      <td>3</td>\n",
       "      <td>56</td>\n",
       "      <td>8</td>\n",
       "      <td>0.142857</td>\n",
       "    </tr>\n",
       "    <tr>\n",
       "      <th>10</th>\n",
       "      <td>1</td>\n",
       "      <td>4</td>\n",
       "      <td>8</td>\n",
       "      <td>0</td>\n",
       "      <td>0.000000</td>\n",
       "    </tr>\n",
       "    <tr>\n",
       "      <th>11</th>\n",
       "      <td>1</td>\n",
       "      <td>5</td>\n",
       "      <td>2</td>\n",
       "      <td>0</td>\n",
       "      <td>0.000000</td>\n",
       "    </tr>\n",
       "    <tr>\n",
       "      <th>12</th>\n",
       "      <td>2</td>\n",
       "      <td>0</td>\n",
       "      <td>847</td>\n",
       "      <td>53</td>\n",
       "      <td>0.062574</td>\n",
       "    </tr>\n",
       "    <tr>\n",
       "      <th>13</th>\n",
       "      <td>2</td>\n",
       "      <td>1</td>\n",
       "      <td>77</td>\n",
       "      <td>7</td>\n",
       "      <td>0.090909</td>\n",
       "    </tr>\n",
       "    <tr>\n",
       "      <th>14</th>\n",
       "      <td>2</td>\n",
       "      <td>2</td>\n",
       "      <td>20</td>\n",
       "      <td>3</td>\n",
       "      <td>0.150000</td>\n",
       "    </tr>\n",
       "    <tr>\n",
       "      <th>15</th>\n",
       "      <td>2</td>\n",
       "      <td>3</td>\n",
       "      <td>6</td>\n",
       "      <td>0</td>\n",
       "      <td>0.000000</td>\n",
       "    </tr>\n",
       "    <tr>\n",
       "      <th>16</th>\n",
       "      <td>2</td>\n",
       "      <td>4</td>\n",
       "      <td>1</td>\n",
       "      <td>0</td>\n",
       "      <td>0.000000</td>\n",
       "    </tr>\n",
       "    <tr>\n",
       "      <th>17</th>\n",
       "      <td>3</td>\n",
       "      <td>0</td>\n",
       "      <td>784</td>\n",
       "      <td>55</td>\n",
       "      <td>0.070153</td>\n",
       "    </tr>\n",
       "    <tr>\n",
       "      <th>18</th>\n",
       "      <td>3</td>\n",
       "      <td>1</td>\n",
       "      <td>312</td>\n",
       "      <td>21</td>\n",
       "      <td>0.067308</td>\n",
       "    </tr>\n",
       "    <tr>\n",
       "      <th>19</th>\n",
       "      <td>3</td>\n",
       "      <td>2</td>\n",
       "      <td>81</td>\n",
       "      <td>7</td>\n",
       "      <td>0.086420</td>\n",
       "    </tr>\n",
       "    <tr>\n",
       "      <th>20</th>\n",
       "      <td>3</td>\n",
       "      <td>3</td>\n",
       "      <td>11</td>\n",
       "      <td>1</td>\n",
       "      <td>0.090909</td>\n",
       "    </tr>\n",
       "    <tr>\n",
       "      <th>21</th>\n",
       "      <td>3</td>\n",
       "      <td>4</td>\n",
       "      <td>1</td>\n",
       "      <td>0</td>\n",
       "      <td>0.000000</td>\n",
       "    </tr>\n",
       "    <tr>\n",
       "      <th>22</th>\n",
       "      <td>4</td>\n",
       "      <td>0</td>\n",
       "      <td>2262</td>\n",
       "      <td>210</td>\n",
       "      <td>0.092838</td>\n",
       "    </tr>\n",
       "    <tr>\n",
       "      <th>23</th>\n",
       "      <td>4</td>\n",
       "      <td>1</td>\n",
       "      <td>449</td>\n",
       "      <td>52</td>\n",
       "      <td>0.115813</td>\n",
       "    </tr>\n",
       "    <tr>\n",
       "      <th>24</th>\n",
       "      <td>4</td>\n",
       "      <td>2</td>\n",
       "      <td>75</td>\n",
       "      <td>9</td>\n",
       "      <td>0.120000</td>\n",
       "    </tr>\n",
       "    <tr>\n",
       "      <th>25</th>\n",
       "      <td>4</td>\n",
       "      <td>3</td>\n",
       "      <td>8</td>\n",
       "      <td>1</td>\n",
       "      <td>0.125000</td>\n",
       "    </tr>\n",
       "    <tr>\n",
       "      <th>26</th>\n",
       "      <td>4</td>\n",
       "      <td>4</td>\n",
       "      <td>2</td>\n",
       "      <td>1</td>\n",
       "      <td>0.500000</td>\n",
       "    </tr>\n",
       "  </tbody>\n",
       "</table>\n",
       "</div>"
      ],
      "text/plain": [
       "   family_status_id children Всего кредитополучателей Количество должников  \\\n",
       "                                                 debt                 debt   \n",
       "0                 0        0                     7468                  516   \n",
       "1                 0        1                     2975                  246   \n",
       "2                 0        2                     1533                  145   \n",
       "3                 0        3                      249                   17   \n",
       "4                 0        4                       29                    3   \n",
       "5                 0        5                        7                    0   \n",
       "6                 1        0                     2730                  229   \n",
       "7                 1        1                      995                  118   \n",
       "8                 1        2                      343                   30   \n",
       "9                 1        3                       56                    8   \n",
       "10                1        4                        8                    0   \n",
       "11                1        5                        2                    0   \n",
       "12                2        0                      847                   53   \n",
       "13                2        1                       77                    7   \n",
       "14                2        2                       20                    3   \n",
       "15                2        3                        6                    0   \n",
       "16                2        4                        1                    0   \n",
       "17                3        0                      784                   55   \n",
       "18                3        1                      312                   21   \n",
       "19                3        2                       81                    7   \n",
       "20                3        3                       11                    1   \n",
       "21                3        4                        1                    0   \n",
       "22                4        0                     2262                  210   \n",
       "23                4        1                      449                   52   \n",
       "24                4        2                       75                    9   \n",
       "25                4        3                        8                    1   \n",
       "26                4        4                        2                    1   \n",
       "\n",
       "   Доля должников  \n",
       "             debt  \n",
       "0        0.069095  \n",
       "1        0.082689  \n",
       "2        0.094586  \n",
       "3        0.068273  \n",
       "4        0.103448  \n",
       "5        0.000000  \n",
       "6        0.083883  \n",
       "7        0.118593  \n",
       "8        0.087464  \n",
       "9        0.142857  \n",
       "10       0.000000  \n",
       "11       0.000000  \n",
       "12       0.062574  \n",
       "13       0.090909  \n",
       "14       0.150000  \n",
       "15       0.000000  \n",
       "16       0.000000  \n",
       "17       0.070153  \n",
       "18       0.067308  \n",
       "19       0.086420  \n",
       "20       0.090909  \n",
       "21       0.000000  \n",
       "22       0.092838  \n",
       "23       0.115813  \n",
       "24       0.120000  \n",
       "25       0.125000  \n",
       "26       0.500000  "
      ]
     },
     "execution_count": 130,
     "metadata": {},
     "output_type": "execute_result"
    }
   ],
   "source": [
    "data_pivot(column_name = ['family_status_id', 'children'])"
   ]
  },
  {
   "cell_type": "markdown",
   "id": "80998323",
   "metadata": {},
   "source": [
    "Практически во всех группах с увеличением кол-ва детей, увеличивается доля по задержкам выплаты кредита. "
   ]
  },
  {
   "cell_type": "markdown",
   "id": "9faf20ad",
   "metadata": {},
   "source": [
    "#### Вопрос 3: Есть ли зависимость между уровнем дохода и возвратом кредита в срок?"
   ]
  },
  {
   "cell_type": "code",
   "execution_count": 131,
   "id": "8a36d5eb",
   "metadata": {},
   "outputs": [
    {
     "data": {
      "text/html": [
       "<div>\n",
       "<style scoped>\n",
       "    .dataframe tbody tr th:only-of-type {\n",
       "        vertical-align: middle;\n",
       "    }\n",
       "\n",
       "    .dataframe tbody tr th {\n",
       "        vertical-align: top;\n",
       "    }\n",
       "\n",
       "    .dataframe thead tr th {\n",
       "        text-align: left;\n",
       "    }\n",
       "</style>\n",
       "<table border=\"1\" class=\"dataframe\">\n",
       "  <thead>\n",
       "    <tr>\n",
       "      <th></th>\n",
       "      <th>total_income_category</th>\n",
       "      <th>Всего кредитополучателей</th>\n",
       "      <th>Количество должников</th>\n",
       "      <th>Доля должников</th>\n",
       "    </tr>\n",
       "    <tr>\n",
       "      <th></th>\n",
       "      <th></th>\n",
       "      <th>debt</th>\n",
       "      <th>debt</th>\n",
       "      <th>debt</th>\n",
       "    </tr>\n",
       "  </thead>\n",
       "  <tbody>\n",
       "    <tr>\n",
       "      <th>0</th>\n",
       "      <td>A</td>\n",
       "      <td>25</td>\n",
       "      <td>2</td>\n",
       "      <td>0.080000</td>\n",
       "    </tr>\n",
       "    <tr>\n",
       "      <th>1</th>\n",
       "      <td>B</td>\n",
       "      <td>5014</td>\n",
       "      <td>354</td>\n",
       "      <td>0.070602</td>\n",
       "    </tr>\n",
       "    <tr>\n",
       "      <th>2</th>\n",
       "      <td>C</td>\n",
       "      <td>15921</td>\n",
       "      <td>1353</td>\n",
       "      <td>0.084982</td>\n",
       "    </tr>\n",
       "    <tr>\n",
       "      <th>3</th>\n",
       "      <td>D</td>\n",
       "      <td>349</td>\n",
       "      <td>21</td>\n",
       "      <td>0.060172</td>\n",
       "    </tr>\n",
       "    <tr>\n",
       "      <th>4</th>\n",
       "      <td>E</td>\n",
       "      <td>22</td>\n",
       "      <td>2</td>\n",
       "      <td>0.090909</td>\n",
       "    </tr>\n",
       "  </tbody>\n",
       "</table>\n",
       "</div>"
      ],
      "text/plain": [
       "  total_income_category Всего кредитополучателей Количество должников  \\\n",
       "                                            debt                 debt   \n",
       "0                     A                       25                    2   \n",
       "1                     B                     5014                  354   \n",
       "2                     C                    15921                 1353   \n",
       "3                     D                      349                   21   \n",
       "4                     E                       22                    2   \n",
       "\n",
       "  Доля должников  \n",
       "            debt  \n",
       "0       0.080000  \n",
       "1       0.070602  \n",
       "2       0.084982  \n",
       "3       0.060172  \n",
       "4       0.090909  "
      ]
     },
     "execution_count": 131,
     "metadata": {},
     "output_type": "execute_result"
    }
   ],
   "source": [
    "data_pivot(column_name = ['total_income_category'])"
   ]
  },
  {
   "cell_type": "markdown",
   "id": "b8923f4d",
   "metadata": {},
   "source": [
    "**Вывод 3:** Хуже всего дела c возвратом обстоят у группы с самым низким уровнем дохода. Но они и реже всего берут кредиты. В представленной выборке у них очень низкая доля. Так же низкая доля у богачей.\n",
    "Как ни странно, люди с доходом ниже среднего чаще ввозвращают долг без задержек."
   ]
  },
  {
   "cell_type": "markdown",
   "id": "52b33c4d",
   "metadata": {},
   "source": [
    "### Вопрос 4: Как разные цели кредита влияют на его возврат в срок?"
   ]
  },
  {
   "cell_type": "code",
   "execution_count": 132,
   "id": "28561b18",
   "metadata": {},
   "outputs": [
    {
     "data": {
      "text/html": [
       "<div>\n",
       "<style scoped>\n",
       "    .dataframe tbody tr th:only-of-type {\n",
       "        vertical-align: middle;\n",
       "    }\n",
       "\n",
       "    .dataframe tbody tr th {\n",
       "        vertical-align: top;\n",
       "    }\n",
       "\n",
       "    .dataframe thead tr th {\n",
       "        text-align: left;\n",
       "    }\n",
       "</style>\n",
       "<table border=\"1\" class=\"dataframe\">\n",
       "  <thead>\n",
       "    <tr>\n",
       "      <th></th>\n",
       "      <th>purpose_category</th>\n",
       "      <th>Всего кредитополучателей</th>\n",
       "      <th>Количество должников</th>\n",
       "      <th>Доля должников</th>\n",
       "    </tr>\n",
       "    <tr>\n",
       "      <th></th>\n",
       "      <th></th>\n",
       "      <th>debt</th>\n",
       "      <th>debt</th>\n",
       "      <th>debt</th>\n",
       "    </tr>\n",
       "  </thead>\n",
       "  <tbody>\n",
       "    <tr>\n",
       "      <th>0</th>\n",
       "      <td>операции с автомобилем</td>\n",
       "      <td>4279</td>\n",
       "      <td>400</td>\n",
       "      <td>0.093480</td>\n",
       "    </tr>\n",
       "    <tr>\n",
       "      <th>1</th>\n",
       "      <td>операции с недвижимостью</td>\n",
       "      <td>10751</td>\n",
       "      <td>780</td>\n",
       "      <td>0.072551</td>\n",
       "    </tr>\n",
       "    <tr>\n",
       "      <th>2</th>\n",
       "      <td>получение образования</td>\n",
       "      <td>3988</td>\n",
       "      <td>369</td>\n",
       "      <td>0.092528</td>\n",
       "    </tr>\n",
       "    <tr>\n",
       "      <th>3</th>\n",
       "      <td>проведение свадьбы</td>\n",
       "      <td>2313</td>\n",
       "      <td>183</td>\n",
       "      <td>0.079118</td>\n",
       "    </tr>\n",
       "  </tbody>\n",
       "</table>\n",
       "</div>"
      ],
      "text/plain": [
       "           purpose_category Всего кредитополучателей Количество должников  \\\n",
       "                                                debt                 debt   \n",
       "0    операции с автомобилем                     4279                  400   \n",
       "1  операции с недвижимостью                    10751                  780   \n",
       "2     получение образования                     3988                  369   \n",
       "3        проведение свадьбы                     2313                  183   \n",
       "\n",
       "  Доля должников  \n",
       "            debt  \n",
       "0       0.093480  \n",
       "1       0.072551  \n",
       "2       0.092528  \n",
       "3       0.079118  "
      ]
     },
     "execution_count": 132,
     "metadata": {},
     "output_type": "execute_result"
    }
   ],
   "source": [
    "data_pivot(column_name = ['purpose_category'])"
   ]
  },
  {
   "cell_type": "markdown",
   "id": "65d9ef6a",
   "metadata": {},
   "source": [
    "**Вывод 4:** Меньше всего задолжностей по кредитам на недвижимость и свадьбу, хуже дела обстоят с кредитами на образование и автомобиль. "
   ]
  },
  {
   "cell_type": "markdown",
   "id": "f9fa0a52",
   "metadata": {},
   "source": [
    "## Общий вывод:"
   ]
  },
  {
   "cell_type": "markdown",
   "id": "173d0638",
   "metadata": {},
   "source": [
    "Проведённое исследование выявило зависимость между наличием детей, семейным положением заёмщиков и возвратом кредита:\n",
    "Меньше всего задолжностей по выплатам у заёмщиков без детей.  \n",
    "С появлением каждого следующего ребёнка, доля задержек по кредитам увеличивается. \n",
    "Но с появлением третьего ребёнка и далее, доля должников падает, но вместе с ним падает и кол-во кредиторов.  \n",
    "Заёмщики, состоящие или состоявшие в браке имеют меньше просрочек, чем одинокие или те, кто живёт гражданским браком.  \n",
    "Больше всего просрочек у заёмщиков с самым низким уровнем дохода. Но прямой зависимости, что с увеличением дохода, снижается доля просрочек нет.  \n",
    "Кредиты, выданные на операции с недвижимостью или проведение свадьбы возвращают лучше, чем на получение образования или автомобиль.  \n",
    "Наиболее предпочтитаемыми заёмщиками станут клиенты банка без детей, вдовствующие или состоящие в браке, с целевым кредитом на операции с недвижимостью."
   ]
  }
 ],
 "metadata": {
  "ExecuteTimeLog": [
   {
    "duration": 517,
    "start_time": "2022-04-23T11:58:48.704Z"
   },
   {
    "duration": 125,
    "start_time": "2022-04-23T11:58:51.613Z"
   },
   {
    "duration": 28,
    "start_time": "2022-04-23T11:59:11.694Z"
   },
   {
    "duration": 94,
    "start_time": "2022-04-23T11:59:44.246Z"
   },
   {
    "duration": 104,
    "start_time": "2022-04-23T12:00:03.346Z"
   },
   {
    "duration": 95,
    "start_time": "2022-04-23T12:08:29.819Z"
   },
   {
    "duration": 20,
    "start_time": "2022-04-23T12:12:20.661Z"
   },
   {
    "duration": 113,
    "start_time": "2022-04-23T12:14:47.965Z"
   },
   {
    "duration": 28,
    "start_time": "2022-04-23T12:14:56.723Z"
   },
   {
    "duration": 29,
    "start_time": "2022-04-23T12:15:09.514Z"
   },
   {
    "duration": 38,
    "start_time": "2022-04-23T12:15:44.060Z"
   },
   {
    "duration": 19,
    "start_time": "2022-04-23T12:48:01.313Z"
   },
   {
    "duration": 11,
    "start_time": "2022-04-23T12:53:29.611Z"
   },
   {
    "duration": 13,
    "start_time": "2022-04-23T12:53:45.335Z"
   },
   {
    "duration": 19,
    "start_time": "2022-04-23T12:54:02.200Z"
   },
   {
    "duration": 22,
    "start_time": "2022-04-23T12:54:24.335Z"
   },
   {
    "duration": 8,
    "start_time": "2022-04-23T12:56:46.095Z"
   },
   {
    "duration": 7,
    "start_time": "2022-04-23T12:59:00.974Z"
   },
   {
    "duration": 13,
    "start_time": "2022-04-23T13:13:00.153Z"
   },
   {
    "duration": 4,
    "start_time": "2022-04-23T13:13:12.950Z"
   },
   {
    "duration": 13,
    "start_time": "2022-04-23T13:14:28.532Z"
   },
   {
    "duration": 14,
    "start_time": "2022-04-23T13:14:50.137Z"
   },
   {
    "duration": 20,
    "start_time": "2022-04-23T13:16:24.375Z"
   },
   {
    "duration": 10,
    "start_time": "2022-04-23T13:18:51.899Z"
   },
   {
    "duration": 10,
    "start_time": "2022-04-23T13:19:04.015Z"
   },
   {
    "duration": 18,
    "start_time": "2022-04-23T13:20:01.679Z"
   },
   {
    "duration": 6,
    "start_time": "2022-04-23T13:20:07.757Z"
   },
   {
    "duration": 17,
    "start_time": "2022-04-23T13:22:16.574Z"
   },
   {
    "duration": 12,
    "start_time": "2022-04-23T13:29:11.104Z"
   },
   {
    "duration": 14,
    "start_time": "2022-04-23T13:30:27.409Z"
   },
   {
    "duration": 16,
    "start_time": "2022-04-23T13:34:47.554Z"
   },
   {
    "duration": 6,
    "start_time": "2022-04-23T13:35:08.843Z"
   },
   {
    "duration": 8,
    "start_time": "2022-04-23T13:35:59.500Z"
   },
   {
    "duration": 14,
    "start_time": "2022-04-23T13:38:07.935Z"
   },
   {
    "duration": 31,
    "start_time": "2022-04-23T13:39:22.970Z"
   },
   {
    "duration": 124,
    "start_time": "2022-04-23T13:39:53.507Z"
   },
   {
    "duration": 28,
    "start_time": "2022-04-23T13:41:38.041Z"
   },
   {
    "duration": 27,
    "start_time": "2022-04-23T13:43:03.113Z"
   },
   {
    "duration": 35,
    "start_time": "2022-04-23T13:43:12.356Z"
   },
   {
    "duration": 86,
    "start_time": "2022-04-23T13:44:09.074Z"
   },
   {
    "duration": 514,
    "start_time": "2022-04-23T13:44:20.324Z"
   },
   {
    "duration": 100,
    "start_time": "2022-04-23T13:44:22.538Z"
   },
   {
    "duration": 32,
    "start_time": "2022-04-23T13:44:24.014Z"
   },
   {
    "duration": 8,
    "start_time": "2022-04-23T13:44:38.823Z"
   },
   {
    "duration": 57,
    "start_time": "2022-04-23T13:44:57.849Z"
   },
   {
    "duration": 6,
    "start_time": "2022-04-23T13:45:24.603Z"
   },
   {
    "duration": 6,
    "start_time": "2022-04-23T13:47:05.831Z"
   },
   {
    "duration": 5,
    "start_time": "2022-04-23T13:55:13.532Z"
   },
   {
    "duration": 21,
    "start_time": "2022-04-23T13:55:26.346Z"
   },
   {
    "duration": 28,
    "start_time": "2022-04-23T13:58:49.281Z"
   },
   {
    "duration": 11,
    "start_time": "2022-04-23T14:00:03.046Z"
   },
   {
    "duration": 11,
    "start_time": "2022-04-23T14:00:45.284Z"
   },
   {
    "duration": 13,
    "start_time": "2022-04-23T14:01:05.976Z"
   },
   {
    "duration": 8,
    "start_time": "2022-04-23T14:05:50.710Z"
   },
   {
    "duration": 12,
    "start_time": "2022-04-23T14:10:24.477Z"
   },
   {
    "duration": 14,
    "start_time": "2022-04-23T14:12:02.944Z"
   },
   {
    "duration": 11,
    "start_time": "2022-04-23T14:12:36.173Z"
   },
   {
    "duration": 13,
    "start_time": "2022-04-23T14:13:57.306Z"
   },
   {
    "duration": 11,
    "start_time": "2022-04-23T14:14:21.751Z"
   },
   {
    "duration": 22,
    "start_time": "2022-04-23T14:14:34.925Z"
   },
   {
    "duration": 10,
    "start_time": "2022-04-23T14:16:34.108Z"
   },
   {
    "duration": 31,
    "start_time": "2022-04-23T14:16:41.313Z"
   },
   {
    "duration": 27,
    "start_time": "2022-04-23T14:16:56.604Z"
   },
   {
    "duration": 60,
    "start_time": "2022-04-23T14:18:01.671Z"
   },
   {
    "duration": 33,
    "start_time": "2022-04-23T14:18:51.044Z"
   },
   {
    "duration": 57,
    "start_time": "2022-04-23T14:19:15.063Z"
   },
   {
    "duration": 27,
    "start_time": "2022-04-23T14:20:26.413Z"
   },
   {
    "duration": 29,
    "start_time": "2022-04-23T14:23:25.406Z"
   },
   {
    "duration": 8,
    "start_time": "2022-04-23T14:37:22.944Z"
   },
   {
    "duration": 120,
    "start_time": "2022-04-23T14:43:27.126Z"
   },
   {
    "duration": 20,
    "start_time": "2022-04-23T14:45:50.941Z"
   },
   {
    "duration": 14,
    "start_time": "2022-04-23T14:46:10.633Z"
   },
   {
    "duration": 14,
    "start_time": "2022-04-23T14:46:19.819Z"
   },
   {
    "duration": 16,
    "start_time": "2022-04-23T14:46:31.757Z"
   },
   {
    "duration": 5,
    "start_time": "2022-04-23T14:46:44.655Z"
   },
   {
    "duration": 14,
    "start_time": "2022-04-23T14:47:11.351Z"
   },
   {
    "duration": 8,
    "start_time": "2022-04-23T14:47:55.268Z"
   },
   {
    "duration": 10,
    "start_time": "2022-04-23T14:48:06.980Z"
   },
   {
    "duration": 410,
    "start_time": "2022-04-23T14:48:16.952Z"
   },
   {
    "duration": 10,
    "start_time": "2022-04-23T14:48:31.075Z"
   },
   {
    "duration": 362,
    "start_time": "2022-04-23T14:48:37.741Z"
   },
   {
    "duration": 23,
    "start_time": "2022-04-23T14:49:04.804Z"
   },
   {
    "duration": 17,
    "start_time": "2022-04-23T14:49:09.533Z"
   },
   {
    "duration": 363,
    "start_time": "2022-04-23T14:49:13.099Z"
   },
   {
    "duration": 532,
    "start_time": "2022-04-23T14:49:46.671Z"
   },
   {
    "duration": 104,
    "start_time": "2022-04-23T14:49:48.754Z"
   },
   {
    "duration": 30,
    "start_time": "2022-04-23T14:49:53.598Z"
   },
   {
    "duration": 8,
    "start_time": "2022-04-23T14:50:03.883Z"
   },
   {
    "duration": 9,
    "start_time": "2022-04-23T14:50:07.229Z"
   },
   {
    "duration": 10,
    "start_time": "2022-04-23T14:50:14.306Z"
   },
   {
    "duration": 8,
    "start_time": "2022-04-23T14:50:18.192Z"
   },
   {
    "duration": 10,
    "start_time": "2022-04-23T14:50:25.034Z"
   },
   {
    "duration": 18,
    "start_time": "2022-04-23T14:50:28.735Z"
   },
   {
    "duration": 9,
    "start_time": "2022-04-23T14:50:31.167Z"
   },
   {
    "duration": 22,
    "start_time": "2022-04-23T14:50:37.051Z"
   },
   {
    "duration": 15,
    "start_time": "2022-04-23T14:51:04.735Z"
   },
   {
    "duration": 8,
    "start_time": "2022-04-23T14:53:59.002Z"
   },
   {
    "duration": 12,
    "start_time": "2022-04-23T14:54:03.624Z"
   },
   {
    "duration": 7,
    "start_time": "2022-04-23T14:54:08.251Z"
   },
   {
    "duration": 17,
    "start_time": "2022-04-23T14:54:11.821Z"
   },
   {
    "duration": 15,
    "start_time": "2022-04-23T14:54:12.783Z"
   },
   {
    "duration": 6,
    "start_time": "2022-04-23T14:54:13.733Z"
   },
   {
    "duration": 538,
    "start_time": "2022-04-23T14:54:31.495Z"
   },
   {
    "duration": 110,
    "start_time": "2022-04-23T14:54:32.435Z"
   },
   {
    "duration": 30,
    "start_time": "2022-04-23T14:54:33.219Z"
   },
   {
    "duration": 9,
    "start_time": "2022-04-23T14:54:36.118Z"
   },
   {
    "duration": 15,
    "start_time": "2022-04-23T14:54:37.677Z"
   },
   {
    "duration": 10,
    "start_time": "2022-04-23T14:54:40.595Z"
   },
   {
    "duration": 8,
    "start_time": "2022-04-23T14:54:42.337Z"
   },
   {
    "duration": 10,
    "start_time": "2022-04-23T14:54:45.195Z"
   },
   {
    "duration": 17,
    "start_time": "2022-04-23T14:54:46.295Z"
   },
   {
    "duration": 8,
    "start_time": "2022-04-23T14:54:49.520Z"
   },
   {
    "duration": 13,
    "start_time": "2022-04-23T14:55:06.802Z"
   },
   {
    "duration": 15,
    "start_time": "2022-04-23T14:56:47.863Z"
   },
   {
    "duration": 15,
    "start_time": "2022-04-23T14:57:08.415Z"
   },
   {
    "duration": 10,
    "start_time": "2022-04-23T14:57:14.046Z"
   },
   {
    "duration": 17,
    "start_time": "2022-04-23T14:57:17.402Z"
   },
   {
    "duration": 10,
    "start_time": "2022-04-23T14:57:20.025Z"
   },
   {
    "duration": 15,
    "start_time": "2022-04-23T14:57:21.044Z"
   },
   {
    "duration": 28,
    "start_time": "2022-04-23T14:58:00.163Z"
   },
   {
    "duration": 17,
    "start_time": "2022-04-23T14:58:32.795Z"
   },
   {
    "duration": 10,
    "start_time": "2022-04-23T14:58:48.658Z"
   },
   {
    "duration": 10,
    "start_time": "2022-04-23T14:59:28.405Z"
   },
   {
    "duration": 536,
    "start_time": "2022-04-23T14:59:55.393Z"
   },
   {
    "duration": 99,
    "start_time": "2022-04-23T15:00:02.270Z"
   },
   {
    "duration": 16,
    "start_time": "2022-04-23T15:00:47.512Z"
   },
   {
    "duration": 22,
    "start_time": "2022-04-23T15:00:48.778Z"
   },
   {
    "duration": 15,
    "start_time": "2022-04-23T15:00:50.471Z"
   },
   {
    "duration": 3,
    "start_time": "2022-04-23T15:01:06.512Z"
   },
   {
    "duration": 102,
    "start_time": "2022-04-23T15:01:10.484Z"
   },
   {
    "duration": 23,
    "start_time": "2022-04-23T15:01:11.420Z"
   },
   {
    "duration": 8,
    "start_time": "2022-04-23T15:01:15.002Z"
   },
   {
    "duration": 9,
    "start_time": "2022-04-23T15:01:16.700Z"
   },
   {
    "duration": 10,
    "start_time": "2022-04-23T15:01:19.396Z"
   },
   {
    "duration": 7,
    "start_time": "2022-04-23T15:01:21.173Z"
   },
   {
    "duration": 11,
    "start_time": "2022-04-23T15:01:23.258Z"
   },
   {
    "duration": 16,
    "start_time": "2022-04-23T15:01:24.148Z"
   },
   {
    "duration": 8,
    "start_time": "2022-04-23T15:01:25.376Z"
   },
   {
    "duration": 14,
    "start_time": "2022-04-23T15:01:26.773Z"
   },
   {
    "duration": 15,
    "start_time": "2022-04-23T15:05:45.169Z"
   },
   {
    "duration": 9,
    "start_time": "2022-04-23T15:06:52.108Z"
   },
   {
    "duration": 9,
    "start_time": "2022-04-23T15:07:38.944Z"
   },
   {
    "duration": 25,
    "start_time": "2022-04-23T15:09:30.713Z"
   },
   {
    "duration": 8,
    "start_time": "2022-04-23T15:11:31.695Z"
   },
   {
    "duration": 8,
    "start_time": "2022-04-23T15:12:01.331Z"
   },
   {
    "duration": 110,
    "start_time": "2022-04-23T15:12:27.740Z"
   },
   {
    "duration": 11,
    "start_time": "2022-04-23T15:12:35.226Z"
   },
   {
    "duration": 11,
    "start_time": "2022-04-23T15:12:48.239Z"
   },
   {
    "duration": 10,
    "start_time": "2022-04-23T15:12:56.438Z"
   },
   {
    "duration": 16,
    "start_time": "2022-04-23T15:13:41.411Z"
   },
   {
    "duration": 42,
    "start_time": "2022-04-23T15:14:22.773Z"
   },
   {
    "duration": 10,
    "start_time": "2022-04-23T15:15:16.050Z"
   },
   {
    "duration": 9,
    "start_time": "2022-04-23T15:15:27.013Z"
   },
   {
    "duration": 9,
    "start_time": "2022-04-23T15:15:34.916Z"
   },
   {
    "duration": 10,
    "start_time": "2022-04-23T15:15:43.121Z"
   },
   {
    "duration": 16,
    "start_time": "2022-04-23T15:16:09.179Z"
   },
   {
    "duration": 11,
    "start_time": "2022-04-23T15:16:15.561Z"
   },
   {
    "duration": 11,
    "start_time": "2022-04-23T15:16:23.196Z"
   },
   {
    "duration": 8,
    "start_time": "2022-04-23T15:16:29.164Z"
   },
   {
    "duration": 8,
    "start_time": "2022-04-23T15:16:35.075Z"
   },
   {
    "duration": 27,
    "start_time": "2022-04-23T15:17:46.789Z"
   },
   {
    "duration": 11,
    "start_time": "2022-04-23T15:29:17.732Z"
   },
   {
    "duration": 7,
    "start_time": "2022-04-23T15:29:34.348Z"
   },
   {
    "duration": 18,
    "start_time": "2022-04-23T15:30:16.177Z"
   },
   {
    "duration": 21,
    "start_time": "2022-04-23T15:31:25.909Z"
   },
   {
    "duration": 10,
    "start_time": "2022-04-23T15:33:43.201Z"
   },
   {
    "duration": 8,
    "start_time": "2022-04-23T15:34:09.295Z"
   },
   {
    "duration": 9,
    "start_time": "2022-04-23T15:34:43.448Z"
   },
   {
    "duration": 17,
    "start_time": "2022-04-23T15:35:40.360Z"
   },
   {
    "duration": 22,
    "start_time": "2022-04-23T15:35:50.577Z"
   },
   {
    "duration": 14,
    "start_time": "2022-04-23T15:48:27.776Z"
   },
   {
    "duration": 25,
    "start_time": "2022-04-23T15:48:44.760Z"
   },
   {
    "duration": 16,
    "start_time": "2022-04-23T15:49:02.546Z"
   },
   {
    "duration": 19,
    "start_time": "2022-04-23T15:50:40.223Z"
   },
   {
    "duration": 9,
    "start_time": "2022-04-23T15:50:55.533Z"
   },
   {
    "duration": 10,
    "start_time": "2022-04-23T15:50:56.607Z"
   },
   {
    "duration": 14,
    "start_time": "2022-04-23T15:51:03.824Z"
   },
   {
    "duration": 15,
    "start_time": "2022-04-23T15:51:08.635Z"
   },
   {
    "duration": 18,
    "start_time": "2022-04-23T15:51:47.817Z"
   },
   {
    "duration": 3,
    "start_time": "2022-04-23T15:52:06.924Z"
   },
   {
    "duration": 96,
    "start_time": "2022-04-23T15:52:08.307Z"
   },
   {
    "duration": 33,
    "start_time": "2022-04-23T15:52:11.763Z"
   },
   {
    "duration": 8,
    "start_time": "2022-04-23T15:52:16.022Z"
   },
   {
    "duration": 11,
    "start_time": "2022-04-23T15:52:18.803Z"
   },
   {
    "duration": 14,
    "start_time": "2022-04-23T15:52:23.374Z"
   },
   {
    "duration": 9,
    "start_time": "2022-04-23T15:52:28.150Z"
   },
   {
    "duration": 10,
    "start_time": "2022-04-23T15:52:31.364Z"
   },
   {
    "duration": 18,
    "start_time": "2022-04-23T15:52:32.547Z"
   },
   {
    "duration": 8,
    "start_time": "2022-04-23T15:52:37.155Z"
   },
   {
    "duration": 14,
    "start_time": "2022-04-23T15:52:39.680Z"
   },
   {
    "duration": 9,
    "start_time": "2022-04-23T15:52:42.875Z"
   },
   {
    "duration": 9,
    "start_time": "2022-04-23T15:52:47.897Z"
   },
   {
    "duration": 9,
    "start_time": "2022-04-23T15:52:50.661Z"
   },
   {
    "duration": 7,
    "start_time": "2022-04-23T15:52:52.636Z"
   },
   {
    "duration": 13,
    "start_time": "2022-04-23T15:52:57.014Z"
   },
   {
    "duration": 20,
    "start_time": "2022-04-23T15:53:06.023Z"
   },
   {
    "duration": 33,
    "start_time": "2022-04-23T15:53:11.268Z"
   },
   {
    "duration": 18,
    "start_time": "2022-04-23T15:53:19.411Z"
   },
   {
    "duration": 637,
    "start_time": "2022-04-23T15:53:42.749Z"
   },
   {
    "duration": 152,
    "start_time": "2022-04-23T15:53:43.796Z"
   },
   {
    "duration": 38,
    "start_time": "2022-04-23T15:53:45.163Z"
   },
   {
    "duration": 8,
    "start_time": "2022-04-23T15:53:48.766Z"
   },
   {
    "duration": 10,
    "start_time": "2022-04-23T15:53:50.423Z"
   },
   {
    "duration": 12,
    "start_time": "2022-04-23T15:53:52.881Z"
   },
   {
    "duration": 7,
    "start_time": "2022-04-23T15:53:54.396Z"
   },
   {
    "duration": 10,
    "start_time": "2022-04-23T15:53:56.259Z"
   },
   {
    "duration": 23,
    "start_time": "2022-04-23T15:53:57.165Z"
   },
   {
    "duration": 9,
    "start_time": "2022-04-23T15:53:57.857Z"
   },
   {
    "duration": 18,
    "start_time": "2022-04-23T15:54:00.588Z"
   },
   {
    "duration": 11,
    "start_time": "2022-04-23T15:54:11.499Z"
   },
   {
    "duration": 10,
    "start_time": "2022-04-23T15:54:15.283Z"
   },
   {
    "duration": 10,
    "start_time": "2022-04-23T15:54:21.595Z"
   },
   {
    "duration": 13,
    "start_time": "2022-04-23T15:54:23.601Z"
   },
   {
    "duration": 20,
    "start_time": "2022-04-23T15:54:24.629Z"
   },
   {
    "duration": 8,
    "start_time": "2022-04-23T15:54:26.794Z"
   },
   {
    "duration": 22,
    "start_time": "2022-04-23T15:54:55.380Z"
   },
   {
    "duration": 10,
    "start_time": "2022-04-23T15:58:23.134Z"
   },
   {
    "duration": 7,
    "start_time": "2022-04-23T15:59:48.100Z"
   },
   {
    "duration": 13,
    "start_time": "2022-04-23T16:00:51.164Z"
   },
   {
    "duration": 11,
    "start_time": "2022-04-23T16:01:50.862Z"
   },
   {
    "duration": 31,
    "start_time": "2022-04-23T16:03:21.929Z"
   },
   {
    "duration": 29,
    "start_time": "2022-04-23T16:03:23.235Z"
   },
   {
    "duration": 12,
    "start_time": "2022-04-23T17:48:23.414Z"
   },
   {
    "duration": 16,
    "start_time": "2022-04-23T17:48:47.067Z"
   },
   {
    "duration": 16,
    "start_time": "2022-04-23T17:51:34.082Z"
   },
   {
    "duration": 21,
    "start_time": "2022-04-23T17:51:58.580Z"
   },
   {
    "duration": 15,
    "start_time": "2022-04-23T17:52:12.210Z"
   },
   {
    "duration": 22,
    "start_time": "2022-04-23T17:52:24.867Z"
   },
   {
    "duration": 17,
    "start_time": "2022-04-23T17:52:40.670Z"
   },
   {
    "duration": 22,
    "start_time": "2022-04-23T17:52:59.484Z"
   },
   {
    "duration": 26,
    "start_time": "2022-04-23T17:55:06.975Z"
   },
   {
    "duration": 114,
    "start_time": "2022-04-23T18:07:14.210Z"
   },
   {
    "duration": 118,
    "start_time": "2022-04-23T18:12:35.074Z"
   },
   {
    "duration": 40,
    "start_time": "2022-04-23T18:12:55.760Z"
   },
   {
    "duration": 29,
    "start_time": "2022-04-23T18:13:16.702Z"
   },
   {
    "duration": 117,
    "start_time": "2022-04-23T18:21:49.526Z"
   },
   {
    "duration": 5,
    "start_time": "2022-04-23T18:21:57.731Z"
   },
   {
    "duration": 96,
    "start_time": "2022-04-23T18:22:33.858Z"
   },
   {
    "duration": 6,
    "start_time": "2022-04-23T18:22:49.851Z"
   },
   {
    "duration": 10,
    "start_time": "2022-04-23T18:55:00.979Z"
   },
   {
    "duration": 6,
    "start_time": "2022-04-23T18:55:25.620Z"
   },
   {
    "duration": 7,
    "start_time": "2022-04-23T18:55:29.762Z"
   },
   {
    "duration": 8,
    "start_time": "2022-04-23T18:56:02.790Z"
   },
   {
    "duration": 7,
    "start_time": "2022-04-23T18:56:06.629Z"
   },
   {
    "duration": 8,
    "start_time": "2022-04-23T18:56:14.754Z"
   },
   {
    "duration": 111,
    "start_time": "2022-04-23T18:56:53.085Z"
   },
   {
    "duration": 94,
    "start_time": "2022-04-23T18:58:19.166Z"
   },
   {
    "duration": 8,
    "start_time": "2022-04-23T18:58:29.704Z"
   },
   {
    "duration": 9,
    "start_time": "2022-04-23T18:59:02.026Z"
   },
   {
    "duration": 7,
    "start_time": "2022-04-23T19:12:31.799Z"
   },
   {
    "duration": 8,
    "start_time": "2022-04-23T19:13:08.450Z"
   },
   {
    "duration": 134,
    "start_time": "2022-04-23T19:15:34.880Z"
   },
   {
    "duration": 6,
    "start_time": "2022-04-23T19:25:31.143Z"
   },
   {
    "duration": 6,
    "start_time": "2022-04-23T19:25:36.695Z"
   },
   {
    "duration": 8,
    "start_time": "2022-04-23T19:25:50.516Z"
   },
   {
    "duration": 9,
    "start_time": "2022-04-23T19:26:10.804Z"
   },
   {
    "duration": 10,
    "start_time": "2022-04-23T19:29:28.622Z"
   },
   {
    "duration": 15,
    "start_time": "2022-04-23T19:30:38.566Z"
   },
   {
    "duration": 9,
    "start_time": "2022-04-23T19:32:08.009Z"
   },
   {
    "duration": 11,
    "start_time": "2022-04-23T19:35:12.356Z"
   },
   {
    "duration": 417,
    "start_time": "2022-04-24T07:52:35.846Z"
   },
   {
    "duration": 90,
    "start_time": "2022-04-24T07:52:36.817Z"
   },
   {
    "duration": 22,
    "start_time": "2022-04-24T07:52:37.563Z"
   },
   {
    "duration": 6,
    "start_time": "2022-04-24T07:52:38.785Z"
   },
   {
    "duration": 8,
    "start_time": "2022-04-24T07:52:39.152Z"
   },
   {
    "duration": 8,
    "start_time": "2022-04-24T07:52:39.649Z"
   },
   {
    "duration": 6,
    "start_time": "2022-04-24T07:52:41.047Z"
   },
   {
    "duration": 7,
    "start_time": "2022-04-24T07:52:41.344Z"
   },
   {
    "duration": 16,
    "start_time": "2022-04-24T07:52:41.447Z"
   },
   {
    "duration": 5,
    "start_time": "2022-04-24T07:52:42.386Z"
   },
   {
    "duration": 10,
    "start_time": "2022-04-24T07:52:43.440Z"
   },
   {
    "duration": 7,
    "start_time": "2022-04-24T07:52:44.383Z"
   },
   {
    "duration": 5,
    "start_time": "2022-04-24T07:52:48.157Z"
   },
   {
    "duration": 8,
    "start_time": "2022-04-24T07:52:49.170Z"
   },
   {
    "duration": 5,
    "start_time": "2022-04-24T07:52:51.726Z"
   },
   {
    "duration": 8,
    "start_time": "2022-04-24T07:52:52.918Z"
   },
   {
    "duration": 15,
    "start_time": "2022-04-24T07:52:54.104Z"
   },
   {
    "duration": 8,
    "start_time": "2022-04-24T07:52:56.537Z"
   },
   {
    "duration": 7,
    "start_time": "2022-04-24T07:52:57.762Z"
   },
   {
    "duration": 9,
    "start_time": "2022-04-24T07:53:01.125Z"
   },
   {
    "duration": 23,
    "start_time": "2022-04-24T07:53:04.247Z"
   },
   {
    "duration": 20,
    "start_time": "2022-04-24T07:53:06.181Z"
   },
   {
    "duration": 14,
    "start_time": "2022-04-24T07:53:09.531Z"
   },
   {
    "duration": 12,
    "start_time": "2022-04-24T07:53:21.370Z"
   },
   {
    "duration": 15,
    "start_time": "2022-04-24T07:53:28.564Z"
   },
   {
    "duration": 22,
    "start_time": "2022-04-24T07:53:36.217Z"
   },
   {
    "duration": 3,
    "start_time": "2022-04-24T07:57:04.373Z"
   },
   {
    "duration": 4,
    "start_time": "2022-04-24T07:57:26.253Z"
   },
   {
    "duration": 20,
    "start_time": "2022-04-24T08:03:43.689Z"
   },
   {
    "duration": 9,
    "start_time": "2022-04-24T08:08:57.288Z"
   },
   {
    "duration": 189,
    "start_time": "2022-04-24T08:16:28.338Z"
   },
   {
    "duration": 11,
    "start_time": "2022-04-24T08:16:39.445Z"
   },
   {
    "duration": 72,
    "start_time": "2022-04-24T08:18:34.123Z"
   },
   {
    "duration": 12,
    "start_time": "2022-04-24T08:18:42.935Z"
   },
   {
    "duration": 7,
    "start_time": "2022-04-24T08:19:18.007Z"
   },
   {
    "duration": 3559,
    "start_time": "2022-04-24T08:20:29.644Z"
   },
   {
    "duration": 2933,
    "start_time": "2022-04-24T08:20:33.874Z"
   },
   {
    "duration": 9,
    "start_time": "2022-04-24T08:22:06.268Z"
   },
   {
    "duration": 4302,
    "start_time": "2022-04-24T08:51:53.112Z"
   },
   {
    "duration": 7,
    "start_time": "2022-04-24T08:53:00.221Z"
   },
   {
    "duration": 11,
    "start_time": "2022-04-24T08:53:09.325Z"
   },
   {
    "duration": 12,
    "start_time": "2022-04-24T08:54:40.515Z"
   },
   {
    "duration": 9,
    "start_time": "2022-04-24T08:54:50.590Z"
   },
   {
    "duration": 12,
    "start_time": "2022-04-24T08:54:59.772Z"
   },
   {
    "duration": 14,
    "start_time": "2022-04-24T08:55:14.849Z"
   },
   {
    "duration": 4364,
    "start_time": "2022-04-24T09:12:18.507Z"
   },
   {
    "duration": 4063,
    "start_time": "2022-04-24T09:13:36.417Z"
   },
   {
    "duration": 8,
    "start_time": "2022-04-24T09:13:55.320Z"
   },
   {
    "duration": 7,
    "start_time": "2022-04-24T09:14:11.852Z"
   },
   {
    "duration": 11,
    "start_time": "2022-04-24T09:14:18.579Z"
   },
   {
    "duration": 588,
    "start_time": "2022-04-24T09:40:22.480Z"
   },
   {
    "duration": 3930,
    "start_time": "2022-04-24T09:40:48.842Z"
   },
   {
    "duration": 16,
    "start_time": "2022-04-24T09:41:42.089Z"
   },
   {
    "duration": 5,
    "start_time": "2022-04-24T09:43:54.414Z"
   },
   {
    "duration": 7,
    "start_time": "2022-04-24T09:44:59.660Z"
   },
   {
    "duration": 8,
    "start_time": "2022-04-24T09:45:14.313Z"
   },
   {
    "duration": 9,
    "start_time": "2022-04-24T09:46:00.266Z"
   },
   {
    "duration": 9,
    "start_time": "2022-04-24T09:46:12.738Z"
   },
   {
    "duration": 269,
    "start_time": "2022-04-24T09:48:18.745Z"
   },
   {
    "duration": 282,
    "start_time": "2022-04-24T09:48:33.477Z"
   },
   {
    "duration": 161,
    "start_time": "2022-04-24T09:48:58.926Z"
   },
   {
    "duration": 8,
    "start_time": "2022-04-24T09:49:11.447Z"
   },
   {
    "duration": 9,
    "start_time": "2022-04-24T09:53:46.423Z"
   },
   {
    "duration": 7,
    "start_time": "2022-04-24T09:54:32.466Z"
   },
   {
    "duration": 13,
    "start_time": "2022-04-24T09:58:30.567Z"
   },
   {
    "duration": 7,
    "start_time": "2022-04-24T09:59:05.855Z"
   },
   {
    "duration": 11,
    "start_time": "2022-04-24T10:05:00.958Z"
   },
   {
    "duration": 13,
    "start_time": "2022-04-24T10:07:50.375Z"
   },
   {
    "duration": 18,
    "start_time": "2022-04-24T10:19:19.314Z"
   },
   {
    "duration": 7,
    "start_time": "2022-04-24T10:22:12.616Z"
   },
   {
    "duration": 5,
    "start_time": "2022-04-24T10:22:31.347Z"
   },
   {
    "duration": 8,
    "start_time": "2022-04-24T10:33:17.885Z"
   },
   {
    "duration": 412,
    "start_time": "2022-04-24T10:34:08.844Z"
   },
   {
    "duration": 78,
    "start_time": "2022-04-24T10:34:11.863Z"
   },
   {
    "duration": 20,
    "start_time": "2022-04-24T10:34:19.820Z"
   },
   {
    "duration": 504,
    "start_time": "2022-04-24T10:35:06.958Z"
   },
   {
    "duration": 6,
    "start_time": "2022-04-24T10:35:18.958Z"
   },
   {
    "duration": 6,
    "start_time": "2022-04-24T10:35:45.299Z"
   },
   {
    "duration": 8,
    "start_time": "2022-04-24T10:36:54.268Z"
   },
   {
    "duration": 25,
    "start_time": "2022-04-24T10:39:47.424Z"
   },
   {
    "duration": 13,
    "start_time": "2022-04-24T10:40:08.738Z"
   },
   {
    "duration": 6,
    "start_time": "2022-04-24T10:40:46.160Z"
   },
   {
    "duration": 17,
    "start_time": "2022-04-24T10:41:57.326Z"
   },
   {
    "duration": 20,
    "start_time": "2022-04-24T10:43:15.262Z"
   },
   {
    "duration": 7,
    "start_time": "2022-04-24T10:48:36.232Z"
   },
   {
    "duration": 9,
    "start_time": "2022-04-24T10:48:42.522Z"
   },
   {
    "duration": 23,
    "start_time": "2022-04-24T11:02:02.896Z"
   },
   {
    "duration": 5,
    "start_time": "2022-04-24T11:03:38.329Z"
   },
   {
    "duration": 6,
    "start_time": "2022-04-24T11:04:56.717Z"
   },
   {
    "duration": 5,
    "start_time": "2022-04-24T11:05:08.062Z"
   },
   {
    "duration": 5,
    "start_time": "2022-04-24T11:05:23.019Z"
   },
   {
    "duration": 5,
    "start_time": "2022-04-24T11:05:35.201Z"
   },
   {
    "duration": 4,
    "start_time": "2022-04-24T11:05:41.704Z"
   },
   {
    "duration": 44,
    "start_time": "2022-04-24T13:11:07.126Z"
   },
   {
    "duration": 5,
    "start_time": "2022-04-24T13:12:11.418Z"
   },
   {
    "duration": 5,
    "start_time": "2022-04-24T13:12:43.746Z"
   },
   {
    "duration": 362,
    "start_time": "2022-04-24T13:13:13.131Z"
   },
   {
    "duration": 2,
    "start_time": "2022-04-24T13:13:14.355Z"
   },
   {
    "duration": 99,
    "start_time": "2022-04-24T13:13:18.445Z"
   },
   {
    "duration": 13,
    "start_time": "2022-04-24T13:13:26.772Z"
   },
   {
    "duration": 9,
    "start_time": "2022-04-24T13:13:29.133Z"
   },
   {
    "duration": 9,
    "start_time": "2022-04-24T13:19:25.655Z"
   },
   {
    "duration": 200,
    "start_time": "2022-04-24T13:21:22.487Z"
   },
   {
    "duration": 18,
    "start_time": "2022-04-24T13:25:32.265Z"
   },
   {
    "duration": 13,
    "start_time": "2022-04-24T13:26:36.863Z"
   },
   {
    "duration": 7,
    "start_time": "2022-04-24T13:27:03.157Z"
   },
   {
    "duration": 16,
    "start_time": "2022-04-24T13:34:56.372Z"
   },
   {
    "duration": 96,
    "start_time": "2022-04-24T13:46:43.639Z"
   },
   {
    "duration": 5,
    "start_time": "2022-04-24T13:46:55.823Z"
   },
   {
    "duration": 9,
    "start_time": "2022-04-24T13:47:01.198Z"
   },
   {
    "duration": 10,
    "start_time": "2022-04-24T13:47:07.996Z"
   },
   {
    "duration": 7,
    "start_time": "2022-04-24T13:47:59.929Z"
   },
   {
    "duration": 13,
    "start_time": "2022-04-24T13:48:28.795Z"
   },
   {
    "duration": 338,
    "start_time": "2022-04-24T14:05:03.452Z"
   },
   {
    "duration": 61,
    "start_time": "2022-04-24T14:05:28.519Z"
   },
   {
    "duration": 73,
    "start_time": "2022-04-24T14:05:41.459Z"
   },
   {
    "duration": 9,
    "start_time": "2022-04-24T14:05:53.773Z"
   },
   {
    "duration": 8,
    "start_time": "2022-04-24T14:06:49.613Z"
   },
   {
    "duration": 8,
    "start_time": "2022-04-24T14:08:06.413Z"
   },
   {
    "duration": 8,
    "start_time": "2022-04-24T14:08:38.698Z"
   },
   {
    "duration": 8,
    "start_time": "2022-04-24T14:08:55.167Z"
   },
   {
    "duration": 7,
    "start_time": "2022-04-24T14:09:14.657Z"
   },
   {
    "duration": 6,
    "start_time": "2022-04-24T14:09:56.643Z"
   },
   {
    "duration": 6,
    "start_time": "2022-04-24T14:10:32.277Z"
   },
   {
    "duration": 13,
    "start_time": "2022-04-24T14:10:36.142Z"
   },
   {
    "duration": 3,
    "start_time": "2022-04-24T14:11:03.825Z"
   },
   {
    "duration": 73,
    "start_time": "2022-04-24T14:11:06.301Z"
   },
   {
    "duration": 18,
    "start_time": "2022-04-24T14:11:08.151Z"
   },
   {
    "duration": 6,
    "start_time": "2022-04-24T14:11:13.157Z"
   },
   {
    "duration": 5,
    "start_time": "2022-04-24T14:11:15.537Z"
   },
   {
    "duration": 14,
    "start_time": "2022-04-24T14:11:19.417Z"
   },
   {
    "duration": 8,
    "start_time": "2022-04-24T14:11:31.613Z"
   },
   {
    "duration": 5,
    "start_time": "2022-04-24T14:11:33.957Z"
   },
   {
    "duration": 5,
    "start_time": "2022-04-24T14:11:38.190Z"
   },
   {
    "duration": 7,
    "start_time": "2022-04-24T14:11:42.713Z"
   },
   {
    "duration": 10,
    "start_time": "2022-04-24T14:11:49.116Z"
   },
   {
    "duration": 6,
    "start_time": "2022-04-24T14:11:52.013Z"
   },
   {
    "duration": 9,
    "start_time": "2022-04-24T14:12:06.617Z"
   },
   {
    "duration": 5,
    "start_time": "2022-04-24T14:12:24.628Z"
   },
   {
    "duration": 6,
    "start_time": "2022-04-24T14:12:27.323Z"
   },
   {
    "duration": 6,
    "start_time": "2022-04-24T14:12:35.936Z"
   },
   {
    "duration": 7,
    "start_time": "2022-04-24T14:12:39.777Z"
   },
   {
    "duration": 11,
    "start_time": "2022-04-24T14:12:41.280Z"
   },
   {
    "duration": 7,
    "start_time": "2022-04-24T14:12:52.377Z"
   },
   {
    "duration": 6,
    "start_time": "2022-04-24T14:12:56.228Z"
   },
   {
    "duration": 8,
    "start_time": "2022-04-24T14:13:11.452Z"
   },
   {
    "duration": 18,
    "start_time": "2022-04-24T14:13:23.639Z"
   },
   {
    "duration": 18,
    "start_time": "2022-04-24T14:13:25.014Z"
   },
   {
    "duration": 12,
    "start_time": "2022-04-24T14:13:28.518Z"
   },
   {
    "duration": 7,
    "start_time": "2022-04-24T14:13:42.570Z"
   },
   {
    "duration": 11,
    "start_time": "2022-04-24T14:13:44.014Z"
   },
   {
    "duration": 8,
    "start_time": "2022-04-24T14:13:50.613Z"
   },
   {
    "duration": 20,
    "start_time": "2022-04-24T14:14:10.266Z"
   },
   {
    "duration": 18,
    "start_time": "2022-04-24T14:14:20.267Z"
   },
   {
    "duration": 8,
    "start_time": "2022-04-24T14:15:20.213Z"
   },
   {
    "duration": 9,
    "start_time": "2022-04-24T14:15:29.791Z"
   },
   {
    "duration": 10,
    "start_time": "2022-04-24T14:15:37.476Z"
   },
   {
    "duration": 11,
    "start_time": "2022-04-24T14:15:44.413Z"
   },
   {
    "duration": 168,
    "start_time": "2022-04-24T16:11:14.023Z"
   },
   {
    "duration": 161,
    "start_time": "2022-04-24T16:11:42.560Z"
   },
   {
    "duration": 167,
    "start_time": "2022-04-24T16:11:49.509Z"
   },
   {
    "duration": 45,
    "start_time": "2022-04-24T16:11:55.581Z"
   },
   {
    "duration": 176,
    "start_time": "2022-04-24T16:12:19.462Z"
   },
   {
    "duration": 158,
    "start_time": "2022-04-24T16:12:36.410Z"
   },
   {
    "duration": 9,
    "start_time": "2022-04-24T16:16:03.779Z"
   },
   {
    "duration": 437,
    "start_time": "2022-04-24T16:16:22.015Z"
   },
   {
    "duration": 80,
    "start_time": "2022-04-24T16:16:22.982Z"
   },
   {
    "duration": 164,
    "start_time": "2022-04-24T16:17:01.344Z"
   },
   {
    "duration": 39,
    "start_time": "2022-04-24T16:17:20.123Z"
   },
   {
    "duration": 30,
    "start_time": "2022-04-24T16:17:36.958Z"
   },
   {
    "duration": 23,
    "start_time": "2022-04-24T16:21:25.940Z"
   },
   {
    "duration": 167,
    "start_time": "2022-04-24T16:21:46.426Z"
   },
   {
    "duration": 170,
    "start_time": "2022-04-24T16:21:55.704Z"
   },
   {
    "duration": 14,
    "start_time": "2022-04-24T16:22:41.387Z"
   },
   {
    "duration": 11,
    "start_time": "2022-04-24T16:23:47.225Z"
   },
   {
    "duration": 11,
    "start_time": "2022-04-24T16:24:19.269Z"
   },
   {
    "duration": 7,
    "start_time": "2022-04-24T16:24:57.548Z"
   },
   {
    "duration": 59,
    "start_time": "2022-04-24T17:55:22.508Z"
   },
   {
    "duration": 423,
    "start_time": "2022-04-24T17:55:32.058Z"
   },
   {
    "duration": 78,
    "start_time": "2022-04-24T17:55:33.187Z"
   },
   {
    "duration": 21,
    "start_time": "2022-04-24T17:55:40.280Z"
   },
   {
    "duration": 9,
    "start_time": "2022-04-24T18:00:49.497Z"
   },
   {
    "duration": 44,
    "start_time": "2022-04-24T18:02:04.145Z"
   },
   {
    "duration": 3,
    "start_time": "2022-04-24T18:02:18.396Z"
   },
   {
    "duration": 101,
    "start_time": "2022-04-24T18:02:19.233Z"
   },
   {
    "duration": 19,
    "start_time": "2022-04-24T18:02:19.815Z"
   },
   {
    "duration": 14,
    "start_time": "2022-04-24T18:02:21.109Z"
   },
   {
    "duration": 8,
    "start_time": "2022-04-24T18:02:21.593Z"
   },
   {
    "duration": 5,
    "start_time": "2022-04-24T18:02:22.201Z"
   },
   {
    "duration": 25,
    "start_time": "2022-04-24T18:02:22.723Z"
   },
   {
    "duration": 9,
    "start_time": "2022-04-24T18:02:23.199Z"
   },
   {
    "duration": 5,
    "start_time": "2022-04-24T18:02:23.593Z"
   },
   {
    "duration": 6,
    "start_time": "2022-04-24T18:02:24.142Z"
   },
   {
    "duration": 12,
    "start_time": "2022-04-24T18:02:24.894Z"
   },
   {
    "duration": 17,
    "start_time": "2022-04-24T18:02:25.393Z"
   },
   {
    "duration": 9,
    "start_time": "2022-04-24T18:02:26.128Z"
   },
   {
    "duration": 10,
    "start_time": "2022-04-24T18:02:26.833Z"
   },
   {
    "duration": 6,
    "start_time": "2022-04-24T18:02:26.976Z"
   },
   {
    "duration": 6,
    "start_time": "2022-04-24T18:02:27.226Z"
   },
   {
    "duration": 10,
    "start_time": "2022-04-24T18:02:27.515Z"
   },
   {
    "duration": 6,
    "start_time": "2022-04-24T18:02:30.568Z"
   },
   {
    "duration": 12,
    "start_time": "2022-04-24T18:02:30.896Z"
   },
   {
    "duration": 15,
    "start_time": "2022-04-24T18:02:31.120Z"
   },
   {
    "duration": 7,
    "start_time": "2022-04-24T18:02:31.579Z"
   },
   {
    "duration": 7,
    "start_time": "2022-04-24T18:02:32.046Z"
   },
   {
    "duration": 9,
    "start_time": "2022-04-24T18:02:32.141Z"
   },
   {
    "duration": 17,
    "start_time": "2022-04-24T18:02:32.790Z"
   },
   {
    "duration": 28,
    "start_time": "2022-04-24T18:02:33.468Z"
   },
   {
    "duration": 9,
    "start_time": "2022-04-24T18:02:34.890Z"
   },
   {
    "duration": 8,
    "start_time": "2022-04-24T18:02:35.289Z"
   },
   {
    "duration": 15,
    "start_time": "2022-04-24T18:02:35.531Z"
   },
   {
    "duration": 29,
    "start_time": "2022-04-24T18:02:36.016Z"
   },
   {
    "duration": 17,
    "start_time": "2022-04-24T18:02:36.759Z"
   },
   {
    "duration": 13,
    "start_time": "2022-04-24T18:02:38.684Z"
   },
   {
    "duration": 12,
    "start_time": "2022-04-24T18:02:48.718Z"
   },
   {
    "duration": 9,
    "start_time": "2022-04-24T18:03:24.365Z"
   },
   {
    "duration": 14,
    "start_time": "2022-04-24T18:05:16.920Z"
   },
   {
    "duration": 23,
    "start_time": "2022-04-24T18:06:06.057Z"
   },
   {
    "duration": 84,
    "start_time": "2022-04-24T18:07:12.076Z"
   },
   {
    "duration": 102,
    "start_time": "2022-04-24T18:07:22.731Z"
   },
   {
    "duration": 22,
    "start_time": "2022-04-24T18:08:04.675Z"
   },
   {
    "duration": 24,
    "start_time": "2022-04-24T18:09:09.605Z"
   },
   {
    "duration": 5,
    "start_time": "2022-04-24T18:46:19.555Z"
   },
   {
    "duration": 760,
    "start_time": "2022-04-24T18:46:44.368Z"
   },
   {
    "duration": 752,
    "start_time": "2022-04-24T18:48:20.830Z"
   },
   {
    "duration": 854,
    "start_time": "2022-04-24T18:49:14.913Z"
   },
   {
    "duration": 728,
    "start_time": "2022-04-24T18:50:32.273Z"
   },
   {
    "duration": 738,
    "start_time": "2022-04-24T18:51:05.854Z"
   },
   {
    "duration": 2452,
    "start_time": "2022-04-24T18:51:14.905Z"
   },
   {
    "duration": 15,
    "start_time": "2022-04-24T18:52:01.348Z"
   },
   {
    "duration": 3,
    "start_time": "2022-04-24T18:52:46.501Z"
   },
   {
    "duration": 85,
    "start_time": "2022-04-24T18:52:47.765Z"
   },
   {
    "duration": 12,
    "start_time": "2022-04-24T18:52:48.761Z"
   },
   {
    "duration": 10,
    "start_time": "2022-04-24T18:52:53.469Z"
   },
   {
    "duration": 7,
    "start_time": "2022-04-24T18:53:00.947Z"
   },
   {
    "duration": 5,
    "start_time": "2022-04-24T18:53:04.239Z"
   },
   {
    "duration": 17,
    "start_time": "2022-04-24T18:53:08.162Z"
   },
   {
    "duration": 7,
    "start_time": "2022-04-24T18:53:13.582Z"
   },
   {
    "duration": 4,
    "start_time": "2022-04-24T18:53:19.349Z"
   },
   {
    "duration": 6,
    "start_time": "2022-04-24T18:53:21.817Z"
   },
   {
    "duration": 7,
    "start_time": "2022-04-24T18:53:27.191Z"
   },
   {
    "duration": 11,
    "start_time": "2022-04-24T18:53:29.806Z"
   },
   {
    "duration": 5,
    "start_time": "2022-04-24T18:53:31.973Z"
   },
   {
    "duration": 16,
    "start_time": "2022-04-24T18:53:34.640Z"
   },
   {
    "duration": 7,
    "start_time": "2022-04-24T18:54:33.773Z"
   },
   {
    "duration": 16,
    "start_time": "2022-04-24T18:54:55.848Z"
   },
   {
    "duration": 7,
    "start_time": "2022-04-24T18:55:26.338Z"
   },
   {
    "duration": 6,
    "start_time": "2022-04-24T18:55:51.337Z"
   },
   {
    "duration": 758,
    "start_time": "2022-04-24T18:56:22.292Z"
   },
   {
    "duration": 12,
    "start_time": "2022-04-24T18:56:51.404Z"
   },
   {
    "duration": 2,
    "start_time": "2022-04-24T18:59:00.735Z"
   },
   {
    "duration": 80,
    "start_time": "2022-04-24T18:59:01.979Z"
   },
   {
    "duration": 12,
    "start_time": "2022-04-24T18:59:05.897Z"
   },
   {
    "duration": 15,
    "start_time": "2022-04-24T18:59:06.588Z"
   },
   {
    "duration": 8,
    "start_time": "2022-04-24T18:59:06.927Z"
   },
   {
    "duration": 5,
    "start_time": "2022-04-24T18:59:07.277Z"
   },
   {
    "duration": 14,
    "start_time": "2022-04-24T18:59:07.747Z"
   },
   {
    "duration": 9,
    "start_time": "2022-04-24T18:59:08.107Z"
   },
   {
    "duration": 5,
    "start_time": "2022-04-24T18:59:08.439Z"
   },
   {
    "duration": 5,
    "start_time": "2022-04-24T18:59:08.814Z"
   },
   {
    "duration": 10,
    "start_time": "2022-04-24T18:59:09.395Z"
   },
   {
    "duration": 17,
    "start_time": "2022-04-24T18:59:09.718Z"
   },
   {
    "duration": 7,
    "start_time": "2022-04-24T18:59:10.074Z"
   },
   {
    "duration": 8,
    "start_time": "2022-04-24T18:59:10.434Z"
   },
   {
    "duration": 6,
    "start_time": "2022-04-24T18:59:10.559Z"
   },
   {
    "duration": 6,
    "start_time": "2022-04-24T18:59:10.928Z"
   },
   {
    "duration": 7,
    "start_time": "2022-04-24T18:59:11.152Z"
   },
   {
    "duration": 6,
    "start_time": "2022-04-24T18:59:11.289Z"
   },
   {
    "duration": 7,
    "start_time": "2022-04-24T18:59:11.941Z"
   },
   {
    "duration": 15,
    "start_time": "2022-04-24T18:59:12.081Z"
   },
   {
    "duration": 7,
    "start_time": "2022-04-24T18:59:12.435Z"
   },
   {
    "duration": 5,
    "start_time": "2022-04-24T18:59:13.115Z"
   },
   {
    "duration": 7,
    "start_time": "2022-04-24T18:59:13.335Z"
   },
   {
    "duration": 26,
    "start_time": "2022-04-24T18:59:14.450Z"
   },
   {
    "duration": 28,
    "start_time": "2022-04-24T18:59:14.680Z"
   },
   {
    "duration": 10,
    "start_time": "2022-04-24T18:59:15.048Z"
   },
   {
    "duration": 9,
    "start_time": "2022-04-24T18:59:15.156Z"
   },
   {
    "duration": 15,
    "start_time": "2022-04-24T18:59:15.360Z"
   },
   {
    "duration": 33,
    "start_time": "2022-04-24T18:59:15.725Z"
   },
   {
    "duration": 29,
    "start_time": "2022-04-24T18:59:16.083Z"
   },
   {
    "duration": 9,
    "start_time": "2022-04-24T18:59:16.563Z"
   },
   {
    "duration": 12,
    "start_time": "2022-04-24T18:59:17.071Z"
   },
   {
    "duration": 12,
    "start_time": "2022-04-24T19:10:56.370Z"
   },
   {
    "duration": 6,
    "start_time": "2022-04-24T19:11:53.006Z"
   },
   {
    "duration": 8,
    "start_time": "2022-04-24T19:12:03.739Z"
   },
   {
    "duration": 744,
    "start_time": "2022-04-24T19:21:11.605Z"
   },
   {
    "duration": 11,
    "start_time": "2022-04-24T19:21:26.215Z"
   },
   {
    "duration": 15,
    "start_time": "2022-04-24T19:29:56.896Z"
   },
   {
    "duration": 12,
    "start_time": "2022-04-24T19:30:11.186Z"
   },
   {
    "duration": 14,
    "start_time": "2022-04-24T19:39:38.753Z"
   },
   {
    "duration": 12,
    "start_time": "2022-04-24T19:39:52.575Z"
   },
   {
    "duration": 28,
    "start_time": "2022-04-24T19:46:58.176Z"
   },
   {
    "duration": 25,
    "start_time": "2022-04-24T19:47:28.288Z"
   },
   {
    "duration": 25,
    "start_time": "2022-04-24T19:49:06.306Z"
   },
   {
    "duration": 23,
    "start_time": "2022-04-24T19:49:14.884Z"
   },
   {
    "duration": 23,
    "start_time": "2022-04-24T19:49:42.130Z"
   },
   {
    "duration": 25,
    "start_time": "2022-04-24T19:50:13.717Z"
   },
   {
    "duration": 22,
    "start_time": "2022-04-24T19:52:19.672Z"
   },
   {
    "duration": 29,
    "start_time": "2022-04-24T19:52:51.661Z"
   },
   {
    "duration": 15,
    "start_time": "2022-04-24T19:58:26.701Z"
   },
   {
    "duration": 22,
    "start_time": "2022-04-24T19:58:34.088Z"
   },
   {
    "duration": 18,
    "start_time": "2022-04-24T19:59:23.280Z"
   },
   {
    "duration": 7,
    "start_time": "2022-04-24T20:00:19.186Z"
   },
   {
    "duration": 23,
    "start_time": "2022-04-24T20:01:30.332Z"
   },
   {
    "duration": 13,
    "start_time": "2022-04-24T20:01:44.367Z"
   },
   {
    "duration": 16,
    "start_time": "2022-04-24T20:02:25.086Z"
   },
   {
    "duration": 12,
    "start_time": "2022-04-24T20:03:00.997Z"
   },
   {
    "duration": 199,
    "start_time": "2022-04-24T20:04:16.613Z"
   },
   {
    "duration": 22,
    "start_time": "2022-04-24T20:04:32.653Z"
   },
   {
    "duration": 15,
    "start_time": "2022-04-24T20:04:43.641Z"
   },
   {
    "duration": 17,
    "start_time": "2022-04-24T20:06:43.084Z"
   },
   {
    "duration": 25,
    "start_time": "2022-04-24T20:08:01.126Z"
   },
   {
    "duration": 35,
    "start_time": "2022-04-24T20:09:32.250Z"
   },
   {
    "duration": 25,
    "start_time": "2022-04-24T20:12:32.637Z"
   },
   {
    "duration": 21,
    "start_time": "2022-04-24T20:15:27.276Z"
   },
   {
    "duration": 38,
    "start_time": "2022-04-24T20:16:35.965Z"
   },
   {
    "duration": 23,
    "start_time": "2022-04-24T20:17:13.650Z"
   },
   {
    "duration": 14,
    "start_time": "2022-04-24T20:18:36.515Z"
   },
   {
    "duration": 13,
    "start_time": "2022-04-24T20:18:53.653Z"
   },
   {
    "duration": 22,
    "start_time": "2022-04-24T20:19:32.295Z"
   },
   {
    "duration": 18,
    "start_time": "2022-04-24T20:20:40.340Z"
   },
   {
    "duration": 14,
    "start_time": "2022-04-24T20:21:11.901Z"
   },
   {
    "duration": 15,
    "start_time": "2022-04-24T20:23:03.968Z"
   },
   {
    "duration": 33,
    "start_time": "2022-04-24T20:23:41.849Z"
   },
   {
    "duration": 15,
    "start_time": "2022-04-24T20:24:00.280Z"
   },
   {
    "duration": 15,
    "start_time": "2022-04-24T20:24:14.658Z"
   },
   {
    "duration": 8,
    "start_time": "2022-04-24T20:34:02.499Z"
   },
   {
    "duration": 15,
    "start_time": "2022-04-24T20:34:13.215Z"
   },
   {
    "duration": 722,
    "start_time": "2022-04-24T20:35:07.598Z"
   },
   {
    "duration": 342,
    "start_time": "2022-04-24T20:35:19.851Z"
   },
   {
    "duration": 23,
    "start_time": "2022-04-24T20:35:38.876Z"
   },
   {
    "duration": 30,
    "start_time": "2022-04-24T20:48:16.801Z"
   },
   {
    "duration": 20,
    "start_time": "2022-04-24T20:48:27.922Z"
   },
   {
    "duration": 370,
    "start_time": "2022-04-24T21:09:13.056Z"
   },
   {
    "duration": 72,
    "start_time": "2022-04-24T21:09:14.091Z"
   },
   {
    "duration": 18,
    "start_time": "2022-04-24T21:09:15.242Z"
   },
   {
    "duration": 9,
    "start_time": "2022-04-24T21:09:20.159Z"
   },
   {
    "duration": 7,
    "start_time": "2022-04-24T21:09:40.604Z"
   },
   {
    "duration": 5,
    "start_time": "2022-04-24T21:09:43.357Z"
   },
   {
    "duration": 18,
    "start_time": "2022-04-24T21:09:46.463Z"
   },
   {
    "duration": 8,
    "start_time": "2022-04-24T21:09:49.492Z"
   },
   {
    "duration": 4,
    "start_time": "2022-04-24T21:09:51.934Z"
   },
   {
    "duration": 4,
    "start_time": "2022-04-24T21:09:54.435Z"
   },
   {
    "duration": 7,
    "start_time": "2022-04-24T21:10:06.752Z"
   },
   {
    "duration": 10,
    "start_time": "2022-04-24T21:10:15.818Z"
   },
   {
    "duration": 5,
    "start_time": "2022-04-24T21:10:19.925Z"
   },
   {
    "duration": 8,
    "start_time": "2022-04-24T21:10:46.314Z"
   },
   {
    "duration": 5,
    "start_time": "2022-04-24T21:10:47.406Z"
   },
   {
    "duration": 5,
    "start_time": "2022-04-24T21:10:54.796Z"
   },
   {
    "duration": 6,
    "start_time": "2022-04-24T21:10:56.175Z"
   },
   {
    "duration": 6,
    "start_time": "2022-04-24T21:10:59.916Z"
   },
   {
    "duration": 7,
    "start_time": "2022-04-24T21:11:01.417Z"
   },
   {
    "duration": 12,
    "start_time": "2022-04-24T21:11:14.791Z"
   },
   {
    "duration": 7,
    "start_time": "2022-04-24T21:11:17.983Z"
   },
   {
    "duration": 5,
    "start_time": "2022-04-24T21:11:19.286Z"
   },
   {
    "duration": 9,
    "start_time": "2022-04-24T21:11:20.565Z"
   },
   {
    "duration": 17,
    "start_time": "2022-04-24T21:11:29.446Z"
   },
   {
    "duration": 28,
    "start_time": "2022-04-24T21:11:30.552Z"
   },
   {
    "duration": 8,
    "start_time": "2022-04-24T21:11:34.578Z"
   },
   {
    "duration": 8,
    "start_time": "2022-04-24T21:11:35.642Z"
   },
   {
    "duration": 13,
    "start_time": "2022-04-24T21:11:36.929Z"
   },
   {
    "duration": 19,
    "start_time": "2022-04-24T21:11:39.269Z"
   },
   {
    "duration": 16,
    "start_time": "2022-04-24T21:11:41.383Z"
   },
   {
    "duration": 10,
    "start_time": "2022-04-24T21:11:45.353Z"
   },
   {
    "duration": 11,
    "start_time": "2022-04-24T21:11:54.002Z"
   },
   {
    "duration": 8,
    "start_time": "2022-04-24T21:12:14.737Z"
   },
   {
    "duration": 18,
    "start_time": "2022-04-24T21:12:24.366Z"
   },
   {
    "duration": 13,
    "start_time": "2022-04-24T21:12:48.566Z"
   },
   {
    "duration": 13,
    "start_time": "2022-04-24T21:13:10.271Z"
   },
   {
    "duration": 424,
    "start_time": "2022-05-01T07:33:09.964Z"
   },
   {
    "duration": 75,
    "start_time": "2022-05-01T07:33:10.390Z"
   },
   {
    "duration": 20,
    "start_time": "2022-05-01T07:33:10.467Z"
   },
   {
    "duration": 10,
    "start_time": "2022-05-01T07:33:10.488Z"
   },
   {
    "duration": 6,
    "start_time": "2022-05-01T07:33:10.500Z"
   },
   {
    "duration": 6,
    "start_time": "2022-05-01T07:33:10.508Z"
   },
   {
    "duration": 50,
    "start_time": "2022-05-01T07:33:10.515Z"
   },
   {
    "duration": 7,
    "start_time": "2022-05-01T07:33:10.567Z"
   },
   {
    "duration": 5,
    "start_time": "2022-05-01T07:33:10.575Z"
   },
   {
    "duration": 14,
    "start_time": "2022-05-01T07:33:24.173Z"
   },
   {
    "duration": 7,
    "start_time": "2022-05-01T07:33:38.102Z"
   },
   {
    "duration": 21,
    "start_time": "2022-05-01T07:33:40.091Z"
   },
   {
    "duration": 678,
    "start_time": "2022-05-01T10:42:24.417Z"
   },
   {
    "duration": 137,
    "start_time": "2022-05-01T10:42:25.555Z"
   },
   {
    "duration": 46,
    "start_time": "2022-05-01T10:42:27.119Z"
   },
   {
    "duration": 20,
    "start_time": "2022-05-01T10:42:32.661Z"
   },
   {
    "duration": 96,
    "start_time": "2022-05-01T10:43:41.341Z"
   },
   {
    "duration": 12,
    "start_time": "2022-05-01T10:44:00.869Z"
   },
   {
    "duration": 5,
    "start_time": "2022-05-01T10:45:09.398Z"
   },
   {
    "duration": 11,
    "start_time": "2022-05-01T10:45:24.587Z"
   },
   {
    "duration": 32,
    "start_time": "2022-05-01T10:45:37.520Z"
   },
   {
    "duration": 100,
    "start_time": "2022-05-01T10:49:53.764Z"
   },
   {
    "duration": 122,
    "start_time": "2022-05-01T10:50:06.214Z"
   },
   {
    "duration": 107,
    "start_time": "2022-05-01T10:50:16.386Z"
   },
   {
    "duration": 114,
    "start_time": "2022-05-01T10:50:21.963Z"
   },
   {
    "duration": 96,
    "start_time": "2022-05-01T10:50:49.896Z"
   },
   {
    "duration": 110,
    "start_time": "2022-05-01T10:50:56.588Z"
   },
   {
    "duration": 32,
    "start_time": "2022-05-01T10:53:31.846Z"
   },
   {
    "duration": 67,
    "start_time": "2022-05-01T10:54:10.088Z"
   },
   {
    "duration": 31,
    "start_time": "2022-05-01T10:54:34.574Z"
   },
   {
    "duration": 25,
    "start_time": "2022-05-01T10:55:13.195Z"
   },
   {
    "duration": 104,
    "start_time": "2022-05-01T10:55:22.185Z"
   },
   {
    "duration": 20,
    "start_time": "2022-05-01T10:58:51.362Z"
   },
   {
    "duration": 19,
    "start_time": "2022-05-01T11:02:52.546Z"
   },
   {
    "duration": 35,
    "start_time": "2022-05-01T11:03:27.042Z"
   },
   {
    "duration": 14,
    "start_time": "2022-05-01T11:03:38.395Z"
   },
   {
    "duration": 9,
    "start_time": "2022-05-01T11:05:48.705Z"
   },
   {
    "duration": 53,
    "start_time": "2022-05-01T11:05:57.742Z"
   },
   {
    "duration": 12,
    "start_time": "2022-05-01T11:06:56.547Z"
   },
   {
    "duration": 1160,
    "start_time": "2022-05-01T11:07:05.162Z"
   },
   {
    "duration": 29,
    "start_time": "2022-05-01T11:07:23.660Z"
   },
   {
    "duration": 111,
    "start_time": "2022-05-01T11:07:48.271Z"
   },
   {
    "duration": 13,
    "start_time": "2022-05-01T11:07:56.405Z"
   },
   {
    "duration": 14,
    "start_time": "2022-05-01T11:12:19.915Z"
   },
   {
    "duration": 31,
    "start_time": "2022-05-01T11:13:13.368Z"
   },
   {
    "duration": 17,
    "start_time": "2022-05-01T11:22:42.027Z"
   },
   {
    "duration": 82,
    "start_time": "2022-05-01T11:23:27.446Z"
   },
   {
    "duration": 4,
    "start_time": "2022-05-01T11:25:09.517Z"
   },
   {
    "duration": 107,
    "start_time": "2022-05-01T11:25:09.525Z"
   },
   {
    "duration": 27,
    "start_time": "2022-05-01T11:25:09.635Z"
   },
   {
    "duration": 21,
    "start_time": "2022-05-01T11:25:13.099Z"
   },
   {
    "duration": 15,
    "start_time": "2022-05-01T11:25:15.554Z"
   },
   {
    "duration": 50,
    "start_time": "2022-05-01T11:25:19.079Z"
   },
   {
    "duration": 50,
    "start_time": "2022-05-01T11:25:42.075Z"
   },
   {
    "duration": 14,
    "start_time": "2022-05-01T11:25:44.683Z"
   },
   {
    "duration": 22,
    "start_time": "2022-05-01T11:25:46.791Z"
   },
   {
    "duration": 50,
    "start_time": "2022-05-01T11:26:00.080Z"
   },
   {
    "duration": 49,
    "start_time": "2022-05-01T11:26:17.105Z"
   },
   {
    "duration": 4,
    "start_time": "2022-05-01T11:27:48.515Z"
   },
   {
    "duration": 139,
    "start_time": "2022-05-01T11:27:49.241Z"
   },
   {
    "duration": 28,
    "start_time": "2022-05-01T11:27:49.973Z"
   },
   {
    "duration": 23,
    "start_time": "2022-05-01T11:27:53.904Z"
   },
   {
    "duration": 13,
    "start_time": "2022-05-01T11:27:56.304Z"
   },
   {
    "duration": 50,
    "start_time": "2022-05-01T11:27:59.433Z"
   },
   {
    "duration": 19,
    "start_time": "2022-05-01T11:28:00.669Z"
   },
   {
    "duration": 30,
    "start_time": "2022-05-01T11:28:01.898Z"
   },
   {
    "duration": 73,
    "start_time": "2022-05-01T11:28:02.968Z"
   },
   {
    "duration": 67,
    "start_time": "2022-05-01T11:28:26.214Z"
   },
   {
    "duration": 35,
    "start_time": "2022-05-01T11:28:45.406Z"
   },
   {
    "duration": 47,
    "start_time": "2022-05-01T11:28:55.634Z"
   },
   {
    "duration": 80,
    "start_time": "2022-05-01T11:29:28.026Z"
   },
   {
    "duration": 31,
    "start_time": "2022-05-01T11:30:03.376Z"
   },
   {
    "duration": 31,
    "start_time": "2022-05-01T11:32:56.759Z"
   },
   {
    "duration": 5,
    "start_time": "2022-05-01T11:33:38.879Z"
   },
   {
    "duration": 147,
    "start_time": "2022-05-01T11:33:39.034Z"
   },
   {
    "duration": 41,
    "start_time": "2022-05-01T11:33:39.240Z"
   },
   {
    "duration": 27,
    "start_time": "2022-05-01T11:33:40.161Z"
   },
   {
    "duration": 13,
    "start_time": "2022-05-01T11:33:40.558Z"
   },
   {
    "duration": 58,
    "start_time": "2022-05-01T11:33:41.129Z"
   },
   {
    "duration": 17,
    "start_time": "2022-05-01T11:33:42.196Z"
   },
   {
    "duration": 34,
    "start_time": "2022-05-01T11:33:43.258Z"
   },
   {
    "duration": 89,
    "start_time": "2022-05-01T11:33:44.214Z"
   },
   {
    "duration": 69,
    "start_time": "2022-05-01T11:34:57.167Z"
   },
   {
    "duration": 72,
    "start_time": "2022-05-01T11:38:41.912Z"
   },
   {
    "duration": 49,
    "start_time": "2022-05-01T11:39:18.121Z"
   },
   {
    "duration": 612,
    "start_time": "2022-05-01T11:41:36.243Z"
   },
   {
    "duration": 4,
    "start_time": "2022-05-01T11:42:20.691Z"
   },
   {
    "duration": 105,
    "start_time": "2022-05-01T11:42:21.690Z"
   },
   {
    "duration": 507,
    "start_time": "2022-05-01T11:42:39.343Z"
   },
   {
    "duration": 783,
    "start_time": "2022-05-01T11:43:01.474Z"
   },
   {
    "duration": 772,
    "start_time": "2022-05-01T11:43:21.377Z"
   },
   {
    "duration": 4,
    "start_time": "2022-05-01T11:44:18.387Z"
   },
   {
    "duration": 135,
    "start_time": "2022-05-01T11:44:19.359Z"
   },
   {
    "duration": 16,
    "start_time": "2022-05-01T11:55:51.349Z"
   },
   {
    "duration": 74,
    "start_time": "2022-05-01T11:56:32.314Z"
   },
   {
    "duration": 147,
    "start_time": "2022-05-01T11:57:15.820Z"
   },
   {
    "duration": 89,
    "start_time": "2022-05-01T11:57:37.959Z"
   },
   {
    "duration": 1829,
    "start_time": "2022-05-01T11:58:01.105Z"
   },
   {
    "duration": 165,
    "start_time": "2022-05-01T11:58:11.614Z"
   },
   {
    "duration": 105,
    "start_time": "2022-05-01T11:58:46.880Z"
   },
   {
    "duration": 145,
    "start_time": "2022-05-01T12:01:22.764Z"
   },
   {
    "duration": 20,
    "start_time": "2022-05-01T12:01:23.799Z"
   },
   {
    "duration": 22,
    "start_time": "2022-05-01T12:01:27.390Z"
   },
   {
    "duration": 12,
    "start_time": "2022-05-01T12:01:34.978Z"
   },
   {
    "duration": 4,
    "start_time": "2022-05-01T12:01:47.540Z"
   },
   {
    "duration": 8,
    "start_time": "2022-05-01T12:01:55.107Z"
   },
   {
    "duration": 127,
    "start_time": "2022-05-01T12:02:16.490Z"
   },
   {
    "duration": 110,
    "start_time": "2022-05-01T12:02:53.709Z"
   },
   {
    "duration": 4,
    "start_time": "2022-05-01T12:05:48.130Z"
   },
   {
    "duration": 142,
    "start_time": "2022-05-01T12:05:48.904Z"
   },
   {
    "duration": 28,
    "start_time": "2022-05-01T12:05:49.693Z"
   },
   {
    "duration": 14,
    "start_time": "2022-05-01T12:05:52.773Z"
   },
   {
    "duration": 15,
    "start_time": "2022-05-01T12:05:57.244Z"
   },
   {
    "duration": 4,
    "start_time": "2022-05-01T12:06:00.185Z"
   },
   {
    "duration": 12,
    "start_time": "2022-05-01T12:15:12.982Z"
   },
   {
    "duration": 20,
    "start_time": "2022-05-01T12:15:24.372Z"
   },
   {
    "duration": 10,
    "start_time": "2022-05-01T12:16:12.415Z"
   },
   {
    "duration": 444,
    "start_time": "2022-05-01T12:22:45.655Z"
   },
   {
    "duration": 34,
    "start_time": "2022-05-01T12:23:48.807Z"
   },
   {
    "duration": 35,
    "start_time": "2022-05-01T12:26:13.222Z"
   },
   {
    "duration": 25,
    "start_time": "2022-05-01T12:27:36.232Z"
   },
   {
    "duration": 21,
    "start_time": "2022-05-01T12:27:59.196Z"
   },
   {
    "duration": 39,
    "start_time": "2022-05-01T12:29:53.369Z"
   },
   {
    "duration": 40,
    "start_time": "2022-05-01T12:30:11.039Z"
   },
   {
    "duration": 4,
    "start_time": "2022-05-01T12:35:34.137Z"
   },
   {
    "duration": 144,
    "start_time": "2022-05-01T12:35:34.959Z"
   },
   {
    "duration": 27,
    "start_time": "2022-05-01T12:35:40.851Z"
   },
   {
    "duration": 20,
    "start_time": "2022-05-01T12:35:51.407Z"
   },
   {
    "duration": 11,
    "start_time": "2022-05-01T12:35:54.183Z"
   },
   {
    "duration": 3,
    "start_time": "2022-05-01T12:35:57.649Z"
   },
   {
    "duration": 104,
    "start_time": "2022-05-01T12:35:58.603Z"
   },
   {
    "duration": 25,
    "start_time": "2022-05-01T12:36:12.914Z"
   },
   {
    "duration": 14,
    "start_time": "2022-05-01T12:36:23.546Z"
   },
   {
    "duration": 8,
    "start_time": "2022-05-01T12:39:20.299Z"
   },
   {
    "duration": 8,
    "start_time": "2022-05-01T12:40:08.772Z"
   },
   {
    "duration": 11,
    "start_time": "2022-05-01T12:45:18.347Z"
   },
   {
    "duration": 36,
    "start_time": "2022-05-01T12:54:42.675Z"
   },
   {
    "duration": 31,
    "start_time": "2022-05-01T12:55:15.373Z"
   },
   {
    "duration": 99,
    "start_time": "2022-05-01T13:00:17.102Z"
   },
   {
    "duration": 113,
    "start_time": "2022-05-01T13:01:43.122Z"
   },
   {
    "duration": 79,
    "start_time": "2022-05-01T13:02:40.030Z"
   },
   {
    "duration": 220,
    "start_time": "2022-05-01T13:02:51.912Z"
   },
   {
    "duration": 203,
    "start_time": "2022-05-01T13:03:02.736Z"
   },
   {
    "duration": 681,
    "start_time": "2022-05-01T13:03:27.004Z"
   },
   {
    "duration": 139,
    "start_time": "2022-05-01T13:03:27.851Z"
   },
   {
    "duration": 48,
    "start_time": "2022-05-01T13:03:31.111Z"
   },
   {
    "duration": 44,
    "start_time": "2022-05-01T13:03:35.262Z"
   },
   {
    "duration": 10,
    "start_time": "2022-05-01T13:03:38.909Z"
   },
   {
    "duration": 4,
    "start_time": "2022-05-01T13:03:42.677Z"
   },
   {
    "duration": 105,
    "start_time": "2022-05-01T13:03:43.809Z"
   },
   {
    "duration": 43,
    "start_time": "2022-05-01T13:04:17.505Z"
   },
   {
    "duration": 17,
    "start_time": "2022-05-01T13:04:42.232Z"
   },
   {
    "duration": 13,
    "start_time": "2022-05-01T13:04:44.998Z"
   },
   {
    "duration": 185,
    "start_time": "2022-05-01T13:06:50.598Z"
   },
   {
    "duration": 134,
    "start_time": "2022-05-01T13:07:44.887Z"
   },
   {
    "duration": 44,
    "start_time": "2022-05-01T13:08:06.604Z"
   },
   {
    "duration": 60,
    "start_time": "2022-05-01T13:09:32.823Z"
   },
   {
    "duration": 9,
    "start_time": "2022-05-01T13:13:08.220Z"
   },
   {
    "duration": 9,
    "start_time": "2022-05-01T13:13:57.407Z"
   },
   {
    "duration": 13,
    "start_time": "2022-05-01T13:13:59.185Z"
   },
   {
    "duration": 117,
    "start_time": "2022-05-01T13:47:38.376Z"
   },
   {
    "duration": 11,
    "start_time": "2022-05-01T13:47:58.051Z"
   },
   {
    "duration": 35,
    "start_time": "2022-05-01T13:48:30.925Z"
   },
   {
    "duration": 9,
    "start_time": "2022-05-01T13:49:48.209Z"
   },
   {
    "duration": 12,
    "start_time": "2022-05-01T13:49:57.531Z"
   },
   {
    "duration": 9,
    "start_time": "2022-05-01T13:50:35.523Z"
   },
   {
    "duration": 13,
    "start_time": "2022-05-01T13:50:36.689Z"
   },
   {
    "duration": 9,
    "start_time": "2022-05-01T13:50:37.593Z"
   },
   {
    "duration": 19,
    "start_time": "2022-05-01T13:50:38.730Z"
   },
   {
    "duration": 42,
    "start_time": "2022-05-01T13:50:40.071Z"
   },
   {
    "duration": 13,
    "start_time": "2022-05-01T13:50:52.440Z"
   },
   {
    "duration": 14,
    "start_time": "2022-05-01T13:50:53.601Z"
   },
   {
    "duration": 11,
    "start_time": "2022-05-01T13:50:54.830Z"
   },
   {
    "duration": 39,
    "start_time": "2022-05-01T13:51:01.062Z"
   },
   {
    "duration": 43,
    "start_time": "2022-05-01T13:51:03.240Z"
   },
   {
    "duration": 15,
    "start_time": "2022-05-01T13:51:52.381Z"
   },
   {
    "duration": 18,
    "start_time": "2022-05-01T13:52:06.708Z"
   },
   {
    "duration": 38,
    "start_time": "2022-05-01T13:58:13.782Z"
   },
   {
    "duration": 625,
    "start_time": "2022-05-01T13:59:56.027Z"
   },
   {
    "duration": 109,
    "start_time": "2022-05-01T13:59:57.001Z"
   },
   {
    "duration": 46,
    "start_time": "2022-05-01T13:59:58.275Z"
   },
   {
    "duration": 20,
    "start_time": "2022-05-01T14:00:01.902Z"
   },
   {
    "duration": 12,
    "start_time": "2022-05-01T14:00:04.940Z"
   },
   {
    "duration": 4,
    "start_time": "2022-05-01T14:00:07.743Z"
   },
   {
    "duration": 83,
    "start_time": "2022-05-01T14:00:09.146Z"
   },
   {
    "duration": 29,
    "start_time": "2022-05-01T14:00:18.729Z"
   },
   {
    "duration": 12,
    "start_time": "2022-05-01T14:00:23.064Z"
   },
   {
    "duration": 9,
    "start_time": "2022-05-01T14:00:27.827Z"
   },
   {
    "duration": 3,
    "start_time": "2022-05-01T14:01:18.493Z"
   },
   {
    "duration": 29,
    "start_time": "2022-05-01T14:01:20.250Z"
   },
   {
    "duration": 81,
    "start_time": "2022-05-01T14:01:21.677Z"
   },
   {
    "duration": 8,
    "start_time": "2022-05-01T14:01:35.815Z"
   },
   {
    "duration": 19,
    "start_time": "2022-05-01T14:01:37.989Z"
   },
   {
    "duration": 18,
    "start_time": "2022-05-01T14:01:46.213Z"
   },
   {
    "duration": 20,
    "start_time": "2022-05-01T14:01:48.869Z"
   },
   {
    "duration": 11,
    "start_time": "2022-05-01T14:01:50.631Z"
   },
   {
    "duration": 13,
    "start_time": "2022-05-01T14:02:03.726Z"
   },
   {
    "duration": 15,
    "start_time": "2022-05-01T14:02:12.315Z"
   },
   {
    "duration": 15,
    "start_time": "2022-05-01T14:02:13.481Z"
   },
   {
    "duration": 13,
    "start_time": "2022-05-01T14:02:14.842Z"
   },
   {
    "duration": 11,
    "start_time": "2022-05-01T14:02:19.310Z"
   },
   {
    "duration": 13,
    "start_time": "2022-05-01T14:02:40.497Z"
   },
   {
    "duration": 28,
    "start_time": "2022-05-01T14:02:45.209Z"
   },
   {
    "duration": 14,
    "start_time": "2022-05-01T14:02:49.635Z"
   },
   {
    "duration": 8,
    "start_time": "2022-05-01T14:02:51.341Z"
   },
   {
    "duration": 10,
    "start_time": "2022-05-01T14:02:54.156Z"
   },
   {
    "duration": 35,
    "start_time": "2022-05-01T14:02:56.898Z"
   },
   {
    "duration": 33,
    "start_time": "2022-05-01T14:02:59.516Z"
   },
   {
    "duration": 11,
    "start_time": "2022-05-01T14:03:25.765Z"
   },
   {
    "duration": 12,
    "start_time": "2022-05-01T14:03:27.011Z"
   },
   {
    "duration": 21,
    "start_time": "2022-05-01T14:03:30.651Z"
   },
   {
    "duration": 38,
    "start_time": "2022-05-01T14:03:44.670Z"
   },
   {
    "duration": 28,
    "start_time": "2022-05-01T14:03:47.656Z"
   },
   {
    "duration": 16,
    "start_time": "2022-05-01T14:04:42.650Z"
   },
   {
    "duration": 3,
    "start_time": "2022-05-01T14:04:55.968Z"
   },
   {
    "duration": 109,
    "start_time": "2022-05-01T14:08:53.731Z"
   },
   {
    "duration": 132,
    "start_time": "2022-05-01T14:09:04.546Z"
   },
   {
    "duration": 319,
    "start_time": "2022-05-01T14:10:18.740Z"
   },
   {
    "duration": 151,
    "start_time": "2022-05-01T14:10:46.616Z"
   },
   {
    "duration": 47,
    "start_time": "2022-05-01T14:11:11.855Z"
   },
   {
    "duration": 36,
    "start_time": "2022-05-01T14:11:33.218Z"
   },
   {
    "duration": 21,
    "start_time": "2022-05-01T14:11:42.086Z"
   },
   {
    "duration": 16,
    "start_time": "2022-05-01T14:11:51.304Z"
   },
   {
    "duration": 44,
    "start_time": "2022-05-01T14:12:22.581Z"
   },
   {
    "duration": 13,
    "start_time": "2022-05-01T14:15:39.026Z"
   },
   {
    "duration": 48,
    "start_time": "2022-05-01T14:15:45.849Z"
   },
   {
    "duration": 991,
    "start_time": "2022-05-01T14:20:35.958Z"
   },
   {
    "duration": 7,
    "start_time": "2022-05-01T14:21:22.988Z"
   },
   {
    "duration": 59,
    "start_time": "2022-05-01T14:21:37.190Z"
   },
   {
    "duration": 17,
    "start_time": "2022-05-01T14:25:00.420Z"
   },
   {
    "duration": 67,
    "start_time": "2022-05-01T14:25:13.709Z"
   },
   {
    "duration": 5,
    "start_time": "2022-05-01T14:32:27.961Z"
   },
   {
    "duration": 12,
    "start_time": "2022-05-01T14:32:53.609Z"
   },
   {
    "duration": 18,
    "start_time": "2022-05-01T14:33:12.660Z"
   },
   {
    "duration": 52,
    "start_time": "2022-05-01T14:33:26.151Z"
   },
   {
    "duration": 38,
    "start_time": "2022-05-01T14:33:38.441Z"
   },
   {
    "duration": 39,
    "start_time": "2022-05-01T14:34:05.901Z"
   },
   {
    "duration": 6,
    "start_time": "2022-05-01T14:34:22.729Z"
   },
   {
    "duration": 55,
    "start_time": "2022-05-01T14:34:26.713Z"
   },
   {
    "duration": 6,
    "start_time": "2022-05-01T14:34:33.536Z"
   },
   {
    "duration": 53,
    "start_time": "2022-05-01T14:34:34.440Z"
   },
   {
    "duration": 55,
    "start_time": "2022-05-01T14:34:45.569Z"
   },
   {
    "duration": 128,
    "start_time": "2022-05-01T14:34:57.147Z"
   },
   {
    "duration": 139,
    "start_time": "2022-05-01T14:35:40.439Z"
   },
   {
    "duration": 11,
    "start_time": "2022-05-01T14:35:52.064Z"
   },
   {
    "duration": 40,
    "start_time": "2022-05-01T14:36:54.137Z"
   },
   {
    "duration": 6,
    "start_time": "2022-05-01T14:36:58.708Z"
   },
   {
    "duration": 48,
    "start_time": "2022-05-01T14:36:59.624Z"
   },
   {
    "duration": 11,
    "start_time": "2022-05-01T14:37:16.579Z"
   },
   {
    "duration": 80,
    "start_time": "2022-05-01T14:37:18.009Z"
   },
   {
    "duration": 4,
    "start_time": "2022-05-01T14:39:17.240Z"
   },
   {
    "duration": 9,
    "start_time": "2022-05-01T14:39:57.645Z"
   },
   {
    "duration": 5,
    "start_time": "2022-05-01T14:40:31.132Z"
   },
   {
    "duration": 66,
    "start_time": "2022-05-01T14:40:32.168Z"
   },
   {
    "duration": 3,
    "start_time": "2022-05-01T14:40:49.029Z"
   },
   {
    "duration": 56,
    "start_time": "2022-05-01T14:40:51.904Z"
   },
   {
    "duration": 42,
    "start_time": "2022-05-01T14:43:14.835Z"
   },
   {
    "duration": 72,
    "start_time": "2022-05-01T14:43:37.807Z"
   },
   {
    "duration": 99,
    "start_time": "2022-05-01T14:44:00.945Z"
   },
   {
    "duration": 638,
    "start_time": "2022-05-01T14:44:10.193Z"
   },
   {
    "duration": 109,
    "start_time": "2022-05-01T14:44:10.968Z"
   },
   {
    "duration": 46,
    "start_time": "2022-05-01T14:44:11.926Z"
   },
   {
    "duration": 19,
    "start_time": "2022-05-01T14:44:19.150Z"
   },
   {
    "duration": 10,
    "start_time": "2022-05-01T14:44:22.221Z"
   },
   {
    "duration": 7,
    "start_time": "2022-05-01T14:44:24.784Z"
   },
   {
    "duration": 108,
    "start_time": "2022-05-01T14:44:25.242Z"
   },
   {
    "duration": 50,
    "start_time": "2022-05-01T14:44:27.543Z"
   },
   {
    "duration": 13,
    "start_time": "2022-05-01T14:44:29.160Z"
   },
   {
    "duration": 10,
    "start_time": "2022-05-01T14:44:30.513Z"
   },
   {
    "duration": 5,
    "start_time": "2022-05-01T14:44:31.807Z"
   },
   {
    "duration": 31,
    "start_time": "2022-05-01T14:44:32.458Z"
   },
   {
    "duration": 77,
    "start_time": "2022-05-01T14:44:33.073Z"
   },
   {
    "duration": 9,
    "start_time": "2022-05-01T14:44:35.955Z"
   },
   {
    "duration": 7,
    "start_time": "2022-05-01T14:44:38.834Z"
   },
   {
    "duration": 14,
    "start_time": "2022-05-01T14:44:41.683Z"
   },
   {
    "duration": 23,
    "start_time": "2022-05-01T14:44:43.168Z"
   },
   {
    "duration": 16,
    "start_time": "2022-05-01T14:44:44.463Z"
   },
   {
    "duration": 13,
    "start_time": "2022-05-01T14:44:46.418Z"
   },
   {
    "duration": 16,
    "start_time": "2022-05-01T14:44:48.395Z"
   },
   {
    "duration": 8,
    "start_time": "2022-05-01T14:44:49.251Z"
   },
   {
    "duration": 11,
    "start_time": "2022-05-01T14:44:50.519Z"
   },
   {
    "duration": 9,
    "start_time": "2022-05-01T14:44:51.707Z"
   },
   {
    "duration": 10,
    "start_time": "2022-05-01T14:44:52.556Z"
   },
   {
    "duration": 33,
    "start_time": "2022-05-01T14:44:53.861Z"
   },
   {
    "duration": 16,
    "start_time": "2022-05-01T14:44:55.379Z"
   },
   {
    "duration": 9,
    "start_time": "2022-05-01T14:44:56.025Z"
   },
   {
    "duration": 14,
    "start_time": "2022-05-01T14:44:56.749Z"
   },
   {
    "duration": 35,
    "start_time": "2022-05-01T14:44:58.296Z"
   },
   {
    "duration": 51,
    "start_time": "2022-05-01T14:45:00.573Z"
   },
   {
    "duration": 16,
    "start_time": "2022-05-01T14:45:04.131Z"
   },
   {
    "duration": 20,
    "start_time": "2022-05-01T14:45:05.295Z"
   },
   {
    "duration": 29,
    "start_time": "2022-05-01T14:45:06.145Z"
   },
   {
    "duration": 53,
    "start_time": "2022-05-01T14:45:08.686Z"
   },
   {
    "duration": 46,
    "start_time": "2022-05-01T14:45:12.007Z"
   },
   {
    "duration": 19,
    "start_time": "2022-05-01T14:45:16.573Z"
   },
   {
    "duration": 4,
    "start_time": "2022-05-01T14:45:44.723Z"
   },
   {
    "duration": 3,
    "start_time": "2022-05-01T14:45:48.076Z"
   },
   {
    "duration": 6,
    "start_time": "2022-05-01T14:45:51.702Z"
   },
   {
    "duration": 62,
    "start_time": "2022-05-01T14:45:53.069Z"
   },
   {
    "duration": 5,
    "start_time": "2022-05-01T14:46:06.292Z"
   },
   {
    "duration": 63,
    "start_time": "2022-05-01T14:46:10.464Z"
   },
   {
    "duration": 54,
    "start_time": "2022-05-01T14:47:25.957Z"
   },
   {
    "duration": 76,
    "start_time": "2022-05-01T14:47:45.965Z"
   },
   {
    "duration": 70,
    "start_time": "2022-05-01T14:48:15.820Z"
   },
   {
    "duration": 64,
    "start_time": "2022-05-01T14:48:25.791Z"
   },
   {
    "duration": 78,
    "start_time": "2022-05-01T14:48:54.941Z"
   },
   {
    "duration": 79,
    "start_time": "2022-05-01T14:49:08.166Z"
   },
   {
    "duration": 59,
    "start_time": "2022-05-01T14:49:40.809Z"
   },
   {
    "duration": 78,
    "start_time": "2022-05-01T14:49:52.734Z"
   },
   {
    "duration": 4,
    "start_time": "2022-05-01T14:50:50.321Z"
   },
   {
    "duration": 132,
    "start_time": "2022-05-01T14:50:51.109Z"
   },
   {
    "duration": 19,
    "start_time": "2022-05-01T14:50:51.929Z"
   },
   {
    "duration": 20,
    "start_time": "2022-05-01T14:50:52.824Z"
   },
   {
    "duration": 17,
    "start_time": "2022-05-01T14:50:53.117Z"
   },
   {
    "duration": 3,
    "start_time": "2022-05-01T14:50:53.628Z"
   },
   {
    "duration": 77,
    "start_time": "2022-05-01T14:50:53.809Z"
   },
   {
    "duration": 24,
    "start_time": "2022-05-01T14:50:54.723Z"
   },
   {
    "duration": 10,
    "start_time": "2022-05-01T14:50:55.058Z"
   },
   {
    "duration": 10,
    "start_time": "2022-05-01T14:50:55.465Z"
   },
   {
    "duration": 3,
    "start_time": "2022-05-01T14:50:55.784Z"
   },
   {
    "duration": 52,
    "start_time": "2022-05-01T14:50:55.960Z"
   },
   {
    "duration": 75,
    "start_time": "2022-05-01T14:50:56.137Z"
   },
   {
    "duration": 7,
    "start_time": "2022-05-01T14:50:56.872Z"
   },
   {
    "duration": 8,
    "start_time": "2022-05-01T14:50:57.223Z"
   },
   {
    "duration": 19,
    "start_time": "2022-05-01T14:50:57.971Z"
   },
   {
    "duration": 19,
    "start_time": "2022-05-01T14:50:58.367Z"
   },
   {
    "duration": 8,
    "start_time": "2022-05-01T14:50:58.770Z"
   },
   {
    "duration": 11,
    "start_time": "2022-05-01T14:50:59.237Z"
   },
   {
    "duration": 13,
    "start_time": "2022-05-01T14:50:59.664Z"
   },
   {
    "duration": 9,
    "start_time": "2022-05-01T14:50:59.946Z"
   },
   {
    "duration": 13,
    "start_time": "2022-05-01T14:51:00.119Z"
   },
   {
    "duration": 9,
    "start_time": "2022-05-01T14:51:00.334Z"
   },
   {
    "duration": 16,
    "start_time": "2022-05-01T14:51:00.504Z"
   },
   {
    "duration": 46,
    "start_time": "2022-05-01T14:51:00.773Z"
   },
   {
    "duration": 11,
    "start_time": "2022-05-01T14:51:01.166Z"
   },
   {
    "duration": 8,
    "start_time": "2022-05-01T14:51:01.431Z"
   },
   {
    "duration": 14,
    "start_time": "2022-05-01T14:51:05.749Z"
   },
   {
    "duration": 30,
    "start_time": "2022-05-01T14:51:06.132Z"
   },
   {
    "duration": 39,
    "start_time": "2022-05-01T14:51:10.207Z"
   },
   {
    "duration": 19,
    "start_time": "2022-05-01T14:51:10.909Z"
   },
   {
    "duration": 17,
    "start_time": "2022-05-01T14:51:11.074Z"
   },
   {
    "duration": 42,
    "start_time": "2022-05-01T14:51:11.253Z"
   },
   {
    "duration": 34,
    "start_time": "2022-05-01T14:51:11.830Z"
   },
   {
    "duration": 28,
    "start_time": "2022-05-01T14:51:12.330Z"
   },
   {
    "duration": 3,
    "start_time": "2022-05-01T14:51:13.078Z"
   },
   {
    "duration": 3,
    "start_time": "2022-05-01T14:51:13.477Z"
   },
   {
    "duration": 8,
    "start_time": "2022-05-01T14:51:13.977Z"
   },
   {
    "duration": 73,
    "start_time": "2022-05-01T14:51:14.186Z"
   },
   {
    "duration": 8,
    "start_time": "2022-05-01T14:51:15.188Z"
   },
   {
    "duration": 65,
    "start_time": "2022-05-01T14:51:15.809Z"
   },
   {
    "duration": 32,
    "start_time": "2022-05-01T14:51:16.240Z"
   },
   {
    "duration": 74,
    "start_time": "2022-05-01T14:51:26.949Z"
   },
   {
    "duration": 54,
    "start_time": "2022-05-01T14:54:02.134Z"
   },
   {
    "duration": 63,
    "start_time": "2022-05-01T14:54:22.209Z"
   },
   {
    "duration": 109,
    "start_time": "2022-05-01T14:54:34.075Z"
   },
   {
    "duration": 52,
    "start_time": "2022-05-01T14:54:58.037Z"
   },
   {
    "duration": 73,
    "start_time": "2022-05-01T14:55:15.505Z"
   },
   {
    "duration": 66,
    "start_time": "2022-05-01T14:56:36.792Z"
   },
   {
    "duration": 68,
    "start_time": "2022-05-01T14:57:56.496Z"
   },
   {
    "duration": 88,
    "start_time": "2022-05-01T14:59:16.766Z"
   },
   {
    "duration": 67,
    "start_time": "2022-05-01T14:59:46.369Z"
   },
   {
    "duration": 61,
    "start_time": "2022-05-01T15:00:04.533Z"
   },
   {
    "duration": 87,
    "start_time": "2022-05-01T15:01:31.809Z"
   },
   {
    "duration": 55,
    "start_time": "2022-05-01T15:03:12.003Z"
   },
   {
    "duration": 152,
    "start_time": "2022-05-01T15:05:14.995Z"
   },
   {
    "duration": 175,
    "start_time": "2022-05-01T15:05:27.957Z"
   },
   {
    "duration": 45,
    "start_time": "2022-05-01T15:05:39.604Z"
   },
   {
    "duration": 11,
    "start_time": "2022-05-01T15:06:23.025Z"
   },
   {
    "duration": 1031,
    "start_time": "2022-05-01T15:06:35.020Z"
   },
   {
    "duration": 7,
    "start_time": "2022-05-01T15:06:55.408Z"
   },
   {
    "duration": 89,
    "start_time": "2022-05-01T15:06:56.262Z"
   },
   {
    "duration": 5,
    "start_time": "2022-05-01T15:07:08.533Z"
   },
   {
    "duration": 114,
    "start_time": "2022-05-01T15:07:09.408Z"
   },
   {
    "duration": 26,
    "start_time": "2022-05-01T15:07:10.542Z"
   },
   {
    "duration": 30,
    "start_time": "2022-05-01T15:07:16.301Z"
   },
   {
    "duration": 13,
    "start_time": "2022-05-01T15:07:29.205Z"
   },
   {
    "duration": 36,
    "start_time": "2022-05-01T15:07:30.260Z"
   },
   {
    "duration": 31,
    "start_time": "2022-05-01T15:11:08.139Z"
   },
   {
    "duration": 58,
    "start_time": "2022-05-01T15:12:33.708Z"
   },
   {
    "duration": 1374,
    "start_time": "2022-05-01T15:20:18.176Z"
   },
   {
    "duration": 181,
    "start_time": "2022-05-01T15:21:29.240Z"
   },
   {
    "duration": 102,
    "start_time": "2022-05-01T15:22:12.502Z"
   },
   {
    "duration": 103,
    "start_time": "2022-05-01T15:22:38.210Z"
   },
   {
    "duration": 74,
    "start_time": "2022-05-01T15:22:54.160Z"
   },
   {
    "duration": 39,
    "start_time": "2022-05-01T15:24:16.832Z"
   },
   {
    "duration": 62,
    "start_time": "2022-05-01T15:25:10.883Z"
   },
   {
    "duration": 34,
    "start_time": "2022-05-01T15:25:41.310Z"
   },
   {
    "duration": 42,
    "start_time": "2022-05-01T15:26:11.347Z"
   },
   {
    "duration": 30,
    "start_time": "2022-05-01T15:26:21.362Z"
   },
   {
    "duration": 183,
    "start_time": "2022-05-01T15:26:29.269Z"
   },
   {
    "duration": 52,
    "start_time": "2022-05-01T15:26:43.817Z"
   },
   {
    "duration": 32,
    "start_time": "2022-05-01T15:29:03.548Z"
   },
   {
    "duration": 24,
    "start_time": "2022-05-01T15:29:14.607Z"
   },
   {
    "duration": 33,
    "start_time": "2022-05-01T15:29:27.821Z"
   },
   {
    "duration": 28,
    "start_time": "2022-05-01T15:29:56.674Z"
   },
   {
    "duration": 666,
    "start_time": "2022-05-01T15:30:12.751Z"
   },
   {
    "duration": 116,
    "start_time": "2022-05-01T15:30:14.057Z"
   },
   {
    "duration": 47,
    "start_time": "2022-05-01T15:30:15.234Z"
   },
   {
    "duration": 24,
    "start_time": "2022-05-01T15:30:18.189Z"
   },
   {
    "duration": 11,
    "start_time": "2022-05-01T15:30:19.502Z"
   },
   {
    "duration": 638,
    "start_time": "2022-05-01T15:30:20.172Z"
   },
   {
    "duration": 3,
    "start_time": "2022-05-01T15:30:22.940Z"
   },
   {
    "duration": 111,
    "start_time": "2022-05-01T15:30:23.606Z"
   },
   {
    "duration": 31,
    "start_time": "2022-05-01T15:30:26.717Z"
   },
   {
    "duration": 12,
    "start_time": "2022-05-01T15:30:27.863Z"
   },
   {
    "duration": 12,
    "start_time": "2022-05-01T15:30:29.034Z"
   },
   {
    "duration": 3,
    "start_time": "2022-05-01T15:30:30.475Z"
   },
   {
    "duration": 38,
    "start_time": "2022-05-01T15:30:31.052Z"
   },
   {
    "duration": 93,
    "start_time": "2022-05-01T15:30:31.611Z"
   },
   {
    "duration": 12,
    "start_time": "2022-05-01T15:30:34.036Z"
   },
   {
    "duration": 12,
    "start_time": "2022-05-01T15:30:35.190Z"
   },
   {
    "duration": 16,
    "start_time": "2022-05-01T15:30:37.230Z"
   },
   {
    "duration": 20,
    "start_time": "2022-05-01T15:30:38.308Z"
   },
   {
    "duration": 10,
    "start_time": "2022-05-01T15:30:39.324Z"
   },
   {
    "duration": 18,
    "start_time": "2022-05-01T15:30:41.011Z"
   },
   {
    "duration": 22,
    "start_time": "2022-05-01T15:30:42.507Z"
   },
   {
    "duration": 9,
    "start_time": "2022-05-01T15:30:43.222Z"
   },
   {
    "duration": 17,
    "start_time": "2022-05-01T15:30:44.002Z"
   },
   {
    "duration": 15,
    "start_time": "2022-05-01T15:30:44.732Z"
   },
   {
    "duration": 28,
    "start_time": "2022-05-01T15:30:45.364Z"
   },
   {
    "duration": 29,
    "start_time": "2022-05-01T15:30:46.090Z"
   },
   {
    "duration": 14,
    "start_time": "2022-05-01T15:30:47.462Z"
   },
   {
    "duration": 23,
    "start_time": "2022-05-01T15:30:48.186Z"
   },
   {
    "duration": 21,
    "start_time": "2022-05-01T15:30:48.922Z"
   },
   {
    "duration": 32,
    "start_time": "2022-05-01T15:30:50.306Z"
   },
   {
    "duration": 33,
    "start_time": "2022-05-01T15:30:50.927Z"
   },
   {
    "duration": 15,
    "start_time": "2022-05-01T15:30:53.208Z"
   },
   {
    "duration": 11,
    "start_time": "2022-05-01T15:30:53.709Z"
   },
   {
    "duration": 32,
    "start_time": "2022-05-01T15:30:54.408Z"
   },
   {
    "duration": 37,
    "start_time": "2022-05-01T15:30:56.309Z"
   },
   {
    "duration": 54,
    "start_time": "2022-05-01T15:30:58.366Z"
   },
   {
    "duration": 3,
    "start_time": "2022-05-01T15:31:00.750Z"
   },
   {
    "duration": 3,
    "start_time": "2022-05-01T15:31:01.758Z"
   },
   {
    "duration": 4,
    "start_time": "2022-05-01T15:31:03.427Z"
   },
   {
    "duration": 70,
    "start_time": "2022-05-01T15:31:04.209Z"
   },
   {
    "duration": 4,
    "start_time": "2022-05-01T15:31:07.964Z"
   },
   {
    "duration": 80,
    "start_time": "2022-05-01T15:31:09.639Z"
   },
   {
    "duration": 85,
    "start_time": "2022-05-01T15:31:12.257Z"
   },
   {
    "duration": 94,
    "start_time": "2022-05-01T15:31:14.756Z"
   },
   {
    "duration": 94,
    "start_time": "2022-05-01T15:31:17.104Z"
   },
   {
    "duration": 63,
    "start_time": "2022-05-01T15:31:19.135Z"
   },
   {
    "duration": 59,
    "start_time": "2022-05-01T15:32:00.390Z"
   },
   {
    "duration": 63,
    "start_time": "2022-05-01T16:09:36.911Z"
   },
   {
    "duration": 194,
    "start_time": "2022-05-01T16:10:07.001Z"
   },
   {
    "duration": 63,
    "start_time": "2022-05-01T16:10:46.504Z"
   },
   {
    "duration": 48,
    "start_time": "2022-05-01T16:11:16.972Z"
   },
   {
    "duration": 103,
    "start_time": "2022-05-01T16:33:27.964Z"
   },
   {
    "duration": 133,
    "start_time": "2022-05-01T16:35:10.190Z"
   },
   {
    "duration": 93,
    "start_time": "2022-05-01T16:35:41.009Z"
   },
   {
    "duration": 106,
    "start_time": "2022-05-01T16:40:07.723Z"
   },
   {
    "duration": 139,
    "start_time": "2022-05-01T16:40:16.807Z"
   },
   {
    "duration": 79,
    "start_time": "2022-05-01T16:40:32.507Z"
   },
   {
    "duration": 135,
    "start_time": "2022-05-01T16:41:34.450Z"
   },
   {
    "duration": 94,
    "start_time": "2022-05-01T16:42:43.241Z"
   },
   {
    "duration": 93,
    "start_time": "2022-05-01T16:43:25.811Z"
   },
   {
    "duration": 121,
    "start_time": "2022-05-01T16:43:36.521Z"
   },
   {
    "duration": 123,
    "start_time": "2022-05-01T16:45:17.158Z"
   },
   {
    "duration": 395,
    "start_time": "2022-05-01T17:05:59.838Z"
   },
   {
    "duration": 75,
    "start_time": "2022-05-01T17:06:00.235Z"
   },
   {
    "duration": 22,
    "start_time": "2022-05-01T17:06:00.311Z"
   },
   {
    "duration": 9,
    "start_time": "2022-05-01T17:06:00.335Z"
   },
   {
    "duration": 17,
    "start_time": "2022-05-01T17:06:00.346Z"
   },
   {
    "duration": 481,
    "start_time": "2022-05-01T17:06:00.365Z"
   },
   {
    "duration": 3,
    "start_time": "2022-05-01T17:06:00.848Z"
   },
   {
    "duration": 60,
    "start_time": "2022-05-01T17:06:00.852Z"
   },
   {
    "duration": 16,
    "start_time": "2022-05-01T17:06:00.914Z"
   },
   {
    "duration": 7,
    "start_time": "2022-05-01T17:06:00.933Z"
   },
   {
    "duration": 6,
    "start_time": "2022-05-01T17:06:00.941Z"
   },
   {
    "duration": 17,
    "start_time": "2022-05-01T17:06:00.949Z"
   },
   {
    "duration": 37,
    "start_time": "2022-05-01T17:06:00.968Z"
   },
   {
    "duration": 42,
    "start_time": "2022-05-01T17:06:01.007Z"
   },
   {
    "duration": 16,
    "start_time": "2022-05-01T17:06:15.524Z"
   },
   {
    "duration": 9,
    "start_time": "2022-05-01T17:07:15.240Z"
   },
   {
    "duration": 274,
    "start_time": "2022-05-02T07:09:08.385Z"
   },
   {
    "duration": 52,
    "start_time": "2022-05-02T07:09:12.364Z"
   },
   {
    "duration": 168,
    "start_time": "2022-05-02T07:09:15.755Z"
   },
   {
    "duration": 86,
    "start_time": "2022-05-02T07:09:15.925Z"
   },
   {
    "duration": 20,
    "start_time": "2022-05-02T07:09:16.012Z"
   },
   {
    "duration": 10,
    "start_time": "2022-05-02T07:09:16.034Z"
   },
   {
    "duration": 9,
    "start_time": "2022-05-02T07:09:16.046Z"
   },
   {
    "duration": 519,
    "start_time": "2022-05-02T07:09:16.056Z"
   },
   {
    "duration": 3,
    "start_time": "2022-05-02T07:09:16.576Z"
   },
   {
    "duration": 61,
    "start_time": "2022-05-02T07:09:16.580Z"
   },
   {
    "duration": 16,
    "start_time": "2022-05-02T07:09:16.643Z"
   },
   {
    "duration": 7,
    "start_time": "2022-05-02T07:09:16.661Z"
   },
   {
    "duration": 6,
    "start_time": "2022-05-02T07:09:16.670Z"
   },
   {
    "duration": 6,
    "start_time": "2022-05-02T07:09:16.677Z"
   },
   {
    "duration": 47,
    "start_time": "2022-05-02T07:09:16.685Z"
   },
   {
    "duration": 41,
    "start_time": "2022-05-02T07:09:16.736Z"
   },
   {
    "duration": 5,
    "start_time": "2022-05-02T07:09:16.779Z"
   },
   {
    "duration": 6,
    "start_time": "2022-05-02T07:09:16.785Z"
   },
   {
    "duration": 32,
    "start_time": "2022-05-02T07:09:16.792Z"
   },
   {
    "duration": 22,
    "start_time": "2022-05-02T07:09:16.826Z"
   },
   {
    "duration": 7,
    "start_time": "2022-05-02T07:09:16.850Z"
   },
   {
    "duration": 9,
    "start_time": "2022-05-02T07:09:16.859Z"
   },
   {
    "duration": 7,
    "start_time": "2022-05-02T07:09:16.870Z"
   },
   {
    "duration": 6,
    "start_time": "2022-05-02T07:09:16.878Z"
   },
   {
    "duration": 10,
    "start_time": "2022-05-02T07:09:16.886Z"
   },
   {
    "duration": 30,
    "start_time": "2022-05-02T07:09:16.897Z"
   },
   {
    "duration": 10,
    "start_time": "2022-05-02T07:09:16.928Z"
   },
   {
    "duration": 16,
    "start_time": "2022-05-02T07:09:16.940Z"
   },
   {
    "duration": 10,
    "start_time": "2022-05-02T07:09:16.958Z"
   },
   {
    "duration": 9,
    "start_time": "2022-05-02T07:09:16.971Z"
   },
   {
    "duration": 13,
    "start_time": "2022-05-02T07:09:16.982Z"
   },
   {
    "duration": 46,
    "start_time": "2022-05-02T07:09:16.996Z"
   },
   {
    "duration": 20,
    "start_time": "2022-05-02T07:09:17.044Z"
   },
   {
    "duration": 8,
    "start_time": "2022-05-02T07:09:17.066Z"
   },
   {
    "duration": 8,
    "start_time": "2022-05-02T07:09:17.075Z"
   },
   {
    "duration": 43,
    "start_time": "2022-05-02T07:09:17.085Z"
   },
   {
    "duration": 29,
    "start_time": "2022-05-02T07:09:17.130Z"
   },
   {
    "duration": 30,
    "start_time": "2022-05-02T07:09:17.161Z"
   },
   {
    "duration": 16,
    "start_time": "2022-05-02T07:09:17.193Z"
   },
   {
    "duration": 7,
    "start_time": "2022-05-02T07:09:17.210Z"
   },
   {
    "duration": 27,
    "start_time": "2022-05-02T07:09:17.218Z"
   },
   {
    "duration": 21,
    "start_time": "2022-05-02T07:09:17.247Z"
   },
   {
    "duration": 31,
    "start_time": "2022-05-02T07:09:46.621Z"
   },
   {
    "duration": 3,
    "start_time": "2022-05-02T07:09:50.930Z"
   },
   {
    "duration": 30,
    "start_time": "2022-05-02T07:09:54.051Z"
   },
   {
    "duration": 3,
    "start_time": "2022-05-02T07:13:45.005Z"
   },
   {
    "duration": 39,
    "start_time": "2022-05-02T07:13:49.234Z"
   },
   {
    "duration": 4,
    "start_time": "2022-05-02T07:13:56.383Z"
   },
   {
    "duration": 30,
    "start_time": "2022-05-02T07:13:59.381Z"
   },
   {
    "duration": 3,
    "start_time": "2022-05-02T07:14:10.903Z"
   },
   {
    "duration": 10,
    "start_time": "2022-05-02T07:14:14.017Z"
   },
   {
    "duration": 3,
    "start_time": "2022-05-02T07:14:20.949Z"
   },
   {
    "duration": 27,
    "start_time": "2022-05-02T07:14:23.170Z"
   },
   {
    "duration": 4,
    "start_time": "2022-05-02T07:14:40.472Z"
   },
   {
    "duration": 28,
    "start_time": "2022-05-02T07:14:42.291Z"
   },
   {
    "duration": 4,
    "start_time": "2022-05-02T07:15:02.378Z"
   },
   {
    "duration": 10,
    "start_time": "2022-05-02T07:15:04.244Z"
   },
   {
    "duration": 3,
    "start_time": "2022-05-02T07:15:10.177Z"
   },
   {
    "duration": 10,
    "start_time": "2022-05-02T07:15:12.672Z"
   },
   {
    "duration": 3,
    "start_time": "2022-05-02T07:15:32.838Z"
   },
   {
    "duration": 31,
    "start_time": "2022-05-02T07:15:35.530Z"
   },
   {
    "duration": 3,
    "start_time": "2022-05-02T07:16:18.597Z"
   },
   {
    "duration": 1716,
    "start_time": "2022-05-02T07:16:20.950Z"
   },
   {
    "duration": 4,
    "start_time": "2022-05-02T07:16:30.929Z"
   },
   {
    "duration": 3,
    "start_time": "2022-05-02T07:17:41.818Z"
   },
   {
    "duration": 26,
    "start_time": "2022-05-02T07:17:44.395Z"
   },
   {
    "duration": 3,
    "start_time": "2022-05-02T07:17:55.585Z"
   },
   {
    "duration": 9,
    "start_time": "2022-05-02T07:17:57.925Z"
   },
   {
    "duration": 3,
    "start_time": "2022-05-02T07:18:16.976Z"
   },
   {
    "duration": 10,
    "start_time": "2022-05-02T07:18:19.057Z"
   },
   {
    "duration": 3,
    "start_time": "2022-05-02T07:18:26.854Z"
   },
   {
    "duration": 10,
    "start_time": "2022-05-02T07:18:29.719Z"
   },
   {
    "duration": 3,
    "start_time": "2022-05-02T07:18:50.394Z"
   },
   {
    "duration": 30,
    "start_time": "2022-05-02T07:18:52.437Z"
   },
   {
    "duration": 3,
    "start_time": "2022-05-02T07:19:00.714Z"
   },
   {
    "duration": 29,
    "start_time": "2022-05-02T07:19:03.069Z"
   },
   {
    "duration": 4,
    "start_time": "2022-05-02T07:19:40.042Z"
   },
   {
    "duration": 10,
    "start_time": "2022-05-02T07:19:41.510Z"
   },
   {
    "duration": 3,
    "start_time": "2022-05-02T07:19:48.301Z"
   },
   {
    "duration": 10,
    "start_time": "2022-05-02T07:19:50.612Z"
   },
   {
    "duration": 10,
    "start_time": "2022-05-02T07:20:08.614Z"
   },
   {
    "duration": 4,
    "start_time": "2022-05-02T07:20:11.418Z"
   },
   {
    "duration": 48,
    "start_time": "2022-05-02T07:20:13.760Z"
   },
   {
    "duration": 4,
    "start_time": "2022-05-02T07:20:46.780Z"
   },
   {
    "duration": 4,
    "start_time": "2022-05-02T07:20:51.931Z"
   },
   {
    "duration": 32,
    "start_time": "2022-05-02T07:20:54.416Z"
   },
   {
    "duration": 3,
    "start_time": "2022-05-02T07:21:27.367Z"
   },
   {
    "duration": 27,
    "start_time": "2022-05-02T07:21:29.896Z"
   },
   {
    "duration": 3,
    "start_time": "2022-05-02T07:21:38.915Z"
   },
   {
    "duration": 30,
    "start_time": "2022-05-02T07:21:40.715Z"
   },
   {
    "duration": 3,
    "start_time": "2022-05-02T07:27:27.008Z"
   },
   {
    "duration": 319,
    "start_time": "2022-05-02T07:27:27.013Z"
   },
   {
    "duration": 12,
    "start_time": "2022-05-02T07:27:27.333Z"
   },
   {
    "duration": 21,
    "start_time": "2022-05-02T07:27:27.347Z"
   },
   {
    "duration": 16,
    "start_time": "2022-05-02T07:27:27.370Z"
   },
   {
    "duration": 29,
    "start_time": "2022-05-02T07:27:27.387Z"
   },
   {
    "duration": 19,
    "start_time": "2022-05-02T07:27:41.968Z"
   },
   {
    "duration": 6,
    "start_time": "2022-05-02T07:27:58.304Z"
   },
   {
    "duration": 5,
    "start_time": "2022-05-02T07:28:06.836Z"
   },
   {
    "duration": 8,
    "start_time": "2022-05-02T07:28:12.261Z"
   },
   {
    "duration": 6,
    "start_time": "2022-05-02T07:28:18.740Z"
   },
   {
    "duration": 19,
    "start_time": "2022-05-02T07:28:43.412Z"
   },
   {
    "duration": 7,
    "start_time": "2022-05-02T07:28:47.616Z"
   },
   {
    "duration": 6,
    "start_time": "2022-05-02T07:29:02.688Z"
   },
   {
    "duration": 6,
    "start_time": "2022-05-02T07:29:28.606Z"
   },
   {
    "duration": 22,
    "start_time": "2022-05-02T07:29:34.265Z"
   },
   {
    "duration": 23,
    "start_time": "2022-05-02T07:30:18.731Z"
   },
   {
    "duration": 5,
    "start_time": "2022-05-02T07:31:39.515Z"
   },
   {
    "duration": 6,
    "start_time": "2022-05-02T07:31:48.138Z"
   },
   {
    "duration": 5,
    "start_time": "2022-05-02T07:31:56.576Z"
   },
   {
    "duration": 4,
    "start_time": "2022-05-02T07:32:04.748Z"
   },
   {
    "duration": 3,
    "start_time": "2022-05-02T07:32:16.407Z"
   },
   {
    "duration": 90,
    "start_time": "2022-05-02T07:32:16.413Z"
   },
   {
    "duration": 14,
    "start_time": "2022-05-02T07:32:16.505Z"
   },
   {
    "duration": 13,
    "start_time": "2022-05-02T07:32:16.521Z"
   },
   {
    "duration": 7,
    "start_time": "2022-05-02T07:32:16.536Z"
   },
   {
    "duration": 17,
    "start_time": "2022-05-02T07:32:16.545Z"
   },
   {
    "duration": 3,
    "start_time": "2022-05-02T07:32:16.564Z"
   },
   {
    "duration": 7,
    "start_time": "2022-05-02T07:32:16.568Z"
   },
   {
    "duration": 81,
    "start_time": "2022-05-02T07:32:16.577Z"
   },
   {
    "duration": 16,
    "start_time": "2022-05-02T07:32:16.660Z"
   },
   {
    "duration": 7,
    "start_time": "2022-05-02T07:32:16.678Z"
   },
   {
    "duration": 7,
    "start_time": "2022-05-02T07:32:16.687Z"
   },
   {
    "duration": 27,
    "start_time": "2022-05-02T07:32:16.696Z"
   },
   {
    "duration": 21,
    "start_time": "2022-05-02T07:32:16.725Z"
   },
   {
    "duration": 43,
    "start_time": "2022-05-02T07:32:16.748Z"
   },
   {
    "duration": 10,
    "start_time": "2022-05-02T07:32:30.045Z"
   },
   {
    "duration": 8,
    "start_time": "2022-05-02T07:32:44.391Z"
   },
   {
    "duration": 20,
    "start_time": "2022-05-02T07:32:58.055Z"
   },
   {
    "duration": 4,
    "start_time": "2022-05-02T07:33:11.070Z"
   },
   {
    "duration": 22,
    "start_time": "2022-05-02T07:35:20.589Z"
   },
   {
    "duration": 6,
    "start_time": "2022-05-02T07:36:14.879Z"
   },
   {
    "duration": 6,
    "start_time": "2022-05-02T07:36:45.401Z"
   },
   {
    "duration": 7,
    "start_time": "2022-05-02T07:36:48.471Z"
   },
   {
    "duration": 3,
    "start_time": "2022-05-02T07:37:55.992Z"
   },
   {
    "duration": 80,
    "start_time": "2022-05-02T07:37:55.997Z"
   },
   {
    "duration": 13,
    "start_time": "2022-05-02T07:37:56.079Z"
   },
   {
    "duration": 12,
    "start_time": "2022-05-02T07:37:56.093Z"
   },
   {
    "duration": 20,
    "start_time": "2022-05-02T07:37:56.107Z"
   },
   {
    "duration": 15,
    "start_time": "2022-05-02T07:37:56.129Z"
   },
   {
    "duration": 3,
    "start_time": "2022-05-02T07:37:56.146Z"
   },
   {
    "duration": 74,
    "start_time": "2022-05-02T07:37:56.151Z"
   },
   {
    "duration": 15,
    "start_time": "2022-05-02T07:37:56.227Z"
   },
   {
    "duration": 8,
    "start_time": "2022-05-02T07:37:56.244Z"
   },
   {
    "duration": 6,
    "start_time": "2022-05-02T07:37:56.254Z"
   },
   {
    "duration": 9,
    "start_time": "2022-05-02T07:37:56.261Z"
   },
   {
    "duration": 19,
    "start_time": "2022-05-02T07:37:56.271Z"
   },
   {
    "duration": 71,
    "start_time": "2022-05-02T07:37:56.292Z"
   },
   {
    "duration": 5,
    "start_time": "2022-05-02T07:37:56.365Z"
   },
   {
    "duration": 5,
    "start_time": "2022-05-02T07:37:56.372Z"
   },
   {
    "duration": 8,
    "start_time": "2022-05-02T07:37:56.379Z"
   },
   {
    "duration": 45,
    "start_time": "2022-05-02T07:37:56.388Z"
   },
   {
    "duration": 6,
    "start_time": "2022-05-02T07:37:56.435Z"
   },
   {
    "duration": 8,
    "start_time": "2022-05-02T07:37:56.444Z"
   },
   {
    "duration": 8,
    "start_time": "2022-05-02T07:37:56.454Z"
   },
   {
    "duration": 8,
    "start_time": "2022-05-02T07:37:56.464Z"
   },
   {
    "duration": 11,
    "start_time": "2022-05-02T07:37:56.474Z"
   },
   {
    "duration": 8,
    "start_time": "2022-05-02T07:37:56.487Z"
   },
   {
    "duration": 31,
    "start_time": "2022-05-02T07:37:56.497Z"
   },
   {
    "duration": 14,
    "start_time": "2022-05-02T07:37:56.530Z"
   },
   {
    "duration": 10,
    "start_time": "2022-05-02T07:37:56.546Z"
   },
   {
    "duration": 10,
    "start_time": "2022-05-02T07:37:56.558Z"
   },
   {
    "duration": 10,
    "start_time": "2022-05-02T07:37:56.570Z"
   },
   {
    "duration": 44,
    "start_time": "2022-05-02T07:37:56.581Z"
   },
   {
    "duration": 21,
    "start_time": "2022-05-02T07:37:56.626Z"
   },
   {
    "duration": 8,
    "start_time": "2022-05-02T07:37:56.648Z"
   },
   {
    "duration": 8,
    "start_time": "2022-05-02T07:37:56.658Z"
   },
   {
    "duration": 15,
    "start_time": "2022-05-02T07:37:56.667Z"
   },
   {
    "duration": 53,
    "start_time": "2022-05-02T07:37:56.683Z"
   },
   {
    "duration": 19,
    "start_time": "2022-05-02T07:37:56.738Z"
   },
   {
    "duration": 8,
    "start_time": "2022-05-02T07:37:56.759Z"
   },
   {
    "duration": 3,
    "start_time": "2022-05-02T07:37:56.770Z"
   },
   {
    "duration": 6,
    "start_time": "2022-05-02T07:37:56.774Z"
   },
   {
    "duration": 52,
    "start_time": "2022-05-02T07:37:56.782Z"
   },
   {
    "duration": 3,
    "start_time": "2022-05-02T07:37:56.835Z"
   },
   {
    "duration": 41,
    "start_time": "2022-05-02T07:37:56.839Z"
   },
   {
    "duration": 46,
    "start_time": "2022-05-02T07:37:56.881Z"
   },
   {
    "duration": 31,
    "start_time": "2022-05-02T07:37:56.929Z"
   },
   {
    "duration": 34,
    "start_time": "2022-05-02T07:37:56.962Z"
   },
   {
    "duration": 364,
    "start_time": "2022-05-02T10:42:37.151Z"
   },
   {
    "duration": 78,
    "start_time": "2022-05-02T10:42:38.483Z"
   },
   {
    "duration": 16,
    "start_time": "2022-05-02T10:42:40.308Z"
   },
   {
    "duration": 9,
    "start_time": "2022-05-02T10:42:52.236Z"
   },
   {
    "duration": 7,
    "start_time": "2022-05-02T10:43:05.497Z"
   },
   {
    "duration": 452,
    "start_time": "2022-05-02T10:43:07.312Z"
   },
   {
    "duration": 4,
    "start_time": "2022-05-02T10:44:56.042Z"
   },
   {
    "duration": 43,
    "start_time": "2022-05-02T10:45:03.819Z"
   },
   {
    "duration": 4,
    "start_time": "2022-05-02T10:46:00.097Z"
   },
   {
    "duration": 44,
    "start_time": "2022-05-02T10:46:02.152Z"
   },
   {
    "duration": 8,
    "start_time": "2022-05-02T10:46:07.259Z"
   },
   {
    "duration": 3,
    "start_time": "2022-05-02T10:46:26.918Z"
   },
   {
    "duration": 66,
    "start_time": "2022-05-02T10:46:27.966Z"
   },
   {
    "duration": 12,
    "start_time": "2022-05-02T10:46:29.591Z"
   },
   {
    "duration": 11,
    "start_time": "2022-05-02T10:46:34.412Z"
   },
   {
    "duration": 6,
    "start_time": "2022-05-02T10:46:41.501Z"
   },
   {
    "duration": 15,
    "start_time": "2022-05-02T10:46:42.708Z"
   },
   {
    "duration": 6,
    "start_time": "2022-05-02T10:46:54.059Z"
   },
   {
    "duration": 157,
    "start_time": "2022-05-02T10:59:18.503Z"
   },
   {
    "duration": 123,
    "start_time": "2022-05-02T10:59:52.438Z"
   },
   {
    "duration": 122,
    "start_time": "2022-05-02T11:00:01.572Z"
   },
   {
    "duration": 1161,
    "start_time": "2022-05-02T11:01:13.495Z"
   },
   {
    "duration": 127,
    "start_time": "2022-05-02T11:01:24.704Z"
   },
   {
    "duration": 28,
    "start_time": "2022-05-02T11:02:43.274Z"
   },
   {
    "duration": 27,
    "start_time": "2022-05-02T11:05:20.654Z"
   },
   {
    "duration": 121,
    "start_time": "2022-05-02T11:07:22.372Z"
   },
   {
    "duration": 107,
    "start_time": "2022-05-02T11:07:39.951Z"
   },
   {
    "duration": 193,
    "start_time": "2022-05-02T11:07:46.811Z"
   },
   {
    "duration": 149,
    "start_time": "2022-05-02T11:07:57.651Z"
   },
   {
    "duration": 329,
    "start_time": "2022-05-02T11:08:49.051Z"
   },
   {
    "duration": 81,
    "start_time": "2022-05-02T11:08:50.079Z"
   },
   {
    "duration": 17,
    "start_time": "2022-05-02T11:08:52.153Z"
   },
   {
    "duration": 10,
    "start_time": "2022-05-02T11:08:59.568Z"
   },
   {
    "duration": 7,
    "start_time": "2022-05-02T11:09:01.718Z"
   },
   {
    "duration": 315,
    "start_time": "2022-05-02T11:09:02.754Z"
   },
   {
    "duration": 2,
    "start_time": "2022-05-02T11:09:06.414Z"
   },
   {
    "duration": 43,
    "start_time": "2022-05-02T11:09:07.354Z"
   },
   {
    "duration": 15,
    "start_time": "2022-05-02T11:09:11.955Z"
   },
   {
    "duration": 6,
    "start_time": "2022-05-02T11:09:13.736Z"
   },
   {
    "duration": 6,
    "start_time": "2022-05-02T11:09:15.815Z"
   },
   {
    "duration": 3,
    "start_time": "2022-05-02T11:09:17.870Z"
   },
   {
    "duration": 17,
    "start_time": "2022-05-02T11:09:18.937Z"
   },
   {
    "duration": 37,
    "start_time": "2022-05-02T11:09:19.955Z"
   },
   {
    "duration": 5,
    "start_time": "2022-05-02T11:09:30.485Z"
   },
   {
    "duration": 5,
    "start_time": "2022-05-02T11:09:32.366Z"
   },
   {
    "duration": 7,
    "start_time": "2022-05-02T11:09:36.416Z"
   },
   {
    "duration": 11,
    "start_time": "2022-05-02T11:09:38.441Z"
   },
   {
    "duration": 5,
    "start_time": "2022-05-02T11:09:40.528Z"
   },
   {
    "duration": 8,
    "start_time": "2022-05-02T11:09:43.082Z"
   },
   {
    "duration": 7,
    "start_time": "2022-05-02T11:09:45.549Z"
   },
   {
    "duration": 5,
    "start_time": "2022-05-02T11:09:46.479Z"
   },
   {
    "duration": 7,
    "start_time": "2022-05-02T11:09:47.545Z"
   },
   {
    "duration": 5,
    "start_time": "2022-05-02T11:09:48.513Z"
   },
   {
    "duration": 7,
    "start_time": "2022-05-02T11:09:49.499Z"
   },
   {
    "duration": 12,
    "start_time": "2022-05-02T11:09:50.493Z"
   },
   {
    "duration": 8,
    "start_time": "2022-05-02T11:09:52.512Z"
   },
   {
    "duration": 5,
    "start_time": "2022-05-02T11:09:53.429Z"
   },
   {
    "duration": 7,
    "start_time": "2022-05-02T11:09:54.370Z"
   },
   {
    "duration": 18,
    "start_time": "2022-05-02T11:09:56.894Z"
   },
   {
    "duration": 23,
    "start_time": "2022-05-02T11:09:57.812Z"
   },
   {
    "duration": 27,
    "start_time": "2022-05-02T11:10:01.694Z"
   },
   {
    "duration": 148,
    "start_time": "2022-05-02T11:10:03.064Z"
   },
   {
    "duration": 174,
    "start_time": "2022-05-02T11:10:15.212Z"
   },
   {
    "duration": 167,
    "start_time": "2022-05-02T11:10:21.281Z"
   },
   {
    "duration": 140,
    "start_time": "2022-05-02T11:10:32.362Z"
   },
   {
    "duration": 112,
    "start_time": "2022-05-02T11:10:33.393Z"
   },
   {
    "duration": 16,
    "start_time": "2022-05-02T11:14:28.697Z"
   },
   {
    "duration": 12,
    "start_time": "2022-05-02T11:14:40.643Z"
   },
   {
    "duration": 9,
    "start_time": "2022-05-02T11:14:52.400Z"
   },
   {
    "duration": 25,
    "start_time": "2022-05-02T11:16:23.839Z"
   },
   {
    "duration": 12,
    "start_time": "2022-05-02T11:18:13.439Z"
   },
   {
    "duration": 67,
    "start_time": "2022-05-02T11:18:27.211Z"
   },
   {
    "duration": 10,
    "start_time": "2022-05-02T11:18:34.053Z"
   },
   {
    "duration": 6,
    "start_time": "2022-05-02T11:18:49.533Z"
   },
   {
    "duration": 6,
    "start_time": "2022-05-02T11:29:40.145Z"
   },
   {
    "duration": 6,
    "start_time": "2022-05-02T11:29:52.635Z"
   },
   {
    "duration": 5,
    "start_time": "2022-05-02T11:30:06.763Z"
   },
   {
    "duration": 4,
    "start_time": "2022-05-02T11:38:06.813Z"
   },
   {
    "duration": 28,
    "start_time": "2022-05-02T11:38:32.677Z"
   },
   {
    "duration": 1341,
    "start_time": "2022-05-02T11:40:10.991Z"
   },
   {
    "duration": 6,
    "start_time": "2022-05-02T11:40:28.430Z"
   },
   {
    "duration": 124,
    "start_time": "2022-05-02T11:41:00.688Z"
   },
   {
    "duration": 24,
    "start_time": "2022-05-02T11:42:11.417Z"
   },
   {
    "duration": 115,
    "start_time": "2022-05-02T11:42:12.350Z"
   },
   {
    "duration": 5,
    "start_time": "2022-05-02T11:42:13.287Z"
   },
   {
    "duration": 5,
    "start_time": "2022-05-02T11:42:16.279Z"
   },
   {
    "duration": 5,
    "start_time": "2022-05-02T11:42:17.476Z"
   },
   {
    "duration": 3,
    "start_time": "2022-05-02T11:42:19.388Z"
   },
   {
    "duration": 17,
    "start_time": "2022-05-02T11:42:20.313Z"
   },
   {
    "duration": 36,
    "start_time": "2022-05-02T11:42:21.180Z"
   },
   {
    "duration": 5,
    "start_time": "2022-05-02T11:42:25.143Z"
   },
   {
    "duration": 6,
    "start_time": "2022-05-02T11:42:26.725Z"
   },
   {
    "duration": 8,
    "start_time": "2022-05-02T11:42:29.625Z"
   },
   {
    "duration": 12,
    "start_time": "2022-05-02T11:42:31.195Z"
   },
   {
    "duration": 5,
    "start_time": "2022-05-02T11:42:32.715Z"
   },
   {
    "duration": 7,
    "start_time": "2022-05-02T11:42:34.201Z"
   },
   {
    "duration": 8,
    "start_time": "2022-05-02T11:42:36.465Z"
   },
   {
    "duration": 5,
    "start_time": "2022-05-02T11:42:37.211Z"
   },
   {
    "duration": 7,
    "start_time": "2022-05-02T11:42:38.102Z"
   },
   {
    "duration": 5,
    "start_time": "2022-05-02T11:42:39.040Z"
   },
   {
    "duration": 7,
    "start_time": "2022-05-02T11:42:39.842Z"
   },
   {
    "duration": 10,
    "start_time": "2022-05-02T11:42:40.576Z"
   },
   {
    "duration": 6,
    "start_time": "2022-05-02T11:42:42.105Z"
   },
   {
    "duration": 5,
    "start_time": "2022-05-02T11:42:42.960Z"
   },
   {
    "duration": 7,
    "start_time": "2022-05-02T11:42:43.873Z"
   },
   {
    "duration": 18,
    "start_time": "2022-05-02T11:42:45.456Z"
   },
   {
    "duration": 18,
    "start_time": "2022-05-02T11:42:46.347Z"
   },
   {
    "duration": 106,
    "start_time": "2022-05-02T11:42:59.369Z"
   },
   {
    "duration": 8,
    "start_time": "2022-05-02T11:43:04.440Z"
   },
   {
    "duration": 7,
    "start_time": "2022-05-02T11:43:05.183Z"
   },
   {
    "duration": 13,
    "start_time": "2022-05-02T11:43:05.767Z"
   },
   {
    "duration": 17,
    "start_time": "2022-05-02T11:43:07.877Z"
   },
   {
    "duration": 17,
    "start_time": "2022-05-02T11:43:10.869Z"
   },
   {
    "duration": 2,
    "start_time": "2022-05-02T11:43:13.408Z"
   },
   {
    "duration": 2,
    "start_time": "2022-05-02T11:43:20.576Z"
   },
   {
    "duration": 3,
    "start_time": "2022-05-02T11:43:23.468Z"
   },
   {
    "duration": 3,
    "start_time": "2022-05-02T11:43:43.074Z"
   },
   {
    "duration": 3,
    "start_time": "2022-05-02T11:44:05.094Z"
   },
   {
    "duration": 3,
    "start_time": "2022-05-02T11:44:14.407Z"
   },
   {
    "duration": 3,
    "start_time": "2022-05-02T11:44:27.858Z"
   },
   {
    "duration": 10,
    "start_time": "2022-05-02T11:44:29.286Z"
   },
   {
    "duration": 3,
    "start_time": "2022-05-02T11:44:54.448Z"
   },
   {
    "duration": 10,
    "start_time": "2022-05-02T11:44:54.655Z"
   },
   {
    "duration": 3,
    "start_time": "2022-05-02T11:45:05.075Z"
   },
   {
    "duration": 3,
    "start_time": "2022-05-02T11:45:34.326Z"
   },
   {
    "duration": 9,
    "start_time": "2022-05-02T11:45:35.319Z"
   },
   {
    "duration": 3,
    "start_time": "2022-05-02T11:55:27.532Z"
   },
   {
    "duration": 25,
    "start_time": "2022-05-02T11:55:28.793Z"
   },
   {
    "duration": 3,
    "start_time": "2022-05-02T11:56:07.002Z"
   },
   {
    "duration": 24,
    "start_time": "2022-05-02T11:56:07.915Z"
   },
   {
    "duration": 3,
    "start_time": "2022-05-02T11:56:23.993Z"
   },
   {
    "duration": 23,
    "start_time": "2022-05-02T11:56:25.184Z"
   },
   {
    "duration": 190,
    "start_time": "2022-05-02T12:06:00.285Z"
   },
   {
    "duration": 3,
    "start_time": "2022-05-02T12:06:30.340Z"
   },
   {
    "duration": 26,
    "start_time": "2022-05-02T12:06:31.546Z"
   },
   {
    "duration": 3,
    "start_time": "2022-05-02T12:07:13.523Z"
   },
   {
    "duration": 27,
    "start_time": "2022-05-02T12:07:14.522Z"
   },
   {
    "duration": 3,
    "start_time": "2022-05-02T12:07:29.649Z"
   },
   {
    "duration": 28,
    "start_time": "2022-05-02T12:07:30.536Z"
   },
   {
    "duration": 2,
    "start_time": "2022-05-02T12:08:38.674Z"
   },
   {
    "duration": 30,
    "start_time": "2022-05-02T12:08:59.731Z"
   },
   {
    "duration": 3,
    "start_time": "2022-05-02T12:10:10.066Z"
   },
   {
    "duration": 25,
    "start_time": "2022-05-02T12:10:11.301Z"
   },
   {
    "duration": 3,
    "start_time": "2022-05-02T12:10:23.386Z"
   },
   {
    "duration": 9,
    "start_time": "2022-05-02T12:10:24.902Z"
   },
   {
    "duration": 3,
    "start_time": "2022-05-02T12:10:32.156Z"
   },
   {
    "duration": 3,
    "start_time": "2022-05-02T12:10:42.541Z"
   },
   {
    "duration": 24,
    "start_time": "2022-05-02T12:10:44.641Z"
   },
   {
    "duration": 3,
    "start_time": "2022-05-02T12:11:07.639Z"
   },
   {
    "duration": 25,
    "start_time": "2022-05-02T12:11:08.805Z"
   },
   {
    "duration": 25,
    "start_time": "2022-05-02T12:11:18.637Z"
   },
   {
    "duration": 20,
    "start_time": "2022-05-02T12:11:34.153Z"
   },
   {
    "duration": 21,
    "start_time": "2022-05-02T12:11:59.806Z"
   },
   {
    "duration": 26,
    "start_time": "2022-05-02T12:12:17.405Z"
   },
   {
    "duration": 30,
    "start_time": "2022-05-02T12:12:36.567Z"
   },
   {
    "duration": 29,
    "start_time": "2022-05-02T12:13:11.002Z"
   },
   {
    "duration": 30,
    "start_time": "2022-05-02T12:14:05.542Z"
   },
   {
    "duration": 27,
    "start_time": "2022-05-02T12:14:26.962Z"
   },
   {
    "duration": 31,
    "start_time": "2022-05-02T12:14:40.182Z"
   },
   {
    "duration": 25,
    "start_time": "2022-05-02T12:35:59.451Z"
   },
   {
    "duration": 24,
    "start_time": "2022-05-02T12:36:11.198Z"
   },
   {
    "duration": 3,
    "start_time": "2022-05-02T12:37:16.061Z"
   },
   {
    "duration": 25,
    "start_time": "2022-05-02T12:37:26.082Z"
   },
   {
    "duration": 193,
    "start_time": "2022-05-02T12:37:57.479Z"
   },
   {
    "duration": 411,
    "start_time": "2022-05-02T12:38:17.042Z"
   },
   {
    "duration": 4,
    "start_time": "2022-05-02T12:38:40.204Z"
   },
   {
    "duration": 3,
    "start_time": "2022-05-02T12:38:58.819Z"
   },
   {
    "duration": 25,
    "start_time": "2022-05-02T12:38:59.797Z"
   },
   {
    "duration": 3,
    "start_time": "2022-05-02T12:39:09.587Z"
   },
   {
    "duration": 26,
    "start_time": "2022-05-02T12:39:17.060Z"
   },
   {
    "duration": 3,
    "start_time": "2022-05-02T12:39:30.996Z"
   },
   {
    "duration": 3,
    "start_time": "2022-05-02T12:39:48.250Z"
   },
   {
    "duration": 29,
    "start_time": "2022-05-02T12:39:50.149Z"
   },
   {
    "duration": 3,
    "start_time": "2022-05-02T12:40:23.622Z"
   },
   {
    "duration": 24,
    "start_time": "2022-05-02T12:40:24.633Z"
   },
   {
    "duration": 21,
    "start_time": "2022-05-02T12:40:29.183Z"
   },
   {
    "duration": 3,
    "start_time": "2022-05-02T12:40:40.296Z"
   },
   {
    "duration": 27,
    "start_time": "2022-05-02T12:40:41.513Z"
   },
   {
    "duration": 4,
    "start_time": "2022-05-02T12:40:58.061Z"
   },
   {
    "duration": 41,
    "start_time": "2022-05-02T12:40:59.043Z"
   },
   {
    "duration": 4,
    "start_time": "2022-05-02T12:41:23.135Z"
   },
   {
    "duration": 22,
    "start_time": "2022-05-02T12:41:24.761Z"
   },
   {
    "duration": 22,
    "start_time": "2022-05-02T12:41:30.038Z"
   },
   {
    "duration": 3,
    "start_time": "2022-05-02T12:41:40.077Z"
   },
   {
    "duration": 23,
    "start_time": "2022-05-02T12:41:40.881Z"
   },
   {
    "duration": 3,
    "start_time": "2022-05-02T12:41:56.496Z"
   },
   {
    "duration": 24,
    "start_time": "2022-05-02T12:41:57.345Z"
   },
   {
    "duration": 25,
    "start_time": "2022-05-02T12:42:07.954Z"
   },
   {
    "duration": 4,
    "start_time": "2022-05-02T12:42:17.920Z"
   },
   {
    "duration": 27,
    "start_time": "2022-05-02T12:42:19.607Z"
   },
   {
    "duration": 4,
    "start_time": "2022-05-02T12:42:45.260Z"
   },
   {
    "duration": 26,
    "start_time": "2022-05-02T12:42:46.800Z"
   },
   {
    "duration": 206,
    "start_time": "2022-05-02T12:42:57.702Z"
   },
   {
    "duration": 4,
    "start_time": "2022-05-02T12:43:13.307Z"
   },
   {
    "duration": 42,
    "start_time": "2022-05-02T12:43:16.292Z"
   },
   {
    "duration": 3,
    "start_time": "2022-05-02T12:43:26.433Z"
   },
   {
    "duration": 29,
    "start_time": "2022-05-02T12:43:27.395Z"
   },
   {
    "duration": 3,
    "start_time": "2022-05-02T12:43:39.203Z"
   },
   {
    "duration": 27,
    "start_time": "2022-05-02T12:43:39.983Z"
   },
   {
    "duration": 3,
    "start_time": "2022-05-02T12:44:06.168Z"
   },
   {
    "duration": 27,
    "start_time": "2022-05-02T12:44:07.294Z"
   },
   {
    "duration": 3,
    "start_time": "2022-05-02T12:44:21.252Z"
   },
   {
    "duration": 26,
    "start_time": "2022-05-02T12:44:22.578Z"
   },
   {
    "duration": 3,
    "start_time": "2022-05-02T12:44:50.491Z"
   },
   {
    "duration": 27,
    "start_time": "2022-05-02T12:44:51.387Z"
   },
   {
    "duration": 3,
    "start_time": "2022-05-02T12:45:15.410Z"
   },
   {
    "duration": 28,
    "start_time": "2022-05-02T12:45:17.683Z"
   },
   {
    "duration": 3,
    "start_time": "2022-05-02T12:45:45.627Z"
   },
   {
    "duration": 28,
    "start_time": "2022-05-02T12:45:48.541Z"
   },
   {
    "duration": 7,
    "start_time": "2022-05-02T12:46:11.139Z"
   },
   {
    "duration": 41,
    "start_time": "2022-05-02T12:46:11.998Z"
   },
   {
    "duration": 3,
    "start_time": "2022-05-02T12:50:03.359Z"
   },
   {
    "duration": 37,
    "start_time": "2022-05-02T12:50:06.909Z"
   },
   {
    "duration": 40,
    "start_time": "2022-05-02T12:52:25.788Z"
   },
   {
    "duration": 35,
    "start_time": "2022-05-02T12:53:50.888Z"
   },
   {
    "duration": 41,
    "start_time": "2022-05-02T12:54:15.066Z"
   },
   {
    "duration": 47,
    "start_time": "2022-05-02T12:54:28.760Z"
   },
   {
    "duration": 399,
    "start_time": "2022-05-02T12:54:51.560Z"
   },
   {
    "duration": 76,
    "start_time": "2022-05-02T12:54:52.434Z"
   },
   {
    "duration": 19,
    "start_time": "2022-05-02T12:54:53.346Z"
   },
   {
    "duration": 9,
    "start_time": "2022-05-02T12:54:56.344Z"
   },
   {
    "duration": 7,
    "start_time": "2022-05-02T12:54:58.175Z"
   },
   {
    "duration": 331,
    "start_time": "2022-05-02T12:54:59.153Z"
   },
   {
    "duration": 2,
    "start_time": "2022-05-02T12:55:02.804Z"
   },
   {
    "duration": 70,
    "start_time": "2022-05-02T12:55:03.687Z"
   },
   {
    "duration": 16,
    "start_time": "2022-05-02T12:55:08.462Z"
   },
   {
    "duration": 7,
    "start_time": "2022-05-02T12:55:11.877Z"
   },
   {
    "duration": 29,
    "start_time": "2022-05-02T12:55:14.698Z"
   },
   {
    "duration": 155,
    "start_time": "2022-05-02T12:55:18.587Z"
   },
   {
    "duration": 6,
    "start_time": "2022-05-02T12:55:19.955Z"
   },
   {
    "duration": 6,
    "start_time": "2022-05-02T12:55:24.020Z"
   },
   {
    "duration": 6,
    "start_time": "2022-05-02T12:55:25.252Z"
   },
   {
    "duration": 2,
    "start_time": "2022-05-02T12:55:28.997Z"
   },
   {
    "duration": 16,
    "start_time": "2022-05-02T12:55:29.929Z"
   },
   {
    "duration": 39,
    "start_time": "2022-05-02T12:55:30.929Z"
   },
   {
    "duration": 5,
    "start_time": "2022-05-02T12:55:35.675Z"
   },
   {
    "duration": 5,
    "start_time": "2022-05-02T12:55:39.910Z"
   },
   {
    "duration": 7,
    "start_time": "2022-05-02T12:55:43.563Z"
   },
   {
    "duration": 11,
    "start_time": "2022-05-02T12:55:45.687Z"
   },
   {
    "duration": 5,
    "start_time": "2022-05-02T12:55:47.402Z"
   },
   {
    "duration": 8,
    "start_time": "2022-05-02T12:55:49.374Z"
   },
   {
    "duration": 7,
    "start_time": "2022-05-02T12:55:51.829Z"
   },
   {
    "duration": 6,
    "start_time": "2022-05-02T12:55:52.864Z"
   },
   {
    "duration": 10,
    "start_time": "2022-05-02T12:55:53.934Z"
   },
   {
    "duration": 6,
    "start_time": "2022-05-02T12:55:55.034Z"
   },
   {
    "duration": 7,
    "start_time": "2022-05-02T12:55:55.998Z"
   },
   {
    "duration": 12,
    "start_time": "2022-05-02T12:55:57.445Z"
   },
   {
    "duration": 7,
    "start_time": "2022-05-02T12:55:59.557Z"
   },
   {
    "duration": 7,
    "start_time": "2022-05-02T12:56:00.636Z"
   },
   {
    "duration": 9,
    "start_time": "2022-05-02T12:56:01.781Z"
   },
   {
    "duration": 18,
    "start_time": "2022-05-02T12:56:04.121Z"
   },
   {
    "duration": 20,
    "start_time": "2022-05-02T12:56:05.107Z"
   },
   {
    "duration": 188,
    "start_time": "2022-05-02T12:56:10.801Z"
   },
   {
    "duration": 8,
    "start_time": "2022-05-02T12:56:13.078Z"
   },
   {
    "duration": 8,
    "start_time": "2022-05-02T12:56:14.028Z"
   },
   {
    "duration": 14,
    "start_time": "2022-05-02T12:56:15.162Z"
   },
   {
    "duration": 18,
    "start_time": "2022-05-02T12:56:19.726Z"
   },
   {
    "duration": 18,
    "start_time": "2022-05-02T12:56:22.287Z"
   },
   {
    "duration": 2,
    "start_time": "2022-05-02T12:56:25.681Z"
   },
   {
    "duration": 2,
    "start_time": "2022-05-02T12:56:27.528Z"
   },
   {
    "duration": 3,
    "start_time": "2022-05-02T12:56:31.966Z"
   },
   {
    "duration": 44,
    "start_time": "2022-05-02T12:56:33.098Z"
   },
   {
    "duration": 3,
    "start_time": "2022-05-02T12:57:00.274Z"
   },
   {
    "duration": 32,
    "start_time": "2022-05-02T12:57:04.362Z"
   },
   {
    "duration": 33,
    "start_time": "2022-05-02T12:57:40.479Z"
   },
   {
    "duration": 29,
    "start_time": "2022-05-02T12:57:45.152Z"
   },
   {
    "duration": 32,
    "start_time": "2022-05-02T12:57:48.773Z"
   },
   {
    "duration": 122,
    "start_time": "2022-05-02T14:19:09.838Z"
   },
   {
    "duration": 543,
    "start_time": "2022-05-02T14:19:14.501Z"
   },
   {
    "duration": 152,
    "start_time": "2022-05-02T14:19:15.047Z"
   },
   {
    "duration": 46,
    "start_time": "2022-05-02T14:19:15.202Z"
   },
   {
    "duration": 43,
    "start_time": "2022-05-02T14:19:15.250Z"
   },
   {
    "duration": 12,
    "start_time": "2022-05-02T14:19:15.298Z"
   },
   {
    "duration": 694,
    "start_time": "2022-05-02T14:19:15.312Z"
   },
   {
    "duration": 4,
    "start_time": "2022-05-02T14:19:16.009Z"
   },
   {
    "duration": 123,
    "start_time": "2022-05-02T14:19:16.015Z"
   },
   {
    "duration": 48,
    "start_time": "2022-05-02T14:19:16.141Z"
   },
   {
    "duration": 13,
    "start_time": "2022-05-02T14:19:16.192Z"
   },
   {
    "duration": 85,
    "start_time": "2022-05-02T14:19:16.209Z"
   },
   {
    "duration": 537,
    "start_time": "2022-05-02T14:19:16.297Z"
   },
   {
    "duration": 10,
    "start_time": "2022-05-02T14:19:16.837Z"
   },
   {
    "duration": 30,
    "start_time": "2022-05-02T14:19:16.854Z"
   },
   {
    "duration": 11,
    "start_time": "2022-05-02T14:19:16.887Z"
   },
   {
    "duration": 7,
    "start_time": "2022-05-02T14:19:16.900Z"
   },
   {
    "duration": 39,
    "start_time": "2022-05-02T14:19:16.909Z"
   },
   {
    "duration": 103,
    "start_time": "2022-05-02T14:19:16.982Z"
   },
   {
    "duration": 10,
    "start_time": "2022-05-02T14:19:17.087Z"
   },
   {
    "duration": 15,
    "start_time": "2022-05-02T14:19:17.099Z"
   },
   {
    "duration": 14,
    "start_time": "2022-05-02T14:19:17.116Z"
   },
   {
    "duration": 58,
    "start_time": "2022-05-02T14:19:17.132Z"
   },
   {
    "duration": 8,
    "start_time": "2022-05-02T14:19:17.192Z"
   },
   {
    "duration": 14,
    "start_time": "2022-05-02T14:19:17.203Z"
   },
   {
    "duration": 12,
    "start_time": "2022-05-02T14:19:17.220Z"
   },
   {
    "duration": 48,
    "start_time": "2022-05-02T14:19:17.234Z"
   },
   {
    "duration": 12,
    "start_time": "2022-05-02T14:19:17.285Z"
   },
   {
    "duration": 14,
    "start_time": "2022-05-02T14:19:17.299Z"
   },
   {
    "duration": 10,
    "start_time": "2022-05-02T14:19:17.316Z"
   },
   {
    "duration": 61,
    "start_time": "2022-05-02T14:19:17.329Z"
   },
   {
    "duration": 12,
    "start_time": "2022-05-02T14:19:17.393Z"
   },
   {
    "duration": 24,
    "start_time": "2022-05-02T14:19:17.408Z"
   },
   {
    "duration": 19,
    "start_time": "2022-05-02T14:19:17.434Z"
   },
   {
    "duration": 63,
    "start_time": "2022-05-02T14:19:17.458Z"
   },
   {
    "duration": 60,
    "start_time": "2022-05-02T14:19:17.523Z"
   },
   {
    "duration": 235,
    "start_time": "2022-05-02T14:19:17.586Z"
   },
   {
    "duration": 12,
    "start_time": "2022-05-02T14:19:17.823Z"
   },
   {
    "duration": 11,
    "start_time": "2022-05-02T14:19:17.838Z"
   },
   {
    "duration": 48,
    "start_time": "2022-05-02T14:19:17.852Z"
   },
   {
    "duration": 35,
    "start_time": "2022-05-02T14:19:17.902Z"
   },
   {
    "duration": 56,
    "start_time": "2022-05-02T14:19:17.945Z"
   },
   {
    "duration": 10,
    "start_time": "2022-05-02T14:19:18.004Z"
   },
   {
    "duration": 7,
    "start_time": "2022-05-02T14:19:18.017Z"
   },
   {
    "duration": 9,
    "start_time": "2022-05-02T14:19:18.027Z"
   },
   {
    "duration": 139,
    "start_time": "2022-05-02T14:19:18.039Z"
   },
   {
    "duration": 41,
    "start_time": "2022-05-02T14:19:25.893Z"
   },
   {
    "duration": 41,
    "start_time": "2022-05-02T14:19:43.016Z"
   },
   {
    "duration": 69,
    "start_time": "2022-05-02T14:19:52.998Z"
   },
   {
    "duration": 62,
    "start_time": "2022-05-02T14:19:56.225Z"
   },
   {
    "duration": 70,
    "start_time": "2022-05-02T14:20:00.709Z"
   },
   {
    "duration": 148,
    "start_time": "2022-05-02T14:20:13.799Z"
   },
   {
    "duration": 67,
    "start_time": "2022-05-02T14:20:17.376Z"
   },
   {
    "duration": 6,
    "start_time": "2022-05-02T14:20:21.852Z"
   },
   {
    "duration": 72,
    "start_time": "2022-05-02T14:20:24.026Z"
   },
   {
    "duration": 7,
    "start_time": "2022-05-02T14:20:30.555Z"
   },
   {
    "duration": 44,
    "start_time": "2022-05-02T14:20:32.454Z"
   },
   {
    "duration": 5,
    "start_time": "2022-05-02T14:20:38.212Z"
   },
   {
    "duration": 58,
    "start_time": "2022-05-02T14:20:39.936Z"
   },
   {
    "duration": 6,
    "start_time": "2022-05-02T14:20:56.360Z"
   },
   {
    "duration": 71,
    "start_time": "2022-05-02T14:20:58.432Z"
   },
   {
    "duration": 9,
    "start_time": "2022-05-02T14:21:05.123Z"
   },
   {
    "duration": 72,
    "start_time": "2022-05-02T14:21:06.685Z"
   },
   {
    "duration": 4,
    "start_time": "2022-05-02T14:21:26.069Z"
   },
   {
    "duration": 41,
    "start_time": "2022-05-02T14:21:29.733Z"
   },
   {
    "duration": 5,
    "start_time": "2022-05-02T14:21:37.191Z"
   },
   {
    "duration": 44,
    "start_time": "2022-05-02T14:21:42.717Z"
   },
   {
    "duration": 10,
    "start_time": "2022-05-02T14:22:05.532Z"
   },
   {
    "duration": 57,
    "start_time": "2022-05-02T14:22:20.060Z"
   },
   {
    "duration": 58,
    "start_time": "2022-05-02T14:22:29.071Z"
   },
   {
    "duration": 61,
    "start_time": "2022-05-02T14:22:33.706Z"
   },
   {
    "duration": 46,
    "start_time": "2022-05-02T14:22:52.469Z"
   },
   {
    "duration": 47,
    "start_time": "2022-05-02T14:22:55.418Z"
   },
   {
    "duration": 46,
    "start_time": "2022-05-02T14:22:59.420Z"
   },
   {
    "duration": 35,
    "start_time": "2022-05-02T14:23:13.686Z"
   },
   {
    "duration": 48,
    "start_time": "2022-05-02T14:23:47.150Z"
   },
   {
    "duration": 46,
    "start_time": "2022-05-02T14:23:57.486Z"
   },
   {
    "duration": 44,
    "start_time": "2022-05-02T14:24:03.867Z"
   },
   {
    "duration": 39,
    "start_time": "2022-05-02T14:25:04.521Z"
   },
   {
    "duration": 40,
    "start_time": "2022-05-02T14:25:09.165Z"
   },
   {
    "duration": 58,
    "start_time": "2022-05-02T14:25:16.229Z"
   },
   {
    "duration": 37,
    "start_time": "2022-05-02T14:25:22.368Z"
   },
   {
    "duration": 3,
    "start_time": "2022-05-02T14:27:43.052Z"
   },
   {
    "duration": 90,
    "start_time": "2022-05-02T14:27:43.058Z"
   },
   {
    "duration": 19,
    "start_time": "2022-05-02T14:27:43.181Z"
   },
   {
    "duration": 14,
    "start_time": "2022-05-02T14:27:43.202Z"
   },
   {
    "duration": 9,
    "start_time": "2022-05-02T14:27:43.220Z"
   },
   {
    "duration": 57,
    "start_time": "2022-05-02T14:27:43.231Z"
   },
   {
    "duration": 3,
    "start_time": "2022-05-02T14:27:43.290Z"
   },
   {
    "duration": 89,
    "start_time": "2022-05-02T14:27:43.295Z"
   },
   {
    "duration": 23,
    "start_time": "2022-05-02T14:27:43.387Z"
   },
   {
    "duration": 10,
    "start_time": "2022-05-02T14:27:43.412Z"
   },
   {
    "duration": 74,
    "start_time": "2022-05-02T14:27:43.424Z"
   },
   {
    "duration": 268,
    "start_time": "2022-05-02T14:27:43.500Z"
   },
   {
    "duration": 11,
    "start_time": "2022-05-02T14:27:43.773Z"
   },
   {
    "duration": 9,
    "start_time": "2022-05-02T14:27:43.786Z"
   },
   {
    "duration": 11,
    "start_time": "2022-05-02T14:27:43.798Z"
   },
   {
    "duration": 3,
    "start_time": "2022-05-02T14:27:43.812Z"
   },
   {
    "duration": 74,
    "start_time": "2022-05-02T14:27:43.818Z"
   },
   {
    "duration": 62,
    "start_time": "2022-05-02T14:27:43.894Z"
   },
   {
    "duration": 25,
    "start_time": "2022-05-02T14:27:43.959Z"
   },
   {
    "duration": 10,
    "start_time": "2022-05-02T14:27:43.987Z"
   },
   {
    "duration": 13,
    "start_time": "2022-05-02T14:27:43.999Z"
   },
   {
    "duration": 17,
    "start_time": "2022-05-02T14:27:44.014Z"
   },
   {
    "duration": 12,
    "start_time": "2022-05-02T14:27:44.034Z"
   },
   {
    "duration": 12,
    "start_time": "2022-05-02T14:27:44.081Z"
   },
   {
    "duration": 12,
    "start_time": "2022-05-02T14:27:44.095Z"
   },
   {
    "duration": 11,
    "start_time": "2022-05-02T14:27:44.109Z"
   },
   {
    "duration": 12,
    "start_time": "2022-05-02T14:27:44.123Z"
   },
   {
    "duration": 48,
    "start_time": "2022-05-02T14:27:44.137Z"
   },
   {
    "duration": 12,
    "start_time": "2022-05-02T14:27:44.187Z"
   },
   {
    "duration": 21,
    "start_time": "2022-05-02T14:27:44.201Z"
   },
   {
    "duration": 14,
    "start_time": "2022-05-02T14:27:44.225Z"
   },
   {
    "duration": 42,
    "start_time": "2022-05-02T14:27:44.241Z"
   },
   {
    "duration": 12,
    "start_time": "2022-05-02T14:27:44.286Z"
   },
   {
    "duration": 29,
    "start_time": "2022-05-02T14:27:44.301Z"
   },
   {
    "duration": 67,
    "start_time": "2022-05-02T14:27:44.333Z"
   },
   {
    "duration": 223,
    "start_time": "2022-05-02T14:27:44.403Z"
   },
   {
    "duration": 11,
    "start_time": "2022-05-02T14:27:44.633Z"
   },
   {
    "duration": 13,
    "start_time": "2022-05-02T14:27:44.646Z"
   },
   {
    "duration": 42,
    "start_time": "2022-05-02T14:27:44.661Z"
   },
   {
    "duration": 30,
    "start_time": "2022-05-02T14:27:44.705Z"
   },
   {
    "duration": 60,
    "start_time": "2022-05-02T14:27:44.738Z"
   },
   {
    "duration": 9,
    "start_time": "2022-05-02T14:27:44.801Z"
   },
   {
    "duration": 5,
    "start_time": "2022-05-02T14:27:44.812Z"
   },
   {
    "duration": 7,
    "start_time": "2022-05-02T14:27:44.820Z"
   },
   {
    "duration": 74,
    "start_time": "2022-05-02T14:27:44.829Z"
   },
   {
    "duration": 3,
    "start_time": "2022-05-02T14:27:44.905Z"
   },
   {
    "duration": 56,
    "start_time": "2022-05-02T14:27:44.910Z"
   },
   {
    "duration": 54,
    "start_time": "2022-05-02T14:27:44.982Z"
   },
   {
    "duration": 74,
    "start_time": "2022-05-02T14:27:45.039Z"
   },
   {
    "duration": 51,
    "start_time": "2022-05-02T14:27:45.115Z"
   }
  ],
  "kernelspec": {
   "display_name": "Python 3 (ipykernel)",
   "language": "python",
   "name": "python3"
  },
  "language_info": {
   "codemirror_mode": {
    "name": "ipython",
    "version": 3
   },
   "file_extension": ".py",
   "mimetype": "text/x-python",
   "name": "python",
   "nbconvert_exporter": "python",
   "pygments_lexer": "ipython3",
   "version": "3.9.7"
  },
  "toc": {
   "base_numbering": 1,
   "nav_menu": {},
   "number_sections": true,
   "sideBar": true,
   "skip_h1_title": true,
   "title_cell": "Table of Contents",
   "title_sidebar": "Contents",
   "toc_cell": false,
   "toc_position": {},
   "toc_section_display": true,
   "toc_window_display": false
  }
 },
 "nbformat": 4,
 "nbformat_minor": 5
}
