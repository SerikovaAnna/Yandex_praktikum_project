{
 "cells": [
  {
   "cell_type": "markdown",
   "metadata": {},
   "source": [
    "# Исследование базы данных сервиса Stackoverflow"
   ]
  },
  {
   "cell_type": "code",
   "execution_count": 1,
   "metadata": {
    "id": "nlZBlglMDWKe"
   },
   "outputs": [],
   "source": [
    "import pandas as pd\n",
    "import matplotlib.pyplot as plt\n",
    "import seaborn as sns\n",
    "from sqlalchemy import create_engine "
   ]
  },
  {
   "cell_type": "markdown",
   "metadata": {
    "id": "XnOE3n28DWKg"
   },
   "source": [
    "### Конфигурация для подключения к базе данных `data-analyst-advanced-sql`\n",
    "Эта база данных содержит схему `stackoverflow`, с которой вы будете работать в проекте"
   ]
  },
  {
   "cell_type": "code",
   "execution_count": 2,
   "metadata": {
    "id": "6p-yGp7qDWKg"
   },
   "outputs": [],
   "source": [
    "db_config = {\n",
    "    'user': 'praktikum_student', # имя пользователя\n",
    "    'pwd': 'Sdf4$2;d-d30pp', # пароль\n",
    "    'host': 'rc1b-wcoijxj3yxfsf3fs.mdb.yandexcloud.net',\n",
    "    'port': 6432, # порт подключения\n",
    "    'db': 'data-analyst-advanced-sql' # название базы данных\n",
    "}  \n",
    "\n",
    "connection_string = 'postgresql://{}:{}@{}:{}/{}'.format(\n",
    "    db_config['user'],\n",
    "    db_config['pwd'],\n",
    "    db_config['host'],\n",
    "    db_config['port'],\n",
    "    db_config['db'],\n",
    ")"
   ]
  },
  {
   "cell_type": "markdown",
   "metadata": {
    "id": "2Rg8ZpS0DWKh"
   },
   "source": [
    "Создание подключения"
   ]
  },
  {
   "cell_type": "code",
   "execution_count": 3,
   "metadata": {
    "id": "DamCUTR6DWKi"
   },
   "outputs": [],
   "source": [
    "engine = create_engine(connection_string) "
   ]
  },
  {
   "cell_type": "markdown",
   "metadata": {
    "id": "bel8XeSlDWKj"
   },
   "source": [
    "Пример запроса к базе данных\n",
    "\n",
    "`sample_df` является pandas-датафреймом."
   ]
  },
  {
   "cell_type": "code",
   "execution_count": 4,
   "metadata": {
    "id": "6Z_fw0yLDWKk"
   },
   "outputs": [],
   "source": [
    "query = '''\n",
    "SELECT *\n",
    "FROM stackoverflow.users\n",
    "LIMIT 10;\n",
    "'''\n",
    "\n",
    "sample_df = pd.read_sql_query(query, con=engine) "
   ]
  },
  {
   "cell_type": "code",
   "execution_count": 5,
   "metadata": {
    "id": "ZpuZ290oDWKk",
    "outputId": "22785a0a-e2bc-4559-ec3c-4879c4b377eb"
   },
   "outputs": [
    {
     "data": {
      "text/html": [
       "<div>\n",
       "<style scoped>\n",
       "    .dataframe tbody tr th:only-of-type {\n",
       "        vertical-align: middle;\n",
       "    }\n",
       "\n",
       "    .dataframe tbody tr th {\n",
       "        vertical-align: top;\n",
       "    }\n",
       "\n",
       "    .dataframe thead th {\n",
       "        text-align: right;\n",
       "    }\n",
       "</style>\n",
       "<table border=\"1\" class=\"dataframe\">\n",
       "  <thead>\n",
       "    <tr style=\"text-align: right;\">\n",
       "      <th></th>\n",
       "      <th>id</th>\n",
       "      <th>creation_date</th>\n",
       "      <th>display_name</th>\n",
       "      <th>last_access_date</th>\n",
       "      <th>location</th>\n",
       "      <th>reputation</th>\n",
       "      <th>views</th>\n",
       "    </tr>\n",
       "  </thead>\n",
       "  <tbody>\n",
       "    <tr>\n",
       "      <th>0</th>\n",
       "      <td>1</td>\n",
       "      <td>2008-07-31 14:22:31</td>\n",
       "      <td>Jeff Atwood</td>\n",
       "      <td>2018-08-29 02:34:23</td>\n",
       "      <td>El Cerrito, CA</td>\n",
       "      <td>44300</td>\n",
       "      <td>408587</td>\n",
       "    </tr>\n",
       "    <tr>\n",
       "      <th>1</th>\n",
       "      <td>2</td>\n",
       "      <td>2008-07-31 14:22:31</td>\n",
       "      <td>Geoff Dalgas</td>\n",
       "      <td>2018-08-23 17:31:56</td>\n",
       "      <td>Corvallis, OR</td>\n",
       "      <td>3491</td>\n",
       "      <td>23966</td>\n",
       "    </tr>\n",
       "    <tr>\n",
       "      <th>2</th>\n",
       "      <td>3</td>\n",
       "      <td>2008-07-31 14:22:31</td>\n",
       "      <td>Jarrod Dixon</td>\n",
       "      <td>2018-08-30 20:56:24</td>\n",
       "      <td>Raleigh, NC, United States</td>\n",
       "      <td>13418</td>\n",
       "      <td>24396</td>\n",
       "    </tr>\n",
       "    <tr>\n",
       "      <th>3</th>\n",
       "      <td>4</td>\n",
       "      <td>2008-07-31 14:22:31</td>\n",
       "      <td>Joel Spolsky</td>\n",
       "      <td>2018-08-14 22:18:15</td>\n",
       "      <td>New York, NY</td>\n",
       "      <td>28768</td>\n",
       "      <td>73755</td>\n",
       "    </tr>\n",
       "    <tr>\n",
       "      <th>4</th>\n",
       "      <td>5</td>\n",
       "      <td>2008-07-31 14:22:31</td>\n",
       "      <td>Jon Galloway</td>\n",
       "      <td>2018-08-29 16:48:36</td>\n",
       "      <td>San Diego, CA</td>\n",
       "      <td>39172</td>\n",
       "      <td>11700</td>\n",
       "    </tr>\n",
       "    <tr>\n",
       "      <th>5</th>\n",
       "      <td>8</td>\n",
       "      <td>2008-07-31 21:33:24</td>\n",
       "      <td>Eggs McLaren</td>\n",
       "      <td>2018-04-09 02:04:56</td>\n",
       "      <td>None</td>\n",
       "      <td>942</td>\n",
       "      <td>6372</td>\n",
       "    </tr>\n",
       "    <tr>\n",
       "      <th>6</th>\n",
       "      <td>9</td>\n",
       "      <td>2008-07-31 21:35:27</td>\n",
       "      <td>Kevin Dente</td>\n",
       "      <td>2018-08-30 18:18:03</td>\n",
       "      <td>Oakland, CA</td>\n",
       "      <td>14337</td>\n",
       "      <td>4949</td>\n",
       "    </tr>\n",
       "    <tr>\n",
       "      <th>7</th>\n",
       "      <td>11</td>\n",
       "      <td>2008-08-01 00:59:11</td>\n",
       "      <td>Anonymous User</td>\n",
       "      <td>2008-08-01 00:59:11</td>\n",
       "      <td>None</td>\n",
       "      <td>1890</td>\n",
       "      <td>2123</td>\n",
       "    </tr>\n",
       "    <tr>\n",
       "      <th>8</th>\n",
       "      <td>13</td>\n",
       "      <td>2008-08-01 04:18:05</td>\n",
       "      <td>Chris Jester-Young</td>\n",
       "      <td>2018-08-30 02:47:23</td>\n",
       "      <td>Raleigh, NC, United States</td>\n",
       "      <td>177138</td>\n",
       "      <td>35414</td>\n",
       "    </tr>\n",
       "    <tr>\n",
       "      <th>9</th>\n",
       "      <td>17</td>\n",
       "      <td>2008-08-01 12:02:22</td>\n",
       "      <td>Nick Berardi</td>\n",
       "      <td>2018-01-22 01:35:38</td>\n",
       "      <td>Issaquah, WA</td>\n",
       "      <td>44443</td>\n",
       "      <td>4786</td>\n",
       "    </tr>\n",
       "  </tbody>\n",
       "</table>\n",
       "</div>"
      ],
      "text/plain": [
       "   id       creation_date        display_name    last_access_date  \\\n",
       "0   1 2008-07-31 14:22:31         Jeff Atwood 2018-08-29 02:34:23   \n",
       "1   2 2008-07-31 14:22:31        Geoff Dalgas 2018-08-23 17:31:56   \n",
       "2   3 2008-07-31 14:22:31        Jarrod Dixon 2018-08-30 20:56:24   \n",
       "3   4 2008-07-31 14:22:31        Joel Spolsky 2018-08-14 22:18:15   \n",
       "4   5 2008-07-31 14:22:31        Jon Galloway 2018-08-29 16:48:36   \n",
       "5   8 2008-07-31 21:33:24        Eggs McLaren 2018-04-09 02:04:56   \n",
       "6   9 2008-07-31 21:35:27         Kevin Dente 2018-08-30 18:18:03   \n",
       "7  11 2008-08-01 00:59:11      Anonymous User 2008-08-01 00:59:11   \n",
       "8  13 2008-08-01 04:18:05  Chris Jester-Young 2018-08-30 02:47:23   \n",
       "9  17 2008-08-01 12:02:22        Nick Berardi 2018-01-22 01:35:38   \n",
       "\n",
       "                     location  reputation   views  \n",
       "0              El Cerrito, CA       44300  408587  \n",
       "1               Corvallis, OR        3491   23966  \n",
       "2  Raleigh, NC, United States       13418   24396  \n",
       "3                New York, NY       28768   73755  \n",
       "4               San Diego, CA       39172   11700  \n",
       "5                        None         942    6372  \n",
       "6                 Oakland, CA       14337    4949  \n",
       "7                        None        1890    2123  \n",
       "8  Raleigh, NC, United States      177138   35414  \n",
       "9                Issaquah, WA       44443    4786  "
      ]
     },
     "execution_count": 5,
     "metadata": {},
     "output_type": "execute_result"
    }
   ],
   "source": [
    "sample_df"
   ]
  },
  {
   "cell_type": "markdown",
   "metadata": {
    "id": "gnBMXkDBDWKm"
   },
   "source": [
    "# Задание 1"
   ]
  },
  {
   "cell_type": "markdown",
   "metadata": {
    "id": "vHsfOrrNDWKn"
   },
   "source": [
    "Выведите общую сумму просмотров постов за каждый месяц 2008 года. Если данных за какой-либо месяц в базе нет, такой месяц можно пропустить. Результат отсортируйте по убыванию общего количества просмотров."
   ]
  },
  {
   "cell_type": "markdown",
   "metadata": {
    "id": "N5rTgGNmDWKn"
   },
   "source": [
    "| month_date  | total_views |\n",
    "| ------------- | ------------- |\n",
    "| 2008-09-01  | 452928568  |\n",
    "| 2008-10-01  | 365400138  |\n",
    "| ...         | ... |"
   ]
  },
  {
   "cell_type": "code",
   "execution_count": 6,
   "metadata": {
    "id": "eWvykcXTDWKo"
   },
   "outputs": [
    {
     "data": {
      "text/html": [
       "<div>\n",
       "<style scoped>\n",
       "    .dataframe tbody tr th:only-of-type {\n",
       "        vertical-align: middle;\n",
       "    }\n",
       "\n",
       "    .dataframe tbody tr th {\n",
       "        vertical-align: top;\n",
       "    }\n",
       "\n",
       "    .dataframe thead th {\n",
       "        text-align: right;\n",
       "    }\n",
       "</style>\n",
       "<table border=\"1\" class=\"dataframe\">\n",
       "  <thead>\n",
       "    <tr style=\"text-align: right;\">\n",
       "      <th></th>\n",
       "      <th>month_date</th>\n",
       "      <th>total_views</th>\n",
       "    </tr>\n",
       "  </thead>\n",
       "  <tbody>\n",
       "    <tr>\n",
       "      <th>0</th>\n",
       "      <td>2008-09-01</td>\n",
       "      <td>452928568</td>\n",
       "    </tr>\n",
       "    <tr>\n",
       "      <th>1</th>\n",
       "      <td>2008-10-01</td>\n",
       "      <td>365400138</td>\n",
       "    </tr>\n",
       "    <tr>\n",
       "      <th>2</th>\n",
       "      <td>2008-11-01</td>\n",
       "      <td>221759651</td>\n",
       "    </tr>\n",
       "    <tr>\n",
       "      <th>3</th>\n",
       "      <td>2008-12-01</td>\n",
       "      <td>197792841</td>\n",
       "    </tr>\n",
       "    <tr>\n",
       "      <th>4</th>\n",
       "      <td>2008-08-01</td>\n",
       "      <td>131367083</td>\n",
       "    </tr>\n",
       "    <tr>\n",
       "      <th>5</th>\n",
       "      <td>2008-07-01</td>\n",
       "      <td>669895</td>\n",
       "    </tr>\n",
       "  </tbody>\n",
       "</table>\n",
       "</div>"
      ],
      "text/plain": [
       "   month_date  total_views\n",
       "0  2008-09-01    452928568\n",
       "1  2008-10-01    365400138\n",
       "2  2008-11-01    221759651\n",
       "3  2008-12-01    197792841\n",
       "4  2008-08-01    131367083\n",
       "5  2008-07-01       669895"
      ]
     },
     "metadata": {},
     "output_type": "display_data"
    }
   ],
   "source": [
    "# напишите запрос\n",
    "query = '''\n",
    "SELECT CAST(DATE_TRUNC ('month', creation_date) AS date) AS month_date, SUM(views_count) AS total_views\n",
    "FROM stackoverflow.posts\n",
    "WHERE CAST(DATE_TRUNC ('month', creation_date) AS date) BETWEEN '2008-01-01' AND '2008-12-31'\n",
    "GROUP BY month_date\n",
    "ORDER BY total_views DESC;\n",
    "'''\n",
    "\n",
    "month_views = pd.read_sql_query(query, con = engine) # выполните запрос\n",
    "display(month_views)"
   ]
  },
  {
   "cell_type": "markdown",
   "metadata": {
    "id": "XMr_UeU6DWKo"
   },
   "source": [
    "<details>\n",
    "\n",
    "<summary>Подсказка</summary>\n",
    "Используйте функцию для усечения даты, а затем сгруппируйте и отсортируйте данные.\n",
    "</details>"
   ]
  },
  {
   "cell_type": "markdown",
   "metadata": {
    "id": "I_ZvhOxkDWKp"
   },
   "source": [
    "Проанализируйте итоговую таблицу. Отличаются ли данные за разные месяцы? С чем могут быть связаны отличия?"
   ]
  },
  {
   "cell_type": "markdown",
   "metadata": {},
   "source": [
    "Худшие месяцы по кол-ву просмотров - июль и август, такие результаты скорее всего можно связать с сезонным фактором. \n",
    "Лето - пора отпусков. Интерес резко возрастает в сентября, далее с каждым месяцем снижается"
   ]
  },
  {
   "cell_type": "markdown",
   "metadata": {
    "id": "FziIXkn5DWKr"
   },
   "source": [
    "# Задание 2"
   ]
  },
  {
   "cell_type": "markdown",
   "metadata": {
    "id": "fTGESZvYDWKr"
   },
   "source": [
    "Выведите имена самых активных пользователей, которые в первый месяц после регистрации (включая день регистрации) дали больше 100 ответов. Вопросы, которые задавали пользователи, не учитывайте. Для каждого имени пользователя выведите количество уникальных значений `user_id`. Отсортируйте результат по полю с именами в лексикографическом порядке."
   ]
  },
  {
   "cell_type": "markdown",
   "metadata": {
    "id": "W5-tv6Y3DWKs"
   },
   "source": [
    "| display_name | count |\n",
    "| ------------ | ----- |\n",
    "| 1800 INFORMATION | 1 |\n",
    "| Adam Bellaire | 1 |\n",
    "| Adam Davis | 1 |\n",
    "| ... | ... |"
   ]
  },
  {
   "cell_type": "code",
   "execution_count": 8,
   "metadata": {
    "id": "fIO-y-YjDWKt"
   },
   "outputs": [
    {
     "data": {
      "text/html": [
       "<div>\n",
       "<style scoped>\n",
       "    .dataframe tbody tr th:only-of-type {\n",
       "        vertical-align: middle;\n",
       "    }\n",
       "\n",
       "    .dataframe tbody tr th {\n",
       "        vertical-align: top;\n",
       "    }\n",
       "\n",
       "    .dataframe thead th {\n",
       "        text-align: right;\n",
       "    }\n",
       "</style>\n",
       "<table border=\"1\" class=\"dataframe\">\n",
       "  <thead>\n",
       "    <tr style=\"text-align: right;\">\n",
       "      <th></th>\n",
       "      <th>display_name</th>\n",
       "      <th>count</th>\n",
       "    </tr>\n",
       "  </thead>\n",
       "  <tbody>\n",
       "    <tr>\n",
       "      <th>0</th>\n",
       "      <td>1800 INFORMATION</td>\n",
       "      <td>1</td>\n",
       "    </tr>\n",
       "    <tr>\n",
       "      <th>1</th>\n",
       "      <td>Adam Bellaire</td>\n",
       "      <td>1</td>\n",
       "    </tr>\n",
       "    <tr>\n",
       "      <th>2</th>\n",
       "      <td>Adam Davis</td>\n",
       "      <td>1</td>\n",
       "    </tr>\n",
       "    <tr>\n",
       "      <th>3</th>\n",
       "      <td>Adam Liss</td>\n",
       "      <td>1</td>\n",
       "    </tr>\n",
       "    <tr>\n",
       "      <th>4</th>\n",
       "      <td>Alan</td>\n",
       "      <td>8</td>\n",
       "    </tr>\n",
       "    <tr>\n",
       "      <th>...</th>\n",
       "      <td>...</td>\n",
       "      <td>...</td>\n",
       "    </tr>\n",
       "    <tr>\n",
       "      <th>71</th>\n",
       "      <td>leppie</td>\n",
       "      <td>1</td>\n",
       "    </tr>\n",
       "    <tr>\n",
       "      <th>72</th>\n",
       "      <td>lomaxx</td>\n",
       "      <td>1</td>\n",
       "    </tr>\n",
       "    <tr>\n",
       "      <th>73</th>\n",
       "      <td>mattlant</td>\n",
       "      <td>1</td>\n",
       "    </tr>\n",
       "    <tr>\n",
       "      <th>74</th>\n",
       "      <td>paxdiablo</td>\n",
       "      <td>1</td>\n",
       "    </tr>\n",
       "    <tr>\n",
       "      <th>75</th>\n",
       "      <td>tzot</td>\n",
       "      <td>1</td>\n",
       "    </tr>\n",
       "  </tbody>\n",
       "</table>\n",
       "<p>76 rows × 2 columns</p>\n",
       "</div>"
      ],
      "text/plain": [
       "        display_name  count\n",
       "0   1800 INFORMATION      1\n",
       "1      Adam Bellaire      1\n",
       "2         Adam Davis      1\n",
       "3          Adam Liss      1\n",
       "4               Alan      8\n",
       "..               ...    ...\n",
       "71            leppie      1\n",
       "72            lomaxx      1\n",
       "73          mattlant      1\n",
       "74         paxdiablo      1\n",
       "75              tzot      1\n",
       "\n",
       "[76 rows x 2 columns]"
      ]
     },
     "metadata": {},
     "output_type": "display_data"
    }
   ],
   "source": [
    "# напишите запрос\n",
    "query = '''\n",
    "SELECT u.display_name, COUNT(DISTINCT(p.user_id))\n",
    "FROM stackoverflow.posts p\n",
    "JOIN stackoverflow.users u ON p.user_id = u.id\n",
    "WHERE p.post_type_id=2 AND\n",
    "(p.creation_date >= DATE_TRUNC('day', u.creation_date) AND p.creation_date <= DATE_TRUNC('day', u.creation_date) + INTERVAL '1 month')\n",
    "GROUP BY u.display_name\n",
    "HAVING COUNT(p.id) > 100\n",
    "\n",
    "'''\n",
    "\n",
    "most_activ = pd.read_sql_query(query, con = engine) # выполните запрос\n",
    "display(most_activ)"
   ]
  },
  {
   "cell_type": "markdown",
   "metadata": {},
   "source": [
    "У части юзеров из получившегося списка по несколько идентификаторов пользователя. Имена пользователей в БД не уникальны."
   ]
  },
  {
   "cell_type": "markdown",
   "metadata": {
    "id": "JhM2xXj5DWKu"
   },
   "source": [
    "# Задание 3"
   ]
  },
  {
   "cell_type": "markdown",
   "metadata": {
    "id": "IS6xPqyyDWKu"
   },
   "source": [
    "Выведите количество постов за 2008 год по месяцам. Отберите посты от пользователей, которые зарегистрировались в сентябре 2008 года и сделали хотя бы один пост в декабре того же года. Отсортируйте таблицу по значению месяца по убыванию."
   ]
  },
  {
   "cell_type": "markdown",
   "metadata": {
    "id": "WmjhjV2xDWKv"
   },
   "source": [
    "| month | count |\n",
    "| ------|------ |\n",
    "| 2008-12-01 | 17641 |\n",
    "| 2008-11-01 | 18294 |\n",
    "| ... | ... |"
   ]
  },
  {
   "cell_type": "code",
   "execution_count": 10,
   "metadata": {
    "id": "kVu0FB8WDWKv"
   },
   "outputs": [
    {
     "data": {
      "text/html": [
       "<div>\n",
       "<style scoped>\n",
       "    .dataframe tbody tr th:only-of-type {\n",
       "        vertical-align: middle;\n",
       "    }\n",
       "\n",
       "    .dataframe tbody tr th {\n",
       "        vertical-align: top;\n",
       "    }\n",
       "\n",
       "    .dataframe thead th {\n",
       "        text-align: right;\n",
       "    }\n",
       "</style>\n",
       "<table border=\"1\" class=\"dataframe\">\n",
       "  <thead>\n",
       "    <tr style=\"text-align: right;\">\n",
       "      <th></th>\n",
       "      <th>month</th>\n",
       "      <th>count</th>\n",
       "    </tr>\n",
       "  </thead>\n",
       "  <tbody>\n",
       "    <tr>\n",
       "      <th>0</th>\n",
       "      <td>2008-12-01</td>\n",
       "      <td>17641</td>\n",
       "    </tr>\n",
       "    <tr>\n",
       "      <th>1</th>\n",
       "      <td>2008-11-01</td>\n",
       "      <td>18294</td>\n",
       "    </tr>\n",
       "    <tr>\n",
       "      <th>2</th>\n",
       "      <td>2008-10-01</td>\n",
       "      <td>27171</td>\n",
       "    </tr>\n",
       "    <tr>\n",
       "      <th>3</th>\n",
       "      <td>2008-09-01</td>\n",
       "      <td>24870</td>\n",
       "    </tr>\n",
       "    <tr>\n",
       "      <th>4</th>\n",
       "      <td>2008-08-01</td>\n",
       "      <td>32</td>\n",
       "    </tr>\n",
       "  </tbody>\n",
       "</table>\n",
       "</div>"
      ],
      "text/plain": [
       "        month  count\n",
       "0  2008-12-01  17641\n",
       "1  2008-11-01  18294\n",
       "2  2008-10-01  27171\n",
       "3  2008-09-01  24870\n",
       "4  2008-08-01     32"
      ]
     },
     "metadata": {},
     "output_type": "display_data"
    }
   ],
   "source": [
    "# напишите запрос\n",
    "query = '''\n",
    "SELECT CAST(DATE_TRUNC('month', creation_date) AS date) AS month, COUNT(id)\n",
    "FROM stackoverflow.posts\n",
    "WHERE user_id IN\n",
    "(SELECT user_id\n",
    "FROM stackoverflow.users u\n",
    "JOIN stackoverflow.posts as p ON p.user_id = u.id\n",
    "WHERE u.creation_date::date BETWEEN '2008-09-01' AND '2008-09-30'\n",
    "AND p.creation_date::date BETWEEN '2008-12-01' AND '2008-12-31')\n",
    "\n",
    "GROUP BY month\n",
    "ORDER BY month DESC\n",
    "'''\n",
    "\n",
    "posts_by_month = pd.read_sql_query(query, con = engine) \n",
    "display(posts_by_month) # выполните запрос"
   ]
  },
  {
   "cell_type": "markdown",
   "metadata": {},
   "source": [
    "В отборку попали только пользователи, зарегестрированные в сентября, они не могли написать 32 поста в августе.\n",
    "Возможно проблема в разнице часовых поясов регистрации пользователся и публикации постов."
   ]
  },
  {
   "cell_type": "markdown",
   "metadata": {
    "id": "5Pcizm0DDWKz"
   },
   "source": [
    "# Задание 4"
   ]
  },
  {
   "cell_type": "markdown",
   "metadata": {
    "id": "KUZPF6vHDWKz"
   },
   "source": [
    "Используя данные о постах, выведите несколько полей:\n",
    "\n",
    "- идентификатор пользователя, который написал пост;\n",
    "- дата создания поста;\n",
    "- количество просмотров у текущего поста;\n",
    "- сумму просмотров постов автора с накоплением.\n",
    "\n",
    "Данные в таблице должны быть отсортированы по возрастанию идентификаторов пользователей, а данные об одном и том же пользователе — по возрастанию даты создания поста."
   ]
  },
  {
   "cell_type": "markdown",
   "metadata": {
    "id": "ZpsTUVDYDWK0"
   },
   "source": [
    "| user_id | creation_date | views_count | cumulative_count |\n",
    "| ------ | -------------- | ----------- | ---------------- |\n",
    "| 1 | 2008-07-31 23:41:00  | 480476   | 480476  |\n",
    "| 1 | 2008-07-31 23:55:38  | 136033 | 616509  | \n",
    "| 1 | 2008-07-31 23:56:41  | 0 |  616509  |\n",
    "| ... | ... | ... | ... |\n",
    "| 2 | 2008-07-31 23:56:41 | 79087  | 79087 |\n",
    "| 2 | 2008-08-01 05:09:56 | 65443 | 144530 |\n",
    "| ... | ...  | ...  | ...  |"
   ]
  },
  {
   "cell_type": "code",
   "execution_count": 12,
   "metadata": {
    "id": "hDoJhMzfDWK0"
   },
   "outputs": [
    {
     "data": {
      "text/html": [
       "<div>\n",
       "<style scoped>\n",
       "    .dataframe tbody tr th:only-of-type {\n",
       "        vertical-align: middle;\n",
       "    }\n",
       "\n",
       "    .dataframe tbody tr th {\n",
       "        vertical-align: top;\n",
       "    }\n",
       "\n",
       "    .dataframe thead th {\n",
       "        text-align: right;\n",
       "    }\n",
       "</style>\n",
       "<table border=\"1\" class=\"dataframe\">\n",
       "  <thead>\n",
       "    <tr style=\"text-align: right;\">\n",
       "      <th></th>\n",
       "      <th>user_id</th>\n",
       "      <th>creation_date</th>\n",
       "      <th>views_count</th>\n",
       "      <th>cumulative_count</th>\n",
       "    </tr>\n",
       "  </thead>\n",
       "  <tbody>\n",
       "    <tr>\n",
       "      <th>0</th>\n",
       "      <td>1</td>\n",
       "      <td>2008-07-31 23:41:00</td>\n",
       "      <td>480476</td>\n",
       "      <td>480476</td>\n",
       "    </tr>\n",
       "    <tr>\n",
       "      <th>1</th>\n",
       "      <td>1</td>\n",
       "      <td>2008-07-31 23:55:38</td>\n",
       "      <td>136033</td>\n",
       "      <td>616509</td>\n",
       "    </tr>\n",
       "    <tr>\n",
       "      <th>2</th>\n",
       "      <td>1</td>\n",
       "      <td>2008-07-31 23:56:41</td>\n",
       "      <td>0</td>\n",
       "      <td>616509</td>\n",
       "    </tr>\n",
       "    <tr>\n",
       "      <th>3</th>\n",
       "      <td>1</td>\n",
       "      <td>2008-08-04 02:45:08</td>\n",
       "      <td>0</td>\n",
       "      <td>616509</td>\n",
       "    </tr>\n",
       "    <tr>\n",
       "      <th>4</th>\n",
       "      <td>1</td>\n",
       "      <td>2008-08-04 04:31:03</td>\n",
       "      <td>0</td>\n",
       "      <td>616509</td>\n",
       "    </tr>\n",
       "    <tr>\n",
       "      <th>...</th>\n",
       "      <td>...</td>\n",
       "      <td>...</td>\n",
       "      <td>...</td>\n",
       "      <td>...</td>\n",
       "    </tr>\n",
       "    <tr>\n",
       "      <th>243791</th>\n",
       "      <td>5696608</td>\n",
       "      <td>2008-12-23 16:00:37</td>\n",
       "      <td>0</td>\n",
       "      <td>2804</td>\n",
       "    </tr>\n",
       "    <tr>\n",
       "      <th>243792</th>\n",
       "      <td>5696608</td>\n",
       "      <td>2008-12-23 17:35:09</td>\n",
       "      <td>0</td>\n",
       "      <td>2804</td>\n",
       "    </tr>\n",
       "    <tr>\n",
       "      <th>243793</th>\n",
       "      <td>5696608</td>\n",
       "      <td>2008-12-24 01:02:48</td>\n",
       "      <td>0</td>\n",
       "      <td>2804</td>\n",
       "    </tr>\n",
       "    <tr>\n",
       "      <th>243794</th>\n",
       "      <td>5696608</td>\n",
       "      <td>2008-12-30 14:34:45</td>\n",
       "      <td>0</td>\n",
       "      <td>2804</td>\n",
       "    </tr>\n",
       "    <tr>\n",
       "      <th>243795</th>\n",
       "      <td>5696608</td>\n",
       "      <td>2008-12-30 16:32:12</td>\n",
       "      <td>0</td>\n",
       "      <td>2804</td>\n",
       "    </tr>\n",
       "  </tbody>\n",
       "</table>\n",
       "<p>243796 rows × 4 columns</p>\n",
       "</div>"
      ],
      "text/plain": [
       "        user_id       creation_date  views_count  cumulative_count\n",
       "0             1 2008-07-31 23:41:00       480476            480476\n",
       "1             1 2008-07-31 23:55:38       136033            616509\n",
       "2             1 2008-07-31 23:56:41            0            616509\n",
       "3             1 2008-08-04 02:45:08            0            616509\n",
       "4             1 2008-08-04 04:31:03            0            616509\n",
       "...         ...                 ...          ...               ...\n",
       "243791  5696608 2008-12-23 16:00:37            0              2804\n",
       "243792  5696608 2008-12-23 17:35:09            0              2804\n",
       "243793  5696608 2008-12-24 01:02:48            0              2804\n",
       "243794  5696608 2008-12-30 14:34:45            0              2804\n",
       "243795  5696608 2008-12-30 16:32:12            0              2804\n",
       "\n",
       "[243796 rows x 4 columns]"
      ]
     },
     "metadata": {},
     "output_type": "display_data"
    }
   ],
   "source": [
    "# напишите запрос\n",
    "query = '''\n",
    "SELECT user_id, creation_date, views_count, \n",
    "SUM(views_count) OVER(PARTITION BY user_id ORDER BY creation_date) AS cumulative_count\n",
    "FROM stackoverflow.posts\n",
    "ORDER BY user_id, creation_date\n",
    "'''\n",
    "\n",
    "work_four = pd.read_sql_query(query, con = engine) # выполните запрос\n",
    "display(work_four)"
   ]
  },
  {
   "cell_type": "markdown",
   "metadata": {
    "id": "N0kHRHvIDWK2"
   },
   "source": [
    "# Задание 5"
   ]
  },
  {
   "cell_type": "markdown",
   "metadata": {
    "id": "gBgvmPtODWK2"
   },
   "source": [
    "Найдите среднее количество постов пользователей в день за август 2008 года. Отберите данные о пользователях, которые опубликовали больше 120 постов за август. Дни без публикаций не учитывайте. \n",
    "\n",
    "Отсортируйте результат по возрастанию среднего количества постов. Значения можно не округлять."
   ]
  },
  {
   "cell_type": "markdown",
   "metadata": {
    "id": "nfzR08BODWK3"
   },
   "source": [
    "| user_id | avg_daily |\n",
    "| ------- | --------- |\n",
    "| 116     | 4.777778  |\n",
    "| 234     | 5.208333  |\n",
    "| ...     | ... |"
   ]
  },
  {
   "cell_type": "code",
   "execution_count": 13,
   "metadata": {
    "id": "YFyPNz5GDWK3"
   },
   "outputs": [
    {
     "data": {
      "text/html": [
       "<div>\n",
       "<style scoped>\n",
       "    .dataframe tbody tr th:only-of-type {\n",
       "        vertical-align: middle;\n",
       "    }\n",
       "\n",
       "    .dataframe tbody tr th {\n",
       "        vertical-align: top;\n",
       "    }\n",
       "\n",
       "    .dataframe thead th {\n",
       "        text-align: right;\n",
       "    }\n",
       "</style>\n",
       "<table border=\"1\" class=\"dataframe\">\n",
       "  <thead>\n",
       "    <tr style=\"text-align: right;\">\n",
       "      <th></th>\n",
       "      <th>user_id</th>\n",
       "      <th>avg_daily</th>\n",
       "    </tr>\n",
       "  </thead>\n",
       "  <tbody>\n",
       "    <tr>\n",
       "      <th>0</th>\n",
       "      <td>116</td>\n",
       "      <td>4.777778</td>\n",
       "    </tr>\n",
       "    <tr>\n",
       "      <th>1</th>\n",
       "      <td>234</td>\n",
       "      <td>5.208333</td>\n",
       "    </tr>\n",
       "    <tr>\n",
       "      <th>2</th>\n",
       "      <td>91</td>\n",
       "      <td>5.681818</td>\n",
       "    </tr>\n",
       "    <tr>\n",
       "      <th>3</th>\n",
       "      <td>905</td>\n",
       "      <td>7.000000</td>\n",
       "    </tr>\n",
       "    <tr>\n",
       "      <th>4</th>\n",
       "      <td>383</td>\n",
       "      <td>7.277778</td>\n",
       "    </tr>\n",
       "  </tbody>\n",
       "</table>\n",
       "</div>"
      ],
      "text/plain": [
       "   user_id  avg_daily\n",
       "0      116   4.777778\n",
       "1      234   5.208333\n",
       "2       91   5.681818\n",
       "3      905   7.000000\n",
       "4      383   7.277778"
      ]
     },
     "metadata": {},
     "output_type": "display_data"
    }
   ],
   "source": [
    "# напишите запрос\n",
    "query = '''\n",
    "WITH cut AS\n",
    "(SELECT user_id, EXTRACT(DAY FROM creation_date::date) cut_day, COUNT(id) day_post\n",
    "FROM stackoverflow.posts\n",
    "WHERE user_id in \n",
    "(SELECT user_id\n",
    "FROM stackoverflow.posts\n",
    "WHERE creation_date::date >= '2008-08-01' AND creation_date::date <= '2008-08-31'\n",
    "GROUP BY user_id\n",
    "HAVING COUNT(user_id) > 120)\n",
    "AND creation_date::date >= '2008-08-01' AND creation_date::date <= '2008-08-31'\n",
    "GROUP BY user_id, cut_day)\n",
    "\n",
    "SELECT user_id, AVG(day_post) avg_daily\n",
    "FROM cut\n",
    "GROUP BY user_id\n",
    "ORDER BY avg_daily\n",
    "'''\n",
    "\n",
    "daily_user_post = pd.read_sql_query(query, con = engine) # выполните запрос\n",
    "display(daily_user_post)"
   ]
  },
  {
   "cell_type": "markdown",
   "metadata": {
    "id": "EQ0dcFH4DWK5"
   },
   "source": [
    "# Задание 6"
   ]
  },
  {
   "cell_type": "markdown",
   "metadata": {
    "id": "c7flfg_hDWK5"
   },
   "source": [
    "Сколько в среднем дней в период с 1 по 7 декабря 2008 года пользователи взаимодействовали с платформой? Для каждого пользователя отберите дни, в которые он или она опубликовали хотя бы один пост. Нужно получить одно целое число — не забудьте округлить результат. "
   ]
  },
  {
   "cell_type": "markdown",
   "metadata": {
    "id": "RC1Ibzm9DWK6"
   },
   "source": [
    "| result |\n",
    "| -----  |\n",
    "| <целое число> |"
   ]
  },
  {
   "cell_type": "code",
   "execution_count": 14,
   "metadata": {
    "id": "kZ7LXTr6DWK6"
   },
   "outputs": [
    {
     "data": {
      "text/html": [
       "<div>\n",
       "<style scoped>\n",
       "    .dataframe tbody tr th:only-of-type {\n",
       "        vertical-align: middle;\n",
       "    }\n",
       "\n",
       "    .dataframe tbody tr th {\n",
       "        vertical-align: top;\n",
       "    }\n",
       "\n",
       "    .dataframe thead th {\n",
       "        text-align: right;\n",
       "    }\n",
       "</style>\n",
       "<table border=\"1\" class=\"dataframe\">\n",
       "  <thead>\n",
       "    <tr style=\"text-align: right;\">\n",
       "      <th></th>\n",
       "      <th>round</th>\n",
       "    </tr>\n",
       "  </thead>\n",
       "  <tbody>\n",
       "    <tr>\n",
       "      <th>0</th>\n",
       "      <td>2.0</td>\n",
       "    </tr>\n",
       "  </tbody>\n",
       "</table>\n",
       "</div>"
      ],
      "text/plain": [
       "   round\n",
       "0    2.0"
      ]
     },
     "metadata": {},
     "output_type": "display_data"
    }
   ],
   "source": [
    "# напишите запрос\n",
    "query = '''\n",
    "WITH count_day AS\n",
    "(SELECT user_id, COUNT(DISTINCT(creation_date::date))\n",
    "FROM stackoverflow.posts\n",
    "WHERE creation_date::date BETWEEN '2008-12-01' AND '2008-12-07'\n",
    "GROUP BY user_id)\n",
    "\n",
    "SELECT ROUND(AVG(count),0)\n",
    "FROM count_day\n",
    "\n",
    "'''\n",
    "work_six = pd.read_sql_query(query, con = engine) # выполните запрос\n",
    "display(work_six)\n",
    "# выполните запрос"
   ]
  },
  {
   "cell_type": "markdown",
   "metadata": {},
   "source": [
    "В среднем пользователь взаимодействуетс платформой 2 раза в неделю."
   ]
  },
  {
   "cell_type": "markdown",
   "metadata": {
    "id": "wfOmqmfLDWK8"
   },
   "source": [
    "# Задание 7"
   ]
  },
  {
   "cell_type": "markdown",
   "metadata": {
    "id": "X4ARQimADWK9"
   },
   "source": [
    "Выведите историю активности каждого пользователя в таком виде: идентификатор пользователя, дата публикации поста. Отсортируйте вывод по возрастанию идентификаторов пользователей, а для каждого пользователя — по возрастанию даты публикации.\n",
    "\n",
    "Добавьте в таблицу новое поле: для каждого поста в нём будет указано название месяца предпоследней публикации пользователя относительно текущей. Если такой публикации нет, укажите `NULL`.  Python автоматически поменяет `NULL` на `None`, но дополнительно преобразовывать значения `None` вам не нужно.\n",
    "\n",
    "Посмотрите внимательно на образец таблицы: для первых двух постов предпоследней публикации нет, но, начиная с третьего поста, в новое поле входит нужный месяц. Для следующего пользователя в первые две записи поля `second_last_month` тоже войдёт `NULL`."
   ]
  },
  {
   "cell_type": "markdown",
   "metadata": {
    "id": "IGPjRP01DWK9"
   },
   "source": [
    "| user_id | creation_date | second_last_month |\n",
    "| ------- | ------------- | ----------------- |\n",
    "| 1       | 2008-07-31 23:41:00 | None |\n",
    "| 1       | 2008-07-31 23:55:38 | None |\n",
    "| 1       | 2008-07-31 23:56:41 | July |\n",
    "| 1       | 2008-08-04 02:45:08 | July |\n",
    "| 1       | 2008-08-04 04:31:03 | July |\n",
    "| 1       | 2008-08-04 08:04:42 | August |\n",
    "| ... | ... | ... |"
   ]
  },
  {
   "cell_type": "code",
   "execution_count": 16,
   "metadata": {
    "id": "HzI1vhaMDWK-"
   },
   "outputs": [
    {
     "data": {
      "text/html": [
       "<div>\n",
       "<style scoped>\n",
       "    .dataframe tbody tr th:only-of-type {\n",
       "        vertical-align: middle;\n",
       "    }\n",
       "\n",
       "    .dataframe tbody tr th {\n",
       "        vertical-align: top;\n",
       "    }\n",
       "\n",
       "    .dataframe thead th {\n",
       "        text-align: right;\n",
       "    }\n",
       "</style>\n",
       "<table border=\"1\" class=\"dataframe\">\n",
       "  <thead>\n",
       "    <tr style=\"text-align: right;\">\n",
       "      <th></th>\n",
       "      <th>user_id</th>\n",
       "      <th>creation_date</th>\n",
       "      <th>second_last_month</th>\n",
       "    </tr>\n",
       "  </thead>\n",
       "  <tbody>\n",
       "    <tr>\n",
       "      <th>0</th>\n",
       "      <td>1</td>\n",
       "      <td>2008-07-31 23:41:00</td>\n",
       "      <td>None</td>\n",
       "    </tr>\n",
       "    <tr>\n",
       "      <th>1</th>\n",
       "      <td>1</td>\n",
       "      <td>2008-07-31 23:55:38</td>\n",
       "      <td>None</td>\n",
       "    </tr>\n",
       "    <tr>\n",
       "      <th>2</th>\n",
       "      <td>1</td>\n",
       "      <td>2008-07-31 23:56:41</td>\n",
       "      <td>July</td>\n",
       "    </tr>\n",
       "    <tr>\n",
       "      <th>3</th>\n",
       "      <td>1</td>\n",
       "      <td>2008-08-04 02:45:08</td>\n",
       "      <td>July</td>\n",
       "    </tr>\n",
       "    <tr>\n",
       "      <th>4</th>\n",
       "      <td>1</td>\n",
       "      <td>2008-08-04 04:31:03</td>\n",
       "      <td>July</td>\n",
       "    </tr>\n",
       "    <tr>\n",
       "      <th>...</th>\n",
       "      <td>...</td>\n",
       "      <td>...</td>\n",
       "      <td>...</td>\n",
       "    </tr>\n",
       "    <tr>\n",
       "      <th>243791</th>\n",
       "      <td>5696608</td>\n",
       "      <td>2008-12-23 16:00:37</td>\n",
       "      <td>December</td>\n",
       "    </tr>\n",
       "    <tr>\n",
       "      <th>243792</th>\n",
       "      <td>5696608</td>\n",
       "      <td>2008-12-23 17:35:09</td>\n",
       "      <td>December</td>\n",
       "    </tr>\n",
       "    <tr>\n",
       "      <th>243793</th>\n",
       "      <td>5696608</td>\n",
       "      <td>2008-12-24 01:02:48</td>\n",
       "      <td>December</td>\n",
       "    </tr>\n",
       "    <tr>\n",
       "      <th>243794</th>\n",
       "      <td>5696608</td>\n",
       "      <td>2008-12-30 14:34:45</td>\n",
       "      <td>December</td>\n",
       "    </tr>\n",
       "    <tr>\n",
       "      <th>243795</th>\n",
       "      <td>5696608</td>\n",
       "      <td>2008-12-30 16:32:12</td>\n",
       "      <td>December</td>\n",
       "    </tr>\n",
       "  </tbody>\n",
       "</table>\n",
       "<p>243796 rows × 3 columns</p>\n",
       "</div>"
      ],
      "text/plain": [
       "        user_id       creation_date second_last_month\n",
       "0             1 2008-07-31 23:41:00              None\n",
       "1             1 2008-07-31 23:55:38              None\n",
       "2             1 2008-07-31 23:56:41              July\n",
       "3             1 2008-08-04 02:45:08              July\n",
       "4             1 2008-08-04 04:31:03              July\n",
       "...         ...                 ...               ...\n",
       "243791  5696608 2008-12-23 16:00:37          December\n",
       "243792  5696608 2008-12-23 17:35:09          December\n",
       "243793  5696608 2008-12-24 01:02:48          December\n",
       "243794  5696608 2008-12-30 14:34:45          December\n",
       "243795  5696608 2008-12-30 16:32:12          December\n",
       "\n",
       "[243796 rows x 3 columns]"
      ]
     },
     "metadata": {},
     "output_type": "display_data"
    }
   ],
   "source": [
    "# напишите запрос\n",
    "query = '''\n",
    "SELECT user_id, creation_date, \n",
    "CASE EXTRACT(MONTH FROM LAG(creation_date, 2) OVER (PARTITION BY user_id ORDER BY creation_date))\n",
    "WHEN '7.0' THEN 'July'\n",
    "WHEN '8.0' THEN 'August'\n",
    "WHEN '9.0' THEN 'September'\n",
    "WHEN '10.0' THEN 'October'\n",
    "WHEN '11.0' THEN 'November'\n",
    "WHEN '12.0' THEN 'December'\n",
    "END second_last_month\n",
    "FROM stackoverflow.posts\n",
    "ORDER BY user_id, creation_date\n",
    "'''\n",
    "\n",
    "work_seven = pd.read_sql_query(query, con = engine) # выполните запрос\n",
    "display(work_seven)"
   ]
  },
  {
   "cell_type": "markdown",
   "metadata": {
    "id": "tf9qq2yzDWK_"
   },
   "source": [
    "# Задание 8"
   ]
  },
  {
   "cell_type": "markdown",
   "metadata": {
    "id": "gfwLVXBYDWLA"
   },
   "source": [
    "Рассчитайте аналог Retention Rate по месяцам для пользователей StackOverflow. Объедините пользователей в когорты по месяцу их первого поста. Возвращение определяйте по наличию поста в текущем месяце. "
   ]
  },
  {
   "cell_type": "markdown",
   "metadata": {
    "id": "kN2ic39WlKpl"
   },
   "source": [
    "| cohort_dt | session_date | users_cnt | cohort_users_cnt | retention_rate |\n",
    "| --- | --- | --- | --- | --- |\n",
    "| 2008-07-01 00:00:00 | 2008-07-01 00:00:00 | 3 | 3 | 100 |\n",
    "| 2008-07-01 00:00:00 | 2008-08-01 00:00:00 | 2 | 3 | 66,67 |\n",
    "| 2008-07-01 00:00:00 | 2008-09-01 00:00:00 | 1 | 3 | 33,33 |\n",
    "| 2008-07-01 00:00:00 | 2008-10-01 00:00:00 | 2 | 3 | 66,67 |\n",
    "| 2008-07-01 00:00:00 | 2008-11-01 00:00:00 | 1 | 3 | 33,33 |\n",
    "| 2008-07-01 00:00:00 | 2008-12-01 00:00:00 | 2 | 3 | 66,67 |\n",
    "| 2008-08-01 00:00:00 | 2008-08-01 00:00:00 | 2151 | 2151 | 100 |\n",
    "| ... | ... | ... | ... | ... |"
   ]
  },
  {
   "cell_type": "code",
   "execution_count": 17,
   "metadata": {
    "id": "LUgFmwmTDWLB"
   },
   "outputs": [
    {
     "data": {
      "text/html": [
       "<div>\n",
       "<style scoped>\n",
       "    .dataframe tbody tr th:only-of-type {\n",
       "        vertical-align: middle;\n",
       "    }\n",
       "\n",
       "    .dataframe tbody tr th {\n",
       "        vertical-align: top;\n",
       "    }\n",
       "\n",
       "    .dataframe thead th {\n",
       "        text-align: right;\n",
       "    }\n",
       "</style>\n",
       "<table border=\"1\" class=\"dataframe\">\n",
       "  <thead>\n",
       "    <tr style=\"text-align: right;\">\n",
       "      <th></th>\n",
       "      <th>cohort_dt</th>\n",
       "      <th>session_date</th>\n",
       "      <th>users_cnt</th>\n",
       "      <th>cohort_users_cnt</th>\n",
       "      <th>retention_rate</th>\n",
       "    </tr>\n",
       "  </thead>\n",
       "  <tbody>\n",
       "    <tr>\n",
       "      <th>0</th>\n",
       "      <td>2008-07-01</td>\n",
       "      <td>2008-07-01</td>\n",
       "      <td>3</td>\n",
       "      <td>3</td>\n",
       "      <td>100.00</td>\n",
       "    </tr>\n",
       "    <tr>\n",
       "      <th>1</th>\n",
       "      <td>2008-07-01</td>\n",
       "      <td>2008-08-01</td>\n",
       "      <td>2</td>\n",
       "      <td>3</td>\n",
       "      <td>66.67</td>\n",
       "    </tr>\n",
       "    <tr>\n",
       "      <th>2</th>\n",
       "      <td>2008-07-01</td>\n",
       "      <td>2008-09-01</td>\n",
       "      <td>1</td>\n",
       "      <td>3</td>\n",
       "      <td>33.33</td>\n",
       "    </tr>\n",
       "    <tr>\n",
       "      <th>3</th>\n",
       "      <td>2008-07-01</td>\n",
       "      <td>2008-10-01</td>\n",
       "      <td>2</td>\n",
       "      <td>3</td>\n",
       "      <td>66.67</td>\n",
       "    </tr>\n",
       "    <tr>\n",
       "      <th>4</th>\n",
       "      <td>2008-07-01</td>\n",
       "      <td>2008-11-01</td>\n",
       "      <td>1</td>\n",
       "      <td>3</td>\n",
       "      <td>33.33</td>\n",
       "    </tr>\n",
       "    <tr>\n",
       "      <th>5</th>\n",
       "      <td>2008-07-01</td>\n",
       "      <td>2008-12-01</td>\n",
       "      <td>2</td>\n",
       "      <td>3</td>\n",
       "      <td>66.67</td>\n",
       "    </tr>\n",
       "    <tr>\n",
       "      <th>6</th>\n",
       "      <td>2008-08-01</td>\n",
       "      <td>2008-08-01</td>\n",
       "      <td>2151</td>\n",
       "      <td>2151</td>\n",
       "      <td>100.00</td>\n",
       "    </tr>\n",
       "    <tr>\n",
       "      <th>7</th>\n",
       "      <td>2008-08-01</td>\n",
       "      <td>2008-09-01</td>\n",
       "      <td>1571</td>\n",
       "      <td>2151</td>\n",
       "      <td>73.04</td>\n",
       "    </tr>\n",
       "    <tr>\n",
       "      <th>8</th>\n",
       "      <td>2008-08-01</td>\n",
       "      <td>2008-10-01</td>\n",
       "      <td>1275</td>\n",
       "      <td>2151</td>\n",
       "      <td>59.27</td>\n",
       "    </tr>\n",
       "    <tr>\n",
       "      <th>9</th>\n",
       "      <td>2008-08-01</td>\n",
       "      <td>2008-11-01</td>\n",
       "      <td>1050</td>\n",
       "      <td>2151</td>\n",
       "      <td>48.81</td>\n",
       "    </tr>\n",
       "    <tr>\n",
       "      <th>10</th>\n",
       "      <td>2008-08-01</td>\n",
       "      <td>2008-12-01</td>\n",
       "      <td>894</td>\n",
       "      <td>2151</td>\n",
       "      <td>41.56</td>\n",
       "    </tr>\n",
       "    <tr>\n",
       "      <th>11</th>\n",
       "      <td>2008-09-01</td>\n",
       "      <td>2008-09-01</td>\n",
       "      <td>7678</td>\n",
       "      <td>7678</td>\n",
       "      <td>100.00</td>\n",
       "    </tr>\n",
       "    <tr>\n",
       "      <th>12</th>\n",
       "      <td>2008-09-01</td>\n",
       "      <td>2008-10-01</td>\n",
       "      <td>4132</td>\n",
       "      <td>7678</td>\n",
       "      <td>53.82</td>\n",
       "    </tr>\n",
       "    <tr>\n",
       "      <th>13</th>\n",
       "      <td>2008-09-01</td>\n",
       "      <td>2008-11-01</td>\n",
       "      <td>2966</td>\n",
       "      <td>7678</td>\n",
       "      <td>38.63</td>\n",
       "    </tr>\n",
       "    <tr>\n",
       "      <th>14</th>\n",
       "      <td>2008-09-01</td>\n",
       "      <td>2008-12-01</td>\n",
       "      <td>2500</td>\n",
       "      <td>7678</td>\n",
       "      <td>32.56</td>\n",
       "    </tr>\n",
       "    <tr>\n",
       "      <th>15</th>\n",
       "      <td>2008-10-01</td>\n",
       "      <td>2008-10-01</td>\n",
       "      <td>3629</td>\n",
       "      <td>3629</td>\n",
       "      <td>100.00</td>\n",
       "    </tr>\n",
       "    <tr>\n",
       "      <th>16</th>\n",
       "      <td>2008-10-01</td>\n",
       "      <td>2008-11-01</td>\n",
       "      <td>1640</td>\n",
       "      <td>3629</td>\n",
       "      <td>45.19</td>\n",
       "    </tr>\n",
       "    <tr>\n",
       "      <th>17</th>\n",
       "      <td>2008-10-01</td>\n",
       "      <td>2008-12-01</td>\n",
       "      <td>1221</td>\n",
       "      <td>3629</td>\n",
       "      <td>33.65</td>\n",
       "    </tr>\n",
       "    <tr>\n",
       "      <th>18</th>\n",
       "      <td>2008-11-01</td>\n",
       "      <td>2008-11-01</td>\n",
       "      <td>2852</td>\n",
       "      <td>2852</td>\n",
       "      <td>100.00</td>\n",
       "    </tr>\n",
       "    <tr>\n",
       "      <th>19</th>\n",
       "      <td>2008-11-01</td>\n",
       "      <td>2008-12-01</td>\n",
       "      <td>1151</td>\n",
       "      <td>2852</td>\n",
       "      <td>40.36</td>\n",
       "    </tr>\n",
       "    <tr>\n",
       "      <th>20</th>\n",
       "      <td>2008-12-01</td>\n",
       "      <td>2008-12-01</td>\n",
       "      <td>2536</td>\n",
       "      <td>2536</td>\n",
       "      <td>100.00</td>\n",
       "    </tr>\n",
       "  </tbody>\n",
       "</table>\n",
       "</div>"
      ],
      "text/plain": [
       "     cohort_dt session_date  users_cnt  cohort_users_cnt  retention_rate\n",
       "0   2008-07-01   2008-07-01          3                 3          100.00\n",
       "1   2008-07-01   2008-08-01          2                 3           66.67\n",
       "2   2008-07-01   2008-09-01          1                 3           33.33\n",
       "3   2008-07-01   2008-10-01          2                 3           66.67\n",
       "4   2008-07-01   2008-11-01          1                 3           33.33\n",
       "5   2008-07-01   2008-12-01          2                 3           66.67\n",
       "6   2008-08-01   2008-08-01       2151              2151          100.00\n",
       "7   2008-08-01   2008-09-01       1571              2151           73.04\n",
       "8   2008-08-01   2008-10-01       1275              2151           59.27\n",
       "9   2008-08-01   2008-11-01       1050              2151           48.81\n",
       "10  2008-08-01   2008-12-01        894              2151           41.56\n",
       "11  2008-09-01   2008-09-01       7678              7678          100.00\n",
       "12  2008-09-01   2008-10-01       4132              7678           53.82\n",
       "13  2008-09-01   2008-11-01       2966              7678           38.63\n",
       "14  2008-09-01   2008-12-01       2500              7678           32.56\n",
       "15  2008-10-01   2008-10-01       3629              3629          100.00\n",
       "16  2008-10-01   2008-11-01       1640              3629           45.19\n",
       "17  2008-10-01   2008-12-01       1221              3629           33.65\n",
       "18  2008-11-01   2008-11-01       2852              2852          100.00\n",
       "19  2008-11-01   2008-12-01       1151              2852           40.36\n",
       "20  2008-12-01   2008-12-01       2536              2536          100.00"
      ]
     },
     "metadata": {},
     "output_type": "display_data"
    }
   ],
   "source": [
    "# напишите запрос\n",
    "query = '''\n",
    "WITH profile AS\n",
    "(SELECT *, COUNT(user_id) OVER (PARTITION BY cohort_dt) AS cohort_users_cnt\n",
    "FROM\n",
    "(SELECT DISTINCT user_id,\n",
    "FIRST_VALUE(CAST (DATE_TRUNC('month', creation_date) AS date)) OVER (PARTITION BY user_id ORDER BY creation_date) AS cohort_dt\n",
    "FROM stackoverflow.posts) as foo),\n",
    "session AS\n",
    "(SELECT user_id, CAST (DATE_TRUNC('month', creation_date) AS date) AS session_date\n",
    "FROM stackoverflow.posts\n",
    "GROUP BY user_id, session_date)\n",
    "\n",
    "SELECT p.cohort_dt,\n",
    "       session_date,\n",
    "       COUNT(p.user_id) AS users_cnt,\n",
    "       cohort_users_cnt,\n",
    "       ROUND(COUNT(p.user_id) * 100.0 / cohort_users_cnt, 2) AS retention_rate\n",
    "FROM profile p\n",
    "JOIN session s ON p.user_id = s.user_id\n",
    "GROUP BY 1, 2, 4\n",
    "'''\n",
    "\n",
    "retention_rate = pd.read_sql_query(query, con = engine) # выполните запрос\n",
    "display (retention_rate)"
   ]
  },
  {
   "cell_type": "markdown",
   "metadata": {
    "id": "_msBtnb2DWLC"
   },
   "source": [
    "Постройте тепловую карту Retention Rate. Какие аномалии или другие необычные явления удалось выявить? Сформулируйте гипотезы о возможных причинах."
   ]
  },
  {
   "cell_type": "code",
   "execution_count": 18,
   "metadata": {
    "id": "qAEJc8H1DWLC"
   },
   "outputs": [
    {
     "data": {
      "image/png": "[encoded data removed]",
      "text/plain": [
       "<Figure size 576x576 with 2 Axes>"
      ]
     },
     "metadata": {
      "needs_background": "light"
     },
     "output_type": "display_data"
    }
   ],
   "source": [
    "# постройте тепловую карту Retention Rate\n",
    "retention = retention_rate.pivot('cohort_dt', 'session_date', 'retention_rate')\n",
    "retention.index = [str(x)[0:10] for x in retention.index]\n",
    "retention.columns = [str(x)[0:10] for x in retention.columns]\n",
    "\n",
    "# строим хитмэп\n",
    "plt.figure(figsize=(8, 8))\n",
    "sns.heatmap(retention,\n",
    "            annot=True,\n",
    "            fmt='')\n",
    "plt.title('Тепловая карта')\n",
    "plt.show() "
   ]
  },
  {
   "cell_type": "markdown",
   "metadata": {},
   "source": [
    "В когорте пользователей, написавших свой первый пост в августе, самые высокие значения Retention Rate.  \n",
    "С каждым следующим месяцем коэффициент удержания первого месяца всё ниже.  \n",
    "Вероятно в самой первой когорте (июльской) слишком малое кол-во пользователей, из-за этого Retention Rate показывает аномальные значения на всём анализируемом отрезке времени. \n"
   ]
  },
  {
   "cell_type": "markdown",
   "metadata": {
    "id": "1k7oPWt5DWLK"
   },
   "source": [
    "# Задание 9\n"
   ]
  },
  {
   "cell_type": "markdown",
   "metadata": {
    "id": "ALsYVSyRDWLM"
   },
   "source": [
    "На сколько процентов менялось количество постов ежемесячно с 1 сентября по 31 декабря 2008 года? Отобразите таблицу со следующими полями:\n",
    "\n",
    "- номер месяца;\n",
    "- количество постов за месяц;\n",
    "- процент, который показывает, насколько изменилось количество постов в текущем месяце по сравнению с предыдущим.\n",
    "\n",
    "Если постов стало меньше, значение процента должно быть отрицательным, если больше — положительным. Округлите значение процента до двух знаков после запятой.\n",
    "\n",
    "Напомним, что при делении одного целого числа на другое в PostgreSQL в результате получится целое число, округлённое до ближайшего целого вниз. Чтобы этого избежать, переведите делимое в тип `numeric`."
   ]
  },
  {
   "cell_type": "markdown",
   "metadata": {
    "id": "u4E2zF8DDWLM"
   },
   "source": [
    "| creation_month | posts_count | percentage |\n",
    "| -------------- | ----------- | ---------- |\n",
    "| 9 | 70731 | Nan |\n",
    "| 10 | 63102 | -10.33 |\n",
    "| ... | ... | ... |"
   ]
  },
  {
   "cell_type": "code",
   "execution_count": 20,
   "metadata": {
    "id": "Mb5pShStDWLN"
   },
   "outputs": [
    {
     "data": {
      "text/html": [
       "<div>\n",
       "<style scoped>\n",
       "    .dataframe tbody tr th:only-of-type {\n",
       "        vertical-align: middle;\n",
       "    }\n",
       "\n",
       "    .dataframe tbody tr th {\n",
       "        vertical-align: top;\n",
       "    }\n",
       "\n",
       "    .dataframe thead th {\n",
       "        text-align: right;\n",
       "    }\n",
       "</style>\n",
       "<table border=\"1\" class=\"dataframe\">\n",
       "  <thead>\n",
       "    <tr style=\"text-align: right;\">\n",
       "      <th></th>\n",
       "      <th>creation_month</th>\n",
       "      <th>posts_count</th>\n",
       "      <th>percentage</th>\n",
       "    </tr>\n",
       "  </thead>\n",
       "  <tbody>\n",
       "    <tr>\n",
       "      <th>0</th>\n",
       "      <td>9.0</td>\n",
       "      <td>70371</td>\n",
       "      <td>NaN</td>\n",
       "    </tr>\n",
       "    <tr>\n",
       "      <th>1</th>\n",
       "      <td>10.0</td>\n",
       "      <td>63102</td>\n",
       "      <td>-10.329539</td>\n",
       "    </tr>\n",
       "    <tr>\n",
       "      <th>2</th>\n",
       "      <td>11.0</td>\n",
       "      <td>46975</td>\n",
       "      <td>-25.557035</td>\n",
       "    </tr>\n",
       "    <tr>\n",
       "      <th>3</th>\n",
       "      <td>12.0</td>\n",
       "      <td>44592</td>\n",
       "      <td>-5.072911</td>\n",
       "    </tr>\n",
       "  </tbody>\n",
       "</table>\n",
       "</div>"
      ],
      "text/plain": [
       "   creation_month  posts_count  percentage\n",
       "0             9.0        70371         NaN\n",
       "1            10.0        63102  -10.329539\n",
       "2            11.0        46975  -25.557035\n",
       "3            12.0        44592   -5.072911"
      ]
     },
     "metadata": {},
     "output_type": "display_data"
    }
   ],
   "source": [
    "# напишите запрос\n",
    "query = '''\n",
    "WITH ab AS\n",
    "(SELECT EXTRACT(MONTH FROM creation_date) AS creation_month, COUNT(id) AS posts_count\n",
    "FROM stackoverflow.posts\n",
    "WHERE EXTRACT(MONTH FROM creation_date) > 8\n",
    "GROUP BY EXTRACT(MONTH FROM creation_date)\n",
    ")\n",
    "\n",
    "SELECT *, \n",
    "(posts_count - LAG(posts_count) OVER (ORDER BY creation_month))::numeric *100 / LAG(posts_count) OVER (ORDER BY creation_month) AS percentage\n",
    "FROM ab\n",
    "'''\n",
    "\n",
    "work_nine = pd.read_sql_query(query, con = engine) # выполните запрос\n",
    "display (work_nine)"
   ]
  },
  {
   "cell_type": "markdown",
   "metadata": {
    "id": "9NQE2y_MDWLP"
   },
   "source": [
    "Постройте круговую диаграмму с количеством постов по месяцам."
   ]
  },
  {
   "cell_type": "code",
   "execution_count": 21,
   "metadata": {
    "id": "377ABjiVDWLP",
    "scrolled": false
   },
   "outputs": [
    {
     "data": {
      "text/plain": [
       "Text(0, 0.5, '')"
      ]
     },
     "execution_count": 21,
     "metadata": {},
     "output_type": "execute_result"
    },
    {
     "data": {
      "image/png": "[encoded data removed]",
      "text/plain": [
       "<Figure size 720x576 with 1 Axes>"
      ]
     },
     "metadata": {},
     "output_type": "display_data"
    }
   ],
   "source": [
    "# постройте круговую диаграмму с количеством постов по месяцам\n",
    "plt.figure(figsize = (10, 8))\n",
    "ax = work_nine['posts_count'].plot(kind = 'pie', y = 'posts_count', autopct='%.1f%%', labels=['сентябрь', 'октябрь', 'ноябрь', 'декабрь'])\n",
    "ax.set_title('Количество постов по месяцам')\n",
    "ax.set_ylabel('')"
   ]
  },
  {
   "cell_type": "markdown",
   "metadata": {
    "id": "uw7qMtafDWLP"
   },
   "source": [
    "# Задание 10"
   ]
  },
  {
   "cell_type": "markdown",
   "metadata": {
    "id": "oRBpWKx3DWLQ"
   },
   "source": [
    "Выгрузите данные активности пользователя, который опубликовал больше всего постов за всё время. Выведите данные за октябрь 2008 года в таком виде:\n",
    "\n",
    "- номер недели;\n",
    "- дата и время последнего поста, опубликованного на этой неделе."
   ]
  },
  {
   "cell_type": "markdown",
   "metadata": {
    "id": "XjAWSn_3DWLQ"
   },
   "source": [
    "| week_creation | creation_date |\n",
    "| ------------- | ------------- |\n",
    "| 40 | 2008-10-05 09:00:58 |\n",
    "| 41 | 2008-10-12 21:22:23 |\n",
    "| ... | ... |"
   ]
  },
  {
   "cell_type": "code",
   "execution_count": 22,
   "metadata": {
    "id": "r5F5fSkwDWLQ"
   },
   "outputs": [
    {
     "data": {
      "text/html": [
       "<div>\n",
       "<style scoped>\n",
       "    .dataframe tbody tr th:only-of-type {\n",
       "        vertical-align: middle;\n",
       "    }\n",
       "\n",
       "    .dataframe tbody tr th {\n",
       "        vertical-align: top;\n",
       "    }\n",
       "\n",
       "    .dataframe thead th {\n",
       "        text-align: right;\n",
       "    }\n",
       "</style>\n",
       "<table border=\"1\" class=\"dataframe\">\n",
       "  <thead>\n",
       "    <tr style=\"text-align: right;\">\n",
       "      <th></th>\n",
       "      <th>week_creation</th>\n",
       "      <th>last_value</th>\n",
       "    </tr>\n",
       "  </thead>\n",
       "  <tbody>\n",
       "    <tr>\n",
       "      <th>0</th>\n",
       "      <td>40.0</td>\n",
       "      <td>2008-10-05 09:00:58</td>\n",
       "    </tr>\n",
       "    <tr>\n",
       "      <th>1</th>\n",
       "      <td>41.0</td>\n",
       "      <td>2008-10-12 21:22:23</td>\n",
       "    </tr>\n",
       "    <tr>\n",
       "      <th>2</th>\n",
       "      <td>42.0</td>\n",
       "      <td>2008-10-19 06:49:30</td>\n",
       "    </tr>\n",
       "    <tr>\n",
       "      <th>3</th>\n",
       "      <td>43.0</td>\n",
       "      <td>2008-10-26 21:44:36</td>\n",
       "    </tr>\n",
       "    <tr>\n",
       "      <th>4</th>\n",
       "      <td>44.0</td>\n",
       "      <td>2008-10-31 22:16:01</td>\n",
       "    </tr>\n",
       "  </tbody>\n",
       "</table>\n",
       "</div>"
      ],
      "text/plain": [
       "   week_creation          last_value\n",
       "0           40.0 2008-10-05 09:00:58\n",
       "1           41.0 2008-10-12 21:22:23\n",
       "2           42.0 2008-10-19 06:49:30\n",
       "3           43.0 2008-10-26 21:44:36\n",
       "4           44.0 2008-10-31 22:16:01"
      ]
     },
     "metadata": {},
     "output_type": "display_data"
    }
   ],
   "source": [
    "# напишите запрос\n",
    "query = '''\n",
    "WITH post_leader AS\n",
    "(SELECT EXTRACT(WEEK FROM creation_date)::numeric AS week_creation, creation_date\n",
    "FROM stackoverflow.posts\n",
    "WHERE user_id IN\n",
    "(SELECT user_id\n",
    "FROM stackoverflow.posts\n",
    "GROUP BY user_id\n",
    "ORDER BY COUNT(id) DESC\n",
    "LIMIT(1))\n",
    "AND creation_date::date BETWEEN '2008-10-01' AND '2008-10-31')\n",
    "\n",
    "SELECT DISTINCT(week_creation),\n",
    "LAST_VALUE(creation_date) OVER (PARTITION BY week_creation ORDER BY creation_date ROWS BETWEEN CURRENT ROW AND UNBOUNDED FOLLOWING)\n",
    "FROM post_leader\n",
    "ORDER BY week_creation\n",
    "\n",
    "'''\n",
    "\n",
    "work_ten = pd.read_sql_query(query, con = engine) # выполните запрос\n",
    "display(work_ten)"
   ]
  }
 ],
 "metadata": {
  "ExecuteTimeLog": [
   {
    "duration": 9,
    "start_time": "2022-10-30T16:54:41.987Z"
   },
   {
    "duration": 976,
    "start_time": "2022-10-30T17:25:34.538Z"
   },
   {
    "duration": 5,
    "start_time": "2022-10-30T17:25:36.717Z"
   },
   {
    "duration": 8130,
    "start_time": "2022-10-30T17:25:39.534Z"
   },
   {
    "duration": 89,
    "start_time": "2022-10-30T17:25:47.666Z"
   },
   {
    "duration": 15,
    "start_time": "2022-10-30T17:26:02.368Z"
   },
   {
    "duration": 3,
    "start_time": "2022-10-30T17:26:07.346Z"
   },
   {
    "duration": 123,
    "start_time": "2022-10-30T17:28:26.777Z"
   },
   {
    "duration": 121,
    "start_time": "2022-10-30T17:28:47.584Z"
   },
   {
    "duration": 192,
    "start_time": "2022-10-30T17:43:30.568Z"
   },
   {
    "duration": 93,
    "start_time": "2022-10-30T17:43:56.201Z"
   },
   {
    "duration": 86,
    "start_time": "2022-10-30T17:44:50.085Z"
   },
   {
    "duration": 51,
    "start_time": "2022-10-30T17:46:54.463Z"
   },
   {
    "duration": 87,
    "start_time": "2022-10-30T17:46:59.024Z"
   },
   {
    "duration": 76,
    "start_time": "2022-10-30T17:47:56.895Z"
   },
   {
    "duration": 76,
    "start_time": "2022-10-30T17:48:11.665Z"
   },
   {
    "duration": 75,
    "start_time": "2022-10-30T17:48:20.903Z"
   },
   {
    "duration": 76,
    "start_time": "2022-10-30T17:49:19.780Z"
   },
   {
    "duration": 88,
    "start_time": "2022-10-30T17:49:31.228Z"
   },
   {
    "duration": 75,
    "start_time": "2022-10-30T17:49:40.410Z"
   },
   {
    "duration": 78,
    "start_time": "2022-10-30T17:49:51.767Z"
   },
   {
    "duration": 76,
    "start_time": "2022-10-30T17:50:39.164Z"
   },
   {
    "duration": 77,
    "start_time": "2022-10-30T17:50:56.571Z"
   },
   {
    "duration": 73,
    "start_time": "2022-10-30T17:51:17.080Z"
   },
   {
    "duration": 87,
    "start_time": "2022-10-30T17:52:17.560Z"
   },
   {
    "duration": 20,
    "start_time": "2022-10-30T17:53:18.456Z"
   },
   {
    "duration": 71,
    "start_time": "2022-10-30T17:54:57.100Z"
   },
   {
    "duration": 76,
    "start_time": "2022-10-30T17:55:45.016Z"
   },
   {
    "duration": 92,
    "start_time": "2022-10-30T18:07:23.724Z"
   },
   {
    "duration": 110,
    "start_time": "2022-10-30T18:07:37.925Z"
   },
   {
    "duration": 88,
    "start_time": "2022-10-30T18:08:31.246Z"
   },
   {
    "duration": 85,
    "start_time": "2022-10-30T18:09:10.669Z"
   },
   {
    "duration": 86,
    "start_time": "2022-10-30T18:09:36.371Z"
   },
   {
    "duration": 113,
    "start_time": "2022-10-30T18:10:28.444Z"
   },
   {
    "duration": 112,
    "start_time": "2022-10-30T18:12:14.002Z"
   },
   {
    "duration": 98,
    "start_time": "2022-10-30T18:12:28.842Z"
   },
   {
    "duration": 100,
    "start_time": "2022-10-30T18:13:18.004Z"
   },
   {
    "duration": 87,
    "start_time": "2022-10-30T18:13:52.862Z"
   },
   {
    "duration": 95,
    "start_time": "2022-10-30T18:14:14.201Z"
   },
   {
    "duration": 108,
    "start_time": "2022-10-30T18:14:37.197Z"
   },
   {
    "duration": 111,
    "start_time": "2022-10-30T18:14:57.424Z"
   },
   {
    "duration": 17599,
    "start_time": "2022-10-30T18:15:39.205Z"
   },
   {
    "duration": 100,
    "start_time": "2022-10-30T18:30:33.393Z"
   },
   {
    "duration": 87,
    "start_time": "2022-10-30T18:30:53.278Z"
   },
   {
    "duration": 100,
    "start_time": "2022-10-30T18:31:41.444Z"
   },
   {
    "duration": 90,
    "start_time": "2022-10-30T18:31:50.404Z"
   },
   {
    "duration": 90,
    "start_time": "2022-10-30T18:32:11.129Z"
   },
   {
    "duration": 91,
    "start_time": "2022-10-30T18:32:52.002Z"
   },
   {
    "duration": 85,
    "start_time": "2022-10-30T18:34:04.828Z"
   },
   {
    "duration": 89,
    "start_time": "2022-10-30T18:35:49.070Z"
   },
   {
    "duration": 155,
    "start_time": "2022-10-30T18:35:50.536Z"
   },
   {
    "duration": 64,
    "start_time": "2022-10-30T18:36:53.258Z"
   },
   {
    "duration": 90,
    "start_time": "2022-10-30T18:38:09.342Z"
   },
   {
    "duration": 95,
    "start_time": "2022-10-30T18:39:14.006Z"
   },
   {
    "duration": 95,
    "start_time": "2022-10-30T18:40:28.390Z"
   },
   {
    "duration": 90,
    "start_time": "2022-10-30T18:40:43.704Z"
   },
   {
    "duration": 63,
    "start_time": "2022-10-30T18:40:58.419Z"
   },
   {
    "duration": 89,
    "start_time": "2022-10-30T18:41:35.018Z"
   },
   {
    "duration": 56,
    "start_time": "2022-10-30T18:41:50.970Z"
   },
   {
    "duration": 53,
    "start_time": "2022-10-30T18:42:17.545Z"
   },
   {
    "duration": 56,
    "start_time": "2022-10-30T18:42:26.687Z"
   },
   {
    "duration": 107,
    "start_time": "2022-10-30T18:58:51.517Z"
   },
   {
    "duration": 85,
    "start_time": "2022-10-30T18:59:07.166Z"
   },
   {
    "duration": 120,
    "start_time": "2022-10-30T18:59:18.141Z"
   },
   {
    "duration": 124,
    "start_time": "2022-10-30T18:59:42.266Z"
   },
   {
    "duration": 2,
    "start_time": "2022-10-30T19:00:28.782Z"
   },
   {
    "duration": 2,
    "start_time": "2022-10-30T19:03:25.492Z"
   },
   {
    "duration": 91,
    "start_time": "2022-10-30T19:07:02.834Z"
   },
   {
    "duration": 102,
    "start_time": "2022-10-30T19:07:12.865Z"
   },
   {
    "duration": 13209,
    "start_time": "2022-10-30T19:07:21.603Z"
   },
   {
    "duration": 12974,
    "start_time": "2022-10-30T19:08:15.152Z"
   },
   {
    "duration": 92,
    "start_time": "2022-10-30T19:09:18.063Z"
   },
   {
    "duration": 3332,
    "start_time": "2022-10-30T19:09:39.734Z"
   },
   {
    "duration": 87,
    "start_time": "2022-10-30T19:11:38.993Z"
   },
   {
    "duration": 87,
    "start_time": "2022-10-30T19:11:48.577Z"
   },
   {
    "duration": 103,
    "start_time": "2022-10-30T19:12:10.956Z"
   },
   {
    "duration": 92,
    "start_time": "2022-10-30T19:12:20.408Z"
   },
   {
    "duration": 88,
    "start_time": "2022-10-30T19:12:45.796Z"
   },
   {
    "duration": 68,
    "start_time": "2022-10-30T19:13:05.152Z"
   },
   {
    "duration": 2,
    "start_time": "2022-10-30T19:16:09.981Z"
   },
   {
    "duration": 732,
    "start_time": "2022-10-30T19:23:20.970Z"
   },
   {
    "duration": 4,
    "start_time": "2022-10-30T19:23:21.704Z"
   },
   {
    "duration": 8352,
    "start_time": "2022-10-30T19:23:21.710Z"
   },
   {
    "duration": 60,
    "start_time": "2022-10-30T19:23:30.064Z"
   },
   {
    "duration": 13,
    "start_time": "2022-10-30T19:23:30.126Z"
   },
   {
    "duration": 127,
    "start_time": "2022-10-30T19:23:30.141Z"
   },
   {
    "duration": 2,
    "start_time": "2022-10-30T19:23:30.270Z"
   },
   {
    "duration": 167,
    "start_time": "2022-10-30T19:23:30.274Z"
   },
   {
    "duration": 3,
    "start_time": "2022-10-30T19:23:30.443Z"
   },
   {
    "duration": 99,
    "start_time": "2022-10-30T19:23:30.449Z"
   },
   {
    "duration": 2,
    "start_time": "2022-10-30T19:23:30.550Z"
   },
   {
    "duration": 1171,
    "start_time": "2022-10-30T19:23:30.553Z"
   },
   {
    "duration": 55,
    "start_time": "2022-10-30T19:23:31.725Z"
   },
   {
    "duration": 2,
    "start_time": "2022-10-30T19:23:31.782Z"
   },
   {
    "duration": 4,
    "start_time": "2022-10-30T19:23:31.786Z"
   },
   {
    "duration": 4,
    "start_time": "2022-10-30T19:23:31.792Z"
   },
   {
    "duration": 68,
    "start_time": "2022-10-30T19:23:31.798Z"
   },
   {
    "duration": 0,
    "start_time": "2022-10-30T19:23:31.867Z"
   },
   {
    "duration": 0,
    "start_time": "2022-10-30T19:23:31.868Z"
   },
   {
    "duration": 0,
    "start_time": "2022-10-30T19:23:31.869Z"
   },
   {
    "duration": 0,
    "start_time": "2022-10-30T19:23:31.871Z"
   },
   {
    "duration": 0,
    "start_time": "2022-10-30T19:23:31.871Z"
   },
   {
    "duration": 1093,
    "start_time": "2022-10-30T19:27:46.365Z"
   },
   {
    "duration": 998,
    "start_time": "2022-10-30T19:28:04.324Z"
   },
   {
    "duration": 178,
    "start_time": "2022-10-30T19:28:53.732Z"
   },
   {
    "duration": 1102,
    "start_time": "2022-10-30T19:29:08.767Z"
   },
   {
    "duration": 1056,
    "start_time": "2022-10-30T19:31:24.762Z"
   },
   {
    "duration": 1145,
    "start_time": "2022-10-30T19:43:24.794Z"
   },
   {
    "duration": 85,
    "start_time": "2022-10-30T19:45:19.736Z"
   },
   {
    "duration": 92,
    "start_time": "2022-10-30T19:49:46.298Z"
   },
   {
    "duration": 85,
    "start_time": "2022-10-30T19:50:05.495Z"
   },
   {
    "duration": 86,
    "start_time": "2022-10-30T19:50:43.427Z"
   },
   {
    "duration": 94,
    "start_time": "2022-10-30T19:51:07.013Z"
   },
   {
    "duration": 92,
    "start_time": "2022-10-30T19:51:21.042Z"
   },
   {
    "duration": 86,
    "start_time": "2022-10-30T19:51:44.687Z"
   },
   {
    "duration": 110,
    "start_time": "2022-10-30T19:52:16.419Z"
   },
   {
    "duration": 327,
    "start_time": "2022-10-30T19:52:59.849Z"
   },
   {
    "duration": 96,
    "start_time": "2022-10-30T19:53:45.135Z"
   },
   {
    "duration": 87,
    "start_time": "2022-10-30T19:53:52.652Z"
   },
   {
    "duration": 6801,
    "start_time": "2022-10-30T19:53:58.835Z"
   },
   {
    "duration": 3183,
    "start_time": "2022-10-30T19:54:53.239Z"
   },
   {
    "duration": 1063,
    "start_time": "2022-10-30T19:55:37.280Z"
   },
   {
    "duration": 91,
    "start_time": "2022-10-30T19:56:33.791Z"
   },
   {
    "duration": 94,
    "start_time": "2022-10-30T19:56:37.624Z"
   },
   {
    "duration": 100,
    "start_time": "2022-10-30T19:57:09.518Z"
   },
   {
    "duration": 4287,
    "start_time": "2022-10-30T19:57:28.965Z"
   },
   {
    "duration": 91,
    "start_time": "2022-10-30T20:01:26.144Z"
   },
   {
    "duration": 93,
    "start_time": "2022-10-30T20:01:44.581Z"
   },
   {
    "duration": 12707,
    "start_time": "2022-10-30T20:02:09.455Z"
   },
   {
    "duration": 75,
    "start_time": "2022-10-30T20:26:16.097Z"
   },
   {
    "duration": 87,
    "start_time": "2022-10-30T20:26:27.292Z"
   },
   {
    "duration": 2585,
    "start_time": "2022-10-30T20:26:44.725Z"
   },
   {
    "duration": 95,
    "start_time": "2022-10-30T20:27:46.617Z"
   },
   {
    "duration": 91,
    "start_time": "2022-10-30T20:27:52.162Z"
   },
   {
    "duration": 1015,
    "start_time": "2022-10-30T20:28:20.619Z"
   },
   {
    "duration": 89,
    "start_time": "2022-10-30T20:29:28.802Z"
   },
   {
    "duration": 132,
    "start_time": "2022-10-30T20:29:36.094Z"
   },
   {
    "duration": 92,
    "start_time": "2022-10-30T20:33:21.554Z"
   },
   {
    "duration": 94,
    "start_time": "2022-10-30T20:33:42.420Z"
   },
   {
    "duration": 4970,
    "start_time": "2022-10-30T20:33:56.051Z"
   },
   {
    "duration": 1258,
    "start_time": "2022-10-30T20:34:21.996Z"
   },
   {
    "duration": 93,
    "start_time": "2022-10-30T20:37:02.202Z"
   },
   {
    "duration": 93,
    "start_time": "2022-10-30T20:37:11.657Z"
   },
   {
    "duration": 228,
    "start_time": "2022-10-30T20:37:46.666Z"
   },
   {
    "duration": 114,
    "start_time": "2022-10-30T20:40:07.518Z"
   },
   {
    "duration": 98,
    "start_time": "2022-10-30T20:41:07.516Z"
   },
   {
    "duration": 1364,
    "start_time": "2022-10-30T20:41:27.715Z"
   },
   {
    "duration": 89,
    "start_time": "2022-10-30T20:48:44.241Z"
   },
   {
    "duration": 88,
    "start_time": "2022-10-30T20:49:21.614Z"
   },
   {
    "duration": 168,
    "start_time": "2022-10-30T20:50:02.352Z"
   },
   {
    "duration": 91,
    "start_time": "2022-10-30T20:50:09.004Z"
   },
   {
    "duration": 93,
    "start_time": "2022-10-30T20:52:57.010Z"
   },
   {
    "duration": 110,
    "start_time": "2022-10-30T20:53:11.415Z"
   },
   {
    "duration": 508,
    "start_time": "2022-10-30T20:53:15.710Z"
   },
   {
    "duration": 691,
    "start_time": "2022-10-30T20:54:03.026Z"
   },
   {
    "duration": 3,
    "start_time": "2022-10-30T20:54:03.719Z"
   },
   {
    "duration": 7560,
    "start_time": "2022-10-30T20:54:03.724Z"
   },
   {
    "duration": 53,
    "start_time": "2022-10-30T20:54:11.286Z"
   },
   {
    "duration": 17,
    "start_time": "2022-10-30T20:54:11.341Z"
   },
   {
    "duration": 125,
    "start_time": "2022-10-30T20:54:11.360Z"
   },
   {
    "duration": 3,
    "start_time": "2022-10-30T20:54:11.487Z"
   },
   {
    "duration": 139,
    "start_time": "2022-10-30T20:54:11.491Z"
   },
   {
    "duration": 5,
    "start_time": "2022-10-30T20:54:11.631Z"
   },
   {
    "duration": 75,
    "start_time": "2022-10-30T20:54:11.639Z"
   },
   {
    "duration": 2,
    "start_time": "2022-10-30T20:54:11.716Z"
   },
   {
    "duration": 1155,
    "start_time": "2022-10-30T20:54:11.720Z"
   },
   {
    "duration": 57,
    "start_time": "2022-10-30T20:54:12.876Z"
   },
   {
    "duration": 2,
    "start_time": "2022-10-30T20:54:12.935Z"
   },
   {
    "duration": 4,
    "start_time": "2022-10-30T20:54:12.939Z"
   },
   {
    "duration": 1077,
    "start_time": "2022-10-30T20:54:12.944Z"
   },
   {
    "duration": 506,
    "start_time": "2022-10-30T20:54:14.023Z"
   },
   {
    "duration": 2,
    "start_time": "2022-10-30T20:54:14.531Z"
   },
   {
    "duration": 5,
    "start_time": "2022-10-30T20:54:14.535Z"
   },
   {
    "duration": 3,
    "start_time": "2022-10-30T20:54:14.542Z"
   },
   {
    "duration": 10,
    "start_time": "2022-10-30T20:54:14.547Z"
   },
   {
    "duration": 13,
    "start_time": "2022-10-30T20:54:14.559Z"
   },
   {
    "duration": 1053,
    "start_time": "2022-10-31T06:23:40.924Z"
   },
   {
    "duration": 3,
    "start_time": "2022-10-31T06:23:41.980Z"
   },
   {
    "duration": 9407,
    "start_time": "2022-10-31T06:23:41.985Z"
   },
   {
    "duration": 68,
    "start_time": "2022-10-31T06:23:51.394Z"
   },
   {
    "duration": 20,
    "start_time": "2022-10-31T06:23:51.463Z"
   },
   {
    "duration": 156,
    "start_time": "2022-10-31T06:23:51.486Z"
   },
   {
    "duration": 3,
    "start_time": "2022-10-31T06:23:51.643Z"
   },
   {
    "duration": 162,
    "start_time": "2022-10-31T06:23:51.647Z"
   },
   {
    "duration": 3,
    "start_time": "2022-10-31T06:23:51.815Z"
   },
   {
    "duration": 100,
    "start_time": "2022-10-31T06:23:51.821Z"
   },
   {
    "duration": 2,
    "start_time": "2022-10-31T06:23:51.924Z"
   },
   {
    "duration": 1211,
    "start_time": "2022-10-31T06:23:51.928Z"
   },
   {
    "duration": 73,
    "start_time": "2022-10-31T06:23:53.141Z"
   },
   {
    "duration": 2,
    "start_time": "2022-10-31T06:23:53.216Z"
   },
   {
    "duration": 7,
    "start_time": "2022-10-31T06:23:53.223Z"
   },
   {
    "duration": 1102,
    "start_time": "2022-10-31T06:23:53.231Z"
   },
   {
    "duration": 597,
    "start_time": "2022-10-31T06:23:54.335Z"
   },
   {
    "duration": 5,
    "start_time": "2022-10-31T06:23:54.934Z"
   },
   {
    "duration": 2,
    "start_time": "2022-10-31T06:23:54.941Z"
   },
   {
    "duration": 4,
    "start_time": "2022-10-31T06:23:54.945Z"
   },
   {
    "duration": 5,
    "start_time": "2022-10-31T06:23:54.951Z"
   },
   {
    "duration": 5,
    "start_time": "2022-10-31T06:23:54.958Z"
   },
   {
    "duration": 64,
    "start_time": "2022-10-31T06:45:53.983Z"
   },
   {
    "duration": 61,
    "start_time": "2022-10-31T06:45:58.641Z"
   },
   {
    "duration": 3,
    "start_time": "2022-10-31T19:01:53.380Z"
   },
   {
    "duration": 862,
    "start_time": "2022-10-31T19:03:51.690Z"
   },
   {
    "duration": 3,
    "start_time": "2022-10-31T19:03:52.554Z"
   },
   {
    "duration": 7715,
    "start_time": "2022-10-31T19:03:52.558Z"
   },
   {
    "duration": 60,
    "start_time": "2022-10-31T19:04:00.274Z"
   },
   {
    "duration": 14,
    "start_time": "2022-10-31T19:04:00.336Z"
   },
   {
    "duration": 144,
    "start_time": "2022-10-31T19:04:00.352Z"
   },
   {
    "duration": 2,
    "start_time": "2022-10-31T19:04:00.498Z"
   },
   {
    "duration": 199,
    "start_time": "2022-10-31T19:04:00.501Z"
   },
   {
    "duration": 2,
    "start_time": "2022-10-31T19:04:00.702Z"
   },
   {
    "duration": 108,
    "start_time": "2022-10-31T19:04:00.705Z"
   },
   {
    "duration": 3,
    "start_time": "2022-10-31T19:04:00.815Z"
   },
   {
    "duration": 1110,
    "start_time": "2022-10-31T19:04:00.819Z"
   },
   {
    "duration": 62,
    "start_time": "2022-10-31T19:04:01.931Z"
   },
   {
    "duration": 2,
    "start_time": "2022-10-31T19:04:01.995Z"
   },
   {
    "duration": 12,
    "start_time": "2022-10-31T19:04:01.998Z"
   },
   {
    "duration": 1002,
    "start_time": "2022-10-31T19:04:02.012Z"
   },
   {
    "duration": 514,
    "start_time": "2022-10-31T19:04:03.016Z"
   },
   {
    "duration": 2,
    "start_time": "2022-10-31T19:04:03.532Z"
   },
   {
    "duration": 13,
    "start_time": "2022-10-31T19:04:03.535Z"
   },
   {
    "duration": 7,
    "start_time": "2022-10-31T19:04:03.549Z"
   },
   {
    "duration": 18,
    "start_time": "2022-10-31T19:04:03.557Z"
   },
   {
    "duration": 18,
    "start_time": "2022-10-31T19:04:03.577Z"
   },
   {
    "duration": 34,
    "start_time": "2022-10-31T19:13:32.729Z"
   },
   {
    "duration": 168,
    "start_time": "2022-10-31T19:14:32.024Z"
   },
   {
    "duration": 32,
    "start_time": "2022-10-31T19:14:46.276Z"
   },
   {
    "duration": 94,
    "start_time": "2022-10-31T19:15:13.990Z"
   },
   {
    "duration": 33,
    "start_time": "2022-10-31T19:15:18.355Z"
   },
   {
    "duration": 31,
    "start_time": "2022-10-31T19:17:11.730Z"
   },
   {
    "duration": 34,
    "start_time": "2022-10-31T19:17:38.124Z"
   },
   {
    "duration": 39,
    "start_time": "2022-10-31T19:18:34.996Z"
   },
   {
    "duration": 34,
    "start_time": "2022-10-31T19:18:41.570Z"
   },
   {
    "duration": 35,
    "start_time": "2022-10-31T19:18:47.224Z"
   },
   {
    "duration": 90,
    "start_time": "2022-10-31T19:24:32.692Z"
   },
   {
    "duration": 1108,
    "start_time": "2022-10-31T19:24:46.145Z"
   },
   {
    "duration": 706,
    "start_time": "2022-10-31T19:39:31.012Z"
   },
   {
    "duration": 491,
    "start_time": "2022-10-31T19:40:28.482Z"
   },
   {
    "duration": 863,
    "start_time": "2022-10-31T19:41:54.527Z"
   },
   {
    "duration": 464,
    "start_time": "2022-10-31T19:44:14.424Z"
   },
   {
    "duration": 446,
    "start_time": "2022-10-31T19:45:52.438Z"
   },
   {
    "duration": 119,
    "start_time": "2022-10-31T19:56:12.124Z"
   },
   {
    "duration": 109,
    "start_time": "2022-10-31T19:57:12.392Z"
   },
   {
    "duration": 97,
    "start_time": "2022-10-31T19:57:35.413Z"
   },
   {
    "duration": 87,
    "start_time": "2022-10-31T20:02:00.458Z"
   },
   {
    "duration": 85,
    "start_time": "2022-10-31T20:02:44.623Z"
   },
   {
    "duration": 92,
    "start_time": "2022-10-31T20:03:15.511Z"
   },
   {
    "duration": 113,
    "start_time": "2022-10-31T20:03:35.222Z"
   },
   {
    "duration": 85,
    "start_time": "2022-10-31T20:06:22.483Z"
   },
   {
    "duration": 116,
    "start_time": "2022-10-31T20:06:29.308Z"
   },
   {
    "duration": 93,
    "start_time": "2022-10-31T20:08:55.328Z"
   },
   {
    "duration": 114,
    "start_time": "2022-10-31T20:09:08.764Z"
   },
   {
    "duration": 113,
    "start_time": "2022-10-31T20:09:17.327Z"
   },
   {
    "duration": 100,
    "start_time": "2022-10-31T20:10:44.158Z"
   },
   {
    "duration": 115,
    "start_time": "2022-10-31T20:11:07.409Z"
   },
   {
    "duration": 89,
    "start_time": "2022-10-31T20:11:50.499Z"
   },
   {
    "duration": 113,
    "start_time": "2022-10-31T20:13:21.134Z"
   },
   {
    "duration": 115,
    "start_time": "2022-10-31T20:14:38.729Z"
   },
   {
    "duration": 112,
    "start_time": "2022-10-31T20:15:42.563Z"
   },
   {
    "duration": 121,
    "start_time": "2022-10-31T20:16:08.627Z"
   },
   {
    "duration": 103,
    "start_time": "2022-10-31T20:17:00.501Z"
   },
   {
    "duration": 119,
    "start_time": "2022-10-31T20:17:42.824Z"
   },
   {
    "duration": 117,
    "start_time": "2022-10-31T20:17:54.785Z"
   },
   {
    "duration": 119,
    "start_time": "2022-10-31T20:18:09.072Z"
   },
   {
    "duration": 110,
    "start_time": "2022-10-31T20:19:11.407Z"
   },
   {
    "duration": 117,
    "start_time": "2022-10-31T20:19:35.425Z"
   },
   {
    "duration": 120,
    "start_time": "2022-10-31T20:19:52.876Z"
   },
   {
    "duration": 3,
    "start_time": "2022-10-31T20:20:43.035Z"
   },
   {
    "duration": 102,
    "start_time": "2022-10-31T20:23:03.979Z"
   },
   {
    "duration": 108,
    "start_time": "2022-10-31T20:23:33.015Z"
   },
   {
    "duration": 14,
    "start_time": "2022-10-31T20:25:32.465Z"
   },
   {
    "duration": 17,
    "start_time": "2022-10-31T20:26:21.797Z"
   },
   {
    "duration": 90,
    "start_time": "2022-10-31T20:31:06.581Z"
   },
   {
    "duration": 80,
    "start_time": "2022-10-31T20:32:00.835Z"
   },
   {
    "duration": 74,
    "start_time": "2022-10-31T20:32:13.938Z"
   },
   {
    "duration": 64,
    "start_time": "2022-10-31T20:33:43.440Z"
   },
   {
    "duration": 82,
    "start_time": "2022-10-31T20:34:25.969Z"
   },
   {
    "duration": 112,
    "start_time": "2022-10-31T20:35:06.274Z"
   },
   {
    "duration": 157,
    "start_time": "2022-10-31T20:36:00.119Z"
   },
   {
    "duration": 131,
    "start_time": "2022-10-31T20:36:12.214Z"
   },
   {
    "duration": 70,
    "start_time": "2022-10-31T20:38:20.419Z"
   },
   {
    "duration": 91,
    "start_time": "2022-10-31T20:38:31.950Z"
   },
   {
    "duration": 93,
    "start_time": "2022-10-31T20:38:46.132Z"
   },
   {
    "duration": 77,
    "start_time": "2022-10-31T20:39:28.296Z"
   },
   {
    "duration": 81,
    "start_time": "2022-10-31T20:39:32.080Z"
   },
   {
    "duration": 109,
    "start_time": "2022-10-31T20:42:54.389Z"
   },
   {
    "duration": 117,
    "start_time": "2022-10-31T20:45:41.613Z"
   },
   {
    "duration": 115,
    "start_time": "2022-10-31T20:46:33.095Z"
   },
   {
    "duration": 104,
    "start_time": "2022-10-31T20:50:24.202Z"
   },
   {
    "duration": 121,
    "start_time": "2022-10-31T20:50:55.718Z"
   },
   {
    "duration": 108,
    "start_time": "2022-10-31T20:51:47.114Z"
   },
   {
    "duration": 114,
    "start_time": "2022-10-31T20:53:06.325Z"
   },
   {
    "duration": 93,
    "start_time": "2022-10-31T20:53:26.803Z"
   },
   {
    "duration": 93,
    "start_time": "2022-10-31T20:54:37.172Z"
   },
   {
    "duration": 113,
    "start_time": "2022-10-31T20:55:22.366Z"
   },
   {
    "duration": 86,
    "start_time": "2022-10-31T20:58:01.711Z"
   },
   {
    "duration": 122,
    "start_time": "2022-10-31T20:58:07.045Z"
   },
   {
    "duration": 101,
    "start_time": "2022-10-31T21:02:32.948Z"
   },
   {
    "duration": 100,
    "start_time": "2022-10-31T21:03:59.045Z"
   },
   {
    "duration": 88,
    "start_time": "2022-10-31T21:04:55.213Z"
   },
   {
    "duration": 102,
    "start_time": "2022-10-31T21:05:19.387Z"
   },
   {
    "duration": 101,
    "start_time": "2022-10-31T21:06:11.543Z"
   },
   {
    "duration": 105,
    "start_time": "2022-10-31T21:06:18.269Z"
   },
   {
    "duration": 8,
    "start_time": "2022-10-31T21:11:40.489Z"
   },
   {
    "duration": 7,
    "start_time": "2022-10-31T21:11:48.978Z"
   },
   {
    "duration": 537,
    "start_time": "2022-10-31T21:13:50.582Z"
   },
   {
    "duration": 41,
    "start_time": "2022-10-31T21:14:16.228Z"
   },
   {
    "duration": 12,
    "start_time": "2022-10-31T21:21:27.932Z"
   },
   {
    "duration": 13,
    "start_time": "2022-10-31T21:22:32.488Z"
   },
   {
    "duration": 15,
    "start_time": "2022-10-31T21:22:44.310Z"
   },
   {
    "duration": 22,
    "start_time": "2022-10-31T21:24:10.579Z"
   },
   {
    "duration": 47,
    "start_time": "2022-11-01T20:12:48.347Z"
   },
   {
    "duration": 1457,
    "start_time": "2022-11-01T20:12:55.908Z"
   },
   {
    "duration": 4,
    "start_time": "2022-11-01T20:12:57.367Z"
   },
   {
    "duration": 7795,
    "start_time": "2022-11-01T20:12:57.373Z"
   },
   {
    "duration": 73,
    "start_time": "2022-11-01T20:13:05.170Z"
   },
   {
    "duration": 15,
    "start_time": "2022-11-01T20:13:05.244Z"
   },
   {
    "duration": 361,
    "start_time": "2022-11-01T20:13:05.261Z"
   },
   {
    "duration": 2,
    "start_time": "2022-11-01T20:13:05.623Z"
   },
   {
    "duration": 396,
    "start_time": "2022-11-01T20:13:05.627Z"
   },
   {
    "duration": 2,
    "start_time": "2022-11-01T20:13:06.025Z"
   },
   {
    "duration": 239,
    "start_time": "2022-11-01T20:13:06.030Z"
   },
   {
    "duration": 2,
    "start_time": "2022-11-01T20:13:06.271Z"
   },
   {
    "duration": 2001,
    "start_time": "2022-11-01T20:13:06.274Z"
   },
   {
    "duration": 62,
    "start_time": "2022-11-01T20:13:08.277Z"
   },
   {
    "duration": 32,
    "start_time": "2022-11-01T20:13:08.341Z"
   },
   {
    "duration": 3,
    "start_time": "2022-11-01T20:13:08.375Z"
   },
   {
    "duration": 1017,
    "start_time": "2022-11-01T20:13:08.379Z"
   },
   {
    "duration": 192,
    "start_time": "2022-11-01T20:13:09.397Z"
   },
   {
    "duration": 0,
    "start_time": "2022-11-01T20:13:09.591Z"
   },
   {
    "duration": 0,
    "start_time": "2022-11-01T20:13:09.592Z"
   },
   {
    "duration": 0,
    "start_time": "2022-11-01T20:13:09.593Z"
   },
   {
    "duration": 0,
    "start_time": "2022-11-01T20:13:09.593Z"
   },
   {
    "duration": 0,
    "start_time": "2022-11-01T20:13:09.595Z"
   },
   {
    "duration": 93,
    "start_time": "2022-11-01T20:14:42.825Z"
   },
   {
    "duration": 100,
    "start_time": "2022-11-01T20:14:59.699Z"
   },
   {
    "duration": 2599,
    "start_time": "2022-11-01T20:15:10.970Z"
   },
   {
    "duration": 85,
    "start_time": "2022-11-01T20:21:29.399Z"
   },
   {
    "duration": 333,
    "start_time": "2022-11-01T20:22:14.461Z"
   },
   {
    "duration": 2078,
    "start_time": "2022-11-01T20:24:07.347Z"
   },
   {
    "duration": 89,
    "start_time": "2022-11-01T20:24:46.627Z"
   },
   {
    "duration": 329,
    "start_time": "2022-11-01T20:24:51.771Z"
   },
   {
    "duration": 110,
    "start_time": "2022-11-01T20:26:12.221Z"
   },
   {
    "duration": 96,
    "start_time": "2022-11-01T20:26:31.788Z"
   },
   {
    "duration": 94,
    "start_time": "2022-11-01T20:27:10.119Z"
   },
   {
    "duration": 409,
    "start_time": "2022-11-01T20:27:28.492Z"
   },
   {
    "duration": 1348,
    "start_time": "2022-11-01T20:28:46.831Z"
   },
   {
    "duration": 47,
    "start_time": "2022-11-01T20:30:00.917Z"
   },
   {
    "duration": 14,
    "start_time": "2022-11-01T20:32:40.077Z"
   },
   {
    "duration": 479,
    "start_time": "2022-11-01T20:33:28.518Z"
   },
   {
    "duration": 442,
    "start_time": "2022-11-01T20:33:33.636Z"
   },
   {
    "duration": 369,
    "start_time": "2022-11-01T20:34:51.200Z"
   },
   {
    "duration": 103,
    "start_time": "2022-11-01T20:45:05.832Z"
   },
   {
    "duration": 88,
    "start_time": "2022-11-01T20:47:20.229Z"
   },
   {
    "duration": 107,
    "start_time": "2022-11-01T20:47:46.528Z"
   },
   {
    "duration": 92,
    "start_time": "2022-11-01T20:48:54.796Z"
   },
   {
    "duration": 109,
    "start_time": "2022-11-01T20:49:01.696Z"
   },
   {
    "duration": 107,
    "start_time": "2022-11-01T20:49:34.156Z"
   },
   {
    "duration": 137,
    "start_time": "2022-11-01T20:49:55.581Z"
   },
   {
    "duration": 113,
    "start_time": "2022-11-01T20:50:03.360Z"
   },
   {
    "duration": 213,
    "start_time": "2022-11-01T20:53:22.193Z"
   },
   {
    "duration": 117,
    "start_time": "2022-11-01T20:54:44.819Z"
   },
   {
    "duration": 100,
    "start_time": "2022-11-01T20:55:02.301Z"
   },
   {
    "duration": 198,
    "start_time": "2022-11-01T20:57:46.029Z"
   },
   {
    "duration": 100,
    "start_time": "2022-11-01T20:57:54.023Z"
   },
   {
    "duration": 95,
    "start_time": "2022-11-01T21:02:11.216Z"
   },
   {
    "duration": 100,
    "start_time": "2022-11-01T21:02:29.472Z"
   },
   {
    "duration": 98,
    "start_time": "2022-11-01T21:03:58.475Z"
   },
   {
    "duration": 103,
    "start_time": "2022-11-01T21:04:43.208Z"
   },
   {
    "duration": 99,
    "start_time": "2022-11-01T21:06:07.257Z"
   },
   {
    "duration": 97,
    "start_time": "2022-11-01T21:07:40.804Z"
   },
   {
    "duration": 98,
    "start_time": "2022-11-01T21:08:49.309Z"
   },
   {
    "duration": 95,
    "start_time": "2022-11-01T21:09:22.346Z"
   },
   {
    "duration": 118,
    "start_time": "2022-11-01T21:09:31.264Z"
   },
   {
    "duration": 132,
    "start_time": "2022-11-01T21:09:54.116Z"
   },
   {
    "duration": 102,
    "start_time": "2022-11-01T21:09:58.864Z"
   },
   {
    "duration": 98,
    "start_time": "2022-11-01T21:11:01.079Z"
   },
   {
    "duration": 97,
    "start_time": "2022-11-01T21:11:32.655Z"
   },
   {
    "duration": 100,
    "start_time": "2022-11-01T21:11:45.678Z"
   },
   {
    "duration": 106,
    "start_time": "2022-11-01T21:12:02.841Z"
   },
   {
    "duration": 97,
    "start_time": "2022-11-01T21:18:44.460Z"
   },
   {
    "duration": 102,
    "start_time": "2022-11-01T21:19:14.974Z"
   },
   {
    "duration": 100,
    "start_time": "2022-11-01T21:19:25.180Z"
   },
   {
    "duration": 104,
    "start_time": "2022-11-01T21:19:40.242Z"
   },
   {
    "duration": 100,
    "start_time": "2022-11-01T21:21:17.544Z"
   },
   {
    "duration": 94,
    "start_time": "2022-11-01T21:21:29.568Z"
   },
   {
    "duration": 120,
    "start_time": "2022-11-01T21:22:04.910Z"
   },
   {
    "duration": 133,
    "start_time": "2022-11-01T21:22:10.492Z"
   },
   {
    "duration": 1081,
    "start_time": "2022-11-01T21:27:10.286Z"
   },
   {
    "duration": 4,
    "start_time": "2022-11-01T21:27:11.369Z"
   },
   {
    "duration": 8706,
    "start_time": "2022-11-01T21:27:11.375Z"
   },
   {
    "duration": 51,
    "start_time": "2022-11-01T21:27:20.083Z"
   },
   {
    "duration": 12,
    "start_time": "2022-11-01T21:27:20.135Z"
   },
   {
    "duration": 145,
    "start_time": "2022-11-01T21:27:20.149Z"
   },
   {
    "duration": 2,
    "start_time": "2022-11-01T21:27:20.296Z"
   },
   {
    "duration": 154,
    "start_time": "2022-11-01T21:27:20.300Z"
   },
   {
    "duration": 2,
    "start_time": "2022-11-01T21:27:20.456Z"
   },
   {
    "duration": 94,
    "start_time": "2022-11-01T21:27:20.462Z"
   },
   {
    "duration": 2,
    "start_time": "2022-11-01T21:27:20.558Z"
   },
   {
    "duration": 1154,
    "start_time": "2022-11-01T21:27:20.561Z"
   },
   {
    "duration": 66,
    "start_time": "2022-11-01T21:27:21.717Z"
   },
   {
    "duration": 50,
    "start_time": "2022-11-01T21:27:21.784Z"
   },
   {
    "duration": 35,
    "start_time": "2022-11-01T21:27:21.836Z"
   },
   {
    "duration": 1075,
    "start_time": "2022-11-01T21:27:21.873Z"
   },
   {
    "duration": 488,
    "start_time": "2022-11-01T21:27:22.950Z"
   },
   {
    "duration": 330,
    "start_time": "2022-11-01T21:27:23.439Z"
   },
   {
    "duration": 2,
    "start_time": "2022-11-01T21:27:23.770Z"
   },
   {
    "duration": 118,
    "start_time": "2022-11-01T21:27:23.774Z"
   },
   {
    "duration": 100,
    "start_time": "2022-11-01T21:27:23.894Z"
   },
   {
    "duration": 93,
    "start_time": "2022-11-01T21:27:23.995Z"
   },
   {
    "duration": 1453,
    "start_time": "2022-11-02T03:49:01.338Z"
   },
   {
    "duration": 3,
    "start_time": "2022-11-02T03:49:02.793Z"
   },
   {
    "duration": 8281,
    "start_time": "2022-11-02T03:49:02.798Z"
   },
   {
    "duration": 75,
    "start_time": "2022-11-02T03:49:11.082Z"
   },
   {
    "duration": 13,
    "start_time": "2022-11-02T03:49:11.159Z"
   },
   {
    "duration": 149,
    "start_time": "2022-11-02T03:49:11.173Z"
   },
   {
    "duration": 2,
    "start_time": "2022-11-02T03:49:11.324Z"
   },
   {
    "duration": 141,
    "start_time": "2022-11-02T03:49:11.327Z"
   },
   {
    "duration": 2,
    "start_time": "2022-11-02T03:49:11.470Z"
   },
   {
    "duration": 87,
    "start_time": "2022-11-02T03:49:11.475Z"
   },
   {
    "duration": 2,
    "start_time": "2022-11-02T03:49:11.564Z"
   },
   {
    "duration": 1188,
    "start_time": "2022-11-02T03:49:11.568Z"
   },
   {
    "duration": 71,
    "start_time": "2022-11-02T03:49:12.758Z"
   },
   {
    "duration": 31,
    "start_time": "2022-11-02T03:49:12.830Z"
   },
   {
    "duration": 2,
    "start_time": "2022-11-02T03:49:12.863Z"
   },
   {
    "duration": 1050,
    "start_time": "2022-11-02T03:49:12.867Z"
   },
   {
    "duration": 477,
    "start_time": "2022-11-02T03:49:13.919Z"
   },
   {
    "duration": 475,
    "start_time": "2022-11-02T03:49:14.398Z"
   },
   {
    "duration": 2,
    "start_time": "2022-11-02T03:49:14.875Z"
   },
   {
    "duration": 113,
    "start_time": "2022-11-02T03:49:14.878Z"
   },
   {
    "duration": 115,
    "start_time": "2022-11-02T03:49:14.993Z"
   },
   {
    "duration": 96,
    "start_time": "2022-11-02T03:49:15.110Z"
   },
   {
    "duration": 1365,
    "start_time": "2022-11-02T06:34:04.253Z"
   },
   {
    "duration": 4,
    "start_time": "2022-11-02T06:34:05.620Z"
   },
   {
    "duration": 6769,
    "start_time": "2022-11-02T06:34:05.627Z"
   },
   {
    "duration": 213,
    "start_time": "2022-11-02T06:34:12.398Z"
   },
   {
    "duration": 16,
    "start_time": "2022-11-02T06:34:12.613Z"
   },
   {
    "duration": 199,
    "start_time": "2022-11-02T06:34:12.631Z"
   },
   {
    "duration": 4,
    "start_time": "2022-11-02T06:34:12.832Z"
   },
   {
    "duration": 200,
    "start_time": "2022-11-02T06:34:12.838Z"
   },
   {
    "duration": 2,
    "start_time": "2022-11-02T06:34:13.041Z"
   },
   {
    "duration": 119,
    "start_time": "2022-11-02T06:34:13.047Z"
   },
   {
    "duration": 2,
    "start_time": "2022-11-02T06:34:13.168Z"
   },
   {
    "duration": 1363,
    "start_time": "2022-11-02T06:34:13.172Z"
   },
   {
    "duration": 106,
    "start_time": "2022-11-02T06:34:14.538Z"
   },
   {
    "duration": 67,
    "start_time": "2022-11-02T06:34:14.646Z"
   },
   {
    "duration": 2,
    "start_time": "2022-11-02T06:34:14.714Z"
   },
   {
    "duration": 1255,
    "start_time": "2022-11-02T06:34:14.718Z"
   },
   {
    "duration": 643,
    "start_time": "2022-11-02T06:34:15.975Z"
   },
   {
    "duration": 412,
    "start_time": "2022-11-02T06:34:16.619Z"
   },
   {
    "duration": 2,
    "start_time": "2022-11-02T06:34:17.033Z"
   },
   {
    "duration": 186,
    "start_time": "2022-11-02T06:34:17.037Z"
   },
   {
    "duration": 135,
    "start_time": "2022-11-02T06:34:17.225Z"
   },
   {
    "duration": 142,
    "start_time": "2022-11-02T06:34:17.361Z"
   },
   {
    "duration": 118,
    "start_time": "2022-11-02T06:36:56.870Z"
   },
   {
    "duration": 1216,
    "start_time": "2022-11-02T06:38:53.799Z"
   },
   {
    "duration": 7,
    "start_time": "2022-11-02T06:38:55.025Z"
   },
   {
    "duration": 5359,
    "start_time": "2022-11-02T06:38:55.038Z"
   },
   {
    "duration": 230,
    "start_time": "2022-11-02T06:39:00.399Z"
   },
   {
    "duration": 19,
    "start_time": "2022-11-02T06:39:00.631Z"
   },
   {
    "duration": 146,
    "start_time": "2022-11-02T06:39:00.652Z"
   },
   {
    "duration": 3,
    "start_time": "2022-11-02T06:39:00.800Z"
   },
   {
    "duration": 236,
    "start_time": "2022-11-02T06:39:00.804Z"
   },
   {
    "duration": 2,
    "start_time": "2022-11-02T06:39:01.045Z"
   },
   {
    "duration": 159,
    "start_time": "2022-11-02T06:39:01.050Z"
   },
   {
    "duration": 3,
    "start_time": "2022-11-02T06:39:01.211Z"
   },
   {
    "duration": 1338,
    "start_time": "2022-11-02T06:39:01.216Z"
   },
   {
    "duration": 101,
    "start_time": "2022-11-02T06:39:02.555Z"
   },
   {
    "duration": 69,
    "start_time": "2022-11-02T06:39:02.658Z"
   },
   {
    "duration": 3,
    "start_time": "2022-11-02T06:39:02.729Z"
   },
   {
    "duration": 1280,
    "start_time": "2022-11-02T06:39:02.734Z"
   },
   {
    "duration": 632,
    "start_time": "2022-11-02T06:39:04.015Z"
   },
   {
    "duration": 378,
    "start_time": "2022-11-02T06:39:04.649Z"
   },
   {
    "duration": 4,
    "start_time": "2022-11-02T06:39:05.028Z"
   },
   {
    "duration": 181,
    "start_time": "2022-11-02T06:39:05.033Z"
   },
   {
    "duration": 137,
    "start_time": "2022-11-02T06:39:05.215Z"
   },
   {
    "duration": 148,
    "start_time": "2022-11-02T06:39:05.354Z"
   },
   {
    "duration": 1306,
    "start_time": "2022-11-02T09:49:45.662Z"
   },
   {
    "duration": 3,
    "start_time": "2022-11-02T09:49:46.970Z"
   },
   {
    "duration": 6307,
    "start_time": "2022-11-02T09:49:46.975Z"
   },
   {
    "duration": 255,
    "start_time": "2022-11-02T09:49:53.283Z"
   },
   {
    "duration": 13,
    "start_time": "2022-11-02T09:49:53.540Z"
   },
   {
    "duration": 147,
    "start_time": "2022-11-02T09:49:53.554Z"
   },
   {
    "duration": 2,
    "start_time": "2022-11-02T09:49:53.702Z"
   },
   {
    "duration": 206,
    "start_time": "2022-11-02T09:49:53.706Z"
   },
   {
    "duration": 2,
    "start_time": "2022-11-02T09:49:53.913Z"
   },
   {
    "duration": 124,
    "start_time": "2022-11-02T09:49:53.916Z"
   },
   {
    "duration": 2,
    "start_time": "2022-11-02T09:49:54.041Z"
   },
   {
    "duration": 1309,
    "start_time": "2022-11-02T09:49:54.044Z"
   },
   {
    "duration": 91,
    "start_time": "2022-11-02T09:49:55.355Z"
   },
   {
    "duration": 62,
    "start_time": "2022-11-02T09:49:55.450Z"
   },
   {
    "duration": 2,
    "start_time": "2022-11-02T09:49:55.514Z"
   },
   {
    "duration": 1103,
    "start_time": "2022-11-02T09:49:55.518Z"
   },
   {
    "duration": 655,
    "start_time": "2022-11-02T09:49:56.623Z"
   },
   {
    "duration": 438,
    "start_time": "2022-11-02T09:49:57.280Z"
   },
   {
    "duration": 3,
    "start_time": "2022-11-02T09:49:57.722Z"
   },
   {
    "duration": 168,
    "start_time": "2022-11-02T09:49:57.726Z"
   },
   {
    "duration": 101,
    "start_time": "2022-11-02T09:49:57.896Z"
   },
   {
    "duration": 140,
    "start_time": "2022-11-02T09:49:57.998Z"
   }
  ],
  "colab": {
   "name": "AdvansedSQLProjectTemplate.ipynb",
   "provenance": []
  },
  "kernelspec": {
   "display_name": "Python 3 (ipykernel)",
   "language": "python",
   "name": "python3"
  },
  "language_info": {
   "codemirror_mode": {
    "name": "ipython",
    "version": 3
   },
   "file_extension": ".py",
   "mimetype": "text/x-python",
   "name": "python",
   "nbconvert_exporter": "python",
   "pygments_lexer": "ipython3",
   "version": "3.9.7"
  },
  "toc": {
   "base_numbering": 1,
   "nav_menu": {},
   "number_sections": true,
   "sideBar": true,
   "skip_h1_title": true,
   "title_cell": "Table of Contents",
   "title_sidebar": "Contents",
   "toc_cell": false,
   "toc_position": {},
   "toc_section_display": true,
   "toc_window_display": false
  }
 },
 "nbformat": 4,
 "nbformat_minor": 1
}
