{
 "cells": [
  {
   "cell_type": "markdown",
   "metadata": {},
   "source": [
    "# Проверка гипотез для увеличения выручки интернет-магазина."
   ]
  },
  {
   "cell_type": "markdown",
   "metadata": {},
   "source": [
    "Цели исследования:  \n",
    "Приоритизировать гипотезы.  \n",
    "Проанализировать результаты A/B-теста.  \n",
    "Принять решение о продолжении/остановке A/B-теста."
   ]
  },
  {
   "cell_type": "markdown",
   "metadata": {},
   "source": [
    "## Предобработка данных"
   ]
  },
  {
   "cell_type": "code",
   "execution_count": 1,
   "metadata": {},
   "outputs": [],
   "source": [
    "import pandas as pd\n",
    "import datetime as dt\n",
    "import numpy as np\n",
    "import matplotlib.pyplot as plt\n",
    "from scipy import stats as st\n",
    "import math as mt\n",
    "import itertools"
   ]
  },
  {
   "cell_type": "code",
   "execution_count": 2,
   "metadata": {
    "scrolled": false
   },
   "outputs": [
    {
     "name": "stdout",
     "output_type": "stream",
     "text": [
      "<class 'pandas.core.frame.DataFrame'>\n",
      "RangeIndex: 9 entries, 0 to 8\n",
      "Data columns (total 5 columns):\n",
      " #   Column      Non-Null Count  Dtype \n",
      "---  ------      --------------  ----- \n",
      " 0   Hypothesis  9 non-null      object\n",
      " 1   Reach       9 non-null      int64 \n",
      " 2   Impact      9 non-null      int64 \n",
      " 3   Confidence  9 non-null      int64 \n",
      " 4   Efforts     9 non-null      int64 \n",
      "dtypes: int64(4), object(1)\n",
      "memory usage: 488.0+ bytes\n"
     ]
    },
    {
     "data": {
      "text/html": [
       "<div>\n",
       "<style scoped>\n",
       "    .dataframe tbody tr th:only-of-type {\n",
       "        vertical-align: middle;\n",
       "    }\n",
       "\n",
       "    .dataframe tbody tr th {\n",
       "        vertical-align: top;\n",
       "    }\n",
       "\n",
       "    .dataframe thead th {\n",
       "        text-align: right;\n",
       "    }\n",
       "</style>\n",
       "<table border=\"1\" class=\"dataframe\">\n",
       "  <thead>\n",
       "    <tr style=\"text-align: right;\">\n",
       "      <th></th>\n",
       "      <th>count</th>\n",
       "      <th>unique</th>\n",
       "      <th>top</th>\n",
       "      <th>freq</th>\n",
       "      <th>mean</th>\n",
       "      <th>std</th>\n",
       "      <th>min</th>\n",
       "      <th>25%</th>\n",
       "      <th>50%</th>\n",
       "      <th>75%</th>\n",
       "      <th>max</th>\n",
       "    </tr>\n",
       "  </thead>\n",
       "  <tbody>\n",
       "    <tr>\n",
       "      <th>Hypothesis</th>\n",
       "      <td>9</td>\n",
       "      <td>9</td>\n",
       "      <td>Запустить акцию, дающую скидку на товар в день...</td>\n",
       "      <td>1</td>\n",
       "      <td>NaN</td>\n",
       "      <td>NaN</td>\n",
       "      <td>NaN</td>\n",
       "      <td>NaN</td>\n",
       "      <td>NaN</td>\n",
       "      <td>NaN</td>\n",
       "      <td>NaN</td>\n",
       "    </tr>\n",
       "    <tr>\n",
       "      <th>Reach</th>\n",
       "      <td>9.0</td>\n",
       "      <td>NaN</td>\n",
       "      <td>NaN</td>\n",
       "      <td>NaN</td>\n",
       "      <td>4.777778</td>\n",
       "      <td>3.153481</td>\n",
       "      <td>1.0</td>\n",
       "      <td>3.0</td>\n",
       "      <td>3.0</td>\n",
       "      <td>8.0</td>\n",
       "      <td>10.0</td>\n",
       "    </tr>\n",
       "    <tr>\n",
       "      <th>Impact</th>\n",
       "      <td>9.0</td>\n",
       "      <td>NaN</td>\n",
       "      <td>NaN</td>\n",
       "      <td>NaN</td>\n",
       "      <td>4.777778</td>\n",
       "      <td>3.192874</td>\n",
       "      <td>1.0</td>\n",
       "      <td>3.0</td>\n",
       "      <td>3.0</td>\n",
       "      <td>7.0</td>\n",
       "      <td>10.0</td>\n",
       "    </tr>\n",
       "    <tr>\n",
       "      <th>Confidence</th>\n",
       "      <td>9.0</td>\n",
       "      <td>NaN</td>\n",
       "      <td>NaN</td>\n",
       "      <td>NaN</td>\n",
       "      <td>5.555556</td>\n",
       "      <td>3.045944</td>\n",
       "      <td>1.0</td>\n",
       "      <td>3.0</td>\n",
       "      <td>7.0</td>\n",
       "      <td>8.0</td>\n",
       "      <td>9.0</td>\n",
       "    </tr>\n",
       "    <tr>\n",
       "      <th>Efforts</th>\n",
       "      <td>9.0</td>\n",
       "      <td>NaN</td>\n",
       "      <td>NaN</td>\n",
       "      <td>NaN</td>\n",
       "      <td>4.888889</td>\n",
       "      <td>2.803767</td>\n",
       "      <td>1.0</td>\n",
       "      <td>3.0</td>\n",
       "      <td>5.0</td>\n",
       "      <td>6.0</td>\n",
       "      <td>10.0</td>\n",
       "    </tr>\n",
       "  </tbody>\n",
       "</table>\n",
       "</div>"
      ],
      "text/plain": [
       "           count unique                                                top  \\\n",
       "Hypothesis     9      9  Запустить акцию, дающую скидку на товар в день...   \n",
       "Reach        9.0    NaN                                                NaN   \n",
       "Impact       9.0    NaN                                                NaN   \n",
       "Confidence   9.0    NaN                                                NaN   \n",
       "Efforts      9.0    NaN                                                NaN   \n",
       "\n",
       "           freq      mean       std  min  25%  50%  75%   max  \n",
       "Hypothesis    1       NaN       NaN  NaN  NaN  NaN  NaN   NaN  \n",
       "Reach       NaN  4.777778  3.153481  1.0  3.0  3.0  8.0  10.0  \n",
       "Impact      NaN  4.777778  3.192874  1.0  3.0  3.0  7.0  10.0  \n",
       "Confidence  NaN  5.555556  3.045944  1.0  3.0  7.0  8.0   9.0  \n",
       "Efforts     NaN  4.888889  2.803767  1.0  3.0  5.0  6.0  10.0  "
      ]
     },
     "metadata": {},
     "output_type": "display_data"
    },
    {
     "data": {
      "text/html": [
       "<div>\n",
       "<style scoped>\n",
       "    .dataframe tbody tr th:only-of-type {\n",
       "        vertical-align: middle;\n",
       "    }\n",
       "\n",
       "    .dataframe tbody tr th {\n",
       "        vertical-align: top;\n",
       "    }\n",
       "\n",
       "    .dataframe thead th {\n",
       "        text-align: right;\n",
       "    }\n",
       "</style>\n",
       "<table border=\"1\" class=\"dataframe\">\n",
       "  <thead>\n",
       "    <tr style=\"text-align: right;\">\n",
       "      <th></th>\n",
       "      <th>Hypothesis</th>\n",
       "      <th>Reach</th>\n",
       "      <th>Impact</th>\n",
       "      <th>Confidence</th>\n",
       "      <th>Efforts</th>\n",
       "    </tr>\n",
       "  </thead>\n",
       "  <tbody>\n",
       "    <tr>\n",
       "      <th>0</th>\n",
       "      <td>Добавить два новых канала привлечения трафика,...</td>\n",
       "      <td>3</td>\n",
       "      <td>10</td>\n",
       "      <td>8</td>\n",
       "      <td>6</td>\n",
       "    </tr>\n",
       "    <tr>\n",
       "      <th>1</th>\n",
       "      <td>Запустить собственную службу доставки, что сок...</td>\n",
       "      <td>2</td>\n",
       "      <td>5</td>\n",
       "      <td>4</td>\n",
       "      <td>10</td>\n",
       "    </tr>\n",
       "    <tr>\n",
       "      <th>2</th>\n",
       "      <td>Добавить блоки рекомендаций товаров на сайт ин...</td>\n",
       "      <td>8</td>\n",
       "      <td>3</td>\n",
       "      <td>7</td>\n",
       "      <td>3</td>\n",
       "    </tr>\n",
       "    <tr>\n",
       "      <th>3</th>\n",
       "      <td>Изменить структура категорий, что увеличит кон...</td>\n",
       "      <td>8</td>\n",
       "      <td>3</td>\n",
       "      <td>3</td>\n",
       "      <td>8</td>\n",
       "    </tr>\n",
       "    <tr>\n",
       "      <th>4</th>\n",
       "      <td>Изменить цвет фона главной страницы, чтобы уве...</td>\n",
       "      <td>3</td>\n",
       "      <td>1</td>\n",
       "      <td>1</td>\n",
       "      <td>1</td>\n",
       "    </tr>\n",
       "    <tr>\n",
       "      <th>5</th>\n",
       "      <td>Добавить страницу отзывов клиентов о магазине,...</td>\n",
       "      <td>3</td>\n",
       "      <td>2</td>\n",
       "      <td>2</td>\n",
       "      <td>3</td>\n",
       "    </tr>\n",
       "    <tr>\n",
       "      <th>6</th>\n",
       "      <td>Показать на главной странице баннеры с актуаль...</td>\n",
       "      <td>5</td>\n",
       "      <td>3</td>\n",
       "      <td>8</td>\n",
       "      <td>3</td>\n",
       "    </tr>\n",
       "    <tr>\n",
       "      <th>7</th>\n",
       "      <td>Добавить форму подписки на все основные страни...</td>\n",
       "      <td>10</td>\n",
       "      <td>7</td>\n",
       "      <td>8</td>\n",
       "      <td>5</td>\n",
       "    </tr>\n",
       "    <tr>\n",
       "      <th>8</th>\n",
       "      <td>Запустить акцию, дающую скидку на товар в день...</td>\n",
       "      <td>1</td>\n",
       "      <td>9</td>\n",
       "      <td>9</td>\n",
       "      <td>5</td>\n",
       "    </tr>\n",
       "  </tbody>\n",
       "</table>\n",
       "</div>"
      ],
      "text/plain": [
       "                                          Hypothesis  Reach  Impact  \\\n",
       "0  Добавить два новых канала привлечения трафика,...      3      10   \n",
       "1  Запустить собственную службу доставки, что сок...      2       5   \n",
       "2  Добавить блоки рекомендаций товаров на сайт ин...      8       3   \n",
       "3  Изменить структура категорий, что увеличит кон...      8       3   \n",
       "4  Изменить цвет фона главной страницы, чтобы уве...      3       1   \n",
       "5  Добавить страницу отзывов клиентов о магазине,...      3       2   \n",
       "6  Показать на главной странице баннеры с актуаль...      5       3   \n",
       "7  Добавить форму подписки на все основные страни...     10       7   \n",
       "8  Запустить акцию, дающую скидку на товар в день...      1       9   \n",
       "\n",
       "   Confidence  Efforts  \n",
       "0           8        6  \n",
       "1           4       10  \n",
       "2           7        3  \n",
       "3           3        8  \n",
       "4           1        1  \n",
       "5           2        3  \n",
       "6           8        3  \n",
       "7           8        5  \n",
       "8           9        5  "
      ]
     },
     "metadata": {},
     "output_type": "display_data"
    }
   ],
   "source": [
    "hypothesis = pd.read_csv('/datasets/hypothesis.csv')\n",
    "hypothesis.info()\n",
    "display(hypothesis.describe(include = 'all').T)\n",
    "display(hypothesis)"
   ]
  },
  {
   "cell_type": "markdown",
   "metadata": {},
   "source": [
    "В данных нет пропусков и дубликатов. В столбце Hypothesis некоторые строки начинаются с лишних пробелов. Анализу это не мешает. Оставляю без изменений."
   ]
  },
  {
   "cell_type": "code",
   "execution_count": 3,
   "metadata": {
    "scrolled": false
   },
   "outputs": [
    {
     "name": "stdout",
     "output_type": "stream",
     "text": [
      "<class 'pandas.core.frame.DataFrame'>\n",
      "RangeIndex: 1197 entries, 0 to 1196\n",
      "Data columns (total 5 columns):\n",
      " #   Column         Non-Null Count  Dtype \n",
      "---  ------         --------------  ----- \n",
      " 0   transactionId  1197 non-null   int64 \n",
      " 1   visitorId      1197 non-null   int64 \n",
      " 2   date           1197 non-null   object\n",
      " 3   revenue        1197 non-null   int64 \n",
      " 4   group          1197 non-null   object\n",
      "dtypes: int64(3), object(2)\n",
      "memory usage: 46.9+ KB\n"
     ]
    },
    {
     "data": {
      "text/html": [
       "<div>\n",
       "<style scoped>\n",
       "    .dataframe tbody tr th:only-of-type {\n",
       "        vertical-align: middle;\n",
       "    }\n",
       "\n",
       "    .dataframe tbody tr th {\n",
       "        vertical-align: top;\n",
       "    }\n",
       "\n",
       "    .dataframe thead th {\n",
       "        text-align: right;\n",
       "    }\n",
       "</style>\n",
       "<table border=\"1\" class=\"dataframe\">\n",
       "  <thead>\n",
       "    <tr style=\"text-align: right;\">\n",
       "      <th></th>\n",
       "      <th>count</th>\n",
       "      <th>unique</th>\n",
       "      <th>top</th>\n",
       "      <th>freq</th>\n",
       "      <th>mean</th>\n",
       "      <th>std</th>\n",
       "      <th>min</th>\n",
       "      <th>25%</th>\n",
       "      <th>50%</th>\n",
       "      <th>75%</th>\n",
       "      <th>max</th>\n",
       "    </tr>\n",
       "  </thead>\n",
       "  <tbody>\n",
       "    <tr>\n",
       "      <th>transactionId</th>\n",
       "      <td>1197.0</td>\n",
       "      <td>NaN</td>\n",
       "      <td>NaN</td>\n",
       "      <td>NaN</td>\n",
       "      <td>2155621385.529657</td>\n",
       "      <td>1229084904.760058</td>\n",
       "      <td>1062393.0</td>\n",
       "      <td>1166775572.0</td>\n",
       "      <td>2145193898.0</td>\n",
       "      <td>3237740112.0</td>\n",
       "      <td>4293855558.0</td>\n",
       "    </tr>\n",
       "    <tr>\n",
       "      <th>visitorId</th>\n",
       "      <td>1197.0</td>\n",
       "      <td>NaN</td>\n",
       "      <td>NaN</td>\n",
       "      <td>NaN</td>\n",
       "      <td>2165960143.099415</td>\n",
       "      <td>1236014192.14687</td>\n",
       "      <td>5114589.0</td>\n",
       "      <td>1111826046.0</td>\n",
       "      <td>2217984702.0</td>\n",
       "      <td>3177606451.0</td>\n",
       "      <td>4283872382.0</td>\n",
       "    </tr>\n",
       "    <tr>\n",
       "      <th>date</th>\n",
       "      <td>1197</td>\n",
       "      <td>31</td>\n",
       "      <td>2019-08-05</td>\n",
       "      <td>48</td>\n",
       "      <td>NaN</td>\n",
       "      <td>NaN</td>\n",
       "      <td>NaN</td>\n",
       "      <td>NaN</td>\n",
       "      <td>NaN</td>\n",
       "      <td>NaN</td>\n",
       "      <td>NaN</td>\n",
       "    </tr>\n",
       "    <tr>\n",
       "      <th>revenue</th>\n",
       "      <td>1197.0</td>\n",
       "      <td>NaN</td>\n",
       "      <td>NaN</td>\n",
       "      <td>NaN</td>\n",
       "      <td>8348.005848</td>\n",
       "      <td>39191.131774</td>\n",
       "      <td>50.0</td>\n",
       "      <td>1220.0</td>\n",
       "      <td>2978.0</td>\n",
       "      <td>8290.0</td>\n",
       "      <td>1294500.0</td>\n",
       "    </tr>\n",
       "    <tr>\n",
       "      <th>group</th>\n",
       "      <td>1197</td>\n",
       "      <td>2</td>\n",
       "      <td>B</td>\n",
       "      <td>640</td>\n",
       "      <td>NaN</td>\n",
       "      <td>NaN</td>\n",
       "      <td>NaN</td>\n",
       "      <td>NaN</td>\n",
       "      <td>NaN</td>\n",
       "      <td>NaN</td>\n",
       "      <td>NaN</td>\n",
       "    </tr>\n",
       "  </tbody>\n",
       "</table>\n",
       "</div>"
      ],
      "text/plain": [
       "                count unique         top freq               mean  \\\n",
       "transactionId  1197.0    NaN         NaN  NaN  2155621385.529657   \n",
       "visitorId      1197.0    NaN         NaN  NaN  2165960143.099415   \n",
       "date             1197     31  2019-08-05   48                NaN   \n",
       "revenue        1197.0    NaN         NaN  NaN        8348.005848   \n",
       "group            1197      2           B  640                NaN   \n",
       "\n",
       "                             std        min           25%           50%  \\\n",
       "transactionId  1229084904.760058  1062393.0  1166775572.0  2145193898.0   \n",
       "visitorId       1236014192.14687  5114589.0  1111826046.0  2217984702.0   \n",
       "date                         NaN        NaN           NaN           NaN   \n",
       "revenue             39191.131774       50.0        1220.0        2978.0   \n",
       "group                        NaN        NaN           NaN           NaN   \n",
       "\n",
       "                        75%           max  \n",
       "transactionId  3237740112.0  4293855558.0  \n",
       "visitorId      3177606451.0  4283872382.0  \n",
       "date                    NaN           NaN  \n",
       "revenue              8290.0     1294500.0  \n",
       "group                   NaN           NaN  "
      ]
     },
     "metadata": {},
     "output_type": "display_data"
    },
    {
     "data": {
      "text/html": [
       "<div>\n",
       "<style scoped>\n",
       "    .dataframe tbody tr th:only-of-type {\n",
       "        vertical-align: middle;\n",
       "    }\n",
       "\n",
       "    .dataframe tbody tr th {\n",
       "        vertical-align: top;\n",
       "    }\n",
       "\n",
       "    .dataframe thead th {\n",
       "        text-align: right;\n",
       "    }\n",
       "</style>\n",
       "<table border=\"1\" class=\"dataframe\">\n",
       "  <thead>\n",
       "    <tr style=\"text-align: right;\">\n",
       "      <th></th>\n",
       "      <th>transactionId</th>\n",
       "      <th>visitorId</th>\n",
       "      <th>date</th>\n",
       "      <th>revenue</th>\n",
       "      <th>group</th>\n",
       "    </tr>\n",
       "  </thead>\n",
       "  <tbody>\n",
       "    <tr>\n",
       "      <th>921</th>\n",
       "      <td>3102219893</td>\n",
       "      <td>151496413</td>\n",
       "      <td>2019-08-21</td>\n",
       "      <td>350</td>\n",
       "      <td>A</td>\n",
       "    </tr>\n",
       "    <tr>\n",
       "      <th>321</th>\n",
       "      <td>1775445570</td>\n",
       "      <td>3118528100</td>\n",
       "      <td>2019-08-19</td>\n",
       "      <td>1090</td>\n",
       "      <td>A</td>\n",
       "    </tr>\n",
       "    <tr>\n",
       "      <th>101</th>\n",
       "      <td>3847160695</td>\n",
       "      <td>1830791924</td>\n",
       "      <td>2019-08-01</td>\n",
       "      <td>2350</td>\n",
       "      <td>A</td>\n",
       "    </tr>\n",
       "    <tr>\n",
       "      <th>920</th>\n",
       "      <td>3057892078</td>\n",
       "      <td>249864742</td>\n",
       "      <td>2019-08-21</td>\n",
       "      <td>5530</td>\n",
       "      <td>B</td>\n",
       "    </tr>\n",
       "    <tr>\n",
       "      <th>58</th>\n",
       "      <td>2145193898</td>\n",
       "      <td>1221478247</td>\n",
       "      <td>2019-08-16</td>\n",
       "      <td>1440</td>\n",
       "      <td>B</td>\n",
       "    </tr>\n",
       "  </tbody>\n",
       "</table>\n",
       "</div>"
      ],
      "text/plain": [
       "     transactionId   visitorId        date  revenue group\n",
       "921     3102219893   151496413  2019-08-21      350     A\n",
       "321     1775445570  3118528100  2019-08-19     1090     A\n",
       "101     3847160695  1830791924  2019-08-01     2350     A\n",
       "920     3057892078   249864742  2019-08-21     5530     B\n",
       "58      2145193898  1221478247  2019-08-16     1440     B"
      ]
     },
     "metadata": {},
     "output_type": "display_data"
    }
   ],
   "source": [
    "orders = pd.read_csv('/datasets/orders.csv')\n",
    "orders.info()\n",
    "display(orders.describe(include = 'all').T)\n",
    "display(orders.sample(5, random_state=42))"
   ]
  },
  {
   "cell_type": "code",
   "execution_count": 4,
   "metadata": {},
   "outputs": [
    {
     "data": {
      "text/plain": [
       "0"
      ]
     },
     "metadata": {},
     "output_type": "display_data"
    },
    {
     "data": {
      "text/plain": [
       "1197"
      ]
     },
     "metadata": {},
     "output_type": "display_data"
    }
   ],
   "source": [
    "display(orders.duplicated().sum())\n",
    "display(len(orders['transactionId'].unique()))"
   ]
  },
  {
   "cell_type": "markdown",
   "metadata": {},
   "source": [
    "В данных нет пропусков и явных дубликатов. У столбца 'date' неверный тип данных. Изменим"
   ]
  },
  {
   "cell_type": "code",
   "execution_count": 5,
   "metadata": {},
   "outputs": [],
   "source": [
    "orders['date'] = orders['date'].map(lambda x: dt.datetime.strptime(x, '%Y-%m-%d'))"
   ]
  },
  {
   "cell_type": "code",
   "execution_count": 6,
   "metadata": {},
   "outputs": [
    {
     "name": "stdout",
     "output_type": "stream",
     "text": [
      "<class 'pandas.core.frame.DataFrame'>\n",
      "RangeIndex: 62 entries, 0 to 61\n",
      "Data columns (total 3 columns):\n",
      " #   Column    Non-Null Count  Dtype \n",
      "---  ------    --------------  ----- \n",
      " 0   date      62 non-null     object\n",
      " 1   group     62 non-null     object\n",
      " 2   visitors  62 non-null     int64 \n",
      "dtypes: int64(1), object(2)\n",
      "memory usage: 1.6+ KB\n"
     ]
    },
    {
     "data": {
      "text/html": [
       "<div>\n",
       "<style scoped>\n",
       "    .dataframe tbody tr th:only-of-type {\n",
       "        vertical-align: middle;\n",
       "    }\n",
       "\n",
       "    .dataframe tbody tr th {\n",
       "        vertical-align: top;\n",
       "    }\n",
       "\n",
       "    .dataframe thead th {\n",
       "        text-align: right;\n",
       "    }\n",
       "</style>\n",
       "<table border=\"1\" class=\"dataframe\">\n",
       "  <thead>\n",
       "    <tr style=\"text-align: right;\">\n",
       "      <th></th>\n",
       "      <th>date</th>\n",
       "      <th>group</th>\n",
       "      <th>visitors</th>\n",
       "    </tr>\n",
       "  </thead>\n",
       "  <tbody>\n",
       "    <tr>\n",
       "      <th>50</th>\n",
       "      <td>2019-08-20</td>\n",
       "      <td>B</td>\n",
       "      <td>560</td>\n",
       "    </tr>\n",
       "    <tr>\n",
       "      <th>56</th>\n",
       "      <td>2019-08-26</td>\n",
       "      <td>B</td>\n",
       "      <td>676</td>\n",
       "    </tr>\n",
       "    <tr>\n",
       "      <th>0</th>\n",
       "      <td>2019-08-01</td>\n",
       "      <td>A</td>\n",
       "      <td>719</td>\n",
       "    </tr>\n",
       "    <tr>\n",
       "      <th>57</th>\n",
       "      <td>2019-08-27</td>\n",
       "      <td>B</td>\n",
       "      <td>720</td>\n",
       "    </tr>\n",
       "    <tr>\n",
       "      <th>5</th>\n",
       "      <td>2019-08-06</td>\n",
       "      <td>A</td>\n",
       "      <td>667</td>\n",
       "    </tr>\n",
       "  </tbody>\n",
       "</table>\n",
       "</div>"
      ],
      "text/plain": [
       "          date group  visitors\n",
       "50  2019-08-20     B       560\n",
       "56  2019-08-26     B       676\n",
       "0   2019-08-01     A       719\n",
       "57  2019-08-27     B       720\n",
       "5   2019-08-06     A       667"
      ]
     },
     "execution_count": 6,
     "metadata": {},
     "output_type": "execute_result"
    }
   ],
   "source": [
    "visitors = pd.read_csv('/datasets/visitors.csv')\n",
    "visitors.info()\n",
    "visitors.describe(include = 'all').T\n",
    "visitors.sample(5, random_state=42)"
   ]
  },
  {
   "cell_type": "markdown",
   "metadata": {},
   "source": [
    "В данных нет пропусков и явных дубликатов. У столбца 'date' неверный тип данных. Скорректируем"
   ]
  },
  {
   "cell_type": "code",
   "execution_count": 7,
   "metadata": {},
   "outputs": [],
   "source": [
    "visitors['date'] = visitors['date'].map(lambda x: dt.datetime.strptime(x, '%Y-%m-%d'))"
   ]
  },
  {
   "cell_type": "code",
   "execution_count": 8,
   "metadata": {},
   "outputs": [
    {
     "data": {
      "text/plain": [
       "B    640\n",
       "A    557\n",
       "Name: group, dtype: int64"
      ]
     },
     "metadata": {},
     "output_type": "display_data"
    }
   ],
   "source": [
    "display(orders['group'].value_counts())"
   ]
  },
  {
   "cell_type": "markdown",
   "metadata": {},
   "source": [
    "По количеству по количеству заказов группа В превышает А.  \n",
    "Проверим, есть ли заказы у кого-то из покупателей сразу в двух группах."
   ]
  },
  {
   "cell_type": "code",
   "execution_count": 9,
   "metadata": {},
   "outputs": [
    {
     "data": {
      "text/plain": [
       "58"
      ]
     },
     "execution_count": 9,
     "metadata": {},
     "output_type": "execute_result"
    }
   ],
   "source": [
    "check = orders.pivot_table(index='visitorId', values='group', aggfunc='nunique').reset_index()\n",
    "len(check[check['group'] > 1])"
   ]
  },
  {
   "cell_type": "markdown",
   "metadata": {},
   "source": [
    "58 клиентов, совершивших заказ, попали в обе тестовые группы. Это около 5% от общего числа уникальных пользователей.  \n",
    "Информацию по таким клиентам возможно удалить из базы с заказами, но не из данных по посещениям, так как они прдставлены в сгруппированном виде, без указаний id клиента.  \n",
    "Оставим данные без изменения."
   ]
  },
  {
   "cell_type": "markdown",
   "metadata": {},
   "source": [
    "В исходных данных нет нулевых значений и дубликатов.  \n",
    "Был изменён тип данных для столбцов date в датасетах orders и visitors"
   ]
  },
  {
   "cell_type": "markdown",
   "metadata": {},
   "source": [
    "## Приоритизация гипотез"
   ]
  },
  {
   "cell_type": "markdown",
   "metadata": {},
   "source": [
    "Применим фреймворк ICE для приоритизации гипотез. Отсортируем их по убыванию приоритета."
   ]
  },
  {
   "cell_type": "code",
   "execution_count": 10,
   "metadata": {},
   "outputs": [
    {
     "data": {
      "text/html": [
       "<div>\n",
       "<style scoped>\n",
       "    .dataframe tbody tr th:only-of-type {\n",
       "        vertical-align: middle;\n",
       "    }\n",
       "\n",
       "    .dataframe tbody tr th {\n",
       "        vertical-align: top;\n",
       "    }\n",
       "\n",
       "    .dataframe thead th {\n",
       "        text-align: right;\n",
       "    }\n",
       "</style>\n",
       "<table border=\"1\" class=\"dataframe\">\n",
       "  <thead>\n",
       "    <tr style=\"text-align: right;\">\n",
       "      <th></th>\n",
       "      <th>Hypothesis</th>\n",
       "      <th>Reach</th>\n",
       "      <th>Impact</th>\n",
       "      <th>Confidence</th>\n",
       "      <th>Efforts</th>\n",
       "      <th>ICE</th>\n",
       "    </tr>\n",
       "  </thead>\n",
       "  <tbody>\n",
       "    <tr>\n",
       "      <th>8</th>\n",
       "      <td>Запустить акцию, дающую скидку на товар в день рождения</td>\n",
       "      <td>1</td>\n",
       "      <td>9</td>\n",
       "      <td>9</td>\n",
       "      <td>5</td>\n",
       "      <td>16.2</td>\n",
       "    </tr>\n",
       "    <tr>\n",
       "      <th>0</th>\n",
       "      <td>Добавить два новых канала привлечения трафика, что позволит привлекать на 30% больше пользователей</td>\n",
       "      <td>3</td>\n",
       "      <td>10</td>\n",
       "      <td>8</td>\n",
       "      <td>6</td>\n",
       "      <td>13.3</td>\n",
       "    </tr>\n",
       "    <tr>\n",
       "      <th>7</th>\n",
       "      <td>Добавить форму подписки на все основные страницы, чтобы собрать базу клиентов для email-рассылок</td>\n",
       "      <td>10</td>\n",
       "      <td>7</td>\n",
       "      <td>8</td>\n",
       "      <td>5</td>\n",
       "      <td>11.2</td>\n",
       "    </tr>\n",
       "    <tr>\n",
       "      <th>6</th>\n",
       "      <td>Показать на главной странице баннеры с актуальными акциями и распродажами, чтобы увеличить конверсию</td>\n",
       "      <td>5</td>\n",
       "      <td>3</td>\n",
       "      <td>8</td>\n",
       "      <td>3</td>\n",
       "      <td>8.0</td>\n",
       "    </tr>\n",
       "    <tr>\n",
       "      <th>2</th>\n",
       "      <td>Добавить блоки рекомендаций товаров на сайт интернет магазина, чтобы повысить конверсию и средний чек заказа</td>\n",
       "      <td>8</td>\n",
       "      <td>3</td>\n",
       "      <td>7</td>\n",
       "      <td>3</td>\n",
       "      <td>7.0</td>\n",
       "    </tr>\n",
       "    <tr>\n",
       "      <th>1</th>\n",
       "      <td>Запустить собственную службу доставки, что сократит срок доставки заказов</td>\n",
       "      <td>2</td>\n",
       "      <td>5</td>\n",
       "      <td>4</td>\n",
       "      <td>10</td>\n",
       "      <td>2.0</td>\n",
       "    </tr>\n",
       "    <tr>\n",
       "      <th>5</th>\n",
       "      <td>Добавить страницу отзывов клиентов о магазине, что позволит увеличить количество заказов</td>\n",
       "      <td>3</td>\n",
       "      <td>2</td>\n",
       "      <td>2</td>\n",
       "      <td>3</td>\n",
       "      <td>1.3</td>\n",
       "    </tr>\n",
       "    <tr>\n",
       "      <th>3</th>\n",
       "      <td>Изменить структура категорий, что увеличит конверсию, т.к. пользователи быстрее найдут нужный товар</td>\n",
       "      <td>8</td>\n",
       "      <td>3</td>\n",
       "      <td>3</td>\n",
       "      <td>8</td>\n",
       "      <td>1.1</td>\n",
       "    </tr>\n",
       "    <tr>\n",
       "      <th>4</th>\n",
       "      <td>Изменить цвет фона главной страницы, чтобы увеличить вовлеченность пользователей</td>\n",
       "      <td>3</td>\n",
       "      <td>1</td>\n",
       "      <td>1</td>\n",
       "      <td>1</td>\n",
       "      <td>1.0</td>\n",
       "    </tr>\n",
       "  </tbody>\n",
       "</table>\n",
       "</div>"
      ],
      "text/plain": [
       "                                                                                                     Hypothesis  \\\n",
       "8  Запустить акцию, дающую скидку на товар в день рождения                                                        \n",
       "0  Добавить два новых канала привлечения трафика, что позволит привлекать на 30% больше пользователей             \n",
       "7  Добавить форму подписки на все основные страницы, чтобы собрать базу клиентов для email-рассылок               \n",
       "6  Показать на главной странице баннеры с актуальными акциями и распродажами, чтобы увеличить конверсию           \n",
       "2  Добавить блоки рекомендаций товаров на сайт интернет магазина, чтобы повысить конверсию и средний чек заказа   \n",
       "1  Запустить собственную службу доставки, что сократит срок доставки заказов                                      \n",
       "5  Добавить страницу отзывов клиентов о магазине, что позволит увеличить количество заказов                       \n",
       "3  Изменить структура категорий, что увеличит конверсию, т.к. пользователи быстрее найдут нужный товар            \n",
       "4  Изменить цвет фона главной страницы, чтобы увеличить вовлеченность пользователей                               \n",
       "\n",
       "   Reach  Impact  Confidence  Efforts   ICE  \n",
       "8  1      9       9           5        16.2  \n",
       "0  3      10      8           6        13.3  \n",
       "7  10     7       8           5        11.2  \n",
       "6  5      3       8           3        8.0   \n",
       "2  8      3       7           3        7.0   \n",
       "1  2      5       4           10       2.0   \n",
       "5  3      2       2           3        1.3   \n",
       "3  8      3       3           8        1.1   \n",
       "4  3      1       1           1        1.0   "
      ]
     },
     "execution_count": 10,
     "metadata": {},
     "output_type": "execute_result"
    }
   ],
   "source": [
    "pd.set_option('display.max_colwidth', 0)\n",
    "hypothesis['ICE'] = np.round((hypothesis['Impact'] * hypothesis['Confidence']) / hypothesis['Efforts'], 1)\n",
    "hypothesis.sort_values(by = 'ICE', ascending = False)"
   ]
  },
  {
   "cell_type": "code",
   "execution_count": 11,
   "metadata": {},
   "outputs": [
    {
     "data": {
      "text/plain": [
       "'Гипотезы, получившие наибольшие баллы:'"
      ]
     },
     "metadata": {},
     "output_type": "display_data"
    },
    {
     "data": {
      "text/plain": [
       "8    Запустить акцию, дающую скидку на товар в день рождения                                             \n",
       "0    Добавить два новых канала привлечения трафика, что позволит привлекать на 30% больше пользователей  \n",
       "7    Добавить форму подписки на все основные страницы, чтобы собрать базу клиентов для email-рассылок    \n",
       "6    Показать на главной странице баннеры с актуальными акциями и распродажами, чтобы увеличить конверсию\n",
       "Name: Hypothesis, dtype: object"
      ]
     },
     "metadata": {},
     "output_type": "display_data"
    }
   ],
   "source": [
    "display('Гипотезы, получившие наибольшие баллы:', hypothesis.sort_values(by = 'ICE', ascending = False)['Hypothesis'].head(4))"
   ]
  },
  {
   "cell_type": "markdown",
   "metadata": {},
   "source": [
    "Применим фреймворк RICE для приоритизации гипотез. Отсортируем их по убыванию приоритета."
   ]
  },
  {
   "cell_type": "code",
   "execution_count": 12,
   "metadata": {},
   "outputs": [
    {
     "data": {
      "text/html": [
       "<div>\n",
       "<style scoped>\n",
       "    .dataframe tbody tr th:only-of-type {\n",
       "        vertical-align: middle;\n",
       "    }\n",
       "\n",
       "    .dataframe tbody tr th {\n",
       "        vertical-align: top;\n",
       "    }\n",
       "\n",
       "    .dataframe thead th {\n",
       "        text-align: right;\n",
       "    }\n",
       "</style>\n",
       "<table border=\"1\" class=\"dataframe\">\n",
       "  <thead>\n",
       "    <tr style=\"text-align: right;\">\n",
       "      <th></th>\n",
       "      <th>Hypothesis</th>\n",
       "      <th>Reach</th>\n",
       "      <th>Impact</th>\n",
       "      <th>Confidence</th>\n",
       "      <th>Efforts</th>\n",
       "      <th>ICE</th>\n",
       "      <th>RICE</th>\n",
       "    </tr>\n",
       "  </thead>\n",
       "  <tbody>\n",
       "    <tr>\n",
       "      <th>7</th>\n",
       "      <td>Добавить форму подписки на все основные страницы, чтобы собрать базу клиентов для email-рассылок</td>\n",
       "      <td>10</td>\n",
       "      <td>7</td>\n",
       "      <td>8</td>\n",
       "      <td>5</td>\n",
       "      <td>11.2</td>\n",
       "      <td>112.0</td>\n",
       "    </tr>\n",
       "    <tr>\n",
       "      <th>2</th>\n",
       "      <td>Добавить блоки рекомендаций товаров на сайт интернет магазина, чтобы повысить конверсию и средний чек заказа</td>\n",
       "      <td>8</td>\n",
       "      <td>3</td>\n",
       "      <td>7</td>\n",
       "      <td>3</td>\n",
       "      <td>7.0</td>\n",
       "      <td>56.0</td>\n",
       "    </tr>\n",
       "    <tr>\n",
       "      <th>0</th>\n",
       "      <td>Добавить два новых канала привлечения трафика, что позволит привлекать на 30% больше пользователей</td>\n",
       "      <td>3</td>\n",
       "      <td>10</td>\n",
       "      <td>8</td>\n",
       "      <td>6</td>\n",
       "      <td>13.3</td>\n",
       "      <td>40.0</td>\n",
       "    </tr>\n",
       "    <tr>\n",
       "      <th>6</th>\n",
       "      <td>Показать на главной странице баннеры с актуальными акциями и распродажами, чтобы увеличить конверсию</td>\n",
       "      <td>5</td>\n",
       "      <td>3</td>\n",
       "      <td>8</td>\n",
       "      <td>3</td>\n",
       "      <td>8.0</td>\n",
       "      <td>40.0</td>\n",
       "    </tr>\n",
       "    <tr>\n",
       "      <th>8</th>\n",
       "      <td>Запустить акцию, дающую скидку на товар в день рождения</td>\n",
       "      <td>1</td>\n",
       "      <td>9</td>\n",
       "      <td>9</td>\n",
       "      <td>5</td>\n",
       "      <td>16.2</td>\n",
       "      <td>16.2</td>\n",
       "    </tr>\n",
       "    <tr>\n",
       "      <th>3</th>\n",
       "      <td>Изменить структура категорий, что увеличит конверсию, т.к. пользователи быстрее найдут нужный товар</td>\n",
       "      <td>8</td>\n",
       "      <td>3</td>\n",
       "      <td>3</td>\n",
       "      <td>8</td>\n",
       "      <td>1.1</td>\n",
       "      <td>9.0</td>\n",
       "    </tr>\n",
       "    <tr>\n",
       "      <th>1</th>\n",
       "      <td>Запустить собственную службу доставки, что сократит срок доставки заказов</td>\n",
       "      <td>2</td>\n",
       "      <td>5</td>\n",
       "      <td>4</td>\n",
       "      <td>10</td>\n",
       "      <td>2.0</td>\n",
       "      <td>4.0</td>\n",
       "    </tr>\n",
       "    <tr>\n",
       "      <th>5</th>\n",
       "      <td>Добавить страницу отзывов клиентов о магазине, что позволит увеличить количество заказов</td>\n",
       "      <td>3</td>\n",
       "      <td>2</td>\n",
       "      <td>2</td>\n",
       "      <td>3</td>\n",
       "      <td>1.3</td>\n",
       "      <td>4.0</td>\n",
       "    </tr>\n",
       "    <tr>\n",
       "      <th>4</th>\n",
       "      <td>Изменить цвет фона главной страницы, чтобы увеличить вовлеченность пользователей</td>\n",
       "      <td>3</td>\n",
       "      <td>1</td>\n",
       "      <td>1</td>\n",
       "      <td>1</td>\n",
       "      <td>1.0</td>\n",
       "      <td>3.0</td>\n",
       "    </tr>\n",
       "  </tbody>\n",
       "</table>\n",
       "</div>"
      ],
      "text/plain": [
       "                                                                                                     Hypothesis  \\\n",
       "7  Добавить форму подписки на все основные страницы, чтобы собрать базу клиентов для email-рассылок               \n",
       "2  Добавить блоки рекомендаций товаров на сайт интернет магазина, чтобы повысить конверсию и средний чек заказа   \n",
       "0  Добавить два новых канала привлечения трафика, что позволит привлекать на 30% больше пользователей             \n",
       "6  Показать на главной странице баннеры с актуальными акциями и распродажами, чтобы увеличить конверсию           \n",
       "8  Запустить акцию, дающую скидку на товар в день рождения                                                        \n",
       "3  Изменить структура категорий, что увеличит конверсию, т.к. пользователи быстрее найдут нужный товар            \n",
       "1  Запустить собственную службу доставки, что сократит срок доставки заказов                                      \n",
       "5  Добавить страницу отзывов клиентов о магазине, что позволит увеличить количество заказов                       \n",
       "4  Изменить цвет фона главной страницы, чтобы увеличить вовлеченность пользователей                               \n",
       "\n",
       "   Reach  Impact  Confidence  Efforts   ICE   RICE  \n",
       "7  10     7       8           5        11.2  112.0  \n",
       "2  8      3       7           3        7.0   56.0   \n",
       "0  3      10      8           6        13.3  40.0   \n",
       "6  5      3       8           3        8.0   40.0   \n",
       "8  1      9       9           5        16.2  16.2   \n",
       "3  8      3       3           8        1.1   9.0    \n",
       "1  2      5       4           10       2.0   4.0    \n",
       "5  3      2       2           3        1.3   4.0    \n",
       "4  3      1       1           1        1.0   3.0    "
      ]
     },
     "execution_count": 12,
     "metadata": {},
     "output_type": "execute_result"
    }
   ],
   "source": [
    "hypothesis['RICE'] = (hypothesis['Reach'] * hypothesis['Impact'] * hypothesis['Confidence']) / hypothesis['Efforts']\n",
    "hypothesis.sort_values(by = 'RICE', ascending = False)"
   ]
  },
  {
   "cell_type": "code",
   "execution_count": 13,
   "metadata": {},
   "outputs": [
    {
     "data": {
      "text/plain": [
       "'Гипотезы, получившие наибольшие баллы по методу RICE:'"
      ]
     },
     "metadata": {},
     "output_type": "display_data"
    },
    {
     "data": {
      "text/plain": [
       "7    Добавить форму подписки на все основные страницы, чтобы собрать базу клиентов для email-рассылок            \n",
       "2    Добавить блоки рекомендаций товаров на сайт интернет магазина, чтобы повысить конверсию и средний чек заказа\n",
       "0    Добавить два новых канала привлечения трафика, что позволит привлекать на 30% больше пользователей          \n",
       "6    Показать на главной странице баннеры с актуальными акциями и распродажами, чтобы увеличить конверсию        \n",
       "Name: Hypothesis, dtype: object"
      ]
     },
     "metadata": {},
     "output_type": "display_data"
    }
   ],
   "source": [
    "display('Гипотезы, получившие наибольшие баллы по методу RICE:', hypothesis.sort_values(by = 'RICE', ascending = False)['Hypothesis'].head(4))"
   ]
  },
  {
   "cell_type": "markdown",
   "metadata": {},
   "source": [
    "Во втором методе в расчёте приоритета учитывается оценка охвата аудитории, на которую повлияют возможные изменения. Соответственно изменяется общая оценка гипотез."
   ]
  },
  {
   "cell_type": "markdown",
   "metadata": {},
   "source": [
    "## Анализ A/B-теста"
   ]
  },
  {
   "cell_type": "code",
   "execution_count": 14,
   "metadata": {},
   "outputs": [
    {
     "name": "stdout",
     "output_type": "stream",
     "text": [
      "         date group  orders  buyers  revenue  visitors\n",
      "0  2019-08-01  A     24      20      148579   719     \n",
      "1  2019-08-01  B     21      20      101217   713     \n",
      "2  2019-08-02  A     44      38      242401   1338    \n",
      "3  2019-08-02  B     45      43      266748   1294    \n",
      "4  2019-08-03  A     68      62      354874   1845    \n",
      "5  2019-08-03  B     61      59      380996   1803    \n",
      "6  2019-08-04  A     84      77      425699   2562    \n",
      "7  2019-08-04  B     78      75      489567   2573    \n",
      "8  2019-08-05  A     109     100     549917   3318    \n",
      "9  2019-08-05  B     101     98      581995   3280    \n",
      "10 2019-08-06  A     127     114     598401   3985    \n",
      "11 2019-08-06  B     129     123     824337   3935    \n",
      "12 2019-08-07  A     145     131     740818   4629    \n",
      "13 2019-08-07  B     153     146     1049671  4644    \n",
      "14 2019-08-08  A     161     146     837097   5239    \n",
      "15 2019-08-08  B     180     171     1270589  5298    \n",
      "16 2019-08-09  A     177     159     1025603  5856    \n",
      "17 2019-08-09  B     205     193     1431401  5908    \n",
      "18 2019-08-10  A     193     175     1236098  6262    \n",
      "19 2019-08-10  B     228     215     1539203  6277    \n"
     ]
    }
   ],
   "source": [
    "# создаем массив уникальных пар значений дат и групп теста\n",
    "datesGroups = orders[['date','group']].drop_duplicates() \n",
    "# получаем агрегированные кумулятивные по дням данные о заказах \n",
    "ordersAggregated = datesGroups.apply(lambda x: orders[np.logical_and(orders['date'] <= x['date'], orders['group'] == x['group'])].agg({'date' : 'max', 'group' : 'max', 'transactionId' : 'nunique', 'visitorId' : 'nunique', 'revenue' : 'sum'}), axis=1).sort_values(by=['date','group'])\n",
    "\n",
    "# получаем агрегированные кумулятивные по дням данные о посетителях интернет-магазина \n",
    "visitorsAggregated = datesGroups.apply(lambda x: visitors[np.logical_and(visitors['date'] <= x['date'], visitors['group'] == x['group'])].agg({'date' : 'max', 'group' : 'max', 'visitors' : 'sum'}), axis=1).sort_values(by=['date','group'])\n",
    "\n",
    "# объединяем кумулятивные данные в одной таблице и присваиваем ее столбцам понятные названия\n",
    "cumulativeData = ordersAggregated.merge(visitorsAggregated, left_on=['date', 'group'], right_on=['date', 'group'])\n",
    "cumulativeData.columns = ['date', 'group', 'orders', 'buyers', 'revenue', 'visitors']\n",
    "\n",
    "print(cumulativeData.head(20)) "
   ]
  },
  {
   "cell_type": "markdown",
   "metadata": {},
   "source": [
    "### Построение графиков"
   ]
  },
  {
   "cell_type": "markdown",
   "metadata": {},
   "source": [
    "Построим график кумулятивной выручки по группам."
   ]
  },
  {
   "cell_type": "code",
   "execution_count": 15,
   "metadata": {},
   "outputs": [
    {
     "data": {
      "image/png": "[encoded data removed]",
      "text/plain": [
       "<Figure size 720x360 with 1 Axes>"
      ]
     },
     "metadata": {
      "needs_background": "light"
     },
     "output_type": "display_data"
    }
   ],
   "source": [
    "# датафрейм с кумулятивным количеством заказов и кумулятивной выручкой по дням в группе А\n",
    "cumulativeRevenueA = cumulativeData[cumulativeData['group']=='A'][['date','revenue', 'orders']]\n",
    "\n",
    "# датафрейм с кумулятивным количеством заказов и кумулятивной выручкой по дням в группе B\n",
    "cumulativeRevenueB = cumulativeData[cumulativeData['group']=='B'][['date','revenue', 'orders']]\n",
    "\n",
    "fig, ax = plt.subplots(figsize=(10, 5))\n",
    "\n",
    "# Строим график выручки группы А\n",
    "plt.plot(cumulativeRevenueA['date'], cumulativeRevenueA['revenue'], label='A')\n",
    "\n",
    "# Строим график выручки группы B\n",
    "plt.plot(cumulativeRevenueB['date'], cumulativeRevenueB['revenue'], label='B')\n",
    "\n",
    "plt.legend()\n",
    "plt.title('Кумулятивная выручка по группам')\n",
    "plt.xlabel('Дата')\n",
    "plt.ylabel('Выручка')\n",
    "plt.xticks(rotation=45)\n",
    "plt.show()"
   ]
  },
  {
   "cell_type": "markdown",
   "metadata": {},
   "source": [
    "Выручка группы А равномерно увеличивается в течение всего теста.  \n",
    "Лидером на протяжении теста остаётся группа В. Но у графика есть резкий рост.\n",
    "Это может означать, что в выборке появился очень доогой заказ, либо резкий рост количества заказов.  "
   ]
  },
  {
   "cell_type": "markdown",
   "metadata": {},
   "source": [
    "Построим график кумулятивного среднего чека по группам."
   ]
  },
  {
   "cell_type": "code",
   "execution_count": 16,
   "metadata": {},
   "outputs": [
    {
     "data": {
      "image/png": "[encoded data removed]",
      "text/plain": [
       "<Figure size 720x360 with 1 Axes>"
      ]
     },
     "metadata": {
      "needs_background": "light"
     },
     "output_type": "display_data"
    }
   ],
   "source": [
    "fig, ax = plt.subplots(figsize=(10, 5))\n",
    "plt.plot(cumulativeRevenueA['date'], cumulativeRevenueA['revenue']/cumulativeRevenueA['orders'], label='A')\n",
    "plt.plot(cumulativeRevenueB['date'], cumulativeRevenueB['revenue']/cumulativeRevenueB['orders'], label='B')\n",
    "plt.legend() \n",
    "plt.title('Кумулятивный средний чек по группам')\n",
    "plt.xlabel('Дата')\n",
    "plt.ylabel('Средний чек')\n",
    "plt.xticks(rotation=45)\n",
    "plt.show()"
   ]
  },
  {
   "cell_type": "markdown",
   "metadata": {},
   "source": [
    "График по среднему чеку становится более равномерным к середине теста:  \n",
    "Небольшой рост у группы А и плавное снижение (после резкого роста) у группы В.  \n",
    "Можно предположить, что в группу В попал очень крупный заказ. "
   ]
  },
  {
   "cell_type": "markdown",
   "metadata": {},
   "source": [
    "Построим график относительного изменения кумулятивного среднего чека группы B к группе A. "
   ]
  },
  {
   "cell_type": "code",
   "execution_count": 17,
   "metadata": {},
   "outputs": [
    {
     "data": {
      "image/png": "[encoded data removed]",
      "text/plain": [
       "<Figure size 720x360 with 1 Axes>"
      ]
     },
     "metadata": {
      "needs_background": "light"
     },
     "output_type": "display_data"
    }
   ],
   "source": [
    "# собираем данные в одном датафрейме\n",
    "mergedCumulativeRevenue = cumulativeRevenueA.merge(cumulativeRevenueB, left_on='date', right_on='date', how='left', suffixes=['A', 'B'])\n",
    "\n",
    "fig, ax = plt.subplots(figsize=(10, 5))\n",
    "# cтроим отношение средних чеков\n",
    "plt.plot(mergedCumulativeRevenue['date'], (mergedCumulativeRevenue['revenueB']/mergedCumulativeRevenue['ordersB'])/(mergedCumulativeRevenue['revenueA']/mergedCumulativeRevenue['ordersA'])-1)\n",
    "\n",
    "# добавляем ось X\n",
    "plt.axhline(y=0, color='black', linestyle='--') \n",
    "\n",
    "plt.title('График относительного изменения кумулятивного среднего чека группы B к группе A')\n",
    "plt.xlabel('Дата')\n",
    "plt.ylabel('Доля')\n",
    "plt.xticks(rotation=45)\n",
    "plt.show()"
   ]
  },
  {
   "cell_type": "markdown",
   "metadata": {},
   "source": [
    "Результаты теста значительно и резко менялись в несколько дат. Вероятно, в эти дни были сделаны аномальные заказы. "
   ]
  },
  {
   "cell_type": "markdown",
   "metadata": {},
   "source": [
    "Построим график кумулятивного среднего количества заказов на посетителя по группам. "
   ]
  },
  {
   "cell_type": "code",
   "execution_count": 18,
   "metadata": {},
   "outputs": [
    {
     "data": {
      "image/png": "[encoded data removed]",
      "text/plain": [
       "<Figure size 720x360 with 1 Axes>"
      ]
     },
     "metadata": {
      "needs_background": "light"
     },
     "output_type": "display_data"
    }
   ],
   "source": [
    "# считаем кумулятивную конверсию\n",
    "cumulativeData['conversion'] = cumulativeData['orders']/cumulativeData['visitors']\n",
    "\n",
    "# отделяем данные по группе A\n",
    "cumulativeDataA = cumulativeData[cumulativeData['group']=='A']\n",
    "\n",
    "# отделяем данные по группе B\n",
    "cumulativeDataB = cumulativeData[cumulativeData['group']=='B']\n",
    "\n",
    "# строим графики\n",
    "fig, ax = plt.subplots(figsize=(10, 5))\n",
    "plt.plot(cumulativeDataA['date'], cumulativeDataA['conversion'], label='A')\n",
    "plt.plot(cumulativeDataB['date'], cumulativeDataB['conversion'], label='B')\n",
    "plt.legend()\n",
    "plt.title('График кумулятивного среднего количества заказов на посетителя по группам')\n",
    "plt.xlabel('Дата')\n",
    "plt.ylabel('Заказ на посетителя')\n",
    "plt.xticks(rotation=45)\n",
    "plt.show()"
   ]
  },
  {
   "cell_type": "markdown",
   "metadata": {},
   "source": [
    "После небольших всплесков в начале теста, количество заказов на пользователя и по группе А, и по группе В выравнялась.  "
   ]
  },
  {
   "cell_type": "markdown",
   "metadata": {},
   "source": [
    "Построим график относительного изменения кумулятивного среднего количества заказов на посетителя группы B к группе A."
   ]
  },
  {
   "cell_type": "code",
   "execution_count": 19,
   "metadata": {},
   "outputs": [
    {
     "data": {
      "image/png": "[encoded data removed]",
      "text/plain": [
       "<Figure size 720x360 with 1 Axes>"
      ]
     },
     "metadata": {
      "needs_background": "light"
     },
     "output_type": "display_data"
    }
   ],
   "source": [
    "mergedCumulativeConversions = cumulativeDataA[['date','conversion']].merge(cumulativeDataB[['date','conversion']], left_on='date', right_on='date', how='left', suffixes=['A', 'B'])\n",
    "\n",
    "fig, ax = plt.subplots(figsize=(10, 5))\n",
    "plt.plot(mergedCumulativeConversions['date'], mergedCumulativeConversions['conversionB']/mergedCumulativeConversions['conversionA']-1, label=\"Относительный прирост конверсии группы B относительно группы A\")\n",
    "\n",
    "plt.title('Относительное изменение кумулятивного среднего количества заказов на посетителя по группам')\n",
    "plt.xlabel('Дата')\n",
    "plt.ylabel('Доля В к А')\n",
    "plt.axhline(y=0, color='black', linestyle='--')\n",
    "plt.axhline(y=0.1, color='grey', linestyle='--')\n",
    "plt.xticks(rotation=45)\n",
    "plt.show()"
   ]
  },
  {
   "cell_type": "markdown",
   "metadata": {},
   "source": [
    "Количество заказов на посетитля в группе В практически на протяжнии всего текущего теста лучше группы А на 10%. "
   ]
  },
  {
   "cell_type": "markdown",
   "metadata": {},
   "source": [
    "Построим точечный график количества заказов по пользователям. "
   ]
  },
  {
   "cell_type": "code",
   "execution_count": 20,
   "metadata": {},
   "outputs": [
    {
     "data": {
      "image/png": "[encoded data removed]",
      "text/plain": [
       "<Figure size 432x288 with 1 Axes>"
      ]
     },
     "metadata": {
      "needs_background": "light"
     },
     "output_type": "display_data"
    }
   ],
   "source": [
    "ordersByUsers = (\n",
    "    orders.groupby('visitorId', as_index=False)\n",
    "    .agg({'transactionId': 'nunique'})\n",
    ")\n",
    "\n",
    "ordersByUsers.columns = ['visitorId', 'orders']\n",
    "\n",
    "x_values = pd.Series(range(0,len(ordersByUsers)))\n",
    "plt.scatter(x_values, ordersByUsers['orders']) \n",
    "plt.title('Количества заказов по пользователям')\n",
    "plt.xlabel('Пользователи')\n",
    "plt.ylabel('Заказы')\n",
    "plt.show()"
   ]
  },
  {
   "cell_type": "markdown",
   "metadata": {},
   "source": [
    "Большинство покупателей делает только один заказ. Много пользователей с 2-4 заказами. Есть клиенты, сделавшие более 10 заказов.   \n",
    "Посчитаем 95-й и 99-й перцентили количества заказов на пользователя."
   ]
  },
  {
   "cell_type": "code",
   "execution_count": 21,
   "metadata": {},
   "outputs": [
    {
     "data": {
      "text/plain": [
       "array([1., 2., 4.])"
      ]
     },
     "execution_count": 21,
     "metadata": {},
     "output_type": "execute_result"
    }
   ],
   "source": [
    "np.percentile(ordersByUsers['orders'], [90, 95, 99])"
   ]
  },
  {
   "cell_type": "markdown",
   "metadata": {},
   "source": [
    "Только 5% пользователей делает больше двух заказов. И только у 1% их больше 4.  \n",
    "Выберем 3 заказа на пользователся в качестве верхней границы. Всё, что выше можно признать аномальными значениями. "
   ]
  },
  {
   "cell_type": "markdown",
   "metadata": {},
   "source": [
    "Построим точечный график стоимостей заказов."
   ]
  },
  {
   "cell_type": "code",
   "execution_count": 22,
   "metadata": {},
   "outputs": [
    {
     "data": {
      "image/png": "[encoded data removed]",
      "text/plain": [
       "<Figure size 432x288 with 1 Axes>"
      ]
     },
     "metadata": {
      "needs_background": "light"
     },
     "output_type": "display_data"
    }
   ],
   "source": [
    "x_values = pd.Series(range(0,len(orders['revenue'])))\n",
    "plt.scatter(x_values, orders['revenue'])\n",
    "plt.title('Стоимость заказов по пользователям')\n",
    "plt.xlabel('Пользователи')\n",
    "plt.ylabel('Стоимость заказов')\n",
    "plt.show()"
   ]
  },
  {
   "cell_type": "markdown",
   "metadata": {},
   "source": [
    "Очень явно выделяется 2 точки - около 20 тыс.руб и свыше 1.2 млн. Большая часть заказов не превышает и 10 тыс. рублей.  "
   ]
  },
  {
   "cell_type": "markdown",
   "metadata": {},
   "source": [
    "Ограничим масштаб графика по стоимости заказа верхней границей 50 тыс. руб"
   ]
  },
  {
   "cell_type": "code",
   "execution_count": 23,
   "metadata": {},
   "outputs": [
    {
     "data": {
      "image/png": "[encoded data removed]",
      "text/plain": [
       "<Figure size 432x288 with 1 Axes>"
      ]
     },
     "metadata": {
      "needs_background": "light"
     },
     "output_type": "display_data"
    }
   ],
   "source": [
    "x_values = pd.Series(range(0,len(orders['revenue'])))\n",
    "plt.scatter(x_values, orders['revenue'])\n",
    "plt.axis([0, 1200, 0, 50000])\n",
    "plt.title('Стоимость заказов по пользователям')\n",
    "plt.xlabel('Пользователи')\n",
    "plt.ylabel('Стоимость заказов')\n",
    "plt.show()"
   ]
  },
  {
   "cell_type": "markdown",
   "metadata": {},
   "source": [
    "По графику распределения визуально можно оценить, что основная часть заказов по стоимости ниже 10 тыс руб. Тем не менее есть довольна больша часть, которая лежит в пределах 20 тыс.руб."
   ]
  },
  {
   "cell_type": "markdown",
   "metadata": {},
   "source": [
    "Посчитайте 95-й и 99-й перцентили стоимости заказов. "
   ]
  },
  {
   "cell_type": "code",
   "execution_count": 24,
   "metadata": {},
   "outputs": [
    {
     "data": {
      "text/plain": [
       "array([18168. , 28000. , 58233.2])"
      ]
     },
     "execution_count": 24,
     "metadata": {},
     "output_type": "execute_result"
    }
   ],
   "source": [
    "np.percentile(orders['revenue'], [90, 95, 99])"
   ]
  },
  {
   "cell_type": "markdown",
   "metadata": {},
   "source": [
    "Как и предполагалось, только 5% заказов превышают стоимость 28000. Эту сумму и возьмём в качестве верхней границы, для того чтобы отсеять аномальные значения."
   ]
  },
  {
   "cell_type": "markdown",
   "metadata": {},
   "source": [
    "### Расчёт статистической значимости"
   ]
  },
  {
   "cell_type": "markdown",
   "metadata": {},
   "source": [
    "Посчитаем статистическую значимость различий в среднем количестве заказов на посетителя между группами по «сырым» данным.  \n",
    "Сформулируем гипотезы.  \n",
    "Нулевая: различий в среднем количестве заказов между группами нет.  \n",
    "Альтернативная: различия в среднем между группами есть."
   ]
  },
  {
   "cell_type": "markdown",
   "metadata": {},
   "source": [
    "Уровень значимости зададим 5%"
   ]
  },
  {
   "cell_type": "code",
   "execution_count": 25,
   "metadata": {},
   "outputs": [
    {
     "name": "stdout",
     "output_type": "stream",
     "text": [
      "p-value 0.017\n",
      "0.138\n"
     ]
    }
   ],
   "source": [
    "ordersByUsersA = (\n",
    "    orders[orders['group'] == 'A']\n",
    "    .groupby('visitorId', as_index=False)\n",
    "    .agg({'transactionId': pd.Series.nunique})\n",
    ")\n",
    "ordersByUsersA.columns = ['userId', 'orders']\n",
    "\n",
    "ordersByUsersB = (\n",
    "    orders[orders['group'] == 'B']\n",
    "    .groupby('visitorId', as_index=False)\n",
    "    .agg({'transactionId': pd.Series.nunique})\n",
    ")\n",
    "ordersByUsersB.columns = ['userId', 'orders']\n",
    "\n",
    "visitorsADaily = visitors[visitors['group'] == 'A'][['date', 'visitors']]\n",
    "visitorsADaily.columns = ['date', 'visitorsPerDateA']\n",
    "\n",
    "visitorsBDaily = visitors[visitors['group'] == 'B'][['date', 'visitors']]\n",
    "visitorsBDaily.columns = ['date', 'visitorsPerDateB']\n",
    "\n",
    "sampleA = pd.concat(\n",
    "    [\n",
    "        ordersByUsersA['orders'],\n",
    "        pd.Series(\n",
    "            0,\n",
    "            index=np.arange(\n",
    "                visitorsADaily['visitorsPerDateA'].sum() - len(ordersByUsersA['orders'])\n",
    "            ),\n",
    "            name='orders',\n",
    "        ),\n",
    "    ],\n",
    "    axis=0,\n",
    ")\n",
    "\n",
    "sampleB = pd.concat(\n",
    "    [\n",
    "        ordersByUsersB['orders'],\n",
    "        pd.Series(\n",
    "            0,\n",
    "            index=np.arange(\n",
    "                visitorsBDaily['visitorsPerDateB'].sum() - len(ordersByUsersB['orders'])\n",
    "            ),\n",
    "            name='orders',\n",
    "        ),\n",
    "    ],\n",
    "    axis=0,\n",
    ")\n",
    "\n",
    "print('p-value', \"{0:.3f}\".format(st.mannwhitneyu(sampleA, sampleB)[1]))\n",
    "\n",
    "print(\"{0:.3f}\".format(sampleB.mean() / sampleA.mean() - 1))"
   ]
  },
  {
   "cell_type": "markdown",
   "metadata": {},
   "source": [
    "P-value меньше 0.05. Значит нулевую гипотезу о том, что статистически значимых различий в среднем числе заказов между группами нет, подтвердить не можем. По «сырым» данным в среднем числе заказов групп A и B есть различия. Относительный прирост среднего группы В составляет 13.8%"
   ]
  },
  {
   "cell_type": "markdown",
   "metadata": {},
   "source": [
    "Посчитаем статистическую значимость различий в среднем чеке заказа между группами по «сырым» данным.  \n",
    "Нулевая гипотеза: различий в среднем чеке между группами нет.  \n",
    "Альтернативная гипотеза: различия в среднем чеке между группами есть.  \n",
    "Уровень значимости зададим 5%"
   ]
  },
  {
   "cell_type": "code",
   "execution_count": 26,
   "metadata": {},
   "outputs": [
    {
     "name": "stdout",
     "output_type": "stream",
     "text": [
      "p-value 0.729\n",
      "0.259\n"
     ]
    }
   ],
   "source": [
    "print('p-value', '{0:.3f}'.format(st.mannwhitneyu(orders[orders['group']=='A']['revenue'], orders[orders['group']=='B']['revenue'])[1]))\n",
    "print('{0:.3f}'.format(orders[orders['group']=='B']['revenue'].mean()/orders[orders['group']=='A']['revenue'].mean()-1)) "
   ]
  },
  {
   "cell_type": "markdown",
   "metadata": {},
   "source": [
    "P-value значительно больше 0.05. Значит, отвергнуть нулевую гипотезу и считать, что в среднем чеке есть различия, не можем. Относительный прирост среднего чека группы В - 25,9% "
   ]
  },
  {
   "cell_type": "markdown",
   "metadata": {},
   "source": [
    "Посчитаем статистическую значимость различий в среднем количестве заказов на посетителя между группами по «очищенным» данным.  \n",
    "Ранее мы выбрали 3 заказа на пользователя в качестве верхней границы. А так же средний чек свыше 28000 руб.  \n",
    "Нулевая: по отфильтрованным данным различий в среднем количестве заказов между группами нет.  \n",
    "Альтернативная: по отфильтрованным данным различия в среднем между группами есть.  \n",
    "Уровень значимости 5%"
   ]
  },
  {
   "cell_type": "code",
   "execution_count": 27,
   "metadata": {},
   "outputs": [
    {
     "name": "stdout",
     "output_type": "stream",
     "text": [
      "p-value 0.018\n",
      "0.148\n"
     ]
    }
   ],
   "source": [
    "usersWithManyOrders = pd.concat(\n",
    "    [\n",
    "        ordersByUsersA[ordersByUsersA['orders'] > 3]['userId'],\n",
    "        ordersByUsersB[ordersByUsersB['orders'] > 3]['userId'],\n",
    "    ],\n",
    "    axis=0,\n",
    ")\n",
    "usersWithExpensiveOrders = orders[orders['revenue'] > 28000]['visitorId']\n",
    "abnormalUsers = (\n",
    "    pd.concat([usersWithManyOrders, usersWithExpensiveOrders], axis=0)\n",
    "    .drop_duplicates()\n",
    "    .sort_values()\n",
    ")\n",
    "\n",
    "sampleAFiltered = pd.concat(\n",
    "    [\n",
    "        ordersByUsersA[\n",
    "            np.logical_not(ordersByUsersA['userId'].isin(abnormalUsers))\n",
    "        ]['orders'],\n",
    "        pd.Series(\n",
    "            0,\n",
    "            index=np.arange(\n",
    "                visitorsADaily['visitorsPerDateA'].sum() - len(ordersByUsersA['orders'])\n",
    "            ),\n",
    "            name='orders',\n",
    "        ),\n",
    "    ],\n",
    "    axis=0,\n",
    ")\n",
    "\n",
    "sampleBFiltered = pd.concat(\n",
    "    [\n",
    "        ordersByUsersB[\n",
    "            np.logical_not(ordersByUsersB['userId'].isin(abnormalUsers))\n",
    "        ]['orders'],\n",
    "        pd.Series(\n",
    "            0,\n",
    "            index=np.arange(\n",
    "                visitorsBDaily['visitorsPerDateB'].sum() - len(ordersByUsersB['orders'])\n",
    "            ),\n",
    "            name='orders',\n",
    "        ),\n",
    "    ],\n",
    "    axis=0,\n",
    ") \n",
    "\n",
    "#Применим статистический критерий Манна-Уитни к полученным выборкам\n",
    "print('p-value', '{0:.3f}'.format(st.mannwhitneyu(sampleAFiltered, sampleBFiltered)[1]))\n",
    "print('{0:.3f}'.format(sampleBFiltered.mean()/sampleAFiltered.mean()-1)) "
   ]
  },
  {
   "cell_type": "markdown",
   "metadata": {},
   "source": [
    "Результаты по среднему количеству заказов относительно \"сырых\" данных практически не изменились. \n",
    "На 1% увеличился относительный прирост группы В к А"
   ]
  },
  {
   "cell_type": "markdown",
   "metadata": {},
   "source": [
    "Посчитайем статистическую значимость различий в среднем чеке заказа между группами по «очищенным» данным.  \n",
    "Нулевая гипотеза: по отфильтрованным данным различий в среднем чеке между группами нет. \n",
    "Альтернативная гипотеза: по отфильтрованным данным различия в среднем чеке между группами есть. \n",
    "Уровень значимости зададим 5%"
   ]
  },
  {
   "cell_type": "code",
   "execution_count": 28,
   "metadata": {},
   "outputs": [
    {
     "name": "stdout",
     "output_type": "stream",
     "text": [
      "0.977\n",
      "-0.017\n"
     ]
    }
   ],
   "source": [
    "print(\n",
    "    '{0:.3f}'.format(\n",
    "        st.mannwhitneyu(\n",
    "            orders[\n",
    "                np.logical_and(\n",
    "                    orders['group'] == 'A',\n",
    "                    np.logical_not(orders['visitorId'].isin(abnormalUsers)),\n",
    "                )\n",
    "            ]['revenue'],\n",
    "            orders[\n",
    "                np.logical_and(\n",
    "                    orders['group'] == 'B',\n",
    "                    np.logical_not(orders['visitorId'].isin(abnormalUsers)),\n",
    "                )\n",
    "            ]['revenue'],\n",
    "        )[1]\n",
    "    )\n",
    ")\n",
    "\n",
    "print(\n",
    "    \"{0:.3f}\".format(\n",
    "        orders[\n",
    "            np.logical_and(\n",
    "                orders['group'] == 'B',\n",
    "                np.logical_not(orders['visitorId'].isin(abnormalUsers)),\n",
    "            )\n",
    "        ]['revenue'].mean()\n",
    "        / orders[\n",
    "            np.logical_and(\n",
    "                orders['group'] == 'A',\n",
    "                np.logical_not(orders['visitorId'].isin(abnormalUsers)),\n",
    "            )\n",
    "        ]['revenue'].mean()\n",
    "        - 1\n",
    "    )\n",
    ") "
   ]
  },
  {
   "cell_type": "markdown",
   "metadata": {},
   "source": [
    "P-value увеличился. Исключив аномальные значения, мы получили изменения разницы в среднем чеке между группами А и В"
   ]
  },
  {
   "cell_type": "markdown",
   "metadata": {},
   "source": [
    "## Вывод"
   ]
  },
  {
   "cell_type": "markdown",
   "metadata": {},
   "source": [
    "Анализ \"сырых данных\" позволяет предположить: \n",
    "В среднем количестве заказов между группами есть статистически значимые различия. Относительный прирост среднего группы В составляет 13.8%  \n",
    "Статистически значимых различий в среднем чеке нет.  \n",
    "Согласно анализу данных, очищенных от аномалий и выбросов:\n",
    "По количеству заказов между группами подтвердилась статистически значимые различия. Относительный приросто группы В увеличился на 14,8%.  \n",
    "По среднему чеку так же подтвердилось отсутствиея статистически значимых различий. Но выявлено, что средний чек сегмента В немного ниже сегмента А. \n",
    "\n",
    "Мы видим прирост по количеству заказов на посетителя в группе В и отсутствие изменений в среднем чеке. Следует остановить тест и признать, что сегмет В лучше А."
   ]
  }
 ],
 "metadata": {
  "ExecuteTimeLog": [
   {
    "duration": 1403,
    "start_time": "2023-02-09T09:06:04.077Z"
   },
   {
    "duration": 117,
    "start_time": "2023-02-09T09:06:48.828Z"
   },
   {
    "duration": 35,
    "start_time": "2023-02-09T09:07:00.181Z"
   },
   {
    "duration": 64,
    "start_time": "2023-02-09T09:07:10.797Z"
   },
   {
    "duration": 54,
    "start_time": "2023-02-09T09:07:48.890Z"
   },
   {
    "duration": 11,
    "start_time": "2023-02-09T09:12:30.610Z"
   },
   {
    "duration": 12,
    "start_time": "2023-02-09T09:13:31.086Z"
   },
   {
    "duration": 11,
    "start_time": "2023-02-09T09:25:19.513Z"
   },
   {
    "duration": 16,
    "start_time": "2023-02-09T09:25:33.387Z"
   },
   {
    "duration": 12,
    "start_time": "2023-02-09T09:26:17.083Z"
   },
   {
    "duration": 12,
    "start_time": "2023-02-09T09:26:27.720Z"
   },
   {
    "duration": 170,
    "start_time": "2023-02-09T09:28:11.886Z"
   },
   {
    "duration": 94,
    "start_time": "2023-02-09T09:29:12.031Z"
   },
   {
    "duration": 6,
    "start_time": "2023-02-09T09:33:40.093Z"
   },
   {
    "duration": 173,
    "start_time": "2023-02-09T09:34:40.189Z"
   },
   {
    "duration": 82,
    "start_time": "2023-02-09T09:35:13.137Z"
   },
   {
    "duration": 4,
    "start_time": "2023-02-09T09:36:11.107Z"
   },
   {
    "duration": 71,
    "start_time": "2023-02-09T09:36:13.734Z"
   },
   {
    "duration": 7,
    "start_time": "2023-02-09T09:36:30.786Z"
   },
   {
    "duration": 45,
    "start_time": "2023-02-09T09:36:35.301Z"
   },
   {
    "duration": 5,
    "start_time": "2023-02-09T09:37:08.881Z"
   },
   {
    "duration": 14,
    "start_time": "2023-02-09T09:37:13.242Z"
   },
   {
    "duration": 7,
    "start_time": "2023-02-09T09:37:20.579Z"
   },
   {
    "duration": 134,
    "start_time": "2023-02-09T09:50:47.909Z"
   },
   {
    "duration": 128,
    "start_time": "2023-02-09T09:51:04.488Z"
   },
   {
    "duration": 106,
    "start_time": "2023-02-09T09:51:07.408Z"
   },
   {
    "duration": 604,
    "start_time": "2023-02-09T09:51:21.336Z"
   },
   {
    "duration": 6,
    "start_time": "2023-02-09T09:51:51.496Z"
   },
   {
    "duration": 87,
    "start_time": "2023-02-09T09:52:04.880Z"
   },
   {
    "duration": 13,
    "start_time": "2023-02-09T09:52:08.220Z"
   },
   {
    "duration": 56,
    "start_time": "2023-02-09T09:52:22.972Z"
   },
   {
    "duration": 7,
    "start_time": "2023-02-09T09:52:25.576Z"
   },
   {
    "duration": 34,
    "start_time": "2023-02-09T09:54:05.799Z"
   },
   {
    "duration": 316,
    "start_time": "2023-02-09T09:56:31.115Z"
   },
   {
    "duration": 319,
    "start_time": "2023-02-09T09:57:47.201Z"
   },
   {
    "duration": 298,
    "start_time": "2023-02-09T10:02:49.188Z"
   },
   {
    "duration": 187,
    "start_time": "2023-02-09T10:04:14.137Z"
   },
   {
    "duration": 346,
    "start_time": "2023-02-09T10:10:12.236Z"
   },
   {
    "duration": 197,
    "start_time": "2023-02-09T10:14:04.524Z"
   },
   {
    "duration": 217,
    "start_time": "2023-02-09T10:15:07.670Z"
   },
   {
    "duration": 169,
    "start_time": "2023-02-09T10:15:21.835Z"
   },
   {
    "duration": 196,
    "start_time": "2023-02-09T10:15:37.417Z"
   },
   {
    "duration": 51,
    "start_time": "2023-02-09T10:16:06.582Z"
   },
   {
    "duration": 336,
    "start_time": "2023-02-09T10:25:07.777Z"
   },
   {
    "duration": 404,
    "start_time": "2023-02-09T10:25:34.496Z"
   },
   {
    "duration": 12,
    "start_time": "2023-02-09T10:30:39.217Z"
   },
   {
    "duration": 299,
    "start_time": "2023-02-09T10:31:34.818Z"
   },
   {
    "duration": 406,
    "start_time": "2023-02-09T10:32:36.332Z"
   },
   {
    "duration": 13,
    "start_time": "2023-02-09T10:32:56.076Z"
   },
   {
    "duration": 252,
    "start_time": "2023-02-09T10:33:12.285Z"
   },
   {
    "duration": 10,
    "start_time": "2023-02-09T10:33:20.595Z"
   },
   {
    "duration": 6,
    "start_time": "2023-02-09T10:34:33.710Z"
   },
   {
    "duration": 173,
    "start_time": "2023-02-09T10:34:56.975Z"
   },
   {
    "duration": 5,
    "start_time": "2023-02-09T10:39:31.325Z"
   },
   {
    "duration": 146,
    "start_time": "2023-02-09T10:45:09.028Z"
   },
   {
    "duration": 30,
    "start_time": "2023-02-09T10:47:50.977Z"
   },
   {
    "duration": 11,
    "start_time": "2023-02-09T10:50:26.790Z"
   },
   {
    "duration": 6,
    "start_time": "2023-02-09T10:50:46.531Z"
   },
   {
    "duration": 33,
    "start_time": "2023-02-09T11:42:17.395Z"
   },
   {
    "duration": 23,
    "start_time": "2023-02-09T11:54:11.378Z"
   },
   {
    "duration": 28,
    "start_time": "2023-02-09T11:55:37.402Z"
   },
   {
    "duration": 44,
    "start_time": "2023-02-09T11:56:07.084Z"
   },
   {
    "duration": 38,
    "start_time": "2023-02-09T11:56:23.468Z"
   },
   {
    "duration": 46,
    "start_time": "2023-02-09T11:56:44.488Z"
   },
   {
    "duration": 22,
    "start_time": "2023-02-09T12:00:29.693Z"
   },
   {
    "duration": 43,
    "start_time": "2023-02-09T12:00:46.674Z"
   },
   {
    "duration": 45,
    "start_time": "2023-02-09T12:00:53.350Z"
   },
   {
    "duration": 1123,
    "start_time": "2023-02-09T12:01:55.000Z"
   },
   {
    "duration": 2,
    "start_time": "2023-02-09T12:02:17.316Z"
   },
   {
    "duration": 34,
    "start_time": "2023-02-09T12:02:39.495Z"
   },
   {
    "duration": 43,
    "start_time": "2023-02-09T12:02:55.286Z"
   },
   {
    "duration": 23,
    "start_time": "2023-02-09T12:04:53.322Z"
   },
   {
    "duration": 1445,
    "start_time": "2023-02-09T12:05:08.878Z"
   },
   {
    "duration": 86,
    "start_time": "2023-02-09T12:05:10.325Z"
   },
   {
    "duration": 68,
    "start_time": "2023-02-09T12:05:10.413Z"
   },
   {
    "duration": 18,
    "start_time": "2023-02-09T12:05:10.483Z"
   },
   {
    "duration": 35,
    "start_time": "2023-02-09T12:05:10.503Z"
   },
   {
    "duration": 4,
    "start_time": "2023-02-09T12:05:10.540Z"
   },
   {
    "duration": 44,
    "start_time": "2023-02-09T12:05:10.560Z"
   },
   {
    "duration": 18,
    "start_time": "2023-02-09T12:05:10.606Z"
   },
   {
    "duration": 378,
    "start_time": "2023-02-09T12:05:10.626Z"
   },
   {
    "duration": 323,
    "start_time": "2023-02-09T12:05:11.010Z"
   },
   {
    "duration": 245,
    "start_time": "2023-02-09T12:05:11.335Z"
   },
   {
    "duration": 337,
    "start_time": "2023-02-09T12:05:11.581Z"
   },
   {
    "duration": 239,
    "start_time": "2023-02-09T12:05:11.923Z"
   },
   {
    "duration": 342,
    "start_time": "2023-02-09T12:05:12.167Z"
   },
   {
    "duration": 188,
    "start_time": "2023-02-09T12:05:12.512Z"
   },
   {
    "duration": 5,
    "start_time": "2023-02-09T12:05:12.702Z"
   },
   {
    "duration": 171,
    "start_time": "2023-02-09T12:05:12.709Z"
   },
   {
    "duration": 8,
    "start_time": "2023-02-09T12:05:12.882Z"
   },
   {
    "duration": 143,
    "start_time": "2023-02-09T12:05:12.891Z"
   },
   {
    "duration": 37,
    "start_time": "2023-02-09T12:05:13.037Z"
   },
   {
    "duration": 268,
    "start_time": "2023-02-09T12:15:06.893Z"
   },
   {
    "duration": 203,
    "start_time": "2023-02-09T12:16:04.815Z"
   },
   {
    "duration": 202,
    "start_time": "2023-02-09T12:19:22.623Z"
   },
   {
    "duration": 17,
    "start_time": "2023-02-09T12:26:02.278Z"
   },
   {
    "duration": 11,
    "start_time": "2023-02-09T12:26:09.010Z"
   },
   {
    "duration": 1241,
    "start_time": "2023-02-09T12:33:13.398Z"
   },
   {
    "duration": 31,
    "start_time": "2023-02-09T12:35:12.413Z"
   },
   {
    "duration": 17,
    "start_time": "2023-02-09T12:38:25.220Z"
   },
   {
    "duration": 1306,
    "start_time": "2023-02-09T16:32:29.019Z"
   },
   {
    "duration": 114,
    "start_time": "2023-02-09T16:32:30.328Z"
   },
   {
    "duration": 115,
    "start_time": "2023-02-09T16:32:30.444Z"
   },
   {
    "duration": 12,
    "start_time": "2023-02-09T16:32:30.560Z"
   },
   {
    "duration": 106,
    "start_time": "2023-02-09T16:32:30.574Z"
   },
   {
    "duration": 5,
    "start_time": "2023-02-09T16:32:30.681Z"
   },
   {
    "duration": 41,
    "start_time": "2023-02-09T16:32:30.687Z"
   },
   {
    "duration": 43,
    "start_time": "2023-02-09T16:32:30.729Z"
   },
   {
    "duration": 290,
    "start_time": "2023-02-09T16:32:30.774Z"
   },
   {
    "duration": 238,
    "start_time": "2023-02-09T16:32:31.066Z"
   },
   {
    "duration": 168,
    "start_time": "2023-02-09T16:32:31.305Z"
   },
   {
    "duration": 287,
    "start_time": "2023-02-09T16:32:31.475Z"
   },
   {
    "duration": 170,
    "start_time": "2023-02-09T16:32:31.763Z"
   },
   {
    "duration": 302,
    "start_time": "2023-02-09T16:32:31.935Z"
   },
   {
    "duration": 108,
    "start_time": "2023-02-09T16:32:32.248Z"
   },
   {
    "duration": 4,
    "start_time": "2023-02-09T16:32:32.358Z"
   },
   {
    "duration": 145,
    "start_time": "2023-02-09T16:32:32.363Z"
   },
   {
    "duration": 5,
    "start_time": "2023-02-09T16:32:32.510Z"
   },
   {
    "duration": 226,
    "start_time": "2023-02-09T16:32:32.516Z"
   },
   {
    "duration": 0,
    "start_time": "2023-02-09T16:32:32.743Z"
   },
   {
    "duration": 0,
    "start_time": "2023-02-09T16:32:32.748Z"
   },
   {
    "duration": 0,
    "start_time": "2023-02-09T16:32:32.748Z"
   },
   {
    "duration": 1109,
    "start_time": "2023-02-09T19:49:38.622Z"
   },
   {
    "duration": 56,
    "start_time": "2023-02-09T19:49:39.733Z"
   },
   {
    "duration": 61,
    "start_time": "2023-02-09T19:49:39.791Z"
   },
   {
    "duration": 12,
    "start_time": "2023-02-09T19:49:39.854Z"
   },
   {
    "duration": 44,
    "start_time": "2023-02-09T19:49:39.867Z"
   },
   {
    "duration": 4,
    "start_time": "2023-02-09T19:49:39.913Z"
   },
   {
    "duration": 22,
    "start_time": "2023-02-09T19:49:39.918Z"
   },
   {
    "duration": 27,
    "start_time": "2023-02-09T19:49:39.942Z"
   },
   {
    "duration": 294,
    "start_time": "2023-02-09T19:49:39.971Z"
   },
   {
    "duration": 284,
    "start_time": "2023-02-09T19:49:40.267Z"
   },
   {
    "duration": 199,
    "start_time": "2023-02-09T19:49:40.553Z"
   },
   {
    "duration": 315,
    "start_time": "2023-02-09T19:49:40.754Z"
   },
   {
    "duration": 216,
    "start_time": "2023-02-09T19:49:41.071Z"
   },
   {
    "duration": 320,
    "start_time": "2023-02-09T19:49:41.292Z"
   },
   {
    "duration": 135,
    "start_time": "2023-02-09T19:49:41.614Z"
   },
   {
    "duration": 4,
    "start_time": "2023-02-09T19:49:41.751Z"
   },
   {
    "duration": 146,
    "start_time": "2023-02-09T19:49:41.756Z"
   },
   {
    "duration": 6,
    "start_time": "2023-02-09T19:49:41.903Z"
   },
   {
    "duration": 243,
    "start_time": "2023-02-09T19:49:41.911Z"
   },
   {
    "duration": 0,
    "start_time": "2023-02-09T19:49:42.155Z"
   },
   {
    "duration": 0,
    "start_time": "2023-02-09T19:49:42.156Z"
   },
   {
    "duration": 0,
    "start_time": "2023-02-09T19:49:42.158Z"
   },
   {
    "duration": 12,
    "start_time": "2023-02-09T19:50:12.336Z"
   },
   {
    "duration": 21,
    "start_time": "2023-02-09T19:50:12.350Z"
   },
   {
    "duration": 0,
    "start_time": "2023-02-09T19:50:12.373Z"
   },
   {
    "duration": 13,
    "start_time": "2023-02-09T19:50:18.203Z"
   },
   {
    "duration": 1229,
    "start_time": "2023-02-10T09:04:52.154Z"
   },
   {
    "duration": 103,
    "start_time": "2023-02-10T09:04:53.398Z"
   },
   {
    "duration": 119,
    "start_time": "2023-02-10T09:05:01.934Z"
   },
   {
    "duration": 7,
    "start_time": "2023-02-10T09:05:12.840Z"
   },
   {
    "duration": 87,
    "start_time": "2023-02-10T09:07:32.483Z"
   },
   {
    "duration": 6,
    "start_time": "2023-02-10T09:07:44.620Z"
   },
   {
    "duration": 11,
    "start_time": "2023-02-10T09:07:54.050Z"
   },
   {
    "duration": 87,
    "start_time": "2023-02-10T09:08:06.239Z"
   },
   {
    "duration": 6,
    "start_time": "2023-02-10T09:08:13.593Z"
   },
   {
    "duration": 5,
    "start_time": "2023-02-10T09:16:38.266Z"
   },
   {
    "duration": 7,
    "start_time": "2023-02-10T09:16:58.558Z"
   },
   {
    "duration": 95,
    "start_time": "2023-02-10T09:17:21.670Z"
   },
   {
    "duration": 7,
    "start_time": "2023-02-10T09:17:27.786Z"
   },
   {
    "duration": 6,
    "start_time": "2023-02-10T09:17:35.815Z"
   },
   {
    "duration": 6,
    "start_time": "2023-02-10T09:17:45.793Z"
   },
   {
    "duration": 13,
    "start_time": "2023-02-10T09:27:56.778Z"
   },
   {
    "duration": 11,
    "start_time": "2023-02-10T09:28:55.927Z"
   },
   {
    "duration": 1138,
    "start_time": "2023-02-10T09:29:13.449Z"
   },
   {
    "duration": 65,
    "start_time": "2023-02-10T09:29:14.589Z"
   },
   {
    "duration": 66,
    "start_time": "2023-02-10T09:29:14.656Z"
   },
   {
    "duration": 7,
    "start_time": "2023-02-10T09:29:14.724Z"
   },
   {
    "duration": 15,
    "start_time": "2023-02-10T09:29:14.733Z"
   },
   {
    "duration": 80,
    "start_time": "2023-02-10T09:29:14.750Z"
   },
   {
    "duration": 4,
    "start_time": "2023-02-10T09:29:14.832Z"
   },
   {
    "duration": 100,
    "start_time": "2023-02-10T09:29:14.837Z"
   },
   {
    "duration": 0,
    "start_time": "2023-02-10T09:29:14.939Z"
   },
   {
    "duration": 0,
    "start_time": "2023-02-10T09:29:14.940Z"
   },
   {
    "duration": 0,
    "start_time": "2023-02-10T09:29:14.942Z"
   },
   {
    "duration": 0,
    "start_time": "2023-02-10T09:29:14.942Z"
   },
   {
    "duration": 0,
    "start_time": "2023-02-10T09:29:14.944Z"
   },
   {
    "duration": 0,
    "start_time": "2023-02-10T09:29:14.945Z"
   },
   {
    "duration": 0,
    "start_time": "2023-02-10T09:29:14.946Z"
   },
   {
    "duration": 0,
    "start_time": "2023-02-10T09:29:14.947Z"
   },
   {
    "duration": 0,
    "start_time": "2023-02-10T09:29:14.948Z"
   },
   {
    "duration": 0,
    "start_time": "2023-02-10T09:29:14.949Z"
   },
   {
    "duration": 0,
    "start_time": "2023-02-10T09:29:14.950Z"
   },
   {
    "duration": 0,
    "start_time": "2023-02-10T09:29:14.951Z"
   },
   {
    "duration": 0,
    "start_time": "2023-02-10T09:29:14.952Z"
   },
   {
    "duration": 0,
    "start_time": "2023-02-10T09:29:14.953Z"
   },
   {
    "duration": 0,
    "start_time": "2023-02-10T09:29:14.954Z"
   },
   {
    "duration": 10,
    "start_time": "2023-02-10T09:29:43.079Z"
   },
   {
    "duration": 5,
    "start_time": "2023-02-10T09:29:57.487Z"
   },
   {
    "duration": 7,
    "start_time": "2023-02-10T09:30:22.378Z"
   },
   {
    "duration": 72,
    "start_time": "2023-02-10T09:30:35.339Z"
   },
   {
    "duration": 6,
    "start_time": "2023-02-10T09:30:49.089Z"
   },
   {
    "duration": 5,
    "start_time": "2023-02-10T09:30:57.191Z"
   },
   {
    "duration": 80,
    "start_time": "2023-02-10T09:31:07.524Z"
   },
   {
    "duration": 6,
    "start_time": "2023-02-10T09:31:27.494Z"
   },
   {
    "duration": 7,
    "start_time": "2023-02-10T09:33:46.631Z"
   },
   {
    "duration": 13,
    "start_time": "2023-02-10T09:33:51.199Z"
   },
   {
    "duration": 6,
    "start_time": "2023-02-10T09:33:54.788Z"
   },
   {
    "duration": 7,
    "start_time": "2023-02-10T09:34:07.176Z"
   },
   {
    "duration": 7,
    "start_time": "2023-02-10T09:34:55.266Z"
   },
   {
    "duration": 7,
    "start_time": "2023-02-10T09:35:17.360Z"
   },
   {
    "duration": 296,
    "start_time": "2023-02-10T09:36:49.202Z"
   },
   {
    "duration": 270,
    "start_time": "2023-02-10T09:36:52.923Z"
   },
   {
    "duration": 210,
    "start_time": "2023-02-10T09:44:38.413Z"
   },
   {
    "duration": 196,
    "start_time": "2023-02-10T09:44:58.985Z"
   },
   {
    "duration": 216,
    "start_time": "2023-02-10T09:45:09.756Z"
   },
   {
    "duration": 203,
    "start_time": "2023-02-10T09:48:35.936Z"
   },
   {
    "duration": 197,
    "start_time": "2023-02-10T09:50:53.331Z"
   },
   {
    "duration": 15,
    "start_time": "2023-02-10T09:51:05.887Z"
   },
   {
    "duration": 205,
    "start_time": "2023-02-10T09:51:14.883Z"
   },
   {
    "duration": 183,
    "start_time": "2023-02-10T09:51:23.161Z"
   },
   {
    "duration": 268,
    "start_time": "2023-02-10T09:51:32.472Z"
   },
   {
    "duration": 193,
    "start_time": "2023-02-10T09:51:40.061Z"
   },
   {
    "duration": 185,
    "start_time": "2023-02-10T09:51:45.207Z"
   },
   {
    "duration": 149,
    "start_time": "2023-02-10T09:51:59.150Z"
   },
   {
    "duration": 155,
    "start_time": "2023-02-10T09:52:05.449Z"
   },
   {
    "duration": 247,
    "start_time": "2023-02-10T09:52:14.465Z"
   },
   {
    "duration": 195,
    "start_time": "2023-02-10T09:54:07.293Z"
   },
   {
    "duration": 325,
    "start_time": "2023-02-10T09:54:27.560Z"
   },
   {
    "duration": 221,
    "start_time": "2023-02-10T09:54:46.969Z"
   },
   {
    "duration": 203,
    "start_time": "2023-02-10T09:55:37.567Z"
   },
   {
    "duration": 223,
    "start_time": "2023-02-10T09:55:58.751Z"
   },
   {
    "duration": 405,
    "start_time": "2023-02-10T09:56:58.852Z"
   },
   {
    "duration": 351,
    "start_time": "2023-02-10T09:57:33.268Z"
   },
   {
    "duration": 217,
    "start_time": "2023-02-10T10:07:42.907Z"
   },
   {
    "duration": 254,
    "start_time": "2023-02-10T10:08:52.506Z"
   },
   {
    "duration": 326,
    "start_time": "2023-02-10T10:12:29.348Z"
   },
   {
    "duration": 337,
    "start_time": "2023-02-10T10:13:15.690Z"
   },
   {
    "duration": 128,
    "start_time": "2023-02-10T10:15:33.061Z"
   },
   {
    "duration": 148,
    "start_time": "2023-02-10T10:16:20.872Z"
   },
   {
    "duration": 144,
    "start_time": "2023-02-10T10:16:35.673Z"
   },
   {
    "duration": 135,
    "start_time": "2023-02-10T10:16:43.679Z"
   },
   {
    "duration": 117,
    "start_time": "2023-02-10T10:16:59.040Z"
   },
   {
    "duration": 150,
    "start_time": "2023-02-10T10:19:26.839Z"
   },
   {
    "duration": 264,
    "start_time": "2023-02-10T10:26:49.823Z"
   },
   {
    "duration": 155,
    "start_time": "2023-02-10T10:26:57.998Z"
   },
   {
    "duration": 147,
    "start_time": "2023-02-10T10:27:03.190Z"
   },
   {
    "duration": 169,
    "start_time": "2023-02-10T10:27:26.894Z"
   },
   {
    "duration": 135,
    "start_time": "2023-02-10T10:41:35.633Z"
   },
   {
    "duration": 188,
    "start_time": "2023-02-10T11:02:24.795Z"
   },
   {
    "duration": 33,
    "start_time": "2023-02-10T11:05:35.471Z"
   },
   {
    "duration": 15,
    "start_time": "2023-02-10T11:08:30.934Z"
   },
   {
    "duration": 5,
    "start_time": "2023-02-10T11:28:09.350Z"
   },
   {
    "duration": 7,
    "start_time": "2023-02-10T11:30:26.023Z"
   },
   {
    "duration": 10,
    "start_time": "2023-02-10T11:31:14.251Z"
   },
   {
    "duration": 6,
    "start_time": "2023-02-10T11:31:19.823Z"
   },
   {
    "duration": 10,
    "start_time": "2023-02-10T11:31:34.802Z"
   },
   {
    "duration": 16,
    "start_time": "2023-02-10T11:35:05.473Z"
   },
   {
    "duration": 18,
    "start_time": "2023-02-10T11:35:42.673Z"
   },
   {
    "duration": 14,
    "start_time": "2023-02-10T11:36:21.640Z"
   },
   {
    "duration": 17,
    "start_time": "2023-02-10T11:36:33.904Z"
   },
   {
    "duration": 15,
    "start_time": "2023-02-10T11:45:15.719Z"
   },
   {
    "duration": 17,
    "start_time": "2023-02-10T11:45:40.892Z"
   },
   {
    "duration": 16,
    "start_time": "2023-02-10T11:47:07.101Z"
   },
   {
    "duration": 16,
    "start_time": "2023-02-10T11:47:20.788Z"
   },
   {
    "duration": 4,
    "start_time": "2023-02-10T11:57:06.664Z"
   },
   {
    "duration": 5,
    "start_time": "2023-02-10T11:57:32.576Z"
   },
   {
    "duration": 422,
    "start_time": "2023-02-10T12:04:19.980Z"
   },
   {
    "duration": 12,
    "start_time": "2023-02-10T12:04:42.723Z"
   },
   {
    "duration": 18,
    "start_time": "2023-02-10T12:04:50.015Z"
   },
   {
    "duration": 18,
    "start_time": "2023-02-10T12:05:35.656Z"
   },
   {
    "duration": 19,
    "start_time": "2023-02-10T12:05:44.965Z"
   },
   {
    "duration": 16,
    "start_time": "2023-02-10T12:05:56.140Z"
   },
   {
    "duration": 72,
    "start_time": "2023-02-10T12:06:48.579Z"
   },
   {
    "duration": 13,
    "start_time": "2023-02-10T12:06:56.030Z"
   },
   {
    "duration": 13,
    "start_time": "2023-02-10T12:09:34.670Z"
   },
   {
    "duration": 12,
    "start_time": "2023-02-10T12:11:00.551Z"
   },
   {
    "duration": 1205,
    "start_time": "2023-02-10T12:13:44.284Z"
   },
   {
    "duration": 65,
    "start_time": "2023-02-10T12:13:45.491Z"
   },
   {
    "duration": 62,
    "start_time": "2023-02-10T12:13:45.558Z"
   },
   {
    "duration": 7,
    "start_time": "2023-02-10T12:13:45.622Z"
   },
   {
    "duration": 24,
    "start_time": "2023-02-10T12:13:45.631Z"
   },
   {
    "duration": 42,
    "start_time": "2023-02-10T12:13:45.657Z"
   },
   {
    "duration": 4,
    "start_time": "2023-02-10T12:13:45.701Z"
   },
   {
    "duration": 15,
    "start_time": "2023-02-10T12:13:45.707Z"
   },
   {
    "duration": 18,
    "start_time": "2023-02-10T12:13:45.724Z"
   },
   {
    "duration": 13,
    "start_time": "2023-02-10T12:13:45.745Z"
   },
   {
    "duration": 43,
    "start_time": "2023-02-10T12:13:45.759Z"
   },
   {
    "duration": 19,
    "start_time": "2023-02-10T12:13:45.803Z"
   },
   {
    "duration": 15,
    "start_time": "2023-02-10T12:13:45.823Z"
   },
   {
    "duration": 14,
    "start_time": "2023-02-10T12:13:45.840Z"
   },
   {
    "duration": 326,
    "start_time": "2023-02-10T12:13:45.856Z"
   },
   {
    "duration": 342,
    "start_time": "2023-02-10T12:13:46.184Z"
   },
   {
    "duration": 239,
    "start_time": "2023-02-10T12:13:46.528Z"
   },
   {
    "duration": 407,
    "start_time": "2023-02-10T12:13:46.769Z"
   },
   {
    "duration": 269,
    "start_time": "2023-02-10T12:13:47.178Z"
   },
   {
    "duration": 341,
    "start_time": "2023-02-10T12:13:47.449Z"
   },
   {
    "duration": 127,
    "start_time": "2023-02-10T12:13:47.799Z"
   },
   {
    "duration": 5,
    "start_time": "2023-02-10T12:13:47.928Z"
   },
   {
    "duration": 171,
    "start_time": "2023-02-10T12:13:47.934Z"
   },
   {
    "duration": 147,
    "start_time": "2023-02-10T12:13:48.106Z"
   },
   {
    "duration": 5,
    "start_time": "2023-02-10T12:13:48.255Z"
   },
   {
    "duration": 311,
    "start_time": "2023-02-10T12:13:48.262Z"
   },
   {
    "duration": 12,
    "start_time": "2023-02-10T12:13:48.575Z"
   },
   {
    "duration": 50,
    "start_time": "2023-02-10T12:13:48.599Z"
   },
   {
    "duration": 14,
    "start_time": "2023-02-10T12:13:48.652Z"
   },
   {
    "duration": 5,
    "start_time": "2023-02-10T12:16:18.674Z"
   },
   {
    "duration": 1208,
    "start_time": "2023-02-10T12:28:52.068Z"
   },
   {
    "duration": 68,
    "start_time": "2023-02-10T12:28:53.278Z"
   },
   {
    "duration": 76,
    "start_time": "2023-02-10T12:28:53.348Z"
   },
   {
    "duration": 7,
    "start_time": "2023-02-10T12:28:53.426Z"
   },
   {
    "duration": 19,
    "start_time": "2023-02-10T12:28:53.436Z"
   },
   {
    "duration": 39,
    "start_time": "2023-02-10T12:28:53.457Z"
   },
   {
    "duration": 4,
    "start_time": "2023-02-10T12:28:53.497Z"
   },
   {
    "duration": 9,
    "start_time": "2023-02-10T12:28:53.503Z"
   },
   {
    "duration": 13,
    "start_time": "2023-02-10T12:28:53.514Z"
   },
   {
    "duration": 15,
    "start_time": "2023-02-10T12:28:53.529Z"
   },
   {
    "duration": 10,
    "start_time": "2023-02-10T12:28:53.545Z"
   },
   {
    "duration": 19,
    "start_time": "2023-02-10T12:28:53.557Z"
   },
   {
    "duration": 10,
    "start_time": "2023-02-10T12:28:53.578Z"
   },
   {
    "duration": 463,
    "start_time": "2023-02-10T12:28:53.591Z"
   },
   {
    "duration": 359,
    "start_time": "2023-02-10T12:28:54.056Z"
   },
   {
    "duration": 250,
    "start_time": "2023-02-10T12:28:54.417Z"
   },
   {
    "duration": 350,
    "start_time": "2023-02-10T12:28:54.669Z"
   },
   {
    "duration": 252,
    "start_time": "2023-02-10T12:28:55.021Z"
   },
   {
    "duration": 340,
    "start_time": "2023-02-10T12:28:55.275Z"
   },
   {
    "duration": 135,
    "start_time": "2023-02-10T12:28:55.617Z"
   },
   {
    "duration": 5,
    "start_time": "2023-02-10T12:28:55.754Z"
   },
   {
    "duration": 158,
    "start_time": "2023-02-10T12:28:55.761Z"
   },
   {
    "duration": 146,
    "start_time": "2023-02-10T12:28:55.921Z"
   },
   {
    "duration": 4,
    "start_time": "2023-02-10T12:28:56.069Z"
   },
   {
    "duration": 254,
    "start_time": "2023-02-10T12:28:56.075Z"
   },
   {
    "duration": 12,
    "start_time": "2023-02-10T12:28:56.330Z"
   },
   {
    "duration": 55,
    "start_time": "2023-02-10T12:28:56.344Z"
   },
   {
    "duration": 17,
    "start_time": "2023-02-10T12:28:56.401Z"
   }
  ],
  "kernelspec": {
   "display_name": "Python 3 (ipykernel)",
   "language": "python",
   "name": "python3"
  },
  "language_info": {
   "codemirror_mode": {
    "name": "ipython",
    "version": 3
   },
   "file_extension": ".py",
   "mimetype": "text/x-python",
   "name": "python",
   "nbconvert_exporter": "python",
   "pygments_lexer": "ipython3",
   "version": "3.9.7"
  },
  "toc": {
   "base_numbering": 1,
   "nav_menu": {},
   "number_sections": true,
   "sideBar": true,
   "skip_h1_title": true,
   "title_cell": "Table of Contents",
   "title_sidebar": "Contents",
   "toc_cell": false,
   "toc_position": {},
   "toc_section_display": true,
   "toc_window_display": false
  }
 },
 "nbformat": 4,
 "nbformat_minor": 2
}
