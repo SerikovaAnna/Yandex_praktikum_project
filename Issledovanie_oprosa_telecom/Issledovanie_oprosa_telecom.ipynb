{
 "cells": [
  {
   "cell_type": "code",
   "execution_count": 1,
   "id": "68e42b43",
   "metadata": {
    "tags": [
     "aa81075c-062f-4de0-b5fe-14c73dc7468e"
    ]
   },
   "outputs": [],
   "source": [
    "import pandas as pd\n",
    "import numpy as np\n",
    "\n",
    "from sqlalchemy import create_engine"
   ]
  },
  {
   "cell_type": "code",
   "execution_count": 2,
   "id": "de76b60f",
   "metadata": {},
   "outputs": [],
   "source": [
    "path_to_db = '/datasets/telecomm_csi.db'\n",
    "engine = create_engine(f'sqlite:///{path_to_db}', echo = False)"
   ]
  },
  {
   "cell_type": "code",
   "execution_count": 3,
   "id": "ffa6b3eb",
   "metadata": {},
   "outputs": [],
   "source": [
    "query = \"\"\"\n",
    "SELECT u.user_id, \n",
    "       u.lt_day,\n",
    "       CASE\n",
    "           WHEN lt_day <=365 THEN 'новый'\n",
    "           ELSE 'опытный'\n",
    "       END is_new,\n",
    "       u.age,\n",
    "       CASE\n",
    "           WHEN gender_segment =1 THEN 'женщина'\n",
    "           ELSE 'мужчина'\n",
    "       END gender_segment, \n",
    "       u.os_name, \n",
    "       u.cpe_type_name, \n",
    "       l.country, \n",
    "       l.city, \n",
    "       ag.title AS age_segment,\n",
    "       tr.title AS traffic_segment,\n",
    "       lt.title AS lifetime_segment,\n",
    "       u.nps_score,\n",
    "       CASE\n",
    "           WHEN nps_score >=9 THEN 'сторонник'\n",
    "           WHEN nps_score <=6 THEN 'критик'\n",
    "           ELSE 'нейтрал'\n",
    "       END nps_group\n",
    "\n",
    "FROM user AS u\n",
    "\n",
    "JOIN location AS l ON u.location_id = l.location_id\n",
    "JOIN age_segment AS ag ON u.age_gr_id=ag.age_gr_id\n",
    "JOIN traffic_segment AS tr ON u.tr_gr_id=tr.tr_gr_id\n",
    "JOIN lifetime_segment AS lt ON u.lt_gr_id=lt.lt_gr_id\n",
    "\"\"\""
   ]
  },
  {
   "cell_type": "code",
   "execution_count": 4,
   "id": "73eea4d7",
   "metadata": {},
   "outputs": [
    {
     "data": {
      "text/html": [
       "<div>\n",
       "<style scoped>\n",
       "    .dataframe tbody tr th:only-of-type {\n",
       "        vertical-align: middle;\n",
       "    }\n",
       "\n",
       "    .dataframe tbody tr th {\n",
       "        vertical-align: top;\n",
       "    }\n",
       "\n",
       "    .dataframe thead th {\n",
       "        text-align: right;\n",
       "    }\n",
       "</style>\n",
       "<table border=\"1\" class=\"dataframe\">\n",
       "  <thead>\n",
       "    <tr style=\"text-align: right;\">\n",
       "      <th></th>\n",
       "      <th>user_id</th>\n",
       "      <th>lt_day</th>\n",
       "      <th>is_new</th>\n",
       "      <th>age</th>\n",
       "      <th>gender_segment</th>\n",
       "      <th>os_name</th>\n",
       "      <th>cpe_type_name</th>\n",
       "      <th>country</th>\n",
       "      <th>city</th>\n",
       "      <th>age_segment</th>\n",
       "      <th>traffic_segment</th>\n",
       "      <th>lifetime_segment</th>\n",
       "      <th>nps_score</th>\n",
       "      <th>nps_group</th>\n",
       "    </tr>\n",
       "  </thead>\n",
       "  <tbody>\n",
       "    <tr>\n",
       "      <th>0</th>\n",
       "      <td>A001A2</td>\n",
       "      <td>2320</td>\n",
       "      <td>опытный</td>\n",
       "      <td>45.0</td>\n",
       "      <td>женщина</td>\n",
       "      <td>ANDROID</td>\n",
       "      <td>SMARTPHONE</td>\n",
       "      <td>Россия</td>\n",
       "      <td>Уфа</td>\n",
       "      <td>05 45-54</td>\n",
       "      <td>04 1-5</td>\n",
       "      <td>08 36+</td>\n",
       "      <td>10</td>\n",
       "      <td>сторонник</td>\n",
       "    </tr>\n",
       "    <tr>\n",
       "      <th>1</th>\n",
       "      <td>A001WF</td>\n",
       "      <td>2344</td>\n",
       "      <td>опытный</td>\n",
       "      <td>53.0</td>\n",
       "      <td>мужчина</td>\n",
       "      <td>ANDROID</td>\n",
       "      <td>SMARTPHONE</td>\n",
       "      <td>Россия</td>\n",
       "      <td>Киров</td>\n",
       "      <td>05 45-54</td>\n",
       "      <td>04 1-5</td>\n",
       "      <td>08 36+</td>\n",
       "      <td>10</td>\n",
       "      <td>сторонник</td>\n",
       "    </tr>\n",
       "    <tr>\n",
       "      <th>2</th>\n",
       "      <td>A003Q7</td>\n",
       "      <td>467</td>\n",
       "      <td>опытный</td>\n",
       "      <td>57.0</td>\n",
       "      <td>мужчина</td>\n",
       "      <td>ANDROID</td>\n",
       "      <td>SMARTPHONE</td>\n",
       "      <td>Россия</td>\n",
       "      <td>Москва</td>\n",
       "      <td>06 55-64</td>\n",
       "      <td>08 20-25</td>\n",
       "      <td>06 13-24</td>\n",
       "      <td>10</td>\n",
       "      <td>сторонник</td>\n",
       "    </tr>\n",
       "  </tbody>\n",
       "</table>\n",
       "</div>"
      ],
      "text/plain": [
       "  user_id  lt_day   is_new   age gender_segment  os_name cpe_type_name  \\\n",
       "0  A001A2    2320  опытный  45.0        женщина  ANDROID    SMARTPHONE   \n",
       "1  A001WF    2344  опытный  53.0        мужчина  ANDROID    SMARTPHONE   \n",
       "2  A003Q7     467  опытный  57.0        мужчина  ANDROID    SMARTPHONE   \n",
       "\n",
       "  country    city age_segment traffic_segment lifetime_segment  nps_score  \\\n",
       "0  Россия     Уфа    05 45-54          04 1-5           08 36+         10   \n",
       "1  Россия   Киров    05 45-54          04 1-5           08 36+         10   \n",
       "2  Россия  Москва    06 55-64        08 20-25         06 13-24         10   \n",
       "\n",
       "   nps_group  \n",
       "0  сторонник  \n",
       "1  сторонник  \n",
       "2  сторонник  "
      ]
     },
     "execution_count": 4,
     "metadata": {},
     "output_type": "execute_result"
    }
   ],
   "source": [
    "df = pd.read_sql(query, engine)\n",
    "df.head(3)"
   ]
  },
  {
   "cell_type": "code",
   "execution_count": 5,
   "id": "6ca797b2",
   "metadata": {},
   "outputs": [],
   "source": [
    "df.to_csv('telecomm_csi_tableau.csv', index=False)"
   ]
  },
  {
   "cell_type": "markdown",
   "id": "b1cb0b8a",
   "metadata": {},
   "source": [
    "### Укажите ссылку на дашборд на сайте Tableau Public:"
   ]
  },
  {
   "cell_type": "markdown",
   "id": "ff3f14a8",
   "metadata": {},
   "source": [
    "https://public.tableau.com/shared/9PPHJPB77?:display_count=n&:origin=viz_share_link"
   ]
  },
  {
   "cell_type": "markdown",
   "id": "6d282812",
   "metadata": {},
   "source": [
    "### Укажите ссылку на pdf-файл с презентацией:"
   ]
  },
  {
   "cell_type": "markdown",
   "id": "f97d5b17",
   "metadata": {},
   "source": [
    "https://1drv.ms/b/s!Ak1-sB34FBGCmD8C4LGVWFh3WBar?e=ciRPY1"
   ]
  }
 ],
 "metadata": {
  "ExecuteTimeLog": [
   {
    "duration": 752,
    "start_time": "2021-10-03T17:40:52.731Z"
   },
   {
    "duration": 20,
    "start_time": "2021-10-03T17:40:53.486Z"
   },
   {
    "duration": 4,
    "start_time": "2021-10-03T17:41:04.638Z"
   },
   {
    "duration": 461,
    "start_time": "2021-10-03T17:41:04.912Z"
   },
   {
    "duration": 284,
    "start_time": "2021-10-03T17:41:05.376Z"
   },
   {
    "duration": 574,
    "start_time": "2021-10-06T07:55:05.029Z"
   },
   {
    "duration": 6,
    "start_time": "2021-10-06T07:55:05.605Z"
   },
   {
    "duration": 3,
    "start_time": "2021-10-06T07:55:14.685Z"
   },
   {
    "duration": 406,
    "start_time": "2021-10-06T07:55:15.522Z"
   },
   {
    "duration": 67,
    "start_time": "2021-10-06T07:55:15.929Z"
   },
   {
    "duration": 840,
    "start_time": "2021-10-07T07:54:04.647Z"
   },
   {
    "duration": 10,
    "start_time": "2021-10-07T07:54:05.490Z"
   },
   {
    "duration": 4,
    "start_time": "2021-10-07T07:54:05.544Z"
   },
   {
    "duration": 391,
    "start_time": "2021-10-07T07:54:06.237Z"
   },
   {
    "duration": 293,
    "start_time": "2021-10-07T07:54:06.654Z"
   },
   {
    "duration": 529,
    "start_time": "2022-08-28T08:08:38.329Z"
   },
   {
    "duration": 20,
    "start_time": "2022-08-28T08:08:39.165Z"
   },
   {
    "duration": 4,
    "start_time": "2022-08-28T08:08:40.069Z"
   },
   {
    "duration": 2,
    "start_time": "2022-08-28T08:08:40.865Z"
   },
   {
    "duration": 5535,
    "start_time": "2022-08-28T08:08:41.626Z"
   },
   {
    "duration": 3,
    "start_time": "2022-08-28T09:51:57.459Z"
   },
   {
    "duration": 788,
    "start_time": "2022-08-28T09:51:58.512Z"
   },
   {
    "duration": 3,
    "start_time": "2022-08-28T09:52:17.665Z"
   },
   {
    "duration": 848,
    "start_time": "2022-08-28T09:52:18.740Z"
   },
   {
    "duration": 10,
    "start_time": "2022-08-28T09:52:41.987Z"
   },
   {
    "duration": 760,
    "start_time": "2022-08-28T09:52:43.070Z"
   },
   {
    "duration": 4,
    "start_time": "2022-08-28T09:52:55.732Z"
   },
   {
    "duration": 457,
    "start_time": "2022-08-28T09:52:57.865Z"
   },
   {
    "duration": 3,
    "start_time": "2022-08-28T09:53:36.651Z"
   },
   {
    "duration": 4247,
    "start_time": "2022-08-28T09:53:38.676Z"
   },
   {
    "duration": 4,
    "start_time": "2022-08-28T09:56:06.984Z"
   },
   {
    "duration": 4765,
    "start_time": "2022-08-28T09:56:07.851Z"
   },
   {
    "duration": 5,
    "start_time": "2022-08-28T09:56:33.688Z"
   },
   {
    "duration": 4862,
    "start_time": "2022-08-28T09:56:36.050Z"
   },
   {
    "duration": 3,
    "start_time": "2022-08-28T09:57:50.846Z"
   },
   {
    "duration": 656,
    "start_time": "2022-08-28T09:57:51.733Z"
   },
   {
    "duration": 3,
    "start_time": "2022-08-28T10:02:08.830Z"
   },
   {
    "duration": 5317,
    "start_time": "2022-08-28T10:02:09.862Z"
   },
   {
    "duration": 3,
    "start_time": "2022-08-28T10:04:29.433Z"
   },
   {
    "duration": 4945,
    "start_time": "2022-08-28T10:04:30.371Z"
   },
   {
    "duration": 4589,
    "start_time": "2022-08-28T10:04:35.810Z"
   },
   {
    "duration": 3,
    "start_time": "2022-08-28T10:15:28.347Z"
   },
   {
    "duration": 726,
    "start_time": "2022-08-28T10:15:29.947Z"
   },
   {
    "duration": 4,
    "start_time": "2022-08-28T10:16:56.320Z"
   },
   {
    "duration": 709,
    "start_time": "2022-08-28T10:16:57.294Z"
   },
   {
    "duration": 3,
    "start_time": "2022-08-28T10:18:31.656Z"
   },
   {
    "duration": 715,
    "start_time": "2022-08-28T10:18:34.048Z"
   },
   {
    "duration": 3,
    "start_time": "2022-08-28T10:19:04.022Z"
   },
   {
    "duration": 810,
    "start_time": "2022-08-28T10:19:05.618Z"
   },
   {
    "duration": 3,
    "start_time": "2022-08-28T10:19:29.506Z"
   },
   {
    "duration": 5127,
    "start_time": "2022-08-28T10:19:30.746Z"
   },
   {
    "duration": 3,
    "start_time": "2022-08-28T10:20:07.682Z"
   },
   {
    "duration": 5396,
    "start_time": "2022-08-28T10:20:08.523Z"
   },
   {
    "duration": 3,
    "start_time": "2022-08-28T10:23:06.055Z"
   },
   {
    "duration": 5867,
    "start_time": "2022-08-28T10:23:07.260Z"
   },
   {
    "duration": 4,
    "start_time": "2022-08-28T10:32:38.624Z"
   },
   {
    "duration": 5669,
    "start_time": "2022-08-28T10:32:39.728Z"
   },
   {
    "duration": 533,
    "start_time": "2022-08-28T10:33:58.658Z"
   },
   {
    "duration": 3,
    "start_time": "2022-08-28T10:46:21.741Z"
   },
   {
    "duration": 478,
    "start_time": "2022-08-28T10:46:22.675Z"
   },
   {
    "duration": 2,
    "start_time": "2022-08-28T10:46:59.922Z"
   },
   {
    "duration": 555,
    "start_time": "2022-08-28T10:47:22.657Z"
   },
   {
    "duration": 19,
    "start_time": "2022-08-28T10:47:24.262Z"
   },
   {
    "duration": 3,
    "start_time": "2022-08-28T10:47:25.227Z"
   },
   {
    "duration": 7481,
    "start_time": "2022-08-28T10:47:26.175Z"
   },
   {
    "duration": 613,
    "start_time": "2022-08-28T10:47:33.659Z"
   },
   {
    "duration": 3,
    "start_time": "2022-08-28T10:48:31.160Z"
   },
   {
    "duration": 5733,
    "start_time": "2022-08-28T10:48:32.131Z"
   },
   {
    "duration": 617,
    "start_time": "2022-08-28T10:48:41.064Z"
   },
   {
    "duration": 5655,
    "start_time": "2022-08-28T10:50:10.250Z"
   },
   {
    "duration": 536,
    "start_time": "2022-08-28T11:16:04.500Z"
   },
   {
    "duration": 13,
    "start_time": "2022-08-28T11:16:05.147Z"
   },
   {
    "duration": 4,
    "start_time": "2022-08-28T11:16:05.788Z"
   },
   {
    "duration": 7038,
    "start_time": "2022-08-28T11:16:06.466Z"
   },
   {
    "duration": 665,
    "start_time": "2022-08-28T11:16:13.507Z"
   },
   {
    "duration": 617,
    "start_time": "2022-08-28T11:41:31.095Z"
   },
   {
    "duration": 13,
    "start_time": "2022-08-28T11:41:31.769Z"
   },
   {
    "duration": 5,
    "start_time": "2022-08-28T11:41:32.454Z"
   },
   {
    "duration": 6084,
    "start_time": "2022-08-28T11:41:33.330Z"
   },
   {
    "duration": 5776,
    "start_time": "2022-08-28T11:41:49.374Z"
   },
   {
    "duration": 498,
    "start_time": "2022-08-29T05:51:22.982Z"
   },
   {
    "duration": 9,
    "start_time": "2022-08-29T05:51:23.481Z"
   },
   {
    "duration": 14,
    "start_time": "2022-08-29T05:51:23.491Z"
   },
   {
    "duration": 4940,
    "start_time": "2022-08-29T05:51:23.507Z"
   },
   {
    "duration": 3946,
    "start_time": "2022-08-29T05:51:28.448Z"
   },
   {
    "duration": 2279,
    "start_time": "2022-08-29T05:51:43.142Z"
   }
  ],
  "kernelspec": {
   "display_name": "Python 3 (ipykernel)",
   "language": "python",
   "name": "python3"
  },
  "language_info": {
   "codemirror_mode": {
    "name": "ipython",
    "version": 3
   },
   "file_extension": ".py",
   "mimetype": "text/x-python",
   "name": "python",
   "nbconvert_exporter": "python",
   "pygments_lexer": "ipython3",
   "version": "3.9.7"
  },
  "toc": {
   "base_numbering": 1,
   "nav_menu": {},
   "number_sections": true,
   "sideBar": true,
   "skip_h1_title": true,
   "title_cell": "Table of Contents",
   "title_sidebar": "Contents",
   "toc_cell": false,
   "toc_position": {},
   "toc_section_display": true,
   "toc_window_display": false
  }
 },
 "nbformat": 4,
 "nbformat_minor": 5
}
