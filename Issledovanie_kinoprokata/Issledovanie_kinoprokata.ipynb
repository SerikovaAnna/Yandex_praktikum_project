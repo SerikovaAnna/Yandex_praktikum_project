{
 "cells": [
  {
   "cell_type": "markdown",
   "metadata": {
    "id": "sIfNaMOxgFyK"
   },
   "source": [
    "## Исследование данных о российском кинопрокате\n",
    "\n"
   ]
  },
  {
   "cell_type": "markdown",
   "metadata": {
    "id": "3bSlkCsbgFyL"
   },
   "source": [
    "### Шаг 1. Откройте файлы с данными и объедините их в один датафрейм. \n",
    "\n",
    "Объедините данные таким образом, чтобы все объекты из датасета `mkrf_movies` обязательно вошли в получившийся датафрейм. \n"
   ]
  },
  {
   "cell_type": "code",
   "execution_count": 1,
   "metadata": {
    "id": "dw87FlzMgFyM"
   },
   "outputs": [],
   "source": [
    "import pandas as pd\n",
    "import numpy as np\n",
    "import matplotlib.pyplot as plt\n",
    "import warnings\n",
    "\n",
    "warnings.filterwarnings(\"ignore\")"
   ]
  },
  {
   "cell_type": "code",
   "execution_count": 2,
   "metadata": {},
   "outputs": [],
   "source": [
    "pd.set_option('float_format', '{:,.2f}'.format)"
   ]
  },
  {
   "cell_type": "code",
   "execution_count": 3,
   "metadata": {},
   "outputs": [],
   "source": [
    "mkrf_movies = pd.read_csv('/datasets/mkrf_movies.csv')\n",
    "mkrf_shows = pd.read_csv('/datasets/mkrf_shows.csv')"
   ]
  },
  {
   "cell_type": "code",
   "execution_count": 4,
   "metadata": {},
   "outputs": [
    {
     "name": "stdout",
     "output_type": "stream",
     "text": [
      "<class 'pandas.core.frame.DataFrame'>\n",
      "RangeIndex: 7486 entries, 0 to 7485\n",
      "Data columns (total 15 columns):\n",
      " #   Column                 Non-Null Count  Dtype  \n",
      "---  ------                 --------------  -----  \n",
      " 0   title                  7486 non-null   object \n",
      " 1   puNumber               7486 non-null   object \n",
      " 2   show_start_date        7486 non-null   object \n",
      " 3   type                   7486 non-null   object \n",
      " 4   film_studio            7468 non-null   object \n",
      " 5   production_country     7484 non-null   object \n",
      " 6   director               7477 non-null   object \n",
      " 7   producer               6918 non-null   object \n",
      " 8   age_restriction        7486 non-null   object \n",
      " 9   refundable_support     332 non-null    float64\n",
      " 10  nonrefundable_support  332 non-null    float64\n",
      " 11  budget                 332 non-null    float64\n",
      " 12  financing_source       332 non-null    object \n",
      " 13  ratings                6519 non-null   object \n",
      " 14  genres                 6510 non-null   object \n",
      "dtypes: float64(3), object(12)\n",
      "memory usage: 877.4+ KB\n"
     ]
    }
   ],
   "source": [
    "mkrf_movies.info()"
   ]
  },
  {
   "cell_type": "markdown",
   "metadata": {},
   "source": [
    "Таблица mkrf_movies содержит информацию из реестра прокатных удостоверений. У одного фильма может быть несколько прокатных удостоверений. \n",
    "title — название фильма;  \n",
    "puNumber — номер прокатного удостоверения;  \n",
    "show_start_date — дата премьеры фильма;  \n",
    "type — тип фильма;  \n",
    "film_studio — студия-производитель;  \n",
    "production_country — страна-производитель;  \n",
    "director — режиссёр;  \n",
    "producer — продюсер;  \n",
    "age_restriction — возрастная категория;  \n",
    "refundable_support — объём возвратных средств государственной поддержки;  \n",
    "nonrefundable_support — объём невозвратных средств государственной поддержки;  \n",
    "financing_source — источник государственного финансирования;  \n",
    "budget — общий бюджет фильма;  \n",
    "ratings — рейтинг фильма на КиноПоиске;  \n",
    "genres — жанр фильма."
   ]
  },
  {
   "cell_type": "code",
   "execution_count": 5,
   "metadata": {},
   "outputs": [
    {
     "name": "stdout",
     "output_type": "stream",
     "text": [
      "<class 'pandas.core.frame.DataFrame'>\n",
      "RangeIndex: 3158 entries, 0 to 3157\n",
      "Data columns (total 2 columns):\n",
      " #   Column      Non-Null Count  Dtype  \n",
      "---  ------      --------------  -----  \n",
      " 0   puNumber    3158 non-null   int64  \n",
      " 1   box_office  3158 non-null   float64\n",
      "dtypes: float64(1), int64(1)\n",
      "memory usage: 49.5 KB\n"
     ]
    }
   ],
   "source": [
    "mkrf_shows.info()"
   ]
  },
  {
   "cell_type": "markdown",
   "metadata": {},
   "source": [
    "Таблица mkrf_shows содержит сведения о показах фильмов в российских кинотеатрах.  \n",
    "puNumber — номер прокатного удостоверения;  \n",
    "box_office — сборы в рублях."
   ]
  },
  {
   "cell_type": "markdown",
   "metadata": {},
   "source": [
    "Для того, чтобы \"склеить\" таблицы, необходимо привести столбец 'puNumber' к единому типу."
   ]
  },
  {
   "cell_type": "code",
   "execution_count": 6,
   "metadata": {},
   "outputs": [],
   "source": [
    "mkrf_shows['puNumber'] = mkrf_shows['puNumber'].astype('str')"
   ]
  },
  {
   "cell_type": "code",
   "execution_count": 7,
   "metadata": {},
   "outputs": [],
   "source": [
    "data = mkrf_movies.merge(mkrf_shows, on = 'puNumber', how = 'left')"
   ]
  },
  {
   "cell_type": "markdown",
   "metadata": {},
   "source": [
    "Проверяем кол-во строк в получившейся таблице"
   ]
  },
  {
   "cell_type": "code",
   "execution_count": 8,
   "metadata": {},
   "outputs": [
    {
     "data": {
      "text/plain": [
       "7486"
      ]
     },
     "execution_count": 8,
     "metadata": {},
     "output_type": "execute_result"
    }
   ],
   "source": [
    "len(data)"
   ]
  },
  {
   "cell_type": "code",
   "execution_count": 9,
   "metadata": {},
   "outputs": [
    {
     "data": {
      "text/plain": [
       "True"
      ]
     },
     "execution_count": 9,
     "metadata": {},
     "output_type": "execute_result"
    }
   ],
   "source": [
    "mkrf_shows['box_office'].count() == data['box_office'].count()"
   ]
  },
  {
   "cell_type": "markdown",
   "metadata": {
    "id": "KLDGpPG0gFyM"
   },
   "source": [
    "### Шаг 2. Предобработка данных"
   ]
  },
  {
   "cell_type": "markdown",
   "metadata": {
    "id": "ssWwKXsxgFyO"
   },
   "source": [
    "#### Шаг 2.1. Проверьте типы данных\n",
    "\n",
    "- Проверьте типы данных в датафрейме и преобразуйте их там, где это необходимо."
   ]
  },
  {
   "cell_type": "code",
   "execution_count": 10,
   "metadata": {
    "id": "kVGSplJOgFyO",
    "scrolled": true
   },
   "outputs": [
    {
     "name": "stdout",
     "output_type": "stream",
     "text": [
      "<class 'pandas.core.frame.DataFrame'>\n",
      "Int64Index: 7486 entries, 0 to 7485\n",
      "Data columns (total 16 columns):\n",
      " #   Column                 Non-Null Count  Dtype  \n",
      "---  ------                 --------------  -----  \n",
      " 0   title                  7486 non-null   object \n",
      " 1   puNumber               7486 non-null   object \n",
      " 2   show_start_date        7486 non-null   object \n",
      " 3   type                   7486 non-null   object \n",
      " 4   film_studio            7468 non-null   object \n",
      " 5   production_country     7484 non-null   object \n",
      " 6   director               7477 non-null   object \n",
      " 7   producer               6918 non-null   object \n",
      " 8   age_restriction        7486 non-null   object \n",
      " 9   refundable_support     332 non-null    float64\n",
      " 10  nonrefundable_support  332 non-null    float64\n",
      " 11  budget                 332 non-null    float64\n",
      " 12  financing_source       332 non-null    object \n",
      " 13  ratings                6519 non-null   object \n",
      " 14  genres                 6510 non-null   object \n",
      " 15  box_office             3158 non-null   float64\n",
      "dtypes: float64(4), object(12)\n",
      "memory usage: 994.2+ KB\n"
     ]
    }
   ],
   "source": [
    "data.info()"
   ]
  },
  {
   "cell_type": "code",
   "execution_count": 11,
   "metadata": {},
   "outputs": [
    {
     "data": {
      "text/html": [
       "<div>\n",
       "<style scoped>\n",
       "    .dataframe tbody tr th:only-of-type {\n",
       "        vertical-align: middle;\n",
       "    }\n",
       "\n",
       "    .dataframe tbody tr th {\n",
       "        vertical-align: top;\n",
       "    }\n",
       "\n",
       "    .dataframe thead th {\n",
       "        text-align: right;\n",
       "    }\n",
       "</style>\n",
       "<table border=\"1\" class=\"dataframe\">\n",
       "  <thead>\n",
       "    <tr style=\"text-align: right;\">\n",
       "      <th></th>\n",
       "      <th>count</th>\n",
       "      <th>unique</th>\n",
       "      <th>top</th>\n",
       "      <th>freq</th>\n",
       "      <th>mean</th>\n",
       "      <th>std</th>\n",
       "      <th>min</th>\n",
       "      <th>25%</th>\n",
       "      <th>50%</th>\n",
       "      <th>75%</th>\n",
       "      <th>max</th>\n",
       "    </tr>\n",
       "  </thead>\n",
       "  <tbody>\n",
       "    <tr>\n",
       "      <th>title</th>\n",
       "      <td>7486</td>\n",
       "      <td>6772</td>\n",
       "      <td>День святого Валентина_</td>\n",
       "      <td>5</td>\n",
       "      <td>NaN</td>\n",
       "      <td>NaN</td>\n",
       "      <td>NaN</td>\n",
       "      <td>NaN</td>\n",
       "      <td>NaN</td>\n",
       "      <td>NaN</td>\n",
       "      <td>NaN</td>\n",
       "    </tr>\n",
       "    <tr>\n",
       "      <th>puNumber</th>\n",
       "      <td>7486</td>\n",
       "      <td>7484</td>\n",
       "      <td>221054410</td>\n",
       "      <td>2</td>\n",
       "      <td>NaN</td>\n",
       "      <td>NaN</td>\n",
       "      <td>NaN</td>\n",
       "      <td>NaN</td>\n",
       "      <td>NaN</td>\n",
       "      <td>NaN</td>\n",
       "      <td>NaN</td>\n",
       "    </tr>\n",
       "    <tr>\n",
       "      <th>show_start_date</th>\n",
       "      <td>7486</td>\n",
       "      <td>1965</td>\n",
       "      <td>2010-12-17T12:00:00.000Z</td>\n",
       "      <td>96</td>\n",
       "      <td>NaN</td>\n",
       "      <td>NaN</td>\n",
       "      <td>NaN</td>\n",
       "      <td>NaN</td>\n",
       "      <td>NaN</td>\n",
       "      <td>NaN</td>\n",
       "      <td>NaN</td>\n",
       "    </tr>\n",
       "    <tr>\n",
       "      <th>type</th>\n",
       "      <td>7486</td>\n",
       "      <td>8</td>\n",
       "      <td>Художественный</td>\n",
       "      <td>4520</td>\n",
       "      <td>NaN</td>\n",
       "      <td>NaN</td>\n",
       "      <td>NaN</td>\n",
       "      <td>NaN</td>\n",
       "      <td>NaN</td>\n",
       "      <td>NaN</td>\n",
       "      <td>NaN</td>\n",
       "    </tr>\n",
       "    <tr>\n",
       "      <th>film_studio</th>\n",
       "      <td>7468</td>\n",
       "      <td>5490</td>\n",
       "      <td>Киностудия \"Мосфильм\"</td>\n",
       "      <td>341</td>\n",
       "      <td>NaN</td>\n",
       "      <td>NaN</td>\n",
       "      <td>NaN</td>\n",
       "      <td>NaN</td>\n",
       "      <td>NaN</td>\n",
       "      <td>NaN</td>\n",
       "      <td>NaN</td>\n",
       "    </tr>\n",
       "    <tr>\n",
       "      <th>production_country</th>\n",
       "      <td>7484</td>\n",
       "      <td>950</td>\n",
       "      <td>США</td>\n",
       "      <td>2172</td>\n",
       "      <td>NaN</td>\n",
       "      <td>NaN</td>\n",
       "      <td>NaN</td>\n",
       "      <td>NaN</td>\n",
       "      <td>NaN</td>\n",
       "      <td>NaN</td>\n",
       "      <td>NaN</td>\n",
       "    </tr>\n",
       "    <tr>\n",
       "      <th>director</th>\n",
       "      <td>7477</td>\n",
       "      <td>4811</td>\n",
       "      <td>О.Семёнова</td>\n",
       "      <td>47</td>\n",
       "      <td>NaN</td>\n",
       "      <td>NaN</td>\n",
       "      <td>NaN</td>\n",
       "      <td>NaN</td>\n",
       "      <td>NaN</td>\n",
       "      <td>NaN</td>\n",
       "      <td>NaN</td>\n",
       "    </tr>\n",
       "    <tr>\n",
       "      <th>producer</th>\n",
       "      <td>6918</td>\n",
       "      <td>5349</td>\n",
       "      <td>П.Смирнов</td>\n",
       "      <td>67</td>\n",
       "      <td>NaN</td>\n",
       "      <td>NaN</td>\n",
       "      <td>NaN</td>\n",
       "      <td>NaN</td>\n",
       "      <td>NaN</td>\n",
       "      <td>NaN</td>\n",
       "      <td>NaN</td>\n",
       "    </tr>\n",
       "    <tr>\n",
       "      <th>age_restriction</th>\n",
       "      <td>7486</td>\n",
       "      <td>5</td>\n",
       "      <td>«16+» - для детей старше 16 лет</td>\n",
       "      <td>2851</td>\n",
       "      <td>NaN</td>\n",
       "      <td>NaN</td>\n",
       "      <td>NaN</td>\n",
       "      <td>NaN</td>\n",
       "      <td>NaN</td>\n",
       "      <td>NaN</td>\n",
       "      <td>NaN</td>\n",
       "    </tr>\n",
       "    <tr>\n",
       "      <th>refundable_support</th>\n",
       "      <td>332.00</td>\n",
       "      <td>NaN</td>\n",
       "      <td>NaN</td>\n",
       "      <td>NaN</td>\n",
       "      <td>11,864,457.83</td>\n",
       "      <td>24,916,555.26</td>\n",
       "      <td>0.00</td>\n",
       "      <td>0.00</td>\n",
       "      <td>0.00</td>\n",
       "      <td>15,000,000.00</td>\n",
       "      <td>180,000,000.00</td>\n",
       "    </tr>\n",
       "    <tr>\n",
       "      <th>nonrefundable_support</th>\n",
       "      <td>332.00</td>\n",
       "      <td>NaN</td>\n",
       "      <td>NaN</td>\n",
       "      <td>NaN</td>\n",
       "      <td>48,980,988.89</td>\n",
       "      <td>59,980,117.92</td>\n",
       "      <td>0.00</td>\n",
       "      <td>25,000,000.00</td>\n",
       "      <td>30,000,000.00</td>\n",
       "      <td>40,375,000.00</td>\n",
       "      <td>400,000,000.00</td>\n",
       "    </tr>\n",
       "    <tr>\n",
       "      <th>budget</th>\n",
       "      <td>332.00</td>\n",
       "      <td>NaN</td>\n",
       "      <td>NaN</td>\n",
       "      <td>NaN</td>\n",
       "      <td>127,229,716.68</td>\n",
       "      <td>188,588,333.12</td>\n",
       "      <td>0.00</td>\n",
       "      <td>42,000,000.00</td>\n",
       "      <td>68,649,916.00</td>\n",
       "      <td>141,985,319.50</td>\n",
       "      <td>2,305,074,303.00</td>\n",
       "    </tr>\n",
       "    <tr>\n",
       "      <th>financing_source</th>\n",
       "      <td>332</td>\n",
       "      <td>3</td>\n",
       "      <td>Министерство культуры</td>\n",
       "      <td>164</td>\n",
       "      <td>NaN</td>\n",
       "      <td>NaN</td>\n",
       "      <td>NaN</td>\n",
       "      <td>NaN</td>\n",
       "      <td>NaN</td>\n",
       "      <td>NaN</td>\n",
       "      <td>NaN</td>\n",
       "    </tr>\n",
       "    <tr>\n",
       "      <th>ratings</th>\n",
       "      <td>6519</td>\n",
       "      <td>94</td>\n",
       "      <td>6.6</td>\n",
       "      <td>312</td>\n",
       "      <td>NaN</td>\n",
       "      <td>NaN</td>\n",
       "      <td>NaN</td>\n",
       "      <td>NaN</td>\n",
       "      <td>NaN</td>\n",
       "      <td>NaN</td>\n",
       "      <td>NaN</td>\n",
       "    </tr>\n",
       "    <tr>\n",
       "      <th>genres</th>\n",
       "      <td>6510</td>\n",
       "      <td>742</td>\n",
       "      <td>драма</td>\n",
       "      <td>476</td>\n",
       "      <td>NaN</td>\n",
       "      <td>NaN</td>\n",
       "      <td>NaN</td>\n",
       "      <td>NaN</td>\n",
       "      <td>NaN</td>\n",
       "      <td>NaN</td>\n",
       "      <td>NaN</td>\n",
       "    </tr>\n",
       "    <tr>\n",
       "      <th>box_office</th>\n",
       "      <td>3,158.00</td>\n",
       "      <td>NaN</td>\n",
       "      <td>NaN</td>\n",
       "      <td>NaN</td>\n",
       "      <td>76,478,696.16</td>\n",
       "      <td>240,353,122.82</td>\n",
       "      <td>0.00</td>\n",
       "      <td>86,239.00</td>\n",
       "      <td>2,327,987.55</td>\n",
       "      <td>23,979,671.02</td>\n",
       "      <td>3,073,568,690.79</td>\n",
       "    </tr>\n",
       "  </tbody>\n",
       "</table>\n",
       "</div>"
      ],
      "text/plain": [
       "                         count unique                              top  freq  \\\n",
       "title                     7486   6772          День святого Валентина_     5   \n",
       "puNumber                  7486   7484                        221054410     2   \n",
       "show_start_date           7486   1965         2010-12-17T12:00:00.000Z    96   \n",
       "type                      7486      8                   Художественный  4520   \n",
       "film_studio               7468   5490            Киностудия \"Мосфильм\"   341   \n",
       "production_country        7484    950                              США  2172   \n",
       "director                  7477   4811                       О.Семёнова    47   \n",
       "producer                  6918   5349                        П.Смирнов    67   \n",
       "age_restriction           7486      5  «16+» - для детей старше 16 лет  2851   \n",
       "refundable_support      332.00    NaN                              NaN   NaN   \n",
       "nonrefundable_support   332.00    NaN                              NaN   NaN   \n",
       "budget                  332.00    NaN                              NaN   NaN   \n",
       "financing_source           332      3            Министерство культуры   164   \n",
       "ratings                   6519     94                              6.6   312   \n",
       "genres                    6510    742                            драма   476   \n",
       "box_office            3,158.00    NaN                              NaN   NaN   \n",
       "\n",
       "                                mean            std  min           25%  \\\n",
       "title                            NaN            NaN  NaN           NaN   \n",
       "puNumber                         NaN            NaN  NaN           NaN   \n",
       "show_start_date                  NaN            NaN  NaN           NaN   \n",
       "type                             NaN            NaN  NaN           NaN   \n",
       "film_studio                      NaN            NaN  NaN           NaN   \n",
       "production_country               NaN            NaN  NaN           NaN   \n",
       "director                         NaN            NaN  NaN           NaN   \n",
       "producer                         NaN            NaN  NaN           NaN   \n",
       "age_restriction                  NaN            NaN  NaN           NaN   \n",
       "refundable_support     11,864,457.83  24,916,555.26 0.00          0.00   \n",
       "nonrefundable_support  48,980,988.89  59,980,117.92 0.00 25,000,000.00   \n",
       "budget                127,229,716.68 188,588,333.12 0.00 42,000,000.00   \n",
       "financing_source                 NaN            NaN  NaN           NaN   \n",
       "ratings                          NaN            NaN  NaN           NaN   \n",
       "genres                           NaN            NaN  NaN           NaN   \n",
       "box_office             76,478,696.16 240,353,122.82 0.00     86,239.00   \n",
       "\n",
       "                                50%            75%              max  \n",
       "title                           NaN            NaN              NaN  \n",
       "puNumber                        NaN            NaN              NaN  \n",
       "show_start_date                 NaN            NaN              NaN  \n",
       "type                            NaN            NaN              NaN  \n",
       "film_studio                     NaN            NaN              NaN  \n",
       "production_country              NaN            NaN              NaN  \n",
       "director                        NaN            NaN              NaN  \n",
       "producer                        NaN            NaN              NaN  \n",
       "age_restriction                 NaN            NaN              NaN  \n",
       "refundable_support             0.00  15,000,000.00   180,000,000.00  \n",
       "nonrefundable_support 30,000,000.00  40,375,000.00   400,000,000.00  \n",
       "budget                68,649,916.00 141,985,319.50 2,305,074,303.00  \n",
       "financing_source                NaN            NaN              NaN  \n",
       "ratings                         NaN            NaN              NaN  \n",
       "genres                          NaN            NaN              NaN  \n",
       "box_office             2,327,987.55  23,979,671.02 3,073,568,690.79  "
      ]
     },
     "execution_count": 11,
     "metadata": {},
     "output_type": "execute_result"
    }
   ],
   "source": [
    "data.describe(include = 'all').T"
   ]
  },
  {
   "cell_type": "markdown",
   "metadata": {},
   "source": [
    "Переводим столбец 'show_start_date' в формат даты"
   ]
  },
  {
   "cell_type": "code",
   "execution_count": 12,
   "metadata": {},
   "outputs": [],
   "source": [
    "data['show_start_date'] = pd.to_datetime(data['show_start_date'], format='%Y-%m-%d')"
   ]
  },
  {
   "cell_type": "markdown",
   "metadata": {},
   "source": [
    "Перевожу столбец 'ratings' в числовой формат, привожу данные рейтингов к единому виду. Из процентов в долю десяти."
   ]
  },
  {
   "cell_type": "code",
   "execution_count": 13,
   "metadata": {},
   "outputs": [],
   "source": [
    "data['ratings'] = data['ratings'].str.replace('%','').astype('float')"
   ]
  },
  {
   "cell_type": "code",
   "execution_count": 15,
   "metadata": {},
   "outputs": [
    {
     "data": {
      "text/plain": [
       "29"
      ]
     },
     "execution_count": 15,
     "metadata": {},
     "output_type": "execute_result"
    }
   ],
   "source": [
    "len(data.loc[data['ratings'] > 10])"
   ]
  },
  {
   "cell_type": "code",
   "execution_count": 16,
   "metadata": {},
   "outputs": [],
   "source": [
    "data.loc[(data['ratings'] > 10), 'ratings'] = np.nan"
   ]
  },
  {
   "cell_type": "markdown",
   "metadata": {
    "id": "i0MOLbF-gFyP"
   },
   "source": [
    "#### Шаг 2.2. Изучите пропуски в датафрейме\n",
    "\n",
    "- Объясните, почему заполнили пропуски определённым образом или почему не стали этого делать."
   ]
  },
  {
   "cell_type": "code",
   "execution_count": 17,
   "metadata": {
    "id": "8MJD_lkngFyP"
   },
   "outputs": [
    {
     "name": "stdout",
     "output_type": "stream",
     "text": [
      "title 0.0\n",
      "puNumber 0.0\n",
      "show_start_date 0.0\n",
      "type 0.0\n",
      "film_studio 0.0024044883783061713\n",
      "production_country 0.0002671653753673524\n",
      "director 0.0012022441891530857\n",
      "producer 0.07587496660432808\n",
      "age_restriction 0.0\n",
      "refundable_support 0.9556505476890195\n",
      "nonrefundable_support 0.9556505476890195\n",
      "budget 0.9556505476890195\n",
      "financing_source 0.9556505476890195\n",
      "ratings 0.13304835693294148\n",
      "genres 0.13037670317926797\n",
      "box_office 0.5781458722949506\n"
     ]
    }
   ],
   "source": [
    "for column in data.columns:\n",
    "    print(column, data[column].isna().mean())"
   ]
  },
  {
   "cell_type": "markdown",
   "metadata": {},
   "source": [
    "В столбцах 'film_studio', 'director' и 'genres' незаполненных строк меньше 1%. Для того чтобы в дальнейшем было удобнее использовать информацию из столбцов, заполняю пропуски отбивкой unknowen"
   ]
  },
  {
   "cell_type": "code",
   "execution_count": 18,
   "metadata": {},
   "outputs": [],
   "source": [
    "data['director'] = data['director'].fillna('Unknowen')"
   ]
  },
  {
   "cell_type": "code",
   "execution_count": 19,
   "metadata": {},
   "outputs": [],
   "source": [
    "data['film_studio'] = data['film_studio'].fillna('Unknowen')"
   ]
  },
  {
   "cell_type": "code",
   "execution_count": 20,
   "metadata": {},
   "outputs": [],
   "source": [
    "data['genres'] = data['genres'].fillna('Unknowen')"
   ]
  },
  {
   "cell_type": "markdown",
   "metadata": {},
   "source": [
    "В столбце 'production_country' всего два пропуска. И оба приходятся на серийные произведения. Если у остальных выпусков страна производства одинаковая, можно заполнить NaN аналогичными значениями"
   ]
  },
  {
   "cell_type": "code",
   "execution_count": 21,
   "metadata": {},
   "outputs": [
    {
     "data": {
      "text/html": [
       "<div>\n",
       "<style scoped>\n",
       "    .dataframe tbody tr th:only-of-type {\n",
       "        vertical-align: middle;\n",
       "    }\n",
       "\n",
       "    .dataframe tbody tr th {\n",
       "        vertical-align: top;\n",
       "    }\n",
       "\n",
       "    .dataframe thead th {\n",
       "        text-align: right;\n",
       "    }\n",
       "</style>\n",
       "<table border=\"1\" class=\"dataframe\">\n",
       "  <thead>\n",
       "    <tr style=\"text-align: right;\">\n",
       "      <th></th>\n",
       "      <th>title</th>\n",
       "      <th>puNumber</th>\n",
       "      <th>show_start_date</th>\n",
       "      <th>type</th>\n",
       "      <th>film_studio</th>\n",
       "      <th>production_country</th>\n",
       "      <th>director</th>\n",
       "      <th>producer</th>\n",
       "      <th>age_restriction</th>\n",
       "      <th>refundable_support</th>\n",
       "      <th>nonrefundable_support</th>\n",
       "      <th>budget</th>\n",
       "      <th>financing_source</th>\n",
       "      <th>ratings</th>\n",
       "      <th>genres</th>\n",
       "      <th>box_office</th>\n",
       "    </tr>\n",
       "  </thead>\n",
       "  <tbody>\n",
       "    <tr>\n",
       "      <th>3186</th>\n",
       "      <td>Детский юмористический киножурнал \"Ералаш. Ну ...</td>\n",
       "      <td>111001216</td>\n",
       "      <td>2016-02-09 12:00:00+00:00</td>\n",
       "      <td>Художественный</td>\n",
       "      <td>ООО \"Продюсерский центр ЕРАЛАШ\"</td>\n",
       "      <td>NaN</td>\n",
       "      <td>Р.Светлов, И.Магитон, А.Арутюнян, Л.Мирский, А...</td>\n",
       "      <td>ООО \"Продюсерский центр ЕРАЛАШ\"</td>\n",
       "      <td>«0+» - для любой зрительской аудитории</td>\n",
       "      <td>NaN</td>\n",
       "      <td>NaN</td>\n",
       "      <td>NaN</td>\n",
       "      <td>NaN</td>\n",
       "      <td>7.20</td>\n",
       "      <td>детский,комедия</td>\n",
       "      <td>194,527.00</td>\n",
       "    </tr>\n",
       "    <tr>\n",
       "      <th>4441</th>\n",
       "      <td>Мульт личности. Выпуск 5</td>\n",
       "      <td>214000410</td>\n",
       "      <td>2010-01-25 12:00:00+00:00</td>\n",
       "      <td>Художественный</td>\n",
       "      <td>Unknowen</td>\n",
       "      <td>NaN</td>\n",
       "      <td>Unknowen</td>\n",
       "      <td>NaN</td>\n",
       "      <td>«0+» - для любой зрительской аудитории</td>\n",
       "      <td>NaN</td>\n",
       "      <td>NaN</td>\n",
       "      <td>NaN</td>\n",
       "      <td>NaN</td>\n",
       "      <td>4.00</td>\n",
       "      <td>мультфильм,комедия</td>\n",
       "      <td>NaN</td>\n",
       "    </tr>\n",
       "  </tbody>\n",
       "</table>\n",
       "</div>"
      ],
      "text/plain": [
       "                                                  title   puNumber  \\\n",
       "3186  Детский юмористический киножурнал \"Ералаш. Ну ...  111001216   \n",
       "4441                           Мульт личности. Выпуск 5  214000410   \n",
       "\n",
       "               show_start_date            type  \\\n",
       "3186 2016-02-09 12:00:00+00:00  Художественный   \n",
       "4441 2010-01-25 12:00:00+00:00  Художественный   \n",
       "\n",
       "                          film_studio production_country  \\\n",
       "3186  ООО \"Продюсерский центр ЕРАЛАШ\"                NaN   \n",
       "4441                         Unknowen                NaN   \n",
       "\n",
       "                                               director  \\\n",
       "3186  Р.Светлов, И.Магитон, А.Арутюнян, Л.Мирский, А...   \n",
       "4441                                           Unknowen   \n",
       "\n",
       "                             producer                         age_restriction  \\\n",
       "3186  ООО \"Продюсерский центр ЕРАЛАШ\"  «0+» - для любой зрительской аудитории   \n",
       "4441                              NaN  «0+» - для любой зрительской аудитории   \n",
       "\n",
       "      refundable_support  nonrefundable_support  budget financing_source  \\\n",
       "3186                 NaN                    NaN     NaN              NaN   \n",
       "4441                 NaN                    NaN     NaN              NaN   \n",
       "\n",
       "      ratings              genres  box_office  \n",
       "3186     7.20     детский,комедия  194,527.00  \n",
       "4441     4.00  мультфильм,комедия         NaN  "
      ]
     },
     "execution_count": 21,
     "metadata": {},
     "output_type": "execute_result"
    }
   ],
   "source": [
    "data[data['production_country'].isna()]"
   ]
  },
  {
   "cell_type": "code",
   "execution_count": 22,
   "metadata": {},
   "outputs": [
    {
     "data": {
      "text/plain": [
       "array(['Россия'], dtype=object)"
      ]
     },
     "execution_count": 22,
     "metadata": {},
     "output_type": "execute_result"
    }
   ],
   "source": [
    "data[data['title'].str.contains('Детский юмористический киножурнал \"Ералаш\"', case=False)]['production_country'].unique()"
   ]
  },
  {
   "cell_type": "markdown",
   "metadata": {},
   "source": [
    "У аналогичных выпусков страна производства - Роccия. Заполняю пропуск этим значением."
   ]
  },
  {
   "cell_type": "code",
   "execution_count": 23,
   "metadata": {},
   "outputs": [],
   "source": [
    "data.loc[3186, 'production_country'] = 'Россия'"
   ]
  },
  {
   "cell_type": "code",
   "execution_count": 24,
   "metadata": {
    "scrolled": true
   },
   "outputs": [
    {
     "data": {
      "text/html": [
       "<div>\n",
       "<style scoped>\n",
       "    .dataframe tbody tr th:only-of-type {\n",
       "        vertical-align: middle;\n",
       "    }\n",
       "\n",
       "    .dataframe tbody tr th {\n",
       "        vertical-align: top;\n",
       "    }\n",
       "\n",
       "    .dataframe thead th {\n",
       "        text-align: right;\n",
       "    }\n",
       "</style>\n",
       "<table border=\"1\" class=\"dataframe\">\n",
       "  <thead>\n",
       "    <tr style=\"text-align: right;\">\n",
       "      <th></th>\n",
       "      <th>title</th>\n",
       "      <th>puNumber</th>\n",
       "      <th>show_start_date</th>\n",
       "      <th>type</th>\n",
       "      <th>film_studio</th>\n",
       "      <th>production_country</th>\n",
       "      <th>director</th>\n",
       "      <th>producer</th>\n",
       "      <th>age_restriction</th>\n",
       "      <th>refundable_support</th>\n",
       "      <th>nonrefundable_support</th>\n",
       "      <th>budget</th>\n",
       "      <th>financing_source</th>\n",
       "      <th>ratings</th>\n",
       "      <th>genres</th>\n",
       "      <th>box_office</th>\n",
       "    </tr>\n",
       "  </thead>\n",
       "  <tbody>\n",
       "    <tr>\n",
       "      <th>4441</th>\n",
       "      <td>Мульт личности. Выпуск 5</td>\n",
       "      <td>214000410</td>\n",
       "      <td>2010-01-25 12:00:00+00:00</td>\n",
       "      <td>Художественный</td>\n",
       "      <td>Unknowen</td>\n",
       "      <td>NaN</td>\n",
       "      <td>Unknowen</td>\n",
       "      <td>NaN</td>\n",
       "      <td>«0+» - для любой зрительской аудитории</td>\n",
       "      <td>NaN</td>\n",
       "      <td>NaN</td>\n",
       "      <td>NaN</td>\n",
       "      <td>NaN</td>\n",
       "      <td>4.00</td>\n",
       "      <td>мультфильм,комедия</td>\n",
       "      <td>NaN</td>\n",
       "    </tr>\n",
       "  </tbody>\n",
       "</table>\n",
       "</div>"
      ],
      "text/plain": [
       "                         title   puNumber           show_start_date  \\\n",
       "4441  Мульт личности. Выпуск 5  214000410 2010-01-25 12:00:00+00:00   \n",
       "\n",
       "                type film_studio production_country  director producer  \\\n",
       "4441  Художественный    Unknowen                NaN  Unknowen      NaN   \n",
       "\n",
       "                             age_restriction  refundable_support  \\\n",
       "4441  «0+» - для любой зрительской аудитории                 NaN   \n",
       "\n",
       "      nonrefundable_support  budget financing_source  ratings  \\\n",
       "4441                    NaN     NaN              NaN     4.00   \n",
       "\n",
       "                  genres  box_office  \n",
       "4441  мультфильм,комедия         NaN  "
      ]
     },
     "execution_count": 24,
     "metadata": {},
     "output_type": "execute_result"
    }
   ],
   "source": [
    "data[data['title'].str.contains('Мульт личности', case=False)]"
   ]
  },
  {
   "cell_type": "markdown",
   "metadata": {},
   "source": [
    "Интуиция и интернет, конечно, подсказывает, что Мульт Личности тоже Россия."
   ]
  },
  {
   "cell_type": "code",
   "execution_count": 25,
   "metadata": {},
   "outputs": [],
   "source": [
    "data.loc[4441, 'production_country'] = 'Россия'"
   ]
  },
  {
   "cell_type": "markdown",
   "metadata": {},
   "source": [
    "Пропусков в столбце 'producer' чуть больше 7%. Данные можно заполнить отбивкой 'Unknowen'"
   ]
  },
  {
   "cell_type": "code",
   "execution_count": 26,
   "metadata": {},
   "outputs": [],
   "source": [
    "data['producer'] = data['producer'].fillna('Unknowen')"
   ]
  },
  {
   "cell_type": "markdown",
   "metadata": {},
   "source": [
    "В столбце 'ratings' более 12% пропусков. Для того чтобы не влиять на среднюю оценку и не менять тип данных, оставляю пропуски."
   ]
  },
  {
   "cell_type": "code",
   "execution_count": 27,
   "metadata": {},
   "outputs": [
    {
     "data": {
      "text/plain": [
       "996"
      ]
     },
     "execution_count": 27,
     "metadata": {},
     "output_type": "execute_result"
    }
   ],
   "source": [
    "data['ratings'].isnull().sum()"
   ]
  },
  {
   "cell_type": "markdown",
   "metadata": {},
   "source": [
    "Пропусков в столбцах 'refundable_support', 'nonrefundable_support' и 'budget' более 95%. Для 'box_office' - этот процент чуть ниже 57% \n",
    "Для столбцов 'refundable_support' и 'nonrefundable_support' пропуски могут означать как отсутствие государственной поддержки, так и отсутствие информации об объёме вложенных средств. Пропуски в столбце 'budget' и 'box_office' вероятно также связаны с отсутствием информции. Восстановить такое кол-во значений медианами по имеющимся 5% информации невозможно. Заполнить значения строковыми (типа unknowen) - поменяет тип столбца и не даст возможность использовать его в расчётах. Заполнить нулями или отрицательными значениями - исказит данные при обработке, либо усложнит подсчёт, так как нужно будет постоянно исключать их из выборки. Так же в таблице присутствуют дубликаты, связанные с тем, что на фильм может быть выдано несколько прокатных лицензий. То есть строк у фильма может быть несколько, но значение гос.поддержки и бюджета может быть только одно. Указанные столбцы могут быть заполненны для конкртеной лицензии, а дублирование информации исказит данные при анализе. "
   ]
  },
  {
   "cell_type": "markdown",
   "metadata": {
    "id": "4c6k1t9ygFyQ"
   },
   "source": [
    "#### Шаг 2.3. Изучите дубликаты в датафрейме\n",
    "- Проверьте, есть ли в данных дубликаты. Опишите причины, которые могли повлиять на появление дублей."
   ]
  },
  {
   "cell_type": "code",
   "execution_count": 28,
   "metadata": {},
   "outputs": [
    {
     "data": {
      "text/plain": [
       "0"
      ]
     },
     "execution_count": 28,
     "metadata": {},
     "output_type": "execute_result"
    }
   ],
   "source": [
    "data.duplicated().sum()"
   ]
  },
  {
   "cell_type": "code",
   "execution_count": 29,
   "metadata": {},
   "outputs": [
    {
     "data": {
      "text/html": [
       "<div>\n",
       "<style scoped>\n",
       "    .dataframe tbody tr th:only-of-type {\n",
       "        vertical-align: middle;\n",
       "    }\n",
       "\n",
       "    .dataframe tbody tr th {\n",
       "        vertical-align: top;\n",
       "    }\n",
       "\n",
       "    .dataframe thead th {\n",
       "        text-align: right;\n",
       "    }\n",
       "</style>\n",
       "<table border=\"1\" class=\"dataframe\">\n",
       "  <thead>\n",
       "    <tr style=\"text-align: right;\">\n",
       "      <th></th>\n",
       "      <th>title</th>\n",
       "      <th>puNumber</th>\n",
       "      <th>show_start_date</th>\n",
       "      <th>type</th>\n",
       "      <th>film_studio</th>\n",
       "      <th>production_country</th>\n",
       "      <th>director</th>\n",
       "      <th>producer</th>\n",
       "      <th>age_restriction</th>\n",
       "      <th>refundable_support</th>\n",
       "      <th>nonrefundable_support</th>\n",
       "      <th>budget</th>\n",
       "      <th>financing_source</th>\n",
       "      <th>ratings</th>\n",
       "      <th>genres</th>\n",
       "      <th>box_office</th>\n",
       "    </tr>\n",
       "  </thead>\n",
       "  <tbody>\n",
       "    <tr>\n",
       "      <th>3</th>\n",
       "      <td>Особо опасен</td>\n",
       "      <td>221026916</td>\n",
       "      <td>2016-06-10 12:00:00+00:00</td>\n",
       "      <td>Художественный</td>\n",
       "      <td>Юниверсал Пикчерз, Кикстарт Продакшнз, Марк Пл...</td>\n",
       "      <td>США</td>\n",
       "      <td>Тимур Бекмамбетов</td>\n",
       "      <td>Джим Лемли, Джейсон Нетер, Марк Е.Платт, Яйн Смит</td>\n",
       "      <td>«18+» - запрещено для детей</td>\n",
       "      <td>NaN</td>\n",
       "      <td>NaN</td>\n",
       "      <td>NaN</td>\n",
       "      <td>NaN</td>\n",
       "      <td>6.80</td>\n",
       "      <td>фантастика,боевик,триллер</td>\n",
       "      <td>NaN</td>\n",
       "    </tr>\n",
       "    <tr>\n",
       "      <th>4</th>\n",
       "      <td>Особо опасен</td>\n",
       "      <td>221030815</td>\n",
       "      <td>2015-07-29 12:00:00+00:00</td>\n",
       "      <td>Художественный</td>\n",
       "      <td>Юниверсал Пикчерз, Кикстарт Продакшнз, Марк Пл...</td>\n",
       "      <td>США</td>\n",
       "      <td>Тимур Бекмамбетов</td>\n",
       "      <td>Джим Лемли, Джейсон Нетер, Марк Е.Платт, Яйн Смит</td>\n",
       "      <td>«18+» - запрещено для детей</td>\n",
       "      <td>NaN</td>\n",
       "      <td>NaN</td>\n",
       "      <td>NaN</td>\n",
       "      <td>NaN</td>\n",
       "      <td>6.80</td>\n",
       "      <td>фантастика,боевик,триллер</td>\n",
       "      <td>NaN</td>\n",
       "    </tr>\n",
       "    <tr>\n",
       "      <th>41</th>\n",
       "      <td>Алекс и Эмма</td>\n",
       "      <td>221004616</td>\n",
       "      <td>2016-02-09 12:00:00+00:00</td>\n",
       "      <td>Художественный</td>\n",
       "      <td>Эскейп Артистс, Франчайз Пикчерз, Рейнер-Грэйс...</td>\n",
       "      <td>США</td>\n",
       "      <td>Роб Райнер</td>\n",
       "      <td>Тодд Блэк, Элан Грейсман, Джереми Левен, Роб Р...</td>\n",
       "      <td>«16+» - для детей старше 16 лет</td>\n",
       "      <td>NaN</td>\n",
       "      <td>NaN</td>\n",
       "      <td>NaN</td>\n",
       "      <td>NaN</td>\n",
       "      <td>6.40</td>\n",
       "      <td>мелодрама,комедия</td>\n",
       "      <td>NaN</td>\n",
       "    </tr>\n",
       "    <tr>\n",
       "      <th>110</th>\n",
       "      <td>Гарри Поттер и орден Феникса /По роману Дж.К.Р...</td>\n",
       "      <td>121026316</td>\n",
       "      <td>2016-09-23 12:00:00+00:00</td>\n",
       "      <td>Художественный</td>\n",
       "      <td>Уорнер Бразерс, Хэйдей Филмз</td>\n",
       "      <td>США - Великобритания</td>\n",
       "      <td>Дэвид Йетс</td>\n",
       "      <td>Дэйвид Баррон, Дэйвид Хейман</td>\n",
       "      <td>«16+» - для детей старше 16 лет</td>\n",
       "      <td>NaN</td>\n",
       "      <td>NaN</td>\n",
       "      <td>NaN</td>\n",
       "      <td>NaN</td>\n",
       "      <td>7.70</td>\n",
       "      <td>фэнтези,приключения,семейный</td>\n",
       "      <td>759,526.00</td>\n",
       "    </tr>\n",
       "    <tr>\n",
       "      <th>113</th>\n",
       "      <td>Гарри Поттер и узник Азкабана /По роману Дж.К....</td>\n",
       "      <td>121026116</td>\n",
       "      <td>2016-09-23 12:00:00+00:00</td>\n",
       "      <td>Художественный</td>\n",
       "      <td>Хэйдей Филмз, 1492 Пикчерз, Уорнер Бразерс</td>\n",
       "      <td>США</td>\n",
       "      <td>Альфонсо Куарон</td>\n",
       "      <td>Майкл Барната</td>\n",
       "      <td>«12+» - для детей старше 12 лет</td>\n",
       "      <td>NaN</td>\n",
       "      <td>NaN</td>\n",
       "      <td>NaN</td>\n",
       "      <td>NaN</td>\n",
       "      <td>8.20</td>\n",
       "      <td>фэнтези,приключения,семейный</td>\n",
       "      <td>1,125,302.00</td>\n",
       "    </tr>\n",
       "    <tr>\n",
       "      <th>...</th>\n",
       "      <td>...</td>\n",
       "      <td>...</td>\n",
       "      <td>...</td>\n",
       "      <td>...</td>\n",
       "      <td>...</td>\n",
       "      <td>...</td>\n",
       "      <td>...</td>\n",
       "      <td>...</td>\n",
       "      <td>...</td>\n",
       "      <td>...</td>\n",
       "      <td>...</td>\n",
       "      <td>...</td>\n",
       "      <td>...</td>\n",
       "      <td>...</td>\n",
       "      <td>...</td>\n",
       "      <td>...</td>\n",
       "    </tr>\n",
       "    <tr>\n",
       "      <th>7369</th>\n",
       "      <td>Невиновен</td>\n",
       "      <td>111019319</td>\n",
       "      <td>2019-11-07 12:00:00+00:00</td>\n",
       "      <td>Художественный</td>\n",
       "      <td>ООО \"Кавказфильм\"</td>\n",
       "      <td>Россия</td>\n",
       "      <td>А.Емкужев</td>\n",
       "      <td>А.Емкужев, А.Хуажева, ООО \"Корпорация Русская ...</td>\n",
       "      <td>«16+» - для детей старше 16 лет</td>\n",
       "      <td>NaN</td>\n",
       "      <td>NaN</td>\n",
       "      <td>NaN</td>\n",
       "      <td>NaN</td>\n",
       "      <td>7.50</td>\n",
       "      <td>триллер,детектив,криминал</td>\n",
       "      <td>NaN</td>\n",
       "    </tr>\n",
       "    <tr>\n",
       "      <th>7416</th>\n",
       "      <td>Отель \"Гранд Будапешт\"</td>\n",
       "      <td>121035119</td>\n",
       "      <td>2019-12-13 12:00:00+00:00</td>\n",
       "      <td>Художественный</td>\n",
       "      <td>Американ Эмпирикал, Индиан Пэинтбраш, Скотт Ру...</td>\n",
       "      <td>Германия, США</td>\n",
       "      <td>Уэс Андерсен</td>\n",
       "      <td>Уэс Андерсон, Джереми Доусон, Стивен Рейлс</td>\n",
       "      <td>«16+» - для детей старше 16 лет</td>\n",
       "      <td>NaN</td>\n",
       "      <td>NaN</td>\n",
       "      <td>NaN</td>\n",
       "      <td>NaN</td>\n",
       "      <td>7.90</td>\n",
       "      <td>комедия,приключения,детектив</td>\n",
       "      <td>NaN</td>\n",
       "    </tr>\n",
       "    <tr>\n",
       "      <th>7438</th>\n",
       "      <td>Зверь</td>\n",
       "      <td>121035919</td>\n",
       "      <td>2019-12-05 12:00:00+00:00</td>\n",
       "      <td>Художественный</td>\n",
       "      <td>Студио энд Нью</td>\n",
       "      <td>Южная Корея</td>\n",
       "      <td>Ли Джон-хо</td>\n",
       "      <td>Чан Гён-ик, Чон Джи-хун, Пэк Кён сук</td>\n",
       "      <td>«18+» - запрещено для детей</td>\n",
       "      <td>NaN</td>\n",
       "      <td>NaN</td>\n",
       "      <td>NaN</td>\n",
       "      <td>NaN</td>\n",
       "      <td>6.50</td>\n",
       "      <td>триллер,драма</td>\n",
       "      <td>175,003.51</td>\n",
       "    </tr>\n",
       "    <tr>\n",
       "      <th>7450</th>\n",
       "      <td>В тихом омуте</td>\n",
       "      <td>121036919</td>\n",
       "      <td>2019-12-09 12:00:00+00:00</td>\n",
       "      <td>Художественный</td>\n",
       "      <td>Хэд Гир Филмз, Крео Филмз, Локал Хироу, Метрол...</td>\n",
       "      <td>США</td>\n",
       "      <td>Адам Рэндолл</td>\n",
       "      <td>Мэтт Уолдек</td>\n",
       "      <td>«18+» - запрещено для детей</td>\n",
       "      <td>NaN</td>\n",
       "      <td>NaN</td>\n",
       "      <td>NaN</td>\n",
       "      <td>NaN</td>\n",
       "      <td>6.80</td>\n",
       "      <td>триллер,криминал,детектив</td>\n",
       "      <td>NaN</td>\n",
       "    </tr>\n",
       "    <tr>\n",
       "      <th>7474</th>\n",
       "      <td>Вторжение</td>\n",
       "      <td>111022519</td>\n",
       "      <td>2019-12-23 12:00:00+00:00</td>\n",
       "      <td>Художественный</td>\n",
       "      <td>ООО \"Арт Пикчерс Студия\", ООО \"Водород 2011\"</td>\n",
       "      <td>Россия</td>\n",
       "      <td>Ф.Бондарчук</td>\n",
       "      <td>Ф.Бондарчук, М.Врубель, А.Андрющенко, Д.Рудовский</td>\n",
       "      <td>«12+» - для детей старше 12 лет</td>\n",
       "      <td>100,000,000.00</td>\n",
       "      <td>400,000,000.00</td>\n",
       "      <td>944,000,000.00</td>\n",
       "      <td>Фонд кино</td>\n",
       "      <td>5.70</td>\n",
       "      <td>фантастика,боевик</td>\n",
       "      <td>NaN</td>\n",
       "    </tr>\n",
       "  </tbody>\n",
       "</table>\n",
       "<p>714 rows × 16 columns</p>\n",
       "</div>"
      ],
      "text/plain": [
       "                                                  title   puNumber  \\\n",
       "3                                          Особо опасен  221026916   \n",
       "4                                          Особо опасен  221030815   \n",
       "41                                         Алекс и Эмма  221004616   \n",
       "110   Гарри Поттер и орден Феникса /По роману Дж.К.Р...  121026316   \n",
       "113   Гарри Поттер и узник Азкабана /По роману Дж.К....  121026116   \n",
       "...                                                 ...        ...   \n",
       "7369                                          Невиновен  111019319   \n",
       "7416                             Отель \"Гранд Будапешт\"  121035119   \n",
       "7438                                              Зверь  121035919   \n",
       "7450                                      В тихом омуте  121036919   \n",
       "7474                                          Вторжение  111022519   \n",
       "\n",
       "               show_start_date             type  \\\n",
       "3    2016-06-10 12:00:00+00:00   Художественный   \n",
       "4    2015-07-29 12:00:00+00:00   Художественный   \n",
       "41   2016-02-09 12:00:00+00:00   Художественный   \n",
       "110  2016-09-23 12:00:00+00:00   Художественный   \n",
       "113  2016-09-23 12:00:00+00:00   Художественный   \n",
       "...                        ...              ...   \n",
       "7369 2019-11-07 12:00:00+00:00   Художественный   \n",
       "7416 2019-12-13 12:00:00+00:00   Художественный   \n",
       "7438 2019-12-05 12:00:00+00:00   Художественный   \n",
       "7450 2019-12-09 12:00:00+00:00   Художественный   \n",
       "7474 2019-12-23 12:00:00+00:00   Художественный   \n",
       "\n",
       "                                            film_studio    production_country  \\\n",
       "3     Юниверсал Пикчерз, Кикстарт Продакшнз, Марк Пл...                   США   \n",
       "4     Юниверсал Пикчерз, Кикстарт Продакшнз, Марк Пл...                   США   \n",
       "41    Эскейп Артистс, Франчайз Пикчерз, Рейнер-Грэйс...                   США   \n",
       "110                        Уорнер Бразерс, Хэйдей Филмз  США - Великобритания   \n",
       "113          Хэйдей Филмз, 1492 Пикчерз, Уорнер Бразерс                   США   \n",
       "...                                                 ...                   ...   \n",
       "7369                                  ООО \"Кавказфильм\"                Россия   \n",
       "7416  Американ Эмпирикал, Индиан Пэинтбраш, Скотт Ру...         Германия, США   \n",
       "7438                                     Студио энд Нью           Южная Корея   \n",
       "7450  Хэд Гир Филмз, Крео Филмз, Локал Хироу, Метрол...                   США   \n",
       "7474       ООО \"Арт Пикчерс Студия\", ООО \"Водород 2011\"                Россия   \n",
       "\n",
       "               director                                           producer  \\\n",
       "3     Тимур Бекмамбетов  Джим Лемли, Джейсон Нетер, Марк Е.Платт, Яйн Смит   \n",
       "4     Тимур Бекмамбетов  Джим Лемли, Джейсон Нетер, Марк Е.Платт, Яйн Смит   \n",
       "41           Роб Райнер  Тодд Блэк, Элан Грейсман, Джереми Левен, Роб Р...   \n",
       "110          Дэвид Йетс                       Дэйвид Баррон, Дэйвид Хейман   \n",
       "113     Альфонсо Куарон                                      Майкл Барната   \n",
       "...                 ...                                                ...   \n",
       "7369          А.Емкужев  А.Емкужев, А.Хуажева, ООО \"Корпорация Русская ...   \n",
       "7416       Уэс Андерсен         Уэс Андерсон, Джереми Доусон, Стивен Рейлс   \n",
       "7438         Ли Джон-хо               Чан Гён-ик, Чон Джи-хун, Пэк Кён сук   \n",
       "7450       Адам Рэндолл                                        Мэтт Уолдек   \n",
       "7474        Ф.Бондарчук  Ф.Бондарчук, М.Врубель, А.Андрющенко, Д.Рудовский   \n",
       "\n",
       "                      age_restriction  refundable_support  \\\n",
       "3         «18+» - запрещено для детей                 NaN   \n",
       "4         «18+» - запрещено для детей                 NaN   \n",
       "41    «16+» - для детей старше 16 лет                 NaN   \n",
       "110   «16+» - для детей старше 16 лет                 NaN   \n",
       "113   «12+» - для детей старше 12 лет                 NaN   \n",
       "...                               ...                 ...   \n",
       "7369  «16+» - для детей старше 16 лет                 NaN   \n",
       "7416  «16+» - для детей старше 16 лет                 NaN   \n",
       "7438      «18+» - запрещено для детей                 NaN   \n",
       "7450      «18+» - запрещено для детей                 NaN   \n",
       "7474  «12+» - для детей старше 12 лет      100,000,000.00   \n",
       "\n",
       "      nonrefundable_support         budget financing_source  ratings  \\\n",
       "3                       NaN            NaN              NaN     6.80   \n",
       "4                       NaN            NaN              NaN     6.80   \n",
       "41                      NaN            NaN              NaN     6.40   \n",
       "110                     NaN            NaN              NaN     7.70   \n",
       "113                     NaN            NaN              NaN     8.20   \n",
       "...                     ...            ...              ...      ...   \n",
       "7369                    NaN            NaN              NaN     7.50   \n",
       "7416                    NaN            NaN              NaN     7.90   \n",
       "7438                    NaN            NaN              NaN     6.50   \n",
       "7450                    NaN            NaN              NaN     6.80   \n",
       "7474         400,000,000.00 944,000,000.00        Фонд кино     5.70   \n",
       "\n",
       "                            genres   box_office  \n",
       "3        фантастика,боевик,триллер          NaN  \n",
       "4        фантастика,боевик,триллер          NaN  \n",
       "41               мелодрама,комедия          NaN  \n",
       "110   фэнтези,приключения,семейный   759,526.00  \n",
       "113   фэнтези,приключения,семейный 1,125,302.00  \n",
       "...                            ...          ...  \n",
       "7369     триллер,детектив,криминал          NaN  \n",
       "7416  комедия,приключения,детектив          NaN  \n",
       "7438                 триллер,драма   175,003.51  \n",
       "7450     триллер,криминал,детектив          NaN  \n",
       "7474             фантастика,боевик          NaN  \n",
       "\n",
       "[714 rows x 16 columns]"
      ]
     },
     "execution_count": 29,
     "metadata": {},
     "output_type": "execute_result"
    }
   ],
   "source": [
    "data[data['title'].duplicated()]"
   ]
  },
  {
   "cell_type": "markdown",
   "metadata": {},
   "source": [
    "Как будто бы нет дубликатов. Есть повторяющиеся значения (около 9%) по названию фильмов, но это связано с тем, что на один фильм может быть выдано несколько прокатных удостверений."
   ]
  },
  {
   "cell_type": "markdown",
   "metadata": {
    "id": "52fOPrEBgFyQ"
   },
   "source": [
    "#### Шаг 2.4. Изучите категориальные значения\n",
    "\n",
    "- Посмотрите, какая общая проблема встречается почти во всех категориальных столбцах;\n",
    "- Исправьте проблемные значения в поле `type`.\n",
    "\n",
    "<div id=\"accordion\">\n",
    "    <div class=\"card\">\n",
    "        <div class=\"card-header\" id=\"headingThree\">\n",
    "            <button class=\"btn btn-link collapsed\" data-toggle=\"collapse\" data-target=\"#collapseHint_1\" aria-expanded=\"false\" aria-controls=\"collapseHint_1\">Подсказка</button>\n",
    "        </div>\n",
    "        <div id=\"collapseHint_1\" class=\"collapse\" aria-labelledby=\"headingThree\" data-parent=\"#accordion\">\n",
    "            <div class=\"card-body\">\n",
    "В поле <code>type</code> есть несколько значений, у которых появился пробел в начале строки. Самый простой способ их «починить» -- использовать метод <a href=\"https://pandas.pydata.org/docs/reference/api/pandas.Series.str.strip.html#pandas.Series.str.strip\">.str.strip</a>. Этот метод удаляет все пробелы, которые встречаются в начале и в конце строки. Применяют его таким образом:<br>\n",
    "<code>df['type'].str.strip()</code>\n",
    "            </div>\n",
    "        </div>\n",
    "    </div>\n",
    "</div>"
   ]
  },
  {
   "cell_type": "code",
   "execution_count": 30,
   "metadata": {
    "id": "aKck8RIdgFyQ"
   },
   "outputs": [
    {
     "data": {
      "text/plain": [
       "Художественный                4520\n",
       " Художественный               1389\n",
       "Анимационный                   828\n",
       "Прочие                         406\n",
       "Документальный                 288\n",
       "Научно-популярный               53\n",
       " Анимационный                    1\n",
       "Музыкально-развлекательный       1\n",
       "Name: type, dtype: int64"
      ]
     },
     "execution_count": 30,
     "metadata": {},
     "output_type": "execute_result"
    }
   ],
   "source": [
    "data['type'].value_counts()"
   ]
  },
  {
   "cell_type": "markdown",
   "metadata": {},
   "source": [
    "Дубликаты в столбце 'type' вероятно связаны с опечаткой при заполнении данных. Заменяю эти значения."
   ]
  },
  {
   "cell_type": "code",
   "execution_count": 32,
   "metadata": {},
   "outputs": [],
   "source": [
    "data['type'] = data['type'].str.strip()"
   ]
  },
  {
   "cell_type": "code",
   "execution_count": 33,
   "metadata": {
    "id": "PnXKIVdFgFyR"
   },
   "outputs": [
    {
     "data": {
      "text/plain": [
       "221054410    2\n",
       "221154310    2\n",
       "112025418    1\n",
       "121008316    1\n",
       "114001410    1\n",
       "            ..\n",
       "224021210    1\n",
       "221097110    1\n",
       "124000512    1\n",
       "121023816    1\n",
       "121028517    1\n",
       "Name: puNumber, Length: 7484, dtype: int64"
      ]
     },
     "execution_count": 33,
     "metadata": {},
     "output_type": "execute_result"
    }
   ],
   "source": [
    "data['puNumber'].value_counts()"
   ]
  },
  {
   "cell_type": "markdown",
   "metadata": {},
   "source": [
    "Две прокатные лицензии дважды встречаются в данных."
   ]
  },
  {
   "cell_type": "code",
   "execution_count": 34,
   "metadata": {},
   "outputs": [
    {
     "data": {
      "text/html": [
       "<div>\n",
       "<style scoped>\n",
       "    .dataframe tbody tr th:only-of-type {\n",
       "        vertical-align: middle;\n",
       "    }\n",
       "\n",
       "    .dataframe tbody tr th {\n",
       "        vertical-align: top;\n",
       "    }\n",
       "\n",
       "    .dataframe thead th {\n",
       "        text-align: right;\n",
       "    }\n",
       "</style>\n",
       "<table border=\"1\" class=\"dataframe\">\n",
       "  <thead>\n",
       "    <tr style=\"text-align: right;\">\n",
       "      <th></th>\n",
       "      <th>title</th>\n",
       "      <th>puNumber</th>\n",
       "      <th>show_start_date</th>\n",
       "      <th>type</th>\n",
       "      <th>film_studio</th>\n",
       "      <th>production_country</th>\n",
       "      <th>director</th>\n",
       "      <th>producer</th>\n",
       "      <th>age_restriction</th>\n",
       "      <th>refundable_support</th>\n",
       "      <th>nonrefundable_support</th>\n",
       "      <th>budget</th>\n",
       "      <th>financing_source</th>\n",
       "      <th>ratings</th>\n",
       "      <th>genres</th>\n",
       "      <th>box_office</th>\n",
       "    </tr>\n",
       "  </thead>\n",
       "  <tbody>\n",
       "    <tr>\n",
       "      <th>4638</th>\n",
       "      <td>Как жениться и остаться холостым</td>\n",
       "      <td>221154310</td>\n",
       "      <td>2010-12-17 12:00:00+00:00</td>\n",
       "      <td>Художественный</td>\n",
       "      <td>Ше Вам, Скрипт Ассосье, Тэ Фэ 1 Фильм Продюксь...</td>\n",
       "      <td>Франция</td>\n",
       "      <td>Эрик Лартиго</td>\n",
       "      <td>Амандин Било, Алан Шаба</td>\n",
       "      <td>«16+» - для детей старше 16 лет</td>\n",
       "      <td>NaN</td>\n",
       "      <td>NaN</td>\n",
       "      <td>NaN</td>\n",
       "      <td>NaN</td>\n",
       "      <td>7.00</td>\n",
       "      <td>мелодрама,комедия</td>\n",
       "      <td>NaN</td>\n",
       "    </tr>\n",
       "    <tr>\n",
       "      <th>4639</th>\n",
       "      <td>Иоанна - женщина на папском престоле /По роман...</td>\n",
       "      <td>221154310</td>\n",
       "      <td>2010-12-17 12:00:00+00:00</td>\n",
       "      <td>Художественный</td>\n",
       "      <td>Константин Фильм, А Эр Ди Дегето Фильм, Дюне ...</td>\n",
       "      <td>Германия - Великобритания - Италия - Испания</td>\n",
       "      <td>Зенке Вортманн</td>\n",
       "      <td>Оливер Бербен, Дорис Д.Хайнце, Фарук Элтан</td>\n",
       "      <td>«16+» - для детей старше 16 лет</td>\n",
       "      <td>NaN</td>\n",
       "      <td>NaN</td>\n",
       "      <td>NaN</td>\n",
       "      <td>NaN</td>\n",
       "      <td>7.60</td>\n",
       "      <td>драма,мелодрама,история</td>\n",
       "      <td>NaN</td>\n",
       "    </tr>\n",
       "    <tr>\n",
       "      <th>5067</th>\n",
       "      <td>Анализируй это!</td>\n",
       "      <td>221054410</td>\n",
       "      <td>2010-05-25 12:00:00+00:00</td>\n",
       "      <td>Художественный</td>\n",
       "      <td>Уорнер Бразерс, Вилладж Роудшоу Филмз ЛТД</td>\n",
       "      <td>США-Австралия</td>\n",
       "      <td>ХЭрольд Рэмис</td>\n",
       "      <td>Джейн Розенталь, Пола Уейнстейн</td>\n",
       "      <td>«16+» - для детей старше 16 лет</td>\n",
       "      <td>NaN</td>\n",
       "      <td>NaN</td>\n",
       "      <td>NaN</td>\n",
       "      <td>NaN</td>\n",
       "      <td>7.40</td>\n",
       "      <td>комедия,криминал</td>\n",
       "      <td>NaN</td>\n",
       "    </tr>\n",
       "    <tr>\n",
       "      <th>5068</th>\n",
       "      <td>Анализируй то!</td>\n",
       "      <td>221054410</td>\n",
       "      <td>2010-05-25 12:00:00+00:00</td>\n",
       "      <td>Художественный</td>\n",
       "      <td>Уорнер Бразерс, Виллидж Роадшоу Пикчерз, Эн-Пи...</td>\n",
       "      <td>США</td>\n",
       "      <td>Гарольд Реймис</td>\n",
       "      <td>Джейн Розенталь, Паул Уэйнстейн</td>\n",
       "      <td>«12+» - для детей старше 12 лет</td>\n",
       "      <td>NaN</td>\n",
       "      <td>NaN</td>\n",
       "      <td>NaN</td>\n",
       "      <td>NaN</td>\n",
       "      <td>6.80</td>\n",
       "      <td>комедия,криминал</td>\n",
       "      <td>NaN</td>\n",
       "    </tr>\n",
       "  </tbody>\n",
       "</table>\n",
       "</div>"
      ],
      "text/plain": [
       "                                                  title   puNumber  \\\n",
       "4638                   Как жениться и остаться холостым  221154310   \n",
       "4639  Иоанна - женщина на папском престоле /По роман...  221154310   \n",
       "5067                                    Анализируй это!  221054410   \n",
       "5068                                     Анализируй то!  221054410   \n",
       "\n",
       "               show_start_date            type  \\\n",
       "4638 2010-12-17 12:00:00+00:00  Художественный   \n",
       "4639 2010-12-17 12:00:00+00:00  Художественный   \n",
       "5067 2010-05-25 12:00:00+00:00  Художественный   \n",
       "5068 2010-05-25 12:00:00+00:00  Художественный   \n",
       "\n",
       "                                            film_studio  \\\n",
       "4638  Ше Вам, Скрипт Ассосье, Тэ Фэ 1 Фильм Продюксь...   \n",
       "4639   Константин Фильм, А Эр Ди Дегето Фильм, Дюне ...   \n",
       "5067          Уорнер Бразерс, Вилладж Роудшоу Филмз ЛТД   \n",
       "5068  Уорнер Бразерс, Виллидж Роадшоу Пикчерз, Эн-Пи...   \n",
       "\n",
       "                                production_country        director  \\\n",
       "4638                                       Франция    Эрик Лартиго   \n",
       "4639  Германия - Великобритания - Италия - Испания  Зенке Вортманн   \n",
       "5067                                 США-Австралия   ХЭрольд Рэмис   \n",
       "5068                                           США  Гарольд Реймис   \n",
       "\n",
       "                                        producer  \\\n",
       "4638                     Амандин Било, Алан Шаба   \n",
       "4639  Оливер Бербен, Дорис Д.Хайнце, Фарук Элтан   \n",
       "5067             Джейн Розенталь, Пола Уейнстейн   \n",
       "5068             Джейн Розенталь, Паул Уэйнстейн   \n",
       "\n",
       "                      age_restriction  refundable_support  \\\n",
       "4638  «16+» - для детей старше 16 лет                 NaN   \n",
       "4639  «16+» - для детей старше 16 лет                 NaN   \n",
       "5067  «16+» - для детей старше 16 лет                 NaN   \n",
       "5068  «12+» - для детей старше 12 лет                 NaN   \n",
       "\n",
       "      nonrefundable_support  budget financing_source  ratings  \\\n",
       "4638                    NaN     NaN              NaN     7.00   \n",
       "4639                    NaN     NaN              NaN     7.60   \n",
       "5067                    NaN     NaN              NaN     7.40   \n",
       "5068                    NaN     NaN              NaN     6.80   \n",
       "\n",
       "                       genres  box_office  \n",
       "4638        мелодрама,комедия         NaN  \n",
       "4639  драма,мелодрама,история         NaN  \n",
       "5067         комедия,криминал         NaN  \n",
       "5068         комедия,криминал         NaN  "
      ]
     },
     "execution_count": 34,
     "metadata": {},
     "output_type": "execute_result"
    }
   ],
   "source": [
    "data[(data['puNumber'] == '221054410') | (data['puNumber'] == '221154310')]"
   ]
  },
  {
   "cell_type": "markdown",
   "metadata": {},
   "source": [
    "Фильмы разные. На сколько я понимаю, эта ситуация нестандартная, так как одно прокатное удостверение не может быть выдано на два разных фильма. Удаляю эти строки."
   ]
  },
  {
   "cell_type": "code",
   "execution_count": 35,
   "metadata": {},
   "outputs": [],
   "source": [
    "data.drop(labels = [4638, 4639, 5067, 5068], axis = 0, inplace = True)"
   ]
  },
  {
   "cell_type": "markdown",
   "metadata": {},
   "source": [
    "Рассмотрим значения в столбце 'puNumber'"
   ]
  },
  {
   "cell_type": "code",
   "execution_count": 36,
   "metadata": {},
   "outputs": [
    {
     "data": {
      "text/plain": [
       "804      111004112\n",
       "3962     111000110\n",
       "4768     111000111\n",
       "729      111000112\n",
       "1128     111000113\n",
       "           ...    \n",
       "4355     226017410\n",
       "3992     226019110\n",
       "1011     231001012\n",
       "5249     231001111\n",
       "1797           нет\n",
       "Name: puNumber, Length: 7482, dtype: object"
      ]
     },
     "execution_count": 36,
     "metadata": {},
     "output_type": "execute_result"
    }
   ],
   "source": [
    "data['puNumber'].sort_values()"
   ]
  },
  {
   "cell_type": "code",
   "execution_count": 37,
   "metadata": {},
   "outputs": [
    {
     "data": {
      "text/html": [
       "<div>\n",
       "<style scoped>\n",
       "    .dataframe tbody tr th:only-of-type {\n",
       "        vertical-align: middle;\n",
       "    }\n",
       "\n",
       "    .dataframe tbody tr th {\n",
       "        vertical-align: top;\n",
       "    }\n",
       "\n",
       "    .dataframe thead th {\n",
       "        text-align: right;\n",
       "    }\n",
       "</style>\n",
       "<table border=\"1\" class=\"dataframe\">\n",
       "  <thead>\n",
       "    <tr style=\"text-align: right;\">\n",
       "      <th></th>\n",
       "      <th>title</th>\n",
       "      <th>puNumber</th>\n",
       "      <th>show_start_date</th>\n",
       "      <th>type</th>\n",
       "      <th>film_studio</th>\n",
       "      <th>production_country</th>\n",
       "      <th>director</th>\n",
       "      <th>producer</th>\n",
       "      <th>age_restriction</th>\n",
       "      <th>refundable_support</th>\n",
       "      <th>nonrefundable_support</th>\n",
       "      <th>budget</th>\n",
       "      <th>financing_source</th>\n",
       "      <th>ratings</th>\n",
       "      <th>genres</th>\n",
       "      <th>box_office</th>\n",
       "    </tr>\n",
       "  </thead>\n",
       "  <tbody>\n",
       "    <tr>\n",
       "      <th>1797</th>\n",
       "      <td>Курбан-роман. (История с жертвой)</td>\n",
       "      <td>нет</td>\n",
       "      <td>2014-05-15 12:00:00+00:00</td>\n",
       "      <td>Художественный</td>\n",
       "      <td>ФОНД \"ИННОВАЦИЯ\"</td>\n",
       "      <td>Россия</td>\n",
       "      <td>С.Юзеев</td>\n",
       "      <td>М.Галицкая</td>\n",
       "      <td>«12+» - для детей старше 12 лет</td>\n",
       "      <td>NaN</td>\n",
       "      <td>NaN</td>\n",
       "      <td>NaN</td>\n",
       "      <td>NaN</td>\n",
       "      <td>NaN</td>\n",
       "      <td>Unknowen</td>\n",
       "      <td>NaN</td>\n",
       "    </tr>\n",
       "  </tbody>\n",
       "</table>\n",
       "</div>"
      ],
      "text/plain": [
       "                                  title puNumber           show_start_date  \\\n",
       "1797  Курбан-роман. (История с жертвой)      нет 2014-05-15 12:00:00+00:00   \n",
       "\n",
       "                type       film_studio production_country director  \\\n",
       "1797  Художественный  ФОНД \"ИННОВАЦИЯ\"             Россия  С.Юзеев   \n",
       "\n",
       "        producer                  age_restriction  refundable_support  \\\n",
       "1797  М.Галицкая  «12+» - для детей старше 12 лет                 NaN   \n",
       "\n",
       "      nonrefundable_support  budget financing_source  ratings    genres  \\\n",
       "1797                    NaN     NaN              NaN      NaN  Unknowen   \n",
       "\n",
       "      box_office  \n",
       "1797         NaN  "
      ]
     },
     "execution_count": 37,
     "metadata": {},
     "output_type": "execute_result"
    }
   ],
   "source": [
    "data[data['puNumber'] == 'нет']"
   ]
  },
  {
   "cell_type": "code",
   "execution_count": 38,
   "metadata": {},
   "outputs": [
    {
     "data": {
      "text/html": [
       "<div>\n",
       "<style scoped>\n",
       "    .dataframe tbody tr th:only-of-type {\n",
       "        vertical-align: middle;\n",
       "    }\n",
       "\n",
       "    .dataframe tbody tr th {\n",
       "        vertical-align: top;\n",
       "    }\n",
       "\n",
       "    .dataframe thead th {\n",
       "        text-align: right;\n",
       "    }\n",
       "</style>\n",
       "<table border=\"1\" class=\"dataframe\">\n",
       "  <thead>\n",
       "    <tr style=\"text-align: right;\">\n",
       "      <th></th>\n",
       "      <th>title</th>\n",
       "      <th>puNumber</th>\n",
       "      <th>show_start_date</th>\n",
       "      <th>type</th>\n",
       "      <th>film_studio</th>\n",
       "      <th>production_country</th>\n",
       "      <th>director</th>\n",
       "      <th>producer</th>\n",
       "      <th>age_restriction</th>\n",
       "      <th>refundable_support</th>\n",
       "      <th>nonrefundable_support</th>\n",
       "      <th>budget</th>\n",
       "      <th>financing_source</th>\n",
       "      <th>ratings</th>\n",
       "      <th>genres</th>\n",
       "      <th>box_office</th>\n",
       "    </tr>\n",
       "  </thead>\n",
       "  <tbody>\n",
       "    <tr>\n",
       "      <th>1797</th>\n",
       "      <td>Курбан-роман. (История с жертвой)</td>\n",
       "      <td>нет</td>\n",
       "      <td>2014-05-15 12:00:00+00:00</td>\n",
       "      <td>Художественный</td>\n",
       "      <td>ФОНД \"ИННОВАЦИЯ\"</td>\n",
       "      <td>Россия</td>\n",
       "      <td>С.Юзеев</td>\n",
       "      <td>М.Галицкая</td>\n",
       "      <td>«12+» - для детей старше 12 лет</td>\n",
       "      <td>NaN</td>\n",
       "      <td>NaN</td>\n",
       "      <td>NaN</td>\n",
       "      <td>NaN</td>\n",
       "      <td>NaN</td>\n",
       "      <td>Unknowen</td>\n",
       "      <td>NaN</td>\n",
       "    </tr>\n",
       "    <tr>\n",
       "      <th>2078</th>\n",
       "      <td>Курбан-роман. (История с жертвой).</td>\n",
       "      <td>111009614</td>\n",
       "      <td>2014-09-02 12:00:00+00:00</td>\n",
       "      <td>Художественный</td>\n",
       "      <td>ФОНД \"ИННОВАЦИЯ\"</td>\n",
       "      <td>Россия</td>\n",
       "      <td>С.Юзеев</td>\n",
       "      <td>М.Галицкая</td>\n",
       "      <td>«12+» - для детей старше 12 лет</td>\n",
       "      <td>NaN</td>\n",
       "      <td>NaN</td>\n",
       "      <td>NaN</td>\n",
       "      <td>NaN</td>\n",
       "      <td>NaN</td>\n",
       "      <td>Unknowen</td>\n",
       "      <td>0.00</td>\n",
       "    </tr>\n",
       "  </tbody>\n",
       "</table>\n",
       "</div>"
      ],
      "text/plain": [
       "                                   title   puNumber           show_start_date  \\\n",
       "1797   Курбан-роман. (История с жертвой)        нет 2014-05-15 12:00:00+00:00   \n",
       "2078  Курбан-роман. (История с жертвой).  111009614 2014-09-02 12:00:00+00:00   \n",
       "\n",
       "                type       film_studio production_country director  \\\n",
       "1797  Художественный  ФОНД \"ИННОВАЦИЯ\"             Россия  С.Юзеев   \n",
       "2078  Художественный  ФОНД \"ИННОВАЦИЯ\"             Россия  С.Юзеев   \n",
       "\n",
       "        producer                  age_restriction  refundable_support  \\\n",
       "1797  М.Галицкая  «12+» - для детей старше 12 лет                 NaN   \n",
       "2078  М.Галицкая  «12+» - для детей старше 12 лет                 NaN   \n",
       "\n",
       "      nonrefundable_support  budget financing_source  ratings    genres  \\\n",
       "1797                    NaN     NaN              NaN      NaN  Unknowen   \n",
       "2078                    NaN     NaN              NaN      NaN  Unknowen   \n",
       "\n",
       "      box_office  \n",
       "1797         NaN  \n",
       "2078        0.00  "
      ]
     },
     "execution_count": 38,
     "metadata": {},
     "output_type": "execute_result"
    }
   ],
   "source": [
    "data[data['title'].str.contains('Курбан-роман', case=False)]"
   ]
  },
  {
   "cell_type": "markdown",
   "metadata": {},
   "source": [
    "Судя по всему, фильм не с первого раза получил прокатное удостверение, либо оно было отозано. Строку удаляю."
   ]
  },
  {
   "cell_type": "code",
   "execution_count": 39,
   "metadata": {},
   "outputs": [],
   "source": [
    "data.drop(labels = [1797], axis = 0, inplace = True)"
   ]
  },
  {
   "cell_type": "code",
   "execution_count": 40,
   "metadata": {},
   "outputs": [
    {
     "data": {
      "text/plain": [
       "array(['Тачстоун Пикчерз, Кобальт Пикчерз, Бикон Пикчерз, Тиг Продакшнз',\n",
       "       'Киностудия \"Мосфильм\"',\n",
       "       'Юниверсал Пикчерз, Кикстарт Продакшнз, Марк Платт Продакшнз, Рилейтивити Медиа, Спайгласс Интертейнмент, Стилкин Филмз, Топ Кау Продакшнз',\n",
       "       ...,\n",
       "       'Дэниел Гродник Продакшнз, Вандерфилм Медиа Корпорэйшн, Импринт Интертейнмент, Вор Хорс Интертейнмент, Пимиента ',\n",
       "       'Никелодеон Анимейшн Студиос, Спин Мастер',\n",
       "       'Анимаккорд Лтд., ООО Студия \"АНИМАККОРД\"'], dtype=object)"
      ]
     },
     "execution_count": 40,
     "metadata": {},
     "output_type": "execute_result"
    }
   ],
   "source": [
    "data['film_studio'].unique()"
   ]
  },
  {
   "cell_type": "code",
   "execution_count": 41,
   "metadata": {},
   "outputs": [
    {
     "data": {
      "text/plain": [
       "array(['США', 'СССР', 'Франция', 'СССР, Венгрия',\n",
       "       'Германия-Великобритания', 'Великобритания - Италия',\n",
       "       'Чехословакия', 'США - Франция - Турция', 'Новая Зеландия',\n",
       "       'Канада - Франция - Испания', 'США-Германия',\n",
       "       'США - Великобритания', 'Великобритания', 'США - Германия',\n",
       "       'Франция - Мексика - США', 'Россия, Казахстан, США',\n",
       "       'СССР, Швеция', 'СССР, Франция, Англия, Куба, ГДР', 'Германия',\n",
       "       'Великобритания-США-Германия-КНР',\n",
       "       'СССР, ЧССР, Западный Берлин, ПНР', 'СССР, Италия', 'Гонконг, КНР',\n",
       "       'США - Франция', 'США - Япония - Франция - Великобритания',\n",
       "       'Гонконг - Сингапур - Таиланд - Великобритания', 'США-Канада',\n",
       "       'Франция - Италия - Великобритания - США', 'Франция - США',\n",
       "       'Ирландия-Великобритания-Германия', 'Чехия', 'США-Австралия',\n",
       "       'СССР, Финляндия', 'США-Франция-Великобритания-Австрия',\n",
       "       'США - Бельгия', 'США - Ирландия - Великобритания',\n",
       "       'Великобритания - США',\n",
       "       'Люксембург - Нидерланды - Испания - Великобритания - США - Италия',\n",
       "       'Великобритания - Франция - США', 'Новая Зеландия - США',\n",
       "       'США - Великобритания - Чехия',\n",
       "       'Канада - Франция - Великобритания', 'Ирландия',\n",
       "       'Великобритания - Германия - США',\n",
       "       'США - Франция - Великобритания', 'Япония', 'СССР, Польша',\n",
       "       'Франция - Испания', 'Канада-Франция', 'Германия - Италия - США',\n",
       "       'Аргентина - Бразилия', 'Дания - Швейцария - Бельгия - Франция',\n",
       "       'США - Испания', 'Германия - США',\n",
       "       'Франция - Австрия - Германия - Италия - США', 'Австрия',\n",
       "       'США - Канада - Германия', 'США - Канада',\n",
       "       'СССР - Швейцария - Франция', 'Россия - Казахстан', 'Гонконг',\n",
       "       'Италия', 'США - ОАЭ', 'Россия',\n",
       "       'США - Франция - Испания - Великобритания',\n",
       "       'Великобритания - Франция', 'США-Италия-Испания-Аргентина',\n",
       "       'Франция-Великобритания', 'КНР - Гонконг',\n",
       "       'Франция - Италия - Швейцария', 'США - Новая Зеландия',\n",
       "       'Франция - Бельгия', 'КНР', 'Германия - Великобритания - Австрия',\n",
       "       'Великобритания - Израиль - Франция - Япония - США', 'Швеция',\n",
       "       'Испания', 'Дания', 'Франция - Бельгия - Люксембург',\n",
       "       'США - Индия - ОАЭ',\n",
       "       'Германия-Канада-Великобритания-Швейцария-Франция',\n",
       "       'Мексика - Чили', 'Аргентина', 'Бразилия', 'Чили', 'Австралия',\n",
       "       'Португалия - Франция', 'США - ЮАР', 'Исландия-Ирландия-Германия',\n",
       "       'США-Индонезия', 'Южная Корея', 'Мексика - Испания - Дания - США',\n",
       "       'Великобритания-США', 'Франция - Италия', 'США-Франция',\n",
       "       'США - Венгрия - Великобритания', 'Бельгия-Франция-Италия',\n",
       "       'Чехия - Германия', 'Германия - Франция', 'США-Нидерланды',\n",
       "       'Украина', 'Великобритания - Германия', 'Франция-Бельгия',\n",
       "       'США-Франция-Испания', 'Италия - Франция', 'Канада',\n",
       "       'Швеция-Франция-Дания', 'Германия-Франция-Польша',\n",
       "       'Франция-Великобритания - Германия',\n",
       "       'США - Бразилия - Франция - Австралия - Великобритания - Германия',\n",
       "       'Германия-Австрия', 'Германия-Италия- Шри-Ланка',\n",
       "       'Великобритания - Испания',\n",
       "       'США - Великобритания - Канада - Швеция',\n",
       "       'Босния и Герцеговина - Франция - Великобритания - Германия - Словения - Бельгия - Сербия',\n",
       "       'Великобритания - Франция - Италия - США', 'США-ОАЭ',\n",
       "       'Испания - Франция', 'США-Великобритания', 'США-ЮАР',\n",
       "       'Великобритания-Австралия - США',\n",
       "       'Норвегия - Швеция - Дания - Германия', 'Норвегия', 'Швейцария',\n",
       "       'Греция - Германия - Франция', 'Норвения', 'Южная Корея - США',\n",
       "       'Чили - Франция - США', 'Австрия - Германия - Франция',\n",
       "       'Швеция - Дания', 'Великобритания - Франция - Бельгия - Италия',\n",
       "       'Франция - Германия', 'Грузия - Франция - Люксембург',\n",
       "       'США - Франция - Великобритания - Бразилия ', 'США - КНР',\n",
       "       'Мексика - Франция', 'США - Германия - Гонконг - Сингапур',\n",
       "       'Финляндия - Австрия - Россия', 'Испания - Куба',\n",
       "       'Великобритания - ЮАР', 'Великобритания - Ирландия', 'Израиль',\n",
       "       'Бразилия - Германия - Порртугалия - Франция ',\n",
       "       'Франция - Канада - Бельгия', 'Франция-Испания',\n",
       "       'Испания - Канада - Япония', 'Иран', 'Швеция-Куба',\n",
       "       'США-Великобритания-Ирландия', 'Гонконг - КНР', 'Нидерланды',\n",
       "       'Испания - Канада', 'Япония-Великобритания',\n",
       "       'Великобритания - Норвегия - Дания - Германия',\n",
       "       'Финляндия - Франция - Германия',\n",
       "       'Мексика - Франция - Нидерланды - Германия', 'США - Индия',\n",
       "       'США-Великобритания-Индия', 'США-Канада-Бельгия',\n",
       "       'Республика Узбекистан', 'Италия ', 'Турция',\n",
       "       'Сербия - Словения - Хорватия - Черногория - Македония',\n",
       "       'Киргизия', 'Германия - Нидерланды - Беларусь - Россия - Латвия',\n",
       "       'Индия', 'Нидерланды - Россия - Германия',\n",
       "       'Великобритания - Нидерланды - Франция - Хорватия',\n",
       "       'Канада - Южная Корея',\n",
       "       'Великобритания - Польша - КНР - Индия - Норвегия',\n",
       "       'Япония - Франция - США - Южная Корея - Турция',\n",
       "       'Мексика - Аргентина - Великобритания', 'Израиль - Франция',\n",
       "       'Польша - Португалия - Франция - Великобритания',\n",
       "       'Австралия - США', 'США - Великобритания ',\n",
       "       'Франция - Люксембург - Бельгия', 'Армения',\n",
       "       'Бельгия - Люксембург - Франция - Швейцария',\n",
       "       'США - Великобритания - Канада', 'Норвегия - Швеция',\n",
       "       'Канада - Франция', 'КНР - Гонконг - США',\n",
       "       'США - Сингапур - Малайзия - Индонезия', 'Германия - Россия',\n",
       "       'Япония - Канада', 'Финляндия - Дания - Германия - Ирландия',\n",
       "       'Франция - Люксембург - Германия - Бельгия - Швейцария - Великобритания ',\n",
       "       'Канада - США', 'США-Италия-Испания', 'США-Испания',\n",
       "       'США - Швейцария - Франция', 'Испания - США - Колумбия',\n",
       "       'Канада-ЮАР', 'Франция - Россия',\n",
       "       'Германия - Финляндия - Австралия', 'Дания - Швеция', 'Бельгия',\n",
       "       'Германия - Франция - Австрия', 'Франция-Индия', 'ЮАР',\n",
       "       'Франция-Перу', 'Франция - Канада', 'Республика Беларусь',\n",
       "       'Великобритания - Австрия - Франция - США',\n",
       "       'Австрия-Германия-Франция', 'США-Россия', 'Германия-США',\n",
       "       'США - Южная Корея', 'Канада - КНР',\n",
       "       'Дания - Швеция - Италия - Франция - Германия',\n",
       "       'Франция-Италия-Испания-Венгрия', 'Франция - Германия - Бельгия',\n",
       "       'Франция-Великобритания-Чехия', 'Румыния - Франция - Бельгия',\n",
       "       'Болгария - Франция - Изриль',\n",
       "       'Израиль - Германия - Польша - Бельгия - Франция - Люксембург',\n",
       "       'Россия, Германия, Франция, Бельгия', 'Индонезия',\n",
       "       'Франция - Португалия', 'Великобритания - Пуэрто-Рико',\n",
       "       'СССР, ФРГ, Западный Берлин', 'Россия, Республика Беларусь',\n",
       "       'США, Великобритания', 'Франция - Австрия', 'Бельгия-Нидерланды',\n",
       "       'Великобритания - США - Индия', 'США - Великобритания - Австралия',\n",
       "       'Канада - Франция - США - ОАЭ - Великобритания',\n",
       "       'США - Австралия - Франция',\n",
       "       'Дания-Франция-Бельгия-Германия-Великобритания',\n",
       "       'Испания - Аргентина', 'Исландия - Финляндия',\n",
       "       'Россия-Польша-Голландия-Словакия', 'Дания - Германия - Швеция',\n",
       "       'Южная Корея - США - Канада', 'Таиланд', 'США-Мальта',\n",
       "       'США -Германия',\n",
       "       'Великобритания - Германия - Франция - Кипр - США', 'Мексика',\n",
       "       'США - Великобритания - Ирландия', 'США - Украина',\n",
       "       'США - Финляндия - Испания - Великобритания - Франция',\n",
       "       'Австралия-Великобритания',\n",
       "       'США - Канада - Афганистан - Бельгия - Франция',\n",
       "       'США - Великобритания - Германия - Новая Зеландия - Бельгия - Франция',\n",
       "       'Франция-Канада',\n",
       "       'Ирландия - Финляндия - Бельгия - Великобритания - США - Швейцария',\n",
       "       'Малайзия - США', 'Германия - Италия',\n",
       "       'США - Франция - Бельгия - Италия', 'Франция - Ирландия - Швеция',\n",
       "       'Азербайджан-Россия', 'Великобритания - Италия - Швейцария',\n",
       "       'США - Германия - Великобритания',\n",
       "       'Германия - Бельгия - США -Франция', 'США-Китай', 'Чили - Испания',\n",
       "       'Франция - Швейцария', 'Канада - Испания',\n",
       "       'США - Румыния - Великобритания', 'США - Япония',\n",
       "       'США - Россия - Франция', 'Франция-США', 'Парагвай',\n",
       "       'Германия - Канада', 'США - Канада - Великобритания',\n",
       "       'Финляндия - Канада', 'Уругвай-Мексика-Германия ', 'США - Чили',\n",
       "       'Германия - Аргентина - Нидерланды - Чили',\n",
       "       'США - Канада - Индонезия', 'Армения - Казахстан', 'Финляндия',\n",
       "       'Испания - Италия - Франция',\n",
       "       'Бельгия - Испания - Канада - Нидерланды',\n",
       "       'Великобритания - Франция - Швеция - Бельгия',\n",
       "       'Мексика - Эквадор - Канада - США - Франция - Малайзия - Италия - Аргентина - Германия - Индия  ',\n",
       "       'Франция - Бенльгия', 'Индия - Великобритания',\n",
       "       'Япония - Великобритания - Франция',\n",
       "       'Испания - Уругвай - Аргентина',\n",
       "       'Франция - Италия - Бельгия - Люксембург',\n",
       "       'Франция - Украина - Грузия - Армения',\n",
       "       'Сербия - Германия - Венгрия', 'Франция-Польша', 'Франция ',\n",
       "       'Румыния-США', 'Россия-Азербайджан',\n",
       "       'США - Нидерланды - Бельгия - Венгрия - Греция - Канада',\n",
       "       'Германия - Франция - Люксембург', 'США - Россия',\n",
       "       'Великобритания - США - Франция', 'США - Австралия - Дания',\n",
       "       'Бельгия-Франция', 'США-Мексика',\n",
       "       'Норвегия - Азербайджан - Россия - Колумбия - Великобритания - Венгрия - Румыния - Франция - Грузия',\n",
       "       'СЩА', 'Бразилия - Испания', 'Россия, Франция, Латвия',\n",
       "       'Нидерланды - США - Германия - Канада - Франция - Ирландия - Великобритания',\n",
       "       'Уругвай - Колумбия', 'США - Испания - Болгария',\n",
       "       'Армения - Германия', 'США - Великобритания- Франция - Швеция',\n",
       "       'США - Мексика', 'Австралия-Турция-США', 'Швеция - Германия',\n",
       "       'Польша - Италия - Россия', 'Франция - Бразилия',\n",
       "       'США - Канада - КНР', 'СССР, Венгрия, ЧССР, ГДР',\n",
       "       'Бельгия - Германия - Люксембург', 'СССР  ', 'СССР ', ' СССР ',\n",
       "       'США - Австралия', 'Бразилия - США',\n",
       "       'США - Великобритания - Канада - КНР', 'Франция - Чили',\n",
       "       'Франция - США - Великобритания - Колумбия - Бельгия - Россия',\n",
       "       'Дания - Великобритания - ЮАР', 'СССР   ',\n",
       "       'Россия-США-Канада-Люксембург', 'Россия - Республика Кипр',\n",
       "       'Германия - США - Швеция - Франция',\n",
       "       'Великобритания-Германия-Канада-ЮАР', ' СССР   ', 'СССР     ',\n",
       "       'Ирландия, Канада',\n",
       "       'Япония - Великобритания - Швейцария - Ирландия - Дания - Франция - Польша - Австралия - Канада  ',\n",
       "       'Великобритания, Канада', 'Бельгия - США',\n",
       "       'Великобритания - США - Россия', 'Россия-Украина',\n",
       "       'Германия - США - Великобритания - Израиль', 'Канада - Германия',\n",
       "       'США- Ю.Корея', 'Индия - Мексика',\n",
       "       'Великобритания - Франция - Республика Кипр - Швейцария - США - Сербия',\n",
       "       'Испания - Аргентина - Индия - США',\n",
       "       'Норвегия - Исландия - США - Великобритания ',\n",
       "       'Турция - Германя - Франция', 'Германия - Великобритания',\n",
       "       'Австралия - Германия', 'Мексика - Испания',\n",
       "       'Великобритания - США - Германия - Бельгия',\n",
       "       'США - Чехия - Франция', 'Россия - Италия', 'Франция-Россия',\n",
       "       'Норвегия - Дания - Швеция', 'Франция - Швейцария - Германия',\n",
       "       'Грузия - Украина', 'Россия - Эстония - Финляндия - Беларусь',\n",
       "       'США - Франция - ЮАР', 'Великобритания - США - Швейцария',\n",
       "       'Канада-США', 'Мексика - Нидерланды - Германия - Франция',\n",
       "       'США - Испания - Франция', 'США - Великобритания - КНР',\n",
       "       'США-Франция-Канада',\n",
       "       'Япония, Великобритания, Австрия, Германия, Ю.Корея',\n",
       "       'Великобритания - Ирландия - США', 'Бельгия - Италия - Франция ',\n",
       "       'Швейцария-Германия-ЮАР', 'Великобритания - США - Германия',\n",
       "       'Германия - Исландия', 'Испания - США', 'СССР    ', 'Хорватия',\n",
       "       'Финляндия - Исландия - Швеция',\n",
       "       'Канада - США - Германия - Франция',\n",
       "       'США - Великобритания - Испания', 'Ирландия-Великобритания',\n",
       "       'Аргентина - Испания', 'Австрия - Германия', ' СССР',\n",
       "       'Германия - Швейцария - Франция - Южная Корея - США',\n",
       "       'Украина - Нидерланды', 'Венгрия - Германия - Швеция',\n",
       "       'Германия - Франция -  Польша - Турция - Канада - Италия - Россия ',\n",
       "       'СССР, Афганистан', 'СССР, Монголия', 'Россия-Кипр',\n",
       "       'Россия, Грузия, Испания',\n",
       "       'Великобритания - Нидерланды - Германия - Франция - Бельгия - Австрия ',\n",
       "       'Испания - Великобритания - Франция',\n",
       "       'Дания - Норвегия - Великобритания',\n",
       "       'Бельгия - Франция - Люксембург',\n",
       "       'Италия - Франция - Швейцария - Великобритания',\n",
       "       'Франция - Бельгия - Великобритания - Испания - Германия - США',\n",
       "       'Швейцария - Израиль - Франция - Великобритания',\n",
       "       'Великобритания - США - Канада - Нидерланды - Франция',\n",
       "       'Россия, Италия', 'СССР, Албания',\n",
       "       'Россия, Украина, Республика Беларусь, Литва',\n",
       "       'Финляндия - Великобритания - Германия', 'Россия, Украина, Польша',\n",
       "       'Франция - Италия - Бельгия - КНР',\n",
       "       'Германия - Бельгия - Люксембург - Ирландия', 'КНР - Сингапур',\n",
       "       'Франция - Бельгия - Великобритания - США - Нидерланды - Канада',\n",
       "       'США - Россия - Польша - Германия - Пуэрто Рико',\n",
       "       'Франция - Бельгия - Канада', 'США ', 'Мексика - США',\n",
       "       'США - Гонконг - КНР ', 'Греция - Россия',\n",
       "       'Ирландия - Дания - Бельгия - Люксембург - Франция',\n",
       "       'Эстония - Россия',\n",
       "       'Великобритания - Исландия - Испания - Швейцария - США',\n",
       "       'Австралия - Великобритания - Бельгия - Индия',\n",
       "       'Швеция - Германия - Франция - Норвегия',\n",
       "       'Нидерланды - Бельгия - Германия - Ирландия',\n",
       "       'Нидерланды - Великобритания - Бельгия',\n",
       "       'США - Колумбия - Испания', 'Франция-Испания-Бельгия-Панама',\n",
       "       'США-Великобритания-Чехия-Румыния',\n",
       "       'Аргентина - Уругвай - Россия - Германия - Франция - Нидерланды',\n",
       "       'Швеция - Франция - Норвегия - Дания',\n",
       "       'Италия-Франция-Великобритания', 'Великобритания, Франция',\n",
       "       'Австралия, США', 'Венесуэла',\n",
       "       'Великобритания - США - Австралия - Ирландия - Германия - Куба - Канада',\n",
       "       'Южная Корея - КНР',\n",
       "       'Аргентина - Мексика - Бразилия - Франция - США', 'Швеция - США',\n",
       "       'Франция - Германия - Турция - Катар', 'Франция-Китай',\n",
       "       'Россия, Германия, Великобритания',\n",
       "       'Великобритания - Италия - Испания', 'Италия - Россия',\n",
       "       'Япония - КНР - Южная Корея', 'Россия, Германия',\n",
       "       'Россия-Ирландия', 'Македония - Франция - Великобритания',\n",
       "       'Франция - Бразилия - Италия', 'Россия-США', 'Армения-Россия',\n",
       "       'Россия, Румыния', 'Франция -  Бельгия', 'Грузия-Франция',\n",
       "       'ЮАР - США', 'Великобритания-США-Франция',\n",
       "       'Великобритания - США - Германия - Канада - Австралия',\n",
       "       'США-Ирландия', 'Россия, Республика Кипр',\n",
       "       'Германия - Люксембург - Франция', 'Россия-Франция',\n",
       "       'США - Нидерланды - Финляндия - Великобритания - Италия',\n",
       "       'Республика Кипр', 'Венгрия', 'Франция - США - Норвегия - Дания',\n",
       "       'Германия - Австрия - Ирландия', 'США - Финляндия',\n",
       "       'Италия-Великобритания', 'Россия, Испания',\n",
       "       'США - Великобритания - Болгария', 'Великобритания - Люксембург',\n",
       "       'Индия - США', 'США - Канада - Россия - Франция - Чили - Ирландия',\n",
       "       'Грузия-Россия',\n",
       "       'Дания - Австрия - Ирландия - Финляндия - Норвегия - Швеция - Нидерланды',\n",
       "       'США-КНР', 'Грузия', 'Австралия - Ирландия',\n",
       "       'Великобритания - Канада', 'Италия - Аргентина - Словения ',\n",
       "       'Испания - Франция - Нидерланды - Германия - Бельгия - Великобритания - Канада',\n",
       "       'Франция - Чехия - Бельгия',\n",
       "       'Великобритания - Франция - Германия - США',\n",
       "       'Ирландия - Великобритания - Франция - США - Германия - Нидерланды',\n",
       "       'США - Канада - Япония - КНР', 'Италия-Франция',\n",
       "       'США - Великобритания - Исландия', 'Великобритания-Франция',\n",
       "       'Франция - Германия - Нидерланды', 'Иран ',\n",
       "       'Франция - Германия - Швеция - США - Чехия - Словакия - Великобритания - Нидерланды',\n",
       "       'Франция - Канада - Н.Зеландия - США - Нидерланды - Германия - Швеция - Россия',\n",
       "       'Турция - США',\n",
       "       'Великобритания - США - Канада - Бельгия - Нидерланды - Австрия - Германия',\n",
       "       'Израиль - Франция - Германия - Палестина - США - Австрия - Великобритания',\n",
       "       'Аргентина - Франция - Испания', 'СССР, Россия',\n",
       "       'Великобритания - Франция - Италия - Индия - Дания - КНР - Бангладеш - Камбоджа - Гаити - Уганда',\n",
       "       'Италия - Франция - Швейцария',\n",
       "       'Ирландия - Великобритания - Канада', 'Перу', 'США - Норвегия',\n",
       "       'Испания-Канада', 'Китай-Гонконг', 'США - Германия - КНР',\n",
       "       'Великобритания - Новая Зеландия',\n",
       "       'Франция - Дания - Швеция - КНР',\n",
       "       'США - Великобритания - Германия - Бельгия - Дания',\n",
       "       'США - Франция - Канада - Германия - Австралия - Индия',\n",
       "       'СССР, Румыния, Франция', 'СССР, ГДР', 'Австралия-Ирландия',\n",
       "       'США - Китай', 'Великобритания - Франция - Австрия - Швеция',\n",
       "       'Россия, Таджикистан', 'Нидерланды - Бельгия - Болгария',\n",
       "       'Великобритания - Канада - США', 'Франция - Бельгия - Испания',\n",
       "       'Китай-Гонконг-США', 'Франция - Великобритания', 'США - Вьетнам',\n",
       "       'США - Германия - Франция', 'Германия - Франция - Бельгия',\n",
       "       'США - Италия',\n",
       "       'Германия - Дания - Испания - Швеция - Канада - Эстония - Франция',\n",
       "       'Княжество Андорра - Украина', 'Германия - Люксембург - Бельгия',\n",
       "       'Великобритания - Россия - Украина - США',\n",
       "       'Германия - Бельгия - Люксембург - Норвегия',\n",
       "       'США - Австралия - Новая Зеландия - Великобритания',\n",
       "       'США - Франция - Канада - Великобритания', 'Испания-Колумбия',\n",
       "       'Великобритания - Чехия - Франция', 'Россия, Украина', 'Исландия',\n",
       "       'Великобритания - Франция - Венгрия',\n",
       "       'Россия, Франция, Германия, Бельгия', 'Франция - Македония',\n",
       "       'Нидерланды - Франция - Германия - Бельгия - Швеция - Великобритания',\n",
       "       'Испания - США - Великобритания - Канада', 'Германия - Австрия',\n",
       "       'Республика Казахстан',\n",
       "       'Франция - Испания - Дания - Венгрия - Швейцария', 'Франция-КНР',\n",
       "       'США - Пуэрто-Рико - Франция ', 'Мексика - Тайвань - США',\n",
       "       'Великобритания - Испания - Непал - Индия - Венгрия - Гонконг - Германия - Дания - Бахрейн',\n",
       "       'Великобритания - Аргентина - США - Франция - Россия - Испания',\n",
       "       'КНР - США', 'Италия - США', 'Финляндия - Швеция - Германия',\n",
       "       'Канада- Испания', 'Франция - Бельгия - Чехия',\n",
       "       'Франция-Бельгия-Канада', 'Франция - Германия - США',\n",
       "       'США - Дания', 'Индия - КНР', 'Чехия-Великобритания-США',\n",
       "       'США-ФРГ-Россия', 'Ирландия-Нидерланды-Франция-США-Великобритания',\n",
       "       'Россия, Грузия, Хорватия, Испания',\n",
       "       'Финляндия - Швеция - Норвегия', 'Сербия - Великобритания - США',\n",
       "       'США - Великобритания - Франция - Гонконг', 'Швейцария - Франция',\n",
       "       'Швейцария - Великобритания', 'ОАЭ - США',\n",
       "       'США - Франция - Германия - Канада - Австралия ',\n",
       "       'Германия - Австралия', 'Иран, Франция',\n",
       "       'США - Великобритания - Новая Зеландия', 'США-Колумбия',\n",
       "       'США-Франция-Ирландия', 'Великобритания - Франция - Бельгия',\n",
       "       'США - Великобритания - Япония', 'США - Франция - Германия',\n",
       "       'Польша - Ирландия', 'Ирландия - Великобритания - Франция - США',\n",
       "       'США - Бельгия - Великобритания', 'СССР, ВНР',\n",
       "       'Испания - Франция - США - Великобритания - Бельгия',\n",
       "       'Франция - Дания - США', 'США - Гонконг', 'Бразилия - К;анада',\n",
       "       'Франция-Германия', 'США - Колумбия',\n",
       "       'США - Ирландия - Великобритания - Франция',\n",
       "       'Великобритания - США - Канада', 'Польша - Франция',\n",
       "       'Канада - США - Нидерланды - Великобритания - Аргентина',\n",
       "       'Великобритания - Дания', 'Франция - Бельгия - Япония',\n",
       "       'Россия,  Испания', 'Франция -Бельгия',\n",
       "       'США - Канада - Германия - Франция', 'США-Канада-Франция',\n",
       "       'Россия - Германия', 'Россия-Италия', 'Китай - Гонконг',\n",
       "       'Германия-Австрия-Франция-Италия', 'США-Япония',\n",
       "       'США - Германия - Канада', 'Испания-Мексика',\n",
       "       'США - Япония - Канада - Великобритания - Германия - Франция',\n",
       "       'США -Великобритания - Австралия', 'Россия-Украина-Германия',\n",
       "       'Израиль - Франция - Великобритания - Германия', 'Корея',\n",
       "       'Россия - Болгария', 'США-Индия',\n",
       "       'Германия-Канада-Франция-Бельгия', 'Германия-Кения',\n",
       "       'Франция - Монако', 'Франция-Испания-Швейцария',\n",
       "       'Австрия-Франция-Германия', 'Румыния',\n",
       "       'США-Великобритания-Франция', 'Канада-Великобритания',\n",
       "       'Канада-Бразилия-Япония', 'Германия - Дания - Норвегия',\n",
       "       'Дания - Германия', 'СССР - Италия',\n",
       "       'СССР - ГДР - Польша - Италия',\n",
       "       'США - Испания - Франция - Великобритания', 'Китай',\n",
       "       'Мексика-Аргентина',\n",
       "       'Германия - Великобритания - Италия - Испания',\n",
       "       'Франция-Германия-Великобритания', 'Россия - Германия - Швейцария',\n",
       "       'Франция-Австралия', 'Голландия', 'Швейцария-Франция',\n",
       "       'Россия-Белоруссия', 'Франция - Испания - Тайвань',\n",
       "       'США-Южная Корея-Новая Зеландия', 'Великобритания-Венгрия',\n",
       "       'Россия-Германия', 'Великобритания-Франция-Германия',\n",
       "       'Франция-Германия-Италия', 'Швеция-Финляндия-Франция-Норвегия',\n",
       "       'Франция-Италия', 'Германия-Израиль',\n",
       "       'Швеция - Германия - Дания - Норвегия', 'США-Бельгия',\n",
       "       'Франция-Гонконг-Ирландия', 'Эстония', 'Литва-Россия-Украина',\n",
       "       'Германия - Италия - Франция',\n",
       "       'Великобритания - Австрия - Германия', 'Бельгия - Франция',\n",
       "       'Россия-Казахстан', 'Испания - Мальта',\n",
       "       'Франция-Россия-Румыния-Италия-Бельгия', 'Россия - Польша',\n",
       "       'Испания - Мексика', 'США-Аргентина', 'Великобритания ',\n",
       "       'Израиль-США-Франция', 'США - Новая Зеландия - Япония',\n",
       "       'Франция - Чехия - Великобритания', 'Россия-Польша',\n",
       "       'Германия-Франция-Великобритания', 'США-Германия-Канада',\n",
       "       'США-Гонконг-Китай', 'США - Великобритания - Германия',\n",
       "       'США-Канада-Австралия', 'Япония-США-Франция',\n",
       "       'Франция-Испания-Германия', 'США - Хорватия - Босния-Герцеговина',\n",
       "       'Великобритания - Чехия - Франция - Италия',\n",
       "       'США - Германия - Нидерланды', 'Германия - Франция - Канада',\n",
       "       'Франция-Грузия-Германия-Россия-Украина-Бельгия',\n",
       "       'Великобритания - Франция - Италия', 'Россия - США',\n",
       "       'Франция - Италия - Иран', 'Россия - Азербайджан', 'Греция',\n",
       "       'Дания - США', 'США-Великобритания-Новая Зеландия',\n",
       "       'США-Германия-Австралия', 'США-Канада-Италия',\n",
       "       'США - Япония - Германия', 'Австралия-США',\n",
       "       'Франция - Великобритания - Багамские острова - США',\n",
       "       'Швейцария - Люксембург', 'Швейцария - Австрия',\n",
       "       'Германия - Швейцария', 'Дания-Швеция-Франция-Германия', 'Польша',\n",
       "       'Швейцария-Австрия', 'Бразилия - Канада - США',\n",
       "       'Нидерланды - Россия', 'Португалия', 'Франция-Аргентина',\n",
       "       'Швеция-Франция', 'Франция-Украина', 'Германия-Украина-Нидерланды',\n",
       "       'Италия-Швейцария', 'США-Германия-Великобритания',\n",
       "       'Латвия - Россия', 'Германия-Франция-Великобритания-США',\n",
       "       'Канада - Италия', 'США - Объединенные Арабские Эмираты',\n",
       "       'США-Венгрия', 'Малайзия', 'Россия - Германия - Украина',\n",
       "       'США - Австралия - Мексика', 'Литва - Венгрия', 'Германия - Китай',\n",
       "       'Казахстан', 'Республика Корея',\n",
       "       'США - Германия - Франция - Великобритания - Канада ',\n",
       "       'Бельгия - Германия - Люксембург - Франция', 'Франция - Греция',\n",
       "       'Италия - Канада', 'США - Великобритания - Франция',\n",
       "       'США-Италия-Греция', 'Германия - США - Великобритания - Ирландия',\n",
       "       'Великобритания - Франция - Германия',\n",
       "       'Германия - Нидерланды - ЮАР',\n",
       "       'США-Япония-Германия-Великобритания-Нидерланды',\n",
       "       'США-Япония-Германия-Великобритания',\n",
       "       'Германия - Франция - Польша',\n",
       "       'Таиланд-Великобритания-Франция-Германия-Испания-Нидерланды',\n",
       "       'Германия-Италия-Швейцария',\n",
       "       'Дания - Швеция - Великобритания - Франция - Германия - Нидерланды - Норвегия - Финляндия',\n",
       "       'Франция - Великобритания - Нидерланды - Люксембург',\n",
       "       'Нидерланды-Великобритания-Франция-Италия-Япония',\n",
       "       'Финляндия-Дания-Германия-Ирландия', 'Испания-Аргентина',\n",
       "       'Великобритания - Нидерланды - Франция - США', 'Канада - Мексика',\n",
       "       'США, Франция', 'Канада-Южная Корея-США',\n",
       "       'Великобритания - Франция - Бельгия - США', 'КНР - Канада - США',\n",
       "       'Италия - Франция - Германия',\n",
       "       'Швеция - Германия - Франция - Дания', 'Франция - США - Бельгия',\n",
       "       'Украина - Германия - Латвия - Эстония', 'Австрия - Люксембург',\n",
       "       'Великобритания - КНР', 'Монголия', 'Франция - Дания',\n",
       "       'Швеция - Дания - Финляндия',\n",
       "       'Сингапур - Великобритания - Индонезия - Канада - США',\n",
       "       'США - Германия - Япония', 'Таиланд - США', 'Франция - Нидерланды',\n",
       "       'Великобритания - Румыния', 'США - Мальта',\n",
       "       'Великобритания - Германия - Нидерланды - Дания',\n",
       "       'Франция - Германия - Литва - Нидерланды - Россия',\n",
       "       'США - ЮАР - Гонконг', 'Австралия - Колумбия',\n",
       "       'Великобритания - Польша', 'США - Великобритания - Швеция',\n",
       "       'Франция - Швеция - Дания - Норвегия', 'Болгария - США',\n",
       "       'СССР, ФРГ', 'Бельгия - Нидерланды - Франция',\n",
       "       'Финляндия - Германия', 'Болгария',\n",
       "       'Грузия - Россия - Украина - Хорватия - Германия',\n",
       "       'Франция - Люксембург', 'Франция - Германия - Австрия',\n",
       "       'Норвегия - США', 'Германия-Швеция', 'Франция - Германия - Италия',\n",
       "       'Франция-Германия-Австрия', 'КНР-США',\n",
       "       'Великобритания - Ирландия - США ',\n",
       "       'Дания - Латвия - Россия - США', 'Финляндия - Польша',\n",
       "       'Германия - Бельгия', 'Германия - США - Франция - Испания',\n",
       "       'Бельгия-Германия-Канада-Франция-США-Великобритания',\n",
       "       'Нидерланды - Бельгия - Люксембург', 'Канада-Германия',\n",
       "       'Люксембург - Бельгия - Франция', 'США-Великобритания-Австралия',\n",
       "       'Великобритания, Новая Зеландия', 'Бельгия, Великобритания, США',\n",
       "       'Великобритания, Австралия', 'Исландия, Бельгия',\n",
       "       'Испания - Швейцария - Великобритания - Германия - Новая Зеландия - Нидерланды - Канада',\n",
       "       'Франция, Бельгия', 'Великобритания, США', 'Киргизия-Россия',\n",
       "       'Германия, США', 'Великобритания, США, Испания',\n",
       "       'Италия - Швейцария - Германия', 'Россия, Армения',\n",
       "       'Франция, Германия', 'Китай, Канада, США', 'Германия, Австралия',\n",
       "       'КНР, США', 'США, Великобритания, Люксембург',\n",
       "       'Испания, Ирландия, Бельгия, Франция',\n",
       "       'Великобритания - Гонконг - Венгрия - США - Ирландия',\n",
       "       'США - Пуэрто Рико', 'Аргентина - Испания - Уругвай',\n",
       "       'Израиль - Германия - Франция - Швейцария',\n",
       "       'Великобритания - Мексика - США', 'Испания - Болгария - США',\n",
       "       'Россия-Словакия-Чехия',\n",
       "       'Швейцария - КНР - США - Россия - Республика Корея - Великобритания',\n",
       "       'Россия, Нидерланды, Финляндия',\n",
       "       'Испания - Бельгия - Франция - Португалия - Великобритания',\n",
       "       'Бразилия - Португалия - Франция', 'Швеция - Норвегия',\n",
       "       'Франция - Польша - Бельгия', 'CША', 'Китай, США',\n",
       "       'Италия, Франция, Германия', 'Германия - Австрия - Франция',\n",
       "       'Чехия - Словакия - Хорватия', 'Россия, Польша, Финляндия',\n",
       "       'Россия, Латвия, Чешская Республика',\n",
       "       'Франция - Великобритания - Камбоджа - США - КНР',\n",
       "       'Чехия - Испания - США', 'Германия - Люксембург - Дания',\n",
       "       'Великобритания - Испания - Германия', 'Дания - Исландия',\n",
       "       'Германия, Франция, Великобритания',\n",
       "       'Великобритания - Испания - Италия - Латвия - Франция - Эстония',\n",
       "       'Дания, Швеция, Великобритания, Франция, Германия, Норвегия, Финляндия, Нидерланды, Италия',\n",
       "       'Польша - Франция - Великобритания',\n",
       "       'Дания, Норвегия, Венгрия, Чехия',\n",
       "       'Дания - Франция - Германия - Швеция',\n",
       "       'Великобритания, Швеция, США',\n",
       "       'Канада, Франция, Италия, Швейцария, США', 'США, Индия',\n",
       "       'США - Великобритания - Германия - - Швеция - Канада',\n",
       "       'Италия, Франция', 'Республика Беларусь, Германия, США, Россия',\n",
       "       'Италия-Швейцария-Франция-Германия ',\n",
       "       'Россия - Франция - Великобритания - Латвия', 'Россия-Беларусь',\n",
       "       'Франция - Испания - Румыния - США - Бельгия', 'Италия-США',\n",
       "       'Россия, Австрия', 'Ирландия - Великобритания - США',\n",
       "       'Швейцария, Великобритания, Франция, США, Ирландия',\n",
       "       'Мексика, Франция, Германия, Дания, Швеция', 'Нидерланды, Бельгия',\n",
       "       'Швеция, Норвегия, Финляндия, Франция', 'Испания, Франция, Италия',\n",
       "       'Испания-Франция-Греция-Индия-США-Россия-Великобритания',\n",
       "       'Великобритания - Япония - США',\n",
       "       'Дания, Канада, Норвегия, Австралия, США', 'Аргентина, Испания',\n",
       "       'Россия, Германия, Казахстан, Польша, Китай',\n",
       "       'Португалия, Франция, Польша, США', 'США - Канада - Аргентина',\n",
       "       'Ливан-США', 'Япония - США', 'США, Гонконг ',\n",
       "       'Франция - Россия - Швейцария - Румыния - Венгрия',\n",
       "       'Аргентина-Испания', 'Россия, Сербия', 'США - Болгария - Мексика',\n",
       "       'США - Великобритания - Швейцария - Франция',\n",
       "       'Таиланд - КНР - США',\n",
       "       'Великобритания, Нидерланды, Польша, Швейцария, Франция',\n",
       "       'Ирландия - США',\n",
       "       'Германия - Франция - Великобритания - Польша - США',\n",
       "       'Великобритания-Франция-Италия', 'США - Австралия - Индия',\n",
       "       'Франция - КНР', 'Великобритания - Израиль',\n",
       "       'Великобритания - Норвегия - Кения - Хорватия',\n",
       "       'США - Бразилия - Великобритания - Канада', 'Германия, Бельгия',\n",
       "       'Австралия, Канада', 'США, Великобритания, Франция',\n",
       "       'Кения, Германия', 'Нидерланды, Бельгия, Люксембург', 'Колумбия',\n",
       "       'Латвия - Франция', 'Ирландия, Великобритания',\n",
       "       'Франция - Израиль - Германия', 'Швеция, Франция, Великобритания',\n",
       "       'Бельгия - Люксембург', 'Германия - Бельгия - Великобритания',\n",
       "       'Испания, Франция, Великобритания, Дания, Бельгия, Германия',\n",
       "       'Румыния, ЮАР, Иран, Франция, Канада, Великобритания',\n",
       "       'Германия, Франция', 'США, Япония',\n",
       "       'США, Великобритания, Ирландия, Люксембург', 'Республика Армения',\n",
       "       'США, Франция, Япония', 'Япония, США', 'Канада, США',\n",
       "       'Республика Кипр - Россия',\n",
       "       'Дания - Франция - Италия - Бельгия - Нидерланды',\n",
       "       'Россия - Грузия', 'Италия, Германия', 'Норвегия, Швеция, Дания',\n",
       "       'Республика Кипр, Россия', 'КНР, Индия, Гонконг, США',\n",
       "       'Израиль, Украина', 'США, Россия', 'США - КНР - Индия - Ю.Корея',\n",
       "       'США - Швеция', 'Франция, Канада', 'Россия-Китай',\n",
       "       'Канада, Великобритания', 'США, Германия',\n",
       "       'Канада, США, Каймановы острова',\n",
       "       'Бразилия, Уругвай, Дания, Норвегия, Чили, Швеция',\n",
       "       'Пуэрто-Рико, Великобритания, США',\n",
       "       'Уругвай - Аргентина - Испания',\n",
       "       'США - Великобритания - Италия - Израиль - Сербия - Индия',\n",
       "       'США - Канада - Франция - Индия', 'Великобритания - Россия - КНР',\n",
       "       'Франция, Новая Зеландия', 'Франция, Люксембург, Бельгия',\n",
       "       'Канада, США, Норвегия', 'Италия, Испания',\n",
       "       'Испания - Германия - Нидерланды', 'Бразилия - США - КНР ',\n",
       "       'Великобритания, Германия, Дания, США', '2019',\n",
       "       'Италия - Фрация - Бразилия - Германия',\n",
       "       'Норвегия - Швеция - Россия', 'Великобритания, Япония, США',\n",
       "       'Сша, Канада', 'Бельгия, Канада',\n",
       "       'Великобритания - Австралия - США', 'США, Канада', 'КНР - США ',\n",
       "       'Франция - Финляндия', 'Колумбия - США',\n",
       "       'Великобритания, Франция, Бельгия', 'Норвегия - Нидерланды',\n",
       "       'Великобритания, Канада, США', 'Япония, Великобритания',\n",
       "       'Италия - Бельгия - Франция', 'Россия, Бельгия, Финляндия',\n",
       "       'США, Украина', 'Франция, Норвегия',\n",
       "       'Великобритания, Южная Корея, Канада, США, Индия, Китай, Япония',\n",
       "       'Канада - Норвегия', 'Республика Кипр-Россия', 'Германия, Россия',\n",
       "       'Польша - Франция - Испания - Бразилия - Швеция',\n",
       "       'Австрия, Великобритания, Германия', 'Франция - Сенегал - Бельгия',\n",
       "       'Франция, Бельгия, Люксембург', 'Финляндия, Латвия', 'Пакистан',\n",
       "       'Германия, Франция, США', 'Германия - Великобритания - США',\n",
       "       'КНР - Франция', 'Дания, Норвегия, Швеция, Исландия',\n",
       "       'Республика Кипр, США, Россия', 'Новая Зеландия - КНР',\n",
       "       'Дания - Канада - Швеция - Франция - Германия - Великобритания - США'],\n",
       "      dtype=object)"
      ]
     },
     "execution_count": 41,
     "metadata": {},
     "output_type": "execute_result"
    }
   ],
   "source": [
    "data['production_country'].unique()"
   ]
  },
  {
   "cell_type": "code",
   "execution_count": 42,
   "metadata": {},
   "outputs": [
    {
     "data": {
      "text/plain": [
       "array(['Дэвид Валдес, Кевин Костнер, Джейк Эбертс', 'Unknowen',\n",
       "       'Джим Лемли, Джейсон Нетер, Марк Е.Платт, Яйн Смит', ...,\n",
       "       'Поппи Бегум, Ник Пойнц',\n",
       "       'Джефф Боулер, Дэниэл Гродник, Луильо Руис, Брэт Саксон, Кирк Шоу',\n",
       "       'Дженнифер Додж'], dtype=object)"
      ]
     },
     "execution_count": 42,
     "metadata": {},
     "output_type": "execute_result"
    }
   ],
   "source": [
    "data['producer'].unique()"
   ]
  },
  {
   "cell_type": "code",
   "execution_count": 43,
   "metadata": {},
   "outputs": [
    {
     "data": {
      "text/plain": [
       "«16+» - для детей старше 16 лет           2848\n",
       "«18+» - запрещено для детей               1605\n",
       "«12+» - для детей старше 12 лет           1591\n",
       "«0+» - для любой зрительской аудитории     811\n",
       "«6+» - для детей старше 6 лет              626\n",
       "Name: age_restriction, dtype: int64"
      ]
     },
     "execution_count": 43,
     "metadata": {},
     "output_type": "execute_result"
    }
   ],
   "source": [
    "data['age_restriction'].value_counts()"
   ]
  },
  {
   "cell_type": "code",
   "execution_count": 44,
   "metadata": {},
   "outputs": [
    {
     "data": {
      "text/plain": [
       "Министерство культуры               164\n",
       "Фонд кино                           146\n",
       "Министерство культуры, Фонд кино     22\n",
       "Name: financing_source, dtype: int64"
      ]
     },
     "execution_count": 44,
     "metadata": {},
     "output_type": "execute_result"
    }
   ],
   "source": [
    "data['financing_source'].value_counts()"
   ]
  },
  {
   "cell_type": "code",
   "execution_count": 45,
   "metadata": {},
   "outputs": [
    {
     "data": {
      "text/plain": [
       "Unknowen                     975\n",
       "драма                        476\n",
       "комедия                      352\n",
       "мелодрама,комедия            221\n",
       "драма,мелодрама,комедия      189\n",
       "                            ... \n",
       "фэнтези,боевик,детектив        1\n",
       "комедия,приключения,спорт      1\n",
       "мультфильм,история             1\n",
       "реальное ТВ                    1\n",
       "комедия,фэнтези,криминал       1\n",
       "Name: genres, Length: 743, dtype: int64"
      ]
     },
     "execution_count": 45,
     "metadata": {},
     "output_type": "execute_result"
    }
   ],
   "source": [
    "data['genres'].value_counts()"
   ]
  },
  {
   "cell_type": "code",
   "execution_count": 46,
   "metadata": {},
   "outputs": [
    {
     "data": {
      "text/plain": [
       "array(['Кевин Костнер', 'Е.Матвеев', 'Тимур Бекмамбетов', ...,\n",
       "       'Ник Пауэлл', 'А.Беляев', 'И.Трусов'], dtype=object)"
      ]
     },
     "execution_count": 46,
     "metadata": {},
     "output_type": "execute_result"
    }
   ],
   "source": [
    "data['director'].unique()"
   ]
  },
  {
   "cell_type": "markdown",
   "metadata": {},
   "source": [
    "Основной проблемой в данных категориальных столбцов я вижу отсутствие правил или шаблона внесения данных:  \n",
    "разные разделители для нескольких значений в столбце (есть и через тире, и через запятую),  \n",
    "разное транскрипционное написание иностранных имён или наименований компаний,  \n",
    "использование или не использование точки в конце наименования фильма,  \n",
    "очерёдность внесения имени и фамилии, либо сокращённое обозначения имени с точкой."
   ]
  },
  {
   "cell_type": "markdown",
   "metadata": {
    "id": "XFSN5lrEgFyR"
   },
   "source": [
    "#### Шаг 2.5. Проверьте количественные значения\n",
    "\n",
    "- Проверьте, обнаружились ли в таких столбцах подозрительные данные. Как с такими данными лучше поступить?\n",
    "\n",
    "<div id=\"accordion\">\n",
    "    <div class=\"card\">\n",
    "        <div class=\"card-header\" id=\"headingThree\">\n",
    "            <button class=\"btn btn-link collapsed\" data-toggle=\"collapse\" data-target=\"#collapseHint_budget\" aria-expanded=\"false\" aria-controls=\"collapseHint_budget\">Подсказка</button>\n",
    "        </div>\n",
    "        <div id=\"collapseHint_budget\" class=\"collapse\" aria-labelledby=\"headingThree\" data-parent=\"#accordion\">\n",
    "            <div class=\"card-body\">\n",
    "Обратите внимание на описание столбца <code>budget</code>. Как этот столбец соотносится с двумя другими: <code>refundable_support</code> и <code>nonrefundable_support</code>?\n",
    "            </div>\n",
    "        </div>\n",
    "    </div>\n",
    "</div>"
   ]
  },
  {
   "cell_type": "code",
   "execution_count": 47,
   "metadata": {
    "id": "YbzClBxagFyS"
   },
   "outputs": [
    {
     "data": {
      "text/html": [
       "<div>\n",
       "<style scoped>\n",
       "    .dataframe tbody tr th:only-of-type {\n",
       "        vertical-align: middle;\n",
       "    }\n",
       "\n",
       "    .dataframe tbody tr th {\n",
       "        vertical-align: top;\n",
       "    }\n",
       "\n",
       "    .dataframe thead th {\n",
       "        text-align: right;\n",
       "    }\n",
       "</style>\n",
       "<table border=\"1\" class=\"dataframe\">\n",
       "  <thead>\n",
       "    <tr style=\"text-align: right;\">\n",
       "      <th></th>\n",
       "      <th>refundable_support</th>\n",
       "      <th>nonrefundable_support</th>\n",
       "      <th>budget</th>\n",
       "      <th>ratings</th>\n",
       "      <th>box_office</th>\n",
       "    </tr>\n",
       "  </thead>\n",
       "  <tbody>\n",
       "    <tr>\n",
       "      <th>count</th>\n",
       "      <td>332.00</td>\n",
       "      <td>332.00</td>\n",
       "      <td>332.00</td>\n",
       "      <td>6,486.00</td>\n",
       "      <td>3,158.00</td>\n",
       "    </tr>\n",
       "    <tr>\n",
       "      <th>mean</th>\n",
       "      <td>11,864,457.83</td>\n",
       "      <td>48,980,988.89</td>\n",
       "      <td>127,229,716.68</td>\n",
       "      <td>6.48</td>\n",
       "      <td>76,478,696.16</td>\n",
       "    </tr>\n",
       "    <tr>\n",
       "      <th>std</th>\n",
       "      <td>24,916,555.26</td>\n",
       "      <td>59,980,117.92</td>\n",
       "      <td>188,588,333.12</td>\n",
       "      <td>1.10</td>\n",
       "      <td>240,353,122.82</td>\n",
       "    </tr>\n",
       "    <tr>\n",
       "      <th>min</th>\n",
       "      <td>0.00</td>\n",
       "      <td>0.00</td>\n",
       "      <td>0.00</td>\n",
       "      <td>1.00</td>\n",
       "      <td>0.00</td>\n",
       "    </tr>\n",
       "    <tr>\n",
       "      <th>25%</th>\n",
       "      <td>0.00</td>\n",
       "      <td>25,000,000.00</td>\n",
       "      <td>42,000,000.00</td>\n",
       "      <td>5.90</td>\n",
       "      <td>86,239.00</td>\n",
       "    </tr>\n",
       "    <tr>\n",
       "      <th>50%</th>\n",
       "      <td>0.00</td>\n",
       "      <td>30,000,000.00</td>\n",
       "      <td>68,649,916.00</td>\n",
       "      <td>6.60</td>\n",
       "      <td>2,327,987.55</td>\n",
       "    </tr>\n",
       "    <tr>\n",
       "      <th>75%</th>\n",
       "      <td>15,000,000.00</td>\n",
       "      <td>40,375,000.00</td>\n",
       "      <td>141,985,319.50</td>\n",
       "      <td>7.20</td>\n",
       "      <td>23,979,671.02</td>\n",
       "    </tr>\n",
       "    <tr>\n",
       "      <th>max</th>\n",
       "      <td>180,000,000.00</td>\n",
       "      <td>400,000,000.00</td>\n",
       "      <td>2,305,074,303.00</td>\n",
       "      <td>9.20</td>\n",
       "      <td>3,073,568,690.79</td>\n",
       "    </tr>\n",
       "  </tbody>\n",
       "</table>\n",
       "</div>"
      ],
      "text/plain": [
       "       refundable_support  nonrefundable_support           budget  ratings  \\\n",
       "count              332.00                 332.00           332.00 6,486.00   \n",
       "mean        11,864,457.83          48,980,988.89   127,229,716.68     6.48   \n",
       "std         24,916,555.26          59,980,117.92   188,588,333.12     1.10   \n",
       "min                  0.00                   0.00             0.00     1.00   \n",
       "25%                  0.00          25,000,000.00    42,000,000.00     5.90   \n",
       "50%                  0.00          30,000,000.00    68,649,916.00     6.60   \n",
       "75%         15,000,000.00          40,375,000.00   141,985,319.50     7.20   \n",
       "max        180,000,000.00         400,000,000.00 2,305,074,303.00     9.20   \n",
       "\n",
       "            box_office  \n",
       "count         3,158.00  \n",
       "mean     76,478,696.16  \n",
       "std     240,353,122.82  \n",
       "min               0.00  \n",
       "25%          86,239.00  \n",
       "50%       2,327,987.55  \n",
       "75%      23,979,671.02  \n",
       "max   3,073,568,690.79  "
      ]
     },
     "execution_count": 47,
     "metadata": {},
     "output_type": "execute_result"
    }
   ],
   "source": [
    "data.describe()"
   ]
  },
  {
   "cell_type": "markdown",
   "metadata": {},
   "source": [
    "Поскольку столбец 'budget' уже включает в себя гос.поддержку, он не может быть меньше суммы значений столбцов 'refundable_support' и 'nonrefundable_support'"
   ]
  },
  {
   "cell_type": "code",
   "execution_count": 48,
   "metadata": {},
   "outputs": [
    {
     "data": {
      "text/plain": [
       "17"
      ]
     },
     "execution_count": 48,
     "metadata": {},
     "output_type": "execute_result"
    }
   ],
   "source": [
    "len(data[data['refundable_support'] + data['nonrefundable_support'] > data['budget']])"
   ]
  },
  {
   "cell_type": "markdown",
   "metadata": {},
   "source": [
    "По 17 строкам не заполнено поле 'budget', хотя указан объём государственной поддержки. Заполняю такие пропуски суммой 'refundable_support' и 'nonrefundable_support', так как это значение поля 'budget' никак не может быть меньше."
   ]
  },
  {
   "cell_type": "code",
   "execution_count": 49,
   "metadata": {},
   "outputs": [],
   "source": [
    "data.loc[(data['budget'] == 0), 'budget'] = data['refundable_support'] + data['nonrefundable_support']"
   ]
  },
  {
   "cell_type": "markdown",
   "metadata": {},
   "source": [
    "Стандартное отклонение столбца 'box_office' уж очень велико. Посмотрим распределение на гистограмме"
   ]
  },
  {
   "cell_type": "code",
   "execution_count": 50,
   "metadata": {},
   "outputs": [
    {
     "data": {
      "text/plain": [
       "<AxesSubplot:>"
      ]
     },
     "execution_count": 50,
     "metadata": {},
     "output_type": "execute_result"
    },
    {
     "data": {
      "image/png": "[encoded data removed]",
      "text/plain": [
       "<Figure size 432x288 with 1 Axes>"
      ]
     },
     "metadata": {
      "needs_background": "light"
     },
     "output_type": "display_data"
    }
   ],
   "source": [
    "data['box_office'].hist(bins = 50)"
   ]
  },
  {
   "cell_type": "markdown",
   "metadata": {},
   "source": [
    "Часть значений стобца 'box_office' выглядит слишком маленькой. Возможно потеряны нули или данные внесены в другой валюте. Чуть подробнее изучим фильмы с кассовыми сборами меньше 10 тыс. "
   ]
  },
  {
   "cell_type": "code",
   "execution_count": 51,
   "metadata": {},
   "outputs": [
    {
     "data": {
      "text/plain": [
       "<AxesSubplot:>"
      ]
     },
     "execution_count": 51,
     "metadata": {},
     "output_type": "execute_result"
    },
    {
     "data": {
      "image/png": "[encoded data removed]",
      "text/plain": [
       "<Figure size 432x288 with 1 Axes>"
      ]
     },
     "metadata": {
      "needs_background": "light"
     },
     "output_type": "display_data"
    }
   ],
   "source": [
    "data['box_office'].hist(range = (1, 10000), bins = 50)"
   ]
  },
  {
   "cell_type": "code",
   "execution_count": 52,
   "metadata": {},
   "outputs": [
    {
     "data": {
      "text/plain": [
       "515"
      ]
     },
     "execution_count": 52,
     "metadata": {},
     "output_type": "execute_result"
    }
   ],
   "source": [
    "len(data[(data['box_office'] < 10000) & (data['box_office'] > 0)])"
   ]
  },
  {
   "cell_type": "code",
   "execution_count": 53,
   "metadata": {},
   "outputs": [
    {
     "data": {
      "text/html": [
       "<div>\n",
       "<style scoped>\n",
       "    .dataframe tbody tr th:only-of-type {\n",
       "        vertical-align: middle;\n",
       "    }\n",
       "\n",
       "    .dataframe tbody tr th {\n",
       "        vertical-align: top;\n",
       "    }\n",
       "\n",
       "    .dataframe thead th {\n",
       "        text-align: right;\n",
       "    }\n",
       "</style>\n",
       "<table border=\"1\" class=\"dataframe\">\n",
       "  <thead>\n",
       "    <tr style=\"text-align: right;\">\n",
       "      <th></th>\n",
       "      <th>title</th>\n",
       "      <th>puNumber</th>\n",
       "      <th>show_start_date</th>\n",
       "      <th>type</th>\n",
       "      <th>film_studio</th>\n",
       "      <th>production_country</th>\n",
       "      <th>director</th>\n",
       "      <th>producer</th>\n",
       "      <th>age_restriction</th>\n",
       "      <th>refundable_support</th>\n",
       "      <th>nonrefundable_support</th>\n",
       "      <th>budget</th>\n",
       "      <th>financing_source</th>\n",
       "      <th>ratings</th>\n",
       "      <th>genres</th>\n",
       "      <th>box_office</th>\n",
       "    </tr>\n",
       "  </thead>\n",
       "  <tbody>\n",
       "    <tr>\n",
       "      <th>6</th>\n",
       "      <td>Любовь и голуби</td>\n",
       "      <td>111007013</td>\n",
       "      <td>2013-10-18 12:00:00+00:00</td>\n",
       "      <td>Художественный</td>\n",
       "      <td>Киностудия \"Мосфильм\"</td>\n",
       "      <td>СССР</td>\n",
       "      <td>В.Меньшов</td>\n",
       "      <td>Unknowen</td>\n",
       "      <td>«12+» - для детей старше 12 лет</td>\n",
       "      <td>NaN</td>\n",
       "      <td>NaN</td>\n",
       "      <td>NaN</td>\n",
       "      <td>NaN</td>\n",
       "      <td>8.30</td>\n",
       "      <td>мелодрама,комедия</td>\n",
       "      <td>2,700.00</td>\n",
       "    </tr>\n",
       "    <tr>\n",
       "      <th>18</th>\n",
       "      <td>Неподдающиеся</td>\n",
       "      <td>111003616</td>\n",
       "      <td>2016-02-12 12:00:00+00:00</td>\n",
       "      <td>Художественный</td>\n",
       "      <td>Киностудия \"Мосфильм\"</td>\n",
       "      <td>СССР</td>\n",
       "      <td>Ю.Чулюкин</td>\n",
       "      <td>Unknowen</td>\n",
       "      <td>«6+» - для детей старше 6 лет</td>\n",
       "      <td>NaN</td>\n",
       "      <td>NaN</td>\n",
       "      <td>NaN</td>\n",
       "      <td>NaN</td>\n",
       "      <td>8.00</td>\n",
       "      <td>мелодрама,комедия</td>\n",
       "      <td>360.00</td>\n",
       "    </tr>\n",
       "    <tr>\n",
       "      <th>19</th>\n",
       "      <td>Неподсуден</td>\n",
       "      <td>111003716</td>\n",
       "      <td>2016-02-12 12:00:00+00:00</td>\n",
       "      <td>Художественный</td>\n",
       "      <td>Киностудия \"Мосфильм\"</td>\n",
       "      <td>СССР</td>\n",
       "      <td>В.Краснопольский, В.Усков</td>\n",
       "      <td>Unknowen</td>\n",
       "      <td>«6+» - для детей старше 6 лет</td>\n",
       "      <td>NaN</td>\n",
       "      <td>NaN</td>\n",
       "      <td>NaN</td>\n",
       "      <td>NaN</td>\n",
       "      <td>7.70</td>\n",
       "      <td>драма</td>\n",
       "      <td>420.00</td>\n",
       "    </tr>\n",
       "    <tr>\n",
       "      <th>22</th>\n",
       "      <td>Операция \"Ы\" и другие приключения Шурика</td>\n",
       "      <td>111007413</td>\n",
       "      <td>2013-10-18 12:00:00+00:00</td>\n",
       "      <td>Художественный</td>\n",
       "      <td>Киностудия \"Мосфильм\"</td>\n",
       "      <td>СССР</td>\n",
       "      <td>Л.Гайдай</td>\n",
       "      <td>Unknowen</td>\n",
       "      <td>«6+» - для детей старше 6 лет</td>\n",
       "      <td>NaN</td>\n",
       "      <td>NaN</td>\n",
       "      <td>NaN</td>\n",
       "      <td>NaN</td>\n",
       "      <td>8.70</td>\n",
       "      <td>комедия,мелодрама,криминал</td>\n",
       "      <td>380.00</td>\n",
       "    </tr>\n",
       "    <tr>\n",
       "      <th>38</th>\n",
       "      <td>Мужики!..</td>\n",
       "      <td>111007213</td>\n",
       "      <td>2013-10-18 12:00:00+00:00</td>\n",
       "      <td>Художественный</td>\n",
       "      <td>Киностудия \"Мосфильм\"</td>\n",
       "      <td>СССР</td>\n",
       "      <td>И.Бабич</td>\n",
       "      <td>Unknowen</td>\n",
       "      <td>«6+» - для детей старше 6 лет</td>\n",
       "      <td>NaN</td>\n",
       "      <td>NaN</td>\n",
       "      <td>NaN</td>\n",
       "      <td>NaN</td>\n",
       "      <td>8.10</td>\n",
       "      <td>драма</td>\n",
       "      <td>1,165.00</td>\n",
       "    </tr>\n",
       "    <tr>\n",
       "      <th>...</th>\n",
       "      <td>...</td>\n",
       "      <td>...</td>\n",
       "      <td>...</td>\n",
       "      <td>...</td>\n",
       "      <td>...</td>\n",
       "      <td>...</td>\n",
       "      <td>...</td>\n",
       "      <td>...</td>\n",
       "      <td>...</td>\n",
       "      <td>...</td>\n",
       "      <td>...</td>\n",
       "      <td>...</td>\n",
       "      <td>...</td>\n",
       "      <td>...</td>\n",
       "      <td>...</td>\n",
       "      <td>...</td>\n",
       "    </tr>\n",
       "    <tr>\n",
       "      <th>5380</th>\n",
       "      <td>ШПИОН</td>\n",
       "      <td>111009411</td>\n",
       "      <td>2011-12-09 12:00:00+00:00</td>\n",
       "      <td>Художественный</td>\n",
       "      <td>ООО \"Студия \"ТРИТЭ\" Никиты Михалкова</td>\n",
       "      <td>Россия</td>\n",
       "      <td>А.Андрианов</td>\n",
       "      <td>С.Шумаков, Л.Верещагин</td>\n",
       "      <td>«16+» - для детей старше 16 лет</td>\n",
       "      <td>NaN</td>\n",
       "      <td>NaN</td>\n",
       "      <td>NaN</td>\n",
       "      <td>NaN</td>\n",
       "      <td>7.10</td>\n",
       "      <td>боевик,комедия,криминал</td>\n",
       "      <td>5,405.00</td>\n",
       "    </tr>\n",
       "    <tr>\n",
       "      <th>5388</th>\n",
       "      <td>ВОИН.com</td>\n",
       "      <td>111004411</td>\n",
       "      <td>2011-07-04 12:00:00+00:00</td>\n",
       "      <td>Художественный</td>\n",
       "      <td>ООО \"Культурные инициативы\"</td>\n",
       "      <td>Россия</td>\n",
       "      <td>Е.Бычкова</td>\n",
       "      <td>В.Малышев, А.Малышев</td>\n",
       "      <td>«12+» - для детей старше 12 лет</td>\n",
       "      <td>NaN</td>\n",
       "      <td>NaN</td>\n",
       "      <td>NaN</td>\n",
       "      <td>NaN</td>\n",
       "      <td>4.70</td>\n",
       "      <td>комедия</td>\n",
       "      <td>465.00</td>\n",
       "    </tr>\n",
       "    <tr>\n",
       "      <th>5389</th>\n",
       "      <td>Кунг-фу Панда 2.</td>\n",
       "      <td>224021411</td>\n",
       "      <td>2011-11-15 12:00:00+00:00</td>\n",
       "      <td>Анимационный</td>\n",
       "      <td>ДримУоркс Анимэйшн</td>\n",
       "      <td>США</td>\n",
       "      <td>Дженнифер Ю</td>\n",
       "      <td>Мелисса Кобб, Джонатан Айбел, Гленн Бергер</td>\n",
       "      <td>«0+» - для любой зрительской аудитории</td>\n",
       "      <td>NaN</td>\n",
       "      <td>NaN</td>\n",
       "      <td>NaN</td>\n",
       "      <td>NaN</td>\n",
       "      <td>7.40</td>\n",
       "      <td>мультфильм,фэнтези,боевик</td>\n",
       "      <td>9,270.00</td>\n",
       "    </tr>\n",
       "    <tr>\n",
       "      <th>6581</th>\n",
       "      <td>Время собирать цветы</td>\n",
       "      <td>112025118</td>\n",
       "      <td>2019-01-01 12:00:00+00:00</td>\n",
       "      <td>Документальный</td>\n",
       "      <td>ООО \"Краеведофф\"</td>\n",
       "      <td>Россия</td>\n",
       "      <td>Г.Щерба</td>\n",
       "      <td>О.Ракшин</td>\n",
       "      <td>«12+» - для детей старше 12 лет</td>\n",
       "      <td>NaN</td>\n",
       "      <td>NaN</td>\n",
       "      <td>NaN</td>\n",
       "      <td>NaN</td>\n",
       "      <td>NaN</td>\n",
       "      <td>Unknowen</td>\n",
       "      <td>7,175.00</td>\n",
       "    </tr>\n",
       "    <tr>\n",
       "      <th>6804</th>\n",
       "      <td>Счастье - это...Часть 2</td>\n",
       "      <td>111005319</td>\n",
       "      <td>2019-03-20 12:00:00+00:00</td>\n",
       "      <td>Художественный</td>\n",
       "      <td>ООО \"Компания Парк Синема\", ООО \"ФильмФест\"</td>\n",
       "      <td>Россия</td>\n",
       "      <td>А.Боровикова, Е.Войтович, З.Джиджилава, А.Тимо...</td>\n",
       "      <td>ООО \"Уолт Дисней Компани СНГ\"</td>\n",
       "      <td>«6+» - для детей старше 6 лет</td>\n",
       "      <td>NaN</td>\n",
       "      <td>NaN</td>\n",
       "      <td>NaN</td>\n",
       "      <td>NaN</td>\n",
       "      <td>6.00</td>\n",
       "      <td>семейный,мелодрама</td>\n",
       "      <td>4,398.40</td>\n",
       "    </tr>\n",
       "  </tbody>\n",
       "</table>\n",
       "<p>515 rows × 16 columns</p>\n",
       "</div>"
      ],
      "text/plain": [
       "                                         title   puNumber  \\\n",
       "6                              Любовь и голуби  111007013   \n",
       "18                               Неподдающиеся  111003616   \n",
       "19                                  Неподсуден  111003716   \n",
       "22    Операция \"Ы\" и другие приключения Шурика  111007413   \n",
       "38                                   Мужики!..  111007213   \n",
       "...                                        ...        ...   \n",
       "5380                                     ШПИОН  111009411   \n",
       "5388                                  ВОИН.com  111004411   \n",
       "5389                          Кунг-фу Панда 2.  224021411   \n",
       "6581                      Время собирать цветы  112025118   \n",
       "6804                   Счастье - это...Часть 2  111005319   \n",
       "\n",
       "               show_start_date            type  \\\n",
       "6    2013-10-18 12:00:00+00:00  Художественный   \n",
       "18   2016-02-12 12:00:00+00:00  Художественный   \n",
       "19   2016-02-12 12:00:00+00:00  Художественный   \n",
       "22   2013-10-18 12:00:00+00:00  Художественный   \n",
       "38   2013-10-18 12:00:00+00:00  Художественный   \n",
       "...                        ...             ...   \n",
       "5380 2011-12-09 12:00:00+00:00  Художественный   \n",
       "5388 2011-07-04 12:00:00+00:00  Художественный   \n",
       "5389 2011-11-15 12:00:00+00:00    Анимационный   \n",
       "6581 2019-01-01 12:00:00+00:00  Документальный   \n",
       "6804 2019-03-20 12:00:00+00:00  Художественный   \n",
       "\n",
       "                                      film_studio production_country  \\\n",
       "6                           Киностудия \"Мосфильм\"               СССР   \n",
       "18                          Киностудия \"Мосфильм\"               СССР   \n",
       "19                          Киностудия \"Мосфильм\"               СССР   \n",
       "22                          Киностудия \"Мосфильм\"               СССР   \n",
       "38                          Киностудия \"Мосфильм\"               СССР   \n",
       "...                                           ...                ...   \n",
       "5380     ООО \"Студия \"ТРИТЭ\" Никиты Михалкова                 Россия   \n",
       "5388                  ООО \"Культурные инициативы\"             Россия   \n",
       "5389                           ДримУоркс Анимэйшн                США   \n",
       "6581                             ООО \"Краеведофф\"             Россия   \n",
       "6804  ООО \"Компания Парк Синема\", ООО \"ФильмФест\"             Россия   \n",
       "\n",
       "                                               director  \\\n",
       "6                                             В.Меньшов   \n",
       "18                                            Ю.Чулюкин   \n",
       "19                            В.Краснопольский, В.Усков   \n",
       "22                                             Л.Гайдай   \n",
       "38                                              И.Бабич   \n",
       "...                                                 ...   \n",
       "5380                                        А.Андрианов   \n",
       "5388                                          Е.Бычкова   \n",
       "5389                                        Дженнифер Ю   \n",
       "6581                                            Г.Щерба   \n",
       "6804  А.Боровикова, Е.Войтович, З.Джиджилава, А.Тимо...   \n",
       "\n",
       "                                        producer  \\\n",
       "6                                       Unknowen   \n",
       "18                                      Unknowen   \n",
       "19                                      Unknowen   \n",
       "22                                      Unknowen   \n",
       "38                                      Unknowen   \n",
       "...                                          ...   \n",
       "5380                      С.Шумаков, Л.Верещагин   \n",
       "5388                        В.Малышев, А.Малышев   \n",
       "5389  Мелисса Кобб, Джонатан Айбел, Гленн Бергер   \n",
       "6581                                    О.Ракшин   \n",
       "6804               ООО \"Уолт Дисней Компани СНГ\"   \n",
       "\n",
       "                             age_restriction  refundable_support  \\\n",
       "6            «12+» - для детей старше 12 лет                 NaN   \n",
       "18             «6+» - для детей старше 6 лет                 NaN   \n",
       "19             «6+» - для детей старше 6 лет                 NaN   \n",
       "22             «6+» - для детей старше 6 лет                 NaN   \n",
       "38             «6+» - для детей старше 6 лет                 NaN   \n",
       "...                                      ...                 ...   \n",
       "5380         «16+» - для детей старше 16 лет                 NaN   \n",
       "5388         «12+» - для детей старше 12 лет                 NaN   \n",
       "5389  «0+» - для любой зрительской аудитории                 NaN   \n",
       "6581         «12+» - для детей старше 12 лет                 NaN   \n",
       "6804           «6+» - для детей старше 6 лет                 NaN   \n",
       "\n",
       "      nonrefundable_support  budget financing_source  ratings  \\\n",
       "6                       NaN     NaN              NaN     8.30   \n",
       "18                      NaN     NaN              NaN     8.00   \n",
       "19                      NaN     NaN              NaN     7.70   \n",
       "22                      NaN     NaN              NaN     8.70   \n",
       "38                      NaN     NaN              NaN     8.10   \n",
       "...                     ...     ...              ...      ...   \n",
       "5380                    NaN     NaN              NaN     7.10   \n",
       "5388                    NaN     NaN              NaN     4.70   \n",
       "5389                    NaN     NaN              NaN     7.40   \n",
       "6581                    NaN     NaN              NaN      NaN   \n",
       "6804                    NaN     NaN              NaN     6.00   \n",
       "\n",
       "                          genres  box_office  \n",
       "6              мелодрама,комедия    2,700.00  \n",
       "18             мелодрама,комедия      360.00  \n",
       "19                         драма      420.00  \n",
       "22    комедия,мелодрама,криминал      380.00  \n",
       "38                         драма    1,165.00  \n",
       "...                          ...         ...  \n",
       "5380     боевик,комедия,криминал    5,405.00  \n",
       "5388                     комедия      465.00  \n",
       "5389   мультфильм,фэнтези,боевик    9,270.00  \n",
       "6581                    Unknowen    7,175.00  \n",
       "6804          семейный,мелодрама    4,398.40  \n",
       "\n",
       "[515 rows x 16 columns]"
      ]
     },
     "execution_count": 53,
     "metadata": {},
     "output_type": "execute_result"
    }
   ],
   "source": [
    "data[(data['box_office'] < 10000) & (data['box_office'] > 0)]"
   ]
  },
  {
   "cell_type": "markdown",
   "metadata": {},
   "source": [
    "Часть фильмов с низкими сборами была выпущена ещё в СССР, хотя имеет дату премьеры 2010ые. Видимо столбец 'show_start_date' - это дата премьеры фильма по конкретной лицензии. Поскольку и сборы указаны для прокатного удостверения, а не для конкретного фильма, вероятно, в данных всё же нет ошибок.  \n",
    "Тем не менее 9.270 руб для Кунг-фу Панды 2 всё ещё кажется неправдоподобно низкой суммой. Только если у фильма не одна лицензия."
   ]
  },
  {
   "cell_type": "code",
   "execution_count": 54,
   "metadata": {},
   "outputs": [
    {
     "data": {
      "text/html": [
       "<div>\n",
       "<style scoped>\n",
       "    .dataframe tbody tr th:only-of-type {\n",
       "        vertical-align: middle;\n",
       "    }\n",
       "\n",
       "    .dataframe tbody tr th {\n",
       "        vertical-align: top;\n",
       "    }\n",
       "\n",
       "    .dataframe thead th {\n",
       "        text-align: right;\n",
       "    }\n",
       "</style>\n",
       "<table border=\"1\" class=\"dataframe\">\n",
       "  <thead>\n",
       "    <tr style=\"text-align: right;\">\n",
       "      <th></th>\n",
       "      <th>title</th>\n",
       "      <th>puNumber</th>\n",
       "      <th>show_start_date</th>\n",
       "      <th>type</th>\n",
       "      <th>film_studio</th>\n",
       "      <th>production_country</th>\n",
       "      <th>director</th>\n",
       "      <th>producer</th>\n",
       "      <th>age_restriction</th>\n",
       "      <th>refundable_support</th>\n",
       "      <th>nonrefundable_support</th>\n",
       "      <th>budget</th>\n",
       "      <th>financing_source</th>\n",
       "      <th>ratings</th>\n",
       "      <th>genres</th>\n",
       "      <th>box_office</th>\n",
       "    </tr>\n",
       "  </thead>\n",
       "  <tbody>\n",
       "    <tr>\n",
       "      <th>5037</th>\n",
       "      <td>Кунг-фу Панда 2.</td>\n",
       "      <td>224021511</td>\n",
       "      <td>2011-11-16 12:00:00+00:00</td>\n",
       "      <td>Анимационный</td>\n",
       "      <td>ДримУоркс Анимэйшн</td>\n",
       "      <td>США</td>\n",
       "      <td>Дженнифер Ю</td>\n",
       "      <td>Мелисса Кобб, Джонатан Айбел, Гленн Бергер</td>\n",
       "      <td>«0+» - для любой зрительской аудитории</td>\n",
       "      <td>NaN</td>\n",
       "      <td>NaN</td>\n",
       "      <td>NaN</td>\n",
       "      <td>NaN</td>\n",
       "      <td>7.40</td>\n",
       "      <td>мультфильм,фэнтези,боевик</td>\n",
       "      <td>NaN</td>\n",
       "    </tr>\n",
       "    <tr>\n",
       "      <th>5225</th>\n",
       "      <td>Кунг-фу Панда 2</td>\n",
       "      <td>124000911</td>\n",
       "      <td>2011-04-28 12:00:00+00:00</td>\n",
       "      <td>Анимационный</td>\n",
       "      <td>ДримУоркс Анимэйшн</td>\n",
       "      <td>США</td>\n",
       "      <td>Дженнифер Ю</td>\n",
       "      <td>Мелисса Кобб</td>\n",
       "      <td>«0+» - для любой зрительской аудитории</td>\n",
       "      <td>NaN</td>\n",
       "      <td>NaN</td>\n",
       "      <td>NaN</td>\n",
       "      <td>NaN</td>\n",
       "      <td>7.40</td>\n",
       "      <td>мультфильм,фэнтези,боевик</td>\n",
       "      <td>94,515.00</td>\n",
       "    </tr>\n",
       "    <tr>\n",
       "      <th>5389</th>\n",
       "      <td>Кунг-фу Панда 2.</td>\n",
       "      <td>224021411</td>\n",
       "      <td>2011-11-15 12:00:00+00:00</td>\n",
       "      <td>Анимационный</td>\n",
       "      <td>ДримУоркс Анимэйшн</td>\n",
       "      <td>США</td>\n",
       "      <td>Дженнифер Ю</td>\n",
       "      <td>Мелисса Кобб, Джонатан Айбел, Гленн Бергер</td>\n",
       "      <td>«0+» - для любой зрительской аудитории</td>\n",
       "      <td>NaN</td>\n",
       "      <td>NaN</td>\n",
       "      <td>NaN</td>\n",
       "      <td>NaN</td>\n",
       "      <td>7.40</td>\n",
       "      <td>мультфильм,фэнтези,боевик</td>\n",
       "      <td>9,270.00</td>\n",
       "    </tr>\n",
       "  </tbody>\n",
       "</table>\n",
       "</div>"
      ],
      "text/plain": [
       "                 title   puNumber           show_start_date          type  \\\n",
       "5037  Кунг-фу Панда 2.  224021511 2011-11-16 12:00:00+00:00  Анимационный   \n",
       "5225   Кунг-фу Панда 2  124000911 2011-04-28 12:00:00+00:00  Анимационный   \n",
       "5389  Кунг-фу Панда 2.  224021411 2011-11-15 12:00:00+00:00  Анимационный   \n",
       "\n",
       "             film_studio production_country     director  \\\n",
       "5037  ДримУоркс Анимэйшн                США  Дженнифер Ю   \n",
       "5225  ДримУоркс Анимэйшн                США  Дженнифер Ю   \n",
       "5389  ДримУоркс Анимэйшн                США  Дженнифер Ю   \n",
       "\n",
       "                                        producer  \\\n",
       "5037  Мелисса Кобб, Джонатан Айбел, Гленн Бергер   \n",
       "5225                                Мелисса Кобб   \n",
       "5389  Мелисса Кобб, Джонатан Айбел, Гленн Бергер   \n",
       "\n",
       "                             age_restriction  refundable_support  \\\n",
       "5037  «0+» - для любой зрительской аудитории                 NaN   \n",
       "5225  «0+» - для любой зрительской аудитории                 NaN   \n",
       "5389  «0+» - для любой зрительской аудитории                 NaN   \n",
       "\n",
       "      nonrefundable_support  budget financing_source  ratings  \\\n",
       "5037                    NaN     NaN              NaN     7.40   \n",
       "5225                    NaN     NaN              NaN     7.40   \n",
       "5389                    NaN     NaN              NaN     7.40   \n",
       "\n",
       "                         genres  box_office  \n",
       "5037  мультфильм,фэнтези,боевик         NaN  \n",
       "5225  мультфильм,фэнтези,боевик   94,515.00  \n",
       "5389  мультфильм,фэнтези,боевик    9,270.00  "
      ]
     },
     "execution_count": 54,
     "metadata": {},
     "output_type": "execute_result"
    }
   ],
   "source": [
    "data[data['title'].str.contains('Кунг-фу Панда 2', case=False)]"
   ]
  },
  {
   "cell_type": "markdown",
   "metadata": {},
   "source": [
    "Так и есть. Хотя общая сумма для этого мультфильма в предоставленных данных всё ещё кажется слишком маленькой. Вероятнее всего сборы конкретных лицензий действительно могут быть такими низкими."
   ]
  },
  {
   "cell_type": "code",
   "execution_count": 55,
   "metadata": {},
   "outputs": [
    {
     "data": {
      "text/plain": [
       "<AxesSubplot:>"
      ]
     },
     "execution_count": 55,
     "metadata": {},
     "output_type": "execute_result"
    },
    {
     "data": {
      "image/png": "[encoded data removed]",
      "text/plain": [
       "<Figure size 432x288 with 1 Axes>"
      ]
     },
     "metadata": {
      "needs_background": "light"
     },
     "output_type": "display_data"
    }
   ],
   "source": [
    "data.boxplot('refundable_support')  "
   ]
  },
  {
   "cell_type": "code",
   "execution_count": 56,
   "metadata": {},
   "outputs": [
    {
     "data": {
      "text/plain": [
       "31"
      ]
     },
     "execution_count": 56,
     "metadata": {},
     "output_type": "execute_result"
    }
   ],
   "source": [
    "len(data.loc[data['refundable_support'] > 40000000])"
   ]
  },
  {
   "cell_type": "markdown",
   "metadata": {},
   "source": [
    "Больше половины фильмов, для которых есть информация в столбце 'refundable_support', имеют значение ноль, то есть не получали гос.поддержки в формате возвратных средств. По диаграмме размаха видно, что данные больше 40 млн. попадают за пределы нормального распределения и могут считаться статистическими выбросами. Таких значений 31, то есть около 10% от всей заполненной информаци в данном столбце"
   ]
  },
  {
   "cell_type": "code",
   "execution_count": 57,
   "metadata": {},
   "outputs": [
    {
     "data": {
      "text/plain": [
       "<AxesSubplot:>"
      ]
     },
     "execution_count": 57,
     "metadata": {},
     "output_type": "execute_result"
    },
    {
     "data": {
      "image/png": "[encoded data removed]",
      "text/plain": [
       "<Figure size 432x288 with 1 Axes>"
      ]
     },
     "metadata": {
      "needs_background": "light"
     },
     "output_type": "display_data"
    }
   ],
   "source": [
    "data['nonrefundable_support'].hist(bins = 33)"
   ]
  },
  {
   "cell_type": "code",
   "execution_count": 58,
   "metadata": {},
   "outputs": [
    {
     "data": {
      "text/plain": [
       "<AxesSubplot:>"
      ]
     },
     "execution_count": 58,
     "metadata": {},
     "output_type": "execute_result"
    },
    {
     "data": {
      "image/png": "[encoded data removed]",
      "text/plain": [
       "<Figure size 432x288 with 1 Axes>"
      ]
     },
     "metadata": {
      "needs_background": "light"
     },
     "output_type": "display_data"
    }
   ],
   "source": [
    "data.boxplot('nonrefundable_support')"
   ]
  },
  {
   "cell_type": "markdown",
   "metadata": {},
   "source": [
    "По столбцу 'nonrefundable_support' аномальными значениями можно считать объём гос.поддержки чуть выше 6 млн."
   ]
  },
  {
   "cell_type": "code",
   "execution_count": 59,
   "metadata": {},
   "outputs": [
    {
     "data": {
      "text/plain": [
       "<AxesSubplot:>"
      ]
     },
     "execution_count": 59,
     "metadata": {},
     "output_type": "execute_result"
    },
    {
     "data": {
      "image/png": "[encoded data removed]",
      "text/plain": [
       "<Figure size 432x288 with 1 Axes>"
      ]
     },
     "metadata": {
      "needs_background": "light"
     },
     "output_type": "display_data"
    }
   ],
   "source": [
    "data.boxplot('budget')"
   ]
  },
  {
   "cell_type": "code",
   "execution_count": 60,
   "metadata": {},
   "outputs": [
    {
     "data": {
      "text/plain": [
       "28"
      ]
     },
     "execution_count": 60,
     "metadata": {},
     "output_type": "execute_result"
    }
   ],
   "source": [
    "len(data.loc[data['budget'] > 300000000])"
   ]
  },
  {
   "cell_type": "markdown",
   "metadata": {},
   "source": [
    "Поскольку столбец 'budget' включает в себя данные, в том числе по гос.поддержке, очевидно, что и по нему есть статистические выбросы. По диаграмме размеха такими выбросами можно считать строки с бюджетом выше 300 млн.руб."
   ]
  },
  {
   "cell_type": "code",
   "execution_count": 61,
   "metadata": {},
   "outputs": [
    {
     "data": {
      "text/plain": [
       "<AxesSubplot:>"
      ]
     },
     "execution_count": 61,
     "metadata": {},
     "output_type": "execute_result"
    },
    {
     "data": {
      "image/png": "[encoded data removed]",
      "text/plain": [
       "<Figure size 432x288 with 1 Axes>"
      ]
     },
     "metadata": {
      "needs_background": "light"
     },
     "output_type": "display_data"
    }
   ],
   "source": [
    "data.boxplot('ratings')"
   ]
  },
  {
   "cell_type": "markdown",
   "metadata": {},
   "source": [
    "Для столбца 'ratings' большая часть фильмов укладывается в оценку от 4 до 9. Выбросами можно считать выходящие за эти рамки значения."
   ]
  },
  {
   "cell_type": "code",
   "execution_count": 62,
   "metadata": {},
   "outputs": [
    {
     "data": {
      "text/html": [
       "<div>\n",
       "<style scoped>\n",
       "    .dataframe tbody tr th:only-of-type {\n",
       "        vertical-align: middle;\n",
       "    }\n",
       "\n",
       "    .dataframe tbody tr th {\n",
       "        vertical-align: top;\n",
       "    }\n",
       "\n",
       "    .dataframe thead th {\n",
       "        text-align: right;\n",
       "    }\n",
       "</style>\n",
       "<table border=\"1\" class=\"dataframe\">\n",
       "  <thead>\n",
       "    <tr style=\"text-align: right;\">\n",
       "      <th></th>\n",
       "      <th>title</th>\n",
       "      <th>puNumber</th>\n",
       "      <th>show_start_date</th>\n",
       "      <th>type</th>\n",
       "      <th>film_studio</th>\n",
       "      <th>production_country</th>\n",
       "      <th>director</th>\n",
       "      <th>producer</th>\n",
       "      <th>age_restriction</th>\n",
       "      <th>refundable_support</th>\n",
       "      <th>nonrefundable_support</th>\n",
       "      <th>budget</th>\n",
       "      <th>financing_source</th>\n",
       "      <th>ratings</th>\n",
       "      <th>genres</th>\n",
       "      <th>box_office</th>\n",
       "    </tr>\n",
       "  </thead>\n",
       "  <tbody>\n",
       "    <tr>\n",
       "      <th>1471</th>\n",
       "      <td>Друзья друзей</td>\n",
       "      <td>111014513</td>\n",
       "      <td>2013-12-19 12:00:00+00:00</td>\n",
       "      <td>Художественный</td>\n",
       "      <td>ООО \"ЕМ Продакшн\"</td>\n",
       "      <td>Россия</td>\n",
       "      <td>А.Аксененко</td>\n",
       "      <td>Г.Малков, В.Поляков, Г.Андреасян, С.Андреасян</td>\n",
       "      <td>«16+» - для детей старше 16 лет</td>\n",
       "      <td>NaN</td>\n",
       "      <td>NaN</td>\n",
       "      <td>NaN</td>\n",
       "      <td>NaN</td>\n",
       "      <td>9.20</td>\n",
       "      <td>комедия,мелодрама</td>\n",
       "      <td>27,780.00</td>\n",
       "    </tr>\n",
       "    <tr>\n",
       "      <th>7302</th>\n",
       "      <td>Побег из Шоушенка</td>\n",
       "      <td>121029519</td>\n",
       "      <td>2019-10-18 12:00:00+00:00</td>\n",
       "      <td>Художественный</td>\n",
       "      <td>Уорнер Броз. Пикчерз, Кастл Рок Интертейнмент</td>\n",
       "      <td>США</td>\n",
       "      <td>Фрэнк Дарабонт</td>\n",
       "      <td>Лиз Глоцер, Дэвид В.Лестер, Ники Марвин</td>\n",
       "      <td>«16+» - для детей старше 16 лет</td>\n",
       "      <td>NaN</td>\n",
       "      <td>NaN</td>\n",
       "      <td>NaN</td>\n",
       "      <td>NaN</td>\n",
       "      <td>9.10</td>\n",
       "      <td>драма</td>\n",
       "      <td>NaN</td>\n",
       "    </tr>\n",
       "  </tbody>\n",
       "</table>\n",
       "</div>"
      ],
      "text/plain": [
       "                  title   puNumber           show_start_date            type  \\\n",
       "1471      Друзья друзей  111014513 2013-12-19 12:00:00+00:00  Художественный   \n",
       "7302  Побег из Шоушенка  121029519 2019-10-18 12:00:00+00:00  Художественный   \n",
       "\n",
       "                                        film_studio production_country  \\\n",
       "1471                              ООО \"ЕМ Продакшн\"             Россия   \n",
       "7302  Уорнер Броз. Пикчерз, Кастл Рок Интертейнмент                США   \n",
       "\n",
       "            director                                       producer  \\\n",
       "1471     А.Аксененко  Г.Малков, В.Поляков, Г.Андреасян, С.Андреасян   \n",
       "7302  Фрэнк Дарабонт        Лиз Глоцер, Дэвид В.Лестер, Ники Марвин   \n",
       "\n",
       "                      age_restriction  refundable_support  \\\n",
       "1471  «16+» - для детей старше 16 лет                 NaN   \n",
       "7302  «16+» - для детей старше 16 лет                 NaN   \n",
       "\n",
       "      nonrefundable_support  budget financing_source  ratings  \\\n",
       "1471                    NaN     NaN              NaN     9.20   \n",
       "7302                    NaN     NaN              NaN     9.10   \n",
       "\n",
       "                 genres  box_office  \n",
       "1471  комедия,мелодрама   27,780.00  \n",
       "7302              драма         NaN  "
      ]
     },
     "execution_count": 62,
     "metadata": {},
     "output_type": "execute_result"
    }
   ],
   "source": [
    "data[data['ratings'] > 9]"
   ]
  },
  {
   "cell_type": "markdown",
   "metadata": {},
   "source": [
    "Стало интересно, что за фильмы получили зрительский рейтинг выше 9. \"Друзья друзей\" явно подхватил оценку сериала \"Друзья\". На Кинопоиске у фильма всё-таки оценка 3,3. Я его удалю."
   ]
  },
  {
   "cell_type": "code",
   "execution_count": 63,
   "metadata": {},
   "outputs": [],
   "source": [
    "data.drop(labels = [1471], axis = 0, inplace = True)"
   ]
  },
  {
   "cell_type": "markdown",
   "metadata": {},
   "source": [
    "Столбцы refundable_support, nonrefundable_support, budget, ratings содержат аномально высокие значения, которые могут оказывать влияние на исследование. Для дальнейших расчётов следовало бы их исключить. Но так как данных и без того очень мало, оставляю датафрейм без изменений"
   ]
  },
  {
   "cell_type": "markdown",
   "metadata": {
    "id": "Eu6oWp2CgFyS"
   },
   "source": [
    "#### Шаг 2.6. Добавьте новые столбцы\n",
    "\n",
    "\n",
    "\n"
   ]
  },
  {
   "cell_type": "markdown",
   "metadata": {
    "id": "7GgW-UpAgFyS"
   },
   "source": [
    "- Создайте столбец с информацией о годе проката. Выделите год из даты премьеры фильма."
   ]
  },
  {
   "cell_type": "code",
   "execution_count": 64,
   "metadata": {
    "id": "I-yd1DkWgFyT"
   },
   "outputs": [],
   "source": [
    "data['year'] = data['show_start_date'].dt.year"
   ]
  },
  {
   "cell_type": "markdown",
   "metadata": {
    "id": "nFTDLDYOgFyT"
   },
   "source": [
    "- Создайте два столбца: с именем и фамилией главного режиссёра и основным жанром фильма. В столбцы войдут первые значения из списка режиссёров и жанров соответственно.\n",
    "\n",
    "<div id=\"accordion\">\n",
    "    <div class=\"card\">\n",
    "        <div class=\"card-header\" id=\"headingThree\">\n",
    "            <button class=\"btn btn-link collapsed\" data-toggle=\"collapse\" data-target=\"#collapseHint_2\" aria-expanded=\"false\" aria-controls=\"collapseHint_2\">Подсказка</button>\n",
    "        </div>\n",
    "        <div id=\"collapseHint_2\" class=\"collapse\" aria-labelledby=\"headingThree\" data-parent=\"#accordion\">\n",
    "            <div class=\"card-body\">\n",
    "Чтобы создать такие столбцы, лучше всего использовать собственную функцию. Эту функцию можно применить к двум столбцам сразу. \n",
    "            </div>\n",
    "        </div>\n",
    "    </div>\n",
    "</div>"
   ]
  },
  {
   "cell_type": "code",
   "execution_count": 65,
   "metadata": {
    "id": "LSbRZKbMgFyU"
   },
   "outputs": [],
   "source": [
    "def general(row):\n",
    "    general = row.split(',')\n",
    "    return general[0]\n",
    "\n",
    "data['general_director'] = data['director'].apply(general)\n",
    "data['genres'] = data['genres'].apply(general)"
   ]
  },
  {
   "cell_type": "markdown",
   "metadata": {
    "id": "1FsCXHwdgFyU"
   },
   "source": [
    "- Посчитайте, какую долю от общего бюджета фильма составляет государственная поддержка."
   ]
  },
  {
   "cell_type": "code",
   "execution_count": 66,
   "metadata": {
    "id": "LV6qFuZLgFyV"
   },
   "outputs": [],
   "source": [
    "data['support_rate'] = (data['refundable_support'] + data['nonrefundable_support']) / data['budget']"
   ]
  },
  {
   "cell_type": "markdown",
   "metadata": {
    "id": "6t4EukPLgFyV"
   },
   "source": [
    "### Шаг 3. Проведите исследовательский анализ данных\n"
   ]
  },
  {
   "cell_type": "markdown",
   "metadata": {
    "id": "vAH8WCzugFyV"
   },
   "source": [
    "- Посмотрите, сколько фильмов выходило в прокат каждый год. Обратите внимание, что данные о прокате в кинотеатрах известны не для всех фильмов. Посчитайте, какую долю составляют фильмы с указанной информацией о прокате в кинотеатрах."
   ]
  },
  {
   "cell_type": "code",
   "execution_count": 69,
   "metadata": {},
   "outputs": [
    {
     "data": {
      "text/html": [
       "<div>\n",
       "<style scoped>\n",
       "    .dataframe tbody tr th:only-of-type {\n",
       "        vertical-align: middle;\n",
       "    }\n",
       "\n",
       "    .dataframe tbody tr th {\n",
       "        vertical-align: top;\n",
       "    }\n",
       "\n",
       "    .dataframe thead th {\n",
       "        text-align: right;\n",
       "    }\n",
       "</style>\n",
       "<table border=\"1\" class=\"dataframe\">\n",
       "  <thead>\n",
       "    <tr style=\"text-align: right;\">\n",
       "      <th></th>\n",
       "      <th>title</th>\n",
       "      <th>box_office</th>\n",
       "      <th>ratio</th>\n",
       "    </tr>\n",
       "    <tr>\n",
       "      <th>year</th>\n",
       "      <th></th>\n",
       "      <th></th>\n",
       "      <th></th>\n",
       "    </tr>\n",
       "  </thead>\n",
       "  <tbody>\n",
       "    <tr>\n",
       "      <th>2010</th>\n",
       "      <td>817</td>\n",
       "      <td>102</td>\n",
       "      <td>0.12</td>\n",
       "    </tr>\n",
       "    <tr>\n",
       "      <th>2011</th>\n",
       "      <td>558</td>\n",
       "      <td>108</td>\n",
       "      <td>0.19</td>\n",
       "    </tr>\n",
       "    <tr>\n",
       "      <th>2012</th>\n",
       "      <td>556</td>\n",
       "      <td>128</td>\n",
       "      <td>0.23</td>\n",
       "    </tr>\n",
       "    <tr>\n",
       "      <th>2013</th>\n",
       "      <td>614</td>\n",
       "      <td>183</td>\n",
       "      <td>0.30</td>\n",
       "    </tr>\n",
       "    <tr>\n",
       "      <th>2014</th>\n",
       "      <td>765</td>\n",
       "      <td>277</td>\n",
       "      <td>0.36</td>\n",
       "    </tr>\n",
       "    <tr>\n",
       "      <th>2015</th>\n",
       "      <td>688</td>\n",
       "      <td>463</td>\n",
       "      <td>0.67</td>\n",
       "    </tr>\n",
       "    <tr>\n",
       "      <th>2016</th>\n",
       "      <td>782</td>\n",
       "      <td>522</td>\n",
       "      <td>0.67</td>\n",
       "    </tr>\n",
       "    <tr>\n",
       "      <th>2017</th>\n",
       "      <td>505</td>\n",
       "      <td>357</td>\n",
       "      <td>0.71</td>\n",
       "    </tr>\n",
       "    <tr>\n",
       "      <th>2018</th>\n",
       "      <td>884</td>\n",
       "      <td>475</td>\n",
       "      <td>0.54</td>\n",
       "    </tr>\n",
       "    <tr>\n",
       "      <th>2019</th>\n",
       "      <td>925</td>\n",
       "      <td>530</td>\n",
       "      <td>0.57</td>\n",
       "    </tr>\n",
       "  </tbody>\n",
       "</table>\n",
       "</div>"
      ],
      "text/plain": [
       "      title  box_office  ratio\n",
       "year                          \n",
       "2010    817         102   0.12\n",
       "2011    558         108   0.19\n",
       "2012    556         128   0.23\n",
       "2013    614         183   0.30\n",
       "2014    765         277   0.36\n",
       "2015    688         463   0.67\n",
       "2016    782         522   0.67\n",
       "2017    505         357   0.71\n",
       "2018    884         475   0.54\n",
       "2019    925         530   0.57"
      ]
     },
     "execution_count": 69,
     "metadata": {},
     "output_type": "execute_result"
    }
   ],
   "source": [
    "year_group = data.groupby(['year','title']).agg({'box_office':'max'}).reset_index().groupby('year')['title', 'box_office'].count()\n",
    "year_group['ratio'] = year_group['box_office'] / year_group['title']\n",
    "year_group"
   ]
  },
  {
   "cell_type": "code",
   "execution_count": 70,
   "metadata": {},
   "outputs": [
    {
     "data": {
      "text/plain": [
       "Text(0, 0.5, 'Доля')"
      ]
     },
     "execution_count": 70,
     "metadata": {},
     "output_type": "execute_result"
    },
    {
     "data": {
      "image/png": "[encoded data removed]",
      "text/plain": [
       "<Figure size 864x360 with 1 Axes>"
      ]
     },
     "metadata": {
      "needs_background": "light"
     },
     "output_type": "display_data"
    }
   ],
   "source": [
    "year_group['ratio'].plot(grid=True, figsize=(12, 5))\n",
    "plt.title('Доля фильмов по годам, с указанной информацией по сборам')\n",
    "plt.xlabel('Год')\n",
    "plt.ylabel('Доля')"
   ]
  },
  {
   "cell_type": "markdown",
   "metadata": {},
   "source": [
    "Наибольшая доля фильмов, с указанной информацией о прокате в кинотеатрах в 2015-2017 годах."
   ]
  },
  {
   "cell_type": "markdown",
   "metadata": {
    "id": "BEOdcIrIgFyW"
   },
   "source": [
    "- Изучите, как менялась динамика проката по годам. В каком году сумма сборов была минимальной? А максимальной?"
   ]
  },
  {
   "cell_type": "code",
   "execution_count": 71,
   "metadata": {
    "id": "tfEhofYvgFyX"
   },
   "outputs": [
    {
     "data": {
      "text/plain": [
       "Text(0, 0.5, 'Сборы(млрд.руб.)')"
      ]
     },
     "execution_count": 71,
     "metadata": {},
     "output_type": "execute_result"
    },
    {
     "data": {
      "image/png": "[encoded data removed]",
      "text/plain": [
       "<Figure size 864x360 with 1 Axes>"
      ]
     },
     "metadata": {
      "needs_background": "light"
     },
     "output_type": "display_data"
    }
   ],
   "source": [
    "data.pivot_table(index = 'year', values = 'box_office', aggfunc = 'sum').plot(grid=True, figsize=(12, 5))\n",
    "plt.title('Динамика проката по годам')\n",
    "plt.xlabel('Год')\n",
    "plt.ylabel('Сборы(млрд.руб.)')"
   ]
  },
  {
   "cell_type": "markdown",
   "metadata": {},
   "source": [
    "Минимальная сумма сборов в 2010 году. Начиная с 2013 года сборы растут, а с 2016 выходят на плато. Наибольшая сумма зафиксирована в 2018."
   ]
  },
  {
   "cell_type": "markdown",
   "metadata": {
    "id": "G-7qS-N-gFyY"
   },
   "source": [
    "- С помощью сводной таблицы посчитайте среднюю и медианную сумму сборов для каждого года."
   ]
  },
  {
   "cell_type": "code",
   "execution_count": 72,
   "metadata": {
    "id": "jmp-rgg9gFyY"
   },
   "outputs": [
    {
     "data": {
      "text/html": [
       "<div>\n",
       "<style scoped>\n",
       "    .dataframe tbody tr th:only-of-type {\n",
       "        vertical-align: middle;\n",
       "    }\n",
       "\n",
       "    .dataframe tbody tr th {\n",
       "        vertical-align: top;\n",
       "    }\n",
       "\n",
       "    .dataframe thead th {\n",
       "        text-align: right;\n",
       "    }\n",
       "</style>\n",
       "<table border=\"1\" class=\"dataframe\">\n",
       "  <thead>\n",
       "    <tr style=\"text-align: right;\">\n",
       "      <th></th>\n",
       "      <th>mean</th>\n",
       "      <th>median</th>\n",
       "    </tr>\n",
       "    <tr>\n",
       "      <th>year</th>\n",
       "      <th></th>\n",
       "      <th></th>\n",
       "    </tr>\n",
       "  </thead>\n",
       "  <tbody>\n",
       "    <tr>\n",
       "      <th>2010</th>\n",
       "      <td>23,130.04</td>\n",
       "      <td>1,700.00</td>\n",
       "    </tr>\n",
       "    <tr>\n",
       "      <th>2011</th>\n",
       "      <td>129,383.17</td>\n",
       "      <td>3,000.00</td>\n",
       "    </tr>\n",
       "    <tr>\n",
       "      <th>2012</th>\n",
       "      <td>54,339.24</td>\n",
       "      <td>5,660.00</td>\n",
       "    </tr>\n",
       "    <tr>\n",
       "      <th>2013</th>\n",
       "      <td>162,688.12</td>\n",
       "      <td>3,500.00</td>\n",
       "    </tr>\n",
       "    <tr>\n",
       "      <th>2014</th>\n",
       "      <td>26,684,415.27</td>\n",
       "      <td>18,160.00</td>\n",
       "    </tr>\n",
       "    <tr>\n",
       "      <th>2015</th>\n",
       "      <td>84,940,570.31</td>\n",
       "      <td>4,920,933.00</td>\n",
       "    </tr>\n",
       "    <tr>\n",
       "      <th>2016</th>\n",
       "      <td>91,000,569.85</td>\n",
       "      <td>3,846,679.41</td>\n",
       "    </tr>\n",
       "    <tr>\n",
       "      <th>2017</th>\n",
       "      <td>136,032,793.33</td>\n",
       "      <td>9,968,340.00</td>\n",
       "    </tr>\n",
       "    <tr>\n",
       "      <th>2018</th>\n",
       "      <td>104,565,059.23</td>\n",
       "      <td>8,891,102.21</td>\n",
       "    </tr>\n",
       "    <tr>\n",
       "      <th>2019</th>\n",
       "      <td>91,369,261.85</td>\n",
       "      <td>4,627,798.34</td>\n",
       "    </tr>\n",
       "  </tbody>\n",
       "</table>\n",
       "</div>"
      ],
      "text/plain": [
       "               mean       median\n",
       "year                            \n",
       "2010      23,130.04     1,700.00\n",
       "2011     129,383.17     3,000.00\n",
       "2012      54,339.24     5,660.00\n",
       "2013     162,688.12     3,500.00\n",
       "2014  26,684,415.27    18,160.00\n",
       "2015  84,940,570.31 4,920,933.00\n",
       "2016  91,000,569.85 3,846,679.41\n",
       "2017 136,032,793.33 9,968,340.00\n",
       "2018 104,565,059.23 8,891,102.21\n",
       "2019  91,369,261.85 4,627,798.34"
      ]
     },
     "execution_count": 72,
     "metadata": {},
     "output_type": "execute_result"
    }
   ],
   "source": [
    "data.pivot_table(index = 'year', values = 'box_office', aggfunc = ('mean', 'median'))"
   ]
  },
  {
   "cell_type": "markdown",
   "metadata": {},
   "source": [
    "С точки зрения прибыли с одного фильма - успешнее всё-таки 2017 год.  \n",
    "На медианные значения прокатных сборов в меньшей степени влияют сборы самых успешных (или наименее успешных) проектов. Из данных не были удалены статистические выбросы, поэтому их влияние отражается в большой разнице между медианой и ср.значением."
   ]
  },
  {
   "cell_type": "markdown",
   "metadata": {
    "id": "Ok89WFwJgFyZ"
   },
   "source": [
    "- Определите, влияет ли возрастное ограничение аудитории («6+», «12+», «16+», «18+» и т. д.) на сборы фильма в прокате в период с 2015 по 2019 год? Фильмы с каким возрастным ограничением собрали больше всего денег в прокате? Меняется ли картина в зависимости от года? Если да, предположите, с чем это может быть связано."
   ]
  },
  {
   "cell_type": "code",
   "execution_count": 73,
   "metadata": {
    "id": "jsSbEqfjgFya",
    "scrolled": true
   },
   "outputs": [
    {
     "data": {
      "text/html": [
       "<div>\n",
       "<style scoped>\n",
       "    .dataframe tbody tr th:only-of-type {\n",
       "        vertical-align: middle;\n",
       "    }\n",
       "\n",
       "    .dataframe tbody tr th {\n",
       "        vertical-align: top;\n",
       "    }\n",
       "\n",
       "    .dataframe thead th {\n",
       "        text-align: right;\n",
       "    }\n",
       "</style>\n",
       "<table border=\"1\" class=\"dataframe\">\n",
       "  <thead>\n",
       "    <tr style=\"text-align: right;\">\n",
       "      <th>year</th>\n",
       "      <th>2015</th>\n",
       "      <th>2016</th>\n",
       "      <th>2017</th>\n",
       "      <th>2018</th>\n",
       "      <th>2019</th>\n",
       "      <th>All</th>\n",
       "    </tr>\n",
       "    <tr>\n",
       "      <th>age_restriction</th>\n",
       "      <th></th>\n",
       "      <th></th>\n",
       "      <th></th>\n",
       "      <th></th>\n",
       "      <th></th>\n",
       "      <th></th>\n",
       "    </tr>\n",
       "  </thead>\n",
       "  <tbody>\n",
       "    <tr>\n",
       "      <th>«0+» - для любой зрительской аудитории</th>\n",
       "      <td>379,054,578.37</td>\n",
       "      <td>150,228,848.67</td>\n",
       "      <td>229,598,930.00</td>\n",
       "      <td>32,449,002.11</td>\n",
       "      <td>17,746,066.82</td>\n",
       "      <td>809,077,425.97</td>\n",
       "    </tr>\n",
       "    <tr>\n",
       "      <th>«12+» - для детей старше 12 лет</th>\n",
       "      <td>13,616,082,008.91</td>\n",
       "      <td>12,204,446,524.39</td>\n",
       "      <td>7,851,427,660.67</td>\n",
       "      <td>14,267,291,660.69</td>\n",
       "      <td>12,680,198,773.67</td>\n",
       "      <td>60,619,446,628.33</td>\n",
       "    </tr>\n",
       "    <tr>\n",
       "      <th>«16+» - для детей старше 16 лет</th>\n",
       "      <td>11,368,120,870.27</td>\n",
       "      <td>16,664,548,541.74</td>\n",
       "      <td>18,745,042,900.06</td>\n",
       "      <td>16,503,602,346.96</td>\n",
       "      <td>12,753,418,984.60</td>\n",
       "      <td>76,034,733,643.63</td>\n",
       "    </tr>\n",
       "    <tr>\n",
       "      <th>«18+» - запрещено для детей</th>\n",
       "      <td>5,432,308,367.44</td>\n",
       "      <td>6,793,929,818.87</td>\n",
       "      <td>9,651,495,581.02</td>\n",
       "      <td>8,760,085,501.15</td>\n",
       "      <td>10,121,796,303.64</td>\n",
       "      <td>40,759,615,572.12</td>\n",
       "    </tr>\n",
       "    <tr>\n",
       "      <th>«6+» - для детей старше 6 лет</th>\n",
       "      <td>8,701,799,371.41</td>\n",
       "      <td>12,053,146,008.24</td>\n",
       "      <td>12,086,142,145.76</td>\n",
       "      <td>10,104,974,623.41</td>\n",
       "      <td>12,852,548,650.86</td>\n",
       "      <td>55,798,610,799.68</td>\n",
       "    </tr>\n",
       "    <tr>\n",
       "      <th>All</th>\n",
       "      <td>39,497,365,196.40</td>\n",
       "      <td>47,866,299,741.91</td>\n",
       "      <td>48,563,707,217.51</td>\n",
       "      <td>49,668,403,134.32</td>\n",
       "      <td>48,425,708,779.59</td>\n",
       "      <td>234,021,484,069.73</td>\n",
       "    </tr>\n",
       "  </tbody>\n",
       "</table>\n",
       "</div>"
      ],
      "text/plain": [
       "year                                                2015              2016  \\\n",
       "age_restriction                                                              \n",
       "«0+» - для любой зрительской аудитории    379,054,578.37    150,228,848.67   \n",
       "«12+» - для детей старше 12 лет        13,616,082,008.91 12,204,446,524.39   \n",
       "«16+» - для детей старше 16 лет        11,368,120,870.27 16,664,548,541.74   \n",
       "«18+» - запрещено для детей             5,432,308,367.44  6,793,929,818.87   \n",
       "«6+» - для детей старше 6 лет           8,701,799,371.41 12,053,146,008.24   \n",
       "All                                    39,497,365,196.40 47,866,299,741.91   \n",
       "\n",
       "year                                                2017              2018  \\\n",
       "age_restriction                                                              \n",
       "«0+» - для любой зрительской аудитории    229,598,930.00     32,449,002.11   \n",
       "«12+» - для детей старше 12 лет         7,851,427,660.67 14,267,291,660.69   \n",
       "«16+» - для детей старше 16 лет        18,745,042,900.06 16,503,602,346.96   \n",
       "«18+» - запрещено для детей             9,651,495,581.02  8,760,085,501.15   \n",
       "«6+» - для детей старше 6 лет          12,086,142,145.76 10,104,974,623.41   \n",
       "All                                    48,563,707,217.51 49,668,403,134.32   \n",
       "\n",
       "year                                                2019                All  \n",
       "age_restriction                                                              \n",
       "«0+» - для любой зрительской аудитории     17,746,066.82     809,077,425.97  \n",
       "«12+» - для детей старше 12 лет        12,680,198,773.67  60,619,446,628.33  \n",
       "«16+» - для детей старше 16 лет        12,753,418,984.60  76,034,733,643.63  \n",
       "«18+» - запрещено для детей            10,121,796,303.64  40,759,615,572.12  \n",
       "«6+» - для детей старше 6 лет          12,852,548,650.86  55,798,610,799.68  \n",
       "All                                    48,425,708,779.59 234,021,484,069.73  "
      ]
     },
     "execution_count": 73,
     "metadata": {},
     "output_type": "execute_result"
    }
   ],
   "source": [
    "data.query('year >= 2015').pivot_table(index = 'age_restriction', columns = 'year', values = 'box_office', aggfunc = 'sum', margins = True)"
   ]
  },
  {
   "cell_type": "code",
   "execution_count": 74,
   "metadata": {},
   "outputs": [
    {
     "data": {
      "text/plain": [
       "Text(0, 0.5, 'ВК')"
      ]
     },
     "execution_count": 74,
     "metadata": {},
     "output_type": "execute_result"
    },
    {
     "data": {
      "image/png": "[encoded data removed]",
      "text/plain": [
       "<Figure size 1008x576 with 1 Axes>"
      ]
     },
     "metadata": {
      "needs_background": "light"
     },
     "output_type": "display_data"
    }
   ],
   "source": [
    "(\n",
    "data.query('year >= 2015')\n",
    "    .pivot_table(index = 'age_restriction', columns = 'year', values = 'box_office', aggfunc = 'sum')\n",
    "    .plot(kind = 'barh', grid = True, figsize = (14, 8))\n",
    ")\n",
    "plt.title('Прокатные сборы по возрастным категориям 2015 - 2019 гг.')\n",
    "plt.xlabel('Сборы(млрд.руб.)')\n",
    "plt.ylabel('ВК')"
   ]
  },
  {
   "cell_type": "code",
   "execution_count": 77,
   "metadata": {},
   "outputs": [
    {
     "data": {
      "text/html": [
       "<div>\n",
       "<style scoped>\n",
       "    .dataframe tbody tr th:only-of-type {\n",
       "        vertical-align: middle;\n",
       "    }\n",
       "\n",
       "    .dataframe tbody tr th {\n",
       "        vertical-align: top;\n",
       "    }\n",
       "\n",
       "    .dataframe thead th {\n",
       "        text-align: right;\n",
       "    }\n",
       "</style>\n",
       "<table border=\"1\" class=\"dataframe\">\n",
       "  <thead>\n",
       "    <tr style=\"text-align: right;\">\n",
       "      <th>year</th>\n",
       "      <th>2015</th>\n",
       "      <th>2016</th>\n",
       "      <th>2017</th>\n",
       "      <th>2018</th>\n",
       "      <th>2019</th>\n",
       "    </tr>\n",
       "    <tr>\n",
       "      <th>age_restriction</th>\n",
       "      <th></th>\n",
       "      <th></th>\n",
       "      <th></th>\n",
       "      <th></th>\n",
       "      <th></th>\n",
       "    </tr>\n",
       "  </thead>\n",
       "  <tbody>\n",
       "    <tr>\n",
       "      <th>«0+» - для любой зрительской аудитории</th>\n",
       "      <td>2,943,318.70</td>\n",
       "      <td>2,571,294.10</td>\n",
       "      <td>22,178,956.00</td>\n",
       "      <td>3,616,937.28</td>\n",
       "      <td>3,885,434.50</td>\n",
       "    </tr>\n",
       "    <tr>\n",
       "      <th>«12+» - для детей старше 12 лет</th>\n",
       "      <td>15,351,562.50</td>\n",
       "      <td>4,690,635.25</td>\n",
       "      <td>9,010,548.00</td>\n",
       "      <td>8,931,965.66</td>\n",
       "      <td>3,405,545.76</td>\n",
       "    </tr>\n",
       "    <tr>\n",
       "      <th>«16+» - для детей старше 16 лет</th>\n",
       "      <td>4,676,819.40</td>\n",
       "      <td>5,133,021.74</td>\n",
       "      <td>9,702,077.00</td>\n",
       "      <td>9,010,638.62</td>\n",
       "      <td>3,210,717.81</td>\n",
       "    </tr>\n",
       "    <tr>\n",
       "      <th>«18+» - запрещено для детей</th>\n",
       "      <td>4,616,614.70</td>\n",
       "      <td>6,107,001.74</td>\n",
       "      <td>8,212,677.00</td>\n",
       "      <td>7,179,466.00</td>\n",
       "      <td>5,603,216.55</td>\n",
       "    </tr>\n",
       "    <tr>\n",
       "      <th>«6+» - для детей старше 6 лет</th>\n",
       "      <td>20,380,982.20</td>\n",
       "      <td>3,026,256.15</td>\n",
       "      <td>51,992,103.00</td>\n",
       "      <td>14,688,850.32</td>\n",
       "      <td>12,875,350.34</td>\n",
       "    </tr>\n",
       "  </tbody>\n",
       "</table>\n",
       "</div>"
      ],
      "text/plain": [
       "year                                            2015         2016  \\\n",
       "age_restriction                                                     \n",
       "«0+» - для любой зрительской аудитории  2,943,318.70 2,571,294.10   \n",
       "«12+» - для детей старше 12 лет        15,351,562.50 4,690,635.25   \n",
       "«16+» - для детей старше 16 лет         4,676,819.40 5,133,021.74   \n",
       "«18+» - запрещено для детей             4,616,614.70 6,107,001.74   \n",
       "«6+» - для детей старше 6 лет          20,380,982.20 3,026,256.15   \n",
       "\n",
       "year                                            2017          2018  \\\n",
       "age_restriction                                                      \n",
       "«0+» - для любой зрительской аудитории 22,178,956.00  3,616,937.28   \n",
       "«12+» - для детей старше 12 лет         9,010,548.00  8,931,965.66   \n",
       "«16+» - для детей старше 16 лет         9,702,077.00  9,010,638.62   \n",
       "«18+» - запрещено для детей             8,212,677.00  7,179,466.00   \n",
       "«6+» - для детей старше 6 лет          51,992,103.00 14,688,850.32   \n",
       "\n",
       "year                                            2019  \n",
       "age_restriction                                       \n",
       "«0+» - для любой зрительской аудитории  3,885,434.50  \n",
       "«12+» - для детей старше 12 лет         3,405,545.76  \n",
       "«16+» - для детей старше 16 лет         3,210,717.81  \n",
       "«18+» - запрещено для детей             5,603,216.55  \n",
       "«6+» - для детей старше 6 лет          12,875,350.34  "
      ]
     },
     "execution_count": 77,
     "metadata": {},
     "output_type": "execute_result"
    }
   ],
   "source": [
    "data.query('year >= 2015').pivot_table(index = 'age_restriction', columns = 'year', values = 'box_office', aggfunc = 'median')"
   ]
  },
  {
   "cell_type": "markdown",
   "metadata": {},
   "source": [
    "В период с 2015 по 2019 год наибольшая сумма сборов у фильмов с возрастным ограничением 16+.  \n",
    "Тем не менее, такие фильмы не каждый год становились лидерми проката.  \n",
    "В 2015 первенство было за ВК 12+, а в 2019 категории от 6+ и выше практически сравнялись по сборам. \n",
    "\n",
    "А вот согласно медианным значениям, лидер 6+. Практически для всех категорий. Худшие показатели у 0+, за исключением 2017 года с аномально высоким показателем медианы. Тем не менее только эта категория показывает небольшой, но рост, за последние 2 года."
   ]
  },
  {
   "cell_type": "markdown",
   "metadata": {
    "id": "l_Kg6Ku4gFya"
   },
   "source": [
    "### Шаг 4. Исследуйте фильмы, которые получили государственную поддержку\n",
    "\n",
    "На этом этапе нет конкретных инструкций и заданий — поищите интересные закономерности в данных. Посмотрите, сколько выделяют средств на поддержку кино. Проверьте, хорошо ли окупаются такие фильмы, какой у них рейтинг."
   ]
  },
  {
   "cell_type": "markdown",
   "metadata": {},
   "source": [
    "Выделю фильмы, получившие гос.поддержку, в отдельный датафрейм."
   ]
  },
  {
   "cell_type": "code",
   "execution_count": 78,
   "metadata": {
    "id": "W9QKpjUdgFyb"
   },
   "outputs": [],
   "source": [
    "national_support = data.loc[(data['refundable_support'] > 0) | (data['nonrefundable_support'] > 0)]"
   ]
  },
  {
   "cell_type": "code",
   "execution_count": 79,
   "metadata": {},
   "outputs": [],
   "source": [
    "national_support['support'] = data['refundable_support'] + data['nonrefundable_support']"
   ]
  },
  {
   "cell_type": "markdown",
   "metadata": {},
   "source": [
    "Считаю пропуски по столбцу сборов. Удаляю из датасета."
   ]
  },
  {
   "cell_type": "code",
   "execution_count": 80,
   "metadata": {},
   "outputs": [
    {
     "data": {
      "text/plain": [
       "14"
      ]
     },
     "execution_count": 80,
     "metadata": {},
     "output_type": "execute_result"
    }
   ],
   "source": [
    "national_support['box_office'].isna().sum()"
   ]
  },
  {
   "cell_type": "code",
   "execution_count": 81,
   "metadata": {},
   "outputs": [],
   "source": [
    "national_support = national_support.dropna(subset = ['box_office'])"
   ]
  },
  {
   "cell_type": "code",
   "execution_count": 82,
   "metadata": {},
   "outputs": [
    {
     "data": {
      "text/html": [
       "<div>\n",
       "<style scoped>\n",
       "    .dataframe tbody tr th:only-of-type {\n",
       "        vertical-align: middle;\n",
       "    }\n",
       "\n",
       "    .dataframe tbody tr th {\n",
       "        vertical-align: top;\n",
       "    }\n",
       "\n",
       "    .dataframe thead th {\n",
       "        text-align: right;\n",
       "    }\n",
       "</style>\n",
       "<table border=\"1\" class=\"dataframe\">\n",
       "  <thead>\n",
       "    <tr style=\"text-align: right;\">\n",
       "      <th></th>\n",
       "      <th>refundable_support</th>\n",
       "      <th>nonrefundable_support</th>\n",
       "      <th>budget</th>\n",
       "      <th>ratings</th>\n",
       "      <th>box_office</th>\n",
       "      <th>year</th>\n",
       "      <th>support_rate</th>\n",
       "      <th>support</th>\n",
       "    </tr>\n",
       "  </thead>\n",
       "  <tbody>\n",
       "    <tr>\n",
       "      <th>count</th>\n",
       "      <td>318.00</td>\n",
       "      <td>318.00</td>\n",
       "      <td>318.00</td>\n",
       "      <td>301.00</td>\n",
       "      <td>318.00</td>\n",
       "      <td>318.00</td>\n",
       "      <td>318.00</td>\n",
       "      <td>318.00</td>\n",
       "    </tr>\n",
       "    <tr>\n",
       "      <th>mean</th>\n",
       "      <td>11,946,540.88</td>\n",
       "      <td>48,780,403.50</td>\n",
       "      <td>132,006,722.08</td>\n",
       "      <td>6.00</td>\n",
       "      <td>132,432,420.05</td>\n",
       "      <td>2,016.65</td>\n",
       "      <td>0.54</td>\n",
       "      <td>60,726,944.38</td>\n",
       "    </tr>\n",
       "    <tr>\n",
       "      <th>std</th>\n",
       "      <td>24,817,662.19</td>\n",
       "      <td>57,792,390.58</td>\n",
       "      <td>184,957,591.55</td>\n",
       "      <td>1.13</td>\n",
       "      <td>334,837,856.99</td>\n",
       "      <td>1.62</td>\n",
       "      <td>0.20</td>\n",
       "      <td>69,705,239.66</td>\n",
       "    </tr>\n",
       "    <tr>\n",
       "      <th>min</th>\n",
       "      <td>0.00</td>\n",
       "      <td>0.00</td>\n",
       "      <td>6,000,000.00</td>\n",
       "      <td>1.00</td>\n",
       "      <td>1,550.00</td>\n",
       "      <td>2,013.00</td>\n",
       "      <td>0.04</td>\n",
       "      <td>4,700,000.00</td>\n",
       "    </tr>\n",
       "    <tr>\n",
       "      <th>25%</th>\n",
       "      <td>0.00</td>\n",
       "      <td>25,000,000.00</td>\n",
       "      <td>46,153,856.25</td>\n",
       "      <td>5.30</td>\n",
       "      <td>1,236,675.50</td>\n",
       "      <td>2,015.00</td>\n",
       "      <td>0.38</td>\n",
       "      <td>26,000,000.00</td>\n",
       "    </tr>\n",
       "    <tr>\n",
       "      <th>50%</th>\n",
       "      <td>0.00</td>\n",
       "      <td>30,000,000.00</td>\n",
       "      <td>74,955,000.00</td>\n",
       "      <td>6.20</td>\n",
       "      <td>15,720,067.71</td>\n",
       "      <td>2,016.00</td>\n",
       "      <td>0.61</td>\n",
       "      <td>35,000,000.00</td>\n",
       "    </tr>\n",
       "    <tr>\n",
       "      <th>75%</th>\n",
       "      <td>15,000,000.00</td>\n",
       "      <td>44,125,000.00</td>\n",
       "      <td>150,006,429.75</td>\n",
       "      <td>6.70</td>\n",
       "      <td>106,373,008.27</td>\n",
       "      <td>2,018.00</td>\n",
       "      <td>0.66</td>\n",
       "      <td>60,000,000.00</td>\n",
       "    </tr>\n",
       "    <tr>\n",
       "      <th>max</th>\n",
       "      <td>180,000,000.00</td>\n",
       "      <td>400,000,000.00</td>\n",
       "      <td>2,305,074,303.00</td>\n",
       "      <td>8.50</td>\n",
       "      <td>3,073,568,690.79</td>\n",
       "      <td>2,019.00</td>\n",
       "      <td>1.00</td>\n",
       "      <td>500,000,000.00</td>\n",
       "    </tr>\n",
       "  </tbody>\n",
       "</table>\n",
       "</div>"
      ],
      "text/plain": [
       "       refundable_support  nonrefundable_support           budget  ratings  \\\n",
       "count              318.00                 318.00           318.00   301.00   \n",
       "mean        11,946,540.88          48,780,403.50   132,006,722.08     6.00   \n",
       "std         24,817,662.19          57,792,390.58   184,957,591.55     1.13   \n",
       "min                  0.00                   0.00     6,000,000.00     1.00   \n",
       "25%                  0.00          25,000,000.00    46,153,856.25     5.30   \n",
       "50%                  0.00          30,000,000.00    74,955,000.00     6.20   \n",
       "75%         15,000,000.00          44,125,000.00   150,006,429.75     6.70   \n",
       "max        180,000,000.00         400,000,000.00 2,305,074,303.00     8.50   \n",
       "\n",
       "            box_office     year  support_rate        support  \n",
       "count           318.00   318.00        318.00         318.00  \n",
       "mean    132,432,420.05 2,016.65          0.54  60,726,944.38  \n",
       "std     334,837,856.99     1.62          0.20  69,705,239.66  \n",
       "min           1,550.00 2,013.00          0.04   4,700,000.00  \n",
       "25%       1,236,675.50 2,015.00          0.38  26,000,000.00  \n",
       "50%      15,720,067.71 2,016.00          0.61  35,000,000.00  \n",
       "75%     106,373,008.27 2,018.00          0.66  60,000,000.00  \n",
       "max   3,073,568,690.79 2,019.00          1.00 500,000,000.00  "
      ]
     },
     "execution_count": 82,
     "metadata": {},
     "output_type": "execute_result"
    }
   ],
   "source": [
    "national_support.describe()"
   ]
  },
  {
   "cell_type": "markdown",
   "metadata": {},
   "source": [
    "В выборку попало всего 318 фильма. Посмотрим, какая часть окупилась прокатом"
   ]
  },
  {
   "cell_type": "code",
   "execution_count": 83,
   "metadata": {},
   "outputs": [
    {
     "data": {
      "text/plain": [
       "0.24842767295597484"
      ]
     },
     "execution_count": 83,
     "metadata": {},
     "output_type": "execute_result"
    }
   ],
   "source": [
    "len(national_support.query('box_office > budget')) / len(national_support)"
   ]
  },
  {
   "cell_type": "code",
   "execution_count": 84,
   "metadata": {},
   "outputs": [],
   "source": [
    "national_support['repaid'] = national_support['box_office'] > national_support['budget']"
   ]
  },
  {
   "cell_type": "markdown",
   "metadata": {},
   "source": [
    "Только каждый 4ый фильм, в котором поучавствовало государство, окупается.  \n",
    "Посчитаем, сколько денег затрачено и сколько получено."
   ]
  },
  {
   "cell_type": "code",
   "execution_count": 85,
   "metadata": {},
   "outputs": [
    {
     "data": {
      "text/plain": [
       "19311168312.0"
      ]
     },
     "execution_count": 85,
     "metadata": {},
     "output_type": "execute_result"
    }
   ],
   "source": [
    "national_support['support'].sum()"
   ]
  },
  {
   "cell_type": "code",
   "execution_count": 86,
   "metadata": {},
   "outputs": [
    {
     "data": {
      "text/plain": [
       "42113509574.78"
      ]
     },
     "execution_count": 86,
     "metadata": {},
     "output_type": "execute_result"
    }
   ],
   "source": [
    "national_support['box_office'].sum()"
   ]
  },
  {
   "cell_type": "markdown",
   "metadata": {},
   "source": [
    "Рассмотрим объём сборов и гос.поддержки по годам."
   ]
  },
  {
   "cell_type": "code",
   "execution_count": 87,
   "metadata": {},
   "outputs": [
    {
     "data": {
      "text/plain": [
       "Text(0, 0.5, 'Сборы(млрд.руб.)')"
      ]
     },
     "execution_count": 87,
     "metadata": {},
     "output_type": "execute_result"
    },
    {
     "data": {
      "image/png": "[encoded data removed]",
      "text/plain": [
       "<Figure size 864x360 with 1 Axes>"
      ]
     },
     "metadata": {
      "needs_background": "light"
     },
     "output_type": "display_data"
    }
   ],
   "source": [
    "national_support.pivot_table(index = 'year', values = ['box_office', 'support'], aggfunc = 'sum').plot(grid=True, figsize=(12, 5))\n",
    "plt.title('Динамика по прокатным сборам и гос.поддержке')\n",
    "plt.xlabel('Год')\n",
    "plt.ylabel('Сборы(млрд.руб.)')"
   ]
  },
  {
   "cell_type": "markdown",
   "metadata": {},
   "source": [
    "В 2013 году объём потраченных государством денег превысил сборы.  \n",
    "Лучший год, с точки зрения общего оборота, - 2017.  \n",
    "Посмотрим топ 7 лучших фильмов по сборам с гос.поддержкой."
   ]
  },
  {
   "cell_type": "code",
   "execution_count": 88,
   "metadata": {},
   "outputs": [
    {
     "data": {
      "text/html": [
       "<div>\n",
       "<style scoped>\n",
       "    .dataframe tbody tr th:only-of-type {\n",
       "        vertical-align: middle;\n",
       "    }\n",
       "\n",
       "    .dataframe tbody tr th {\n",
       "        vertical-align: top;\n",
       "    }\n",
       "\n",
       "    .dataframe thead th {\n",
       "        text-align: right;\n",
       "    }\n",
       "</style>\n",
       "<table border=\"1\" class=\"dataframe\">\n",
       "  <thead>\n",
       "    <tr style=\"text-align: right;\">\n",
       "      <th></th>\n",
       "      <th>title</th>\n",
       "      <th>puNumber</th>\n",
       "      <th>show_start_date</th>\n",
       "      <th>type</th>\n",
       "      <th>film_studio</th>\n",
       "      <th>production_country</th>\n",
       "      <th>director</th>\n",
       "      <th>producer</th>\n",
       "      <th>age_restriction</th>\n",
       "      <th>refundable_support</th>\n",
       "      <th>...</th>\n",
       "      <th>budget</th>\n",
       "      <th>financing_source</th>\n",
       "      <th>ratings</th>\n",
       "      <th>genres</th>\n",
       "      <th>box_office</th>\n",
       "      <th>year</th>\n",
       "      <th>general_director</th>\n",
       "      <th>support_rate</th>\n",
       "      <th>support</th>\n",
       "      <th>repaid</th>\n",
       "    </tr>\n",
       "  </thead>\n",
       "  <tbody>\n",
       "    <tr>\n",
       "      <th>7456</th>\n",
       "      <td>Холоп</td>\n",
       "      <td>111021719</td>\n",
       "      <td>2019-12-19 12:00:00+00:00</td>\n",
       "      <td>Художественный</td>\n",
       "      <td>ООО \"МЕМ-МЕДИА\" по заказу АО \"ВБД Груп\"</td>\n",
       "      <td>Россия</td>\n",
       "      <td>К.Шипенко</td>\n",
       "      <td>Э.Илоян, Д.Жалинский, В.Дусмухаметов, Т.Бадзие...</td>\n",
       "      <td>«12+» - для детей старше 12 лет</td>\n",
       "      <td>25,000,000.00</td>\n",
       "      <td>...</td>\n",
       "      <td>160,000,000.00</td>\n",
       "      <td>Фонд кино</td>\n",
       "      <td>6.80</td>\n",
       "      <td>комедия</td>\n",
       "      <td>3,073,568,690.79</td>\n",
       "      <td>2019</td>\n",
       "      <td>К.Шипенко</td>\n",
       "      <td>0.38</td>\n",
       "      <td>60,000,000.00</td>\n",
       "      <td>True</td>\n",
       "    </tr>\n",
       "    <tr>\n",
       "      <th>5653</th>\n",
       "      <td>Движение вверх</td>\n",
       "      <td>111011817</td>\n",
       "      <td>2017-12-21 12:00:00+00:00</td>\n",
       "      <td>Художественный</td>\n",
       "      <td>ООО \"Студия \"ТРИТЭ\" Никиты Михалкова\"</td>\n",
       "      <td>Россия</td>\n",
       "      <td>А.Мегердичев</td>\n",
       "      <td>Л.Верещагин, А.Златопольский, Н.Михалков, ООО ...</td>\n",
       "      <td>«6+» - для детей старше 6 лет</td>\n",
       "      <td>0.00</td>\n",
       "      <td>...</td>\n",
       "      <td>590,192,191.00</td>\n",
       "      <td>Фонд кино</td>\n",
       "      <td>7.50</td>\n",
       "      <td>спорт</td>\n",
       "      <td>2,779,686,144.00</td>\n",
       "      <td>2017</td>\n",
       "      <td>А.Мегердичев</td>\n",
       "      <td>0.68</td>\n",
       "      <td>400,000,000.00</td>\n",
       "      <td>True</td>\n",
       "    </tr>\n",
       "    <tr>\n",
       "      <th>6549</th>\n",
       "      <td>Т-34</td>\n",
       "      <td>111024918</td>\n",
       "      <td>2018-12-21 12:00:00+00:00</td>\n",
       "      <td>Художественный</td>\n",
       "      <td>ООО \"Кинокомпания МАРС-фильм\" по заказу ООО \"М...</td>\n",
       "      <td>Россия</td>\n",
       "      <td>А.Сидоров</td>\n",
       "      <td>А.Златопольский, Р.Дишдишян, Л.Блаватник, Н.Яр...</td>\n",
       "      <td>«12+» - для детей старше 12 лет</td>\n",
       "      <td>60,000,000.00</td>\n",
       "      <td>...</td>\n",
       "      <td>563,784,717.00</td>\n",
       "      <td>Фонд кино</td>\n",
       "      <td>6.50</td>\n",
       "      <td>драма</td>\n",
       "      <td>2,271,754,004.52</td>\n",
       "      <td>2018</td>\n",
       "      <td>А.Сидоров</td>\n",
       "      <td>0.32</td>\n",
       "      <td>180,000,000.00</td>\n",
       "      <td>True</td>\n",
       "    </tr>\n",
       "    <tr>\n",
       "      <th>5505</th>\n",
       "      <td>Последний богатырь</td>\n",
       "      <td>111007017</td>\n",
       "      <td>2017-10-19 12:00:00+00:00</td>\n",
       "      <td>Художественный</td>\n",
       "      <td>ООО \"Киностудия \"Слово\" по заказу ООО \"Уолт Ди...</td>\n",
       "      <td>Россия</td>\n",
       "      <td>Д.Дьяченко</td>\n",
       "      <td>Э.Илоян, Д.Жалинский, М.Озкан, А.Троцюк, В.Шляппо</td>\n",
       "      <td>«12+» - для детей старше 12 лет</td>\n",
       "      <td>50,000,000.00</td>\n",
       "      <td>...</td>\n",
       "      <td>352,477,575.00</td>\n",
       "      <td>Фонд кино</td>\n",
       "      <td>6.80</td>\n",
       "      <td>комедия</td>\n",
       "      <td>1,655,037,688.00</td>\n",
       "      <td>2017</td>\n",
       "      <td>Д.Дьяченко</td>\n",
       "      <td>0.28</td>\n",
       "      <td>100,000,000.00</td>\n",
       "      <td>True</td>\n",
       "    </tr>\n",
       "    <tr>\n",
       "      <th>5708</th>\n",
       "      <td>Лёд</td>\n",
       "      <td>111000518</td>\n",
       "      <td>2018-02-01 12:00:00+00:00</td>\n",
       "      <td>Художественный</td>\n",
       "      <td>ООО \"Водород 2011\", ООО \"Арт Пикчерс Студия\", ...</td>\n",
       "      <td>Россия</td>\n",
       "      <td>О.Трофим</td>\n",
       "      <td>М.Врубель, А.Андрющенко, Ф.Бондарчук, Д.Рудовс...</td>\n",
       "      <td>«12+» - для детей старше 12 лет</td>\n",
       "      <td>25,000,000.00</td>\n",
       "      <td>...</td>\n",
       "      <td>148,585,222.00</td>\n",
       "      <td>Фонд кино</td>\n",
       "      <td>NaN</td>\n",
       "      <td>Unknowen</td>\n",
       "      <td>1,445,731,797.89</td>\n",
       "      <td>2018</td>\n",
       "      <td>О.Трофим</td>\n",
       "      <td>0.57</td>\n",
       "      <td>85,000,000.00</td>\n",
       "      <td>True</td>\n",
       "    </tr>\n",
       "    <tr>\n",
       "      <th>2920</th>\n",
       "      <td>Экипаж .</td>\n",
       "      <td>111005416</td>\n",
       "      <td>2016-03-21 12:00:00+00:00</td>\n",
       "      <td>Художественный</td>\n",
       "      <td>ООО \"Студия \"ТРИТЭ\" Никиты Михалкова\"</td>\n",
       "      <td>Россия</td>\n",
       "      <td>Н.Лебедев</td>\n",
       "      <td>Л.Верещагин, А.Златопольский, Н.Михалков, ООО ...</td>\n",
       "      <td>«6+» - для детей старше 6 лет</td>\n",
       "      <td>50,000,000.00</td>\n",
       "      <td>...</td>\n",
       "      <td>635,283,867.00</td>\n",
       "      <td>Фонд кино</td>\n",
       "      <td>7.60</td>\n",
       "      <td>драма</td>\n",
       "      <td>1,402,255,390.00</td>\n",
       "      <td>2016</td>\n",
       "      <td>Н.Лебедев</td>\n",
       "      <td>0.70</td>\n",
       "      <td>442,104,482.00</td>\n",
       "      <td>True</td>\n",
       "    </tr>\n",
       "    <tr>\n",
       "      <th>3565</th>\n",
       "      <td>Притяжение (2016)</td>\n",
       "      <td>111018116</td>\n",
       "      <td>2016-12-16 12:00:00+00:00</td>\n",
       "      <td>Художественный</td>\n",
       "      <td>ООО \"Водород 2011\",  ООО \"Арт Пикчерс Студия\"</td>\n",
       "      <td>Россия</td>\n",
       "      <td>Ф.Бондарчук</td>\n",
       "      <td>ООО \"Арт Пикчерс Студия\"</td>\n",
       "      <td>«12+» - для детей старше 12 лет</td>\n",
       "      <td>0.00</td>\n",
       "      <td>...</td>\n",
       "      <td>250,000,000.00</td>\n",
       "      <td>Фонд кино</td>\n",
       "      <td>5.60</td>\n",
       "      <td>фантастика</td>\n",
       "      <td>1,038,321,489.00</td>\n",
       "      <td>2016</td>\n",
       "      <td>Ф.Бондарчук</td>\n",
       "      <td>1.00</td>\n",
       "      <td>250,000,000.00</td>\n",
       "      <td>True</td>\n",
       "    </tr>\n",
       "  </tbody>\n",
       "</table>\n",
       "<p>7 rows × 21 columns</p>\n",
       "</div>"
      ],
      "text/plain": [
       "                   title   puNumber           show_start_date            type  \\\n",
       "7456               Холоп  111021719 2019-12-19 12:00:00+00:00  Художественный   \n",
       "5653      Движение вверх  111011817 2017-12-21 12:00:00+00:00  Художественный   \n",
       "6549                Т-34  111024918 2018-12-21 12:00:00+00:00  Художественный   \n",
       "5505  Последний богатырь  111007017 2017-10-19 12:00:00+00:00  Художественный   \n",
       "5708                 Лёд  111000518 2018-02-01 12:00:00+00:00  Художественный   \n",
       "2920            Экипаж .  111005416 2016-03-21 12:00:00+00:00  Художественный   \n",
       "3565   Притяжение (2016)  111018116 2016-12-16 12:00:00+00:00  Художественный   \n",
       "\n",
       "                                            film_studio production_country  \\\n",
       "7456            ООО \"МЕМ-МЕДИА\" по заказу АО \"ВБД Груп\"             Россия   \n",
       "5653              ООО \"Студия \"ТРИТЭ\" Никиты Михалкова\"             Россия   \n",
       "6549  ООО \"Кинокомпания МАРС-фильм\" по заказу ООО \"М...             Россия   \n",
       "5505  ООО \"Киностудия \"Слово\" по заказу ООО \"Уолт Ди...             Россия   \n",
       "5708  ООО \"Водород 2011\", ООО \"Арт Пикчерс Студия\", ...             Россия   \n",
       "2920              ООО \"Студия \"ТРИТЭ\" Никиты Михалкова\"             Россия   \n",
       "3565      ООО \"Водород 2011\",  ООО \"Арт Пикчерс Студия\"             Россия   \n",
       "\n",
       "          director                                           producer  \\\n",
       "7456     К.Шипенко  Э.Илоян, Д.Жалинский, В.Дусмухаметов, Т.Бадзие...   \n",
       "5653  А.Мегердичев  Л.Верещагин, А.Златопольский, Н.Михалков, ООО ...   \n",
       "6549     А.Сидоров  А.Златопольский, Р.Дишдишян, Л.Блаватник, Н.Яр...   \n",
       "5505    Д.Дьяченко  Э.Илоян, Д.Жалинский, М.Озкан, А.Троцюк, В.Шляппо   \n",
       "5708      О.Трофим  М.Врубель, А.Андрющенко, Ф.Бондарчук, Д.Рудовс...   \n",
       "2920     Н.Лебедев  Л.Верещагин, А.Златопольский, Н.Михалков, ООО ...   \n",
       "3565   Ф.Бондарчук                           ООО \"Арт Пикчерс Студия\"   \n",
       "\n",
       "                      age_restriction  refundable_support  ...         budget  \\\n",
       "7456  «12+» - для детей старше 12 лет       25,000,000.00  ... 160,000,000.00   \n",
       "5653    «6+» - для детей старше 6 лет                0.00  ... 590,192,191.00   \n",
       "6549  «12+» - для детей старше 12 лет       60,000,000.00  ... 563,784,717.00   \n",
       "5505  «12+» - для детей старше 12 лет       50,000,000.00  ... 352,477,575.00   \n",
       "5708  «12+» - для детей старше 12 лет       25,000,000.00  ... 148,585,222.00   \n",
       "2920    «6+» - для детей старше 6 лет       50,000,000.00  ... 635,283,867.00   \n",
       "3565  «12+» - для детей старше 12 лет                0.00  ... 250,000,000.00   \n",
       "\n",
       "      financing_source ratings      genres       box_office  year  \\\n",
       "7456         Фонд кино    6.80     комедия 3,073,568,690.79  2019   \n",
       "5653         Фонд кино    7.50       спорт 2,779,686,144.00  2017   \n",
       "6549         Фонд кино    6.50       драма 2,271,754,004.52  2018   \n",
       "5505         Фонд кино    6.80     комедия 1,655,037,688.00  2017   \n",
       "5708         Фонд кино     NaN    Unknowen 1,445,731,797.89  2018   \n",
       "2920         Фонд кино    7.60       драма 1,402,255,390.00  2016   \n",
       "3565         Фонд кино    5.60  фантастика 1,038,321,489.00  2016   \n",
       "\n",
       "      general_director support_rate        support  repaid  \n",
       "7456         К.Шипенко         0.38  60,000,000.00    True  \n",
       "5653      А.Мегердичев         0.68 400,000,000.00    True  \n",
       "6549         А.Сидоров         0.32 180,000,000.00    True  \n",
       "5505        Д.Дьяченко         0.28 100,000,000.00    True  \n",
       "5708          О.Трофим         0.57  85,000,000.00    True  \n",
       "2920         Н.Лебедев         0.70 442,104,482.00    True  \n",
       "3565       Ф.Бондарчук         1.00 250,000,000.00    True  \n",
       "\n",
       "[7 rows x 21 columns]"
      ]
     },
     "execution_count": 88,
     "metadata": {},
     "output_type": "execute_result"
    }
   ],
   "source": [
    "national_support.sort_values(by = 'box_office', ascending = False).head(7)"
   ]
  },
  {
   "cell_type": "markdown",
   "metadata": {},
   "source": [
    "Самые кассовые фильмы вышли в 2016-2019 годах"
   ]
  },
  {
   "cell_type": "code",
   "execution_count": 89,
   "metadata": {},
   "outputs": [
    {
     "data": {
      "text/plain": [
       "0.3245123795710487"
      ]
     },
     "execution_count": 89,
     "metadata": {},
     "output_type": "execute_result"
    }
   ],
   "source": [
    "national_support.query('box_office > 1000000000')['box_office'].sum() / national_support['box_office'].sum()"
   ]
  },
  {
   "cell_type": "markdown",
   "metadata": {},
   "source": [
    "Около 30% общих сборов обеспечили всего 7 картин.\n",
    "Посмотрим, какой тип фильмов принёс наибольшую прибыль"
   ]
  },
  {
   "cell_type": "code",
   "execution_count": 90,
   "metadata": {},
   "outputs": [
    {
     "data": {
      "text/html": [
       "<div>\n",
       "<style scoped>\n",
       "    .dataframe tbody tr th:only-of-type {\n",
       "        vertical-align: middle;\n",
       "    }\n",
       "\n",
       "    .dataframe tbody tr th {\n",
       "        vertical-align: top;\n",
       "    }\n",
       "\n",
       "    .dataframe thead tr th {\n",
       "        text-align: left;\n",
       "    }\n",
       "\n",
       "    .dataframe thead tr:last-of-type th {\n",
       "        text-align: right;\n",
       "    }\n",
       "</style>\n",
       "<table border=\"1\" class=\"dataframe\">\n",
       "  <thead>\n",
       "    <tr>\n",
       "      <th></th>\n",
       "      <th colspan=\"2\" halign=\"left\">box_office</th>\n",
       "    </tr>\n",
       "    <tr>\n",
       "      <th></th>\n",
       "      <th>sum</th>\n",
       "      <th>count</th>\n",
       "    </tr>\n",
       "    <tr>\n",
       "      <th>type</th>\n",
       "      <th></th>\n",
       "      <th></th>\n",
       "    </tr>\n",
       "  </thead>\n",
       "  <tbody>\n",
       "    <tr>\n",
       "      <th>Анимационный</th>\n",
       "      <td>5,623,293,149.06</td>\n",
       "      <td>30</td>\n",
       "    </tr>\n",
       "    <tr>\n",
       "      <th>Художественный</th>\n",
       "      <td>36,490,216,425.72</td>\n",
       "      <td>288</td>\n",
       "    </tr>\n",
       "  </tbody>\n",
       "</table>\n",
       "</div>"
      ],
      "text/plain": [
       "                      box_office      \n",
       "                             sum count\n",
       "type                                  \n",
       "Анимационный    5,623,293,149.06    30\n",
       "Художественный 36,490,216,425.72   288"
      ]
     },
     "execution_count": 90,
     "metadata": {},
     "output_type": "execute_result"
    }
   ],
   "source": [
    "national_support.groupby(['type']).agg({'box_office':['sum', 'count']})"
   ]
  },
  {
   "cell_type": "markdown",
   "metadata": {},
   "source": [
    "Судя по результатам, НаучПоп и документальное кино за государственные деньги не снимается.  \n",
    "Посмотрим, на фильмы каких жанров, выделяется больше всего денег."
   ]
  },
  {
   "cell_type": "code",
   "execution_count": 91,
   "metadata": {},
   "outputs": [
    {
     "data": {
      "text/html": [
       "<div>\n",
       "<style scoped>\n",
       "    .dataframe tbody tr th:only-of-type {\n",
       "        vertical-align: middle;\n",
       "    }\n",
       "\n",
       "    .dataframe tbody tr th {\n",
       "        vertical-align: top;\n",
       "    }\n",
       "\n",
       "    .dataframe thead th {\n",
       "        text-align: right;\n",
       "    }\n",
       "</style>\n",
       "<table border=\"1\" class=\"dataframe\">\n",
       "  <thead>\n",
       "    <tr style=\"text-align: right;\">\n",
       "      <th></th>\n",
       "      <th>support</th>\n",
       "    </tr>\n",
       "    <tr>\n",
       "      <th>genres</th>\n",
       "      <th></th>\n",
       "    </tr>\n",
       "  </thead>\n",
       "  <tbody>\n",
       "    <tr>\n",
       "      <th>драма</th>\n",
       "      <td>5,139,406,632.00</td>\n",
       "    </tr>\n",
       "    <tr>\n",
       "      <th>комедия</th>\n",
       "      <td>3,118,282,945.00</td>\n",
       "    </tr>\n",
       "    <tr>\n",
       "      <th>мультфильм</th>\n",
       "      <td>2,450,000,000.00</td>\n",
       "    </tr>\n",
       "    <tr>\n",
       "      <th>фэнтези</th>\n",
       "      <td>1,032,900,000.00</td>\n",
       "    </tr>\n",
       "    <tr>\n",
       "      <th>история</th>\n",
       "      <td>1,020,000,000.00</td>\n",
       "    </tr>\n",
       "    <tr>\n",
       "      <th>фантастика</th>\n",
       "      <td>906,000,000.00</td>\n",
       "    </tr>\n",
       "    <tr>\n",
       "      <th>триллер</th>\n",
       "      <td>769,645,285.00</td>\n",
       "    </tr>\n",
       "    <tr>\n",
       "      <th>приключения</th>\n",
       "      <td>661,000,000.00</td>\n",
       "    </tr>\n",
       "    <tr>\n",
       "      <th>Unknowen</th>\n",
       "      <td>658,969,465.00</td>\n",
       "    </tr>\n",
       "    <tr>\n",
       "      <th>детектив</th>\n",
       "      <td>485,000,000.00</td>\n",
       "    </tr>\n",
       "  </tbody>\n",
       "</table>\n",
       "</div>"
      ],
      "text/plain": [
       "                     support\n",
       "genres                      \n",
       "драма       5,139,406,632.00\n",
       "комедия     3,118,282,945.00\n",
       "мультфильм  2,450,000,000.00\n",
       "фэнтези     1,032,900,000.00\n",
       "история     1,020,000,000.00\n",
       "фантастика    906,000,000.00\n",
       "триллер       769,645,285.00\n",
       "приключения   661,000,000.00\n",
       "Unknowen      658,969,465.00\n",
       "детектив      485,000,000.00"
      ]
     },
     "execution_count": 91,
     "metadata": {},
     "output_type": "execute_result"
    }
   ],
   "source": [
    "national_support.pivot_table(index = 'genres', values = 'support', aggfunc = 'sum').sort_values(by = 'support', ascending = False).head(10)"
   ]
  },
  {
   "cell_type": "markdown",
   "metadata": {},
   "source": [
    "Больше всего денег было выделено на драмы, так же в топе комедии и мультфильмы.  \n",
    "Посмотрим топ жанров, принёсших наибольшую прибыль для фильмов с гос. поддержкой и для общего проката."
   ]
  },
  {
   "cell_type": "code",
   "execution_count": 92,
   "metadata": {},
   "outputs": [
    {
     "data": {
      "text/html": [
       "<div>\n",
       "<style scoped>\n",
       "    .dataframe tbody tr th:only-of-type {\n",
       "        vertical-align: middle;\n",
       "    }\n",
       "\n",
       "    .dataframe tbody tr th {\n",
       "        vertical-align: top;\n",
       "    }\n",
       "\n",
       "    .dataframe thead th {\n",
       "        text-align: right;\n",
       "    }\n",
       "</style>\n",
       "<table border=\"1\" class=\"dataframe\">\n",
       "  <thead>\n",
       "    <tr style=\"text-align: right;\">\n",
       "      <th></th>\n",
       "      <th>box_office</th>\n",
       "      <th>repaid</th>\n",
       "      <th>title</th>\n",
       "    </tr>\n",
       "    <tr>\n",
       "      <th>genres</th>\n",
       "      <th></th>\n",
       "      <th></th>\n",
       "      <th></th>\n",
       "    </tr>\n",
       "  </thead>\n",
       "  <tbody>\n",
       "    <tr>\n",
       "      <th>комедия</th>\n",
       "      <td>12,479,977,454.33</td>\n",
       "      <td>31</td>\n",
       "      <td>73</td>\n",
       "    </tr>\n",
       "    <tr>\n",
       "      <th>драма</th>\n",
       "      <td>9,490,844,101.04</td>\n",
       "      <td>14</td>\n",
       "      <td>87</td>\n",
       "    </tr>\n",
       "    <tr>\n",
       "      <th>мультфильм</th>\n",
       "      <td>5,622,014,134.66</td>\n",
       "      <td>12</td>\n",
       "      <td>30</td>\n",
       "    </tr>\n",
       "    <tr>\n",
       "      <th>спорт</th>\n",
       "      <td>2,967,768,387.44</td>\n",
       "      <td>2</td>\n",
       "      <td>3</td>\n",
       "    </tr>\n",
       "    <tr>\n",
       "      <th>фантастика</th>\n",
       "      <td>1,718,204,279.39</td>\n",
       "      <td>2</td>\n",
       "      <td>10</td>\n",
       "    </tr>\n",
       "    <tr>\n",
       "      <th>Unknowen</th>\n",
       "      <td>1,481,748,724.64</td>\n",
       "      <td>1</td>\n",
       "      <td>15</td>\n",
       "    </tr>\n",
       "    <tr>\n",
       "      <th>история</th>\n",
       "      <td>1,455,468,234.57</td>\n",
       "      <td>1</td>\n",
       "      <td>4</td>\n",
       "    </tr>\n",
       "    <tr>\n",
       "      <th>приключения</th>\n",
       "      <td>1,205,596,976.62</td>\n",
       "      <td>1</td>\n",
       "      <td>6</td>\n",
       "    </tr>\n",
       "    <tr>\n",
       "      <th>военный</th>\n",
       "      <td>1,017,670,471.80</td>\n",
       "      <td>3</td>\n",
       "      <td>9</td>\n",
       "    </tr>\n",
       "    <tr>\n",
       "      <th>фэнтези</th>\n",
       "      <td>995,836,607.97</td>\n",
       "      <td>1</td>\n",
       "      <td>11</td>\n",
       "    </tr>\n",
       "  </tbody>\n",
       "</table>\n",
       "</div>"
      ],
      "text/plain": [
       "                   box_office  repaid  title\n",
       "genres                                      \n",
       "комедия     12,479,977,454.33      31     73\n",
       "драма        9,490,844,101.04      14     87\n",
       "мультфильм   5,622,014,134.66      12     30\n",
       "спорт        2,967,768,387.44       2      3\n",
       "фантастика   1,718,204,279.39       2     10\n",
       "Unknowen     1,481,748,724.64       1     15\n",
       "история      1,455,468,234.57       1      4\n",
       "приключения  1,205,596,976.62       1      6\n",
       "военный      1,017,670,471.80       3      9\n",
       "фэнтези        995,836,607.97       1     11"
      ]
     },
     "execution_count": 92,
     "metadata": {},
     "output_type": "execute_result"
    }
   ],
   "source": [
    "national_support.pivot_table(index = 'genres', values=['box_office', 'title', 'repaid'], aggfunc = {'box_office':'sum', 'title':'nunique', 'repaid':'sum'}).sort_values(by = 'box_office', ascending = False).head(10)"
   ]
  },
  {
   "cell_type": "code",
   "execution_count": 93,
   "metadata": {},
   "outputs": [
    {
     "data": {
      "text/html": [
       "<div>\n",
       "<style scoped>\n",
       "    .dataframe tbody tr th:only-of-type {\n",
       "        vertical-align: middle;\n",
       "    }\n",
       "\n",
       "    .dataframe tbody tr th {\n",
       "        vertical-align: top;\n",
       "    }\n",
       "\n",
       "    .dataframe thead th {\n",
       "        text-align: right;\n",
       "    }\n",
       "</style>\n",
       "<table border=\"1\" class=\"dataframe\">\n",
       "  <thead>\n",
       "    <tr style=\"text-align: right;\">\n",
       "      <th></th>\n",
       "      <th>box_office</th>\n",
       "      <th>title</th>\n",
       "    </tr>\n",
       "    <tr>\n",
       "      <th>genres</th>\n",
       "      <th></th>\n",
       "      <th></th>\n",
       "    </tr>\n",
       "  </thead>\n",
       "  <tbody>\n",
       "    <tr>\n",
       "      <th>фантастика</th>\n",
       "      <td>50,986,431,810.00</td>\n",
       "      <td>356</td>\n",
       "    </tr>\n",
       "    <tr>\n",
       "      <th>мультфильм</th>\n",
       "      <td>36,959,939,316.08</td>\n",
       "      <td>472</td>\n",
       "    </tr>\n",
       "    <tr>\n",
       "      <th>боевик</th>\n",
       "      <td>27,598,666,334.18</td>\n",
       "      <td>518</td>\n",
       "    </tr>\n",
       "    <tr>\n",
       "      <th>фэнтези</th>\n",
       "      <td>26,508,737,382.60</td>\n",
       "      <td>277</td>\n",
       "    </tr>\n",
       "    <tr>\n",
       "      <th>комедия</th>\n",
       "      <td>24,476,415,574.63</td>\n",
       "      <td>642</td>\n",
       "    </tr>\n",
       "    <tr>\n",
       "      <th>драма</th>\n",
       "      <td>19,129,869,724.28</td>\n",
       "      <td>1548</td>\n",
       "    </tr>\n",
       "    <tr>\n",
       "      <th>ужасы</th>\n",
       "      <td>16,624,149,924.51</td>\n",
       "      <td>505</td>\n",
       "    </tr>\n",
       "    <tr>\n",
       "      <th>Unknowen</th>\n",
       "      <td>8,977,870,561.48</td>\n",
       "      <td>966</td>\n",
       "    </tr>\n",
       "    <tr>\n",
       "      <th>триллер</th>\n",
       "      <td>7,697,875,038.03</td>\n",
       "      <td>470</td>\n",
       "    </tr>\n",
       "    <tr>\n",
       "      <th>спорт</th>\n",
       "      <td>3,122,188,715.44</td>\n",
       "      <td>9</td>\n",
       "    </tr>\n",
       "  </tbody>\n",
       "</table>\n",
       "</div>"
      ],
      "text/plain": [
       "                  box_office  title\n",
       "genres                             \n",
       "фантастика 50,986,431,810.00    356\n",
       "мультфильм 36,959,939,316.08    472\n",
       "боевик     27,598,666,334.18    518\n",
       "фэнтези    26,508,737,382.60    277\n",
       "комедия    24,476,415,574.63    642\n",
       "драма      19,129,869,724.28   1548\n",
       "ужасы      16,624,149,924.51    505\n",
       "Unknowen    8,977,870,561.48    966\n",
       "триллер     7,697,875,038.03    470\n",
       "спорт       3,122,188,715.44      9"
      ]
     },
     "execution_count": 93,
     "metadata": {},
     "output_type": "execute_result"
    }
   ],
   "source": [
    "data.pivot_table(index = 'genres', values=['box_office', 'title'], aggfunc = {'box_office':'sum', 'title':'nunique'}).sort_values(by = 'box_office', ascending = False).head(10)"
   ]
  },
  {
   "cell_type": "markdown",
   "metadata": {},
   "source": [
    "С участием гос.поддержки снимают больше всего драм, комедий и мультфильмов. Логично, что по этим жанрам и больший прокатный сбор. На эти же категории было потрачено больше всего государственных денег.  \n",
    "  \n",
    "Тем не менее, по общему прокату самые большие кассовые сборы у жанров: фантастика, мультфильмы, боевики и фэнтези.  \n",
    "Фантастика и фэнтези тоже снимаются на государственные деньги, но по сборам не так успешны, а то и убыточны."
   ]
  },
  {
   "cell_type": "code",
   "execution_count": 94,
   "metadata": {},
   "outputs": [
    {
     "data": {
      "text/plain": [
       "Text(0, 0.5, 'Жанры')"
      ]
     },
     "execution_count": 94,
     "metadata": {},
     "output_type": "execute_result"
    },
    {
     "data": {
      "image/png": "[encoded data removed]",
      "text/plain": [
       "<Figure size 1080x576 with 1 Axes>"
      ]
     },
     "metadata": {
      "needs_background": "light"
     },
     "output_type": "display_data"
    }
   ],
   "source": [
    "(\n",
    "national_support.pivot_table(index = 'genres', values=['box_office', 'support'], aggfunc = 'sum')\n",
    "    .plot(grid=True, kind = 'barh', figsize=(15, 8))\n",
    ")\n",
    "plt.title('Сравнение объёма гос.поддержки и прибыли по жанрам')\n",
    "plt.xlabel('Сборы(млрд.руб.)')\n",
    "plt.ylabel('Жанры')"
   ]
  },
  {
   "cell_type": "markdown",
   "metadata": {},
   "source": [
    "Жанры, где затраты превышают прибыль: детективы, детские фильмы, криминал, мелодрамы, мюзиклы, триллеры и фэнтези.  \n",
    "Рассмотрим топ жанров, получившиx наивысшую оценку на Кинопоиске."
   ]
  },
  {
   "cell_type": "code",
   "execution_count": 95,
   "metadata": {},
   "outputs": [
    {
     "data": {
      "text/html": [
       "<div>\n",
       "<style scoped>\n",
       "    .dataframe tbody tr th:only-of-type {\n",
       "        vertical-align: middle;\n",
       "    }\n",
       "\n",
       "    .dataframe tbody tr th {\n",
       "        vertical-align: top;\n",
       "    }\n",
       "\n",
       "    .dataframe thead th {\n",
       "        text-align: right;\n",
       "    }\n",
       "</style>\n",
       "<table border=\"1\" class=\"dataframe\">\n",
       "  <thead>\n",
       "    <tr style=\"text-align: right;\">\n",
       "      <th></th>\n",
       "      <th>ratings</th>\n",
       "      <th>title</th>\n",
       "    </tr>\n",
       "    <tr>\n",
       "      <th>genres</th>\n",
       "      <th></th>\n",
       "      <th></th>\n",
       "    </tr>\n",
       "  </thead>\n",
       "  <tbody>\n",
       "    <tr>\n",
       "      <th>драма</th>\n",
       "      <td>6.44</td>\n",
       "      <td>87</td>\n",
       "    </tr>\n",
       "    <tr>\n",
       "      <th>фэнтези</th>\n",
       "      <td>6.09</td>\n",
       "      <td>11</td>\n",
       "    </tr>\n",
       "    <tr>\n",
       "      <th>мелодрама</th>\n",
       "      <td>6.01</td>\n",
       "      <td>14</td>\n",
       "    </tr>\n",
       "    <tr>\n",
       "      <th>мультфильм</th>\n",
       "      <td>5.76</td>\n",
       "      <td>30</td>\n",
       "    </tr>\n",
       "    <tr>\n",
       "      <th>триллер</th>\n",
       "      <td>5.71</td>\n",
       "      <td>15</td>\n",
       "    </tr>\n",
       "    <tr>\n",
       "      <th>комедия</th>\n",
       "      <td>5.53</td>\n",
       "      <td>73</td>\n",
       "    </tr>\n",
       "    <tr>\n",
       "      <th>ужасы</th>\n",
       "      <td>5.20</td>\n",
       "      <td>10</td>\n",
       "    </tr>\n",
       "  </tbody>\n",
       "</table>\n",
       "</div>"
      ],
      "text/plain": [
       "            ratings  title\n",
       "genres                    \n",
       "драма          6.44     87\n",
       "фэнтези        6.09     11\n",
       "мелодрама      6.01     14\n",
       "мультфильм     5.76     30\n",
       "триллер        5.71     15\n",
       "комедия        5.53     73\n",
       "ужасы          5.20     10"
      ]
     },
     "execution_count": 95,
     "metadata": {},
     "output_type": "execute_result"
    }
   ],
   "source": [
    "(\n",
    "national_support.query('genres != \"Unknowen\"')\n",
    "    .pivot_table(index = 'genres', values = ('title','ratings'), aggfunc = {'title':'count','ratings':'mean'})\n",
    "    .sort_values(by = 'title', ascending = False).head(7).sort_values(by = 'ratings', ascending = False)\n",
    ")"
   ]
  },
  {
   "cell_type": "code",
   "execution_count": 96,
   "metadata": {},
   "outputs": [
    {
     "data": {
      "text/html": [
       "<div>\n",
       "<style scoped>\n",
       "    .dataframe tbody tr th:only-of-type {\n",
       "        vertical-align: middle;\n",
       "    }\n",
       "\n",
       "    .dataframe tbody tr th {\n",
       "        vertical-align: top;\n",
       "    }\n",
       "\n",
       "    .dataframe thead th {\n",
       "        text-align: right;\n",
       "    }\n",
       "</style>\n",
       "<table border=\"1\" class=\"dataframe\">\n",
       "  <thead>\n",
       "    <tr style=\"text-align: right;\">\n",
       "      <th></th>\n",
       "      <th>ratings</th>\n",
       "      <th>title</th>\n",
       "    </tr>\n",
       "    <tr>\n",
       "      <th>genres</th>\n",
       "      <th></th>\n",
       "      <th></th>\n",
       "    </tr>\n",
       "  </thead>\n",
       "  <tbody>\n",
       "    <tr>\n",
       "      <th>драма</th>\n",
       "      <td>6.76</td>\n",
       "      <td>1548</td>\n",
       "    </tr>\n",
       "    <tr>\n",
       "      <th>фантастика</th>\n",
       "      <td>6.61</td>\n",
       "      <td>356</td>\n",
       "    </tr>\n",
       "    <tr>\n",
       "      <th>триллер</th>\n",
       "      <td>6.58</td>\n",
       "      <td>470</td>\n",
       "    </tr>\n",
       "    <tr>\n",
       "      <th>боевик</th>\n",
       "      <td>6.51</td>\n",
       "      <td>518</td>\n",
       "    </tr>\n",
       "    <tr>\n",
       "      <th>мультфильм</th>\n",
       "      <td>6.27</td>\n",
       "      <td>472</td>\n",
       "    </tr>\n",
       "    <tr>\n",
       "      <th>комедия</th>\n",
       "      <td>5.98</td>\n",
       "      <td>642</td>\n",
       "    </tr>\n",
       "    <tr>\n",
       "      <th>ужасы</th>\n",
       "      <td>5.64</td>\n",
       "      <td>505</td>\n",
       "    </tr>\n",
       "  </tbody>\n",
       "</table>\n",
       "</div>"
      ],
      "text/plain": [
       "            ratings  title\n",
       "genres                    \n",
       "драма          6.76   1548\n",
       "фантастика     6.61    356\n",
       "триллер        6.58    470\n",
       "боевик         6.51    518\n",
       "мультфильм     6.27    472\n",
       "комедия        5.98    642\n",
       "ужасы          5.64    505"
      ]
     },
     "execution_count": 96,
     "metadata": {},
     "output_type": "execute_result"
    }
   ],
   "source": [
    "(\n",
    "data.query('genres != \"Unknowen\"')\n",
    "    .pivot_table(index = 'genres', values = ('title','ratings'), aggfunc = {'title':'nunique','ratings':'mean'})\n",
    "    .sort_values(by = 'title', ascending = False).head(7).sort_values(by = 'ratings', ascending = False)\n",
    ")"
   ]
  },
  {
   "cell_type": "code",
   "execution_count": 97,
   "metadata": {},
   "outputs": [
    {
     "data": {
      "text/plain": [
       "5.999335548172757"
      ]
     },
     "execution_count": 97,
     "metadata": {},
     "output_type": "execute_result"
    }
   ],
   "source": [
    "national_support['ratings'].mean()"
   ]
  },
  {
   "cell_type": "code",
   "execution_count": 98,
   "metadata": {},
   "outputs": [
    {
     "data": {
      "text/plain": [
       "6.478380878951427"
      ]
     },
     "execution_count": 98,
     "metadata": {},
     "output_type": "execute_result"
    }
   ],
   "source": [
    "data['ratings'].mean()"
   ]
  },
  {
   "cell_type": "markdown",
   "metadata": {},
   "source": [
    "Среди самых популярных жанров с участием гос.поддержки лучшая оценка у драм и фэнтази.  \n",
    "По общему прокату драмы также остаются на первом месте по оценке зрителей Кинопоиска. Второе место за фантастикой.  \n",
    "Интересно, что средняя оценка фильмов с гос.поддержкой всего 5.9 против 6.5 по общему прокату."
   ]
  },
  {
   "cell_type": "code",
   "execution_count": 99,
   "metadata": {},
   "outputs": [
    {
     "data": {
      "text/html": [
       "<div>\n",
       "<style scoped>\n",
       "    .dataframe tbody tr th:only-of-type {\n",
       "        vertical-align: middle;\n",
       "    }\n",
       "\n",
       "    .dataframe tbody tr th {\n",
       "        vertical-align: top;\n",
       "    }\n",
       "\n",
       "    .dataframe thead th {\n",
       "        text-align: right;\n",
       "    }\n",
       "</style>\n",
       "<table border=\"1\" class=\"dataframe\">\n",
       "  <thead>\n",
       "    <tr style=\"text-align: right;\">\n",
       "      <th></th>\n",
       "      <th>box_office</th>\n",
       "      <th>repaid</th>\n",
       "      <th>title</th>\n",
       "    </tr>\n",
       "    <tr>\n",
       "      <th>general_director</th>\n",
       "      <th></th>\n",
       "      <th></th>\n",
       "      <th></th>\n",
       "    </tr>\n",
       "  </thead>\n",
       "  <tbody>\n",
       "    <tr>\n",
       "      <th>К.Шипенко</th>\n",
       "      <td>3,827,772,217.79</td>\n",
       "      <td>2</td>\n",
       "      <td>3</td>\n",
       "    </tr>\n",
       "    <tr>\n",
       "      <th>А.Мегердичев</th>\n",
       "      <td>2,779,686,144.00</td>\n",
       "      <td>1</td>\n",
       "      <td>1</td>\n",
       "    </tr>\n",
       "    <tr>\n",
       "      <th>Д.Дьяченко</th>\n",
       "      <td>2,404,898,634.12</td>\n",
       "      <td>4</td>\n",
       "      <td>4</td>\n",
       "    </tr>\n",
       "    <tr>\n",
       "      <th>А.Сидоров</th>\n",
       "      <td>2,271,754,004.52</td>\n",
       "      <td>1</td>\n",
       "      <td>1</td>\n",
       "    </tr>\n",
       "    <tr>\n",
       "      <th>О.Трофим</th>\n",
       "      <td>1,445,731,797.89</td>\n",
       "      <td>1</td>\n",
       "      <td>1</td>\n",
       "    </tr>\n",
       "    <tr>\n",
       "      <th>Д.Шмидт</th>\n",
       "      <td>1,412,475,637.00</td>\n",
       "      <td>2</td>\n",
       "      <td>3</td>\n",
       "    </tr>\n",
       "    <tr>\n",
       "      <th>Н.Лебедев</th>\n",
       "      <td>1,402,255,390.00</td>\n",
       "      <td>1</td>\n",
       "      <td>1</td>\n",
       "    </tr>\n",
       "    <tr>\n",
       "      <th>Д.Киселев</th>\n",
       "      <td>1,399,783,312.00</td>\n",
       "      <td>2</td>\n",
       "      <td>2</td>\n",
       "    </tr>\n",
       "    <tr>\n",
       "      <th>Ф.Бондарчук</th>\n",
       "      <td>1,038,321,489.00</td>\n",
       "      <td>1</td>\n",
       "      <td>1</td>\n",
       "    </tr>\n",
       "    <tr>\n",
       "      <th>Т.Бекмамбетов</th>\n",
       "      <td>1,009,908,512.97</td>\n",
       "      <td>2</td>\n",
       "      <td>2</td>\n",
       "    </tr>\n",
       "  </tbody>\n",
       "</table>\n",
       "</div>"
      ],
      "text/plain": [
       "                       box_office  repaid  title\n",
       "general_director                                \n",
       "К.Шипенко        3,827,772,217.79       2      3\n",
       "А.Мегердичев     2,779,686,144.00       1      1\n",
       "Д.Дьяченко       2,404,898,634.12       4      4\n",
       "А.Сидоров        2,271,754,004.52       1      1\n",
       "О.Трофим         1,445,731,797.89       1      1\n",
       "Д.Шмидт          1,412,475,637.00       2      3\n",
       "Н.Лебедев        1,402,255,390.00       1      1\n",
       "Д.Киселев        1,399,783,312.00       2      2\n",
       "Ф.Бондарчук      1,038,321,489.00       1      1\n",
       "Т.Бекмамбетов    1,009,908,512.97       2      2"
      ]
     },
     "execution_count": 99,
     "metadata": {},
     "output_type": "execute_result"
    }
   ],
   "source": [
    "national_support.pivot_table(index = 'general_director', values=['box_office', 'title', 'repaid'], aggfunc = {'box_office':'sum', 'title':'count', 'repaid':'sum'}).sort_values(by = 'box_office', ascending = False).head(10)"
   ]
  },
  {
   "cell_type": "markdown",
   "metadata": {},
   "source": [
    "Взглянем на список режиссёров, получивших наибольшую гос.поддержку"
   ]
  },
  {
   "cell_type": "code",
   "execution_count": 100,
   "metadata": {},
   "outputs": [
    {
     "data": {
      "text/html": [
       "<div>\n",
       "<style scoped>\n",
       "    .dataframe tbody tr th:only-of-type {\n",
       "        vertical-align: middle;\n",
       "    }\n",
       "\n",
       "    .dataframe tbody tr th {\n",
       "        vertical-align: top;\n",
       "    }\n",
       "\n",
       "    .dataframe thead th {\n",
       "        text-align: right;\n",
       "    }\n",
       "</style>\n",
       "<table border=\"1\" class=\"dataframe\">\n",
       "  <thead>\n",
       "    <tr style=\"text-align: right;\">\n",
       "      <th></th>\n",
       "      <th>repaid</th>\n",
       "      <th>support</th>\n",
       "      <th>title</th>\n",
       "    </tr>\n",
       "    <tr>\n",
       "      <th>general_director</th>\n",
       "      <th></th>\n",
       "      <th></th>\n",
       "      <th></th>\n",
       "    </tr>\n",
       "  </thead>\n",
       "  <tbody>\n",
       "    <tr>\n",
       "      <th>Н.Хомерики</th>\n",
       "      <td>1</td>\n",
       "      <td>660,000,000.00</td>\n",
       "      <td>3</td>\n",
       "    </tr>\n",
       "    <tr>\n",
       "      <th>А.Кравчук</th>\n",
       "      <td>0</td>\n",
       "      <td>500,000,000.00</td>\n",
       "      <td>1</td>\n",
       "    </tr>\n",
       "    <tr>\n",
       "      <th>Р.Давлетьяров</th>\n",
       "      <td>1</td>\n",
       "      <td>459,847,945.00</td>\n",
       "      <td>5</td>\n",
       "    </tr>\n",
       "    <tr>\n",
       "      <th>А.Мизгирев</th>\n",
       "      <td>0</td>\n",
       "      <td>450,000,000.00</td>\n",
       "      <td>1</td>\n",
       "    </tr>\n",
       "    <tr>\n",
       "      <th>Н.Лебедев</th>\n",
       "      <td>1</td>\n",
       "      <td>442,104,482.00</td>\n",
       "      <td>1</td>\n",
       "    </tr>\n",
       "    <tr>\n",
       "      <th>А.Мегердичев</th>\n",
       "      <td>1</td>\n",
       "      <td>400,000,000.00</td>\n",
       "      <td>1</td>\n",
       "    </tr>\n",
       "    <tr>\n",
       "      <th>Д.Дьяченко</th>\n",
       "      <td>4</td>\n",
       "      <td>351,000,000.00</td>\n",
       "      <td>4</td>\n",
       "    </tr>\n",
       "    <tr>\n",
       "      <th>А.Цицилин</th>\n",
       "      <td>1</td>\n",
       "      <td>350,000,000.00</td>\n",
       "      <td>3</td>\n",
       "    </tr>\n",
       "    <tr>\n",
       "      <th>И.Шурховецкий</th>\n",
       "      <td>1</td>\n",
       "      <td>350,000,000.00</td>\n",
       "      <td>1</td>\n",
       "    </tr>\n",
       "    <tr>\n",
       "      <th>Д.Киселев</th>\n",
       "      <td>2</td>\n",
       "      <td>350,000,000.00</td>\n",
       "      <td>2</td>\n",
       "    </tr>\n",
       "  </tbody>\n",
       "</table>\n",
       "</div>"
      ],
      "text/plain": [
       "                  repaid        support  title\n",
       "general_director                              \n",
       "Н.Хомерики             1 660,000,000.00      3\n",
       "А.Кравчук              0 500,000,000.00      1\n",
       "Р.Давлетьяров          1 459,847,945.00      5\n",
       "А.Мизгирев             0 450,000,000.00      1\n",
       "Н.Лебедев              1 442,104,482.00      1\n",
       "А.Мегердичев           1 400,000,000.00      1\n",
       "Д.Дьяченко             4 351,000,000.00      4\n",
       "А.Цицилин              1 350,000,000.00      3\n",
       "И.Шурховецкий          1 350,000,000.00      1\n",
       "Д.Киселев              2 350,000,000.00      2"
      ]
     },
     "execution_count": 100,
     "metadata": {},
     "output_type": "execute_result"
    }
   ],
   "source": [
    "national_support.pivot_table(index = 'general_director', values=['support', 'title', 'repaid'], aggfunc = {'support':'sum', 'title':'count', 'repaid':'sum'}).sort_values(by = 'support', ascending = False).head(10)"
   ]
  },
  {
   "cell_type": "markdown",
   "metadata": {},
   "source": [
    "Посмотрим на прибыльность фильмов с точки зрения возрастной категории"
   ]
  },
  {
   "cell_type": "code",
   "execution_count": 101,
   "metadata": {},
   "outputs": [
    {
     "data": {
      "text/html": [
       "<div>\n",
       "<style scoped>\n",
       "    .dataframe tbody tr th:only-of-type {\n",
       "        vertical-align: middle;\n",
       "    }\n",
       "\n",
       "    .dataframe tbody tr th {\n",
       "        vertical-align: top;\n",
       "    }\n",
       "\n",
       "    .dataframe thead tr th {\n",
       "        text-align: left;\n",
       "    }\n",
       "\n",
       "    .dataframe thead tr:last-of-type th {\n",
       "        text-align: right;\n",
       "    }\n",
       "</style>\n",
       "<table border=\"1\" class=\"dataframe\">\n",
       "  <thead>\n",
       "    <tr>\n",
       "      <th></th>\n",
       "      <th>sum</th>\n",
       "      <th>median</th>\n",
       "    </tr>\n",
       "    <tr>\n",
       "      <th></th>\n",
       "      <th>box_office</th>\n",
       "      <th>box_office</th>\n",
       "    </tr>\n",
       "    <tr>\n",
       "      <th>age_restriction</th>\n",
       "      <th></th>\n",
       "      <th></th>\n",
       "    </tr>\n",
       "  </thead>\n",
       "  <tbody>\n",
       "    <tr>\n",
       "      <th>«0+» - для любой зрительской аудитории</th>\n",
       "      <td>552,932,752.50</td>\n",
       "      <td>32,244,810.00</td>\n",
       "    </tr>\n",
       "    <tr>\n",
       "      <th>«12+» - для детей старше 12 лет</th>\n",
       "      <td>19,957,963,755.94</td>\n",
       "      <td>23,365,689.49</td>\n",
       "    </tr>\n",
       "    <tr>\n",
       "      <th>«16+» - для детей старше 16 лет</th>\n",
       "      <td>7,658,462,636.93</td>\n",
       "      <td>8,195,307.25</td>\n",
       "    </tr>\n",
       "    <tr>\n",
       "      <th>«18+» - запрещено для детей</th>\n",
       "      <td>560,158,730.15</td>\n",
       "      <td>1,828,557.75</td>\n",
       "    </tr>\n",
       "    <tr>\n",
       "      <th>«6+» - для детей старше 6 лет</th>\n",
       "      <td>13,383,991,699.26</td>\n",
       "      <td>66,504,721.61</td>\n",
       "    </tr>\n",
       "  </tbody>\n",
       "</table>\n",
       "</div>"
      ],
      "text/plain": [
       "                                                     sum        median\n",
       "                                              box_office    box_office\n",
       "age_restriction                                                       \n",
       "«0+» - для любой зрительской аудитории    552,932,752.50 32,244,810.00\n",
       "«12+» - для детей старше 12 лет        19,957,963,755.94 23,365,689.49\n",
       "«16+» - для детей старше 16 лет         7,658,462,636.93  8,195,307.25\n",
       "«18+» - запрещено для детей               560,158,730.15  1,828,557.75\n",
       "«6+» - для детей старше 6 лет          13,383,991,699.26 66,504,721.61"
      ]
     },
     "execution_count": 101,
     "metadata": {},
     "output_type": "execute_result"
    }
   ],
   "source": [
    "national_support.pivot_table(index = 'age_restriction', values = 'box_office', aggfunc = ['sum','median'])"
   ]
  },
  {
   "cell_type": "markdown",
   "metadata": {},
   "source": [
    "В отличие от общего проката, для фильмов с гос.поддержкой бОльший оборот у \"семейного\" кино, которое можно посмотреть с детьми 6+ и 12+. По среднему значению к лидерам присоединяется ВК 0+.  \n",
    "Проверим, есть ли зависимость между увеличением доли гос.поддержки и прокатным сбором."
   ]
  },
  {
   "cell_type": "code",
   "execution_count": 102,
   "metadata": {},
   "outputs": [
    {
     "data": {
      "text/plain": [
       "-0.08459142189398026"
      ]
     },
     "execution_count": 102,
     "metadata": {},
     "output_type": "execute_result"
    }
   ],
   "source": [
    "national_support['support_rate'].corr(national_support['box_office'])"
   ]
  },
  {
   "cell_type": "code",
   "execution_count": 103,
   "metadata": {},
   "outputs": [
    {
     "data": {
      "text/plain": [
       "Text(0, 0.5, 'Сборы(млрд.руб.)')"
      ]
     },
     "execution_count": 103,
     "metadata": {},
     "output_type": "execute_result"
    },
    {
     "data": {
      "image/png": "[encoded data removed]",
      "text/plain": [
       "<Figure size 504x504 with 1 Axes>"
      ]
     },
     "metadata": {
      "needs_background": "light"
     },
     "output_type": "display_data"
    }
   ],
   "source": [
    "national_support.query('support_rate != 1').plot(x = 'support_rate', y = 'box_office', kind = 'scatter', grid = True, figsize = (7, 7))\n",
    "plt.title('Зависимость прокатных сборов и доли гос.поддержки')\n",
    "plt.xlabel('Доля государственной поддержки')\n",
    "plt.ylabel('Сборы(млрд.руб.)')"
   ]
  },
  {
   "cell_type": "markdown",
   "metadata": {},
   "source": [
    "На мой взгляд, взаимосвязь слабая, или вообще отсутствует. Из гистограммы исключены значения фильмов, по которым бюджет рассчитан из суммы значений гос.поддержки.  \n",
    "Рассмотрим источникам финансирования: откуда поступает больше средств, из каких источников поступает больше невозвратных средств"
   ]
  },
  {
   "cell_type": "code",
   "execution_count": 104,
   "metadata": {},
   "outputs": [
    {
     "data": {
      "text/html": [
       "<div>\n",
       "<style scoped>\n",
       "    .dataframe tbody tr th:only-of-type {\n",
       "        vertical-align: middle;\n",
       "    }\n",
       "\n",
       "    .dataframe tbody tr th {\n",
       "        vertical-align: top;\n",
       "    }\n",
       "\n",
       "    .dataframe thead th {\n",
       "        text-align: right;\n",
       "    }\n",
       "</style>\n",
       "<table border=\"1\" class=\"dataframe\">\n",
       "  <thead>\n",
       "    <tr style=\"text-align: right;\">\n",
       "      <th></th>\n",
       "      <th>nonrefundable_support</th>\n",
       "      <th>support</th>\n",
       "    </tr>\n",
       "    <tr>\n",
       "      <th>financing_source</th>\n",
       "      <th></th>\n",
       "      <th></th>\n",
       "    </tr>\n",
       "  </thead>\n",
       "  <tbody>\n",
       "    <tr>\n",
       "      <th>Министерство культуры</th>\n",
       "      <td>4,547,141,000.00</td>\n",
       "      <td>4,547,141,000.00</td>\n",
       "    </tr>\n",
       "    <tr>\n",
       "      <th>Министерство культуры, Фонд кино</th>\n",
       "      <td>859,931,354.00</td>\n",
       "      <td>1,185,431,354.00</td>\n",
       "    </tr>\n",
       "    <tr>\n",
       "      <th>Фонд кино</th>\n",
       "      <td>10,105,095,958.00</td>\n",
       "      <td>13,578,595,958.00</td>\n",
       "    </tr>\n",
       "  </tbody>\n",
       "</table>\n",
       "</div>"
      ],
      "text/plain": [
       "                                  nonrefundable_support           support\n",
       "financing_source                                                         \n",
       "Министерство культуры                  4,547,141,000.00  4,547,141,000.00\n",
       "Министерство культуры, Фонд кино         859,931,354.00  1,185,431,354.00\n",
       "Фонд кино                             10,105,095,958.00 13,578,595,958.00"
      ]
     },
     "execution_count": 104,
     "metadata": {},
     "output_type": "execute_result"
    }
   ],
   "source": [
    "national_support.pivot_table(index = 'financing_source', values = ['support' , 'nonrefundable_support'], aggfunc = 'sum')"
   ]
  },
  {
   "cell_type": "code",
   "execution_count": 105,
   "metadata": {},
   "outputs": [
    {
     "data": {
      "text/plain": [
       "0.11474909760794486"
      ]
     },
     "execution_count": 105,
     "metadata": {},
     "output_type": "execute_result"
    }
   ],
   "source": [
    "national_support['budget'].corr(national_support['ratings'])"
   ]
  },
  {
   "cell_type": "code",
   "execution_count": 106,
   "metadata": {},
   "outputs": [
    {
     "data": {
      "text/plain": [
       "Text(0, 0.5, 'Бюджет')"
      ]
     },
     "execution_count": 106,
     "metadata": {},
     "output_type": "execute_result"
    },
    {
     "data": {
      "image/png": "[encoded data removed]",
      "text/plain": [
       "<Figure size 360x360 with 1 Axes>"
      ]
     },
     "metadata": {
      "needs_background": "light"
     },
     "output_type": "display_data"
    }
   ],
   "source": [
    "national_support.plot(x = 'ratings', y = 'budget', kind = 'scatter', grid = True, figsize = (5, 5))\n",
    "plt.title('Зависимость рейтинга от бюджета')\n",
    "plt.xlabel('Рейтинг')\n",
    "plt.ylabel('Бюджет')"
   ]
  },
  {
   "cell_type": "markdown",
   "metadata": {},
   "source": [
    "Для фильмов с оценкой выше 5 по графику можно увидеть смещение в сторону увеличения бюджета. По представленным данным, можно сделать вывод, что взаимосвязь по этим параметрам есть. И в части случаев, с увеличением бюджета, растёт зрительская оценка."
   ]
  },
  {
   "cell_type": "markdown",
   "metadata": {
    "id": "V2gYwMcPgFyd"
   },
   "source": [
    "### Шаг 5. Напишите общий вывод"
   ]
  },
  {
   "cell_type": "markdown",
   "metadata": {
    "id": "AYRg3dzXgFye"
   },
   "source": [
    "Текущее иследование проведено на основании открытых данных с портала Минестерства культуры, а также информации о зрительском рейтенге с сайта КиноПоиск.  \n",
    "При обработке данных удалено мене 1% значений, часть пропущенных значений заполнено отбивкой 'unknowen'. Основна яасть пропусков оставлена без изменений. \n",
    "Также в ходе предобработки данных выявлена проблема, усложняющая исследование: отсутствие единых правил внесения имён, наименований, а также нескольких значений, для столбцов title, type, film_studio, production_country, director, producer, ratings и genres. Рекомендуется создать единый шаблон, возможн использовать всплывающие подсказки, при заполнении полей.  \n",
    "\n",
    "\n",
    "В проведённом исследовании проанализированы: \n",
    "Динамика количества вышедших фильмов, кассовым сборам по годам.\n",
    "Влияние возрастной категории на сборы.\n",
    "\n",
    "Отдельно проанализированы фильмы, получившие гос.поддержку:\n",
    "В динамике затрат и кассовых сборов по годам, жанрам и возрастным категориям.\n",
    "По зрительской оценке сайта КиноПоиск.\n",
    "\n",
    "Из представленных данных можно сделать вывод, что наиболее интересными для российского зрителя являются художественные и анимационные фильмы, снятые в жанре фантастики, мультфильмы. Нельзя исключать и боевики, фэнтези, комедии и драмы. Также жанры фантастика и драма выше оцениваются зрительским рейтингом. Наиболее прибыльными можно считать фильмы, с возрастной категорией 6+ и 12+.\n",
    "  \n",
    "Только 25% фильмов с гос.поддержкой окупается прокатом.  \n",
    "Наибольшее кол-во картин, снятых с участием гос.средств, относится к жанрам комедии, драмы и мультфильма. Они же совокупно и приносят наибольшую прибль. А также среднюю зрительскую оценку только 5.9. В отношении возрастной категории наиболее прибыльными по общим объёмам стали фильмы 6+ и 12+. А в разрезе средней выручки за проект к ним добавляется ещё и 0+\n",
    "\n",
    "Предлагаю обратить внимание на фильмы в жанре фантастика. На данный момент на них выделено менее 5% общего объёма государствнной поддержки. Тогда как по общим данном, за период с 2010 по 2019, данный жанр - лидер как в общем объёме прокатных сборов, так и в зрительской оценке. Так же рекомендую не снижать затраты на фильмы для семейного просмотра с возрастным ограничением от 0+ и до 12+\n",
    " "
   ]
  }
 ],
 "metadata": {
  "ExecuteTimeLog": [
   {
    "duration": 537,
    "start_time": "2021-07-07T10:12:08.634Z"
   },
   {
    "duration": 206,
    "start_time": "2021-07-07T10:12:30.191Z"
   },
   {
    "duration": 227,
    "start_time": "2021-07-07T10:12:33.078Z"
   },
   {
    "duration": 153,
    "start_time": "2021-07-07T10:13:42.146Z"
   },
   {
    "duration": 233,
    "start_time": "2021-07-07T10:30:09.252Z"
   },
   {
    "duration": 19,
    "start_time": "2021-07-07T10:30:15.577Z"
   },
   {
    "duration": 18,
    "start_time": "2021-07-07T10:30:57.348Z"
   },
   {
    "duration": 19,
    "start_time": "2021-07-07T10:31:17.452Z"
   },
   {
    "duration": 21,
    "start_time": "2021-07-07T10:31:32.227Z"
   },
   {
    "duration": 27,
    "start_time": "2021-07-07T10:32:06.588Z"
   },
   {
    "duration": 23,
    "start_time": "2021-07-07T10:32:43.645Z"
   },
   {
    "duration": 24,
    "start_time": "2021-07-07T10:33:06.948Z"
   },
   {
    "duration": 7,
    "start_time": "2021-07-07T10:33:28.558Z"
   },
   {
    "duration": 23,
    "start_time": "2021-07-07T10:33:43.761Z"
   },
   {
    "duration": 28,
    "start_time": "2021-07-07T10:34:13.466Z"
   },
   {
    "duration": 23,
    "start_time": "2021-07-07T10:35:56.187Z"
   },
   {
    "duration": 6,
    "start_time": "2021-07-07T10:36:48.182Z"
   },
   {
    "duration": 14,
    "start_time": "2021-07-07T10:37:49.641Z"
   },
   {
    "duration": 6,
    "start_time": "2021-07-07T10:38:06.694Z"
   },
   {
    "duration": 6,
    "start_time": "2021-07-07T10:38:13.493Z"
   },
   {
    "duration": 19,
    "start_time": "2021-07-07T10:38:44.056Z"
   },
   {
    "duration": 186,
    "start_time": "2021-07-07T10:48:35.618Z"
   },
   {
    "duration": 24,
    "start_time": "2021-07-07T10:48:51.498Z"
   },
   {
    "duration": 20,
    "start_time": "2021-07-07T10:48:59.415Z"
   },
   {
    "duration": 20,
    "start_time": "2021-07-07T10:53:02.195Z"
   },
   {
    "duration": 188,
    "start_time": "2021-07-07T10:54:40.486Z"
   },
   {
    "duration": 115,
    "start_time": "2021-07-07T10:54:52.552Z"
   },
   {
    "duration": 214,
    "start_time": "2021-07-07T10:54:56.354Z"
   },
   {
    "duration": 47,
    "start_time": "2021-07-07T10:54:58.282Z"
   },
   {
    "duration": 217,
    "start_time": "2021-07-07T10:59:16.075Z"
   },
   {
    "duration": 51,
    "start_time": "2021-07-07T10:59:16.243Z"
   },
   {
    "duration": 578,
    "start_time": "2021-07-07T10:59:18.774Z"
   },
   {
    "duration": 161,
    "start_time": "2021-07-07T10:59:21.238Z"
   },
   {
    "duration": 59,
    "start_time": "2021-07-07T10:59:21.453Z"
   },
   {
    "duration": 3,
    "start_time": "2021-07-07T11:02:10.786Z"
   },
   {
    "duration": 13,
    "start_time": "2021-07-07T11:07:07.722Z"
   },
   {
    "duration": 26,
    "start_time": "2021-07-07T11:07:17.958Z"
   },
   {
    "duration": 22,
    "start_time": "2021-07-07T11:08:17.939Z"
   },
   {
    "duration": 212,
    "start_time": "2021-07-07T11:08:19.665Z"
   },
   {
    "duration": 21,
    "start_time": "2021-07-07T11:08:29.945Z"
   },
   {
    "duration": 31,
    "start_time": "2021-07-07T11:08:38.899Z"
   },
   {
    "duration": 23,
    "start_time": "2021-07-07T11:08:54.527Z"
   },
   {
    "duration": 8,
    "start_time": "2021-07-07T11:18:55.974Z"
   },
   {
    "duration": 7,
    "start_time": "2021-07-07T11:19:03.639Z"
   },
   {
    "duration": 7,
    "start_time": "2021-07-07T11:19:06.444Z"
   },
   {
    "duration": 578,
    "start_time": "2021-07-07T12:09:59.576Z"
   },
   {
    "duration": 195,
    "start_time": "2021-07-07T12:10:00.156Z"
   },
   {
    "duration": 115,
    "start_time": "2021-07-07T12:10:00.353Z"
   },
   {
    "duration": 3,
    "start_time": "2021-07-07T12:10:00.470Z"
   },
   {
    "duration": 32,
    "start_time": "2021-07-07T12:10:00.474Z"
   },
   {
    "duration": 23,
    "start_time": "2021-07-07T12:10:00.508Z"
   },
   {
    "duration": 19,
    "start_time": "2021-07-07T12:10:00.533Z"
   },
   {
    "duration": 44,
    "start_time": "2021-07-07T12:10:00.553Z"
   },
   {
    "duration": 7,
    "start_time": "2021-07-07T12:10:00.600Z"
   },
   {
    "duration": 7,
    "start_time": "2021-07-07T12:19:45.761Z"
   },
   {
    "duration": 21,
    "start_time": "2021-07-07T12:21:35.482Z"
   },
   {
    "duration": 21,
    "start_time": "2021-07-07T12:29:23.569Z"
   },
   {
    "duration": 525,
    "start_time": "2021-07-07T12:29:44.542Z"
   },
   {
    "duration": 214,
    "start_time": "2021-07-07T12:29:45.069Z"
   },
   {
    "duration": 92,
    "start_time": "2021-07-07T12:29:45.285Z"
   },
   {
    "duration": 3,
    "start_time": "2021-07-07T12:29:45.379Z"
   },
   {
    "duration": 28,
    "start_time": "2021-07-07T12:29:45.384Z"
   },
   {
    "duration": 23,
    "start_time": "2021-07-07T12:29:45.413Z"
   },
   {
    "duration": 21,
    "start_time": "2021-07-07T12:29:45.437Z"
   },
   {
    "duration": 41,
    "start_time": "2021-07-07T12:29:45.460Z"
   },
   {
    "duration": 7,
    "start_time": "2021-07-07T12:29:45.502Z"
   },
   {
    "duration": 20,
    "start_time": "2021-07-07T12:29:45.511Z"
   },
   {
    "duration": 12,
    "start_time": "2021-07-07T12:34:02.800Z"
   },
   {
    "duration": 7,
    "start_time": "2021-07-07T12:35:10.479Z"
   },
   {
    "duration": 8,
    "start_time": "2021-07-07T12:35:22.440Z"
   },
   {
    "duration": 6,
    "start_time": "2021-07-07T12:35:35.649Z"
   },
   {
    "duration": 6,
    "start_time": "2021-07-07T12:35:43.107Z"
   },
   {
    "duration": 22,
    "start_time": "2021-07-07T12:38:03.029Z"
   },
   {
    "duration": 10,
    "start_time": "2021-07-07T12:38:06.592Z"
   },
   {
    "duration": 563,
    "start_time": "2021-07-07T12:38:46.493Z"
   },
   {
    "duration": 265,
    "start_time": "2021-07-07T12:38:47.058Z"
   },
   {
    "duration": 94,
    "start_time": "2021-07-07T12:38:47.325Z"
   },
   {
    "duration": 3,
    "start_time": "2021-07-07T12:38:47.422Z"
   },
   {
    "duration": 30,
    "start_time": "2021-07-07T12:38:47.427Z"
   },
   {
    "duration": 16,
    "start_time": "2021-07-07T12:38:53.305Z"
   },
   {
    "duration": 10,
    "start_time": "2021-07-07T12:38:53.499Z"
   },
   {
    "duration": 8,
    "start_time": "2021-07-07T12:39:48.161Z"
   },
   {
    "duration": 27,
    "start_time": "2021-07-07T12:41:17.629Z"
   },
   {
    "duration": 17,
    "start_time": "2021-07-07T12:41:17.867Z"
   },
   {
    "duration": 21,
    "start_time": "2021-07-07T12:41:19.310Z"
   },
   {
    "duration": 7,
    "start_time": "2021-07-07T12:41:19.544Z"
   },
   {
    "duration": 20,
    "start_time": "2021-07-07T12:41:20.504Z"
   },
   {
    "duration": 554,
    "start_time": "2021-07-07T12:56:23.696Z"
   },
   {
    "duration": 200,
    "start_time": "2021-07-07T12:56:25.234Z"
   },
   {
    "duration": 119,
    "start_time": "2021-07-07T12:56:25.480Z"
   },
   {
    "duration": 4,
    "start_time": "2021-07-07T12:56:25.762Z"
   },
   {
    "duration": 26,
    "start_time": "2021-07-07T12:56:27.172Z"
   },
   {
    "duration": 12,
    "start_time": "2021-07-07T12:56:29.051Z"
   },
   {
    "duration": 10,
    "start_time": "2021-07-07T12:56:29.291Z"
   },
   {
    "duration": 8,
    "start_time": "2021-07-07T12:56:29.623Z"
   },
   {
    "duration": 28,
    "start_time": "2021-07-07T12:56:32.137Z"
   },
   {
    "duration": 19,
    "start_time": "2021-07-07T12:56:39.785Z"
   },
   {
    "duration": 20,
    "start_time": "2021-07-07T12:56:44.297Z"
   },
   {
    "duration": 7,
    "start_time": "2021-07-07T12:56:45.392Z"
   },
   {
    "duration": 23,
    "start_time": "2021-07-07T12:56:46.615Z"
   },
   {
    "duration": 4,
    "start_time": "2021-07-07T12:57:06.625Z"
   },
   {
    "duration": 32,
    "start_time": "2021-07-07T12:57:36.690Z"
   },
   {
    "duration": 18,
    "start_time": "2021-07-07T12:58:00.149Z"
   },
   {
    "duration": 15,
    "start_time": "2021-07-07T12:59:16.793Z"
   },
   {
    "duration": 7,
    "start_time": "2021-07-07T13:19:22.624Z"
   },
   {
    "duration": 6,
    "start_time": "2021-07-07T14:17:33.527Z"
   },
   {
    "duration": 9,
    "start_time": "2021-07-07T14:17:48.409Z"
   },
   {
    "duration": 8,
    "start_time": "2021-07-07T14:20:13.060Z"
   },
   {
    "duration": 8,
    "start_time": "2021-07-07T14:20:37.957Z"
   },
   {
    "duration": 8,
    "start_time": "2021-07-07T14:20:47.470Z"
   },
   {
    "duration": 9,
    "start_time": "2021-07-07T14:20:54.503Z"
   },
   {
    "duration": 10,
    "start_time": "2021-07-07T14:28:57.763Z"
   },
   {
    "duration": 3,
    "start_time": "2021-07-07T14:30:23.377Z"
   },
   {
    "duration": 3,
    "start_time": "2021-07-07T14:30:36.489Z"
   },
   {
    "duration": 103,
    "start_time": "2021-07-07T14:30:52.351Z"
   },
   {
    "duration": 8,
    "start_time": "2021-07-07T14:30:54.763Z"
   },
   {
    "duration": 8,
    "start_time": "2021-07-07T14:31:29.301Z"
   },
   {
    "duration": 13,
    "start_time": "2021-07-07T14:31:44.516Z"
   },
   {
    "duration": 7,
    "start_time": "2021-07-07T14:33:10.972Z"
   },
   {
    "duration": 11,
    "start_time": "2021-07-07T14:33:27.780Z"
   },
   {
    "duration": 8,
    "start_time": "2021-07-07T14:34:44.588Z"
   },
   {
    "duration": 57,
    "start_time": "2021-07-07T14:35:59.042Z"
   },
   {
    "duration": 3,
    "start_time": "2021-07-07T14:36:28.168Z"
   },
   {
    "duration": 5,
    "start_time": "2021-07-07T14:36:46.254Z"
   },
   {
    "duration": 4,
    "start_time": "2021-07-07T14:36:52.714Z"
   },
   {
    "duration": 3,
    "start_time": "2021-07-07T14:36:56.612Z"
   },
   {
    "duration": 4,
    "start_time": "2021-07-07T14:36:57.049Z"
   },
   {
    "duration": 3,
    "start_time": "2021-07-07T14:39:21.214Z"
   },
   {
    "duration": 7,
    "start_time": "2021-07-07T14:39:52.406Z"
   },
   {
    "duration": 11,
    "start_time": "2021-07-07T14:39:58.576Z"
   },
   {
    "duration": 9,
    "start_time": "2021-07-07T14:40:26.301Z"
   },
   {
    "duration": 10,
    "start_time": "2021-07-07T14:40:31.704Z"
   },
   {
    "duration": 11,
    "start_time": "2021-07-07T14:40:36.249Z"
   },
   {
    "duration": 10,
    "start_time": "2021-07-07T14:40:39.783Z"
   },
   {
    "duration": 9,
    "start_time": "2021-07-07T14:40:48.558Z"
   },
   {
    "duration": 10,
    "start_time": "2021-07-07T14:40:57.143Z"
   },
   {
    "duration": 9,
    "start_time": "2021-07-07T14:41:06.074Z"
   },
   {
    "duration": 4324,
    "start_time": "2021-07-07T14:41:22.004Z"
   },
   {
    "duration": 11,
    "start_time": "2021-07-07T14:41:33.392Z"
   },
   {
    "duration": 9,
    "start_time": "2021-07-07T14:41:39.288Z"
   },
   {
    "duration": 569,
    "start_time": "2021-07-07T14:42:14.387Z"
   },
   {
    "duration": 197,
    "start_time": "2021-07-07T14:42:14.959Z"
   },
   {
    "duration": 84,
    "start_time": "2021-07-07T14:42:16.052Z"
   },
   {
    "duration": 4,
    "start_time": "2021-07-07T14:42:16.900Z"
   },
   {
    "duration": 27,
    "start_time": "2021-07-07T14:42:19.898Z"
   },
   {
    "duration": 12,
    "start_time": "2021-07-07T14:42:21.577Z"
   },
   {
    "duration": 9,
    "start_time": "2021-07-07T14:42:21.813Z"
   },
   {
    "duration": 9,
    "start_time": "2021-07-07T14:42:22.569Z"
   },
   {
    "duration": 29,
    "start_time": "2021-07-07T14:42:25.837Z"
   },
   {
    "duration": 20,
    "start_time": "2021-07-07T14:42:27.003Z"
   },
   {
    "duration": 21,
    "start_time": "2021-07-07T14:42:28.767Z"
   },
   {
    "duration": 7,
    "start_time": "2021-07-07T14:42:29.838Z"
   },
   {
    "duration": 4,
    "start_time": "2021-07-07T14:43:25.493Z"
   },
   {
    "duration": 7,
    "start_time": "2021-07-07T14:43:26.573Z"
   },
   {
    "duration": 10,
    "start_time": "2021-07-07T14:43:31.639Z"
   },
   {
    "duration": 9,
    "start_time": "2021-07-07T14:43:32.046Z"
   },
   {
    "duration": 10,
    "start_time": "2021-07-07T14:43:33.301Z"
   },
   {
    "duration": 12,
    "start_time": "2021-07-07T14:43:33.658Z"
   },
   {
    "duration": 8,
    "start_time": "2021-07-07T14:43:34.552Z"
   },
   {
    "duration": 9,
    "start_time": "2021-07-07T14:43:35.058Z"
   },
   {
    "duration": 12,
    "start_time": "2021-07-07T14:43:35.914Z"
   },
   {
    "duration": 17,
    "start_time": "2021-07-07T14:45:34.368Z"
   },
   {
    "duration": 512,
    "start_time": "2021-07-07T14:51:58.236Z"
   },
   {
    "duration": 223,
    "start_time": "2021-07-07T14:51:58.750Z"
   },
   {
    "duration": 93,
    "start_time": "2021-07-07T14:51:58.977Z"
   },
   {
    "duration": 4,
    "start_time": "2021-07-07T14:51:59.071Z"
   },
   {
    "duration": 37,
    "start_time": "2021-07-07T14:51:59.077Z"
   },
   {
    "duration": 18,
    "start_time": "2021-07-07T14:51:59.116Z"
   },
   {
    "duration": 10,
    "start_time": "2021-07-07T14:51:59.137Z"
   },
   {
    "duration": 8,
    "start_time": "2021-07-07T14:51:59.149Z"
   },
   {
    "duration": 54,
    "start_time": "2021-07-07T14:51:59.158Z"
   },
   {
    "duration": 18,
    "start_time": "2021-07-07T14:51:59.213Z"
   },
   {
    "duration": 22,
    "start_time": "2021-07-07T14:51:59.232Z"
   },
   {
    "duration": 36,
    "start_time": "2021-07-07T14:51:59.255Z"
   },
   {
    "duration": 7,
    "start_time": "2021-07-07T14:51:59.293Z"
   },
   {
    "duration": 10,
    "start_time": "2021-07-07T14:51:59.302Z"
   },
   {
    "duration": 9,
    "start_time": "2021-07-07T14:51:59.313Z"
   },
   {
    "duration": 11,
    "start_time": "2021-07-07T14:51:59.324Z"
   },
   {
    "duration": 8,
    "start_time": "2021-07-07T14:51:59.337Z"
   },
   {
    "duration": 46,
    "start_time": "2021-07-07T14:51:59.347Z"
   },
   {
    "duration": 22,
    "start_time": "2021-07-07T14:51:59.395Z"
   },
   {
    "duration": 24,
    "start_time": "2021-07-07T14:57:32.911Z"
   },
   {
    "duration": 7,
    "start_time": "2021-07-07T14:58:22.070Z"
   },
   {
    "duration": 4,
    "start_time": "2021-07-07T14:59:11.239Z"
   },
   {
    "duration": 25,
    "start_time": "2021-07-07T15:07:22.208Z"
   },
   {
    "duration": 16,
    "start_time": "2021-07-07T15:08:25.560Z"
   },
   {
    "duration": 15,
    "start_time": "2021-07-07T15:08:40.647Z"
   },
   {
    "duration": 14,
    "start_time": "2021-07-07T15:08:46.669Z"
   },
   {
    "duration": 533,
    "start_time": "2021-07-07T15:18:07.440Z"
   },
   {
    "duration": 173,
    "start_time": "2021-07-07T15:18:07.974Z"
   },
   {
    "duration": 84,
    "start_time": "2021-07-07T15:18:08.149Z"
   },
   {
    "duration": 3,
    "start_time": "2021-07-07T15:18:08.235Z"
   },
   {
    "duration": 30,
    "start_time": "2021-07-07T15:18:08.240Z"
   },
   {
    "duration": 22,
    "start_time": "2021-07-07T15:18:08.272Z"
   },
   {
    "duration": 11,
    "start_time": "2021-07-07T15:18:08.295Z"
   },
   {
    "duration": 11,
    "start_time": "2021-07-07T15:18:08.309Z"
   },
   {
    "duration": 40,
    "start_time": "2021-07-07T15:18:08.322Z"
   },
   {
    "duration": 42,
    "start_time": "2021-07-07T15:18:08.364Z"
   },
   {
    "duration": 22,
    "start_time": "2021-07-07T15:18:08.408Z"
   },
   {
    "duration": 5,
    "start_time": "2021-07-07T15:18:08.432Z"
   },
   {
    "duration": 13,
    "start_time": "2021-07-07T15:18:08.439Z"
   },
   {
    "duration": 9,
    "start_time": "2021-07-07T15:18:08.454Z"
   },
   {
    "duration": 32,
    "start_time": "2021-07-07T15:18:08.465Z"
   },
   {
    "duration": 10,
    "start_time": "2021-07-07T15:18:08.501Z"
   },
   {
    "duration": 7,
    "start_time": "2021-07-07T15:18:08.513Z"
   },
   {
    "duration": 11,
    "start_time": "2021-07-07T15:18:08.521Z"
   },
   {
    "duration": 17,
    "start_time": "2021-07-07T15:18:08.534Z"
   },
   {
    "duration": 44,
    "start_time": "2021-07-07T15:18:08.553Z"
   },
   {
    "duration": 22,
    "start_time": "2021-07-07T15:18:08.599Z"
   },
   {
    "duration": 61,
    "start_time": "2021-07-07T15:18:08.622Z"
   },
   {
    "duration": 7,
    "start_time": "2021-07-07T15:18:39.457Z"
   },
   {
    "duration": 5,
    "start_time": "2021-07-07T16:05:17.020Z"
   },
   {
    "duration": 5,
    "start_time": "2021-07-07T16:51:28.794Z"
   },
   {
    "duration": 546,
    "start_time": "2021-07-07T16:52:26.306Z"
   },
   {
    "duration": 203,
    "start_time": "2021-07-07T16:52:27.523Z"
   },
   {
    "duration": 85,
    "start_time": "2021-07-07T16:52:27.736Z"
   },
   {
    "duration": 4,
    "start_time": "2021-07-07T16:52:27.899Z"
   },
   {
    "duration": 25,
    "start_time": "2021-07-07T16:52:28.674Z"
   },
   {
    "duration": 8,
    "start_time": "2021-07-07T16:52:32.956Z"
   },
   {
    "duration": 18,
    "start_time": "2021-07-07T16:52:35.616Z"
   },
   {
    "duration": 6,
    "start_time": "2021-07-07T16:52:36.913Z"
   },
   {
    "duration": 11,
    "start_time": "2021-07-07T16:52:40.258Z"
   },
   {
    "duration": 10,
    "start_time": "2021-07-07T16:52:46.251Z"
   },
   {
    "duration": 8,
    "start_time": "2021-07-07T16:52:47.182Z"
   },
   {
    "duration": 27,
    "start_time": "2021-07-07T16:53:20.391Z"
   },
   {
    "duration": 20,
    "start_time": "2021-07-07T16:53:22.022Z"
   },
   {
    "duration": 23,
    "start_time": "2021-07-07T16:53:23.690Z"
   },
   {
    "duration": 8,
    "start_time": "2021-07-07T16:53:24.261Z"
   },
   {
    "duration": 4,
    "start_time": "2021-07-07T16:53:38.733Z"
   },
   {
    "duration": 7,
    "start_time": "2021-07-07T16:53:40.445Z"
   },
   {
    "duration": 11,
    "start_time": "2021-07-07T16:53:41.348Z"
   },
   {
    "duration": 13,
    "start_time": "2021-07-07T16:53:45.250Z"
   },
   {
    "duration": 12,
    "start_time": "2021-07-07T16:53:45.467Z"
   },
   {
    "duration": 4,
    "start_time": "2021-07-07T16:55:32.704Z"
   },
   {
    "duration": 12,
    "start_time": "2021-07-07T16:55:49.012Z"
   },
   {
    "duration": 18,
    "start_time": "2021-07-07T16:55:49.547Z"
   },
   {
    "duration": 611,
    "start_time": "2021-07-07T16:58:35.156Z"
   },
   {
    "duration": 200,
    "start_time": "2021-07-07T16:58:35.770Z"
   },
   {
    "duration": 86,
    "start_time": "2021-07-07T16:58:35.972Z"
   },
   {
    "duration": 3,
    "start_time": "2021-07-07T16:58:36.060Z"
   },
   {
    "duration": 27,
    "start_time": "2021-07-07T16:58:36.065Z"
   },
   {
    "duration": 8,
    "start_time": "2021-07-07T16:58:36.094Z"
   },
   {
    "duration": 17,
    "start_time": "2021-07-07T16:58:36.103Z"
   },
   {
    "duration": 5,
    "start_time": "2021-07-07T16:58:36.123Z"
   },
   {
    "duration": 11,
    "start_time": "2021-07-07T16:58:36.130Z"
   },
   {
    "duration": 7,
    "start_time": "2021-07-07T16:58:36.143Z"
   },
   {
    "duration": 37,
    "start_time": "2021-07-07T16:58:36.152Z"
   },
   {
    "duration": 27,
    "start_time": "2021-07-07T16:58:36.191Z"
   },
   {
    "duration": 19,
    "start_time": "2021-07-07T16:58:36.219Z"
   },
   {
    "duration": 49,
    "start_time": "2021-07-07T16:58:36.240Z"
   },
   {
    "duration": 6,
    "start_time": "2021-07-07T16:58:36.291Z"
   },
   {
    "duration": 3,
    "start_time": "2021-07-07T16:58:36.299Z"
   },
   {
    "duration": 13,
    "start_time": "2021-07-07T16:58:36.304Z"
   },
   {
    "duration": 10,
    "start_time": "2021-07-07T16:58:36.319Z"
   },
   {
    "duration": 10,
    "start_time": "2021-07-07T16:58:36.331Z"
   },
   {
    "duration": 44,
    "start_time": "2021-07-07T16:58:36.343Z"
   },
   {
    "duration": 4,
    "start_time": "2021-07-07T16:58:36.388Z"
   },
   {
    "duration": 13,
    "start_time": "2021-07-07T16:58:36.394Z"
   },
   {
    "duration": 16,
    "start_time": "2021-07-07T16:58:36.410Z"
   },
   {
    "duration": 8,
    "start_time": "2021-07-07T17:02:31.629Z"
   },
   {
    "duration": 8,
    "start_time": "2021-07-07T17:02:34.308Z"
   },
   {
    "duration": 6,
    "start_time": "2021-07-07T17:05:13.483Z"
   },
   {
    "duration": 17,
    "start_time": "2021-07-07T17:05:20.606Z"
   },
   {
    "duration": 7,
    "start_time": "2021-07-07T17:05:34.638Z"
   },
   {
    "duration": 3,
    "start_time": "2021-07-07T17:06:31.883Z"
   },
   {
    "duration": 570,
    "start_time": "2021-07-07T17:06:37.165Z"
   },
   {
    "duration": 174,
    "start_time": "2021-07-07T17:06:37.737Z"
   },
   {
    "duration": 47,
    "start_time": "2021-07-07T17:06:37.913Z"
   },
   {
    "duration": 3,
    "start_time": "2021-07-07T17:06:37.962Z"
   },
   {
    "duration": 27,
    "start_time": "2021-07-07T17:06:37.967Z"
   },
   {
    "duration": 7,
    "start_time": "2021-07-07T17:06:37.996Z"
   },
   {
    "duration": 16,
    "start_time": "2021-07-07T17:06:38.005Z"
   },
   {
    "duration": 6,
    "start_time": "2021-07-07T17:06:38.024Z"
   },
   {
    "duration": 12,
    "start_time": "2021-07-07T17:06:38.031Z"
   },
   {
    "duration": 41,
    "start_time": "2021-07-07T17:06:38.045Z"
   },
   {
    "duration": 8,
    "start_time": "2021-07-07T17:06:38.088Z"
   },
   {
    "duration": 26,
    "start_time": "2021-07-07T17:06:38.098Z"
   },
   {
    "duration": 17,
    "start_time": "2021-07-07T17:06:38.126Z"
   },
   {
    "duration": 43,
    "start_time": "2021-07-07T17:06:38.144Z"
   },
   {
    "duration": 6,
    "start_time": "2021-07-07T17:06:38.188Z"
   },
   {
    "duration": 5,
    "start_time": "2021-07-07T17:06:38.195Z"
   },
   {
    "duration": 9,
    "start_time": "2021-07-07T17:06:38.201Z"
   },
   {
    "duration": 12,
    "start_time": "2021-07-07T17:06:38.212Z"
   },
   {
    "duration": 11,
    "start_time": "2021-07-07T17:06:38.226Z"
   },
   {
    "duration": 47,
    "start_time": "2021-07-07T17:06:38.239Z"
   },
   {
    "duration": 4,
    "start_time": "2021-07-07T17:06:38.288Z"
   },
   {
    "duration": 13,
    "start_time": "2021-07-07T17:06:38.293Z"
   },
   {
    "duration": 5,
    "start_time": "2021-07-07T17:06:38.309Z"
   },
   {
    "duration": 18,
    "start_time": "2021-07-07T17:06:38.325Z"
   },
   {
    "duration": 20,
    "start_time": "2021-07-07T17:07:02.805Z"
   },
   {
    "duration": 19,
    "start_time": "2021-07-07T17:07:08.527Z"
   },
   {
    "duration": 19,
    "start_time": "2021-07-07T17:07:12.758Z"
   },
   {
    "duration": 22,
    "start_time": "2021-07-07T17:07:17.497Z"
   },
   {
    "duration": 19,
    "start_time": "2021-07-07T17:07:19.645Z"
   },
   {
    "duration": 10,
    "start_time": "2021-07-07T17:07:34.239Z"
   },
   {
    "duration": 17,
    "start_time": "2021-07-07T17:07:54.144Z"
   },
   {
    "duration": 14,
    "start_time": "2021-07-07T17:08:14.357Z"
   },
   {
    "duration": 616,
    "start_time": "2021-07-07T17:08:45.254Z"
   },
   {
    "duration": 178,
    "start_time": "2021-07-07T17:08:45.872Z"
   },
   {
    "duration": 60,
    "start_time": "2021-07-07T17:08:46.054Z"
   },
   {
    "duration": 3,
    "start_time": "2021-07-07T17:08:46.116Z"
   },
   {
    "duration": 26,
    "start_time": "2021-07-07T17:08:46.121Z"
   },
   {
    "duration": 7,
    "start_time": "2021-07-07T17:08:46.149Z"
   },
   {
    "duration": 17,
    "start_time": "2021-07-07T17:08:46.158Z"
   },
   {
    "duration": 14,
    "start_time": "2021-07-07T17:08:46.176Z"
   },
   {
    "duration": 17,
    "start_time": "2021-07-07T17:08:46.193Z"
   },
   {
    "duration": 9,
    "start_time": "2021-07-07T17:08:46.211Z"
   },
   {
    "duration": 21,
    "start_time": "2021-07-07T17:08:46.221Z"
   },
   {
    "duration": 49,
    "start_time": "2021-07-07T17:08:46.244Z"
   },
   {
    "duration": 24,
    "start_time": "2021-07-07T17:08:46.295Z"
   },
   {
    "duration": 22,
    "start_time": "2021-07-07T17:08:46.321Z"
   },
   {
    "duration": 6,
    "start_time": "2021-07-07T17:08:46.345Z"
   },
   {
    "duration": 5,
    "start_time": "2021-07-07T17:08:46.353Z"
   },
   {
    "duration": 13,
    "start_time": "2021-07-07T17:08:46.386Z"
   },
   {
    "duration": 12,
    "start_time": "2021-07-07T17:08:46.402Z"
   },
   {
    "duration": 10,
    "start_time": "2021-07-07T17:08:46.415Z"
   },
   {
    "duration": 7,
    "start_time": "2021-07-07T17:08:46.427Z"
   },
   {
    "duration": 8,
    "start_time": "2021-07-07T17:08:46.435Z"
   },
   {
    "duration": 68,
    "start_time": "2021-07-07T17:08:46.446Z"
   },
   {
    "duration": 13,
    "start_time": "2021-07-07T17:08:46.516Z"
   },
   {
    "duration": 78,
    "start_time": "2021-07-07T17:08:46.530Z"
   },
   {
    "duration": 40,
    "start_time": "2021-07-07T17:09:08.185Z"
   },
   {
    "duration": 16,
    "start_time": "2021-07-07T17:09:19.324Z"
   },
   {
    "duration": 21,
    "start_time": "2021-07-07T17:09:23.290Z"
   },
   {
    "duration": 13,
    "start_time": "2021-07-07T17:09:54.812Z"
   },
   {
    "duration": 13,
    "start_time": "2021-07-07T17:10:02.039Z"
   },
   {
    "duration": 10,
    "start_time": "2021-07-07T17:10:29.632Z"
   },
   {
    "duration": 13,
    "start_time": "2021-07-07T17:10:52.372Z"
   },
   {
    "duration": 13,
    "start_time": "2021-07-07T17:11:17.270Z"
   },
   {
    "duration": 13,
    "start_time": "2021-07-07T17:14:59.284Z"
   },
   {
    "duration": 547,
    "start_time": "2021-07-07T17:18:52.403Z"
   },
   {
    "duration": 163,
    "start_time": "2021-07-07T17:18:52.952Z"
   },
   {
    "duration": 44,
    "start_time": "2021-07-07T17:18:53.117Z"
   },
   {
    "duration": 3,
    "start_time": "2021-07-07T17:18:53.162Z"
   },
   {
    "duration": 26,
    "start_time": "2021-07-07T17:18:53.167Z"
   },
   {
    "duration": 6,
    "start_time": "2021-07-07T17:18:53.195Z"
   },
   {
    "duration": 15,
    "start_time": "2021-07-07T17:18:53.203Z"
   },
   {
    "duration": 5,
    "start_time": "2021-07-07T17:18:53.220Z"
   },
   {
    "duration": 11,
    "start_time": "2021-07-07T17:18:53.228Z"
   },
   {
    "duration": 9,
    "start_time": "2021-07-07T17:18:53.241Z"
   },
   {
    "duration": 41,
    "start_time": "2021-07-07T17:18:53.252Z"
   },
   {
    "duration": 33,
    "start_time": "2021-07-07T17:18:53.295Z"
   },
   {
    "duration": 19,
    "start_time": "2021-07-07T17:18:53.330Z"
   },
   {
    "duration": 49,
    "start_time": "2021-07-07T17:18:53.350Z"
   },
   {
    "duration": 5,
    "start_time": "2021-07-07T17:18:53.401Z"
   },
   {
    "duration": 5,
    "start_time": "2021-07-07T17:18:53.408Z"
   },
   {
    "duration": 11,
    "start_time": "2021-07-07T17:18:53.414Z"
   },
   {
    "duration": 9,
    "start_time": "2021-07-07T17:18:53.427Z"
   },
   {
    "duration": 10,
    "start_time": "2021-07-07T17:18:53.437Z"
   },
   {
    "duration": 39,
    "start_time": "2021-07-07T17:18:53.448Z"
   },
   {
    "duration": 26,
    "start_time": "2021-07-07T17:18:55.799Z"
   },
   {
    "duration": 598,
    "start_time": "2021-07-07T17:20:17.862Z"
   },
   {
    "duration": 161,
    "start_time": "2021-07-07T17:20:18.462Z"
   },
   {
    "duration": 45,
    "start_time": "2021-07-07T17:20:18.626Z"
   },
   {
    "duration": 4,
    "start_time": "2021-07-07T17:20:18.673Z"
   },
   {
    "duration": 38,
    "start_time": "2021-07-07T17:20:26.877Z"
   },
   {
    "duration": 7,
    "start_time": "2021-07-07T17:20:37.405Z"
   },
   {
    "duration": 19,
    "start_time": "2021-07-07T17:20:51.534Z"
   },
   {
    "duration": 5,
    "start_time": "2021-07-07T17:20:57.228Z"
   },
   {
    "duration": 7,
    "start_time": "2021-07-07T17:21:08.235Z"
   },
   {
    "duration": 19,
    "start_time": "2021-07-07T17:21:42.158Z"
   },
   {
    "duration": 14,
    "start_time": "2021-07-07T17:21:50.225Z"
   },
   {
    "duration": 22,
    "start_time": "2021-07-07T17:22:54.104Z"
   },
   {
    "duration": 5,
    "start_time": "2021-07-07T17:22:56.371Z"
   },
   {
    "duration": 14,
    "start_time": "2021-07-07T17:22:58.316Z"
   },
   {
    "duration": 5,
    "start_time": "2021-07-07T17:22:58.493Z"
   },
   {
    "duration": 35,
    "start_time": "2021-07-07T17:22:59.666Z"
   },
   {
    "duration": 6,
    "start_time": "2021-07-07T17:23:02.410Z"
   },
   {
    "duration": 611,
    "start_time": "2021-07-07T17:24:59.664Z"
   },
   {
    "duration": 178,
    "start_time": "2021-07-07T17:25:01.945Z"
   },
   {
    "duration": 47,
    "start_time": "2021-07-07T17:25:02.125Z"
   },
   {
    "duration": 2,
    "start_time": "2021-07-07T17:25:07.903Z"
   },
   {
    "duration": 254,
    "start_time": "2021-07-07T17:25:08.232Z"
   },
   {
    "duration": 182,
    "start_time": "2021-07-07T17:25:08.671Z"
   },
   {
    "duration": 6,
    "start_time": "2021-07-07T17:25:13.104Z"
   },
   {
    "duration": 36,
    "start_time": "2021-07-07T17:25:13.662Z"
   },
   {
    "duration": 7,
    "start_time": "2021-07-07T17:25:14.528Z"
   },
   {
    "duration": 24,
    "start_time": "2021-07-07T17:25:27.982Z"
   },
   {
    "duration": 3,
    "start_time": "2021-07-07T17:25:48.982Z"
   },
   {
    "duration": 165,
    "start_time": "2021-07-07T17:25:48.987Z"
   },
   {
    "duration": 50,
    "start_time": "2021-07-07T17:25:49.154Z"
   },
   {
    "duration": 4,
    "start_time": "2021-07-07T17:25:49.206Z"
   },
   {
    "duration": 26,
    "start_time": "2021-07-07T17:25:49.212Z"
   },
   {
    "duration": 7,
    "start_time": "2021-07-07T17:25:49.240Z"
   },
   {
    "duration": 16,
    "start_time": "2021-07-07T17:25:49.249Z"
   },
   {
    "duration": 22,
    "start_time": "2021-07-07T17:25:49.266Z"
   },
   {
    "duration": 16,
    "start_time": "2021-07-07T17:25:49.291Z"
   },
   {
    "duration": 9,
    "start_time": "2021-07-07T17:25:49.309Z"
   },
   {
    "duration": 7,
    "start_time": "2021-07-07T17:25:49.319Z"
   },
   {
    "duration": 28,
    "start_time": "2021-07-07T17:25:49.328Z"
   },
   {
    "duration": 44,
    "start_time": "2021-07-07T17:25:49.357Z"
   },
   {
    "duration": 22,
    "start_time": "2021-07-07T17:25:49.403Z"
   },
   {
    "duration": 7,
    "start_time": "2021-07-07T17:25:49.427Z"
   },
   {
    "duration": 3,
    "start_time": "2021-07-07T17:25:49.436Z"
   },
   {
    "duration": 44,
    "start_time": "2021-07-07T17:25:49.441Z"
   },
   {
    "duration": 12,
    "start_time": "2021-07-07T17:25:49.488Z"
   },
   {
    "duration": 13,
    "start_time": "2021-07-07T17:25:49.502Z"
   },
   {
    "duration": 10,
    "start_time": "2021-07-07T17:25:49.516Z"
   },
   {
    "duration": 62,
    "start_time": "2021-07-07T17:25:49.527Z"
   },
   {
    "duration": 26,
    "start_time": "2021-07-07T17:26:51.809Z"
   },
   {
    "duration": 26,
    "start_time": "2021-07-07T17:26:55.759Z"
   },
   {
    "duration": 26,
    "start_time": "2021-07-07T17:27:04.501Z"
   },
   {
    "duration": 25,
    "start_time": "2021-07-07T17:28:24.859Z"
   },
   {
    "duration": 21,
    "start_time": "2021-07-07T17:28:55.250Z"
   },
   {
    "duration": 21,
    "start_time": "2021-07-07T17:28:58.885Z"
   },
   {
    "duration": 7,
    "start_time": "2021-07-07T17:45:40.972Z"
   },
   {
    "duration": 13,
    "start_time": "2021-07-07T17:45:42.529Z"
   },
   {
    "duration": 27,
    "start_time": "2021-07-07T17:45:51.026Z"
   },
   {
    "duration": 518,
    "start_time": "2021-07-07T17:46:15.532Z"
   },
   {
    "duration": 235,
    "start_time": "2021-07-07T17:46:16.053Z"
   },
   {
    "duration": 80,
    "start_time": "2021-07-07T17:46:16.292Z"
   },
   {
    "duration": 5,
    "start_time": "2021-07-07T17:46:16.373Z"
   },
   {
    "duration": 26,
    "start_time": "2021-07-07T17:46:16.380Z"
   },
   {
    "duration": 7,
    "start_time": "2021-07-07T17:46:16.408Z"
   },
   {
    "duration": 16,
    "start_time": "2021-07-07T17:46:16.418Z"
   },
   {
    "duration": 5,
    "start_time": "2021-07-07T17:46:16.436Z"
   },
   {
    "duration": 13,
    "start_time": "2021-07-07T17:46:16.442Z"
   },
   {
    "duration": 35,
    "start_time": "2021-07-07T17:46:16.456Z"
   },
   {
    "duration": 8,
    "start_time": "2021-07-07T17:46:16.493Z"
   },
   {
    "duration": 28,
    "start_time": "2021-07-07T17:46:16.502Z"
   },
   {
    "duration": 17,
    "start_time": "2021-07-07T17:46:16.532Z"
   },
   {
    "duration": 44,
    "start_time": "2021-07-07T17:46:16.551Z"
   },
   {
    "duration": 6,
    "start_time": "2021-07-07T17:46:16.597Z"
   },
   {
    "duration": 4,
    "start_time": "2021-07-07T17:46:16.605Z"
   },
   {
    "duration": 9,
    "start_time": "2021-07-07T17:46:16.610Z"
   },
   {
    "duration": 9,
    "start_time": "2021-07-07T17:46:16.621Z"
   },
   {
    "duration": 10,
    "start_time": "2021-07-07T17:46:16.632Z"
   },
   {
    "duration": 43,
    "start_time": "2021-07-07T17:46:16.644Z"
   },
   {
    "duration": 26,
    "start_time": "2021-07-07T17:46:16.689Z"
   },
   {
    "duration": 19,
    "start_time": "2021-07-07T17:46:16.718Z"
   },
   {
    "duration": 8,
    "start_time": "2021-07-07T17:46:16.738Z"
   },
   {
    "duration": 43,
    "start_time": "2021-07-07T17:46:16.747Z"
   },
   {
    "duration": 19,
    "start_time": "2021-07-07T17:46:16.791Z"
   },
   {
    "duration": 9,
    "start_time": "2021-07-07T17:46:16.812Z"
   },
   {
    "duration": 60,
    "start_time": "2021-07-07T17:46:16.822Z"
   },
   {
    "duration": -8,
    "start_time": "2021-07-07T17:46:16.892Z"
   },
   {
    "duration": 12,
    "start_time": "2021-07-07T17:48:47.707Z"
   },
   {
    "duration": 553,
    "start_time": "2021-07-07T18:10:09.350Z"
   },
   {
    "duration": 230,
    "start_time": "2021-07-07T18:10:09.905Z"
   },
   {
    "duration": 97,
    "start_time": "2021-07-07T18:10:10.137Z"
   },
   {
    "duration": 5,
    "start_time": "2021-07-07T18:10:10.236Z"
   },
   {
    "duration": 29,
    "start_time": "2021-07-07T18:10:10.242Z"
   },
   {
    "duration": 7,
    "start_time": "2021-07-07T18:10:10.272Z"
   },
   {
    "duration": 15,
    "start_time": "2021-07-07T18:10:10.281Z"
   },
   {
    "duration": 4,
    "start_time": "2021-07-07T18:10:10.299Z"
   },
   {
    "duration": 14,
    "start_time": "2021-07-07T18:10:10.305Z"
   },
   {
    "duration": 8,
    "start_time": "2021-07-07T18:10:10.321Z"
   },
   {
    "duration": 8,
    "start_time": "2021-07-07T18:10:10.331Z"
   },
   {
    "duration": 56,
    "start_time": "2021-07-07T18:10:10.341Z"
   },
   {
    "duration": 19,
    "start_time": "2021-07-07T18:10:10.399Z"
   },
   {
    "duration": 23,
    "start_time": "2021-07-07T18:10:10.419Z"
   },
   {
    "duration": 6,
    "start_time": "2021-07-07T18:10:10.444Z"
   },
   {
    "duration": 9,
    "start_time": "2021-07-07T18:10:10.451Z"
   },
   {
    "duration": 30,
    "start_time": "2021-07-07T18:10:10.462Z"
   },
   {
    "duration": 9,
    "start_time": "2021-07-07T18:10:10.494Z"
   },
   {
    "duration": 14,
    "start_time": "2021-07-07T18:10:10.505Z"
   },
   {
    "duration": 7,
    "start_time": "2021-07-07T18:10:10.521Z"
   },
   {
    "duration": 26,
    "start_time": "2021-07-07T18:10:10.530Z"
   },
   {
    "duration": 44,
    "start_time": "2021-07-07T18:10:10.558Z"
   },
   {
    "duration": 7,
    "start_time": "2021-07-07T18:10:10.605Z"
   },
   {
    "duration": 11,
    "start_time": "2021-07-07T18:10:10.614Z"
   },
   {
    "duration": 19,
    "start_time": "2021-07-07T18:10:10.626Z"
   },
   {
    "duration": 44,
    "start_time": "2021-07-07T18:10:10.646Z"
   },
   {
    "duration": 516,
    "start_time": "2021-07-07T18:14:00.826Z"
   },
   {
    "duration": 230,
    "start_time": "2021-07-07T18:14:01.344Z"
   },
   {
    "duration": 105,
    "start_time": "2021-07-07T18:14:01.576Z"
   },
   {
    "duration": 5,
    "start_time": "2021-07-07T18:14:01.683Z"
   },
   {
    "duration": 46,
    "start_time": "2021-07-07T18:14:01.690Z"
   },
   {
    "duration": 7,
    "start_time": "2021-07-07T18:14:01.738Z"
   },
   {
    "duration": 20,
    "start_time": "2021-07-07T18:14:01.747Z"
   },
   {
    "duration": 16,
    "start_time": "2021-07-07T18:14:01.769Z"
   },
   {
    "duration": 14,
    "start_time": "2021-07-07T18:14:01.787Z"
   },
   {
    "duration": 15,
    "start_time": "2021-07-07T18:14:01.803Z"
   },
   {
    "duration": 12,
    "start_time": "2021-07-07T18:14:01.820Z"
   },
   {
    "duration": 35,
    "start_time": "2021-07-07T18:14:01.833Z"
   },
   {
    "duration": 31,
    "start_time": "2021-07-07T18:14:01.869Z"
   },
   {
    "duration": 37,
    "start_time": "2021-07-07T18:14:01.902Z"
   },
   {
    "duration": 8,
    "start_time": "2021-07-07T18:14:01.942Z"
   },
   {
    "duration": 16,
    "start_time": "2021-07-07T18:14:01.952Z"
   },
   {
    "duration": 13,
    "start_time": "2021-07-07T18:14:01.970Z"
   },
   {
    "duration": 32,
    "start_time": "2021-07-07T18:14:01.985Z"
   },
   {
    "duration": 11,
    "start_time": "2021-07-07T18:14:02.019Z"
   },
   {
    "duration": 22,
    "start_time": "2021-07-07T18:14:02.031Z"
   },
   {
    "duration": 27,
    "start_time": "2021-07-07T18:14:02.055Z"
   },
   {
    "duration": 18,
    "start_time": "2021-07-07T18:14:02.084Z"
   },
   {
    "duration": 18,
    "start_time": "2021-07-07T18:14:02.106Z"
   },
   {
    "duration": 11,
    "start_time": "2021-07-07T18:14:02.126Z"
   },
   {
    "duration": 21,
    "start_time": "2021-07-07T18:14:02.138Z"
   },
   {
    "duration": 32,
    "start_time": "2021-07-07T18:14:02.161Z"
   },
   {
    "duration": 28,
    "start_time": "2021-07-07T18:14:44.295Z"
   },
   {
    "duration": 6,
    "start_time": "2021-07-07T18:15:05.834Z"
   },
   {
    "duration": 511,
    "start_time": "2021-07-07T18:15:41.541Z"
   },
   {
    "duration": 183,
    "start_time": "2021-07-07T18:15:42.054Z"
   },
   {
    "duration": 50,
    "start_time": "2021-07-07T18:15:42.239Z"
   },
   {
    "duration": 5,
    "start_time": "2021-07-07T18:15:42.291Z"
   },
   {
    "duration": 48,
    "start_time": "2021-07-07T18:15:42.297Z"
   },
   {
    "duration": 8,
    "start_time": "2021-07-07T18:15:42.346Z"
   },
   {
    "duration": 17,
    "start_time": "2021-07-07T18:15:42.356Z"
   },
   {
    "duration": 15,
    "start_time": "2021-07-07T18:15:42.375Z"
   },
   {
    "duration": 12,
    "start_time": "2021-07-07T18:15:42.392Z"
   },
   {
    "duration": 7,
    "start_time": "2021-07-07T18:15:42.406Z"
   },
   {
    "duration": 7,
    "start_time": "2021-07-07T18:15:42.415Z"
   },
   {
    "duration": 29,
    "start_time": "2021-07-07T18:15:42.423Z"
   },
   {
    "duration": 43,
    "start_time": "2021-07-07T18:15:42.453Z"
   },
   {
    "duration": 18,
    "start_time": "2021-07-07T18:15:42.497Z"
   },
   {
    "duration": 6,
    "start_time": "2021-07-07T18:15:42.516Z"
   },
   {
    "duration": 3,
    "start_time": "2021-07-07T18:15:42.523Z"
   },
   {
    "duration": 18,
    "start_time": "2021-07-07T18:15:42.528Z"
   },
   {
    "duration": 10,
    "start_time": "2021-07-07T18:15:42.547Z"
   },
   {
    "duration": 36,
    "start_time": "2021-07-07T18:15:42.559Z"
   },
   {
    "duration": 8,
    "start_time": "2021-07-07T18:15:42.597Z"
   },
   {
    "duration": 28,
    "start_time": "2021-07-07T18:15:42.606Z"
   },
   {
    "duration": 52,
    "start_time": "2021-07-07T18:15:42.635Z"
   },
   {
    "duration": 7,
    "start_time": "2021-07-07T18:15:42.690Z"
   },
   {
    "duration": 10,
    "start_time": "2021-07-07T18:15:42.699Z"
   },
   {
    "duration": 19,
    "start_time": "2021-07-07T18:15:42.711Z"
   },
   {
    "duration": 9,
    "start_time": "2021-07-07T18:15:42.732Z"
   },
   {
    "duration": 5,
    "start_time": "2021-07-07T18:15:42.743Z"
   },
   {
    "duration": 1450,
    "start_time": "2021-07-07T18:15:51.984Z"
   },
   {
    "duration": 161,
    "start_time": "2021-07-07T18:15:53.435Z"
   },
   {
    "duration": 124,
    "start_time": "2021-07-07T18:15:53.598Z"
   },
   {
    "duration": 5,
    "start_time": "2021-07-07T18:15:53.724Z"
   },
   {
    "duration": 34,
    "start_time": "2021-07-07T18:15:53.730Z"
   },
   {
    "duration": 7,
    "start_time": "2021-07-07T18:15:53.765Z"
   },
   {
    "duration": 15,
    "start_time": "2021-07-07T18:15:53.773Z"
   },
   {
    "duration": 5,
    "start_time": "2021-07-07T18:15:53.791Z"
   },
   {
    "duration": 19,
    "start_time": "2021-07-07T18:15:53.798Z"
   },
   {
    "duration": 9,
    "start_time": "2021-07-07T18:15:53.818Z"
   },
   {
    "duration": 19,
    "start_time": "2021-07-07T18:15:53.828Z"
   },
   {
    "duration": 27,
    "start_time": "2021-07-07T18:15:53.848Z"
   },
   {
    "duration": 16,
    "start_time": "2021-07-07T18:15:53.884Z"
   },
   {
    "duration": 29,
    "start_time": "2021-07-07T18:15:53.901Z"
   },
   {
    "duration": 5,
    "start_time": "2021-07-07T18:15:53.932Z"
   },
   {
    "duration": 15,
    "start_time": "2021-07-07T18:15:53.939Z"
   },
   {
    "duration": 13,
    "start_time": "2021-07-07T18:15:53.956Z"
   },
   {
    "duration": 20,
    "start_time": "2021-07-07T18:15:53.971Z"
   },
   {
    "duration": 14,
    "start_time": "2021-07-07T18:15:53.992Z"
   },
   {
    "duration": 9,
    "start_time": "2021-07-07T18:15:54.009Z"
   },
   {
    "duration": 28,
    "start_time": "2021-07-07T18:15:54.020Z"
   },
   {
    "duration": 50,
    "start_time": "2021-07-07T18:15:54.051Z"
   },
   {
    "duration": 8,
    "start_time": "2021-07-07T18:15:54.105Z"
   },
   {
    "duration": 11,
    "start_time": "2021-07-07T18:15:54.115Z"
   },
   {
    "duration": 20,
    "start_time": "2021-07-07T18:15:54.128Z"
   },
   {
    "duration": 13,
    "start_time": "2021-07-07T18:15:54.184Z"
   },
   {
    "duration": 7,
    "start_time": "2021-07-07T18:15:54.199Z"
   },
   {
    "duration": 7,
    "start_time": "2021-07-07T18:17:08.042Z"
   },
   {
    "duration": 8,
    "start_time": "2021-07-07T18:17:21.008Z"
   },
   {
    "duration": 7,
    "start_time": "2021-07-07T18:17:29.003Z"
   },
   {
    "duration": 8,
    "start_time": "2021-07-07T18:17:32.492Z"
   },
   {
    "duration": 9,
    "start_time": "2021-07-07T18:17:41.758Z"
   },
   {
    "duration": 255,
    "start_time": "2021-07-07T18:20:20.897Z"
   },
   {
    "duration": 173,
    "start_time": "2021-07-07T18:20:26.636Z"
   },
   {
    "duration": 7,
    "start_time": "2021-07-07T18:21:47.164Z"
   },
   {
    "duration": 254,
    "start_time": "2021-07-07T18:23:08.703Z"
   },
   {
    "duration": 21,
    "start_time": "2021-07-07T18:23:22.506Z"
   },
   {
    "duration": 315,
    "start_time": "2021-07-07T18:25:54.801Z"
   },
   {
    "duration": 34,
    "start_time": "2021-07-07T18:26:51.817Z"
   },
   {
    "duration": 327,
    "start_time": "2021-07-07T18:26:56.147Z"
   },
   {
    "duration": 342,
    "start_time": "2021-07-07T18:27:15.887Z"
   },
   {
    "duration": 302,
    "start_time": "2021-07-07T18:28:18.569Z"
   },
   {
    "duration": 226,
    "start_time": "2021-07-07T18:29:20.879Z"
   },
   {
    "duration": 207,
    "start_time": "2021-07-07T18:29:58.114Z"
   },
   {
    "duration": 140,
    "start_time": "2021-07-07T18:32:04.372Z"
   },
   {
    "duration": 158,
    "start_time": "2021-07-07T18:32:32.508Z"
   },
   {
    "duration": 145,
    "start_time": "2021-07-07T18:32:41.365Z"
   },
   {
    "duration": 132,
    "start_time": "2021-07-07T18:32:45.199Z"
   },
   {
    "duration": 11,
    "start_time": "2021-07-07T18:35:24.679Z"
   },
   {
    "duration": 268,
    "start_time": "2021-07-07T18:36:16.145Z"
   },
   {
    "duration": 227,
    "start_time": "2021-07-07T18:37:04.918Z"
   },
   {
    "duration": 3,
    "start_time": "2021-07-07T18:37:33.012Z"
   },
   {
    "duration": 671,
    "start_time": "2021-07-07T18:37:38.295Z"
   },
   {
    "duration": 54,
    "start_time": "2021-07-07T18:37:53.406Z"
   },
   {
    "duration": 631,
    "start_time": "2021-07-07T18:37:56.463Z"
   },
   {
    "duration": 19,
    "start_time": "2021-07-07T18:39:40.535Z"
   },
   {
    "duration": 20,
    "start_time": "2021-07-07T18:40:12.236Z"
   },
   {
    "duration": 633,
    "start_time": "2021-07-07T18:42:00.398Z"
   },
   {
    "duration": 218,
    "start_time": "2021-07-07T18:42:01.033Z"
   },
   {
    "duration": 49,
    "start_time": "2021-07-07T18:42:01.253Z"
   },
   {
    "duration": 5,
    "start_time": "2021-07-07T18:42:01.303Z"
   },
   {
    "duration": 27,
    "start_time": "2021-07-07T18:42:01.310Z"
   },
   {
    "duration": 8,
    "start_time": "2021-07-07T18:42:01.339Z"
   },
   {
    "duration": 20,
    "start_time": "2021-07-07T18:42:01.348Z"
   },
   {
    "duration": 6,
    "start_time": "2021-07-07T18:42:01.386Z"
   },
   {
    "duration": 16,
    "start_time": "2021-07-07T18:42:01.394Z"
   },
   {
    "duration": 9,
    "start_time": "2021-07-07T18:42:01.411Z"
   },
   {
    "duration": 11,
    "start_time": "2021-07-07T18:42:01.421Z"
   },
   {
    "duration": 31,
    "start_time": "2021-07-07T18:42:01.434Z"
   },
   {
    "duration": 18,
    "start_time": "2021-07-07T18:42:01.485Z"
   },
   {
    "duration": 23,
    "start_time": "2021-07-07T18:42:01.505Z"
   },
   {
    "duration": 6,
    "start_time": "2021-07-07T18:42:01.530Z"
   },
   {
    "duration": 10,
    "start_time": "2021-07-07T18:42:01.538Z"
   },
   {
    "duration": 13,
    "start_time": "2021-07-07T18:42:01.550Z"
   },
   {
    "duration": 24,
    "start_time": "2021-07-07T18:42:01.564Z"
   },
   {
    "duration": 20,
    "start_time": "2021-07-07T18:42:01.590Z"
   },
   {
    "duration": 8,
    "start_time": "2021-07-07T18:42:01.611Z"
   },
   {
    "duration": 31,
    "start_time": "2021-07-07T18:42:01.620Z"
   },
   {
    "duration": 39,
    "start_time": "2021-07-07T18:42:01.653Z"
   },
   {
    "duration": 8,
    "start_time": "2021-07-07T18:42:01.696Z"
   },
   {
    "duration": 13,
    "start_time": "2021-07-07T18:42:01.705Z"
   },
   {
    "duration": 20,
    "start_time": "2021-07-07T18:42:01.720Z"
   },
   {
    "duration": 12,
    "start_time": "2021-07-07T18:42:01.741Z"
   },
   {
    "duration": 35,
    "start_time": "2021-07-07T18:42:01.755Z"
   },
   {
    "duration": 14,
    "start_time": "2021-07-07T18:42:01.792Z"
   },
   {
    "duration": 188,
    "start_time": "2021-07-07T18:42:01.808Z"
   },
   {
    "duration": 19,
    "start_time": "2021-07-07T18:42:01.998Z"
   },
   {
    "duration": 175,
    "start_time": "2021-07-07T18:42:02.019Z"
   },
   {
    "duration": 134,
    "start_time": "2021-07-07T18:42:02.196Z"
   },
   {
    "duration": 10,
    "start_time": "2021-07-07T18:42:02.331Z"
   },
   {
    "duration": 19,
    "start_time": "2021-07-07T18:42:02.343Z"
   },
   {
    "duration": 628,
    "start_time": "2021-07-07T18:46:30.701Z"
   },
   {
    "duration": 183,
    "start_time": "2021-07-07T18:46:31.331Z"
   },
   {
    "duration": 48,
    "start_time": "2021-07-07T18:46:31.516Z"
   },
   {
    "duration": 5,
    "start_time": "2021-07-07T18:46:31.566Z"
   },
   {
    "duration": 28,
    "start_time": "2021-07-07T18:46:31.572Z"
   },
   {
    "duration": 8,
    "start_time": "2021-07-07T18:46:31.602Z"
   },
   {
    "duration": 19,
    "start_time": "2021-07-07T18:46:31.611Z"
   },
   {
    "duration": 6,
    "start_time": "2021-07-07T18:46:31.633Z"
   },
   {
    "duration": 17,
    "start_time": "2021-07-07T18:46:31.642Z"
   },
   {
    "duration": 10,
    "start_time": "2021-07-07T18:46:31.684Z"
   },
   {
    "duration": 9,
    "start_time": "2021-07-07T18:46:31.695Z"
   },
   {
    "duration": 28,
    "start_time": "2021-07-07T18:46:31.705Z"
   },
   {
    "duration": 18,
    "start_time": "2021-07-07T18:46:31.735Z"
   },
   {
    "duration": 48,
    "start_time": "2021-07-07T18:46:31.755Z"
   },
   {
    "duration": 6,
    "start_time": "2021-07-07T18:46:31.804Z"
   },
   {
    "duration": 4,
    "start_time": "2021-07-07T18:46:31.812Z"
   },
   {
    "duration": 9,
    "start_time": "2021-07-07T18:46:31.817Z"
   },
   {
    "duration": 10,
    "start_time": "2021-07-07T18:46:31.827Z"
   },
   {
    "duration": 12,
    "start_time": "2021-07-07T18:46:31.838Z"
   },
   {
    "duration": 39,
    "start_time": "2021-07-07T18:46:31.851Z"
   },
   {
    "duration": 24,
    "start_time": "2021-07-07T18:46:31.892Z"
   },
   {
    "duration": 15,
    "start_time": "2021-07-07T18:46:31.918Z"
   },
   {
    "duration": 7,
    "start_time": "2021-07-07T18:46:31.936Z"
   },
   {
    "duration": 8,
    "start_time": "2021-07-07T18:46:31.944Z"
   },
   {
    "duration": 19,
    "start_time": "2021-07-07T18:46:31.984Z"
   },
   {
    "duration": 10,
    "start_time": "2021-07-07T18:46:32.004Z"
   },
   {
    "duration": 5,
    "start_time": "2021-07-07T18:46:32.016Z"
   },
   {
    "duration": 9,
    "start_time": "2021-07-07T18:46:32.023Z"
   },
   {
    "duration": 199,
    "start_time": "2021-07-07T18:46:32.033Z"
   },
   {
    "duration": 19,
    "start_time": "2021-07-07T18:46:32.234Z"
   },
   {
    "duration": 159,
    "start_time": "2021-07-07T18:46:32.255Z"
   },
   {
    "duration": 134,
    "start_time": "2021-07-07T18:46:32.416Z"
   },
   {
    "duration": 10,
    "start_time": "2021-07-07T18:46:32.552Z"
   },
   {
    "duration": 34,
    "start_time": "2021-07-07T18:46:32.563Z"
   },
   {
    "duration": 1039,
    "start_time": "2021-07-08T08:41:09.419Z"
   },
   {
    "duration": 333,
    "start_time": "2021-07-08T08:41:10.459Z"
   },
   {
    "duration": 173,
    "start_time": "2021-07-08T08:41:10.794Z"
   },
   {
    "duration": 5,
    "start_time": "2021-07-08T08:41:10.968Z"
   },
   {
    "duration": 25,
    "start_time": "2021-07-08T08:41:10.975Z"
   },
   {
    "duration": 9,
    "start_time": "2021-07-08T08:41:11.002Z"
   },
   {
    "duration": 18,
    "start_time": "2021-07-08T08:41:11.013Z"
   },
   {
    "duration": 6,
    "start_time": "2021-07-08T08:41:11.033Z"
   },
   {
    "duration": 44,
    "start_time": "2021-07-08T08:41:11.042Z"
   },
   {
    "duration": 10,
    "start_time": "2021-07-08T08:41:11.088Z"
   },
   {
    "duration": 9,
    "start_time": "2021-07-08T08:41:11.100Z"
   },
   {
    "duration": 27,
    "start_time": "2021-07-08T08:41:11.111Z"
   },
   {
    "duration": 46,
    "start_time": "2021-07-08T08:41:11.140Z"
   },
   {
    "duration": 17,
    "start_time": "2021-07-08T08:41:11.187Z"
   },
   {
    "duration": 6,
    "start_time": "2021-07-08T08:41:11.206Z"
   },
   {
    "duration": 5,
    "start_time": "2021-07-08T08:41:11.213Z"
   },
   {
    "duration": 10,
    "start_time": "2021-07-08T08:41:11.219Z"
   },
   {
    "duration": 9,
    "start_time": "2021-07-08T08:41:11.230Z"
   },
   {
    "duration": 45,
    "start_time": "2021-07-08T08:41:11.241Z"
   },
   {
    "duration": 7,
    "start_time": "2021-07-08T08:41:11.287Z"
   },
   {
    "duration": 24,
    "start_time": "2021-07-08T08:41:11.296Z"
   },
   {
    "duration": 16,
    "start_time": "2021-07-08T08:41:11.322Z"
   },
   {
    "duration": 7,
    "start_time": "2021-07-08T08:41:11.341Z"
   },
   {
    "duration": 41,
    "start_time": "2021-07-08T08:41:11.349Z"
   },
   {
    "duration": 17,
    "start_time": "2021-07-08T08:41:11.391Z"
   },
   {
    "duration": 9,
    "start_time": "2021-07-08T08:41:11.410Z"
   },
   {
    "duration": 5,
    "start_time": "2021-07-08T08:41:11.421Z"
   },
   {
    "duration": 6,
    "start_time": "2021-07-08T08:41:11.428Z"
   },
   {
    "duration": 198,
    "start_time": "2021-07-08T08:41:11.435Z"
   },
   {
    "duration": 18,
    "start_time": "2021-07-08T08:41:11.635Z"
   },
   {
    "duration": 155,
    "start_time": "2021-07-08T08:41:11.655Z"
   },
   {
    "duration": 138,
    "start_time": "2021-07-08T08:41:11.811Z"
   },
   {
    "duration": 10,
    "start_time": "2021-07-08T08:41:11.950Z"
   },
   {
    "duration": 29,
    "start_time": "2021-07-08T08:41:11.961Z"
   },
   {
    "duration": 171,
    "start_time": "2021-07-08T08:47:44.522Z"
   },
   {
    "duration": 124,
    "start_time": "2021-07-08T08:47:46.872Z"
   },
   {
    "duration": 191,
    "start_time": "2021-07-08T08:47:58.148Z"
   },
   {
    "duration": 191,
    "start_time": "2021-07-08T08:48:07.412Z"
   },
   {
    "duration": 261,
    "start_time": "2021-07-08T08:48:10.385Z"
   },
   {
    "duration": 255,
    "start_time": "2021-07-08T08:48:14.494Z"
   },
   {
    "duration": 219,
    "start_time": "2021-07-08T08:48:22.752Z"
   },
   {
    "duration": 173,
    "start_time": "2021-07-08T08:49:06.395Z"
   },
   {
    "duration": 180,
    "start_time": "2021-07-08T08:49:21.011Z"
   },
   {
    "duration": 6,
    "start_time": "2021-07-08T08:50:31.697Z"
   },
   {
    "duration": 10,
    "start_time": "2021-07-08T08:50:47.394Z"
   },
   {
    "duration": 11,
    "start_time": "2021-07-08T08:53:49.332Z"
   },
   {
    "duration": 171,
    "start_time": "2021-07-08T08:54:28.408Z"
   },
   {
    "duration": 636,
    "start_time": "2021-07-08T09:02:48.385Z"
   },
   {
    "duration": 227,
    "start_time": "2021-07-08T09:02:49.023Z"
   },
   {
    "duration": 104,
    "start_time": "2021-07-08T09:02:49.252Z"
   },
   {
    "duration": 5,
    "start_time": "2021-07-08T09:02:49.358Z"
   },
   {
    "duration": 27,
    "start_time": "2021-07-08T09:02:49.365Z"
   },
   {
    "duration": 8,
    "start_time": "2021-07-08T09:02:49.394Z"
   },
   {
    "duration": 18,
    "start_time": "2021-07-08T09:02:49.404Z"
   },
   {
    "duration": 6,
    "start_time": "2021-07-08T09:02:49.424Z"
   },
   {
    "duration": 11,
    "start_time": "2021-07-08T09:02:49.433Z"
   },
   {
    "duration": 13,
    "start_time": "2021-07-08T09:02:49.485Z"
   },
   {
    "duration": 9,
    "start_time": "2021-07-08T09:02:49.500Z"
   },
   {
    "duration": 38,
    "start_time": "2021-07-08T09:02:49.511Z"
   },
   {
    "duration": 42,
    "start_time": "2021-07-08T09:02:49.551Z"
   },
   {
    "duration": 21,
    "start_time": "2021-07-08T09:02:49.594Z"
   },
   {
    "duration": 6,
    "start_time": "2021-07-08T09:02:49.616Z"
   },
   {
    "duration": 3,
    "start_time": "2021-07-08T09:02:49.623Z"
   },
   {
    "duration": 9,
    "start_time": "2021-07-08T09:02:49.628Z"
   },
   {
    "duration": 52,
    "start_time": "2021-07-08T09:02:49.638Z"
   },
   {
    "duration": 11,
    "start_time": "2021-07-08T09:02:49.692Z"
   },
   {
    "duration": 8,
    "start_time": "2021-07-08T09:02:49.704Z"
   },
   {
    "duration": 27,
    "start_time": "2021-07-08T09:02:49.713Z"
   },
   {
    "duration": 59,
    "start_time": "2021-07-08T09:02:49.741Z"
   },
   {
    "duration": 8,
    "start_time": "2021-07-08T09:02:49.803Z"
   },
   {
    "duration": 14,
    "start_time": "2021-07-08T09:02:49.813Z"
   },
   {
    "duration": 20,
    "start_time": "2021-07-08T09:02:49.829Z"
   },
   {
    "duration": 44,
    "start_time": "2021-07-08T09:02:49.851Z"
   },
   {
    "duration": 14,
    "start_time": "2021-07-08T09:02:49.896Z"
   },
   {
    "duration": 221,
    "start_time": "2021-07-08T09:02:49.912Z"
   },
   {
    "duration": 6,
    "start_time": "2021-07-08T09:02:50.134Z"
   },
   {
    "duration": 206,
    "start_time": "2021-07-08T09:02:50.142Z"
   },
   {
    "duration": 19,
    "start_time": "2021-07-08T09:02:50.350Z"
   },
   {
    "duration": 21,
    "start_time": "2021-07-08T09:02:50.370Z"
   },
   {
    "duration": 20,
    "start_time": "2021-07-08T09:02:50.393Z"
   },
   {
    "duration": 5,
    "start_time": "2021-07-08T09:02:50.414Z"
   },
   {
    "duration": 5,
    "start_time": "2021-07-08T09:03:34.173Z"
   },
   {
    "duration": 6,
    "start_time": "2021-07-08T09:04:49.062Z"
   },
   {
    "duration": 9,
    "start_time": "2021-07-08T09:04:50.118Z"
   },
   {
    "duration": 14,
    "start_time": "2021-07-08T09:04:58.512Z"
   },
   {
    "duration": 9,
    "start_time": "2021-07-08T09:05:10.988Z"
   },
   {
    "duration": 11,
    "start_time": "2021-07-08T09:05:11.743Z"
   },
   {
    "duration": 7,
    "start_time": "2021-07-08T09:05:25.677Z"
   },
   {
    "duration": 13,
    "start_time": "2021-07-08T09:05:47.189Z"
   },
   {
    "duration": 13,
    "start_time": "2021-07-08T09:05:54.755Z"
   },
   {
    "duration": 4,
    "start_time": "2021-07-08T09:06:29.189Z"
   },
   {
    "duration": 244,
    "start_time": "2021-07-08T09:06:29.195Z"
   },
   {
    "duration": 91,
    "start_time": "2021-07-08T09:06:29.441Z"
   },
   {
    "duration": 4,
    "start_time": "2021-07-08T09:06:29.534Z"
   },
   {
    "duration": 28,
    "start_time": "2021-07-08T09:06:29.540Z"
   },
   {
    "duration": 6,
    "start_time": "2021-07-08T09:06:29.570Z"
   },
   {
    "duration": 18,
    "start_time": "2021-07-08T09:06:29.578Z"
   },
   {
    "duration": 5,
    "start_time": "2021-07-08T09:06:29.597Z"
   },
   {
    "duration": 13,
    "start_time": "2021-07-08T09:06:29.605Z"
   },
   {
    "duration": 8,
    "start_time": "2021-07-08T09:06:29.620Z"
   },
   {
    "duration": 7,
    "start_time": "2021-07-08T09:06:29.630Z"
   },
   {
    "duration": 63,
    "start_time": "2021-07-08T09:06:29.639Z"
   },
   {
    "duration": 17,
    "start_time": "2021-07-08T09:06:29.704Z"
   },
   {
    "duration": 20,
    "start_time": "2021-07-08T09:06:29.723Z"
   },
   {
    "duration": 6,
    "start_time": "2021-07-08T09:06:29.745Z"
   },
   {
    "duration": 3,
    "start_time": "2021-07-08T09:06:29.752Z"
   },
   {
    "duration": 7,
    "start_time": "2021-07-08T09:06:29.785Z"
   },
   {
    "duration": 11,
    "start_time": "2021-07-08T09:06:29.794Z"
   },
   {
    "duration": 15,
    "start_time": "2021-07-08T09:06:29.807Z"
   },
   {
    "duration": 8,
    "start_time": "2021-07-08T09:06:29.823Z"
   },
   {
    "duration": 70,
    "start_time": "2021-07-08T09:06:29.832Z"
   },
   {
    "duration": 17,
    "start_time": "2021-07-08T09:06:29.903Z"
   },
   {
    "duration": 9,
    "start_time": "2021-07-08T09:06:29.921Z"
   },
   {
    "duration": 9,
    "start_time": "2021-07-08T09:06:29.932Z"
   },
   {
    "duration": 57,
    "start_time": "2021-07-08T09:06:29.942Z"
   },
   {
    "duration": 11,
    "start_time": "2021-07-08T09:06:30.001Z"
   },
   {
    "duration": 19,
    "start_time": "2021-07-08T09:06:30.016Z"
   },
   {
    "duration": 217,
    "start_time": "2021-07-08T09:06:30.037Z"
   },
   {
    "duration": 6,
    "start_time": "2021-07-08T09:06:30.255Z"
   },
   {
    "duration": 205,
    "start_time": "2021-07-08T09:06:30.263Z"
   },
   {
    "duration": 27,
    "start_time": "2021-07-08T09:06:30.470Z"
   },
   {
    "duration": 11,
    "start_time": "2021-07-08T09:06:30.500Z"
   },
   {
    "duration": 31,
    "start_time": "2021-07-08T09:06:30.513Z"
   },
   {
    "duration": 18,
    "start_time": "2021-07-08T09:06:30.546Z"
   },
   {
    "duration": 11,
    "start_time": "2021-07-08T09:06:30.566Z"
   },
   {
    "duration": 19,
    "start_time": "2021-07-08T09:06:30.579Z"
   },
   {
    "duration": 20,
    "start_time": "2021-07-08T09:06:49.466Z"
   },
   {
    "duration": 9,
    "start_time": "2021-07-08T09:06:51.994Z"
   },
   {
    "duration": 20,
    "start_time": "2021-07-08T09:06:52.273Z"
   },
   {
    "duration": 246,
    "start_time": "2021-07-08T09:10:21.272Z"
   },
   {
    "duration": 84,
    "start_time": "2021-07-08T09:10:21.436Z"
   },
   {
    "duration": 7,
    "start_time": "2021-07-08T09:10:37.608Z"
   },
   {
    "duration": 189,
    "start_time": "2021-07-08T09:10:38.573Z"
   },
   {
    "duration": 185,
    "start_time": "2021-07-08T09:10:53.181Z"
   },
   {
    "duration": 11,
    "start_time": "2021-07-08T09:10:59.549Z"
   },
   {
    "duration": 42,
    "start_time": "2021-07-08T09:10:59.709Z"
   },
   {
    "duration": 12,
    "start_time": "2021-07-08T09:11:02.857Z"
   },
   {
    "duration": 28,
    "start_time": "2021-07-08T09:11:10.062Z"
   },
   {
    "duration": 249,
    "start_time": "2021-07-08T09:11:37.388Z"
   },
   {
    "duration": 232,
    "start_time": "2021-07-08T09:11:49.485Z"
   },
   {
    "duration": 453,
    "start_time": "2021-07-08T09:12:01.546Z"
   },
   {
    "duration": 440,
    "start_time": "2021-07-08T09:12:12.347Z"
   },
   {
    "duration": 213,
    "start_time": "2021-07-08T09:13:32.196Z"
   },
   {
    "duration": 172,
    "start_time": "2021-07-08T09:14:07.400Z"
   },
   {
    "duration": 185,
    "start_time": "2021-07-08T09:14:14.905Z"
   },
   {
    "duration": 209,
    "start_time": "2021-07-08T09:14:40.109Z"
   },
   {
    "duration": 201,
    "start_time": "2021-07-08T09:14:54.506Z"
   },
   {
    "duration": 622,
    "start_time": "2021-07-08T09:18:14.497Z"
   },
   {
    "duration": 220,
    "start_time": "2021-07-08T09:18:15.121Z"
   },
   {
    "duration": 79,
    "start_time": "2021-07-08T09:18:15.343Z"
   },
   {
    "duration": 4,
    "start_time": "2021-07-08T09:18:15.425Z"
   },
   {
    "duration": 24,
    "start_time": "2021-07-08T09:18:15.431Z"
   },
   {
    "duration": 8,
    "start_time": "2021-07-08T09:18:15.457Z"
   },
   {
    "duration": 16,
    "start_time": "2021-07-08T09:18:15.466Z"
   },
   {
    "duration": 5,
    "start_time": "2021-07-08T09:18:15.484Z"
   },
   {
    "duration": 10,
    "start_time": "2021-07-08T09:18:15.493Z"
   },
   {
    "duration": 8,
    "start_time": "2021-07-08T09:18:15.504Z"
   },
   {
    "duration": 7,
    "start_time": "2021-07-08T09:18:15.513Z"
   },
   {
    "duration": 26,
    "start_time": "2021-07-08T09:18:15.522Z"
   },
   {
    "duration": 49,
    "start_time": "2021-07-08T09:18:15.550Z"
   },
   {
    "duration": 21,
    "start_time": "2021-07-08T09:18:15.601Z"
   },
   {
    "duration": 8,
    "start_time": "2021-07-08T09:18:15.624Z"
   },
   {
    "duration": 3,
    "start_time": "2021-07-08T09:18:15.634Z"
   },
   {
    "duration": 8,
    "start_time": "2021-07-08T09:18:15.639Z"
   },
   {
    "duration": 45,
    "start_time": "2021-07-08T09:18:15.649Z"
   },
   {
    "duration": 13,
    "start_time": "2021-07-08T09:18:15.696Z"
   },
   {
    "duration": 10,
    "start_time": "2021-07-08T09:18:15.711Z"
   },
   {
    "duration": 64,
    "start_time": "2021-07-08T09:18:15.722Z"
   },
   {
    "duration": 19,
    "start_time": "2021-07-08T09:18:15.788Z"
   },
   {
    "duration": 9,
    "start_time": "2021-07-08T09:18:15.809Z"
   },
   {
    "duration": 9,
    "start_time": "2021-07-08T09:18:15.820Z"
   },
   {
    "duration": 18,
    "start_time": "2021-07-08T09:18:15.831Z"
   },
   {
    "duration": 43,
    "start_time": "2021-07-08T09:18:15.851Z"
   },
   {
    "duration": 12,
    "start_time": "2021-07-08T09:18:15.897Z"
   },
   {
    "duration": 219,
    "start_time": "2021-07-08T09:18:15.911Z"
   },
   {
    "duration": 8,
    "start_time": "2021-07-08T09:18:16.132Z"
   },
   {
    "duration": 199,
    "start_time": "2021-07-08T09:18:16.141Z"
   },
   {
    "duration": 18,
    "start_time": "2021-07-08T09:18:16.341Z"
   },
   {
    "duration": 24,
    "start_time": "2021-07-08T09:18:16.361Z"
   },
   {
    "duration": 24,
    "start_time": "2021-07-08T09:18:16.387Z"
   },
   {
    "duration": 211,
    "start_time": "2021-07-08T09:18:16.413Z"
   },
   {
    "duration": 18,
    "start_time": "2021-07-08T09:18:16.626Z"
   },
   {
    "duration": 596,
    "start_time": "2021-07-08T10:06:33.623Z"
   },
   {
    "duration": 181,
    "start_time": "2021-07-08T10:06:34.221Z"
   },
   {
    "duration": 176,
    "start_time": "2021-07-08T10:06:34.635Z"
   },
   {
    "duration": 239,
    "start_time": "2021-07-08T10:06:55.572Z"
   },
   {
    "duration": 6,
    "start_time": "2021-07-08T10:06:57.687Z"
   },
   {
    "duration": 4,
    "start_time": "2021-07-08T10:07:03.956Z"
   },
   {
    "duration": 4,
    "start_time": "2021-07-08T10:07:10.376Z"
   },
   {
    "duration": 4,
    "start_time": "2021-07-08T10:17:19.889Z"
   },
   {
    "duration": 3,
    "start_time": "2021-07-08T10:19:19.407Z"
   },
   {
    "duration": 197,
    "start_time": "2021-07-08T10:19:19.412Z"
   },
   {
    "duration": 127,
    "start_time": "2021-07-08T10:19:19.611Z"
   },
   {
    "duration": 4,
    "start_time": "2021-07-08T10:19:19.740Z"
   },
   {
    "duration": 27,
    "start_time": "2021-07-08T10:19:19.746Z"
   },
   {
    "duration": 7,
    "start_time": "2021-07-08T10:19:19.775Z"
   },
   {
    "duration": 30,
    "start_time": "2021-07-08T10:19:19.784Z"
   },
   {
    "duration": 7,
    "start_time": "2021-07-08T10:19:19.817Z"
   },
   {
    "duration": 26,
    "start_time": "2021-07-08T10:19:19.826Z"
   },
   {
    "duration": 18,
    "start_time": "2021-07-08T10:19:19.854Z"
   },
   {
    "duration": 14,
    "start_time": "2021-07-08T10:19:19.874Z"
   },
   {
    "duration": 48,
    "start_time": "2021-07-08T10:19:19.890Z"
   },
   {
    "duration": 17,
    "start_time": "2021-07-08T10:19:19.940Z"
   },
   {
    "duration": 38,
    "start_time": "2021-07-08T10:19:19.959Z"
   },
   {
    "duration": 8,
    "start_time": "2021-07-08T10:19:19.999Z"
   },
   {
    "duration": 15,
    "start_time": "2021-07-08T10:19:20.009Z"
   },
   {
    "duration": 22,
    "start_time": "2021-07-08T10:19:20.026Z"
   },
   {
    "duration": 10,
    "start_time": "2021-07-08T10:19:20.050Z"
   },
   {
    "duration": 10,
    "start_time": "2021-07-08T10:19:20.062Z"
   },
   {
    "duration": 20,
    "start_time": "2021-07-08T10:19:20.073Z"
   },
   {
    "duration": 29,
    "start_time": "2021-07-08T10:19:20.095Z"
   },
   {
    "duration": 17,
    "start_time": "2021-07-08T10:19:20.126Z"
   },
   {
    "duration": 40,
    "start_time": "2021-07-08T10:19:20.146Z"
   },
   {
    "duration": 15,
    "start_time": "2021-07-08T10:19:20.189Z"
   },
   {
    "duration": 19,
    "start_time": "2021-07-08T10:19:20.206Z"
   },
   {
    "duration": 10,
    "start_time": "2021-07-08T10:19:20.226Z"
   },
   {
    "duration": 11,
    "start_time": "2021-07-08T10:19:20.238Z"
   },
   {
    "duration": 297,
    "start_time": "2021-07-08T10:19:20.250Z"
   },
   {
    "duration": 6,
    "start_time": "2021-07-08T10:19:20.549Z"
   },
   {
    "duration": 191,
    "start_time": "2021-07-08T10:19:20.557Z"
   },
   {
    "duration": 19,
    "start_time": "2021-07-08T10:19:20.750Z"
   },
   {
    "duration": 20,
    "start_time": "2021-07-08T10:19:20.771Z"
   },
   {
    "duration": 15,
    "start_time": "2021-07-08T10:19:20.793Z"
   },
   {
    "duration": 222,
    "start_time": "2021-07-08T10:19:20.809Z"
   },
   {
    "duration": 20,
    "start_time": "2021-07-08T10:19:21.033Z"
   },
   {
    "duration": 27,
    "start_time": "2021-07-08T10:45:04.055Z"
   },
   {
    "duration": 8,
    "start_time": "2021-07-08T10:45:08.478Z"
   },
   {
    "duration": 8,
    "start_time": "2021-07-08T10:45:31.982Z"
   },
   {
    "duration": 10,
    "start_time": "2021-07-08T10:46:01.221Z"
   },
   {
    "duration": 17,
    "start_time": "2021-07-08T10:46:40.011Z"
   },
   {
    "duration": 193,
    "start_time": "2021-07-08T10:48:19.471Z"
   },
   {
    "duration": 225,
    "start_time": "2021-07-08T10:49:26.480Z"
   },
   {
    "duration": 204,
    "start_time": "2021-07-08T10:49:59.992Z"
   },
   {
    "duration": 435,
    "start_time": "2021-07-08T10:50:06.779Z"
   },
   {
    "duration": 199,
    "start_time": "2021-07-08T10:50:14.891Z"
   },
   {
    "duration": 204,
    "start_time": "2021-07-08T10:50:18.501Z"
   },
   {
    "duration": 244,
    "start_time": "2021-07-08T10:50:23.359Z"
   },
   {
    "duration": 192,
    "start_time": "2021-07-08T10:50:29.135Z"
   },
   {
    "duration": 218,
    "start_time": "2021-07-08T10:50:33.092Z"
   },
   {
    "duration": 207,
    "start_time": "2021-07-08T10:52:45.381Z"
   },
   {
    "duration": 5,
    "start_time": "2021-07-08T10:53:34.641Z"
   },
   {
    "duration": 196,
    "start_time": "2021-07-08T10:53:41.478Z"
   },
   {
    "duration": 43,
    "start_time": "2021-07-08T10:53:50.335Z"
   },
   {
    "duration": 32,
    "start_time": "2021-07-08T10:53:55.294Z"
   },
   {
    "duration": 55,
    "start_time": "2021-07-08T10:54:09.675Z"
   },
   {
    "duration": 16,
    "start_time": "2021-07-08T10:54:12.260Z"
   },
   {
    "duration": 15,
    "start_time": "2021-07-08T10:54:49.150Z"
   },
   {
    "duration": 20,
    "start_time": "2021-07-08T10:56:07.596Z"
   },
   {
    "duration": 16,
    "start_time": "2021-07-08T10:58:26.276Z"
   },
   {
    "duration": 22,
    "start_time": "2021-07-08T10:59:00.486Z"
   },
   {
    "duration": 18,
    "start_time": "2021-07-08T11:02:09.653Z"
   },
   {
    "duration": 10,
    "start_time": "2021-07-08T11:03:44.331Z"
   },
   {
    "duration": 10,
    "start_time": "2021-07-08T11:03:54.055Z"
   },
   {
    "duration": 12,
    "start_time": "2021-07-08T11:04:41.967Z"
   },
   {
    "duration": 24,
    "start_time": "2021-07-08T11:07:30.732Z"
   },
   {
    "duration": 6,
    "start_time": "2021-07-08T11:07:37.364Z"
   },
   {
    "duration": 16,
    "start_time": "2021-07-08T11:08:01.819Z"
   },
   {
    "duration": 17,
    "start_time": "2021-07-08T11:09:47.488Z"
   },
   {
    "duration": 246,
    "start_time": "2021-07-08T11:10:00.830Z"
   },
   {
    "duration": 18,
    "start_time": "2021-07-08T11:13:55.195Z"
   },
   {
    "duration": 204,
    "start_time": "2021-07-08T11:14:04.951Z"
   },
   {
    "duration": 19,
    "start_time": "2021-07-08T11:15:10.613Z"
   },
   {
    "duration": 680,
    "start_time": "2021-07-08T11:16:25.793Z"
   },
   {
    "duration": 451,
    "start_time": "2021-07-08T11:16:40.313Z"
   },
   {
    "duration": 469,
    "start_time": "2021-07-08T11:17:21.286Z"
   },
   {
    "duration": 20,
    "start_time": "2021-07-08T11:19:12.554Z"
   },
   {
    "duration": 35,
    "start_time": "2021-07-08T11:20:05.484Z"
   },
   {
    "duration": 53,
    "start_time": "2021-07-08T11:21:40.050Z"
   },
   {
    "duration": 13,
    "start_time": "2021-07-08T11:22:26.059Z"
   },
   {
    "duration": 19,
    "start_time": "2021-07-08T11:22:47.419Z"
   },
   {
    "duration": 25,
    "start_time": "2021-07-08T11:23:19.958Z"
   },
   {
    "duration": 29,
    "start_time": "2021-07-08T11:23:25.415Z"
   },
   {
    "duration": 10,
    "start_time": "2021-07-08T11:24:45.138Z"
   },
   {
    "duration": 19,
    "start_time": "2021-07-08T11:24:54.498Z"
   },
   {
    "duration": 12,
    "start_time": "2021-07-08T11:25:32.225Z"
   },
   {
    "duration": 19,
    "start_time": "2021-07-08T11:25:37.092Z"
   },
   {
    "duration": 17,
    "start_time": "2021-07-08T11:25:58.116Z"
   },
   {
    "duration": 15,
    "start_time": "2021-07-08T11:26:02.258Z"
   },
   {
    "duration": 8,
    "start_time": "2021-07-08T11:26:59.682Z"
   },
   {
    "duration": 184,
    "start_time": "2021-07-08T11:27:21.894Z"
   },
   {
    "duration": 8,
    "start_time": "2021-07-08T11:27:23.824Z"
   },
   {
    "duration": 202,
    "start_time": "2021-07-08T11:27:23.962Z"
   },
   {
    "duration": 360,
    "start_time": "2021-07-08T11:28:33.215Z"
   },
   {
    "duration": 231,
    "start_time": "2021-07-08T11:32:05.542Z"
   },
   {
    "duration": 607,
    "start_time": "2021-07-08T11:36:27.854Z"
   },
   {
    "duration": 241,
    "start_time": "2021-07-08T11:36:28.463Z"
   },
   {
    "duration": 67,
    "start_time": "2021-07-08T11:36:28.709Z"
   },
   {
    "duration": 5,
    "start_time": "2021-07-08T11:36:28.778Z"
   },
   {
    "duration": 32,
    "start_time": "2021-07-08T11:36:28.784Z"
   },
   {
    "duration": 11,
    "start_time": "2021-07-08T11:36:28.819Z"
   },
   {
    "duration": 20,
    "start_time": "2021-07-08T11:36:28.834Z"
   },
   {
    "duration": 36,
    "start_time": "2021-07-08T11:36:28.857Z"
   },
   {
    "duration": 16,
    "start_time": "2021-07-08T11:36:28.895Z"
   },
   {
    "duration": 14,
    "start_time": "2021-07-08T11:36:28.913Z"
   },
   {
    "duration": 9,
    "start_time": "2021-07-08T11:36:28.930Z"
   },
   {
    "duration": 55,
    "start_time": "2021-07-08T11:36:28.941Z"
   },
   {
    "duration": 27,
    "start_time": "2021-07-08T11:36:28.999Z"
   },
   {
    "duration": 30,
    "start_time": "2021-07-08T11:36:29.028Z"
   },
   {
    "duration": 31,
    "start_time": "2021-07-08T11:36:29.060Z"
   },
   {
    "duration": 3,
    "start_time": "2021-07-08T11:36:29.093Z"
   },
   {
    "duration": 12,
    "start_time": "2021-07-08T11:36:29.099Z"
   },
   {
    "duration": 11,
    "start_time": "2021-07-08T11:36:29.112Z"
   },
   {
    "duration": 12,
    "start_time": "2021-07-08T11:36:29.125Z"
   },
   {
    "duration": 9,
    "start_time": "2021-07-08T11:36:29.139Z"
   },
   {
    "duration": 31,
    "start_time": "2021-07-08T11:36:29.191Z"
   },
   {
    "duration": 17,
    "start_time": "2021-07-08T11:36:29.226Z"
   },
   {
    "duration": 7,
    "start_time": "2021-07-08T11:36:29.245Z"
   },
   {
    "duration": 10,
    "start_time": "2021-07-08T11:36:29.254Z"
   },
   {
    "duration": 30,
    "start_time": "2021-07-08T11:36:29.292Z"
   },
   {
    "duration": 11,
    "start_time": "2021-07-08T11:36:29.324Z"
   },
   {
    "duration": 11,
    "start_time": "2021-07-08T11:36:29.337Z"
   },
   {
    "duration": 230,
    "start_time": "2021-07-08T11:36:29.349Z"
   },
   {
    "duration": 13,
    "start_time": "2021-07-08T11:36:29.588Z"
   },
   {
    "duration": 205,
    "start_time": "2021-07-08T11:36:29.603Z"
   },
   {
    "duration": 20,
    "start_time": "2021-07-08T11:36:29.810Z"
   },
   {
    "duration": 9,
    "start_time": "2021-07-08T11:36:29.832Z"
   },
   {
    "duration": 16,
    "start_time": "2021-07-08T11:36:29.843Z"
   },
   {
    "duration": 283,
    "start_time": "2021-07-08T11:36:29.861Z"
   },
   {
    "duration": 50,
    "start_time": "2021-07-08T11:36:30.146Z"
   },
   {
    "duration": 14,
    "start_time": "2021-07-08T11:36:30.198Z"
   },
   {
    "duration": 11,
    "start_time": "2021-07-08T11:36:30.214Z"
   },
   {
    "duration": 245,
    "start_time": "2021-07-08T11:36:30.227Z"
   },
   {
    "duration": 439,
    "start_time": "2021-07-08T11:36:30.474Z"
   },
   {
    "duration": 210,
    "start_time": "2021-07-08T11:36:30.915Z"
   },
   {
    "duration": 15,
    "start_time": "2021-07-08T11:36:31.127Z"
   },
   {
    "duration": 17,
    "start_time": "2021-07-08T11:38:20.451Z"
   },
   {
    "duration": 642,
    "start_time": "2021-07-08T11:46:17.881Z"
   },
   {
    "duration": 210,
    "start_time": "2021-07-08T11:46:18.525Z"
   },
   {
    "duration": 104,
    "start_time": "2021-07-08T11:46:18.741Z"
   },
   {
    "duration": 8,
    "start_time": "2021-07-08T11:46:18.847Z"
   },
   {
    "duration": 25,
    "start_time": "2021-07-08T11:46:18.857Z"
   },
   {
    "duration": 14,
    "start_time": "2021-07-08T11:46:18.884Z"
   },
   {
    "duration": 22,
    "start_time": "2021-07-08T11:46:18.900Z"
   },
   {
    "duration": 5,
    "start_time": "2021-07-08T11:46:18.924Z"
   },
   {
    "duration": 13,
    "start_time": "2021-07-08T11:46:18.931Z"
   },
   {
    "duration": 45,
    "start_time": "2021-07-08T11:46:18.946Z"
   },
   {
    "duration": 12,
    "start_time": "2021-07-08T11:46:18.993Z"
   },
   {
    "duration": 38,
    "start_time": "2021-07-08T11:46:19.006Z"
   },
   {
    "duration": 50,
    "start_time": "2021-07-08T11:46:19.046Z"
   },
   {
    "duration": 29,
    "start_time": "2021-07-08T11:46:19.099Z"
   },
   {
    "duration": 7,
    "start_time": "2021-07-08T11:46:19.130Z"
   },
   {
    "duration": 3,
    "start_time": "2021-07-08T11:46:19.139Z"
   },
   {
    "duration": 11,
    "start_time": "2021-07-08T11:46:19.144Z"
   },
   {
    "duration": 40,
    "start_time": "2021-07-08T11:46:19.157Z"
   },
   {
    "duration": 15,
    "start_time": "2021-07-08T11:46:19.199Z"
   },
   {
    "duration": 10,
    "start_time": "2021-07-08T11:46:19.217Z"
   },
   {
    "duration": 68,
    "start_time": "2021-07-08T11:46:19.230Z"
   },
   {
    "duration": 17,
    "start_time": "2021-07-08T11:46:19.301Z"
   },
   {
    "duration": 7,
    "start_time": "2021-07-08T11:46:19.321Z"
   },
   {
    "duration": 11,
    "start_time": "2021-07-08T11:46:19.330Z"
   },
   {
    "duration": 59,
    "start_time": "2021-07-08T11:46:19.343Z"
   },
   {
    "duration": 17,
    "start_time": "2021-07-08T11:46:19.405Z"
   },
   {
    "duration": 16,
    "start_time": "2021-07-08T11:46:19.424Z"
   },
   {
    "duration": 252,
    "start_time": "2021-07-08T11:46:19.443Z"
   },
   {
    "duration": 9,
    "start_time": "2021-07-08T11:46:19.697Z"
   },
   {
    "duration": 224,
    "start_time": "2021-07-08T11:46:19.708Z"
   },
   {
    "duration": 21,
    "start_time": "2021-07-08T11:46:19.934Z"
   },
   {
    "duration": 9,
    "start_time": "2021-07-08T11:46:19.956Z"
   },
   {
    "duration": 32,
    "start_time": "2021-07-08T11:46:19.967Z"
   },
   {
    "duration": 288,
    "start_time": "2021-07-08T11:46:20.004Z"
   },
   {
    "duration": 23,
    "start_time": "2021-07-08T11:46:20.300Z"
   },
   {
    "duration": 11,
    "start_time": "2021-07-08T11:46:20.325Z"
   },
   {
    "duration": 11,
    "start_time": "2021-07-08T11:46:20.339Z"
   },
   {
    "duration": 259,
    "start_time": "2021-07-08T11:46:20.352Z"
   },
   {
    "duration": 438,
    "start_time": "2021-07-08T11:46:20.613Z"
   },
   {
    "duration": 207,
    "start_time": "2021-07-08T11:46:21.054Z"
   },
   {
    "duration": 27,
    "start_time": "2021-07-08T11:46:21.262Z"
   },
   {
    "duration": 19,
    "start_time": "2021-07-08T11:46:21.291Z"
   },
   {
    "duration": 820,
    "start_time": "2021-07-08T11:49:01.655Z"
   },
   {
    "duration": 372,
    "start_time": "2021-07-08T11:49:02.478Z"
   },
   {
    "duration": 98,
    "start_time": "2021-07-08T11:49:02.853Z"
   },
   {
    "duration": 6,
    "start_time": "2021-07-08T11:49:02.953Z"
   },
   {
    "duration": 39,
    "start_time": "2021-07-08T11:49:02.960Z"
   },
   {
    "duration": 9,
    "start_time": "2021-07-08T11:49:03.003Z"
   },
   {
    "duration": 23,
    "start_time": "2021-07-08T11:49:03.014Z"
   },
   {
    "duration": 6,
    "start_time": "2021-07-08T11:49:03.041Z"
   },
   {
    "duration": 20,
    "start_time": "2021-07-08T11:49:03.049Z"
   },
   {
    "duration": 18,
    "start_time": "2021-07-08T11:49:03.084Z"
   },
   {
    "duration": 14,
    "start_time": "2021-07-08T11:49:03.104Z"
   },
   {
    "duration": 39,
    "start_time": "2021-07-08T11:49:03.119Z"
   },
   {
    "duration": 38,
    "start_time": "2021-07-08T11:49:03.160Z"
   },
   {
    "duration": 26,
    "start_time": "2021-07-08T11:49:03.200Z"
   },
   {
    "duration": 7,
    "start_time": "2021-07-08T11:49:03.227Z"
   },
   {
    "duration": 4,
    "start_time": "2021-07-08T11:49:03.236Z"
   },
   {
    "duration": 15,
    "start_time": "2021-07-08T11:49:03.243Z"
   },
   {
    "duration": 21,
    "start_time": "2021-07-08T11:49:03.285Z"
   },
   {
    "duration": 17,
    "start_time": "2021-07-08T11:49:03.309Z"
   },
   {
    "duration": 10,
    "start_time": "2021-07-08T11:49:03.328Z"
   },
   {
    "duration": 65,
    "start_time": "2021-07-08T11:49:03.340Z"
   },
   {
    "duration": 18,
    "start_time": "2021-07-08T11:49:03.407Z"
   },
   {
    "duration": 8,
    "start_time": "2021-07-08T11:49:03.428Z"
   },
   {
    "duration": 15,
    "start_time": "2021-07-08T11:49:03.438Z"
   },
   {
    "duration": 40,
    "start_time": "2021-07-08T11:49:03.455Z"
   },
   {
    "duration": 12,
    "start_time": "2021-07-08T11:49:03.497Z"
   },
   {
    "duration": 29,
    "start_time": "2021-07-08T11:49:03.511Z"
   },
   {
    "duration": 285,
    "start_time": "2021-07-08T11:49:03.542Z"
   },
   {
    "duration": 8,
    "start_time": "2021-07-08T11:49:03.829Z"
   },
   {
    "duration": 227,
    "start_time": "2021-07-08T11:49:03.838Z"
   },
   {
    "duration": 40,
    "start_time": "2021-07-08T11:49:04.066Z"
   },
   {
    "duration": 10,
    "start_time": "2021-07-08T11:49:04.108Z"
   },
   {
    "duration": 26,
    "start_time": "2021-07-08T11:49:04.121Z"
   },
   {
    "duration": 290,
    "start_time": "2021-07-08T11:49:04.149Z"
   },
   {
    "duration": 26,
    "start_time": "2021-07-08T11:49:04.441Z"
   },
   {
    "duration": 31,
    "start_time": "2021-07-08T11:49:04.470Z"
   },
   {
    "duration": 14,
    "start_time": "2021-07-08T11:49:04.503Z"
   },
   {
    "duration": 259,
    "start_time": "2021-07-08T11:49:04.521Z"
   },
   {
    "duration": 480,
    "start_time": "2021-07-08T11:49:04.782Z"
   },
   {
    "duration": 225,
    "start_time": "2021-07-08T11:49:05.264Z"
   },
   {
    "duration": 22,
    "start_time": "2021-07-08T11:49:05.491Z"
   },
   {
    "duration": 24,
    "start_time": "2021-07-08T11:49:05.515Z"
   },
   {
    "duration": 634,
    "start_time": "2021-07-08T11:52:24.960Z"
   },
   {
    "duration": 199,
    "start_time": "2021-07-08T11:52:25.599Z"
   },
   {
    "duration": 106,
    "start_time": "2021-07-08T11:52:25.803Z"
   },
   {
    "duration": 7,
    "start_time": "2021-07-08T11:52:25.911Z"
   },
   {
    "duration": 29,
    "start_time": "2021-07-08T11:52:25.920Z"
   },
   {
    "duration": 7,
    "start_time": "2021-07-08T11:52:25.951Z"
   },
   {
    "duration": 26,
    "start_time": "2021-07-08T11:52:25.961Z"
   },
   {
    "duration": 11,
    "start_time": "2021-07-08T11:52:25.990Z"
   },
   {
    "duration": 29,
    "start_time": "2021-07-08T11:52:26.005Z"
   },
   {
    "duration": 9,
    "start_time": "2021-07-08T11:52:26.036Z"
   },
   {
    "duration": 8,
    "start_time": "2021-07-08T11:52:26.047Z"
   },
   {
    "duration": 63,
    "start_time": "2021-07-08T11:52:26.057Z"
   },
   {
    "duration": 17,
    "start_time": "2021-07-08T11:52:26.122Z"
   },
   {
    "duration": 43,
    "start_time": "2021-07-08T11:52:26.142Z"
   },
   {
    "duration": 17,
    "start_time": "2021-07-08T11:52:26.187Z"
   },
   {
    "duration": 5,
    "start_time": "2021-07-08T11:52:26.206Z"
   },
   {
    "duration": 12,
    "start_time": "2021-07-08T11:52:26.212Z"
   },
   {
    "duration": 11,
    "start_time": "2021-07-08T11:52:26.226Z"
   },
   {
    "duration": 12,
    "start_time": "2021-07-08T11:52:26.238Z"
   },
   {
    "duration": 38,
    "start_time": "2021-07-08T11:52:26.252Z"
   },
   {
    "duration": 40,
    "start_time": "2021-07-08T11:52:26.292Z"
   },
   {
    "duration": 17,
    "start_time": "2021-07-08T11:52:26.336Z"
   },
   {
    "duration": 39,
    "start_time": "2021-07-08T11:52:26.355Z"
   },
   {
    "duration": 11,
    "start_time": "2021-07-08T11:52:26.395Z"
   },
   {
    "duration": 23,
    "start_time": "2021-07-08T11:52:26.408Z"
   },
   {
    "duration": 12,
    "start_time": "2021-07-08T11:52:26.432Z"
   },
   {
    "duration": 41,
    "start_time": "2021-07-08T11:52:26.446Z"
   },
   {
    "duration": 215,
    "start_time": "2021-07-08T11:52:26.493Z"
   },
   {
    "duration": 8,
    "start_time": "2021-07-08T11:52:26.710Z"
   },
   {
    "duration": 228,
    "start_time": "2021-07-08T11:52:26.720Z"
   },
   {
    "duration": 18,
    "start_time": "2021-07-08T11:52:26.950Z"
   },
   {
    "duration": 35,
    "start_time": "2021-07-08T11:52:26.969Z"
   },
   {
    "duration": 23,
    "start_time": "2021-07-08T11:52:27.006Z"
   },
   {
    "duration": 258,
    "start_time": "2021-07-08T11:52:27.030Z"
   },
   {
    "duration": 24,
    "start_time": "2021-07-08T11:52:27.290Z"
   },
   {
    "duration": 12,
    "start_time": "2021-07-08T11:52:27.316Z"
   },
   {
    "duration": 10,
    "start_time": "2021-07-08T11:52:27.329Z"
   },
   {
    "duration": 298,
    "start_time": "2021-07-08T11:52:27.341Z"
   },
   {
    "duration": 436,
    "start_time": "2021-07-08T11:52:27.641Z"
   },
   {
    "duration": 216,
    "start_time": "2021-07-08T11:52:28.079Z"
   },
   {
    "duration": 20,
    "start_time": "2021-07-08T11:52:28.297Z"
   },
   {
    "duration": 17,
    "start_time": "2021-07-08T11:52:28.319Z"
   },
   {
    "duration": 945,
    "start_time": "2022-05-30T17:50:07.422Z"
   },
   {
    "duration": 3,
    "start_time": "2022-05-30T17:50:08.369Z"
   },
   {
    "duration": 311,
    "start_time": "2022-05-30T17:50:09.015Z"
   },
   {
    "duration": 195,
    "start_time": "2022-05-30T17:50:54.110Z"
   },
   {
    "duration": 29,
    "start_time": "2022-05-30T17:51:08.845Z"
   },
   {
    "duration": 9,
    "start_time": "2022-05-30T17:51:44.715Z"
   },
   {
    "duration": 21,
    "start_time": "2022-05-30T17:52:06.161Z"
   },
   {
    "duration": 9,
    "start_time": "2022-05-30T17:52:25.364Z"
   },
   {
    "duration": 4,
    "start_time": "2022-05-30T17:54:22.119Z"
   },
   {
    "duration": 102,
    "start_time": "2022-05-30T17:55:01.004Z"
   },
   {
    "duration": 21,
    "start_time": "2022-05-30T17:55:55.714Z"
   },
   {
    "duration": 15,
    "start_time": "2022-05-30T17:56:04.852Z"
   },
   {
    "duration": 190,
    "start_time": "2022-05-30T17:59:46.199Z"
   },
   {
    "duration": 124,
    "start_time": "2022-05-30T17:59:58.561Z"
   },
   {
    "duration": 6,
    "start_time": "2022-05-30T18:00:39.771Z"
   },
   {
    "duration": 12,
    "start_time": "2022-05-30T18:00:52.347Z"
   },
   {
    "duration": 5,
    "start_time": "2022-05-30T18:01:18.746Z"
   },
   {
    "duration": 12,
    "start_time": "2022-05-30T18:01:19.855Z"
   },
   {
    "duration": 31,
    "start_time": "2022-05-30T18:01:40.819Z"
   },
   {
    "duration": 3,
    "start_time": "2022-05-30T18:02:14.760Z"
   },
   {
    "duration": 15,
    "start_time": "2022-05-30T18:02:53.585Z"
   },
   {
    "duration": 16,
    "start_time": "2022-05-30T18:06:47.071Z"
   },
   {
    "duration": 316,
    "start_time": "2022-05-30T18:13:06.006Z"
   },
   {
    "duration": 8,
    "start_time": "2022-05-30T18:13:43.807Z"
   },
   {
    "duration": 14,
    "start_time": "2022-05-30T18:14:01.882Z"
   },
   {
    "duration": 29,
    "start_time": "2022-05-30T18:15:11.253Z"
   },
   {
    "duration": 16,
    "start_time": "2022-05-30T18:16:52.016Z"
   },
   {
    "duration": 15,
    "start_time": "2022-05-30T18:16:58.863Z"
   },
   {
    "duration": 15,
    "start_time": "2022-05-30T18:17:25.304Z"
   },
   {
    "duration": 14,
    "start_time": "2022-05-30T18:17:31.582Z"
   },
   {
    "duration": 13,
    "start_time": "2022-05-30T18:20:19.104Z"
   },
   {
    "duration": 18,
    "start_time": "2022-05-30T18:21:12.692Z"
   },
   {
    "duration": 17,
    "start_time": "2022-05-30T18:28:10.378Z"
   },
   {
    "duration": 19,
    "start_time": "2022-05-30T18:29:00.179Z"
   },
   {
    "duration": 67,
    "start_time": "2022-05-30T18:29:44.370Z"
   },
   {
    "duration": 22,
    "start_time": "2022-05-30T18:30:03.394Z"
   },
   {
    "duration": 14,
    "start_time": "2022-05-30T18:31:32.892Z"
   },
   {
    "duration": 14,
    "start_time": "2022-05-30T18:34:49.856Z"
   },
   {
    "duration": 11,
    "start_time": "2022-05-30T18:35:21.269Z"
   },
   {
    "duration": 7,
    "start_time": "2022-05-30T18:35:38.572Z"
   },
   {
    "duration": 6,
    "start_time": "2022-05-30T18:39:33.897Z"
   },
   {
    "duration": 5,
    "start_time": "2022-05-30T18:39:54.896Z"
   },
   {
    "duration": 14,
    "start_time": "2022-05-30T18:40:00.453Z"
   },
   {
    "duration": 5,
    "start_time": "2022-05-30T18:41:09.879Z"
   },
   {
    "duration": 7,
    "start_time": "2022-05-30T18:41:13.974Z"
   },
   {
    "duration": 152,
    "start_time": "2022-05-30T18:41:24.670Z"
   },
   {
    "duration": 19,
    "start_time": "2022-05-30T18:41:27.284Z"
   },
   {
    "duration": 15,
    "start_time": "2022-05-30T18:41:28.263Z"
   },
   {
    "duration": 4,
    "start_time": "2022-05-30T18:41:30.519Z"
   },
   {
    "duration": 13,
    "start_time": "2022-05-30T18:41:31.312Z"
   },
   {
    "duration": 3,
    "start_time": "2022-05-30T18:41:32.621Z"
   },
   {
    "duration": 26,
    "start_time": "2022-05-30T18:41:35.557Z"
   },
   {
    "duration": 8,
    "start_time": "2022-05-30T18:41:36.516Z"
   },
   {
    "duration": 9,
    "start_time": "2022-05-30T18:41:37.473Z"
   },
   {
    "duration": 14,
    "start_time": "2022-05-30T18:41:44.402Z"
   },
   {
    "duration": 8,
    "start_time": "2022-05-30T18:41:45.187Z"
   },
   {
    "duration": 5,
    "start_time": "2022-05-30T18:41:53.207Z"
   },
   {
    "duration": 9,
    "start_time": "2022-05-30T18:41:56.592Z"
   },
   {
    "duration": 14,
    "start_time": "2022-05-30T18:42:03.643Z"
   },
   {
    "duration": 20,
    "start_time": "2022-05-30T18:42:25.916Z"
   },
   {
    "duration": 15,
    "start_time": "2022-05-30T18:42:58.069Z"
   },
   {
    "duration": 7,
    "start_time": "2022-05-30T18:43:24.393Z"
   },
   {
    "duration": 9,
    "start_time": "2022-05-30T18:43:44.017Z"
   },
   {
    "duration": 13,
    "start_time": "2022-05-30T18:44:17.181Z"
   },
   {
    "duration": 11,
    "start_time": "2022-05-30T18:44:41.295Z"
   },
   {
    "duration": 19,
    "start_time": "2022-05-30T18:45:03.843Z"
   },
   {
    "duration": 11,
    "start_time": "2022-05-30T18:45:24.125Z"
   },
   {
    "duration": 10,
    "start_time": "2022-05-30T18:45:39.954Z"
   },
   {
    "duration": 11,
    "start_time": "2022-05-30T18:46:23.594Z"
   },
   {
    "duration": 9,
    "start_time": "2022-05-30T18:46:51.287Z"
   },
   {
    "duration": 9,
    "start_time": "2022-05-30T18:47:03.166Z"
   },
   {
    "duration": 8,
    "start_time": "2022-05-30T18:47:20.568Z"
   },
   {
    "duration": 6,
    "start_time": "2022-05-30T18:47:37.175Z"
   },
   {
    "duration": 12,
    "start_time": "2022-05-30T18:47:58.420Z"
   },
   {
    "duration": 148,
    "start_time": "2022-05-30T18:49:02.817Z"
   },
   {
    "duration": 24,
    "start_time": "2022-05-30T18:49:03.577Z"
   },
   {
    "duration": 11,
    "start_time": "2022-05-30T18:49:04.210Z"
   },
   {
    "duration": 5,
    "start_time": "2022-05-30T18:49:06.072Z"
   },
   {
    "duration": 11,
    "start_time": "2022-05-30T18:49:07.003Z"
   },
   {
    "duration": 4,
    "start_time": "2022-05-30T18:49:11.915Z"
   },
   {
    "duration": 11,
    "start_time": "2022-05-30T18:49:23.772Z"
   },
   {
    "duration": 4,
    "start_time": "2022-05-30T18:50:07.392Z"
   },
   {
    "duration": 19,
    "start_time": "2022-05-30T18:50:10.459Z"
   },
   {
    "duration": 4,
    "start_time": "2022-05-30T18:50:47.278Z"
   },
   {
    "duration": 13,
    "start_time": "2022-05-30T18:50:50.771Z"
   },
   {
    "duration": 15,
    "start_time": "2022-05-30T18:50:55.998Z"
   },
   {
    "duration": 17,
    "start_time": "2022-05-30T18:51:06.898Z"
   },
   {
    "duration": 4,
    "start_time": "2022-05-30T18:51:07.861Z"
   },
   {
    "duration": 44,
    "start_time": "2022-05-30T18:51:16.219Z"
   },
   {
    "duration": 14,
    "start_time": "2022-05-30T18:52:48.208Z"
   },
   {
    "duration": 4,
    "start_time": "2022-05-30T18:52:49.286Z"
   },
   {
    "duration": 14,
    "start_time": "2022-05-30T18:53:11.793Z"
   },
   {
    "duration": 4,
    "start_time": "2022-05-30T18:53:12.676Z"
   },
   {
    "duration": 32,
    "start_time": "2022-05-30T18:53:23.622Z"
   },
   {
    "duration": 5,
    "start_time": "2022-05-30T18:53:24.954Z"
   },
   {
    "duration": 197,
    "start_time": "2022-05-30T18:53:50.067Z"
   },
   {
    "duration": 6,
    "start_time": "2022-05-30T18:54:20.161Z"
   },
   {
    "duration": 9,
    "start_time": "2022-05-30T18:54:55.658Z"
   },
   {
    "duration": 12,
    "start_time": "2022-05-30T18:55:12.307Z"
   },
   {
    "duration": 118,
    "start_time": "2022-05-30T18:56:48.183Z"
   },
   {
    "duration": 116,
    "start_time": "2022-05-30T18:57:10.576Z"
   },
   {
    "duration": 177,
    "start_time": "2022-05-30T18:57:46.708Z"
   },
   {
    "duration": 51,
    "start_time": "2022-05-30T19:01:31.753Z"
   },
   {
    "duration": 9,
    "start_time": "2022-05-30T19:02:10.802Z"
   },
   {
    "duration": 28,
    "start_time": "2022-05-30T19:02:29.155Z"
   },
   {
    "duration": 27,
    "start_time": "2022-05-30T19:02:59.448Z"
   },
   {
    "duration": 26,
    "start_time": "2022-05-30T19:03:15.956Z"
   },
   {
    "duration": 4,
    "start_time": "2022-05-30T19:08:34.589Z"
   },
   {
    "duration": 19,
    "start_time": "2022-05-30T19:08:35.706Z"
   },
   {
    "duration": 5,
    "start_time": "2022-05-30T19:08:36.863Z"
   },
   {
    "duration": 18,
    "start_time": "2022-05-30T19:08:42.646Z"
   },
   {
    "duration": 12,
    "start_time": "2022-05-30T19:08:45.567Z"
   },
   {
    "duration": 15,
    "start_time": "2022-05-30T19:08:54.661Z"
   },
   {
    "duration": 11,
    "start_time": "2022-05-30T19:08:55.490Z"
   },
   {
    "duration": 11,
    "start_time": "2022-05-30T19:09:10.869Z"
   },
   {
    "duration": 13,
    "start_time": "2022-05-30T19:09:53.607Z"
   },
   {
    "duration": 13,
    "start_time": "2022-05-30T19:10:13.960Z"
   },
   {
    "duration": 16,
    "start_time": "2022-05-30T19:10:50.206Z"
   },
   {
    "duration": 21,
    "start_time": "2022-05-30T19:12:21.776Z"
   },
   {
    "duration": 1289,
    "start_time": "2022-05-31T17:47:37.289Z"
   },
   {
    "duration": 7,
    "start_time": "2022-05-31T17:47:38.584Z"
   },
   {
    "duration": 349,
    "start_time": "2022-05-31T17:47:38.594Z"
   },
   {
    "duration": 25,
    "start_time": "2022-05-31T17:47:38.949Z"
   },
   {
    "duration": 46,
    "start_time": "2022-05-31T17:47:38.979Z"
   },
   {
    "duration": 14,
    "start_time": "2022-05-31T17:47:39.027Z"
   },
   {
    "duration": 45,
    "start_time": "2022-05-31T17:47:39.044Z"
   },
   {
    "duration": 30,
    "start_time": "2022-05-31T17:47:39.091Z"
   },
   {
    "duration": 53,
    "start_time": "2022-05-31T17:47:39.123Z"
   },
   {
    "duration": 41,
    "start_time": "2022-05-31T17:47:39.178Z"
   },
   {
    "duration": 10,
    "start_time": "2022-05-31T17:47:39.223Z"
   },
   {
    "duration": 51,
    "start_time": "2022-05-31T17:47:39.235Z"
   },
   {
    "duration": 27,
    "start_time": "2022-05-31T17:47:39.289Z"
   },
   {
    "duration": 24,
    "start_time": "2022-05-31T17:47:39.320Z"
   },
   {
    "duration": 23,
    "start_time": "2022-05-31T17:56:03.371Z"
   },
   {
    "duration": 317,
    "start_time": "2022-05-31T17:56:52.445Z"
   },
   {
    "duration": 14,
    "start_time": "2022-05-31T18:01:58.307Z"
   },
   {
    "duration": 3,
    "start_time": "2022-05-31T18:02:55.975Z"
   },
   {
    "duration": 137,
    "start_time": "2022-05-31T18:02:57.241Z"
   },
   {
    "duration": 20,
    "start_time": "2022-05-31T18:02:58.212Z"
   },
   {
    "duration": 14,
    "start_time": "2022-05-31T18:02:59.287Z"
   },
   {
    "duration": 7,
    "start_time": "2022-05-31T18:03:01.754Z"
   },
   {
    "duration": 17,
    "start_time": "2022-05-31T18:03:02.735Z"
   },
   {
    "duration": 4,
    "start_time": "2022-05-31T18:03:03.765Z"
   },
   {
    "duration": 15,
    "start_time": "2022-05-31T18:03:06.596Z"
   },
   {
    "duration": 31,
    "start_time": "2022-05-31T18:03:07.729Z"
   },
   {
    "duration": 88,
    "start_time": "2022-05-31T18:03:08.804Z"
   },
   {
    "duration": 21,
    "start_time": "2022-05-31T18:03:23.177Z"
   },
   {
    "duration": 565,
    "start_time": "2022-05-31T18:06:01.094Z"
   },
   {
    "duration": 16,
    "start_time": "2022-05-31T18:06:19.895Z"
   },
   {
    "duration": 17,
    "start_time": "2022-05-31T18:06:36.494Z"
   },
   {
    "duration": 3,
    "start_time": "2022-05-31T18:06:42.309Z"
   },
   {
    "duration": 8,
    "start_time": "2022-05-31T18:06:42.828Z"
   },
   {
    "duration": 120,
    "start_time": "2022-05-31T18:06:42.949Z"
   },
   {
    "duration": 25,
    "start_time": "2022-05-31T18:06:43.222Z"
   },
   {
    "duration": 12,
    "start_time": "2022-05-31T18:06:43.378Z"
   },
   {
    "duration": 8,
    "start_time": "2022-05-31T18:06:43.717Z"
   },
   {
    "duration": 18,
    "start_time": "2022-05-31T18:06:44.020Z"
   },
   {
    "duration": 4,
    "start_time": "2022-05-31T18:06:44.138Z"
   },
   {
    "duration": 20,
    "start_time": "2022-05-31T18:06:44.758Z"
   },
   {
    "duration": 67,
    "start_time": "2022-05-31T18:06:44.887Z"
   },
   {
    "duration": 17,
    "start_time": "2022-05-31T18:06:45.207Z"
   },
   {
    "duration": 18,
    "start_time": "2022-05-31T18:06:46.010Z"
   },
   {
    "duration": 18,
    "start_time": "2022-05-31T18:07:02.557Z"
   },
   {
    "duration": 23,
    "start_time": "2022-05-31T18:08:07.643Z"
   },
   {
    "duration": 10,
    "start_time": "2022-05-31T18:08:14.729Z"
   },
   {
    "duration": 31,
    "start_time": "2022-05-31T18:08:55.030Z"
   },
   {
    "duration": 6,
    "start_time": "2022-05-31T18:13:37.466Z"
   },
   {
    "duration": 7,
    "start_time": "2022-05-31T18:13:54.760Z"
   },
   {
    "duration": 12,
    "start_time": "2022-05-31T18:14:08.485Z"
   },
   {
    "duration": 12,
    "start_time": "2022-05-31T18:14:22.750Z"
   },
   {
    "duration": 5,
    "start_time": "2022-05-31T18:15:24.086Z"
   },
   {
    "duration": 19,
    "start_time": "2022-05-31T18:15:57.317Z"
   },
   {
    "duration": 23,
    "start_time": "2022-05-31T18:17:50.689Z"
   },
   {
    "duration": 25,
    "start_time": "2022-05-31T18:18:11.412Z"
   },
   {
    "duration": 10,
    "start_time": "2022-05-31T18:19:49.762Z"
   },
   {
    "duration": 362,
    "start_time": "2022-05-31T18:19:57.687Z"
   },
   {
    "duration": 594,
    "start_time": "2022-05-31T18:20:10.531Z"
   },
   {
    "duration": 449,
    "start_time": "2022-05-31T18:20:17.808Z"
   },
   {
    "duration": 9,
    "start_time": "2022-05-31T18:20:35.251Z"
   },
   {
    "duration": 18,
    "start_time": "2022-05-31T18:23:25.042Z"
   },
   {
    "duration": 15,
    "start_time": "2022-05-31T18:24:28.651Z"
   },
   {
    "duration": 8,
    "start_time": "2022-05-31T18:27:46.501Z"
   },
   {
    "duration": 16,
    "start_time": "2022-05-31T18:28:00.524Z"
   },
   {
    "duration": 7,
    "start_time": "2022-05-31T18:28:42.623Z"
   },
   {
    "duration": 15,
    "start_time": "2022-05-31T18:28:54.873Z"
   },
   {
    "duration": 10,
    "start_time": "2022-05-31T18:29:15.899Z"
   },
   {
    "duration": 5,
    "start_time": "2022-05-31T18:31:24.662Z"
   },
   {
    "duration": 12,
    "start_time": "2022-05-31T18:31:44.647Z"
   },
   {
    "duration": 22,
    "start_time": "2022-05-31T18:32:00.635Z"
   },
   {
    "duration": 10,
    "start_time": "2022-05-31T18:32:26.857Z"
   },
   {
    "duration": 23,
    "start_time": "2022-05-31T18:32:48.835Z"
   },
   {
    "duration": 18,
    "start_time": "2022-05-31T18:36:42.399Z"
   },
   {
    "duration": 2,
    "start_time": "2022-05-31T18:38:05.704Z"
   },
   {
    "duration": 16,
    "start_time": "2022-05-31T18:38:54.276Z"
   },
   {
    "duration": 23,
    "start_time": "2022-05-31T18:39:05.230Z"
   },
   {
    "duration": 16,
    "start_time": "2022-05-31T18:39:38.368Z"
   },
   {
    "duration": 5,
    "start_time": "2022-05-31T18:39:51.241Z"
   },
   {
    "duration": 6,
    "start_time": "2022-05-31T18:40:44.334Z"
   },
   {
    "duration": 29,
    "start_time": "2022-05-31T18:40:59.948Z"
   },
   {
    "duration": 2,
    "start_time": "2022-05-31T18:44:40.411Z"
   },
   {
    "duration": 21,
    "start_time": "2022-05-31T18:46:48.380Z"
   },
   {
    "duration": 31,
    "start_time": "2022-05-31T18:47:04.801Z"
   },
   {
    "duration": 17,
    "start_time": "2022-05-31T18:47:15.068Z"
   },
   {
    "duration": 17,
    "start_time": "2022-05-31T18:47:26.495Z"
   },
   {
    "duration": 6,
    "start_time": "2022-05-31T18:53:57.475Z"
   },
   {
    "duration": 11,
    "start_time": "2022-05-31T18:54:03.986Z"
   },
   {
    "duration": 9,
    "start_time": "2022-05-31T18:54:18.270Z"
   },
   {
    "duration": 8,
    "start_time": "2022-05-31T18:54:41.975Z"
   },
   {
    "duration": 10,
    "start_time": "2022-05-31T18:56:58.477Z"
   },
   {
    "duration": 11,
    "start_time": "2022-05-31T18:58:16.338Z"
   },
   {
    "duration": 11,
    "start_time": "2022-05-31T18:58:26.122Z"
   },
   {
    "duration": 9,
    "start_time": "2022-05-31T18:58:40.903Z"
   },
   {
    "duration": 9,
    "start_time": "2022-05-31T18:58:57.011Z"
   },
   {
    "duration": 15,
    "start_time": "2022-05-31T18:59:04.517Z"
   },
   {
    "duration": 24,
    "start_time": "2022-05-31T19:00:20.591Z"
   },
   {
    "duration": 12,
    "start_time": "2022-05-31T19:06:50.541Z"
   },
   {
    "duration": 9,
    "start_time": "2022-05-31T19:07:21.351Z"
   },
   {
    "duration": 7,
    "start_time": "2022-05-31T19:07:55.504Z"
   },
   {
    "duration": 6,
    "start_time": "2022-05-31T19:08:54.909Z"
   },
   {
    "duration": 14,
    "start_time": "2022-05-31T19:33:25.987Z"
   },
   {
    "duration": 8,
    "start_time": "2022-05-31T19:34:35.902Z"
   },
   {
    "duration": 12,
    "start_time": "2022-05-31T19:34:55.724Z"
   },
   {
    "duration": 6,
    "start_time": "2022-05-31T19:36:26.433Z"
   },
   {
    "duration": 5,
    "start_time": "2022-05-31T19:36:40.862Z"
   },
   {
    "duration": 5,
    "start_time": "2022-05-31T19:38:07.383Z"
   },
   {
    "duration": 7,
    "start_time": "2022-05-31T19:38:22.436Z"
   },
   {
    "duration": 9,
    "start_time": "2022-05-31T19:39:08.044Z"
   },
   {
    "duration": 8,
    "start_time": "2022-05-31T19:39:57.282Z"
   },
   {
    "duration": 9,
    "start_time": "2022-05-31T19:40:24.782Z"
   },
   {
    "duration": 10,
    "start_time": "2022-05-31T19:40:54.482Z"
   },
   {
    "duration": 3,
    "start_time": "2022-05-31T19:41:02.998Z"
   },
   {
    "duration": 5,
    "start_time": "2022-05-31T19:41:33.471Z"
   },
   {
    "duration": 7,
    "start_time": "2022-05-31T19:42:20.993Z"
   },
   {
    "duration": 7,
    "start_time": "2022-05-31T19:42:45.599Z"
   },
   {
    "duration": 6,
    "start_time": "2022-05-31T19:43:31.162Z"
   },
   {
    "duration": 26,
    "start_time": "2022-05-31T19:47:15.791Z"
   },
   {
    "duration": 42,
    "start_time": "2022-05-31T19:47:30.031Z"
   },
   {
    "duration": 23,
    "start_time": "2022-05-31T19:47:46.018Z"
   },
   {
    "duration": 12,
    "start_time": "2022-05-31T19:48:23.959Z"
   },
   {
    "duration": 28,
    "start_time": "2022-05-31T19:51:50.193Z"
   },
   {
    "duration": 14,
    "start_time": "2022-05-31T19:52:25.892Z"
   },
   {
    "duration": 11,
    "start_time": "2022-05-31T19:52:47.221Z"
   },
   {
    "duration": 11,
    "start_time": "2022-05-31T19:53:46.284Z"
   },
   {
    "duration": 18,
    "start_time": "2022-05-31T19:54:01.304Z"
   },
   {
    "duration": 11,
    "start_time": "2022-05-31T19:56:19.278Z"
   },
   {
    "duration": 10,
    "start_time": "2022-05-31T19:58:03.907Z"
   },
   {
    "duration": 8,
    "start_time": "2022-05-31T19:58:10.443Z"
   },
   {
    "duration": 12,
    "start_time": "2022-05-31T20:01:01.351Z"
   },
   {
    "duration": 19,
    "start_time": "2022-05-31T20:01:19.367Z"
   },
   {
    "duration": 18,
    "start_time": "2022-05-31T20:03:35.952Z"
   },
   {
    "duration": 3,
    "start_time": "2022-05-31T20:03:48.455Z"
   },
   {
    "duration": 3,
    "start_time": "2022-05-31T20:03:49.118Z"
   },
   {
    "duration": 146,
    "start_time": "2022-05-31T20:03:49.807Z"
   },
   {
    "duration": 16,
    "start_time": "2022-05-31T20:03:50.441Z"
   },
   {
    "duration": 13,
    "start_time": "2022-05-31T20:03:51.097Z"
   },
   {
    "duration": 5,
    "start_time": "2022-05-31T20:03:52.713Z"
   },
   {
    "duration": 12,
    "start_time": "2022-05-31T20:03:53.517Z"
   },
   {
    "duration": 4,
    "start_time": "2022-05-31T20:03:54.325Z"
   },
   {
    "duration": 16,
    "start_time": "2022-05-31T20:03:57.518Z"
   },
   {
    "duration": 85,
    "start_time": "2022-05-31T20:03:58.785Z"
   },
   {
    "duration": 8,
    "start_time": "2022-05-31T20:03:59.916Z"
   },
   {
    "duration": 240,
    "start_time": "2022-05-31T20:04:01.119Z"
   },
   {
    "duration": 36,
    "start_time": "2022-05-31T20:05:20.264Z"
   },
   {
    "duration": 7,
    "start_time": "2022-05-31T20:05:41.835Z"
   },
   {
    "duration": 116,
    "start_time": "2022-05-31T20:05:48.085Z"
   },
   {
    "duration": 16,
    "start_time": "2022-05-31T20:06:10.566Z"
   },
   {
    "duration": 10,
    "start_time": "2022-05-31T20:06:29.350Z"
   },
   {
    "duration": 15,
    "start_time": "2022-05-31T20:06:44.179Z"
   },
   {
    "duration": 7,
    "start_time": "2022-05-31T20:07:08.284Z"
   },
   {
    "duration": 7,
    "start_time": "2022-05-31T20:07:39.081Z"
   },
   {
    "duration": 19,
    "start_time": "2022-05-31T20:07:58.389Z"
   },
   {
    "duration": 8,
    "start_time": "2022-05-31T20:08:23.744Z"
   },
   {
    "duration": 10,
    "start_time": "2022-05-31T20:08:45.200Z"
   },
   {
    "duration": 8,
    "start_time": "2022-05-31T20:09:11.696Z"
   },
   {
    "duration": 53,
    "start_time": "2022-05-31T20:12:21.738Z"
   },
   {
    "duration": 5,
    "start_time": "2022-05-31T20:12:28.713Z"
   },
   {
    "duration": 9,
    "start_time": "2022-05-31T20:12:54.717Z"
   },
   {
    "duration": 9,
    "start_time": "2022-05-31T20:13:10.354Z"
   },
   {
    "duration": 129,
    "start_time": "2022-05-31T20:13:49.973Z"
   },
   {
    "duration": 21,
    "start_time": "2022-05-31T20:13:51.245Z"
   },
   {
    "duration": 14,
    "start_time": "2022-05-31T20:13:52.215Z"
   },
   {
    "duration": 5,
    "start_time": "2022-05-31T20:13:54.320Z"
   },
   {
    "duration": 12,
    "start_time": "2022-05-31T20:13:55.170Z"
   },
   {
    "duration": 10,
    "start_time": "2022-05-31T20:14:31.157Z"
   },
   {
    "duration": 8,
    "start_time": "2022-05-31T20:14:47.110Z"
   },
   {
    "duration": 7,
    "start_time": "2022-05-31T20:15:14.254Z"
   },
   {
    "duration": 23,
    "start_time": "2022-05-31T20:15:20.968Z"
   },
   {
    "duration": 7,
    "start_time": "2022-05-31T20:16:20.746Z"
   },
   {
    "duration": 6,
    "start_time": "2022-05-31T20:17:07.450Z"
   },
   {
    "duration": 335,
    "start_time": "2022-05-31T20:17:26.591Z"
   },
   {
    "duration": 15,
    "start_time": "2022-05-31T20:18:01.964Z"
   },
   {
    "duration": 20,
    "start_time": "2022-05-31T20:18:09.230Z"
   },
   {
    "duration": 5,
    "start_time": "2022-05-31T20:18:35.012Z"
   },
   {
    "duration": 5,
    "start_time": "2022-05-31T20:19:05.300Z"
   },
   {
    "duration": 6,
    "start_time": "2022-05-31T20:19:30.819Z"
   },
   {
    "duration": 23,
    "start_time": "2022-05-31T20:20:01.353Z"
   },
   {
    "duration": 14,
    "start_time": "2022-05-31T20:20:37.388Z"
   },
   {
    "duration": 210,
    "start_time": "2022-05-31T20:22:00.582Z"
   },
   {
    "duration": 36,
    "start_time": "2022-05-31T20:23:28.454Z"
   },
   {
    "duration": 15,
    "start_time": "2022-05-31T20:25:23.105Z"
   },
   {
    "duration": 10,
    "start_time": "2022-05-31T20:25:48.636Z"
   },
   {
    "duration": 9,
    "start_time": "2022-05-31T20:25:59.300Z"
   },
   {
    "duration": 7,
    "start_time": "2022-05-31T20:32:17.821Z"
   },
   {
    "duration": 8,
    "start_time": "2022-05-31T20:32:31.580Z"
   },
   {
    "duration": 3,
    "start_time": "2022-05-31T20:32:47.653Z"
   },
   {
    "duration": 838,
    "start_time": "2022-06-01T04:46:13.391Z"
   },
   {
    "duration": 5,
    "start_time": "2022-06-01T04:46:14.231Z"
   },
   {
    "duration": 260,
    "start_time": "2022-06-01T04:46:15.611Z"
   },
   {
    "duration": 16,
    "start_time": "2022-06-01T04:46:18.186Z"
   },
   {
    "duration": 11,
    "start_time": "2022-06-01T04:46:26.004Z"
   },
   {
    "duration": 6,
    "start_time": "2022-06-01T04:46:27.744Z"
   },
   {
    "duration": 14,
    "start_time": "2022-06-01T04:46:30.027Z"
   },
   {
    "duration": 8,
    "start_time": "2022-06-01T04:46:40.574Z"
   },
   {
    "duration": 2,
    "start_time": "2022-06-01T04:46:50.078Z"
   },
   {
    "duration": 16,
    "start_time": "2022-06-01T04:46:53.365Z"
   },
   {
    "duration": 74,
    "start_time": "2022-06-01T04:56:14.433Z"
   },
   {
    "duration": 108,
    "start_time": "2022-06-01T04:56:20.636Z"
   },
   {
    "duration": 158,
    "start_time": "2022-06-01T04:56:29.967Z"
   },
   {
    "duration": 3,
    "start_time": "2022-06-01T04:58:13.615Z"
   },
   {
    "duration": 6,
    "start_time": "2022-06-01T04:58:26.547Z"
   },
   {
    "duration": 109,
    "start_time": "2022-06-01T04:58:30.358Z"
   },
   {
    "duration": 15,
    "start_time": "2022-06-01T04:58:50.440Z"
   },
   {
    "duration": 405,
    "start_time": "2022-06-01T04:59:51.364Z"
   },
   {
    "duration": 29,
    "start_time": "2022-06-01T05:00:11.030Z"
   },
   {
    "duration": 2,
    "start_time": "2022-06-01T05:00:40.638Z"
   },
   {
    "duration": 5,
    "start_time": "2022-06-01T05:01:03.043Z"
   },
   {
    "duration": 7,
    "start_time": "2022-06-01T05:01:21.424Z"
   },
   {
    "duration": 11,
    "start_time": "2022-06-01T05:01:36.348Z"
   },
   {
    "duration": 6,
    "start_time": "2022-06-01T05:01:57.901Z"
   },
   {
    "duration": 8,
    "start_time": "2022-06-01T05:03:58.451Z"
   },
   {
    "duration": 16,
    "start_time": "2022-06-01T05:04:08.024Z"
   },
   {
    "duration": 4,
    "start_time": "2022-06-01T05:04:22.343Z"
   },
   {
    "duration": 14,
    "start_time": "2022-06-01T05:04:29.544Z"
   },
   {
    "duration": 333,
    "start_time": "2022-06-01T05:04:47.553Z"
   },
   {
    "duration": 39,
    "start_time": "2022-06-01T05:08:13.489Z"
   },
   {
    "duration": 55,
    "start_time": "2022-06-01T05:08:41.571Z"
   },
   {
    "duration": 490,
    "start_time": "2022-06-01T05:08:53.087Z"
   },
   {
    "duration": 38,
    "start_time": "2022-06-01T05:10:15.819Z"
   },
   {
    "duration": 12,
    "start_time": "2022-06-01T05:13:25.934Z"
   },
   {
    "duration": 9,
    "start_time": "2022-06-01T05:13:38.674Z"
   },
   {
    "duration": 47,
    "start_time": "2022-06-01T05:14:32.717Z"
   },
   {
    "duration": 12,
    "start_time": "2022-06-01T05:14:43.406Z"
   },
   {
    "duration": 15,
    "start_time": "2022-06-01T05:15:02.217Z"
   },
   {
    "duration": 21,
    "start_time": "2022-06-01T05:15:41.001Z"
   },
   {
    "duration": 85,
    "start_time": "2022-06-01T18:43:18.607Z"
   },
   {
    "duration": 898,
    "start_time": "2022-06-01T18:43:27.318Z"
   },
   {
    "duration": 11,
    "start_time": "2022-06-01T18:43:28.218Z"
   },
   {
    "duration": 405,
    "start_time": "2022-06-01T18:43:28.230Z"
   },
   {
    "duration": 40,
    "start_time": "2022-06-01T18:43:28.638Z"
   },
   {
    "duration": 14,
    "start_time": "2022-06-01T18:43:28.680Z"
   },
   {
    "duration": 8,
    "start_time": "2022-06-01T18:43:28.722Z"
   },
   {
    "duration": 14,
    "start_time": "2022-06-01T18:43:28.997Z"
   },
   {
    "duration": 6,
    "start_time": "2022-06-01T18:43:29.180Z"
   },
   {
    "duration": 16,
    "start_time": "2022-06-01T18:43:31.062Z"
   },
   {
    "duration": 65,
    "start_time": "2022-06-01T18:43:31.428Z"
   },
   {
    "duration": 10,
    "start_time": "2022-06-01T18:43:31.680Z"
   },
   {
    "duration": 3,
    "start_time": "2022-06-01T18:43:31.883Z"
   },
   {
    "duration": 16,
    "start_time": "2022-06-01T18:43:32.242Z"
   },
   {
    "duration": 3,
    "start_time": "2022-06-01T18:43:32.500Z"
   },
   {
    "duration": 17,
    "start_time": "2022-06-01T18:43:32.721Z"
   },
   {
    "duration": 8,
    "start_time": "2022-06-01T18:43:32.932Z"
   },
   {
    "duration": 20,
    "start_time": "2022-06-01T18:43:33.220Z"
   },
   {
    "duration": 6,
    "start_time": "2022-06-01T18:43:35.150Z"
   },
   {
    "duration": 3,
    "start_time": "2022-06-01T18:43:35.289Z"
   },
   {
    "duration": 5,
    "start_time": "2022-06-01T18:43:35.518Z"
   },
   {
    "duration": 5,
    "start_time": "2022-06-01T18:43:35.702Z"
   },
   {
    "duration": 3,
    "start_time": "2022-06-01T18:43:35.924Z"
   },
   {
    "duration": 6,
    "start_time": "2022-06-01T18:43:36.132Z"
   },
   {
    "duration": 3,
    "start_time": "2022-06-01T18:43:36.342Z"
   },
   {
    "duration": 20,
    "start_time": "2022-06-01T18:43:38.406Z"
   },
   {
    "duration": 8,
    "start_time": "2022-06-01T18:43:38.790Z"
   },
   {
    "duration": 8,
    "start_time": "2022-06-01T18:43:39.156Z"
   },
   {
    "duration": 9,
    "start_time": "2022-06-01T18:43:39.553Z"
   },
   {
    "duration": 10,
    "start_time": "2022-06-01T18:43:39.742Z"
   },
   {
    "duration": 16,
    "start_time": "2022-06-01T18:43:50.361Z"
   },
   {
    "duration": 6,
    "start_time": "2022-06-01T18:43:50.761Z"
   },
   {
    "duration": 19,
    "start_time": "2022-06-01T18:43:50.976Z"
   },
   {
    "duration": 9,
    "start_time": "2022-06-01T18:43:59.515Z"
   },
   {
    "duration": 7,
    "start_time": "2022-06-01T18:44:03.022Z"
   },
   {
    "duration": 45,
    "start_time": "2022-06-01T19:01:19.081Z"
   },
   {
    "duration": 5,
    "start_time": "2022-06-01T19:01:29.112Z"
   },
   {
    "duration": 13,
    "start_time": "2022-06-01T19:01:35.071Z"
   },
   {
    "duration": 4,
    "start_time": "2022-06-01T19:03:32.091Z"
   },
   {
    "duration": 5,
    "start_time": "2022-06-01T19:03:44.286Z"
   },
   {
    "duration": 11,
    "start_time": "2022-06-01T19:04:16.005Z"
   },
   {
    "duration": 9,
    "start_time": "2022-06-01T19:06:01.608Z"
   },
   {
    "duration": 8,
    "start_time": "2022-06-01T19:06:09.185Z"
   },
   {
    "duration": 4,
    "start_time": "2022-06-01T19:08:07.509Z"
   },
   {
    "duration": 6,
    "start_time": "2022-06-01T19:08:25.031Z"
   },
   {
    "duration": 7,
    "start_time": "2022-06-01T19:08:37.746Z"
   },
   {
    "duration": 7,
    "start_time": "2022-06-01T19:09:07.444Z"
   },
   {
    "duration": 4,
    "start_time": "2022-06-01T19:10:12.005Z"
   },
   {
    "duration": 6,
    "start_time": "2022-06-01T19:10:47.621Z"
   },
   {
    "duration": 10,
    "start_time": "2022-06-01T19:11:29.884Z"
   },
   {
    "duration": 5,
    "start_time": "2022-06-01T19:11:57.048Z"
   },
   {
    "duration": 5,
    "start_time": "2022-06-01T19:12:08.069Z"
   },
   {
    "duration": 15,
    "start_time": "2022-06-01T19:17:30.118Z"
   },
   {
    "duration": 19,
    "start_time": "2022-06-01T19:21:20.714Z"
   },
   {
    "duration": 26,
    "start_time": "2022-06-01T19:22:33.222Z"
   },
   {
    "duration": 15,
    "start_time": "2022-06-01T19:28:54.980Z"
   },
   {
    "duration": 18,
    "start_time": "2022-06-01T19:29:23.279Z"
   },
   {
    "duration": 16,
    "start_time": "2022-06-01T19:29:29.212Z"
   },
   {
    "duration": 17,
    "start_time": "2022-06-01T19:30:03.132Z"
   },
   {
    "duration": 16,
    "start_time": "2022-06-01T19:30:41.313Z"
   },
   {
    "duration": 30,
    "start_time": "2022-06-01T19:33:24.143Z"
   },
   {
    "duration": 21,
    "start_time": "2022-06-01T19:33:33.182Z"
   },
   {
    "duration": 14,
    "start_time": "2022-06-01T19:33:53.879Z"
   },
   {
    "duration": 27,
    "start_time": "2022-06-01T19:34:01.898Z"
   },
   {
    "duration": 21,
    "start_time": "2022-06-01T19:35:48.336Z"
   },
   {
    "duration": 516,
    "start_time": "2022-06-01T19:35:55.733Z"
   },
   {
    "duration": 5,
    "start_time": "2022-06-01T19:36:47.806Z"
   },
   {
    "duration": 23,
    "start_time": "2022-06-01T19:36:55.928Z"
   },
   {
    "duration": 744,
    "start_time": "2022-06-02T05:02:57.878Z"
   },
   {
    "duration": 3,
    "start_time": "2022-06-02T05:03:01.484Z"
   },
   {
    "duration": 2,
    "start_time": "2022-06-02T05:03:06.420Z"
   },
   {
    "duration": 2,
    "start_time": "2022-06-02T05:03:11.606Z"
   },
   {
    "duration": 69,
    "start_time": "2022-06-02T05:03:16.547Z"
   },
   {
    "duration": 281,
    "start_time": "2022-06-02T05:03:29.927Z"
   },
   {
    "duration": 5,
    "start_time": "2022-06-02T05:03:33.575Z"
   },
   {
    "duration": 17,
    "start_time": "2022-06-02T05:03:34.776Z"
   },
   {
    "duration": 6,
    "start_time": "2022-06-02T05:03:35.856Z"
   },
   {
    "duration": 13,
    "start_time": "2022-06-02T05:03:44.566Z"
   },
   {
    "duration": 3,
    "start_time": "2022-06-02T05:03:55.278Z"
   },
   {
    "duration": 7,
    "start_time": "2022-06-02T05:03:57.217Z"
   },
   {
    "duration": 265,
    "start_time": "2022-06-02T05:04:25.291Z"
   },
   {
    "duration": 17,
    "start_time": "2022-06-02T05:05:39.222Z"
   },
   {
    "duration": 11,
    "start_time": "2022-06-02T05:06:03.259Z"
   },
   {
    "duration": 7,
    "start_time": "2022-06-02T05:06:15.468Z"
   },
   {
    "duration": 17,
    "start_time": "2022-06-02T05:06:15.476Z"
   },
   {
    "duration": 275,
    "start_time": "2022-06-02T05:07:06.638Z"
   },
   {
    "duration": 5,
    "start_time": "2022-06-02T05:08:02.472Z"
   },
   {
    "duration": 243,
    "start_time": "2022-06-02T05:08:18.561Z"
   },
   {
    "duration": 29,
    "start_time": "2022-06-02T05:09:01.386Z"
   },
   {
    "duration": 412,
    "start_time": "2022-06-02T05:14:16.609Z"
   },
   {
    "duration": 3,
    "start_time": "2022-06-02T05:22:08.798Z"
   },
   {
    "duration": 4,
    "start_time": "2022-06-02T05:23:53.917Z"
   },
   {
    "duration": 5,
    "start_time": "2022-06-02T05:24:13.522Z"
   },
   {
    "duration": 7,
    "start_time": "2022-06-02T05:24:39.911Z"
   },
   {
    "duration": 878,
    "start_time": "2022-06-02T18:00:17.767Z"
   },
   {
    "duration": 3,
    "start_time": "2022-06-02T18:00:18.647Z"
   },
   {
    "duration": 271,
    "start_time": "2022-06-02T18:00:18.652Z"
   },
   {
    "duration": 3,
    "start_time": "2022-06-02T18:00:18.925Z"
   },
   {
    "duration": 4,
    "start_time": "2022-06-02T18:00:18.931Z"
   },
   {
    "duration": 9,
    "start_time": "2022-06-02T18:00:18.936Z"
   },
   {
    "duration": 16,
    "start_time": "2022-06-02T18:00:18.947Z"
   },
   {
    "duration": 5,
    "start_time": "2022-06-02T18:00:18.965Z"
   },
   {
    "duration": 18,
    "start_time": "2022-06-02T18:00:18.972Z"
   },
   {
    "duration": 2,
    "start_time": "2022-06-02T18:00:18.992Z"
   },
   {
    "duration": 14,
    "start_time": "2022-06-02T18:00:18.995Z"
   },
   {
    "duration": 7,
    "start_time": "2022-06-02T18:00:19.010Z"
   },
   {
    "duration": 9,
    "start_time": "2022-06-02T18:00:19.019Z"
   },
   {
    "duration": 16,
    "start_time": "2022-06-02T18:00:19.031Z"
   },
   {
    "duration": 3,
    "start_time": "2022-06-02T18:00:19.048Z"
   },
   {
    "duration": 22,
    "start_time": "2022-06-02T18:00:19.075Z"
   },
   {
    "duration": 7,
    "start_time": "2022-06-02T18:00:19.099Z"
   },
   {
    "duration": 26,
    "start_time": "2022-06-02T18:00:19.107Z"
   },
   {
    "duration": 7,
    "start_time": "2022-06-02T18:00:19.134Z"
   },
   {
    "duration": 6,
    "start_time": "2022-06-02T18:00:19.142Z"
   },
   {
    "duration": 27,
    "start_time": "2022-06-02T18:00:19.150Z"
   },
   {
    "duration": 11,
    "start_time": "2022-06-02T18:00:19.179Z"
   },
   {
    "duration": 5,
    "start_time": "2022-06-02T18:00:19.192Z"
   },
   {
    "duration": 9,
    "start_time": "2022-06-02T18:00:19.198Z"
   },
   {
    "duration": 6,
    "start_time": "2022-06-02T18:00:19.209Z"
   },
   {
    "duration": 28,
    "start_time": "2022-06-02T18:00:19.217Z"
   },
   {
    "duration": 9,
    "start_time": "2022-06-02T18:00:19.247Z"
   },
   {
    "duration": 7,
    "start_time": "2022-06-02T18:00:19.276Z"
   },
   {
    "duration": 6,
    "start_time": "2022-06-02T18:00:19.285Z"
   },
   {
    "duration": 10,
    "start_time": "2022-06-02T18:00:19.293Z"
   },
   {
    "duration": 16,
    "start_time": "2022-06-02T18:00:19.305Z"
   },
   {
    "duration": 9,
    "start_time": "2022-06-02T18:00:19.322Z"
   },
   {
    "duration": 53,
    "start_time": "2022-06-02T18:00:19.333Z"
   },
   {
    "duration": 12,
    "start_time": "2022-06-02T18:00:19.388Z"
   },
   {
    "duration": 12,
    "start_time": "2022-06-02T18:00:19.402Z"
   },
   {
    "duration": 6,
    "start_time": "2022-06-02T18:00:19.416Z"
   },
   {
    "duration": 9,
    "start_time": "2022-06-02T18:00:19.423Z"
   },
   {
    "duration": 12,
    "start_time": "2022-06-02T18:00:19.434Z"
   },
   {
    "duration": 10,
    "start_time": "2022-06-02T18:00:19.476Z"
   },
   {
    "duration": 7,
    "start_time": "2022-06-02T18:00:19.487Z"
   },
   {
    "duration": 22,
    "start_time": "2022-06-02T18:00:19.497Z"
   },
   {
    "duration": 4,
    "start_time": "2022-06-02T18:00:19.520Z"
   },
   {
    "duration": 7,
    "start_time": "2022-06-02T18:00:19.526Z"
   },
   {
    "duration": 6,
    "start_time": "2022-06-02T18:00:19.535Z"
   },
   {
    "duration": 35,
    "start_time": "2022-06-02T18:00:19.542Z"
   },
   {
    "duration": 28,
    "start_time": "2022-06-02T18:00:19.578Z"
   },
   {
    "duration": 167,
    "start_time": "2022-06-02T18:00:19.608Z"
   },
   {
    "duration": 17,
    "start_time": "2022-06-02T18:00:19.776Z"
   },
   {
    "duration": 22,
    "start_time": "2022-06-02T18:00:19.795Z"
   },
   {
    "duration": 26,
    "start_time": "2022-06-02T18:05:59.963Z"
   },
   {
    "duration": 17,
    "start_time": "2022-06-02T18:07:46.056Z"
   },
   {
    "duration": 18,
    "start_time": "2022-06-02T18:17:52.865Z"
   },
   {
    "duration": 84,
    "start_time": "2022-06-02T18:20:14.334Z"
   },
   {
    "duration": 28,
    "start_time": "2022-06-02T18:20:21.550Z"
   },
   {
    "duration": 25,
    "start_time": "2022-06-02T18:20:44.225Z"
   },
   {
    "duration": 600,
    "start_time": "2022-06-02T18:24:32.853Z"
   },
   {
    "duration": 8,
    "start_time": "2022-06-02T18:24:48.318Z"
   },
   {
    "duration": 5,
    "start_time": "2022-06-02T18:26:14.215Z"
   },
   {
    "duration": 5,
    "start_time": "2022-06-02T18:26:33.578Z"
   },
   {
    "duration": 607,
    "start_time": "2022-06-02T18:26:58.495Z"
   },
   {
    "duration": 4,
    "start_time": "2022-06-02T18:27:14.963Z"
   },
   {
    "duration": 109,
    "start_time": "2022-06-02T18:27:39.277Z"
   },
   {
    "duration": 2,
    "start_time": "2022-06-02T18:27:40.157Z"
   },
   {
    "duration": 3,
    "start_time": "2022-06-02T18:27:40.597Z"
   },
   {
    "duration": 6,
    "start_time": "2022-06-02T18:27:40.996Z"
   },
   {
    "duration": 12,
    "start_time": "2022-06-02T18:27:42.081Z"
   },
   {
    "duration": 8,
    "start_time": "2022-06-02T18:27:51.449Z"
   },
   {
    "duration": 9,
    "start_time": "2022-06-02T18:27:52.349Z"
   },
   {
    "duration": 6,
    "start_time": "2022-06-02T18:27:53.203Z"
   },
   {
    "duration": 5,
    "start_time": "2022-06-02T18:28:06.804Z"
   },
   {
    "duration": 18,
    "start_time": "2022-06-02T18:28:13.149Z"
   },
   {
    "duration": 7,
    "start_time": "2022-06-02T18:28:23.512Z"
   },
   {
    "duration": 25,
    "start_time": "2022-06-02T18:28:51.389Z"
   },
   {
    "duration": 12,
    "start_time": "2022-06-02T18:29:24.738Z"
   },
   {
    "duration": 12,
    "start_time": "2022-06-02T18:29:33.823Z"
   },
   {
    "duration": 9,
    "start_time": "2022-06-02T18:31:18.862Z"
   },
   {
    "duration": 32,
    "start_time": "2022-06-02T18:38:24.068Z"
   },
   {
    "duration": 11,
    "start_time": "2022-06-02T18:40:32.179Z"
   },
   {
    "duration": 25,
    "start_time": "2022-06-02T18:40:43.460Z"
   },
   {
    "duration": 26,
    "start_time": "2022-06-02T18:42:15.193Z"
   },
   {
    "duration": 25,
    "start_time": "2022-06-02T18:42:32.139Z"
   },
   {
    "duration": 3,
    "start_time": "2022-06-02T18:42:50.308Z"
   },
   {
    "duration": 2,
    "start_time": "2022-06-02T18:42:57.254Z"
   },
   {
    "duration": 15,
    "start_time": "2022-06-02T18:53:46.021Z"
   },
   {
    "duration": 4,
    "start_time": "2022-06-02T19:01:21.806Z"
   },
   {
    "duration": 27,
    "start_time": "2022-06-02T19:01:32.733Z"
   },
   {
    "duration": 4,
    "start_time": "2022-06-02T19:01:44.689Z"
   },
   {
    "duration": 13,
    "start_time": "2022-06-02T19:01:46.272Z"
   },
   {
    "duration": 18,
    "start_time": "2022-06-02T19:01:49.914Z"
   },
   {
    "duration": 21,
    "start_time": "2022-06-02T19:12:54.266Z"
   },
   {
    "duration": 6,
    "start_time": "2022-06-02T19:29:26.822Z"
   },
   {
    "duration": 10,
    "start_time": "2022-06-02T19:29:30.857Z"
   },
   {
    "duration": 4,
    "start_time": "2022-06-02T19:33:00.286Z"
   },
   {
    "duration": 6,
    "start_time": "2022-06-02T19:33:05.824Z"
   },
   {
    "duration": 28,
    "start_time": "2022-06-02T19:39:50.124Z"
   },
   {
    "duration": 5,
    "start_time": "2022-06-02T19:43:49.166Z"
   },
   {
    "duration": 18,
    "start_time": "2022-06-02T19:43:53.002Z"
   },
   {
    "duration": 6,
    "start_time": "2022-06-02T19:44:33.317Z"
   },
   {
    "duration": 23,
    "start_time": "2022-06-02T19:46:06.311Z"
   },
   {
    "duration": 4,
    "start_time": "2022-06-02T19:47:33.934Z"
   },
   {
    "duration": 26,
    "start_time": "2022-06-02T19:49:24.167Z"
   },
   {
    "duration": 20,
    "start_time": "2022-06-02T19:51:27.032Z"
   },
   {
    "duration": 6,
    "start_time": "2022-06-02T19:52:50.915Z"
   },
   {
    "duration": 9,
    "start_time": "2022-06-02T19:56:43.713Z"
   },
   {
    "duration": 525,
    "start_time": "2022-06-02T19:59:11.208Z"
   },
   {
    "duration": 7,
    "start_time": "2022-06-02T19:59:31.175Z"
   },
   {
    "duration": 9,
    "start_time": "2022-06-02T19:59:39.362Z"
   },
   {
    "duration": 23,
    "start_time": "2022-06-02T19:59:50.504Z"
   },
   {
    "duration": 20,
    "start_time": "2022-06-02T20:00:02.823Z"
   },
   {
    "duration": 2,
    "start_time": "2022-06-02T20:00:35.114Z"
   },
   {
    "duration": 4,
    "start_time": "2022-06-02T20:06:06.092Z"
   },
   {
    "duration": 155,
    "start_time": "2022-06-02T20:08:08.306Z"
   },
   {
    "duration": 158,
    "start_time": "2022-06-02T20:08:29.759Z"
   },
   {
    "duration": 26,
    "start_time": "2022-06-02T20:09:26.254Z"
   },
   {
    "duration": 9,
    "start_time": "2022-06-02T20:09:56.315Z"
   },
   {
    "duration": 760,
    "start_time": "2022-06-02T20:10:16.759Z"
   },
   {
    "duration": 7,
    "start_time": "2022-06-02T20:10:31.837Z"
   },
   {
    "duration": 7,
    "start_time": "2022-06-02T20:10:55.414Z"
   },
   {
    "duration": 662,
    "start_time": "2022-06-02T20:11:49.815Z"
   },
   {
    "duration": 5,
    "start_time": "2022-06-02T20:12:02.593Z"
   },
   {
    "duration": 7,
    "start_time": "2022-06-02T20:12:05.087Z"
   },
   {
    "duration": 10,
    "start_time": "2022-06-02T20:12:28.418Z"
   },
   {
    "duration": 7,
    "start_time": "2022-06-02T20:12:37.658Z"
   },
   {
    "duration": 7,
    "start_time": "2022-06-02T20:12:52.658Z"
   },
   {
    "duration": 16,
    "start_time": "2022-06-02T20:13:41.258Z"
   },
   {
    "duration": 22,
    "start_time": "2022-06-02T20:15:13.717Z"
   },
   {
    "duration": 19,
    "start_time": "2022-06-02T20:15:26.380Z"
   },
   {
    "duration": 6,
    "start_time": "2022-06-02T20:15:37.355Z"
   },
   {
    "duration": 9,
    "start_time": "2022-06-02T20:15:38.867Z"
   },
   {
    "duration": 6,
    "start_time": "2022-06-02T20:15:39.668Z"
   },
   {
    "duration": 4,
    "start_time": "2022-06-02T20:15:41.177Z"
   },
   {
    "duration": 28,
    "start_time": "2022-06-02T20:15:51.659Z"
   },
   {
    "duration": 634,
    "start_time": "2022-06-02T20:16:48.193Z"
   },
   {
    "duration": 45,
    "start_time": "2022-06-02T20:17:12.265Z"
   },
   {
    "duration": 6,
    "start_time": "2022-06-02T20:18:14.062Z"
   },
   {
    "duration": 6,
    "start_time": "2022-06-02T20:18:30.361Z"
   },
   {
    "duration": 3,
    "start_time": "2022-06-02T20:19:58.813Z"
   },
   {
    "duration": 27,
    "start_time": "2022-06-02T20:20:10.620Z"
   },
   {
    "duration": 689,
    "start_time": "2022-06-02T20:21:13.597Z"
   },
   {
    "duration": 3,
    "start_time": "2022-06-02T20:21:14.288Z"
   },
   {
    "duration": 121,
    "start_time": "2022-06-02T20:21:14.293Z"
   },
   {
    "duration": 2,
    "start_time": "2022-06-02T20:21:14.416Z"
   },
   {
    "duration": 5,
    "start_time": "2022-06-02T20:21:14.420Z"
   },
   {
    "duration": 12,
    "start_time": "2022-06-02T20:21:14.426Z"
   },
   {
    "duration": 17,
    "start_time": "2022-06-02T20:21:14.439Z"
   },
   {
    "duration": 5,
    "start_time": "2022-06-02T20:21:14.458Z"
   },
   {
    "duration": 21,
    "start_time": "2022-06-02T20:21:14.465Z"
   },
   {
    "duration": 2,
    "start_time": "2022-06-02T20:21:14.489Z"
   },
   {
    "duration": 10,
    "start_time": "2022-06-02T20:21:14.493Z"
   },
   {
    "duration": 7,
    "start_time": "2022-06-02T20:21:14.505Z"
   },
   {
    "duration": 7,
    "start_time": "2022-06-02T20:21:14.513Z"
   },
   {
    "duration": 15,
    "start_time": "2022-06-02T20:21:14.522Z"
   },
   {
    "duration": 4,
    "start_time": "2022-06-02T20:21:14.538Z"
   },
   {
    "duration": 37,
    "start_time": "2022-06-02T20:21:14.543Z"
   },
   {
    "duration": 20,
    "start_time": "2022-06-02T20:21:14.582Z"
   },
   {
    "duration": 9,
    "start_time": "2022-06-02T20:21:14.604Z"
   },
   {
    "duration": 5,
    "start_time": "2022-06-02T20:21:14.614Z"
   },
   {
    "duration": 20,
    "start_time": "2022-06-02T20:21:14.621Z"
   },
   {
    "duration": 5,
    "start_time": "2022-06-02T20:21:14.643Z"
   },
   {
    "duration": 27,
    "start_time": "2022-06-02T20:21:14.650Z"
   },
   {
    "duration": 5,
    "start_time": "2022-06-02T20:21:14.679Z"
   },
   {
    "duration": 6,
    "start_time": "2022-06-02T20:21:14.686Z"
   },
   {
    "duration": 4,
    "start_time": "2022-06-02T20:21:14.694Z"
   },
   {
    "duration": 6,
    "start_time": "2022-06-02T20:21:14.892Z"
   },
   {
    "duration": 7,
    "start_time": "2022-06-02T20:21:14.903Z"
   },
   {
    "duration": 10,
    "start_time": "2022-06-02T20:21:14.911Z"
   },
   {
    "duration": 15,
    "start_time": "2022-06-02T20:21:14.927Z"
   },
   {
    "duration": 2,
    "start_time": "2022-06-02T20:21:14.946Z"
   },
   {
    "duration": 11,
    "start_time": "2022-06-02T20:21:14.960Z"
   },
   {
    "duration": 14,
    "start_time": "2022-06-02T20:21:14.972Z"
   },
   {
    "duration": 32,
    "start_time": "2022-06-02T20:21:14.987Z"
   },
   {
    "duration": 11,
    "start_time": "2022-06-02T20:21:15.021Z"
   },
   {
    "duration": 9,
    "start_time": "2022-06-02T20:21:15.035Z"
   },
   {
    "duration": 10,
    "start_time": "2022-06-02T20:21:15.057Z"
   },
   {
    "duration": 14,
    "start_time": "2022-06-02T20:21:15.069Z"
   },
   {
    "duration": 8,
    "start_time": "2022-06-02T20:21:15.085Z"
   },
   {
    "duration": 8,
    "start_time": "2022-06-02T20:21:15.095Z"
   },
   {
    "duration": 8,
    "start_time": "2022-06-02T20:21:15.106Z"
   },
   {
    "duration": 25,
    "start_time": "2022-06-02T20:21:15.116Z"
   },
   {
    "duration": 2,
    "start_time": "2022-06-02T20:21:15.142Z"
   },
   {
    "duration": 5,
    "start_time": "2022-06-02T20:21:15.177Z"
   },
   {
    "duration": 9,
    "start_time": "2022-06-02T20:21:15.186Z"
   },
   {
    "duration": 6,
    "start_time": "2022-06-02T20:21:15.197Z"
   },
   {
    "duration": 6,
    "start_time": "2022-06-02T20:21:15.204Z"
   },
   {
    "duration": 8,
    "start_time": "2022-06-02T20:21:15.212Z"
   },
   {
    "duration": 58,
    "start_time": "2022-06-02T20:21:15.222Z"
   },
   {
    "duration": 168,
    "start_time": "2022-06-02T20:21:15.281Z"
   },
   {
    "duration": 25,
    "start_time": "2022-06-02T20:21:15.451Z"
   },
   {
    "duration": 24,
    "start_time": "2022-06-02T20:21:15.478Z"
   },
   {
    "duration": 79,
    "start_time": "2022-06-02T20:22:51.226Z"
   },
   {
    "duration": 20,
    "start_time": "2022-06-02T20:23:10.973Z"
   },
   {
    "duration": 19,
    "start_time": "2022-06-02T20:23:58.436Z"
   },
   {
    "duration": 27,
    "start_time": "2022-06-02T20:24:28.623Z"
   },
   {
    "duration": 31,
    "start_time": "2022-06-02T20:24:57.270Z"
   },
   {
    "duration": 148,
    "start_time": "2022-06-02T20:28:58.157Z"
   },
   {
    "duration": 172,
    "start_time": "2022-06-02T20:29:07.703Z"
   },
   {
    "duration": 12,
    "start_time": "2022-06-02T20:29:26.419Z"
   },
   {
    "duration": 14,
    "start_time": "2022-06-02T20:33:18.373Z"
   },
   {
    "duration": 47,
    "start_time": "2022-06-02T20:33:24.367Z"
   },
   {
    "duration": 44,
    "start_time": "2022-06-02T20:33:46.219Z"
   },
   {
    "duration": 36,
    "start_time": "2022-06-02T20:34:13.265Z"
   },
   {
    "duration": 63,
    "start_time": "2022-06-02T20:39:15.221Z"
   },
   {
    "duration": 593,
    "start_time": "2022-06-02T20:40:58.918Z"
   },
   {
    "duration": 49,
    "start_time": "2022-06-02T20:41:21.291Z"
   },
   {
    "duration": 59,
    "start_time": "2022-06-02T20:41:28.791Z"
   },
   {
    "duration": 5,
    "start_time": "2022-06-02T20:51:30.992Z"
   },
   {
    "duration": 6,
    "start_time": "2022-06-02T20:51:44.197Z"
   },
   {
    "duration": 5,
    "start_time": "2022-06-02T20:51:51.013Z"
   },
   {
    "duration": 886,
    "start_time": "2022-06-03T18:30:03.065Z"
   },
   {
    "duration": 4,
    "start_time": "2022-06-03T18:30:03.986Z"
   },
   {
    "duration": 411,
    "start_time": "2022-06-03T18:30:04.833Z"
   },
   {
    "duration": 2,
    "start_time": "2022-06-03T18:30:05.470Z"
   },
   {
    "duration": 3,
    "start_time": "2022-06-03T18:30:06.026Z"
   },
   {
    "duration": 5,
    "start_time": "2022-06-03T18:30:07.381Z"
   },
   {
    "duration": 14,
    "start_time": "2022-06-03T18:30:08.139Z"
   },
   {
    "duration": 6,
    "start_time": "2022-06-03T18:30:08.978Z"
   },
   {
    "duration": 18,
    "start_time": "2022-06-03T18:30:11.746Z"
   },
   {
    "duration": 3,
    "start_time": "2022-06-03T18:30:12.616Z"
   },
   {
    "duration": 13,
    "start_time": "2022-06-03T18:30:13.463Z"
   },
   {
    "duration": 12,
    "start_time": "2022-06-03T18:30:15.629Z"
   },
   {
    "duration": 7,
    "start_time": "2022-06-03T18:30:16.565Z"
   },
   {
    "duration": 24,
    "start_time": "2022-06-03T18:30:18.324Z"
   },
   {
    "duration": 4,
    "start_time": "2022-06-03T18:30:20.413Z"
   },
   {
    "duration": 4,
    "start_time": "2022-06-03T18:30:21.282Z"
   },
   {
    "duration": 23,
    "start_time": "2022-06-03T18:30:22.905Z"
   },
   {
    "duration": 16,
    "start_time": "2022-06-03T18:30:23.825Z"
   },
   {
    "duration": 12,
    "start_time": "2022-06-03T18:30:25.824Z"
   },
   {
    "duration": 26,
    "start_time": "2022-06-03T18:30:26.719Z"
   },
   {
    "duration": 4,
    "start_time": "2022-06-03T18:30:28.895Z"
   },
   {
    "duration": 4,
    "start_time": "2022-06-03T18:30:30.916Z"
   },
   {
    "duration": 3,
    "start_time": "2022-06-03T18:30:33.092Z"
   },
   {
    "duration": 2,
    "start_time": "2022-06-03T18:30:36.043Z"
   },
   {
    "duration": 2,
    "start_time": "2022-06-03T18:30:37.015Z"
   },
   {
    "duration": 6,
    "start_time": "2022-06-03T18:30:41.150Z"
   },
   {
    "duration": 7,
    "start_time": "2022-06-03T18:30:42.962Z"
   },
   {
    "duration": 13,
    "start_time": "2022-06-03T18:30:43.896Z"
   },
   {
    "duration": 20,
    "start_time": "2022-06-03T18:30:45.743Z"
   },
   {
    "duration": 9,
    "start_time": "2022-06-03T18:30:53.227Z"
   },
   {
    "duration": 5,
    "start_time": "2022-06-03T18:30:58.663Z"
   },
   {
    "duration": 13,
    "start_time": "2022-06-03T18:30:59.699Z"
   },
   {
    "duration": 22,
    "start_time": "2022-06-03T18:31:00.824Z"
   },
   {
    "duration": 26,
    "start_time": "2022-06-03T18:31:02.229Z"
   },
   {
    "duration": 6,
    "start_time": "2022-06-03T18:31:05.784Z"
   },
   {
    "duration": 6,
    "start_time": "2022-06-03T18:31:06.758Z"
   },
   {
    "duration": 15,
    "start_time": "2022-06-03T18:31:08.002Z"
   },
   {
    "duration": 6,
    "start_time": "2022-06-03T18:31:08.878Z"
   },
   {
    "duration": 7,
    "start_time": "2022-06-03T18:31:09.760Z"
   },
   {
    "duration": 6,
    "start_time": "2022-06-03T18:31:10.477Z"
   },
   {
    "duration": 10,
    "start_time": "2022-06-03T18:31:11.186Z"
   },
   {
    "duration": 37,
    "start_time": "2022-06-03T18:31:12.695Z"
   },
   {
    "duration": 6,
    "start_time": "2022-06-03T18:31:13.830Z"
   },
   {
    "duration": 5,
    "start_time": "2022-06-03T18:32:25.889Z"
   },
   {
    "duration": 7,
    "start_time": "2022-06-03T18:32:27.214Z"
   },
   {
    "duration": 9,
    "start_time": "2022-06-03T18:32:28.079Z"
   },
   {
    "duration": 6,
    "start_time": "2022-06-03T18:32:30.648Z"
   },
   {
    "duration": 25,
    "start_time": "2022-06-03T18:32:52.354Z"
   },
   {
    "duration": 45,
    "start_time": "2022-06-03T18:33:16.045Z"
   },
   {
    "duration": 20,
    "start_time": "2022-06-03T18:33:29.458Z"
   },
   {
    "duration": 14,
    "start_time": "2022-06-03T18:33:47.187Z"
   },
   {
    "duration": 28,
    "start_time": "2022-06-03T18:33:50.006Z"
   },
   {
    "duration": 55,
    "start_time": "2022-06-03T18:33:58.887Z"
   },
   {
    "duration": 10,
    "start_time": "2022-06-03T18:35:44.710Z"
   },
   {
    "duration": 16,
    "start_time": "2022-06-03T18:36:37.018Z"
   },
   {
    "duration": 8,
    "start_time": "2022-06-03T18:37:49.321Z"
   },
   {
    "duration": 4,
    "start_time": "2022-06-03T18:38:09.559Z"
   },
   {
    "duration": 5,
    "start_time": "2022-06-03T18:40:05.641Z"
   },
   {
    "duration": 22,
    "start_time": "2022-06-03T18:40:17.762Z"
   },
   {
    "duration": 15,
    "start_time": "2022-06-03T18:40:59.706Z"
   },
   {
    "duration": 18,
    "start_time": "2022-06-03T18:43:46.043Z"
   },
   {
    "duration": 15,
    "start_time": "2022-06-03T18:46:31.359Z"
   },
   {
    "duration": 21,
    "start_time": "2022-06-03T18:48:48.001Z"
   },
   {
    "duration": 9,
    "start_time": "2022-06-03T18:51:36.359Z"
   },
   {
    "duration": 13,
    "start_time": "2022-06-03T18:53:58.221Z"
   },
   {
    "duration": 9,
    "start_time": "2022-06-03T18:56:10.346Z"
   },
   {
    "duration": 8,
    "start_time": "2022-06-03T18:56:24.495Z"
   },
   {
    "duration": 3,
    "start_time": "2022-06-03T18:57:25.702Z"
   },
   {
    "duration": 3,
    "start_time": "2022-06-03T18:57:25.920Z"
   },
   {
    "duration": 137,
    "start_time": "2022-06-03T18:57:26.191Z"
   },
   {
    "duration": 3,
    "start_time": "2022-06-03T18:57:26.418Z"
   },
   {
    "duration": 8,
    "start_time": "2022-06-03T18:57:26.641Z"
   },
   {
    "duration": 9,
    "start_time": "2022-06-03T18:57:27.076Z"
   },
   {
    "duration": 15,
    "start_time": "2022-06-03T18:57:27.290Z"
   },
   {
    "duration": 5,
    "start_time": "2022-06-03T18:57:27.503Z"
   },
   {
    "duration": 19,
    "start_time": "2022-06-03T18:57:28.057Z"
   },
   {
    "duration": 3,
    "start_time": "2022-06-03T18:57:28.368Z"
   },
   {
    "duration": 11,
    "start_time": "2022-06-03T18:57:28.581Z"
   },
   {
    "duration": 8,
    "start_time": "2022-06-03T18:57:28.802Z"
   },
   {
    "duration": 6,
    "start_time": "2022-06-03T18:57:29.018Z"
   },
   {
    "duration": 24,
    "start_time": "2022-06-03T18:57:29.392Z"
   },
   {
    "duration": 6,
    "start_time": "2022-06-03T18:57:29.956Z"
   },
   {
    "duration": 5,
    "start_time": "2022-06-03T18:57:30.271Z"
   },
   {
    "duration": 20,
    "start_time": "2022-06-03T18:57:30.648Z"
   },
   {
    "duration": 10,
    "start_time": "2022-06-03T18:57:30.896Z"
   },
   {
    "duration": 5,
    "start_time": "2022-06-03T18:57:31.282Z"
   },
   {
    "duration": 32,
    "start_time": "2022-06-03T18:57:31.510Z"
   },
   {
    "duration": 5,
    "start_time": "2022-06-03T18:57:31.909Z"
   },
   {
    "duration": 5,
    "start_time": "2022-06-03T18:57:32.289Z"
   },
   {
    "duration": 3,
    "start_time": "2022-06-03T18:57:32.686Z"
   },
   {
    "duration": 3,
    "start_time": "2022-06-03T18:57:33.043Z"
   },
   {
    "duration": 3,
    "start_time": "2022-06-03T18:57:33.252Z"
   },
   {
    "duration": 7,
    "start_time": "2022-06-03T18:57:33.752Z"
   },
   {
    "duration": 12,
    "start_time": "2022-06-03T18:57:34.133Z"
   },
   {
    "duration": 11,
    "start_time": "2022-06-03T18:57:34.342Z"
   },
   {
    "duration": 18,
    "start_time": "2022-06-03T18:57:34.688Z"
   },
   {
    "duration": 7,
    "start_time": "2022-06-03T18:57:36.205Z"
   },
   {
    "duration": 17,
    "start_time": "2022-06-03T18:57:36.443Z"
   },
   {
    "duration": 17,
    "start_time": "2022-06-03T18:57:36.666Z"
   },
   {
    "duration": 26,
    "start_time": "2022-06-03T18:57:36.909Z"
   },
   {
    "duration": 8,
    "start_time": "2022-06-03T18:57:37.362Z"
   },
   {
    "duration": 9,
    "start_time": "2022-06-03T18:57:37.575Z"
   },
   {
    "duration": 14,
    "start_time": "2022-06-03T18:57:37.803Z"
   },
   {
    "duration": 11,
    "start_time": "2022-06-03T18:57:38.041Z"
   },
   {
    "duration": 7,
    "start_time": "2022-06-03T18:57:38.258Z"
   },
   {
    "duration": 8,
    "start_time": "2022-06-03T18:57:38.474Z"
   },
   {
    "duration": 10,
    "start_time": "2022-06-03T18:57:38.690Z"
   },
   {
    "duration": 45,
    "start_time": "2022-06-03T18:57:39.226Z"
   },
   {
    "duration": 3,
    "start_time": "2022-06-03T18:57:39.570Z"
   },
   {
    "duration": 6,
    "start_time": "2022-06-03T18:57:39.943Z"
   },
   {
    "duration": 9,
    "start_time": "2022-06-03T18:57:42.338Z"
   },
   {
    "duration": 16,
    "start_time": "2022-06-03T18:57:43.123Z"
   },
   {
    "duration": 9,
    "start_time": "2022-06-03T18:57:43.642Z"
   },
   {
    "duration": 9,
    "start_time": "2022-06-03T18:57:44.091Z"
   },
   {
    "duration": 29,
    "start_time": "2022-06-03T18:57:44.762Z"
   },
   {
    "duration": 17,
    "start_time": "2022-06-03T18:57:45.350Z"
   },
   {
    "duration": 18,
    "start_time": "2022-06-03T18:57:50.191Z"
   },
   {
    "duration": 56,
    "start_time": "2022-06-03T18:57:54.881Z"
   },
   {
    "duration": 6,
    "start_time": "2022-06-03T18:58:00.447Z"
   },
   {
    "duration": 8,
    "start_time": "2022-06-03T18:58:02.478Z"
   },
   {
    "duration": 15,
    "start_time": "2022-06-03T18:58:09.603Z"
   },
   {
    "duration": 14,
    "start_time": "2022-06-03T18:58:13.276Z"
   },
   {
    "duration": 4,
    "start_time": "2022-06-03T18:59:17.701Z"
   },
   {
    "duration": 7,
    "start_time": "2022-06-03T18:59:28.599Z"
   },
   {
    "duration": 24,
    "start_time": "2022-06-03T18:59:57.447Z"
   },
   {
    "duration": 98,
    "start_time": "2022-06-03T19:10:04.308Z"
   },
   {
    "duration": 13,
    "start_time": "2022-06-03T19:10:16.638Z"
   },
   {
    "duration": 12,
    "start_time": "2022-06-03T19:10:37.024Z"
   },
   {
    "duration": 5,
    "start_time": "2022-06-03T19:10:53.885Z"
   },
   {
    "duration": 7,
    "start_time": "2022-06-03T19:11:16.287Z"
   },
   {
    "duration": 210,
    "start_time": "2022-06-03T19:24:57.243Z"
   },
   {
    "duration": 10,
    "start_time": "2022-06-03T19:33:23.551Z"
   },
   {
    "duration": 10,
    "start_time": "2022-06-03T19:33:40.992Z"
   },
   {
    "duration": 10,
    "start_time": "2022-06-03T19:35:18.887Z"
   },
   {
    "duration": 77,
    "start_time": "2022-06-03T19:35:53.212Z"
   },
   {
    "duration": 10,
    "start_time": "2022-06-03T19:36:26.582Z"
   },
   {
    "duration": 33,
    "start_time": "2022-06-03T19:36:37.443Z"
   },
   {
    "duration": 3,
    "start_time": "2022-06-03T19:39:20.462Z"
   },
   {
    "duration": 16,
    "start_time": "2022-06-03T19:40:41.325Z"
   },
   {
    "duration": 10,
    "start_time": "2022-06-03T19:42:01.297Z"
   },
   {
    "duration": 120,
    "start_time": "2022-06-03T19:43:45.040Z"
   },
   {
    "duration": 111,
    "start_time": "2022-06-03T19:44:13.242Z"
   },
   {
    "duration": 106,
    "start_time": "2022-06-03T19:44:40.340Z"
   },
   {
    "duration": 3,
    "start_time": "2022-06-03T19:45:15.142Z"
   },
   {
    "duration": 47,
    "start_time": "2022-06-03T19:45:30.697Z"
   },
   {
    "duration": 157,
    "start_time": "2022-06-03T19:46:07.470Z"
   },
   {
    "duration": 32,
    "start_time": "2022-06-03T19:46:17.078Z"
   },
   {
    "duration": 34,
    "start_time": "2022-06-03T19:46:27.140Z"
   },
   {
    "duration": 31,
    "start_time": "2022-06-03T19:47:52.265Z"
   },
   {
    "duration": 12,
    "start_time": "2022-06-03T19:48:01.016Z"
   },
   {
    "duration": 187,
    "start_time": "2022-06-03T19:49:05.740Z"
   },
   {
    "duration": 178,
    "start_time": "2022-06-03T19:49:20.087Z"
   },
   {
    "duration": 230,
    "start_time": "2022-06-03T19:49:26.203Z"
   },
   {
    "duration": 195,
    "start_time": "2022-06-03T19:49:30.782Z"
   },
   {
    "duration": 198,
    "start_time": "2022-06-03T19:49:39.985Z"
   },
   {
    "duration": 7,
    "start_time": "2022-06-03T19:50:09.283Z"
   },
   {
    "duration": 10,
    "start_time": "2022-06-03T19:50:36.479Z"
   },
   {
    "duration": 41,
    "start_time": "2022-06-03T19:50:55.717Z"
   },
   {
    "duration": 41,
    "start_time": "2022-06-03T19:51:28.471Z"
   },
   {
    "duration": 28,
    "start_time": "2022-06-03T19:52:09.762Z"
   },
   {
    "duration": 32,
    "start_time": "2022-06-03T19:52:57.367Z"
   },
   {
    "duration": 31,
    "start_time": "2022-06-03T19:56:36.839Z"
   },
   {
    "duration": 19,
    "start_time": "2022-06-03T19:58:35.712Z"
   },
   {
    "duration": 26,
    "start_time": "2022-06-03T19:58:40.538Z"
   },
   {
    "duration": 35,
    "start_time": "2022-06-03T19:59:04.105Z"
   },
   {
    "duration": 83,
    "start_time": "2022-06-03T19:59:24.988Z"
   },
   {
    "duration": 46,
    "start_time": "2022-06-03T19:59:50.447Z"
   },
   {
    "duration": 30,
    "start_time": "2022-06-03T20:00:07.139Z"
   },
   {
    "duration": 29,
    "start_time": "2022-06-03T20:00:21.871Z"
   },
   {
    "duration": 31,
    "start_time": "2022-06-03T20:00:49.991Z"
   },
   {
    "duration": 29,
    "start_time": "2022-06-03T20:01:05.882Z"
   },
   {
    "duration": 36,
    "start_time": "2022-06-03T20:01:20.204Z"
   },
   {
    "duration": 43,
    "start_time": "2022-06-03T20:07:32.207Z"
   },
   {
    "duration": 32,
    "start_time": "2022-06-03T20:09:31.247Z"
   },
   {
    "duration": 38,
    "start_time": "2022-06-03T20:09:52.483Z"
   },
   {
    "duration": 51,
    "start_time": "2022-06-03T20:12:23.797Z"
   },
   {
    "duration": 153,
    "start_time": "2022-06-03T20:17:11.643Z"
   },
   {
    "duration": 194,
    "start_time": "2022-06-03T20:18:03.351Z"
   },
   {
    "duration": 168,
    "start_time": "2022-06-03T20:18:51.787Z"
   },
   {
    "duration": 268,
    "start_time": "2022-06-03T20:20:14.908Z"
   },
   {
    "duration": 34,
    "start_time": "2022-06-03T20:20:43.379Z"
   },
   {
    "duration": 120,
    "start_time": "2022-06-03T20:21:56.171Z"
   },
   {
    "duration": 27,
    "start_time": "2022-06-03T20:29:36.786Z"
   },
   {
    "duration": 24,
    "start_time": "2022-06-03T20:30:49.925Z"
   },
   {
    "duration": 672,
    "start_time": "2022-06-03T20:34:20.573Z"
   },
   {
    "duration": 572,
    "start_time": "2022-06-03T20:34:32.486Z"
   },
   {
    "duration": 14,
    "start_time": "2022-06-03T20:34:46.345Z"
   },
   {
    "duration": 23,
    "start_time": "2022-06-03T20:35:17.410Z"
   },
   {
    "duration": 7,
    "start_time": "2022-06-03T20:38:51.567Z"
   },
   {
    "duration": 8,
    "start_time": "2022-06-03T20:39:09.783Z"
   },
   {
    "duration": 154,
    "start_time": "2022-06-03T20:39:26.009Z"
   },
   {
    "duration": 137,
    "start_time": "2022-06-03T20:39:37.175Z"
   },
   {
    "duration": 149,
    "start_time": "2022-06-03T20:39:45.397Z"
   },
   {
    "duration": 256,
    "start_time": "2022-06-03T20:39:52.889Z"
   },
   {
    "duration": 253,
    "start_time": "2022-06-03T20:40:08.051Z"
   },
   {
    "duration": 142,
    "start_time": "2022-06-03T20:40:17.560Z"
   },
   {
    "duration": 130,
    "start_time": "2022-06-03T20:40:23.254Z"
   },
   {
    "duration": 169,
    "start_time": "2022-06-03T20:40:29.981Z"
   },
   {
    "duration": 129,
    "start_time": "2022-06-03T20:40:36.588Z"
   },
   {
    "duration": 145,
    "start_time": "2022-06-03T20:40:40.622Z"
   },
   {
    "duration": 151,
    "start_time": "2022-06-03T20:40:46.902Z"
   },
   {
    "duration": 159,
    "start_time": "2022-06-03T20:41:29.919Z"
   },
   {
    "duration": 156,
    "start_time": "2022-06-03T20:41:48.057Z"
   },
   {
    "duration": 901,
    "start_time": "2022-06-04T12:17:49.103Z"
   },
   {
    "duration": 3,
    "start_time": "2022-06-04T12:17:50.007Z"
   },
   {
    "duration": 279,
    "start_time": "2022-06-04T12:17:50.895Z"
   },
   {
    "duration": 2,
    "start_time": "2022-06-04T12:17:51.960Z"
   },
   {
    "duration": 3,
    "start_time": "2022-06-04T12:17:52.827Z"
   },
   {
    "duration": 8,
    "start_time": "2022-06-04T12:17:54.603Z"
   },
   {
    "duration": 16,
    "start_time": "2022-06-04T12:17:55.529Z"
   },
   {
    "duration": 5,
    "start_time": "2022-06-04T12:17:56.691Z"
   },
   {
    "duration": 18,
    "start_time": "2022-06-04T12:18:00.426Z"
   },
   {
    "duration": 3,
    "start_time": "2022-06-04T12:18:02.061Z"
   },
   {
    "duration": 9,
    "start_time": "2022-06-04T12:18:03.414Z"
   },
   {
    "duration": 7,
    "start_time": "2022-06-04T12:18:08.762Z"
   },
   {
    "duration": 9,
    "start_time": "2022-06-04T12:18:09.815Z"
   },
   {
    "duration": 18,
    "start_time": "2022-06-04T12:18:11.807Z"
   },
   {
    "duration": 4,
    "start_time": "2022-06-04T12:18:14.126Z"
   },
   {
    "duration": 4,
    "start_time": "2022-06-04T12:18:15.933Z"
   },
   {
    "duration": 17,
    "start_time": "2022-06-04T12:18:31.842Z"
   },
   {
    "duration": 4,
    "start_time": "2022-06-04T12:18:49.799Z"
   },
   {
    "duration": 22,
    "start_time": "2022-06-04T12:18:50.652Z"
   },
   {
    "duration": 5,
    "start_time": "2022-06-04T12:18:58.647Z"
   },
   {
    "duration": 3,
    "start_time": "2022-06-04T12:19:01.652Z"
   },
   {
    "duration": 2,
    "start_time": "2022-06-04T12:19:03.836Z"
   },
   {
    "duration": 4,
    "start_time": "2022-06-04T12:19:08.807Z"
   },
   {
    "duration": 2,
    "start_time": "2022-06-04T12:19:09.703Z"
   },
   {
    "duration": 8,
    "start_time": "2022-06-04T12:19:54.491Z"
   },
   {
    "duration": 9,
    "start_time": "2022-06-04T12:20:01.953Z"
   },
   {
    "duration": 10,
    "start_time": "2022-06-04T12:20:02.990Z"
   },
   {
    "duration": 18,
    "start_time": "2022-06-04T12:20:32.465Z"
   },
   {
    "duration": 7,
    "start_time": "2022-06-04T12:20:34.722Z"
   },
   {
    "duration": 10,
    "start_time": "2022-06-04T12:20:36.591Z"
   },
   {
    "duration": 14,
    "start_time": "2022-06-04T12:20:38.023Z"
   },
   {
    "duration": 21,
    "start_time": "2022-06-04T12:20:43.434Z"
   },
   {
    "duration": 6,
    "start_time": "2022-06-04T12:21:27.140Z"
   },
   {
    "duration": 6,
    "start_time": "2022-06-04T12:21:28.946Z"
   },
   {
    "duration": 12,
    "start_time": "2022-06-04T12:21:29.619Z"
   },
   {
    "duration": 6,
    "start_time": "2022-06-04T12:21:30.526Z"
   },
   {
    "duration": 7,
    "start_time": "2022-06-04T12:21:31.602Z"
   },
   {
    "duration": 7,
    "start_time": "2022-06-04T12:21:32.326Z"
   },
   {
    "duration": 8,
    "start_time": "2022-06-04T12:21:33.219Z"
   },
   {
    "duration": 33,
    "start_time": "2022-06-04T12:21:56.947Z"
   },
   {
    "duration": 23,
    "start_time": "2022-06-04T12:22:45.341Z"
   },
   {
    "duration": 5,
    "start_time": "2022-06-04T12:24:50.605Z"
   },
   {
    "duration": 6,
    "start_time": "2022-06-04T12:27:38.812Z"
   },
   {
    "duration": 127,
    "start_time": "2022-06-04T12:28:12.521Z"
   },
   {
    "duration": 219,
    "start_time": "2022-06-04T12:28:40.741Z"
   },
   {
    "duration": 164,
    "start_time": "2022-06-04T12:29:08.909Z"
   },
   {
    "duration": 176,
    "start_time": "2022-06-04T12:29:26.027Z"
   },
   {
    "duration": 736,
    "start_time": "2022-06-04T12:30:41.960Z"
   },
   {
    "duration": 14,
    "start_time": "2022-06-04T12:31:09.506Z"
   },
   {
    "duration": 136,
    "start_time": "2022-06-04T12:31:22.448Z"
   },
   {
    "duration": 264,
    "start_time": "2022-06-04T12:31:42.558Z"
   },
   {
    "duration": 171,
    "start_time": "2022-06-04T12:34:23.168Z"
   },
   {
    "duration": 7,
    "start_time": "2022-06-04T12:41:50.099Z"
   },
   {
    "duration": 26,
    "start_time": "2022-06-04T12:44:16.635Z"
   },
   {
    "duration": 7,
    "start_time": "2022-06-04T12:44:27.934Z"
   },
   {
    "duration": 25,
    "start_time": "2022-06-04T12:45:19.843Z"
   },
   {
    "duration": 23,
    "start_time": "2022-06-04T12:48:09.666Z"
   },
   {
    "duration": 6,
    "start_time": "2022-06-04T12:48:22.037Z"
   },
   {
    "duration": 22,
    "start_time": "2022-06-04T12:50:45.262Z"
   },
   {
    "duration": 24,
    "start_time": "2022-06-04T12:51:52.232Z"
   },
   {
    "duration": 29,
    "start_time": "2022-06-04T12:53:05.709Z"
   },
   {
    "duration": 7,
    "start_time": "2022-06-04T12:54:21.011Z"
   },
   {
    "duration": 23,
    "start_time": "2022-06-04T12:54:27.600Z"
   },
   {
    "duration": 24,
    "start_time": "2022-06-04T12:55:01.301Z"
   },
   {
    "duration": 23,
    "start_time": "2022-06-04T12:55:23.496Z"
   },
   {
    "duration": 12,
    "start_time": "2022-06-04T12:58:04.131Z"
   },
   {
    "duration": 13,
    "start_time": "2022-06-04T12:58:15.628Z"
   },
   {
    "duration": 127,
    "start_time": "2022-06-04T12:59:16.613Z"
   },
   {
    "duration": 3,
    "start_time": "2022-06-04T12:59:17.601Z"
   },
   {
    "duration": 15,
    "start_time": "2022-06-04T12:59:18.447Z"
   },
   {
    "duration": 3,
    "start_time": "2022-06-04T12:59:34.114Z"
   },
   {
    "duration": 128,
    "start_time": "2022-06-04T12:59:34.989Z"
   },
   {
    "duration": 3,
    "start_time": "2022-06-04T12:59:35.822Z"
   },
   {
    "duration": 14,
    "start_time": "2022-06-04T12:59:36.554Z"
   },
   {
    "duration": 25,
    "start_time": "2022-06-04T13:05:30.828Z"
   },
   {
    "duration": 7,
    "start_time": "2022-06-04T13:07:05.434Z"
   },
   {
    "duration": 8,
    "start_time": "2022-06-04T13:07:29.690Z"
   },
   {
    "duration": 8,
    "start_time": "2022-06-04T13:08:43.315Z"
   },
   {
    "duration": 9,
    "start_time": "2022-06-04T13:09:05.091Z"
   },
   {
    "duration": 9,
    "start_time": "2022-06-04T13:14:41.933Z"
   },
   {
    "duration": 27,
    "start_time": "2022-06-04T13:14:49.146Z"
   },
   {
    "duration": 16,
    "start_time": "2022-06-04T13:15:20.497Z"
   },
   {
    "duration": 15,
    "start_time": "2022-06-04T13:16:03.855Z"
   },
   {
    "duration": 23,
    "start_time": "2022-06-04T13:18:17.185Z"
   },
   {
    "duration": 262,
    "start_time": "2022-06-04T13:20:10.917Z"
   },
   {
    "duration": 195,
    "start_time": "2022-06-04T13:20:32.446Z"
   },
   {
    "duration": 8,
    "start_time": "2022-06-04T14:00:16.745Z"
   },
   {
    "duration": 5,
    "start_time": "2022-06-04T14:00:24.946Z"
   },
   {
    "duration": 5,
    "start_time": "2022-06-04T14:01:49.796Z"
   },
   {
    "duration": 9,
    "start_time": "2022-06-04T14:01:51.592Z"
   },
   {
    "duration": 12,
    "start_time": "2022-06-04T14:01:52.555Z"
   },
   {
    "duration": 5,
    "start_time": "2022-06-04T14:01:54.345Z"
   },
   {
    "duration": 22,
    "start_time": "2022-06-04T14:02:13.092Z"
   },
   {
    "duration": 27,
    "start_time": "2022-06-04T14:03:10.557Z"
   },
   {
    "duration": 14,
    "start_time": "2022-06-04T14:03:54.864Z"
   },
   {
    "duration": 184,
    "start_time": "2022-06-04T14:05:40.800Z"
   },
   {
    "duration": 5,
    "start_time": "2022-06-04T14:11:34.217Z"
   },
   {
    "duration": 22,
    "start_time": "2022-06-04T14:11:36.320Z"
   },
   {
    "duration": 27,
    "start_time": "2022-06-04T14:12:00.117Z"
   },
   {
    "duration": 12,
    "start_time": "2022-06-04T14:26:59.993Z"
   },
   {
    "duration": 8,
    "start_time": "2022-06-04T14:27:30.736Z"
   },
   {
    "duration": 10,
    "start_time": "2022-06-04T14:27:46.919Z"
   },
   {
    "duration": 12,
    "start_time": "2022-06-04T14:28:08.497Z"
   },
   {
    "duration": 9,
    "start_time": "2022-06-04T14:28:22.893Z"
   },
   {
    "duration": 8,
    "start_time": "2022-06-04T14:28:35.322Z"
   },
   {
    "duration": 28,
    "start_time": "2022-06-04T14:28:49.242Z"
   },
   {
    "duration": 16,
    "start_time": "2022-06-04T14:33:34.417Z"
   },
   {
    "duration": 9,
    "start_time": "2022-06-04T14:35:46.734Z"
   },
   {
    "duration": 9,
    "start_time": "2022-06-04T14:36:05.628Z"
   },
   {
    "duration": 10,
    "start_time": "2022-06-04T14:36:51.430Z"
   },
   {
    "duration": 10,
    "start_time": "2022-06-04T14:37:29.448Z"
   },
   {
    "duration": 18,
    "start_time": "2022-06-04T14:37:52.525Z"
   },
   {
    "duration": 9,
    "start_time": "2022-06-04T14:38:02.933Z"
   },
   {
    "duration": 33,
    "start_time": "2022-06-04T14:46:47.633Z"
   },
   {
    "duration": 21,
    "start_time": "2022-06-04T14:47:02.130Z"
   },
   {
    "duration": 19,
    "start_time": "2022-06-04T14:47:11.615Z"
   },
   {
    "duration": 20,
    "start_time": "2022-06-04T14:47:36.721Z"
   },
   {
    "duration": 39,
    "start_time": "2022-06-04T14:48:23.838Z"
   },
   {
    "duration": 32,
    "start_time": "2022-06-04T14:48:41.718Z"
   },
   {
    "duration": 32,
    "start_time": "2022-06-04T14:54:51.910Z"
   },
   {
    "duration": 6,
    "start_time": "2022-06-04T14:56:30.827Z"
   },
   {
    "duration": 7,
    "start_time": "2022-06-04T14:56:54.220Z"
   },
   {
    "duration": 8,
    "start_time": "2022-06-04T14:56:58.912Z"
   },
   {
    "duration": 7,
    "start_time": "2022-06-04T14:56:59.833Z"
   },
   {
    "duration": 12,
    "start_time": "2022-06-04T14:57:02.557Z"
   },
   {
    "duration": 15,
    "start_time": "2022-06-04T14:57:18.429Z"
   },
   {
    "duration": 9,
    "start_time": "2022-06-04T14:57:30.570Z"
   },
   {
    "duration": 28,
    "start_time": "2022-06-04T14:58:26.468Z"
   },
   {
    "duration": 13,
    "start_time": "2022-06-04T14:59:04.272Z"
   },
   {
    "duration": 203,
    "start_time": "2022-06-04T14:59:32.806Z"
   },
   {
    "duration": 90,
    "start_time": "2022-06-04T15:03:02.042Z"
   },
   {
    "duration": 27,
    "start_time": "2022-06-04T15:05:14.795Z"
   },
   {
    "duration": 29,
    "start_time": "2022-06-04T15:05:41.761Z"
   },
   {
    "duration": 27,
    "start_time": "2022-06-04T15:07:27.760Z"
   },
   {
    "duration": 13,
    "start_time": "2022-06-04T15:10:04.792Z"
   },
   {
    "duration": 10,
    "start_time": "2022-06-04T15:10:21.614Z"
   },
   {
    "duration": 15,
    "start_time": "2022-06-04T15:12:23.355Z"
   },
   {
    "duration": 19,
    "start_time": "2022-06-04T15:12:33.038Z"
   },
   {
    "duration": 14,
    "start_time": "2022-06-04T15:15:15.194Z"
   },
   {
    "duration": 12,
    "start_time": "2022-06-04T15:15:38.808Z"
   },
   {
    "duration": 30,
    "start_time": "2022-06-04T15:17:38.579Z"
   },
   {
    "duration": 357,
    "start_time": "2022-06-04T15:19:36.510Z"
   },
   {
    "duration": 16,
    "start_time": "2022-06-04T15:20:05.114Z"
   },
   {
    "duration": 20,
    "start_time": "2022-06-04T15:25:00.946Z"
   },
   {
    "duration": 5,
    "start_time": "2022-06-04T15:25:55.032Z"
   },
   {
    "duration": 19,
    "start_time": "2022-06-04T15:31:36.775Z"
   },
   {
    "duration": 9,
    "start_time": "2022-06-04T15:32:19.647Z"
   },
   {
    "duration": 15,
    "start_time": "2022-06-04T15:34:50.783Z"
   },
   {
    "duration": 21,
    "start_time": "2022-06-04T15:41:50.595Z"
   },
   {
    "duration": 30,
    "start_time": "2022-06-04T15:42:10.999Z"
   },
   {
    "duration": 9,
    "start_time": "2022-06-04T15:42:28.979Z"
   },
   {
    "duration": 22,
    "start_time": "2022-06-04T15:42:40.102Z"
   },
   {
    "duration": 20,
    "start_time": "2022-06-04T15:43:07.689Z"
   },
   {
    "duration": 17,
    "start_time": "2022-06-04T15:43:13.182Z"
   },
   {
    "duration": 14,
    "start_time": "2022-06-04T15:54:06.901Z"
   },
   {
    "duration": 16,
    "start_time": "2022-06-04T15:58:52.683Z"
   },
   {
    "duration": 18,
    "start_time": "2022-06-04T15:59:10.629Z"
   },
   {
    "duration": 18,
    "start_time": "2022-06-04T15:59:42.388Z"
   },
   {
    "duration": 37,
    "start_time": "2022-06-04T15:59:53.293Z"
   },
   {
    "duration": 15,
    "start_time": "2022-06-04T16:00:12.187Z"
   },
   {
    "duration": 13,
    "start_time": "2022-06-04T16:00:28.058Z"
   },
   {
    "duration": 17,
    "start_time": "2022-06-04T16:00:44.399Z"
   },
   {
    "duration": 13,
    "start_time": "2022-06-04T16:02:39.474Z"
   },
   {
    "duration": 13,
    "start_time": "2022-06-04T16:02:48.708Z"
   },
   {
    "duration": 15,
    "start_time": "2022-06-04T16:13:45.280Z"
   },
   {
    "duration": 15,
    "start_time": "2022-06-04T16:14:49.484Z"
   },
   {
    "duration": 16,
    "start_time": "2022-06-04T16:15:30.108Z"
   },
   {
    "duration": 20,
    "start_time": "2022-06-04T16:16:00.914Z"
   },
   {
    "duration": 18,
    "start_time": "2022-06-04T16:16:45.593Z"
   },
   {
    "duration": 19,
    "start_time": "2022-06-04T16:17:17.585Z"
   },
   {
    "duration": 9,
    "start_time": "2022-06-04T16:20:17.908Z"
   },
   {
    "duration": 23,
    "start_time": "2022-06-04T16:21:59.987Z"
   },
   {
    "duration": 12,
    "start_time": "2022-06-04T16:26:07.462Z"
   },
   {
    "duration": 17,
    "start_time": "2022-06-04T16:26:17.949Z"
   },
   {
    "duration": 15,
    "start_time": "2022-06-04T16:28:05.004Z"
   },
   {
    "duration": 5,
    "start_time": "2022-06-04T16:34:22.833Z"
   },
   {
    "duration": 140,
    "start_time": "2022-06-04T16:38:09.862Z"
   },
   {
    "duration": 181,
    "start_time": "2022-06-04T16:39:08.036Z"
   },
   {
    "duration": 189,
    "start_time": "2022-06-04T16:40:18.626Z"
   },
   {
    "duration": 153,
    "start_time": "2022-06-04T16:40:39.948Z"
   },
   {
    "duration": 340,
    "start_time": "2022-06-04T16:41:24.410Z"
   },
   {
    "duration": 56,
    "start_time": "2022-06-04T16:49:52.224Z"
   },
   {
    "duration": 19,
    "start_time": "2022-06-04T16:50:06.863Z"
   },
   {
    "duration": 37,
    "start_time": "2022-06-04T16:51:11.255Z"
   },
   {
    "duration": 32,
    "start_time": "2022-06-04T17:05:34.198Z"
   },
   {
    "duration": 21,
    "start_time": "2022-06-04T17:05:49.992Z"
   },
   {
    "duration": 28,
    "start_time": "2022-06-04T17:06:37.024Z"
   },
   {
    "duration": 16,
    "start_time": "2022-06-04T17:08:48.546Z"
   },
   {
    "duration": 17,
    "start_time": "2022-06-04T17:09:07.248Z"
   },
   {
    "duration": 20,
    "start_time": "2022-06-04T17:09:10.863Z"
   },
   {
    "duration": 14,
    "start_time": "2022-06-04T17:17:03.933Z"
   },
   {
    "duration": 13,
    "start_time": "2022-06-04T17:17:48.704Z"
   },
   {
    "duration": 15,
    "start_time": "2022-06-04T17:18:10.633Z"
   },
   {
    "duration": 16,
    "start_time": "2022-06-04T17:18:26.468Z"
   },
   {
    "duration": 11,
    "start_time": "2022-06-04T17:28:16.045Z"
   },
   {
    "duration": 11,
    "start_time": "2022-06-04T17:29:14.933Z"
   },
   {
    "duration": 10,
    "start_time": "2022-06-04T17:29:26.192Z"
   },
   {
    "duration": 760,
    "start_time": "2022-06-04T17:29:44.439Z"
   },
   {
    "duration": 3,
    "start_time": "2022-06-04T17:29:45.325Z"
   },
   {
    "duration": 290,
    "start_time": "2022-06-04T17:29:46.293Z"
   },
   {
    "duration": 3,
    "start_time": "2022-06-04T17:29:47.125Z"
   },
   {
    "duration": 3,
    "start_time": "2022-06-04T17:29:47.422Z"
   },
   {
    "duration": 6,
    "start_time": "2022-06-04T17:29:47.908Z"
   },
   {
    "duration": 18,
    "start_time": "2022-06-04T17:29:48.893Z"
   },
   {
    "duration": 8,
    "start_time": "2022-06-04T17:29:49.145Z"
   },
   {
    "duration": 25,
    "start_time": "2022-06-04T17:29:50.605Z"
   },
   {
    "duration": 2,
    "start_time": "2022-06-04T17:29:50.897Z"
   },
   {
    "duration": 12,
    "start_time": "2022-06-04T17:29:51.108Z"
   },
   {
    "duration": 11,
    "start_time": "2022-06-04T17:29:51.609Z"
   },
   {
    "duration": 8,
    "start_time": "2022-06-04T17:29:51.960Z"
   },
   {
    "duration": 25,
    "start_time": "2022-06-04T17:29:52.419Z"
   },
   {
    "duration": 7,
    "start_time": "2022-06-04T17:29:52.900Z"
   },
   {
    "duration": 5,
    "start_time": "2022-06-04T17:29:53.194Z"
   },
   {
    "duration": 26,
    "start_time": "2022-06-04T17:29:53.618Z"
   },
   {
    "duration": 13,
    "start_time": "2022-06-04T17:29:53.906Z"
   },
   {
    "duration": 6,
    "start_time": "2022-06-04T17:29:54.407Z"
   },
   {
    "duration": 21,
    "start_time": "2022-06-04T17:29:54.704Z"
   },
   {
    "duration": 4,
    "start_time": "2022-06-04T17:29:55.107Z"
   },
   {
    "duration": 3,
    "start_time": "2022-06-04T17:29:57.561Z"
   },
   {
    "duration": 3,
    "start_time": "2022-06-04T17:29:57.996Z"
   },
   {
    "duration": 3,
    "start_time": "2022-06-04T17:29:58.410Z"
   },
   {
    "duration": 3,
    "start_time": "2022-06-04T17:29:58.662Z"
   },
   {
    "duration": 7,
    "start_time": "2022-06-04T17:30:11.196Z"
   },
   {
    "duration": 5,
    "start_time": "2022-06-04T17:30:11.524Z"
   },
   {
    "duration": 10,
    "start_time": "2022-06-04T17:30:11.801Z"
   },
   {
    "duration": 18,
    "start_time": "2022-06-04T17:30:12.227Z"
   },
   {
    "duration": 7,
    "start_time": "2022-06-04T17:30:12.792Z"
   },
   {
    "duration": 10,
    "start_time": "2022-06-04T17:30:13.104Z"
   },
   {
    "duration": 17,
    "start_time": "2022-06-04T17:30:13.358Z"
   },
   {
    "duration": 20,
    "start_time": "2022-06-04T17:30:13.626Z"
   },
   {
    "duration": 5,
    "start_time": "2022-06-04T17:30:14.065Z"
   },
   {
    "duration": 8,
    "start_time": "2022-06-04T17:30:14.306Z"
   },
   {
    "duration": 10,
    "start_time": "2022-06-04T17:30:16.459Z"
   },
   {
    "duration": 5,
    "start_time": "2022-06-04T17:30:16.726Z"
   },
   {
    "duration": 7,
    "start_time": "2022-06-04T17:30:17.007Z"
   },
   {
    "duration": 9,
    "start_time": "2022-06-04T17:30:17.424Z"
   },
   {
    "duration": 10,
    "start_time": "2022-06-04T17:30:17.705Z"
   },
   {
    "duration": 35,
    "start_time": "2022-06-04T17:30:18.333Z"
   },
   {
    "duration": 7,
    "start_time": "2022-06-04T17:30:18.738Z"
   },
   {
    "duration": 5,
    "start_time": "2022-06-04T17:30:20.047Z"
   },
   {
    "duration": 229,
    "start_time": "2022-06-04T17:30:20.508Z"
   },
   {
    "duration": 192,
    "start_time": "2022-06-04T17:30:21.043Z"
   },
   {
    "duration": 8,
    "start_time": "2022-06-04T17:30:21.305Z"
   },
   {
    "duration": 33,
    "start_time": "2022-06-04T17:30:22.106Z"
   },
   {
    "duration": 30,
    "start_time": "2022-06-04T17:30:22.624Z"
   },
   {
    "duration": 6,
    "start_time": "2022-06-04T17:30:23.415Z"
   },
   {
    "duration": 7,
    "start_time": "2022-06-04T17:30:25.164Z"
   },
   {
    "duration": 7,
    "start_time": "2022-06-04T17:30:25.412Z"
   },
   {
    "duration": 5,
    "start_time": "2022-06-04T17:30:26.037Z"
   },
   {
    "duration": 26,
    "start_time": "2022-06-04T17:30:26.801Z"
   },
   {
    "duration": 157,
    "start_time": "2022-06-04T17:30:27.761Z"
   },
   {
    "duration": 23,
    "start_time": "2022-06-04T17:30:29.147Z"
   },
   {
    "duration": 43,
    "start_time": "2022-06-04T17:30:32.351Z"
   },
   {
    "duration": 6,
    "start_time": "2022-06-04T17:30:35.520Z"
   },
   {
    "duration": 5,
    "start_time": "2022-06-04T17:30:36.400Z"
   },
   {
    "duration": 33,
    "start_time": "2022-06-04T17:30:37.108Z"
   },
   {
    "duration": 8,
    "start_time": "2022-06-04T17:30:38.826Z"
   },
   {
    "duration": 181,
    "start_time": "2022-06-04T17:30:40.824Z"
   },
   {
    "duration": 27,
    "start_time": "2022-06-04T17:30:42.818Z"
   },
   {
    "duration": 16,
    "start_time": "2022-06-04T17:30:44.705Z"
   },
   {
    "duration": 16,
    "start_time": "2022-06-04T17:30:46.820Z"
   },
   {
    "duration": 22,
    "start_time": "2022-06-04T17:30:48.911Z"
   },
   {
    "duration": 27,
    "start_time": "2022-06-04T17:30:50.748Z"
   },
   {
    "duration": 112,
    "start_time": "2022-06-04T17:31:00.003Z"
   },
   {
    "duration": 11,
    "start_time": "2022-06-04T17:31:11.504Z"
   },
   {
    "duration": 9,
    "start_time": "2022-06-04T17:31:27.093Z"
   },
   {
    "duration": 11,
    "start_time": "2022-06-04T17:31:41.240Z"
   },
   {
    "duration": 198,
    "start_time": "2022-06-04T17:32:28.796Z"
   },
   {
    "duration": 221,
    "start_time": "2022-06-04T17:32:41.157Z"
   },
   {
    "duration": 176,
    "start_time": "2022-06-04T17:32:53.510Z"
   },
   {
    "duration": 29,
    "start_time": "2022-06-04T17:37:19.025Z"
   },
   {
    "duration": 409,
    "start_time": "2022-06-04T17:37:27.724Z"
   },
   {
    "duration": 330,
    "start_time": "2022-06-04T17:37:50.420Z"
   },
   {
    "duration": 347,
    "start_time": "2022-06-04T17:38:10.058Z"
   },
   {
    "duration": 352,
    "start_time": "2022-06-04T17:38:25.366Z"
   },
   {
    "duration": 345,
    "start_time": "2022-06-04T17:41:18.088Z"
   },
   {
    "duration": 5,
    "start_time": "2022-06-04T17:45:59.961Z"
   },
   {
    "duration": 7,
    "start_time": "2022-06-04T17:46:31.830Z"
   },
   {
    "duration": 10,
    "start_time": "2022-06-04T17:48:11.544Z"
   },
   {
    "duration": 8,
    "start_time": "2022-06-04T17:48:47.421Z"
   },
   {
    "duration": 6,
    "start_time": "2022-06-04T17:51:21.025Z"
   },
   {
    "duration": 4,
    "start_time": "2022-06-04T17:51:32.925Z"
   },
   {
    "duration": 4,
    "start_time": "2022-06-04T17:51:51.109Z"
   },
   {
    "duration": 29,
    "start_time": "2022-06-04T17:54:10.563Z"
   },
   {
    "duration": 6,
    "start_time": "2022-06-04T17:54:31.614Z"
   },
   {
    "duration": 10,
    "start_time": "2022-06-04T17:54:35.033Z"
   },
   {
    "duration": 4,
    "start_time": "2022-06-04T17:55:50.540Z"
   },
   {
    "duration": 5,
    "start_time": "2022-06-04T17:57:07.444Z"
   },
   {
    "duration": 6,
    "start_time": "2022-06-04T17:57:09.496Z"
   },
   {
    "duration": 4,
    "start_time": "2022-06-04T17:57:10.704Z"
   },
   {
    "duration": 9,
    "start_time": "2022-06-04T17:57:14.814Z"
   },
   {
    "duration": 5,
    "start_time": "2022-06-04T17:57:26.312Z"
   },
   {
    "duration": 5,
    "start_time": "2022-06-04T17:57:27.516Z"
   },
   {
    "duration": 48,
    "start_time": "2022-06-04T18:06:50.743Z"
   },
   {
    "duration": 18,
    "start_time": "2022-06-04T18:20:24.687Z"
   },
   {
    "duration": 5,
    "start_time": "2022-06-04T18:35:13.687Z"
   },
   {
    "duration": 9,
    "start_time": "2022-06-04T18:35:39.126Z"
   },
   {
    "duration": 5,
    "start_time": "2022-06-04T18:38:54.780Z"
   },
   {
    "duration": 5,
    "start_time": "2022-06-04T18:39:53.082Z"
   },
   {
    "duration": 26,
    "start_time": "2022-06-04T18:40:01.499Z"
   },
   {
    "duration": 6,
    "start_time": "2022-06-04T18:41:04.500Z"
   },
   {
    "duration": 23,
    "start_time": "2022-06-04T18:41:14.301Z"
   },
   {
    "duration": 7,
    "start_time": "2022-06-04T18:46:48.091Z"
   },
   {
    "duration": 42,
    "start_time": "2022-06-04T18:47:38.077Z"
   },
   {
    "duration": 11,
    "start_time": "2022-06-04T18:54:24.327Z"
   },
   {
    "duration": 5,
    "start_time": "2022-06-04T18:57:35.603Z"
   },
   {
    "duration": 19,
    "start_time": "2022-06-04T18:57:44.506Z"
   },
   {
    "duration": 13,
    "start_time": "2022-06-04T18:58:51.236Z"
   },
   {
    "duration": 32,
    "start_time": "2022-06-04T19:24:21.205Z"
   },
   {
    "duration": 9,
    "start_time": "2022-06-04T19:24:34.521Z"
   },
   {
    "duration": 30,
    "start_time": "2022-06-04T19:25:36.592Z"
   },
   {
    "duration": 7,
    "start_time": "2022-06-04T19:25:52.745Z"
   },
   {
    "duration": 12,
    "start_time": "2022-06-04T19:26:25.386Z"
   },
   {
    "duration": 26,
    "start_time": "2022-06-04T19:27:24.800Z"
   },
   {
    "duration": 20,
    "start_time": "2022-06-04T19:29:27.574Z"
   },
   {
    "duration": 18,
    "start_time": "2022-06-04T19:33:49.094Z"
   },
   {
    "duration": 783,
    "start_time": "2022-06-04T19:45:47.146Z"
   },
   {
    "duration": 4,
    "start_time": "2022-06-04T19:45:47.931Z"
   },
   {
    "duration": 134,
    "start_time": "2022-06-04T19:45:47.936Z"
   },
   {
    "duration": 16,
    "start_time": "2022-06-04T19:45:48.072Z"
   },
   {
    "duration": 91,
    "start_time": "2022-06-04T19:45:48.089Z"
   },
   {
    "duration": 0,
    "start_time": "2022-06-04T19:45:48.182Z"
   },
   {
    "duration": 0,
    "start_time": "2022-06-04T19:45:48.183Z"
   },
   {
    "duration": 0,
    "start_time": "2022-06-04T19:45:48.184Z"
   },
   {
    "duration": 0,
    "start_time": "2022-06-04T19:45:48.185Z"
   },
   {
    "duration": 0,
    "start_time": "2022-06-04T19:45:48.186Z"
   },
   {
    "duration": 0,
    "start_time": "2022-06-04T19:45:48.187Z"
   },
   {
    "duration": 0,
    "start_time": "2022-06-04T19:45:48.188Z"
   },
   {
    "duration": 0,
    "start_time": "2022-06-04T19:45:48.189Z"
   },
   {
    "duration": 0,
    "start_time": "2022-06-04T19:45:48.190Z"
   },
   {
    "duration": 0,
    "start_time": "2022-06-04T19:45:48.192Z"
   },
   {
    "duration": 0,
    "start_time": "2022-06-04T19:45:48.193Z"
   },
   {
    "duration": 0,
    "start_time": "2022-06-04T19:45:48.194Z"
   },
   {
    "duration": 0,
    "start_time": "2022-06-04T19:45:48.195Z"
   },
   {
    "duration": 0,
    "start_time": "2022-06-04T19:45:48.196Z"
   },
   {
    "duration": 0,
    "start_time": "2022-06-04T19:45:48.197Z"
   },
   {
    "duration": 0,
    "start_time": "2022-06-04T19:45:48.198Z"
   },
   {
    "duration": 0,
    "start_time": "2022-06-04T19:45:48.199Z"
   },
   {
    "duration": 0,
    "start_time": "2022-06-04T19:45:48.226Z"
   },
   {
    "duration": 0,
    "start_time": "2022-06-04T19:45:48.227Z"
   },
   {
    "duration": 0,
    "start_time": "2022-06-04T19:45:48.228Z"
   },
   {
    "duration": 0,
    "start_time": "2022-06-04T19:45:48.230Z"
   },
   {
    "duration": 0,
    "start_time": "2022-06-04T19:45:48.230Z"
   },
   {
    "duration": 0,
    "start_time": "2022-06-04T19:45:48.232Z"
   },
   {
    "duration": 0,
    "start_time": "2022-06-04T19:45:48.233Z"
   },
   {
    "duration": 0,
    "start_time": "2022-06-04T19:45:48.234Z"
   },
   {
    "duration": 0,
    "start_time": "2022-06-04T19:45:48.235Z"
   },
   {
    "duration": 0,
    "start_time": "2022-06-04T19:45:48.236Z"
   },
   {
    "duration": 0,
    "start_time": "2022-06-04T19:45:48.237Z"
   },
   {
    "duration": 0,
    "start_time": "2022-06-04T19:45:48.238Z"
   },
   {
    "duration": 0,
    "start_time": "2022-06-04T19:45:48.239Z"
   },
   {
    "duration": 0,
    "start_time": "2022-06-04T19:45:48.240Z"
   },
   {
    "duration": 0,
    "start_time": "2022-06-04T19:45:48.241Z"
   },
   {
    "duration": 0,
    "start_time": "2022-06-04T19:45:48.242Z"
   },
   {
    "duration": 11,
    "start_time": "2022-06-04T19:45:48.245Z"
   },
   {
    "duration": 0,
    "start_time": "2022-06-04T19:45:48.257Z"
   },
   {
    "duration": 0,
    "start_time": "2022-06-04T19:45:48.258Z"
   },
   {
    "duration": 0,
    "start_time": "2022-06-04T19:45:48.259Z"
   },
   {
    "duration": 0,
    "start_time": "2022-06-04T19:45:48.261Z"
   },
   {
    "duration": 68,
    "start_time": "2022-06-04T19:45:48.263Z"
   },
   {
    "duration": 18,
    "start_time": "2022-06-04T19:45:48.334Z"
   },
   {
    "duration": 0,
    "start_time": "2022-06-04T19:45:48.354Z"
   },
   {
    "duration": 0,
    "start_time": "2022-06-04T19:45:48.355Z"
   },
   {
    "duration": 0,
    "start_time": "2022-06-04T19:45:48.356Z"
   },
   {
    "duration": 0,
    "start_time": "2022-06-04T19:45:48.357Z"
   },
   {
    "duration": 40,
    "start_time": "2022-06-04T19:45:48.392Z"
   },
   {
    "duration": 0,
    "start_time": "2022-06-04T19:45:48.433Z"
   },
   {
    "duration": 0,
    "start_time": "2022-06-04T19:45:48.435Z"
   },
   {
    "duration": 0,
    "start_time": "2022-06-04T19:45:48.436Z"
   },
   {
    "duration": 11,
    "start_time": "2022-06-04T19:45:48.451Z"
   },
   {
    "duration": 10,
    "start_time": "2022-06-04T19:45:48.493Z"
   },
   {
    "duration": 0,
    "start_time": "2022-06-04T19:45:48.505Z"
   },
   {
    "duration": 9,
    "start_time": "2022-06-04T19:45:48.519Z"
   },
   {
    "duration": 18,
    "start_time": "2022-06-04T19:45:48.533Z"
   },
   {
    "duration": 0,
    "start_time": "2022-06-04T19:45:48.553Z"
   },
   {
    "duration": 15,
    "start_time": "2022-06-04T19:45:48.562Z"
   },
   {
    "duration": 7,
    "start_time": "2022-06-04T19:45:48.589Z"
   },
   {
    "duration": 7,
    "start_time": "2022-06-04T19:45:48.612Z"
   },
   {
    "duration": 0,
    "start_time": "2022-06-04T19:45:48.621Z"
   },
   {
    "duration": 8,
    "start_time": "2022-06-04T19:45:48.636Z"
   },
   {
    "duration": 8,
    "start_time": "2022-06-04T19:45:48.656Z"
   },
   {
    "duration": 12,
    "start_time": "2022-06-04T19:45:48.690Z"
   },
   {
    "duration": 1,
    "start_time": "2022-06-04T19:45:48.703Z"
   },
   {
    "duration": 11,
    "start_time": "2022-06-04T19:45:48.713Z"
   },
   {
    "duration": 12,
    "start_time": "2022-06-04T19:45:49.059Z"
   },
   {
    "duration": 12,
    "start_time": "2022-06-04T19:45:49.432Z"
   },
   {
    "duration": 0,
    "start_time": "2022-06-04T19:45:49.446Z"
   },
   {
    "duration": 17,
    "start_time": "2022-06-04T19:45:49.447Z"
   },
   {
    "duration": 9,
    "start_time": "2022-06-04T19:45:49.495Z"
   },
   {
    "duration": 0,
    "start_time": "2022-06-04T19:45:49.506Z"
   },
   {
    "duration": 8,
    "start_time": "2022-06-04T19:45:49.545Z"
   },
   {
    "duration": 9,
    "start_time": "2022-06-04T19:45:49.604Z"
   },
   {
    "duration": 9,
    "start_time": "2022-06-04T19:45:49.647Z"
   },
   {
    "duration": 8,
    "start_time": "2022-06-04T19:45:49.689Z"
   },
   {
    "duration": 0,
    "start_time": "2022-06-04T19:45:49.698Z"
   },
   {
    "duration": 18,
    "start_time": "2022-06-04T19:46:22.946Z"
   },
   {
    "duration": 745,
    "start_time": "2022-06-04T19:46:53.590Z"
   },
   {
    "duration": 3,
    "start_time": "2022-06-04T19:46:54.337Z"
   },
   {
    "duration": 152,
    "start_time": "2022-06-04T19:46:54.342Z"
   },
   {
    "duration": 22,
    "start_time": "2022-06-04T19:46:54.497Z"
   },
   {
    "duration": 16,
    "start_time": "2022-06-04T19:46:54.522Z"
   },
   {
    "duration": 37,
    "start_time": "2022-06-04T19:46:54.540Z"
   },
   {
    "duration": 54,
    "start_time": "2022-06-04T19:46:54.580Z"
   },
   {
    "duration": 20,
    "start_time": "2022-06-04T19:46:54.636Z"
   },
   {
    "duration": 39,
    "start_time": "2022-06-04T19:46:54.658Z"
   },
   {
    "duration": 94,
    "start_time": "2022-06-04T19:46:54.699Z"
   },
   {
    "duration": 11,
    "start_time": "2022-06-04T19:46:54.795Z"
   },
   {
    "duration": 28,
    "start_time": "2022-06-04T19:46:54.808Z"
   },
   {
    "duration": 18,
    "start_time": "2022-06-04T19:46:54.838Z"
   },
   {
    "duration": 26,
    "start_time": "2022-06-04T19:46:54.858Z"
   },
   {
    "duration": 4,
    "start_time": "2022-06-04T19:46:54.887Z"
   },
   {
    "duration": 14,
    "start_time": "2022-06-04T19:46:54.893Z"
   },
   {
    "duration": 9,
    "start_time": "2022-06-04T19:46:54.909Z"
   },
   {
    "duration": 30,
    "start_time": "2022-06-04T19:46:54.920Z"
   },
   {
    "duration": 9,
    "start_time": "2022-06-04T19:46:54.951Z"
   },
   {
    "duration": 5,
    "start_time": "2022-06-04T19:46:54.961Z"
   },
   {
    "duration": 30,
    "start_time": "2022-06-04T19:46:54.967Z"
   },
   {
    "duration": 23,
    "start_time": "2022-06-04T19:46:54.998Z"
   },
   {
    "duration": 13,
    "start_time": "2022-06-04T19:46:55.023Z"
   },
   {
    "duration": 7,
    "start_time": "2022-06-04T19:46:55.038Z"
   },
   {
    "duration": 31,
    "start_time": "2022-06-04T19:46:55.047Z"
   },
   {
    "duration": 33,
    "start_time": "2022-06-04T19:46:55.080Z"
   },
   {
    "duration": 11,
    "start_time": "2022-06-04T19:46:55.115Z"
   },
   {
    "duration": 21,
    "start_time": "2022-06-04T19:46:55.128Z"
   },
   {
    "duration": 19,
    "start_time": "2022-06-04T19:46:55.151Z"
   },
   {
    "duration": 22,
    "start_time": "2022-06-04T19:46:55.172Z"
   },
   {
    "duration": 13,
    "start_time": "2022-06-04T19:46:55.196Z"
   },
   {
    "duration": 18,
    "start_time": "2022-06-04T19:46:55.210Z"
   },
   {
    "duration": 17,
    "start_time": "2022-06-04T19:46:55.230Z"
   },
   {
    "duration": 27,
    "start_time": "2022-06-04T19:46:55.248Z"
   },
   {
    "duration": 13,
    "start_time": "2022-06-04T19:46:55.277Z"
   },
   {
    "duration": 7,
    "start_time": "2022-06-04T19:46:55.292Z"
   },
   {
    "duration": 27,
    "start_time": "2022-06-04T19:46:55.301Z"
   },
   {
    "duration": 7,
    "start_time": "2022-06-04T19:46:55.329Z"
   },
   {
    "duration": 10,
    "start_time": "2022-06-04T19:46:55.339Z"
   },
   {
    "duration": 8,
    "start_time": "2022-06-04T19:46:55.351Z"
   },
   {
    "duration": 7,
    "start_time": "2022-06-04T19:46:55.364Z"
   },
   {
    "duration": 60,
    "start_time": "2022-06-04T19:46:55.372Z"
   },
   {
    "duration": 6,
    "start_time": "2022-06-04T19:46:55.435Z"
   },
   {
    "duration": 38,
    "start_time": "2022-06-04T19:46:55.442Z"
   },
   {
    "duration": 264,
    "start_time": "2022-06-04T19:46:55.483Z"
   },
   {
    "duration": 190,
    "start_time": "2022-06-04T19:46:55.749Z"
   },
   {
    "duration": 6,
    "start_time": "2022-06-04T19:46:55.941Z"
   },
   {
    "duration": 46,
    "start_time": "2022-06-04T19:46:55.949Z"
   },
   {
    "duration": 21,
    "start_time": "2022-06-04T19:46:55.997Z"
   },
   {
    "duration": 17,
    "start_time": "2022-06-04T19:46:56.019Z"
   },
   {
    "duration": 13,
    "start_time": "2022-06-04T19:46:56.038Z"
   },
   {
    "duration": 31,
    "start_time": "2022-06-04T19:46:56.052Z"
   },
   {
    "duration": 24,
    "start_time": "2022-06-04T19:46:56.085Z"
   },
   {
    "duration": 149,
    "start_time": "2022-06-04T19:46:56.111Z"
   },
   {
    "duration": 22,
    "start_time": "2022-06-04T19:46:56.262Z"
   },
   {
    "duration": 69,
    "start_time": "2022-06-04T19:46:56.286Z"
   },
   {
    "duration": 5,
    "start_time": "2022-06-04T19:46:56.357Z"
   },
   {
    "duration": 7,
    "start_time": "2022-06-04T19:46:56.363Z"
   },
   {
    "duration": 12,
    "start_time": "2022-06-04T19:46:56.371Z"
   },
   {
    "duration": 18,
    "start_time": "2022-06-04T19:46:56.385Z"
   },
   {
    "duration": 7,
    "start_time": "2022-06-04T19:46:56.405Z"
   },
   {
    "duration": 16,
    "start_time": "2022-06-04T19:46:56.413Z"
   },
   {
    "duration": 5,
    "start_time": "2022-06-04T19:46:56.431Z"
   },
   {
    "duration": 9,
    "start_time": "2022-06-04T19:46:56.438Z"
   },
   {
    "duration": 11,
    "start_time": "2022-06-04T19:46:56.449Z"
   },
   {
    "duration": 190,
    "start_time": "2022-06-04T19:46:56.462Z"
   },
   {
    "duration": 25,
    "start_time": "2022-06-04T19:46:56.654Z"
   },
   {
    "duration": 13,
    "start_time": "2022-06-04T19:46:56.681Z"
   },
   {
    "duration": 33,
    "start_time": "2022-06-04T19:46:56.696Z"
   },
   {
    "duration": 36,
    "start_time": "2022-06-04T19:46:56.731Z"
   },
   {
    "duration": 27,
    "start_time": "2022-06-04T19:46:56.768Z"
   },
   {
    "duration": 23,
    "start_time": "2022-06-04T19:46:56.797Z"
   },
   {
    "duration": 361,
    "start_time": "2022-06-04T19:46:56.822Z"
   },
   {
    "duration": 17,
    "start_time": "2022-06-04T19:46:57.186Z"
   },
   {
    "duration": 29,
    "start_time": "2022-06-04T19:46:57.205Z"
   },
   {
    "duration": 27,
    "start_time": "2022-06-04T19:46:57.237Z"
   },
   {
    "duration": 17,
    "start_time": "2022-06-04T19:46:57.266Z"
   },
   {
    "duration": 14,
    "start_time": "2022-06-04T19:46:57.284Z"
   },
   {
    "duration": 226,
    "start_time": "2022-06-04T19:46:57.300Z"
   },
   {
    "duration": 664,
    "start_time": "2022-06-05T07:44:17.659Z"
   },
   {
    "duration": 3,
    "start_time": "2022-06-05T07:44:18.325Z"
   },
   {
    "duration": 145,
    "start_time": "2022-06-05T07:44:18.330Z"
   },
   {
    "duration": 19,
    "start_time": "2022-06-05T07:44:18.477Z"
   },
   {
    "duration": 13,
    "start_time": "2022-06-05T07:44:18.499Z"
   },
   {
    "duration": 9,
    "start_time": "2022-06-05T07:44:18.513Z"
   },
   {
    "duration": 14,
    "start_time": "2022-06-05T07:44:18.523Z"
   },
   {
    "duration": 6,
    "start_time": "2022-06-05T07:44:18.539Z"
   },
   {
    "duration": 22,
    "start_time": "2022-06-05T07:44:18.547Z"
   },
   {
    "duration": 75,
    "start_time": "2022-06-05T07:44:18.571Z"
   },
   {
    "duration": 8,
    "start_time": "2022-06-05T07:44:18.647Z"
   },
   {
    "duration": 10,
    "start_time": "2022-06-05T07:44:18.657Z"
   },
   {
    "duration": 9,
    "start_time": "2022-06-05T07:44:18.669Z"
   },
   {
    "duration": 20,
    "start_time": "2022-06-05T07:44:18.682Z"
   },
   {
    "duration": 5,
    "start_time": "2022-06-05T07:44:18.726Z"
   },
   {
    "duration": 8,
    "start_time": "2022-06-05T07:44:18.732Z"
   },
   {
    "duration": 7,
    "start_time": "2022-06-05T07:44:18.742Z"
   },
   {
    "duration": 21,
    "start_time": "2022-06-05T07:44:18.750Z"
   },
   {
    "duration": 12,
    "start_time": "2022-06-05T07:44:18.774Z"
   },
   {
    "duration": 9,
    "start_time": "2022-06-05T07:44:18.788Z"
   },
   {
    "duration": 44,
    "start_time": "2022-06-05T07:44:18.799Z"
   },
   {
    "duration": 3,
    "start_time": "2022-06-05T07:44:18.845Z"
   },
   {
    "duration": 7,
    "start_time": "2022-06-05T07:44:18.850Z"
   },
   {
    "duration": 9,
    "start_time": "2022-06-05T07:44:18.858Z"
   },
   {
    "duration": 27,
    "start_time": "2022-06-05T07:44:18.868Z"
   },
   {
    "duration": 48,
    "start_time": "2022-06-05T07:44:18.897Z"
   },
   {
    "duration": 13,
    "start_time": "2022-06-05T07:44:18.947Z"
   },
   {
    "duration": 14,
    "start_time": "2022-06-05T07:44:18.962Z"
   },
   {
    "duration": 18,
    "start_time": "2022-06-05T07:44:18.978Z"
   },
   {
    "duration": 30,
    "start_time": "2022-06-05T07:44:18.998Z"
   },
   {
    "duration": 7,
    "start_time": "2022-06-05T07:44:19.030Z"
   },
   {
    "duration": 15,
    "start_time": "2022-06-05T07:44:19.038Z"
   },
   {
    "duration": 16,
    "start_time": "2022-06-05T07:44:19.055Z"
   },
   {
    "duration": 34,
    "start_time": "2022-06-05T07:44:19.073Z"
   },
   {
    "duration": 19,
    "start_time": "2022-06-05T07:44:19.109Z"
   },
   {
    "duration": 7,
    "start_time": "2022-06-05T07:44:19.130Z"
   },
   {
    "duration": 8,
    "start_time": "2022-06-05T07:44:19.139Z"
   },
   {
    "duration": 9,
    "start_time": "2022-06-05T07:44:19.149Z"
   },
   {
    "duration": 9,
    "start_time": "2022-06-05T07:44:19.160Z"
   },
   {
    "duration": 14,
    "start_time": "2022-06-05T07:44:19.171Z"
   },
   {
    "duration": 9,
    "start_time": "2022-06-05T07:44:19.189Z"
   },
   {
    "duration": 25,
    "start_time": "2022-06-05T07:44:19.227Z"
   },
   {
    "duration": 6,
    "start_time": "2022-06-05T07:44:19.254Z"
   },
   {
    "duration": 7,
    "start_time": "2022-06-05T07:44:19.261Z"
   },
   {
    "duration": 234,
    "start_time": "2022-06-05T07:44:19.270Z"
   },
   {
    "duration": 195,
    "start_time": "2022-06-05T07:44:19.505Z"
   },
   {
    "duration": 8,
    "start_time": "2022-06-05T07:44:19.702Z"
   },
   {
    "duration": 38,
    "start_time": "2022-06-05T07:44:19.711Z"
   },
   {
    "duration": 20,
    "start_time": "2022-06-05T07:44:19.751Z"
   },
   {
    "duration": 7,
    "start_time": "2022-06-05T07:44:19.772Z"
   },
   {
    "duration": 12,
    "start_time": "2022-06-05T07:44:19.780Z"
   },
   {
    "duration": 7,
    "start_time": "2022-06-05T07:44:19.793Z"
   },
   {
    "duration": 46,
    "start_time": "2022-06-05T07:44:19.802Z"
   },
   {
    "duration": 153,
    "start_time": "2022-06-05T07:44:19.850Z"
   },
   {
    "duration": 26,
    "start_time": "2022-06-05T07:44:20.005Z"
   },
   {
    "duration": 39,
    "start_time": "2022-06-05T07:44:20.033Z"
   },
   {
    "duration": 5,
    "start_time": "2022-06-05T07:44:20.074Z"
   },
   {
    "duration": 14,
    "start_time": "2022-06-05T07:44:20.080Z"
   },
   {
    "duration": 10,
    "start_time": "2022-06-05T07:44:20.096Z"
   },
   {
    "duration": 24,
    "start_time": "2022-06-05T07:44:20.108Z"
   },
   {
    "duration": 7,
    "start_time": "2022-06-05T07:44:20.133Z"
   },
   {
    "duration": 10,
    "start_time": "2022-06-05T07:44:20.141Z"
   },
   {
    "duration": 8,
    "start_time": "2022-06-05T07:44:20.152Z"
   },
   {
    "duration": 9,
    "start_time": "2022-06-05T07:44:20.161Z"
   },
   {
    "duration": 9,
    "start_time": "2022-06-05T07:44:20.172Z"
   },
   {
    "duration": 189,
    "start_time": "2022-06-05T07:44:20.183Z"
   },
   {
    "duration": 30,
    "start_time": "2022-06-05T07:44:20.374Z"
   },
   {
    "duration": 22,
    "start_time": "2022-06-05T07:44:20.406Z"
   },
   {
    "duration": 19,
    "start_time": "2022-06-05T07:44:20.430Z"
   },
   {
    "duration": 13,
    "start_time": "2022-06-05T07:44:20.450Z"
   },
   {
    "duration": 16,
    "start_time": "2022-06-05T07:44:20.464Z"
   },
   {
    "duration": 52,
    "start_time": "2022-06-05T07:44:20.483Z"
   },
   {
    "duration": 373,
    "start_time": "2022-06-05T07:44:20.537Z"
   },
   {
    "duration": 17,
    "start_time": "2022-06-05T07:44:20.911Z"
   },
   {
    "duration": 14,
    "start_time": "2022-06-05T07:44:20.929Z"
   },
   {
    "duration": 17,
    "start_time": "2022-06-05T07:44:20.945Z"
   },
   {
    "duration": 12,
    "start_time": "2022-06-05T07:44:20.965Z"
   },
   {
    "duration": 9,
    "start_time": "2022-06-05T07:44:20.979Z"
   },
   {
    "duration": 195,
    "start_time": "2022-06-05T07:44:20.989Z"
   },
   {
    "duration": 12,
    "start_time": "2022-06-05T07:59:14.408Z"
   },
   {
    "duration": 17,
    "start_time": "2022-06-05T07:59:42.417Z"
   },
   {
    "duration": 674,
    "start_time": "2022-06-05T08:12:11.726Z"
   },
   {
    "duration": 4,
    "start_time": "2022-06-05T08:12:12.402Z"
   },
   {
    "duration": 132,
    "start_time": "2022-06-05T08:12:12.407Z"
   },
   {
    "duration": 16,
    "start_time": "2022-06-05T08:12:12.541Z"
   },
   {
    "duration": 9,
    "start_time": "2022-06-05T08:12:12.560Z"
   },
   {
    "duration": 8,
    "start_time": "2022-06-05T08:12:12.571Z"
   },
   {
    "duration": 17,
    "start_time": "2022-06-05T08:12:12.580Z"
   },
   {
    "duration": 5,
    "start_time": "2022-06-05T08:12:12.599Z"
   },
   {
    "duration": 38,
    "start_time": "2022-06-05T08:12:12.606Z"
   },
   {
    "duration": 83,
    "start_time": "2022-06-05T08:12:12.646Z"
   },
   {
    "duration": 11,
    "start_time": "2022-06-05T08:12:12.731Z"
   },
   {
    "duration": 12,
    "start_time": "2022-06-05T08:12:12.745Z"
   },
   {
    "duration": 14,
    "start_time": "2022-06-05T08:12:12.759Z"
   },
   {
    "duration": 21,
    "start_time": "2022-06-05T08:12:12.775Z"
   },
   {
    "duration": 7,
    "start_time": "2022-06-05T08:12:12.798Z"
   },
   {
    "duration": 25,
    "start_time": "2022-06-05T08:12:12.806Z"
   },
   {
    "duration": 7,
    "start_time": "2022-06-05T08:12:12.833Z"
   },
   {
    "duration": 56,
    "start_time": "2022-06-05T08:12:12.857Z"
   },
   {
    "duration": 12,
    "start_time": "2022-06-05T08:12:12.915Z"
   },
   {
    "duration": 10,
    "start_time": "2022-06-05T08:12:12.928Z"
   },
   {
    "duration": 27,
    "start_time": "2022-06-05T08:12:12.940Z"
   },
   {
    "duration": 9,
    "start_time": "2022-06-05T08:12:12.969Z"
   },
   {
    "duration": 10,
    "start_time": "2022-06-05T08:12:12.980Z"
   },
   {
    "duration": 8,
    "start_time": "2022-06-05T08:12:12.992Z"
   },
   {
    "duration": 33,
    "start_time": "2022-06-05T08:12:13.002Z"
   },
   {
    "duration": 26,
    "start_time": "2022-06-05T08:12:13.037Z"
   },
   {
    "duration": 14,
    "start_time": "2022-06-05T08:12:13.065Z"
   },
   {
    "duration": 3,
    "start_time": "2022-06-05T08:12:15.412Z"
   },
   {
    "duration": 6,
    "start_time": "2022-06-05T08:12:18.056Z"
   },
   {
    "duration": 25,
    "start_time": "2022-06-05T08:12:27.581Z"
   },
   {
    "duration": 541,
    "start_time": "2022-06-05T08:40:58.616Z"
   },
   {
    "duration": 809,
    "start_time": "2022-06-05T08:41:06.294Z"
   },
   {
    "duration": 3,
    "start_time": "2022-06-05T08:41:07.106Z"
   },
   {
    "duration": 143,
    "start_time": "2022-06-05T08:41:07.111Z"
   },
   {
    "duration": 18,
    "start_time": "2022-06-05T08:41:07.256Z"
   },
   {
    "duration": 24,
    "start_time": "2022-06-05T08:41:07.276Z"
   },
   {
    "duration": 16,
    "start_time": "2022-06-05T08:41:07.302Z"
   },
   {
    "duration": 34,
    "start_time": "2022-06-05T08:41:07.319Z"
   },
   {
    "duration": 20,
    "start_time": "2022-06-05T08:41:07.355Z"
   },
   {
    "duration": 28,
    "start_time": "2022-06-05T08:41:07.377Z"
   },
   {
    "duration": 72,
    "start_time": "2022-06-05T08:41:07.407Z"
   },
   {
    "duration": 8,
    "start_time": "2022-06-05T08:41:07.481Z"
   },
   {
    "duration": 21,
    "start_time": "2022-06-05T08:41:07.493Z"
   },
   {
    "duration": 28,
    "start_time": "2022-06-05T08:41:07.515Z"
   },
   {
    "duration": 40,
    "start_time": "2022-06-05T08:41:07.547Z"
   },
   {
    "duration": 7,
    "start_time": "2022-06-05T08:41:07.589Z"
   },
   {
    "duration": 24,
    "start_time": "2022-06-05T08:41:07.598Z"
   },
   {
    "duration": 29,
    "start_time": "2022-06-05T08:41:07.624Z"
   },
   {
    "duration": 31,
    "start_time": "2022-06-05T08:41:07.654Z"
   },
   {
    "duration": 9,
    "start_time": "2022-06-05T08:41:07.688Z"
   },
   {
    "duration": 35,
    "start_time": "2022-06-05T08:41:07.699Z"
   },
   {
    "duration": 39,
    "start_time": "2022-06-05T08:41:07.735Z"
   },
   {
    "duration": 17,
    "start_time": "2022-06-05T08:41:07.776Z"
   },
   {
    "duration": 27,
    "start_time": "2022-06-05T08:41:07.795Z"
   },
   {
    "duration": 31,
    "start_time": "2022-06-05T08:41:07.824Z"
   },
   {
    "duration": 39,
    "start_time": "2022-06-05T08:41:07.857Z"
   },
   {
    "duration": 42,
    "start_time": "2022-06-05T08:41:07.897Z"
   },
   {
    "duration": 20,
    "start_time": "2022-06-05T08:41:07.942Z"
   },
   {
    "duration": 30,
    "start_time": "2022-06-05T08:41:07.964Z"
   },
   {
    "duration": 31,
    "start_time": "2022-06-05T08:41:07.996Z"
   },
   {
    "duration": 34,
    "start_time": "2022-06-05T08:41:08.029Z"
   },
   {
    "duration": 32,
    "start_time": "2022-06-05T08:41:08.065Z"
   },
   {
    "duration": 21,
    "start_time": "2022-06-05T08:41:08.099Z"
   },
   {
    "duration": 29,
    "start_time": "2022-06-05T08:41:08.122Z"
   },
   {
    "duration": 46,
    "start_time": "2022-06-05T08:41:08.153Z"
   },
   {
    "duration": 20,
    "start_time": "2022-06-05T08:41:08.201Z"
   },
   {
    "duration": 31,
    "start_time": "2022-06-05T08:41:08.222Z"
   },
   {
    "duration": 40,
    "start_time": "2022-06-05T08:41:08.255Z"
   },
   {
    "duration": 20,
    "start_time": "2022-06-05T08:41:08.297Z"
   },
   {
    "duration": 34,
    "start_time": "2022-06-05T08:41:08.319Z"
   },
   {
    "duration": 38,
    "start_time": "2022-06-05T08:41:08.355Z"
   },
   {
    "duration": 11,
    "start_time": "2022-06-05T08:41:08.400Z"
   },
   {
    "duration": 53,
    "start_time": "2022-06-05T08:41:08.412Z"
   },
   {
    "duration": 7,
    "start_time": "2022-06-05T08:41:08.467Z"
   },
   {
    "duration": 27,
    "start_time": "2022-06-05T08:41:08.476Z"
   },
   {
    "duration": 238,
    "start_time": "2022-06-05T08:41:08.504Z"
   },
   {
    "duration": 261,
    "start_time": "2022-06-05T08:41:08.744Z"
   },
   {
    "duration": 7,
    "start_time": "2022-06-05T08:41:09.008Z"
   },
   {
    "duration": 48,
    "start_time": "2022-06-05T08:41:09.026Z"
   },
   {
    "duration": 22,
    "start_time": "2022-06-05T08:41:09.076Z"
   },
   {
    "duration": 28,
    "start_time": "2022-06-05T08:41:09.100Z"
   },
   {
    "duration": 26,
    "start_time": "2022-06-05T08:41:09.130Z"
   },
   {
    "duration": 16,
    "start_time": "2022-06-05T08:41:09.158Z"
   },
   {
    "duration": 36,
    "start_time": "2022-06-05T08:41:09.176Z"
   },
   {
    "duration": 29,
    "start_time": "2022-06-05T08:41:09.214Z"
   },
   {
    "duration": 177,
    "start_time": "2022-06-05T08:41:09.245Z"
   },
   {
    "duration": 20,
    "start_time": "2022-06-05T08:41:09.424Z"
   },
   {
    "duration": 63,
    "start_time": "2022-06-05T08:41:09.446Z"
   },
   {
    "duration": 6,
    "start_time": "2022-06-05T08:41:09.511Z"
   },
   {
    "duration": 27,
    "start_time": "2022-06-05T08:41:09.519Z"
   },
   {
    "duration": 19,
    "start_time": "2022-06-05T08:41:09.548Z"
   },
   {
    "duration": 19,
    "start_time": "2022-06-05T08:41:09.568Z"
   },
   {
    "duration": 31,
    "start_time": "2022-06-05T08:41:09.589Z"
   },
   {
    "duration": 22,
    "start_time": "2022-06-05T08:41:09.622Z"
   },
   {
    "duration": 22,
    "start_time": "2022-06-05T08:41:09.646Z"
   },
   {
    "duration": 36,
    "start_time": "2022-06-05T08:41:09.670Z"
   },
   {
    "duration": 25,
    "start_time": "2022-06-05T08:41:09.709Z"
   },
   {
    "duration": 199,
    "start_time": "2022-06-05T08:41:09.736Z"
   },
   {
    "duration": 26,
    "start_time": "2022-06-05T08:41:09.937Z"
   },
   {
    "duration": 30,
    "start_time": "2022-06-05T08:41:09.965Z"
   },
   {
    "duration": 34,
    "start_time": "2022-06-05T08:41:09.997Z"
   },
   {
    "duration": 17,
    "start_time": "2022-06-05T08:41:10.033Z"
   },
   {
    "duration": 21,
    "start_time": "2022-06-05T08:41:10.051Z"
   },
   {
    "duration": 21,
    "start_time": "2022-06-05T08:41:10.074Z"
   },
   {
    "duration": 378,
    "start_time": "2022-06-05T08:41:10.097Z"
   },
   {
    "duration": 13,
    "start_time": "2022-06-05T08:41:10.476Z"
   },
   {
    "duration": 15,
    "start_time": "2022-06-05T08:41:10.491Z"
   },
   {
    "duration": 40,
    "start_time": "2022-06-05T08:41:10.507Z"
   },
   {
    "duration": 14,
    "start_time": "2022-06-05T08:41:10.549Z"
   },
   {
    "duration": 7,
    "start_time": "2022-06-05T08:41:10.565Z"
   },
   {
    "duration": 181,
    "start_time": "2022-06-05T08:41:10.574Z"
   },
   {
    "duration": 23,
    "start_time": "2022-06-05T08:41:18.953Z"
   },
   {
    "duration": 25,
    "start_time": "2022-06-05T08:54:34.738Z"
   },
   {
    "duration": 12,
    "start_time": "2022-06-05T08:57:49.193Z"
   },
   {
    "duration": 3,
    "start_time": "2022-06-05T09:25:05.603Z"
   },
   {
    "duration": 731,
    "start_time": "2022-06-05T09:41:07.781Z"
   },
   {
    "duration": 3,
    "start_time": "2022-06-05T09:41:08.514Z"
   },
   {
    "duration": 150,
    "start_time": "2022-06-05T09:41:08.518Z"
   },
   {
    "duration": 15,
    "start_time": "2022-06-05T09:41:08.670Z"
   },
   {
    "duration": 16,
    "start_time": "2022-06-05T09:41:08.686Z"
   },
   {
    "duration": 9,
    "start_time": "2022-06-05T09:41:08.703Z"
   },
   {
    "duration": 16,
    "start_time": "2022-06-05T09:41:08.714Z"
   },
   {
    "duration": 33,
    "start_time": "2022-06-05T09:41:08.733Z"
   },
   {
    "duration": 20,
    "start_time": "2022-06-05T09:41:08.767Z"
   },
   {
    "duration": 80,
    "start_time": "2022-06-05T09:41:08.789Z"
   },
   {
    "duration": 8,
    "start_time": "2022-06-05T09:41:08.870Z"
   },
   {
    "duration": 12,
    "start_time": "2022-06-05T09:41:08.879Z"
   },
   {
    "duration": 15,
    "start_time": "2022-06-05T09:41:08.892Z"
   },
   {
    "duration": 20,
    "start_time": "2022-06-05T09:41:08.908Z"
   },
   {
    "duration": 5,
    "start_time": "2022-06-05T09:41:08.930Z"
   },
   {
    "duration": 28,
    "start_time": "2022-06-05T09:41:08.937Z"
   },
   {
    "duration": 8,
    "start_time": "2022-06-05T09:41:08.966Z"
   },
   {
    "duration": 25,
    "start_time": "2022-06-05T09:41:08.975Z"
   },
   {
    "duration": 10,
    "start_time": "2022-06-05T09:41:09.002Z"
   },
   {
    "duration": 5,
    "start_time": "2022-06-05T09:41:09.013Z"
   },
   {
    "duration": 42,
    "start_time": "2022-06-05T09:41:09.020Z"
   },
   {
    "duration": 6,
    "start_time": "2022-06-05T09:41:09.063Z"
   },
   {
    "duration": 7,
    "start_time": "2022-06-05T09:41:09.071Z"
   },
   {
    "duration": 9,
    "start_time": "2022-06-05T09:41:09.079Z"
   },
   {
    "duration": 35,
    "start_time": "2022-06-05T09:41:09.089Z"
   },
   {
    "duration": 37,
    "start_time": "2022-06-05T09:41:09.127Z"
   },
   {
    "duration": 19,
    "start_time": "2022-06-05T09:41:09.166Z"
   },
   {
    "duration": 7,
    "start_time": "2022-06-05T09:41:09.191Z"
   },
   {
    "duration": 15,
    "start_time": "2022-06-05T09:41:09.199Z"
   },
   {
    "duration": 43,
    "start_time": "2022-06-05T09:41:09.216Z"
   },
   {
    "duration": 7,
    "start_time": "2022-06-05T09:41:09.261Z"
   },
   {
    "duration": 18,
    "start_time": "2022-06-05T09:41:09.269Z"
   },
   {
    "duration": 21,
    "start_time": "2022-06-05T09:41:09.289Z"
   },
   {
    "duration": 31,
    "start_time": "2022-06-05T09:41:09.312Z"
   },
   {
    "duration": 33,
    "start_time": "2022-06-05T09:41:09.345Z"
   },
   {
    "duration": 7,
    "start_time": "2022-06-05T09:41:09.379Z"
   },
   {
    "duration": 14,
    "start_time": "2022-06-05T09:41:09.387Z"
   },
   {
    "duration": 6,
    "start_time": "2022-06-05T09:41:09.402Z"
   },
   {
    "duration": 8,
    "start_time": "2022-06-05T09:41:09.409Z"
   },
   {
    "duration": 19,
    "start_time": "2022-06-05T09:41:09.418Z"
   },
   {
    "duration": 35,
    "start_time": "2022-06-05T09:41:09.439Z"
   },
   {
    "duration": 29,
    "start_time": "2022-06-05T09:41:09.476Z"
   },
   {
    "duration": 5,
    "start_time": "2022-06-05T09:41:09.507Z"
   },
   {
    "duration": 9,
    "start_time": "2022-06-05T09:41:09.514Z"
   },
   {
    "duration": 262,
    "start_time": "2022-06-05T09:41:09.524Z"
   },
   {
    "duration": 188,
    "start_time": "2022-06-05T09:41:09.788Z"
   },
   {
    "duration": 6,
    "start_time": "2022-06-05T09:41:09.978Z"
   },
   {
    "duration": 24,
    "start_time": "2022-06-05T09:41:09.986Z"
   },
   {
    "duration": 51,
    "start_time": "2022-06-05T09:41:10.011Z"
   },
   {
    "duration": 7,
    "start_time": "2022-06-05T09:41:10.064Z"
   },
   {
    "duration": 13,
    "start_time": "2022-06-05T09:41:10.073Z"
   },
   {
    "duration": 5,
    "start_time": "2022-06-05T09:41:10.087Z"
   },
   {
    "duration": 35,
    "start_time": "2022-06-05T09:41:10.093Z"
   },
   {
    "duration": 179,
    "start_time": "2022-06-05T09:41:10.129Z"
   },
   {
    "duration": 24,
    "start_time": "2022-06-05T09:41:10.310Z"
   },
   {
    "duration": 44,
    "start_time": "2022-06-05T09:41:10.336Z"
   },
   {
    "duration": 5,
    "start_time": "2022-06-05T09:41:10.382Z"
   },
   {
    "duration": 8,
    "start_time": "2022-06-05T09:41:10.388Z"
   },
   {
    "duration": 8,
    "start_time": "2022-06-05T09:41:10.397Z"
   },
   {
    "duration": 53,
    "start_time": "2022-06-05T09:41:10.407Z"
   },
   {
    "duration": 7,
    "start_time": "2022-06-05T09:41:10.462Z"
   },
   {
    "duration": 12,
    "start_time": "2022-06-05T09:41:10.470Z"
   },
   {
    "duration": 7,
    "start_time": "2022-06-05T09:41:10.483Z"
   },
   {
    "duration": 14,
    "start_time": "2022-06-05T09:41:10.491Z"
   },
   {
    "duration": 9,
    "start_time": "2022-06-05T09:41:10.506Z"
   },
   {
    "duration": 204,
    "start_time": "2022-06-05T09:41:10.516Z"
   },
   {
    "duration": 35,
    "start_time": "2022-06-05T09:41:10.727Z"
   },
   {
    "duration": 8,
    "start_time": "2022-06-05T09:41:10.765Z"
   },
   {
    "duration": 12,
    "start_time": "2022-06-05T09:41:10.774Z"
   },
   {
    "duration": 13,
    "start_time": "2022-06-05T09:41:10.787Z"
   },
   {
    "duration": 47,
    "start_time": "2022-06-05T09:41:10.802Z"
   },
   {
    "duration": 34,
    "start_time": "2022-06-05T09:41:10.852Z"
   },
   {
    "duration": 410,
    "start_time": "2022-06-05T09:41:10.888Z"
   },
   {
    "duration": 22,
    "start_time": "2022-06-05T09:41:11.300Z"
   },
   {
    "duration": 54,
    "start_time": "2022-06-05T09:41:11.324Z"
   },
   {
    "duration": 22,
    "start_time": "2022-06-05T09:41:11.379Z"
   },
   {
    "duration": 12,
    "start_time": "2022-06-05T09:41:11.403Z"
   },
   {
    "duration": 7,
    "start_time": "2022-06-05T09:41:11.416Z"
   },
   {
    "duration": 212,
    "start_time": "2022-06-05T09:41:11.425Z"
   },
   {
    "duration": 58,
    "start_time": "2022-06-06T08:06:17.674Z"
   },
   {
    "duration": 862,
    "start_time": "2022-06-06T08:06:32.572Z"
   },
   {
    "duration": 6,
    "start_time": "2022-06-06T08:06:33.436Z"
   },
   {
    "duration": 322,
    "start_time": "2022-06-06T08:06:34.220Z"
   },
   {
    "duration": 16,
    "start_time": "2022-06-06T08:06:34.856Z"
   },
   {
    "duration": 11,
    "start_time": "2022-06-06T08:06:37.219Z"
   },
   {
    "duration": 8,
    "start_time": "2022-06-06T08:06:40.156Z"
   },
   {
    "duration": 30,
    "start_time": "2022-06-06T08:06:40.589Z"
   },
   {
    "duration": 7,
    "start_time": "2022-06-06T08:06:41.564Z"
   },
   {
    "duration": 9,
    "start_time": "2022-06-06T08:06:45.202Z"
   },
   {
    "duration": 6,
    "start_time": "2022-06-06T08:14:30.719Z"
   },
   {
    "duration": 6,
    "start_time": "2022-06-06T08:14:32.858Z"
   },
   {
    "duration": 5,
    "start_time": "2022-06-06T08:16:04.292Z"
   },
   {
    "duration": 17,
    "start_time": "2022-06-06T08:16:34.134Z"
   },
   {
    "duration": 6,
    "start_time": "2022-06-06T08:16:48.024Z"
   },
   {
    "duration": 76,
    "start_time": "2022-06-06T08:43:03.665Z"
   },
   {
    "duration": 20,
    "start_time": "2022-06-06T08:43:12.837Z"
   },
   {
    "duration": 9,
    "start_time": "2022-06-06T08:43:53.873Z"
   },
   {
    "duration": 8,
    "start_time": "2022-06-06T08:43:55.214Z"
   },
   {
    "duration": 5,
    "start_time": "2022-06-06T08:43:55.599Z"
   },
   {
    "duration": 5,
    "start_time": "2022-06-06T08:44:14.181Z"
   },
   {
    "duration": 46,
    "start_time": "2022-06-06T08:44:22.793Z"
   },
   {
    "duration": 22,
    "start_time": "2022-06-06T08:44:45.151Z"
   },
   {
    "duration": 35,
    "start_time": "2022-06-06T08:46:36.296Z"
   },
   {
    "duration": 314,
    "start_time": "2022-06-06T08:46:41.599Z"
   },
   {
    "duration": 29,
    "start_time": "2022-06-06T08:46:57.469Z"
   },
   {
    "duration": 53,
    "start_time": "2022-06-06T08:47:08.008Z"
   },
   {
    "duration": 269,
    "start_time": "2022-06-06T08:47:13.142Z"
   },
   {
    "duration": 509,
    "start_time": "2022-06-06T08:48:00.274Z"
   },
   {
    "duration": 444,
    "start_time": "2022-06-06T08:48:30.138Z"
   },
   {
    "duration": 16,
    "start_time": "2022-06-06T08:49:12.959Z"
   },
   {
    "duration": 4,
    "start_time": "2022-06-06T08:49:25.658Z"
   },
   {
    "duration": 10,
    "start_time": "2022-06-06T08:49:44.722Z"
   },
   {
    "duration": 6,
    "start_time": "2022-06-06T08:49:53.836Z"
   },
   {
    "duration": 5,
    "start_time": "2022-06-06T08:49:56.628Z"
   },
   {
    "duration": 3725,
    "start_time": "2022-06-06T08:50:02.212Z"
   },
   {
    "duration": 253,
    "start_time": "2022-06-06T08:50:47.372Z"
   },
   {
    "duration": 288,
    "start_time": "2022-06-06T08:51:18.404Z"
   },
   {
    "duration": 284,
    "start_time": "2022-06-06T08:51:26.842Z"
   },
   {
    "duration": 23,
    "start_time": "2022-06-06T10:59:12.041Z"
   },
   {
    "duration": 23,
    "start_time": "2022-06-06T11:03:54.333Z"
   },
   {
    "duration": 12,
    "start_time": "2022-06-06T11:04:07.118Z"
   },
   {
    "duration": 55,
    "start_time": "2022-06-06T11:04:13.689Z"
   },
   {
    "duration": 994,
    "start_time": "2022-06-06T17:44:23.721Z"
   },
   {
    "duration": 7,
    "start_time": "2022-06-06T17:44:24.718Z"
   },
   {
    "duration": 324,
    "start_time": "2022-06-06T17:44:27.108Z"
   },
   {
    "duration": 19,
    "start_time": "2022-06-06T17:44:28.278Z"
   },
   {
    "duration": 13,
    "start_time": "2022-06-06T17:44:29.359Z"
   },
   {
    "duration": 14,
    "start_time": "2022-06-06T17:47:20.718Z"
   },
   {
    "duration": 5,
    "start_time": "2022-06-06T17:47:30.299Z"
   },
   {
    "duration": 13,
    "start_time": "2022-06-06T17:47:31.239Z"
   },
   {
    "duration": 6,
    "start_time": "2022-06-06T17:47:33.737Z"
   },
   {
    "duration": 5,
    "start_time": "2022-06-06T17:47:59.494Z"
   },
   {
    "duration": 4,
    "start_time": "2022-06-06T17:48:00.800Z"
   },
   {
    "duration": 4,
    "start_time": "2022-06-06T17:48:27.615Z"
   },
   {
    "duration": 4,
    "start_time": "2022-06-06T17:48:42.116Z"
   },
   {
    "duration": 3,
    "start_time": "2022-06-06T17:49:17.657Z"
   },
   {
    "duration": 16,
    "start_time": "2022-06-06T17:49:34.489Z"
   },
   {
    "duration": 89,
    "start_time": "2022-06-06T17:49:35.658Z"
   },
   {
    "duration": 7,
    "start_time": "2022-06-06T17:49:38.239Z"
   },
   {
    "duration": 6,
    "start_time": "2022-06-06T17:49:40.114Z"
   },
   {
    "duration": 5,
    "start_time": "2022-06-06T17:49:41.135Z"
   },
   {
    "duration": 17,
    "start_time": "2022-06-06T17:49:44.893Z"
   },
   {
    "duration": 4,
    "start_time": "2022-06-06T17:49:47.461Z"
   },
   {
    "duration": 5,
    "start_time": "2022-06-06T17:49:48.458Z"
   },
   {
    "duration": 4,
    "start_time": "2022-06-06T17:49:49.291Z"
   },
   {
    "duration": 23,
    "start_time": "2022-06-06T17:49:55.943Z"
   },
   {
    "duration": 10,
    "start_time": "2022-06-06T17:49:56.862Z"
   },
   {
    "duration": 4,
    "start_time": "2022-06-06T17:49:58.843Z"
   },
   {
    "duration": 21,
    "start_time": "2022-06-06T17:50:00.855Z"
   },
   {
    "duration": 4,
    "start_time": "2022-06-06T17:50:05.249Z"
   },
   {
    "duration": 6,
    "start_time": "2022-06-06T17:50:10.959Z"
   },
   {
    "duration": 5,
    "start_time": "2022-06-06T17:50:12.778Z"
   },
   {
    "duration": 19,
    "start_time": "2022-06-06T17:50:26.954Z"
   },
   {
    "duration": 17,
    "start_time": "2022-06-06T17:58:09.053Z"
   },
   {
    "duration": 10,
    "start_time": "2022-06-06T17:58:40.306Z"
   },
   {
    "duration": 5,
    "start_time": "2022-06-06T18:34:29.065Z"
   },
   {
    "duration": 100,
    "start_time": "2022-06-06T18:35:22.825Z"
   },
   {
    "duration": 210,
    "start_time": "2022-06-06T18:38:44.657Z"
   },
   {
    "duration": 2,
    "start_time": "2022-06-06T18:39:07.790Z"
   },
   {
    "duration": 13,
    "start_time": "2022-06-06T18:39:08.976Z"
   },
   {
    "duration": 3,
    "start_time": "2022-06-06T18:39:45.494Z"
   },
   {
    "duration": 209,
    "start_time": "2022-06-06T18:39:47.956Z"
   },
   {
    "duration": 180,
    "start_time": "2022-06-06T18:40:11.998Z"
   },
   {
    "duration": 2,
    "start_time": "2022-06-06T18:41:40.248Z"
   },
   {
    "duration": 159,
    "start_time": "2022-06-06T18:41:41.486Z"
   },
   {
    "duration": 3,
    "start_time": "2022-06-06T18:43:34.629Z"
   },
   {
    "duration": 160,
    "start_time": "2022-06-06T18:43:41.140Z"
   },
   {
    "duration": 3,
    "start_time": "2022-06-06T18:43:58.939Z"
   },
   {
    "duration": 140,
    "start_time": "2022-06-06T18:44:00.006Z"
   },
   {
    "duration": 2,
    "start_time": "2022-06-06T18:44:17.672Z"
   },
   {
    "duration": 118,
    "start_time": "2022-06-06T18:44:20.665Z"
   },
   {
    "duration": 2,
    "start_time": "2022-06-06T18:48:11.595Z"
   },
   {
    "duration": 164,
    "start_time": "2022-06-06T18:48:12.793Z"
   },
   {
    "duration": 4,
    "start_time": "2022-06-06T18:49:17.795Z"
   },
   {
    "duration": 212,
    "start_time": "2022-06-06T18:49:19.213Z"
   },
   {
    "duration": 3,
    "start_time": "2022-06-06T18:49:33.685Z"
   },
   {
    "duration": 142,
    "start_time": "2022-06-06T18:49:34.952Z"
   },
   {
    "duration": 3,
    "start_time": "2022-06-06T18:49:45.142Z"
   },
   {
    "duration": 138,
    "start_time": "2022-06-06T18:49:46.149Z"
   },
   {
    "duration": 3,
    "start_time": "2022-06-06T18:52:24.512Z"
   },
   {
    "duration": 8,
    "start_time": "2022-06-06T18:52:25.723Z"
   },
   {
    "duration": 160,
    "start_time": "2022-06-06T18:52:36.805Z"
   },
   {
    "duration": 3,
    "start_time": "2022-06-06T18:52:49.141Z"
   },
   {
    "duration": 3,
    "start_time": "2022-06-06T18:54:08.132Z"
   },
   {
    "duration": 176,
    "start_time": "2022-06-06T18:54:12.373Z"
   },
   {
    "duration": 3,
    "start_time": "2022-06-06T18:54:28.858Z"
   },
   {
    "duration": 3,
    "start_time": "2022-06-06T18:54:33.198Z"
   },
   {
    "duration": 150,
    "start_time": "2022-06-06T18:54:34.229Z"
   },
   {
    "duration": 3,
    "start_time": "2022-06-06T18:55:00.655Z"
   },
   {
    "duration": 137,
    "start_time": "2022-06-06T18:55:02.697Z"
   },
   {
    "duration": 35,
    "start_time": "2022-06-06T18:55:21.705Z"
   },
   {
    "duration": 3,
    "start_time": "2022-06-06T18:55:28.232Z"
   },
   {
    "duration": 2,
    "start_time": "2022-06-06T18:55:38.708Z"
   },
   {
    "duration": 3,
    "start_time": "2022-06-06T18:55:46.975Z"
   },
   {
    "duration": 176,
    "start_time": "2022-06-06T18:55:48.005Z"
   },
   {
    "duration": 1811,
    "start_time": "2022-06-06T18:58:15.550Z"
   },
   {
    "duration": 1850,
    "start_time": "2022-06-06T18:58:59.375Z"
   },
   {
    "duration": 114,
    "start_time": "2022-06-06T18:59:17.662Z"
   },
   {
    "duration": 16,
    "start_time": "2022-06-06T19:01:51.203Z"
   },
   {
    "duration": 6,
    "start_time": "2022-06-06T19:02:03.522Z"
   },
   {
    "duration": 7,
    "start_time": "2022-06-06T19:02:31.879Z"
   },
   {
    "duration": 7,
    "start_time": "2022-06-06T19:02:38.063Z"
   },
   {
    "duration": 5,
    "start_time": "2022-06-06T19:02:48.195Z"
   },
   {
    "duration": 6,
    "start_time": "2022-06-06T19:03:03.886Z"
   },
   {
    "duration": 5,
    "start_time": "2022-06-06T19:03:19.929Z"
   },
   {
    "duration": 7,
    "start_time": "2022-06-06T19:03:38.620Z"
   },
   {
    "duration": 6,
    "start_time": "2022-06-06T19:03:59.147Z"
   },
   {
    "duration": 6,
    "start_time": "2022-06-06T19:04:06.422Z"
   },
   {
    "duration": 6,
    "start_time": "2022-06-06T19:04:21.916Z"
   },
   {
    "duration": 5,
    "start_time": "2022-06-06T19:04:36.502Z"
   },
   {
    "duration": 5,
    "start_time": "2022-06-06T19:04:50.672Z"
   },
   {
    "duration": 6,
    "start_time": "2022-06-06T19:05:01.977Z"
   },
   {
    "duration": 6,
    "start_time": "2022-06-06T19:06:15.319Z"
   },
   {
    "duration": 7,
    "start_time": "2022-06-06T19:06:26.925Z"
   },
   {
    "duration": 145,
    "start_time": "2022-06-06T19:07:50.026Z"
   },
   {
    "duration": 119,
    "start_time": "2022-06-06T19:08:09.403Z"
   },
   {
    "duration": 97,
    "start_time": "2022-06-06T19:08:46.906Z"
   },
   {
    "duration": 114,
    "start_time": "2022-06-06T19:09:56.543Z"
   },
   {
    "duration": 3,
    "start_time": "2022-06-06T19:11:08.907Z"
   },
   {
    "duration": 12,
    "start_time": "2022-06-06T19:18:11.499Z"
   },
   {
    "duration": 5,
    "start_time": "2022-06-06T19:18:39.212Z"
   },
   {
    "duration": 11,
    "start_time": "2022-06-06T19:18:42.026Z"
   },
   {
    "duration": 4,
    "start_time": "2022-06-06T19:18:51.335Z"
   },
   {
    "duration": 23,
    "start_time": "2022-06-06T19:18:59.439Z"
   },
   {
    "duration": 22,
    "start_time": "2022-06-06T19:21:12.968Z"
   },
   {
    "duration": 174,
    "start_time": "2022-06-06T19:23:55.807Z"
   },
   {
    "duration": 13,
    "start_time": "2022-06-06T19:24:15.428Z"
   },
   {
    "duration": 172,
    "start_time": "2022-06-06T19:24:41.711Z"
   },
   {
    "duration": 166,
    "start_time": "2022-06-06T19:25:18.879Z"
   },
   {
    "duration": 168,
    "start_time": "2022-06-06T19:25:35.083Z"
   },
   {
    "duration": 299,
    "start_time": "2022-06-06T19:28:47.106Z"
   },
   {
    "duration": 10,
    "start_time": "2022-06-06T19:30:48.351Z"
   },
   {
    "duration": 4,
    "start_time": "2022-06-06T19:31:05.342Z"
   },
   {
    "duration": 5,
    "start_time": "2022-06-06T19:31:06.900Z"
   },
   {
    "duration": 5,
    "start_time": "2022-06-06T19:31:08.391Z"
   },
   {
    "duration": 6,
    "start_time": "2022-06-06T19:31:09.289Z"
   },
   {
    "duration": 4,
    "start_time": "2022-06-06T19:31:10.041Z"
   },
   {
    "duration": 7,
    "start_time": "2022-06-06T19:31:17.498Z"
   },
   {
    "duration": 3,
    "start_time": "2022-06-06T19:31:18.298Z"
   },
   {
    "duration": 4,
    "start_time": "2022-06-06T19:31:20.060Z"
   },
   {
    "duration": 5,
    "start_time": "2022-06-06T19:31:20.780Z"
   },
   {
    "duration": 189,
    "start_time": "2022-06-06T19:31:21.912Z"
   },
   {
    "duration": 345,
    "start_time": "2022-06-06T19:33:26.142Z"
   },
   {
    "duration": 203,
    "start_time": "2022-06-06T19:34:23.702Z"
   },
   {
    "duration": 359,
    "start_time": "2022-06-06T19:35:39.149Z"
   },
   {
    "duration": 8,
    "start_time": "2022-06-06T19:39:44.274Z"
   },
   {
    "duration": 25,
    "start_time": "2022-06-06T19:41:03.340Z"
   },
   {
    "duration": 14,
    "start_time": "2022-06-06T19:41:47.794Z"
   },
   {
    "duration": 5,
    "start_time": "2022-06-06T19:42:36.513Z"
   },
   {
    "duration": 7,
    "start_time": "2022-06-06T19:43:06.282Z"
   },
   {
    "duration": 9,
    "start_time": "2022-06-06T19:43:43.543Z"
   },
   {
    "duration": 8,
    "start_time": "2022-06-06T19:43:57.645Z"
   },
   {
    "duration": 12,
    "start_time": "2022-06-06T19:44:39.661Z"
   },
   {
    "duration": 593,
    "start_time": "2022-06-06T19:45:33.673Z"
   },
   {
    "duration": 11,
    "start_time": "2022-06-06T19:45:41.453Z"
   },
   {
    "duration": 12,
    "start_time": "2022-06-06T19:46:08.109Z"
   },
   {
    "duration": 538,
    "start_time": "2022-06-06T19:46:17.992Z"
   },
   {
    "duration": 10,
    "start_time": "2022-06-06T19:49:48.151Z"
   },
   {
    "duration": 18,
    "start_time": "2022-06-06T19:53:15.965Z"
   },
   {
    "duration": 17,
    "start_time": "2022-06-06T19:53:36.800Z"
   },
   {
    "duration": 32,
    "start_time": "2022-06-06T19:54:44.814Z"
   },
   {
    "duration": 31,
    "start_time": "2022-06-06T19:55:21.721Z"
   },
   {
    "duration": 21,
    "start_time": "2022-06-06T19:55:37.392Z"
   },
   {
    "duration": 29,
    "start_time": "2022-06-06T19:56:07.456Z"
   },
   {
    "duration": 21,
    "start_time": "2022-06-06T19:56:16.273Z"
   },
   {
    "duration": 21,
    "start_time": "2022-06-06T19:56:50.296Z"
   },
   {
    "duration": 25,
    "start_time": "2022-06-06T19:59:05.693Z"
   },
   {
    "duration": 23,
    "start_time": "2022-06-06T19:59:24.471Z"
   },
   {
    "duration": 23,
    "start_time": "2022-06-06T20:02:01.388Z"
   },
   {
    "duration": 21,
    "start_time": "2022-06-06T20:02:20.611Z"
   },
   {
    "duration": 20,
    "start_time": "2022-06-06T20:02:27.225Z"
   },
   {
    "duration": 21,
    "start_time": "2022-06-06T20:03:24.617Z"
   },
   {
    "duration": 24,
    "start_time": "2022-06-06T20:03:42.146Z"
   },
   {
    "duration": 10,
    "start_time": "2022-06-06T20:09:19.424Z"
   },
   {
    "duration": 29,
    "start_time": "2022-06-06T20:09:31.595Z"
   },
   {
    "duration": 28,
    "start_time": "2022-06-06T20:10:10.347Z"
   },
   {
    "duration": 31,
    "start_time": "2022-06-06T20:10:20.847Z"
   },
   {
    "duration": 128,
    "start_time": "2022-06-06T20:21:42.530Z"
   },
   {
    "duration": 29,
    "start_time": "2022-06-06T20:35:14.077Z"
   },
   {
    "duration": 6,
    "start_time": "2022-06-06T20:35:30.150Z"
   },
   {
    "duration": 137,
    "start_time": "2022-06-06T20:36:54.718Z"
   },
   {
    "duration": 312,
    "start_time": "2022-06-06T20:37:05.090Z"
   },
   {
    "duration": 217,
    "start_time": "2022-06-06T20:42:18.079Z"
   },
   {
    "duration": 17,
    "start_time": "2022-06-06T20:42:19.193Z"
   },
   {
    "duration": 11,
    "start_time": "2022-06-06T20:42:20.925Z"
   },
   {
    "duration": 6,
    "start_time": "2022-06-06T20:42:25.308Z"
   },
   {
    "duration": 12,
    "start_time": "2022-06-06T20:42:26.957Z"
   },
   {
    "duration": 4,
    "start_time": "2022-06-06T20:42:29.211Z"
   },
   {
    "duration": 4,
    "start_time": "2022-06-06T20:42:44.474Z"
   },
   {
    "duration": 5,
    "start_time": "2022-06-06T20:42:45.727Z"
   },
   {
    "duration": 6,
    "start_time": "2022-06-06T20:43:22.589Z"
   },
   {
    "duration": 4,
    "start_time": "2022-06-06T20:43:33.956Z"
   },
   {
    "duration": 5,
    "start_time": "2022-06-06T20:43:53.601Z"
   },
   {
    "duration": 10,
    "start_time": "2022-06-06T20:44:29.168Z"
   },
   {
    "duration": 10,
    "start_time": "2022-06-06T20:44:44.989Z"
   },
   {
    "duration": 20,
    "start_time": "2022-06-06T20:44:59.753Z"
   },
   {
    "duration": 134,
    "start_time": "2022-06-06T20:45:26.974Z"
   },
   {
    "duration": 119,
    "start_time": "2022-06-06T20:45:36.161Z"
   },
   {
    "duration": 31,
    "start_time": "2022-06-06T20:45:43.241Z"
   },
   {
    "duration": 124,
    "start_time": "2022-06-06T20:45:49.994Z"
   },
   {
    "duration": 9,
    "start_time": "2022-06-06T20:46:13.926Z"
   },
   {
    "duration": 29,
    "start_time": "2022-06-06T20:46:27.345Z"
   },
   {
    "duration": 16,
    "start_time": "2022-06-06T20:51:41.199Z"
   },
   {
    "duration": 4,
    "start_time": "2022-06-06T20:52:29.859Z"
   },
   {
    "duration": 14,
    "start_time": "2022-06-06T20:52:35.865Z"
   },
   {
    "duration": 14,
    "start_time": "2022-06-06T20:53:03.765Z"
   },
   {
    "duration": 13,
    "start_time": "2022-06-06T20:53:20.668Z"
   },
   {
    "duration": 16,
    "start_time": "2022-06-06T20:54:03.678Z"
   },
   {
    "duration": 16,
    "start_time": "2022-06-06T20:54:19.688Z"
   },
   {
    "duration": 11,
    "start_time": "2022-06-06T20:55:03.012Z"
   },
   {
    "duration": 19,
    "start_time": "2022-06-06T20:55:14.957Z"
   },
   {
    "duration": 29,
    "start_time": "2022-06-06T20:55:33.972Z"
   },
   {
    "duration": 5,
    "start_time": "2022-06-06T20:55:53.517Z"
   },
   {
    "duration": 28,
    "start_time": "2022-06-06T20:56:02.105Z"
   },
   {
    "duration": 28,
    "start_time": "2022-06-06T20:58:12.844Z"
   },
   {
    "duration": 6,
    "start_time": "2022-06-06T21:01:02.382Z"
   },
   {
    "duration": 20,
    "start_time": "2022-06-06T21:01:49.967Z"
   },
   {
    "duration": 22,
    "start_time": "2022-06-06T21:01:54.966Z"
   },
   {
    "duration": 17,
    "start_time": "2022-06-06T21:02:37.040Z"
   },
   {
    "duration": 23,
    "start_time": "2022-06-06T21:02:48.882Z"
   },
   {
    "duration": 12,
    "start_time": "2022-06-06T21:03:03.062Z"
   },
   {
    "duration": 6,
    "start_time": "2022-06-06T21:03:14.999Z"
   },
   {
    "duration": 21,
    "start_time": "2022-06-06T21:03:18.923Z"
   },
   {
    "duration": 7,
    "start_time": "2022-06-06T21:04:38.078Z"
   },
   {
    "duration": 5,
    "start_time": "2022-06-06T21:11:57.803Z"
   },
   {
    "duration": 15,
    "start_time": "2022-06-06T21:12:10.969Z"
   },
   {
    "duration": 5,
    "start_time": "2022-06-06T21:12:24.896Z"
   },
   {
    "duration": 9,
    "start_time": "2022-06-06T21:12:39.373Z"
   },
   {
    "duration": 7,
    "start_time": "2022-06-06T21:12:58.769Z"
   },
   {
    "duration": 10,
    "start_time": "2022-06-06T21:12:59.365Z"
   },
   {
    "duration": 10,
    "start_time": "2022-06-06T21:13:00.168Z"
   },
   {
    "duration": 16,
    "start_time": "2022-06-06T21:13:05.889Z"
   },
   {
    "duration": 11,
    "start_time": "2022-06-06T21:13:13.528Z"
   },
   {
    "duration": 4,
    "start_time": "2022-06-06T21:13:14.515Z"
   },
   {
    "duration": 49,
    "start_time": "2022-06-06T21:13:15.013Z"
   },
   {
    "duration": 11,
    "start_time": "2022-06-06T21:13:15.864Z"
   },
   {
    "duration": 6,
    "start_time": "2022-06-06T21:13:16.478Z"
   },
   {
    "duration": 6,
    "start_time": "2022-06-06T21:13:23.871Z"
   },
   {
    "duration": 15,
    "start_time": "2022-06-06T21:13:46.439Z"
   },
   {
    "duration": 10,
    "start_time": "2022-06-06T21:13:49.803Z"
   },
   {
    "duration": 18,
    "start_time": "2022-06-06T21:13:50.491Z"
   },
   {
    "duration": 5,
    "start_time": "2022-06-06T21:13:51.178Z"
   },
   {
    "duration": 12,
    "start_time": "2022-06-06T21:13:51.863Z"
   },
   {
    "duration": 15,
    "start_time": "2022-06-06T21:13:52.267Z"
   },
   {
    "duration": 20,
    "start_time": "2022-06-06T21:13:52.669Z"
   },
   {
    "duration": 5,
    "start_time": "2022-06-06T21:13:53.291Z"
   },
   {
    "duration": 132,
    "start_time": "2022-06-06T21:15:34.118Z"
   },
   {
    "duration": 134,
    "start_time": "2022-06-06T21:19:31.864Z"
   },
   {
    "duration": 34,
    "start_time": "2022-06-06T21:19:53.238Z"
   },
   {
    "duration": 24,
    "start_time": "2022-06-06T21:22:43.011Z"
   },
   {
    "duration": 46,
    "start_time": "2022-06-06T21:32:08.199Z"
   },
   {
    "duration": 12,
    "start_time": "2022-06-06T21:32:53.503Z"
   },
   {
    "duration": 12,
    "start_time": "2022-06-06T21:33:24.764Z"
   },
   {
    "duration": 16,
    "start_time": "2022-06-06T21:33:47.311Z"
   },
   {
    "duration": 31,
    "start_time": "2022-06-06T21:40:48.634Z"
   },
   {
    "duration": 21,
    "start_time": "2022-06-06T21:41:32.906Z"
   },
   {
    "duration": 208,
    "start_time": "2022-06-06T21:43:02.920Z"
   },
   {
    "duration": 200,
    "start_time": "2022-06-06T21:43:10.030Z"
   },
   {
    "duration": 206,
    "start_time": "2022-06-06T21:43:51.094Z"
   },
   {
    "duration": 6,
    "start_time": "2022-06-06T21:45:09.699Z"
   },
   {
    "duration": 190,
    "start_time": "2022-06-06T21:46:00.573Z"
   },
   {
    "duration": 168,
    "start_time": "2022-06-06T21:47:06.959Z"
   },
   {
    "duration": 177,
    "start_time": "2022-06-06T21:47:37.496Z"
   },
   {
    "duration": 11,
    "start_time": "2022-06-06T21:54:14.726Z"
   },
   {
    "duration": 4,
    "start_time": "2022-06-06T21:54:33.575Z"
   },
   {
    "duration": 3,
    "start_time": "2022-06-06T21:54:33.591Z"
   },
   {
    "duration": 158,
    "start_time": "2022-06-06T21:54:33.614Z"
   },
   {
    "duration": 16,
    "start_time": "2022-06-06T21:54:33.774Z"
   },
   {
    "duration": 15,
    "start_time": "2022-06-06T21:54:33.791Z"
   },
   {
    "duration": 11,
    "start_time": "2022-06-06T21:54:33.808Z"
   },
   {
    "duration": 13,
    "start_time": "2022-06-06T21:54:33.821Z"
   },
   {
    "duration": 3,
    "start_time": "2022-06-06T21:54:33.836Z"
   },
   {
    "duration": 6,
    "start_time": "2022-06-06T21:54:34.103Z"
   },
   {
    "duration": 27,
    "start_time": "2022-06-06T21:54:34.132Z"
   },
   {
    "duration": 96,
    "start_time": "2022-06-06T21:54:34.161Z"
   },
   {
    "duration": 8,
    "start_time": "2022-06-06T21:54:34.265Z"
   },
   {
    "duration": 7,
    "start_time": "2022-06-06T21:54:34.276Z"
   },
   {
    "duration": 5,
    "start_time": "2022-06-06T21:54:34.285Z"
   },
   {
    "duration": 9,
    "start_time": "2022-06-06T21:54:34.291Z"
   },
   {
    "duration": 5,
    "start_time": "2022-06-06T21:54:34.302Z"
   },
   {
    "duration": 18,
    "start_time": "2022-06-06T21:54:34.308Z"
   },
   {
    "duration": 16,
    "start_time": "2022-06-06T21:54:34.347Z"
   },
   {
    "duration": 9,
    "start_time": "2022-06-06T21:54:34.365Z"
   },
   {
    "duration": 7,
    "start_time": "2022-06-06T21:54:34.376Z"
   },
   {
    "duration": 18,
    "start_time": "2022-06-06T21:54:34.384Z"
   },
   {
    "duration": 11,
    "start_time": "2022-06-06T21:54:34.403Z"
   },
   {
    "duration": 16,
    "start_time": "2022-06-06T21:54:34.416Z"
   },
   {
    "duration": 56,
    "start_time": "2022-06-06T21:54:34.433Z"
   },
   {
    "duration": 17,
    "start_time": "2022-06-06T21:54:34.491Z"
   },
   {
    "duration": 18,
    "start_time": "2022-06-06T21:54:34.510Z"
   },
   {
    "duration": 39,
    "start_time": "2022-06-06T21:54:34.530Z"
   },
   {
    "duration": 49,
    "start_time": "2022-06-06T21:54:34.572Z"
   },
   {
    "duration": 38,
    "start_time": "2022-06-06T21:54:34.623Z"
   },
   {
    "duration": 10,
    "start_time": "2022-06-06T21:54:34.669Z"
   },
   {
    "duration": 15,
    "start_time": "2022-06-06T21:54:34.681Z"
   },
   {
    "duration": 24,
    "start_time": "2022-06-06T21:54:34.697Z"
   },
   {
    "duration": 33,
    "start_time": "2022-06-06T21:54:34.723Z"
   },
   {
    "duration": 29,
    "start_time": "2022-06-06T21:54:34.759Z"
   },
   {
    "duration": 19,
    "start_time": "2022-06-06T21:54:34.790Z"
   },
   {
    "duration": 14,
    "start_time": "2022-06-06T21:54:34.811Z"
   },
   {
    "duration": 41,
    "start_time": "2022-06-06T21:54:34.827Z"
   },
   {
    "duration": 30,
    "start_time": "2022-06-06T21:54:34.871Z"
   },
   {
    "duration": 14,
    "start_time": "2022-06-06T21:54:34.903Z"
   },
   {
    "duration": 6,
    "start_time": "2022-06-06T21:54:34.920Z"
   },
   {
    "duration": 50,
    "start_time": "2022-06-06T21:54:34.928Z"
   },
   {
    "duration": 9,
    "start_time": "2022-06-06T21:54:34.980Z"
   },
   {
    "duration": 10,
    "start_time": "2022-06-06T21:54:34.990Z"
   },
   {
    "duration": 8,
    "start_time": "2022-06-06T21:54:35.002Z"
   },
   {
    "duration": 13,
    "start_time": "2022-06-06T21:54:35.012Z"
   },
   {
    "duration": 52,
    "start_time": "2022-06-06T21:54:35.027Z"
   },
   {
    "duration": 39,
    "start_time": "2022-06-06T21:54:35.080Z"
   },
   {
    "duration": 6,
    "start_time": "2022-06-06T21:54:35.120Z"
   },
   {
    "duration": 9,
    "start_time": "2022-06-06T21:54:35.128Z"
   },
   {
    "duration": 253,
    "start_time": "2022-06-06T21:54:35.139Z"
   },
   {
    "duration": 218,
    "start_time": "2022-06-06T21:54:35.394Z"
   },
   {
    "duration": 6,
    "start_time": "2022-06-06T21:54:35.614Z"
   },
   {
    "duration": 49,
    "start_time": "2022-06-06T21:54:35.622Z"
   },
   {
    "duration": 27,
    "start_time": "2022-06-06T21:54:35.674Z"
   },
   {
    "duration": 137,
    "start_time": "2022-06-06T21:54:35.703Z"
   },
   {
    "duration": 18,
    "start_time": "2022-06-06T21:54:35.848Z"
   },
   {
    "duration": 218,
    "start_time": "2022-06-06T21:54:35.869Z"
   },
   {
    "duration": 136,
    "start_time": "2022-06-06T21:54:36.089Z"
   },
   {
    "duration": 140,
    "start_time": "2022-06-06T21:54:36.228Z"
   },
   {
    "duration": 138,
    "start_time": "2022-06-06T21:54:36.528Z"
   },
   {
    "duration": 16,
    "start_time": "2022-06-06T21:54:36.971Z"
   },
   {
    "duration": 7,
    "start_time": "2022-06-06T21:54:37.464Z"
   },
   {
    "duration": 11,
    "start_time": "2022-06-06T21:54:37.472Z"
   },
   {
    "duration": 4,
    "start_time": "2022-06-06T21:54:37.494Z"
   },
   {
    "duration": 3,
    "start_time": "2022-06-06T21:54:37.524Z"
   },
   {
    "duration": 21,
    "start_time": "2022-06-06T21:54:37.552Z"
   },
   {
    "duration": 209,
    "start_time": "2022-06-06T21:54:37.577Z"
   },
   {
    "duration": 20,
    "start_time": "2022-06-06T21:54:37.788Z"
   },
   {
    "duration": 72,
    "start_time": "2022-06-06T21:54:37.810Z"
   },
   {
    "duration": 435,
    "start_time": "2022-06-06T21:54:37.884Z"
   },
   {
    "duration": 39,
    "start_time": "2022-06-06T21:54:38.321Z"
   },
   {
    "duration": 51,
    "start_time": "2022-06-06T21:54:38.365Z"
   },
   {
    "duration": 5,
    "start_time": "2022-06-06T21:54:38.418Z"
   },
   {
    "duration": 8,
    "start_time": "2022-06-06T21:54:38.425Z"
   },
   {
    "duration": 34,
    "start_time": "2022-06-06T21:54:38.435Z"
   },
   {
    "duration": 8,
    "start_time": "2022-06-06T21:54:38.471Z"
   },
   {
    "duration": 34,
    "start_time": "2022-06-06T21:54:38.480Z"
   },
   {
    "duration": 8,
    "start_time": "2022-06-06T21:54:38.515Z"
   },
   {
    "duration": 6,
    "start_time": "2022-06-06T21:54:38.524Z"
   },
   {
    "duration": 24,
    "start_time": "2022-06-06T21:54:38.531Z"
   },
   {
    "duration": 12,
    "start_time": "2022-06-06T21:54:38.557Z"
   },
   {
    "duration": 221,
    "start_time": "2022-06-06T21:54:38.572Z"
   },
   {
    "duration": 27,
    "start_time": "2022-06-06T21:54:38.794Z"
   },
   {
    "duration": 20,
    "start_time": "2022-06-06T21:54:38.823Z"
   },
   {
    "duration": 19,
    "start_time": "2022-06-06T21:54:38.844Z"
   },
   {
    "duration": 17,
    "start_time": "2022-06-06T21:54:38.874Z"
   },
   {
    "duration": 21,
    "start_time": "2022-06-06T21:54:38.893Z"
   },
   {
    "duration": 31,
    "start_time": "2022-06-06T21:54:38.916Z"
   },
   {
    "duration": 393,
    "start_time": "2022-06-06T21:54:39.101Z"
   },
   {
    "duration": 20,
    "start_time": "2022-06-06T21:54:39.496Z"
   },
   {
    "duration": 51,
    "start_time": "2022-06-06T21:54:39.518Z"
   },
   {
    "duration": 19,
    "start_time": "2022-06-06T21:54:39.571Z"
   },
   {
    "duration": 22,
    "start_time": "2022-06-06T21:54:39.592Z"
   },
   {
    "duration": 9,
    "start_time": "2022-06-06T21:54:39.615Z"
   },
   {
    "duration": 214,
    "start_time": "2022-06-06T21:54:39.625Z"
   },
   {
    "duration": 16,
    "start_time": "2022-06-06T21:54:39.844Z"
   },
   {
    "duration": 7,
    "start_time": "2022-06-06T21:54:39.862Z"
   },
   {
    "duration": 358,
    "start_time": "2022-06-06T21:54:39.871Z"
   },
   {
    "duration": 14,
    "start_time": "2022-06-06T21:55:21.615Z"
   },
   {
    "duration": 38,
    "start_time": "2022-06-06T21:55:37.731Z"
   },
   {
    "duration": 8,
    "start_time": "2022-06-06T21:57:52.701Z"
   },
   {
    "duration": 6,
    "start_time": "2022-06-06T21:58:05.505Z"
   },
   {
    "duration": 8,
    "start_time": "2022-06-06T21:58:23.526Z"
   },
   {
    "duration": 7,
    "start_time": "2022-06-06T21:58:44.413Z"
   },
   {
    "duration": 14,
    "start_time": "2022-06-06T21:59:28.730Z"
   },
   {
    "duration": 8,
    "start_time": "2022-06-06T21:59:53.831Z"
   },
   {
    "duration": 22,
    "start_time": "2022-06-06T22:01:22.072Z"
   },
   {
    "duration": 38,
    "start_time": "2022-06-06T22:01:35.921Z"
   },
   {
    "duration": 13,
    "start_time": "2022-06-06T22:03:16.600Z"
   },
   {
    "duration": 146,
    "start_time": "2022-06-06T22:04:45.862Z"
   },
   {
    "duration": 161,
    "start_time": "2022-06-06T22:05:37.561Z"
   },
   {
    "duration": 159,
    "start_time": "2022-06-06T22:05:56.064Z"
   },
   {
    "duration": 168,
    "start_time": "2022-06-06T22:06:41.407Z"
   },
   {
    "duration": 187,
    "start_time": "2022-06-06T22:09:13.027Z"
   },
   {
    "duration": 202,
    "start_time": "2022-06-06T22:09:45.509Z"
   },
   {
    "duration": 213,
    "start_time": "2022-06-06T22:09:53.414Z"
   },
   {
    "duration": 202,
    "start_time": "2022-06-06T22:10:04.829Z"
   },
   {
    "duration": 871,
    "start_time": "2022-06-07T15:13:32.302Z"
   },
   {
    "duration": 4,
    "start_time": "2022-06-07T15:13:33.175Z"
   },
   {
    "duration": 277,
    "start_time": "2022-06-07T15:13:33.180Z"
   },
   {
    "duration": 17,
    "start_time": "2022-06-07T15:13:33.458Z"
   },
   {
    "duration": 9,
    "start_time": "2022-06-07T15:13:33.477Z"
   },
   {
    "duration": 9,
    "start_time": "2022-06-07T15:13:33.489Z"
   },
   {
    "duration": 21,
    "start_time": "2022-06-07T15:13:33.499Z"
   },
   {
    "duration": 5,
    "start_time": "2022-06-07T15:13:33.522Z"
   },
   {
    "duration": 9,
    "start_time": "2022-06-07T15:13:33.528Z"
   },
   {
    "duration": 17,
    "start_time": "2022-06-07T15:13:33.538Z"
   },
   {
    "duration": 75,
    "start_time": "2022-06-07T15:13:33.557Z"
   },
   {
    "duration": 8,
    "start_time": "2022-06-07T15:13:33.633Z"
   },
   {
    "duration": 8,
    "start_time": "2022-06-07T15:13:33.642Z"
   },
   {
    "duration": 7,
    "start_time": "2022-06-07T15:13:33.653Z"
   },
   {
    "duration": 21,
    "start_time": "2022-06-07T15:13:33.661Z"
   },
   {
    "duration": 12,
    "start_time": "2022-06-07T15:13:33.684Z"
   },
   {
    "duration": 20,
    "start_time": "2022-06-07T15:13:33.698Z"
   },
   {
    "duration": 4,
    "start_time": "2022-06-07T15:13:33.720Z"
   },
   {
    "duration": 7,
    "start_time": "2022-06-07T15:13:33.726Z"
   },
   {
    "duration": 6,
    "start_time": "2022-06-07T15:13:33.735Z"
   },
   {
    "duration": 28,
    "start_time": "2022-06-07T15:13:33.742Z"
   },
   {
    "duration": 31,
    "start_time": "2022-06-07T15:13:33.772Z"
   },
   {
    "duration": 9,
    "start_time": "2022-06-07T15:13:33.805Z"
   },
   {
    "duration": 20,
    "start_time": "2022-06-07T15:13:33.816Z"
   },
   {
    "duration": 6,
    "start_time": "2022-06-07T15:13:33.838Z"
   },
   {
    "duration": 8,
    "start_time": "2022-06-07T15:13:33.845Z"
   },
   {
    "duration": 8,
    "start_time": "2022-06-07T15:13:33.855Z"
   },
   {
    "duration": 46,
    "start_time": "2022-06-07T15:13:33.865Z"
   },
   {
    "duration": 29,
    "start_time": "2022-06-07T15:13:33.913Z"
   },
   {
    "duration": 6,
    "start_time": "2022-06-07T15:13:33.944Z"
   },
   {
    "duration": 9,
    "start_time": "2022-06-07T15:13:33.951Z"
   },
   {
    "duration": 11,
    "start_time": "2022-06-07T15:13:33.962Z"
   },
   {
    "duration": 10,
    "start_time": "2022-06-07T15:13:33.994Z"
   },
   {
    "duration": 19,
    "start_time": "2022-06-07T15:13:34.006Z"
   },
   {
    "duration": 9,
    "start_time": "2022-06-07T15:13:34.027Z"
   },
   {
    "duration": 12,
    "start_time": "2022-06-07T15:13:34.038Z"
   },
   {
    "duration": 44,
    "start_time": "2022-06-07T15:13:34.051Z"
   },
   {
    "duration": 23,
    "start_time": "2022-06-07T15:13:34.097Z"
   },
   {
    "duration": 7,
    "start_time": "2022-06-07T15:13:34.122Z"
   },
   {
    "duration": 7,
    "start_time": "2022-06-07T15:13:34.130Z"
   },
   {
    "duration": 9,
    "start_time": "2022-06-07T15:13:34.142Z"
   },
   {
    "duration": 7,
    "start_time": "2022-06-07T15:13:34.152Z"
   },
   {
    "duration": 34,
    "start_time": "2022-06-07T15:13:34.161Z"
   },
   {
    "duration": 6,
    "start_time": "2022-06-07T15:13:34.197Z"
   },
   {
    "duration": 9,
    "start_time": "2022-06-07T15:13:34.205Z"
   },
   {
    "duration": 7,
    "start_time": "2022-06-07T15:13:34.216Z"
   },
   {
    "duration": 37,
    "start_time": "2022-06-07T15:13:34.224Z"
   },
   {
    "duration": 5,
    "start_time": "2022-06-07T15:13:34.263Z"
   },
   {
    "duration": 25,
    "start_time": "2022-06-07T15:13:34.270Z"
   },
   {
    "duration": 212,
    "start_time": "2022-06-07T15:13:34.297Z"
   },
   {
    "duration": 193,
    "start_time": "2022-06-07T15:13:34.511Z"
   },
   {
    "duration": 8,
    "start_time": "2022-06-07T15:13:34.706Z"
   },
   {
    "duration": 31,
    "start_time": "2022-06-07T15:13:34.716Z"
   },
   {
    "duration": 19,
    "start_time": "2022-06-07T15:13:34.748Z"
   },
   {
    "duration": 134,
    "start_time": "2022-06-07T15:13:34.769Z"
   },
   {
    "duration": 5,
    "start_time": "2022-06-07T15:13:34.904Z"
   },
   {
    "duration": 198,
    "start_time": "2022-06-07T15:13:34.911Z"
   },
   {
    "duration": 119,
    "start_time": "2022-06-07T15:13:35.112Z"
   },
   {
    "duration": 104,
    "start_time": "2022-06-07T15:13:35.233Z"
   },
   {
    "duration": 108,
    "start_time": "2022-06-07T15:13:35.339Z"
   },
   {
    "duration": 13,
    "start_time": "2022-06-07T15:13:35.449Z"
   },
   {
    "duration": 14,
    "start_time": "2022-06-07T15:13:35.464Z"
   },
   {
    "duration": 19,
    "start_time": "2022-06-07T15:13:35.479Z"
   },
   {
    "duration": 6,
    "start_time": "2022-06-07T15:13:35.499Z"
   },
   {
    "duration": 6,
    "start_time": "2022-06-07T15:13:35.506Z"
   },
   {
    "duration": 112,
    "start_time": "2022-06-07T15:13:35.514Z"
   },
   {
    "duration": 0,
    "start_time": "2022-06-07T15:13:35.628Z"
   },
   {
    "duration": 0,
    "start_time": "2022-06-07T15:13:35.629Z"
   },
   {
    "duration": 0,
    "start_time": "2022-06-07T15:13:35.631Z"
   },
   {
    "duration": 0,
    "start_time": "2022-06-07T15:13:35.632Z"
   },
   {
    "duration": 0,
    "start_time": "2022-06-07T15:13:35.633Z"
   },
   {
    "duration": 0,
    "start_time": "2022-06-07T15:13:35.635Z"
   },
   {
    "duration": 0,
    "start_time": "2022-06-07T15:13:35.636Z"
   },
   {
    "duration": 0,
    "start_time": "2022-06-07T15:13:35.741Z"
   },
   {
    "duration": 0,
    "start_time": "2022-06-07T15:13:35.743Z"
   },
   {
    "duration": 0,
    "start_time": "2022-06-07T15:13:35.744Z"
   },
   {
    "duration": 0,
    "start_time": "2022-06-07T15:13:35.745Z"
   },
   {
    "duration": 0,
    "start_time": "2022-06-07T15:13:35.747Z"
   },
   {
    "duration": 0,
    "start_time": "2022-06-07T15:13:35.748Z"
   },
   {
    "duration": 0,
    "start_time": "2022-06-07T15:13:35.750Z"
   },
   {
    "duration": 0,
    "start_time": "2022-06-07T15:13:35.751Z"
   },
   {
    "duration": 0,
    "start_time": "2022-06-07T15:13:35.753Z"
   },
   {
    "duration": 1,
    "start_time": "2022-06-07T15:13:35.754Z"
   },
   {
    "duration": 0,
    "start_time": "2022-06-07T15:13:35.756Z"
   },
   {
    "duration": 0,
    "start_time": "2022-06-07T15:13:35.758Z"
   },
   {
    "duration": 0,
    "start_time": "2022-06-07T15:13:35.759Z"
   },
   {
    "duration": 0,
    "start_time": "2022-06-07T15:13:35.760Z"
   },
   {
    "duration": 0,
    "start_time": "2022-06-07T15:13:35.762Z"
   },
   {
    "duration": 0,
    "start_time": "2022-06-07T15:13:35.763Z"
   },
   {
    "duration": 0,
    "start_time": "2022-06-07T15:13:35.795Z"
   },
   {
    "duration": 0,
    "start_time": "2022-06-07T15:13:35.796Z"
   },
   {
    "duration": 0,
    "start_time": "2022-06-07T15:13:35.797Z"
   },
   {
    "duration": 0,
    "start_time": "2022-06-07T15:13:35.799Z"
   },
   {
    "duration": 0,
    "start_time": "2022-06-07T15:13:35.800Z"
   },
   {
    "duration": 0,
    "start_time": "2022-06-07T15:13:35.801Z"
   },
   {
    "duration": 0,
    "start_time": "2022-06-07T15:13:35.801Z"
   },
   {
    "duration": 0,
    "start_time": "2022-06-07T15:13:35.803Z"
   },
   {
    "duration": 0,
    "start_time": "2022-06-07T15:13:35.804Z"
   },
   {
    "duration": 7,
    "start_time": "2022-06-07T15:13:47.599Z"
   },
   {
    "duration": 30,
    "start_time": "2022-06-07T15:13:51.961Z"
   },
   {
    "duration": 181,
    "start_time": "2022-06-07T15:14:05.807Z"
   },
   {
    "duration": 156,
    "start_time": "2022-06-07T15:14:40.007Z"
   },
   {
    "duration": 13,
    "start_time": "2022-06-07T15:14:53.906Z"
   },
   {
    "duration": 13,
    "start_time": "2022-06-07T15:15:19.829Z"
   },
   {
    "duration": 15,
    "start_time": "2022-06-07T15:15:24.083Z"
   },
   {
    "duration": 160,
    "start_time": "2022-06-07T15:15:29.164Z"
   },
   {
    "duration": 733,
    "start_time": "2022-06-07T15:17:52.964Z"
   },
   {
    "duration": 3,
    "start_time": "2022-06-07T15:17:53.699Z"
   },
   {
    "duration": 131,
    "start_time": "2022-06-07T15:17:53.704Z"
   },
   {
    "duration": 15,
    "start_time": "2022-06-07T15:17:53.837Z"
   },
   {
    "duration": 10,
    "start_time": "2022-06-07T15:17:53.854Z"
   },
   {
    "duration": 8,
    "start_time": "2022-06-07T15:17:53.866Z"
   },
   {
    "duration": 17,
    "start_time": "2022-06-07T15:17:53.876Z"
   },
   {
    "duration": 6,
    "start_time": "2022-06-07T15:17:53.894Z"
   },
   {
    "duration": 8,
    "start_time": "2022-06-07T15:17:53.901Z"
   },
   {
    "duration": 16,
    "start_time": "2022-06-07T15:17:53.911Z"
   },
   {
    "duration": 78,
    "start_time": "2022-06-07T15:17:53.928Z"
   },
   {
    "duration": 7,
    "start_time": "2022-06-07T15:17:54.008Z"
   },
   {
    "duration": 10,
    "start_time": "2022-06-07T15:17:54.017Z"
   },
   {
    "duration": 6,
    "start_time": "2022-06-07T15:17:54.029Z"
   },
   {
    "duration": 24,
    "start_time": "2022-06-07T15:17:54.037Z"
   },
   {
    "duration": 12,
    "start_time": "2022-06-07T15:17:54.063Z"
   },
   {
    "duration": 29,
    "start_time": "2022-06-07T15:17:54.077Z"
   },
   {
    "duration": 4,
    "start_time": "2022-06-07T15:17:54.108Z"
   },
   {
    "duration": 8,
    "start_time": "2022-06-07T15:17:54.114Z"
   },
   {
    "duration": 7,
    "start_time": "2022-06-07T15:17:54.124Z"
   },
   {
    "duration": 19,
    "start_time": "2022-06-07T15:17:54.133Z"
   },
   {
    "duration": 24,
    "start_time": "2022-06-07T15:17:54.154Z"
   },
   {
    "duration": 14,
    "start_time": "2022-06-07T15:17:54.181Z"
   },
   {
    "duration": 39,
    "start_time": "2022-06-07T15:17:54.196Z"
   },
   {
    "duration": 7,
    "start_time": "2022-06-07T15:17:54.237Z"
   },
   {
    "duration": 6,
    "start_time": "2022-06-07T15:17:54.246Z"
   },
   {
    "duration": 6,
    "start_time": "2022-06-07T15:17:54.254Z"
   },
   {
    "duration": 38,
    "start_time": "2022-06-07T15:17:54.264Z"
   },
   {
    "duration": 37,
    "start_time": "2022-06-07T15:17:54.303Z"
   },
   {
    "duration": 7,
    "start_time": "2022-06-07T15:17:54.343Z"
   },
   {
    "duration": 4,
    "start_time": "2022-06-07T15:17:54.352Z"
   },
   {
    "duration": 8,
    "start_time": "2022-06-07T15:17:54.358Z"
   },
   {
    "duration": 12,
    "start_time": "2022-06-07T15:17:54.395Z"
   },
   {
    "duration": 25,
    "start_time": "2022-06-07T15:17:54.409Z"
   },
   {
    "duration": 8,
    "start_time": "2022-06-07T15:17:54.436Z"
   },
   {
    "duration": 17,
    "start_time": "2022-06-07T15:17:54.446Z"
   },
   {
    "duration": 44,
    "start_time": "2022-06-07T15:17:54.465Z"
   },
   {
    "duration": 29,
    "start_time": "2022-06-07T15:17:54.511Z"
   },
   {
    "duration": 9,
    "start_time": "2022-06-07T15:17:54.545Z"
   },
   {
    "duration": 12,
    "start_time": "2022-06-07T15:17:54.556Z"
   },
   {
    "duration": 27,
    "start_time": "2022-06-07T15:17:54.569Z"
   },
   {
    "duration": 5,
    "start_time": "2022-06-07T15:17:54.598Z"
   },
   {
    "duration": 9,
    "start_time": "2022-06-07T15:17:54.604Z"
   },
   {
    "duration": 9,
    "start_time": "2022-06-07T15:17:54.614Z"
   },
   {
    "duration": 15,
    "start_time": "2022-06-07T15:17:54.624Z"
   },
   {
    "duration": 9,
    "start_time": "2022-06-07T15:17:54.641Z"
   },
   {
    "duration": 47,
    "start_time": "2022-06-07T15:17:54.651Z"
   },
   {
    "duration": 6,
    "start_time": "2022-06-07T15:17:54.700Z"
   },
   {
    "duration": 8,
    "start_time": "2022-06-07T15:17:54.707Z"
   },
   {
    "duration": 211,
    "start_time": "2022-06-07T15:17:54.716Z"
   },
   {
    "duration": 188,
    "start_time": "2022-06-07T15:17:54.929Z"
   },
   {
    "duration": 7,
    "start_time": "2022-06-07T15:17:55.119Z"
   },
   {
    "duration": 29,
    "start_time": "2022-06-07T15:17:55.127Z"
   },
   {
    "duration": 20,
    "start_time": "2022-06-07T15:17:55.157Z"
   },
   {
    "duration": 119,
    "start_time": "2022-06-07T15:17:55.194Z"
   },
   {
    "duration": 5,
    "start_time": "2022-06-07T15:17:55.315Z"
   },
   {
    "duration": 214,
    "start_time": "2022-06-07T15:17:55.322Z"
   },
   {
    "duration": 130,
    "start_time": "2022-06-07T15:17:55.538Z"
   },
   {
    "duration": 103,
    "start_time": "2022-06-07T15:17:55.670Z"
   },
   {
    "duration": 100,
    "start_time": "2022-06-07T15:17:55.775Z"
   },
   {
    "duration": 32,
    "start_time": "2022-06-07T15:17:55.877Z"
   },
   {
    "duration": 23,
    "start_time": "2022-06-07T15:17:55.910Z"
   },
   {
    "duration": 21,
    "start_time": "2022-06-07T15:17:55.934Z"
   },
   {
    "duration": 16,
    "start_time": "2022-06-07T15:17:55.957Z"
   },
   {
    "duration": 16,
    "start_time": "2022-06-07T15:17:55.974Z"
   },
   {
    "duration": 33,
    "start_time": "2022-06-07T15:17:55.991Z"
   },
   {
    "duration": 254,
    "start_time": "2022-06-07T15:17:56.026Z"
   },
   {
    "duration": 198,
    "start_time": "2022-06-07T15:17:56.282Z"
   },
   {
    "duration": 27,
    "start_time": "2022-06-07T15:17:56.482Z"
   },
   {
    "duration": 51,
    "start_time": "2022-06-07T15:17:56.511Z"
   },
   {
    "duration": 304,
    "start_time": "2022-06-07T15:17:56.564Z"
   },
   {
    "duration": 28,
    "start_time": "2022-06-07T15:17:56.870Z"
   },
   {
    "duration": 50,
    "start_time": "2022-06-07T15:17:56.900Z"
   },
   {
    "duration": 5,
    "start_time": "2022-06-07T15:17:56.952Z"
   },
   {
    "duration": 11,
    "start_time": "2022-06-07T15:17:56.958Z"
   },
   {
    "duration": 24,
    "start_time": "2022-06-07T15:17:56.971Z"
   },
   {
    "duration": 5,
    "start_time": "2022-06-07T15:17:56.997Z"
   },
   {
    "duration": 34,
    "start_time": "2022-06-07T15:17:57.004Z"
   },
   {
    "duration": 7,
    "start_time": "2022-06-07T15:17:57.040Z"
   },
   {
    "duration": 13,
    "start_time": "2022-06-07T15:17:57.049Z"
   },
   {
    "duration": 9,
    "start_time": "2022-06-07T15:17:57.063Z"
   },
   {
    "duration": 18,
    "start_time": "2022-06-07T15:17:57.077Z"
   },
   {
    "duration": 212,
    "start_time": "2022-06-07T15:17:57.097Z"
   },
   {
    "duration": 26,
    "start_time": "2022-06-07T15:17:57.310Z"
   },
   {
    "duration": 12,
    "start_time": "2022-06-07T15:17:57.337Z"
   },
   {
    "duration": 15,
    "start_time": "2022-06-07T15:17:57.351Z"
   },
   {
    "duration": 36,
    "start_time": "2022-06-07T15:17:57.367Z"
   },
   {
    "duration": 18,
    "start_time": "2022-06-07T15:17:57.405Z"
   },
   {
    "duration": 18,
    "start_time": "2022-06-07T15:17:57.424Z"
   },
   {
    "duration": 361,
    "start_time": "2022-06-07T15:17:57.443Z"
   },
   {
    "duration": 19,
    "start_time": "2022-06-07T15:17:57.806Z"
   },
   {
    "duration": 21,
    "start_time": "2022-06-07T15:17:57.827Z"
   },
   {
    "duration": 18,
    "start_time": "2022-06-07T15:17:57.850Z"
   },
   {
    "duration": 25,
    "start_time": "2022-06-07T15:17:57.895Z"
   },
   {
    "duration": 5,
    "start_time": "2022-06-07T15:17:57.921Z"
   },
   {
    "duration": 200,
    "start_time": "2022-06-07T15:17:57.927Z"
   },
   {
    "duration": 15,
    "start_time": "2022-06-07T15:17:58.129Z"
   },
   {
    "duration": 7,
    "start_time": "2022-06-07T15:17:58.146Z"
   },
   {
    "duration": 179,
    "start_time": "2022-06-07T15:17:58.155Z"
   },
   {
    "duration": 756,
    "start_time": "2022-06-07T19:57:49.285Z"
   },
   {
    "duration": 4,
    "start_time": "2022-06-07T19:57:50.043Z"
   },
   {
    "duration": 410,
    "start_time": "2022-06-07T19:57:50.049Z"
   },
   {
    "duration": 14,
    "start_time": "2022-06-07T19:57:50.461Z"
   },
   {
    "duration": 9,
    "start_time": "2022-06-07T19:57:50.476Z"
   },
   {
    "duration": 7,
    "start_time": "2022-06-07T19:57:50.486Z"
   },
   {
    "duration": 14,
    "start_time": "2022-06-07T19:57:50.494Z"
   },
   {
    "duration": 5,
    "start_time": "2022-06-07T19:57:50.509Z"
   },
   {
    "duration": 5,
    "start_time": "2022-06-07T19:57:50.516Z"
   },
   {
    "duration": 20,
    "start_time": "2022-06-07T19:57:50.522Z"
   },
   {
    "duration": 56,
    "start_time": "2022-06-07T19:57:50.543Z"
   },
   {
    "duration": 6,
    "start_time": "2022-06-07T19:57:50.601Z"
   },
   {
    "duration": 25,
    "start_time": "2022-06-07T19:57:50.608Z"
   },
   {
    "duration": 1,
    "start_time": "2022-06-07T19:57:50.638Z"
   },
   {
    "duration": 7,
    "start_time": "2022-06-07T19:57:50.643Z"
   },
   {
    "duration": 3,
    "start_time": "2022-06-07T19:57:50.652Z"
   },
   {
    "duration": 16,
    "start_time": "2022-06-07T19:57:50.656Z"
   },
   {
    "duration": 3,
    "start_time": "2022-06-07T19:57:50.673Z"
   },
   {
    "duration": 5,
    "start_time": "2022-06-07T19:57:50.677Z"
   },
   {
    "duration": 6,
    "start_time": "2022-06-07T19:57:50.683Z"
   },
   {
    "duration": 15,
    "start_time": "2022-06-07T19:57:50.690Z"
   },
   {
    "duration": 33,
    "start_time": "2022-06-07T19:57:50.706Z"
   },
   {
    "duration": 3,
    "start_time": "2022-06-07T19:57:50.740Z"
   },
   {
    "duration": 18,
    "start_time": "2022-06-07T19:57:50.744Z"
   },
   {
    "duration": 5,
    "start_time": "2022-06-07T19:57:50.763Z"
   },
   {
    "duration": 15,
    "start_time": "2022-06-07T19:57:50.769Z"
   },
   {
    "duration": 6,
    "start_time": "2022-06-07T19:57:50.786Z"
   },
   {
    "duration": 39,
    "start_time": "2022-06-07T19:57:50.794Z"
   },
   {
    "duration": 22,
    "start_time": "2022-06-07T19:57:50.835Z"
   },
   {
    "duration": 5,
    "start_time": "2022-06-07T19:57:50.859Z"
   },
   {
    "duration": 4,
    "start_time": "2022-06-07T19:57:50.865Z"
   },
   {
    "duration": 9,
    "start_time": "2022-06-07T19:57:50.870Z"
   },
   {
    "duration": 21,
    "start_time": "2022-06-07T19:57:50.880Z"
   },
   {
    "duration": 14,
    "start_time": "2022-06-07T19:57:50.903Z"
   },
   {
    "duration": 6,
    "start_time": "2022-06-07T19:57:50.919Z"
   },
   {
    "duration": 23,
    "start_time": "2022-06-07T19:57:50.926Z"
   },
   {
    "duration": 15,
    "start_time": "2022-06-07T19:57:50.950Z"
   },
   {
    "duration": 17,
    "start_time": "2022-06-07T19:57:50.967Z"
   },
   {
    "duration": 5,
    "start_time": "2022-06-07T19:57:50.985Z"
   },
   {
    "duration": 6,
    "start_time": "2022-06-07T19:57:50.991Z"
   },
   {
    "duration": 7,
    "start_time": "2022-06-07T19:57:51.002Z"
   },
   {
    "duration": 29,
    "start_time": "2022-06-07T19:57:51.010Z"
   },
   {
    "duration": 7,
    "start_time": "2022-06-07T19:57:51.041Z"
   },
   {
    "duration": 7,
    "start_time": "2022-06-07T19:57:51.049Z"
   },
   {
    "duration": 8,
    "start_time": "2022-06-07T19:57:51.057Z"
   },
   {
    "duration": 8,
    "start_time": "2022-06-07T19:57:51.066Z"
   },
   {
    "duration": 20,
    "start_time": "2022-06-07T19:57:51.075Z"
   },
   {
    "duration": 4,
    "start_time": "2022-06-07T19:57:51.097Z"
   },
   {
    "duration": 27,
    "start_time": "2022-06-07T19:57:51.102Z"
   },
   {
    "duration": 168,
    "start_time": "2022-06-07T19:57:51.130Z"
   },
   {
    "duration": 154,
    "start_time": "2022-06-07T19:57:51.300Z"
   },
   {
    "duration": 5,
    "start_time": "2022-06-07T19:57:51.456Z"
   },
   {
    "duration": 22,
    "start_time": "2022-06-07T19:57:51.463Z"
   },
   {
    "duration": 17,
    "start_time": "2022-06-07T19:57:51.486Z"
   },
   {
    "duration": 133,
    "start_time": "2022-06-07T19:57:51.504Z"
   },
   {
    "duration": 4,
    "start_time": "2022-06-07T19:57:51.639Z"
   },
   {
    "duration": 151,
    "start_time": "2022-06-07T19:57:51.645Z"
   },
   {
    "duration": 109,
    "start_time": "2022-06-07T19:57:51.797Z"
   },
   {
    "duration": 88,
    "start_time": "2022-06-07T19:57:51.908Z"
   },
   {
    "duration": 94,
    "start_time": "2022-06-07T19:57:51.998Z"
   },
   {
    "duration": 14,
    "start_time": "2022-06-07T19:57:52.094Z"
   },
   {
    "duration": 30,
    "start_time": "2022-06-07T19:57:52.109Z"
   },
   {
    "duration": 33,
    "start_time": "2022-06-07T19:57:52.141Z"
   },
   {
    "duration": 14,
    "start_time": "2022-06-07T19:57:52.175Z"
   },
   {
    "duration": 12,
    "start_time": "2022-06-07T19:57:52.190Z"
   },
   {
    "duration": 25,
    "start_time": "2022-06-07T19:57:52.204Z"
   },
   {
    "duration": 183,
    "start_time": "2022-06-07T19:57:52.234Z"
   },
   {
    "duration": 146,
    "start_time": "2022-06-07T19:57:52.419Z"
   },
   {
    "duration": 13,
    "start_time": "2022-06-07T19:57:52.567Z"
   },
   {
    "duration": 57,
    "start_time": "2022-06-07T19:57:52.582Z"
   },
   {
    "duration": 250,
    "start_time": "2022-06-07T19:57:52.641Z"
   },
   {
    "duration": 19,
    "start_time": "2022-06-07T19:57:52.892Z"
   },
   {
    "duration": 43,
    "start_time": "2022-06-07T19:57:52.925Z"
   },
   {
    "duration": 3,
    "start_time": "2022-06-07T19:57:52.970Z"
   },
   {
    "duration": 17,
    "start_time": "2022-06-07T19:57:52.975Z"
   },
   {
    "duration": 15,
    "start_time": "2022-06-07T19:57:52.993Z"
   },
   {
    "duration": 29,
    "start_time": "2022-06-07T19:57:53.010Z"
   },
   {
    "duration": 51,
    "start_time": "2022-06-07T19:57:53.040Z"
   },
   {
    "duration": 9,
    "start_time": "2022-06-07T19:57:53.092Z"
   },
   {
    "duration": 36,
    "start_time": "2022-06-07T19:57:53.102Z"
   },
   {
    "duration": 27,
    "start_time": "2022-06-07T19:57:53.139Z"
   },
   {
    "duration": 16,
    "start_time": "2022-06-07T19:57:53.167Z"
   },
   {
    "duration": 177,
    "start_time": "2022-06-07T19:57:53.184Z"
   },
   {
    "duration": 20,
    "start_time": "2022-06-07T19:57:53.362Z"
   },
   {
    "duration": 5,
    "start_time": "2022-06-07T19:57:53.383Z"
   },
   {
    "duration": 19,
    "start_time": "2022-06-07T19:57:53.389Z"
   },
   {
    "duration": 37,
    "start_time": "2022-06-07T19:57:53.409Z"
   },
   {
    "duration": 20,
    "start_time": "2022-06-07T19:57:53.447Z"
   },
   {
    "duration": 15,
    "start_time": "2022-06-07T19:57:53.468Z"
   },
   {
    "duration": 285,
    "start_time": "2022-06-07T19:57:53.484Z"
   },
   {
    "duration": 17,
    "start_time": "2022-06-07T19:57:53.771Z"
   },
   {
    "duration": 20,
    "start_time": "2022-06-07T19:57:53.789Z"
   },
   {
    "duration": 36,
    "start_time": "2022-06-07T19:57:53.811Z"
   },
   {
    "duration": 20,
    "start_time": "2022-06-07T19:57:53.849Z"
   },
   {
    "duration": 5,
    "start_time": "2022-06-07T19:57:53.870Z"
   },
   {
    "duration": 180,
    "start_time": "2022-06-07T19:57:53.876Z"
   },
   {
    "duration": 12,
    "start_time": "2022-06-07T19:57:54.058Z"
   },
   {
    "duration": 7,
    "start_time": "2022-06-07T19:57:54.071Z"
   },
   {
    "duration": 142,
    "start_time": "2022-06-07T19:57:54.079Z"
   },
   {
    "duration": 11,
    "start_time": "2022-06-07T20:09:21.372Z"
   },
   {
    "duration": 90,
    "start_time": "2022-06-07T20:09:44.564Z"
   },
   {
    "duration": 13,
    "start_time": "2022-06-07T20:10:31.792Z"
   },
   {
    "duration": 5,
    "start_time": "2022-06-07T20:13:14.263Z"
   },
   {
    "duration": 14,
    "start_time": "2022-06-07T20:13:24.452Z"
   },
   {
    "duration": 6,
    "start_time": "2022-06-07T20:14:05.276Z"
   },
   {
    "duration": 16,
    "start_time": "2022-06-07T20:14:13.063Z"
   },
   {
    "duration": 5,
    "start_time": "2022-06-07T20:14:33.200Z"
   },
   {
    "duration": 9,
    "start_time": "2022-06-07T20:14:41.704Z"
   },
   {
    "duration": 8,
    "start_time": "2022-06-07T20:19:30.662Z"
   },
   {
    "duration": 10,
    "start_time": "2022-06-07T20:19:38.994Z"
   },
   {
    "duration": 4,
    "start_time": "2022-06-07T20:19:52.473Z"
   },
   {
    "duration": 12,
    "start_time": "2022-06-07T20:19:52.926Z"
   },
   {
    "duration": 4,
    "start_time": "2022-06-07T20:19:53.568Z"
   },
   {
    "duration": 4,
    "start_time": "2022-06-07T20:19:54.558Z"
   },
   {
    "duration": 20,
    "start_time": "2022-06-07T20:19:55.477Z"
   },
   {
    "duration": 67,
    "start_time": "2022-06-07T20:19:55.882Z"
   },
   {
    "duration": 8,
    "start_time": "2022-06-07T20:19:57.821Z"
   },
   {
    "duration": 6,
    "start_time": "2022-06-07T20:19:58.499Z"
   },
   {
    "duration": 3,
    "start_time": "2022-06-07T20:19:58.849Z"
   },
   {
    "duration": 9,
    "start_time": "2022-06-07T20:19:59.676Z"
   },
   {
    "duration": 5,
    "start_time": "2022-06-07T20:20:00.056Z"
   },
   {
    "duration": 18,
    "start_time": "2022-06-07T20:20:00.658Z"
   },
   {
    "duration": 3,
    "start_time": "2022-06-07T20:20:03.592Z"
   },
   {
    "duration": 4,
    "start_time": "2022-06-07T20:20:03.861Z"
   },
   {
    "duration": 4,
    "start_time": "2022-06-07T20:20:04.187Z"
   },
   {
    "duration": 16,
    "start_time": "2022-06-07T20:20:05.101Z"
   },
   {
    "duration": 9,
    "start_time": "2022-06-07T20:20:05.618Z"
   },
   {
    "duration": 3,
    "start_time": "2022-06-07T20:20:06.270Z"
   },
   {
    "duration": 23,
    "start_time": "2022-06-07T20:20:06.600Z"
   },
   {
    "duration": 4,
    "start_time": "2022-06-07T20:20:07.281Z"
   },
   {
    "duration": 4,
    "start_time": "2022-06-07T20:20:07.853Z"
   },
   {
    "duration": 5,
    "start_time": "2022-06-07T20:20:08.395Z"
   },
   {
    "duration": 18,
    "start_time": "2022-06-07T20:20:11.895Z"
   },
   {
    "duration": 22,
    "start_time": "2022-06-07T20:20:13.421Z"
   },
   {
    "duration": 5,
    "start_time": "2022-06-07T20:20:15.161Z"
   },
   {
    "duration": 2,
    "start_time": "2022-06-07T20:20:18.451Z"
   },
   {
    "duration": 5,
    "start_time": "2022-06-07T20:20:18.933Z"
   },
   {
    "duration": 8,
    "start_time": "2022-06-07T20:20:19.778Z"
   },
   {
    "duration": 15,
    "start_time": "2022-06-07T20:20:20.403Z"
   },
   {
    "duration": 5,
    "start_time": "2022-06-07T20:20:21.076Z"
   },
   {
    "duration": 9,
    "start_time": "2022-06-07T20:20:21.662Z"
   },
   {
    "duration": 14,
    "start_time": "2022-06-07T20:20:22.001Z"
   },
   {
    "duration": 18,
    "start_time": "2022-06-07T20:20:23.784Z"
   },
   {
    "duration": 5,
    "start_time": "2022-06-07T20:20:25.183Z"
   },
   {
    "duration": 6,
    "start_time": "2022-06-07T20:20:26.297Z"
   },
   {
    "duration": 10,
    "start_time": "2022-06-07T20:20:26.666Z"
   },
   {
    "duration": 5,
    "start_time": "2022-06-07T20:20:27.051Z"
   },
   {
    "duration": 5,
    "start_time": "2022-06-07T20:20:27.392Z"
   },
   {
    "duration": 7,
    "start_time": "2022-06-07T20:20:27.769Z"
   },
   {
    "duration": 7,
    "start_time": "2022-06-07T20:20:28.119Z"
   },
   {
    "duration": 4,
    "start_time": "2022-06-07T20:20:28.477Z"
   },
   {
    "duration": 20,
    "start_time": "2022-06-07T20:20:29.765Z"
   },
   {
    "duration": 5,
    "start_time": "2022-06-07T20:20:32.934Z"
   },
   {
    "duration": 5,
    "start_time": "2022-06-07T20:20:35.325Z"
   },
   {
    "duration": 177,
    "start_time": "2022-06-07T20:20:42.124Z"
   },
   {
    "duration": 141,
    "start_time": "2022-06-07T20:20:42.751Z"
   },
   {
    "duration": 6,
    "start_time": "2022-06-07T20:20:43.093Z"
   },
   {
    "duration": 21,
    "start_time": "2022-06-07T20:20:43.461Z"
   },
   {
    "duration": 17,
    "start_time": "2022-06-07T20:20:44.095Z"
   },
   {
    "duration": 155,
    "start_time": "2022-06-07T20:20:47.172Z"
   },
   {
    "duration": 6,
    "start_time": "2022-06-07T20:20:47.946Z"
   },
   {
    "duration": 146,
    "start_time": "2022-06-07T20:20:49.862Z"
   },
   {
    "duration": 93,
    "start_time": "2022-06-07T20:20:50.886Z"
   },
   {
    "duration": 78,
    "start_time": "2022-06-07T20:20:53.306Z"
   },
   {
    "duration": 75,
    "start_time": "2022-06-07T20:20:58.606Z"
   },
   {
    "duration": 5,
    "start_time": "2022-06-07T20:26:45.877Z"
   },
   {
    "duration": 4,
    "start_time": "2022-06-07T20:30:45.505Z"
   },
   {
    "duration": 89,
    "start_time": "2022-06-07T20:30:59.856Z"
   },
   {
    "duration": 109,
    "start_time": "2022-06-07T20:31:09.866Z"
   },
   {
    "duration": 86,
    "start_time": "2022-06-07T20:31:20.907Z"
   },
   {
    "duration": 4,
    "start_time": "2022-06-07T20:33:18.644Z"
   },
   {
    "duration": 4,
    "start_time": "2022-06-07T20:33:21.450Z"
   },
   {
    "duration": 3,
    "start_time": "2022-06-07T20:33:23.513Z"
   },
   {
    "duration": 2,
    "start_time": "2022-06-07T20:33:27.651Z"
   },
   {
    "duration": 11,
    "start_time": "2022-06-07T20:33:30.544Z"
   },
   {
    "duration": 147,
    "start_time": "2022-06-07T20:33:43.001Z"
   },
   {
    "duration": 628,
    "start_time": "2022-06-07T20:34:21.706Z"
   },
   {
    "duration": 2,
    "start_time": "2022-06-07T20:34:22.336Z"
   },
   {
    "duration": 126,
    "start_time": "2022-06-07T20:34:22.339Z"
   },
   {
    "duration": 14,
    "start_time": "2022-06-07T20:34:22.467Z"
   },
   {
    "duration": 8,
    "start_time": "2022-06-07T20:34:22.483Z"
   },
   {
    "duration": 9,
    "start_time": "2022-06-07T20:34:22.492Z"
   },
   {
    "duration": 13,
    "start_time": "2022-06-07T20:34:22.502Z"
   },
   {
    "duration": 4,
    "start_time": "2022-06-07T20:34:22.516Z"
   },
   {
    "duration": 5,
    "start_time": "2022-06-07T20:34:22.522Z"
   },
   {
    "duration": 12,
    "start_time": "2022-06-07T20:34:22.529Z"
   },
   {
    "duration": 52,
    "start_time": "2022-06-07T20:34:22.542Z"
   },
   {
    "duration": 6,
    "start_time": "2022-06-07T20:34:22.595Z"
   },
   {
    "duration": 22,
    "start_time": "2022-06-07T20:34:22.603Z"
   },
   {
    "duration": 6,
    "start_time": "2022-06-07T20:34:22.627Z"
   },
   {
    "duration": 10,
    "start_time": "2022-06-07T20:34:22.634Z"
   },
   {
    "duration": 4,
    "start_time": "2022-06-07T20:34:22.646Z"
   },
   {
    "duration": 20,
    "start_time": "2022-06-07T20:34:22.651Z"
   },
   {
    "duration": 3,
    "start_time": "2022-06-07T20:34:22.672Z"
   },
   {
    "duration": 11,
    "start_time": "2022-06-07T20:34:22.676Z"
   },
   {
    "duration": 8,
    "start_time": "2022-06-07T20:34:22.688Z"
   },
   {
    "duration": 27,
    "start_time": "2022-06-07T20:34:22.698Z"
   },
   {
    "duration": 7,
    "start_time": "2022-06-07T20:34:22.727Z"
   },
   {
    "duration": 4,
    "start_time": "2022-06-07T20:34:22.736Z"
   },
   {
    "duration": 19,
    "start_time": "2022-06-07T20:34:22.741Z"
   },
   {
    "duration": 4,
    "start_time": "2022-06-07T20:34:22.762Z"
   },
   {
    "duration": 5,
    "start_time": "2022-06-07T20:34:22.768Z"
   },
   {
    "duration": 6,
    "start_time": "2022-06-07T20:34:22.775Z"
   },
   {
    "duration": 50,
    "start_time": "2022-06-07T20:34:22.785Z"
   },
   {
    "duration": 22,
    "start_time": "2022-06-07T20:34:22.837Z"
   },
   {
    "duration": 5,
    "start_time": "2022-06-07T20:34:22.860Z"
   },
   {
    "duration": 4,
    "start_time": "2022-06-07T20:34:22.866Z"
   },
   {
    "duration": 8,
    "start_time": "2022-06-07T20:34:22.871Z"
   },
   {
    "duration": 10,
    "start_time": "2022-06-07T20:34:22.880Z"
   },
   {
    "duration": 39,
    "start_time": "2022-06-07T20:34:22.891Z"
   },
   {
    "duration": 8,
    "start_time": "2022-06-07T20:34:22.932Z"
   },
   {
    "duration": 9,
    "start_time": "2022-06-07T20:34:22.942Z"
   },
   {
    "duration": 12,
    "start_time": "2022-06-07T20:34:22.952Z"
   },
   {
    "duration": 18,
    "start_time": "2022-06-07T20:34:22.966Z"
   },
   {
    "duration": 7,
    "start_time": "2022-06-07T20:34:22.986Z"
   },
   {
    "duration": 30,
    "start_time": "2022-06-07T20:34:22.995Z"
   },
   {
    "duration": 8,
    "start_time": "2022-06-07T20:34:23.027Z"
   },
   {
    "duration": 7,
    "start_time": "2022-06-07T20:34:23.036Z"
   },
   {
    "duration": 5,
    "start_time": "2022-06-07T20:34:23.044Z"
   },
   {
    "duration": 7,
    "start_time": "2022-06-07T20:34:23.050Z"
   },
   {
    "duration": 9,
    "start_time": "2022-06-07T20:34:23.058Z"
   },
   {
    "duration": 5,
    "start_time": "2022-06-07T20:34:23.069Z"
   },
   {
    "duration": 19,
    "start_time": "2022-06-07T20:34:23.076Z"
   },
   {
    "duration": 5,
    "start_time": "2022-06-07T20:34:23.126Z"
   },
   {
    "duration": 8,
    "start_time": "2022-06-07T20:34:23.132Z"
   },
   {
    "duration": 176,
    "start_time": "2022-06-07T20:34:23.142Z"
   },
   {
    "duration": 157,
    "start_time": "2022-06-07T20:34:23.319Z"
   },
   {
    "duration": 5,
    "start_time": "2022-06-07T20:34:23.477Z"
   },
   {
    "duration": 21,
    "start_time": "2022-06-07T20:34:23.484Z"
   },
   {
    "duration": 28,
    "start_time": "2022-06-07T20:34:23.507Z"
   },
   {
    "duration": 96,
    "start_time": "2022-06-07T20:34:23.536Z"
   },
   {
    "duration": 4,
    "start_time": "2022-06-07T20:34:23.633Z"
   },
   {
    "duration": 161,
    "start_time": "2022-06-07T20:34:23.638Z"
   },
   {
    "duration": 97,
    "start_time": "2022-06-07T20:34:23.801Z"
   },
   {
    "duration": 88,
    "start_time": "2022-06-07T20:34:23.899Z"
   },
   {
    "duration": 6,
    "start_time": "2022-06-07T20:34:23.988Z"
   },
   {
    "duration": 96,
    "start_time": "2022-06-07T20:34:23.995Z"
   },
   {
    "duration": 14,
    "start_time": "2022-06-07T20:34:24.092Z"
   },
   {
    "duration": 6,
    "start_time": "2022-06-07T20:34:24.107Z"
   },
   {
    "duration": 14,
    "start_time": "2022-06-07T20:34:24.114Z"
   },
   {
    "duration": 4,
    "start_time": "2022-06-07T20:34:24.129Z"
   },
   {
    "duration": 5,
    "start_time": "2022-06-07T20:34:24.137Z"
   },
   {
    "duration": 5,
    "start_time": "2022-06-07T20:34:24.143Z"
   },
   {
    "duration": 3,
    "start_time": "2022-06-07T20:34:24.150Z"
   },
   {
    "duration": 11,
    "start_time": "2022-06-07T20:34:24.155Z"
   },
   {
    "duration": 220,
    "start_time": "2022-06-07T20:34:24.167Z"
   },
   {
    "duration": 159,
    "start_time": "2022-06-07T20:34:24.388Z"
   },
   {
    "duration": 14,
    "start_time": "2022-06-07T20:34:24.548Z"
   },
   {
    "duration": 35,
    "start_time": "2022-06-07T20:34:24.564Z"
   },
   {
    "duration": 257,
    "start_time": "2022-06-07T20:34:24.601Z"
   },
   {
    "duration": 19,
    "start_time": "2022-06-07T20:34:24.860Z"
   },
   {
    "duration": 53,
    "start_time": "2022-06-07T20:34:24.880Z"
   },
   {
    "duration": 4,
    "start_time": "2022-06-07T20:34:24.934Z"
   },
   {
    "duration": 5,
    "start_time": "2022-06-07T20:34:24.939Z"
   },
   {
    "duration": 5,
    "start_time": "2022-06-07T20:34:24.945Z"
   },
   {
    "duration": 10,
    "start_time": "2022-06-07T20:34:24.952Z"
   },
   {
    "duration": 24,
    "start_time": "2022-06-07T20:34:24.963Z"
   },
   {
    "duration": 5,
    "start_time": "2022-06-07T20:34:24.988Z"
   },
   {
    "duration": 5,
    "start_time": "2022-06-07T20:34:24.994Z"
   },
   {
    "duration": 26,
    "start_time": "2022-06-07T20:34:25.000Z"
   },
   {
    "duration": 7,
    "start_time": "2022-06-07T20:34:25.027Z"
   },
   {
    "duration": 167,
    "start_time": "2022-06-07T20:34:25.035Z"
   },
   {
    "duration": 25,
    "start_time": "2022-06-07T20:34:25.204Z"
   },
   {
    "duration": 6,
    "start_time": "2022-06-07T20:34:25.230Z"
   },
   {
    "duration": 11,
    "start_time": "2022-06-07T20:34:25.237Z"
   },
   {
    "duration": 13,
    "start_time": "2022-06-07T20:34:25.250Z"
   },
   {
    "duration": 18,
    "start_time": "2022-06-07T20:34:25.265Z"
   },
   {
    "duration": 12,
    "start_time": "2022-06-07T20:34:25.284Z"
   },
   {
    "duration": 304,
    "start_time": "2022-06-07T20:34:25.298Z"
   },
   {
    "duration": 25,
    "start_time": "2022-06-07T20:34:25.604Z"
   },
   {
    "duration": 16,
    "start_time": "2022-06-07T20:34:25.630Z"
   },
   {
    "duration": 15,
    "start_time": "2022-06-07T20:34:25.647Z"
   },
   {
    "duration": 20,
    "start_time": "2022-06-07T20:34:25.663Z"
   },
   {
    "duration": 8,
    "start_time": "2022-06-07T20:34:25.684Z"
   },
   {
    "duration": 177,
    "start_time": "2022-06-07T20:34:25.694Z"
   },
   {
    "duration": 11,
    "start_time": "2022-06-07T20:34:25.873Z"
   },
   {
    "duration": 6,
    "start_time": "2022-06-07T20:34:25.886Z"
   },
   {
    "duration": 143,
    "start_time": "2022-06-07T20:34:25.893Z"
   },
   {
    "duration": 606,
    "start_time": "2022-06-07T20:35:22.393Z"
   },
   {
    "duration": 2,
    "start_time": "2022-06-07T20:35:23.001Z"
   },
   {
    "duration": 148,
    "start_time": "2022-06-07T20:35:23.004Z"
   },
   {
    "duration": 13,
    "start_time": "2022-06-07T20:35:23.154Z"
   },
   {
    "duration": 28,
    "start_time": "2022-06-07T20:35:23.168Z"
   },
   {
    "duration": 18,
    "start_time": "2022-06-07T20:35:23.198Z"
   },
   {
    "duration": 26,
    "start_time": "2022-06-07T20:35:23.217Z"
   },
   {
    "duration": 10,
    "start_time": "2022-06-07T20:35:23.245Z"
   },
   {
    "duration": 21,
    "start_time": "2022-06-07T20:35:23.257Z"
   },
   {
    "duration": 32,
    "start_time": "2022-06-07T20:35:23.281Z"
   },
   {
    "duration": 60,
    "start_time": "2022-06-07T20:35:23.314Z"
   },
   {
    "duration": 6,
    "start_time": "2022-06-07T20:35:23.375Z"
   },
   {
    "duration": 13,
    "start_time": "2022-06-07T20:35:23.383Z"
   },
   {
    "duration": 18,
    "start_time": "2022-06-07T20:35:23.398Z"
   },
   {
    "duration": 20,
    "start_time": "2022-06-07T20:35:23.417Z"
   },
   {
    "duration": 15,
    "start_time": "2022-06-07T20:35:23.438Z"
   },
   {
    "duration": 29,
    "start_time": "2022-06-07T20:35:23.454Z"
   },
   {
    "duration": 8,
    "start_time": "2022-06-07T20:35:23.484Z"
   },
   {
    "duration": 22,
    "start_time": "2022-06-07T20:35:23.493Z"
   },
   {
    "duration": 18,
    "start_time": "2022-06-07T20:35:23.516Z"
   },
   {
    "duration": 42,
    "start_time": "2022-06-07T20:35:23.535Z"
   },
   {
    "duration": 35,
    "start_time": "2022-06-07T20:35:23.578Z"
   },
   {
    "duration": 16,
    "start_time": "2022-06-07T20:35:23.614Z"
   },
   {
    "duration": 46,
    "start_time": "2022-06-07T20:35:23.632Z"
   },
   {
    "duration": 13,
    "start_time": "2022-06-07T20:35:23.680Z"
   },
   {
    "duration": 31,
    "start_time": "2022-06-07T20:35:23.694Z"
   },
   {
    "duration": 29,
    "start_time": "2022-06-07T20:35:23.726Z"
   },
   {
    "duration": 39,
    "start_time": "2022-06-07T20:35:23.758Z"
   },
   {
    "duration": 27,
    "start_time": "2022-06-07T20:35:23.798Z"
   },
   {
    "duration": 6,
    "start_time": "2022-06-07T20:35:23.827Z"
   },
   {
    "duration": 34,
    "start_time": "2022-06-07T20:35:23.835Z"
   },
   {
    "duration": 31,
    "start_time": "2022-06-07T20:35:23.871Z"
   },
   {
    "duration": 28,
    "start_time": "2022-06-07T20:35:23.903Z"
   },
   {
    "duration": 46,
    "start_time": "2022-06-07T20:35:23.932Z"
   },
   {
    "duration": 34,
    "start_time": "2022-06-07T20:35:23.979Z"
   },
   {
    "duration": 22,
    "start_time": "2022-06-07T20:35:24.014Z"
   },
   {
    "duration": 33,
    "start_time": "2022-06-07T20:35:24.037Z"
   },
   {
    "duration": 25,
    "start_time": "2022-06-07T20:35:24.071Z"
   },
   {
    "duration": 14,
    "start_time": "2022-06-07T20:35:24.098Z"
   },
   {
    "duration": 28,
    "start_time": "2022-06-07T20:35:24.113Z"
   },
   {
    "duration": 34,
    "start_time": "2022-06-07T20:35:24.143Z"
   },
   {
    "duration": 24,
    "start_time": "2022-06-07T20:35:24.178Z"
   },
   {
    "duration": 22,
    "start_time": "2022-06-07T20:35:24.203Z"
   },
   {
    "duration": 15,
    "start_time": "2022-06-07T20:35:24.226Z"
   },
   {
    "duration": 27,
    "start_time": "2022-06-07T20:35:24.242Z"
   },
   {
    "duration": 19,
    "start_time": "2022-06-07T20:35:24.270Z"
   },
   {
    "duration": 36,
    "start_time": "2022-06-07T20:35:24.290Z"
   },
   {
    "duration": 5,
    "start_time": "2022-06-07T20:35:24.327Z"
   },
   {
    "duration": 24,
    "start_time": "2022-06-07T20:35:24.333Z"
   },
   {
    "duration": 171,
    "start_time": "2022-06-07T20:35:24.358Z"
   },
   {
    "duration": 149,
    "start_time": "2022-06-07T20:35:24.530Z"
   },
   {
    "duration": 5,
    "start_time": "2022-06-07T20:35:24.681Z"
   },
   {
    "duration": 37,
    "start_time": "2022-06-07T20:35:24.687Z"
   },
   {
    "duration": 17,
    "start_time": "2022-06-07T20:35:24.726Z"
   },
   {
    "duration": 127,
    "start_time": "2022-06-07T20:35:24.745Z"
   },
   {
    "duration": 5,
    "start_time": "2022-06-07T20:35:24.873Z"
   },
   {
    "duration": 195,
    "start_time": "2022-06-07T20:35:24.879Z"
   },
   {
    "duration": 112,
    "start_time": "2022-06-07T20:35:25.075Z"
   },
   {
    "duration": 87,
    "start_time": "2022-06-07T20:35:25.188Z"
   },
   {
    "duration": 5,
    "start_time": "2022-06-07T20:35:25.277Z"
   },
   {
    "duration": 89,
    "start_time": "2022-06-07T20:35:25.284Z"
   },
   {
    "duration": 14,
    "start_time": "2022-06-07T20:35:25.374Z"
   },
   {
    "duration": 14,
    "start_time": "2022-06-07T20:35:25.389Z"
   },
   {
    "duration": 11,
    "start_time": "2022-06-07T20:35:25.405Z"
   },
   {
    "duration": 0,
    "start_time": "2022-06-07T20:35:25.426Z"
   },
   {
    "duration": 0,
    "start_time": "2022-06-07T20:35:25.427Z"
   },
   {
    "duration": 0,
    "start_time": "2022-06-07T20:35:25.428Z"
   },
   {
    "duration": 0,
    "start_time": "2022-06-07T20:35:25.430Z"
   },
   {
    "duration": 0,
    "start_time": "2022-06-07T20:35:25.431Z"
   },
   {
    "duration": 0,
    "start_time": "2022-06-07T20:35:25.433Z"
   },
   {
    "duration": 0,
    "start_time": "2022-06-07T20:35:25.434Z"
   },
   {
    "duration": 0,
    "start_time": "2022-06-07T20:35:25.434Z"
   },
   {
    "duration": 0,
    "start_time": "2022-06-07T20:35:25.435Z"
   },
   {
    "duration": 0,
    "start_time": "2022-06-07T20:35:25.436Z"
   },
   {
    "duration": 0,
    "start_time": "2022-06-07T20:35:25.496Z"
   },
   {
    "duration": 0,
    "start_time": "2022-06-07T20:35:25.497Z"
   },
   {
    "duration": 0,
    "start_time": "2022-06-07T20:35:25.526Z"
   },
   {
    "duration": 0,
    "start_time": "2022-06-07T20:35:25.527Z"
   },
   {
    "duration": 0,
    "start_time": "2022-06-07T20:35:25.528Z"
   },
   {
    "duration": 0,
    "start_time": "2022-06-07T20:35:25.528Z"
   },
   {
    "duration": 0,
    "start_time": "2022-06-07T20:35:25.530Z"
   },
   {
    "duration": 0,
    "start_time": "2022-06-07T20:35:25.530Z"
   },
   {
    "duration": 0,
    "start_time": "2022-06-07T20:35:25.531Z"
   },
   {
    "duration": 0,
    "start_time": "2022-06-07T20:35:25.533Z"
   },
   {
    "duration": 0,
    "start_time": "2022-06-07T20:35:25.534Z"
   },
   {
    "duration": 0,
    "start_time": "2022-06-07T20:35:25.534Z"
   },
   {
    "duration": 0,
    "start_time": "2022-06-07T20:35:25.535Z"
   },
   {
    "duration": 0,
    "start_time": "2022-06-07T20:35:25.536Z"
   },
   {
    "duration": 0,
    "start_time": "2022-06-07T20:35:25.537Z"
   },
   {
    "duration": 0,
    "start_time": "2022-06-07T20:35:25.538Z"
   },
   {
    "duration": 0,
    "start_time": "2022-06-07T20:35:25.539Z"
   },
   {
    "duration": 0,
    "start_time": "2022-06-07T20:35:25.540Z"
   },
   {
    "duration": 0,
    "start_time": "2022-06-07T20:35:25.541Z"
   },
   {
    "duration": 0,
    "start_time": "2022-06-07T20:35:25.542Z"
   },
   {
    "duration": 0,
    "start_time": "2022-06-07T20:35:25.543Z"
   },
   {
    "duration": 0,
    "start_time": "2022-06-07T20:35:25.544Z"
   },
   {
    "duration": 0,
    "start_time": "2022-06-07T20:35:25.545Z"
   },
   {
    "duration": 0,
    "start_time": "2022-06-07T20:35:25.546Z"
   },
   {
    "duration": 0,
    "start_time": "2022-06-07T20:35:25.547Z"
   },
   {
    "duration": 0,
    "start_time": "2022-06-07T20:35:25.548Z"
   },
   {
    "duration": 0,
    "start_time": "2022-06-07T20:35:25.549Z"
   },
   {
    "duration": 0,
    "start_time": "2022-06-07T20:35:25.549Z"
   },
   {
    "duration": 4,
    "start_time": "2022-06-07T20:36:13.487Z"
   },
   {
    "duration": 8,
    "start_time": "2022-06-07T20:36:14.216Z"
   },
   {
    "duration": 4,
    "start_time": "2022-06-07T20:36:14.821Z"
   },
   {
    "duration": 2,
    "start_time": "2022-06-07T20:36:15.894Z"
   },
   {
    "duration": 17,
    "start_time": "2022-06-07T20:36:18.106Z"
   },
   {
    "duration": 132,
    "start_time": "2022-06-07T20:36:21.963Z"
   },
   {
    "duration": 3,
    "start_time": "2022-06-07T20:42:08.246Z"
   },
   {
    "duration": 5,
    "start_time": "2022-06-07T20:42:13.963Z"
   },
   {
    "duration": 5,
    "start_time": "2022-06-07T20:42:20.219Z"
   },
   {
    "duration": 7,
    "start_time": "2022-06-07T20:42:30.758Z"
   },
   {
    "duration": 13,
    "start_time": "2022-06-07T20:42:53.085Z"
   },
   {
    "duration": 33,
    "start_time": "2022-06-07T20:45:52.887Z"
   },
   {
    "duration": 241,
    "start_time": "2022-06-07T20:45:54.447Z"
   },
   {
    "duration": 20,
    "start_time": "2022-06-07T20:45:55.972Z"
   },
   {
    "duration": 48,
    "start_time": "2022-06-07T20:45:58.814Z"
   },
   {
    "duration": 71,
    "start_time": "2022-06-07T20:46:53.887Z"
   },
   {
    "duration": 4,
    "start_time": "2022-06-07T20:47:01.005Z"
   },
   {
    "duration": 4,
    "start_time": "2022-06-07T20:47:02.672Z"
   },
   {
    "duration": 4,
    "start_time": "2022-06-07T20:47:05.093Z"
   },
   {
    "duration": 5,
    "start_time": "2022-06-07T20:47:06.454Z"
   },
   {
    "duration": 34,
    "start_time": "2022-06-07T20:47:08.446Z"
   },
   {
    "duration": 7,
    "start_time": "2022-06-07T20:47:12.950Z"
   },
   {
    "duration": 4,
    "start_time": "2022-06-07T20:47:14.258Z"
   },
   {
    "duration": 4,
    "start_time": "2022-06-07T20:47:16.454Z"
   },
   {
    "duration": 4,
    "start_time": "2022-06-07T20:47:17.684Z"
   },
   {
    "duration": 153,
    "start_time": "2022-06-07T20:47:31.181Z"
   },
   {
    "duration": 20,
    "start_time": "2022-06-07T20:47:43.025Z"
   },
   {
    "duration": 7,
    "start_time": "2022-06-07T20:47:44.019Z"
   },
   {
    "duration": 11,
    "start_time": "2022-06-07T20:49:02.012Z"
   },
   {
    "duration": 17,
    "start_time": "2022-06-07T20:49:04.456Z"
   },
   {
    "duration": 25,
    "start_time": "2022-06-07T20:49:32.478Z"
   },
   {
    "duration": 17,
    "start_time": "2022-06-07T20:53:18.656Z"
   },
   {
    "duration": 268,
    "start_time": "2022-06-07T20:53:41.642Z"
   },
   {
    "duration": 19,
    "start_time": "2022-06-07T20:54:02.004Z"
   },
   {
    "duration": 20,
    "start_time": "2022-06-07T20:54:03.263Z"
   },
   {
    "duration": 29,
    "start_time": "2022-06-07T20:55:16.382Z"
   },
   {
    "duration": 23,
    "start_time": "2022-06-07T20:55:28.947Z"
   },
   {
    "duration": 5,
    "start_time": "2022-06-07T20:56:11.957Z"
   },
   {
    "duration": 4,
    "start_time": "2022-06-07T20:56:44.458Z"
   },
   {
    "duration": 17,
    "start_time": "2022-06-07T20:57:26.216Z"
   },
   {
    "duration": 27,
    "start_time": "2022-06-07T20:58:08.570Z"
   },
   {
    "duration": 17,
    "start_time": "2022-06-07T20:58:22.272Z"
   },
   {
    "duration": 16,
    "start_time": "2022-06-07T20:59:46.652Z"
   },
   {
    "duration": 22,
    "start_time": "2022-06-07T21:01:24.342Z"
   },
   {
    "duration": 28,
    "start_time": "2022-06-07T21:01:53.123Z"
   },
   {
    "duration": 24,
    "start_time": "2022-06-07T21:02:37.450Z"
   },
   {
    "duration": 10,
    "start_time": "2022-06-07T22:06:39.348Z"
   },
   {
    "duration": 14,
    "start_time": "2022-06-07T22:06:46.702Z"
   },
   {
    "duration": 622,
    "start_time": "2022-06-07T22:20:02.353Z"
   },
   {
    "duration": 4,
    "start_time": "2022-06-07T22:20:02.977Z"
   },
   {
    "duration": 131,
    "start_time": "2022-06-07T22:20:02.982Z"
   },
   {
    "duration": 19,
    "start_time": "2022-06-07T22:20:03.116Z"
   },
   {
    "duration": 20,
    "start_time": "2022-06-07T22:20:03.138Z"
   },
   {
    "duration": 10,
    "start_time": "2022-06-07T22:20:03.159Z"
   },
   {
    "duration": 34,
    "start_time": "2022-06-07T22:20:03.171Z"
   },
   {
    "duration": 10,
    "start_time": "2022-06-07T22:20:03.207Z"
   },
   {
    "duration": 6,
    "start_time": "2022-06-07T22:20:03.219Z"
   },
   {
    "duration": 25,
    "start_time": "2022-06-07T22:20:03.228Z"
   },
   {
    "duration": 52,
    "start_time": "2022-06-07T22:20:03.255Z"
   },
   {
    "duration": 8,
    "start_time": "2022-06-07T22:20:03.308Z"
   },
   {
    "duration": 36,
    "start_time": "2022-06-07T22:20:03.317Z"
   },
   {
    "duration": 9,
    "start_time": "2022-06-07T22:20:03.355Z"
   },
   {
    "duration": 13,
    "start_time": "2022-06-07T22:20:03.366Z"
   },
   {
    "duration": 3,
    "start_time": "2022-06-07T22:20:03.380Z"
   },
   {
    "duration": 20,
    "start_time": "2022-06-07T22:20:03.385Z"
   },
   {
    "duration": 3,
    "start_time": "2022-06-07T22:20:03.407Z"
   },
   {
    "duration": 6,
    "start_time": "2022-06-07T22:20:03.412Z"
   },
   {
    "duration": 14,
    "start_time": "2022-06-07T22:20:03.420Z"
   },
   {
    "duration": 25,
    "start_time": "2022-06-07T22:20:03.438Z"
   },
   {
    "duration": 12,
    "start_time": "2022-06-07T22:20:03.464Z"
   },
   {
    "duration": 7,
    "start_time": "2022-06-07T22:20:03.477Z"
   },
   {
    "duration": 25,
    "start_time": "2022-06-07T22:20:03.485Z"
   },
   {
    "duration": 29,
    "start_time": "2022-06-07T22:20:03.512Z"
   },
   {
    "duration": 6,
    "start_time": "2022-06-07T22:20:03.543Z"
   },
   {
    "duration": 9,
    "start_time": "2022-06-07T22:20:03.551Z"
   },
   {
    "duration": 28,
    "start_time": "2022-06-07T22:20:03.563Z"
   },
   {
    "duration": 20,
    "start_time": "2022-06-07T22:20:03.593Z"
   },
   {
    "duration": 5,
    "start_time": "2022-06-07T22:20:03.615Z"
   },
   {
    "duration": 13,
    "start_time": "2022-06-07T22:20:03.622Z"
   },
   {
    "duration": 8,
    "start_time": "2022-06-07T22:20:03.641Z"
   },
   {
    "duration": 20,
    "start_time": "2022-06-07T22:20:03.651Z"
   },
   {
    "duration": 14,
    "start_time": "2022-06-07T22:20:03.672Z"
   },
   {
    "duration": 11,
    "start_time": "2022-06-07T22:20:03.687Z"
   },
   {
    "duration": 15,
    "start_time": "2022-06-07T22:20:03.699Z"
   },
   {
    "duration": 17,
    "start_time": "2022-06-07T22:20:03.715Z"
   },
   {
    "duration": 32,
    "start_time": "2022-06-07T22:20:03.734Z"
   },
   {
    "duration": 11,
    "start_time": "2022-06-07T22:20:03.767Z"
   },
   {
    "duration": 9,
    "start_time": "2022-06-07T22:20:03.779Z"
   },
   {
    "duration": 14,
    "start_time": "2022-06-07T22:20:03.790Z"
   },
   {
    "duration": 10,
    "start_time": "2022-06-07T22:20:03.805Z"
   },
   {
    "duration": 5,
    "start_time": "2022-06-07T22:20:03.817Z"
   },
   {
    "duration": 23,
    "start_time": "2022-06-07T22:20:03.823Z"
   },
   {
    "duration": 12,
    "start_time": "2022-06-07T22:20:03.848Z"
   },
   {
    "duration": 8,
    "start_time": "2022-06-07T22:20:03.862Z"
   },
   {
    "duration": 26,
    "start_time": "2022-06-07T22:20:03.872Z"
   },
   {
    "duration": 4,
    "start_time": "2022-06-07T22:20:03.899Z"
   },
   {
    "duration": 11,
    "start_time": "2022-06-07T22:20:03.904Z"
   },
   {
    "duration": 184,
    "start_time": "2022-06-07T22:20:03.916Z"
   },
   {
    "duration": 169,
    "start_time": "2022-06-07T22:20:04.101Z"
   },
   {
    "duration": 6,
    "start_time": "2022-06-07T22:20:04.271Z"
   },
   {
    "duration": 21,
    "start_time": "2022-06-07T22:20:04.279Z"
   },
   {
    "duration": 28,
    "start_time": "2022-06-07T22:20:04.301Z"
   },
   {
    "duration": 111,
    "start_time": "2022-06-07T22:20:04.331Z"
   },
   {
    "duration": 5,
    "start_time": "2022-06-07T22:20:04.443Z"
   },
   {
    "duration": 165,
    "start_time": "2022-06-07T22:20:04.449Z"
   },
   {
    "duration": 103,
    "start_time": "2022-06-07T22:20:04.615Z"
   },
   {
    "duration": 86,
    "start_time": "2022-06-07T22:20:04.725Z"
   },
   {
    "duration": 14,
    "start_time": "2022-06-07T22:20:04.813Z"
   },
   {
    "duration": 83,
    "start_time": "2022-06-07T22:20:04.829Z"
   },
   {
    "duration": 20,
    "start_time": "2022-06-07T22:20:04.913Z"
   },
   {
    "duration": 5,
    "start_time": "2022-06-07T22:20:04.938Z"
   },
   {
    "duration": 7,
    "start_time": "2022-06-07T22:20:04.944Z"
   },
   {
    "duration": 8,
    "start_time": "2022-06-07T22:20:04.953Z"
   },
   {
    "duration": 8,
    "start_time": "2022-06-07T22:20:04.962Z"
   },
   {
    "duration": 4,
    "start_time": "2022-06-07T22:20:04.971Z"
   },
   {
    "duration": 20,
    "start_time": "2022-06-07T22:20:04.977Z"
   },
   {
    "duration": 210,
    "start_time": "2022-06-07T22:20:05.002Z"
   },
   {
    "duration": 146,
    "start_time": "2022-06-07T22:20:05.213Z"
   },
   {
    "duration": 14,
    "start_time": "2022-06-07T22:20:05.361Z"
   },
   {
    "duration": 33,
    "start_time": "2022-06-07T22:20:05.376Z"
   },
   {
    "duration": 249,
    "start_time": "2022-06-07T22:20:05.425Z"
   },
   {
    "duration": 21,
    "start_time": "2022-06-07T22:20:05.676Z"
   },
   {
    "duration": 56,
    "start_time": "2022-06-07T22:20:05.698Z"
   },
   {
    "duration": 4,
    "start_time": "2022-06-07T22:20:05.755Z"
   },
   {
    "duration": 10,
    "start_time": "2022-06-07T22:20:05.760Z"
   },
   {
    "duration": 7,
    "start_time": "2022-06-07T22:20:05.771Z"
   },
   {
    "duration": 7,
    "start_time": "2022-06-07T22:20:05.780Z"
   },
   {
    "duration": 23,
    "start_time": "2022-06-07T22:20:05.789Z"
   },
   {
    "duration": 17,
    "start_time": "2022-06-07T22:20:05.814Z"
   },
   {
    "duration": 8,
    "start_time": "2022-06-07T22:20:05.833Z"
   },
   {
    "duration": 8,
    "start_time": "2022-06-07T22:20:05.843Z"
   },
   {
    "duration": 7,
    "start_time": "2022-06-07T22:20:05.853Z"
   },
   {
    "duration": 188,
    "start_time": "2022-06-07T22:20:05.861Z"
   },
   {
    "duration": 20,
    "start_time": "2022-06-07T22:20:06.051Z"
   },
   {
    "duration": 11,
    "start_time": "2022-06-07T22:20:06.072Z"
   },
   {
    "duration": 11,
    "start_time": "2022-06-07T22:20:06.084Z"
   },
   {
    "duration": 12,
    "start_time": "2022-06-07T22:20:06.096Z"
   },
   {
    "duration": 33,
    "start_time": "2022-06-07T22:20:06.109Z"
   },
   {
    "duration": 15,
    "start_time": "2022-06-07T22:20:06.144Z"
   },
   {
    "duration": 295,
    "start_time": "2022-06-07T22:20:06.160Z"
   },
   {
    "duration": 21,
    "start_time": "2022-06-07T22:20:06.457Z"
   },
   {
    "duration": 22,
    "start_time": "2022-06-07T22:20:06.480Z"
   },
   {
    "duration": 4,
    "start_time": "2022-06-07T22:20:06.504Z"
   },
   {
    "duration": 16,
    "start_time": "2022-06-07T22:20:06.525Z"
   },
   {
    "duration": 20,
    "start_time": "2022-06-07T22:20:06.543Z"
   },
   {
    "duration": 17,
    "start_time": "2022-06-07T22:20:06.565Z"
   },
   {
    "duration": 25,
    "start_time": "2022-06-07T22:20:06.585Z"
   },
   {
    "duration": 15,
    "start_time": "2022-06-07T22:20:06.612Z"
   },
   {
    "duration": 164,
    "start_time": "2022-06-07T22:20:06.629Z"
   },
   {
    "duration": 12,
    "start_time": "2022-06-07T22:20:06.795Z"
   },
   {
    "duration": 18,
    "start_time": "2022-06-07T22:20:06.808Z"
   },
   {
    "duration": 141,
    "start_time": "2022-06-07T22:20:06.828Z"
   },
   {
    "duration": 716,
    "start_time": "2022-06-08T16:58:06.107Z"
   },
   {
    "duration": 3,
    "start_time": "2022-06-08T16:58:06.825Z"
   },
   {
    "duration": 334,
    "start_time": "2022-06-08T16:58:06.830Z"
   },
   {
    "duration": 16,
    "start_time": "2022-06-08T16:58:07.165Z"
   },
   {
    "duration": 9,
    "start_time": "2022-06-08T16:58:07.182Z"
   },
   {
    "duration": 5,
    "start_time": "2022-06-08T16:58:07.192Z"
   },
   {
    "duration": 14,
    "start_time": "2022-06-08T16:58:07.199Z"
   },
   {
    "duration": 5,
    "start_time": "2022-06-08T16:58:07.214Z"
   },
   {
    "duration": 13,
    "start_time": "2022-06-08T16:58:07.221Z"
   },
   {
    "duration": 28,
    "start_time": "2022-06-08T16:58:07.238Z"
   },
   {
    "duration": 57,
    "start_time": "2022-06-08T16:58:07.268Z"
   },
   {
    "duration": 7,
    "start_time": "2022-06-08T16:58:07.327Z"
   },
   {
    "duration": 17,
    "start_time": "2022-06-08T16:58:07.336Z"
   },
   {
    "duration": 5,
    "start_time": "2022-06-08T16:58:07.354Z"
   },
   {
    "duration": 12,
    "start_time": "2022-06-08T16:58:07.361Z"
   },
   {
    "duration": 4,
    "start_time": "2022-06-08T16:58:07.375Z"
   },
   {
    "duration": 22,
    "start_time": "2022-06-08T16:58:07.381Z"
   },
   {
    "duration": 4,
    "start_time": "2022-06-08T16:58:07.405Z"
   },
   {
    "duration": 41,
    "start_time": "2022-06-08T16:58:07.411Z"
   },
   {
    "duration": 4,
    "start_time": "2022-06-08T16:58:07.454Z"
   },
   {
    "duration": 16,
    "start_time": "2022-06-08T16:58:07.460Z"
   },
   {
    "duration": 11,
    "start_time": "2022-06-08T16:58:07.477Z"
   },
   {
    "duration": 4,
    "start_time": "2022-06-08T16:58:07.490Z"
   },
   {
    "duration": 18,
    "start_time": "2022-06-08T16:58:07.495Z"
   },
   {
    "duration": 4,
    "start_time": "2022-06-08T16:58:07.515Z"
   },
   {
    "duration": 5,
    "start_time": "2022-06-08T16:58:07.552Z"
   },
   {
    "duration": 6,
    "start_time": "2022-06-08T16:58:07.559Z"
   },
   {
    "duration": 23,
    "start_time": "2022-06-08T16:58:07.570Z"
   },
   {
    "duration": 23,
    "start_time": "2022-06-08T16:58:07.595Z"
   },
   {
    "duration": 34,
    "start_time": "2022-06-08T16:58:07.620Z"
   },
   {
    "duration": 2,
    "start_time": "2022-06-08T16:58:07.656Z"
   },
   {
    "duration": 11,
    "start_time": "2022-06-08T16:58:07.659Z"
   },
   {
    "duration": 15,
    "start_time": "2022-06-08T16:58:07.672Z"
   },
   {
    "duration": 20,
    "start_time": "2022-06-08T16:58:07.689Z"
   },
   {
    "duration": 9,
    "start_time": "2022-06-08T16:58:07.711Z"
   },
   {
    "duration": 35,
    "start_time": "2022-06-08T16:58:07.722Z"
   },
   {
    "duration": 14,
    "start_time": "2022-06-08T16:58:07.759Z"
   },
   {
    "duration": 19,
    "start_time": "2022-06-08T16:58:07.775Z"
   },
   {
    "duration": 9,
    "start_time": "2022-06-08T16:58:07.796Z"
   },
   {
    "duration": 8,
    "start_time": "2022-06-08T16:58:07.806Z"
   },
   {
    "duration": 37,
    "start_time": "2022-06-08T16:58:07.816Z"
   },
   {
    "duration": 5,
    "start_time": "2022-06-08T16:58:07.854Z"
   },
   {
    "duration": 16,
    "start_time": "2022-06-08T16:58:07.861Z"
   },
   {
    "duration": 15,
    "start_time": "2022-06-08T16:58:07.879Z"
   },
   {
    "duration": 16,
    "start_time": "2022-06-08T16:58:07.896Z"
   },
   {
    "duration": 14,
    "start_time": "2022-06-08T16:58:07.914Z"
   },
   {
    "duration": 47,
    "start_time": "2022-06-08T16:58:07.930Z"
   },
   {
    "duration": 7,
    "start_time": "2022-06-08T16:58:07.979Z"
   },
   {
    "duration": 8,
    "start_time": "2022-06-08T16:58:07.988Z"
   },
   {
    "duration": 315,
    "start_time": "2022-06-08T16:58:07.998Z"
   },
   {
    "duration": 218,
    "start_time": "2022-06-08T16:58:08.315Z"
   },
   {
    "duration": 7,
    "start_time": "2022-06-08T16:58:08.534Z"
   },
   {
    "duration": 34,
    "start_time": "2022-06-08T16:58:08.552Z"
   },
   {
    "duration": 28,
    "start_time": "2022-06-08T16:58:08.588Z"
   },
   {
    "duration": 136,
    "start_time": "2022-06-08T16:58:08.618Z"
   },
   {
    "duration": 5,
    "start_time": "2022-06-08T16:58:08.756Z"
   },
   {
    "duration": 237,
    "start_time": "2022-06-08T16:58:08.762Z"
   },
   {
    "duration": 116,
    "start_time": "2022-06-08T16:58:09.000Z"
   },
   {
    "duration": 137,
    "start_time": "2022-06-08T16:58:09.119Z"
   },
   {
    "duration": 7,
    "start_time": "2022-06-08T16:58:09.257Z"
   },
   {
    "duration": 116,
    "start_time": "2022-06-08T16:58:09.266Z"
   },
   {
    "duration": 14,
    "start_time": "2022-06-08T16:58:09.384Z"
   },
   {
    "duration": 13,
    "start_time": "2022-06-08T16:58:09.400Z"
   },
   {
    "duration": 11,
    "start_time": "2022-06-08T16:58:09.415Z"
   },
   {
    "duration": 15,
    "start_time": "2022-06-08T16:58:09.428Z"
   },
   {
    "duration": 9,
    "start_time": "2022-06-08T16:58:09.445Z"
   },
   {
    "duration": 7,
    "start_time": "2022-06-08T16:58:09.456Z"
   },
   {
    "duration": 22,
    "start_time": "2022-06-08T16:58:09.464Z"
   },
   {
    "duration": 158,
    "start_time": "2022-06-08T16:58:09.488Z"
   },
   {
    "duration": 159,
    "start_time": "2022-06-08T16:58:09.647Z"
   },
   {
    "duration": 16,
    "start_time": "2022-06-08T16:58:09.807Z"
   },
   {
    "duration": 59,
    "start_time": "2022-06-08T16:58:09.825Z"
   },
   {
    "duration": 286,
    "start_time": "2022-06-08T16:58:09.885Z"
   },
   {
    "duration": 20,
    "start_time": "2022-06-08T16:58:10.172Z"
   },
   {
    "duration": 44,
    "start_time": "2022-06-08T16:58:10.194Z"
   },
   {
    "duration": 5,
    "start_time": "2022-06-08T16:58:10.253Z"
   },
   {
    "duration": 9,
    "start_time": "2022-06-08T16:58:10.259Z"
   },
   {
    "duration": 9,
    "start_time": "2022-06-08T16:58:10.270Z"
   },
   {
    "duration": 8,
    "start_time": "2022-06-08T16:58:10.281Z"
   },
   {
    "duration": 33,
    "start_time": "2022-06-08T16:58:10.290Z"
   },
   {
    "duration": 6,
    "start_time": "2022-06-08T16:58:10.325Z"
   },
   {
    "duration": 17,
    "start_time": "2022-06-08T16:58:10.336Z"
   },
   {
    "duration": 6,
    "start_time": "2022-06-08T16:58:10.355Z"
   },
   {
    "duration": 5,
    "start_time": "2022-06-08T16:58:10.363Z"
   },
   {
    "duration": 203,
    "start_time": "2022-06-08T16:58:10.370Z"
   },
   {
    "duration": 25,
    "start_time": "2022-06-08T16:58:10.574Z"
   },
   {
    "duration": 7,
    "start_time": "2022-06-08T16:58:10.600Z"
   },
   {
    "duration": 18,
    "start_time": "2022-06-08T16:58:10.609Z"
   },
   {
    "duration": 40,
    "start_time": "2022-06-08T16:58:10.629Z"
   },
   {
    "duration": 25,
    "start_time": "2022-06-08T16:58:10.671Z"
   },
   {
    "duration": 22,
    "start_time": "2022-06-08T16:58:10.698Z"
   },
   {
    "duration": 361,
    "start_time": "2022-06-08T16:58:10.722Z"
   },
   {
    "duration": 24,
    "start_time": "2022-06-08T16:58:11.085Z"
   },
   {
    "duration": 42,
    "start_time": "2022-06-08T16:58:11.111Z"
   },
   {
    "duration": 4,
    "start_time": "2022-06-08T16:58:11.154Z"
   },
   {
    "duration": 6,
    "start_time": "2022-06-08T16:58:11.160Z"
   },
   {
    "duration": 17,
    "start_time": "2022-06-08T16:58:11.167Z"
   },
   {
    "duration": 16,
    "start_time": "2022-06-08T16:58:11.185Z"
   },
   {
    "duration": 51,
    "start_time": "2022-06-08T16:58:11.203Z"
   },
   {
    "duration": 5,
    "start_time": "2022-06-08T16:58:11.255Z"
   },
   {
    "duration": 176,
    "start_time": "2022-06-08T16:58:11.261Z"
   },
   {
    "duration": 18,
    "start_time": "2022-06-08T16:58:11.439Z"
   },
   {
    "duration": 10,
    "start_time": "2022-06-08T16:58:11.458Z"
   },
   {
    "duration": 210,
    "start_time": "2022-06-08T16:58:11.470Z"
   },
   {
    "duration": 25,
    "start_time": "2022-06-08T17:30:16.635Z"
   },
   {
    "duration": 24,
    "start_time": "2022-06-08T17:30:45.769Z"
   },
   {
    "duration": 22,
    "start_time": "2022-06-08T17:32:34.205Z"
   },
   {
    "duration": 21,
    "start_time": "2022-06-08T17:38:49.427Z"
   },
   {
    "duration": 21,
    "start_time": "2022-06-08T17:40:22.667Z"
   },
   {
    "duration": 13,
    "start_time": "2022-06-08T17:49:24.916Z"
   },
   {
    "duration": 752,
    "start_time": "2022-06-08T20:01:10.818Z"
   },
   {
    "duration": 3,
    "start_time": "2022-06-08T20:01:11.572Z"
   },
   {
    "duration": 288,
    "start_time": "2022-06-08T20:01:11.577Z"
   },
   {
    "duration": 21,
    "start_time": "2022-06-08T20:01:11.866Z"
   },
   {
    "duration": 20,
    "start_time": "2022-06-08T20:01:11.890Z"
   },
   {
    "duration": 18,
    "start_time": "2022-06-08T20:01:11.914Z"
   },
   {
    "duration": 36,
    "start_time": "2022-06-08T20:01:11.935Z"
   },
   {
    "duration": 8,
    "start_time": "2022-06-08T20:01:11.973Z"
   },
   {
    "duration": 10,
    "start_time": "2022-06-08T20:01:11.983Z"
   },
   {
    "duration": 33,
    "start_time": "2022-06-08T20:01:11.995Z"
   },
   {
    "duration": 81,
    "start_time": "2022-06-08T20:01:12.030Z"
   },
   {
    "duration": 10,
    "start_time": "2022-06-08T20:01:12.113Z"
   },
   {
    "duration": 30,
    "start_time": "2022-06-08T20:01:12.125Z"
   },
   {
    "duration": 12,
    "start_time": "2022-06-08T20:01:12.159Z"
   },
   {
    "duration": 13,
    "start_time": "2022-06-08T20:01:12.173Z"
   },
   {
    "duration": 5,
    "start_time": "2022-06-08T20:01:12.188Z"
   },
   {
    "duration": 16,
    "start_time": "2022-06-08T20:01:12.196Z"
   },
   {
    "duration": 4,
    "start_time": "2022-06-08T20:01:12.214Z"
   },
   {
    "duration": 12,
    "start_time": "2022-06-08T20:01:12.220Z"
   },
   {
    "duration": 7,
    "start_time": "2022-06-08T20:01:12.234Z"
   },
   {
    "duration": 16,
    "start_time": "2022-06-08T20:01:12.258Z"
   },
   {
    "duration": 12,
    "start_time": "2022-06-08T20:01:12.276Z"
   },
   {
    "duration": 4,
    "start_time": "2022-06-08T20:01:12.289Z"
   },
   {
    "duration": 23,
    "start_time": "2022-06-08T20:01:12.295Z"
   },
   {
    "duration": 5,
    "start_time": "2022-06-08T20:01:12.320Z"
   },
   {
    "duration": 34,
    "start_time": "2022-06-08T20:01:12.327Z"
   },
   {
    "duration": 10,
    "start_time": "2022-06-08T20:01:12.363Z"
   },
   {
    "duration": 30,
    "start_time": "2022-06-08T20:01:12.375Z"
   },
   {
    "duration": 22,
    "start_time": "2022-06-08T20:01:12.407Z"
   },
   {
    "duration": 5,
    "start_time": "2022-06-08T20:01:12.431Z"
   },
   {
    "duration": 31,
    "start_time": "2022-06-08T20:01:12.438Z"
   },
   {
    "duration": 10,
    "start_time": "2022-06-08T20:01:12.471Z"
   },
   {
    "duration": 23,
    "start_time": "2022-06-08T20:01:12.483Z"
   },
   {
    "duration": 17,
    "start_time": "2022-06-08T20:01:12.508Z"
   },
   {
    "duration": 7,
    "start_time": "2022-06-08T20:01:12.527Z"
   },
   {
    "duration": 16,
    "start_time": "2022-06-08T20:01:12.536Z"
   },
   {
    "duration": 18,
    "start_time": "2022-06-08T20:01:12.553Z"
   },
   {
    "duration": 21,
    "start_time": "2022-06-08T20:01:12.573Z"
   },
   {
    "duration": 10,
    "start_time": "2022-06-08T20:01:12.595Z"
   },
   {
    "duration": 9,
    "start_time": "2022-06-08T20:01:12.606Z"
   },
   {
    "duration": 10,
    "start_time": "2022-06-08T20:01:12.621Z"
   },
   {
    "duration": 32,
    "start_time": "2022-06-08T20:01:12.633Z"
   },
   {
    "duration": 7,
    "start_time": "2022-06-08T20:01:12.666Z"
   },
   {
    "duration": 6,
    "start_time": "2022-06-08T20:01:12.675Z"
   },
   {
    "duration": 10,
    "start_time": "2022-06-08T20:01:12.683Z"
   },
   {
    "duration": 9,
    "start_time": "2022-06-08T20:01:12.695Z"
   },
   {
    "duration": 59,
    "start_time": "2022-06-08T20:01:12.706Z"
   },
   {
    "duration": 6,
    "start_time": "2022-06-08T20:01:12.767Z"
   },
   {
    "duration": 7,
    "start_time": "2022-06-08T20:01:12.774Z"
   },
   {
    "duration": 208,
    "start_time": "2022-06-08T20:01:12.783Z"
   },
   {
    "duration": 202,
    "start_time": "2022-06-08T20:01:12.995Z"
   },
   {
    "duration": 5,
    "start_time": "2022-06-08T20:01:13.198Z"
   },
   {
    "duration": 27,
    "start_time": "2022-06-08T20:01:13.205Z"
   },
   {
    "duration": 39,
    "start_time": "2022-06-08T20:01:13.233Z"
   },
   {
    "duration": 123,
    "start_time": "2022-06-08T20:01:13.274Z"
   },
   {
    "duration": 5,
    "start_time": "2022-06-08T20:01:13.399Z"
   },
   {
    "duration": 236,
    "start_time": "2022-06-08T20:01:13.406Z"
   },
   {
    "duration": 124,
    "start_time": "2022-06-08T20:01:13.643Z"
   },
   {
    "duration": 98,
    "start_time": "2022-06-08T20:01:13.769Z"
   },
   {
    "duration": 5,
    "start_time": "2022-06-08T20:01:13.870Z"
   },
   {
    "duration": 104,
    "start_time": "2022-06-08T20:01:13.876Z"
   },
   {
    "duration": 14,
    "start_time": "2022-06-08T20:01:13.982Z"
   },
   {
    "duration": 9,
    "start_time": "2022-06-08T20:01:13.998Z"
   },
   {
    "duration": 11,
    "start_time": "2022-06-08T20:01:14.009Z"
   },
   {
    "duration": 14,
    "start_time": "2022-06-08T20:01:14.022Z"
   },
   {
    "duration": 12,
    "start_time": "2022-06-08T20:01:14.038Z"
   },
   {
    "duration": 5,
    "start_time": "2022-06-08T20:01:14.051Z"
   },
   {
    "duration": 19,
    "start_time": "2022-06-08T20:01:14.059Z"
   },
   {
    "duration": 149,
    "start_time": "2022-06-08T20:01:14.079Z"
   },
   {
    "duration": 159,
    "start_time": "2022-06-08T20:01:14.230Z"
   },
   {
    "duration": 14,
    "start_time": "2022-06-08T20:01:14.391Z"
   },
   {
    "duration": 55,
    "start_time": "2022-06-08T20:01:14.407Z"
   },
   {
    "duration": 260,
    "start_time": "2022-06-08T20:01:14.464Z"
   },
   {
    "duration": 21,
    "start_time": "2022-06-08T20:01:14.726Z"
   },
   {
    "duration": 51,
    "start_time": "2022-06-08T20:01:14.749Z"
   },
   {
    "duration": 4,
    "start_time": "2022-06-08T20:01:14.802Z"
   },
   {
    "duration": 6,
    "start_time": "2022-06-08T20:01:14.808Z"
   },
   {
    "duration": 8,
    "start_time": "2022-06-08T20:01:14.815Z"
   },
   {
    "duration": 7,
    "start_time": "2022-06-08T20:01:14.824Z"
   },
   {
    "duration": 45,
    "start_time": "2022-06-08T20:01:14.833Z"
   },
   {
    "duration": 5,
    "start_time": "2022-06-08T20:01:14.880Z"
   },
   {
    "duration": 6,
    "start_time": "2022-06-08T20:01:14.887Z"
   },
   {
    "duration": 10,
    "start_time": "2022-06-08T20:01:14.895Z"
   },
   {
    "duration": 19,
    "start_time": "2022-06-08T20:01:14.907Z"
   },
   {
    "duration": 213,
    "start_time": "2022-06-08T20:01:14.928Z"
   },
   {
    "duration": 31,
    "start_time": "2022-06-08T20:01:15.143Z"
   },
   {
    "duration": 6,
    "start_time": "2022-06-08T20:01:15.176Z"
   },
   {
    "duration": 12,
    "start_time": "2022-06-08T20:01:15.184Z"
   },
   {
    "duration": 12,
    "start_time": "2022-06-08T20:01:15.197Z"
   },
   {
    "duration": 19,
    "start_time": "2022-06-08T20:01:15.211Z"
   },
   {
    "duration": 41,
    "start_time": "2022-06-08T20:01:15.232Z"
   },
   {
    "duration": 329,
    "start_time": "2022-06-08T20:01:15.275Z"
   },
   {
    "duration": 17,
    "start_time": "2022-06-08T20:01:15.606Z"
   },
   {
    "duration": 34,
    "start_time": "2022-06-08T20:01:15.625Z"
   },
   {
    "duration": 3,
    "start_time": "2022-06-08T20:01:15.661Z"
   },
   {
    "duration": 6,
    "start_time": "2022-06-08T20:01:15.666Z"
   },
   {
    "duration": 18,
    "start_time": "2022-06-08T20:01:15.673Z"
   },
   {
    "duration": 15,
    "start_time": "2022-06-08T20:01:15.692Z"
   },
   {
    "duration": 16,
    "start_time": "2022-06-08T20:01:15.708Z"
   },
   {
    "duration": 4,
    "start_time": "2022-06-08T20:01:15.726Z"
   },
   {
    "duration": 161,
    "start_time": "2022-06-08T20:01:15.759Z"
   },
   {
    "duration": 13,
    "start_time": "2022-06-08T20:01:15.922Z"
   },
   {
    "duration": 4,
    "start_time": "2022-06-08T20:01:15.937Z"
   },
   {
    "duration": 207,
    "start_time": "2022-06-08T20:01:15.959Z"
   },
   {
    "duration": 614,
    "start_time": "2022-06-08T20:24:12.831Z"
   },
   {
    "duration": 3,
    "start_time": "2022-06-08T20:24:13.447Z"
   },
   {
    "duration": 115,
    "start_time": "2022-06-08T20:24:13.458Z"
   },
   {
    "duration": 14,
    "start_time": "2022-06-08T20:24:13.575Z"
   },
   {
    "duration": 10,
    "start_time": "2022-06-08T20:24:13.591Z"
   },
   {
    "duration": 8,
    "start_time": "2022-06-08T20:24:13.602Z"
   },
   {
    "duration": 14,
    "start_time": "2022-06-08T20:24:13.611Z"
   },
   {
    "duration": 5,
    "start_time": "2022-06-08T20:24:13.627Z"
   },
   {
    "duration": 6,
    "start_time": "2022-06-08T20:24:13.633Z"
   },
   {
    "duration": 28,
    "start_time": "2022-06-08T20:24:13.640Z"
   },
   {
    "duration": 58,
    "start_time": "2022-06-08T20:24:13.670Z"
   },
   {
    "duration": 8,
    "start_time": "2022-06-08T20:24:13.729Z"
   },
   {
    "duration": 25,
    "start_time": "2022-06-08T20:24:13.739Z"
   },
   {
    "duration": 3,
    "start_time": "2022-06-08T20:24:13.767Z"
   },
   {
    "duration": 12,
    "start_time": "2022-06-08T20:24:13.772Z"
   },
   {
    "duration": 4,
    "start_time": "2022-06-08T20:24:13.785Z"
   },
   {
    "duration": 28,
    "start_time": "2022-06-08T20:24:13.792Z"
   },
   {
    "duration": 7,
    "start_time": "2022-06-08T20:24:13.822Z"
   },
   {
    "duration": 13,
    "start_time": "2022-06-08T20:24:13.830Z"
   },
   {
    "duration": 13,
    "start_time": "2022-06-08T20:24:13.845Z"
   },
   {
    "duration": 19,
    "start_time": "2022-06-08T20:24:13.860Z"
   },
   {
    "duration": 12,
    "start_time": "2022-06-08T20:24:13.880Z"
   },
   {
    "duration": 7,
    "start_time": "2022-06-08T20:24:13.893Z"
   },
   {
    "duration": 22,
    "start_time": "2022-06-08T20:24:13.901Z"
   },
   {
    "duration": 6,
    "start_time": "2022-06-08T20:24:13.925Z"
   },
   {
    "duration": 9,
    "start_time": "2022-06-08T20:24:13.932Z"
   },
   {
    "duration": 17,
    "start_time": "2022-06-08T20:24:13.942Z"
   },
   {
    "duration": 22,
    "start_time": "2022-06-08T20:24:13.961Z"
   },
   {
    "duration": 23,
    "start_time": "2022-06-08T20:24:13.984Z"
   },
   {
    "duration": 5,
    "start_time": "2022-06-08T20:24:14.008Z"
   },
   {
    "duration": 9,
    "start_time": "2022-06-08T20:24:14.014Z"
   },
   {
    "duration": 9,
    "start_time": "2022-06-08T20:24:14.024Z"
   },
   {
    "duration": 9,
    "start_time": "2022-06-08T20:24:14.058Z"
   },
   {
    "duration": 19,
    "start_time": "2022-06-08T20:24:14.068Z"
   },
   {
    "duration": 15,
    "start_time": "2022-06-08T20:24:14.088Z"
   },
   {
    "duration": 11,
    "start_time": "2022-06-08T20:24:14.105Z"
   },
   {
    "duration": 12,
    "start_time": "2022-06-08T20:24:14.117Z"
   },
   {
    "duration": 33,
    "start_time": "2022-06-08T20:24:14.130Z"
   },
   {
    "duration": 26,
    "start_time": "2022-06-08T20:24:14.164Z"
   },
   {
    "duration": 13,
    "start_time": "2022-06-08T20:24:14.191Z"
   },
   {
    "duration": 16,
    "start_time": "2022-06-08T20:24:14.209Z"
   },
   {
    "duration": 5,
    "start_time": "2022-06-08T20:24:14.227Z"
   },
   {
    "duration": 7,
    "start_time": "2022-06-08T20:24:14.233Z"
   },
   {
    "duration": 10,
    "start_time": "2022-06-08T20:24:14.241Z"
   },
   {
    "duration": 10,
    "start_time": "2022-06-08T20:24:14.252Z"
   },
   {
    "duration": 11,
    "start_time": "2022-06-08T20:24:14.263Z"
   },
   {
    "duration": 25,
    "start_time": "2022-06-08T20:24:14.275Z"
   },
   {
    "duration": 5,
    "start_time": "2022-06-08T20:24:14.302Z"
   },
   {
    "duration": 7,
    "start_time": "2022-06-08T20:24:14.308Z"
   },
   {
    "duration": 184,
    "start_time": "2022-06-08T20:24:14.316Z"
   },
   {
    "duration": 204,
    "start_time": "2022-06-08T20:24:14.503Z"
   },
   {
    "duration": 7,
    "start_time": "2022-06-08T20:24:14.708Z"
   },
   {
    "duration": 41,
    "start_time": "2022-06-08T20:24:14.717Z"
   },
   {
    "duration": 18,
    "start_time": "2022-06-08T20:24:14.761Z"
   },
   {
    "duration": 111,
    "start_time": "2022-06-08T20:24:14.781Z"
   },
   {
    "duration": 5,
    "start_time": "2022-06-08T20:24:14.894Z"
   },
   {
    "duration": 221,
    "start_time": "2022-06-08T20:24:14.901Z"
   },
   {
    "duration": 113,
    "start_time": "2022-06-08T20:24:15.124Z"
   },
   {
    "duration": 92,
    "start_time": "2022-06-08T20:24:15.238Z"
   },
   {
    "duration": 4,
    "start_time": "2022-06-08T20:24:15.332Z"
   },
   {
    "duration": 92,
    "start_time": "2022-06-08T20:24:15.338Z"
   },
   {
    "duration": 28,
    "start_time": "2022-06-08T20:24:15.432Z"
   },
   {
    "duration": 6,
    "start_time": "2022-06-08T20:24:15.462Z"
   },
   {
    "duration": 7,
    "start_time": "2022-06-08T20:24:15.469Z"
   },
   {
    "duration": 11,
    "start_time": "2022-06-08T20:24:15.477Z"
   },
   {
    "duration": 5,
    "start_time": "2022-06-08T20:24:15.489Z"
   },
   {
    "duration": 5,
    "start_time": "2022-06-08T20:24:15.495Z"
   },
   {
    "duration": 24,
    "start_time": "2022-06-08T20:24:15.501Z"
   },
   {
    "duration": 160,
    "start_time": "2022-06-08T20:24:15.526Z"
   },
   {
    "duration": 158,
    "start_time": "2022-06-08T20:24:15.688Z"
   },
   {
    "duration": 19,
    "start_time": "2022-06-08T20:24:15.848Z"
   },
   {
    "duration": 35,
    "start_time": "2022-06-08T20:24:15.869Z"
   },
   {
    "duration": 272,
    "start_time": "2022-06-08T20:24:15.905Z"
   },
   {
    "duration": 24,
    "start_time": "2022-06-08T20:24:16.180Z"
   },
   {
    "duration": 55,
    "start_time": "2022-06-08T20:24:16.205Z"
   },
   {
    "duration": 5,
    "start_time": "2022-06-08T20:24:16.261Z"
   },
   {
    "duration": 8,
    "start_time": "2022-06-08T20:24:16.267Z"
   },
   {
    "duration": 7,
    "start_time": "2022-06-08T20:24:16.276Z"
   },
   {
    "duration": 6,
    "start_time": "2022-06-08T20:24:16.285Z"
   },
   {
    "duration": 32,
    "start_time": "2022-06-08T20:24:16.292Z"
   },
   {
    "duration": 6,
    "start_time": "2022-06-08T20:24:16.326Z"
   },
   {
    "duration": 24,
    "start_time": "2022-06-08T20:24:16.334Z"
   },
   {
    "duration": 4,
    "start_time": "2022-06-08T20:24:16.360Z"
   },
   {
    "duration": 8,
    "start_time": "2022-06-08T20:24:16.366Z"
   },
   {
    "duration": 187,
    "start_time": "2022-06-08T20:24:16.376Z"
   },
   {
    "duration": 24,
    "start_time": "2022-06-08T20:24:16.564Z"
   },
   {
    "duration": 6,
    "start_time": "2022-06-08T20:24:16.589Z"
   },
   {
    "duration": 11,
    "start_time": "2022-06-08T20:24:16.597Z"
   },
   {
    "duration": 12,
    "start_time": "2022-06-08T20:24:16.609Z"
   },
   {
    "duration": 47,
    "start_time": "2022-06-08T20:24:16.623Z"
   },
   {
    "duration": 17,
    "start_time": "2022-06-08T20:24:16.671Z"
   },
   {
    "duration": 321,
    "start_time": "2022-06-08T20:24:16.689Z"
   },
   {
    "duration": 18,
    "start_time": "2022-06-08T20:24:17.012Z"
   },
   {
    "duration": 39,
    "start_time": "2022-06-08T20:24:17.031Z"
   },
   {
    "duration": 4,
    "start_time": "2022-06-08T20:24:17.071Z"
   },
   {
    "duration": 10,
    "start_time": "2022-06-08T20:24:17.076Z"
   },
   {
    "duration": 19,
    "start_time": "2022-06-08T20:24:17.088Z"
   },
   {
    "duration": 15,
    "start_time": "2022-06-08T20:24:17.108Z"
   },
   {
    "duration": 35,
    "start_time": "2022-06-08T20:24:17.124Z"
   },
   {
    "duration": 5,
    "start_time": "2022-06-08T20:24:17.161Z"
   },
   {
    "duration": 211,
    "start_time": "2022-06-08T20:24:17.167Z"
   },
   {
    "duration": 18,
    "start_time": "2022-06-08T20:24:17.380Z"
   },
   {
    "duration": 12,
    "start_time": "2022-06-08T20:24:17.399Z"
   },
   {
    "duration": 217,
    "start_time": "2022-06-08T20:24:17.413Z"
   },
   {
    "duration": 1024,
    "start_time": "2022-06-09T09:16:39.369Z"
   },
   {
    "duration": 15,
    "start_time": "2022-06-09T09:16:40.395Z"
   },
   {
    "duration": 417,
    "start_time": "2022-06-09T09:16:41.342Z"
   },
   {
    "duration": 51,
    "start_time": "2022-06-09T09:16:42.720Z"
   },
   {
    "duration": 13,
    "start_time": "2022-06-09T09:16:48.077Z"
   },
   {
    "duration": 19,
    "start_time": "2022-06-09T09:16:51.916Z"
   },
   {
    "duration": 18,
    "start_time": "2022-06-09T09:16:52.460Z"
   },
   {
    "duration": 9,
    "start_time": "2022-06-09T09:17:00.814Z"
   },
   {
    "duration": 10,
    "start_time": "2022-06-09T09:17:29.046Z"
   },
   {
    "duration": 41,
    "start_time": "2022-06-09T09:18:04.452Z"
   },
   {
    "duration": 712,
    "start_time": "2022-06-09T17:46:28.770Z"
   },
   {
    "duration": 3,
    "start_time": "2022-06-09T17:46:29.822Z"
   },
   {
    "duration": 362,
    "start_time": "2022-06-09T17:46:34.522Z"
   },
   {
    "duration": 16,
    "start_time": "2022-06-09T17:46:34.886Z"
   },
   {
    "duration": 9,
    "start_time": "2022-06-09T17:46:35.554Z"
   },
   {
    "duration": 5,
    "start_time": "2022-06-09T17:46:36.670Z"
   },
   {
    "duration": 15,
    "start_time": "2022-06-09T17:46:37.029Z"
   },
   {
    "duration": 5,
    "start_time": "2022-06-09T17:46:37.638Z"
   },
   {
    "duration": 4,
    "start_time": "2022-06-09T17:46:38.563Z"
   },
   {
    "duration": 18,
    "start_time": "2022-06-09T17:46:39.646Z"
   },
   {
    "duration": 59,
    "start_time": "2022-06-09T17:46:40.253Z"
   },
   {
    "duration": 8,
    "start_time": "2022-06-09T17:46:40.869Z"
   },
   {
    "duration": 6,
    "start_time": "2022-06-09T17:46:42.542Z"
   },
   {
    "duration": 2,
    "start_time": "2022-06-09T17:46:42.906Z"
   },
   {
    "duration": 9,
    "start_time": "2022-06-09T17:46:47.941Z"
   },
   {
    "duration": 4,
    "start_time": "2022-06-09T17:46:48.655Z"
   },
   {
    "duration": 13,
    "start_time": "2022-06-09T17:46:58.722Z"
   },
   {
    "duration": 4,
    "start_time": "2022-06-09T17:46:59.430Z"
   },
   {
    "duration": 3,
    "start_time": "2022-06-09T17:46:59.742Z"
   },
   {
    "duration": 4,
    "start_time": "2022-06-09T17:47:00.126Z"
   },
   {
    "duration": 13,
    "start_time": "2022-06-09T17:47:00.663Z"
   },
   {
    "duration": 9,
    "start_time": "2022-06-09T17:47:01.042Z"
   },
   {
    "duration": 4,
    "start_time": "2022-06-09T17:47:01.718Z"
   },
   {
    "duration": 17,
    "start_time": "2022-06-09T17:47:02.030Z"
   },
   {
    "duration": 3,
    "start_time": "2022-06-09T17:47:02.950Z"
   },
   {
    "duration": 4,
    "start_time": "2022-06-09T17:47:03.531Z"
   },
   {
    "duration": 4,
    "start_time": "2022-06-09T17:47:06.741Z"
   },
   {
    "duration": 23,
    "start_time": "2022-06-09T17:47:11.642Z"
   },
   {
    "duration": 21,
    "start_time": "2022-06-09T17:47:12.029Z"
   },
   {
    "duration": 6,
    "start_time": "2022-06-09T17:47:14.630Z"
   },
   {
    "duration": 4,
    "start_time": "2022-06-09T17:47:16.921Z"
   },
   {
    "duration": 5,
    "start_time": "2022-06-09T17:47:17.748Z"
   },
   {
    "duration": 9,
    "start_time": "2022-06-09T17:47:21.522Z"
   },
   {
    "duration": 15,
    "start_time": "2022-06-09T17:47:23.721Z"
   },
   {
    "duration": 5,
    "start_time": "2022-06-09T17:47:25.914Z"
   },
   {
    "duration": 9,
    "start_time": "2022-06-09T17:47:27.649Z"
   },
   {
    "duration": 12,
    "start_time": "2022-06-09T17:47:28.726Z"
   },
   {
    "duration": 26,
    "start_time": "2022-06-09T17:47:29.786Z"
   },
   {
    "duration": 5,
    "start_time": "2022-06-09T17:47:35.046Z"
   },
   {
    "duration": 8,
    "start_time": "2022-06-09T17:47:37.122Z"
   },
   {
    "duration": 8,
    "start_time": "2022-06-09T17:47:38.048Z"
   },
   {
    "duration": 5,
    "start_time": "2022-06-09T17:47:38.442Z"
   },
   {
    "duration": 5,
    "start_time": "2022-06-09T17:47:38.807Z"
   },
   {
    "duration": 5,
    "start_time": "2022-06-09T17:47:39.214Z"
   },
   {
    "duration": 6,
    "start_time": "2022-06-09T17:47:39.570Z"
   },
   {
    "duration": 4,
    "start_time": "2022-06-09T17:47:39.942Z"
   },
   {
    "duration": 21,
    "start_time": "2022-06-09T17:47:45.550Z"
   },
   {
    "duration": 5,
    "start_time": "2022-06-09T17:47:48.071Z"
   },
   {
    "duration": 10,
    "start_time": "2022-06-09T17:47:50.102Z"
   },
   {
    "duration": 188,
    "start_time": "2022-06-09T17:47:53.061Z"
   },
   {
    "duration": 159,
    "start_time": "2022-06-09T17:47:54.842Z"
   },
   {
    "duration": 6,
    "start_time": "2022-06-09T17:47:55.636Z"
   },
   {
    "duration": 22,
    "start_time": "2022-06-09T17:47:56.714Z"
   },
   {
    "duration": 17,
    "start_time": "2022-06-09T17:47:59.152Z"
   },
   {
    "duration": 97,
    "start_time": "2022-06-09T17:48:06.756Z"
   },
   {
    "duration": 6,
    "start_time": "2022-06-09T17:48:07.152Z"
   },
   {
    "duration": 162,
    "start_time": "2022-06-09T17:48:07.768Z"
   },
   {
    "duration": 170,
    "start_time": "2022-06-09T17:48:08.206Z"
   },
   {
    "duration": 86,
    "start_time": "2022-06-09T17:48:08.814Z"
   },
   {
    "duration": 5,
    "start_time": "2022-06-09T17:48:09.274Z"
   },
   {
    "duration": 83,
    "start_time": "2022-06-09T17:48:09.867Z"
   },
   {
    "duration": 13,
    "start_time": "2022-06-09T17:48:10.472Z"
   },
   {
    "duration": 6,
    "start_time": "2022-06-09T17:48:16.330Z"
   },
   {
    "duration": 3,
    "start_time": "2022-06-09T17:48:25.558Z"
   },
   {
    "duration": 9,
    "start_time": "2022-06-09T17:48:27.506Z"
   },
   {
    "duration": 5,
    "start_time": "2022-06-09T17:48:29.347Z"
   },
   {
    "duration": 2,
    "start_time": "2022-06-09T17:48:33.018Z"
   },
   {
    "duration": 2,
    "start_time": "2022-06-09T17:48:36.471Z"
   },
   {
    "duration": 20,
    "start_time": "2022-06-09T17:48:40.641Z"
   },
   {
    "duration": 28,
    "start_time": "2022-06-09T17:49:25.023Z"
   },
   {
    "duration": 16,
    "start_time": "2022-06-09T17:50:19.473Z"
   },
   {
    "duration": 15,
    "start_time": "2022-06-09T17:51:02.507Z"
   },
   {
    "duration": 2,
    "start_time": "2022-06-09T17:52:08.907Z"
   },
   {
    "duration": 2,
    "start_time": "2022-06-09T17:52:21.845Z"
   },
   {
    "duration": 17,
    "start_time": "2022-06-09T17:56:25.207Z"
   },
   {
    "duration": 23,
    "start_time": "2022-06-09T17:56:43.643Z"
   },
   {
    "duration": 19,
    "start_time": "2022-06-09T17:57:13.428Z"
   },
   {
    "duration": 135,
    "start_time": "2022-06-09T17:57:45.356Z"
   },
   {
    "duration": 579,
    "start_time": "2022-06-09T18:29:08.289Z"
   },
   {
    "duration": 3,
    "start_time": "2022-06-09T18:29:08.870Z"
   },
   {
    "duration": 135,
    "start_time": "2022-06-09T18:29:08.874Z"
   },
   {
    "duration": 17,
    "start_time": "2022-06-09T18:29:09.011Z"
   },
   {
    "duration": 9,
    "start_time": "2022-06-09T18:29:09.030Z"
   },
   {
    "duration": 6,
    "start_time": "2022-06-09T18:29:09.041Z"
   },
   {
    "duration": 15,
    "start_time": "2022-06-09T18:29:09.048Z"
   },
   {
    "duration": 6,
    "start_time": "2022-06-09T18:29:09.064Z"
   },
   {
    "duration": 7,
    "start_time": "2022-06-09T18:29:09.072Z"
   },
   {
    "duration": 27,
    "start_time": "2022-06-09T18:29:09.081Z"
   },
   {
    "duration": 60,
    "start_time": "2022-06-09T18:29:09.109Z"
   },
   {
    "duration": 22,
    "start_time": "2022-06-09T18:29:09.170Z"
   },
   {
    "duration": 8,
    "start_time": "2022-06-09T18:29:09.195Z"
   },
   {
    "duration": 9,
    "start_time": "2022-06-09T18:29:09.204Z"
   },
   {
    "duration": 9,
    "start_time": "2022-06-09T18:29:09.215Z"
   },
   {
    "duration": 3,
    "start_time": "2022-06-09T18:29:09.226Z"
   },
   {
    "duration": 16,
    "start_time": "2022-06-09T18:29:09.231Z"
   },
   {
    "duration": 3,
    "start_time": "2022-06-09T18:29:09.248Z"
   },
   {
    "duration": 7,
    "start_time": "2022-06-09T18:29:09.252Z"
   },
   {
    "duration": 4,
    "start_time": "2022-06-09T18:29:09.261Z"
   },
   {
    "duration": 40,
    "start_time": "2022-06-09T18:29:09.267Z"
   },
   {
    "duration": 7,
    "start_time": "2022-06-09T18:29:09.311Z"
   },
   {
    "duration": 3,
    "start_time": "2022-06-09T18:29:09.320Z"
   },
   {
    "duration": 23,
    "start_time": "2022-06-09T18:29:09.325Z"
   },
   {
    "duration": 5,
    "start_time": "2022-06-09T18:29:09.349Z"
   },
   {
    "duration": 8,
    "start_time": "2022-06-09T18:29:09.355Z"
   },
   {
    "duration": 10,
    "start_time": "2022-06-09T18:29:09.364Z"
   },
   {
    "duration": 24,
    "start_time": "2022-06-09T18:29:09.392Z"
   },
   {
    "duration": 20,
    "start_time": "2022-06-09T18:29:09.418Z"
   },
   {
    "duration": 4,
    "start_time": "2022-06-09T18:29:09.440Z"
   },
   {
    "duration": 7,
    "start_time": "2022-06-09T18:29:09.445Z"
   },
   {
    "duration": 8,
    "start_time": "2022-06-09T18:29:09.453Z"
   },
   {
    "duration": 30,
    "start_time": "2022-06-09T18:29:09.462Z"
   },
   {
    "duration": 18,
    "start_time": "2022-06-09T18:29:09.493Z"
   },
   {
    "duration": 5,
    "start_time": "2022-06-09T18:29:09.513Z"
   },
   {
    "duration": 8,
    "start_time": "2022-06-09T18:29:09.519Z"
   },
   {
    "duration": 12,
    "start_time": "2022-06-09T18:29:09.529Z"
   },
   {
    "duration": 16,
    "start_time": "2022-06-09T18:29:09.543Z"
   },
   {
    "duration": 5,
    "start_time": "2022-06-09T18:29:09.561Z"
   },
   {
    "duration": 17,
    "start_time": "2022-06-09T18:29:09.591Z"
   },
   {
    "duration": 8,
    "start_time": "2022-06-09T18:29:09.610Z"
   },
   {
    "duration": 4,
    "start_time": "2022-06-09T18:29:09.620Z"
   },
   {
    "duration": 8,
    "start_time": "2022-06-09T18:29:09.625Z"
   },
   {
    "duration": 8,
    "start_time": "2022-06-09T18:29:09.634Z"
   },
   {
    "duration": 8,
    "start_time": "2022-06-09T18:29:09.643Z"
   },
   {
    "duration": 6,
    "start_time": "2022-06-09T18:29:09.652Z"
   },
   {
    "duration": 46,
    "start_time": "2022-06-09T18:29:09.660Z"
   },
   {
    "duration": 6,
    "start_time": "2022-06-09T18:29:09.709Z"
   },
   {
    "duration": 8,
    "start_time": "2022-06-09T18:29:09.716Z"
   },
   {
    "duration": 184,
    "start_time": "2022-06-09T18:29:09.725Z"
   },
   {
    "duration": 165,
    "start_time": "2022-06-09T18:29:09.911Z"
   },
   {
    "duration": 16,
    "start_time": "2022-06-09T18:29:10.078Z"
   },
   {
    "duration": 32,
    "start_time": "2022-06-09T18:29:10.096Z"
   },
   {
    "duration": 19,
    "start_time": "2022-06-09T18:29:10.130Z"
   },
   {
    "duration": 120,
    "start_time": "2022-06-09T18:29:10.150Z"
   },
   {
    "duration": 5,
    "start_time": "2022-06-09T18:29:10.271Z"
   },
   {
    "duration": 201,
    "start_time": "2022-06-09T18:29:10.278Z"
   },
   {
    "duration": 129,
    "start_time": "2022-06-09T18:29:10.481Z"
   },
   {
    "duration": 94,
    "start_time": "2022-06-09T18:29:10.612Z"
   },
   {
    "duration": 4,
    "start_time": "2022-06-09T18:29:10.709Z"
   },
   {
    "duration": 98,
    "start_time": "2022-06-09T18:29:10.715Z"
   },
   {
    "duration": 13,
    "start_time": "2022-06-09T18:29:10.815Z"
   },
   {
    "duration": 5,
    "start_time": "2022-06-09T18:29:10.831Z"
   },
   {
    "duration": 9,
    "start_time": "2022-06-09T18:29:10.837Z"
   },
   {
    "duration": 10,
    "start_time": "2022-06-09T18:29:10.848Z"
   },
   {
    "duration": 6,
    "start_time": "2022-06-09T18:29:10.859Z"
   },
   {
    "duration": 4,
    "start_time": "2022-06-09T18:29:10.867Z"
   },
   {
    "duration": 5,
    "start_time": "2022-06-09T18:29:10.872Z"
   },
   {
    "duration": 24,
    "start_time": "2022-06-09T18:29:10.893Z"
   },
   {
    "duration": 143,
    "start_time": "2022-06-09T18:29:10.918Z"
   },
   {
    "duration": 153,
    "start_time": "2022-06-09T18:29:11.063Z"
   },
   {
    "duration": 14,
    "start_time": "2022-06-09T18:29:11.218Z"
   },
   {
    "duration": 65,
    "start_time": "2022-06-09T18:29:11.234Z"
   },
   {
    "duration": 257,
    "start_time": "2022-06-09T18:29:11.303Z"
   },
   {
    "duration": 3,
    "start_time": "2022-06-09T18:29:11.561Z"
   },
   {
    "duration": 5,
    "start_time": "2022-06-09T18:29:11.565Z"
   },
   {
    "duration": 45,
    "start_time": "2022-06-09T18:29:11.572Z"
   },
   {
    "duration": 6,
    "start_time": "2022-06-09T18:29:11.621Z"
   },
   {
    "duration": 9,
    "start_time": "2022-06-09T18:29:11.628Z"
   },
   {
    "duration": 10,
    "start_time": "2022-06-09T18:29:11.639Z"
   },
   {
    "duration": 8,
    "start_time": "2022-06-09T18:29:11.650Z"
   },
   {
    "duration": 44,
    "start_time": "2022-06-09T18:29:11.659Z"
   },
   {
    "duration": 7,
    "start_time": "2022-06-09T18:29:11.705Z"
   },
   {
    "duration": 8,
    "start_time": "2022-06-09T18:29:11.713Z"
   },
   {
    "duration": 9,
    "start_time": "2022-06-09T18:29:11.722Z"
   },
   {
    "duration": 7,
    "start_time": "2022-06-09T18:29:11.733Z"
   },
   {
    "duration": 200,
    "start_time": "2022-06-09T18:29:11.741Z"
   },
   {
    "duration": 23,
    "start_time": "2022-06-09T18:29:11.942Z"
   },
   {
    "duration": 11,
    "start_time": "2022-06-09T18:29:11.967Z"
   },
   {
    "duration": 22,
    "start_time": "2022-06-09T18:29:11.991Z"
   },
   {
    "duration": 13,
    "start_time": "2022-06-09T18:29:12.014Z"
   },
   {
    "duration": 18,
    "start_time": "2022-06-09T18:29:12.029Z"
   },
   {
    "duration": 16,
    "start_time": "2022-06-09T18:29:12.048Z"
   },
   {
    "duration": 315,
    "start_time": "2022-06-09T18:29:12.066Z"
   },
   {
    "duration": 25,
    "start_time": "2022-06-09T18:29:12.383Z"
   },
   {
    "duration": 19,
    "start_time": "2022-06-09T18:29:12.410Z"
   },
   {
    "duration": 4,
    "start_time": "2022-06-09T18:29:12.430Z"
   },
   {
    "duration": 5,
    "start_time": "2022-06-09T18:29:12.436Z"
   },
   {
    "duration": 18,
    "start_time": "2022-06-09T18:29:12.442Z"
   },
   {
    "duration": 43,
    "start_time": "2022-06-09T18:29:12.462Z"
   },
   {
    "duration": 17,
    "start_time": "2022-06-09T18:29:12.506Z"
   },
   {
    "duration": 4,
    "start_time": "2022-06-09T18:29:12.525Z"
   },
   {
    "duration": 174,
    "start_time": "2022-06-09T18:29:12.530Z"
   },
   {
    "duration": 14,
    "start_time": "2022-06-09T18:29:12.710Z"
   },
   {
    "duration": 6,
    "start_time": "2022-06-09T18:29:12.726Z"
   },
   {
    "duration": 231,
    "start_time": "2022-06-09T18:29:12.734Z"
   },
   {
    "duration": 915,
    "start_time": "2022-06-09T19:40:32.317Z"
   },
   {
    "duration": 4,
    "start_time": "2022-06-09T19:40:33.234Z"
   },
   {
    "duration": 447,
    "start_time": "2022-06-09T19:40:33.239Z"
   },
   {
    "duration": 37,
    "start_time": "2022-06-09T19:40:33.689Z"
   },
   {
    "duration": 25,
    "start_time": "2022-06-09T19:40:33.729Z"
   },
   {
    "duration": 18,
    "start_time": "2022-06-09T19:40:33.756Z"
   },
   {
    "duration": 69,
    "start_time": "2022-06-09T19:40:33.780Z"
   },
   {
    "duration": 5,
    "start_time": "2022-06-09T19:40:33.851Z"
   },
   {
    "duration": 25,
    "start_time": "2022-06-09T19:40:33.858Z"
   },
   {
    "duration": 46,
    "start_time": "2022-06-09T19:40:33.896Z"
   },
   {
    "duration": 105,
    "start_time": "2022-06-09T19:40:33.944Z"
   },
   {
    "duration": 9,
    "start_time": "2022-06-09T19:40:34.051Z"
   },
   {
    "duration": 58,
    "start_time": "2022-06-09T19:40:34.061Z"
   },
   {
    "duration": 20,
    "start_time": "2022-06-09T19:40:34.124Z"
   },
   {
    "duration": 26,
    "start_time": "2022-06-09T19:40:34.146Z"
   },
   {
    "duration": 63,
    "start_time": "2022-06-09T19:40:34.174Z"
   },
   {
    "duration": 22,
    "start_time": "2022-06-09T19:40:34.239Z"
   },
   {
    "duration": 34,
    "start_time": "2022-06-09T19:40:34.263Z"
   },
   {
    "duration": 41,
    "start_time": "2022-06-09T19:40:34.305Z"
   },
   {
    "duration": 9,
    "start_time": "2022-06-09T19:40:34.348Z"
   },
   {
    "duration": 29,
    "start_time": "2022-06-09T19:40:34.359Z"
   },
   {
    "duration": 87,
    "start_time": "2022-06-09T19:40:34.390Z"
   },
   {
    "duration": 60,
    "start_time": "2022-06-09T19:40:34.486Z"
   },
   {
    "duration": 35,
    "start_time": "2022-06-09T19:40:34.548Z"
   },
   {
    "duration": 55,
    "start_time": "2022-06-09T19:40:34.587Z"
   },
   {
    "duration": 7,
    "start_time": "2022-06-09T19:40:34.644Z"
   },
   {
    "duration": 7,
    "start_time": "2022-06-09T19:40:34.652Z"
   },
   {
    "duration": 69,
    "start_time": "2022-06-09T19:40:34.662Z"
   },
   {
    "duration": 24,
    "start_time": "2022-06-09T19:40:34.732Z"
   },
   {
    "duration": 5,
    "start_time": "2022-06-09T19:40:34.758Z"
   },
   {
    "duration": 65,
    "start_time": "2022-06-09T19:40:34.764Z"
   },
   {
    "duration": 9,
    "start_time": "2022-06-09T19:40:34.832Z"
   },
   {
    "duration": 15,
    "start_time": "2022-06-09T19:40:34.843Z"
   },
   {
    "duration": 54,
    "start_time": "2022-06-09T19:40:34.859Z"
   },
   {
    "duration": 19,
    "start_time": "2022-06-09T19:40:34.915Z"
   },
   {
    "duration": 15,
    "start_time": "2022-06-09T19:40:34.936Z"
   },
   {
    "duration": 17,
    "start_time": "2022-06-09T19:40:34.953Z"
   },
   {
    "duration": 72,
    "start_time": "2022-06-09T19:40:34.972Z"
   },
   {
    "duration": 6,
    "start_time": "2022-06-09T19:40:35.045Z"
   },
   {
    "duration": 9,
    "start_time": "2022-06-09T19:40:35.053Z"
   },
   {
    "duration": 75,
    "start_time": "2022-06-09T19:40:35.063Z"
   },
   {
    "duration": 14,
    "start_time": "2022-06-09T19:40:35.140Z"
   },
   {
    "duration": 15,
    "start_time": "2022-06-09T19:40:35.156Z"
   },
   {
    "duration": 60,
    "start_time": "2022-06-09T19:40:35.172Z"
   },
   {
    "duration": 11,
    "start_time": "2022-06-09T19:40:35.234Z"
   },
   {
    "duration": 10,
    "start_time": "2022-06-09T19:40:35.247Z"
   },
   {
    "duration": 38,
    "start_time": "2022-06-09T19:40:35.259Z"
   },
   {
    "duration": 39,
    "start_time": "2022-06-09T19:40:35.298Z"
   },
   {
    "duration": 7,
    "start_time": "2022-06-09T19:40:35.339Z"
   },
   {
    "duration": 264,
    "start_time": "2022-06-09T19:40:35.348Z"
   },
   {
    "duration": 224,
    "start_time": "2022-06-09T19:40:35.615Z"
   },
   {
    "duration": 7,
    "start_time": "2022-06-09T19:40:35.841Z"
   },
   {
    "duration": 53,
    "start_time": "2022-06-09T19:40:35.850Z"
   },
   {
    "duration": 43,
    "start_time": "2022-06-09T19:40:35.906Z"
   },
   {
    "duration": 147,
    "start_time": "2022-06-09T19:40:35.951Z"
   },
   {
    "duration": 19,
    "start_time": "2022-06-09T19:40:36.100Z"
   },
   {
    "duration": 307,
    "start_time": "2022-06-09T19:40:36.120Z"
   },
   {
    "duration": 131,
    "start_time": "2022-06-09T19:40:36.429Z"
   },
   {
    "duration": 122,
    "start_time": "2022-06-09T19:40:36.564Z"
   },
   {
    "duration": 14,
    "start_time": "2022-06-09T19:40:36.688Z"
   },
   {
    "duration": 117,
    "start_time": "2022-06-09T19:40:36.703Z"
   },
   {
    "duration": 18,
    "start_time": "2022-06-09T19:40:36.822Z"
   },
   {
    "duration": 7,
    "start_time": "2022-06-09T19:40:36.842Z"
   },
   {
    "duration": 6,
    "start_time": "2022-06-09T19:40:36.850Z"
   },
   {
    "duration": 14,
    "start_time": "2022-06-09T19:40:36.858Z"
   },
   {
    "duration": 73,
    "start_time": "2022-06-09T19:40:36.873Z"
   },
   {
    "duration": 5,
    "start_time": "2022-06-09T19:40:36.948Z"
   },
   {
    "duration": 41,
    "start_time": "2022-06-09T19:40:36.954Z"
   },
   {
    "duration": 52,
    "start_time": "2022-06-09T19:40:36.996Z"
   },
   {
    "duration": 205,
    "start_time": "2022-06-09T19:40:37.049Z"
   },
   {
    "duration": 227,
    "start_time": "2022-06-09T19:40:37.255Z"
   },
   {
    "duration": 24,
    "start_time": "2022-06-09T19:40:37.487Z"
   },
   {
    "duration": 66,
    "start_time": "2022-06-09T19:40:37.512Z"
   },
   {
    "duration": 343,
    "start_time": "2022-06-09T19:40:37.580Z"
   },
   {
    "duration": 5,
    "start_time": "2022-06-09T19:40:37.924Z"
   },
   {
    "duration": 11,
    "start_time": "2022-06-09T19:40:37.931Z"
   },
   {
    "duration": 31,
    "start_time": "2022-06-09T19:40:37.944Z"
   },
   {
    "duration": 4,
    "start_time": "2022-06-09T19:40:37.976Z"
   },
   {
    "duration": 53,
    "start_time": "2022-06-09T19:40:37.982Z"
   },
   {
    "duration": 9,
    "start_time": "2022-06-09T19:40:38.037Z"
   },
   {
    "duration": 7,
    "start_time": "2022-06-09T19:40:38.047Z"
   },
   {
    "duration": 45,
    "start_time": "2022-06-09T19:40:38.060Z"
   },
   {
    "duration": 22,
    "start_time": "2022-06-09T19:40:38.117Z"
   },
   {
    "duration": 8,
    "start_time": "2022-06-09T19:40:38.141Z"
   },
   {
    "duration": 8,
    "start_time": "2022-06-09T19:40:38.151Z"
   },
   {
    "duration": 48,
    "start_time": "2022-06-09T19:40:38.160Z"
   },
   {
    "duration": 260,
    "start_time": "2022-06-09T19:40:38.210Z"
   },
   {
    "duration": 31,
    "start_time": "2022-06-09T19:40:38.484Z"
   },
   {
    "duration": 43,
    "start_time": "2022-06-09T19:40:38.517Z"
   },
   {
    "duration": 61,
    "start_time": "2022-06-09T19:40:38.562Z"
   },
   {
    "duration": 30,
    "start_time": "2022-06-09T19:40:38.630Z"
   },
   {
    "duration": 91,
    "start_time": "2022-06-09T19:40:38.662Z"
   },
   {
    "duration": 38,
    "start_time": "2022-06-09T19:40:38.754Z"
   },
   {
    "duration": 487,
    "start_time": "2022-06-09T19:40:38.799Z"
   },
   {
    "duration": 29,
    "start_time": "2022-06-09T19:40:39.287Z"
   },
   {
    "duration": 47,
    "start_time": "2022-06-09T19:40:39.318Z"
   },
   {
    "duration": 73,
    "start_time": "2022-06-09T19:40:39.366Z"
   },
   {
    "duration": 14,
    "start_time": "2022-06-09T19:40:39.442Z"
   },
   {
    "duration": 94,
    "start_time": "2022-06-09T19:40:39.458Z"
   },
   {
    "duration": 100,
    "start_time": "2022-06-09T19:40:39.555Z"
   },
   {
    "duration": 48,
    "start_time": "2022-06-09T19:40:39.657Z"
   },
   {
    "duration": 24,
    "start_time": "2022-06-09T19:40:39.712Z"
   },
   {
    "duration": 213,
    "start_time": "2022-06-09T19:40:39.738Z"
   },
   {
    "duration": 31,
    "start_time": "2022-06-09T19:40:39.953Z"
   },
   {
    "duration": 55,
    "start_time": "2022-06-09T19:40:39.986Z"
   },
   {
    "duration": 297,
    "start_time": "2022-06-09T19:40:40.043Z"
   }
  ],
  "colab": {
   "name": "DA+. Сборный проект 1. Шаблон (1).ipynb",
   "provenance": []
  },
  "kernelspec": {
   "display_name": "Python 3 (ipykernel)",
   "language": "python",
   "name": "python3"
  },
  "language_info": {
   "codemirror_mode": {
    "name": "ipython",
    "version": 3
   },
   "file_extension": ".py",
   "mimetype": "text/x-python",
   "name": "python",
   "nbconvert_exporter": "python",
   "pygments_lexer": "ipython3",
   "version": "3.9.7"
  },
  "toc": {
   "base_numbering": 1,
   "nav_menu": {},
   "number_sections": true,
   "sideBar": true,
   "skip_h1_title": true,
   "title_cell": "Table of Contents",
   "title_sidebar": "Contents",
   "toc_cell": false,
   "toc_position": {
    "height": "calc(100% - 180px)",
    "left": "10px",
    "top": "150px",
    "width": "375.391px"
   },
   "toc_section_display": true,
   "toc_window_display": false
  }
 },
 "nbformat": 4,
 "nbformat_minor": 1
}
