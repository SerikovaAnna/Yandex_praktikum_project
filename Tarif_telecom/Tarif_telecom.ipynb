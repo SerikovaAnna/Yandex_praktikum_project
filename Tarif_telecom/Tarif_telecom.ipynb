{
 "cells": [
  {
   "cell_type": "markdown",
   "metadata": {},
   "source": [
    "# 1. Определение перспективного тарифа для телеком-компании"
   ]
  },
  {
   "cell_type": "markdown",
   "metadata": {},
   "source": [
    "Цель исследования: предварительный анализ тарифов.  \n",
    "Проверить гипотезы:  \n",
    "средняя выручка пользователей тарифов «Ультра» и «Смарт» различаются.  \n",
    "средняя выручка пользователей из Москвы отличается от выручки пользователей из других регионов."
   ]
  },
  {
   "cell_type": "markdown",
   "metadata": {},
   "source": [
    "## Шаг 1. Откройте файл с данными и изучите общую информацию"
   ]
  },
  {
   "cell_type": "code",
   "execution_count": 1,
   "metadata": {},
   "outputs": [],
   "source": [
    "import pandas as pd\n",
    "import numpy as np\n",
    "import matplotlib.pyplot as plt\n",
    "from scipy import stats as st\n",
    "import math as mt\n",
    "import itertools"
   ]
  },
  {
   "cell_type": "code",
   "execution_count": 2,
   "metadata": {},
   "outputs": [],
   "source": [
    "calls = pd.read_csv('/datasets/calls.csv')\n",
    "internet = pd.read_csv('/datasets/internet.csv')\n",
    "messages = pd.read_csv('/datasets/messages.csv')\n",
    "tariffs = pd.read_csv('/datasets/tariffs.csv')\n",
    "users = pd.read_csv('/datasets/users.csv')"
   ]
  },
  {
   "cell_type": "code",
   "execution_count": 3,
   "metadata": {},
   "outputs": [
    {
     "name": "stdout",
     "output_type": "stream",
     "text": [
      "<class 'pandas.core.frame.DataFrame'>\n",
      "RangeIndex: 202607 entries, 0 to 202606\n",
      "Data columns (total 4 columns):\n",
      " #   Column     Non-Null Count   Dtype  \n",
      "---  ------     --------------   -----  \n",
      " 0   id         202607 non-null  object \n",
      " 1   call_date  202607 non-null  object \n",
      " 2   duration   202607 non-null  float64\n",
      " 3   user_id    202607 non-null  int64  \n",
      "dtypes: float64(1), int64(1), object(2)\n",
      "memory usage: 6.2+ MB\n"
     ]
    },
    {
     "data": {
      "text/html": [
       "<div>\n",
       "<style scoped>\n",
       "    .dataframe tbody tr th:only-of-type {\n",
       "        vertical-align: middle;\n",
       "    }\n",
       "\n",
       "    .dataframe tbody tr th {\n",
       "        vertical-align: top;\n",
       "    }\n",
       "\n",
       "    .dataframe thead th {\n",
       "        text-align: right;\n",
       "    }\n",
       "</style>\n",
       "<table border=\"1\" class=\"dataframe\">\n",
       "  <thead>\n",
       "    <tr style=\"text-align: right;\">\n",
       "      <th></th>\n",
       "      <th>id</th>\n",
       "      <th>call_date</th>\n",
       "      <th>duration</th>\n",
       "      <th>user_id</th>\n",
       "    </tr>\n",
       "  </thead>\n",
       "  <tbody>\n",
       "    <tr>\n",
       "      <th>158741</th>\n",
       "      <td>1392_406</td>\n",
       "      <td>2018-07-09</td>\n",
       "      <td>4.94</td>\n",
       "      <td>1392</td>\n",
       "    </tr>\n",
       "    <tr>\n",
       "      <th>95947</th>\n",
       "      <td>1244_202</td>\n",
       "      <td>2018-11-09</td>\n",
       "      <td>0.00</td>\n",
       "      <td>1244</td>\n",
       "    </tr>\n",
       "    <tr>\n",
       "      <th>10624</th>\n",
       "      <td>1027_494</td>\n",
       "      <td>2018-10-07</td>\n",
       "      <td>3.10</td>\n",
       "      <td>1027</td>\n",
       "    </tr>\n",
       "    <tr>\n",
       "      <th>167423</th>\n",
       "      <td>1412_340</td>\n",
       "      <td>2018-09-25</td>\n",
       "      <td>5.91</td>\n",
       "      <td>1412</td>\n",
       "    </tr>\n",
       "    <tr>\n",
       "      <th>73194</th>\n",
       "      <td>1184_168</td>\n",
       "      <td>2018-09-03</td>\n",
       "      <td>9.86</td>\n",
       "      <td>1184</td>\n",
       "    </tr>\n",
       "  </tbody>\n",
       "</table>\n",
       "</div>"
      ],
      "text/plain": [
       "              id   call_date  duration  user_id\n",
       "158741  1392_406  2018-07-09      4.94     1392\n",
       "95947   1244_202  2018-11-09      0.00     1244\n",
       "10624   1027_494  2018-10-07      3.10     1027\n",
       "167423  1412_340  2018-09-25      5.91     1412\n",
       "73194   1184_168  2018-09-03      9.86     1184"
      ]
     },
     "execution_count": 3,
     "metadata": {},
     "output_type": "execute_result"
    }
   ],
   "source": [
    "calls.info()\n",
    "calls.describe(include = 'all').T\n",
    "calls.sample(5, random_state=42)\n",
    "#calls['duration'].unique()"
   ]
  },
  {
   "cell_type": "markdown",
   "metadata": {},
   "source": [
    "В данных нет явных дубликатов и пропусков.  \n",
    "В столбце duration звонки с нулевой продолжительностью. Это не ошибка: нулями обозначены пропущенные звонки, поэтому их не нужно удалять.  \n",
    "У столбца call_date неверный формат данных. Исправим в шаге предподготовки данных."
   ]
  },
  {
   "cell_type": "code",
   "execution_count": 4,
   "metadata": {},
   "outputs": [
    {
     "name": "stdout",
     "output_type": "stream",
     "text": [
      "<class 'pandas.core.frame.DataFrame'>\n",
      "RangeIndex: 149396 entries, 0 to 149395\n",
      "Data columns (total 5 columns):\n",
      " #   Column        Non-Null Count   Dtype  \n",
      "---  ------        --------------   -----  \n",
      " 0   Unnamed: 0    149396 non-null  int64  \n",
      " 1   id            149396 non-null  object \n",
      " 2   mb_used       149396 non-null  float64\n",
      " 3   session_date  149396 non-null  object \n",
      " 4   user_id       149396 non-null  int64  \n",
      "dtypes: float64(1), int64(2), object(2)\n",
      "memory usage: 5.7+ MB\n"
     ]
    },
    {
     "data": {
      "text/plain": [
       "0"
      ]
     },
     "execution_count": 4,
     "metadata": {},
     "output_type": "execute_result"
    }
   ],
   "source": [
    "internet.info()\n",
    "internet.describe(include = 'all').T\n",
    "internet.sample(5, random_state=42)\n",
    "internet.duplicated().sum()"
   ]
  },
  {
   "cell_type": "markdown",
   "metadata": {},
   "source": [
    "В данных нет пропусков, нет явных дубликатов.  \n",
    "Есть дополнительный безымянный столбец с индексами. Вероятно появился при удалении дубликатов или при присоединении таблиц. В исследовании он не учавствует и не мешает. Можем оставить без изменений.  \n",
    "У столбца session_date неверный формат данных. Исправим в шаге предподготовки данных."
   ]
  },
  {
   "cell_type": "code",
   "execution_count": 5,
   "metadata": {},
   "outputs": [
    {
     "name": "stdout",
     "output_type": "stream",
     "text": [
      "<class 'pandas.core.frame.DataFrame'>\n",
      "RangeIndex: 123036 entries, 0 to 123035\n",
      "Data columns (total 3 columns):\n",
      " #   Column        Non-Null Count   Dtype \n",
      "---  ------        --------------   ----- \n",
      " 0   id            123036 non-null  object\n",
      " 1   message_date  123036 non-null  object\n",
      " 2   user_id       123036 non-null  int64 \n",
      "dtypes: int64(1), object(2)\n",
      "memory usage: 2.8+ MB\n"
     ]
    },
    {
     "data": {
      "text/plain": [
       "0"
      ]
     },
     "execution_count": 5,
     "metadata": {},
     "output_type": "execute_result"
    }
   ],
   "source": [
    "messages.info()\n",
    "messages.describe(include = 'all').T\n",
    "messages.sample(5, random_state=42)\n",
    "messages['id'].duplicated().sum()"
   ]
  },
  {
   "cell_type": "markdown",
   "metadata": {},
   "source": [
    "В данных нет пропусков, нет явных дубликатов.  \n",
    "У столбца message_date неверный формат данных. Исправим в шаге предподготовки данных."
   ]
  },
  {
   "cell_type": "code",
   "execution_count": 6,
   "metadata": {},
   "outputs": [
    {
     "name": "stdout",
     "output_type": "stream",
     "text": [
      "<class 'pandas.core.frame.DataFrame'>\n",
      "RangeIndex: 500 entries, 0 to 499\n",
      "Data columns (total 8 columns):\n",
      " #   Column      Non-Null Count  Dtype \n",
      "---  ------      --------------  ----- \n",
      " 0   user_id     500 non-null    int64 \n",
      " 1   age         500 non-null    int64 \n",
      " 2   churn_date  38 non-null     object\n",
      " 3   city        500 non-null    object\n",
      " 4   first_name  500 non-null    object\n",
      " 5   last_name   500 non-null    object\n",
      " 6   reg_date    500 non-null    object\n",
      " 7   tariff      500 non-null    object\n",
      "dtypes: int64(2), object(6)\n",
      "memory usage: 31.4+ KB\n"
     ]
    },
    {
     "data": {
      "text/html": [
       "<div>\n",
       "<style scoped>\n",
       "    .dataframe tbody tr th:only-of-type {\n",
       "        vertical-align: middle;\n",
       "    }\n",
       "\n",
       "    .dataframe tbody tr th {\n",
       "        vertical-align: top;\n",
       "    }\n",
       "\n",
       "    .dataframe thead th {\n",
       "        text-align: right;\n",
       "    }\n",
       "</style>\n",
       "<table border=\"1\" class=\"dataframe\">\n",
       "  <thead>\n",
       "    <tr style=\"text-align: right;\">\n",
       "      <th></th>\n",
       "      <th>user_id</th>\n",
       "      <th>age</th>\n",
       "      <th>churn_date</th>\n",
       "      <th>city</th>\n",
       "      <th>first_name</th>\n",
       "      <th>last_name</th>\n",
       "      <th>reg_date</th>\n",
       "      <th>tariff</th>\n",
       "    </tr>\n",
       "  </thead>\n",
       "  <tbody>\n",
       "    <tr>\n",
       "      <th>361</th>\n",
       "      <td>1361</td>\n",
       "      <td>38</td>\n",
       "      <td>NaN</td>\n",
       "      <td>Екатеринбург</td>\n",
       "      <td>Рената</td>\n",
       "      <td>Кошелева</td>\n",
       "      <td>2018-09-09</td>\n",
       "      <td>ultra</td>\n",
       "    </tr>\n",
       "    <tr>\n",
       "      <th>73</th>\n",
       "      <td>1073</td>\n",
       "      <td>63</td>\n",
       "      <td>NaN</td>\n",
       "      <td>Владикавказ</td>\n",
       "      <td>Гордей</td>\n",
       "      <td>Павловский</td>\n",
       "      <td>2018-10-04</td>\n",
       "      <td>smart</td>\n",
       "    </tr>\n",
       "    <tr>\n",
       "      <th>374</th>\n",
       "      <td>1374</td>\n",
       "      <td>67</td>\n",
       "      <td>NaN</td>\n",
       "      <td>Махачкала</td>\n",
       "      <td>Леонид</td>\n",
       "      <td>Аркадьев</td>\n",
       "      <td>2018-04-01</td>\n",
       "      <td>smart</td>\n",
       "    </tr>\n",
       "    <tr>\n",
       "      <th>155</th>\n",
       "      <td>1155</td>\n",
       "      <td>71</td>\n",
       "      <td>NaN</td>\n",
       "      <td>Ставрополь</td>\n",
       "      <td>Александр</td>\n",
       "      <td>Чернов</td>\n",
       "      <td>2018-01-02</td>\n",
       "      <td>smart</td>\n",
       "    </tr>\n",
       "    <tr>\n",
       "      <th>104</th>\n",
       "      <td>1104</td>\n",
       "      <td>60</td>\n",
       "      <td>NaN</td>\n",
       "      <td>Нижний Тагил</td>\n",
       "      <td>Габриэль</td>\n",
       "      <td>Поляков</td>\n",
       "      <td>2018-02-21</td>\n",
       "      <td>ultra</td>\n",
       "    </tr>\n",
       "  </tbody>\n",
       "</table>\n",
       "</div>"
      ],
      "text/plain": [
       "     user_id  age churn_date          city first_name   last_name    reg_date  \\\n",
       "361     1361   38        NaN  Екатеринбург     Рената    Кошелева  2018-09-09   \n",
       "73      1073   63        NaN   Владикавказ     Гордей  Павловский  2018-10-04   \n",
       "374     1374   67        NaN     Махачкала     Леонид    Аркадьев  2018-04-01   \n",
       "155     1155   71        NaN    Ставрополь  Александр      Чернов  2018-01-02   \n",
       "104     1104   60        NaN  Нижний Тагил   Габриэль     Поляков  2018-02-21   \n",
       "\n",
       "    tariff  \n",
       "361  ultra  \n",
       "73   smart  \n",
       "374  smart  \n",
       "155  smart  \n",
       "104  ultra  "
      ]
     },
     "execution_count": 6,
     "metadata": {},
     "output_type": "execute_result"
    }
   ],
   "source": [
    "users.info()\n",
    "users.describe(include = 'all').T\n",
    "users.sample(5, random_state=42)\n",
    "#users.duplicated().sum()"
   ]
  },
  {
   "cell_type": "markdown",
   "metadata": {},
   "source": [
    "В данных нет явных дубликатов.  \n",
    "В стобце churn_date в данных есть пропуски (Nan), но это связано с тем, что на момент выгрузки клиент всё ещё пользуется тарифом.  \n",
    "У столбцов churn_date и reg_date неверный формат данных. Исправим в шаге предподготовки данных."
   ]
  },
  {
   "cell_type": "code",
   "execution_count": 7,
   "metadata": {},
   "outputs": [
    {
     "name": "stdout",
     "output_type": "stream",
     "text": [
      "<class 'pandas.core.frame.DataFrame'>\n",
      "RangeIndex: 2 entries, 0 to 1\n",
      "Data columns (total 8 columns):\n",
      " #   Column                 Non-Null Count  Dtype \n",
      "---  ------                 --------------  ----- \n",
      " 0   messages_included      2 non-null      int64 \n",
      " 1   mb_per_month_included  2 non-null      int64 \n",
      " 2   minutes_included       2 non-null      int64 \n",
      " 3   rub_monthly_fee        2 non-null      int64 \n",
      " 4   rub_per_gb             2 non-null      int64 \n",
      " 5   rub_per_message        2 non-null      int64 \n",
      " 6   rub_per_minute         2 non-null      int64 \n",
      " 7   tariff_name            2 non-null      object\n",
      "dtypes: int64(7), object(1)\n",
      "memory usage: 256.0+ bytes\n"
     ]
    },
    {
     "data": {
      "text/html": [
       "<div>\n",
       "<style scoped>\n",
       "    .dataframe tbody tr th:only-of-type {\n",
       "        vertical-align: middle;\n",
       "    }\n",
       "\n",
       "    .dataframe tbody tr th {\n",
       "        vertical-align: top;\n",
       "    }\n",
       "\n",
       "    .dataframe thead th {\n",
       "        text-align: right;\n",
       "    }\n",
       "</style>\n",
       "<table border=\"1\" class=\"dataframe\">\n",
       "  <thead>\n",
       "    <tr style=\"text-align: right;\">\n",
       "      <th></th>\n",
       "      <th>messages_included</th>\n",
       "      <th>mb_per_month_included</th>\n",
       "      <th>minutes_included</th>\n",
       "      <th>rub_monthly_fee</th>\n",
       "      <th>rub_per_gb</th>\n",
       "      <th>rub_per_message</th>\n",
       "      <th>rub_per_minute</th>\n",
       "      <th>tariff_name</th>\n",
       "    </tr>\n",
       "  </thead>\n",
       "  <tbody>\n",
       "    <tr>\n",
       "      <th>0</th>\n",
       "      <td>50</td>\n",
       "      <td>15360</td>\n",
       "      <td>500</td>\n",
       "      <td>550</td>\n",
       "      <td>200</td>\n",
       "      <td>3</td>\n",
       "      <td>3</td>\n",
       "      <td>smart</td>\n",
       "    </tr>\n",
       "    <tr>\n",
       "      <th>1</th>\n",
       "      <td>1000</td>\n",
       "      <td>30720</td>\n",
       "      <td>3000</td>\n",
       "      <td>1950</td>\n",
       "      <td>150</td>\n",
       "      <td>1</td>\n",
       "      <td>1</td>\n",
       "      <td>ultra</td>\n",
       "    </tr>\n",
       "  </tbody>\n",
       "</table>\n",
       "</div>"
      ],
      "text/plain": [
       "   messages_included  mb_per_month_included  minutes_included  \\\n",
       "0                 50                  15360               500   \n",
       "1               1000                  30720              3000   \n",
       "\n",
       "   rub_monthly_fee  rub_per_gb  rub_per_message  rub_per_minute tariff_name  \n",
       "0              550         200                3               3       smart  \n",
       "1             1950         150                1               1       ultra  "
      ]
     },
     "execution_count": 7,
     "metadata": {},
     "output_type": "execute_result"
    }
   ],
   "source": [
    "tariffs.info()\n",
    "tariffs"
   ]
  },
  {
   "cell_type": "markdown",
   "metadata": {},
   "source": [
    "Вывод: Необходимо привести к нужному типу данных столбцы с датами"
   ]
  },
  {
   "cell_type": "markdown",
   "metadata": {},
   "source": [
    "## Шаг 2. Подготовьте данные"
   ]
  },
  {
   "cell_type": "markdown",
   "metadata": {},
   "source": [
    "Приводим к нужному типу данных столбцы с датами"
   ]
  },
  {
   "cell_type": "code",
   "execution_count": 8,
   "metadata": {},
   "outputs": [],
   "source": [
    "calls['call_date'] = pd.to_datetime(calls['call_date'], format = '%Y-%m-%d')\n",
    "internet['session_date'] = pd.to_datetime(internet['session_date'], format = '%Y-%m-%d')\n",
    "messages['message_date'] = pd.to_datetime(messages['message_date'], format = '%Y-%m-%d')\n",
    "users['reg_date'] = pd.to_datetime(users['reg_date'], format = '%Y-%m-%d')\n",
    "users['churn_date'] = pd.to_datetime(users['churn_date'], format = '%Y-%m-%d')"
   ]
  },
  {
   "cell_type": "markdown",
   "metadata": {},
   "source": [
    "Добавим столбец с месяцем в таблицы с данными по звонкам, интернет траффику и сообщениям"
   ]
  },
  {
   "cell_type": "code",
   "execution_count": 29,
   "metadata": {},
   "outputs": [
    {
     "data": {
      "text/plain": [
       "0         2018-07\n",
       "1         2018-08\n",
       "2         2018-06\n",
       "3         2018-09\n",
       "4         2018-12\n",
       "           ...   \n",
       "202602    2018-12\n",
       "202603    2018-10\n",
       "202604    2018-11\n",
       "202605    2018-10\n",
       "202606    2018-12\n",
       "Name: month, Length: 202607, dtype: period[M]"
      ]
     },
     "execution_count": 29,
     "metadata": {},
     "output_type": "execute_result"
    }
   ],
   "source": [
    "calls['month']"
   ]
  },
  {
   "cell_type": "code",
   "execution_count": 10,
   "metadata": {},
   "outputs": [],
   "source": [
    "calls['month'] = pd.to_datetime(calls['call_date']).dt.to_period(\"M\")\n",
    "internet['month'] = pd.to_datetime(internet['session_date']).dt.to_period(\"M\")\n",
    "messages['month'] = pd.to_datetime(messages['message_date']).dt.to_period(\"M\")"
   ]
  },
  {
   "cell_type": "markdown",
   "metadata": {},
   "source": [
    "Округлим продолжительность всех звонков в большую сторону, согласно условиям тарифа"
   ]
  },
  {
   "cell_type": "code",
   "execution_count": 11,
   "metadata": {},
   "outputs": [
    {
     "data": {
      "text/html": [
       "<div>\n",
       "<style scoped>\n",
       "    .dataframe tbody tr th:only-of-type {\n",
       "        vertical-align: middle;\n",
       "    }\n",
       "\n",
       "    .dataframe tbody tr th {\n",
       "        vertical-align: top;\n",
       "    }\n",
       "\n",
       "    .dataframe thead th {\n",
       "        text-align: right;\n",
       "    }\n",
       "</style>\n",
       "<table border=\"1\" class=\"dataframe\">\n",
       "  <thead>\n",
       "    <tr style=\"text-align: right;\">\n",
       "      <th></th>\n",
       "      <th>id</th>\n",
       "      <th>call_date</th>\n",
       "      <th>duration</th>\n",
       "      <th>user_id</th>\n",
       "      <th>month</th>\n",
       "      <th>duration_ceil</th>\n",
       "    </tr>\n",
       "  </thead>\n",
       "  <tbody>\n",
       "    <tr>\n",
       "      <th>0</th>\n",
       "      <td>1000_0</td>\n",
       "      <td>2018-07-25</td>\n",
       "      <td>0.00</td>\n",
       "      <td>1000</td>\n",
       "      <td>2018-07</td>\n",
       "      <td>0.0</td>\n",
       "    </tr>\n",
       "    <tr>\n",
       "      <th>1</th>\n",
       "      <td>1000_1</td>\n",
       "      <td>2018-08-17</td>\n",
       "      <td>0.00</td>\n",
       "      <td>1000</td>\n",
       "      <td>2018-08</td>\n",
       "      <td>0.0</td>\n",
       "    </tr>\n",
       "    <tr>\n",
       "      <th>2</th>\n",
       "      <td>1000_2</td>\n",
       "      <td>2018-06-11</td>\n",
       "      <td>2.85</td>\n",
       "      <td>1000</td>\n",
       "      <td>2018-06</td>\n",
       "      <td>3.0</td>\n",
       "    </tr>\n",
       "    <tr>\n",
       "      <th>3</th>\n",
       "      <td>1000_3</td>\n",
       "      <td>2018-09-21</td>\n",
       "      <td>13.80</td>\n",
       "      <td>1000</td>\n",
       "      <td>2018-09</td>\n",
       "      <td>14.0</td>\n",
       "    </tr>\n",
       "    <tr>\n",
       "      <th>4</th>\n",
       "      <td>1000_4</td>\n",
       "      <td>2018-12-15</td>\n",
       "      <td>5.18</td>\n",
       "      <td>1000</td>\n",
       "      <td>2018-12</td>\n",
       "      <td>6.0</td>\n",
       "    </tr>\n",
       "  </tbody>\n",
       "</table>\n",
       "</div>"
      ],
      "text/plain": [
       "       id  call_date  duration  user_id    month  duration_ceil\n",
       "0  1000_0 2018-07-25      0.00     1000  2018-07            0.0\n",
       "1  1000_1 2018-08-17      0.00     1000  2018-08            0.0\n",
       "2  1000_2 2018-06-11      2.85     1000  2018-06            3.0\n",
       "3  1000_3 2018-09-21     13.80     1000  2018-09           14.0\n",
       "4  1000_4 2018-12-15      5.18     1000  2018-12            6.0"
      ]
     },
     "execution_count": 11,
     "metadata": {},
     "output_type": "execute_result"
    }
   ],
   "source": [
    "calls['duration_ceil'] = np.ceil(calls['duration'])\n",
    "calls.head(5)"
   ]
  },
  {
   "cell_type": "markdown",
   "metadata": {},
   "source": [
    "Считаем для каждого пользователя количество сделанных звонков и израсходованных минут разговора по месяцам"
   ]
  },
  {
   "cell_type": "code",
   "execution_count": 12,
   "metadata": {},
   "outputs": [
    {
     "data": {
      "text/html": [
       "<div>\n",
       "<style scoped>\n",
       "    .dataframe tbody tr th:only-of-type {\n",
       "        vertical-align: middle;\n",
       "    }\n",
       "\n",
       "    .dataframe tbody tr th {\n",
       "        vertical-align: top;\n",
       "    }\n",
       "\n",
       "    .dataframe thead th {\n",
       "        text-align: right;\n",
       "    }\n",
       "</style>\n",
       "<table border=\"1\" class=\"dataframe\">\n",
       "  <thead>\n",
       "    <tr style=\"text-align: right;\">\n",
       "      <th></th>\n",
       "      <th></th>\n",
       "      <th>calls_count</th>\n",
       "      <th>calls_duration</th>\n",
       "    </tr>\n",
       "    <tr>\n",
       "      <th>user_id</th>\n",
       "      <th>month</th>\n",
       "      <th></th>\n",
       "      <th></th>\n",
       "    </tr>\n",
       "  </thead>\n",
       "  <tbody>\n",
       "    <tr>\n",
       "      <th rowspan=\"8\" valign=\"top\">1000</th>\n",
       "      <th>2018-05</th>\n",
       "      <td>22</td>\n",
       "      <td>159.0</td>\n",
       "    </tr>\n",
       "    <tr>\n",
       "      <th>2018-06</th>\n",
       "      <td>43</td>\n",
       "      <td>172.0</td>\n",
       "    </tr>\n",
       "    <tr>\n",
       "      <th>2018-07</th>\n",
       "      <td>47</td>\n",
       "      <td>340.0</td>\n",
       "    </tr>\n",
       "    <tr>\n",
       "      <th>2018-08</th>\n",
       "      <td>52</td>\n",
       "      <td>408.0</td>\n",
       "    </tr>\n",
       "    <tr>\n",
       "      <th>2018-09</th>\n",
       "      <td>58</td>\n",
       "      <td>466.0</td>\n",
       "    </tr>\n",
       "    <tr>\n",
       "      <th>2018-10</th>\n",
       "      <td>57</td>\n",
       "      <td>350.0</td>\n",
       "    </tr>\n",
       "    <tr>\n",
       "      <th>2018-11</th>\n",
       "      <td>43</td>\n",
       "      <td>338.0</td>\n",
       "    </tr>\n",
       "    <tr>\n",
       "      <th>2018-12</th>\n",
       "      <td>46</td>\n",
       "      <td>333.0</td>\n",
       "    </tr>\n",
       "    <tr>\n",
       "      <th rowspan=\"2\" valign=\"top\">1001</th>\n",
       "      <th>2018-11</th>\n",
       "      <td>59</td>\n",
       "      <td>430.0</td>\n",
       "    </tr>\n",
       "    <tr>\n",
       "      <th>2018-12</th>\n",
       "      <td>63</td>\n",
       "      <td>414.0</td>\n",
       "    </tr>\n",
       "  </tbody>\n",
       "</table>\n",
       "</div>"
      ],
      "text/plain": [
       "                 calls_count  calls_duration\n",
       "user_id month                               \n",
       "1000    2018-05           22           159.0\n",
       "        2018-06           43           172.0\n",
       "        2018-07           47           340.0\n",
       "        2018-08           52           408.0\n",
       "        2018-09           58           466.0\n",
       "        2018-10           57           350.0\n",
       "        2018-11           43           338.0\n",
       "        2018-12           46           333.0\n",
       "1001    2018-11           59           430.0\n",
       "        2018-12           63           414.0"
      ]
     },
     "execution_count": 12,
     "metadata": {},
     "output_type": "execute_result"
    }
   ],
   "source": [
    "calls_group = calls.pivot_table(index = ['user_id', 'month'], values = 'duration_ceil', aggfunc = ['count', 'sum'])\n",
    "calls_group.columns = ['calls_count', 'calls_duration']\n",
    "calls_group.head(10)"
   ]
  },
  {
   "cell_type": "markdown",
   "metadata": {},
   "source": [
    "Посчитаем для каждого пользователя количество отправленных сообщений по месяцам"
   ]
  },
  {
   "cell_type": "code",
   "execution_count": 13,
   "metadata": {},
   "outputs": [],
   "source": [
    "messagess_group = messages.pivot_table(index = ['user_id', 'month'], values = 'id', aggfunc = 'count')\n",
    "messagess_group.columns = ['messages_count']"
   ]
  },
  {
   "cell_type": "markdown",
   "metadata": {},
   "source": [
    "Переведём, использованный объём интернет-траффика в гигабайты"
   ]
  },
  {
   "cell_type": "code",
   "execution_count": 14,
   "metadata": {},
   "outputs": [
    {
     "data": {
      "text/html": [
       "<div>\n",
       "<style scoped>\n",
       "    .dataframe tbody tr th:only-of-type {\n",
       "        vertical-align: middle;\n",
       "    }\n",
       "\n",
       "    .dataframe tbody tr th {\n",
       "        vertical-align: top;\n",
       "    }\n",
       "\n",
       "    .dataframe thead th {\n",
       "        text-align: right;\n",
       "    }\n",
       "</style>\n",
       "<table border=\"1\" class=\"dataframe\">\n",
       "  <thead>\n",
       "    <tr style=\"text-align: right;\">\n",
       "      <th></th>\n",
       "      <th>Unnamed: 0</th>\n",
       "      <th>id</th>\n",
       "      <th>mb_used</th>\n",
       "      <th>session_date</th>\n",
       "      <th>user_id</th>\n",
       "      <th>month</th>\n",
       "      <th>gb_used</th>\n",
       "    </tr>\n",
       "  </thead>\n",
       "  <tbody>\n",
       "    <tr>\n",
       "      <th>31737</th>\n",
       "      <td>31737</td>\n",
       "      <td>1110_331</td>\n",
       "      <td>351.71</td>\n",
       "      <td>2018-09-04</td>\n",
       "      <td>1110</td>\n",
       "      <td>2018-09</td>\n",
       "      <td>0.343467</td>\n",
       "    </tr>\n",
       "    <tr>\n",
       "      <th>31333</th>\n",
       "      <td>31333</td>\n",
       "      <td>1109_399</td>\n",
       "      <td>257.69</td>\n",
       "      <td>2018-06-09</td>\n",
       "      <td>1109</td>\n",
       "      <td>2018-06</td>\n",
       "      <td>0.251650</td>\n",
       "    </tr>\n",
       "    <tr>\n",
       "      <th>61121</th>\n",
       "      <td>61121</td>\n",
       "      <td>1207_191</td>\n",
       "      <td>128.18</td>\n",
       "      <td>2018-11-05</td>\n",
       "      <td>1207</td>\n",
       "      <td>2018-11</td>\n",
       "      <td>0.125176</td>\n",
       "    </tr>\n",
       "    <tr>\n",
       "      <th>71184</th>\n",
       "      <td>71184</td>\n",
       "      <td>1241_88</td>\n",
       "      <td>736.71</td>\n",
       "      <td>2018-11-23</td>\n",
       "      <td>1241</td>\n",
       "      <td>2018-11</td>\n",
       "      <td>0.719443</td>\n",
       "    </tr>\n",
       "    <tr>\n",
       "      <th>84394</th>\n",
       "      <td>84394</td>\n",
       "      <td>1286_76</td>\n",
       "      <td>900.69</td>\n",
       "      <td>2018-12-18</td>\n",
       "      <td>1286</td>\n",
       "      <td>2018-12</td>\n",
       "      <td>0.879580</td>\n",
       "    </tr>\n",
       "  </tbody>\n",
       "</table>\n",
       "</div>"
      ],
      "text/plain": [
       "       Unnamed: 0        id  mb_used session_date  user_id    month   gb_used\n",
       "31737       31737  1110_331   351.71   2018-09-04     1110  2018-09  0.343467\n",
       "31333       31333  1109_399   257.69   2018-06-09     1109  2018-06  0.251650\n",
       "61121       61121  1207_191   128.18   2018-11-05     1207  2018-11  0.125176\n",
       "71184       71184   1241_88   736.71   2018-11-23     1241  2018-11  0.719443\n",
       "84394       84394   1286_76   900.69   2018-12-18     1286  2018-12  0.879580"
      ]
     },
     "execution_count": 14,
     "metadata": {},
     "output_type": "execute_result"
    }
   ],
   "source": [
    "internet['gb_used'] = internet['mb_used'] / 1024\n",
    "internet.sample(5, random_state=42)"
   ]
  },
  {
   "cell_type": "markdown",
   "metadata": {},
   "source": [
    "Посчитаем для каждого пользователя объем израсходованного интернет-трафика по месяцам"
   ]
  },
  {
   "cell_type": "code",
   "execution_count": 15,
   "metadata": {},
   "outputs": [],
   "source": [
    "internet_group = internet.pivot_table(index = ['user_id', 'month'], values = 'gb_used', aggfunc = 'sum')\n",
    "internet_group.columns = ['traffic_amount']"
   ]
  },
  {
   "cell_type": "markdown",
   "metadata": {},
   "source": [
    "Переведём, объём интернет-траффика в гигабайты в таблице тарифов"
   ]
  },
  {
   "cell_type": "code",
   "execution_count": 16,
   "metadata": {},
   "outputs": [],
   "source": [
    "tariffs['gb_per_month_included'] = tariffs['mb_per_month_included'] / 1024"
   ]
  },
  {
   "cell_type": "markdown",
   "metadata": {},
   "source": [
    "Сделаем общую сводку для каждого пользователя по месяцам"
   ]
  },
  {
   "cell_type": "code",
   "execution_count": 18,
   "metadata": {},
   "outputs": [
    {
     "data": {
      "text/plain": [
       "3214"
      ]
     },
     "execution_count": 18,
     "metadata": {},
     "output_type": "execute_result"
    }
   ],
   "source": [
    "call_messagess = calls_group.merge(messagess_group, on=['user_id', 'month'], how = 'outer')\n",
    "data = call_messagess.merge(internet_group, on=['user_id', 'month'], how = 'outer').reset_index(level='month')\n",
    "len(data)"
   ]
  },
  {
   "cell_type": "markdown",
   "metadata": {},
   "source": [
    "Добавим к данным по каждому пользователю тариф и город"
   ]
  },
  {
   "cell_type": "code",
   "execution_count": 19,
   "metadata": {},
   "outputs": [],
   "source": [
    "data = data.merge(users[['user_id','tariff','city']], on = 'user_id')"
   ]
  },
  {
   "cell_type": "markdown",
   "metadata": {},
   "source": [
    "Округлим количество использованного интерент трафика в большую сторону, согласно условиям тарифа"
   ]
  },
  {
   "cell_type": "code",
   "execution_count": 20,
   "metadata": {},
   "outputs": [
    {
     "data": {
      "text/html": [
       "<div>\n",
       "<style scoped>\n",
       "    .dataframe tbody tr th:only-of-type {\n",
       "        vertical-align: middle;\n",
       "    }\n",
       "\n",
       "    .dataframe tbody tr th {\n",
       "        vertical-align: top;\n",
       "    }\n",
       "\n",
       "    .dataframe thead th {\n",
       "        text-align: right;\n",
       "    }\n",
       "</style>\n",
       "<table border=\"1\" class=\"dataframe\">\n",
       "  <thead>\n",
       "    <tr style=\"text-align: right;\">\n",
       "      <th></th>\n",
       "      <th>user_id</th>\n",
       "      <th>month</th>\n",
       "      <th>calls_count</th>\n",
       "      <th>calls_duration</th>\n",
       "      <th>messages_count</th>\n",
       "      <th>traffic_amount</th>\n",
       "      <th>tariff</th>\n",
       "      <th>city</th>\n",
       "    </tr>\n",
       "  </thead>\n",
       "  <tbody>\n",
       "    <tr>\n",
       "      <th>506</th>\n",
       "      <td>1080</td>\n",
       "      <td>2018-12</td>\n",
       "      <td>123.0</td>\n",
       "      <td>904.0</td>\n",
       "      <td>71.0</td>\n",
       "      <td>5.0</td>\n",
       "      <td>ultra</td>\n",
       "      <td>Москва</td>\n",
       "    </tr>\n",
       "    <tr>\n",
       "      <th>2513</th>\n",
       "      <td>1395</td>\n",
       "      <td>2018-11</td>\n",
       "      <td>91.0</td>\n",
       "      <td>637.0</td>\n",
       "      <td>26.0</td>\n",
       "      <td>19.0</td>\n",
       "      <td>smart</td>\n",
       "      <td>Москва</td>\n",
       "    </tr>\n",
       "    <tr>\n",
       "      <th>354</th>\n",
       "      <td>1056</td>\n",
       "      <td>2018-05</td>\n",
       "      <td>55.0</td>\n",
       "      <td>462.0</td>\n",
       "      <td>49.0</td>\n",
       "      <td>18.0</td>\n",
       "      <td>smart</td>\n",
       "      <td>Иркутск</td>\n",
       "    </tr>\n",
       "    <tr>\n",
       "      <th>1080</th>\n",
       "      <td>1173</td>\n",
       "      <td>2018-10</td>\n",
       "      <td>119.0</td>\n",
       "      <td>841.0</td>\n",
       "      <td>14.0</td>\n",
       "      <td>21.0</td>\n",
       "      <td>smart</td>\n",
       "      <td>Красноярск</td>\n",
       "    </tr>\n",
       "    <tr>\n",
       "      <th>2389</th>\n",
       "      <td>1380</td>\n",
       "      <td>2018-07</td>\n",
       "      <td>106.0</td>\n",
       "      <td>806.0</td>\n",
       "      <td>26.0</td>\n",
       "      <td>38.0</td>\n",
       "      <td>ultra</td>\n",
       "      <td>Ростов-на-Дону</td>\n",
       "    </tr>\n",
       "  </tbody>\n",
       "</table>\n",
       "</div>"
      ],
      "text/plain": [
       "      user_id    month  calls_count  calls_duration  messages_count  \\\n",
       "506      1080  2018-12        123.0           904.0            71.0   \n",
       "2513     1395  2018-11         91.0           637.0            26.0   \n",
       "354      1056  2018-05         55.0           462.0            49.0   \n",
       "1080     1173  2018-10        119.0           841.0            14.0   \n",
       "2389     1380  2018-07        106.0           806.0            26.0   \n",
       "\n",
       "      traffic_amount tariff            city  \n",
       "506              5.0  ultra          Москва  \n",
       "2513            19.0  smart          Москва  \n",
       "354             18.0  smart         Иркутск  \n",
       "1080            21.0  smart      Красноярск  \n",
       "2389            38.0  ultra  Ростов-на-Дону  "
      ]
     },
     "execution_count": 20,
     "metadata": {},
     "output_type": "execute_result"
    }
   ],
   "source": [
    "data['traffic_amount'] = np.ceil(data['traffic_amount'])\n",
    "data.sample(5, random_state=42)"
   ]
  },
  {
   "cell_type": "markdown",
   "metadata": {},
   "source": [
    "Проверим полученную таблицу на пропуски"
   ]
  },
  {
   "cell_type": "code",
   "execution_count": 21,
   "metadata": {},
   "outputs": [
    {
     "data": {
      "text/plain": [
       "user_id             0\n",
       "month               0\n",
       "calls_count        40\n",
       "calls_duration     40\n",
       "messages_count    497\n",
       "traffic_amount     11\n",
       "tariff              0\n",
       "city                0\n",
       "dtype: int64"
      ]
     },
     "execution_count": 21,
     "metadata": {},
     "output_type": "execute_result"
    }
   ],
   "source": [
    "data.isnull().sum()"
   ]
  },
  {
   "cell_type": "markdown",
   "metadata": {},
   "source": [
    "Пропуски, по всей вероятности, связаны с тем, что в некоторые месяцы клиенты не звонили и/или не пользовались сообщениями или интернетом. Заполняем их нулевыми значениями"
   ]
  },
  {
   "cell_type": "code",
   "execution_count": 22,
   "metadata": {},
   "outputs": [],
   "source": [
    "data = data.fillna(0)"
   ]
  },
  {
   "cell_type": "markdown",
   "metadata": {},
   "source": [
    "Посчитаем помесячную выручку с каждого пользователя (вычтитаем бесплатный лимит из суммарного количества звонков, сообщений и интернет-трафика; остаток умножаем на значение из тарифного плана; прибавим абонентскую плату, соответствующую тарифному плану)."
   ]
  },
  {
   "cell_type": "code",
   "execution_count": 23,
   "metadata": {},
   "outputs": [
    {
     "data": {
      "text/html": [
       "<div>\n",
       "<style scoped>\n",
       "    .dataframe tbody tr th:only-of-type {\n",
       "        vertical-align: middle;\n",
       "    }\n",
       "\n",
       "    .dataframe tbody tr th {\n",
       "        vertical-align: top;\n",
       "    }\n",
       "\n",
       "    .dataframe thead th {\n",
       "        text-align: right;\n",
       "    }\n",
       "</style>\n",
       "<table border=\"1\" class=\"dataframe\">\n",
       "  <thead>\n",
       "    <tr style=\"text-align: right;\">\n",
       "      <th></th>\n",
       "      <th>user_id</th>\n",
       "      <th>month</th>\n",
       "      <th>calls_count</th>\n",
       "      <th>calls_duration</th>\n",
       "      <th>messages_count</th>\n",
       "      <th>traffic_amount</th>\n",
       "      <th>tariff</th>\n",
       "      <th>city</th>\n",
       "      <th>payment</th>\n",
       "    </tr>\n",
       "  </thead>\n",
       "  <tbody>\n",
       "    <tr>\n",
       "      <th>506</th>\n",
       "      <td>1080</td>\n",
       "      <td>2018-12</td>\n",
       "      <td>123.0</td>\n",
       "      <td>904.0</td>\n",
       "      <td>71.0</td>\n",
       "      <td>5.0</td>\n",
       "      <td>ultra</td>\n",
       "      <td>Москва</td>\n",
       "      <td>1950.0</td>\n",
       "    </tr>\n",
       "    <tr>\n",
       "      <th>2513</th>\n",
       "      <td>1395</td>\n",
       "      <td>2018-11</td>\n",
       "      <td>91.0</td>\n",
       "      <td>637.0</td>\n",
       "      <td>26.0</td>\n",
       "      <td>19.0</td>\n",
       "      <td>smart</td>\n",
       "      <td>Москва</td>\n",
       "      <td>1761.0</td>\n",
       "    </tr>\n",
       "    <tr>\n",
       "      <th>354</th>\n",
       "      <td>1056</td>\n",
       "      <td>2018-05</td>\n",
       "      <td>55.0</td>\n",
       "      <td>462.0</td>\n",
       "      <td>49.0</td>\n",
       "      <td>18.0</td>\n",
       "      <td>smart</td>\n",
       "      <td>Иркутск</td>\n",
       "      <td>1150.0</td>\n",
       "    </tr>\n",
       "    <tr>\n",
       "      <th>1080</th>\n",
       "      <td>1173</td>\n",
       "      <td>2018-10</td>\n",
       "      <td>119.0</td>\n",
       "      <td>841.0</td>\n",
       "      <td>14.0</td>\n",
       "      <td>21.0</td>\n",
       "      <td>smart</td>\n",
       "      <td>Красноярск</td>\n",
       "      <td>2773.0</td>\n",
       "    </tr>\n",
       "    <tr>\n",
       "      <th>2389</th>\n",
       "      <td>1380</td>\n",
       "      <td>2018-07</td>\n",
       "      <td>106.0</td>\n",
       "      <td>806.0</td>\n",
       "      <td>26.0</td>\n",
       "      <td>38.0</td>\n",
       "      <td>ultra</td>\n",
       "      <td>Ростов-на-Дону</td>\n",
       "      <td>3150.0</td>\n",
       "    </tr>\n",
       "  </tbody>\n",
       "</table>\n",
       "</div>"
      ],
      "text/plain": [
       "      user_id    month  calls_count  calls_duration  messages_count  \\\n",
       "506      1080  2018-12        123.0           904.0            71.0   \n",
       "2513     1395  2018-11         91.0           637.0            26.0   \n",
       "354      1056  2018-05         55.0           462.0            49.0   \n",
       "1080     1173  2018-10        119.0           841.0            14.0   \n",
       "2389     1380  2018-07        106.0           806.0            26.0   \n",
       "\n",
       "      traffic_amount tariff            city  payment  \n",
       "506              5.0  ultra          Москва   1950.0  \n",
       "2513            19.0  smart          Москва   1761.0  \n",
       "354             18.0  smart         Иркутск   1150.0  \n",
       "1080            21.0  smart      Красноярск   2773.0  \n",
       "2389            38.0  ultra  Ростов-на-Дону   3150.0  "
      ]
     },
     "execution_count": 23,
     "metadata": {},
     "output_type": "execute_result"
    }
   ],
   "source": [
    "def payment_calculation(row):\n",
    "    calls = row['calls_count']\n",
    "    duration = row['calls_duration']\n",
    "    messages = row['messages_count']\n",
    "    traffic = row['traffic_amount']\n",
    "    tariff = row['tariff']\n",
    "    \n",
    "    if tariff == 'smart':\n",
    "        over_duration = duration - tariffs.loc[0, 'minutes_included']\n",
    "        over_messages = messages - tariffs.loc[0, 'messages_included']\n",
    "        over_traffic = traffic - tariffs.loc[0, 'gb_per_month_included']\n",
    "                \n",
    "        if over_duration < 0: over_duration = 0\n",
    "        if over_messages < 0: over_messages = 0\n",
    "        if over_traffic < 0: over_traffic = 0\n",
    "        \n",
    "        return (tariffs.loc[0, 'rub_monthly_fee'] + tariffs.loc[0, 'rub_per_minute'] * over_duration + \n",
    "                tariffs.loc[0, 'rub_per_message'] * over_messages + tariffs.loc[0, 'rub_per_gb'] * over_traffic)\n",
    "\n",
    "\n",
    "    else:\n",
    "        over_duration = duration - tariffs.loc[1, 'minutes_included']\n",
    "        over_messages = messages - tariffs.loc[1, 'messages_included']\n",
    "        over_traffic = traffic - tariffs.loc[1, 'gb_per_month_included']\n",
    "        \n",
    "        if over_duration < 0: over_duration = 0\n",
    "        if over_messages < 0: over_messages = 0\n",
    "        if over_traffic < 0: over_traffic = 0\n",
    "        \n",
    "        return (tariffs.loc[1, 'rub_monthly_fee'] + tariffs.loc[1, 'rub_per_minute'] * over_duration + \n",
    "                tariffs.loc[1, 'rub_per_message'] * over_messages + tariffs.loc[1, 'rub_per_gb'] * over_traffic)\n",
    "\n",
    "data['payment'] = data.apply(payment_calculation, axis=1)\n",
    "data.sample(5, random_state=42)"
   ]
  },
  {
   "cell_type": "markdown",
   "metadata": {},
   "source": [
    "## Шаг 3. Проанализируйте данные"
   ]
  },
  {
   "cell_type": "markdown",
   "metadata": {},
   "source": [
    "Сделаем расчёт: сколько минут разговора, сколько сообщений и какой объём интернет-трафика требуется пользователям каждого тарифа в месяц?"
   ]
  },
  {
   "cell_type": "code",
   "execution_count": 24,
   "metadata": {},
   "outputs": [
    {
     "data": {
      "text/html": [
       "<div>\n",
       "<style scoped>\n",
       "    .dataframe tbody tr th:only-of-type {\n",
       "        vertical-align: middle;\n",
       "    }\n",
       "\n",
       "    .dataframe tbody tr th {\n",
       "        vertical-align: top;\n",
       "    }\n",
       "\n",
       "    .dataframe thead th {\n",
       "        text-align: right;\n",
       "    }\n",
       "</style>\n",
       "<table border=\"1\" class=\"dataframe\">\n",
       "  <thead>\n",
       "    <tr style=\"text-align: right;\">\n",
       "      <th></th>\n",
       "      <th>tariff</th>\n",
       "      <th>month</th>\n",
       "      <th>calls_duration</th>\n",
       "      <th>messages_count</th>\n",
       "      <th>payment</th>\n",
       "      <th>traffic_amount</th>\n",
       "    </tr>\n",
       "  </thead>\n",
       "  <tbody>\n",
       "    <tr>\n",
       "      <th>0</th>\n",
       "      <td>smart</td>\n",
       "      <td>2018-01</td>\n",
       "      <td>203.852941</td>\n",
       "      <td>18.235294</td>\n",
       "      <td>721.323529</td>\n",
       "      <td>8.735294</td>\n",
       "    </tr>\n",
       "    <tr>\n",
       "      <th>1</th>\n",
       "      <td>smart</td>\n",
       "      <td>2018-02</td>\n",
       "      <td>298.689655</td>\n",
       "      <td>24.086207</td>\n",
       "      <td>827.603448</td>\n",
       "      <td>11.844828</td>\n",
       "    </tr>\n",
       "    <tr>\n",
       "      <th>2</th>\n",
       "      <td>smart</td>\n",
       "      <td>2018-03</td>\n",
       "      <td>390.051948</td>\n",
       "      <td>31.857143</td>\n",
       "      <td>1164.623377</td>\n",
       "      <td>15.233766</td>\n",
       "    </tr>\n",
       "    <tr>\n",
       "      <th>3</th>\n",
       "      <td>smart</td>\n",
       "      <td>2018-04</td>\n",
       "      <td>367.133929</td>\n",
       "      <td>30.741071</td>\n",
       "      <td>963.089286</td>\n",
       "      <td>13.625000</td>\n",
       "    </tr>\n",
       "    <tr>\n",
       "      <th>4</th>\n",
       "      <td>smart</td>\n",
       "      <td>2018-05</td>\n",
       "      <td>387.361702</td>\n",
       "      <td>33.773050</td>\n",
       "      <td>1197.510638</td>\n",
       "      <td>15.907801</td>\n",
       "    </tr>\n",
       "    <tr>\n",
       "      <th>5</th>\n",
       "      <td>smart</td>\n",
       "      <td>2018-06</td>\n",
       "      <td>395.640244</td>\n",
       "      <td>33.402439</td>\n",
       "      <td>1204.018293</td>\n",
       "      <td>15.951220</td>\n",
       "    </tr>\n",
       "    <tr>\n",
       "      <th>6</th>\n",
       "      <td>smart</td>\n",
       "      <td>2018-07</td>\n",
       "      <td>408.353234</td>\n",
       "      <td>33.751244</td>\n",
       "      <td>1223.950249</td>\n",
       "      <td>15.875622</td>\n",
       "    </tr>\n",
       "    <tr>\n",
       "      <th>7</th>\n",
       "      <td>smart</td>\n",
       "      <td>2018-08</td>\n",
       "      <td>421.468085</td>\n",
       "      <td>33.638298</td>\n",
       "      <td>1320.595745</td>\n",
       "      <td>16.736170</td>\n",
       "    </tr>\n",
       "    <tr>\n",
       "      <th>8</th>\n",
       "      <td>smart</td>\n",
       "      <td>2018-09</td>\n",
       "      <td>428.611538</td>\n",
       "      <td>33.638462</td>\n",
       "      <td>1249.946154</td>\n",
       "      <td>16.392308</td>\n",
       "    </tr>\n",
       "    <tr>\n",
       "      <th>9</th>\n",
       "      <td>smart</td>\n",
       "      <td>2018-10</td>\n",
       "      <td>426.136054</td>\n",
       "      <td>33.765306</td>\n",
       "      <td>1364.853741</td>\n",
       "      <td>16.880952</td>\n",
       "    </tr>\n",
       "    <tr>\n",
       "      <th>10</th>\n",
       "      <td>smart</td>\n",
       "      <td>2018-11</td>\n",
       "      <td>435.265823</td>\n",
       "      <td>34.075949</td>\n",
       "      <td>1343.047468</td>\n",
       "      <td>17.000000</td>\n",
       "    </tr>\n",
       "    <tr>\n",
       "      <th>11</th>\n",
       "      <td>smart</td>\n",
       "      <td>2018-12</td>\n",
       "      <td>478.560831</td>\n",
       "      <td>35.994065</td>\n",
       "      <td>1578.531157</td>\n",
       "      <td>18.201780</td>\n",
       "    </tr>\n",
       "    <tr>\n",
       "      <th>12</th>\n",
       "      <td>ultra</td>\n",
       "      <td>2018-01</td>\n",
       "      <td>428.111111</td>\n",
       "      <td>33.777778</td>\n",
       "      <td>1950.000000</td>\n",
       "      <td>13.222222</td>\n",
       "    </tr>\n",
       "    <tr>\n",
       "      <th>13</th>\n",
       "      <td>ultra</td>\n",
       "      <td>2018-02</td>\n",
       "      <td>297.125000</td>\n",
       "      <td>21.958333</td>\n",
       "      <td>1975.000000</td>\n",
       "      <td>12.000000</td>\n",
       "    </tr>\n",
       "    <tr>\n",
       "      <th>14</th>\n",
       "      <td>ultra</td>\n",
       "      <td>2018-03</td>\n",
       "      <td>489.648649</td>\n",
       "      <td>32.297297</td>\n",
       "      <td>2014.864865</td>\n",
       "      <td>17.648649</td>\n",
       "    </tr>\n",
       "    <tr>\n",
       "      <th>15</th>\n",
       "      <td>ultra</td>\n",
       "      <td>2018-04</td>\n",
       "      <td>458.018182</td>\n",
       "      <td>31.563636</td>\n",
       "      <td>2001.818182</td>\n",
       "      <td>16.963636</td>\n",
       "    </tr>\n",
       "    <tr>\n",
       "      <th>16</th>\n",
       "      <td>ultra</td>\n",
       "      <td>2018-05</td>\n",
       "      <td>510.328358</td>\n",
       "      <td>37.850746</td>\n",
       "      <td>2059.701493</td>\n",
       "      <td>19.373134</td>\n",
       "    </tr>\n",
       "    <tr>\n",
       "      <th>17</th>\n",
       "      <td>ultra</td>\n",
       "      <td>2018-06</td>\n",
       "      <td>479.702381</td>\n",
       "      <td>41.726190</td>\n",
       "      <td>2039.285714</td>\n",
       "      <td>18.940476</td>\n",
       "    </tr>\n",
       "    <tr>\n",
       "      <th>18</th>\n",
       "      <td>ultra</td>\n",
       "      <td>2018-07</td>\n",
       "      <td>545.791209</td>\n",
       "      <td>49.846154</td>\n",
       "      <td>2118.131868</td>\n",
       "      <td>20.505495</td>\n",
       "    </tr>\n",
       "    <tr>\n",
       "      <th>19</th>\n",
       "      <td>ultra</td>\n",
       "      <td>2018-08</td>\n",
       "      <td>510.775701</td>\n",
       "      <td>48.439252</td>\n",
       "      <td>2083.177570</td>\n",
       "      <td>19.598131</td>\n",
       "    </tr>\n",
       "    <tr>\n",
       "      <th>20</th>\n",
       "      <td>ultra</td>\n",
       "      <td>2018-09</td>\n",
       "      <td>539.443478</td>\n",
       "      <td>52.286957</td>\n",
       "      <td>2024.347826</td>\n",
       "      <td>19.243478</td>\n",
       "    </tr>\n",
       "    <tr>\n",
       "      <th>21</th>\n",
       "      <td>ultra</td>\n",
       "      <td>2018-10</td>\n",
       "      <td>558.081301</td>\n",
       "      <td>58.430894</td>\n",
       "      <td>2065.853659</td>\n",
       "      <td>20.065041</td>\n",
       "    </tr>\n",
       "    <tr>\n",
       "      <th>22</th>\n",
       "      <td>ultra</td>\n",
       "      <td>2018-11</td>\n",
       "      <td>541.380597</td>\n",
       "      <td>55.791045</td>\n",
       "      <td>2092.164179</td>\n",
       "      <td>19.805970</td>\n",
       "    </tr>\n",
       "    <tr>\n",
       "      <th>23</th>\n",
       "      <td>ultra</td>\n",
       "      <td>2018-12</td>\n",
       "      <td>592.805755</td>\n",
       "      <td>60.611511</td>\n",
       "      <td>2138.848921</td>\n",
       "      <td>21.741007</td>\n",
       "    </tr>\n",
       "  </tbody>\n",
       "</table>\n",
       "</div>"
      ],
      "text/plain": [
       "   tariff    month  calls_duration  messages_count      payment  \\\n",
       "0   smart  2018-01      203.852941       18.235294   721.323529   \n",
       "1   smart  2018-02      298.689655       24.086207   827.603448   \n",
       "2   smart  2018-03      390.051948       31.857143  1164.623377   \n",
       "3   smart  2018-04      367.133929       30.741071   963.089286   \n",
       "4   smart  2018-05      387.361702       33.773050  1197.510638   \n",
       "5   smart  2018-06      395.640244       33.402439  1204.018293   \n",
       "6   smart  2018-07      408.353234       33.751244  1223.950249   \n",
       "7   smart  2018-08      421.468085       33.638298  1320.595745   \n",
       "8   smart  2018-09      428.611538       33.638462  1249.946154   \n",
       "9   smart  2018-10      426.136054       33.765306  1364.853741   \n",
       "10  smart  2018-11      435.265823       34.075949  1343.047468   \n",
       "11  smart  2018-12      478.560831       35.994065  1578.531157   \n",
       "12  ultra  2018-01      428.111111       33.777778  1950.000000   \n",
       "13  ultra  2018-02      297.125000       21.958333  1975.000000   \n",
       "14  ultra  2018-03      489.648649       32.297297  2014.864865   \n",
       "15  ultra  2018-04      458.018182       31.563636  2001.818182   \n",
       "16  ultra  2018-05      510.328358       37.850746  2059.701493   \n",
       "17  ultra  2018-06      479.702381       41.726190  2039.285714   \n",
       "18  ultra  2018-07      545.791209       49.846154  2118.131868   \n",
       "19  ultra  2018-08      510.775701       48.439252  2083.177570   \n",
       "20  ultra  2018-09      539.443478       52.286957  2024.347826   \n",
       "21  ultra  2018-10      558.081301       58.430894  2065.853659   \n",
       "22  ultra  2018-11      541.380597       55.791045  2092.164179   \n",
       "23  ultra  2018-12      592.805755       60.611511  2138.848921   \n",
       "\n",
       "    traffic_amount  \n",
       "0         8.735294  \n",
       "1        11.844828  \n",
       "2        15.233766  \n",
       "3        13.625000  \n",
       "4        15.907801  \n",
       "5        15.951220  \n",
       "6        15.875622  \n",
       "7        16.736170  \n",
       "8        16.392308  \n",
       "9        16.880952  \n",
       "10       17.000000  \n",
       "11       18.201780  \n",
       "12       13.222222  \n",
       "13       12.000000  \n",
       "14       17.648649  \n",
       "15       16.963636  \n",
       "16       19.373134  \n",
       "17       18.940476  \n",
       "18       20.505495  \n",
       "19       19.598131  \n",
       "20       19.243478  \n",
       "21       20.065041  \n",
       "22       19.805970  \n",
       "23       21.741007  "
      ]
     },
     "execution_count": 24,
     "metadata": {},
     "output_type": "execute_result"
    }
   ],
   "source": [
    "tariff_in_use = data.pivot_table(index = ['tariff','month'], \n",
    "                 values = ['calls_duration', 'messages_count', 'traffic_amount', 'payment'], \n",
    "                 aggfunc = 'mean').reset_index()\n",
    "tariff_in_use"
   ]
  },
  {
   "cell_type": "markdown",
   "metadata": {},
   "source": [
    "Строим гистограммы"
   ]
  },
  {
   "cell_type": "code",
   "execution_count": 25,
   "metadata": {},
   "outputs": [
    {
     "data": {
      "image/png": "[encoded data removed]",
      "text/plain": [
       "<Figure size 576x360 with 1 Axes>"
      ]
     },
     "metadata": {
      "needs_background": "light"
     },
     "output_type": "display_data"
    },
    {
     "data": {
      "image/png": "[encoded data removed]",
      "text/plain": [
       "<Figure size 576x360 with 1 Axes>"
      ]
     },
     "metadata": {
      "needs_background": "light"
     },
     "output_type": "display_data"
    },
    {
     "data": {
      "image/png": "[encoded data removed]",
      "text/plain": [
       "<Figure size 576x360 with 1 Axes>"
      ]
     },
     "metadata": {
      "needs_background": "light"
     },
     "output_type": "display_data"
    },
    {
     "data": {
      "image/png": "[encoded data removed]",
      "text/plain": [
       "<Figure size 576x360 with 1 Axes>"
      ]
     },
     "metadata": {
      "needs_background": "light"
     },
     "output_type": "display_data"
    }
   ],
   "source": [
    "columns=['calls_duration','messages_count','traffic_amount','payment']\n",
    "tariffs = ['ultra','smart']\n",
    "for column in columns:\n",
    "        data.loc[data.loc[:,'tariff'] == 'smart'][column].plot(\n",
    "                                                                            kind = 'hist',\n",
    "                                                                            bins = 20,\n",
    "                                                                            alpha = 0.5,\n",
    "                                                                            label = 'smart', figsize = (8,5)\n",
    "                                                                           )\n",
    "        data.loc[data.loc[:,'tariff'] == \"ultra\"][column].plot(\n",
    "                                                                            kind = 'hist',\n",
    "                                                                            bins = 20,\n",
    "                                                                            alpha = 0.5,\n",
    "                                                                            label = 'ultra',figsize = (8,5)\n",
    "                                                                           )\n",
    "        plt.title(column)\n",
    "        plt.legend()\n",
    "        plt.show()"
   ]
  },
  {
   "cell_type": "markdown",
   "metadata": {},
   "source": [
    "По продолжительности звонков у тарифа smart пик на 500 минутах, у тарифа ultra пиковые значение около 550 минут, но в целом не так явно выражены. Так же стоит обратить внимание, что клиенты тарифа ultra не используют полностью предложенное в тарифе количество минут разговора.  \n",
    "По количеству СМС для обоих тарифов характерно, что часть клиентов не использует или крайне мало использует данную категорию связи. Пользователи тарифа smart чаще превышают базовый пакет, тогда как пользователи ultra, как и в случае со звонками, не используют полностью заложенное в тариф количество СМС.  \n",
    "По объёму интернет траффика у тарифа smart два пика - 15 и 19 гигабайт. Для ultra график имеет несколько пиковых значений. Клинеты обоих тарифов превышают базовый пакет.  \n",
    "По выручке заметно, что большая часть пользователей ultra укладывается в рамки стоимости тарифного плана. Для smart по всем опциям характерно превышение базового пакета, соответствеено это отражается и на выручке."
   ]
  },
  {
   "cell_type": "markdown",
   "metadata": {},
   "source": [
    "Посчитаем среднее количество, дисперсию и стандартное отклонение для пользователей каждого тарифа"
   ]
  },
  {
   "cell_type": "code",
   "execution_count": 26,
   "metadata": {
    "scrolled": true
   },
   "outputs": [
    {
     "data": {
      "text/html": [
       "<div>\n",
       "<style scoped>\n",
       "    .dataframe tbody tr th:only-of-type {\n",
       "        vertical-align: middle;\n",
       "    }\n",
       "\n",
       "    .dataframe tbody tr th {\n",
       "        vertical-align: top;\n",
       "    }\n",
       "\n",
       "    .dataframe thead tr th {\n",
       "        text-align: left;\n",
       "    }\n",
       "</style>\n",
       "<table border=\"1\" class=\"dataframe\">\n",
       "  <thead>\n",
       "    <tr>\n",
       "      <th></th>\n",
       "      <th>tariff</th>\n",
       "      <th colspan=\"4\" halign=\"left\">mean</th>\n",
       "      <th colspan=\"4\" halign=\"left\">var</th>\n",
       "      <th colspan=\"4\" halign=\"left\">std</th>\n",
       "    </tr>\n",
       "    <tr>\n",
       "      <th></th>\n",
       "      <th></th>\n",
       "      <th>calls_duration</th>\n",
       "      <th>messages_count</th>\n",
       "      <th>payment</th>\n",
       "      <th>traffic_amount</th>\n",
       "      <th>calls_duration</th>\n",
       "      <th>messages_count</th>\n",
       "      <th>payment</th>\n",
       "      <th>traffic_amount</th>\n",
       "      <th>calls_duration</th>\n",
       "      <th>messages_count</th>\n",
       "      <th>payment</th>\n",
       "      <th>traffic_amount</th>\n",
       "    </tr>\n",
       "  </thead>\n",
       "  <tbody>\n",
       "    <tr>\n",
       "      <th>0</th>\n",
       "      <td>smart</td>\n",
       "      <td>417.934948</td>\n",
       "      <td>33.384029</td>\n",
       "      <td>1289.973531</td>\n",
       "      <td>16.328847</td>\n",
       "      <td>36219.315784</td>\n",
       "      <td>796.812958</td>\n",
       "      <td>669785.708006</td>\n",
       "      <td>33.028705</td>\n",
       "      <td>190.313730</td>\n",
       "      <td>28.227876</td>\n",
       "      <td>818.404367</td>\n",
       "      <td>5.747061</td>\n",
       "    </tr>\n",
       "    <tr>\n",
       "      <th>1</th>\n",
       "      <td>ultra</td>\n",
       "      <td>526.623350</td>\n",
       "      <td>49.363452</td>\n",
       "      <td>2070.152284</td>\n",
       "      <td>19.494416</td>\n",
       "      <td>100873.633397</td>\n",
       "      <td>2285.266143</td>\n",
       "      <td>141516.745079</td>\n",
       "      <td>97.091686</td>\n",
       "      <td>317.606098</td>\n",
       "      <td>47.804457</td>\n",
       "      <td>376.187114</td>\n",
       "      <td>9.853511</td>\n",
       "    </tr>\n",
       "  </tbody>\n",
       "</table>\n",
       "</div>"
      ],
      "text/plain": [
       "  tariff           mean                                             \\\n",
       "         calls_duration messages_count      payment traffic_amount   \n",
       "0  smart     417.934948      33.384029  1289.973531      16.328847   \n",
       "1  ultra     526.623350      49.363452  2070.152284      19.494416   \n",
       "\n",
       "             var                                                         std  \\\n",
       "  calls_duration messages_count        payment traffic_amount calls_duration   \n",
       "0   36219.315784     796.812958  669785.708006      33.028705     190.313730   \n",
       "1  100873.633397    2285.266143  141516.745079      97.091686     317.606098   \n",
       "\n",
       "                                             \n",
       "  messages_count     payment traffic_amount  \n",
       "0      28.227876  818.404367       5.747061  \n",
       "1      47.804457  376.187114       9.853511  "
      ]
     },
     "execution_count": 26,
     "metadata": {},
     "output_type": "execute_result"
    }
   ],
   "source": [
    "data.pivot_table(index = 'tariff', values = ['calls_duration', 'messages_count', 'traffic_amount', 'payment'], \n",
    "                               aggfunc = ['mean', 'var', 'std']).reset_index()"
   ]
  },
  {
   "cell_type": "markdown",
   "metadata": {},
   "source": [
    "## Шаг 4. Проверьте гипотезы"
   ]
  },
  {
   "cell_type": "markdown",
   "metadata": {},
   "source": [
    "Нулевая гипотеза: средняя выручка пользователей тарифов «Ультра» и «Смарт» равны;  \n",
    "Альтернативная гипотеза: средняя выручка пользователей тарифов «Ультра» и «Смарт» различаются;"
   ]
  },
  {
   "cell_type": "code",
   "execution_count": 27,
   "metadata": {},
   "outputs": [
    {
     "name": "stdout",
     "output_type": "stream",
     "text": [
      "p-значение: 3.2027925855703315e-08\n",
      "Отвергаем нулевую гипотезу\n"
     ]
    }
   ],
   "source": [
    "alpha = 0.05\n",
    "results = st.ttest_ind(\n",
    "    tariff_in_use.loc[tariff_in_use['tariff'] == 'smart']['payment'], \n",
    "    tariff_in_use.loc[tariff_in_use['tariff'] == 'ultra']['payment'],\n",
    "    equal_var=False\n",
    ")\n",
    "print('p-значение:', results.pvalue)\n",
    "if results.pvalue < alpha:\n",
    "    print(\"Отвергаем нулевую гипотезу\")\n",
    "else:\n",
    "    print(\"Не получилось отвергнуть нулевую гипотезу\")"
   ]
  },
  {
   "cell_type": "markdown",
   "metadata": {},
   "source": [
    "Нулевая гипотеза: Средняя выручка пользователей из Москвы равна выручке пользователей из других регионов.  \n",
    "Альтернативная гипотеза: Средняя выручка пользователей из Москвы отличается от выручки пользователей из других регионов"
   ]
  },
  {
   "cell_type": "code",
   "execution_count": 28,
   "metadata": {},
   "outputs": [
    {
     "name": "stdout",
     "output_type": "stream",
     "text": [
      "p-значение: 0.5440152911670224\n",
      "Не получилось отвергнуть нулевую гипотезу\n"
     ]
    }
   ],
   "source": [
    "alpha = 0.05\n",
    "\n",
    "results = st.ttest_ind(\n",
    "    data.loc[data['city'] == 'Москва']['payment'], \n",
    "    data.loc[data['city'] != 'Москва']['payment']\n",
    ")\n",
    "print('p-значение:', results.pvalue)\n",
    "if results.pvalue < alpha:\n",
    "    print(\"Отвергаем нулевую гипотезу\")\n",
    "else:\n",
    "    print(\"Не получилось отвергнуть нулевую гипотезу\")"
   ]
  },
  {
   "cell_type": "markdown",
   "metadata": {},
   "source": [
    "## Вывод"
   ]
  },
  {
   "cell_type": "markdown",
   "metadata": {},
   "source": [
    "По результатам анализа удалось опровергнуть гипотезу о том, что средняя выручка пользователей тарифов «Ультра» и «Смарт» равны:\n",
    "клиенты, использвующие тариф «Смарт», в среднем платят на 37% больше (1290 руб против 2070 руб соответственно).  \n",
    "  \n",
    "Была подтверждена гипотеза о том, что средняя выручка от пользователей в Москве не отличаются от выручки пользователей из других регионов.  \n",
    "  \n",
    "Пользователи «Ультра» не используют полностью тарифное предложение по количеству минут и сообщений.\n",
    "  \n",
    "Пользователи «Смарт» наоборот превышают базовый пакет и в среднем доплачивают 740 руб. в месяц."
   ]
  }
 ],
 "metadata": {
  "ExecuteTimeLog": [
   {
    "duration": 1333,
    "start_time": "2023-02-01T08:16:02.360Z"
   },
   {
    "duration": 153,
    "start_time": "2023-02-01T08:16:05.082Z"
   },
   {
    "duration": 1310,
    "start_time": "2023-02-01T08:16:40.034Z"
   },
   {
    "duration": 28,
    "start_time": "2023-02-01T08:18:32.684Z"
   },
   {
    "duration": 54,
    "start_time": "2023-02-01T08:19:49.033Z"
   },
   {
    "duration": 323,
    "start_time": "2023-02-01T08:20:02.981Z"
   },
   {
    "duration": 363,
    "start_time": "2023-02-01T08:36:23.322Z"
   },
   {
    "duration": 346,
    "start_time": "2023-02-01T08:40:34.781Z"
   },
   {
    "duration": 291,
    "start_time": "2023-02-01T08:41:19.007Z"
   },
   {
    "duration": 32,
    "start_time": "2023-02-01T08:42:26.430Z"
   },
   {
    "duration": 24,
    "start_time": "2023-02-01T08:45:30.384Z"
   },
   {
    "duration": 192,
    "start_time": "2023-02-01T08:45:59.280Z"
   },
   {
    "duration": 201,
    "start_time": "2023-02-01T08:46:55.929Z"
   },
   {
    "duration": 297,
    "start_time": "2023-02-01T08:49:24.770Z"
   },
   {
    "duration": 256,
    "start_time": "2023-02-01T08:49:44.495Z"
   },
   {
    "duration": 22,
    "start_time": "2023-02-01T08:52:35.159Z"
   },
   {
    "duration": 159,
    "start_time": "2023-02-01T08:52:49.927Z"
   },
   {
    "duration": 149,
    "start_time": "2023-02-01T08:56:19.257Z"
   },
   {
    "duration": 223,
    "start_time": "2023-02-01T08:56:33.374Z"
   },
   {
    "duration": 172,
    "start_time": "2023-02-01T08:56:53.064Z"
   },
   {
    "duration": 14,
    "start_time": "2023-02-01T08:58:12.674Z"
   },
   {
    "duration": 17,
    "start_time": "2023-02-01T08:58:54.914Z"
   },
   {
    "duration": 15,
    "start_time": "2023-02-01T08:59:54.192Z"
   },
   {
    "duration": 38,
    "start_time": "2023-02-01T09:00:27.747Z"
   },
   {
    "duration": 34,
    "start_time": "2023-02-01T09:00:46.538Z"
   },
   {
    "duration": 908,
    "start_time": "2023-02-01T09:01:03.165Z"
   },
   {
    "duration": 41,
    "start_time": "2023-02-01T09:01:12.699Z"
   },
   {
    "duration": 340,
    "start_time": "2023-02-01T09:06:22.111Z"
   },
   {
    "duration": 342,
    "start_time": "2023-02-01T09:19:45.193Z"
   },
   {
    "duration": 54,
    "start_time": "2023-02-01T09:20:55.097Z"
   },
   {
    "duration": 64,
    "start_time": "2023-02-01T09:21:44.841Z"
   },
   {
    "duration": 61,
    "start_time": "2023-02-01T09:23:13.615Z"
   },
   {
    "duration": 1029,
    "start_time": "2023-02-01T09:26:03.547Z"
   },
   {
    "duration": 43,
    "start_time": "2023-02-01T09:26:52.616Z"
   },
   {
    "duration": 62,
    "start_time": "2023-02-01T09:27:25.036Z"
   },
   {
    "duration": 13,
    "start_time": "2023-02-01T09:36:04.500Z"
   },
   {
    "duration": 9,
    "start_time": "2023-02-01T09:37:35.640Z"
   },
   {
    "duration": 23,
    "start_time": "2023-02-01T09:43:43.189Z"
   },
   {
    "duration": 148,
    "start_time": "2023-02-01T09:50:04.772Z"
   },
   {
    "duration": 23,
    "start_time": "2023-02-01T09:50:12.988Z"
   },
   {
    "duration": 15,
    "start_time": "2023-02-01T09:58:53.771Z"
   },
   {
    "duration": 804,
    "start_time": "2023-02-01T09:59:30.521Z"
   },
   {
    "duration": 847,
    "start_time": "2023-02-01T09:59:58.027Z"
   },
   {
    "duration": 22,
    "start_time": "2023-02-01T10:06:38.799Z"
   },
   {
    "duration": 49,
    "start_time": "2023-02-01T10:07:10.350Z"
   },
   {
    "duration": 47,
    "start_time": "2023-02-01T10:07:14.334Z"
   },
   {
    "duration": 78,
    "start_time": "2023-02-01T10:07:24.953Z"
   },
   {
    "duration": 54,
    "start_time": "2023-02-01T10:09:19.595Z"
   },
   {
    "duration": 70,
    "start_time": "2023-02-01T10:09:33.958Z"
   },
   {
    "duration": 79,
    "start_time": "2023-02-01T10:10:03.527Z"
   },
   {
    "duration": 74,
    "start_time": "2023-02-01T10:10:10.460Z"
   },
   {
    "duration": 25,
    "start_time": "2023-02-01T10:14:24.003Z"
   },
   {
    "duration": 19,
    "start_time": "2023-02-01T10:15:39.123Z"
   },
   {
    "duration": 26,
    "start_time": "2023-02-01T10:15:46.956Z"
   },
   {
    "duration": 3,
    "start_time": "2023-02-01T10:30:17.501Z"
   },
   {
    "duration": 24,
    "start_time": "2023-02-01T10:31:23.434Z"
   },
   {
    "duration": 57,
    "start_time": "2023-02-01T14:27:26.067Z"
   },
   {
    "duration": 1355,
    "start_time": "2023-02-01T14:27:40.517Z"
   },
   {
    "duration": 968,
    "start_time": "2023-02-01T14:27:41.873Z"
   },
   {
    "duration": 349,
    "start_time": "2023-02-01T14:27:42.843Z"
   },
   {
    "duration": 365,
    "start_time": "2023-02-01T14:27:43.195Z"
   },
   {
    "duration": 206,
    "start_time": "2023-02-01T14:27:43.562Z"
   },
   {
    "duration": 54,
    "start_time": "2023-02-01T14:27:43.770Z"
   },
   {
    "duration": 19,
    "start_time": "2023-02-01T14:27:43.826Z"
   },
   {
    "duration": 83,
    "start_time": "2023-02-01T14:27:43.847Z"
   },
   {
    "duration": 0,
    "start_time": "2023-02-01T14:27:43.932Z"
   },
   {
    "duration": 1,
    "start_time": "2023-02-01T14:27:43.933Z"
   },
   {
    "duration": 0,
    "start_time": "2023-02-01T14:27:43.935Z"
   },
   {
    "duration": 0,
    "start_time": "2023-02-01T14:27:43.937Z"
   },
   {
    "duration": 0,
    "start_time": "2023-02-01T14:27:43.938Z"
   },
   {
    "duration": 0,
    "start_time": "2023-02-01T14:27:43.940Z"
   },
   {
    "duration": 0,
    "start_time": "2023-02-01T14:27:43.941Z"
   },
   {
    "duration": 0,
    "start_time": "2023-02-01T14:27:43.942Z"
   },
   {
    "duration": 82,
    "start_time": "2023-02-01T14:28:17.367Z"
   },
   {
    "duration": 110,
    "start_time": "2023-02-01T14:28:18.885Z"
   },
   {
    "duration": 27,
    "start_time": "2023-02-01T14:28:20.350Z"
   },
   {
    "duration": 40,
    "start_time": "2023-02-01T14:28:22.016Z"
   },
   {
    "duration": 32,
    "start_time": "2023-02-01T14:28:29.817Z"
   },
   {
    "duration": 23,
    "start_time": "2023-02-01T14:28:34.501Z"
   },
   {
    "duration": 18,
    "start_time": "2023-02-01T14:28:42.445Z"
   },
   {
    "duration": 45,
    "start_time": "2023-02-01T14:28:53.613Z"
   },
   {
    "duration": 51,
    "start_time": "2023-02-01T14:29:17.467Z"
   },
   {
    "duration": 40,
    "start_time": "2023-02-01T14:29:43.985Z"
   },
   {
    "duration": 98,
    "start_time": "2023-02-01T14:29:55.100Z"
   },
   {
    "duration": 42,
    "start_time": "2023-02-01T14:33:05.445Z"
   },
   {
    "duration": 48,
    "start_time": "2023-02-01T14:33:09.337Z"
   },
   {
    "duration": 29,
    "start_time": "2023-02-01T14:34:12.218Z"
   },
   {
    "duration": 30,
    "start_time": "2023-02-01T14:34:20.221Z"
   },
   {
    "duration": 18,
    "start_time": "2023-02-01T14:35:25.025Z"
   },
   {
    "duration": 49,
    "start_time": "2023-02-01T14:35:28.071Z"
   },
   {
    "duration": 16,
    "start_time": "2023-02-01T14:49:05.501Z"
   },
   {
    "duration": 23,
    "start_time": "2023-02-01T17:00:14.644Z"
   },
   {
    "duration": 14,
    "start_time": "2023-02-01T17:01:47.259Z"
   },
   {
    "duration": 15,
    "start_time": "2023-02-01T17:01:50.836Z"
   },
   {
    "duration": 71,
    "start_time": "2023-02-01T19:23:18.913Z"
   },
   {
    "duration": 79,
    "start_time": "2023-02-01T19:23:40.252Z"
   },
   {
    "duration": 99,
    "start_time": "2023-02-01T19:24:03.981Z"
   },
   {
    "duration": 1375,
    "start_time": "2023-02-01T19:31:08.663Z"
   },
   {
    "duration": 1144,
    "start_time": "2023-02-01T19:32:47.939Z"
   },
   {
    "duration": 432,
    "start_time": "2023-02-01T19:32:49.085Z"
   },
   {
    "duration": 303,
    "start_time": "2023-02-01T19:32:49.518Z"
   },
   {
    "duration": 251,
    "start_time": "2023-02-01T19:32:49.822Z"
   },
   {
    "duration": 178,
    "start_time": "2023-02-01T19:32:50.076Z"
   },
   {
    "duration": 33,
    "start_time": "2023-02-01T19:32:50.256Z"
   },
   {
    "duration": 34,
    "start_time": "2023-02-01T19:32:50.290Z"
   },
   {
    "duration": 117,
    "start_time": "2023-02-01T19:32:50.325Z"
   },
   {
    "duration": 88,
    "start_time": "2023-02-01T19:32:50.444Z"
   },
   {
    "duration": 24,
    "start_time": "2023-02-01T19:32:50.533Z"
   },
   {
    "duration": 59,
    "start_time": "2023-02-01T19:32:50.559Z"
   },
   {
    "duration": 31,
    "start_time": "2023-02-01T19:32:50.619Z"
   },
   {
    "duration": 63,
    "start_time": "2023-02-01T19:32:50.651Z"
   },
   {
    "duration": 28,
    "start_time": "2023-02-01T19:32:50.716Z"
   },
   {
    "duration": 76,
    "start_time": "2023-02-01T19:32:50.746Z"
   },
   {
    "duration": 27,
    "start_time": "2023-02-01T19:32:50.824Z"
   },
   {
    "duration": 48,
    "start_time": "2023-02-01T19:32:50.853Z"
   },
   {
    "duration": 1394,
    "start_time": "2023-02-01T19:32:50.903Z"
   },
   {
    "duration": 8,
    "start_time": "2023-02-01T19:38:21.093Z"
   },
   {
    "duration": 8,
    "start_time": "2023-02-01T19:38:29.719Z"
   },
   {
    "duration": 4,
    "start_time": "2023-02-01T19:39:03.454Z"
   },
   {
    "duration": 3,
    "start_time": "2023-02-01T19:41:07.987Z"
   },
   {
    "duration": 21,
    "start_time": "2023-02-01T19:41:15.016Z"
   },
   {
    "duration": 277,
    "start_time": "2023-02-01T19:42:23.462Z"
   },
   {
    "duration": 6,
    "start_time": "2023-02-01T20:02:34.596Z"
   },
   {
    "duration": 5,
    "start_time": "2023-02-01T20:13:21.036Z"
   },
   {
    "duration": 282,
    "start_time": "2023-02-01T20:13:23.578Z"
   },
   {
    "duration": 287,
    "start_time": "2023-02-01T20:13:59.095Z"
   },
   {
    "duration": 289,
    "start_time": "2023-02-01T20:16:36.888Z"
   },
   {
    "duration": 1307,
    "start_time": "2023-02-02T10:39:19.545Z"
   },
   {
    "duration": 1777,
    "start_time": "2023-02-02T10:39:20.854Z"
   },
   {
    "duration": 315,
    "start_time": "2023-02-02T10:39:22.633Z"
   },
   {
    "duration": 247,
    "start_time": "2023-02-02T10:39:22.950Z"
   },
   {
    "duration": 173,
    "start_time": "2023-02-02T10:39:23.198Z"
   },
   {
    "duration": 46,
    "start_time": "2023-02-02T10:39:23.382Z"
   },
   {
    "duration": 16,
    "start_time": "2023-02-02T10:39:23.429Z"
   },
   {
    "duration": 102,
    "start_time": "2023-02-02T10:39:23.447Z"
   },
   {
    "duration": 100,
    "start_time": "2023-02-02T10:39:23.551Z"
   },
   {
    "duration": 48,
    "start_time": "2023-02-02T10:39:23.655Z"
   },
   {
    "duration": 52,
    "start_time": "2023-02-02T10:39:23.705Z"
   },
   {
    "duration": 37,
    "start_time": "2023-02-02T10:39:23.759Z"
   },
   {
    "duration": 18,
    "start_time": "2023-02-02T10:39:23.798Z"
   },
   {
    "duration": 15,
    "start_time": "2023-02-02T10:39:23.817Z"
   },
   {
    "duration": 3,
    "start_time": "2023-02-02T10:39:23.834Z"
   },
   {
    "duration": 49,
    "start_time": "2023-02-02T10:39:23.839Z"
   },
   {
    "duration": 9,
    "start_time": "2023-02-02T10:39:23.890Z"
   },
   {
    "duration": 23,
    "start_time": "2023-02-02T10:39:23.901Z"
   },
   {
    "duration": 9,
    "start_time": "2023-02-02T10:39:23.925Z"
   },
   {
    "duration": 10,
    "start_time": "2023-02-02T10:39:23.935Z"
   },
   {
    "duration": 338,
    "start_time": "2023-02-02T10:39:23.947Z"
   },
   {
    "duration": 21,
    "start_time": "2023-02-02T10:39:24.287Z"
   },
   {
    "duration": 23,
    "start_time": "2023-02-02T10:42:56.650Z"
   },
   {
    "duration": 10,
    "start_time": "2023-02-02T10:43:31.439Z"
   },
   {
    "duration": 11,
    "start_time": "2023-02-02T10:43:40.909Z"
   },
   {
    "duration": 23,
    "start_time": "2023-02-02T10:43:48.316Z"
   },
   {
    "duration": 23,
    "start_time": "2023-02-02T10:44:06.685Z"
   },
   {
    "duration": 26,
    "start_time": "2023-02-02T11:01:33.789Z"
   },
   {
    "duration": 35,
    "start_time": "2023-02-02T11:02:19.936Z"
   },
   {
    "duration": 25,
    "start_time": "2023-02-02T11:11:38.248Z"
   },
   {
    "duration": 22,
    "start_time": "2023-02-02T11:11:55.272Z"
   },
   {
    "duration": 102,
    "start_time": "2023-02-02T12:02:47.684Z"
   },
   {
    "duration": 26,
    "start_time": "2023-02-02T12:02:56.613Z"
   },
   {
    "duration": 10,
    "start_time": "2023-02-02T12:02:59.062Z"
   },
   {
    "duration": 896,
    "start_time": "2023-02-02T12:03:16.249Z"
   },
   {
    "duration": 22,
    "start_time": "2023-02-02T12:03:37.326Z"
   },
   {
    "duration": 32,
    "start_time": "2023-02-02T12:03:53.470Z"
   },
   {
    "duration": 37,
    "start_time": "2023-02-02T12:04:07.223Z"
   },
   {
    "duration": 1368,
    "start_time": "2023-02-02T12:04:15.257Z"
   },
   {
    "duration": 174,
    "start_time": "2023-02-02T12:04:46.988Z"
   },
   {
    "duration": 53,
    "start_time": "2023-02-02T12:08:16.522Z"
   },
   {
    "duration": 17,
    "start_time": "2023-02-02T12:08:31.550Z"
   },
   {
    "duration": 898,
    "start_time": "2023-02-02T12:09:07.789Z"
   },
   {
    "duration": 175,
    "start_time": "2023-02-02T12:09:33.254Z"
   },
   {
    "duration": 94,
    "start_time": "2023-02-02T17:44:18.911Z"
   },
   {
    "duration": 1275,
    "start_time": "2023-02-02T17:44:51.482Z"
   },
   {
    "duration": 1172,
    "start_time": "2023-02-02T17:44:52.759Z"
   },
   {
    "duration": 307,
    "start_time": "2023-02-02T17:44:53.933Z"
   },
   {
    "duration": 246,
    "start_time": "2023-02-02T17:44:54.242Z"
   },
   {
    "duration": 158,
    "start_time": "2023-02-02T17:44:54.490Z"
   },
   {
    "duration": 30,
    "start_time": "2023-02-02T17:44:54.649Z"
   },
   {
    "duration": 28,
    "start_time": "2023-02-02T17:44:54.681Z"
   },
   {
    "duration": 70,
    "start_time": "2023-02-02T17:44:54.710Z"
   },
   {
    "duration": 87,
    "start_time": "2023-02-02T17:44:54.781Z"
   },
   {
    "duration": 34,
    "start_time": "2023-02-02T17:44:54.870Z"
   },
   {
    "duration": 35,
    "start_time": "2023-02-02T17:44:54.906Z"
   },
   {
    "duration": 22,
    "start_time": "2023-02-02T17:44:54.942Z"
   },
   {
    "duration": 40,
    "start_time": "2023-02-02T17:44:54.965Z"
   },
   {
    "duration": 15,
    "start_time": "2023-02-02T17:44:55.007Z"
   },
   {
    "duration": 4,
    "start_time": "2023-02-02T17:44:55.024Z"
   },
   {
    "duration": 25,
    "start_time": "2023-02-02T17:44:55.029Z"
   },
   {
    "duration": 8,
    "start_time": "2023-02-02T17:44:55.055Z"
   },
   {
    "duration": 36,
    "start_time": "2023-02-02T17:44:55.064Z"
   },
   {
    "duration": 6,
    "start_time": "2023-02-02T17:44:55.102Z"
   },
   {
    "duration": 6,
    "start_time": "2023-02-02T17:44:55.109Z"
   },
   {
    "duration": 237,
    "start_time": "2023-02-02T17:44:55.116Z"
   },
   {
    "duration": 22,
    "start_time": "2023-02-02T17:44:55.354Z"
   },
   {
    "duration": 45,
    "start_time": "2023-02-02T17:44:55.377Z"
   },
   {
    "duration": 72,
    "start_time": "2023-02-02T17:44:55.423Z"
   },
   {
    "duration": 103,
    "start_time": "2023-02-02T17:45:10.965Z"
   },
   {
    "duration": 34,
    "start_time": "2023-02-02T17:45:51.906Z"
   },
   {
    "duration": 68,
    "start_time": "2023-02-02T17:46:09.141Z"
   },
   {
    "duration": 14,
    "start_time": "2023-02-02T17:48:11.053Z"
   },
   {
    "duration": 14,
    "start_time": "2023-02-02T17:48:43.103Z"
   },
   {
    "duration": 171,
    "start_time": "2023-02-02T17:49:25.149Z"
   },
   {
    "duration": 75,
    "start_time": "2023-02-02T17:53:54.174Z"
   },
   {
    "duration": 80,
    "start_time": "2023-02-02T17:54:03.632Z"
   },
   {
    "duration": 67,
    "start_time": "2023-02-02T17:54:20.933Z"
   },
   {
    "duration": 14,
    "start_time": "2023-02-02T18:06:40.916Z"
   },
   {
    "duration": 6,
    "start_time": "2023-02-02T18:06:53.218Z"
   },
   {
    "duration": 8,
    "start_time": "2023-02-02T18:10:47.722Z"
   },
   {
    "duration": 574,
    "start_time": "2023-02-02T18:11:28.977Z"
   },
   {
    "duration": 7,
    "start_time": "2023-02-02T18:11:54.582Z"
   },
   {
    "duration": 74,
    "start_time": "2023-02-02T18:12:26.549Z"
   },
   {
    "duration": 8,
    "start_time": "2023-02-02T18:12:35.041Z"
   },
   {
    "duration": 8,
    "start_time": "2023-02-02T18:12:48.029Z"
   },
   {
    "duration": 8,
    "start_time": "2023-02-02T18:13:04.693Z"
   },
   {
    "duration": 6,
    "start_time": "2023-02-02T18:19:16.610Z"
   },
   {
    "duration": 10,
    "start_time": "2023-02-02T18:19:54.947Z"
   },
   {
    "duration": 24,
    "start_time": "2023-02-02T18:20:21.044Z"
   },
   {
    "duration": 7,
    "start_time": "2023-02-02T18:20:32.085Z"
   },
   {
    "duration": 7,
    "start_time": "2023-02-02T18:22:27.823Z"
   },
   {
    "duration": 1155,
    "start_time": "2023-02-02T18:26:48.081Z"
   },
   {
    "duration": 14,
    "start_time": "2023-02-02T18:31:30.113Z"
   },
   {
    "duration": 18,
    "start_time": "2023-02-02T18:32:15.553Z"
   },
   {
    "duration": 6,
    "start_time": "2023-02-02T18:33:02.340Z"
   },
   {
    "duration": 6,
    "start_time": "2023-02-02T18:33:10.145Z"
   },
   {
    "duration": 1360,
    "start_time": "2023-02-02T18:33:29.845Z"
   },
   {
    "duration": 78,
    "start_time": "2023-02-05T16:30:19.952Z"
   },
   {
    "duration": 72,
    "start_time": "2023-02-05T16:30:37.891Z"
   },
   {
    "duration": 67,
    "start_time": "2023-02-05T16:30:58.797Z"
   },
   {
    "duration": 40,
    "start_time": "2023-02-05T16:31:22.576Z"
   },
   {
    "duration": 1237,
    "start_time": "2023-02-05T16:31:34.617Z"
   },
   {
    "duration": 868,
    "start_time": "2023-02-05T16:31:35.856Z"
   },
   {
    "duration": 264,
    "start_time": "2023-02-05T16:31:36.726Z"
   },
   {
    "duration": 262,
    "start_time": "2023-02-05T16:31:36.992Z"
   },
   {
    "duration": 165,
    "start_time": "2023-02-05T16:31:37.256Z"
   },
   {
    "duration": 30,
    "start_time": "2023-02-05T16:31:37.423Z"
   },
   {
    "duration": 14,
    "start_time": "2023-02-05T16:31:37.455Z"
   },
   {
    "duration": 95,
    "start_time": "2023-02-05T16:31:37.471Z"
   },
   {
    "duration": 82,
    "start_time": "2023-02-05T16:31:37.569Z"
   },
   {
    "duration": 23,
    "start_time": "2023-02-05T16:31:37.654Z"
   },
   {
    "duration": 50,
    "start_time": "2023-02-05T16:31:37.679Z"
   },
   {
    "duration": 21,
    "start_time": "2023-02-05T16:31:37.731Z"
   },
   {
    "duration": 18,
    "start_time": "2023-02-05T16:31:37.754Z"
   },
   {
    "duration": 36,
    "start_time": "2023-02-05T16:31:37.773Z"
   },
   {
    "duration": 4,
    "start_time": "2023-02-05T16:31:37.811Z"
   },
   {
    "duration": 46,
    "start_time": "2023-02-05T16:31:37.816Z"
   },
   {
    "duration": 6,
    "start_time": "2023-02-05T16:31:37.864Z"
   },
   {
    "duration": 17,
    "start_time": "2023-02-05T16:31:37.872Z"
   },
   {
    "duration": 9,
    "start_time": "2023-02-05T16:31:37.890Z"
   },
   {
    "duration": 4,
    "start_time": "2023-02-05T16:31:37.900Z"
   },
   {
    "duration": 239,
    "start_time": "2023-02-05T16:31:37.905Z"
   },
   {
    "duration": 19,
    "start_time": "2023-02-05T16:31:38.145Z"
   },
   {
    "duration": 47,
    "start_time": "2023-02-05T16:31:38.166Z"
   },
   {
    "duration": 175,
    "start_time": "2023-02-05T16:31:38.214Z"
   },
   {
    "duration": 98,
    "start_time": "2023-02-05T16:31:38.391Z"
   },
   {
    "duration": 0,
    "start_time": "2023-02-05T16:31:38.498Z"
   },
   {
    "duration": 195,
    "start_time": "2023-02-05T16:37:17.170Z"
   },
   {
    "duration": 238,
    "start_time": "2023-02-05T16:39:02.549Z"
   },
   {
    "duration": 365,
    "start_time": "2023-02-05T16:39:33.675Z"
   },
   {
    "duration": 491,
    "start_time": "2023-02-05T16:40:29.484Z"
   },
   {
    "duration": 499,
    "start_time": "2023-02-05T16:40:42.340Z"
   },
   {
    "duration": 3,
    "start_time": "2023-02-05T16:44:52.122Z"
   },
   {
    "duration": 1092,
    "start_time": "2023-02-05T16:44:59.255Z"
   },
   {
    "duration": 1225,
    "start_time": "2023-02-05T16:46:28.252Z"
   },
   {
    "duration": 1109,
    "start_time": "2023-02-05T16:49:27.457Z"
   },
   {
    "duration": 1352,
    "start_time": "2023-02-05T16:49:44.420Z"
   },
   {
    "duration": 982,
    "start_time": "2023-02-05T16:50:11.281Z"
   },
   {
    "duration": 7,
    "start_time": "2023-02-05T16:50:30.969Z"
   },
   {
    "duration": 7,
    "start_time": "2023-02-05T16:51:31.784Z"
   },
   {
    "duration": 9,
    "start_time": "2023-02-05T16:52:10.895Z"
   },
   {
    "duration": 8,
    "start_time": "2023-02-05T16:53:36.117Z"
   },
   {
    "duration": 60,
    "start_time": "2023-02-06T10:55:30.802Z"
   },
   {
    "duration": 1545,
    "start_time": "2023-02-06T10:55:37.778Z"
   },
   {
    "duration": 1234,
    "start_time": "2023-02-06T10:55:39.325Z"
   },
   {
    "duration": 366,
    "start_time": "2023-02-06T10:55:40.564Z"
   },
   {
    "duration": 322,
    "start_time": "2023-02-06T10:55:40.933Z"
   },
   {
    "duration": 211,
    "start_time": "2023-02-06T10:55:41.257Z"
   },
   {
    "duration": 34,
    "start_time": "2023-02-06T10:55:41.469Z"
   },
   {
    "duration": 22,
    "start_time": "2023-02-06T10:55:41.504Z"
   },
   {
    "duration": 121,
    "start_time": "2023-02-06T10:55:41.528Z"
   },
   {
    "duration": 115,
    "start_time": "2023-02-06T10:55:41.652Z"
   },
   {
    "duration": 28,
    "start_time": "2023-02-06T10:55:41.770Z"
   },
   {
    "duration": 64,
    "start_time": "2023-02-06T10:55:41.800Z"
   },
   {
    "duration": 27,
    "start_time": "2023-02-06T10:55:41.866Z"
   },
   {
    "duration": 22,
    "start_time": "2023-02-06T10:55:41.895Z"
   },
   {
    "duration": 40,
    "start_time": "2023-02-06T10:55:41.919Z"
   },
   {
    "duration": 6,
    "start_time": "2023-02-06T10:55:41.962Z"
   },
   {
    "duration": 34,
    "start_time": "2023-02-06T10:55:41.971Z"
   },
   {
    "duration": 8,
    "start_time": "2023-02-06T10:55:42.006Z"
   },
   {
    "duration": 39,
    "start_time": "2023-02-06T10:55:42.016Z"
   },
   {
    "duration": 20,
    "start_time": "2023-02-06T10:55:42.057Z"
   },
   {
    "duration": 12,
    "start_time": "2023-02-06T10:55:42.079Z"
   },
   {
    "duration": 328,
    "start_time": "2023-02-06T10:55:42.092Z"
   },
   {
    "duration": 37,
    "start_time": "2023-02-06T10:55:42.422Z"
   },
   {
    "duration": 1711,
    "start_time": "2023-02-06T10:55:42.461Z"
   },
   {
    "duration": 36,
    "start_time": "2023-02-06T10:55:44.174Z"
   },
   {
    "duration": 8,
    "start_time": "2023-02-06T10:55:44.212Z"
   },
   {
    "duration": 41,
    "start_time": "2023-02-06T10:55:44.222Z"
   },
   {
    "duration": 1549,
    "start_time": "2023-02-06T10:56:06.133Z"
   },
   {
    "duration": 1307,
    "start_time": "2023-02-06T10:56:16.112Z"
   },
   {
    "duration": 1329,
    "start_time": "2023-02-06T10:57:35.565Z"
   },
   {
    "duration": 1410,
    "start_time": "2023-02-06T10:58:55.859Z"
   },
   {
    "duration": 934,
    "start_time": "2023-02-06T11:03:53.785Z"
   },
   {
    "duration": 52,
    "start_time": "2023-02-06T13:35:12.659Z"
   },
   {
    "duration": 1278,
    "start_time": "2023-02-06T13:35:20.944Z"
   },
   {
    "duration": 911,
    "start_time": "2023-02-06T13:35:22.225Z"
   },
   {
    "duration": 308,
    "start_time": "2023-02-06T13:35:23.138Z"
   },
   {
    "duration": 256,
    "start_time": "2023-02-06T13:35:23.449Z"
   },
   {
    "duration": 169,
    "start_time": "2023-02-06T13:35:23.706Z"
   },
   {
    "duration": 31,
    "start_time": "2023-02-06T13:35:23.877Z"
   },
   {
    "duration": 31,
    "start_time": "2023-02-06T13:35:23.910Z"
   },
   {
    "duration": 79,
    "start_time": "2023-02-06T13:35:23.943Z"
   },
   {
    "duration": 98,
    "start_time": "2023-02-06T13:35:24.024Z"
   },
   {
    "duration": 33,
    "start_time": "2023-02-06T13:35:24.124Z"
   },
   {
    "duration": 38,
    "start_time": "2023-02-06T13:35:24.159Z"
   },
   {
    "duration": 43,
    "start_time": "2023-02-06T13:35:24.199Z"
   },
   {
    "duration": 22,
    "start_time": "2023-02-06T13:35:24.244Z"
   },
   {
    "duration": 18,
    "start_time": "2023-02-06T13:35:24.268Z"
   },
   {
    "duration": 3,
    "start_time": "2023-02-06T13:35:24.288Z"
   },
   {
    "duration": 49,
    "start_time": "2023-02-06T13:35:24.293Z"
   },
   {
    "duration": 8,
    "start_time": "2023-02-06T13:35:24.344Z"
   },
   {
    "duration": 13,
    "start_time": "2023-02-06T13:35:24.354Z"
   },
   {
    "duration": 10,
    "start_time": "2023-02-06T13:35:24.370Z"
   },
   {
    "duration": 6,
    "start_time": "2023-02-06T13:35:24.382Z"
   },
   {
    "duration": 270,
    "start_time": "2023-02-06T13:35:24.390Z"
   },
   {
    "duration": 22,
    "start_time": "2023-02-06T13:35:24.662Z"
   },
   {
    "duration": 1219,
    "start_time": "2023-02-06T13:35:24.685Z"
   },
   {
    "duration": 44,
    "start_time": "2023-02-06T13:35:25.905Z"
   },
   {
    "duration": 8,
    "start_time": "2023-02-06T13:35:25.950Z"
   },
   {
    "duration": 32,
    "start_time": "2023-02-06T13:35:25.960Z"
   },
   {
    "duration": 767,
    "start_time": "2023-02-06T13:35:55.536Z"
   },
   {
    "duration": 1040,
    "start_time": "2023-02-06T13:36:28.551Z"
   },
   {
    "duration": 1046,
    "start_time": "2023-02-06T13:38:54.933Z"
   },
   {
    "duration": 999,
    "start_time": "2023-02-06T13:39:26.458Z"
   },
   {
    "duration": 1234,
    "start_time": "2023-02-07T13:43:45.272Z"
   },
   {
    "duration": 1732,
    "start_time": "2023-02-07T13:43:46.508Z"
   },
   {
    "duration": 260,
    "start_time": "2023-02-07T13:43:48.241Z"
   },
   {
    "duration": 228,
    "start_time": "2023-02-07T13:43:48.503Z"
   },
   {
    "duration": 136,
    "start_time": "2023-02-07T13:43:48.733Z"
   },
   {
    "duration": 30,
    "start_time": "2023-02-07T13:43:48.870Z"
   },
   {
    "duration": 30,
    "start_time": "2023-02-07T13:43:48.902Z"
   },
   {
    "duration": 78,
    "start_time": "2023-02-07T13:43:48.934Z"
   },
   {
    "duration": 80,
    "start_time": "2023-02-07T13:43:49.014Z"
   },
   {
    "duration": 36,
    "start_time": "2023-02-07T13:43:49.097Z"
   },
   {
    "duration": 36,
    "start_time": "2023-02-07T13:43:49.135Z"
   },
   {
    "duration": 20,
    "start_time": "2023-02-07T13:43:49.172Z"
   },
   {
    "duration": 17,
    "start_time": "2023-02-07T13:43:49.193Z"
   },
   {
    "duration": 18,
    "start_time": "2023-02-07T13:43:49.228Z"
   },
   {
    "duration": 4,
    "start_time": "2023-02-07T13:43:49.247Z"
   },
   {
    "duration": 24,
    "start_time": "2023-02-07T13:43:49.252Z"
   },
   {
    "duration": 7,
    "start_time": "2023-02-07T13:43:49.278Z"
   },
   {
    "duration": 13,
    "start_time": "2023-02-07T13:43:49.286Z"
   },
   {
    "duration": 31,
    "start_time": "2023-02-07T13:43:49.300Z"
   },
   {
    "duration": 13,
    "start_time": "2023-02-07T13:43:49.333Z"
   },
   {
    "duration": 251,
    "start_time": "2023-02-07T13:43:49.348Z"
   },
   {
    "duration": 27,
    "start_time": "2023-02-07T13:43:49.601Z"
   },
   {
    "duration": 884,
    "start_time": "2023-02-07T13:43:49.630Z"
   },
   {
    "duration": 44,
    "start_time": "2023-02-07T13:43:50.516Z"
   },
   {
    "duration": 11,
    "start_time": "2023-02-07T13:43:50.561Z"
   },
   {
    "duration": 11,
    "start_time": "2023-02-07T13:43:50.573Z"
   },
   {
    "duration": 17,
    "start_time": "2023-02-07T13:46:20.749Z"
   },
   {
    "duration": 14,
    "start_time": "2023-02-07T13:46:46.620Z"
   },
   {
    "duration": 13,
    "start_time": "2023-02-07T13:46:50.224Z"
   },
   {
    "duration": 12,
    "start_time": "2023-02-07T13:46:53.477Z"
   },
   {
    "duration": 17,
    "start_time": "2023-02-07T13:46:58.866Z"
   },
   {
    "duration": 13,
    "start_time": "2023-02-07T13:48:14.868Z"
   },
   {
    "duration": 114,
    "start_time": "2023-02-07T13:49:22.735Z"
   },
   {
    "duration": 1227,
    "start_time": "2023-02-07T15:23:18.133Z"
   },
   {
    "duration": 1273,
    "start_time": "2023-02-07T15:23:19.361Z"
   },
   {
    "duration": 278,
    "start_time": "2023-02-07T15:23:20.636Z"
   },
   {
    "duration": 273,
    "start_time": "2023-02-07T15:23:30.159Z"
   },
   {
    "duration": 155,
    "start_time": "2023-02-07T15:23:32.305Z"
   },
   {
    "duration": 47,
    "start_time": "2023-02-07T15:23:34.130Z"
   },
   {
    "duration": 17,
    "start_time": "2023-02-07T15:23:36.063Z"
   },
   {
    "duration": 77,
    "start_time": "2023-02-07T15:23:40.190Z"
   },
   {
    "duration": 71,
    "start_time": "2023-02-07T15:24:53.124Z"
   },
   {
    "duration": 28,
    "start_time": "2023-02-07T15:35:32.222Z"
   },
   {
    "duration": 50,
    "start_time": "2023-02-07T15:37:05.809Z"
   },
   {
    "duration": 23,
    "start_time": "2023-02-07T15:37:08.233Z"
   },
   {
    "duration": 20,
    "start_time": "2023-02-07T15:37:12.211Z"
   },
   {
    "duration": 20,
    "start_time": "2023-02-07T15:37:22.731Z"
   },
   {
    "duration": 4,
    "start_time": "2023-02-07T15:37:26.063Z"
   },
   {
    "duration": 13,
    "start_time": "2023-02-07T15:37:40.638Z"
   },
   {
    "duration": 15,
    "start_time": "2023-02-07T15:37:54.941Z"
   },
   {
    "duration": 28,
    "start_time": "2023-02-07T15:38:30.626Z"
   },
   {
    "duration": 76,
    "start_time": "2023-02-07T15:38:57.257Z"
   },
   {
    "duration": 21,
    "start_time": "2023-02-07T15:39:01.289Z"
   },
   {
    "duration": 39,
    "start_time": "2023-02-07T15:39:01.931Z"
   },
   {
    "duration": 22,
    "start_time": "2023-02-07T15:39:02.395Z"
   },
   {
    "duration": 16,
    "start_time": "2023-02-07T15:39:03.668Z"
   },
   {
    "duration": 19,
    "start_time": "2023-02-07T15:39:08.349Z"
   },
   {
    "duration": 4,
    "start_time": "2023-02-07T15:39:09.983Z"
   },
   {
    "duration": 2,
    "start_time": "2023-02-07T15:39:11.623Z"
   },
   {
    "duration": 18,
    "start_time": "2023-02-07T15:39:13.815Z"
   },
   {
    "duration": 99,
    "start_time": "2023-02-07T15:40:37.002Z"
   },
   {
    "duration": 66,
    "start_time": "2023-02-07T15:42:33.498Z"
   },
   {
    "duration": 29,
    "start_time": "2023-02-07T15:43:36.659Z"
   },
   {
    "duration": 21,
    "start_time": "2023-02-07T15:44:06.713Z"
   },
   {
    "duration": 22,
    "start_time": "2023-02-07T15:45:10.852Z"
   },
   {
    "duration": 15,
    "start_time": "2023-02-07T15:45:17.947Z"
   },
   {
    "duration": 20,
    "start_time": "2023-02-07T15:45:23.024Z"
   },
   {
    "duration": 14,
    "start_time": "2023-02-07T15:47:10.484Z"
   },
   {
    "duration": 23,
    "start_time": "2023-02-07T15:47:31.805Z"
   },
   {
    "duration": 23,
    "start_time": "2023-02-07T15:47:42.995Z"
   },
   {
    "duration": 27,
    "start_time": "2023-02-07T15:48:04.010Z"
   },
   {
    "duration": 17,
    "start_time": "2023-02-07T15:48:20.210Z"
   },
   {
    "duration": 95,
    "start_time": "2023-02-07T15:48:54.036Z"
   },
   {
    "duration": 13,
    "start_time": "2023-02-07T15:55:13.080Z"
   },
   {
    "duration": 16,
    "start_time": "2023-02-07T15:55:14.159Z"
   },
   {
    "duration": 7,
    "start_time": "2023-02-07T15:55:22.341Z"
   },
   {
    "duration": 65,
    "start_time": "2023-02-07T16:06:22.030Z"
   },
   {
    "duration": 77,
    "start_time": "2023-02-07T16:06:42.624Z"
   },
   {
    "duration": 78,
    "start_time": "2023-02-07T16:10:10.770Z"
   },
   {
    "duration": 3,
    "start_time": "2023-02-07T16:11:04.419Z"
   },
   {
    "duration": 131,
    "start_time": "2023-02-07T16:11:41.580Z"
   },
   {
    "duration": 16,
    "start_time": "2023-02-07T16:11:52.009Z"
   },
   {
    "duration": 38,
    "start_time": "2023-02-07T16:12:01.470Z"
   },
   {
    "duration": 22,
    "start_time": "2023-02-07T16:12:03.338Z"
   },
   {
    "duration": 16,
    "start_time": "2023-02-07T16:12:06.847Z"
   },
   {
    "duration": 18,
    "start_time": "2023-02-07T16:12:10.373Z"
   },
   {
    "duration": 3,
    "start_time": "2023-02-07T16:12:12.588Z"
   },
   {
    "duration": 2,
    "start_time": "2023-02-07T16:12:14.700Z"
   },
   {
    "duration": 17,
    "start_time": "2023-02-07T16:12:16.681Z"
   },
   {
    "duration": 9,
    "start_time": "2023-02-07T16:12:18.950Z"
   },
   {
    "duration": 12,
    "start_time": "2023-02-07T16:12:20.886Z"
   },
   {
    "duration": 7,
    "start_time": "2023-02-07T16:13:47.078Z"
   },
   {
    "duration": 4,
    "start_time": "2023-02-07T16:13:50.542Z"
   },
   {
    "duration": 239,
    "start_time": "2023-02-07T16:13:54.345Z"
   },
   {
    "duration": 22,
    "start_time": "2023-02-07T16:14:11.028Z"
   },
   {
    "duration": 1205,
    "start_time": "2023-02-07T16:14:26.666Z"
   },
   {
    "duration": 436,
    "start_time": "2023-02-07T16:14:27.873Z"
   },
   {
    "duration": 276,
    "start_time": "2023-02-07T16:14:28.311Z"
   },
   {
    "duration": 257,
    "start_time": "2023-02-07T16:14:28.594Z"
   },
   {
    "duration": 159,
    "start_time": "2023-02-07T16:14:28.852Z"
   },
   {
    "duration": 32,
    "start_time": "2023-02-07T16:14:29.012Z"
   },
   {
    "duration": 16,
    "start_time": "2023-02-07T16:14:29.045Z"
   },
   {
    "duration": 101,
    "start_time": "2023-02-07T16:14:29.062Z"
   },
   {
    "duration": 2,
    "start_time": "2023-02-07T16:14:29.164Z"
   },
   {
    "duration": 94,
    "start_time": "2023-02-07T16:14:29.169Z"
   },
   {
    "duration": 28,
    "start_time": "2023-02-07T16:14:29.265Z"
   },
   {
    "duration": 51,
    "start_time": "2023-02-07T16:14:29.295Z"
   },
   {
    "duration": 25,
    "start_time": "2023-02-07T16:14:29.348Z"
   },
   {
    "duration": 35,
    "start_time": "2023-02-07T16:14:29.374Z"
   },
   {
    "duration": 22,
    "start_time": "2023-02-07T16:14:29.410Z"
   },
   {
    "duration": 5,
    "start_time": "2023-02-07T16:14:29.434Z"
   },
   {
    "duration": 5,
    "start_time": "2023-02-07T16:14:29.441Z"
   },
   {
    "duration": 20,
    "start_time": "2023-02-07T16:14:29.448Z"
   },
   {
    "duration": 31,
    "start_time": "2023-02-07T16:14:29.470Z"
   },
   {
    "duration": 15,
    "start_time": "2023-02-07T16:14:29.502Z"
   },
   {
    "duration": 7,
    "start_time": "2023-02-07T16:14:29.518Z"
   },
   {
    "duration": 4,
    "start_time": "2023-02-07T16:14:29.526Z"
   },
   {
    "duration": 273,
    "start_time": "2023-02-07T16:14:29.532Z"
   },
   {
    "duration": 104,
    "start_time": "2023-02-07T16:14:29.807Z"
   },
   {
    "duration": 0,
    "start_time": "2023-02-07T16:14:29.912Z"
   },
   {
    "duration": 0,
    "start_time": "2023-02-07T16:14:29.914Z"
   },
   {
    "duration": 0,
    "start_time": "2023-02-07T16:14:29.915Z"
   },
   {
    "duration": 0,
    "start_time": "2023-02-07T16:14:29.916Z"
   },
   {
    "duration": 26,
    "start_time": "2023-02-07T16:15:30.386Z"
   },
   {
    "duration": 21,
    "start_time": "2023-02-07T16:15:46.529Z"
   },
   {
    "duration": 27,
    "start_time": "2023-02-07T16:16:07.013Z"
   },
   {
    "duration": 32,
    "start_time": "2023-02-07T16:16:19.946Z"
   },
   {
    "duration": 31,
    "start_time": "2023-02-07T16:18:03.706Z"
   },
   {
    "duration": 33,
    "start_time": "2023-02-07T16:18:11.832Z"
   },
   {
    "duration": 11,
    "start_time": "2023-02-07T16:18:17.328Z"
   },
   {
    "duration": 24,
    "start_time": "2023-02-07T16:18:21.320Z"
   },
   {
    "duration": 1168,
    "start_time": "2023-02-07T16:18:30.466Z"
   },
   {
    "duration": 411,
    "start_time": "2023-02-07T16:18:31.636Z"
   },
   {
    "duration": 267,
    "start_time": "2023-02-07T16:18:32.049Z"
   },
   {
    "duration": 241,
    "start_time": "2023-02-07T16:18:32.319Z"
   },
   {
    "duration": 161,
    "start_time": "2023-02-07T16:18:32.562Z"
   },
   {
    "duration": 35,
    "start_time": "2023-02-07T16:18:32.725Z"
   },
   {
    "duration": 37,
    "start_time": "2023-02-07T16:18:32.762Z"
   },
   {
    "duration": 78,
    "start_time": "2023-02-07T16:18:32.800Z"
   },
   {
    "duration": 2,
    "start_time": "2023-02-07T16:18:32.880Z"
   },
   {
    "duration": 78,
    "start_time": "2023-02-07T16:18:32.894Z"
   },
   {
    "duration": 30,
    "start_time": "2023-02-07T16:18:32.974Z"
   },
   {
    "duration": 46,
    "start_time": "2023-02-07T16:18:33.006Z"
   },
   {
    "duration": 39,
    "start_time": "2023-02-07T16:18:33.054Z"
   },
   {
    "duration": 16,
    "start_time": "2023-02-07T16:18:33.095Z"
   },
   {
    "duration": 19,
    "start_time": "2023-02-07T16:18:33.113Z"
   },
   {
    "duration": 3,
    "start_time": "2023-02-07T16:18:33.134Z"
   },
   {
    "duration": 5,
    "start_time": "2023-02-07T16:18:33.139Z"
   },
   {
    "duration": 55,
    "start_time": "2023-02-07T16:18:33.145Z"
   },
   {
    "duration": 19,
    "start_time": "2023-02-07T16:18:33.201Z"
   },
   {
    "duration": 12,
    "start_time": "2023-02-07T16:18:33.222Z"
   },
   {
    "duration": 10,
    "start_time": "2023-02-07T16:18:33.236Z"
   },
   {
    "duration": 5,
    "start_time": "2023-02-07T16:18:33.247Z"
   },
   {
    "duration": 267,
    "start_time": "2023-02-07T16:18:33.253Z"
   },
   {
    "duration": 100,
    "start_time": "2023-02-07T16:18:33.522Z"
   },
   {
    "duration": 1,
    "start_time": "2023-02-07T16:18:33.623Z"
   },
   {
    "duration": 0,
    "start_time": "2023-02-07T16:18:33.624Z"
   },
   {
    "duration": 0,
    "start_time": "2023-02-07T16:18:33.625Z"
   },
   {
    "duration": 0,
    "start_time": "2023-02-07T16:18:33.626Z"
   },
   {
    "duration": 26,
    "start_time": "2023-02-07T16:19:06.846Z"
   },
   {
    "duration": 24,
    "start_time": "2023-02-07T16:19:12.035Z"
   },
   {
    "duration": 26,
    "start_time": "2023-02-07T16:19:21.796Z"
   },
   {
    "duration": 15,
    "start_time": "2023-02-07T16:19:39.261Z"
   },
   {
    "duration": 1106,
    "start_time": "2023-02-07T16:19:52.130Z"
   },
   {
    "duration": 411,
    "start_time": "2023-02-07T16:19:53.239Z"
   },
   {
    "duration": 280,
    "start_time": "2023-02-07T16:19:53.652Z"
   },
   {
    "duration": 326,
    "start_time": "2023-02-07T16:19:53.934Z"
   },
   {
    "duration": 194,
    "start_time": "2023-02-07T16:19:54.262Z"
   },
   {
    "duration": 40,
    "start_time": "2023-02-07T16:19:54.457Z"
   },
   {
    "duration": 14,
    "start_time": "2023-02-07T16:19:54.498Z"
   },
   {
    "duration": 113,
    "start_time": "2023-02-07T16:19:54.514Z"
   },
   {
    "duration": 2,
    "start_time": "2023-02-07T16:19:54.629Z"
   },
   {
    "duration": 100,
    "start_time": "2023-02-07T16:19:54.633Z"
   },
   {
    "duration": 22,
    "start_time": "2023-02-07T16:19:54.735Z"
   },
   {
    "duration": 65,
    "start_time": "2023-02-07T16:19:54.759Z"
   },
   {
    "duration": 25,
    "start_time": "2023-02-07T16:19:54.826Z"
   },
   {
    "duration": 16,
    "start_time": "2023-02-07T16:19:54.853Z"
   },
   {
    "duration": 32,
    "start_time": "2023-02-07T16:19:54.871Z"
   },
   {
    "duration": 4,
    "start_time": "2023-02-07T16:19:54.905Z"
   },
   {
    "duration": 8,
    "start_time": "2023-02-07T16:19:54.910Z"
   },
   {
    "duration": 29,
    "start_time": "2023-02-07T16:19:54.919Z"
   },
   {
    "duration": 9,
    "start_time": "2023-02-07T16:19:54.950Z"
   },
   {
    "duration": 28,
    "start_time": "2023-02-07T16:19:54.960Z"
   },
   {
    "duration": 7,
    "start_time": "2023-02-07T16:19:54.994Z"
   },
   {
    "duration": 19,
    "start_time": "2023-02-07T16:19:55.003Z"
   },
   {
    "duration": 280,
    "start_time": "2023-02-07T16:19:55.024Z"
   },
   {
    "duration": 23,
    "start_time": "2023-02-07T16:19:55.306Z"
   },
   {
    "duration": 884,
    "start_time": "2023-02-07T16:19:55.331Z"
   },
   {
    "duration": 33,
    "start_time": "2023-02-07T16:19:56.217Z"
   },
   {
    "duration": 6,
    "start_time": "2023-02-07T16:19:56.252Z"
   },
   {
    "duration": 33,
    "start_time": "2023-02-07T16:19:56.261Z"
   },
   {
    "duration": 238,
    "start_time": "2023-02-07T16:23:20.095Z"
   },
   {
    "duration": 90,
    "start_time": "2023-02-07T16:23:28.011Z"
   },
   {
    "duration": 92,
    "start_time": "2023-02-07T16:23:36.854Z"
   },
   {
    "duration": 14,
    "start_time": "2023-02-07T16:28:28.254Z"
   },
   {
    "duration": 13,
    "start_time": "2023-02-07T16:28:41.391Z"
   },
   {
    "duration": 64,
    "start_time": "2023-02-07T16:29:05.809Z"
   },
   {
    "duration": 60,
    "start_time": "2023-02-07T16:29:17.215Z"
   },
   {
    "duration": 73,
    "start_time": "2023-02-07T16:33:56.522Z"
   },
   {
    "duration": 140,
    "start_time": "2023-02-07T16:34:26.777Z"
   },
   {
    "duration": 16,
    "start_time": "2023-02-07T16:34:30.312Z"
   },
   {
    "duration": 18,
    "start_time": "2023-02-07T16:34:47.941Z"
   },
   {
    "duration": 68,
    "start_time": "2023-02-07T16:38:39.084Z"
   },
   {
    "duration": 1257,
    "start_time": "2023-02-07T16:52:12.928Z"
   },
   {
    "duration": 477,
    "start_time": "2023-02-07T16:52:14.188Z"
   },
   {
    "duration": 319,
    "start_time": "2023-02-07T16:52:14.668Z"
   },
   {
    "duration": 268,
    "start_time": "2023-02-07T16:52:14.989Z"
   },
   {
    "duration": 178,
    "start_time": "2023-02-07T16:52:15.259Z"
   },
   {
    "duration": 54,
    "start_time": "2023-02-07T16:52:15.439Z"
   },
   {
    "duration": 16,
    "start_time": "2023-02-07T16:52:15.495Z"
   },
   {
    "duration": 95,
    "start_time": "2023-02-07T16:52:15.513Z"
   },
   {
    "duration": 3,
    "start_time": "2023-02-07T16:52:15.609Z"
   },
   {
    "duration": 93,
    "start_time": "2023-02-07T16:52:15.614Z"
   },
   {
    "duration": 12,
    "start_time": "2023-02-07T16:52:15.709Z"
   },
   {
    "duration": 81,
    "start_time": "2023-02-07T16:52:15.723Z"
   },
   {
    "duration": 28,
    "start_time": "2023-02-07T16:52:15.806Z"
   },
   {
    "duration": 16,
    "start_time": "2023-02-07T16:52:15.836Z"
   },
   {
    "duration": 45,
    "start_time": "2023-02-07T16:52:15.853Z"
   },
   {
    "duration": 3,
    "start_time": "2023-02-07T16:52:15.900Z"
   },
   {
    "duration": 7,
    "start_time": "2023-02-07T16:52:15.905Z"
   },
   {
    "duration": 32,
    "start_time": "2023-02-07T16:52:15.913Z"
   },
   {
    "duration": 9,
    "start_time": "2023-02-07T16:52:15.947Z"
   },
   {
    "duration": 14,
    "start_time": "2023-02-07T16:52:15.958Z"
   },
   {
    "duration": 21,
    "start_time": "2023-02-07T16:52:15.974Z"
   },
   {
    "duration": 18,
    "start_time": "2023-02-07T16:52:15.998Z"
   },
   {
    "duration": 263,
    "start_time": "2023-02-07T16:52:16.019Z"
   },
   {
    "duration": 30,
    "start_time": "2023-02-07T16:52:16.284Z"
   },
   {
    "duration": 970,
    "start_time": "2023-02-07T16:52:16.315Z"
   },
   {
    "duration": 40,
    "start_time": "2023-02-07T16:52:17.286Z"
   },
   {
    "duration": 9,
    "start_time": "2023-02-07T16:52:17.327Z"
   },
   {
    "duration": 25,
    "start_time": "2023-02-07T16:52:17.339Z"
   },
   {
    "duration": 1355,
    "start_time": "2023-02-08T15:57:02.707Z"
   },
   {
    "duration": 1373,
    "start_time": "2023-02-08T15:57:04.064Z"
   },
   {
    "duration": 328,
    "start_time": "2023-02-08T15:57:05.440Z"
   },
   {
    "duration": 285,
    "start_time": "2023-02-08T15:57:05.771Z"
   },
   {
    "duration": 204,
    "start_time": "2023-02-08T15:57:06.059Z"
   },
   {
    "duration": 67,
    "start_time": "2023-02-08T15:57:06.265Z"
   },
   {
    "duration": 23,
    "start_time": "2023-02-08T15:57:06.335Z"
   },
   {
    "duration": 111,
    "start_time": "2023-02-08T15:57:06.382Z"
   },
   {
    "duration": 4,
    "start_time": "2023-02-08T15:57:06.495Z"
   },
   {
    "duration": 115,
    "start_time": "2023-02-08T15:57:06.501Z"
   },
   {
    "duration": 13,
    "start_time": "2023-02-08T15:57:06.618Z"
   },
   {
    "duration": 83,
    "start_time": "2023-02-08T15:57:06.633Z"
   },
   {
    "duration": 29,
    "start_time": "2023-02-08T15:57:06.718Z"
   },
   {
    "duration": 36,
    "start_time": "2023-02-08T15:57:06.750Z"
   },
   {
    "duration": 22,
    "start_time": "2023-02-08T15:57:06.788Z"
   },
   {
    "duration": 4,
    "start_time": "2023-02-08T15:57:06.812Z"
   },
   {
    "duration": 6,
    "start_time": "2023-02-08T15:57:06.818Z"
   },
   {
    "duration": 21,
    "start_time": "2023-02-08T15:57:06.826Z"
   },
   {
    "duration": 35,
    "start_time": "2023-02-08T15:57:06.849Z"
   },
   {
    "duration": 15,
    "start_time": "2023-02-08T15:57:06.885Z"
   },
   {
    "duration": 7,
    "start_time": "2023-02-08T15:57:06.902Z"
   },
   {
    "duration": 7,
    "start_time": "2023-02-08T15:57:06.911Z"
   },
   {
    "duration": 324,
    "start_time": "2023-02-08T15:57:06.920Z"
   },
   {
    "duration": 23,
    "start_time": "2023-02-08T15:57:07.246Z"
   },
   {
    "duration": 1003,
    "start_time": "2023-02-08T15:57:07.281Z"
   },
   {
    "duration": 48,
    "start_time": "2023-02-08T15:57:08.288Z"
   },
   {
    "duration": 8,
    "start_time": "2023-02-08T15:57:08.338Z"
   },
   {
    "duration": 13,
    "start_time": "2023-02-08T15:57:08.348Z"
   },
   {
    "duration": 7,
    "start_time": "2023-02-08T16:04:39.588Z"
   }
  ],
  "kernelspec": {
   "display_name": "Python 3 (ipykernel)",
   "language": "python",
   "name": "python3"
  },
  "language_info": {
   "codemirror_mode": {
    "name": "ipython",
    "version": 3
   },
   "file_extension": ".py",
   "mimetype": "text/x-python",
   "name": "python",
   "nbconvert_exporter": "python",
   "pygments_lexer": "ipython3",
   "version": "3.9.7"
  },
  "toc": {
   "base_numbering": 1,
   "nav_menu": {},
   "number_sections": true,
   "sideBar": true,
   "skip_h1_title": true,
   "title_cell": "Table of Contents",
   "title_sidebar": "Contents",
   "toc_cell": false,
   "toc_position": {},
   "toc_section_display": true,
   "toc_window_display": false
  }
 },
 "nbformat": 4,
 "nbformat_minor": 2
}
