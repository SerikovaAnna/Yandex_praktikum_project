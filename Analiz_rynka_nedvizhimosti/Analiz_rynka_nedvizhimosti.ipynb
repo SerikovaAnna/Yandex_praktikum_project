{
 "cells": [
  {
   "cell_type": "markdown",
   "metadata": {
    "toc": true
   },
   "source": [
    "<h1>Содержание<span class=\"tocSkip\"></span></h1>\n",
    "<div class=\"toc\"><ul class=\"toc-item\"><li><span><a href=\"#Изучение-данных-из-файла\" data-toc-modified-id=\"Изучение-данных-из-файла-1\"><span class=\"toc-item-num\">1&nbsp;&nbsp;</span>Изучение данных из файла</a></span><ul class=\"toc-item\"><li><span><a href=\"#Вывод\" data-toc-modified-id=\"Вывод-1.1\"><span class=\"toc-item-num\">1.1&nbsp;&nbsp;</span>Вывод</a></span></li></ul></li><li><span><a href=\"#Предобработка-данных\" data-toc-modified-id=\"Предобработка-данных-2\"><span class=\"toc-item-num\">2&nbsp;&nbsp;</span>Предобработка данных</a></span></li><li><span><a href=\"#Расчёты-и-добавление-результатов-в-таблицу\" data-toc-modified-id=\"Расчёты-и-добавление-результатов-в-таблицу-3\"><span class=\"toc-item-num\">3&nbsp;&nbsp;</span>Расчёты и добавление результатов в таблицу</a></span></li><li><span><a href=\"#Исследовательский-анализ-данных\" data-toc-modified-id=\"Исследовательский-анализ-данных-4\"><span class=\"toc-item-num\">4&nbsp;&nbsp;</span>Исследовательский анализ данных</a></span></li><li><span><a href=\"#Общий-вывод\" data-toc-modified-id=\"Общий-вывод-5\"><span class=\"toc-item-num\">5&nbsp;&nbsp;</span>Общий вывод</a></span></li><li><span><a href=\"#Чек-лист-готовности-проекта\" data-toc-modified-id=\"Чек-лист-готовности-проекта-6\"><span class=\"toc-item-num\">6&nbsp;&nbsp;</span>Чек-лист готовности проекта</a></span></li></ul></div>"
   ]
  },
  {
   "cell_type": "markdown",
   "metadata": {},
   "source": [
    "# Исследование объявлений о продаже квартир\n",
    "\n",
    "В вашем распоряжении данные сервиса Яндекc Недвижимость — архив объявлений о продаже квартир в Санкт-Петербурге и соседних населённых пунктах за несколько лет. Нужно научиться определять рыночную стоимость объектов недвижимости. Ваша задача — установить параметры. Это позволит построить автоматизированную систему: она отследит аномалии и мошенническую деятельность. \n",
    "\n",
    "По каждой квартире на продажу доступны два вида данных. Первые вписаны пользователем, вторые получены автоматически на основе картографических данных. Например, расстояние до центра, аэропорта, ближайшего парка и водоёма. "
   ]
  },
  {
   "cell_type": "markdown",
   "metadata": {},
   "source": [
    "## Изучение данных из файла"
   ]
  },
  {
   "cell_type": "code",
   "execution_count": 1,
   "metadata": {},
   "outputs": [],
   "source": [
    "import pandas as pd\n",
    "import matplotlib.pyplot as plt\n",
    "import warnings\n",
    "\n",
    "warnings.filterwarnings(\"ignore\")"
   ]
  },
  {
   "cell_type": "code",
   "execution_count": 2,
   "metadata": {},
   "outputs": [],
   "source": [
    "pd.set_option('float_format', '{:f}'.format)"
   ]
  },
  {
   "cell_type": "code",
   "execution_count": 3,
   "metadata": {},
   "outputs": [],
   "source": [
    "data = pd.read_csv('/datasets/real_estate_data.csv', sep ='\\t')"
   ]
  },
  {
   "cell_type": "code",
   "execution_count": 4,
   "metadata": {},
   "outputs": [
    {
     "data": {
      "text/html": [
       "<div>\n",
       "<style scoped>\n",
       "    .dataframe tbody tr th:only-of-type {\n",
       "        vertical-align: middle;\n",
       "    }\n",
       "\n",
       "    .dataframe tbody tr th {\n",
       "        vertical-align: top;\n",
       "    }\n",
       "\n",
       "    .dataframe thead th {\n",
       "        text-align: right;\n",
       "    }\n",
       "</style>\n",
       "<table border=\"1\" class=\"dataframe\">\n",
       "  <thead>\n",
       "    <tr style=\"text-align: right;\">\n",
       "      <th></th>\n",
       "      <th>total_images</th>\n",
       "      <th>last_price</th>\n",
       "      <th>total_area</th>\n",
       "      <th>first_day_exposition</th>\n",
       "      <th>rooms</th>\n",
       "      <th>ceiling_height</th>\n",
       "      <th>floors_total</th>\n",
       "      <th>living_area</th>\n",
       "      <th>floor</th>\n",
       "      <th>is_apartment</th>\n",
       "      <th>...</th>\n",
       "      <th>kitchen_area</th>\n",
       "      <th>balcony</th>\n",
       "      <th>locality_name</th>\n",
       "      <th>airports_nearest</th>\n",
       "      <th>cityCenters_nearest</th>\n",
       "      <th>parks_around3000</th>\n",
       "      <th>parks_nearest</th>\n",
       "      <th>ponds_around3000</th>\n",
       "      <th>ponds_nearest</th>\n",
       "      <th>days_exposition</th>\n",
       "    </tr>\n",
       "  </thead>\n",
       "  <tbody>\n",
       "    <tr>\n",
       "      <th>7944</th>\n",
       "      <td>14</td>\n",
       "      <td>2990000.000000</td>\n",
       "      <td>35.000000</td>\n",
       "      <td>2019-03-29T00:00:00</td>\n",
       "      <td>1</td>\n",
       "      <td>NaN</td>\n",
       "      <td>17.000000</td>\n",
       "      <td>16.000000</td>\n",
       "      <td>10</td>\n",
       "      <td>NaN</td>\n",
       "      <td>...</td>\n",
       "      <td>9.000000</td>\n",
       "      <td>NaN</td>\n",
       "      <td>Мурино</td>\n",
       "      <td>NaN</td>\n",
       "      <td>NaN</td>\n",
       "      <td>NaN</td>\n",
       "      <td>NaN</td>\n",
       "      <td>NaN</td>\n",
       "      <td>NaN</td>\n",
       "      <td>NaN</td>\n",
       "    </tr>\n",
       "    <tr>\n",
       "      <th>7539</th>\n",
       "      <td>8</td>\n",
       "      <td>3790000.000000</td>\n",
       "      <td>33.000000</td>\n",
       "      <td>2018-12-18T00:00:00</td>\n",
       "      <td>1</td>\n",
       "      <td>2.500000</td>\n",
       "      <td>7.000000</td>\n",
       "      <td>18.000000</td>\n",
       "      <td>2</td>\n",
       "      <td>NaN</td>\n",
       "      <td>...</td>\n",
       "      <td>5.600000</td>\n",
       "      <td>NaN</td>\n",
       "      <td>Санкт-Петербург</td>\n",
       "      <td>27455.000000</td>\n",
       "      <td>8621.000000</td>\n",
       "      <td>1.000000</td>\n",
       "      <td>217.000000</td>\n",
       "      <td>0.000000</td>\n",
       "      <td>NaN</td>\n",
       "      <td>90.000000</td>\n",
       "    </tr>\n",
       "    <tr>\n",
       "      <th>9889</th>\n",
       "      <td>1</td>\n",
       "      <td>12990000.000000</td>\n",
       "      <td>191.000000</td>\n",
       "      <td>2017-08-31T00:00:00</td>\n",
       "      <td>7</td>\n",
       "      <td>3.300000</td>\n",
       "      <td>5.000000</td>\n",
       "      <td>136.100000</td>\n",
       "      <td>2</td>\n",
       "      <td>NaN</td>\n",
       "      <td>...</td>\n",
       "      <td>16.000000</td>\n",
       "      <td>0.000000</td>\n",
       "      <td>Санкт-Петербург</td>\n",
       "      <td>26856.000000</td>\n",
       "      <td>5704.000000</td>\n",
       "      <td>0.000000</td>\n",
       "      <td>NaN</td>\n",
       "      <td>1.000000</td>\n",
       "      <td>1017.000000</td>\n",
       "      <td>77.000000</td>\n",
       "    </tr>\n",
       "    <tr>\n",
       "      <th>649</th>\n",
       "      <td>1</td>\n",
       "      <td>7210000.000000</td>\n",
       "      <td>61.500000</td>\n",
       "      <td>2018-10-02T00:00:00</td>\n",
       "      <td>3</td>\n",
       "      <td>2.920000</td>\n",
       "      <td>5.000000</td>\n",
       "      <td>43.200000</td>\n",
       "      <td>4</td>\n",
       "      <td>NaN</td>\n",
       "      <td>...</td>\n",
       "      <td>5.700000</td>\n",
       "      <td>1.000000</td>\n",
       "      <td>Санкт-Петербург</td>\n",
       "      <td>25407.000000</td>\n",
       "      <td>3982.000000</td>\n",
       "      <td>1.000000</td>\n",
       "      <td>483.000000</td>\n",
       "      <td>0.000000</td>\n",
       "      <td>NaN</td>\n",
       "      <td>89.000000</td>\n",
       "    </tr>\n",
       "    <tr>\n",
       "      <th>13768</th>\n",
       "      <td>10</td>\n",
       "      <td>550000.000000</td>\n",
       "      <td>36.000000</td>\n",
       "      <td>2017-08-22T00:00:00</td>\n",
       "      <td>1</td>\n",
       "      <td>NaN</td>\n",
       "      <td>2.000000</td>\n",
       "      <td>20.000000</td>\n",
       "      <td>1</td>\n",
       "      <td>NaN</td>\n",
       "      <td>...</td>\n",
       "      <td>8.000000</td>\n",
       "      <td>0.000000</td>\n",
       "      <td>Сланцы</td>\n",
       "      <td>NaN</td>\n",
       "      <td>NaN</td>\n",
       "      <td>NaN</td>\n",
       "      <td>NaN</td>\n",
       "      <td>NaN</td>\n",
       "      <td>NaN</td>\n",
       "      <td>92.000000</td>\n",
       "    </tr>\n",
       "  </tbody>\n",
       "</table>\n",
       "<p>5 rows × 22 columns</p>\n",
       "</div>"
      ],
      "text/plain": [
       "       total_images      last_price  total_area first_day_exposition  rooms  \\\n",
       "7944             14  2990000.000000   35.000000  2019-03-29T00:00:00      1   \n",
       "7539              8  3790000.000000   33.000000  2018-12-18T00:00:00      1   \n",
       "9889              1 12990000.000000  191.000000  2017-08-31T00:00:00      7   \n",
       "649               1  7210000.000000   61.500000  2018-10-02T00:00:00      3   \n",
       "13768            10   550000.000000   36.000000  2017-08-22T00:00:00      1   \n",
       "\n",
       "       ceiling_height  floors_total  living_area  floor is_apartment  ...  \\\n",
       "7944              NaN     17.000000    16.000000     10          NaN  ...   \n",
       "7539         2.500000      7.000000    18.000000      2          NaN  ...   \n",
       "9889         3.300000      5.000000   136.100000      2          NaN  ...   \n",
       "649          2.920000      5.000000    43.200000      4          NaN  ...   \n",
       "13768             NaN      2.000000    20.000000      1          NaN  ...   \n",
       "\n",
       "       kitchen_area  balcony    locality_name  airports_nearest  \\\n",
       "7944       9.000000      NaN           Мурино               NaN   \n",
       "7539       5.600000      NaN  Санкт-Петербург      27455.000000   \n",
       "9889      16.000000 0.000000  Санкт-Петербург      26856.000000   \n",
       "649        5.700000 1.000000  Санкт-Петербург      25407.000000   \n",
       "13768      8.000000 0.000000           Сланцы               NaN   \n",
       "\n",
       "      cityCenters_nearest  parks_around3000  parks_nearest  ponds_around3000  \\\n",
       "7944                  NaN               NaN            NaN               NaN   \n",
       "7539          8621.000000          1.000000     217.000000          0.000000   \n",
       "9889          5704.000000          0.000000            NaN          1.000000   \n",
       "649           3982.000000          1.000000     483.000000          0.000000   \n",
       "13768                 NaN               NaN            NaN               NaN   \n",
       "\n",
       "       ponds_nearest  days_exposition  \n",
       "7944             NaN              NaN  \n",
       "7539             NaN        90.000000  \n",
       "9889     1017.000000        77.000000  \n",
       "649              NaN        89.000000  \n",
       "13768            NaN        92.000000  \n",
       "\n",
       "[5 rows x 22 columns]"
      ]
     },
     "execution_count": 4,
     "metadata": {},
     "output_type": "execute_result"
    }
   ],
   "source": [
    "data.sample(5, random_state=42)"
   ]
  },
  {
   "cell_type": "code",
   "execution_count": 5,
   "metadata": {},
   "outputs": [
    {
     "name": "stdout",
     "output_type": "stream",
     "text": [
      "<class 'pandas.core.frame.DataFrame'>\n",
      "RangeIndex: 23699 entries, 0 to 23698\n",
      "Data columns (total 22 columns):\n",
      " #   Column                Non-Null Count  Dtype  \n",
      "---  ------                --------------  -----  \n",
      " 0   total_images          23699 non-null  int64  \n",
      " 1   last_price            23699 non-null  float64\n",
      " 2   total_area            23699 non-null  float64\n",
      " 3   first_day_exposition  23699 non-null  object \n",
      " 4   rooms                 23699 non-null  int64  \n",
      " 5   ceiling_height        14504 non-null  float64\n",
      " 6   floors_total          23613 non-null  float64\n",
      " 7   living_area           21796 non-null  float64\n",
      " 8   floor                 23699 non-null  int64  \n",
      " 9   is_apartment          2775 non-null   object \n",
      " 10  studio                23699 non-null  bool   \n",
      " 11  open_plan             23699 non-null  bool   \n",
      " 12  kitchen_area          21421 non-null  float64\n",
      " 13  balcony               12180 non-null  float64\n",
      " 14  locality_name         23650 non-null  object \n",
      " 15  airports_nearest      18157 non-null  float64\n",
      " 16  cityCenters_nearest   18180 non-null  float64\n",
      " 17  parks_around3000      18181 non-null  float64\n",
      " 18  parks_nearest         8079 non-null   float64\n",
      " 19  ponds_around3000      18181 non-null  float64\n",
      " 20  ponds_nearest         9110 non-null   float64\n",
      " 21  days_exposition       20518 non-null  float64\n",
      "dtypes: bool(2), float64(14), int64(3), object(3)\n",
      "memory usage: 3.7+ MB\n"
     ]
    }
   ],
   "source": [
    "data.info()"
   ]
  },
  {
   "cell_type": "code",
   "execution_count": 6,
   "metadata": {},
   "outputs": [
    {
     "data": {
      "text/html": [
       "<div>\n",
       "<style scoped>\n",
       "    .dataframe tbody tr th:only-of-type {\n",
       "        vertical-align: middle;\n",
       "    }\n",
       "\n",
       "    .dataframe tbody tr th {\n",
       "        vertical-align: top;\n",
       "    }\n",
       "\n",
       "    .dataframe thead th {\n",
       "        text-align: right;\n",
       "    }\n",
       "</style>\n",
       "<table border=\"1\" class=\"dataframe\">\n",
       "  <thead>\n",
       "    <tr style=\"text-align: right;\">\n",
       "      <th></th>\n",
       "      <th>total_images</th>\n",
       "      <th>last_price</th>\n",
       "      <th>total_area</th>\n",
       "      <th>rooms</th>\n",
       "      <th>ceiling_height</th>\n",
       "      <th>floors_total</th>\n",
       "      <th>living_area</th>\n",
       "      <th>floor</th>\n",
       "      <th>kitchen_area</th>\n",
       "      <th>balcony</th>\n",
       "      <th>airports_nearest</th>\n",
       "      <th>cityCenters_nearest</th>\n",
       "      <th>parks_around3000</th>\n",
       "      <th>parks_nearest</th>\n",
       "      <th>ponds_around3000</th>\n",
       "      <th>ponds_nearest</th>\n",
       "      <th>days_exposition</th>\n",
       "    </tr>\n",
       "  </thead>\n",
       "  <tbody>\n",
       "    <tr>\n",
       "      <th>count</th>\n",
       "      <td>23699.000000</td>\n",
       "      <td>23699.000000</td>\n",
       "      <td>23699.000000</td>\n",
       "      <td>23699.000000</td>\n",
       "      <td>14504.000000</td>\n",
       "      <td>23613.000000</td>\n",
       "      <td>21796.000000</td>\n",
       "      <td>23699.000000</td>\n",
       "      <td>21421.000000</td>\n",
       "      <td>12180.000000</td>\n",
       "      <td>18157.000000</td>\n",
       "      <td>18180.000000</td>\n",
       "      <td>18181.000000</td>\n",
       "      <td>8079.000000</td>\n",
       "      <td>18181.000000</td>\n",
       "      <td>9110.000000</td>\n",
       "      <td>20518.000000</td>\n",
       "    </tr>\n",
       "    <tr>\n",
       "      <th>mean</th>\n",
       "      <td>9.858475</td>\n",
       "      <td>6541548.771552</td>\n",
       "      <td>60.348651</td>\n",
       "      <td>2.070636</td>\n",
       "      <td>2.771499</td>\n",
       "      <td>10.673824</td>\n",
       "      <td>34.457852</td>\n",
       "      <td>5.892358</td>\n",
       "      <td>10.569807</td>\n",
       "      <td>1.150082</td>\n",
       "      <td>28793.672193</td>\n",
       "      <td>14191.277833</td>\n",
       "      <td>0.611408</td>\n",
       "      <td>490.804555</td>\n",
       "      <td>0.770255</td>\n",
       "      <td>517.980900</td>\n",
       "      <td>180.888634</td>\n",
       "    </tr>\n",
       "    <tr>\n",
       "      <th>std</th>\n",
       "      <td>5.682529</td>\n",
       "      <td>10887013.267545</td>\n",
       "      <td>35.654083</td>\n",
       "      <td>1.078405</td>\n",
       "      <td>1.261056</td>\n",
       "      <td>6.597173</td>\n",
       "      <td>22.030445</td>\n",
       "      <td>4.885249</td>\n",
       "      <td>5.905438</td>\n",
       "      <td>1.071300</td>\n",
       "      <td>12630.880622</td>\n",
       "      <td>8608.386210</td>\n",
       "      <td>0.802074</td>\n",
       "      <td>342.317995</td>\n",
       "      <td>0.938346</td>\n",
       "      <td>277.720643</td>\n",
       "      <td>219.727988</td>\n",
       "    </tr>\n",
       "    <tr>\n",
       "      <th>min</th>\n",
       "      <td>0.000000</td>\n",
       "      <td>12190.000000</td>\n",
       "      <td>12.000000</td>\n",
       "      <td>0.000000</td>\n",
       "      <td>1.000000</td>\n",
       "      <td>1.000000</td>\n",
       "      <td>2.000000</td>\n",
       "      <td>1.000000</td>\n",
       "      <td>1.300000</td>\n",
       "      <td>0.000000</td>\n",
       "      <td>0.000000</td>\n",
       "      <td>181.000000</td>\n",
       "      <td>0.000000</td>\n",
       "      <td>1.000000</td>\n",
       "      <td>0.000000</td>\n",
       "      <td>13.000000</td>\n",
       "      <td>1.000000</td>\n",
       "    </tr>\n",
       "    <tr>\n",
       "      <th>25%</th>\n",
       "      <td>6.000000</td>\n",
       "      <td>3400000.000000</td>\n",
       "      <td>40.000000</td>\n",
       "      <td>1.000000</td>\n",
       "      <td>2.520000</td>\n",
       "      <td>5.000000</td>\n",
       "      <td>18.600000</td>\n",
       "      <td>2.000000</td>\n",
       "      <td>7.000000</td>\n",
       "      <td>0.000000</td>\n",
       "      <td>18585.000000</td>\n",
       "      <td>9238.000000</td>\n",
       "      <td>0.000000</td>\n",
       "      <td>288.000000</td>\n",
       "      <td>0.000000</td>\n",
       "      <td>294.000000</td>\n",
       "      <td>45.000000</td>\n",
       "    </tr>\n",
       "    <tr>\n",
       "      <th>50%</th>\n",
       "      <td>9.000000</td>\n",
       "      <td>4650000.000000</td>\n",
       "      <td>52.000000</td>\n",
       "      <td>2.000000</td>\n",
       "      <td>2.650000</td>\n",
       "      <td>9.000000</td>\n",
       "      <td>30.000000</td>\n",
       "      <td>4.000000</td>\n",
       "      <td>9.100000</td>\n",
       "      <td>1.000000</td>\n",
       "      <td>26726.000000</td>\n",
       "      <td>13098.500000</td>\n",
       "      <td>0.000000</td>\n",
       "      <td>455.000000</td>\n",
       "      <td>1.000000</td>\n",
       "      <td>502.000000</td>\n",
       "      <td>95.000000</td>\n",
       "    </tr>\n",
       "    <tr>\n",
       "      <th>75%</th>\n",
       "      <td>14.000000</td>\n",
       "      <td>6800000.000000</td>\n",
       "      <td>69.900000</td>\n",
       "      <td>3.000000</td>\n",
       "      <td>2.800000</td>\n",
       "      <td>16.000000</td>\n",
       "      <td>42.300000</td>\n",
       "      <td>8.000000</td>\n",
       "      <td>12.000000</td>\n",
       "      <td>2.000000</td>\n",
       "      <td>37273.000000</td>\n",
       "      <td>16293.000000</td>\n",
       "      <td>1.000000</td>\n",
       "      <td>612.000000</td>\n",
       "      <td>1.000000</td>\n",
       "      <td>729.000000</td>\n",
       "      <td>232.000000</td>\n",
       "    </tr>\n",
       "    <tr>\n",
       "      <th>max</th>\n",
       "      <td>50.000000</td>\n",
       "      <td>763000000.000000</td>\n",
       "      <td>900.000000</td>\n",
       "      <td>19.000000</td>\n",
       "      <td>100.000000</td>\n",
       "      <td>60.000000</td>\n",
       "      <td>409.700000</td>\n",
       "      <td>33.000000</td>\n",
       "      <td>112.000000</td>\n",
       "      <td>5.000000</td>\n",
       "      <td>84869.000000</td>\n",
       "      <td>65968.000000</td>\n",
       "      <td>3.000000</td>\n",
       "      <td>3190.000000</td>\n",
       "      <td>3.000000</td>\n",
       "      <td>1344.000000</td>\n",
       "      <td>1580.000000</td>\n",
       "    </tr>\n",
       "  </tbody>\n",
       "</table>\n",
       "</div>"
      ],
      "text/plain": [
       "       total_images       last_price   total_area        rooms  \\\n",
       "count  23699.000000     23699.000000 23699.000000 23699.000000   \n",
       "mean       9.858475   6541548.771552    60.348651     2.070636   \n",
       "std        5.682529  10887013.267545    35.654083     1.078405   \n",
       "min        0.000000     12190.000000    12.000000     0.000000   \n",
       "25%        6.000000   3400000.000000    40.000000     1.000000   \n",
       "50%        9.000000   4650000.000000    52.000000     2.000000   \n",
       "75%       14.000000   6800000.000000    69.900000     3.000000   \n",
       "max       50.000000 763000000.000000   900.000000    19.000000   \n",
       "\n",
       "       ceiling_height  floors_total  living_area        floor  kitchen_area  \\\n",
       "count    14504.000000  23613.000000 21796.000000 23699.000000  21421.000000   \n",
       "mean         2.771499     10.673824    34.457852     5.892358     10.569807   \n",
       "std          1.261056      6.597173    22.030445     4.885249      5.905438   \n",
       "min          1.000000      1.000000     2.000000     1.000000      1.300000   \n",
       "25%          2.520000      5.000000    18.600000     2.000000      7.000000   \n",
       "50%          2.650000      9.000000    30.000000     4.000000      9.100000   \n",
       "75%          2.800000     16.000000    42.300000     8.000000     12.000000   \n",
       "max        100.000000     60.000000   409.700000    33.000000    112.000000   \n",
       "\n",
       "           balcony  airports_nearest  cityCenters_nearest  parks_around3000  \\\n",
       "count 12180.000000      18157.000000         18180.000000      18181.000000   \n",
       "mean      1.150082      28793.672193         14191.277833          0.611408   \n",
       "std       1.071300      12630.880622          8608.386210          0.802074   \n",
       "min       0.000000          0.000000           181.000000          0.000000   \n",
       "25%       0.000000      18585.000000          9238.000000          0.000000   \n",
       "50%       1.000000      26726.000000         13098.500000          0.000000   \n",
       "75%       2.000000      37273.000000         16293.000000          1.000000   \n",
       "max       5.000000      84869.000000         65968.000000          3.000000   \n",
       "\n",
       "       parks_nearest  ponds_around3000  ponds_nearest  days_exposition  \n",
       "count    8079.000000      18181.000000    9110.000000     20518.000000  \n",
       "mean      490.804555          0.770255     517.980900       180.888634  \n",
       "std       342.317995          0.938346     277.720643       219.727988  \n",
       "min         1.000000          0.000000      13.000000         1.000000  \n",
       "25%       288.000000          0.000000     294.000000        45.000000  \n",
       "50%       455.000000          1.000000     502.000000        95.000000  \n",
       "75%       612.000000          1.000000     729.000000       232.000000  \n",
       "max      3190.000000          3.000000    1344.000000      1580.000000  "
      ]
     },
     "execution_count": 6,
     "metadata": {},
     "output_type": "execute_result"
    }
   ],
   "source": [
    "data.describe()"
   ]
  },
  {
   "cell_type": "code",
   "execution_count": 7,
   "metadata": {},
   "outputs": [
    {
     "name": "stdout",
     "output_type": "stream",
     "text": [
      "total_images 0.0\n",
      "last_price 0.0\n",
      "total_area 0.0\n",
      "first_day_exposition 0.0\n",
      "rooms 0.0\n",
      "ceiling_height 0.38799105447487237\n",
      "floors_total 0.0036288450989493226\n",
      "living_area 0.08029874678256467\n",
      "floor 0.0\n",
      "is_apartment 0.8829064517490189\n",
      "studio 0.0\n",
      "open_plan 0.0\n",
      "kitchen_area 0.09612219924891345\n",
      "balcony 0.4860542638929913\n",
      "locality_name 0.002067597788936242\n",
      "airports_nearest 0.23384952951601334\n",
      "cityCenters_nearest 0.23287902443141062\n",
      "parks_around3000 0.232836828558167\n",
      "parks_nearest 0.6590995400649816\n",
      "ponds_around3000 0.232836828558167\n",
      "ponds_nearest 0.6155955947508334\n",
      "days_exposition 0.13422507278788134\n"
     ]
    }
   ],
   "source": [
    "for column in data.columns:\n",
    "    print(column, data[column].isna().mean())"
   ]
  },
  {
   "cell_type": "markdown",
   "metadata": {},
   "source": [
    "### Вывод"
   ]
  },
  {
   "cell_type": "markdown",
   "metadata": {},
   "source": [
    "Обнаружены пропуски в 14 столбцах:  \n",
    "ceiling_height 38%  \n",
    "floors_total 0,3%  \n",
    "living_area 8%  \n",
    "is_apartment 88%  \n",
    "kitchen_area 9%  \n",
    "balcony 48%  \n",
    "locality_name 0,2%  \n",
    "airports_nearest 23,38%  \n",
    "cityCenters_nearest 23,28%  \n",
    "parks_around3000 23,28%  \n",
    "parks_nearest 66%  \n",
    "ponds_around3000 23,28%  \n",
    "ponds_nearest 62%  \n",
    "days_exposition 13%  \n",
    "Аномально выглядят минимальное и максимальное значение в столбце 'ceiling_height' - потолки ниже двух метров и аж до 100 метров.  \n",
    "Аномально выглядит минимальное и максимальное значение в столбце 'living_area'и 'kitchen_area'. Размер около квадратного метра или вообще отсутствие значения, возможно, связаны с открытой планировкой. Максимальное значение так же вызывает сомнение.  \n",
    "Аномально выглядят нулевые значения кол-ва комнат, особенно в тех случаях, где у квартиры нет метки свободная планировка.  \n",
    "Аномально выглядит минимальное значение в столбце 'last_price'"
   ]
  },
  {
   "cell_type": "markdown",
   "metadata": {},
   "source": [
    "## Предобработка данных"
   ]
  },
  {
   "cell_type": "markdown",
   "metadata": {},
   "source": [
    "Минимальная высота потолка согласно СНиП для жилых помещений от 2,5 (от 2,1 в мансардных помещениях) до 3,2 м. Считаю кол-во объявлений, ниже этой планки."
   ]
  },
  {
   "cell_type": "code",
   "execution_count": 8,
   "metadata": {},
   "outputs": [
    {
     "data": {
      "text/plain": [
       "14"
      ]
     },
     "execution_count": 8,
     "metadata": {},
     "output_type": "execute_result"
    }
   ],
   "source": [
    "len(data.query('ceiling_height < 2.1'))"
   ]
  },
  {
   "cell_type": "markdown",
   "metadata": {},
   "source": [
    "Таких значенийй меньше 1%. Удаляю эти строки. Пропуски заполним медианным значением, исключив лоты, не укладывающиеся в СНиП."
   ]
  },
  {
   "cell_type": "code",
   "execution_count": 9,
   "metadata": {},
   "outputs": [],
   "source": [
    "data = data.drop(data.query('ceiling_height < 2.1').index)\n",
    "median_ceiling_height = data[(data['ceiling_height'] > 2.5) & (data['ceiling_height'] < 3.2)]['ceiling_height'].median()\n",
    "data['ceiling_height'] = data['ceiling_height'].fillna(median_ceiling_height)"
   ]
  },
  {
   "cell_type": "markdown",
   "metadata": {},
   "source": [
    "В столбце 'floors_total' пропусков всего 0,3%. Можно было бы указать значение столбца  'floor'. Дом явно не ниже. Но это повлияет на данные при группировке \"последних\" этажей. Можно было бы восстановить признак при наличаи адреса. Но в данной ситуации, кол-во пропусков не значительное, поэтому удаляем эти строки. И заменим тип значений на целое число"
   ]
  },
  {
   "cell_type": "code",
   "execution_count": 10,
   "metadata": {},
   "outputs": [],
   "source": [
    "data = data.dropna(subset = ['floors_total'])\n",
    "data['floors_total'] = data['floors_total'].astype('int')"
   ]
  },
  {
   "cell_type": "markdown",
   "metadata": {},
   "source": [
    "Доля пропусков в столбце 'locality_name' всего 0,2%. Восстановить или заполнить сложно. Удаляю."
   ]
  },
  {
   "cell_type": "code",
   "execution_count": 11,
   "metadata": {},
   "outputs": [],
   "source": [
    "data = data.dropna(subset = ['locality_name'])"
   ]
  },
  {
   "cell_type": "markdown",
   "metadata": {},
   "source": [
    "Скорее всего пропуск в столбце 'is_apartment' означает, что лот не является апартаментом. Заполняю."
   ]
  },
  {
   "cell_type": "code",
   "execution_count": 12,
   "metadata": {},
   "outputs": [],
   "source": [
    "data['is_apartment'] = data['is_apartment'].fillna(False)"
   ]
  },
  {
   "cell_type": "markdown",
   "metadata": {},
   "source": [
    "Аналогично в столбце 'balcony'. Скорее всего пропуск означает, что балкона нет. И заменим тип значений на целое число."
   ]
  },
  {
   "cell_type": "code",
   "execution_count": 13,
   "metadata": {},
   "outputs": [],
   "source": [
    "data['balcony'] = data['balcony'].fillna(0)\n",
    "data['balcony'] = data['balcony'].astype('int')"
   ]
  },
  {
   "cell_type": "code",
   "execution_count": 14,
   "metadata": {},
   "outputs": [
    {
     "data": {
      "text/plain": [
       "8793      12190\n",
       "17456    430000\n",
       "14911    430000\n",
       "16274    440000\n",
       "17676    450000\n",
       "16219    450000\n",
       "5698     450000\n",
       "9581     450000\n",
       "21912    470000\n",
       "18867    470000\n",
       "Name: last_price, dtype: int64"
      ]
     },
     "execution_count": 14,
     "metadata": {},
     "output_type": "execute_result"
    }
   ],
   "source": [
    "data['last_price'] = data['last_price'].astype('int')\n",
    "data['last_price'].sort_values().head(10)"
   ]
  },
  {
   "cell_type": "markdown",
   "metadata": {},
   "source": [
    "Странный лот с ценой меньше 20 тысяч. Либо потерялись нули. Либо указана цена за квадратный метр. Удаляю."
   ]
  },
  {
   "cell_type": "code",
   "execution_count": 15,
   "metadata": {},
   "outputs": [],
   "source": [
    "data = data.drop(data.query('last_price == 12190').index)"
   ]
  },
  {
   "cell_type": "markdown",
   "metadata": {},
   "source": [
    "Возможно, пропуски в стобцах 'living_area' и 'kitchen_area' связаны с тем, что квартира имеет открытую планировку. Смотрю пересечения."
   ]
  },
  {
   "cell_type": "code",
   "execution_count": 16,
   "metadata": {},
   "outputs": [
    {
     "data": {
      "text/plain": [
       "5"
      ]
     },
     "execution_count": 16,
     "metadata": {},
     "output_type": "execute_result"
    }
   ],
   "source": [
    "data[data['open_plan'] == True]['living_area'].isna().sum()"
   ]
  },
  {
   "cell_type": "code",
   "execution_count": 17,
   "metadata": {},
   "outputs": [
    {
     "data": {
      "text/plain": [
       "67"
      ]
     },
     "execution_count": 17,
     "metadata": {},
     "output_type": "execute_result"
    }
   ],
   "source": [
    "data[data['open_plan'] == True]['kitchen_area'].isna().sum()"
   ]
  },
  {
   "cell_type": "markdown",
   "metadata": {},
   "source": [
    "Для 'living_area' пересекается всего 5 значений. Связи нет.  \n",
    "Для 'kitchen_area' таких значений 67. Остальные пропуски не связаны с параметром открытой планировки.  \n",
    "Смотрю, в каком кол-ве объявлений кол-во комнат указан ноль и не стоит пометка \"открытая планировка\""
   ]
  },
  {
   "cell_type": "code",
   "execution_count": 18,
   "metadata": {},
   "outputs": [
    {
     "data": {
      "text/plain": [
       "135"
      ]
     },
     "metadata": {},
     "output_type": "display_data"
    }
   ],
   "source": [
    "display(len(data[(data['open_plan'] != True) & (data['rooms'] == 0)]))\n",
    "data = data.drop(data[(data['open_plan'] != True) & (data['rooms'] == 0)].index)"
   ]
  },
  {
   "cell_type": "markdown",
   "metadata": {},
   "source": [
    "Это может быть ошибка заполнения данных: то ли кол-во комнат не проставлено, то ли признак открытой планировки. Строк немного.  Удаляю."
   ]
  },
  {
   "cell_type": "code",
   "execution_count": 19,
   "metadata": {},
   "outputs": [
    {
     "data": {
      "text/plain": [
       "1418"
      ]
     },
     "execution_count": 19,
     "metadata": {},
     "output_type": "execute_result"
    }
   ],
   "source": [
    "data[data['kitchen_area'].isna() == True]['living_area'].isna().sum()"
   ]
  },
  {
   "cell_type": "markdown",
   "metadata": {},
   "source": [
    "У 6% объявлений пропуски в столбцах 'living_area' и 'kitchen_area'. Это много. Заполнять значения столбцов стоит медианой. Но для начала выявляю кол-во объявлений, в которых сумма жилой зоны и кухни - больше общей площади квартиры. Избавляюсь от таких строк."
   ]
  },
  {
   "cell_type": "code",
   "execution_count": 20,
   "metadata": {},
   "outputs": [
    {
     "data": {
      "text/plain": [
       "134"
      ]
     },
     "metadata": {},
     "output_type": "display_data"
    }
   ],
   "source": [
    "display(len(data.query('living_area + kitchen_area >= total_area')))\n",
    "data = data.drop(data.query('living_area + kitchen_area > total_area').index)"
   ]
  },
  {
   "cell_type": "markdown",
   "metadata": {},
   "source": [
    "Заполняю пропуски в столбцх 'living_area' и 'kitchen_area' медианой с учётом общей площади."
   ]
  },
  {
   "cell_type": "code",
   "execution_count": 21,
   "metadata": {},
   "outputs": [],
   "source": [
    "def total_area_group (area):\n",
    "    if area <= 20:\n",
    "        return 'до 20'\n",
    "    if area <= 30:\n",
    "        return '(20, 30]'\n",
    "    if area <= 40:\n",
    "        return '(30, 40]'\n",
    "    if area <= 50:\n",
    "        return '(40, 50]'\n",
    "    if area <= 60:\n",
    "        return '(50, 60]'\n",
    "    if area <= 70:\n",
    "        return '(60, 70]'\n",
    "    if area <= 80:\n",
    "        return '(70, 80]'\n",
    "    if area <= 90:\n",
    "        return '(80, 90]'\n",
    "    if area < 100:\n",
    "        return '(90, 100]'\n",
    "    return 'больше 100'\n",
    "\n",
    "data['area_group'] = data['total_area'].apply(total_area_group)\n",
    "\n",
    "for unic_area_group in data['area_group'].unique():\n",
    "    median_living_area = data[(data['area_group'] == unic_area_group)]['living_area'].median()\n",
    "    data.loc[(data['area_group'] == unic_area_group), 'living_area'] = data.loc[(data['area_group'] == unic_area_group), 'living_area'].fillna(median_living_area)\n",
    "    median_kitchen_area = data[(data['area_group'] == unic_area_group)]['kitchen_area'].median()\n",
    "    data.loc[(data['area_group'] == unic_area_group), 'kitchen_area'] = data.loc[(data['area_group'] == unic_area_group), 'kitchen_area'].fillna(median_kitchen_area)\n",
    "    "
   ]
  },
  {
   "cell_type": "markdown",
   "metadata": {},
   "source": [
    "К сожалению, этот метод не идеален. После повторной проверки появились несоответствия общей площади и суммы жилого помещения и кухни. Удаляю."
   ]
  },
  {
   "cell_type": "code",
   "execution_count": 22,
   "metadata": {},
   "outputs": [
    {
     "data": {
      "text/plain": [
       "149"
      ]
     },
     "metadata": {},
     "output_type": "display_data"
    }
   ],
   "source": [
    "display(len(data.query('living_area + kitchen_area >= total_area')))\n",
    "data = data.drop(data.query('living_area + kitchen_area >= total_area').index)"
   ]
  },
  {
   "cell_type": "markdown",
   "metadata": {},
   "source": [
    "Меняю тип данных в столбце 'first_day_exposition' и округляю до дня."
   ]
  },
  {
   "cell_type": "code",
   "execution_count": 23,
   "metadata": {},
   "outputs": [],
   "source": [
    "data['first_day_exposition'] = pd.to_datetime(data['first_day_exposition'], format = '%Y-%m-%dT%H:%M:%S')"
   ]
  },
  {
   "cell_type": "markdown",
   "metadata": {},
   "source": [
    "Пропуски в столбце 'days_exposition' могут означать, что к моменту выгрузки данных квартира не была продана. Можно заполнить данные разницей между датой размещения объявления, до даты последнего размещённого объявления в выгрузке."
   ]
  },
  {
   "cell_type": "code",
   "execution_count": 24,
   "metadata": {},
   "outputs": [],
   "source": [
    "last_date = data['first_day_exposition'].max()\n",
    "data['days_exposition'] = data['days_exposition'].fillna((last_date - data['first_day_exposition']).dt.days)"
   ]
  },
  {
   "cell_type": "code",
   "execution_count": 25,
   "metadata": {},
   "outputs": [
    {
     "data": {
      "text/plain": [
       "2018    8333\n",
       "2017    8041\n",
       "2019    2823\n",
       "2016    2717\n",
       "2015    1157\n",
       "2014     131\n",
       "Name: first_day_exposition, dtype: int64"
      ]
     },
     "execution_count": 25,
     "metadata": {},
     "output_type": "execute_result"
    }
   ],
   "source": [
    "data['first_day_exposition'].dt.year.value_counts()"
   ]
  },
  {
   "cell_type": "markdown",
   "metadata": {},
   "source": [
    "Проверка на дубликаты."
   ]
  },
  {
   "cell_type": "code",
   "execution_count": 26,
   "metadata": {},
   "outputs": [
    {
     "data": {
      "text/plain": [
       "0"
      ]
     },
     "execution_count": 26,
     "metadata": {},
     "output_type": "execute_result"
    }
   ],
   "source": [
    "data.duplicated().sum()"
   ]
  },
  {
   "cell_type": "markdown",
   "metadata": {},
   "source": [
    "Удалённых данных 1,7%  \n",
    "Найдено несоответствие данных в стобцах с кол-ом комнат и информацией об открытой планировке.  \n",
    "Найдены несоответствие данных в стобцах с общим метражем квартиры, жилой площадью и площадью кухни: у 134 объявлений общая площадь картиры была меньше или равна сумме жилых помещений и кухни.  \n",
    "Заменен тип в стобцах с кол-вом этажей, балконов, ценой на момент снятия публикации и датой размещения объявления."
   ]
  },
  {
   "cell_type": "markdown",
   "metadata": {},
   "source": [
    "## Расчёты и добавление результатов в таблицу"
   ]
  },
  {
   "cell_type": "markdown",
   "metadata": {},
   "source": [
    "Считаю и добавляю цену квадратного метра"
   ]
  },
  {
   "cell_type": "code",
   "execution_count": 27,
   "metadata": {},
   "outputs": [],
   "source": [
    "data['square_meter_price'] = data['last_price'] / data ['total_area']"
   ]
  },
  {
   "cell_type": "markdown",
   "metadata": {},
   "source": [
    "День недели, месяц и год публикации объявления;"
   ]
  },
  {
   "cell_type": "code",
   "execution_count": 28,
   "metadata": {},
   "outputs": [],
   "source": [
    "data['week_day_exposition'] = data['first_day_exposition'].dt.weekday"
   ]
  },
  {
   "cell_type": "markdown",
   "metadata": {},
   "source": [
    "Добавляю категорию по этажу квартиры: первый, последний, другой;"
   ]
  },
  {
   "cell_type": "code",
   "execution_count": 29,
   "metadata": {},
   "outputs": [],
   "source": [
    "def floor_group (row):\n",
    "    floor = row['floor']\n",
    "    fl_total = row['floors_total']\n",
    "    if floor == 1:\n",
    "        return 'первый'\n",
    "    if floor == fl_total:\n",
    "        return 'последний'\n",
    "    return 'другой'\n",
    "data['floor_group'] = data.apply(floor_group, axis = 1)"
   ]
  },
  {
   "cell_type": "markdown",
   "metadata": {},
   "source": [
    "Добавляю соотношение жилой и общей площади, cотношение площади кухни к общей. "
   ]
  },
  {
   "cell_type": "code",
   "execution_count": 30,
   "metadata": {},
   "outputs": [],
   "source": [
    "data['living_area_ratio'] = data ['living_area'] / data ['total_area']\n",
    "data['kitchen_area_ratio'] = data ['kitchen_area'] / data ['total_area']"
   ]
  },
  {
   "cell_type": "code",
   "execution_count": 31,
   "metadata": {},
   "outputs": [],
   "source": [
    "data['first_day_exposition'] = data['first_day_exposition'].dt.to_period('M')"
   ]
  },
  {
   "cell_type": "code",
   "execution_count": 32,
   "metadata": {},
   "outputs": [],
   "source": [
    "data['month_exposition'] = data['first_day_exposition'].dt.month"
   ]
  },
  {
   "cell_type": "markdown",
   "metadata": {},
   "source": [
    "## Исследовательский анализ данных"
   ]
  },
  {
   "cell_type": "markdown",
   "metadata": {},
   "source": [
    "Строим график по параметру общей площади."
   ]
  },
  {
   "cell_type": "code",
   "execution_count": 33,
   "metadata": {},
   "outputs": [
    {
     "data": {
      "text/plain": [
       "<AxesSubplot:>"
      ]
     },
     "execution_count": 33,
     "metadata": {},
     "output_type": "execute_result"
    },
    {
     "data": {
      "image/png": "[encoded data removed]",
      "text/plain": [
       "<Figure size 432x288 with 1 Axes>"
      ]
     },
     "metadata": {
      "needs_background": "light"
     },
     "output_type": "display_data"
    }
   ],
   "source": [
    "data['total_area'].hist(bins = 42)"
   ]
  },
  {
   "cell_type": "code",
   "execution_count": 34,
   "metadata": {},
   "outputs": [
    {
     "data": {
      "text/plain": [
       "(0.0, 150.0)"
      ]
     },
     "execution_count": 34,
     "metadata": {},
     "output_type": "execute_result"
    },
    {
     "data": {
      "image/png": "[encoded data removed]",
      "text/plain": [
       "<Figure size 432x288 with 1 Axes>"
      ]
     },
     "metadata": {
      "needs_background": "light"
     },
     "output_type": "display_data"
    }
   ],
   "source": [
    "data.boxplot(column=['total_area'])\n",
    "plt.ylim([0, 150])"
   ]
  },
  {
   "cell_type": "markdown",
   "metadata": {},
   "source": [
    "Большая часть размещённых объявлений: квартиры площадью от 20 до 120 квадратных метров. Основной объём объявлений составляют квартиры от 40 до 70 кв.метров. \n",
    "Сторим гистограмму по параметру цены"
   ]
  },
  {
   "cell_type": "code",
   "execution_count": 35,
   "metadata": {},
   "outputs": [
    {
     "data": {
      "text/plain": [
       "<AxesSubplot:>"
      ]
     },
     "execution_count": 35,
     "metadata": {},
     "output_type": "execute_result"
    },
    {
     "data": {
      "image/png": "[encoded data removed]",
      "text/plain": [
       "<Figure size 432x288 with 1 Axes>"
      ]
     },
     "metadata": {
      "needs_background": "light"
     },
     "output_type": "display_data"
    }
   ],
   "source": [
    "data['last_price'].hist(bins = 10)"
   ]
  },
  {
   "cell_type": "code",
   "execution_count": 36,
   "metadata": {},
   "outputs": [
    {
     "data": {
      "text/plain": [
       "<AxesSubplot:>"
      ]
     },
     "execution_count": 36,
     "metadata": {},
     "output_type": "execute_result"
    },
    {
     "data": {
      "image/png": "[encoded data removed]",
      "text/plain": [
       "<Figure size 432x288 with 1 Axes>"
      ]
     },
     "metadata": {
      "needs_background": "light"
     },
     "output_type": "display_data"
    }
   ],
   "source": [
    "data['last_price'].hist(range = (0, 50000000), bins = 10)"
   ]
  },
  {
   "cell_type": "markdown",
   "metadata": {},
   "source": [
    "Основная часть квартир продатся в пределах 10 млн. за лот.  \n",
    "Строим график по параметру кол-во комнат"
   ]
  },
  {
   "cell_type": "code",
   "execution_count": 37,
   "metadata": {},
   "outputs": [
    {
     "data": {
      "text/plain": [
       "<AxesSubplot:>"
      ]
     },
     "execution_count": 37,
     "metadata": {},
     "output_type": "execute_result"
    },
    {
     "data": {
      "image/png": "[encoded data removed]",
      "text/plain": [
       "<Figure size 432x288 with 1 Axes>"
      ]
     },
     "metadata": {
      "needs_background": "light"
     },
     "output_type": "display_data"
    }
   ],
   "source": [
    "data['rooms'].hist(bins = 20)"
   ]
  },
  {
   "cell_type": "markdown",
   "metadata": {},
   "source": [
    "Большая часть объявлений - квартиры в которых не больше 3 комнат.Встречаются и многокомнатные варианты, свыше 7 комнат. Но это довольно редкие объявления.    \n",
    "Строим гистограмму по высоте потолков"
   ]
  },
  {
   "cell_type": "code",
   "execution_count": 38,
   "metadata": {},
   "outputs": [
    {
     "data": {
      "text/plain": [
       "<AxesSubplot:>"
      ]
     },
     "execution_count": 38,
     "metadata": {},
     "output_type": "execute_result"
    },
    {
     "data": {
      "image/png": "[encoded data removed]",
      "text/plain": [
       "<Figure size 432x288 with 1 Axes>"
      ]
     },
     "metadata": {
      "needs_background": "light"
     },
     "output_type": "display_data"
    }
   ],
   "source": [
    "data['ceiling_height'].hist(bins = 100)"
   ]
  },
  {
   "cell_type": "code",
   "execution_count": 39,
   "metadata": {},
   "outputs": [
    {
     "data": {
      "text/plain": [
       "<AxesSubplot:>"
      ]
     },
     "execution_count": 39,
     "metadata": {},
     "output_type": "execute_result"
    },
    {
     "data": {
      "image/png": "[encoded data removed]",
      "text/plain": [
       "<Figure size 432x288 with 1 Axes>"
      ]
     },
     "metadata": {
      "needs_background": "light"
     },
     "output_type": "display_data"
    }
   ],
   "source": [
    "data['ceiling_height'].hist(range = (2, 4), bins = 6)"
   ]
  },
  {
   "cell_type": "code",
   "execution_count": 40,
   "metadata": {},
   "outputs": [
    {
     "data": {
      "text/plain": [
       "(0.0, 10.0)"
      ]
     },
     "execution_count": 40,
     "metadata": {},
     "output_type": "execute_result"
    },
    {
     "data": {
      "image/png": "[encoded data removed]",
      "text/plain": [
       "<Figure size 432x288 with 1 Axes>"
      ]
     },
     "metadata": {
      "needs_background": "light"
     },
     "output_type": "display_data"
    }
   ],
   "source": [
    "data.boxplot(column=['ceiling_height'])\n",
    "plt.ylim([0, 10])"
   ]
  },
  {
   "cell_type": "markdown",
   "metadata": {},
   "source": [
    "Высота потолков укладывается в значение от 2,4 до 3 метров. Встречаются редкие значения с высотой ниже (от объявлений с потолками ниже 2,1 метра избавилась на этапе преподготовки данных) Ещё более редкие лоты с высотой выше 6 метров. Из общей массы выбиваются дворцы со 100 метровыми потолками  \n",
    "Строю гистограмму по кол-ву дней в продаже."
   ]
  },
  {
   "cell_type": "code",
   "execution_count": 41,
   "metadata": {},
   "outputs": [
    {
     "data": {
      "text/plain": [
       "<AxesSubplot:>"
      ]
     },
     "execution_count": 41,
     "metadata": {},
     "output_type": "execute_result"
    },
    {
     "data": {
      "image/png": "[encoded data removed]",
      "text/plain": [
       "<Figure size 432x288 with 1 Axes>"
      ]
     },
     "metadata": {
      "needs_background": "light"
     },
     "output_type": "display_data"
    }
   ],
   "source": [
    "data['days_exposition'].hist(bins = 100)"
   ]
  },
  {
   "cell_type": "code",
   "execution_count": 42,
   "metadata": {},
   "outputs": [
    {
     "data": {
      "text/plain": [
       "count   23202.000000\n",
       "mean      186.455133\n",
       "std       233.903672\n",
       "min         0.000000\n",
       "25%        43.000000\n",
       "50%        95.000000\n",
       "75%       238.000000\n",
       "max      1618.000000\n",
       "Name: days_exposition, dtype: float64"
      ]
     },
     "execution_count": 42,
     "metadata": {},
     "output_type": "execute_result"
    }
   ],
   "source": [
    "data['days_exposition'].describe()"
   ]
  },
  {
   "cell_type": "markdown",
   "metadata": {},
   "source": [
    "Основная часть квартир ждёт покупателя не более 250 дней.  \n",
    "Половина покупок совершается в первые три месяца.  \n",
    "Быстрой можно считать продажу в первые 6 недель размещения.  \n",
    "Строю гистограммы по доле жилой площади и доле кухни."
   ]
  },
  {
   "cell_type": "code",
   "execution_count": 43,
   "metadata": {},
   "outputs": [
    {
     "data": {
      "text/plain": [
       "<AxesSubplot:>"
      ]
     },
     "execution_count": 43,
     "metadata": {},
     "output_type": "execute_result"
    },
    {
     "data": {
      "image/png": "[encoded data removed]",
      "text/plain": [
       "<Figure size 432x288 with 1 Axes>"
      ]
     },
     "metadata": {
      "needs_background": "light"
     },
     "output_type": "display_data"
    }
   ],
   "source": [
    "data['living_area_ratio'].hist(bins=20)"
   ]
  },
  {
   "cell_type": "code",
   "execution_count": 44,
   "metadata": {
    "scrolled": true
   },
   "outputs": [
    {
     "data": {
      "text/plain": [
       "<AxesSubplot:>"
      ]
     },
     "execution_count": 44,
     "metadata": {},
     "output_type": "execute_result"
    },
    {
     "data": {
      "image/png": "[encoded data removed]",
      "text/plain": [
       "<Figure size 432x288 with 1 Axes>"
      ]
     },
     "metadata": {
      "needs_background": "light"
     },
     "output_type": "display_data"
    }
   ],
   "source": [
    "data['kitchen_area_ratio'].hist(bins=20)"
   ]
  },
  {
   "cell_type": "markdown",
   "metadata": {},
   "source": [
    "Убираю редкие и выбивающиеся значения. В первую очередь - квартиры дороже 50 млн, лоты с потолками выше 4 метров, квартиры с долей жилой площади ниже 30% и с кухней больше 30% и многокомнатные экземляры, свыше 5 комнат)"
   ]
  },
  {
   "cell_type": "markdown",
   "metadata": {},
   "source": [
    "Сохраняю в отдельный датасет данные после предобработки."
   ]
  },
  {
   "cell_type": "code",
   "execution_count": 46,
   "metadata": {
    "scrolled": true
   },
   "outputs": [
    {
     "data": {
      "text/html": [
       "<div>\n",
       "<style scoped>\n",
       "    .dataframe tbody tr th:only-of-type {\n",
       "        vertical-align: middle;\n",
       "    }\n",
       "\n",
       "    .dataframe tbody tr th {\n",
       "        vertical-align: top;\n",
       "    }\n",
       "\n",
       "    .dataframe thead th {\n",
       "        text-align: right;\n",
       "    }\n",
       "</style>\n",
       "<table border=\"1\" class=\"dataframe\">\n",
       "  <thead>\n",
       "    <tr style=\"text-align: right;\">\n",
       "      <th></th>\n",
       "      <th>total_images</th>\n",
       "      <th>last_price</th>\n",
       "      <th>total_area</th>\n",
       "      <th>rooms</th>\n",
       "      <th>ceiling_height</th>\n",
       "      <th>floors_total</th>\n",
       "      <th>living_area</th>\n",
       "      <th>floor</th>\n",
       "      <th>kitchen_area</th>\n",
       "      <th>balcony</th>\n",
       "      <th>...</th>\n",
       "      <th>parks_around3000</th>\n",
       "      <th>parks_nearest</th>\n",
       "      <th>ponds_around3000</th>\n",
       "      <th>ponds_nearest</th>\n",
       "      <th>days_exposition</th>\n",
       "      <th>square_meter_price</th>\n",
       "      <th>week_day_exposition</th>\n",
       "      <th>living_area_ratio</th>\n",
       "      <th>kitchen_area_ratio</th>\n",
       "      <th>month_exposition</th>\n",
       "    </tr>\n",
       "  </thead>\n",
       "  <tbody>\n",
       "    <tr>\n",
       "      <th>count</th>\n",
       "      <td>23202.000000</td>\n",
       "      <td>23202.000000</td>\n",
       "      <td>23202.000000</td>\n",
       "      <td>23202.000000</td>\n",
       "      <td>23202.000000</td>\n",
       "      <td>23202.000000</td>\n",
       "      <td>23202.000000</td>\n",
       "      <td>23202.000000</td>\n",
       "      <td>23202.000000</td>\n",
       "      <td>23202.000000</td>\n",
       "      <td>...</td>\n",
       "      <td>17840.000000</td>\n",
       "      <td>7943.000000</td>\n",
       "      <td>17840.000000</td>\n",
       "      <td>8921.000000</td>\n",
       "      <td>23202.000000</td>\n",
       "      <td>23202.000000</td>\n",
       "      <td>23202.000000</td>\n",
       "      <td>23202.000000</td>\n",
       "      <td>23202.000000</td>\n",
       "      <td>23202.000000</td>\n",
       "    </tr>\n",
       "    <tr>\n",
       "      <th>mean</th>\n",
       "      <td>9.897164</td>\n",
       "      <td>6564349.122791</td>\n",
       "      <td>60.631288</td>\n",
       "      <td>2.086932</td>\n",
       "      <td>2.738021</td>\n",
       "      <td>10.625765</td>\n",
       "      <td>34.553446</td>\n",
       "      <td>5.858202</td>\n",
       "      <td>10.424354</td>\n",
       "      <td>0.590078</td>\n",
       "      <td>...</td>\n",
       "      <td>0.612668</td>\n",
       "      <td>490.379328</td>\n",
       "      <td>0.768722</td>\n",
       "      <td>518.214326</td>\n",
       "      <td>186.455133</td>\n",
       "      <td>99210.517596</td>\n",
       "      <td>2.566934</td>\n",
       "      <td>0.562793</td>\n",
       "      <td>0.186000</td>\n",
       "      <td>6.399491</td>\n",
       "    </tr>\n",
       "    <tr>\n",
       "      <th>std</th>\n",
       "      <td>5.678211</td>\n",
       "      <td>10935363.169542</td>\n",
       "      <td>35.709689</td>\n",
       "      <td>1.069574</td>\n",
       "      <td>0.730802</td>\n",
       "      <td>6.561705</td>\n",
       "      <td>21.672709</td>\n",
       "      <td>4.852559</td>\n",
       "      <td>5.657875</td>\n",
       "      <td>0.959061</td>\n",
       "      <td>...</td>\n",
       "      <td>0.802748</td>\n",
       "      <td>340.712340</td>\n",
       "      <td>0.938006</td>\n",
       "      <td>277.818329</td>\n",
       "      <td>233.903672</td>\n",
       "      <td>50084.437989</td>\n",
       "      <td>1.787883</td>\n",
       "      <td>0.100331</td>\n",
       "      <td>0.069853</td>\n",
       "      <td>3.494293</td>\n",
       "    </tr>\n",
       "    <tr>\n",
       "      <th>min</th>\n",
       "      <td>0.000000</td>\n",
       "      <td>430000.000000</td>\n",
       "      <td>14.000000</td>\n",
       "      <td>0.000000</td>\n",
       "      <td>2.250000</td>\n",
       "      <td>1.000000</td>\n",
       "      <td>2.000000</td>\n",
       "      <td>1.000000</td>\n",
       "      <td>1.300000</td>\n",
       "      <td>0.000000</td>\n",
       "      <td>...</td>\n",
       "      <td>0.000000</td>\n",
       "      <td>1.000000</td>\n",
       "      <td>0.000000</td>\n",
       "      <td>13.000000</td>\n",
       "      <td>0.000000</td>\n",
       "      <td>7962.962963</td>\n",
       "      <td>0.000000</td>\n",
       "      <td>0.021583</td>\n",
       "      <td>0.025381</td>\n",
       "      <td>1.000000</td>\n",
       "    </tr>\n",
       "    <tr>\n",
       "      <th>25%</th>\n",
       "      <td>6.000000</td>\n",
       "      <td>3450000.000000</td>\n",
       "      <td>40.200000</td>\n",
       "      <td>1.000000</td>\n",
       "      <td>2.600000</td>\n",
       "      <td>5.000000</td>\n",
       "      <td>18.700000</td>\n",
       "      <td>2.000000</td>\n",
       "      <td>7.100000</td>\n",
       "      <td>0.000000</td>\n",
       "      <td>...</td>\n",
       "      <td>0.000000</td>\n",
       "      <td>288.000000</td>\n",
       "      <td>0.000000</td>\n",
       "      <td>293.000000</td>\n",
       "      <td>43.000000</td>\n",
       "      <td>76493.421053</td>\n",
       "      <td>1.000000</td>\n",
       "      <td>0.498399</td>\n",
       "      <td>0.135609</td>\n",
       "      <td>3.000000</td>\n",
       "    </tr>\n",
       "    <tr>\n",
       "      <th>50%</th>\n",
       "      <td>9.000000</td>\n",
       "      <td>4650000.000000</td>\n",
       "      <td>52.000000</td>\n",
       "      <td>2.000000</td>\n",
       "      <td>2.700000</td>\n",
       "      <td>9.000000</td>\n",
       "      <td>30.000000</td>\n",
       "      <td>4.000000</td>\n",
       "      <td>9.000000</td>\n",
       "      <td>0.000000</td>\n",
       "      <td>...</td>\n",
       "      <td>0.000000</td>\n",
       "      <td>455.000000</td>\n",
       "      <td>1.000000</td>\n",
       "      <td>503.000000</td>\n",
       "      <td>95.000000</td>\n",
       "      <td>94838.541667</td>\n",
       "      <td>3.000000</td>\n",
       "      <td>0.568750</td>\n",
       "      <td>0.170940</td>\n",
       "      <td>6.000000</td>\n",
       "    </tr>\n",
       "    <tr>\n",
       "      <th>75%</th>\n",
       "      <td>14.000000</td>\n",
       "      <td>6800000.000000</td>\n",
       "      <td>70.000000</td>\n",
       "      <td>3.000000</td>\n",
       "      <td>2.700000</td>\n",
       "      <td>16.000000</td>\n",
       "      <td>42.400000</td>\n",
       "      <td>8.000000</td>\n",
       "      <td>11.800000</td>\n",
       "      <td>1.000000</td>\n",
       "      <td>...</td>\n",
       "      <td>1.000000</td>\n",
       "      <td>612.000000</td>\n",
       "      <td>1.000000</td>\n",
       "      <td>730.000000</td>\n",
       "      <td>238.000000</td>\n",
       "      <td>114000.000000</td>\n",
       "      <td>4.000000</td>\n",
       "      <td>0.632653</td>\n",
       "      <td>0.228935</td>\n",
       "      <td>10.000000</td>\n",
       "    </tr>\n",
       "    <tr>\n",
       "      <th>max</th>\n",
       "      <td>50.000000</td>\n",
       "      <td>763000000.000000</td>\n",
       "      <td>900.000000</td>\n",
       "      <td>19.000000</td>\n",
       "      <td>32.000000</td>\n",
       "      <td>60.000000</td>\n",
       "      <td>409.700000</td>\n",
       "      <td>33.000000</td>\n",
       "      <td>112.000000</td>\n",
       "      <td>5.000000</td>\n",
       "      <td>...</td>\n",
       "      <td>3.000000</td>\n",
       "      <td>3190.000000</td>\n",
       "      <td>3.000000</td>\n",
       "      <td>1344.000000</td>\n",
       "      <td>1618.000000</td>\n",
       "      <td>1907500.000000</td>\n",
       "      <td>6.000000</td>\n",
       "      <td>0.908439</td>\n",
       "      <td>0.724638</td>\n",
       "      <td>12.000000</td>\n",
       "    </tr>\n",
       "  </tbody>\n",
       "</table>\n",
       "<p>8 rows × 22 columns</p>\n",
       "</div>"
      ],
      "text/plain": [
       "       total_images       last_price   total_area        rooms  \\\n",
       "count  23202.000000     23202.000000 23202.000000 23202.000000   \n",
       "mean       9.897164   6564349.122791    60.631288     2.086932   \n",
       "std        5.678211  10935363.169542    35.709689     1.069574   \n",
       "min        0.000000    430000.000000    14.000000     0.000000   \n",
       "25%        6.000000   3450000.000000    40.200000     1.000000   \n",
       "50%        9.000000   4650000.000000    52.000000     2.000000   \n",
       "75%       14.000000   6800000.000000    70.000000     3.000000   \n",
       "max       50.000000 763000000.000000   900.000000    19.000000   \n",
       "\n",
       "       ceiling_height  floors_total  living_area        floor  kitchen_area  \\\n",
       "count    23202.000000  23202.000000 23202.000000 23202.000000  23202.000000   \n",
       "mean         2.738021     10.625765    34.553446     5.858202     10.424354   \n",
       "std          0.730802      6.561705    21.672709     4.852559      5.657875   \n",
       "min          2.250000      1.000000     2.000000     1.000000      1.300000   \n",
       "25%          2.600000      5.000000    18.700000     2.000000      7.100000   \n",
       "50%          2.700000      9.000000    30.000000     4.000000      9.000000   \n",
       "75%          2.700000     16.000000    42.400000     8.000000     11.800000   \n",
       "max         32.000000     60.000000   409.700000    33.000000    112.000000   \n",
       "\n",
       "           balcony  ...  parks_around3000  parks_nearest  ponds_around3000  \\\n",
       "count 23202.000000  ...      17840.000000    7943.000000      17840.000000   \n",
       "mean      0.590078  ...          0.612668     490.379328          0.768722   \n",
       "std       0.959061  ...          0.802748     340.712340          0.938006   \n",
       "min       0.000000  ...          0.000000       1.000000          0.000000   \n",
       "25%       0.000000  ...          0.000000     288.000000          0.000000   \n",
       "50%       0.000000  ...          0.000000     455.000000          1.000000   \n",
       "75%       1.000000  ...          1.000000     612.000000          1.000000   \n",
       "max       5.000000  ...          3.000000    3190.000000          3.000000   \n",
       "\n",
       "       ponds_nearest  days_exposition  square_meter_price  \\\n",
       "count    8921.000000     23202.000000        23202.000000   \n",
       "mean      518.214326       186.455133        99210.517596   \n",
       "std       277.818329       233.903672        50084.437989   \n",
       "min        13.000000         0.000000         7962.962963   \n",
       "25%       293.000000        43.000000        76493.421053   \n",
       "50%       503.000000        95.000000        94838.541667   \n",
       "75%       730.000000       238.000000       114000.000000   \n",
       "max      1344.000000      1618.000000      1907500.000000   \n",
       "\n",
       "       week_day_exposition  living_area_ratio  kitchen_area_ratio  \\\n",
       "count         23202.000000       23202.000000        23202.000000   \n",
       "mean              2.566934           0.562793            0.186000   \n",
       "std               1.787883           0.100331            0.069853   \n",
       "min               0.000000           0.021583            0.025381   \n",
       "25%               1.000000           0.498399            0.135609   \n",
       "50%               3.000000           0.568750            0.170940   \n",
       "75%               4.000000           0.632653            0.228935   \n",
       "max               6.000000           0.908439            0.724638   \n",
       "\n",
       "       month_exposition  \n",
       "count      23202.000000  \n",
       "mean           6.399491  \n",
       "std            3.494293  \n",
       "min            1.000000  \n",
       "25%            3.000000  \n",
       "50%            6.000000  \n",
       "75%           10.000000  \n",
       "max           12.000000  \n",
       "\n",
       "[8 rows x 22 columns]"
      ]
     },
     "execution_count": 46,
     "metadata": {},
     "output_type": "execute_result"
    }
   ],
   "source": [
    "data_not_filtred = data\n",
    "data_not_filtred.describe()"
   ]
  },
  {
   "cell_type": "code",
   "execution_count": 47,
   "metadata": {},
   "outputs": [
    {
     "data": {
      "text/plain": [
       "130"
      ]
     },
     "execution_count": 47,
     "metadata": {},
     "output_type": "execute_result"
    }
   ],
   "source": [
    "len(data_not_filtred.query('last_price > 50000000'))"
   ]
  },
  {
   "cell_type": "code",
   "execution_count": 48,
   "metadata": {},
   "outputs": [
    {
     "data": {
      "text/plain": [
       "70"
      ]
     },
     "execution_count": 48,
     "metadata": {},
     "output_type": "execute_result"
    }
   ],
   "source": [
    "len(data_not_filtred.query('ceiling_height > 4'))"
   ]
  },
  {
   "cell_type": "code",
   "execution_count": 49,
   "metadata": {},
   "outputs": [
    {
     "data": {
      "text/plain": [
       "192"
      ]
     },
     "execution_count": 49,
     "metadata": {},
     "output_type": "execute_result"
    }
   ],
   "source": [
    "len(data_not_filtred.query('rooms > 5'))"
   ]
  },
  {
   "cell_type": "code",
   "execution_count": 50,
   "metadata": {},
   "outputs": [
    {
     "data": {
      "text/plain": [
       "204"
      ]
     },
     "execution_count": 50,
     "metadata": {},
     "output_type": "execute_result"
    }
   ],
   "source": [
    "len(data_not_filtred.query('living_area_ratio < 0.3'))"
   ]
  },
  {
   "cell_type": "code",
   "execution_count": 51,
   "metadata": {},
   "outputs": [
    {
     "data": {
      "text/plain": [
       "1321"
      ]
     },
     "execution_count": 51,
     "metadata": {},
     "output_type": "execute_result"
    }
   ],
   "source": [
    "len(data_not_filtred.query('kitchen_area_ratio > 0.3'))"
   ]
  },
  {
   "cell_type": "markdown",
   "metadata": {},
   "source": [
    "Добавляю фильтр, чтобы убрать редкие и выбивающиеся значения: \n",
    "Квартиры, дороже 50 млн. Таких лотов всего 130.  \n",
    "Лоты с потолками выше 4 метров. Таких объявлений всего 70.    \n",
    "Многокомнатные экземляры, с кол-вом комнат больше 5. Таких квартир всего 192.  \n",
    "Квартиры с долей жилой площади ниже 30%. В данном случае ркуоводствуюсь исключительно здравым смыслом. Такие экземпляры не кажутся правдоподобными. Оять же их небольшое кол-во: 204 штуки.  \n",
    "Квартиры с кухней больше 30% "
   ]
  },
  {
   "cell_type": "code",
   "execution_count": 52,
   "metadata": {},
   "outputs": [
    {
     "data": {
      "text/html": [
       "<div>\n",
       "<style scoped>\n",
       "    .dataframe tbody tr th:only-of-type {\n",
       "        vertical-align: middle;\n",
       "    }\n",
       "\n",
       "    .dataframe tbody tr th {\n",
       "        vertical-align: top;\n",
       "    }\n",
       "\n",
       "    .dataframe thead th {\n",
       "        text-align: right;\n",
       "    }\n",
       "</style>\n",
       "<table border=\"1\" class=\"dataframe\">\n",
       "  <thead>\n",
       "    <tr style=\"text-align: right;\">\n",
       "      <th></th>\n",
       "      <th>total_images</th>\n",
       "      <th>last_price</th>\n",
       "      <th>total_area</th>\n",
       "      <th>rooms</th>\n",
       "      <th>ceiling_height</th>\n",
       "      <th>floors_total</th>\n",
       "      <th>living_area</th>\n",
       "      <th>floor</th>\n",
       "      <th>kitchen_area</th>\n",
       "      <th>balcony</th>\n",
       "      <th>...</th>\n",
       "      <th>parks_around3000</th>\n",
       "      <th>parks_nearest</th>\n",
       "      <th>ponds_around3000</th>\n",
       "      <th>ponds_nearest</th>\n",
       "      <th>days_exposition</th>\n",
       "      <th>square_meter_price</th>\n",
       "      <th>week_day_exposition</th>\n",
       "      <th>living_area_ratio</th>\n",
       "      <th>kitchen_area_ratio</th>\n",
       "      <th>month_exposition</th>\n",
       "    </tr>\n",
       "  </thead>\n",
       "  <tbody>\n",
       "    <tr>\n",
       "      <th>count</th>\n",
       "      <td>21428.000000</td>\n",
       "      <td>21428.000000</td>\n",
       "      <td>21428.000000</td>\n",
       "      <td>21428.000000</td>\n",
       "      <td>21428.000000</td>\n",
       "      <td>21428.000000</td>\n",
       "      <td>21428.000000</td>\n",
       "      <td>21428.000000</td>\n",
       "      <td>21428.000000</td>\n",
       "      <td>21428.000000</td>\n",
       "      <td>...</td>\n",
       "      <td>16392.000000</td>\n",
       "      <td>7230.000000</td>\n",
       "      <td>16392.000000</td>\n",
       "      <td>8057.000000</td>\n",
       "      <td>21428.000000</td>\n",
       "      <td>21428.000000</td>\n",
       "      <td>21428.000000</td>\n",
       "      <td>21428.000000</td>\n",
       "      <td>21428.000000</td>\n",
       "      <td>21428.000000</td>\n",
       "    </tr>\n",
       "    <tr>\n",
       "      <th>mean</th>\n",
       "      <td>9.853649</td>\n",
       "      <td>5821845.968826</td>\n",
       "      <td>58.528614</td>\n",
       "      <td>2.076535</td>\n",
       "      <td>2.703158</td>\n",
       "      <td>10.486933</td>\n",
       "      <td>33.938180</td>\n",
       "      <td>5.780707</td>\n",
       "      <td>9.668861</td>\n",
       "      <td>0.591376</td>\n",
       "      <td>...</td>\n",
       "      <td>0.600537</td>\n",
       "      <td>490.645090</td>\n",
       "      <td>0.745608</td>\n",
       "      <td>523.613007</td>\n",
       "      <td>184.408578</td>\n",
       "      <td>95928.091696</td>\n",
       "      <td>2.566362</td>\n",
       "      <td>0.572385</td>\n",
       "      <td>0.176470</td>\n",
       "      <td>6.394111</td>\n",
       "    </tr>\n",
       "    <tr>\n",
       "      <th>std</th>\n",
       "      <td>5.641443</td>\n",
       "      <td>4560088.525927</td>\n",
       "      <td>26.921601</td>\n",
       "      <td>0.954035</td>\n",
       "      <td>0.188235</td>\n",
       "      <td>6.451254</td>\n",
       "      <td>17.138003</td>\n",
       "      <td>4.778730</td>\n",
       "      <td>3.982525</td>\n",
       "      <td>0.963856</td>\n",
       "      <td>...</td>\n",
       "      <td>0.791261</td>\n",
       "      <td>335.335978</td>\n",
       "      <td>0.922313</td>\n",
       "      <td>277.160042</td>\n",
       "      <td>231.810509</td>\n",
       "      <td>38024.566657</td>\n",
       "      <td>1.789953</td>\n",
       "      <td>0.090989</td>\n",
       "      <td>0.054492</td>\n",
       "      <td>3.493647</td>\n",
       "    </tr>\n",
       "    <tr>\n",
       "      <th>min</th>\n",
       "      <td>0.000000</td>\n",
       "      <td>430000.000000</td>\n",
       "      <td>14.000000</td>\n",
       "      <td>0.000000</td>\n",
       "      <td>2.250000</td>\n",
       "      <td>1.000000</td>\n",
       "      <td>8.300000</td>\n",
       "      <td>1.000000</td>\n",
       "      <td>1.300000</td>\n",
       "      <td>0.000000</td>\n",
       "      <td>...</td>\n",
       "      <td>0.000000</td>\n",
       "      <td>1.000000</td>\n",
       "      <td>0.000000</td>\n",
       "      <td>13.000000</td>\n",
       "      <td>0.000000</td>\n",
       "      <td>7962.962963</td>\n",
       "      <td>0.000000</td>\n",
       "      <td>0.301170</td>\n",
       "      <td>0.042810</td>\n",
       "      <td>1.000000</td>\n",
       "    </tr>\n",
       "    <tr>\n",
       "      <th>25%</th>\n",
       "      <td>6.000000</td>\n",
       "      <td>3400000.000000</td>\n",
       "      <td>40.500000</td>\n",
       "      <td>1.000000</td>\n",
       "      <td>2.600000</td>\n",
       "      <td>5.000000</td>\n",
       "      <td>19.100000</td>\n",
       "      <td>2.000000</td>\n",
       "      <td>7.000000</td>\n",
       "      <td>0.000000</td>\n",
       "      <td>...</td>\n",
       "      <td>0.000000</td>\n",
       "      <td>289.000000</td>\n",
       "      <td>0.000000</td>\n",
       "      <td>302.000000</td>\n",
       "      <td>43.000000</td>\n",
       "      <td>75431.946007</td>\n",
       "      <td>1.000000</td>\n",
       "      <td>0.510979</td>\n",
       "      <td>0.134615</td>\n",
       "      <td>3.000000</td>\n",
       "    </tr>\n",
       "    <tr>\n",
       "      <th>50%</th>\n",
       "      <td>9.000000</td>\n",
       "      <td>4600000.000000</td>\n",
       "      <td>52.450000</td>\n",
       "      <td>2.000000</td>\n",
       "      <td>2.700000</td>\n",
       "      <td>9.000000</td>\n",
       "      <td>30.600000</td>\n",
       "      <td>4.000000</td>\n",
       "      <td>8.900000</td>\n",
       "      <td>0.000000</td>\n",
       "      <td>...</td>\n",
       "      <td>0.000000</td>\n",
       "      <td>456.000000</td>\n",
       "      <td>0.000000</td>\n",
       "      <td>509.000000</td>\n",
       "      <td>93.000000</td>\n",
       "      <td>93750.000000</td>\n",
       "      <td>3.000000</td>\n",
       "      <td>0.575080</td>\n",
       "      <td>0.166667</td>\n",
       "      <td>6.000000</td>\n",
       "    </tr>\n",
       "    <tr>\n",
       "      <th>75%</th>\n",
       "      <td>14.000000</td>\n",
       "      <td>6600000.000000</td>\n",
       "      <td>69.000000</td>\n",
       "      <td>3.000000</td>\n",
       "      <td>2.700000</td>\n",
       "      <td>15.000000</td>\n",
       "      <td>42.500000</td>\n",
       "      <td>8.000000</td>\n",
       "      <td>11.000000</td>\n",
       "      <td>1.000000</td>\n",
       "      <td>...</td>\n",
       "      <td>1.000000</td>\n",
       "      <td>613.000000</td>\n",
       "      <td>1.000000</td>\n",
       "      <td>734.000000</td>\n",
       "      <td>234.000000</td>\n",
       "      <td>112121.212121</td>\n",
       "      <td>4.000000</td>\n",
       "      <td>0.635682</td>\n",
       "      <td>0.217299</td>\n",
       "      <td>10.000000</td>\n",
       "    </tr>\n",
       "    <tr>\n",
       "      <th>max</th>\n",
       "      <td>42.000000</td>\n",
       "      <td>49900000.000000</td>\n",
       "      <td>470.300000</td>\n",
       "      <td>5.000000</td>\n",
       "      <td>3.980000</td>\n",
       "      <td>60.000000</td>\n",
       "      <td>248.700000</td>\n",
       "      <td>33.000000</td>\n",
       "      <td>54.000000</td>\n",
       "      <td>5.000000</td>\n",
       "      <td>...</td>\n",
       "      <td>3.000000</td>\n",
       "      <td>3190.000000</td>\n",
       "      <td>3.000000</td>\n",
       "      <td>1344.000000</td>\n",
       "      <td>1618.000000</td>\n",
       "      <td>848484.848485</td>\n",
       "      <td>6.000000</td>\n",
       "      <td>0.908439</td>\n",
       "      <td>0.299851</td>\n",
       "      <td>12.000000</td>\n",
       "    </tr>\n",
       "  </tbody>\n",
       "</table>\n",
       "<p>8 rows × 22 columns</p>\n",
       "</div>"
      ],
      "text/plain": [
       "       total_images      last_price   total_area        rooms  ceiling_height  \\\n",
       "count  21428.000000    21428.000000 21428.000000 21428.000000    21428.000000   \n",
       "mean       9.853649  5821845.968826    58.528614     2.076535        2.703158   \n",
       "std        5.641443  4560088.525927    26.921601     0.954035        0.188235   \n",
       "min        0.000000   430000.000000    14.000000     0.000000        2.250000   \n",
       "25%        6.000000  3400000.000000    40.500000     1.000000        2.600000   \n",
       "50%        9.000000  4600000.000000    52.450000     2.000000        2.700000   \n",
       "75%       14.000000  6600000.000000    69.000000     3.000000        2.700000   \n",
       "max       42.000000 49900000.000000   470.300000     5.000000        3.980000   \n",
       "\n",
       "       floors_total  living_area        floor  kitchen_area      balcony  ...  \\\n",
       "count  21428.000000 21428.000000 21428.000000  21428.000000 21428.000000  ...   \n",
       "mean      10.486933    33.938180     5.780707      9.668861     0.591376  ...   \n",
       "std        6.451254    17.138003     4.778730      3.982525     0.963856  ...   \n",
       "min        1.000000     8.300000     1.000000      1.300000     0.000000  ...   \n",
       "25%        5.000000    19.100000     2.000000      7.000000     0.000000  ...   \n",
       "50%        9.000000    30.600000     4.000000      8.900000     0.000000  ...   \n",
       "75%       15.000000    42.500000     8.000000     11.000000     1.000000  ...   \n",
       "max       60.000000   248.700000    33.000000     54.000000     5.000000  ...   \n",
       "\n",
       "       parks_around3000  parks_nearest  ponds_around3000  ponds_nearest  \\\n",
       "count      16392.000000    7230.000000      16392.000000    8057.000000   \n",
       "mean           0.600537     490.645090          0.745608     523.613007   \n",
       "std            0.791261     335.335978          0.922313     277.160042   \n",
       "min            0.000000       1.000000          0.000000      13.000000   \n",
       "25%            0.000000     289.000000          0.000000     302.000000   \n",
       "50%            0.000000     456.000000          0.000000     509.000000   \n",
       "75%            1.000000     613.000000          1.000000     734.000000   \n",
       "max            3.000000    3190.000000          3.000000    1344.000000   \n",
       "\n",
       "       days_exposition  square_meter_price  week_day_exposition  \\\n",
       "count     21428.000000        21428.000000         21428.000000   \n",
       "mean        184.408578        95928.091696             2.566362   \n",
       "std         231.810509        38024.566657             1.789953   \n",
       "min           0.000000         7962.962963             0.000000   \n",
       "25%          43.000000        75431.946007             1.000000   \n",
       "50%          93.000000        93750.000000             3.000000   \n",
       "75%         234.000000       112121.212121             4.000000   \n",
       "max        1618.000000       848484.848485             6.000000   \n",
       "\n",
       "       living_area_ratio  kitchen_area_ratio  month_exposition  \n",
       "count       21428.000000        21428.000000      21428.000000  \n",
       "mean            0.572385            0.176470          6.394111  \n",
       "std             0.090989            0.054492          3.493647  \n",
       "min             0.301170            0.042810          1.000000  \n",
       "25%             0.510979            0.134615          3.000000  \n",
       "50%             0.575080            0.166667          6.000000  \n",
       "75%             0.635682            0.217299         10.000000  \n",
       "max             0.908439            0.299851         12.000000  \n",
       "\n",
       "[8 rows x 22 columns]"
      ]
     },
     "execution_count": 52,
     "metadata": {},
     "output_type": "execute_result"
    }
   ],
   "source": [
    "data = data.query('last_price < 50000000 and ceiling_height < 4 and living_area_ratio > 0.3 and kitchen_area_ratio < 0.3 and rooms < 6')\n",
    "data.describe()"
   ]
  },
  {
   "cell_type": "markdown",
   "metadata": {},
   "source": [
    "После исключения редких значений датасет сократился на 7,7%. Медианные значения практически не изменились. В средних значения и  стандартном отклонении появились изменеия, что логично, так как были убраны крайние значения, которые на них влияли.\n",
    "Проверяем зависимость цены квадратного метра от площади квартиры."
   ]
  },
  {
   "cell_type": "code",
   "execution_count": 53,
   "metadata": {},
   "outputs": [
    {
     "data": {
      "text/html": [
       "<div>\n",
       "<style scoped>\n",
       "    .dataframe tbody tr th:only-of-type {\n",
       "        vertical-align: middle;\n",
       "    }\n",
       "\n",
       "    .dataframe tbody tr th {\n",
       "        vertical-align: top;\n",
       "    }\n",
       "\n",
       "    .dataframe thead th {\n",
       "        text-align: right;\n",
       "    }\n",
       "</style>\n",
       "<table border=\"1\" class=\"dataframe\">\n",
       "  <thead>\n",
       "    <tr style=\"text-align: right;\">\n",
       "      <th></th>\n",
       "      <th>square_meter_price</th>\n",
       "    </tr>\n",
       "    <tr>\n",
       "      <th>area_group</th>\n",
       "      <th></th>\n",
       "    </tr>\n",
       "  </thead>\n",
       "  <tbody>\n",
       "    <tr>\n",
       "      <th>(20, 30]</th>\n",
       "      <td>97413.432398</td>\n",
       "    </tr>\n",
       "    <tr>\n",
       "      <th>(30, 40]</th>\n",
       "      <td>96534.248789</td>\n",
       "    </tr>\n",
       "    <tr>\n",
       "      <th>(40, 50]</th>\n",
       "      <td>88834.677694</td>\n",
       "    </tr>\n",
       "    <tr>\n",
       "      <th>(50, 60]</th>\n",
       "      <td>88542.165175</td>\n",
       "    </tr>\n",
       "    <tr>\n",
       "      <th>(60, 70]</th>\n",
       "      <td>93113.896443</td>\n",
       "    </tr>\n",
       "    <tr>\n",
       "      <th>(70, 80]</th>\n",
       "      <td>95323.652680</td>\n",
       "    </tr>\n",
       "    <tr>\n",
       "      <th>(80, 90]</th>\n",
       "      <td>104454.286208</td>\n",
       "    </tr>\n",
       "    <tr>\n",
       "      <th>(90, 100]</th>\n",
       "      <td>112096.133462</td>\n",
       "    </tr>\n",
       "    <tr>\n",
       "      <th>больше 100</th>\n",
       "      <td>127601.511647</td>\n",
       "    </tr>\n",
       "    <tr>\n",
       "      <th>до 20</th>\n",
       "      <td>103586.099687</td>\n",
       "    </tr>\n",
       "  </tbody>\n",
       "</table>\n",
       "</div>"
      ],
      "text/plain": [
       "            square_meter_price\n",
       "area_group                    \n",
       "(20, 30]          97413.432398\n",
       "(30, 40]          96534.248789\n",
       "(40, 50]          88834.677694\n",
       "(50, 60]          88542.165175\n",
       "(60, 70]          93113.896443\n",
       "(70, 80]          95323.652680\n",
       "(80, 90]         104454.286208\n",
       "(90, 100]        112096.133462\n",
       "больше 100       127601.511647\n",
       "до 20            103586.099687"
      ]
     },
     "execution_count": 53,
     "metadata": {},
     "output_type": "execute_result"
    }
   ],
   "source": [
    "data.pivot_table(index = 'area_group', values = 'square_meter_price')"
   ]
  },
  {
   "cell_type": "code",
   "execution_count": 54,
   "metadata": {},
   "outputs": [
    {
     "data": {
      "text/plain": [
       "0.2025212482379751"
      ]
     },
     "execution_count": 54,
     "metadata": {},
     "output_type": "execute_result"
    }
   ],
   "source": [
    "data['total_area'].corr(data['square_meter_price'])"
   ]
  },
  {
   "cell_type": "markdown",
   "metadata": {},
   "source": [
    "С ростом площади цена квадратного метра снижается. Но, начиная с 60 метров цена кв.метра снова растёт.  \n",
    "Проверяем зависимость цены квадратного метра от кол-ва комнат."
   ]
  },
  {
   "cell_type": "code",
   "execution_count": 55,
   "metadata": {
    "scrolled": true
   },
   "outputs": [
    {
     "data": {
      "text/html": [
       "<div>\n",
       "<style scoped>\n",
       "    .dataframe tbody tr th:only-of-type {\n",
       "        vertical-align: middle;\n",
       "    }\n",
       "\n",
       "    .dataframe tbody tr th {\n",
       "        vertical-align: top;\n",
       "    }\n",
       "\n",
       "    .dataframe thead th {\n",
       "        text-align: right;\n",
       "    }\n",
       "</style>\n",
       "<table border=\"1\" class=\"dataframe\">\n",
       "  <thead>\n",
       "    <tr style=\"text-align: right;\">\n",
       "      <th></th>\n",
       "      <th>square_meter_price</th>\n",
       "    </tr>\n",
       "    <tr>\n",
       "      <th>rooms</th>\n",
       "      <th></th>\n",
       "    </tr>\n",
       "  </thead>\n",
       "  <tbody>\n",
       "    <tr>\n",
       "      <th>0</th>\n",
       "      <td>100177.650968</td>\n",
       "    </tr>\n",
       "    <tr>\n",
       "      <th>1</th>\n",
       "      <td>99480.658750</td>\n",
       "    </tr>\n",
       "    <tr>\n",
       "      <th>2</th>\n",
       "      <td>93394.487583</td>\n",
       "    </tr>\n",
       "    <tr>\n",
       "      <th>3</th>\n",
       "      <td>93677.520754</td>\n",
       "    </tr>\n",
       "    <tr>\n",
       "      <th>4</th>\n",
       "      <td>100134.443842</td>\n",
       "    </tr>\n",
       "    <tr>\n",
       "      <th>5</th>\n",
       "      <td>103904.256407</td>\n",
       "    </tr>\n",
       "  </tbody>\n",
       "</table>\n",
       "</div>"
      ],
      "text/plain": [
       "       square_meter_price\n",
       "rooms                    \n",
       "0           100177.650968\n",
       "1            99480.658750\n",
       "2            93394.487583\n",
       "3            93677.520754\n",
       "4           100134.443842\n",
       "5           103904.256407"
      ]
     },
     "execution_count": 55,
     "metadata": {},
     "output_type": "execute_result"
    }
   ],
   "source": [
    "data.pivot_table(index = 'rooms', values = 'square_meter_price')"
   ]
  },
  {
   "cell_type": "code",
   "execution_count": 56,
   "metadata": {},
   "outputs": [
    {
     "data": {
      "text/plain": [
       "-0.027308454977058742"
      ]
     },
     "execution_count": 56,
     "metadata": {},
     "output_type": "execute_result"
    }
   ],
   "source": [
    "data['rooms'].corr(data['square_meter_price'])"
   ]
  },
  {
   "cell_type": "markdown",
   "metadata": {},
   "source": [
    "Чем меньше комнат - тем выше цена квадратного метра. Заметен небольшой рост для 4ёх комнатных квартир.  \n",
    "Проверяем зависимость цены квадратного метра от удалённости от центра."
   ]
  },
  {
   "cell_type": "code",
   "execution_count": 57,
   "metadata": {},
   "outputs": [
    {
     "data": {
      "text/plain": [
       "<AxesSubplot:xlabel='cityCenters_nearest', ylabel='square_meter_price'>"
      ]
     },
     "execution_count": 57,
     "metadata": {},
     "output_type": "execute_result"
    },
    {
     "data": {
      "image/png": "[encoded data removed]",
      "text/plain": [
       "<Figure size 720x576 with 1 Axes>"
      ]
     },
     "metadata": {
      "needs_background": "light"
     },
     "output_type": "display_data"
    }
   ],
   "source": [
    "data.plot(x = 'cityCenters_nearest' , y = 'square_meter_price', kind = 'scatter', alpha = 0.7, grid=True, figsize=(10, 8))"
   ]
  },
  {
   "cell_type": "code",
   "execution_count": 58,
   "metadata": {},
   "outputs": [
    {
     "data": {
      "text/plain": [
       "-0.3737903199835343"
      ]
     },
     "execution_count": 58,
     "metadata": {},
     "output_type": "execute_result"
    }
   ],
   "source": [
    "data['cityCenters_nearest'].corr(data['square_meter_price'])"
   ]
  },
  {
   "cell_type": "markdown",
   "metadata": {},
   "source": [
    "Заметна тенденция к снижению цены при удалении от центра.  \n",
    "Проверяем зависимость цены квадратного метра от этажа."
   ]
  },
  {
   "cell_type": "code",
   "execution_count": 59,
   "metadata": {},
   "outputs": [
    {
     "data": {
      "text/html": [
       "<div>\n",
       "<style scoped>\n",
       "    .dataframe tbody tr th:only-of-type {\n",
       "        vertical-align: middle;\n",
       "    }\n",
       "\n",
       "    .dataframe tbody tr th {\n",
       "        vertical-align: top;\n",
       "    }\n",
       "\n",
       "    .dataframe thead th {\n",
       "        text-align: right;\n",
       "    }\n",
       "</style>\n",
       "<table border=\"1\" class=\"dataframe\">\n",
       "  <thead>\n",
       "    <tr style=\"text-align: right;\">\n",
       "      <th></th>\n",
       "      <th>square_meter_price</th>\n",
       "    </tr>\n",
       "    <tr>\n",
       "      <th>floor_group</th>\n",
       "      <th></th>\n",
       "    </tr>\n",
       "  </thead>\n",
       "  <tbody>\n",
       "    <tr>\n",
       "      <th>другой</th>\n",
       "      <td>100173.048562</td>\n",
       "    </tr>\n",
       "    <tr>\n",
       "      <th>первый</th>\n",
       "      <td>80010.149076</td>\n",
       "    </tr>\n",
       "    <tr>\n",
       "      <th>последний</th>\n",
       "      <td>88155.573367</td>\n",
       "    </tr>\n",
       "  </tbody>\n",
       "</table>\n",
       "</div>"
      ],
      "text/plain": [
       "             square_meter_price\n",
       "floor_group                    \n",
       "другой            100173.048562\n",
       "первый             80010.149076\n",
       "последний          88155.573367"
      ]
     },
     "execution_count": 59,
     "metadata": {},
     "output_type": "execute_result"
    }
   ],
   "source": [
    "data.pivot_table(index = 'floor_group', values = 'square_meter_price')"
   ]
  },
  {
   "cell_type": "markdown",
   "metadata": {},
   "source": [
    "Цена ниже на квартиры на первом и последнем этаже.  \n",
    "Проверяем зависимость цены квадратного метра от дня недели размещения."
   ]
  },
  {
   "cell_type": "code",
   "execution_count": 60,
   "metadata": {},
   "outputs": [
    {
     "data": {
      "text/html": [
       "<div>\n",
       "<style scoped>\n",
       "    .dataframe tbody tr th:only-of-type {\n",
       "        vertical-align: middle;\n",
       "    }\n",
       "\n",
       "    .dataframe tbody tr th {\n",
       "        vertical-align: top;\n",
       "    }\n",
       "\n",
       "    .dataframe thead th {\n",
       "        text-align: right;\n",
       "    }\n",
       "</style>\n",
       "<table border=\"1\" class=\"dataframe\">\n",
       "  <thead>\n",
       "    <tr style=\"text-align: right;\">\n",
       "      <th></th>\n",
       "      <th>square_meter_price</th>\n",
       "    </tr>\n",
       "    <tr>\n",
       "      <th>week_day_exposition</th>\n",
       "      <th></th>\n",
       "    </tr>\n",
       "  </thead>\n",
       "  <tbody>\n",
       "    <tr>\n",
       "      <th>0</th>\n",
       "      <td>96150.868418</td>\n",
       "    </tr>\n",
       "    <tr>\n",
       "      <th>1</th>\n",
       "      <td>96535.077594</td>\n",
       "    </tr>\n",
       "    <tr>\n",
       "      <th>2</th>\n",
       "      <td>96755.289528</td>\n",
       "    </tr>\n",
       "    <tr>\n",
       "      <th>3</th>\n",
       "      <td>96177.041075</td>\n",
       "    </tr>\n",
       "    <tr>\n",
       "      <th>4</th>\n",
       "      <td>95284.881663</td>\n",
       "    </tr>\n",
       "    <tr>\n",
       "      <th>5</th>\n",
       "      <td>94175.869901</td>\n",
       "    </tr>\n",
       "    <tr>\n",
       "      <th>6</th>\n",
       "      <td>94894.359559</td>\n",
       "    </tr>\n",
       "  </tbody>\n",
       "</table>\n",
       "</div>"
      ],
      "text/plain": [
       "                     square_meter_price\n",
       "week_day_exposition                    \n",
       "0                          96150.868418\n",
       "1                          96535.077594\n",
       "2                          96755.289528\n",
       "3                          96177.041075\n",
       "4                          95284.881663\n",
       "5                          94175.869901\n",
       "6                          94894.359559"
      ]
     },
     "execution_count": 60,
     "metadata": {},
     "output_type": "execute_result"
    }
   ],
   "source": [
    "data.pivot_table(index = 'week_day_exposition', values = 'square_meter_price')"
   ]
  },
  {
   "cell_type": "markdown",
   "metadata": {},
   "source": [
    "Объявления о продаже, размщённые в конце недели ниже по цене.  \n",
    "Проверяем зависимость цены квадратного метра от даты (месяца и года) размещения."
   ]
  },
  {
   "cell_type": "code",
   "execution_count": 64,
   "metadata": {},
   "outputs": [
    {
     "data": {
      "text/html": [
       "<div>\n",
       "<style scoped>\n",
       "    .dataframe tbody tr th:only-of-type {\n",
       "        vertical-align: middle;\n",
       "    }\n",
       "\n",
       "    .dataframe tbody tr th {\n",
       "        vertical-align: top;\n",
       "    }\n",
       "\n",
       "    .dataframe thead th {\n",
       "        text-align: right;\n",
       "    }\n",
       "</style>\n",
       "<table border=\"1\" class=\"dataframe\">\n",
       "  <thead>\n",
       "    <tr style=\"text-align: right;\">\n",
       "      <th></th>\n",
       "      <th>square_meter_price</th>\n",
       "    </tr>\n",
       "    <tr>\n",
       "      <th>month_exposition</th>\n",
       "      <th></th>\n",
       "    </tr>\n",
       "  </thead>\n",
       "  <tbody>\n",
       "    <tr>\n",
       "      <th>1</th>\n",
       "      <td>96680.639079</td>\n",
       "    </tr>\n",
       "    <tr>\n",
       "      <th>2</th>\n",
       "      <td>95416.548954</td>\n",
       "    </tr>\n",
       "    <tr>\n",
       "      <th>3</th>\n",
       "      <td>95686.510405</td>\n",
       "    </tr>\n",
       "    <tr>\n",
       "      <th>4</th>\n",
       "      <td>97579.362448</td>\n",
       "    </tr>\n",
       "    <tr>\n",
       "      <th>5</th>\n",
       "      <td>94958.520923</td>\n",
       "    </tr>\n",
       "    <tr>\n",
       "      <th>6</th>\n",
       "      <td>94868.700033</td>\n",
       "    </tr>\n",
       "    <tr>\n",
       "      <th>7</th>\n",
       "      <td>94369.597686</td>\n",
       "    </tr>\n",
       "    <tr>\n",
       "      <th>8</th>\n",
       "      <td>97208.520493</td>\n",
       "    </tr>\n",
       "    <tr>\n",
       "      <th>9</th>\n",
       "      <td>96780.454165</td>\n",
       "    </tr>\n",
       "    <tr>\n",
       "      <th>10</th>\n",
       "      <td>95191.768361</td>\n",
       "    </tr>\n",
       "    <tr>\n",
       "      <th>11</th>\n",
       "      <td>96659.365061</td>\n",
       "    </tr>\n",
       "    <tr>\n",
       "      <th>12</th>\n",
       "      <td>95019.319976</td>\n",
       "    </tr>\n",
       "  </tbody>\n",
       "</table>\n",
       "</div>"
      ],
      "text/plain": [
       "                  square_meter_price\n",
       "month_exposition                    \n",
       "1                       96680.639079\n",
       "2                       95416.548954\n",
       "3                       95686.510405\n",
       "4                       97579.362448\n",
       "5                       94958.520923\n",
       "6                       94868.700033\n",
       "7                       94369.597686\n",
       "8                       97208.520493\n",
       "9                       96780.454165\n",
       "10                      95191.768361\n",
       "11                      96659.365061\n",
       "12                      95019.319976"
      ]
     },
     "execution_count": 64,
     "metadata": {},
     "output_type": "execute_result"
    }
   ],
   "source": [
    "data.pivot_table(index = 'month_exposition', values = 'square_meter_price')"
   ]
  },
  {
   "cell_type": "markdown",
   "metadata": {},
   "source": [
    "В апреле, августе и сентябре можно ожидать увеличения средней стоимости квадратного метра. Тогда как в мае, июне и июле, наоборот - цены самые низкие.  \n",
    "Смотрим на корреляцию цены квадратного метра и удалённости от парков, водоёмов и аэропортов."
   ]
  },
  {
   "cell_type": "code",
   "execution_count": 65,
   "metadata": {},
   "outputs": [
    {
     "data": {
      "text/plain": [
       "0.032949276714970124"
      ]
     },
     "metadata": {},
     "output_type": "display_data"
    },
    {
     "data": {
      "text/plain": [
       "<AxesSubplot:ylabel='Frequency'>"
      ]
     },
     "execution_count": 65,
     "metadata": {},
     "output_type": "execute_result"
    },
    {
     "data": {
      "image/png": "[encoded data removed]",
      "text/plain": [
       "<Figure size 360x360 with 1 Axes>"
      ]
     },
     "metadata": {
      "needs_background": "light"
     },
     "output_type": "display_data"
    }
   ],
   "source": [
    "display(data['parks_nearest'].corr(data['square_meter_price']))\n",
    "data.plot(x = 'parks_nearest', y = 'square_meter_price', kind = 'hist', grid=True, figsize=(5, 5))"
   ]
  },
  {
   "cell_type": "code",
   "execution_count": 66,
   "metadata": {},
   "outputs": [
    {
     "data": {
      "text/plain": [
       "-0.09605542286331488"
      ]
     },
     "metadata": {},
     "output_type": "display_data"
    },
    {
     "data": {
      "text/plain": [
       "<AxesSubplot:ylabel='Frequency'>"
      ]
     },
     "execution_count": 66,
     "metadata": {},
     "output_type": "execute_result"
    },
    {
     "data": {
      "image/png": "[encoded data removed]",
      "text/plain": [
       "<Figure size 720x360 with 1 Axes>"
      ]
     },
     "metadata": {
      "needs_background": "light"
     },
     "output_type": "display_data"
    }
   ],
   "source": [
    "display(data['ponds_nearest'].corr(data['square_meter_price']))\n",
    "data.plot(x = 'ponds_nearest', y = 'square_meter_price', kind = 'hist', grid=True, figsize=(10, 5))"
   ]
  },
  {
   "cell_type": "code",
   "execution_count": 67,
   "metadata": {},
   "outputs": [
    {
     "data": {
      "text/plain": [
       "-0.041313619640692384"
      ]
     },
     "metadata": {},
     "output_type": "display_data"
    },
    {
     "data": {
      "text/plain": [
       "<AxesSubplot:ylabel='Frequency'>"
      ]
     },
     "execution_count": 67,
     "metadata": {},
     "output_type": "execute_result"
    },
    {
     "data": {
      "image/png": "[encoded data removed]",
      "text/plain": [
       "<Figure size 360x360 with 1 Axes>"
      ]
     },
     "metadata": {
      "needs_background": "light"
     },
     "output_type": "display_data"
    }
   ],
   "source": [
    "display(data['airports_nearest'].corr(data['square_meter_price']))\n",
    "data.plot(x = 'airports_nearest', y = 'square_meter_price', kind = 'hist', grid=True, figsize=(5, 5))"
   ]
  },
  {
   "cell_type": "markdown",
   "metadata": {},
   "source": [
    "Проверяем зависимость цены квадратного метра и квартир с открытой планировкой и апартаментами."
   ]
  },
  {
   "cell_type": "code",
   "execution_count": 68,
   "metadata": {},
   "outputs": [
    {
     "data": {
      "text/html": [
       "<div>\n",
       "<style scoped>\n",
       "    .dataframe tbody tr th:only-of-type {\n",
       "        vertical-align: middle;\n",
       "    }\n",
       "\n",
       "    .dataframe tbody tr th {\n",
       "        vertical-align: top;\n",
       "    }\n",
       "\n",
       "    .dataframe thead th {\n",
       "        text-align: right;\n",
       "    }\n",
       "</style>\n",
       "<table border=\"1\" class=\"dataframe\">\n",
       "  <thead>\n",
       "    <tr style=\"text-align: right;\">\n",
       "      <th></th>\n",
       "      <th>square_meter_price</th>\n",
       "    </tr>\n",
       "    <tr>\n",
       "      <th>open_plan</th>\n",
       "      <th></th>\n",
       "    </tr>\n",
       "  </thead>\n",
       "  <tbody>\n",
       "    <tr>\n",
       "      <th>False</th>\n",
       "      <td>95908.881366</td>\n",
       "    </tr>\n",
       "    <tr>\n",
       "      <th>True</th>\n",
       "      <td>103531.825024</td>\n",
       "    </tr>\n",
       "  </tbody>\n",
       "</table>\n",
       "</div>"
      ],
      "text/plain": [
       "           square_meter_price\n",
       "open_plan                    \n",
       "False            95908.881366\n",
       "True            103531.825024"
      ]
     },
     "execution_count": 68,
     "metadata": {},
     "output_type": "execute_result"
    }
   ],
   "source": [
    "data.pivot_table(index = 'open_plan', values = 'square_meter_price')"
   ]
  },
  {
   "cell_type": "code",
   "execution_count": 69,
   "metadata": {},
   "outputs": [
    {
     "data": {
      "text/html": [
       "<div>\n",
       "<style scoped>\n",
       "    .dataframe tbody tr th:only-of-type {\n",
       "        vertical-align: middle;\n",
       "    }\n",
       "\n",
       "    .dataframe tbody tr th {\n",
       "        vertical-align: top;\n",
       "    }\n",
       "\n",
       "    .dataframe thead th {\n",
       "        text-align: right;\n",
       "    }\n",
       "</style>\n",
       "<table border=\"1\" class=\"dataframe\">\n",
       "  <thead>\n",
       "    <tr style=\"text-align: right;\">\n",
       "      <th></th>\n",
       "      <th>square_meter_price</th>\n",
       "    </tr>\n",
       "    <tr>\n",
       "      <th>is_apartment</th>\n",
       "      <th></th>\n",
       "    </tr>\n",
       "  </thead>\n",
       "  <tbody>\n",
       "    <tr>\n",
       "      <th>False</th>\n",
       "      <td>95874.672077</td>\n",
       "    </tr>\n",
       "    <tr>\n",
       "      <th>True</th>\n",
       "      <td>129541.601099</td>\n",
       "    </tr>\n",
       "  </tbody>\n",
       "</table>\n",
       "</div>"
      ],
      "text/plain": [
       "              square_meter_price\n",
       "is_apartment                    \n",
       "False               95874.672077\n",
       "True               129541.601099"
      ]
     },
     "execution_count": 69,
     "metadata": {},
     "output_type": "execute_result"
    }
   ],
   "source": [
    "data.pivot_table(index = 'is_apartment', values = 'square_meter_price')"
   ]
  },
  {
   "cell_type": "markdown",
   "metadata": {},
   "source": [
    "Выделяю 10 населённых пунктов с наибольшим числом объявлений. Считаю среднюю цену квадратного метра в этих населённых пунктах."
   ]
  },
  {
   "cell_type": "code",
   "execution_count": 70,
   "metadata": {},
   "outputs": [
    {
     "data": {
      "text/html": [
       "<div>\n",
       "<style scoped>\n",
       "    .dataframe tbody tr th:only-of-type {\n",
       "        vertical-align: middle;\n",
       "    }\n",
       "\n",
       "    .dataframe tbody tr th {\n",
       "        vertical-align: top;\n",
       "    }\n",
       "\n",
       "    .dataframe thead tr th {\n",
       "        text-align: left;\n",
       "    }\n",
       "</style>\n",
       "<table border=\"1\" class=\"dataframe\">\n",
       "  <thead>\n",
       "    <tr>\n",
       "      <th></th>\n",
       "      <th>locality_name</th>\n",
       "      <th>count</th>\n",
       "      <th>mean</th>\n",
       "    </tr>\n",
       "    <tr>\n",
       "      <th></th>\n",
       "      <th></th>\n",
       "      <th>square_meter_price</th>\n",
       "      <th>square_meter_price</th>\n",
       "    </tr>\n",
       "  </thead>\n",
       "  <tbody>\n",
       "    <tr>\n",
       "      <th>358</th>\n",
       "      <td>All</td>\n",
       "      <td>21428</td>\n",
       "      <td>95928.091696</td>\n",
       "    </tr>\n",
       "    <tr>\n",
       "      <th>33</th>\n",
       "      <td>Санкт-Петербург</td>\n",
       "      <td>14164</td>\n",
       "      <td>110554.796820</td>\n",
       "    </tr>\n",
       "    <tr>\n",
       "      <th>287</th>\n",
       "      <td>посёлок Мурино</td>\n",
       "      <td>414</td>\n",
       "      <td>83828.855568</td>\n",
       "    </tr>\n",
       "    <tr>\n",
       "      <th>321</th>\n",
       "      <td>посёлок Шушары</td>\n",
       "      <td>398</td>\n",
       "      <td>77354.261832</td>\n",
       "    </tr>\n",
       "    <tr>\n",
       "      <th>3</th>\n",
       "      <td>Всеволожск</td>\n",
       "      <td>362</td>\n",
       "      <td>68061.358764</td>\n",
       "    </tr>\n",
       "    <tr>\n",
       "      <th>32</th>\n",
       "      <td>Пушкин</td>\n",
       "      <td>339</td>\n",
       "      <td>102480.671537</td>\n",
       "    </tr>\n",
       "    <tr>\n",
       "      <th>13</th>\n",
       "      <td>Колпино</td>\n",
       "      <td>329</td>\n",
       "      <td>75338.128182</td>\n",
       "    </tr>\n",
       "    <tr>\n",
       "      <th>6</th>\n",
       "      <td>Гатчина</td>\n",
       "      <td>294</td>\n",
       "      <td>68617.661039</td>\n",
       "    </tr>\n",
       "    <tr>\n",
       "      <th>292</th>\n",
       "      <td>посёлок Парголово</td>\n",
       "      <td>255</td>\n",
       "      <td>88250.465137</td>\n",
       "    </tr>\n",
       "    <tr>\n",
       "      <th>93</th>\n",
       "      <td>деревня Кудрово</td>\n",
       "      <td>250</td>\n",
       "      <td>92606.110608</td>\n",
       "    </tr>\n",
       "    <tr>\n",
       "      <th>4</th>\n",
       "      <td>Выборг</td>\n",
       "      <td>223</td>\n",
       "      <td>58257.925871</td>\n",
       "    </tr>\n",
       "  </tbody>\n",
       "</table>\n",
       "</div>"
      ],
      "text/plain": [
       "         locality_name              count               mean\n",
       "                       square_meter_price square_meter_price\n",
       "358                All              21428       95928.091696\n",
       "33     Санкт-Петербург              14164      110554.796820\n",
       "287     посёлок Мурино                414       83828.855568\n",
       "321     посёлок Шушары                398       77354.261832\n",
       "3           Всеволожск                362       68061.358764\n",
       "32              Пушкин                339      102480.671537\n",
       "13             Колпино                329       75338.128182\n",
       "6              Гатчина                294       68617.661039\n",
       "292  посёлок Парголово                255       88250.465137\n",
       "93     деревня Кудрово                250       92606.110608\n",
       "4               Выборг                223       58257.925871"
      ]
     },
     "execution_count": 70,
     "metadata": {},
     "output_type": "execute_result"
    }
   ],
   "source": [
    "top = data.pivot_table(index = 'locality_name', values = 'square_meter_price', aggfunc = ['count', 'mean'], margins=True).reset_index()\n",
    "top.sort_values(('count', 'square_meter_price'), ascending=False).head(11)"
   ]
  },
  {
   "cell_type": "markdown",
   "metadata": {},
   "source": [
    "Выделяю населённые пункты с самой высокой и низкой стоимостью жилья."
   ]
  },
  {
   "cell_type": "code",
   "execution_count": 71,
   "metadata": {},
   "outputs": [
    {
     "data": {
      "text/html": [
       "<div>\n",
       "<style scoped>\n",
       "    .dataframe tbody tr th:only-of-type {\n",
       "        vertical-align: middle;\n",
       "    }\n",
       "\n",
       "    .dataframe tbody tr th {\n",
       "        vertical-align: top;\n",
       "    }\n",
       "\n",
       "    .dataframe thead tr th {\n",
       "        text-align: left;\n",
       "    }\n",
       "</style>\n",
       "<table border=\"1\" class=\"dataframe\">\n",
       "  <thead>\n",
       "    <tr>\n",
       "      <th></th>\n",
       "      <th>locality_name</th>\n",
       "      <th>count</th>\n",
       "      <th>mean</th>\n",
       "    </tr>\n",
       "    <tr>\n",
       "      <th></th>\n",
       "      <th></th>\n",
       "      <th>square_meter_price</th>\n",
       "      <th>square_meter_price</th>\n",
       "    </tr>\n",
       "  </thead>\n",
       "  <tbody>\n",
       "    <tr>\n",
       "      <th>282</th>\n",
       "      <td>посёлок Лисий Нос</td>\n",
       "      <td>2</td>\n",
       "      <td>121616.221359</td>\n",
       "    </tr>\n",
       "  </tbody>\n",
       "</table>\n",
       "</div>"
      ],
      "text/plain": [
       "         locality_name              count               mean\n",
       "                       square_meter_price square_meter_price\n",
       "282  посёлок Лисий Нос                  2      121616.221359"
      ]
     },
     "execution_count": 71,
     "metadata": {},
     "output_type": "execute_result"
    }
   ],
   "source": [
    "top.loc[top['mean', 'square_meter_price'] == top['mean', 'square_meter_price'].max()]"
   ]
  },
  {
   "cell_type": "code",
   "execution_count": 72,
   "metadata": {},
   "outputs": [
    {
     "data": {
      "text/html": [
       "<div>\n",
       "<style scoped>\n",
       "    .dataframe tbody tr th:only-of-type {\n",
       "        vertical-align: middle;\n",
       "    }\n",
       "\n",
       "    .dataframe tbody tr th {\n",
       "        vertical-align: top;\n",
       "    }\n",
       "\n",
       "    .dataframe thead tr th {\n",
       "        text-align: left;\n",
       "    }\n",
       "</style>\n",
       "<table border=\"1\" class=\"dataframe\">\n",
       "  <thead>\n",
       "    <tr>\n",
       "      <th></th>\n",
       "      <th>locality_name</th>\n",
       "      <th>count</th>\n",
       "      <th>mean</th>\n",
       "    </tr>\n",
       "    <tr>\n",
       "      <th></th>\n",
       "      <th></th>\n",
       "      <th>square_meter_price</th>\n",
       "      <th>square_meter_price</th>\n",
       "    </tr>\n",
       "  </thead>\n",
       "  <tbody>\n",
       "    <tr>\n",
       "      <th>138</th>\n",
       "      <td>деревня Старополье</td>\n",
       "      <td>3</td>\n",
       "      <td>11206.221198</td>\n",
       "    </tr>\n",
       "  </tbody>\n",
       "</table>\n",
       "</div>"
      ],
      "text/plain": [
       "          locality_name              count               mean\n",
       "                        square_meter_price square_meter_price\n",
       "138  деревня Старополье                  3       11206.221198"
      ]
     },
     "execution_count": 72,
     "metadata": {},
     "output_type": "execute_result"
    }
   ],
   "source": [
    "top.loc[top['mean', 'square_meter_price'] == top['mean', 'square_meter_price'].min()]"
   ]
  },
  {
   "cell_type": "markdown",
   "metadata": {},
   "source": [
    "Выбираю квартиры только в Санкт-Петербурге.  \n",
    "Добавляю столбец с расстоянием до центра в километрах.  \n",
    "Считаю среднюю цену для каждого километра.  \n",
    "И строю график зависимости цены кв.метра от удалённости от центра."
   ]
  },
  {
   "cell_type": "code",
   "execution_count": 73,
   "metadata": {},
   "outputs": [
    {
     "data": {
      "text/plain": [
       "<AxesSubplot:xlabel='cityCenters_nearest_km'>"
      ]
     },
     "execution_count": 73,
     "metadata": {},
     "output_type": "execute_result"
    },
    {
     "data": {
      "image/png": "[encoded data removed]",
      "text/plain": [
       "<Figure size 720x576 with 1 Axes>"
      ]
     },
     "metadata": {
      "needs_background": "light"
     },
     "output_type": "display_data"
    }
   ],
   "source": [
    "data_SaintPt = data.loc[data['locality_name'] == 'Санкт-Петербург']\n",
    "data_SaintPt['cityCenters_nearest_km'] = data_SaintPt['cityCenters_nearest'] // 1000\n",
    "data_SaintPt.pivot_table(index = 'cityCenters_nearest_km', values = 'square_meter_price').plot(grid=True, figsize=(10, 8))"
   ]
  },
  {
   "cell_type": "markdown",
   "metadata": {},
   "source": [
    "Предполагаю, что квартирами \"в центре\" могут считаться лоты удаленностью не более 10 км.\n",
    "Выделяю их в отдельный датафейм."
   ]
  },
  {
   "cell_type": "code",
   "execution_count": 74,
   "metadata": {},
   "outputs": [],
   "source": [
    "data_SaintPT_center = data_SaintPt.query('cityCenters_nearest_km < 10')"
   ]
  },
  {
   "cell_type": "markdown",
   "metadata": {},
   "source": [
    "Строю гистограмму по общей площади"
   ]
  },
  {
   "cell_type": "code",
   "execution_count": 75,
   "metadata": {},
   "outputs": [
    {
     "data": {
      "text/plain": [
       "<AxesSubplot:>"
      ]
     },
     "execution_count": 75,
     "metadata": {},
     "output_type": "execute_result"
    },
    {
     "data": {
      "image/png": "[encoded data removed]",
      "text/plain": [
       "<Figure size 432x288 with 1 Axes>"
      ]
     },
     "metadata": {
      "needs_background": "light"
     },
     "output_type": "display_data"
    }
   ],
   "source": [
    "data['total_area'].hist(bins = 42)"
   ]
  },
  {
   "cell_type": "code",
   "execution_count": 76,
   "metadata": {},
   "outputs": [
    {
     "data": {
      "text/plain": [
       "(0.0, 200.0)"
      ]
     },
     "execution_count": 76,
     "metadata": {},
     "output_type": "execute_result"
    },
    {
     "data": {
      "image/png": "[encoded data removed]",
      "text/plain": [
       "<Figure size 432x288 with 1 Axes>"
      ]
     },
     "metadata": {
      "needs_background": "light"
     },
     "output_type": "display_data"
    }
   ],
   "source": [
    "data_SaintPT_center.boxplot(column=['total_area'])\n",
    "plt.ylim([0, 200])"
   ]
  },
  {
   "cell_type": "markdown",
   "metadata": {},
   "source": [
    "Основная часть объявлений - квартиры площадью от 50 до 100 кв.метров. Это больше, чем в целом по региону. Редкими будут лоты свыше 160 метров.  \n",
    "Строю гистограмму по цене."
   ]
  },
  {
   "cell_type": "code",
   "execution_count": 77,
   "metadata": {},
   "outputs": [
    {
     "data": {
      "text/plain": [
       "<AxesSubplot:>"
      ]
     },
     "execution_count": 77,
     "metadata": {},
     "output_type": "execute_result"
    },
    {
     "data": {
      "image/png": "[encoded data removed]",
      "text/plain": [
       "<Figure size 432x288 with 1 Axes>"
      ]
     },
     "metadata": {
      "needs_background": "light"
     },
     "output_type": "display_data"
    }
   ],
   "source": [
    "data_SaintPT_center['last_price'].hist(range = (0, 50000000), bins=10)"
   ]
  },
  {
   "cell_type": "markdown",
   "metadata": {},
   "source": [
    "В Санкт-Петербурге выше доля более дорогих лотов. На графике пик сместился на диапозон с 5 до 10 млн.   \n",
    "Строим гистограмму по кол-ву комнат."
   ]
  },
  {
   "cell_type": "code",
   "execution_count": 78,
   "metadata": {},
   "outputs": [
    {
     "data": {
      "text/plain": [
       "<AxesSubplot:>"
      ]
     },
     "execution_count": 78,
     "metadata": {},
     "output_type": "execute_result"
    },
    {
     "data": {
      "image/png": "[encoded data removed]",
      "text/plain": [
       "<Figure size 432x288 with 1 Axes>"
      ]
     },
     "metadata": {
      "needs_background": "light"
     },
     "output_type": "display_data"
    }
   ],
   "source": [
    "data_SaintPT_center['rooms'].hist(bins=5)"
   ]
  },
  {
   "cell_type": "markdown",
   "metadata": {},
   "source": [
    "Особенного отличия общей базы и картир Санкт-Петербурга по кол-ву комнат не обнаружено.  \n",
    "Строим гистограмму по высоте потолков."
   ]
  },
  {
   "cell_type": "code",
   "execution_count": 79,
   "metadata": {},
   "outputs": [
    {
     "data": {
      "text/plain": [
       "<AxesSubplot:>"
      ]
     },
     "execution_count": 79,
     "metadata": {},
     "output_type": "execute_result"
    },
    {
     "data": {
      "image/png": "[encoded data removed]",
      "text/plain": [
       "<Figure size 432x288 with 1 Axes>"
      ]
     },
     "metadata": {
      "needs_background": "light"
     },
     "output_type": "display_data"
    }
   ],
   "source": [
    "data_SaintPT_center['ceiling_height'].hist(bins=6)"
   ]
  },
  {
   "cell_type": "markdown",
   "metadata": {},
   "source": [
    "Особенного отличия общей базы и квартир Санкт-Петербурга по потолков не обнаружено.  \n",
    "Рассмотрим завосимость цены квадратного метра и числа комнат."
   ]
  },
  {
   "cell_type": "code",
   "execution_count": 80,
   "metadata": {},
   "outputs": [
    {
     "data": {
      "text/html": [
       "<div>\n",
       "<style scoped>\n",
       "    .dataframe tbody tr th:only-of-type {\n",
       "        vertical-align: middle;\n",
       "    }\n",
       "\n",
       "    .dataframe tbody tr th {\n",
       "        vertical-align: top;\n",
       "    }\n",
       "\n",
       "    .dataframe thead th {\n",
       "        text-align: right;\n",
       "    }\n",
       "</style>\n",
       "<table border=\"1\" class=\"dataframe\">\n",
       "  <thead>\n",
       "    <tr style=\"text-align: right;\">\n",
       "      <th></th>\n",
       "      <th>square_meter_price</th>\n",
       "    </tr>\n",
       "    <tr>\n",
       "      <th>rooms</th>\n",
       "      <th></th>\n",
       "    </tr>\n",
       "  </thead>\n",
       "  <tbody>\n",
       "    <tr>\n",
       "      <th>0</th>\n",
       "      <td>129717.097171</td>\n",
       "    </tr>\n",
       "    <tr>\n",
       "      <th>1</th>\n",
       "      <td>134601.732904</td>\n",
       "    </tr>\n",
       "    <tr>\n",
       "      <th>2</th>\n",
       "      <td>127147.831072</td>\n",
       "    </tr>\n",
       "    <tr>\n",
       "      <th>3</th>\n",
       "      <td>126398.619551</td>\n",
       "    </tr>\n",
       "    <tr>\n",
       "      <th>4</th>\n",
       "      <td>119518.001620</td>\n",
       "    </tr>\n",
       "    <tr>\n",
       "      <th>5</th>\n",
       "      <td>113618.367614</td>\n",
       "    </tr>\n",
       "  </tbody>\n",
       "</table>\n",
       "</div>"
      ],
      "text/plain": [
       "       square_meter_price\n",
       "rooms                    \n",
       "0           129717.097171\n",
       "1           134601.732904\n",
       "2           127147.831072\n",
       "3           126398.619551\n",
       "4           119518.001620\n",
       "5           113618.367614"
      ]
     },
     "execution_count": 80,
     "metadata": {},
     "output_type": "execute_result"
    }
   ],
   "source": [
    "data_SaintPT_center.pivot_table(index = 'rooms' , values = 'square_meter_price')"
   ]
  },
  {
   "cell_type": "code",
   "execution_count": 81,
   "metadata": {},
   "outputs": [
    {
     "data": {
      "text/plain": [
       "-0.09616024146448138"
      ]
     },
     "execution_count": 81,
     "metadata": {},
     "output_type": "execute_result"
    }
   ],
   "source": [
    "data_SaintPT_center['rooms'].corr(data['square_meter_price'])"
   ]
  },
  {
   "cell_type": "markdown",
   "metadata": {},
   "source": [
    "Так же как и в общей базе - цена квадратного метра снижается по мере увеличения числа комнат.   \n",
    "Смотрим зависимость цены и этажа."
   ]
  },
  {
   "cell_type": "code",
   "execution_count": 82,
   "metadata": {},
   "outputs": [
    {
     "data": {
      "text/html": [
       "<div>\n",
       "<style scoped>\n",
       "    .dataframe tbody tr th:only-of-type {\n",
       "        vertical-align: middle;\n",
       "    }\n",
       "\n",
       "    .dataframe tbody tr th {\n",
       "        vertical-align: top;\n",
       "    }\n",
       "\n",
       "    .dataframe thead th {\n",
       "        text-align: right;\n",
       "    }\n",
       "</style>\n",
       "<table border=\"1\" class=\"dataframe\">\n",
       "  <thead>\n",
       "    <tr style=\"text-align: right;\">\n",
       "      <th></th>\n",
       "      <th>square_meter_price</th>\n",
       "    </tr>\n",
       "    <tr>\n",
       "      <th>floor_group</th>\n",
       "      <th></th>\n",
       "    </tr>\n",
       "  </thead>\n",
       "  <tbody>\n",
       "    <tr>\n",
       "      <th>другой</th>\n",
       "      <td>129827.141111</td>\n",
       "    </tr>\n",
       "    <tr>\n",
       "      <th>первый</th>\n",
       "      <td>111793.517298</td>\n",
       "    </tr>\n",
       "    <tr>\n",
       "      <th>последний</th>\n",
       "      <td>122785.728237</td>\n",
       "    </tr>\n",
       "  </tbody>\n",
       "</table>\n",
       "</div>"
      ],
      "text/plain": [
       "             square_meter_price\n",
       "floor_group                    \n",
       "другой            129827.141111\n",
       "первый            111793.517298\n",
       "последний         122785.728237"
      ]
     },
     "execution_count": 82,
     "metadata": {},
     "output_type": "execute_result"
    }
   ],
   "source": [
    "data_SaintPT_center.pivot_table(index = 'floor_group' , values = 'square_meter_price')"
   ]
  },
  {
   "cell_type": "markdown",
   "metadata": {},
   "source": [
    "Здесь так же, как и в целом по региону: первый и последний этаж дешевле.    \n",
    "Смотрим зависимость даты размещения объявления."
   ]
  },
  {
   "cell_type": "code",
   "execution_count": 83,
   "metadata": {},
   "outputs": [
    {
     "data": {
      "text/plain": [
       "<AxesSubplot:xlabel='ceiling_height'>"
      ]
     },
     "execution_count": 83,
     "metadata": {},
     "output_type": "execute_result"
    },
    {
     "data": {
      "image/png": "[encoded data removed]",
      "text/plain": [
       "<Figure size 432x288 with 1 Axes>"
      ]
     },
     "metadata": {
      "needs_background": "light"
     },
     "output_type": "display_data"
    }
   ],
   "source": [
    "(\n",
    "    data_SaintPT_center\n",
    "    .pivot_table(index = 'ceiling_height', values = 'square_meter_price')\n",
    "    .plot(grid=True)\n",
    ")"
   ]
  },
  {
   "cell_type": "code",
   "execution_count": 84,
   "metadata": {},
   "outputs": [
    {
     "data": {
      "text/plain": [
       "0.09662629129400421"
      ]
     },
     "execution_count": 84,
     "metadata": {},
     "output_type": "execute_result"
    }
   ],
   "source": [
    "data_SaintPT_center['ceiling_height'].corr(data['square_meter_price'])"
   ]
  },
  {
   "cell_type": "markdown",
   "metadata": {},
   "source": [
    "График неоднородный с большим кол-вом пиков и провалов. И коэффициент корреляцие далёк от еденицы. Взаимосвязь цены от высоты потолка не прослеживатеся."
   ]
  },
  {
   "cell_type": "code",
   "execution_count": 86,
   "metadata": {},
   "outputs": [
    {
     "data": {
      "text/html": [
       "<div>\n",
       "<style scoped>\n",
       "    .dataframe tbody tr th:only-of-type {\n",
       "        vertical-align: middle;\n",
       "    }\n",
       "\n",
       "    .dataframe tbody tr th {\n",
       "        vertical-align: top;\n",
       "    }\n",
       "\n",
       "    .dataframe thead th {\n",
       "        text-align: right;\n",
       "    }\n",
       "</style>\n",
       "<table border=\"1\" class=\"dataframe\">\n",
       "  <thead>\n",
       "    <tr style=\"text-align: right;\">\n",
       "      <th></th>\n",
       "      <th>square_meter_price</th>\n",
       "    </tr>\n",
       "    <tr>\n",
       "      <th>week_day_exposition</th>\n",
       "      <th></th>\n",
       "    </tr>\n",
       "  </thead>\n",
       "  <tbody>\n",
       "    <tr>\n",
       "      <th>0</th>\n",
       "      <td>128892.593760</td>\n",
       "    </tr>\n",
       "    <tr>\n",
       "      <th>1</th>\n",
       "      <td>126191.603933</td>\n",
       "    </tr>\n",
       "    <tr>\n",
       "      <th>2</th>\n",
       "      <td>127620.293228</td>\n",
       "    </tr>\n",
       "    <tr>\n",
       "      <th>3</th>\n",
       "      <td>125632.464045</td>\n",
       "    </tr>\n",
       "    <tr>\n",
       "      <th>4</th>\n",
       "      <td>124690.359536</td>\n",
       "    </tr>\n",
       "    <tr>\n",
       "      <th>5</th>\n",
       "      <td>128511.700916</td>\n",
       "    </tr>\n",
       "    <tr>\n",
       "      <th>6</th>\n",
       "      <td>127290.210190</td>\n",
       "    </tr>\n",
       "  </tbody>\n",
       "</table>\n",
       "</div>"
      ],
      "text/plain": [
       "                     square_meter_price\n",
       "week_day_exposition                    \n",
       "0                         128892.593760\n",
       "1                         126191.603933\n",
       "2                         127620.293228\n",
       "3                         125632.464045\n",
       "4                         124690.359536\n",
       "5                         128511.700916\n",
       "6                         127290.210190"
      ]
     },
     "execution_count": 86,
     "metadata": {},
     "output_type": "execute_result"
    }
   ],
   "source": [
    "data_SaintPT_center.pivot_table(index = 'week_day_exposition', values = 'square_meter_price')"
   ]
  },
  {
   "cell_type": "code",
   "execution_count": 87,
   "metadata": {},
   "outputs": [
    {
     "data": {
      "text/plain": [
       "-0.01080830156074526"
      ]
     },
     "execution_count": 87,
     "metadata": {},
     "output_type": "execute_result"
    }
   ],
   "source": [
    "data_SaintPT_center['week_day_exposition'].corr(data['square_meter_price'])"
   ]
  },
  {
   "cell_type": "markdown",
   "metadata": {},
   "source": [
    "В центральной части Санкт-Петербурге самые \"дешевые\" дни, так же как и в регионе в целом, приходятся на конец недели. Только в центре - это конец рабочей недели - четверг и пятница."
   ]
  },
  {
   "cell_type": "code",
   "execution_count": 89,
   "metadata": {},
   "outputs": [
    {
     "data": {
      "text/html": [
       "<div>\n",
       "<style scoped>\n",
       "    .dataframe tbody tr th:only-of-type {\n",
       "        vertical-align: middle;\n",
       "    }\n",
       "\n",
       "    .dataframe tbody tr th {\n",
       "        vertical-align: top;\n",
       "    }\n",
       "\n",
       "    .dataframe thead th {\n",
       "        text-align: right;\n",
       "    }\n",
       "</style>\n",
       "<table border=\"1\" class=\"dataframe\">\n",
       "  <thead>\n",
       "    <tr style=\"text-align: right;\">\n",
       "      <th></th>\n",
       "      <th>square_meter_price</th>\n",
       "    </tr>\n",
       "    <tr>\n",
       "      <th>month_exposition</th>\n",
       "      <th></th>\n",
       "    </tr>\n",
       "  </thead>\n",
       "  <tbody>\n",
       "    <tr>\n",
       "      <th>1</th>\n",
       "      <td>127918.093174</td>\n",
       "    </tr>\n",
       "    <tr>\n",
       "      <th>2</th>\n",
       "      <td>125770.295686</td>\n",
       "    </tr>\n",
       "    <tr>\n",
       "      <th>3</th>\n",
       "      <td>128198.392101</td>\n",
       "    </tr>\n",
       "    <tr>\n",
       "      <th>4</th>\n",
       "      <td>129953.129659</td>\n",
       "    </tr>\n",
       "    <tr>\n",
       "      <th>5</th>\n",
       "      <td>122529.895297</td>\n",
       "    </tr>\n",
       "    <tr>\n",
       "      <th>6</th>\n",
       "      <td>128780.629439</td>\n",
       "    </tr>\n",
       "    <tr>\n",
       "      <th>7</th>\n",
       "      <td>122208.397109</td>\n",
       "    </tr>\n",
       "    <tr>\n",
       "      <th>8</th>\n",
       "      <td>129633.039726</td>\n",
       "    </tr>\n",
       "    <tr>\n",
       "      <th>9</th>\n",
       "      <td>125046.190954</td>\n",
       "    </tr>\n",
       "    <tr>\n",
       "      <th>10</th>\n",
       "      <td>126011.070032</td>\n",
       "    </tr>\n",
       "    <tr>\n",
       "      <th>11</th>\n",
       "      <td>128011.959972</td>\n",
       "    </tr>\n",
       "    <tr>\n",
       "      <th>12</th>\n",
       "      <td>124476.153838</td>\n",
       "    </tr>\n",
       "  </tbody>\n",
       "</table>\n",
       "</div>"
      ],
      "text/plain": [
       "                  square_meter_price\n",
       "month_exposition                    \n",
       "1                      127918.093174\n",
       "2                      125770.295686\n",
       "3                      128198.392101\n",
       "4                      129953.129659\n",
       "5                      122529.895297\n",
       "6                      128780.629439\n",
       "7                      122208.397109\n",
       "8                      129633.039726\n",
       "9                      125046.190954\n",
       "10                     126011.070032\n",
       "11                     128011.959972\n",
       "12                     124476.153838"
      ]
     },
     "execution_count": 89,
     "metadata": {},
     "output_type": "execute_result"
    }
   ],
   "source": [
    "data_SaintPT_center.pivot_table(index = 'month_exposition', values = 'square_meter_price')"
   ]
  },
  {
   "cell_type": "markdown",
   "metadata": {},
   "source": [
    "В центре СПб пиковые месяца по цене квадратного метра несколько отличаются, чем в регионе в целом. Наибольшую стоимость можно ожидать в апреле и августе (сентябрьского пика нет), а самый \"дешёвый месяц\" - июль."
   ]
  },
  {
   "cell_type": "markdown",
   "metadata": {},
   "source": [
    "## Общий вывод"
   ]
  },
  {
   "cell_type": "markdown",
   "metadata": {},
   "source": [
    "По изученым данным, основные параметры, влияющие на стоимость объекта недвижимости являются:\n",
    "1) Общая площадь квартиры. Как в целом по региону, так и для Санкт-Петербурга, влияние этого фактора можно разделсть на две части. Для квартир с площадью от 10 до 60 кв.м с уменьшением площади квартиры - цена квадратного метра увеличивается. А для квартир, площадью от 60 кв.м - с увеличением площади растёт и цена.  \n",
    "2) Число комнат. Для города Санкт-Петербурга этот показатель однозначен: с увеличением кол-ва комнат, снижается цена квадратного метра. Для региона в целом - всё не так одназначно. Для четырёхкомнатных квартир и более цена квадратного метра растёт.  \n",
    "3) Этаж. Как в целом по региону, так и для Санкт-Петербурга дешевле квартиры на первом и последнем этажах.  \n",
    "4) Удалённость от центра. При приближении к центру города цена кв.метра возрастает.\n",
    "\n",
    "Свободня планировка. Квартиры с открытой планировкой дороже. Представленная выборки не очень большая, поэтому этот параметр требует дополнительной проверки.\n",
    "Апартаменты. Стоимость такого типа жилья дороже. Но так же, как и в случае со свободной планировкой - выборка минимальная и результаты могут быть недостоверными.\n"
   ]
  }
 ],
 "metadata": {
  "ExecuteTimeLog": [
   {
    "duration": 810,
    "start_time": "2022-05-15T14:04:58.802Z"
   },
   {
    "duration": 152,
    "start_time": "2022-05-15T14:05:59.966Z"
   },
   {
    "duration": 24,
    "start_time": "2022-05-15T14:06:38.845Z"
   },
   {
    "duration": 94,
    "start_time": "2022-05-15T14:09:43.591Z"
   },
   {
    "duration": 97,
    "start_time": "2022-05-15T14:10:51.086Z"
   },
   {
    "duration": 101,
    "start_time": "2022-05-15T14:11:00.712Z"
   },
   {
    "duration": 16,
    "start_time": "2022-05-15T14:11:01.795Z"
   },
   {
    "duration": 38,
    "start_time": "2022-05-15T14:11:02.694Z"
   },
   {
    "duration": 155,
    "start_time": "2022-05-15T14:14:49.948Z"
   },
   {
    "duration": 21,
    "start_time": "2022-05-15T14:15:35.291Z"
   },
   {
    "duration": 98,
    "start_time": "2022-05-15T14:17:20.217Z"
   },
   {
    "duration": 10,
    "start_time": "2022-05-15T14:18:59.521Z"
   },
   {
    "duration": 3,
    "start_time": "2022-05-15T14:19:05.612Z"
   },
   {
    "duration": 9,
    "start_time": "2022-05-15T14:19:23.512Z"
   },
   {
    "duration": 3,
    "start_time": "2022-05-15T14:19:38.923Z"
   },
   {
    "duration": 84,
    "start_time": "2022-05-15T14:19:50.894Z"
   },
   {
    "duration": 2011,
    "start_time": "2022-05-15T14:24:22.005Z"
   },
   {
    "duration": 30,
    "start_time": "2022-05-15T14:24:56.580Z"
   },
   {
    "duration": 16,
    "start_time": "2022-05-15T15:09:49.697Z"
   },
   {
    "duration": 120,
    "start_time": "2022-05-15T15:19:51.280Z"
   },
   {
    "duration": 1738,
    "start_time": "2022-05-15T15:23:56.344Z"
   },
   {
    "duration": 27,
    "start_time": "2022-05-15T15:24:23.437Z"
   },
   {
    "duration": 81,
    "start_time": "2022-05-15T15:25:36.845Z"
   },
   {
    "duration": 34,
    "start_time": "2022-05-15T15:25:54.617Z"
   },
   {
    "duration": 15,
    "start_time": "2022-05-15T15:30:13.401Z"
   },
   {
    "duration": 48,
    "start_time": "2022-05-15T15:37:53.374Z"
   },
   {
    "duration": 4,
    "start_time": "2022-05-15T15:38:16.425Z"
   },
   {
    "duration": 4,
    "start_time": "2022-05-15T15:38:17.196Z"
   },
   {
    "duration": 179,
    "start_time": "2022-05-15T15:38:18.307Z"
   },
   {
    "duration": 47,
    "start_time": "2022-05-15T15:38:36.350Z"
   },
   {
    "duration": 58,
    "start_time": "2022-05-15T15:39:59.858Z"
   },
   {
    "duration": 1859,
    "start_time": "2022-05-15T15:40:15.529Z"
   },
   {
    "duration": 45,
    "start_time": "2022-05-15T15:44:02.310Z"
   },
   {
    "duration": 58,
    "start_time": "2022-05-15T15:48:03.461Z"
   },
   {
    "duration": 1187,
    "start_time": "2022-05-15T15:48:21.599Z"
   },
   {
    "duration": 1150,
    "start_time": "2022-05-15T15:48:34.959Z"
   },
   {
    "duration": 17,
    "start_time": "2022-05-15T15:49:28.728Z"
   },
   {
    "duration": 4,
    "start_time": "2022-05-15T15:54:55.324Z"
   },
   {
    "duration": 166,
    "start_time": "2022-05-15T15:56:50.192Z"
   },
   {
    "duration": 613,
    "start_time": "2022-05-15T16:00:00.215Z"
   },
   {
    "duration": 38,
    "start_time": "2022-05-15T16:00:51.375Z"
   },
   {
    "duration": 38,
    "start_time": "2022-05-15T16:02:34.888Z"
   },
   {
    "duration": 29,
    "start_time": "2022-05-15T16:03:19.352Z"
   },
   {
    "duration": 27,
    "start_time": "2022-05-15T16:03:29.284Z"
   },
   {
    "duration": 31,
    "start_time": "2022-05-15T16:03:46.234Z"
   },
   {
    "duration": 61,
    "start_time": "2022-05-15T16:05:50.246Z"
   },
   {
    "duration": 518,
    "start_time": "2022-05-15T16:06:51.056Z"
   },
   {
    "duration": 20,
    "start_time": "2022-05-15T16:08:06.567Z"
   },
   {
    "duration": 22,
    "start_time": "2022-05-15T16:08:24.486Z"
   },
   {
    "duration": 24,
    "start_time": "2022-05-15T16:09:54.847Z"
   },
   {
    "duration": 24,
    "start_time": "2022-05-15T16:10:16.314Z"
   },
   {
    "duration": 22,
    "start_time": "2022-05-15T16:19:50.945Z"
   },
   {
    "duration": 25,
    "start_time": "2022-05-15T16:20:10.920Z"
   },
   {
    "duration": 16,
    "start_time": "2022-05-15T16:20:37.094Z"
   },
   {
    "duration": 9,
    "start_time": "2022-05-15T16:22:38.606Z"
   },
   {
    "duration": 9,
    "start_time": "2022-05-15T16:23:00.398Z"
   },
   {
    "duration": 9,
    "start_time": "2022-05-15T16:23:24.174Z"
   },
   {
    "duration": 8,
    "start_time": "2022-05-15T16:24:49.611Z"
   },
   {
    "duration": 13,
    "start_time": "2022-05-15T16:25:21.408Z"
   },
   {
    "duration": 10,
    "start_time": "2022-05-15T16:26:44.504Z"
   },
   {
    "duration": 8,
    "start_time": "2022-05-15T16:27:08.899Z"
   },
   {
    "duration": 10,
    "start_time": "2022-05-15T16:27:32.414Z"
   },
   {
    "duration": 40,
    "start_time": "2022-05-15T16:28:04.944Z"
   },
   {
    "duration": 42,
    "start_time": "2022-05-15T16:28:13.354Z"
   },
   {
    "duration": 12,
    "start_time": "2022-05-15T16:29:00.054Z"
   },
   {
    "duration": 8,
    "start_time": "2022-05-15T16:29:22.028Z"
   },
   {
    "duration": 9,
    "start_time": "2022-05-15T16:29:39.485Z"
   },
   {
    "duration": 9,
    "start_time": "2022-05-15T16:30:01.341Z"
   },
   {
    "duration": 16,
    "start_time": "2022-05-15T16:30:33.195Z"
   },
   {
    "duration": 9,
    "start_time": "2022-05-15T16:31:37.330Z"
   },
   {
    "duration": 12,
    "start_time": "2022-05-15T16:32:03.719Z"
   },
   {
    "duration": 9,
    "start_time": "2022-05-15T16:32:24.989Z"
   },
   {
    "duration": 8,
    "start_time": "2022-05-15T16:32:46.543Z"
   },
   {
    "duration": 8,
    "start_time": "2022-05-15T16:33:04.030Z"
   },
   {
    "duration": 8,
    "start_time": "2022-05-15T16:33:23.606Z"
   },
   {
    "duration": 10,
    "start_time": "2022-05-15T16:34:13.886Z"
   },
   {
    "duration": 34,
    "start_time": "2022-05-15T16:34:29.318Z"
   },
   {
    "duration": 26,
    "start_time": "2022-05-15T16:34:43.960Z"
   },
   {
    "duration": 47,
    "start_time": "2022-05-16T19:01:03.119Z"
   },
   {
    "duration": 349,
    "start_time": "2022-05-16T19:01:12.149Z"
   },
   {
    "duration": 3,
    "start_time": "2022-05-16T19:01:12.942Z"
   },
   {
    "duration": 99,
    "start_time": "2022-05-16T19:01:13.999Z"
   },
   {
    "duration": 14,
    "start_time": "2022-05-16T19:01:21.350Z"
   },
   {
    "duration": 12,
    "start_time": "2022-05-16T19:01:34.347Z"
   },
   {
    "duration": 416,
    "start_time": "2022-05-16T19:01:48.172Z"
   },
   {
    "duration": 6,
    "start_time": "2022-05-16T19:01:48.889Z"
   },
   {
    "duration": 102,
    "start_time": "2022-05-16T19:01:49.667Z"
   },
   {
    "duration": 8,
    "start_time": "2022-05-16T19:01:59.673Z"
   },
   {
    "duration": 3,
    "start_time": "2022-05-16T19:02:14.778Z"
   },
   {
    "duration": 96,
    "start_time": "2022-05-16T19:02:15.523Z"
   },
   {
    "duration": 6,
    "start_time": "2022-05-16T19:02:25.828Z"
   },
   {
    "duration": 7,
    "start_time": "2022-05-16T19:02:54.483Z"
   },
   {
    "duration": 8,
    "start_time": "2022-05-16T19:03:06.211Z"
   },
   {
    "duration": 6,
    "start_time": "2022-05-16T19:03:26.343Z"
   },
   {
    "duration": 7,
    "start_time": "2022-05-16T19:03:35.623Z"
   },
   {
    "duration": 8,
    "start_time": "2022-05-16T19:04:14.015Z"
   },
   {
    "duration": 3,
    "start_time": "2022-05-16T19:05:05.756Z"
   },
   {
    "duration": 96,
    "start_time": "2022-05-16T19:05:08.858Z"
   },
   {
    "duration": 80,
    "start_time": "2022-05-16T19:05:42.660Z"
   },
   {
    "duration": 28,
    "start_time": "2022-05-16T19:05:57.516Z"
   },
   {
    "duration": 8,
    "start_time": "2022-05-16T19:06:53.439Z"
   },
   {
    "duration": 35,
    "start_time": "2022-05-16T19:07:07.168Z"
   },
   {
    "duration": 451,
    "start_time": "2022-05-16T19:07:58.017Z"
   },
   {
    "duration": 87,
    "start_time": "2022-05-16T19:08:06.643Z"
   },
   {
    "duration": 27,
    "start_time": "2022-05-16T19:08:14.114Z"
   },
   {
    "duration": 71,
    "start_time": "2022-05-16T19:09:20.466Z"
   },
   {
    "duration": 3,
    "start_time": "2022-05-16T19:09:28.154Z"
   },
   {
    "duration": 2,
    "start_time": "2022-05-16T19:09:35.974Z"
   },
   {
    "duration": 119,
    "start_time": "2022-05-16T19:09:42.166Z"
   },
   {
    "duration": 4,
    "start_time": "2022-05-16T19:09:47.902Z"
   },
   {
    "duration": 18,
    "start_time": "2022-05-16T19:10:15.704Z"
   },
   {
    "duration": 5,
    "start_time": "2022-05-16T19:10:45.448Z"
   },
   {
    "duration": 11,
    "start_time": "2022-05-16T19:10:58.491Z"
   },
   {
    "duration": 14,
    "start_time": "2022-05-16T19:11:16.748Z"
   },
   {
    "duration": 3,
    "start_time": "2022-05-16T19:11:44.328Z"
   },
   {
    "duration": 9,
    "start_time": "2022-05-16T19:12:03.087Z"
   },
   {
    "duration": 14,
    "start_time": "2022-05-16T19:12:13.636Z"
   },
   {
    "duration": 3,
    "start_time": "2022-05-16T19:12:25.764Z"
   },
   {
    "duration": 18,
    "start_time": "2022-05-16T19:12:34.273Z"
   },
   {
    "duration": 27,
    "start_time": "2022-05-16T19:13:49.665Z"
   },
   {
    "duration": 6,
    "start_time": "2022-05-16T19:14:22.836Z"
   },
   {
    "duration": 5,
    "start_time": "2022-05-16T19:14:48.645Z"
   },
   {
    "duration": 7,
    "start_time": "2022-05-16T19:15:32.623Z"
   },
   {
    "duration": 7,
    "start_time": "2022-05-16T19:17:10.501Z"
   },
   {
    "duration": 32,
    "start_time": "2022-05-16T19:17:51.782Z"
   },
   {
    "duration": 14,
    "start_time": "2022-05-16T19:18:20.416Z"
   },
   {
    "duration": 33,
    "start_time": "2022-05-16T19:18:48.726Z"
   },
   {
    "duration": 12,
    "start_time": "2022-05-16T19:22:56.527Z"
   },
   {
    "duration": 11,
    "start_time": "2022-05-16T19:23:21.062Z"
   },
   {
    "duration": 12,
    "start_time": "2022-05-16T19:23:39.194Z"
   },
   {
    "duration": 74,
    "start_time": "2022-05-16T19:24:18.905Z"
   },
   {
    "duration": 8,
    "start_time": "2022-05-16T19:24:32.560Z"
   },
   {
    "duration": 11,
    "start_time": "2022-05-16T19:24:41.847Z"
   },
   {
    "duration": 20,
    "start_time": "2022-05-16T19:24:59.060Z"
   },
   {
    "duration": 6,
    "start_time": "2022-05-16T19:25:13.431Z"
   },
   {
    "duration": 6,
    "start_time": "2022-05-16T19:25:14.533Z"
   },
   {
    "duration": 19,
    "start_time": "2022-05-16T19:25:26.516Z"
   },
   {
    "duration": 11,
    "start_time": "2022-05-16T19:27:17.980Z"
   },
   {
    "duration": 469,
    "start_time": "2022-05-16T19:27:23.292Z"
   },
   {
    "duration": 490,
    "start_time": "2022-05-16T19:28:16.851Z"
   },
   {
    "duration": 2,
    "start_time": "2022-05-21T14:38:09.185Z"
   },
   {
    "duration": 87,
    "start_time": "2022-05-21T14:38:10.876Z"
   },
   {
    "duration": 411,
    "start_time": "2022-05-21T14:38:25.609Z"
   },
   {
    "duration": 3,
    "start_time": "2022-05-21T14:38:26.920Z"
   },
   {
    "duration": 92,
    "start_time": "2022-05-21T14:38:27.916Z"
   },
   {
    "duration": 23,
    "start_time": "2022-05-21T14:39:57.928Z"
   },
   {
    "duration": 6,
    "start_time": "2022-05-21T14:40:36.157Z"
   },
   {
    "duration": 17,
    "start_time": "2022-05-21T14:45:25.156Z"
   },
   {
    "duration": 87,
    "start_time": "2022-05-21T14:46:41.916Z"
   },
   {
    "duration": 17,
    "start_time": "2022-05-21T14:46:45.000Z"
   },
   {
    "duration": 14,
    "start_time": "2022-05-21T14:47:38.917Z"
   },
   {
    "duration": 5,
    "start_time": "2022-05-21T14:47:56.857Z"
   },
   {
    "duration": 6,
    "start_time": "2022-05-21T14:49:47.296Z"
   },
   {
    "duration": 8,
    "start_time": "2022-05-21T14:50:24.180Z"
   },
   {
    "duration": 9,
    "start_time": "2022-05-21T14:54:20.324Z"
   },
   {
    "duration": 4,
    "start_time": "2022-05-21T14:54:28.311Z"
   },
   {
    "duration": 277,
    "start_time": "2022-05-21T15:04:28.908Z"
   },
   {
    "duration": 19,
    "start_time": "2022-05-21T15:05:24.320Z"
   },
   {
    "duration": 9,
    "start_time": "2022-05-21T15:19:27.494Z"
   },
   {
    "duration": 8,
    "start_time": "2022-05-21T15:21:40.295Z"
   },
   {
    "duration": 76,
    "start_time": "2022-05-21T15:22:32.827Z"
   },
   {
    "duration": 9,
    "start_time": "2022-05-21T15:23:35.189Z"
   },
   {
    "duration": 29,
    "start_time": "2022-05-21T15:24:13.700Z"
   },
   {
    "duration": 34,
    "start_time": "2022-05-21T15:24:48.732Z"
   },
   {
    "duration": 16,
    "start_time": "2022-05-21T15:26:14.975Z"
   },
   {
    "duration": 7,
    "start_time": "2022-05-21T15:26:42.604Z"
   },
   {
    "duration": 8,
    "start_time": "2022-05-21T15:27:23.125Z"
   },
   {
    "duration": 28,
    "start_time": "2022-05-21T15:28:48.011Z"
   },
   {
    "duration": 927,
    "start_time": "2022-05-21T15:29:56.422Z"
   },
   {
    "duration": 175,
    "start_time": "2022-05-21T15:31:27.278Z"
   },
   {
    "duration": 135,
    "start_time": "2022-05-21T15:31:33.331Z"
   },
   {
    "duration": 178,
    "start_time": "2022-05-21T15:31:58.824Z"
   },
   {
    "duration": 76,
    "start_time": "2022-05-21T15:32:35.015Z"
   },
   {
    "duration": 8,
    "start_time": "2022-05-21T15:34:31.523Z"
   },
   {
    "duration": 6,
    "start_time": "2022-05-21T15:35:12.171Z"
   },
   {
    "duration": 38,
    "start_time": "2022-05-21T15:37:13.103Z"
   },
   {
    "duration": 24,
    "start_time": "2022-05-21T15:38:53.820Z"
   },
   {
    "duration": 8,
    "start_time": "2022-05-21T15:44:12.779Z"
   },
   {
    "duration": 8,
    "start_time": "2022-05-21T15:44:55.088Z"
   },
   {
    "duration": 37,
    "start_time": "2022-05-21T15:47:35.301Z"
   },
   {
    "duration": 11,
    "start_time": "2022-05-21T15:47:45.817Z"
   },
   {
    "duration": 11,
    "start_time": "2022-05-21T15:49:10.179Z"
   },
   {
    "duration": 28,
    "start_time": "2022-05-21T15:49:53.487Z"
   },
   {
    "duration": 33,
    "start_time": "2022-05-21T15:49:59.416Z"
   },
   {
    "duration": 43,
    "start_time": "2022-05-21T15:51:26.580Z"
   },
   {
    "duration": 42,
    "start_time": "2022-05-21T15:53:25.629Z"
   },
   {
    "duration": 8,
    "start_time": "2022-05-21T15:54:49.807Z"
   },
   {
    "duration": 12,
    "start_time": "2022-05-21T15:59:42.288Z"
   },
   {
    "duration": 6,
    "start_time": "2022-05-21T15:59:50.582Z"
   },
   {
    "duration": 6,
    "start_time": "2022-05-21T16:00:17.747Z"
   },
   {
    "duration": 19,
    "start_time": "2022-05-21T16:03:21.186Z"
   },
   {
    "duration": 15,
    "start_time": "2022-05-21T16:03:38.670Z"
   },
   {
    "duration": 10,
    "start_time": "2022-05-21T16:03:57.569Z"
   },
   {
    "duration": 125,
    "start_time": "2022-05-21T16:04:18.116Z"
   },
   {
    "duration": 165,
    "start_time": "2022-05-21T16:04:31.087Z"
   },
   {
    "duration": 110,
    "start_time": "2022-05-21T16:04:55.355Z"
   },
   {
    "duration": 144,
    "start_time": "2022-05-21T16:05:06.931Z"
   },
   {
    "duration": 16,
    "start_time": "2022-05-21T16:05:27.016Z"
   },
   {
    "duration": 16,
    "start_time": "2022-05-21T16:05:35.030Z"
   },
   {
    "duration": 9,
    "start_time": "2022-05-21T16:06:26.991Z"
   },
   {
    "duration": 15,
    "start_time": "2022-05-21T16:06:59.127Z"
   },
   {
    "duration": 251,
    "start_time": "2022-05-21T16:07:13.323Z"
   },
   {
    "duration": 14,
    "start_time": "2022-05-21T16:07:24.270Z"
   },
   {
    "duration": 10,
    "start_time": "2022-05-21T16:07:35.286Z"
   },
   {
    "duration": 9,
    "start_time": "2022-05-21T16:07:57.346Z"
   },
   {
    "duration": 10,
    "start_time": "2022-05-21T16:08:20.920Z"
   },
   {
    "duration": 9,
    "start_time": "2022-05-21T16:15:08.744Z"
   },
   {
    "duration": 22,
    "start_time": "2022-05-21T16:15:57.483Z"
   },
   {
    "duration": 9,
    "start_time": "2022-05-21T16:17:10.450Z"
   },
   {
    "duration": 8,
    "start_time": "2022-05-21T16:17:33.288Z"
   },
   {
    "duration": 8,
    "start_time": "2022-05-21T16:17:46.416Z"
   },
   {
    "duration": 13,
    "start_time": "2022-05-21T16:18:49.212Z"
   },
   {
    "duration": 12,
    "start_time": "2022-05-21T16:19:31.653Z"
   },
   {
    "duration": 5,
    "start_time": "2022-05-21T16:19:46.173Z"
   },
   {
    "duration": 33,
    "start_time": "2022-05-21T16:23:22.507Z"
   },
   {
    "duration": 2,
    "start_time": "2022-05-21T16:23:36.661Z"
   },
   {
    "duration": 4,
    "start_time": "2022-05-21T16:23:37.424Z"
   },
   {
    "duration": 86,
    "start_time": "2022-05-21T16:23:38.118Z"
   },
   {
    "duration": 33,
    "start_time": "2022-05-21T16:23:47.223Z"
   },
   {
    "duration": 8,
    "start_time": "2022-05-21T16:24:14.215Z"
   },
   {
    "duration": 12,
    "start_time": "2022-05-21T16:24:24.278Z"
   },
   {
    "duration": 8,
    "start_time": "2022-05-21T16:26:18.741Z"
   },
   {
    "duration": 9,
    "start_time": "2022-05-21T16:27:14.899Z"
   },
   {
    "duration": 14,
    "start_time": "2022-05-21T16:27:17.755Z"
   },
   {
    "duration": 7,
    "start_time": "2022-05-21T16:27:21.088Z"
   },
   {
    "duration": 7,
    "start_time": "2022-05-21T16:27:23.481Z"
   },
   {
    "duration": 29,
    "start_time": "2022-05-21T16:27:35.455Z"
   },
   {
    "duration": 20,
    "start_time": "2022-05-21T16:40:13.947Z"
   },
   {
    "duration": 19,
    "start_time": "2022-05-21T16:40:26.189Z"
   },
   {
    "duration": 9,
    "start_time": "2022-05-21T16:40:43.673Z"
   },
   {
    "duration": 35,
    "start_time": "2022-05-21T16:43:29.246Z"
   },
   {
    "duration": 9,
    "start_time": "2022-05-21T16:45:16.596Z"
   },
   {
    "duration": 8,
    "start_time": "2022-05-21T16:46:12.752Z"
   },
   {
    "duration": 11,
    "start_time": "2022-05-21T16:47:41.675Z"
   },
   {
    "duration": 8,
    "start_time": "2022-05-21T16:47:49.616Z"
   },
   {
    "duration": 9,
    "start_time": "2022-05-21T16:48:20.125Z"
   },
   {
    "duration": 6,
    "start_time": "2022-05-21T16:50:41.849Z"
   },
   {
    "duration": 21,
    "start_time": "2022-05-21T16:51:25.279Z"
   },
   {
    "duration": 6,
    "start_time": "2022-05-21T17:05:05.999Z"
   },
   {
    "duration": 6,
    "start_time": "2022-05-21T17:05:41.673Z"
   },
   {
    "duration": 6,
    "start_time": "2022-05-21T17:11:14.250Z"
   },
   {
    "duration": 6,
    "start_time": "2022-05-21T17:11:55.163Z"
   },
   {
    "duration": 7,
    "start_time": "2022-05-21T17:13:12.179Z"
   },
   {
    "duration": 8,
    "start_time": "2022-05-21T17:18:18.095Z"
   },
   {
    "duration": 12,
    "start_time": "2022-05-21T17:19:10.447Z"
   },
   {
    "duration": 4640,
    "start_time": "2022-05-21T17:19:50.147Z"
   },
   {
    "duration": 47,
    "start_time": "2022-05-21T17:22:05.555Z"
   },
   {
    "duration": 26,
    "start_time": "2022-05-21T17:23:19.253Z"
   },
   {
    "duration": 83,
    "start_time": "2022-05-21T17:28:04.897Z"
   },
   {
    "duration": 8,
    "start_time": "2022-05-21T17:28:57.524Z"
   },
   {
    "duration": 4,
    "start_time": "2022-05-21T17:29:13.492Z"
   },
   {
    "duration": 13,
    "start_time": "2022-05-21T17:29:30.351Z"
   },
   {
    "duration": 7,
    "start_time": "2022-05-21T17:29:39.259Z"
   },
   {
    "duration": 6,
    "start_time": "2022-05-21T17:30:03.305Z"
   },
   {
    "duration": 24,
    "start_time": "2022-05-21T17:31:04.654Z"
   },
   {
    "duration": 23,
    "start_time": "2022-05-21T17:31:20.618Z"
   },
   {
    "duration": 5,
    "start_time": "2022-05-21T17:32:28.112Z"
   },
   {
    "duration": 31,
    "start_time": "2022-05-21T17:33:04.305Z"
   },
   {
    "duration": 10,
    "start_time": "2022-05-21T17:34:00.646Z"
   },
   {
    "duration": 69,
    "start_time": "2022-05-21T17:34:57.655Z"
   },
   {
    "duration": 29,
    "start_time": "2022-05-21T17:35:10.648Z"
   },
   {
    "duration": 3,
    "start_time": "2022-05-21T17:35:34.901Z"
   },
   {
    "duration": 18,
    "start_time": "2022-05-21T17:35:39.265Z"
   },
   {
    "duration": 8,
    "start_time": "2022-05-21T17:37:05.650Z"
   },
   {
    "duration": 8,
    "start_time": "2022-05-21T17:37:44.106Z"
   },
   {
    "duration": 10,
    "start_time": "2022-05-21T17:38:08.792Z"
   },
   {
    "duration": 28,
    "start_time": "2022-05-21T18:27:28.557Z"
   },
   {
    "duration": 14,
    "start_time": "2022-05-21T18:29:24.183Z"
   },
   {
    "duration": 22,
    "start_time": "2022-05-21T18:30:10.858Z"
   },
   {
    "duration": 54,
    "start_time": "2022-05-21T18:30:57.463Z"
   },
   {
    "duration": 16,
    "start_time": "2022-05-21T18:43:02.617Z"
   },
   {
    "duration": 16,
    "start_time": "2022-05-21T18:43:20.597Z"
   },
   {
    "duration": 14,
    "start_time": "2022-05-21T18:44:20.510Z"
   },
   {
    "duration": 13,
    "start_time": "2022-05-21T18:45:05.311Z"
   },
   {
    "duration": 14,
    "start_time": "2022-05-21T18:45:48.696Z"
   },
   {
    "duration": 28,
    "start_time": "2022-05-21T18:46:29.811Z"
   },
   {
    "duration": 31,
    "start_time": "2022-05-21T18:47:36.467Z"
   },
   {
    "duration": 11,
    "start_time": "2022-05-21T18:51:17.311Z"
   },
   {
    "duration": 46,
    "start_time": "2022-05-21T18:51:24.603Z"
   },
   {
    "duration": 44,
    "start_time": "2022-05-21T18:51:30.965Z"
   },
   {
    "duration": 27,
    "start_time": "2022-05-21T18:52:14.225Z"
   },
   {
    "duration": 4867,
    "start_time": "2022-05-21T19:03:32.800Z"
   },
   {
    "duration": 175,
    "start_time": "2022-05-21T19:04:14.225Z"
   },
   {
    "duration": 172,
    "start_time": "2022-05-21T19:04:26.663Z"
   },
   {
    "duration": 343,
    "start_time": "2022-05-21T19:04:34.762Z"
   },
   {
    "duration": 375,
    "start_time": "2022-05-21T19:04:41.978Z"
   },
   {
    "duration": 139,
    "start_time": "2022-05-21T19:05:07.680Z"
   },
   {
    "duration": 22,
    "start_time": "2022-05-21T19:05:52.028Z"
   },
   {
    "duration": 9,
    "start_time": "2022-05-21T19:11:40.810Z"
   },
   {
    "duration": 13,
    "start_time": "2022-05-21T19:11:50.578Z"
   },
   {
    "duration": 34,
    "start_time": "2022-05-21T19:12:11.172Z"
   },
   {
    "duration": 30,
    "start_time": "2022-05-21T19:12:51.366Z"
   },
   {
    "duration": 23,
    "start_time": "2022-05-21T19:19:27.437Z"
   },
   {
    "duration": 10,
    "start_time": "2022-05-21T19:21:53.839Z"
   },
   {
    "duration": 51,
    "start_time": "2022-05-21T19:23:31.347Z"
   },
   {
    "duration": 20,
    "start_time": "2022-05-21T19:23:44.684Z"
   },
   {
    "duration": 51,
    "start_time": "2022-05-21T19:23:46.179Z"
   },
   {
    "duration": 49,
    "start_time": "2022-05-21T19:24:24.369Z"
   },
   {
    "duration": 83,
    "start_time": "2022-05-21T19:25:07.116Z"
   },
   {
    "duration": 33,
    "start_time": "2022-05-21T19:25:49.096Z"
   },
   {
    "duration": 6,
    "start_time": "2022-05-21T19:31:47.236Z"
   },
   {
    "duration": 3,
    "start_time": "2022-05-21T19:31:55.992Z"
   },
   {
    "duration": 3,
    "start_time": "2022-05-21T19:31:56.497Z"
   },
   {
    "duration": 87,
    "start_time": "2022-05-21T19:31:57.296Z"
   },
   {
    "duration": 10,
    "start_time": "2022-05-21T19:32:09.531Z"
   },
   {
    "duration": 8,
    "start_time": "2022-05-21T19:32:11.305Z"
   },
   {
    "duration": 10,
    "start_time": "2022-05-21T19:32:12.892Z"
   },
   {
    "duration": 6,
    "start_time": "2022-05-21T19:32:14.582Z"
   },
   {
    "duration": 6,
    "start_time": "2022-05-21T19:32:16.440Z"
   },
   {
    "duration": 8,
    "start_time": "2022-05-21T19:32:19.014Z"
   },
   {
    "duration": 7,
    "start_time": "2022-05-21T19:32:20.809Z"
   },
   {
    "duration": 7,
    "start_time": "2022-05-21T19:46:50.812Z"
   },
   {
    "duration": 17,
    "start_time": "2022-05-21T19:47:36.163Z"
   },
   {
    "duration": 11,
    "start_time": "2022-05-21T19:58:27.417Z"
   },
   {
    "duration": 7,
    "start_time": "2022-05-21T20:03:35.178Z"
   },
   {
    "duration": 8,
    "start_time": "2022-05-21T20:08:38.363Z"
   },
   {
    "duration": 8,
    "start_time": "2022-05-21T20:10:58.125Z"
   },
   {
    "duration": 8,
    "start_time": "2022-05-21T20:11:30.907Z"
   },
   {
    "duration": 10,
    "start_time": "2022-05-21T20:16:07.476Z"
   },
   {
    "duration": 19,
    "start_time": "2022-05-21T20:16:22.291Z"
   },
   {
    "duration": 4,
    "start_time": "2022-05-21T20:22:35.419Z"
   },
   {
    "duration": 4,
    "start_time": "2022-05-21T20:22:51.969Z"
   },
   {
    "duration": 14,
    "start_time": "2022-05-21T20:23:04.161Z"
   },
   {
    "duration": 391,
    "start_time": "2022-05-22T12:43:29.265Z"
   },
   {
    "duration": 3,
    "start_time": "2022-05-22T12:43:30.060Z"
   },
   {
    "duration": 325,
    "start_time": "2022-05-22T12:43:30.816Z"
   },
   {
    "duration": 24,
    "start_time": "2022-05-22T12:43:32.241Z"
   },
   {
    "duration": 15,
    "start_time": "2022-05-22T12:43:33.966Z"
   },
   {
    "duration": 66,
    "start_time": "2022-05-22T12:43:36.308Z"
   },
   {
    "duration": 18,
    "start_time": "2022-05-22T12:43:39.280Z"
   },
   {
    "duration": 236,
    "start_time": "2022-05-22T12:44:21.784Z"
   },
   {
    "duration": 7,
    "start_time": "2022-05-22T12:44:24.059Z"
   },
   {
    "duration": 9,
    "start_time": "2022-05-22T12:44:25.896Z"
   },
   {
    "duration": 10,
    "start_time": "2022-05-22T12:44:35.302Z"
   },
   {
    "duration": 5,
    "start_time": "2022-05-22T12:44:39.519Z"
   },
   {
    "duration": 5,
    "start_time": "2022-05-22T12:44:48.870Z"
   },
   {
    "duration": 7,
    "start_time": "2022-05-22T12:44:52.203Z"
   },
   {
    "duration": 5,
    "start_time": "2022-05-22T12:50:34.883Z"
   },
   {
    "duration": 6,
    "start_time": "2022-05-22T12:58:06.408Z"
   },
   {
    "duration": 6,
    "start_time": "2022-05-22T12:58:22.959Z"
   },
   {
    "duration": 7,
    "start_time": "2022-05-22T12:59:35.011Z"
   },
   {
    "duration": 7,
    "start_time": "2022-05-22T13:07:18.555Z"
   },
   {
    "duration": 7,
    "start_time": "2022-05-22T13:07:50.662Z"
   },
   {
    "duration": 20,
    "start_time": "2022-05-22T13:08:15.580Z"
   },
   {
    "duration": 4,
    "start_time": "2022-05-22T13:09:10.412Z"
   },
   {
    "duration": 5,
    "start_time": "2022-05-22T13:09:19.110Z"
   },
   {
    "duration": 11,
    "start_time": "2022-05-22T13:09:37.018Z"
   },
   {
    "duration": 2,
    "start_time": "2022-05-22T13:09:51.555Z"
   },
   {
    "duration": 3,
    "start_time": "2022-05-22T13:09:52.319Z"
   },
   {
    "duration": 100,
    "start_time": "2022-05-22T13:09:53.114Z"
   },
   {
    "duration": 18,
    "start_time": "2022-05-22T13:09:54.172Z"
   },
   {
    "duration": 14,
    "start_time": "2022-05-22T13:09:55.704Z"
   },
   {
    "duration": 67,
    "start_time": "2022-05-22T13:09:59.857Z"
   },
   {
    "duration": 23,
    "start_time": "2022-05-22T13:10:01.269Z"
   },
   {
    "duration": 7,
    "start_time": "2022-05-22T13:10:06.827Z"
   },
   {
    "duration": 10,
    "start_time": "2022-05-22T13:10:08.688Z"
   },
   {
    "duration": 9,
    "start_time": "2022-05-22T13:10:12.025Z"
   },
   {
    "duration": 15,
    "start_time": "2022-05-22T13:10:41.704Z"
   },
   {
    "duration": 8,
    "start_time": "2022-05-22T13:10:44.282Z"
   },
   {
    "duration": 12,
    "start_time": "2022-05-22T13:11:21.472Z"
   },
   {
    "duration": 38,
    "start_time": "2022-05-22T13:12:34.257Z"
   },
   {
    "duration": 38,
    "start_time": "2022-05-22T13:12:52.571Z"
   },
   {
    "duration": 10,
    "start_time": "2022-05-22T13:13:05.025Z"
   },
   {
    "duration": 3,
    "start_time": "2022-05-22T13:13:07.453Z"
   },
   {
    "duration": 5,
    "start_time": "2022-05-22T13:13:09.161Z"
   },
   {
    "duration": 6,
    "start_time": "2022-05-22T13:13:14.161Z"
   },
   {
    "duration": 6,
    "start_time": "2022-05-22T13:13:15.529Z"
   },
   {
    "duration": 6,
    "start_time": "2022-05-22T13:13:30.479Z"
   },
   {
    "duration": 6,
    "start_time": "2022-05-22T13:15:15.547Z"
   },
   {
    "duration": 9,
    "start_time": "2022-05-22T13:17:48.031Z"
   },
   {
    "duration": 12,
    "start_time": "2022-05-22T13:17:58.454Z"
   },
   {
    "duration": 3,
    "start_time": "2022-05-22T13:18:11.355Z"
   },
   {
    "duration": 3,
    "start_time": "2022-05-22T13:18:12.021Z"
   },
   {
    "duration": 97,
    "start_time": "2022-05-22T13:18:14.644Z"
   },
   {
    "duration": 17,
    "start_time": "2022-05-22T13:18:21.718Z"
   },
   {
    "duration": 7,
    "start_time": "2022-05-22T13:18:44.176Z"
   },
   {
    "duration": 8,
    "start_time": "2022-05-22T13:19:14.309Z"
   },
   {
    "duration": 12,
    "start_time": "2022-05-22T13:19:25.652Z"
   },
   {
    "duration": 88,
    "start_time": "2022-05-22T13:20:38.983Z"
   },
   {
    "duration": 8,
    "start_time": "2022-05-22T13:20:51.414Z"
   },
   {
    "duration": 13,
    "start_time": "2022-05-22T13:21:03.568Z"
   },
   {
    "duration": 2,
    "start_time": "2022-05-22T13:21:59.464Z"
   },
   {
    "duration": 13,
    "start_time": "2022-05-22T13:22:11.831Z"
   },
   {
    "duration": 14,
    "start_time": "2022-05-22T13:22:16.809Z"
   },
   {
    "duration": 87,
    "start_time": "2022-05-22T13:22:25.094Z"
   },
   {
    "duration": 22,
    "start_time": "2022-05-22T13:22:32.981Z"
   },
   {
    "duration": 9,
    "start_time": "2022-05-22T13:23:02.618Z"
   },
   {
    "duration": 9,
    "start_time": "2022-05-22T13:23:04.177Z"
   },
   {
    "duration": 8,
    "start_time": "2022-05-22T13:23:05.680Z"
   },
   {
    "duration": 8,
    "start_time": "2022-05-22T13:23:07.319Z"
   },
   {
    "duration": 7,
    "start_time": "2022-05-22T13:23:09.007Z"
   },
   {
    "duration": 10,
    "start_time": "2022-05-22T13:23:10.463Z"
   },
   {
    "duration": 7,
    "start_time": "2022-05-22T13:23:12.050Z"
   },
   {
    "duration": 9,
    "start_time": "2022-05-22T13:23:12.968Z"
   },
   {
    "duration": 7,
    "start_time": "2022-05-22T13:23:15.970Z"
   },
   {
    "duration": 8,
    "start_time": "2022-05-22T13:23:21.282Z"
   },
   {
    "duration": 7,
    "start_time": "2022-05-22T13:24:21.758Z"
   },
   {
    "duration": 6,
    "start_time": "2022-05-22T13:24:37.117Z"
   },
   {
    "duration": 87,
    "start_time": "2022-05-22T13:25:34.053Z"
   },
   {
    "duration": 7,
    "start_time": "2022-05-22T13:25:45.827Z"
   },
   {
    "duration": 9,
    "start_time": "2022-05-22T13:44:08.752Z"
   },
   {
    "duration": 13,
    "start_time": "2022-05-22T13:45:23.355Z"
   },
   {
    "duration": 88,
    "start_time": "2022-05-22T13:46:44.720Z"
   },
   {
    "duration": 8,
    "start_time": "2022-05-22T13:47:04.305Z"
   },
   {
    "duration": 50,
    "start_time": "2022-05-22T13:49:21.205Z"
   },
   {
    "duration": 12,
    "start_time": "2022-05-22T13:49:39.788Z"
   },
   {
    "duration": 14,
    "start_time": "2022-05-22T13:49:53.616Z"
   },
   {
    "duration": 306,
    "start_time": "2022-05-22T13:50:17.303Z"
   },
   {
    "duration": 11,
    "start_time": "2022-05-22T13:50:43.707Z"
   },
   {
    "duration": 12,
    "start_time": "2022-05-22T13:50:52.001Z"
   },
   {
    "duration": 84,
    "start_time": "2022-05-22T13:51:05.684Z"
   },
   {
    "duration": 18,
    "start_time": "2022-05-22T13:51:11.701Z"
   },
   {
    "duration": 10,
    "start_time": "2022-05-22T13:51:33.272Z"
   },
   {
    "duration": 12,
    "start_time": "2022-05-22T13:51:47.190Z"
   },
   {
    "duration": 88,
    "start_time": "2022-05-22T13:51:56.082Z"
   },
   {
    "duration": 6,
    "start_time": "2022-05-22T13:53:33.991Z"
   },
   {
    "duration": 6,
    "start_time": "2022-05-22T14:05:54.459Z"
   },
   {
    "duration": 11,
    "start_time": "2022-05-22T14:06:05.262Z"
   },
   {
    "duration": 300,
    "start_time": "2022-05-22T14:06:12.829Z"
   },
   {
    "duration": 11,
    "start_time": "2022-05-22T14:07:14.816Z"
   },
   {
    "duration": 14,
    "start_time": "2022-05-22T14:07:21.745Z"
   },
   {
    "duration": 99,
    "start_time": "2022-05-22T14:08:03.770Z"
   },
   {
    "duration": 6,
    "start_time": "2022-05-22T14:08:26.072Z"
   },
   {
    "duration": 9,
    "start_time": "2022-05-22T14:10:36.970Z"
   },
   {
    "duration": 82,
    "start_time": "2022-05-22T14:10:54.153Z"
   },
   {
    "duration": 13,
    "start_time": "2022-05-22T14:10:57.563Z"
   },
   {
    "duration": 10,
    "start_time": "2022-05-22T14:11:15.326Z"
   },
   {
    "duration": 20,
    "start_time": "2022-05-22T14:11:42.649Z"
   },
   {
    "duration": 100,
    "start_time": "2022-05-22T14:13:59.045Z"
   },
   {
    "duration": 32,
    "start_time": "2022-05-22T14:14:32.381Z"
   },
   {
    "duration": 8,
    "start_time": "2022-05-22T14:15:04.547Z"
   },
   {
    "duration": 8,
    "start_time": "2022-05-22T14:15:52.291Z"
   },
   {
    "duration": 7,
    "start_time": "2022-05-22T14:16:10.346Z"
   },
   {
    "duration": 7,
    "start_time": "2022-05-22T14:17:03.220Z"
   },
   {
    "duration": 14,
    "start_time": "2022-05-22T14:17:45.123Z"
   },
   {
    "duration": 8,
    "start_time": "2022-05-22T14:17:55.393Z"
   },
   {
    "duration": 13,
    "start_time": "2022-05-22T14:18:07.091Z"
   },
   {
    "duration": 8,
    "start_time": "2022-05-22T14:19:15.314Z"
   },
   {
    "duration": 35,
    "start_time": "2022-05-22T14:25:06.055Z"
   },
   {
    "duration": 84,
    "start_time": "2022-05-22T14:25:22.521Z"
   },
   {
    "duration": 12,
    "start_time": "2022-05-22T14:25:30.324Z"
   },
   {
    "duration": 46,
    "start_time": "2022-05-22T14:25:38.860Z"
   },
   {
    "duration": 55,
    "start_time": "2022-05-22T14:26:23.303Z"
   },
   {
    "duration": 430,
    "start_time": "2022-05-22T14:27:54.350Z"
   },
   {
    "duration": 3,
    "start_time": "2022-05-22T14:27:55.119Z"
   },
   {
    "duration": 203,
    "start_time": "2022-05-22T14:27:55.784Z"
   },
   {
    "duration": 25,
    "start_time": "2022-05-22T14:27:56.508Z"
   },
   {
    "duration": 13,
    "start_time": "2022-05-22T14:27:57.474Z"
   },
   {
    "duration": 62,
    "start_time": "2022-05-22T14:27:58.760Z"
   },
   {
    "duration": 20,
    "start_time": "2022-05-22T14:28:01.633Z"
   },
   {
    "duration": 9,
    "start_time": "2022-05-22T14:28:10.641Z"
   },
   {
    "duration": 7,
    "start_time": "2022-05-22T14:28:12.492Z"
   },
   {
    "duration": 10,
    "start_time": "2022-05-22T14:28:14.573Z"
   },
   {
    "duration": 9,
    "start_time": "2022-05-22T14:28:16.728Z"
   },
   {
    "duration": 6,
    "start_time": "2022-05-22T14:28:19.441Z"
   },
   {
    "duration": 5,
    "start_time": "2022-05-22T14:28:20.956Z"
   },
   {
    "duration": 7,
    "start_time": "2022-05-22T14:28:22.645Z"
   },
   {
    "duration": 5,
    "start_time": "2022-05-22T14:28:23.968Z"
   },
   {
    "duration": 5,
    "start_time": "2022-05-22T14:28:27.351Z"
   },
   {
    "duration": 17,
    "start_time": "2022-05-22T14:28:51.319Z"
   },
   {
    "duration": 14,
    "start_time": "2022-05-22T14:28:59.769Z"
   },
   {
    "duration": 53,
    "start_time": "2022-05-22T14:29:28.035Z"
   },
   {
    "duration": 6,
    "start_time": "2022-05-22T14:29:44.888Z"
   },
   {
    "duration": 13,
    "start_time": "2022-05-22T14:34:06.107Z"
   },
   {
    "duration": 67,
    "start_time": "2022-05-22T14:34:18.170Z"
   },
   {
    "duration": 8,
    "start_time": "2022-05-22T14:34:33.285Z"
   },
   {
    "duration": 7,
    "start_time": "2022-05-22T14:34:42.965Z"
   },
   {
    "duration": 92,
    "start_time": "2022-05-22T14:34:54.944Z"
   },
   {
    "duration": 19,
    "start_time": "2022-05-22T14:34:56.387Z"
   },
   {
    "duration": 13,
    "start_time": "2022-05-22T14:34:57.171Z"
   },
   {
    "duration": 60,
    "start_time": "2022-05-22T14:35:01.192Z"
   },
   {
    "duration": 16,
    "start_time": "2022-05-22T14:35:01.332Z"
   },
   {
    "duration": 7,
    "start_time": "2022-05-22T14:35:04.340Z"
   },
   {
    "duration": 7,
    "start_time": "2022-05-22T14:35:06.139Z"
   },
   {
    "duration": 9,
    "start_time": "2022-05-22T14:35:07.733Z"
   },
   {
    "duration": 11,
    "start_time": "2022-05-22T14:35:09.459Z"
   },
   {
    "duration": 6,
    "start_time": "2022-05-22T14:35:18.197Z"
   },
   {
    "duration": 5,
    "start_time": "2022-05-22T14:35:20.080Z"
   },
   {
    "duration": 9,
    "start_time": "2022-05-22T14:35:21.972Z"
   },
   {
    "duration": 6,
    "start_time": "2022-05-22T14:35:22.719Z"
   },
   {
    "duration": 6,
    "start_time": "2022-05-22T14:35:24.672Z"
   },
   {
    "duration": 9,
    "start_time": "2022-05-22T14:35:37.597Z"
   },
   {
    "duration": 12,
    "start_time": "2022-05-22T14:35:50.269Z"
   },
   {
    "duration": 9,
    "start_time": "2022-05-22T14:37:03.101Z"
   },
   {
    "duration": 5,
    "start_time": "2022-05-22T14:37:15.897Z"
   },
   {
    "duration": 5,
    "start_time": "2022-05-22T14:37:17.024Z"
   },
   {
    "duration": 6,
    "start_time": "2022-05-22T14:37:37.408Z"
   },
   {
    "duration": 7,
    "start_time": "2022-05-22T14:37:41.861Z"
   },
   {
    "duration": 3963,
    "start_time": "2022-05-22T14:41:02.141Z"
   },
   {
    "duration": 15,
    "start_time": "2022-05-22T14:41:06.106Z"
   },
   {
    "duration": 49,
    "start_time": "2022-05-22T14:41:41.761Z"
   },
   {
    "duration": 14,
    "start_time": "2022-05-22T14:41:43.766Z"
   },
   {
    "duration": 88,
    "start_time": "2022-05-22T14:42:04.157Z"
   },
   {
    "duration": 20,
    "start_time": "2022-05-22T14:42:05.381Z"
   },
   {
    "duration": 13,
    "start_time": "2022-05-22T14:42:05.535Z"
   },
   {
    "duration": 86,
    "start_time": "2022-05-22T14:42:05.782Z"
   },
   {
    "duration": 21,
    "start_time": "2022-05-22T14:42:05.923Z"
   },
   {
    "duration": 8,
    "start_time": "2022-05-22T14:42:06.926Z"
   },
   {
    "duration": 7,
    "start_time": "2022-05-22T14:42:07.302Z"
   },
   {
    "duration": 9,
    "start_time": "2022-05-22T14:42:07.698Z"
   },
   {
    "duration": 10,
    "start_time": "2022-05-22T14:42:08.084Z"
   },
   {
    "duration": 6,
    "start_time": "2022-05-22T14:42:08.467Z"
   },
   {
    "duration": 7,
    "start_time": "2022-05-22T14:42:08.863Z"
   },
   {
    "duration": 7,
    "start_time": "2022-05-22T14:42:10.773Z"
   },
   {
    "duration": 6,
    "start_time": "2022-05-22T14:42:10.902Z"
   },
   {
    "duration": 7,
    "start_time": "2022-05-22T14:42:11.353Z"
   },
   {
    "duration": 9,
    "start_time": "2022-05-22T14:42:14.800Z"
   },
   {
    "duration": 3,
    "start_time": "2022-05-22T14:42:16.819Z"
   },
   {
    "duration": 52,
    "start_time": "2022-05-22T14:42:18.394Z"
   },
   {
    "duration": 28,
    "start_time": "2022-05-22T14:42:20.016Z"
   },
   {
    "duration": 89,
    "start_time": "2022-05-22T14:43:00.245Z"
   },
   {
    "duration": 19,
    "start_time": "2022-05-22T14:43:01.105Z"
   },
   {
    "duration": 16,
    "start_time": "2022-05-22T14:43:01.858Z"
   },
   {
    "duration": 123,
    "start_time": "2022-05-22T14:43:02.016Z"
   },
   {
    "duration": 17,
    "start_time": "2022-05-22T14:43:02.272Z"
   },
   {
    "duration": 7,
    "start_time": "2022-05-22T14:43:03.144Z"
   },
   {
    "duration": 8,
    "start_time": "2022-05-22T14:43:03.547Z"
   },
   {
    "duration": 10,
    "start_time": "2022-05-22T14:43:03.960Z"
   },
   {
    "duration": 11,
    "start_time": "2022-05-22T14:43:04.749Z"
   },
   {
    "duration": 7,
    "start_time": "2022-05-22T14:43:05.937Z"
   },
   {
    "duration": 7,
    "start_time": "2022-05-22T14:43:06.847Z"
   },
   {
    "duration": 9,
    "start_time": "2022-05-22T14:43:08.177Z"
   },
   {
    "duration": 7,
    "start_time": "2022-05-22T14:43:08.872Z"
   },
   {
    "duration": 7,
    "start_time": "2022-05-22T14:43:11.984Z"
   },
   {
    "duration": 8,
    "start_time": "2022-05-22T14:43:13.802Z"
   },
   {
    "duration": 10,
    "start_time": "2022-05-22T14:43:15.823Z"
   },
   {
    "duration": 70,
    "start_time": "2022-05-22T14:45:06.364Z"
   },
   {
    "duration": 75,
    "start_time": "2022-05-22T14:45:54.045Z"
   },
   {
    "duration": 92,
    "start_time": "2022-05-22T14:46:05.763Z"
   },
   {
    "duration": 7,
    "start_time": "2022-05-22T14:46:14.579Z"
   },
   {
    "duration": 6,
    "start_time": "2022-05-22T14:46:16.017Z"
   },
   {
    "duration": 11,
    "start_time": "2022-05-22T14:46:17.354Z"
   },
   {
    "duration": 10,
    "start_time": "2022-05-22T14:46:18.848Z"
   },
   {
    "duration": 6,
    "start_time": "2022-05-22T14:46:20.429Z"
   },
   {
    "duration": 5,
    "start_time": "2022-05-22T14:46:22.232Z"
   },
   {
    "duration": 6,
    "start_time": "2022-05-22T14:46:23.043Z"
   },
   {
    "duration": 5,
    "start_time": "2022-05-22T14:46:23.344Z"
   },
   {
    "duration": 5,
    "start_time": "2022-05-22T14:46:23.760Z"
   },
   {
    "duration": 6,
    "start_time": "2022-05-22T14:46:25.619Z"
   },
   {
    "duration": 7,
    "start_time": "2022-05-22T14:46:27.360Z"
   },
   {
    "duration": 71,
    "start_time": "2022-05-22T14:46:28.718Z"
   },
   {
    "duration": 24,
    "start_time": "2022-05-22T14:47:16.635Z"
   },
   {
    "duration": 27,
    "start_time": "2022-05-22T14:47:44.848Z"
   },
   {
    "duration": 55,
    "start_time": "2022-05-22T14:48:54.861Z"
   },
   {
    "duration": 6,
    "start_time": "2022-05-22T14:48:55.468Z"
   },
   {
    "duration": 380,
    "start_time": "2022-05-22T14:49:01.801Z"
   },
   {
    "duration": 3,
    "start_time": "2022-05-22T14:49:02.350Z"
   },
   {
    "duration": 92,
    "start_time": "2022-05-22T14:49:03.079Z"
   },
   {
    "duration": 25,
    "start_time": "2022-05-22T14:49:04.014Z"
   },
   {
    "duration": 13,
    "start_time": "2022-05-22T14:49:04.577Z"
   },
   {
    "duration": 63,
    "start_time": "2022-05-22T14:49:07.408Z"
   },
   {
    "duration": 17,
    "start_time": "2022-05-22T14:49:16.612Z"
   },
   {
    "duration": 8,
    "start_time": "2022-05-22T14:49:30.763Z"
   },
   {
    "duration": 7,
    "start_time": "2022-05-22T14:49:32.312Z"
   },
   {
    "duration": 10,
    "start_time": "2022-05-22T14:49:34.041Z"
   },
   {
    "duration": 9,
    "start_time": "2022-05-22T14:49:35.735Z"
   },
   {
    "duration": 5,
    "start_time": "2022-05-22T14:49:37.485Z"
   },
   {
    "duration": 6,
    "start_time": "2022-05-22T14:49:45.688Z"
   },
   {
    "duration": 7,
    "start_time": "2022-05-22T14:49:47.375Z"
   },
   {
    "duration": 6,
    "start_time": "2022-05-22T14:49:48.477Z"
   },
   {
    "duration": 6,
    "start_time": "2022-05-22T14:49:50.161Z"
   },
   {
    "duration": 8,
    "start_time": "2022-05-22T14:50:07.859Z"
   },
   {
    "duration": 8,
    "start_time": "2022-05-22T14:50:10.068Z"
   },
   {
    "duration": 29,
    "start_time": "2022-05-22T14:50:11.757Z"
   },
   {
    "duration": 380,
    "start_time": "2022-05-22T14:55:42.088Z"
   },
   {
    "duration": 3,
    "start_time": "2022-05-22T14:55:42.828Z"
   },
   {
    "duration": 93,
    "start_time": "2022-05-22T14:55:43.519Z"
   },
   {
    "duration": 37,
    "start_time": "2022-05-22T14:55:44.207Z"
   },
   {
    "duration": 16,
    "start_time": "2022-05-22T14:55:45.394Z"
   },
   {
    "duration": 69,
    "start_time": "2022-05-22T14:55:55.575Z"
   },
   {
    "duration": 20,
    "start_time": "2022-05-22T14:55:58.250Z"
   },
   {
    "duration": 8,
    "start_time": "2022-05-22T14:56:08.972Z"
   },
   {
    "duration": 8,
    "start_time": "2022-05-22T14:56:10.586Z"
   },
   {
    "duration": 11,
    "start_time": "2022-05-22T14:56:11.855Z"
   },
   {
    "duration": 9,
    "start_time": "2022-05-22T14:56:13.436Z"
   },
   {
    "duration": 7,
    "start_time": "2022-05-22T14:56:23.267Z"
   },
   {
    "duration": 6,
    "start_time": "2022-05-22T14:56:25.060Z"
   },
   {
    "duration": 7,
    "start_time": "2022-05-22T14:56:25.755Z"
   },
   {
    "duration": 6,
    "start_time": "2022-05-22T14:56:27.186Z"
   },
   {
    "duration": 6,
    "start_time": "2022-05-22T14:56:29.810Z"
   },
   {
    "duration": 7,
    "start_time": "2022-05-22T14:57:29.758Z"
   },
   {
    "duration": 8,
    "start_time": "2022-05-22T14:57:50.127Z"
   },
   {
    "duration": 6,
    "start_time": "2022-05-22T14:58:00.436Z"
   },
   {
    "duration": 6,
    "start_time": "2022-05-22T15:01:48.264Z"
   },
   {
    "duration": 7,
    "start_time": "2022-05-22T15:01:55.367Z"
   },
   {
    "duration": 14,
    "start_time": "2022-05-22T15:05:02.229Z"
   },
   {
    "duration": 12,
    "start_time": "2022-05-22T15:05:16.321Z"
   },
   {
    "duration": 12,
    "start_time": "2022-05-22T15:05:25.734Z"
   },
   {
    "duration": 21,
    "start_time": "2022-05-22T15:09:39.520Z"
   },
   {
    "duration": 16,
    "start_time": "2022-05-22T15:16:22.262Z"
   },
   {
    "duration": 570,
    "start_time": "2022-05-22T15:19:05.819Z"
   },
   {
    "duration": 74,
    "start_time": "2022-05-22T15:19:20.908Z"
   },
   {
    "duration": 34,
    "start_time": "2022-05-22T15:19:26.429Z"
   },
   {
    "duration": 5,
    "start_time": "2022-05-22T15:20:31.599Z"
   },
   {
    "duration": 32,
    "start_time": "2022-05-22T15:20:38.997Z"
   },
   {
    "duration": 12,
    "start_time": "2022-05-22T15:21:15.354Z"
   },
   {
    "duration": 3,
    "start_time": "2022-05-22T15:21:15.479Z"
   },
   {
    "duration": 96,
    "start_time": "2022-05-22T15:21:15.756Z"
   },
   {
    "duration": 21,
    "start_time": "2022-05-22T15:21:15.887Z"
   },
   {
    "duration": 15,
    "start_time": "2022-05-22T15:21:16.252Z"
   },
   {
    "duration": 66,
    "start_time": "2022-05-22T15:21:16.433Z"
   },
   {
    "duration": 20,
    "start_time": "2022-05-22T15:21:16.611Z"
   },
   {
    "duration": 8,
    "start_time": "2022-05-22T15:21:17.605Z"
   },
   {
    "duration": 6,
    "start_time": "2022-05-22T15:21:18.505Z"
   },
   {
    "duration": 10,
    "start_time": "2022-05-22T15:21:18.916Z"
   },
   {
    "duration": 10,
    "start_time": "2022-05-22T15:21:19.377Z"
   },
   {
    "duration": 6,
    "start_time": "2022-05-22T15:21:19.812Z"
   },
   {
    "duration": 6,
    "start_time": "2022-05-22T15:21:20.294Z"
   },
   {
    "duration": 5,
    "start_time": "2022-05-22T15:21:20.650Z"
   },
   {
    "duration": 9,
    "start_time": "2022-05-22T15:21:21.097Z"
   },
   {
    "duration": 7,
    "start_time": "2022-05-22T15:21:21.241Z"
   },
   {
    "duration": 8,
    "start_time": "2022-05-22T15:21:22.592Z"
   },
   {
    "duration": 8,
    "start_time": "2022-05-22T15:21:23.478Z"
   },
   {
    "duration": 13,
    "start_time": "2022-05-22T15:21:24.655Z"
   },
   {
    "duration": 76,
    "start_time": "2022-05-22T15:21:26.896Z"
   },
   {
    "duration": 37,
    "start_time": "2022-05-22T15:21:27.981Z"
   },
   {
    "duration": 7,
    "start_time": "2022-05-22T15:22:56.189Z"
   },
   {
    "duration": 3,
    "start_time": "2022-05-22T15:24:34.104Z"
   },
   {
    "duration": 3,
    "start_time": "2022-05-22T15:24:34.500Z"
   },
   {
    "duration": 94,
    "start_time": "2022-05-22T15:24:34.884Z"
   },
   {
    "duration": 22,
    "start_time": "2022-05-22T15:24:35.254Z"
   },
   {
    "duration": 15,
    "start_time": "2022-05-22T15:24:35.666Z"
   },
   {
    "duration": 67,
    "start_time": "2022-05-22T15:24:35.971Z"
   },
   {
    "duration": 22,
    "start_time": "2022-05-22T15:24:36.261Z"
   },
   {
    "duration": 8,
    "start_time": "2022-05-22T15:24:38.158Z"
   },
   {
    "duration": 8,
    "start_time": "2022-05-22T15:24:39.023Z"
   },
   {
    "duration": 11,
    "start_time": "2022-05-22T15:24:40.129Z"
   },
   {
    "duration": 9,
    "start_time": "2022-05-22T15:24:41.364Z"
   },
   {
    "duration": 6,
    "start_time": "2022-05-22T15:24:42.797Z"
   },
   {
    "duration": 7,
    "start_time": "2022-05-22T15:24:45.161Z"
   },
   {
    "duration": 5,
    "start_time": "2022-05-22T15:24:45.810Z"
   },
   {
    "duration": 10,
    "start_time": "2022-05-22T15:24:46.929Z"
   },
   {
    "duration": 7,
    "start_time": "2022-05-22T15:24:47.528Z"
   },
   {
    "duration": 8,
    "start_time": "2022-05-22T15:24:48.955Z"
   },
   {
    "duration": 16,
    "start_time": "2022-05-22T15:24:55.874Z"
   },
   {
    "duration": 13,
    "start_time": "2022-05-22T15:24:58.098Z"
   },
   {
    "duration": 71,
    "start_time": "2022-05-22T15:25:02.365Z"
   },
   {
    "duration": 30,
    "start_time": "2022-05-22T15:25:04.062Z"
   },
   {
    "duration": 625,
    "start_time": "2022-05-22T15:29:23.795Z"
   },
   {
    "duration": 81,
    "start_time": "2022-05-22T15:29:39.225Z"
   },
   {
    "duration": 30,
    "start_time": "2022-05-22T15:29:41.274Z"
   },
   {
    "duration": 97,
    "start_time": "2022-05-22T15:30:08.099Z"
   },
   {
    "duration": 19,
    "start_time": "2022-05-22T15:30:08.227Z"
   },
   {
    "duration": 14,
    "start_time": "2022-05-22T15:30:08.577Z"
   },
   {
    "duration": 89,
    "start_time": "2022-05-22T15:30:08.761Z"
   },
   {
    "duration": 20,
    "start_time": "2022-05-22T15:30:08.924Z"
   },
   {
    "duration": 9,
    "start_time": "2022-05-22T15:30:09.813Z"
   },
   {
    "duration": 6,
    "start_time": "2022-05-22T15:30:10.348Z"
   },
   {
    "duration": 10,
    "start_time": "2022-05-22T15:30:10.590Z"
   },
   {
    "duration": 9,
    "start_time": "2022-05-22T15:30:10.971Z"
   },
   {
    "duration": 6,
    "start_time": "2022-05-22T15:30:11.339Z"
   },
   {
    "duration": 6,
    "start_time": "2022-05-22T15:30:11.727Z"
   },
   {
    "duration": 4,
    "start_time": "2022-05-22T15:30:12.000Z"
   },
   {
    "duration": 8,
    "start_time": "2022-05-22T15:30:12.389Z"
   },
   {
    "duration": 6,
    "start_time": "2022-05-22T15:30:12.525Z"
   },
   {
    "duration": 7,
    "start_time": "2022-05-22T15:30:12.967Z"
   },
   {
    "duration": 12,
    "start_time": "2022-05-22T15:30:13.321Z"
   },
   {
    "duration": 12,
    "start_time": "2022-05-22T15:30:13.712Z"
   },
   {
    "duration": 80,
    "start_time": "2022-05-22T15:30:15.545Z"
   },
   {
    "duration": 36,
    "start_time": "2022-05-22T15:30:31.565Z"
   },
   {
    "duration": 3,
    "start_time": "2022-05-22T15:43:52.400Z"
   },
   {
    "duration": 84,
    "start_time": "2022-05-22T15:43:52.529Z"
   },
   {
    "duration": 23,
    "start_time": "2022-05-22T15:43:52.929Z"
   },
   {
    "duration": 16,
    "start_time": "2022-05-22T15:43:53.066Z"
   },
   {
    "duration": 63,
    "start_time": "2022-05-22T15:43:53.886Z"
   },
   {
    "duration": 16,
    "start_time": "2022-05-22T15:43:54.029Z"
   },
   {
    "duration": 9,
    "start_time": "2022-05-22T15:43:54.996Z"
   },
   {
    "duration": 7,
    "start_time": "2022-05-22T15:43:55.354Z"
   },
   {
    "duration": 10,
    "start_time": "2022-05-22T15:43:55.700Z"
   },
   {
    "duration": 9,
    "start_time": "2022-05-22T15:43:56.054Z"
   },
   {
    "duration": 7,
    "start_time": "2022-05-22T15:43:56.396Z"
   },
   {
    "duration": 7,
    "start_time": "2022-05-22T15:43:57.817Z"
   },
   {
    "duration": 5,
    "start_time": "2022-05-22T15:43:58.711Z"
   },
   {
    "duration": 7,
    "start_time": "2022-05-22T15:44:01.266Z"
   },
   {
    "duration": 5,
    "start_time": "2022-05-22T15:44:02.054Z"
   },
   {
    "duration": 9,
    "start_time": "2022-05-22T15:44:05.469Z"
   },
   {
    "duration": 12,
    "start_time": "2022-05-22T15:44:18.781Z"
   },
   {
    "duration": 13,
    "start_time": "2022-05-22T15:45:23.244Z"
   },
   {
    "duration": 9,
    "start_time": "2022-05-22T15:45:50.509Z"
   },
   {
    "duration": 10,
    "start_time": "2022-05-22T15:46:27.928Z"
   },
   {
    "duration": 2,
    "start_time": "2022-05-22T15:46:49.195Z"
   },
   {
    "duration": 3,
    "start_time": "2022-05-22T15:46:49.322Z"
   },
   {
    "duration": 85,
    "start_time": "2022-05-22T15:46:49.604Z"
   },
   {
    "duration": 18,
    "start_time": "2022-05-22T15:46:49.797Z"
   },
   {
    "duration": 12,
    "start_time": "2022-05-22T15:46:49.967Z"
   },
   {
    "duration": 62,
    "start_time": "2022-05-22T15:46:50.106Z"
   },
   {
    "duration": 20,
    "start_time": "2022-05-22T15:46:50.343Z"
   },
   {
    "duration": 7,
    "start_time": "2022-05-22T15:46:51.228Z"
   },
   {
    "duration": 8,
    "start_time": "2022-05-22T15:46:51.664Z"
   },
   {
    "duration": 11,
    "start_time": "2022-05-22T15:46:52.153Z"
   },
   {
    "duration": 10,
    "start_time": "2022-05-22T15:46:53.752Z"
   },
   {
    "duration": 8,
    "start_time": "2022-05-22T15:46:55.973Z"
   },
   {
    "duration": 5,
    "start_time": "2022-05-22T15:46:57.089Z"
   },
   {
    "duration": 7,
    "start_time": "2022-05-22T15:46:57.790Z"
   },
   {
    "duration": 8,
    "start_time": "2022-05-22T15:46:59.052Z"
   },
   {
    "duration": 6,
    "start_time": "2022-05-22T15:46:59.844Z"
   },
   {
    "duration": 9,
    "start_time": "2022-05-22T15:47:01.964Z"
   },
   {
    "duration": 6,
    "start_time": "2022-05-22T15:47:05.029Z"
   },
   {
    "duration": 11,
    "start_time": "2022-05-22T15:47:07.507Z"
   },
   {
    "duration": 10,
    "start_time": "2022-05-22T15:47:16.676Z"
   },
   {
    "duration": 15,
    "start_time": "2022-05-22T15:47:19.278Z"
   },
   {
    "duration": 9,
    "start_time": "2022-05-22T15:48:19.964Z"
   },
   {
    "duration": 31,
    "start_time": "2022-05-22T15:48:28.345Z"
   },
   {
    "duration": 15,
    "start_time": "2022-05-22T15:48:30.338Z"
   },
   {
    "duration": 32,
    "start_time": "2022-05-22T15:48:34.859Z"
   },
   {
    "duration": 14,
    "start_time": "2022-05-22T15:48:35.671Z"
   },
   {
    "duration": 13,
    "start_time": "2022-05-22T15:48:50.626Z"
   },
   {
    "duration": 84,
    "start_time": "2022-05-22T15:49:06.006Z"
   },
   {
    "duration": 17,
    "start_time": "2022-05-22T15:49:06.882Z"
   },
   {
    "duration": 14,
    "start_time": "2022-05-22T15:49:07.906Z"
   },
   {
    "duration": 59,
    "start_time": "2022-05-22T15:49:09.046Z"
   },
   {
    "duration": 19,
    "start_time": "2022-05-22T15:49:09.371Z"
   },
   {
    "duration": 8,
    "start_time": "2022-05-22T15:49:10.249Z"
   },
   {
    "duration": 6,
    "start_time": "2022-05-22T15:49:10.617Z"
   },
   {
    "duration": 7,
    "start_time": "2022-05-22T15:49:11.322Z"
   },
   {
    "duration": 7,
    "start_time": "2022-05-22T15:49:12.243Z"
   },
   {
    "duration": 6,
    "start_time": "2022-05-22T15:49:13.385Z"
   },
   {
    "duration": 6,
    "start_time": "2022-05-22T15:49:13.752Z"
   },
   {
    "duration": 5,
    "start_time": "2022-05-22T15:49:13.878Z"
   },
   {
    "duration": 6,
    "start_time": "2022-05-22T15:49:14.771Z"
   },
   {
    "duration": 5,
    "start_time": "2022-05-22T15:49:15.543Z"
   },
   {
    "duration": 12,
    "start_time": "2022-05-22T15:49:17.892Z"
   },
   {
    "duration": 6,
    "start_time": "2022-05-22T15:49:19.564Z"
   },
   {
    "duration": 12,
    "start_time": "2022-05-22T15:49:21.230Z"
   },
   {
    "duration": 32,
    "start_time": "2022-05-22T15:49:29.212Z"
   },
   {
    "duration": 15,
    "start_time": "2022-05-22T15:49:30.149Z"
   },
   {
    "duration": 14,
    "start_time": "2022-05-22T15:49:50.356Z"
   },
   {
    "duration": 36,
    "start_time": "2022-05-22T15:49:52.880Z"
   },
   {
    "duration": 15,
    "start_time": "2022-05-22T15:49:55.056Z"
   },
   {
    "duration": 14,
    "start_time": "2022-05-22T15:50:08.686Z"
   },
   {
    "duration": 60,
    "start_time": "2022-05-22T15:51:53.469Z"
   },
   {
    "duration": 15,
    "start_time": "2022-05-22T15:51:54.396Z"
   },
   {
    "duration": 85,
    "start_time": "2022-05-22T15:52:03.553Z"
   },
   {
    "duration": 18,
    "start_time": "2022-05-22T15:52:04.214Z"
   },
   {
    "duration": 12,
    "start_time": "2022-05-22T15:52:04.991Z"
   },
   {
    "duration": 69,
    "start_time": "2022-05-22T15:52:05.873Z"
   },
   {
    "duration": 26,
    "start_time": "2022-05-22T15:52:06.845Z"
   },
   {
    "duration": 10,
    "start_time": "2022-05-22T15:52:10.657Z"
   },
   {
    "duration": 6,
    "start_time": "2022-05-22T15:52:12.125Z"
   },
   {
    "duration": 17,
    "start_time": "2022-05-22T15:52:13.550Z"
   },
   {
    "duration": 9,
    "start_time": "2022-05-22T15:52:15.005Z"
   },
   {
    "duration": 7,
    "start_time": "2022-05-22T15:52:16.491Z"
   },
   {
    "duration": 6,
    "start_time": "2022-05-22T15:52:18.314Z"
   },
   {
    "duration": 5,
    "start_time": "2022-05-22T15:52:19.085Z"
   },
   {
    "duration": 6,
    "start_time": "2022-05-22T15:52:20.543Z"
   },
   {
    "duration": 5,
    "start_time": "2022-05-22T15:52:21.290Z"
   },
   {
    "duration": 9,
    "start_time": "2022-05-22T15:52:22.838Z"
   },
   {
    "duration": 8,
    "start_time": "2022-05-22T15:52:24.396Z"
   },
   {
    "duration": 12,
    "start_time": "2022-05-22T15:52:25.989Z"
   },
   {
    "duration": 81,
    "start_time": "2022-05-22T15:52:27.851Z"
   },
   {
    "duration": 13,
    "start_time": "2022-05-22T15:52:28.997Z"
   },
   {
    "duration": 11,
    "start_time": "2022-05-22T15:53:33.025Z"
   },
   {
    "duration": 17,
    "start_time": "2022-05-22T15:54:18.272Z"
   },
   {
    "duration": 73,
    "start_time": "2022-05-22T15:55:20.171Z"
   },
   {
    "duration": 28,
    "start_time": "2022-05-22T15:55:26.103Z"
   },
   {
    "duration": 3,
    "start_time": "2022-05-22T15:58:23.369Z"
   },
   {
    "duration": 2,
    "start_time": "2022-05-22T15:58:23.487Z"
   },
   {
    "duration": 85,
    "start_time": "2022-05-22T15:58:23.756Z"
   },
   {
    "duration": 17,
    "start_time": "2022-05-22T15:58:23.885Z"
   },
   {
    "duration": 13,
    "start_time": "2022-05-22T15:58:24.225Z"
   },
   {
    "duration": 67,
    "start_time": "2022-05-22T15:58:24.409Z"
   },
   {
    "duration": 16,
    "start_time": "2022-05-22T15:58:24.617Z"
   },
   {
    "duration": 7,
    "start_time": "2022-05-22T15:58:25.391Z"
   },
   {
    "duration": 6,
    "start_time": "2022-05-22T15:58:25.781Z"
   },
   {
    "duration": 9,
    "start_time": "2022-05-22T15:58:26.184Z"
   },
   {
    "duration": 10,
    "start_time": "2022-05-22T15:58:26.542Z"
   },
   {
    "duration": 6,
    "start_time": "2022-05-22T15:58:26.914Z"
   },
   {
    "duration": 5,
    "start_time": "2022-05-22T15:58:27.296Z"
   },
   {
    "duration": 6,
    "start_time": "2022-05-22T15:58:27.549Z"
   },
   {
    "duration": 8,
    "start_time": "2022-05-22T15:58:27.942Z"
   },
   {
    "duration": 5,
    "start_time": "2022-05-22T15:58:28.104Z"
   },
   {
    "duration": 10,
    "start_time": "2022-05-22T15:58:28.469Z"
   },
   {
    "duration": 7,
    "start_time": "2022-05-22T15:58:28.811Z"
   },
   {
    "duration": 12,
    "start_time": "2022-05-22T15:58:29.202Z"
   },
   {
    "duration": 77,
    "start_time": "2022-05-22T15:58:30.253Z"
   },
   {
    "duration": 23,
    "start_time": "2022-05-22T15:58:30.383Z"
   },
   {
    "duration": 6,
    "start_time": "2022-05-22T15:58:31.181Z"
   },
   {
    "duration": 3,
    "start_time": "2022-05-22T16:00:45.283Z"
   },
   {
    "duration": 95,
    "start_time": "2022-05-22T16:00:45.398Z"
   },
   {
    "duration": 18,
    "start_time": "2022-05-22T16:00:45.686Z"
   },
   {
    "duration": 21,
    "start_time": "2022-05-22T16:00:45.831Z"
   },
   {
    "duration": 72,
    "start_time": "2022-05-22T16:00:46.057Z"
   },
   {
    "duration": 24,
    "start_time": "2022-05-22T16:00:46.256Z"
   },
   {
    "duration": 13,
    "start_time": "2022-05-22T16:00:47.357Z"
   },
   {
    "duration": 13,
    "start_time": "2022-05-22T16:00:47.693Z"
   },
   {
    "duration": 11,
    "start_time": "2022-05-22T16:00:48.002Z"
   },
   {
    "duration": 9,
    "start_time": "2022-05-22T16:00:48.888Z"
   },
   {
    "duration": 6,
    "start_time": "2022-05-22T16:00:49.286Z"
   },
   {
    "duration": 6,
    "start_time": "2022-05-22T16:00:49.703Z"
   },
   {
    "duration": 4,
    "start_time": "2022-05-22T16:00:49.985Z"
   },
   {
    "duration": 9,
    "start_time": "2022-05-22T16:00:50.377Z"
   },
   {
    "duration": 6,
    "start_time": "2022-05-22T16:00:50.515Z"
   },
   {
    "duration": 10,
    "start_time": "2022-05-22T16:00:52.224Z"
   },
   {
    "duration": 7,
    "start_time": "2022-05-22T16:00:52.782Z"
   },
   {
    "duration": 16,
    "start_time": "2022-05-22T16:00:53.753Z"
   },
   {
    "duration": 73,
    "start_time": "2022-05-22T16:00:56.883Z"
   },
   {
    "duration": 51,
    "start_time": "2022-05-22T16:00:58.043Z"
   },
   {
    "duration": 9,
    "start_time": "2022-05-22T16:25:21.691Z"
   },
   {
    "duration": 3,
    "start_time": "2022-05-22T16:43:35.818Z"
   },
   {
    "duration": 98,
    "start_time": "2022-05-22T16:43:35.948Z"
   },
   {
    "duration": 20,
    "start_time": "2022-05-22T16:43:36.272Z"
   },
   {
    "duration": 14,
    "start_time": "2022-05-22T16:43:36.473Z"
   },
   {
    "duration": 69,
    "start_time": "2022-05-22T16:43:36.632Z"
   },
   {
    "duration": 17,
    "start_time": "2022-05-22T16:43:36.786Z"
   },
   {
    "duration": 7,
    "start_time": "2022-05-22T16:43:38.124Z"
   },
   {
    "duration": 7,
    "start_time": "2022-05-22T16:43:38.393Z"
   },
   {
    "duration": 9,
    "start_time": "2022-05-22T16:43:38.611Z"
   },
   {
    "duration": 9,
    "start_time": "2022-05-22T16:43:39.437Z"
   },
   {
    "duration": 8,
    "start_time": "2022-05-22T16:43:40.257Z"
   },
   {
    "duration": 6,
    "start_time": "2022-05-22T16:43:40.473Z"
   },
   {
    "duration": 6,
    "start_time": "2022-05-22T16:43:40.589Z"
   },
   {
    "duration": 7,
    "start_time": "2022-05-22T16:43:40.793Z"
   },
   {
    "duration": 6,
    "start_time": "2022-05-22T16:43:40.934Z"
   },
   {
    "duration": 13,
    "start_time": "2022-05-22T16:43:41.149Z"
   },
   {
    "duration": 7,
    "start_time": "2022-05-22T16:43:46.292Z"
   },
   {
    "duration": 12,
    "start_time": "2022-05-22T16:43:48.705Z"
   },
   {
    "duration": 20,
    "start_time": "2022-05-22T16:43:51.229Z"
   },
   {
    "duration": 21,
    "start_time": "2022-05-22T16:44:18.704Z"
   },
   {
    "duration": 18,
    "start_time": "2022-05-22T16:44:35.420Z"
   },
   {
    "duration": 7,
    "start_time": "2022-05-22T16:45:28.915Z"
   },
   {
    "duration": 4,
    "start_time": "2022-05-22T16:45:32.661Z"
   },
   {
    "duration": 3,
    "start_time": "2022-05-22T16:45:53.139Z"
   },
   {
    "duration": 3,
    "start_time": "2022-05-22T16:45:53.514Z"
   },
   {
    "duration": 85,
    "start_time": "2022-05-22T16:45:53.930Z"
   },
   {
    "duration": 18,
    "start_time": "2022-05-22T16:45:54.433Z"
   },
   {
    "duration": 19,
    "start_time": "2022-05-22T16:45:55.724Z"
   },
   {
    "duration": 78,
    "start_time": "2022-05-22T16:46:00.787Z"
   },
   {
    "duration": 18,
    "start_time": "2022-05-22T16:46:04.084Z"
   },
   {
    "duration": 8,
    "start_time": "2022-05-22T16:46:13.453Z"
   },
   {
    "duration": 8,
    "start_time": "2022-05-22T16:46:15.093Z"
   },
   {
    "duration": 12,
    "start_time": "2022-05-22T16:46:17.242Z"
   },
   {
    "duration": 13,
    "start_time": "2022-05-22T16:46:19.522Z"
   },
   {
    "duration": 8,
    "start_time": "2022-05-22T16:46:21.942Z"
   },
   {
    "duration": 7,
    "start_time": "2022-05-22T16:46:24.168Z"
   },
   {
    "duration": 6,
    "start_time": "2022-05-22T16:46:25.408Z"
   },
   {
    "duration": 7,
    "start_time": "2022-05-22T16:46:28.369Z"
   },
   {
    "duration": 8,
    "start_time": "2022-05-22T16:46:29.874Z"
   },
   {
    "duration": 15,
    "start_time": "2022-05-22T16:46:32.229Z"
   },
   {
    "duration": 8,
    "start_time": "2022-05-22T16:46:35.277Z"
   },
   {
    "duration": 83,
    "start_time": "2022-05-22T16:48:53.405Z"
   },
   {
    "duration": 29,
    "start_time": "2022-05-22T16:48:55.224Z"
   },
   {
    "duration": 32,
    "start_time": "2022-05-22T17:13:37.000Z"
   },
   {
    "duration": 38,
    "start_time": "2022-05-22T17:16:58.745Z"
   },
   {
    "duration": 43,
    "start_time": "2022-05-22T17:17:48.481Z"
   },
   {
    "duration": 42,
    "start_time": "2022-05-22T17:26:08.423Z"
   },
   {
    "duration": 53,
    "start_time": "2022-05-22T17:26:32.931Z"
   },
   {
    "duration": 33,
    "start_time": "2022-05-22T17:30:37.389Z"
   },
   {
    "duration": 20,
    "start_time": "2022-05-22T17:31:08.725Z"
   },
   {
    "duration": 19,
    "start_time": "2022-05-22T17:32:38.986Z"
   },
   {
    "duration": 19,
    "start_time": "2022-05-22T17:32:55.452Z"
   },
   {
    "duration": 127,
    "start_time": "2022-05-22T17:33:35.774Z"
   },
   {
    "duration": 28,
    "start_time": "2022-05-22T17:33:42.971Z"
   },
   {
    "duration": 8,
    "start_time": "2022-05-22T17:34:48.294Z"
   },
   {
    "duration": 40,
    "start_time": "2022-05-22T17:35:03.329Z"
   },
   {
    "duration": 2,
    "start_time": "2022-05-22T17:36:16.114Z"
   },
   {
    "duration": 3,
    "start_time": "2022-05-22T17:36:16.465Z"
   },
   {
    "duration": 83,
    "start_time": "2022-05-22T17:36:16.585Z"
   },
   {
    "duration": 18,
    "start_time": "2022-05-22T17:36:16.849Z"
   },
   {
    "duration": 13,
    "start_time": "2022-05-22T17:36:16.990Z"
   },
   {
    "duration": 60,
    "start_time": "2022-05-22T17:36:17.249Z"
   },
   {
    "duration": 16,
    "start_time": "2022-05-22T17:36:17.387Z"
   },
   {
    "duration": 7,
    "start_time": "2022-05-22T17:36:18.436Z"
   },
   {
    "duration": 6,
    "start_time": "2022-05-22T17:36:18.847Z"
   },
   {
    "duration": 10,
    "start_time": "2022-05-22T17:36:19.271Z"
   },
   {
    "duration": 9,
    "start_time": "2022-05-22T17:36:19.656Z"
   },
   {
    "duration": 5,
    "start_time": "2022-05-22T17:36:20.055Z"
   },
   {
    "duration": 6,
    "start_time": "2022-05-22T17:36:20.947Z"
   },
   {
    "duration": 5,
    "start_time": "2022-05-22T17:36:21.451Z"
   },
   {
    "duration": 6,
    "start_time": "2022-05-22T17:36:22.290Z"
   },
   {
    "duration": 5,
    "start_time": "2022-05-22T17:36:22.723Z"
   },
   {
    "duration": 11,
    "start_time": "2022-05-22T17:36:23.783Z"
   },
   {
    "duration": 7,
    "start_time": "2022-05-22T17:36:25.178Z"
   },
   {
    "duration": 13,
    "start_time": "2022-05-22T17:36:26.646Z"
   },
   {
    "duration": 122,
    "start_time": "2022-05-22T17:36:28.622Z"
   },
   {
    "duration": 14,
    "start_time": "2022-05-22T17:37:08.851Z"
   },
   {
    "duration": 8,
    "start_time": "2022-05-22T17:39:37.432Z"
   },
   {
    "duration": 3,
    "start_time": "2022-05-22T17:44:11.512Z"
   },
   {
    "duration": 3,
    "start_time": "2022-05-22T17:44:25.831Z"
   },
   {
    "duration": 3,
    "start_time": "2022-05-22T17:44:31.890Z"
   },
   {
    "duration": 5,
    "start_time": "2022-05-22T17:44:49.127Z"
   },
   {
    "duration": 4,
    "start_time": "2022-05-22T17:45:03.094Z"
   },
   {
    "duration": 27,
    "start_time": "2022-05-22T17:52:27.633Z"
   },
   {
    "duration": 18,
    "start_time": "2022-05-22T17:52:57.555Z"
   },
   {
    "duration": 18,
    "start_time": "2022-05-22T17:53:36.097Z"
   },
   {
    "duration": 17,
    "start_time": "2022-05-22T17:53:41.762Z"
   },
   {
    "duration": 89,
    "start_time": "2022-05-22T17:53:58.445Z"
   },
   {
    "duration": 17,
    "start_time": "2022-05-22T17:54:19.396Z"
   },
   {
    "duration": 7,
    "start_time": "2022-05-22T17:54:48.030Z"
   },
   {
    "duration": 33,
    "start_time": "2022-05-22T17:54:50.268Z"
   },
   {
    "duration": 12,
    "start_time": "2022-05-22T18:01:22.434Z"
   },
   {
    "duration": 18,
    "start_time": "2022-05-22T18:01:24.858Z"
   },
   {
    "duration": 3,
    "start_time": "2022-05-22T18:01:37.648Z"
   },
   {
    "duration": 3,
    "start_time": "2022-05-22T18:01:37.784Z"
   },
   {
    "duration": 81,
    "start_time": "2022-05-22T18:01:37.990Z"
   },
   {
    "duration": 18,
    "start_time": "2022-05-22T18:01:38.141Z"
   },
   {
    "duration": 14,
    "start_time": "2022-05-22T18:01:38.347Z"
   },
   {
    "duration": 60,
    "start_time": "2022-05-22T18:01:38.487Z"
   },
   {
    "duration": 17,
    "start_time": "2022-05-22T18:01:38.773Z"
   },
   {
    "duration": 8,
    "start_time": "2022-05-22T18:01:39.548Z"
   },
   {
    "duration": 6,
    "start_time": "2022-05-22T18:01:39.915Z"
   },
   {
    "duration": 8,
    "start_time": "2022-05-22T18:01:40.358Z"
   },
   {
    "duration": 8,
    "start_time": "2022-05-22T18:01:40.718Z"
   },
   {
    "duration": 6,
    "start_time": "2022-05-22T18:01:41.089Z"
   },
   {
    "duration": 5,
    "start_time": "2022-05-22T18:01:41.452Z"
   },
   {
    "duration": 5,
    "start_time": "2022-05-22T18:01:41.692Z"
   },
   {
    "duration": 6,
    "start_time": "2022-05-22T18:01:42.070Z"
   },
   {
    "duration": 5,
    "start_time": "2022-05-22T18:01:42.713Z"
   },
   {
    "duration": 8,
    "start_time": "2022-05-22T18:01:43.215Z"
   },
   {
    "duration": 6,
    "start_time": "2022-05-22T18:01:43.579Z"
   },
   {
    "duration": 13,
    "start_time": "2022-05-22T18:01:43.949Z"
   },
   {
    "duration": 122,
    "start_time": "2022-05-22T18:01:44.349Z"
   },
   {
    "duration": 9,
    "start_time": "2022-05-22T18:01:45.489Z"
   },
   {
    "duration": 31,
    "start_time": "2022-05-22T18:01:48.232Z"
   },
   {
    "duration": 18,
    "start_time": "2022-05-22T18:02:40.149Z"
   },
   {
    "duration": 17,
    "start_time": "2022-05-22T18:02:46.164Z"
   },
   {
    "duration": 118,
    "start_time": "2022-05-22T18:03:11.714Z"
   },
   {
    "duration": 81,
    "start_time": "2022-05-22T18:03:49.062Z"
   },
   {
    "duration": 18,
    "start_time": "2022-05-22T18:03:58.655Z"
   },
   {
    "duration": 8,
    "start_time": "2022-05-22T18:04:15.114Z"
   },
   {
    "duration": 17,
    "start_time": "2022-05-22T18:05:05.212Z"
   },
   {
    "duration": 48,
    "start_time": "2022-05-22T18:05:24.580Z"
   },
   {
    "duration": 86,
    "start_time": "2022-05-22T18:06:07.330Z"
   },
   {
    "duration": 6,
    "start_time": "2022-05-22T18:06:15.397Z"
   },
   {
    "duration": 881,
    "start_time": "2022-05-22T18:07:00.521Z"
   },
   {
    "duration": 136,
    "start_time": "2022-05-22T18:07:19.998Z"
   },
   {
    "duration": 401,
    "start_time": "2022-05-22T18:07:26.549Z"
   },
   {
    "duration": 140,
    "start_time": "2022-05-22T18:07:42.839Z"
   },
   {
    "duration": 149,
    "start_time": "2022-05-22T18:07:49.212Z"
   },
   {
    "duration": 415,
    "start_time": "2022-05-22T18:08:53.262Z"
   },
   {
    "duration": 3,
    "start_time": "2022-05-22T18:08:53.678Z"
   },
   {
    "duration": 110,
    "start_time": "2022-05-22T18:08:53.682Z"
   },
   {
    "duration": 26,
    "start_time": "2022-05-22T18:08:53.794Z"
   },
   {
    "duration": 14,
    "start_time": "2022-05-22T18:08:54.043Z"
   },
   {
    "duration": 63,
    "start_time": "2022-05-22T18:08:54.203Z"
   },
   {
    "duration": 20,
    "start_time": "2022-05-22T18:08:54.448Z"
   },
   {
    "duration": 9,
    "start_time": "2022-05-22T18:08:55.375Z"
   },
   {
    "duration": 6,
    "start_time": "2022-05-22T18:08:55.725Z"
   },
   {
    "duration": 10,
    "start_time": "2022-05-22T18:08:56.102Z"
   },
   {
    "duration": 10,
    "start_time": "2022-05-22T18:08:56.487Z"
   },
   {
    "duration": 6,
    "start_time": "2022-05-22T18:08:56.860Z"
   },
   {
    "duration": 6,
    "start_time": "2022-05-22T18:08:57.275Z"
   },
   {
    "duration": 5,
    "start_time": "2022-05-22T18:08:57.521Z"
   },
   {
    "duration": 9,
    "start_time": "2022-05-22T18:08:57.937Z"
   },
   {
    "duration": 6,
    "start_time": "2022-05-22T18:08:58.061Z"
   },
   {
    "duration": 11,
    "start_time": "2022-05-22T18:08:58.434Z"
   },
   {
    "duration": 7,
    "start_time": "2022-05-22T18:08:58.805Z"
   },
   {
    "duration": 13,
    "start_time": "2022-05-22T18:08:59.205Z"
   },
   {
    "duration": 126,
    "start_time": "2022-05-22T18:08:59.673Z"
   },
   {
    "duration": 10,
    "start_time": "2022-05-22T18:09:05.286Z"
   },
   {
    "duration": 500,
    "start_time": "2022-05-22T18:09:21.321Z"
   },
   {
    "duration": 12,
    "start_time": "2022-05-22T18:17:13.962Z"
   },
   {
    "duration": 38,
    "start_time": "2022-05-22T18:23:44.507Z"
   },
   {
    "duration": 155,
    "start_time": "2022-05-22T18:23:50.852Z"
   },
   {
    "duration": 19,
    "start_time": "2022-05-22T18:25:33.337Z"
   },
   {
    "duration": 18,
    "start_time": "2022-05-22T18:26:05.120Z"
   },
   {
    "duration": 23,
    "start_time": "2022-05-22T18:26:18.354Z"
   },
   {
    "duration": 87,
    "start_time": "2022-05-22T18:26:36.853Z"
   },
   {
    "duration": 29,
    "start_time": "2022-05-22T18:26:45.376Z"
   },
   {
    "duration": 8536,
    "start_time": "2022-05-22T18:31:58.802Z"
   },
   {
    "duration": 4,
    "start_time": "2022-05-22T18:32:52.738Z"
   },
   {
    "duration": 3,
    "start_time": "2022-05-22T18:32:52.856Z"
   },
   {
    "duration": 86,
    "start_time": "2022-05-22T18:32:53.153Z"
   },
   {
    "duration": 20,
    "start_time": "2022-05-22T18:32:53.287Z"
   },
   {
    "duration": 13,
    "start_time": "2022-05-22T18:32:53.585Z"
   },
   {
    "duration": 59,
    "start_time": "2022-05-22T18:32:53.716Z"
   },
   {
    "duration": 17,
    "start_time": "2022-05-22T18:32:53.999Z"
   },
   {
    "duration": 7,
    "start_time": "2022-05-22T18:32:54.963Z"
   },
   {
    "duration": 6,
    "start_time": "2022-05-22T18:32:55.427Z"
   },
   {
    "duration": 9,
    "start_time": "2022-05-22T18:32:55.852Z"
   },
   {
    "duration": 8,
    "start_time": "2022-05-22T18:32:56.266Z"
   },
   {
    "duration": 7,
    "start_time": "2022-05-22T18:32:56.674Z"
   },
   {
    "duration": 7,
    "start_time": "2022-05-22T18:32:57.066Z"
   },
   {
    "duration": 4,
    "start_time": "2022-05-22T18:32:57.354Z"
   },
   {
    "duration": 10,
    "start_time": "2022-05-22T18:32:57.754Z"
   },
   {
    "duration": 7,
    "start_time": "2022-05-22T18:32:57.914Z"
   },
   {
    "duration": 10,
    "start_time": "2022-05-22T18:32:58.283Z"
   },
   {
    "duration": 7,
    "start_time": "2022-05-22T18:32:58.668Z"
   },
   {
    "duration": 16,
    "start_time": "2022-05-22T18:32:59.061Z"
   },
   {
    "duration": 116,
    "start_time": "2022-05-22T18:32:59.494Z"
   },
   {
    "duration": 10,
    "start_time": "2022-05-22T18:32:59.831Z"
   },
   {
    "duration": 3007,
    "start_time": "2022-05-22T18:33:00.262Z"
   },
   {
    "duration": 12,
    "start_time": "2022-05-22T18:33:12.353Z"
   },
   {
    "duration": 52,
    "start_time": "2022-05-22T18:35:18.473Z"
   },
   {
    "duration": 6,
    "start_time": "2022-05-22T18:35:18.973Z"
   },
   {
    "duration": 6,
    "start_time": "2022-05-22T18:35:19.284Z"
   },
   {
    "duration": 6,
    "start_time": "2022-05-22T18:35:19.454Z"
   },
   {
    "duration": 16,
    "start_time": "2022-05-22T18:35:19.856Z"
   },
   {
    "duration": 401,
    "start_time": "2022-05-22T18:35:27.517Z"
   },
   {
    "duration": 3,
    "start_time": "2022-05-22T18:35:27.920Z"
   },
   {
    "duration": 121,
    "start_time": "2022-05-22T18:35:27.925Z"
   },
   {
    "duration": 28,
    "start_time": "2022-05-22T18:35:28.061Z"
   },
   {
    "duration": 13,
    "start_time": "2022-05-22T18:35:28.301Z"
   },
   {
    "duration": 60,
    "start_time": "2022-05-22T18:35:28.454Z"
   },
   {
    "duration": 17,
    "start_time": "2022-05-22T18:35:28.723Z"
   },
   {
    "duration": 9,
    "start_time": "2022-05-22T18:35:29.576Z"
   },
   {
    "duration": 8,
    "start_time": "2022-05-22T18:35:29.960Z"
   },
   {
    "duration": 11,
    "start_time": "2022-05-22T18:35:30.339Z"
   },
   {
    "duration": 11,
    "start_time": "2022-05-22T18:35:30.698Z"
   },
   {
    "duration": 8,
    "start_time": "2022-05-22T18:35:31.132Z"
   },
   {
    "duration": 6,
    "start_time": "2022-05-22T18:35:31.517Z"
   },
   {
    "duration": 5,
    "start_time": "2022-05-22T18:35:31.817Z"
   },
   {
    "duration": 8,
    "start_time": "2022-05-22T18:35:32.296Z"
   },
   {
    "duration": 5,
    "start_time": "2022-05-22T18:35:32.429Z"
   },
   {
    "duration": 11,
    "start_time": "2022-05-22T18:35:33.101Z"
   },
   {
    "duration": 7,
    "start_time": "2022-05-22T18:35:33.631Z"
   },
   {
    "duration": 16,
    "start_time": "2022-05-22T18:35:35.850Z"
   },
   {
    "duration": 120,
    "start_time": "2022-05-22T18:35:37.401Z"
   },
   {
    "duration": 8,
    "start_time": "2022-05-22T18:35:38.131Z"
   },
   {
    "duration": 29,
    "start_time": "2022-05-22T18:35:38.577Z"
   },
   {
    "duration": 4,
    "start_time": "2022-05-22T18:35:39.184Z"
   },
   {
    "duration": 20,
    "start_time": "2022-05-22T18:35:50.199Z"
   },
   {
    "duration": 5,
    "start_time": "2022-05-22T18:36:46.820Z"
   },
   {
    "duration": 20,
    "start_time": "2022-05-22T18:37:35.797Z"
   },
   {
    "duration": 243,
    "start_time": "2022-05-22T18:38:51.702Z"
   },
   {
    "duration": 311,
    "start_time": "2022-05-22T18:39:00.248Z"
   },
   {
    "duration": 242,
    "start_time": "2022-05-22T18:43:37.024Z"
   },
   {
    "duration": 12,
    "start_time": "2022-05-22T18:44:15.658Z"
   },
   {
    "duration": 13,
    "start_time": "2022-05-22T18:44:18.115Z"
   },
   {
    "duration": 19,
    "start_time": "2022-05-22T18:44:49.496Z"
   },
   {
    "duration": 11,
    "start_time": "2022-05-22T18:45:09.218Z"
   },
   {
    "duration": 19,
    "start_time": "2022-05-22T18:45:33.926Z"
   },
   {
    "duration": 14,
    "start_time": "2022-05-22T18:45:51.043Z"
   },
   {
    "duration": 3,
    "start_time": "2022-05-22T18:45:58.419Z"
   },
   {
    "duration": 14,
    "start_time": "2022-05-22T18:46:06.515Z"
   },
   {
    "duration": 12,
    "start_time": "2022-05-22T18:46:25.917Z"
   },
   {
    "duration": 18,
    "start_time": "2022-05-22T18:46:42.122Z"
   },
   {
    "duration": 4,
    "start_time": "2022-05-22T18:47:01.260Z"
   },
   {
    "duration": 222,
    "start_time": "2022-05-22T18:47:16.081Z"
   },
   {
    "duration": 20,
    "start_time": "2022-05-22T18:47:26.413Z"
   },
   {
    "duration": 7,
    "start_time": "2022-05-22T18:47:53.188Z"
   },
   {
    "duration": 12,
    "start_time": "2022-05-22T18:48:33.270Z"
   },
   {
    "duration": 314,
    "start_time": "2022-05-22T18:48:44.559Z"
   },
   {
    "duration": 5,
    "start_time": "2022-05-22T18:49:24.361Z"
   },
   {
    "duration": 126,
    "start_time": "2022-05-22T18:49:26.682Z"
   },
   {
    "duration": 467,
    "start_time": "2022-05-22T18:50:01.779Z"
   },
   {
    "duration": 5,
    "start_time": "2022-05-22T18:51:46.876Z"
   },
   {
    "duration": 424,
    "start_time": "2022-05-22T18:59:26.719Z"
   },
   {
    "duration": 3,
    "start_time": "2022-05-22T18:59:27.486Z"
   },
   {
    "duration": 90,
    "start_time": "2022-05-22T18:59:28.099Z"
   },
   {
    "duration": 24,
    "start_time": "2022-05-22T18:59:29.042Z"
   },
   {
    "duration": 14,
    "start_time": "2022-05-22T18:59:29.801Z"
   },
   {
    "duration": 61,
    "start_time": "2022-05-22T18:59:31.250Z"
   },
   {
    "duration": 19,
    "start_time": "2022-05-22T18:59:33.127Z"
   },
   {
    "duration": 11,
    "start_time": "2022-05-22T19:00:28.078Z"
   },
   {
    "duration": 7,
    "start_time": "2022-05-22T19:00:35.091Z"
   },
   {
    "duration": 11,
    "start_time": "2022-05-22T19:02:30.813Z"
   },
   {
    "duration": 9,
    "start_time": "2022-05-22T19:02:34.303Z"
   },
   {
    "duration": 6,
    "start_time": "2022-05-22T19:02:36.110Z"
   },
   {
    "duration": 6,
    "start_time": "2022-05-22T19:02:37.887Z"
   },
   {
    "duration": 7,
    "start_time": "2022-05-22T19:02:39.722Z"
   },
   {
    "duration": 9,
    "start_time": "2022-05-22T19:02:48.745Z"
   },
   {
    "duration": 7,
    "start_time": "2022-05-22T19:02:49.745Z"
   },
   {
    "duration": 10,
    "start_time": "2022-05-22T19:02:58.145Z"
   },
   {
    "duration": 6,
    "start_time": "2022-05-22T19:03:08.923Z"
   },
   {
    "duration": 15,
    "start_time": "2022-05-22T19:03:22.564Z"
   },
   {
    "duration": 138,
    "start_time": "2022-05-22T19:03:30.406Z"
   },
   {
    "duration": 13,
    "start_time": "2022-05-22T19:03:37.987Z"
   },
   {
    "duration": 7,
    "start_time": "2022-05-22T19:04:08.964Z"
   },
   {
    "duration": 6,
    "start_time": "2022-05-22T19:06:08.512Z"
   },
   {
    "duration": 14,
    "start_time": "2022-05-22T19:06:19.277Z"
   },
   {
    "duration": 10,
    "start_time": "2022-05-22T19:15:16.605Z"
   },
   {
    "duration": 451,
    "start_time": "2022-05-22T19:15:31.356Z"
   },
   {
    "duration": 3,
    "start_time": "2022-05-22T19:15:32.099Z"
   },
   {
    "duration": 91,
    "start_time": "2022-05-22T19:15:32.894Z"
   },
   {
    "duration": 39,
    "start_time": "2022-05-22T19:15:33.552Z"
   },
   {
    "duration": 15,
    "start_time": "2022-05-22T19:15:34.348Z"
   },
   {
    "duration": 67,
    "start_time": "2022-05-22T19:15:35.926Z"
   },
   {
    "duration": 23,
    "start_time": "2022-05-22T19:15:36.803Z"
   },
   {
    "duration": 9,
    "start_time": "2022-05-22T19:15:40.799Z"
   },
   {
    "duration": 7,
    "start_time": "2022-05-22T19:15:42.246Z"
   },
   {
    "duration": 10,
    "start_time": "2022-05-22T19:15:43.614Z"
   },
   {
    "duration": 10,
    "start_time": "2022-05-22T19:15:44.878Z"
   },
   {
    "duration": 6,
    "start_time": "2022-05-22T19:15:46.263Z"
   },
   {
    "duration": 5,
    "start_time": "2022-05-22T19:15:47.425Z"
   },
   {
    "duration": 8,
    "start_time": "2022-05-22T19:15:48.046Z"
   },
   {
    "duration": 8,
    "start_time": "2022-05-22T19:15:49.257Z"
   },
   {
    "duration": 7,
    "start_time": "2022-05-22T19:15:49.836Z"
   },
   {
    "duration": 17,
    "start_time": "2022-05-22T19:15:51.227Z"
   },
   {
    "duration": 8,
    "start_time": "2022-05-22T19:15:52.646Z"
   },
   {
    "duration": 18,
    "start_time": "2022-05-22T19:15:54.057Z"
   },
   {
    "duration": 149,
    "start_time": "2022-05-22T19:15:55.980Z"
   },
   {
    "duration": 19,
    "start_time": "2022-05-22T19:15:57.865Z"
   },
   {
    "duration": 7,
    "start_time": "2022-05-22T19:15:59.390Z"
   },
   {
    "duration": 4,
    "start_time": "2022-05-22T19:16:00.880Z"
   },
   {
    "duration": 5,
    "start_time": "2022-05-22T19:16:10.326Z"
   },
   {
    "duration": 423,
    "start_time": "2022-05-22T19:16:42.312Z"
   },
   {
    "duration": 3,
    "start_time": "2022-05-22T19:16:42.738Z"
   },
   {
    "duration": 105,
    "start_time": "2022-05-22T19:16:42.743Z"
   },
   {
    "duration": 36,
    "start_time": "2022-05-22T19:16:42.867Z"
   },
   {
    "duration": 14,
    "start_time": "2022-05-22T19:16:43.050Z"
   },
   {
    "duration": 86,
    "start_time": "2022-05-22T19:16:43.213Z"
   },
   {
    "duration": 23,
    "start_time": "2022-05-22T19:16:43.434Z"
   },
   {
    "duration": 9,
    "start_time": "2022-05-22T19:16:44.323Z"
   },
   {
    "duration": 7,
    "start_time": "2022-05-22T19:16:44.716Z"
   },
   {
    "duration": 15,
    "start_time": "2022-05-22T19:16:45.116Z"
   },
   {
    "duration": 12,
    "start_time": "2022-05-22T19:16:45.564Z"
   },
   {
    "duration": 6,
    "start_time": "2022-05-22T19:16:45.848Z"
   },
   {
    "duration": 6,
    "start_time": "2022-05-22T19:16:46.255Z"
   },
   {
    "duration": 6,
    "start_time": "2022-05-22T19:16:46.512Z"
   },
   {
    "duration": 8,
    "start_time": "2022-05-22T19:16:48.566Z"
   },
   {
    "duration": 7,
    "start_time": "2022-05-22T19:16:49.171Z"
   },
   {
    "duration": 14,
    "start_time": "2022-05-22T19:16:49.811Z"
   },
   {
    "duration": 7,
    "start_time": "2022-05-22T19:16:50.317Z"
   },
   {
    "duration": 17,
    "start_time": "2022-05-22T19:16:51.229Z"
   },
   {
    "duration": 190,
    "start_time": "2022-05-22T19:16:52.879Z"
   },
   {
    "duration": 14,
    "start_time": "2022-05-22T19:16:54.213Z"
   },
   {
    "duration": 10,
    "start_time": "2022-05-22T19:16:55.563Z"
   },
   {
    "duration": 5,
    "start_time": "2022-05-22T19:16:58.607Z"
   },
   {
    "duration": 16,
    "start_time": "2022-05-22T19:17:06.561Z"
   },
   {
    "duration": 26,
    "start_time": "2022-05-22T19:23:46.365Z"
   },
   {
    "duration": 4,
    "start_time": "2022-05-22T19:24:38.584Z"
   },
   {
    "duration": 8,
    "start_time": "2022-05-22T19:24:40.679Z"
   },
   {
    "duration": 36,
    "start_time": "2022-05-22T19:28:54.389Z"
   },
   {
    "duration": 11,
    "start_time": "2022-05-22T19:29:39.344Z"
   },
   {
    "duration": 175,
    "start_time": "2022-05-22T19:31:10.448Z"
   },
   {
    "duration": 138,
    "start_time": "2022-05-22T19:31:32.612Z"
   },
   {
    "duration": 141,
    "start_time": "2022-05-22T19:31:55.141Z"
   },
   {
    "duration": 2,
    "start_time": "2022-05-22T19:32:42.308Z"
   },
   {
    "duration": 9,
    "start_time": "2022-05-22T19:32:57.221Z"
   },
   {
    "duration": 110,
    "start_time": "2022-05-22T19:33:09.577Z"
   },
   {
    "duration": 198,
    "start_time": "2022-05-22T19:34:26.948Z"
   },
   {
    "duration": 24,
    "start_time": "2022-05-22T19:34:44.323Z"
   },
   {
    "duration": 11,
    "start_time": "2022-05-22T19:36:52.215Z"
   },
   {
    "duration": 146,
    "start_time": "2022-05-22T19:37:33.367Z"
   },
   {
    "duration": 504,
    "start_time": "2022-05-22T19:42:33.364Z"
   },
   {
    "duration": 129,
    "start_time": "2022-05-22T19:43:59.089Z"
   },
   {
    "duration": 176,
    "start_time": "2022-05-22T19:44:21.153Z"
   },
   {
    "duration": 87,
    "start_time": "2022-05-22T19:45:08.901Z"
   },
   {
    "duration": 35,
    "start_time": "2022-05-22T19:46:11.386Z"
   },
   {
    "duration": 243,
    "start_time": "2022-05-22T19:48:26.808Z"
   },
   {
    "duration": 828,
    "start_time": "2022-05-22T19:49:10.128Z"
   },
   {
    "duration": 795,
    "start_time": "2022-05-22T19:49:21.709Z"
   },
   {
    "duration": 27,
    "start_time": "2022-05-22T19:49:52.428Z"
   },
   {
    "duration": 267,
    "start_time": "2022-05-22T19:50:49.802Z"
   },
   {
    "duration": 20,
    "start_time": "2022-05-22T19:51:37.686Z"
   },
   {
    "duration": 282,
    "start_time": "2022-05-22T19:53:36.989Z"
   },
   {
    "duration": 324,
    "start_time": "2022-05-22T19:54:02.156Z"
   },
   {
    "duration": 5,
    "start_time": "2022-05-22T19:55:15.917Z"
   },
   {
    "duration": 271,
    "start_time": "2022-05-22T19:55:23.221Z"
   },
   {
    "duration": 277,
    "start_time": "2022-05-22T19:55:35.824Z"
   },
   {
    "duration": 1028,
    "start_time": "2022-05-22T19:57:43.839Z"
   },
   {
    "duration": 167,
    "start_time": "2022-05-22T19:58:02.839Z"
   },
   {
    "duration": 115,
    "start_time": "2022-05-22T19:58:43.982Z"
   },
   {
    "duration": 120,
    "start_time": "2022-05-22T19:58:59.712Z"
   },
   {
    "duration": 127,
    "start_time": "2022-05-22T19:59:07.405Z"
   },
   {
    "duration": 182,
    "start_time": "2022-05-22T19:59:13.455Z"
   },
   {
    "duration": 194,
    "start_time": "2022-05-22T19:59:20.473Z"
   },
   {
    "duration": 180,
    "start_time": "2022-05-22T19:59:41.579Z"
   },
   {
    "duration": 176,
    "start_time": "2022-05-22T20:00:41.218Z"
   },
   {
    "duration": 165,
    "start_time": "2022-05-22T20:00:49.714Z"
   },
   {
    "duration": 112,
    "start_time": "2022-05-22T20:00:59.327Z"
   },
   {
    "duration": 129,
    "start_time": "2022-05-22T20:01:07.293Z"
   },
   {
    "duration": 170,
    "start_time": "2022-05-22T20:01:13.016Z"
   },
   {
    "duration": 123,
    "start_time": "2022-05-22T20:01:29.742Z"
   },
   {
    "duration": 150,
    "start_time": "2022-05-22T20:01:37.980Z"
   },
   {
    "duration": 143,
    "start_time": "2022-05-22T20:01:48.258Z"
   },
   {
    "duration": 178,
    "start_time": "2022-05-22T20:01:53.074Z"
   },
   {
    "duration": 229,
    "start_time": "2022-05-22T20:01:59.865Z"
   },
   {
    "duration": 111,
    "start_time": "2022-05-22T20:02:10.226Z"
   },
   {
    "duration": 128,
    "start_time": "2022-05-22T20:02:24.043Z"
   },
   {
    "duration": 122,
    "start_time": "2022-05-22T20:02:36.539Z"
   },
   {
    "duration": 118,
    "start_time": "2022-05-22T20:02:43.991Z"
   },
   {
    "duration": 158,
    "start_time": "2022-05-22T20:04:38.249Z"
   },
   {
    "duration": 177,
    "start_time": "2022-05-22T20:04:53.451Z"
   },
   {
    "duration": 520,
    "start_time": "2022-05-22T20:05:11.850Z"
   },
   {
    "duration": 369,
    "start_time": "2022-05-22T20:05:20.219Z"
   },
   {
    "duration": 256,
    "start_time": "2022-05-22T20:05:44.329Z"
   },
   {
    "duration": 168,
    "start_time": "2022-05-22T20:05:53.228Z"
   },
   {
    "duration": 141,
    "start_time": "2022-05-22T20:05:59.818Z"
   },
   {
    "duration": 166,
    "start_time": "2022-05-22T20:06:06.529Z"
   },
   {
    "duration": 119,
    "start_time": "2022-05-22T20:06:12.742Z"
   },
   {
    "duration": 170,
    "start_time": "2022-05-22T20:06:18.744Z"
   },
   {
    "duration": 314,
    "start_time": "2022-05-22T20:06:24.777Z"
   },
   {
    "duration": 175,
    "start_time": "2022-05-22T20:06:32.526Z"
   },
   {
    "duration": 205,
    "start_time": "2022-05-22T20:06:39.213Z"
   },
   {
    "duration": 375,
    "start_time": "2022-05-22T20:06:52.042Z"
   },
   {
    "duration": 264,
    "start_time": "2022-05-22T20:06:59.616Z"
   },
   {
    "duration": 80,
    "start_time": "2022-05-23T18:03:22.642Z"
   },
   {
    "duration": 7,
    "start_time": "2022-05-23T18:03:31.145Z"
   },
   {
    "duration": 410,
    "start_time": "2022-05-23T18:03:50.416Z"
   },
   {
    "duration": 4,
    "start_time": "2022-05-23T18:03:51.245Z"
   },
   {
    "duration": 640,
    "start_time": "2022-05-23T18:03:52.363Z"
   },
   {
    "duration": 16,
    "start_time": "2022-05-23T18:04:09.945Z"
   },
   {
    "duration": 30,
    "start_time": "2022-05-23T18:04:11.316Z"
   },
   {
    "duration": 14,
    "start_time": "2022-05-23T18:04:14.181Z"
   },
   {
    "duration": 21,
    "start_time": "2022-05-23T18:04:32.246Z"
   },
   {
    "duration": 72,
    "start_time": "2022-05-23T18:04:33.080Z"
   },
   {
    "duration": 26,
    "start_time": "2022-05-23T18:04:34.018Z"
   },
   {
    "duration": 325,
    "start_time": "2022-05-23T18:04:35.004Z"
   },
   {
    "duration": 9,
    "start_time": "2022-05-23T18:04:35.389Z"
   },
   {
    "duration": 12,
    "start_time": "2022-05-23T18:04:35.754Z"
   },
   {
    "duration": 13,
    "start_time": "2022-05-23T18:04:36.279Z"
   },
   {
    "duration": 11,
    "start_time": "2022-05-23T18:04:36.777Z"
   },
   {
    "duration": 6,
    "start_time": "2022-05-23T18:04:37.153Z"
   },
   {
    "duration": 5,
    "start_time": "2022-05-23T18:04:37.371Z"
   },
   {
    "duration": 10,
    "start_time": "2022-05-23T18:04:37.793Z"
   },
   {
    "duration": 6,
    "start_time": "2022-05-23T18:04:37.994Z"
   },
   {
    "duration": 13,
    "start_time": "2022-05-23T18:04:38.373Z"
   },
   {
    "duration": 7,
    "start_time": "2022-05-23T18:04:40.949Z"
   },
   {
    "duration": 12,
    "start_time": "2022-05-23T18:04:42.419Z"
   },
   {
    "duration": 164,
    "start_time": "2022-05-23T18:04:42.917Z"
   },
   {
    "duration": 15,
    "start_time": "2022-05-23T18:04:43.552Z"
   },
   {
    "duration": 11,
    "start_time": "2022-05-23T18:04:44.167Z"
   },
   {
    "duration": 4,
    "start_time": "2022-05-23T18:04:44.965Z"
   },
   {
    "duration": 21,
    "start_time": "2022-05-23T18:04:45.879Z"
   },
   {
    "duration": 4,
    "start_time": "2022-05-23T18:04:48.252Z"
   },
   {
    "duration": 7,
    "start_time": "2022-05-23T18:04:49.473Z"
   },
   {
    "duration": 280,
    "start_time": "2022-05-23T18:04:55.479Z"
   },
   {
    "duration": 4,
    "start_time": "2022-05-23T18:04:56.850Z"
   },
   {
    "duration": 618,
    "start_time": "2022-05-23T18:05:02.519Z"
   },
   {
    "duration": 246,
    "start_time": "2022-05-23T18:05:04.420Z"
   },
   {
    "duration": 147,
    "start_time": "2022-05-23T18:05:05.501Z"
   },
   {
    "duration": 282,
    "start_time": "2022-05-23T18:05:06.745Z"
   },
   {
    "duration": 273,
    "start_time": "2022-05-23T18:05:09.369Z"
   },
   {
    "duration": 5,
    "start_time": "2022-05-23T18:05:14.468Z"
   },
   {
    "duration": 36,
    "start_time": "2022-05-23T18:05:23.876Z"
   },
   {
    "duration": 5,
    "start_time": "2022-05-23T18:05:47.577Z"
   },
   {
    "duration": 6,
    "start_time": "2022-05-23T18:05:48.658Z"
   },
   {
    "duration": 254,
    "start_time": "2022-05-23T18:09:42.542Z"
   },
   {
    "duration": 149,
    "start_time": "2022-05-23T18:09:57.811Z"
   },
   {
    "duration": 90,
    "start_time": "2022-05-23T18:17:14.574Z"
   },
   {
    "duration": 8,
    "start_time": "2022-05-23T18:17:24.692Z"
   },
   {
    "duration": 6,
    "start_time": "2022-05-23T18:17:30.607Z"
   },
   {
    "duration": 9,
    "start_time": "2022-05-23T18:18:07.999Z"
   },
   {
    "duration": 411,
    "start_time": "2022-05-23T18:18:48.284Z"
   },
   {
    "duration": 3,
    "start_time": "2022-05-23T18:18:48.697Z"
   },
   {
    "duration": 87,
    "start_time": "2022-05-23T18:18:48.719Z"
   },
   {
    "duration": 23,
    "start_time": "2022-05-23T18:18:48.954Z"
   },
   {
    "duration": 15,
    "start_time": "2022-05-23T18:18:49.334Z"
   },
   {
    "duration": 66,
    "start_time": "2022-05-23T18:18:49.590Z"
   },
   {
    "duration": 18,
    "start_time": "2022-05-23T18:18:49.834Z"
   },
   {
    "duration": 8,
    "start_time": "2022-05-23T18:18:50.567Z"
   },
   {
    "duration": 7,
    "start_time": "2022-05-23T18:18:50.952Z"
   },
   {
    "duration": 10,
    "start_time": "2022-05-23T18:18:51.274Z"
   },
   {
    "duration": 8,
    "start_time": "2022-05-23T18:18:51.619Z"
   },
   {
    "duration": 6,
    "start_time": "2022-05-23T18:18:51.951Z"
   },
   {
    "duration": 5,
    "start_time": "2022-05-23T18:18:52.410Z"
   },
   {
    "duration": 5,
    "start_time": "2022-05-23T18:18:52.605Z"
   },
   {
    "duration": 8,
    "start_time": "2022-05-23T18:18:52.981Z"
   },
   {
    "duration": 6,
    "start_time": "2022-05-23T18:18:53.183Z"
   },
   {
    "duration": 11,
    "start_time": "2022-05-23T18:18:53.551Z"
   },
   {
    "duration": 7,
    "start_time": "2022-05-23T18:18:53.977Z"
   },
   {
    "duration": 12,
    "start_time": "2022-05-23T18:18:54.311Z"
   },
   {
    "duration": 131,
    "start_time": "2022-05-23T18:18:54.773Z"
   },
   {
    "duration": 13,
    "start_time": "2022-05-23T18:18:55.080Z"
   },
   {
    "duration": 8,
    "start_time": "2022-05-23T18:18:55.508Z"
   },
   {
    "duration": 6,
    "start_time": "2022-05-23T18:18:56.950Z"
   },
   {
    "duration": 28,
    "start_time": "2022-05-23T18:18:57.277Z"
   },
   {
    "duration": 4,
    "start_time": "2022-05-23T18:18:57.856Z"
   },
   {
    "duration": 5,
    "start_time": "2022-05-23T18:18:58.160Z"
   },
   {
    "duration": 260,
    "start_time": "2022-05-23T18:18:58.483Z"
   },
   {
    "duration": 5,
    "start_time": "2022-05-23T18:19:01.422Z"
   },
   {
    "duration": 387,
    "start_time": "2022-05-23T18:19:03.414Z"
   },
   {
    "duration": 238,
    "start_time": "2022-05-23T18:19:04.283Z"
   },
   {
    "duration": 157,
    "start_time": "2022-05-23T18:19:05.213Z"
   },
   {
    "duration": 253,
    "start_time": "2022-05-23T18:19:06.852Z"
   },
   {
    "duration": 246,
    "start_time": "2022-05-23T18:19:08.857Z"
   },
   {
    "duration": 5,
    "start_time": "2022-05-23T18:19:14.553Z"
   },
   {
    "duration": 5,
    "start_time": "2022-05-23T18:19:21.594Z"
   },
   {
    "duration": 19,
    "start_time": "2022-05-23T18:24:41.352Z"
   },
   {
    "duration": 2,
    "start_time": "2022-05-23T18:42:00.764Z"
   },
   {
    "duration": 264,
    "start_time": "2022-05-23T18:43:08.481Z"
   },
   {
    "duration": 30,
    "start_time": "2022-05-23T18:44:00.359Z"
   },
   {
    "duration": 236,
    "start_time": "2022-05-23T18:44:24.777Z"
   },
   {
    "duration": 183,
    "start_time": "2022-05-23T18:44:47.708Z"
   },
   {
    "duration": 172,
    "start_time": "2022-05-23T18:45:05.127Z"
   },
   {
    "duration": 194,
    "start_time": "2022-05-23T18:45:37.111Z"
   },
   {
    "duration": 733,
    "start_time": "2022-05-23T18:50:44.117Z"
   },
   {
    "duration": 8,
    "start_time": "2022-05-23T18:51:21.025Z"
   },
   {
    "duration": 106,
    "start_time": "2022-05-23T18:54:25.765Z"
   },
   {
    "duration": 128,
    "start_time": "2022-05-23T18:54:31.963Z"
   },
   {
    "duration": 76,
    "start_time": "2022-05-23T18:55:55.767Z"
   },
   {
    "duration": 80,
    "start_time": "2022-05-23T18:57:32.366Z"
   },
   {
    "duration": 99,
    "start_time": "2022-05-23T18:57:48.269Z"
   },
   {
    "duration": 106,
    "start_time": "2022-05-23T18:58:19.161Z"
   },
   {
    "duration": 107,
    "start_time": "2022-05-23T19:02:48.052Z"
   },
   {
    "duration": 118,
    "start_time": "2022-05-23T19:03:49.171Z"
   },
   {
    "duration": 1367,
    "start_time": "2022-05-23T19:04:21.867Z"
   },
   {
    "duration": 229,
    "start_time": "2022-05-23T19:04:36.479Z"
   },
   {
    "duration": 145,
    "start_time": "2022-05-23T19:05:04.524Z"
   },
   {
    "duration": 369,
    "start_time": "2022-05-23T19:05:26.867Z"
   },
   {
    "duration": 127,
    "start_time": "2022-05-23T19:06:10.882Z"
   },
   {
    "duration": 125,
    "start_time": "2022-05-23T19:06:24.566Z"
   },
   {
    "duration": 118,
    "start_time": "2022-05-23T19:06:40.963Z"
   },
   {
    "duration": 25,
    "start_time": "2022-05-23T19:08:03.428Z"
   },
   {
    "duration": 35,
    "start_time": "2022-05-23T19:08:26.203Z"
   },
   {
    "duration": 8,
    "start_time": "2022-05-23T19:10:12.758Z"
   },
   {
    "duration": 11,
    "start_time": "2022-05-23T19:14:14.095Z"
   },
   {
    "duration": 8,
    "start_time": "2022-05-23T19:14:17.091Z"
   },
   {
    "duration": 129,
    "start_time": "2022-05-23T19:14:47.758Z"
   },
   {
    "duration": 108,
    "start_time": "2022-05-23T19:16:38.819Z"
   },
   {
    "duration": 151,
    "start_time": "2022-05-23T19:16:46.996Z"
   },
   {
    "duration": 134,
    "start_time": "2022-05-23T19:16:59.081Z"
   },
   {
    "duration": 148,
    "start_time": "2022-05-23T19:17:44.541Z"
   },
   {
    "duration": 201,
    "start_time": "2022-05-23T19:18:12.945Z"
   },
   {
    "duration": 31,
    "start_time": "2022-05-23T19:20:00.368Z"
   },
   {
    "duration": 33,
    "start_time": "2022-05-23T19:21:17.060Z"
   },
   {
    "duration": 24,
    "start_time": "2022-05-23T19:21:33.613Z"
   },
   {
    "duration": 433,
    "start_time": "2022-05-23T19:27:31.232Z"
   },
   {
    "duration": 377,
    "start_time": "2022-05-23T19:28:24.117Z"
   },
   {
    "duration": 142,
    "start_time": "2022-05-23T19:28:27.286Z"
   },
   {
    "duration": 109,
    "start_time": "2022-05-23T19:28:47.653Z"
   },
   {
    "duration": 125,
    "start_time": "2022-05-23T19:29:13.053Z"
   },
   {
    "duration": 137,
    "start_time": "2022-05-23T19:30:30.851Z"
   },
   {
    "duration": 124,
    "start_time": "2022-05-23T19:30:48.660Z"
   },
   {
    "duration": 105,
    "start_time": "2022-05-23T19:32:00.963Z"
   },
   {
    "duration": 124,
    "start_time": "2022-05-23T19:33:08.250Z"
   },
   {
    "duration": 216,
    "start_time": "2022-05-23T19:37:29.573Z"
   },
   {
    "duration": 224,
    "start_time": "2022-05-23T19:37:57.958Z"
   },
   {
    "duration": 228,
    "start_time": "2022-05-23T19:38:17.950Z"
   },
   {
    "duration": 97,
    "start_time": "2022-05-23T19:38:43.950Z"
   },
   {
    "duration": 8,
    "start_time": "2022-05-23T19:39:51.554Z"
   },
   {
    "duration": 3,
    "start_time": "2022-05-23T19:40:48.487Z"
   },
   {
    "duration": 27,
    "start_time": "2022-05-23T19:40:54.177Z"
   },
   {
    "duration": 9,
    "start_time": "2022-05-23T19:42:08.351Z"
   },
   {
    "duration": 4,
    "start_time": "2022-05-23T19:42:18.790Z"
   },
   {
    "duration": 124,
    "start_time": "2022-05-23T19:49:18.673Z"
   },
   {
    "duration": 119,
    "start_time": "2022-05-23T19:50:03.014Z"
   },
   {
    "duration": 106,
    "start_time": "2022-05-23T19:50:16.800Z"
   },
   {
    "duration": 643,
    "start_time": "2022-05-23T19:55:06.005Z"
   },
   {
    "duration": 10,
    "start_time": "2022-05-23T19:55:06.649Z"
   },
   {
    "duration": 96,
    "start_time": "2022-05-23T19:55:06.661Z"
   },
   {
    "duration": 23,
    "start_time": "2022-05-23T19:55:06.759Z"
   },
   {
    "duration": 14,
    "start_time": "2022-05-23T19:55:06.784Z"
   },
   {
    "duration": 87,
    "start_time": "2022-05-23T19:55:06.799Z"
   },
   {
    "duration": 17,
    "start_time": "2022-05-23T19:55:06.888Z"
   },
   {
    "duration": 10,
    "start_time": "2022-05-23T19:55:06.906Z"
   },
   {
    "duration": 8,
    "start_time": "2022-05-23T19:55:06.917Z"
   },
   {
    "duration": 40,
    "start_time": "2022-05-23T19:55:06.927Z"
   },
   {
    "duration": 10,
    "start_time": "2022-05-23T19:55:06.969Z"
   },
   {
    "duration": 5,
    "start_time": "2022-05-23T19:55:06.981Z"
   },
   {
    "duration": 7,
    "start_time": "2022-05-23T19:55:06.988Z"
   },
   {
    "duration": 10,
    "start_time": "2022-05-23T19:55:06.996Z"
   },
   {
    "duration": 12,
    "start_time": "2022-05-23T19:55:07.008Z"
   },
   {
    "duration": 40,
    "start_time": "2022-05-23T19:55:07.022Z"
   },
   {
    "duration": 5,
    "start_time": "2022-05-23T19:55:07.064Z"
   },
   {
    "duration": 16,
    "start_time": "2022-05-23T19:55:07.070Z"
   },
   {
    "duration": 6,
    "start_time": "2022-05-23T19:55:07.087Z"
   },
   {
    "duration": 11,
    "start_time": "2022-05-23T19:55:07.094Z"
   },
   {
    "duration": 199,
    "start_time": "2022-05-23T19:55:07.106Z"
   },
   {
    "duration": 16,
    "start_time": "2022-05-23T19:55:07.307Z"
   },
   {
    "duration": 9,
    "start_time": "2022-05-23T19:55:07.325Z"
   },
   {
    "duration": 27,
    "start_time": "2022-05-23T19:55:07.338Z"
   },
   {
    "duration": 36,
    "start_time": "2022-05-23T19:55:07.367Z"
   },
   {
    "duration": 5,
    "start_time": "2022-05-23T19:55:07.405Z"
   },
   {
    "duration": 13,
    "start_time": "2022-05-23T19:55:07.412Z"
   },
   {
    "duration": 283,
    "start_time": "2022-05-23T19:55:07.427Z"
   },
   {
    "duration": 5,
    "start_time": "2022-05-23T19:55:07.711Z"
   },
   {
    "duration": 173,
    "start_time": "2022-05-23T19:55:07.717Z"
   },
   {
    "duration": 177,
    "start_time": "2022-05-23T19:55:07.891Z"
   },
   {
    "duration": 125,
    "start_time": "2022-05-23T19:55:08.069Z"
   },
   {
    "duration": 135,
    "start_time": "2022-05-23T19:55:08.196Z"
   },
   {
    "duration": 141,
    "start_time": "2022-05-23T19:55:08.333Z"
   },
   {
    "duration": 212,
    "start_time": "2022-05-23T19:55:08.659Z"
   },
   {
    "duration": 220,
    "start_time": "2022-05-23T19:55:09.307Z"
   },
   {
    "duration": 133,
    "start_time": "2022-05-23T19:55:09.529Z"
   },
   {
    "duration": 237,
    "start_time": "2022-05-23T19:55:09.664Z"
   },
   {
    "duration": 9,
    "start_time": "2022-05-23T19:55:09.903Z"
   },
   {
    "duration": 240,
    "start_time": "2022-05-23T19:55:51.861Z"
   },
   {
    "duration": 88,
    "start_time": "2022-05-23T19:56:07.618Z"
   },
   {
    "duration": 229,
    "start_time": "2022-05-23T19:56:28.002Z"
   },
   {
    "duration": 325,
    "start_time": "2022-05-23T19:56:51.868Z"
   },
   {
    "duration": 2,
    "start_time": "2022-05-23T20:00:24.922Z"
   },
   {
    "duration": 2,
    "start_time": "2022-05-23T20:00:24.932Z"
   },
   {
    "duration": 95,
    "start_time": "2022-05-23T20:00:24.999Z"
   },
   {
    "duration": 20,
    "start_time": "2022-05-23T20:00:25.096Z"
   },
   {
    "duration": 15,
    "start_time": "2022-05-23T20:00:25.117Z"
   },
   {
    "duration": 82,
    "start_time": "2022-05-23T20:00:25.134Z"
   },
   {
    "duration": 42,
    "start_time": "2022-05-23T20:00:25.217Z"
   },
   {
    "duration": 7,
    "start_time": "2022-05-23T20:00:25.261Z"
   },
   {
    "duration": 7,
    "start_time": "2022-05-23T20:00:25.270Z"
   },
   {
    "duration": 11,
    "start_time": "2022-05-23T20:00:25.279Z"
   },
   {
    "duration": 7,
    "start_time": "2022-05-23T20:00:25.291Z"
   },
   {
    "duration": 6,
    "start_time": "2022-05-23T20:00:25.300Z"
   },
   {
    "duration": 6,
    "start_time": "2022-05-23T20:00:25.308Z"
   },
   {
    "duration": 44,
    "start_time": "2022-05-23T20:00:25.316Z"
   },
   {
    "duration": 9,
    "start_time": "2022-05-23T20:00:25.361Z"
   },
   {
    "duration": 7,
    "start_time": "2022-05-23T20:00:25.371Z"
   },
   {
    "duration": 6,
    "start_time": "2022-05-23T20:00:25.380Z"
   },
   {
    "duration": 13,
    "start_time": "2022-05-23T20:00:25.388Z"
   },
   {
    "duration": 6,
    "start_time": "2022-05-23T20:00:25.402Z"
   },
   {
    "duration": 13,
    "start_time": "2022-05-23T20:00:25.410Z"
   },
   {
    "duration": 179,
    "start_time": "2022-05-23T20:00:25.425Z"
   },
   {
    "duration": 12,
    "start_time": "2022-05-23T20:00:25.606Z"
   },
   {
    "duration": 7,
    "start_time": "2022-05-23T20:00:25.619Z"
   },
   {
    "duration": 6,
    "start_time": "2022-05-23T20:00:25.628Z"
   },
   {
    "duration": 39,
    "start_time": "2022-05-23T20:00:25.635Z"
   },
   {
    "duration": 4,
    "start_time": "2022-05-23T20:00:25.676Z"
   },
   {
    "duration": 8,
    "start_time": "2022-05-23T20:00:25.682Z"
   },
   {
    "duration": 282,
    "start_time": "2022-05-23T20:00:25.692Z"
   },
   {
    "duration": 5,
    "start_time": "2022-05-23T20:00:25.976Z"
   },
   {
    "duration": 165,
    "start_time": "2022-05-23T20:00:25.983Z"
   },
   {
    "duration": 154,
    "start_time": "2022-05-23T20:00:26.150Z"
   },
   {
    "duration": 122,
    "start_time": "2022-05-23T20:00:26.306Z"
   },
   {
    "duration": 136,
    "start_time": "2022-05-23T20:00:26.429Z"
   },
   {
    "duration": 140,
    "start_time": "2022-05-23T20:00:26.566Z"
   },
   {
    "duration": 160,
    "start_time": "2022-05-23T20:00:26.707Z"
   },
   {
    "duration": 347,
    "start_time": "2022-05-23T20:00:26.869Z"
   },
   {
    "duration": 165,
    "start_time": "2022-05-23T20:00:27.218Z"
   },
   {
    "duration": 247,
    "start_time": "2022-05-23T20:00:27.386Z"
   },
   {
    "duration": 9,
    "start_time": "2022-05-23T20:00:27.635Z"
   },
   {
    "duration": 10,
    "start_time": "2022-05-23T20:05:10.784Z"
   },
   {
    "duration": 17,
    "start_time": "2022-05-23T20:07:36.110Z"
   },
   {
    "duration": 3,
    "start_time": "2022-05-23T20:07:51.893Z"
   },
   {
    "duration": 11,
    "start_time": "2022-05-23T20:07:51.899Z"
   },
   {
    "duration": 136,
    "start_time": "2022-05-23T20:07:51.913Z"
   },
   {
    "duration": 36,
    "start_time": "2022-05-23T20:07:52.052Z"
   },
   {
    "duration": 27,
    "start_time": "2022-05-23T20:07:52.091Z"
   },
   {
    "duration": 129,
    "start_time": "2022-05-23T20:07:52.120Z"
   },
   {
    "duration": 30,
    "start_time": "2022-05-23T20:07:52.253Z"
   },
   {
    "duration": 9,
    "start_time": "2022-05-23T20:07:52.285Z"
   },
   {
    "duration": 19,
    "start_time": "2022-05-23T20:07:52.520Z"
   },
   {
    "duration": 19,
    "start_time": "2022-05-23T20:07:52.542Z"
   },
   {
    "duration": 31,
    "start_time": "2022-05-23T20:07:52.563Z"
   },
   {
    "duration": 6,
    "start_time": "2022-05-23T20:07:53.100Z"
   },
   {
    "duration": 24,
    "start_time": "2022-05-23T20:07:53.109Z"
   },
   {
    "duration": 29,
    "start_time": "2022-05-23T20:07:53.135Z"
   },
   {
    "duration": 22,
    "start_time": "2022-05-23T20:07:53.166Z"
   },
   {
    "duration": 42,
    "start_time": "2022-05-23T20:07:53.190Z"
   },
   {
    "duration": 39,
    "start_time": "2022-05-23T20:07:53.233Z"
   },
   {
    "duration": 19,
    "start_time": "2022-05-23T20:07:53.274Z"
   },
   {
    "duration": 25,
    "start_time": "2022-05-23T20:07:53.296Z"
   },
   {
    "duration": 39,
    "start_time": "2022-05-23T20:07:53.323Z"
   },
   {
    "duration": 225,
    "start_time": "2022-05-23T20:07:53.365Z"
   },
   {
    "duration": 19,
    "start_time": "2022-05-23T20:07:53.593Z"
   },
   {
    "duration": 15,
    "start_time": "2022-05-23T20:07:53.615Z"
   },
   {
    "duration": 31,
    "start_time": "2022-05-23T20:07:53.632Z"
   },
   {
    "duration": 42,
    "start_time": "2022-05-23T20:07:53.665Z"
   },
   {
    "duration": 6,
    "start_time": "2022-05-23T20:07:53.710Z"
   },
   {
    "duration": 29,
    "start_time": "2022-05-23T20:07:53.718Z"
   },
   {
    "duration": 453,
    "start_time": "2022-05-23T20:07:53.750Z"
   },
   {
    "duration": 6,
    "start_time": "2022-05-23T20:07:54.206Z"
   },
   {
    "duration": 184,
    "start_time": "2022-05-23T20:07:54.214Z"
   },
   {
    "duration": 233,
    "start_time": "2022-05-23T20:07:54.400Z"
   },
   {
    "duration": 178,
    "start_time": "2022-05-23T20:07:54.636Z"
   },
   {
    "duration": 154,
    "start_time": "2022-05-23T20:07:54.816Z"
   },
   {
    "duration": 334,
    "start_time": "2022-05-23T20:07:54.974Z"
   },
   {
    "duration": 176,
    "start_time": "2022-05-23T20:07:55.309Z"
   },
   {
    "duration": 391,
    "start_time": "2022-05-23T20:07:55.487Z"
   },
   {
    "duration": 195,
    "start_time": "2022-05-23T20:07:55.880Z"
   },
   {
    "duration": 313,
    "start_time": "2022-05-23T20:07:56.078Z"
   },
   {
    "duration": 11,
    "start_time": "2022-05-23T20:07:56.394Z"
   },
   {
    "duration": 143,
    "start_time": "2022-05-23T20:07:56.407Z"
   },
   {
    "duration": 141,
    "start_time": "2022-05-23T20:11:27.006Z"
   },
   {
    "duration": 113,
    "start_time": "2022-05-23T20:11:45.062Z"
   },
   {
    "duration": 10,
    "start_time": "2022-05-23T20:19:00.746Z"
   },
   {
    "duration": 7,
    "start_time": "2022-05-23T20:19:47.200Z"
   },
   {
    "duration": 6,
    "start_time": "2022-05-23T20:19:48.368Z"
   },
   {
    "duration": 6,
    "start_time": "2022-05-23T20:19:49.430Z"
   },
   {
    "duration": 8,
    "start_time": "2022-05-23T20:30:04.146Z"
   },
   {
    "duration": 16,
    "start_time": "2022-05-23T20:30:11.192Z"
   },
   {
    "duration": 13,
    "start_time": "2022-05-23T20:32:18.745Z"
   },
   {
    "duration": 17,
    "start_time": "2022-05-23T20:33:10.836Z"
   },
   {
    "duration": 5,
    "start_time": "2022-05-23T20:33:23.350Z"
   },
   {
    "duration": 10,
    "start_time": "2022-05-23T20:36:58.515Z"
   },
   {
    "duration": 13,
    "start_time": "2022-05-23T20:37:13.223Z"
   },
   {
    "duration": 13,
    "start_time": "2022-05-23T20:38:42.476Z"
   },
   {
    "duration": 8,
    "start_time": "2022-05-23T20:41:35.754Z"
   },
   {
    "duration": 9,
    "start_time": "2022-05-23T20:41:42.667Z"
   },
   {
    "duration": 17,
    "start_time": "2022-05-23T20:44:13.174Z"
   },
   {
    "duration": 7,
    "start_time": "2022-05-23T20:44:56.834Z"
   },
   {
    "duration": 10,
    "start_time": "2022-05-23T20:47:39.884Z"
   },
   {
    "duration": 23,
    "start_time": "2022-05-23T20:47:48.880Z"
   },
   {
    "duration": 17,
    "start_time": "2022-05-23T20:48:07.149Z"
   },
   {
    "duration": 42,
    "start_time": "2022-05-23T20:50:57.249Z"
   },
   {
    "duration": 29,
    "start_time": "2022-05-23T20:52:06.448Z"
   },
   {
    "duration": 6,
    "start_time": "2022-05-23T20:53:41.465Z"
   },
   {
    "duration": 11,
    "start_time": "2022-05-23T20:55:21.815Z"
   },
   {
    "duration": 15,
    "start_time": "2022-05-23T20:56:21.798Z"
   },
   {
    "duration": 63,
    "start_time": "2022-05-24T05:01:55.913Z"
   },
   {
    "duration": 1287,
    "start_time": "2022-05-24T05:02:20.267Z"
   },
   {
    "duration": 3,
    "start_time": "2022-05-24T05:02:21.556Z"
   },
   {
    "duration": 164,
    "start_time": "2022-05-24T05:02:21.560Z"
   },
   {
    "duration": 41,
    "start_time": "2022-05-24T05:02:35.624Z"
   },
   {
    "duration": 3,
    "start_time": "2022-05-24T05:02:58.711Z"
   },
   {
    "duration": 3,
    "start_time": "2022-05-24T05:02:58.722Z"
   },
   {
    "duration": 122,
    "start_time": "2022-05-24T05:02:58.746Z"
   },
   {
    "duration": 35,
    "start_time": "2022-05-24T05:02:58.870Z"
   },
   {
    "duration": 45,
    "start_time": "2022-05-24T05:02:58.907Z"
   },
   {
    "duration": 117,
    "start_time": "2022-05-24T05:02:58.954Z"
   },
   {
    "duration": 18,
    "start_time": "2022-05-24T05:02:59.073Z"
   },
   {
    "duration": 25,
    "start_time": "2022-05-24T05:02:59.093Z"
   },
   {
    "duration": 35,
    "start_time": "2022-05-24T05:02:59.122Z"
   },
   {
    "duration": 12,
    "start_time": "2022-05-24T05:02:59.160Z"
   },
   {
    "duration": 14,
    "start_time": "2022-05-24T05:02:59.174Z"
   },
   {
    "duration": 8,
    "start_time": "2022-05-24T05:02:59.192Z"
   },
   {
    "duration": 15,
    "start_time": "2022-05-24T05:02:59.202Z"
   },
   {
    "duration": 9,
    "start_time": "2022-05-24T05:02:59.219Z"
   },
   {
    "duration": 13,
    "start_time": "2022-05-24T05:02:59.241Z"
   },
   {
    "duration": 9,
    "start_time": "2022-05-24T05:02:59.256Z"
   },
   {
    "duration": 6,
    "start_time": "2022-05-24T05:02:59.267Z"
   },
   {
    "duration": 12,
    "start_time": "2022-05-24T05:02:59.275Z"
   },
   {
    "duration": 7,
    "start_time": "2022-05-24T05:02:59.289Z"
   },
   {
    "duration": 57,
    "start_time": "2022-05-24T05:02:59.299Z"
   },
   {
    "duration": 201,
    "start_time": "2022-05-24T05:02:59.358Z"
   },
   {
    "duration": 17,
    "start_time": "2022-05-24T05:02:59.561Z"
   },
   {
    "duration": 11,
    "start_time": "2022-05-24T05:02:59.581Z"
   },
   {
    "duration": 8,
    "start_time": "2022-05-24T05:02:59.594Z"
   },
   {
    "duration": 53,
    "start_time": "2022-05-24T05:02:59.604Z"
   },
   {
    "duration": 4,
    "start_time": "2022-05-24T05:02:59.659Z"
   },
   {
    "duration": 9,
    "start_time": "2022-05-24T05:02:59.665Z"
   },
   {
    "duration": 341,
    "start_time": "2022-05-24T05:02:59.675Z"
   },
   {
    "duration": 6,
    "start_time": "2022-05-24T05:03:00.019Z"
   },
   {
    "duration": 178,
    "start_time": "2022-05-24T05:03:00.030Z"
   },
   {
    "duration": 160,
    "start_time": "2022-05-24T05:03:00.210Z"
   },
   {
    "duration": 150,
    "start_time": "2022-05-24T05:03:00.372Z"
   },
   {
    "duration": 151,
    "start_time": "2022-05-24T05:03:00.524Z"
   },
   {
    "duration": 200,
    "start_time": "2022-05-24T05:03:00.677Z"
   },
   {
    "duration": 299,
    "start_time": "2022-05-24T05:03:00.880Z"
   },
   {
    "duration": 125,
    "start_time": "2022-05-24T05:03:01.180Z"
   },
   {
    "duration": 249,
    "start_time": "2022-05-24T05:03:01.307Z"
   },
   {
    "duration": 9,
    "start_time": "2022-05-24T05:03:01.558Z"
   },
   {
    "duration": 12,
    "start_time": "2022-05-24T05:03:01.568Z"
   },
   {
    "duration": 0,
    "start_time": "2022-05-24T05:03:01.581Z"
   },
   {
    "duration": 0,
    "start_time": "2022-05-24T05:03:01.582Z"
   },
   {
    "duration": 0,
    "start_time": "2022-05-24T05:03:01.583Z"
   },
   {
    "duration": 0,
    "start_time": "2022-05-24T05:03:01.584Z"
   },
   {
    "duration": 0,
    "start_time": "2022-05-24T05:03:01.585Z"
   },
   {
    "duration": 0,
    "start_time": "2022-05-24T05:03:01.586Z"
   },
   {
    "duration": 0,
    "start_time": "2022-05-24T05:03:01.587Z"
   },
   {
    "duration": 0,
    "start_time": "2022-05-24T05:03:01.588Z"
   },
   {
    "duration": 0,
    "start_time": "2022-05-24T05:03:01.589Z"
   },
   {
    "duration": 35,
    "start_time": "2022-05-24T05:04:05.115Z"
   },
   {
    "duration": 39,
    "start_time": "2022-05-24T05:10:22.641Z"
   },
   {
    "duration": 29,
    "start_time": "2022-05-24T05:10:40.567Z"
   },
   {
    "duration": 34,
    "start_time": "2022-05-24T05:11:06.779Z"
   },
   {
    "duration": 40,
    "start_time": "2022-05-24T05:13:05.679Z"
   },
   {
    "duration": 41,
    "start_time": "2022-05-24T05:13:20.621Z"
   },
   {
    "duration": 39,
    "start_time": "2022-05-24T05:13:37.899Z"
   },
   {
    "duration": 38,
    "start_time": "2022-05-24T05:14:12.379Z"
   },
   {
    "duration": 47,
    "start_time": "2022-05-24T05:14:31.929Z"
   },
   {
    "duration": 38,
    "start_time": "2022-05-24T05:16:51.611Z"
   },
   {
    "duration": 46,
    "start_time": "2022-05-24T05:17:38.471Z"
   },
   {
    "duration": 42,
    "start_time": "2022-05-24T05:18:04.733Z"
   },
   {
    "duration": 44,
    "start_time": "2022-05-24T05:18:29.924Z"
   },
   {
    "duration": 38,
    "start_time": "2022-05-24T05:19:26.041Z"
   },
   {
    "duration": 966,
    "start_time": "2022-05-24T19:16:47.809Z"
   },
   {
    "duration": 4,
    "start_time": "2022-05-24T19:16:48.777Z"
   },
   {
    "duration": 161,
    "start_time": "2022-05-24T19:16:48.782Z"
   },
   {
    "duration": 24,
    "start_time": "2022-05-24T19:16:48.945Z"
   },
   {
    "duration": 15,
    "start_time": "2022-05-24T19:16:48.970Z"
   },
   {
    "duration": 71,
    "start_time": "2022-05-24T19:16:48.987Z"
   },
   {
    "duration": 18,
    "start_time": "2022-05-24T19:16:49.060Z"
   },
   {
    "duration": 7,
    "start_time": "2022-05-24T19:16:49.095Z"
   },
   {
    "duration": 13,
    "start_time": "2022-05-24T19:16:49.104Z"
   },
   {
    "duration": 9,
    "start_time": "2022-05-24T19:16:49.120Z"
   },
   {
    "duration": 8,
    "start_time": "2022-05-24T19:16:49.130Z"
   },
   {
    "duration": 6,
    "start_time": "2022-05-24T19:16:49.140Z"
   },
   {
    "duration": 8,
    "start_time": "2022-05-24T19:16:49.147Z"
   },
   {
    "duration": 38,
    "start_time": "2022-05-24T19:16:49.157Z"
   },
   {
    "duration": 9,
    "start_time": "2022-05-24T19:16:49.197Z"
   },
   {
    "duration": 6,
    "start_time": "2022-05-24T19:16:49.208Z"
   },
   {
    "duration": 7,
    "start_time": "2022-05-24T19:16:49.215Z"
   },
   {
    "duration": 10,
    "start_time": "2022-05-24T19:16:49.223Z"
   },
   {
    "duration": 5,
    "start_time": "2022-05-24T19:16:49.235Z"
   },
   {
    "duration": 17,
    "start_time": "2022-05-24T19:16:49.242Z"
   },
   {
    "duration": 172,
    "start_time": "2022-05-24T19:16:49.262Z"
   },
   {
    "duration": 12,
    "start_time": "2022-05-24T19:16:49.436Z"
   },
   {
    "duration": 8,
    "start_time": "2022-05-24T19:16:49.449Z"
   },
   {
    "duration": 9,
    "start_time": "2022-05-24T19:16:49.458Z"
   },
   {
    "duration": 38,
    "start_time": "2022-05-24T19:16:49.468Z"
   },
   {
    "duration": 3,
    "start_time": "2022-05-24T19:16:49.508Z"
   },
   {
    "duration": 12,
    "start_time": "2022-05-24T19:16:49.513Z"
   },
   {
    "duration": 288,
    "start_time": "2022-05-24T19:16:49.528Z"
   },
   {
    "duration": 5,
    "start_time": "2022-05-24T19:16:49.818Z"
   },
   {
    "duration": 175,
    "start_time": "2022-05-24T19:16:49.825Z"
   },
   {
    "duration": 122,
    "start_time": "2022-05-24T19:16:50.001Z"
   },
   {
    "duration": 146,
    "start_time": "2022-05-24T19:16:50.124Z"
   },
   {
    "duration": 128,
    "start_time": "2022-05-24T19:16:50.272Z"
   },
   {
    "duration": 155,
    "start_time": "2022-05-24T19:16:50.402Z"
   },
   {
    "duration": 270,
    "start_time": "2022-05-24T19:16:50.558Z"
   },
   {
    "duration": 118,
    "start_time": "2022-05-24T19:16:50.830Z"
   },
   {
    "duration": 239,
    "start_time": "2022-05-24T19:16:50.950Z"
   },
   {
    "duration": 8,
    "start_time": "2022-05-24T19:16:51.194Z"
   },
   {
    "duration": 16,
    "start_time": "2022-05-24T19:16:51.203Z"
   },
   {
    "duration": 4,
    "start_time": "2022-05-24T19:16:51.220Z"
   },
   {
    "duration": 0,
    "start_time": "2022-05-24T19:16:51.225Z"
   },
   {
    "duration": 0,
    "start_time": "2022-05-24T19:16:51.227Z"
   },
   {
    "duration": 0,
    "start_time": "2022-05-24T19:16:51.228Z"
   },
   {
    "duration": 0,
    "start_time": "2022-05-24T19:16:51.229Z"
   },
   {
    "duration": 0,
    "start_time": "2022-05-24T19:16:51.230Z"
   },
   {
    "duration": 0,
    "start_time": "2022-05-24T19:16:51.232Z"
   },
   {
    "duration": 0,
    "start_time": "2022-05-24T19:16:51.232Z"
   },
   {
    "duration": 37,
    "start_time": "2022-05-24T19:17:08.405Z"
   },
   {
    "duration": 22,
    "start_time": "2022-05-24T19:22:51.018Z"
   },
   {
    "duration": 12,
    "start_time": "2022-05-24T19:23:24.680Z"
   },
   {
    "duration": 5,
    "start_time": "2022-05-24T19:23:30.980Z"
   },
   {
    "duration": 13,
    "start_time": "2022-05-24T19:23:36.727Z"
   },
   {
    "duration": 13,
    "start_time": "2022-05-24T19:23:52.084Z"
   },
   {
    "duration": 32,
    "start_time": "2022-05-24T19:26:20.251Z"
   },
   {
    "duration": 4,
    "start_time": "2022-05-24T19:26:23.618Z"
   },
   {
    "duration": 528,
    "start_time": "2022-05-24T19:27:30.438Z"
   },
   {
    "duration": 3774,
    "start_time": "2022-05-24T19:27:45.024Z"
   },
   {
    "duration": 7,
    "start_time": "2022-05-24T19:28:19.666Z"
   },
   {
    "duration": 7,
    "start_time": "2022-05-24T19:28:26.718Z"
   },
   {
    "duration": 32,
    "start_time": "2022-05-24T19:28:36.613Z"
   },
   {
    "duration": 5,
    "start_time": "2022-05-24T19:28:39.712Z"
   },
   {
    "duration": 31,
    "start_time": "2022-05-24T19:30:59.818Z"
   },
   {
    "duration": 5,
    "start_time": "2022-05-24T19:31:05.973Z"
   },
   {
    "duration": 36,
    "start_time": "2022-05-24T19:32:18.037Z"
   },
   {
    "duration": 25,
    "start_time": "2022-05-24T19:33:08.122Z"
   },
   {
    "duration": 37,
    "start_time": "2022-05-24T19:33:35.062Z"
   },
   {
    "duration": 13,
    "start_time": "2022-05-24T19:34:20.138Z"
   },
   {
    "duration": 15,
    "start_time": "2022-05-24T19:34:43.501Z"
   },
   {
    "duration": 14,
    "start_time": "2022-05-24T19:35:11.480Z"
   },
   {
    "duration": 29,
    "start_time": "2022-05-24T19:35:37.391Z"
   },
   {
    "duration": 26,
    "start_time": "2022-05-24T19:36:29.598Z"
   },
   {
    "duration": 27,
    "start_time": "2022-05-24T19:37:26.966Z"
   },
   {
    "duration": 16,
    "start_time": "2022-05-24T19:38:08.258Z"
   },
   {
    "duration": 32,
    "start_time": "2022-05-24T19:38:34.792Z"
   },
   {
    "duration": 35,
    "start_time": "2022-05-24T19:41:47.434Z"
   },
   {
    "duration": 47,
    "start_time": "2022-05-24T19:42:07.026Z"
   },
   {
    "duration": 171,
    "start_time": "2022-05-24T19:42:14.125Z"
   },
   {
    "duration": 204,
    "start_time": "2022-05-24T19:48:26.016Z"
   },
   {
    "duration": 178,
    "start_time": "2022-05-24T19:49:02.676Z"
   },
   {
    "duration": 180,
    "start_time": "2022-05-24T19:49:14.437Z"
   },
   {
    "duration": 36,
    "start_time": "2022-05-24T19:50:23.585Z"
   },
   {
    "duration": 8,
    "start_time": "2022-05-24T20:06:06.438Z"
   },
   {
    "duration": 10,
    "start_time": "2022-05-24T20:06:14.913Z"
   },
   {
    "duration": 235,
    "start_time": "2022-05-24T20:06:56.669Z"
   },
   {
    "duration": 221,
    "start_time": "2022-05-24T20:07:13.777Z"
   },
   {
    "duration": 137,
    "start_time": "2022-05-24T20:07:23.121Z"
   },
   {
    "duration": 135,
    "start_time": "2022-05-24T20:07:32.242Z"
   },
   {
    "duration": 162,
    "start_time": "2022-05-24T20:07:46.095Z"
   },
   {
    "duration": 29,
    "start_time": "2022-05-24T20:11:24.904Z"
   },
   {
    "duration": 34,
    "start_time": "2022-05-24T20:11:31.051Z"
   },
   {
    "duration": 11,
    "start_time": "2022-05-24T20:11:45.001Z"
   },
   {
    "duration": 172,
    "start_time": "2022-05-24T20:12:11.856Z"
   },
   {
    "duration": 134,
    "start_time": "2022-05-24T20:12:24.334Z"
   },
   {
    "duration": 189,
    "start_time": "2022-05-24T20:12:33.940Z"
   },
   {
    "duration": 129,
    "start_time": "2022-05-24T20:12:46.536Z"
   },
   {
    "duration": 156,
    "start_time": "2022-05-24T20:12:54.066Z"
   },
   {
    "duration": 234,
    "start_time": "2022-05-24T20:13:07.791Z"
   },
   {
    "duration": 209,
    "start_time": "2022-05-24T20:13:31.801Z"
   },
   {
    "duration": 223,
    "start_time": "2022-05-24T20:13:54.725Z"
   },
   {
    "duration": 24,
    "start_time": "2022-05-24T20:15:14.311Z"
   },
   {
    "duration": 31,
    "start_time": "2022-05-24T20:15:35.841Z"
   },
   {
    "duration": 12,
    "start_time": "2022-05-24T20:16:12.238Z"
   },
   {
    "duration": 174,
    "start_time": "2022-05-24T20:16:32.077Z"
   },
   {
    "duration": 118,
    "start_time": "2022-05-24T20:16:39.533Z"
   },
   {
    "duration": 148,
    "start_time": "2022-05-24T20:16:46.309Z"
   },
   {
    "duration": 148,
    "start_time": "2022-05-24T20:17:00.792Z"
   },
   {
    "duration": 189,
    "start_time": "2022-05-24T20:17:09.821Z"
   },
   {
    "duration": 248,
    "start_time": "2022-05-24T20:17:21.222Z"
   },
   {
    "duration": 183,
    "start_time": "2022-05-24T20:19:00.318Z"
   },
   {
    "duration": 117,
    "start_time": "2022-05-24T20:19:11.950Z"
   },
   {
    "duration": 261,
    "start_time": "2022-05-24T20:19:19.162Z"
   },
   {
    "duration": 130,
    "start_time": "2022-05-24T20:19:31.210Z"
   },
   {
    "duration": 172,
    "start_time": "2022-05-24T20:19:37.133Z"
   },
   {
    "duration": 233,
    "start_time": "2022-05-24T20:19:45.621Z"
   },
   {
    "duration": 107,
    "start_time": "2022-05-24T20:19:49.605Z"
   },
   {
    "duration": 240,
    "start_time": "2022-05-24T20:20:00.210Z"
   },
   {
    "duration": 9,
    "start_time": "2022-05-24T20:20:10.225Z"
   },
   {
    "duration": 440,
    "start_time": "2022-05-24T20:26:16.525Z"
   },
   {
    "duration": 210,
    "start_time": "2022-05-24T20:27:59.458Z"
   },
   {
    "duration": 217,
    "start_time": "2022-05-24T20:28:34.451Z"
   },
   {
    "duration": 237,
    "start_time": "2022-05-24T20:29:01.668Z"
   },
   {
    "duration": 34,
    "start_time": "2022-05-24T20:31:18.204Z"
   },
   {
    "duration": 6,
    "start_time": "2022-05-24T20:31:23.929Z"
   },
   {
    "duration": 777,
    "start_time": "2022-05-24T20:37:07.930Z"
   },
   {
    "duration": 60,
    "start_time": "2022-05-24T20:43:02.649Z"
   },
   {
    "duration": 39,
    "start_time": "2022-05-24T20:44:00.072Z"
   },
   {
    "duration": 991,
    "start_time": "2022-05-25T04:56:44.477Z"
   },
   {
    "duration": 4,
    "start_time": "2022-05-25T04:56:45.470Z"
   },
   {
    "duration": 167,
    "start_time": "2022-05-25T04:56:45.475Z"
   },
   {
    "duration": 34,
    "start_time": "2022-05-25T04:56:45.644Z"
   },
   {
    "duration": 23,
    "start_time": "2022-05-25T04:56:45.679Z"
   },
   {
    "duration": 120,
    "start_time": "2022-05-25T04:56:45.704Z"
   },
   {
    "duration": 24,
    "start_time": "2022-05-25T04:56:45.826Z"
   },
   {
    "duration": 33,
    "start_time": "2022-05-25T04:56:45.852Z"
   },
   {
    "duration": 18,
    "start_time": "2022-05-25T04:56:45.887Z"
   },
   {
    "duration": 17,
    "start_time": "2022-05-25T04:56:45.908Z"
   },
   {
    "duration": 13,
    "start_time": "2022-05-25T04:56:45.927Z"
   },
   {
    "duration": 12,
    "start_time": "2022-05-25T04:56:45.942Z"
   },
   {
    "duration": 28,
    "start_time": "2022-05-25T04:56:45.956Z"
   },
   {
    "duration": 11,
    "start_time": "2022-05-25T04:56:45.987Z"
   },
   {
    "duration": 11,
    "start_time": "2022-05-25T04:56:46.001Z"
   },
   {
    "duration": 9,
    "start_time": "2022-05-25T04:56:46.014Z"
   },
   {
    "duration": 9,
    "start_time": "2022-05-25T04:56:46.025Z"
   },
   {
    "duration": 53,
    "start_time": "2022-05-25T04:56:46.036Z"
   },
   {
    "duration": 8,
    "start_time": "2022-05-25T04:56:46.091Z"
   },
   {
    "duration": 17,
    "start_time": "2022-05-25T04:56:46.101Z"
   },
   {
    "duration": 270,
    "start_time": "2022-05-25T04:56:46.121Z"
   },
   {
    "duration": 15,
    "start_time": "2022-05-25T04:56:46.394Z"
   },
   {
    "duration": 9,
    "start_time": "2022-05-25T04:56:46.411Z"
   },
   {
    "duration": 9,
    "start_time": "2022-05-25T04:56:46.422Z"
   },
   {
    "duration": 63,
    "start_time": "2022-05-25T04:56:46.432Z"
   },
   {
    "duration": 4,
    "start_time": "2022-05-25T04:56:46.497Z"
   },
   {
    "duration": 13,
    "start_time": "2022-05-25T04:56:46.503Z"
   },
   {
    "duration": 302,
    "start_time": "2022-05-25T04:56:46.521Z"
   },
   {
    "duration": 5,
    "start_time": "2022-05-25T04:56:46.825Z"
   },
   {
    "duration": 217,
    "start_time": "2022-05-25T04:56:46.832Z"
   },
   {
    "duration": 147,
    "start_time": "2022-05-25T04:56:47.051Z"
   },
   {
    "duration": 180,
    "start_time": "2022-05-25T04:56:47.200Z"
   },
   {
    "duration": 182,
    "start_time": "2022-05-25T04:56:47.385Z"
   },
   {
    "duration": 247,
    "start_time": "2022-05-25T04:56:47.569Z"
   },
   {
    "duration": 378,
    "start_time": "2022-05-25T04:56:47.818Z"
   },
   {
    "duration": 164,
    "start_time": "2022-05-25T04:56:48.199Z"
   },
   {
    "duration": 309,
    "start_time": "2022-05-25T04:56:48.365Z"
   },
   {
    "duration": 13,
    "start_time": "2022-05-25T04:56:48.676Z"
   },
   {
    "duration": 139,
    "start_time": "2022-05-25T04:56:48.691Z"
   },
   {
    "duration": 0,
    "start_time": "2022-05-25T04:56:48.832Z"
   },
   {
    "duration": 0,
    "start_time": "2022-05-25T04:56:48.834Z"
   },
   {
    "duration": 0,
    "start_time": "2022-05-25T04:56:48.835Z"
   },
   {
    "duration": 0,
    "start_time": "2022-05-25T04:56:48.837Z"
   },
   {
    "duration": 0,
    "start_time": "2022-05-25T04:56:48.838Z"
   },
   {
    "duration": 0,
    "start_time": "2022-05-25T04:56:48.839Z"
   },
   {
    "duration": 0,
    "start_time": "2022-05-25T04:56:48.842Z"
   },
   {
    "duration": 0,
    "start_time": "2022-05-25T04:56:48.844Z"
   },
   {
    "duration": 0,
    "start_time": "2022-05-25T04:56:48.845Z"
   },
   {
    "duration": 0,
    "start_time": "2022-05-25T04:56:48.847Z"
   },
   {
    "duration": 0,
    "start_time": "2022-05-25T04:56:48.848Z"
   },
   {
    "duration": 44,
    "start_time": "2022-05-25T04:58:39.210Z"
   },
   {
    "duration": 9,
    "start_time": "2022-05-25T04:59:47.197Z"
   },
   {
    "duration": 20,
    "start_time": "2022-05-25T04:59:59.592Z"
   },
   {
    "duration": 21,
    "start_time": "2022-05-25T05:00:18.983Z"
   },
   {
    "duration": 12,
    "start_time": "2022-05-25T05:03:52.928Z"
   },
   {
    "duration": 233,
    "start_time": "2022-05-25T05:04:00.675Z"
   },
   {
    "duration": 0,
    "start_time": "2022-05-25T05:04:41.770Z"
   },
   {
    "duration": 0,
    "start_time": "2022-05-25T05:05:39.665Z"
   },
   {
    "duration": 65,
    "start_time": "2022-05-26T17:46:54.237Z"
   },
   {
    "duration": 1017,
    "start_time": "2022-05-26T17:48:38.450Z"
   },
   {
    "duration": 4,
    "start_time": "2022-05-26T17:48:39.468Z"
   },
   {
    "duration": 157,
    "start_time": "2022-05-26T17:48:39.473Z"
   },
   {
    "duration": 23,
    "start_time": "2022-05-26T17:48:39.633Z"
   },
   {
    "duration": 15,
    "start_time": "2022-05-26T17:48:39.658Z"
   },
   {
    "duration": 75,
    "start_time": "2022-05-26T17:48:39.675Z"
   },
   {
    "duration": 36,
    "start_time": "2022-05-26T17:48:39.752Z"
   },
   {
    "duration": 7,
    "start_time": "2022-05-26T17:48:39.789Z"
   },
   {
    "duration": 13,
    "start_time": "2022-05-26T17:48:39.798Z"
   },
   {
    "duration": 9,
    "start_time": "2022-05-26T17:48:39.813Z"
   },
   {
    "duration": 8,
    "start_time": "2022-05-26T17:48:39.823Z"
   },
   {
    "duration": 5,
    "start_time": "2022-05-26T17:48:39.833Z"
   },
   {
    "duration": 8,
    "start_time": "2022-05-26T17:48:39.839Z"
   },
   {
    "duration": 39,
    "start_time": "2022-05-26T17:48:39.848Z"
   },
   {
    "duration": 12,
    "start_time": "2022-05-26T17:48:39.889Z"
   },
   {
    "duration": 7,
    "start_time": "2022-05-26T17:48:39.902Z"
   },
   {
    "duration": 9,
    "start_time": "2022-05-26T17:48:39.910Z"
   },
   {
    "duration": 9,
    "start_time": "2022-05-26T17:48:39.921Z"
   },
   {
    "duration": 12,
    "start_time": "2022-05-26T17:48:39.932Z"
   },
   {
    "duration": 46,
    "start_time": "2022-05-26T17:48:39.946Z"
   },
   {
    "duration": 150,
    "start_time": "2022-05-26T17:48:39.994Z"
   },
   {
    "duration": 14,
    "start_time": "2022-05-26T17:48:40.146Z"
   },
   {
    "duration": 23,
    "start_time": "2022-05-26T17:48:40.162Z"
   },
   {
    "duration": 8,
    "start_time": "2022-05-26T17:48:40.187Z"
   },
   {
    "duration": 24,
    "start_time": "2022-05-26T17:48:40.196Z"
   },
   {
    "duration": 4,
    "start_time": "2022-05-26T17:48:40.221Z"
   },
   {
    "duration": 10,
    "start_time": "2022-05-26T17:48:40.227Z"
   },
   {
    "duration": 310,
    "start_time": "2022-05-26T17:48:40.241Z"
   },
   {
    "duration": 5,
    "start_time": "2022-05-26T17:48:40.553Z"
   },
   {
    "duration": 213,
    "start_time": "2022-05-26T17:48:40.560Z"
   },
   {
    "duration": 142,
    "start_time": "2022-05-26T17:48:40.776Z"
   },
   {
    "duration": 148,
    "start_time": "2022-05-26T17:48:40.920Z"
   },
   {
    "duration": 148,
    "start_time": "2022-05-26T17:48:41.070Z"
   },
   {
    "duration": 235,
    "start_time": "2022-05-26T17:48:41.220Z"
   },
   {
    "duration": 257,
    "start_time": "2022-05-26T17:48:41.456Z"
   },
   {
    "duration": 119,
    "start_time": "2022-05-26T17:48:41.714Z"
   },
   {
    "duration": 255,
    "start_time": "2022-05-26T17:48:41.835Z"
   },
   {
    "duration": 9,
    "start_time": "2022-05-26T17:48:42.091Z"
   },
   {
    "duration": 7,
    "start_time": "2022-05-26T17:48:42.102Z"
   },
   {
    "duration": 0,
    "start_time": "2022-05-26T17:48:42.111Z"
   },
   {
    "duration": 0,
    "start_time": "2022-05-26T17:48:42.113Z"
   },
   {
    "duration": 0,
    "start_time": "2022-05-26T17:48:42.114Z"
   },
   {
    "duration": 0,
    "start_time": "2022-05-26T17:48:42.115Z"
   },
   {
    "duration": 0,
    "start_time": "2022-05-26T17:48:42.116Z"
   },
   {
    "duration": 0,
    "start_time": "2022-05-26T17:48:42.117Z"
   },
   {
    "duration": 0,
    "start_time": "2022-05-26T17:48:42.118Z"
   },
   {
    "duration": 0,
    "start_time": "2022-05-26T17:48:42.118Z"
   },
   {
    "duration": 0,
    "start_time": "2022-05-26T17:48:42.119Z"
   },
   {
    "duration": 0,
    "start_time": "2022-05-26T17:48:42.121Z"
   },
   {
    "duration": 0,
    "start_time": "2022-05-26T17:48:42.122Z"
   },
   {
    "duration": 19,
    "start_time": "2022-05-26T17:49:22.694Z"
   },
   {
    "duration": 33,
    "start_time": "2022-05-26T17:56:10.281Z"
   },
   {
    "duration": 12,
    "start_time": "2022-05-26T17:56:30.206Z"
   },
   {
    "duration": 13,
    "start_time": "2022-05-26T18:02:01.252Z"
   },
   {
    "duration": 2,
    "start_time": "2022-05-26T18:02:13.413Z"
   },
   {
    "duration": 3,
    "start_time": "2022-05-26T18:02:13.430Z"
   },
   {
    "duration": 93,
    "start_time": "2022-05-26T18:02:13.445Z"
   },
   {
    "duration": 25,
    "start_time": "2022-05-26T18:02:13.541Z"
   },
   {
    "duration": 22,
    "start_time": "2022-05-26T18:02:13.586Z"
   },
   {
    "duration": 85,
    "start_time": "2022-05-26T18:02:13.610Z"
   },
   {
    "duration": 20,
    "start_time": "2022-05-26T18:02:13.698Z"
   },
   {
    "duration": 6,
    "start_time": "2022-05-26T18:02:13.720Z"
   },
   {
    "duration": 16,
    "start_time": "2022-05-26T18:02:13.728Z"
   },
   {
    "duration": 53,
    "start_time": "2022-05-26T18:02:13.746Z"
   },
   {
    "duration": 9,
    "start_time": "2022-05-26T18:02:13.801Z"
   },
   {
    "duration": 6,
    "start_time": "2022-05-26T18:02:13.814Z"
   },
   {
    "duration": 9,
    "start_time": "2022-05-26T18:02:13.821Z"
   },
   {
    "duration": 9,
    "start_time": "2022-05-26T18:02:13.832Z"
   },
   {
    "duration": 9,
    "start_time": "2022-05-26T18:02:13.843Z"
   },
   {
    "duration": 32,
    "start_time": "2022-05-26T18:02:13.854Z"
   },
   {
    "duration": 11,
    "start_time": "2022-05-26T18:02:13.890Z"
   },
   {
    "duration": 12,
    "start_time": "2022-05-26T18:02:13.903Z"
   },
   {
    "duration": 8,
    "start_time": "2022-05-26T18:02:13.917Z"
   },
   {
    "duration": 16,
    "start_time": "2022-05-26T18:02:13.927Z"
   },
   {
    "duration": 187,
    "start_time": "2022-05-26T18:02:13.945Z"
   },
   {
    "duration": 12,
    "start_time": "2022-05-26T18:02:14.134Z"
   },
   {
    "duration": 7,
    "start_time": "2022-05-26T18:02:14.148Z"
   },
   {
    "duration": 28,
    "start_time": "2022-05-26T18:02:14.157Z"
   },
   {
    "duration": 26,
    "start_time": "2022-05-26T18:02:14.305Z"
   },
   {
    "duration": 3,
    "start_time": "2022-05-26T18:02:14.333Z"
   },
   {
    "duration": 9,
    "start_time": "2022-05-26T18:02:14.338Z"
   },
   {
    "duration": 314,
    "start_time": "2022-05-26T18:02:14.348Z"
   },
   {
    "duration": 6,
    "start_time": "2022-05-26T18:02:14.664Z"
   },
   {
    "duration": 180,
    "start_time": "2022-05-26T18:02:14.671Z"
   },
   {
    "duration": 146,
    "start_time": "2022-05-26T18:02:14.853Z"
   },
   {
    "duration": 235,
    "start_time": "2022-05-26T18:02:15.001Z"
   },
   {
    "duration": 159,
    "start_time": "2022-05-26T18:02:15.238Z"
   },
   {
    "duration": 168,
    "start_time": "2022-05-26T18:02:15.399Z"
   },
   {
    "duration": 256,
    "start_time": "2022-05-26T18:02:15.569Z"
   },
   {
    "duration": 126,
    "start_time": "2022-05-26T18:02:15.827Z"
   },
   {
    "duration": 267,
    "start_time": "2022-05-26T18:02:15.955Z"
   },
   {
    "duration": 9,
    "start_time": "2022-05-26T18:02:16.225Z"
   },
   {
    "duration": 11,
    "start_time": "2022-05-26T18:02:16.235Z"
   },
   {
    "duration": 42,
    "start_time": "2022-05-26T18:02:16.248Z"
   },
   {
    "duration": 15,
    "start_time": "2022-05-26T18:02:16.291Z"
   },
   {
    "duration": 230,
    "start_time": "2022-05-26T18:02:16.308Z"
   },
   {
    "duration": 6,
    "start_time": "2022-05-26T18:02:16.540Z"
   },
   {
    "duration": 15,
    "start_time": "2022-05-26T18:02:16.547Z"
   },
   {
    "duration": 34,
    "start_time": "2022-05-26T18:02:16.564Z"
   },
   {
    "duration": 709,
    "start_time": "2022-05-26T18:02:16.600Z"
   },
   {
    "duration": 41,
    "start_time": "2022-05-26T18:02:17.311Z"
   },
   {
    "duration": 47,
    "start_time": "2022-05-26T18:02:17.354Z"
   },
   {
    "duration": 323,
    "start_time": "2022-05-26T18:02:17.403Z"
   },
   {
    "duration": 30830,
    "start_time": "2022-05-26T18:02:17.728Z"
   },
   {
    "duration": 41,
    "start_time": "2022-05-26T18:03:30.877Z"
   },
   {
    "duration": 23,
    "start_time": "2022-05-26T18:03:58.643Z"
   },
   {
    "duration": 25,
    "start_time": "2022-05-26T18:04:11.345Z"
   },
   {
    "duration": 25,
    "start_time": "2022-05-26T18:04:27.317Z"
   },
   {
    "duration": 143,
    "start_time": "2022-05-26T18:05:55.247Z"
   },
   {
    "duration": 160,
    "start_time": "2022-05-26T18:06:03.780Z"
   },
   {
    "duration": 9,
    "start_time": "2022-05-26T18:14:35.798Z"
   },
   {
    "duration": 3,
    "start_time": "2022-05-26T18:14:57.272Z"
   },
   {
    "duration": 25,
    "start_time": "2022-05-26T18:14:57.281Z"
   },
   {
    "duration": 134,
    "start_time": "2022-05-26T18:14:57.308Z"
   },
   {
    "duration": 25,
    "start_time": "2022-05-26T18:14:57.444Z"
   },
   {
    "duration": 35,
    "start_time": "2022-05-26T18:14:57.472Z"
   },
   {
    "duration": 99,
    "start_time": "2022-05-26T18:14:57.510Z"
   },
   {
    "duration": 20,
    "start_time": "2022-05-26T18:14:57.611Z"
   },
   {
    "duration": 6,
    "start_time": "2022-05-26T18:14:57.633Z"
   },
   {
    "duration": 13,
    "start_time": "2022-05-26T18:14:57.641Z"
   },
   {
    "duration": 13,
    "start_time": "2022-05-26T18:14:57.683Z"
   },
   {
    "duration": 14,
    "start_time": "2022-05-26T18:14:57.698Z"
   },
   {
    "duration": 7,
    "start_time": "2022-05-26T18:14:57.714Z"
   },
   {
    "duration": 7,
    "start_time": "2022-05-26T18:14:57.722Z"
   },
   {
    "duration": 9,
    "start_time": "2022-05-26T18:14:57.731Z"
   },
   {
    "duration": 10,
    "start_time": "2022-05-26T18:14:57.742Z"
   },
   {
    "duration": 46,
    "start_time": "2022-05-26T18:14:57.753Z"
   },
   {
    "duration": 12,
    "start_time": "2022-05-26T18:14:57.803Z"
   },
   {
    "duration": 12,
    "start_time": "2022-05-26T18:14:57.816Z"
   },
   {
    "duration": 7,
    "start_time": "2022-05-26T18:14:57.830Z"
   },
   {
    "duration": 15,
    "start_time": "2022-05-26T18:14:57.839Z"
   },
   {
    "duration": 208,
    "start_time": "2022-05-26T18:14:57.856Z"
   },
   {
    "duration": 25,
    "start_time": "2022-05-26T18:14:58.066Z"
   },
   {
    "duration": 20,
    "start_time": "2022-05-26T18:14:58.093Z"
   },
   {
    "duration": 19,
    "start_time": "2022-05-26T18:14:58.115Z"
   },
   {
    "duration": 41,
    "start_time": "2022-05-26T18:14:58.138Z"
   },
   {
    "duration": 10,
    "start_time": "2022-05-26T18:14:58.182Z"
   },
   {
    "duration": 28,
    "start_time": "2022-05-26T18:14:58.195Z"
   },
   {
    "duration": 308,
    "start_time": "2022-05-26T18:14:58.225Z"
   },
   {
    "duration": 7,
    "start_time": "2022-05-26T18:14:58.534Z"
   },
   {
    "duration": 199,
    "start_time": "2022-05-26T18:14:58.542Z"
   },
   {
    "duration": 149,
    "start_time": "2022-05-26T18:14:58.743Z"
   },
   {
    "duration": 150,
    "start_time": "2022-05-26T18:14:58.894Z"
   },
   {
    "duration": 159,
    "start_time": "2022-05-26T18:14:59.046Z"
   },
   {
    "duration": 203,
    "start_time": "2022-05-26T18:14:59.207Z"
   },
   {
    "duration": 249,
    "start_time": "2022-05-26T18:14:59.412Z"
   },
   {
    "duration": 127,
    "start_time": "2022-05-26T18:14:59.662Z"
   },
   {
    "duration": 275,
    "start_time": "2022-05-26T18:14:59.794Z"
   },
   {
    "duration": 27,
    "start_time": "2022-05-26T18:15:00.071Z"
   },
   {
    "duration": 178,
    "start_time": "2022-05-26T18:15:00.101Z"
   },
   {
    "duration": 197,
    "start_time": "2022-05-26T18:15:00.281Z"
   },
   {
    "duration": 23,
    "start_time": "2022-05-26T18:15:00.485Z"
   },
   {
    "duration": 30,
    "start_time": "2022-05-26T18:15:00.510Z"
   },
   {
    "duration": 16,
    "start_time": "2022-05-26T18:15:00.542Z"
   },
   {
    "duration": 271,
    "start_time": "2022-05-26T18:15:00.560Z"
   },
   {
    "duration": 7,
    "start_time": "2022-05-26T18:15:00.832Z"
   },
   {
    "duration": 17,
    "start_time": "2022-05-26T18:15:00.840Z"
   },
   {
    "duration": 41,
    "start_time": "2022-05-26T18:15:00.859Z"
   },
   {
    "duration": 335,
    "start_time": "2022-05-26T18:15:00.902Z"
   },
   {
    "duration": 56,
    "start_time": "2022-05-26T18:15:01.239Z"
   },
   {
    "duration": 16,
    "start_time": "2022-05-26T18:15:01.299Z"
   },
   {
    "duration": 230,
    "start_time": "2022-05-26T18:15:01.317Z"
   },
   {
    "duration": 31703,
    "start_time": "2022-05-26T18:15:01.549Z"
   },
   {
    "duration": 16,
    "start_time": "2022-05-26T18:16:54.807Z"
   },
   {
    "duration": 15,
    "start_time": "2022-05-26T18:17:15.799Z"
   },
   {
    "duration": 14,
    "start_time": "2022-05-26T18:17:24.669Z"
   },
   {
    "duration": 15,
    "start_time": "2022-05-26T18:17:48.249Z"
   },
   {
    "duration": 261,
    "start_time": "2022-05-26T18:18:59.451Z"
   },
   {
    "duration": 20,
    "start_time": "2022-05-26T18:21:17.347Z"
   },
   {
    "duration": 16,
    "start_time": "2022-05-26T18:21:37.839Z"
   },
   {
    "duration": 321,
    "start_time": "2022-05-26T18:23:03.622Z"
   },
   {
    "duration": 342,
    "start_time": "2022-05-26T18:23:37.807Z"
   },
   {
    "duration": 409,
    "start_time": "2022-05-26T18:24:20.161Z"
   },
   {
    "duration": 419,
    "start_time": "2022-05-26T18:24:33.325Z"
   },
   {
    "duration": 330,
    "start_time": "2022-05-26T18:24:52.850Z"
   },
   {
    "duration": 321,
    "start_time": "2022-05-26T18:25:05.944Z"
   },
   {
    "duration": 48,
    "start_time": "2022-05-26T18:29:38.660Z"
   },
   {
    "duration": 9,
    "start_time": "2022-05-26T18:30:16.605Z"
   },
   {
    "duration": 10,
    "start_time": "2022-05-26T18:30:51.552Z"
   },
   {
    "duration": 9,
    "start_time": "2022-05-26T18:32:09.584Z"
   },
   {
    "duration": 14,
    "start_time": "2022-05-26T18:33:58.717Z"
   },
   {
    "duration": 17,
    "start_time": "2022-05-26T18:34:47.294Z"
   },
   {
    "duration": 32,
    "start_time": "2022-05-26T18:36:00.214Z"
   },
   {
    "duration": 12,
    "start_time": "2022-05-26T18:39:04.682Z"
   },
   {
    "duration": 33,
    "start_time": "2022-05-26T18:40:33.034Z"
   },
   {
    "duration": 55,
    "start_time": "2022-05-26T18:40:47.163Z"
   },
   {
    "duration": 53,
    "start_time": "2022-05-26T18:41:23.458Z"
   },
   {
    "duration": 11,
    "start_time": "2022-05-26T18:41:37.146Z"
   },
   {
    "duration": 8,
    "start_time": "2022-05-26T18:41:51.805Z"
   },
   {
    "duration": 10,
    "start_time": "2022-05-26T18:44:23.752Z"
   },
   {
    "duration": 11,
    "start_time": "2022-05-26T18:44:47.099Z"
   },
   {
    "duration": 0,
    "start_time": "2022-05-26T18:46:13.586Z"
   },
   {
    "duration": 7,
    "start_time": "2022-05-26T18:47:02.575Z"
   },
   {
    "duration": 8,
    "start_time": "2022-05-26T18:50:29.165Z"
   },
   {
    "duration": 171,
    "start_time": "2022-05-26T18:51:15.848Z"
   },
   {
    "duration": 119,
    "start_time": "2022-05-26T18:52:45.802Z"
   },
   {
    "duration": 137,
    "start_time": "2022-05-26T18:53:30.507Z"
   },
   {
    "duration": 285,
    "start_time": "2022-05-26T18:55:18.006Z"
   },
   {
    "duration": 158,
    "start_time": "2022-05-26T18:55:52.693Z"
   },
   {
    "duration": 117,
    "start_time": "2022-05-26T18:56:15.610Z"
   },
   {
    "duration": 182,
    "start_time": "2022-05-26T18:59:23.444Z"
   },
   {
    "duration": 161,
    "start_time": "2022-05-26T19:00:04.905Z"
   },
   {
    "duration": 203,
    "start_time": "2022-05-26T19:00:28.245Z"
   },
   {
    "duration": 180,
    "start_time": "2022-05-26T19:00:42.909Z"
   },
   {
    "duration": 241,
    "start_time": "2022-05-26T19:01:37.467Z"
   },
   {
    "duration": 151,
    "start_time": "2022-05-26T19:02:05.906Z"
   },
   {
    "duration": 160,
    "start_time": "2022-05-26T19:02:12.210Z"
   },
   {
    "duration": 245,
    "start_time": "2022-05-26T19:03:13.686Z"
   },
   {
    "duration": 184,
    "start_time": "2022-05-26T19:03:26.618Z"
   },
   {
    "duration": 146,
    "start_time": "2022-05-26T19:03:35.298Z"
   },
   {
    "duration": 151,
    "start_time": "2022-05-26T19:03:44.510Z"
   },
   {
    "duration": 154,
    "start_time": "2022-05-26T19:03:52.170Z"
   },
   {
    "duration": 132,
    "start_time": "2022-05-26T19:06:46.041Z"
   },
   {
    "duration": 141,
    "start_time": "2022-05-26T19:07:34.410Z"
   },
   {
    "duration": 29160,
    "start_time": "2022-05-26T19:22:56.121Z"
   },
   {
    "duration": 7,
    "start_time": "2022-05-26T19:24:51.457Z"
   },
   {
    "duration": 7,
    "start_time": "2022-05-26T19:24:59.351Z"
   },
   {
    "duration": 17,
    "start_time": "2022-05-26T19:26:10.375Z"
   },
   {
    "duration": 16,
    "start_time": "2022-05-26T19:27:12.525Z"
   },
   {
    "duration": 212,
    "start_time": "2022-05-26T19:28:11.724Z"
   },
   {
    "duration": 14,
    "start_time": "2022-05-26T19:28:26.730Z"
   },
   {
    "duration": 7,
    "start_time": "2022-05-26T19:28:34.173Z"
   },
   {
    "duration": 13,
    "start_time": "2022-05-26T19:30:15.636Z"
   },
   {
    "duration": 298,
    "start_time": "2022-05-26T19:31:28.274Z"
   },
   {
    "duration": 215,
    "start_time": "2022-05-26T19:49:30.842Z"
   },
   {
    "duration": 208,
    "start_time": "2022-05-26T19:50:02.728Z"
   },
   {
    "duration": 35,
    "start_time": "2022-05-26T19:55:28.305Z"
   },
   {
    "duration": 13,
    "start_time": "2022-05-26T19:55:35.183Z"
   },
   {
    "duration": 27,
    "start_time": "2022-05-26T20:07:28.940Z"
   },
   {
    "duration": 10,
    "start_time": "2022-05-26T20:07:36.907Z"
   },
   {
    "duration": 11,
    "start_time": "2022-05-26T20:09:16.170Z"
   },
   {
    "duration": 57,
    "start_time": "2022-05-26T20:11:25.623Z"
   },
   {
    "duration": 140,
    "start_time": "2022-05-26T20:12:04.028Z"
   },
   {
    "duration": 15,
    "start_time": "2022-05-26T20:13:36.074Z"
   },
   {
    "duration": 258,
    "start_time": "2022-05-26T20:21:04.588Z"
   },
   {
    "duration": 6,
    "start_time": "2022-05-26T20:21:38.190Z"
   },
   {
    "duration": 6,
    "start_time": "2022-05-26T20:22:04.528Z"
   },
   {
    "duration": 179,
    "start_time": "2022-05-26T20:23:46.646Z"
   },
   {
    "duration": 131,
    "start_time": "2022-05-26T20:23:47.166Z"
   },
   {
    "duration": 142,
    "start_time": "2022-05-26T20:24:28.985Z"
   },
   {
    "duration": 14,
    "start_time": "2022-05-26T20:24:40.755Z"
   },
   {
    "duration": 6,
    "start_time": "2022-05-26T20:41:01.518Z"
   },
   {
    "duration": 5,
    "start_time": "2022-05-26T20:41:31.590Z"
   },
   {
    "duration": 167,
    "start_time": "2022-05-26T20:43:39.655Z"
   },
   {
    "duration": 174,
    "start_time": "2022-05-26T20:44:59.369Z"
   },
   {
    "duration": 187,
    "start_time": "2022-05-26T20:45:22.250Z"
   },
   {
    "duration": 35,
    "start_time": "2022-05-26T20:45:33.236Z"
   },
   {
    "duration": 172,
    "start_time": "2022-05-26T20:45:45.699Z"
   },
   {
    "duration": 166,
    "start_time": "2022-05-26T20:46:15.473Z"
   },
   {
    "duration": 28,
    "start_time": "2022-05-26T20:47:00.619Z"
   },
   {
    "duration": 190,
    "start_time": "2022-05-26T20:47:25.001Z"
   },
   {
    "duration": 211,
    "start_time": "2022-05-26T20:47:37.788Z"
   },
   {
    "duration": 181,
    "start_time": "2022-05-26T20:48:25.239Z"
   },
   {
    "duration": 164,
    "start_time": "2022-05-26T20:48:37.099Z"
   },
   {
    "duration": 29,
    "start_time": "2022-05-26T20:49:27.201Z"
   },
   {
    "duration": 729,
    "start_time": "2022-05-26T20:53:14.268Z"
   },
   {
    "duration": 3,
    "start_time": "2022-05-26T20:53:15.000Z"
   },
   {
    "duration": 118,
    "start_time": "2022-05-26T20:53:15.005Z"
   },
   {
    "duration": 32,
    "start_time": "2022-05-26T20:53:15.126Z"
   },
   {
    "duration": 33,
    "start_time": "2022-05-26T20:53:15.160Z"
   },
   {
    "duration": 95,
    "start_time": "2022-05-26T20:53:15.195Z"
   },
   {
    "duration": 23,
    "start_time": "2022-05-26T20:53:15.292Z"
   },
   {
    "duration": 9,
    "start_time": "2022-05-26T20:53:15.317Z"
   },
   {
    "duration": 15,
    "start_time": "2022-05-26T20:53:15.328Z"
   },
   {
    "duration": 45,
    "start_time": "2022-05-26T20:53:15.347Z"
   },
   {
    "duration": 11,
    "start_time": "2022-05-26T20:53:15.394Z"
   },
   {
    "duration": 8,
    "start_time": "2022-05-26T20:53:15.406Z"
   },
   {
    "duration": 8,
    "start_time": "2022-05-26T20:53:15.415Z"
   },
   {
    "duration": 8,
    "start_time": "2022-05-26T20:53:15.425Z"
   },
   {
    "duration": 9,
    "start_time": "2022-05-26T20:53:15.435Z"
   },
   {
    "duration": 41,
    "start_time": "2022-05-26T20:53:15.446Z"
   },
   {
    "duration": 8,
    "start_time": "2022-05-26T20:53:15.489Z"
   },
   {
    "duration": 10,
    "start_time": "2022-05-26T20:53:15.499Z"
   },
   {
    "duration": 5,
    "start_time": "2022-05-26T20:53:15.511Z"
   },
   {
    "duration": 13,
    "start_time": "2022-05-26T20:53:15.518Z"
   },
   {
    "duration": 180,
    "start_time": "2022-05-26T20:53:15.532Z"
   },
   {
    "duration": 12,
    "start_time": "2022-05-26T20:53:15.714Z"
   },
   {
    "duration": 8,
    "start_time": "2022-05-26T20:53:15.728Z"
   },
   {
    "duration": 8,
    "start_time": "2022-05-26T20:53:15.737Z"
   },
   {
    "duration": 53,
    "start_time": "2022-05-26T20:53:15.746Z"
   },
   {
    "duration": 5,
    "start_time": "2022-05-26T20:53:16.017Z"
   },
   {
    "duration": 17,
    "start_time": "2022-05-26T20:53:16.028Z"
   },
   {
    "duration": 283,
    "start_time": "2022-05-26T20:53:16.049Z"
   },
   {
    "duration": 5,
    "start_time": "2022-05-26T20:53:16.334Z"
   },
   {
    "duration": 193,
    "start_time": "2022-05-26T20:53:16.341Z"
   },
   {
    "duration": 128,
    "start_time": "2022-05-26T20:53:16.535Z"
   },
   {
    "duration": 134,
    "start_time": "2022-05-26T20:53:17.041Z"
   },
   {
    "duration": 153,
    "start_time": "2022-05-26T20:53:17.177Z"
   },
   {
    "duration": 188,
    "start_time": "2022-05-26T20:53:17.332Z"
   },
   {
    "duration": 382,
    "start_time": "2022-05-26T20:53:17.853Z"
   },
   {
    "duration": 174,
    "start_time": "2022-05-26T20:53:18.237Z"
   },
   {
    "duration": 130,
    "start_time": "2022-05-26T20:53:18.413Z"
   },
   {
    "duration": 290,
    "start_time": "2022-05-26T20:53:18.545Z"
   },
   {
    "duration": 10,
    "start_time": "2022-05-26T20:53:18.837Z"
   },
   {
    "duration": 168,
    "start_time": "2022-05-26T20:53:18.850Z"
   },
   {
    "duration": 166,
    "start_time": "2022-05-26T20:53:19.020Z"
   },
   {
    "duration": 9,
    "start_time": "2022-05-26T20:53:19.631Z"
   },
   {
    "duration": 16,
    "start_time": "2022-05-26T20:53:19.644Z"
   },
   {
    "duration": 5,
    "start_time": "2022-05-26T20:53:19.662Z"
   },
   {
    "duration": 15,
    "start_time": "2022-05-26T20:53:20.627Z"
   },
   {
    "duration": 6,
    "start_time": "2022-05-26T20:53:20.644Z"
   },
   {
    "duration": 244,
    "start_time": "2022-05-26T20:53:20.658Z"
   },
   {
    "duration": 6,
    "start_time": "2022-05-26T20:53:20.903Z"
   },
   {
    "duration": 19,
    "start_time": "2022-05-26T20:53:20.911Z"
   },
   {
    "duration": 14,
    "start_time": "2022-05-26T20:53:20.932Z"
   },
   {
    "duration": 483,
    "start_time": "2022-05-26T20:53:20.947Z"
   },
   {
    "duration": 4,
    "start_time": "2022-05-26T20:53:21.432Z"
   },
   {
    "duration": 0,
    "start_time": "2022-05-26T20:53:21.438Z"
   },
   {
    "duration": 0,
    "start_time": "2022-05-26T20:53:21.439Z"
   },
   {
    "duration": 44,
    "start_time": "2022-05-26T20:53:21.576Z"
   },
   {
    "duration": 10,
    "start_time": "2022-05-26T20:53:21.622Z"
   },
   {
    "duration": 13,
    "start_time": "2022-05-26T20:53:21.633Z"
   },
   {
    "duration": 304,
    "start_time": "2022-05-26T20:53:21.648Z"
   },
   {
    "duration": 8,
    "start_time": "2022-05-26T20:53:21.953Z"
   },
   {
    "duration": 191,
    "start_time": "2022-05-26T20:53:21.962Z"
   },
   {
    "duration": 131,
    "start_time": "2022-05-26T20:53:22.155Z"
   },
   {
    "duration": 163,
    "start_time": "2022-05-26T20:53:22.287Z"
   },
   {
    "duration": 172,
    "start_time": "2022-05-26T20:53:22.451Z"
   },
   {
    "duration": 132,
    "start_time": "2022-05-26T20:53:22.624Z"
   },
   {
    "duration": 27,
    "start_time": "2022-05-26T20:53:22.758Z"
   },
   {
    "duration": 13,
    "start_time": "2022-05-26T20:53:23.395Z"
   },
   {
    "duration": 279,
    "start_time": "2022-05-26T20:53:24.252Z"
   },
   {
    "duration": 18,
    "start_time": "2022-05-26T20:56:15.171Z"
   },
   {
    "duration": 27,
    "start_time": "2022-05-26T20:57:29.328Z"
   },
   {
    "duration": 119,
    "start_time": "2022-05-26T20:58:07.279Z"
   },
   {
    "duration": 30,
    "start_time": "2022-05-26T20:58:36.408Z"
   },
   {
    "duration": 18,
    "start_time": "2022-05-26T20:59:02.592Z"
   },
   {
    "duration": 11,
    "start_time": "2022-05-26T20:59:21.900Z"
   },
   {
    "duration": 14,
    "start_time": "2022-05-26T20:59:25.348Z"
   },
   {
    "duration": 6,
    "start_time": "2022-05-26T20:59:26.843Z"
   },
   {
    "duration": 13,
    "start_time": "2022-05-26T20:59:29.185Z"
   },
   {
    "duration": 10,
    "start_time": "2022-05-26T20:59:30.340Z"
   },
   {
    "duration": 262,
    "start_time": "2022-05-26T20:59:32.381Z"
   },
   {
    "duration": 6,
    "start_time": "2022-05-26T20:59:39.153Z"
   },
   {
    "duration": 20,
    "start_time": "2022-05-26T20:59:41.815Z"
   },
   {
    "duration": 15,
    "start_time": "2022-05-26T20:59:50.243Z"
   },
   {
    "duration": 343,
    "start_time": "2022-05-26T21:00:13.892Z"
   },
   {
    "duration": 25,
    "start_time": "2022-05-26T21:00:25.876Z"
   },
   {
    "duration": 180,
    "start_time": "2022-05-26T21:00:27.062Z"
   },
   {
    "duration": 180,
    "start_time": "2022-05-26T21:00:42.641Z"
   },
   {
    "duration": 195,
    "start_time": "2022-05-26T21:00:45.614Z"
   },
   {
    "duration": 44,
    "start_time": "2022-05-26T21:00:53.397Z"
   },
   {
    "duration": 10,
    "start_time": "2022-05-26T21:01:08.217Z"
   },
   {
    "duration": 11,
    "start_time": "2022-05-26T21:01:09.905Z"
   },
   {
    "duration": 202,
    "start_time": "2022-05-26T21:01:12.645Z"
   },
   {
    "duration": 8,
    "start_time": "2022-05-26T21:01:25.543Z"
   },
   {
    "duration": 274,
    "start_time": "2022-05-26T21:01:27.495Z"
   },
   {
    "duration": 120,
    "start_time": "2022-05-26T21:01:32.266Z"
   },
   {
    "duration": 141,
    "start_time": "2022-05-26T21:01:35.061Z"
   },
   {
    "duration": 153,
    "start_time": "2022-05-26T21:01:37.652Z"
   },
   {
    "duration": 153,
    "start_time": "2022-05-26T21:01:42.121Z"
   },
   {
    "duration": 140,
    "start_time": "2022-05-26T21:01:52.211Z"
   },
   {
    "duration": 176,
    "start_time": "2022-05-26T21:01:54.487Z"
   },
   {
    "duration": 15,
    "start_time": "2022-05-26T21:01:57.539Z"
   },
   {
    "duration": 14,
    "start_time": "2022-05-26T21:02:13.915Z"
   },
   {
    "duration": 322,
    "start_time": "2022-05-26T21:02:16.891Z"
   },
   {
    "duration": 12,
    "start_time": "2022-05-26T21:04:07.078Z"
   },
   {
    "duration": 15,
    "start_time": "2022-05-26T21:04:24.578Z"
   },
   {
    "duration": 54,
    "start_time": "2022-05-27T05:06:53.344Z"
   },
   {
    "duration": 1133,
    "start_time": "2022-05-27T05:07:05.772Z"
   },
   {
    "duration": 3,
    "start_time": "2022-05-27T05:07:06.907Z"
   },
   {
    "duration": 321,
    "start_time": "2022-05-27T05:07:07.667Z"
   },
   {
    "duration": 38,
    "start_time": "2022-05-27T05:07:24.408Z"
   },
   {
    "duration": 10,
    "start_time": "2022-05-27T05:08:18.294Z"
   },
   {
    "duration": 5,
    "start_time": "2022-05-27T05:08:34.166Z"
   },
   {
    "duration": 11,
    "start_time": "2022-05-27T05:08:49.238Z"
   },
   {
    "duration": 9,
    "start_time": "2022-05-27T05:09:06.084Z"
   },
   {
    "duration": 10,
    "start_time": "2022-05-27T05:09:10.588Z"
   },
   {
    "duration": 5,
    "start_time": "2022-05-27T05:09:26.009Z"
   },
   {
    "duration": 16,
    "start_time": "2022-05-27T05:09:43.816Z"
   },
   {
    "duration": 3,
    "start_time": "2022-05-27T05:10:46.101Z"
   },
   {
    "duration": 2,
    "start_time": "2022-05-27T05:10:46.998Z"
   },
   {
    "duration": 84,
    "start_time": "2022-05-27T05:10:47.854Z"
   },
   {
    "duration": 20,
    "start_time": "2022-05-27T05:10:48.238Z"
   },
   {
    "duration": 22,
    "start_time": "2022-05-27T05:10:48.629Z"
   },
   {
    "duration": 60,
    "start_time": "2022-05-27T05:10:48.983Z"
   },
   {
    "duration": 18,
    "start_time": "2022-05-27T05:10:49.278Z"
   },
   {
    "duration": 121,
    "start_time": "2022-05-27T05:10:50.258Z"
   },
   {
    "duration": 16,
    "start_time": "2022-05-27T05:10:53.082Z"
   },
   {
    "duration": 12,
    "start_time": "2022-05-27T05:10:54.827Z"
   },
   {
    "duration": 9,
    "start_time": "2022-05-27T05:10:55.955Z"
   },
   {
    "duration": 6,
    "start_time": "2022-05-27T05:10:56.554Z"
   },
   {
    "duration": 5,
    "start_time": "2022-05-27T05:10:57.000Z"
   },
   {
    "duration": 11,
    "start_time": "2022-05-27T05:10:57.248Z"
   },
   {
    "duration": 13,
    "start_time": "2022-05-27T05:10:57.718Z"
   },
   {
    "duration": 7,
    "start_time": "2022-05-27T05:10:58.170Z"
   },
   {
    "duration": 7,
    "start_time": "2022-05-27T05:10:58.429Z"
   },
   {
    "duration": 13,
    "start_time": "2022-05-27T05:10:58.896Z"
   },
   {
    "duration": 9,
    "start_time": "2022-05-27T05:10:59.328Z"
   },
   {
    "duration": 17,
    "start_time": "2022-05-27T05:10:59.763Z"
   },
   {
    "duration": 142,
    "start_time": "2022-05-27T05:11:01.029Z"
   },
   {
    "duration": 12,
    "start_time": "2022-05-27T05:11:02.746Z"
   },
   {
    "duration": 28,
    "start_time": "2022-05-27T05:11:04.068Z"
   },
   {
    "duration": 10,
    "start_time": "2022-05-27T05:11:27.219Z"
   },
   {
    "duration": 5,
    "start_time": "2022-05-27T05:12:07.320Z"
   },
   {
    "duration": 5,
    "start_time": "2022-05-27T05:12:12.334Z"
   },
   {
    "duration": 9,
    "start_time": "2022-05-27T05:12:24.935Z"
   },
   {
    "duration": 11,
    "start_time": "2022-05-27T05:12:36.223Z"
   },
   {
    "duration": 5,
    "start_time": "2022-05-27T05:12:43.120Z"
   },
   {
    "duration": 11,
    "start_time": "2022-05-27T05:14:15.712Z"
   },
   {
    "duration": 9,
    "start_time": "2022-05-27T05:14:29.746Z"
   },
   {
    "duration": 4,
    "start_time": "2022-05-27T05:15:15.168Z"
   },
   {
    "duration": 529,
    "start_time": "2022-05-27T05:15:34.101Z"
   },
   {
    "duration": 25,
    "start_time": "2022-05-27T05:16:23.724Z"
   },
   {
    "duration": 202,
    "start_time": "2022-05-27T05:16:36.644Z"
   },
   {
    "duration": 948,
    "start_time": "2022-05-27T18:43:33.075Z"
   },
   {
    "duration": 3,
    "start_time": "2022-05-27T18:43:34.025Z"
   },
   {
    "duration": 334,
    "start_time": "2022-05-27T18:43:34.030Z"
   },
   {
    "duration": 24,
    "start_time": "2022-05-27T18:43:34.366Z"
   },
   {
    "duration": 15,
    "start_time": "2022-05-27T18:43:34.392Z"
   },
   {
    "duration": 92,
    "start_time": "2022-05-27T18:43:34.409Z"
   },
   {
    "duration": 18,
    "start_time": "2022-05-27T18:43:34.502Z"
   },
   {
    "duration": 8,
    "start_time": "2022-05-27T18:43:34.521Z"
   },
   {
    "duration": 37,
    "start_time": "2022-05-27T18:43:34.531Z"
   },
   {
    "duration": 12,
    "start_time": "2022-05-27T18:43:34.571Z"
   },
   {
    "duration": 20,
    "start_time": "2022-05-27T18:43:34.585Z"
   },
   {
    "duration": 7,
    "start_time": "2022-05-27T18:43:34.607Z"
   },
   {
    "duration": 10,
    "start_time": "2022-05-27T18:43:34.616Z"
   },
   {
    "duration": 9,
    "start_time": "2022-05-27T18:43:34.628Z"
   },
   {
    "duration": 29,
    "start_time": "2022-05-27T18:43:34.639Z"
   },
   {
    "duration": 6,
    "start_time": "2022-05-27T18:43:34.669Z"
   },
   {
    "duration": 7,
    "start_time": "2022-05-27T18:43:34.677Z"
   },
   {
    "duration": 10,
    "start_time": "2022-05-27T18:43:34.686Z"
   },
   {
    "duration": 7,
    "start_time": "2022-05-27T18:43:34.698Z"
   },
   {
    "duration": 13,
    "start_time": "2022-05-27T18:43:34.706Z"
   },
   {
    "duration": 198,
    "start_time": "2022-05-27T18:43:34.720Z"
   },
   {
    "duration": 12,
    "start_time": "2022-05-27T18:43:34.920Z"
   },
   {
    "duration": 11,
    "start_time": "2022-05-27T18:43:34.933Z"
   },
   {
    "duration": 22,
    "start_time": "2022-05-27T18:43:34.946Z"
   },
   {
    "duration": 23,
    "start_time": "2022-05-27T18:43:34.970Z"
   },
   {
    "duration": 4,
    "start_time": "2022-05-27T18:43:34.995Z"
   },
   {
    "duration": 8,
    "start_time": "2022-05-27T18:43:35.001Z"
   },
   {
    "duration": 306,
    "start_time": "2022-05-27T18:43:35.013Z"
   },
   {
    "duration": 5,
    "start_time": "2022-05-27T18:43:35.321Z"
   },
   {
    "duration": 183,
    "start_time": "2022-05-27T18:43:35.327Z"
   },
   {
    "duration": 133,
    "start_time": "2022-05-27T18:43:35.512Z"
   },
   {
    "duration": 151,
    "start_time": "2022-05-27T18:43:35.647Z"
   },
   {
    "duration": 154,
    "start_time": "2022-05-27T18:43:35.800Z"
   },
   {
    "duration": 180,
    "start_time": "2022-05-27T18:43:35.956Z"
   },
   {
    "duration": 326,
    "start_time": "2022-05-27T18:43:36.137Z"
   },
   {
    "duration": 156,
    "start_time": "2022-05-27T18:43:36.465Z"
   },
   {
    "duration": 120,
    "start_time": "2022-05-27T18:43:36.623Z"
   },
   {
    "duration": 274,
    "start_time": "2022-05-27T18:43:36.744Z"
   },
   {
    "duration": 9,
    "start_time": "2022-05-27T18:43:37.020Z"
   },
   {
    "duration": 168,
    "start_time": "2022-05-27T18:43:37.031Z"
   },
   {
    "duration": 179,
    "start_time": "2022-05-27T18:43:37.201Z"
   },
   {
    "duration": 17,
    "start_time": "2022-05-27T18:43:37.383Z"
   },
   {
    "duration": 22,
    "start_time": "2022-05-27T18:43:37.402Z"
   },
   {
    "duration": 11,
    "start_time": "2022-05-27T18:43:37.426Z"
   },
   {
    "duration": 29,
    "start_time": "2022-05-27T18:43:37.439Z"
   },
   {
    "duration": 6,
    "start_time": "2022-05-27T18:43:37.470Z"
   },
   {
    "duration": 261,
    "start_time": "2022-05-27T18:43:37.478Z"
   },
   {
    "duration": 6,
    "start_time": "2022-05-27T18:43:37.740Z"
   },
   {
    "duration": 18,
    "start_time": "2022-05-27T18:43:37.747Z"
   },
   {
    "duration": 11,
    "start_time": "2022-05-27T18:43:37.767Z"
   },
   {
    "duration": 466,
    "start_time": "2022-05-27T18:43:37.780Z"
   },
   {
    "duration": 252,
    "start_time": "2022-05-27T18:43:38.248Z"
   },
   {
    "duration": 179,
    "start_time": "2022-05-27T18:43:38.501Z"
   },
   {
    "duration": 42,
    "start_time": "2022-05-27T18:43:38.681Z"
   },
   {
    "duration": 10,
    "start_time": "2022-05-27T18:43:38.724Z"
   },
   {
    "duration": 32,
    "start_time": "2022-05-27T18:43:38.735Z"
   },
   {
    "duration": 227,
    "start_time": "2022-05-27T18:43:38.768Z"
   },
   {
    "duration": 9,
    "start_time": "2022-05-27T18:43:38.998Z"
   },
   {
    "duration": 199,
    "start_time": "2022-05-27T18:43:39.009Z"
   },
   {
    "duration": 128,
    "start_time": "2022-05-27T18:43:39.209Z"
   },
   {
    "duration": 150,
    "start_time": "2022-05-27T18:43:39.339Z"
   },
   {
    "duration": 138,
    "start_time": "2022-05-27T18:43:39.490Z"
   },
   {
    "duration": 164,
    "start_time": "2022-05-27T18:43:39.629Z"
   },
   {
    "duration": 14,
    "start_time": "2022-05-27T18:43:39.795Z"
   },
   {
    "duration": 13,
    "start_time": "2022-05-27T18:43:39.811Z"
   },
   {
    "duration": 102,
    "start_time": "2022-05-27T18:43:39.826Z"
   },
   {
    "duration": 13,
    "start_time": "2022-05-27T18:46:25.938Z"
   },
   {
    "duration": 143,
    "start_time": "2022-05-27T18:53:26.407Z"
   },
   {
    "duration": 4,
    "start_time": "2022-05-27T18:53:45.305Z"
   },
   {
    "duration": 7,
    "start_time": "2022-05-27T18:53:45.311Z"
   },
   {
    "duration": 151,
    "start_time": "2022-05-27T18:53:45.320Z"
   },
   {
    "duration": 22,
    "start_time": "2022-05-27T18:53:45.477Z"
   },
   {
    "duration": 16,
    "start_time": "2022-05-27T18:53:45.501Z"
   },
   {
    "duration": 102,
    "start_time": "2022-05-27T18:53:45.520Z"
   },
   {
    "duration": 18,
    "start_time": "2022-05-27T18:53:45.623Z"
   },
   {
    "duration": 15,
    "start_time": "2022-05-27T18:53:45.665Z"
   },
   {
    "duration": 15,
    "start_time": "2022-05-27T18:53:45.683Z"
   },
   {
    "duration": 9,
    "start_time": "2022-05-27T18:53:45.699Z"
   },
   {
    "duration": 10,
    "start_time": "2022-05-27T18:53:45.710Z"
   },
   {
    "duration": 6,
    "start_time": "2022-05-27T18:53:45.722Z"
   },
   {
    "duration": 7,
    "start_time": "2022-05-27T18:53:45.730Z"
   },
   {
    "duration": 40,
    "start_time": "2022-05-27T18:53:45.739Z"
   },
   {
    "duration": 10,
    "start_time": "2022-05-27T18:53:45.781Z"
   },
   {
    "duration": 6,
    "start_time": "2022-05-27T18:53:45.793Z"
   },
   {
    "duration": 7,
    "start_time": "2022-05-27T18:53:45.801Z"
   },
   {
    "duration": 13,
    "start_time": "2022-05-27T18:53:45.809Z"
   },
   {
    "duration": 6,
    "start_time": "2022-05-27T18:53:45.823Z"
   },
   {
    "duration": 44,
    "start_time": "2022-05-27T18:53:45.831Z"
   },
   {
    "duration": 159,
    "start_time": "2022-05-27T18:53:45.877Z"
   },
   {
    "duration": 14,
    "start_time": "2022-05-27T18:53:46.038Z"
   },
   {
    "duration": 28,
    "start_time": "2022-05-27T18:53:46.054Z"
   },
   {
    "duration": 7,
    "start_time": "2022-05-27T18:53:46.084Z"
   },
   {
    "duration": 23,
    "start_time": "2022-05-27T18:53:46.093Z"
   },
   {
    "duration": 4,
    "start_time": "2022-05-27T18:53:46.407Z"
   },
   {
    "duration": 6,
    "start_time": "2022-05-27T18:53:46.422Z"
   },
   {
    "duration": 412,
    "start_time": "2022-05-27T18:53:46.492Z"
   },
   {
    "duration": 5,
    "start_time": "2022-05-27T18:53:46.906Z"
   },
   {
    "duration": 197,
    "start_time": "2022-05-27T18:53:46.913Z"
   },
   {
    "duration": 138,
    "start_time": "2022-05-27T18:53:47.113Z"
   },
   {
    "duration": 170,
    "start_time": "2022-05-27T18:53:47.254Z"
   },
   {
    "duration": 199,
    "start_time": "2022-05-27T18:53:47.425Z"
   },
   {
    "duration": 205,
    "start_time": "2022-05-27T18:53:47.626Z"
   },
   {
    "duration": 281,
    "start_time": "2022-05-27T18:53:47.833Z"
   },
   {
    "duration": 184,
    "start_time": "2022-05-27T18:53:48.117Z"
   },
   {
    "duration": 131,
    "start_time": "2022-05-27T18:53:48.302Z"
   },
   {
    "duration": 401,
    "start_time": "2022-05-27T18:53:48.435Z"
   },
   {
    "duration": 9,
    "start_time": "2022-05-27T18:53:48.837Z"
   },
   {
    "duration": 245,
    "start_time": "2022-05-27T18:53:48.847Z"
   },
   {
    "duration": 195,
    "start_time": "2022-05-27T18:53:49.097Z"
   },
   {
    "duration": 13,
    "start_time": "2022-05-27T18:53:49.293Z"
   },
   {
    "duration": 14,
    "start_time": "2022-05-27T18:53:49.308Z"
   },
   {
    "duration": 5,
    "start_time": "2022-05-27T18:53:49.324Z"
   },
   {
    "duration": 44,
    "start_time": "2022-05-27T18:53:49.331Z"
   },
   {
    "duration": 6,
    "start_time": "2022-05-27T18:53:49.377Z"
   },
   {
    "duration": 256,
    "start_time": "2022-05-27T18:53:49.385Z"
   },
   {
    "duration": 5,
    "start_time": "2022-05-27T18:53:49.643Z"
   },
   {
    "duration": 30,
    "start_time": "2022-05-27T18:53:49.650Z"
   },
   {
    "duration": 14,
    "start_time": "2022-05-27T18:53:49.682Z"
   },
   {
    "duration": 378,
    "start_time": "2022-05-27T18:53:49.698Z"
   },
   {
    "duration": 195,
    "start_time": "2022-05-27T18:53:50.078Z"
   },
   {
    "duration": 189,
    "start_time": "2022-05-27T18:53:50.275Z"
   },
   {
    "duration": 47,
    "start_time": "2022-05-27T18:53:50.470Z"
   },
   {
    "duration": 9,
    "start_time": "2022-05-27T18:53:50.519Z"
   },
   {
    "duration": 16,
    "start_time": "2022-05-27T18:53:50.530Z"
   },
   {
    "duration": 244,
    "start_time": "2022-05-27T18:53:50.549Z"
   },
   {
    "duration": 7,
    "start_time": "2022-05-27T18:53:50.795Z"
   },
   {
    "duration": 193,
    "start_time": "2022-05-27T18:53:50.805Z"
   },
   {
    "duration": 136,
    "start_time": "2022-05-27T18:53:51.000Z"
   },
   {
    "duration": 165,
    "start_time": "2022-05-27T18:53:51.138Z"
   },
   {
    "duration": 154,
    "start_time": "2022-05-27T18:53:51.305Z"
   },
   {
    "duration": 170,
    "start_time": "2022-05-27T18:53:51.461Z"
   },
   {
    "duration": 13,
    "start_time": "2022-05-27T18:53:51.633Z"
   },
   {
    "duration": 31,
    "start_time": "2022-05-27T18:53:51.648Z"
   },
   {
    "duration": 9,
    "start_time": "2022-05-27T18:53:51.682Z"
   },
   {
    "duration": 2,
    "start_time": "2022-05-27T18:54:45.286Z"
   },
   {
    "duration": 5,
    "start_time": "2022-05-27T18:54:45.292Z"
   },
   {
    "duration": 105,
    "start_time": "2022-05-27T18:54:45.314Z"
   },
   {
    "duration": 21,
    "start_time": "2022-05-27T18:54:45.421Z"
   },
   {
    "duration": 40,
    "start_time": "2022-05-27T18:54:45.444Z"
   },
   {
    "duration": 88,
    "start_time": "2022-05-27T18:54:45.491Z"
   },
   {
    "duration": 22,
    "start_time": "2022-05-27T18:54:45.583Z"
   },
   {
    "duration": 7,
    "start_time": "2022-05-27T18:54:45.606Z"
   },
   {
    "duration": 16,
    "start_time": "2022-05-27T18:54:45.615Z"
   },
   {
    "duration": 38,
    "start_time": "2022-05-27T18:54:45.633Z"
   },
   {
    "duration": 10,
    "start_time": "2022-05-27T18:54:45.676Z"
   },
   {
    "duration": 8,
    "start_time": "2022-05-27T18:54:45.688Z"
   },
   {
    "duration": 13,
    "start_time": "2022-05-27T18:54:45.698Z"
   },
   {
    "duration": 9,
    "start_time": "2022-05-27T18:54:45.712Z"
   },
   {
    "duration": 9,
    "start_time": "2022-05-27T18:54:45.723Z"
   },
   {
    "duration": 9,
    "start_time": "2022-05-27T18:54:45.734Z"
   },
   {
    "duration": 11,
    "start_time": "2022-05-27T18:54:45.770Z"
   },
   {
    "duration": 21,
    "start_time": "2022-05-27T18:54:45.783Z"
   },
   {
    "duration": 9,
    "start_time": "2022-05-27T18:54:45.807Z"
   },
   {
    "duration": 14,
    "start_time": "2022-05-27T18:54:45.818Z"
   },
   {
    "duration": 201,
    "start_time": "2022-05-27T18:54:45.834Z"
   },
   {
    "duration": 28,
    "start_time": "2022-05-27T18:54:46.037Z"
   },
   {
    "duration": 12,
    "start_time": "2022-05-27T18:54:46.073Z"
   },
   {
    "duration": 9,
    "start_time": "2022-05-27T18:54:46.088Z"
   },
   {
    "duration": 25,
    "start_time": "2022-05-27T18:54:46.099Z"
   },
   {
    "duration": 5,
    "start_time": "2022-05-27T18:54:46.128Z"
   },
   {
    "duration": 12,
    "start_time": "2022-05-27T18:54:46.134Z"
   },
   {
    "duration": 465,
    "start_time": "2022-05-27T18:54:46.147Z"
   },
   {
    "duration": 12,
    "start_time": "2022-05-27T18:54:46.615Z"
   },
   {
    "duration": 202,
    "start_time": "2022-05-27T18:54:46.628Z"
   },
   {
    "duration": 164,
    "start_time": "2022-05-27T18:54:46.832Z"
   },
   {
    "duration": 180,
    "start_time": "2022-05-27T18:54:46.997Z"
   },
   {
    "duration": 149,
    "start_time": "2022-05-27T18:54:47.179Z"
   },
   {
    "duration": 211,
    "start_time": "2022-05-27T18:54:47.330Z"
   },
   {
    "duration": 270,
    "start_time": "2022-05-27T18:54:47.543Z"
   },
   {
    "duration": 169,
    "start_time": "2022-05-27T18:54:47.816Z"
   },
   {
    "duration": 136,
    "start_time": "2022-05-27T18:54:47.987Z"
   },
   {
    "duration": 305,
    "start_time": "2022-05-27T18:54:48.125Z"
   },
   {
    "duration": 13,
    "start_time": "2022-05-27T18:54:48.432Z"
   },
   {
    "duration": 212,
    "start_time": "2022-05-27T18:54:48.447Z"
   },
   {
    "duration": 165,
    "start_time": "2022-05-27T18:54:48.668Z"
   },
   {
    "duration": 15,
    "start_time": "2022-05-27T18:54:48.837Z"
   },
   {
    "duration": 25,
    "start_time": "2022-05-27T18:54:48.867Z"
   },
   {
    "duration": 8,
    "start_time": "2022-05-27T18:54:48.894Z"
   },
   {
    "duration": 21,
    "start_time": "2022-05-27T18:54:48.905Z"
   },
   {
    "duration": 7,
    "start_time": "2022-05-27T18:54:48.929Z"
   },
   {
    "duration": 429,
    "start_time": "2022-05-27T18:54:48.939Z"
   },
   {
    "duration": 6,
    "start_time": "2022-05-27T18:54:49.371Z"
   },
   {
    "duration": 35,
    "start_time": "2022-05-27T18:54:49.378Z"
   },
   {
    "duration": 13,
    "start_time": "2022-05-27T18:54:49.415Z"
   },
   {
    "duration": 343,
    "start_time": "2022-05-27T18:54:49.430Z"
   },
   {
    "duration": 207,
    "start_time": "2022-05-27T18:54:49.780Z"
   },
   {
    "duration": 185,
    "start_time": "2022-05-27T18:54:49.990Z"
   },
   {
    "duration": 44,
    "start_time": "2022-05-27T18:54:50.181Z"
   },
   {
    "duration": 10,
    "start_time": "2022-05-27T18:54:50.227Z"
   },
   {
    "duration": 37,
    "start_time": "2022-05-27T18:54:50.239Z"
   },
   {
    "duration": 502,
    "start_time": "2022-05-27T18:54:50.278Z"
   },
   {
    "duration": 10,
    "start_time": "2022-05-27T18:54:50.782Z"
   },
   {
    "duration": 387,
    "start_time": "2022-05-27T18:54:50.795Z"
   },
   {
    "duration": 304,
    "start_time": "2022-05-27T18:54:51.185Z"
   },
   {
    "duration": 172,
    "start_time": "2022-05-27T18:54:51.491Z"
   },
   {
    "duration": 148,
    "start_time": "2022-05-27T18:54:51.664Z"
   },
   {
    "duration": 143,
    "start_time": "2022-05-27T18:54:51.814Z"
   },
   {
    "duration": 23,
    "start_time": "2022-05-27T18:54:51.959Z"
   },
   {
    "duration": 24,
    "start_time": "2022-05-27T18:54:51.984Z"
   },
   {
    "duration": 9,
    "start_time": "2022-05-27T18:54:52.009Z"
   },
   {
    "duration": 179,
    "start_time": "2022-05-27T18:59:08.467Z"
   },
   {
    "duration": 160,
    "start_time": "2022-05-27T18:59:25.899Z"
   },
   {
    "duration": 144,
    "start_time": "2022-05-27T19:01:15.602Z"
   },
   {
    "duration": 144,
    "start_time": "2022-05-27T19:03:31.606Z"
   },
   {
    "duration": 131,
    "start_time": "2022-05-27T19:03:39.209Z"
   },
   {
    "duration": 349,
    "start_time": "2022-05-27T19:07:06.497Z"
   },
   {
    "duration": 176,
    "start_time": "2022-05-27T19:25:09.480Z"
   },
   {
    "duration": 26,
    "start_time": "2022-05-27T19:27:45.967Z"
   },
   {
    "duration": 189,
    "start_time": "2022-05-27T19:28:03.749Z"
   },
   {
    "duration": 206,
    "start_time": "2022-05-27T19:28:21.683Z"
   },
   {
    "duration": 181,
    "start_time": "2022-05-27T19:29:06.622Z"
   },
   {
    "duration": 187,
    "start_time": "2022-05-27T19:29:31.833Z"
   },
   {
    "duration": 215,
    "start_time": "2022-05-27T19:30:28.091Z"
   },
   {
    "duration": 192,
    "start_time": "2022-05-27T19:31:14.537Z"
   },
   {
    "duration": 199,
    "start_time": "2022-05-27T19:32:10.381Z"
   },
   {
    "duration": 175,
    "start_time": "2022-05-27T19:32:41.786Z"
   },
   {
    "duration": 459,
    "start_time": "2022-05-27T19:33:08.054Z"
   },
   {
    "duration": 388,
    "start_time": "2022-05-27T19:33:21.496Z"
   },
   {
    "duration": 786,
    "start_time": "2022-05-27T19:41:48.114Z"
   },
   {
    "duration": 5,
    "start_time": "2022-05-27T19:41:48.903Z"
   },
   {
    "duration": 147,
    "start_time": "2022-05-27T19:41:48.910Z"
   },
   {
    "duration": 38,
    "start_time": "2022-05-27T19:41:49.060Z"
   },
   {
    "duration": 34,
    "start_time": "2022-05-27T19:41:49.100Z"
   },
   {
    "duration": 98,
    "start_time": "2022-05-27T19:41:49.136Z"
   },
   {
    "duration": 47,
    "start_time": "2022-05-27T19:41:49.236Z"
   },
   {
    "duration": 9,
    "start_time": "2022-05-27T19:41:49.285Z"
   },
   {
    "duration": 50,
    "start_time": "2022-05-27T19:41:49.296Z"
   },
   {
    "duration": 13,
    "start_time": "2022-05-27T19:41:49.350Z"
   },
   {
    "duration": 11,
    "start_time": "2022-05-27T19:41:49.366Z"
   },
   {
    "duration": 16,
    "start_time": "2022-05-27T19:41:49.379Z"
   },
   {
    "duration": 12,
    "start_time": "2022-05-27T19:41:49.397Z"
   },
   {
    "duration": 11,
    "start_time": "2022-05-27T19:41:49.411Z"
   },
   {
    "duration": 13,
    "start_time": "2022-05-27T19:41:49.425Z"
   },
   {
    "duration": 7,
    "start_time": "2022-05-27T19:41:49.440Z"
   },
   {
    "duration": 28,
    "start_time": "2022-05-27T19:41:49.449Z"
   },
   {
    "duration": 19,
    "start_time": "2022-05-27T19:41:49.479Z"
   },
   {
    "duration": 8,
    "start_time": "2022-05-27T19:41:49.500Z"
   },
   {
    "duration": 14,
    "start_time": "2022-05-27T19:41:49.511Z"
   },
   {
    "duration": 192,
    "start_time": "2022-05-27T19:41:49.527Z"
   },
   {
    "duration": 15,
    "start_time": "2022-05-27T19:41:49.721Z"
   },
   {
    "duration": 27,
    "start_time": "2022-05-27T19:41:49.738Z"
   },
   {
    "duration": 17,
    "start_time": "2022-05-27T19:41:49.769Z"
   },
   {
    "duration": 35,
    "start_time": "2022-05-27T19:41:49.788Z"
   },
   {
    "duration": 4,
    "start_time": "2022-05-27T19:41:49.825Z"
   },
   {
    "duration": 12,
    "start_time": "2022-05-27T19:41:49.831Z"
   },
   {
    "duration": 343,
    "start_time": "2022-05-27T19:41:49.847Z"
   },
   {
    "duration": 6,
    "start_time": "2022-05-27T19:41:50.192Z"
   },
   {
    "duration": 207,
    "start_time": "2022-05-27T19:41:50.200Z"
   },
   {
    "duration": 151,
    "start_time": "2022-05-27T19:41:50.410Z"
   },
   {
    "duration": 171,
    "start_time": "2022-05-27T19:41:50.563Z"
   },
   {
    "duration": 174,
    "start_time": "2022-05-27T19:41:50.736Z"
   },
   {
    "duration": 212,
    "start_time": "2022-05-27T19:41:50.912Z"
   },
   {
    "duration": 369,
    "start_time": "2022-05-27T19:41:51.127Z"
   },
   {
    "duration": 169,
    "start_time": "2022-05-27T19:41:51.498Z"
   },
   {
    "duration": 138,
    "start_time": "2022-05-27T19:41:51.673Z"
   },
   {
    "duration": 336,
    "start_time": "2022-05-27T19:41:51.813Z"
   },
   {
    "duration": 30,
    "start_time": "2022-05-27T19:41:52.152Z"
   },
   {
    "duration": 208,
    "start_time": "2022-05-27T19:41:52.184Z"
   },
   {
    "duration": 186,
    "start_time": "2022-05-27T19:41:52.395Z"
   },
   {
    "duration": 17,
    "start_time": "2022-05-27T19:41:52.583Z"
   },
   {
    "duration": 15,
    "start_time": "2022-05-27T19:41:52.602Z"
   },
   {
    "duration": 6,
    "start_time": "2022-05-27T19:41:52.618Z"
   },
   {
    "duration": 48,
    "start_time": "2022-05-27T19:41:52.627Z"
   },
   {
    "duration": 6,
    "start_time": "2022-05-27T19:41:52.683Z"
   },
   {
    "duration": 246,
    "start_time": "2022-05-27T19:41:52.691Z"
   },
   {
    "duration": 7,
    "start_time": "2022-05-27T19:41:52.939Z"
   },
   {
    "duration": 37,
    "start_time": "2022-05-27T19:41:52.948Z"
   },
   {
    "duration": 16,
    "start_time": "2022-05-27T19:41:52.988Z"
   },
   {
    "duration": 517,
    "start_time": "2022-05-27T19:41:53.006Z"
   },
   {
    "duration": 292,
    "start_time": "2022-05-27T19:41:53.524Z"
   },
   {
    "duration": 188,
    "start_time": "2022-05-27T19:41:53.818Z"
   },
   {
    "duration": 199,
    "start_time": "2022-05-27T19:41:54.008Z"
   },
   {
    "duration": 43,
    "start_time": "2022-05-27T19:41:54.209Z"
   },
   {
    "duration": 13,
    "start_time": "2022-05-27T19:41:54.266Z"
   },
   {
    "duration": 23,
    "start_time": "2022-05-27T19:41:54.281Z"
   },
   {
    "duration": 244,
    "start_time": "2022-05-27T19:41:54.306Z"
   },
   {
    "duration": 25,
    "start_time": "2022-05-27T19:41:54.552Z"
   },
   {
    "duration": 199,
    "start_time": "2022-05-27T19:41:54.585Z"
   },
   {
    "duration": 134,
    "start_time": "2022-05-27T19:41:54.786Z"
   },
   {
    "duration": 171,
    "start_time": "2022-05-27T19:41:54.922Z"
   },
   {
    "duration": 159,
    "start_time": "2022-05-27T19:41:55.095Z"
   },
   {
    "duration": 156,
    "start_time": "2022-05-27T19:41:55.256Z"
   },
   {
    "duration": 14,
    "start_time": "2022-05-27T19:41:55.414Z"
   },
   {
    "duration": 13,
    "start_time": "2022-05-27T19:41:55.430Z"
   },
   {
    "duration": 316,
    "start_time": "2022-05-27T19:41:55.469Z"
   },
   {
    "duration": 101,
    "start_time": "2022-05-27T19:43:52.215Z"
   },
   {
    "duration": 18,
    "start_time": "2022-05-27T19:44:01.684Z"
   },
   {
    "duration": 12,
    "start_time": "2022-05-27T19:47:00.088Z"
   },
   {
    "duration": 19,
    "start_time": "2022-05-27T19:47:09.857Z"
   },
   {
    "duration": 17,
    "start_time": "2022-05-27T19:47:33.615Z"
   },
   {
    "duration": 13,
    "start_time": "2022-05-27T19:48:18.115Z"
   },
   {
    "duration": 14,
    "start_time": "2022-05-27T19:48:27.041Z"
   },
   {
    "duration": 194,
    "start_time": "2022-05-27T19:54:11.642Z"
   },
   {
    "duration": 169,
    "start_time": "2022-05-27T19:55:35.930Z"
   },
   {
    "duration": 178,
    "start_time": "2022-05-27T19:55:48.360Z"
   },
   {
    "duration": 301,
    "start_time": "2022-05-27T19:56:05.826Z"
   },
   {
    "duration": 173,
    "start_time": "2022-05-27T19:56:17.509Z"
   },
   {
    "duration": 176,
    "start_time": "2022-05-27T19:56:25.202Z"
   },
   {
    "duration": 183,
    "start_time": "2022-05-27T19:56:50.984Z"
   },
   {
    "duration": 187,
    "start_time": "2022-05-27T19:57:03.793Z"
   },
   {
    "duration": 79,
    "start_time": "2022-05-28T06:21:26.517Z"
   },
   {
    "duration": 1067,
    "start_time": "2022-05-28T06:21:44.607Z"
   },
   {
    "duration": 3,
    "start_time": "2022-05-28T06:21:45.675Z"
   },
   {
    "duration": 334,
    "start_time": "2022-05-28T06:21:46.526Z"
   },
   {
    "duration": 8,
    "start_time": "2022-05-28T06:22:08.357Z"
   },
   {
    "duration": 9,
    "start_time": "2022-05-28T06:22:24.313Z"
   },
   {
    "duration": 7,
    "start_time": "2022-05-28T06:22:40.213Z"
   },
   {
    "duration": 54,
    "start_time": "2022-05-28T06:23:02.683Z"
   },
   {
    "duration": 10,
    "start_time": "2022-05-28T06:23:59.992Z"
   },
   {
    "duration": 20,
    "start_time": "2022-05-28T06:24:14.793Z"
   },
   {
    "duration": 43,
    "start_time": "2022-05-28T12:54:43.655Z"
   },
   {
    "duration": 1216,
    "start_time": "2022-05-28T13:24:01.758Z"
   },
   {
    "duration": 3,
    "start_time": "2022-05-28T13:24:03.643Z"
   },
   {
    "duration": 311,
    "start_time": "2022-05-28T13:24:04.596Z"
   },
   {
    "duration": 25,
    "start_time": "2022-05-28T13:24:05.590Z"
   },
   {
    "duration": 15,
    "start_time": "2022-05-28T13:24:06.393Z"
   },
   {
    "duration": 71,
    "start_time": "2022-05-28T13:24:07.152Z"
   },
   {
    "duration": 19,
    "start_time": "2022-05-28T13:24:08.109Z"
   },
   {
    "duration": 9,
    "start_time": "2022-05-28T13:24:13.240Z"
   },
   {
    "duration": 15,
    "start_time": "2022-05-28T13:24:15.149Z"
   },
   {
    "duration": 11,
    "start_time": "2022-05-28T13:24:17.928Z"
   },
   {
    "duration": 8,
    "start_time": "2022-05-28T13:24:20.515Z"
   },
   {
    "duration": 6,
    "start_time": "2022-05-28T13:24:22.394Z"
   },
   {
    "duration": 6,
    "start_time": "2022-05-28T13:24:23.926Z"
   },
   {
    "duration": 8,
    "start_time": "2022-05-28T13:24:25.642Z"
   },
   {
    "duration": 9,
    "start_time": "2022-05-28T13:24:27.536Z"
   },
   {
    "duration": 6,
    "start_time": "2022-05-28T13:24:30.222Z"
   },
   {
    "duration": 7,
    "start_time": "2022-05-28T13:24:31.194Z"
   },
   {
    "duration": 10,
    "start_time": "2022-05-28T13:24:33.248Z"
   },
   {
    "duration": 7,
    "start_time": "2022-05-28T13:24:35.992Z"
   },
   {
    "duration": 13,
    "start_time": "2022-05-28T13:24:37.949Z"
   },
   {
    "duration": 136,
    "start_time": "2022-05-28T13:24:40.975Z"
   },
   {
    "duration": 14,
    "start_time": "2022-05-28T13:24:42.954Z"
   },
   {
    "duration": 7,
    "start_time": "2022-05-28T13:24:52.320Z"
   },
   {
    "duration": 7,
    "start_time": "2022-05-28T13:25:51.456Z"
   },
   {
    "duration": 85,
    "start_time": "2022-05-28T13:27:18.000Z"
   },
   {
    "duration": 12,
    "start_time": "2022-05-28T13:27:25.396Z"
   },
   {
    "duration": 8,
    "start_time": "2022-05-28T13:27:57.115Z"
   },
   {
    "duration": 8,
    "start_time": "2022-05-28T13:28:13.638Z"
   },
   {
    "duration": 29,
    "start_time": "2022-05-28T13:38:52.622Z"
   },
   {
    "duration": 4,
    "start_time": "2022-05-28T13:38:57.722Z"
   },
   {
    "duration": 6,
    "start_time": "2022-05-28T13:38:59.573Z"
   },
   {
    "duration": 292,
    "start_time": "2022-05-28T13:39:02.221Z"
   },
   {
    "duration": 7,
    "start_time": "2022-05-28T13:39:04.093Z"
   },
   {
    "duration": 7,
    "start_time": "2022-05-28T13:39:06.904Z"
   },
   {
    "duration": 9,
    "start_time": "2022-05-28T13:39:31.520Z"
   },
   {
    "duration": 5,
    "start_time": "2022-05-28T13:39:49.756Z"
   },
   {
    "duration": 4,
    "start_time": "2022-05-28T13:56:06.226Z"
   },
   {
    "duration": 15,
    "start_time": "2022-05-28T13:56:19.248Z"
   },
   {
    "duration": 28,
    "start_time": "2022-05-28T14:04:46.773Z"
   },
   {
    "duration": 29,
    "start_time": "2022-05-28T14:05:06.681Z"
   },
   {
    "duration": 15,
    "start_time": "2022-05-28T14:08:11.655Z"
   },
   {
    "duration": 3,
    "start_time": "2022-05-28T14:10:50.784Z"
   },
   {
    "duration": 424,
    "start_time": "2022-05-28T14:12:36.579Z"
   },
   {
    "duration": 15,
    "start_time": "2022-05-28T14:14:07.484Z"
   },
   {
    "duration": 171,
    "start_time": "2022-05-28T14:15:23.577Z"
   },
   {
    "duration": 172,
    "start_time": "2022-05-28T14:22:19.006Z"
   },
   {
    "duration": 174,
    "start_time": "2022-05-28T14:22:51.410Z"
   },
   {
    "duration": 261,
    "start_time": "2022-05-28T14:23:49.604Z"
   },
   {
    "duration": 4,
    "start_time": "2022-05-28T14:35:54.375Z"
   },
   {
    "duration": 3,
    "start_time": "2022-05-28T14:36:04.417Z"
   },
   {
    "duration": 13,
    "start_time": "2022-05-28T14:36:45.303Z"
   },
   {
    "duration": 269,
    "start_time": "2022-05-28T14:37:02.883Z"
   },
   {
    "duration": 8,
    "start_time": "2022-05-28T14:37:07.949Z"
   },
   {
    "duration": 188,
    "start_time": "2022-05-28T14:37:09.720Z"
   },
   {
    "duration": 116,
    "start_time": "2022-05-28T14:37:10.879Z"
   },
   {
    "duration": 149,
    "start_time": "2022-05-28T14:37:14.204Z"
   },
   {
    "duration": 138,
    "start_time": "2022-05-28T14:37:17.004Z"
   },
   {
    "duration": 136,
    "start_time": "2022-05-28T14:37:19.816Z"
   },
   {
    "duration": 13,
    "start_time": "2022-05-28T14:37:25.496Z"
   },
   {
    "duration": 12,
    "start_time": "2022-05-28T14:37:28.413Z"
   },
   {
    "duration": 18,
    "start_time": "2022-05-28T14:37:32.633Z"
   },
   {
    "duration": 155,
    "start_time": "2022-05-28T14:41:29.951Z"
   },
   {
    "duration": 190,
    "start_time": "2022-05-28T14:42:14.862Z"
   },
   {
    "duration": 143,
    "start_time": "2022-05-28T14:42:46.768Z"
   },
   {
    "duration": 145,
    "start_time": "2022-05-28T14:44:34.581Z"
   },
   {
    "duration": 15,
    "start_time": "2022-05-28T14:51:11.565Z"
   },
   {
    "duration": 227,
    "start_time": "2022-05-28T14:54:40.014Z"
   },
   {
    "duration": 30,
    "start_time": "2022-05-28T15:05:21.311Z"
   },
   {
    "duration": 15,
    "start_time": "2022-05-28T15:08:30.258Z"
   },
   {
    "duration": 6,
    "start_time": "2022-05-28T15:16:13.057Z"
   },
   {
    "duration": 6,
    "start_time": "2022-05-28T15:17:02.062Z"
   },
   {
    "duration": 7,
    "start_time": "2022-05-28T15:17:49.391Z"
   },
   {
    "duration": 281,
    "start_time": "2022-05-28T15:18:20.607Z"
   },
   {
    "duration": 11,
    "start_time": "2022-05-28T15:24:35.874Z"
   },
   {
    "duration": 4,
    "start_time": "2022-05-28T15:24:44.505Z"
   },
   {
    "duration": 8,
    "start_time": "2022-05-28T15:24:45.867Z"
   },
   {
    "duration": 22,
    "start_time": "2022-05-28T15:24:55.515Z"
   },
   {
    "duration": 28,
    "start_time": "2022-05-28T15:25:19.466Z"
   },
   {
    "duration": 24,
    "start_time": "2022-05-28T15:25:26.121Z"
   },
   {
    "duration": 27,
    "start_time": "2022-05-28T15:25:47.367Z"
   },
   {
    "duration": 29,
    "start_time": "2022-05-28T15:27:29.285Z"
   },
   {
    "duration": 9,
    "start_time": "2022-05-28T15:27:40.816Z"
   },
   {
    "duration": 13,
    "start_time": "2022-05-28T15:27:53.116Z"
   },
   {
    "duration": 196,
    "start_time": "2022-05-28T15:32:13.767Z"
   },
   {
    "duration": 25,
    "start_time": "2022-05-28T15:32:42.964Z"
   },
   {
    "duration": 20,
    "start_time": "2022-05-28T15:34:07.842Z"
   },
   {
    "duration": 76,
    "start_time": "2022-05-28T15:34:13.226Z"
   },
   {
    "duration": 85,
    "start_time": "2022-05-28T15:36:16.080Z"
   },
   {
    "duration": 649,
    "start_time": "2022-05-28T15:36:50.107Z"
   },
   {
    "duration": 3,
    "start_time": "2022-05-28T15:36:50.758Z"
   },
   {
    "duration": 97,
    "start_time": "2022-05-28T15:36:50.762Z"
   },
   {
    "duration": 22,
    "start_time": "2022-05-28T15:36:50.861Z"
   },
   {
    "duration": 13,
    "start_time": "2022-05-28T15:36:50.885Z"
   },
   {
    "duration": 83,
    "start_time": "2022-05-28T15:36:50.899Z"
   },
   {
    "duration": 16,
    "start_time": "2022-05-28T15:36:50.984Z"
   },
   {
    "duration": 8,
    "start_time": "2022-05-28T15:36:51.001Z"
   },
   {
    "duration": 12,
    "start_time": "2022-05-28T15:36:51.010Z"
   },
   {
    "duration": 9,
    "start_time": "2022-05-28T15:36:51.051Z"
   },
   {
    "duration": 8,
    "start_time": "2022-05-28T15:36:51.062Z"
   },
   {
    "duration": 21,
    "start_time": "2022-05-28T15:36:51.072Z"
   },
   {
    "duration": 13,
    "start_time": "2022-05-28T15:36:51.095Z"
   },
   {
    "duration": 9,
    "start_time": "2022-05-28T15:36:51.109Z"
   },
   {
    "duration": 10,
    "start_time": "2022-05-28T15:36:51.119Z"
   },
   {
    "duration": 5,
    "start_time": "2022-05-28T15:36:51.131Z"
   },
   {
    "duration": 19,
    "start_time": "2022-05-28T15:36:51.137Z"
   },
   {
    "duration": 12,
    "start_time": "2022-05-28T15:36:51.158Z"
   },
   {
    "duration": 5,
    "start_time": "2022-05-28T15:36:51.172Z"
   },
   {
    "duration": 14,
    "start_time": "2022-05-28T15:36:51.179Z"
   },
   {
    "duration": 138,
    "start_time": "2022-05-28T15:36:51.194Z"
   },
   {
    "duration": 23,
    "start_time": "2022-05-28T15:36:51.333Z"
   },
   {
    "duration": 8,
    "start_time": "2022-05-28T15:36:51.358Z"
   },
   {
    "duration": 10,
    "start_time": "2022-05-28T15:36:51.368Z"
   },
   {
    "duration": 8,
    "start_time": "2022-05-28T15:36:51.379Z"
   },
   {
    "duration": 21,
    "start_time": "2022-05-28T15:36:51.389Z"
   },
   {
    "duration": 3,
    "start_time": "2022-05-28T15:36:51.412Z"
   },
   {
    "duration": 8,
    "start_time": "2022-05-28T15:36:51.418Z"
   },
   {
    "duration": 260,
    "start_time": "2022-05-28T15:36:51.452Z"
   },
   {
    "duration": 4,
    "start_time": "2022-05-28T15:36:51.714Z"
   },
   {
    "duration": 9,
    "start_time": "2022-05-28T15:36:51.720Z"
   },
   {
    "duration": 170,
    "start_time": "2022-05-28T15:36:51.730Z"
   },
   {
    "duration": 121,
    "start_time": "2022-05-28T15:36:51.902Z"
   },
   {
    "duration": 144,
    "start_time": "2022-05-28T15:36:52.025Z"
   },
   {
    "duration": 136,
    "start_time": "2022-05-28T15:36:52.171Z"
   },
   {
    "duration": 162,
    "start_time": "2022-05-28T15:36:52.308Z"
   },
   {
    "duration": 318,
    "start_time": "2022-05-28T15:36:52.472Z"
   },
   {
    "duration": 144,
    "start_time": "2022-05-28T15:36:52.791Z"
   },
   {
    "duration": 118,
    "start_time": "2022-05-28T15:36:52.937Z"
   },
   {
    "duration": 250,
    "start_time": "2022-05-28T15:36:53.057Z"
   },
   {
    "duration": 10,
    "start_time": "2022-05-28T15:36:53.309Z"
   },
   {
    "duration": 172,
    "start_time": "2022-05-28T15:36:53.321Z"
   },
   {
    "duration": 151,
    "start_time": "2022-05-28T15:36:53.495Z"
   },
   {
    "duration": 2,
    "start_time": "2022-05-28T15:36:53.652Z"
   },
   {
    "duration": 79,
    "start_time": "2022-05-28T15:36:53.657Z"
   },
   {
    "duration": 92,
    "start_time": "2022-05-28T15:36:53.738Z"
   },
   {
    "duration": 21,
    "start_time": "2022-05-28T15:36:53.832Z"
   },
   {
    "duration": 6,
    "start_time": "2022-05-28T15:36:53.854Z"
   },
   {
    "duration": 11,
    "start_time": "2022-05-28T15:36:53.861Z"
   },
   {
    "duration": 5,
    "start_time": "2022-05-28T15:36:53.873Z"
   },
   {
    "duration": 225,
    "start_time": "2022-05-28T15:36:53.879Z"
   },
   {
    "duration": 5,
    "start_time": "2022-05-28T15:36:54.105Z"
   },
   {
    "duration": 15,
    "start_time": "2022-05-28T15:36:54.112Z"
   },
   {
    "duration": 30,
    "start_time": "2022-05-28T15:36:54.129Z"
   },
   {
    "duration": 20,
    "start_time": "2022-05-28T15:36:54.161Z"
   },
   {
    "duration": 20,
    "start_time": "2022-05-28T15:36:54.183Z"
   },
   {
    "duration": 189,
    "start_time": "2022-05-28T15:36:54.204Z"
   },
   {
    "duration": 143,
    "start_time": "2022-05-28T15:36:54.671Z"
   },
   {
    "duration": 243,
    "start_time": "2022-05-28T15:36:54.816Z"
   },
   {
    "duration": 189,
    "start_time": "2022-05-28T15:36:55.061Z"
   },
   {
    "duration": 17,
    "start_time": "2022-05-28T15:36:55.253Z"
   },
   {
    "duration": 17,
    "start_time": "2022-05-28T15:36:55.272Z"
   },
   {
    "duration": 68,
    "start_time": "2022-05-28T15:36:55.292Z"
   },
   {
    "duration": 12,
    "start_time": "2022-05-28T15:36:55.362Z"
   },
   {
    "duration": 13,
    "start_time": "2022-05-28T15:36:55.376Z"
   },
   {
    "duration": 224,
    "start_time": "2022-05-28T15:36:55.391Z"
   },
   {
    "duration": 7,
    "start_time": "2022-05-28T15:36:55.617Z"
   },
   {
    "duration": 168,
    "start_time": "2022-05-28T15:36:55.625Z"
   },
   {
    "duration": 111,
    "start_time": "2022-05-28T15:36:55.794Z"
   },
   {
    "duration": 139,
    "start_time": "2022-05-28T15:36:55.906Z"
   },
   {
    "duration": 142,
    "start_time": "2022-05-28T15:36:56.052Z"
   },
   {
    "duration": 133,
    "start_time": "2022-05-28T15:36:56.196Z"
   },
   {
    "duration": 12,
    "start_time": "2022-05-28T15:36:56.330Z"
   },
   {
    "duration": 12,
    "start_time": "2022-05-28T15:36:56.343Z"
   },
   {
    "duration": 11,
    "start_time": "2022-05-28T15:36:56.356Z"
   },
   {
    "duration": 162,
    "start_time": "2022-05-28T15:36:56.368Z"
   },
   {
    "duration": 5,
    "start_time": "2022-05-28T15:36:56.532Z"
   },
   {
    "duration": 13,
    "start_time": "2022-05-28T15:36:56.539Z"
   },
   {
    "duration": 11,
    "start_time": "2022-05-28T15:36:56.553Z"
   },
   {
    "duration": 7,
    "start_time": "2022-05-28T15:36:56.566Z"
   },
   {
    "duration": 225,
    "start_time": "2022-05-28T15:36:56.575Z"
   },
   {
    "duration": 30,
    "start_time": "2022-05-28T15:44:54.035Z"
   },
   {
    "duration": 7,
    "start_time": "2022-05-28T15:45:09.875Z"
   },
   {
    "duration": 6,
    "start_time": "2022-05-28T15:47:23.328Z"
   },
   {
    "duration": 9,
    "start_time": "2022-05-28T15:49:01.000Z"
   },
   {
    "duration": 7,
    "start_time": "2022-05-28T15:49:10.519Z"
   },
   {
    "duration": 9,
    "start_time": "2022-05-28T15:49:31.415Z"
   },
   {
    "duration": 6,
    "start_time": "2022-05-28T15:51:16.872Z"
   },
   {
    "duration": 7,
    "start_time": "2022-05-28T15:52:46.600Z"
   },
   {
    "duration": 8,
    "start_time": "2022-05-28T15:53:30.623Z"
   },
   {
    "duration": 33,
    "start_time": "2022-05-28T15:54:25.603Z"
   },
   {
    "duration": 7,
    "start_time": "2022-05-28T15:55:01.107Z"
   },
   {
    "duration": 7,
    "start_time": "2022-05-28T15:55:07.475Z"
   },
   {
    "duration": 95,
    "start_time": "2022-05-28T16:12:29.423Z"
   },
   {
    "duration": 41,
    "start_time": "2022-05-28T16:12:55.934Z"
   },
   {
    "duration": 39,
    "start_time": "2022-05-28T16:15:15.944Z"
   },
   {
    "duration": 6,
    "start_time": "2022-05-28T16:25:43.000Z"
   },
   {
    "duration": 10,
    "start_time": "2022-05-28T16:28:28.695Z"
   },
   {
    "duration": 3,
    "start_time": "2022-05-29T12:41:21.476Z"
   },
   {
    "duration": 55,
    "start_time": "2022-05-29T12:41:52.425Z"
   },
   {
    "duration": 3,
    "start_time": "2022-05-29T12:42:08.785Z"
   },
   {
    "duration": 4,
    "start_time": "2022-05-29T12:49:06.844Z"
   },
   {
    "duration": 2,
    "start_time": "2022-05-29T12:49:34.094Z"
   },
   {
    "duration": 5,
    "start_time": "2022-05-29T12:53:32.937Z"
   },
   {
    "duration": 1146,
    "start_time": "2022-05-29T12:54:29.540Z"
   },
   {
    "duration": 3,
    "start_time": "2022-05-29T12:54:30.688Z"
   },
   {
    "duration": 373,
    "start_time": "2022-05-29T12:54:30.692Z"
   },
   {
    "duration": 22,
    "start_time": "2022-05-29T12:54:31.067Z"
   },
   {
    "duration": 13,
    "start_time": "2022-05-29T12:54:31.090Z"
   },
   {
    "duration": 68,
    "start_time": "2022-05-29T12:54:31.105Z"
   },
   {
    "duration": 18,
    "start_time": "2022-05-29T12:54:31.174Z"
   },
   {
    "duration": 8,
    "start_time": "2022-05-29T12:54:31.194Z"
   },
   {
    "duration": 58,
    "start_time": "2022-05-29T12:54:31.203Z"
   },
   {
    "duration": 11,
    "start_time": "2022-05-29T12:54:31.264Z"
   },
   {
    "duration": 18,
    "start_time": "2022-05-29T12:54:31.277Z"
   },
   {
    "duration": 13,
    "start_time": "2022-05-29T12:54:31.297Z"
   },
   {
    "duration": 12,
    "start_time": "2022-05-29T12:54:31.312Z"
   },
   {
    "duration": 38,
    "start_time": "2022-05-29T12:54:31.326Z"
   },
   {
    "duration": 15,
    "start_time": "2022-05-29T12:54:31.366Z"
   },
   {
    "duration": 7,
    "start_time": "2022-05-29T12:54:31.383Z"
   },
   {
    "duration": 13,
    "start_time": "2022-05-29T12:54:31.392Z"
   },
   {
    "duration": 17,
    "start_time": "2022-05-29T12:54:31.406Z"
   },
   {
    "duration": 34,
    "start_time": "2022-05-29T12:54:31.425Z"
   },
   {
    "duration": 25,
    "start_time": "2022-05-29T12:54:31.460Z"
   },
   {
    "duration": 137,
    "start_time": "2022-05-29T12:54:31.487Z"
   },
   {
    "duration": 17,
    "start_time": "2022-05-29T12:54:31.626Z"
   },
   {
    "duration": 18,
    "start_time": "2022-05-29T12:54:31.644Z"
   },
   {
    "duration": 17,
    "start_time": "2022-05-29T12:54:31.663Z"
   },
   {
    "duration": 16,
    "start_time": "2022-05-29T12:54:31.682Z"
   },
   {
    "duration": 21,
    "start_time": "2022-05-29T12:54:31.700Z"
   },
   {
    "duration": 4,
    "start_time": "2022-05-29T12:54:31.722Z"
   },
   {
    "duration": 18,
    "start_time": "2022-05-29T12:54:31.733Z"
   },
   {
    "duration": 291,
    "start_time": "2022-05-29T12:54:31.753Z"
   },
   {
    "duration": 6,
    "start_time": "2022-05-29T12:54:32.046Z"
   },
   {
    "duration": 13,
    "start_time": "2022-05-29T12:54:32.054Z"
   },
   {
    "duration": 15,
    "start_time": "2022-05-29T12:54:32.069Z"
   },
   {
    "duration": 173,
    "start_time": "2022-05-29T12:54:32.085Z"
   },
   {
    "duration": 127,
    "start_time": "2022-05-29T12:54:32.260Z"
   },
   {
    "duration": 136,
    "start_time": "2022-05-29T12:54:32.388Z"
   },
   {
    "duration": 142,
    "start_time": "2022-05-29T12:54:32.526Z"
   },
   {
    "duration": 178,
    "start_time": "2022-05-29T12:54:32.670Z"
   },
   {
    "duration": 298,
    "start_time": "2022-05-29T12:54:32.850Z"
   },
   {
    "duration": 149,
    "start_time": "2022-05-29T12:54:33.150Z"
   },
   {
    "duration": 120,
    "start_time": "2022-05-29T12:54:33.301Z"
   },
   {
    "duration": 243,
    "start_time": "2022-05-29T12:54:33.422Z"
   },
   {
    "duration": 7,
    "start_time": "2022-05-29T12:54:33.667Z"
   },
   {
    "duration": 148,
    "start_time": "2022-05-29T12:54:33.675Z"
   },
   {
    "duration": 161,
    "start_time": "2022-05-29T12:54:33.835Z"
   },
   {
    "duration": 2,
    "start_time": "2022-05-29T12:54:33.998Z"
   },
   {
    "duration": 91,
    "start_time": "2022-05-29T12:54:34.002Z"
   },
   {
    "duration": 8,
    "start_time": "2022-05-29T12:54:34.094Z"
   },
   {
    "duration": 11,
    "start_time": "2022-05-29T12:54:34.103Z"
   },
   {
    "duration": 17,
    "start_time": "2022-05-29T12:54:34.115Z"
   },
   {
    "duration": 15,
    "start_time": "2022-05-29T12:54:34.133Z"
   },
   {
    "duration": 11,
    "start_time": "2022-05-29T12:54:34.150Z"
   },
   {
    "duration": 84,
    "start_time": "2022-05-29T12:54:34.162Z"
   },
   {
    "duration": 11,
    "start_time": "2022-05-29T12:54:34.248Z"
   },
   {
    "duration": 12,
    "start_time": "2022-05-29T12:54:34.261Z"
   },
   {
    "duration": 26,
    "start_time": "2022-05-29T12:54:34.274Z"
   },
   {
    "duration": 5,
    "start_time": "2022-05-29T12:54:34.302Z"
   },
   {
    "duration": 190,
    "start_time": "2022-05-29T12:54:34.308Z"
   },
   {
    "duration": 7,
    "start_time": "2022-05-29T12:54:34.500Z"
   },
   {
    "duration": 29,
    "start_time": "2022-05-29T12:54:34.508Z"
   },
   {
    "duration": 12,
    "start_time": "2022-05-29T12:54:34.538Z"
   },
   {
    "duration": 8,
    "start_time": "2022-05-29T12:54:34.552Z"
   },
   {
    "duration": 17,
    "start_time": "2022-05-29T12:54:34.561Z"
   },
   {
    "duration": 20,
    "start_time": "2022-05-29T12:54:34.580Z"
   },
   {
    "duration": 17,
    "start_time": "2022-05-29T12:54:34.602Z"
   },
   {
    "duration": 161,
    "start_time": "2022-05-29T12:54:34.620Z"
   },
   {
    "duration": 175,
    "start_time": "2022-05-29T12:54:34.783Z"
   },
   {
    "duration": 218,
    "start_time": "2022-05-29T12:54:34.960Z"
   },
   {
    "duration": 11,
    "start_time": "2022-05-29T12:54:35.180Z"
   },
   {
    "duration": 10,
    "start_time": "2022-05-29T12:54:35.192Z"
   },
   {
    "duration": 58,
    "start_time": "2022-05-29T12:54:35.203Z"
   },
   {
    "duration": 10,
    "start_time": "2022-05-29T12:54:35.262Z"
   },
   {
    "duration": 15,
    "start_time": "2022-05-29T12:54:35.274Z"
   },
   {
    "duration": 208,
    "start_time": "2022-05-29T12:54:35.291Z"
   },
   {
    "duration": 7,
    "start_time": "2022-05-29T12:54:35.501Z"
   },
   {
    "duration": 161,
    "start_time": "2022-05-29T12:54:35.509Z"
   },
   {
    "duration": 114,
    "start_time": "2022-05-29T12:54:35.671Z"
   },
   {
    "duration": 139,
    "start_time": "2022-05-29T12:54:35.787Z"
   },
   {
    "duration": 130,
    "start_time": "2022-05-29T12:54:35.927Z"
   },
   {
    "duration": 118,
    "start_time": "2022-05-29T12:54:36.059Z"
   },
   {
    "duration": 15,
    "start_time": "2022-05-29T12:54:36.179Z"
   },
   {
    "duration": 10,
    "start_time": "2022-05-29T12:54:36.196Z"
   },
   {
    "duration": 15,
    "start_time": "2022-05-29T12:54:36.236Z"
   },
   {
    "duration": 208,
    "start_time": "2022-05-29T12:54:36.253Z"
   },
   {
    "duration": 8,
    "start_time": "2022-05-29T12:54:36.463Z"
   },
   {
    "duration": 8,
    "start_time": "2022-05-29T12:54:36.472Z"
   },
   {
    "duration": 18,
    "start_time": "2022-05-29T12:54:36.483Z"
   },
   {
    "duration": 10,
    "start_time": "2022-05-29T12:54:36.503Z"
   },
   {
    "duration": 23,
    "start_time": "2022-05-29T12:54:36.515Z"
   },
   {
    "duration": 39,
    "start_time": "2022-05-29T12:54:36.540Z"
   },
   {
    "duration": 17,
    "start_time": "2022-05-29T13:00:51.691Z"
   },
   {
    "duration": 3,
    "start_time": "2022-05-29T13:01:51.446Z"
   },
   {
    "duration": 4,
    "start_time": "2022-05-29T13:01:51.459Z"
   },
   {
    "duration": 103,
    "start_time": "2022-05-29T13:01:51.480Z"
   },
   {
    "duration": 20,
    "start_time": "2022-05-29T13:01:51.585Z"
   },
   {
    "duration": 37,
    "start_time": "2022-05-29T13:01:51.607Z"
   },
   {
    "duration": 66,
    "start_time": "2022-05-29T13:01:51.646Z"
   },
   {
    "duration": 31,
    "start_time": "2022-05-29T13:01:51.714Z"
   },
   {
    "duration": 8,
    "start_time": "2022-05-29T13:01:51.747Z"
   },
   {
    "duration": 18,
    "start_time": "2022-05-29T13:01:51.756Z"
   },
   {
    "duration": 10,
    "start_time": "2022-05-29T13:01:51.776Z"
   },
   {
    "duration": 15,
    "start_time": "2022-05-29T13:01:51.788Z"
   },
   {
    "duration": 16,
    "start_time": "2022-05-29T13:01:51.805Z"
   },
   {
    "duration": 27,
    "start_time": "2022-05-29T13:01:51.823Z"
   },
   {
    "duration": 19,
    "start_time": "2022-05-29T13:01:51.852Z"
   },
   {
    "duration": 26,
    "start_time": "2022-05-29T13:01:51.872Z"
   },
   {
    "duration": 25,
    "start_time": "2022-05-29T13:01:51.899Z"
   },
   {
    "duration": 35,
    "start_time": "2022-05-29T13:01:51.926Z"
   },
   {
    "duration": 31,
    "start_time": "2022-05-29T13:01:51.964Z"
   },
   {
    "duration": 20,
    "start_time": "2022-05-29T13:01:51.997Z"
   },
   {
    "duration": 47,
    "start_time": "2022-05-29T13:01:52.018Z"
   },
   {
    "duration": 152,
    "start_time": "2022-05-29T13:01:52.067Z"
   },
   {
    "duration": 30,
    "start_time": "2022-05-29T13:01:52.220Z"
   },
   {
    "duration": 34,
    "start_time": "2022-05-29T13:01:52.251Z"
   },
   {
    "duration": 28,
    "start_time": "2022-05-29T13:01:52.287Z"
   },
   {
    "duration": 33,
    "start_time": "2022-05-29T13:01:52.318Z"
   },
   {
    "duration": 38,
    "start_time": "2022-05-29T13:01:52.353Z"
   },
   {
    "duration": 15,
    "start_time": "2022-05-29T13:01:52.392Z"
   },
   {
    "duration": 48,
    "start_time": "2022-05-29T13:01:52.409Z"
   },
   {
    "duration": 344,
    "start_time": "2022-05-29T13:01:52.459Z"
   },
   {
    "duration": 4,
    "start_time": "2022-05-29T13:01:52.806Z"
   },
   {
    "duration": 26,
    "start_time": "2022-05-29T13:01:52.811Z"
   },
   {
    "duration": 34,
    "start_time": "2022-05-29T13:01:52.839Z"
   },
   {
    "duration": 276,
    "start_time": "2022-05-29T13:01:52.875Z"
   },
   {
    "duration": 119,
    "start_time": "2022-05-29T13:01:53.153Z"
   },
   {
    "duration": 142,
    "start_time": "2022-05-29T13:01:53.274Z"
   },
   {
    "duration": 149,
    "start_time": "2022-05-29T13:01:53.418Z"
   },
   {
    "duration": 175,
    "start_time": "2022-05-29T13:01:53.569Z"
   },
   {
    "duration": 265,
    "start_time": "2022-05-29T13:01:53.746Z"
   },
   {
    "duration": 159,
    "start_time": "2022-05-29T13:01:54.013Z"
   },
   {
    "duration": 115,
    "start_time": "2022-05-29T13:01:54.175Z"
   },
   {
    "duration": 269,
    "start_time": "2022-05-29T13:01:54.292Z"
   },
   {
    "duration": 10,
    "start_time": "2022-05-29T13:01:54.563Z"
   },
   {
    "duration": 178,
    "start_time": "2022-05-29T13:01:54.575Z"
   },
   {
    "duration": 261,
    "start_time": "2022-05-29T13:01:54.755Z"
   },
   {
    "duration": 2,
    "start_time": "2022-05-29T13:01:55.018Z"
   },
   {
    "duration": 78,
    "start_time": "2022-05-29T13:01:55.029Z"
   },
   {
    "duration": 23,
    "start_time": "2022-05-29T13:01:55.109Z"
   },
   {
    "duration": 20,
    "start_time": "2022-05-29T13:01:55.134Z"
   },
   {
    "duration": 9,
    "start_time": "2022-05-29T13:01:55.155Z"
   },
   {
    "duration": 7,
    "start_time": "2022-05-29T13:01:55.165Z"
   },
   {
    "duration": 8,
    "start_time": "2022-05-29T13:01:55.174Z"
   },
   {
    "duration": 105,
    "start_time": "2022-05-29T13:01:55.183Z"
   },
   {
    "duration": 14,
    "start_time": "2022-05-29T13:01:55.290Z"
   },
   {
    "duration": 4,
    "start_time": "2022-05-29T13:01:55.306Z"
   },
   {
    "duration": 30,
    "start_time": "2022-05-29T13:01:55.312Z"
   },
   {
    "duration": 5,
    "start_time": "2022-05-29T13:01:55.346Z"
   },
   {
    "duration": 205,
    "start_time": "2022-05-29T13:01:55.353Z"
   },
   {
    "duration": 5,
    "start_time": "2022-05-29T13:01:55.560Z"
   },
   {
    "duration": 17,
    "start_time": "2022-05-29T13:01:55.567Z"
   },
   {
    "duration": 11,
    "start_time": "2022-05-29T13:01:55.585Z"
   },
   {
    "duration": 8,
    "start_time": "2022-05-29T13:01:55.597Z"
   },
   {
    "duration": 9,
    "start_time": "2022-05-29T13:01:55.607Z"
   },
   {
    "duration": 10,
    "start_time": "2022-05-29T13:01:55.627Z"
   },
   {
    "duration": 22,
    "start_time": "2022-05-29T13:01:55.640Z"
   },
   {
    "duration": 178,
    "start_time": "2022-05-29T13:01:55.664Z"
   },
   {
    "duration": 171,
    "start_time": "2022-05-29T13:01:55.844Z"
   },
   {
    "duration": 177,
    "start_time": "2022-05-29T13:01:56.017Z"
   },
   {
    "duration": 15,
    "start_time": "2022-05-29T13:01:56.196Z"
   },
   {
    "duration": 45,
    "start_time": "2022-05-29T13:01:56.214Z"
   },
   {
    "duration": 61,
    "start_time": "2022-05-29T13:01:56.261Z"
   },
   {
    "duration": 22,
    "start_time": "2022-05-29T13:01:56.324Z"
   },
   {
    "duration": 21,
    "start_time": "2022-05-29T13:01:56.348Z"
   },
   {
    "duration": 223,
    "start_time": "2022-05-29T13:01:56.373Z"
   },
   {
    "duration": 9,
    "start_time": "2022-05-29T13:01:56.602Z"
   },
   {
    "duration": 174,
    "start_time": "2022-05-29T13:01:56.612Z"
   },
   {
    "duration": 126,
    "start_time": "2022-05-29T13:01:56.788Z"
   },
   {
    "duration": 143,
    "start_time": "2022-05-29T13:01:56.916Z"
   },
   {
    "duration": 126,
    "start_time": "2022-05-29T13:01:57.061Z"
   },
   {
    "duration": 152,
    "start_time": "2022-05-29T13:01:57.188Z"
   },
   {
    "duration": 14,
    "start_time": "2022-05-29T13:01:57.342Z"
   },
   {
    "duration": 11,
    "start_time": "2022-05-29T13:01:57.358Z"
   },
   {
    "duration": 12,
    "start_time": "2022-05-29T13:01:57.370Z"
   },
   {
    "duration": 192,
    "start_time": "2022-05-29T13:01:57.384Z"
   },
   {
    "duration": 7,
    "start_time": "2022-05-29T13:01:57.578Z"
   },
   {
    "duration": 5,
    "start_time": "2022-05-29T13:01:57.587Z"
   },
   {
    "duration": 16,
    "start_time": "2022-05-29T13:01:57.594Z"
   },
   {
    "duration": 26,
    "start_time": "2022-05-29T13:01:57.611Z"
   },
   {
    "duration": 12,
    "start_time": "2022-05-29T13:01:57.638Z"
   },
   {
    "duration": 21,
    "start_time": "2022-05-29T13:01:57.652Z"
   },
   {
    "duration": 18,
    "start_time": "2022-05-29T13:05:40.881Z"
   },
   {
    "duration": 15,
    "start_time": "2022-05-29T13:06:26.447Z"
   },
   {
    "duration": 89,
    "start_time": "2022-05-29T13:08:53.091Z"
   },
   {
    "duration": 7,
    "start_time": "2022-05-29T13:08:59.871Z"
   },
   {
    "duration": 12,
    "start_time": "2022-05-29T13:13:51.877Z"
   },
   {
    "duration": 665,
    "start_time": "2022-05-29T13:17:45.577Z"
   },
   {
    "duration": 4,
    "start_time": "2022-05-29T13:17:46.245Z"
   },
   {
    "duration": 133,
    "start_time": "2022-05-29T13:17:46.250Z"
   },
   {
    "duration": 27,
    "start_time": "2022-05-29T13:17:46.386Z"
   },
   {
    "duration": 38,
    "start_time": "2022-05-29T13:17:46.415Z"
   },
   {
    "duration": 79,
    "start_time": "2022-05-29T13:17:46.454Z"
   },
   {
    "duration": 27,
    "start_time": "2022-05-29T13:17:46.535Z"
   },
   {
    "duration": 9,
    "start_time": "2022-05-29T13:17:46.564Z"
   },
   {
    "duration": 20,
    "start_time": "2022-05-29T13:17:46.575Z"
   },
   {
    "duration": 39,
    "start_time": "2022-05-29T13:17:46.598Z"
   },
   {
    "duration": 10,
    "start_time": "2022-05-29T13:17:46.640Z"
   },
   {
    "duration": 13,
    "start_time": "2022-05-29T13:17:46.652Z"
   },
   {
    "duration": 9,
    "start_time": "2022-05-29T13:17:46.667Z"
   },
   {
    "duration": 10,
    "start_time": "2022-05-29T13:17:46.678Z"
   },
   {
    "duration": 10,
    "start_time": "2022-05-29T13:17:46.689Z"
   },
   {
    "duration": 6,
    "start_time": "2022-05-29T13:17:46.700Z"
   },
   {
    "duration": 8,
    "start_time": "2022-05-29T13:17:46.707Z"
   },
   {
    "duration": 17,
    "start_time": "2022-05-29T13:17:46.727Z"
   },
   {
    "duration": 6,
    "start_time": "2022-05-29T13:17:46.746Z"
   },
   {
    "duration": 16,
    "start_time": "2022-05-29T13:17:46.753Z"
   },
   {
    "duration": 152,
    "start_time": "2022-05-29T13:17:46.771Z"
   },
   {
    "duration": 19,
    "start_time": "2022-05-29T13:17:46.927Z"
   },
   {
    "duration": 7,
    "start_time": "2022-05-29T13:17:46.947Z"
   },
   {
    "duration": 8,
    "start_time": "2022-05-29T13:17:46.955Z"
   },
   {
    "duration": 11,
    "start_time": "2022-05-29T13:17:46.964Z"
   },
   {
    "duration": 22,
    "start_time": "2022-05-29T13:17:46.976Z"
   },
   {
    "duration": 38,
    "start_time": "2022-05-29T13:17:47.000Z"
   },
   {
    "duration": 9,
    "start_time": "2022-05-29T13:17:47.042Z"
   },
   {
    "duration": 337,
    "start_time": "2022-05-29T13:17:47.053Z"
   },
   {
    "duration": 5,
    "start_time": "2022-05-29T13:17:47.392Z"
   },
   {
    "duration": 12,
    "start_time": "2022-05-29T13:17:47.398Z"
   },
   {
    "duration": 13,
    "start_time": "2022-05-29T13:17:47.412Z"
   },
   {
    "duration": 181,
    "start_time": "2022-05-29T13:17:47.426Z"
   },
   {
    "duration": 137,
    "start_time": "2022-05-29T13:17:47.609Z"
   },
   {
    "duration": 135,
    "start_time": "2022-05-29T13:17:47.748Z"
   },
   {
    "duration": 130,
    "start_time": "2022-05-29T13:17:47.885Z"
   },
   {
    "duration": 165,
    "start_time": "2022-05-29T13:17:48.017Z"
   },
   {
    "duration": 330,
    "start_time": "2022-05-29T13:17:48.184Z"
   },
   {
    "duration": 144,
    "start_time": "2022-05-29T13:17:48.516Z"
   },
   {
    "duration": 123,
    "start_time": "2022-05-29T13:17:48.661Z"
   },
   {
    "duration": 245,
    "start_time": "2022-05-29T13:17:48.786Z"
   },
   {
    "duration": 15,
    "start_time": "2022-05-29T13:17:49.032Z"
   },
   {
    "duration": 184,
    "start_time": "2022-05-29T13:17:49.049Z"
   },
   {
    "duration": 155,
    "start_time": "2022-05-29T13:17:49.238Z"
   },
   {
    "duration": 3,
    "start_time": "2022-05-29T13:17:49.394Z"
   },
   {
    "duration": 89,
    "start_time": "2022-05-29T13:17:49.399Z"
   },
   {
    "duration": 8,
    "start_time": "2022-05-29T13:17:49.489Z"
   },
   {
    "duration": 15,
    "start_time": "2022-05-29T13:17:49.499Z"
   },
   {
    "duration": 18,
    "start_time": "2022-05-29T13:17:49.515Z"
   },
   {
    "duration": 15,
    "start_time": "2022-05-29T13:17:49.534Z"
   },
   {
    "duration": 14,
    "start_time": "2022-05-29T13:17:49.550Z"
   },
   {
    "duration": 103,
    "start_time": "2022-05-29T13:17:49.565Z"
   },
   {
    "duration": 12,
    "start_time": "2022-05-29T13:17:49.670Z"
   },
   {
    "duration": 5,
    "start_time": "2022-05-29T13:17:49.684Z"
   },
   {
    "duration": 13,
    "start_time": "2022-05-29T13:17:49.690Z"
   },
   {
    "duration": 35,
    "start_time": "2022-05-29T13:17:49.704Z"
   },
   {
    "duration": 211,
    "start_time": "2022-05-29T13:17:49.741Z"
   },
   {
    "duration": 5,
    "start_time": "2022-05-29T13:17:49.954Z"
   },
   {
    "duration": 19,
    "start_time": "2022-05-29T13:17:49.961Z"
   },
   {
    "duration": 11,
    "start_time": "2022-05-29T13:17:49.982Z"
   },
   {
    "duration": 2,
    "start_time": "2022-05-29T13:17:49.996Z"
   },
   {
    "duration": 8,
    "start_time": "2022-05-29T13:17:50.000Z"
   },
   {
    "duration": 30,
    "start_time": "2022-05-29T13:17:50.010Z"
   },
   {
    "duration": 16,
    "start_time": "2022-05-29T13:17:50.042Z"
   },
   {
    "duration": 159,
    "start_time": "2022-05-29T13:17:50.059Z"
   },
   {
    "duration": 484,
    "start_time": "2022-05-29T13:17:50.220Z"
   },
   {
    "duration": 253,
    "start_time": "2022-05-29T13:17:50.705Z"
   },
   {
    "duration": 320,
    "start_time": "2022-05-29T13:17:50.960Z"
   },
   {
    "duration": 301,
    "start_time": "2022-05-29T13:17:51.282Z"
   },
   {
    "duration": 36,
    "start_time": "2022-05-29T13:17:51.584Z"
   },
   {
    "duration": 17,
    "start_time": "2022-05-29T13:17:51.622Z"
   },
   {
    "duration": 12,
    "start_time": "2022-05-29T13:17:51.641Z"
   },
   {
    "duration": 191,
    "start_time": "2022-05-29T13:17:51.655Z"
   },
   {
    "duration": 7,
    "start_time": "2022-05-29T13:17:51.848Z"
   },
   {
    "duration": 185,
    "start_time": "2022-05-29T13:17:51.856Z"
   },
   {
    "duration": 127,
    "start_time": "2022-05-29T13:17:52.043Z"
   },
   {
    "duration": 170,
    "start_time": "2022-05-29T13:17:52.172Z"
   },
   {
    "duration": 140,
    "start_time": "2022-05-29T13:17:52.344Z"
   },
   {
    "duration": 167,
    "start_time": "2022-05-29T13:17:52.487Z"
   },
   {
    "duration": 15,
    "start_time": "2022-05-29T13:17:52.656Z"
   },
   {
    "duration": 7,
    "start_time": "2022-05-29T13:17:52.673Z"
   },
   {
    "duration": 17,
    "start_time": "2022-05-29T13:17:52.681Z"
   },
   {
    "duration": 204,
    "start_time": "2022-05-29T13:17:52.699Z"
   },
   {
    "duration": 5,
    "start_time": "2022-05-29T13:17:52.905Z"
   },
   {
    "duration": 8,
    "start_time": "2022-05-29T13:17:52.914Z"
   },
   {
    "duration": 29,
    "start_time": "2022-05-29T13:17:52.923Z"
   },
   {
    "duration": 6,
    "start_time": "2022-05-29T13:17:52.953Z"
   },
   {
    "duration": 3,
    "start_time": "2022-05-29T13:17:52.961Z"
   },
   {
    "duration": 23,
    "start_time": "2022-05-29T13:17:52.966Z"
   },
   {
    "duration": 653,
    "start_time": "2022-05-29T13:29:32.174Z"
   },
   {
    "duration": 3,
    "start_time": "2022-05-29T13:29:32.829Z"
   },
   {
    "duration": 115,
    "start_time": "2022-05-29T13:29:32.834Z"
   },
   {
    "duration": 22,
    "start_time": "2022-05-29T13:29:32.951Z"
   },
   {
    "duration": 14,
    "start_time": "2022-05-29T13:29:32.975Z"
   },
   {
    "duration": 89,
    "start_time": "2022-05-29T13:29:32.991Z"
   },
   {
    "duration": 20,
    "start_time": "2022-05-29T13:29:33.082Z"
   },
   {
    "duration": 8,
    "start_time": "2022-05-29T13:29:33.103Z"
   },
   {
    "duration": 20,
    "start_time": "2022-05-29T13:29:33.127Z"
   },
   {
    "duration": 13,
    "start_time": "2022-05-29T13:29:33.149Z"
   },
   {
    "duration": 9,
    "start_time": "2022-05-29T13:29:33.164Z"
   },
   {
    "duration": 8,
    "start_time": "2022-05-29T13:29:33.175Z"
   },
   {
    "duration": 8,
    "start_time": "2022-05-29T13:29:33.184Z"
   },
   {
    "duration": 11,
    "start_time": "2022-05-29T13:29:33.193Z"
   },
   {
    "duration": 32,
    "start_time": "2022-05-29T13:29:33.206Z"
   },
   {
    "duration": 11,
    "start_time": "2022-05-29T13:29:33.240Z"
   },
   {
    "duration": 8,
    "start_time": "2022-05-29T13:29:33.252Z"
   },
   {
    "duration": 13,
    "start_time": "2022-05-29T13:29:33.262Z"
   },
   {
    "duration": 7,
    "start_time": "2022-05-29T13:29:33.277Z"
   },
   {
    "duration": 12,
    "start_time": "2022-05-29T13:29:33.287Z"
   },
   {
    "duration": 174,
    "start_time": "2022-05-29T13:29:33.301Z"
   },
   {
    "duration": 12,
    "start_time": "2022-05-29T13:29:33.476Z"
   },
   {
    "duration": 8,
    "start_time": "2022-05-29T13:29:33.490Z"
   },
   {
    "duration": 10,
    "start_time": "2022-05-29T13:29:33.499Z"
   },
   {
    "duration": 20,
    "start_time": "2022-05-29T13:29:33.510Z"
   },
   {
    "duration": 30,
    "start_time": "2022-05-29T13:29:33.532Z"
   },
   {
    "duration": 5,
    "start_time": "2022-05-29T13:29:33.565Z"
   },
   {
    "duration": 7,
    "start_time": "2022-05-29T13:29:33.579Z"
   },
   {
    "duration": 330,
    "start_time": "2022-05-29T13:29:33.588Z"
   },
   {
    "duration": 19,
    "start_time": "2022-05-29T13:29:33.920Z"
   },
   {
    "duration": 11,
    "start_time": "2022-05-29T13:29:33.947Z"
   },
   {
    "duration": 13,
    "start_time": "2022-05-29T13:29:33.959Z"
   },
   {
    "duration": 196,
    "start_time": "2022-05-29T13:29:33.974Z"
   },
   {
    "duration": 124,
    "start_time": "2022-05-29T13:29:34.172Z"
   },
   {
    "duration": 163,
    "start_time": "2022-05-29T13:29:34.298Z"
   },
   {
    "duration": 188,
    "start_time": "2022-05-29T13:29:34.463Z"
   },
   {
    "duration": 205,
    "start_time": "2022-05-29T13:29:34.652Z"
   },
   {
    "duration": 329,
    "start_time": "2022-05-29T13:29:34.858Z"
   },
   {
    "duration": 161,
    "start_time": "2022-05-29T13:29:35.189Z"
   },
   {
    "duration": 133,
    "start_time": "2022-05-29T13:29:35.352Z"
   },
   {
    "duration": 261,
    "start_time": "2022-05-29T13:29:35.487Z"
   },
   {
    "duration": 11,
    "start_time": "2022-05-29T13:29:35.750Z"
   },
   {
    "duration": 191,
    "start_time": "2022-05-29T13:29:35.763Z"
   },
   {
    "duration": 157,
    "start_time": "2022-05-29T13:29:35.955Z"
   },
   {
    "duration": 2,
    "start_time": "2022-05-29T13:29:36.114Z"
   },
   {
    "duration": 127,
    "start_time": "2022-05-29T13:29:36.117Z"
   },
   {
    "duration": 12,
    "start_time": "2022-05-29T13:29:36.246Z"
   },
   {
    "duration": 7,
    "start_time": "2022-05-29T13:29:36.260Z"
   },
   {
    "duration": 17,
    "start_time": "2022-05-29T13:29:36.270Z"
   },
   {
    "duration": 9,
    "start_time": "2022-05-29T13:29:36.289Z"
   },
   {
    "duration": 16,
    "start_time": "2022-05-29T13:29:36.300Z"
   },
   {
    "duration": 127,
    "start_time": "2022-05-29T13:29:36.317Z"
   },
   {
    "duration": 20,
    "start_time": "2022-05-29T13:29:36.446Z"
   },
   {
    "duration": 6,
    "start_time": "2022-05-29T13:29:36.468Z"
   },
   {
    "duration": 26,
    "start_time": "2022-05-29T13:29:36.475Z"
   },
   {
    "duration": 6,
    "start_time": "2022-05-29T13:29:36.502Z"
   },
   {
    "duration": 255,
    "start_time": "2022-05-29T13:29:36.510Z"
   },
   {
    "duration": 5,
    "start_time": "2022-05-29T13:29:36.767Z"
   },
   {
    "duration": 15,
    "start_time": "2022-05-29T13:29:36.773Z"
   },
   {
    "duration": 12,
    "start_time": "2022-05-29T13:29:36.790Z"
   },
   {
    "duration": 18,
    "start_time": "2022-05-29T13:29:36.808Z"
   },
   {
    "duration": 12,
    "start_time": "2022-05-29T13:29:36.834Z"
   },
   {
    "duration": 11,
    "start_time": "2022-05-29T13:29:36.847Z"
   },
   {
    "duration": 17,
    "start_time": "2022-05-29T13:29:36.859Z"
   },
   {
    "duration": 166,
    "start_time": "2022-05-29T13:29:36.878Z"
   },
   {
    "duration": 162,
    "start_time": "2022-05-29T13:29:37.046Z"
   },
   {
    "duration": 259,
    "start_time": "2022-05-29T13:29:37.209Z"
   },
   {
    "duration": 13,
    "start_time": "2022-05-29T13:29:37.470Z"
   },
   {
    "duration": 15,
    "start_time": "2022-05-29T13:29:37.485Z"
   },
   {
    "duration": 74,
    "start_time": "2022-05-29T13:29:37.501Z"
   },
   {
    "duration": 10,
    "start_time": "2022-05-29T13:29:37.577Z"
   },
   {
    "duration": 15,
    "start_time": "2022-05-29T13:29:37.589Z"
   },
   {
    "duration": 199,
    "start_time": "2022-05-29T13:29:37.605Z"
   },
   {
    "duration": 7,
    "start_time": "2022-05-29T13:29:37.805Z"
   },
   {
    "duration": 164,
    "start_time": "2022-05-29T13:29:37.813Z"
   },
   {
    "duration": 110,
    "start_time": "2022-05-29T13:29:37.979Z"
   },
   {
    "duration": 154,
    "start_time": "2022-05-29T13:29:38.091Z"
   },
   {
    "duration": 125,
    "start_time": "2022-05-29T13:29:38.247Z"
   },
   {
    "duration": 138,
    "start_time": "2022-05-29T13:29:38.373Z"
   },
   {
    "duration": 30,
    "start_time": "2022-05-29T13:29:38.513Z"
   },
   {
    "duration": 6,
    "start_time": "2022-05-29T13:29:38.545Z"
   },
   {
    "duration": 15,
    "start_time": "2022-05-29T13:29:38.553Z"
   },
   {
    "duration": 182,
    "start_time": "2022-05-29T13:29:38.570Z"
   },
   {
    "duration": 6,
    "start_time": "2022-05-29T13:29:38.755Z"
   },
   {
    "duration": 7,
    "start_time": "2022-05-29T13:29:38.763Z"
   },
   {
    "duration": 13,
    "start_time": "2022-05-29T13:29:38.771Z"
   },
   {
    "duration": 6,
    "start_time": "2022-05-29T13:29:38.786Z"
   },
   {
    "duration": 6,
    "start_time": "2022-05-29T13:29:38.793Z"
   },
   {
    "duration": 42,
    "start_time": "2022-05-29T13:29:38.801Z"
   }
  ],
  "kernelspec": {
   "display_name": "Python 3 (ipykernel)",
   "language": "python",
   "name": "python3"
  },
  "language_info": {
   "codemirror_mode": {
    "name": "ipython",
    "version": 3
   },
   "file_extension": ".py",
   "mimetype": "text/x-python",
   "name": "python",
   "nbconvert_exporter": "python",
   "pygments_lexer": "ipython3",
   "version": "3.9.7"
  },
  "toc": {
   "base_numbering": 1,
   "nav_menu": {},
   "number_sections": true,
   "sideBar": true,
   "skip_h1_title": true,
   "title_cell": "Содержание",
   "title_sidebar": "Contents",
   "toc_cell": true,
   "toc_position": {
    "height": "calc(100% - 180px)",
    "left": "10px",
    "top": "150px",
    "width": "284.297px"
   },
   "toc_section_display": true,
   "toc_window_display": false
  }
 },
 "nbformat": 4,
 "nbformat_minor": 4
}
