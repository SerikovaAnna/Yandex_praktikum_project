{
 "cells": [
  {
   "cell_type": "markdown",
   "metadata": {},
   "source": [
    "# Рынок заведений общественного питания Москвы"
   ]
  },
  {
   "cell_type": "markdown",
   "metadata": {},
   "source": [
    "## Описание проекта  \n",
    "\n",
    "Исследование рынка общественного питания на основе открытых данных, подготовка презентации для инвесторов."
   ]
  },
  {
   "cell_type": "markdown",
   "metadata": {},
   "source": [
    "## Цели и задачи исследования\n",
    "\n",
    "* Изучть текущую ситуацию на рынке  \n",
    "* Дать рекомендации для нового заведения о типе объекта, количестве посадочных мест, а также районе расположения  \n",
    "* Дать комментарии по возможностям развития сети\n",
    "* Исследовать вопрос - будет ли успешным и популярным на долгое время кафе, в котором гостей обслуживают роботы-официанты."
   ]
  },
  {
   "cell_type": "markdown",
   "metadata": {},
   "source": [
    "## Открытие данных"
   ]
  },
  {
   "cell_type": "code",
   "execution_count": 1,
   "metadata": {},
   "outputs": [],
   "source": [
    "import pandas as pd\n",
    "import seaborn as sns\n",
    "import numpy as np\n",
    "import matplotlib.pyplot as plt\n",
    "import plotly.express as px"
   ]
  },
  {
   "cell_type": "code",
   "execution_count": 2,
   "metadata": {},
   "outputs": [],
   "source": [
    "sns.set_style(\"whitegrid\")"
   ]
  },
  {
   "cell_type": "code",
   "execution_count": 3,
   "metadata": {},
   "outputs": [],
   "source": [
    "data = pd.read_csv('/datasets/rest_data.csv')"
   ]
  },
  {
   "cell_type": "code",
   "execution_count": 4,
   "metadata": {},
   "outputs": [],
   "source": [
    "from io import BytesIO\n",
    "import requests\n",
    "spreadsheet_id = '1OzWlXokOSrigeUJ4pNB57B9gB1bzcIexmFKPJ1_7RTI'\n",
    "file_name = 'https://docs.google.com/spreadsheets/d/{}/export?format=csv'.format(spreadsheet_id)\n",
    "r = requests.get(file_name)\n",
    "outside_data = pd.read_csv(BytesIO(r.content))"
   ]
  },
  {
   "cell_type": "code",
   "execution_count": 5,
   "metadata": {},
   "outputs": [
    {
     "name": "stdout",
     "output_type": "stream",
     "text": [
      "<class 'pandas.core.frame.DataFrame'>\n",
      "RangeIndex: 15366 entries, 0 to 15365\n",
      "Data columns (total 6 columns):\n",
      " #   Column       Non-Null Count  Dtype \n",
      "---  ------       --------------  ----- \n",
      " 0   id           15366 non-null  int64 \n",
      " 1   object_name  15366 non-null  object\n",
      " 2   chain        15366 non-null  object\n",
      " 3   object_type  15366 non-null  object\n",
      " 4   address      15366 non-null  object\n",
      " 5   number       15366 non-null  int64 \n",
      "dtypes: int64(2), object(4)\n",
      "memory usage: 720.4+ KB\n"
     ]
    }
   ],
   "source": [
    "data.info()"
   ]
  },
  {
   "cell_type": "code",
   "execution_count": 6,
   "metadata": {},
   "outputs": [
    {
     "data": {
      "text/html": [
       "<div>\n",
       "<style scoped>\n",
       "    .dataframe tbody tr th:only-of-type {\n",
       "        vertical-align: middle;\n",
       "    }\n",
       "\n",
       "    .dataframe tbody tr th {\n",
       "        vertical-align: top;\n",
       "    }\n",
       "\n",
       "    .dataframe thead th {\n",
       "        text-align: right;\n",
       "    }\n",
       "</style>\n",
       "<table border=\"1\" class=\"dataframe\">\n",
       "  <thead>\n",
       "    <tr style=\"text-align: right;\">\n",
       "      <th></th>\n",
       "      <th>id</th>\n",
       "      <th>object_name</th>\n",
       "      <th>chain</th>\n",
       "      <th>object_type</th>\n",
       "      <th>address</th>\n",
       "      <th>number</th>\n",
       "    </tr>\n",
       "  </thead>\n",
       "  <tbody>\n",
       "    <tr>\n",
       "      <th>count</th>\n",
       "      <td>15366.000000</td>\n",
       "      <td>15366</td>\n",
       "      <td>15366</td>\n",
       "      <td>15366</td>\n",
       "      <td>15366</td>\n",
       "      <td>15366.000000</td>\n",
       "    </tr>\n",
       "    <tr>\n",
       "      <th>unique</th>\n",
       "      <td>NaN</td>\n",
       "      <td>10393</td>\n",
       "      <td>2</td>\n",
       "      <td>9</td>\n",
       "      <td>9108</td>\n",
       "      <td>NaN</td>\n",
       "    </tr>\n",
       "    <tr>\n",
       "      <th>top</th>\n",
       "      <td>NaN</td>\n",
       "      <td>Столовая</td>\n",
       "      <td>нет</td>\n",
       "      <td>кафе</td>\n",
       "      <td>город Москва, Ходынский бульвар, дом 4</td>\n",
       "      <td>NaN</td>\n",
       "    </tr>\n",
       "    <tr>\n",
       "      <th>freq</th>\n",
       "      <td>NaN</td>\n",
       "      <td>267</td>\n",
       "      <td>12398</td>\n",
       "      <td>6099</td>\n",
       "      <td>95</td>\n",
       "      <td>NaN</td>\n",
       "    </tr>\n",
       "    <tr>\n",
       "      <th>mean</th>\n",
       "      <td>119720.066901</td>\n",
       "      <td>NaN</td>\n",
       "      <td>NaN</td>\n",
       "      <td>NaN</td>\n",
       "      <td>NaN</td>\n",
       "      <td>59.547182</td>\n",
       "    </tr>\n",
       "    <tr>\n",
       "      <th>std</th>\n",
       "      <td>73036.130732</td>\n",
       "      <td>NaN</td>\n",
       "      <td>NaN</td>\n",
       "      <td>NaN</td>\n",
       "      <td>NaN</td>\n",
       "      <td>74.736833</td>\n",
       "    </tr>\n",
       "    <tr>\n",
       "      <th>min</th>\n",
       "      <td>838.000000</td>\n",
       "      <td>NaN</td>\n",
       "      <td>NaN</td>\n",
       "      <td>NaN</td>\n",
       "      <td>NaN</td>\n",
       "      <td>0.000000</td>\n",
       "    </tr>\n",
       "    <tr>\n",
       "      <th>25%</th>\n",
       "      <td>28524.000000</td>\n",
       "      <td>NaN</td>\n",
       "      <td>NaN</td>\n",
       "      <td>NaN</td>\n",
       "      <td>NaN</td>\n",
       "      <td>12.000000</td>\n",
       "    </tr>\n",
       "    <tr>\n",
       "      <th>50%</th>\n",
       "      <td>144974.500000</td>\n",
       "      <td>NaN</td>\n",
       "      <td>NaN</td>\n",
       "      <td>NaN</td>\n",
       "      <td>NaN</td>\n",
       "      <td>40.000000</td>\n",
       "    </tr>\n",
       "    <tr>\n",
       "      <th>75%</th>\n",
       "      <td>184262.250000</td>\n",
       "      <td>NaN</td>\n",
       "      <td>NaN</td>\n",
       "      <td>NaN</td>\n",
       "      <td>NaN</td>\n",
       "      <td>80.000000</td>\n",
       "    </tr>\n",
       "    <tr>\n",
       "      <th>max</th>\n",
       "      <td>223439.000000</td>\n",
       "      <td>NaN</td>\n",
       "      <td>NaN</td>\n",
       "      <td>NaN</td>\n",
       "      <td>NaN</td>\n",
       "      <td>1700.000000</td>\n",
       "    </tr>\n",
       "  </tbody>\n",
       "</table>\n",
       "</div>"
      ],
      "text/plain": [
       "                   id object_name  chain object_type  \\\n",
       "count    15366.000000       15366  15366       15366   \n",
       "unique            NaN       10393      2           9   \n",
       "top               NaN    Столовая    нет        кафе   \n",
       "freq              NaN         267  12398        6099   \n",
       "mean    119720.066901         NaN    NaN         NaN   \n",
       "std      73036.130732         NaN    NaN         NaN   \n",
       "min        838.000000         NaN    NaN         NaN   \n",
       "25%      28524.000000         NaN    NaN         NaN   \n",
       "50%     144974.500000         NaN    NaN         NaN   \n",
       "75%     184262.250000         NaN    NaN         NaN   \n",
       "max     223439.000000         NaN    NaN         NaN   \n",
       "\n",
       "                                       address        number  \n",
       "count                                    15366  15366.000000  \n",
       "unique                                    9108           NaN  \n",
       "top     город Москва, Ходынский бульвар, дом 4           NaN  \n",
       "freq                                        95           NaN  \n",
       "mean                                       NaN     59.547182  \n",
       "std                                        NaN     74.736833  \n",
       "min                                        NaN      0.000000  \n",
       "25%                                        NaN     12.000000  \n",
       "50%                                        NaN     40.000000  \n",
       "75%                                        NaN     80.000000  \n",
       "max                                        NaN   1700.000000  "
      ]
     },
     "execution_count": 6,
     "metadata": {},
     "output_type": "execute_result"
    }
   ],
   "source": [
    "data.describe(include = 'all')"
   ]
  },
  {
   "cell_type": "code",
   "execution_count": 7,
   "metadata": {},
   "outputs": [
    {
     "data": {
      "text/html": [
       "<div>\n",
       "<style scoped>\n",
       "    .dataframe tbody tr th:only-of-type {\n",
       "        vertical-align: middle;\n",
       "    }\n",
       "\n",
       "    .dataframe tbody tr th {\n",
       "        vertical-align: top;\n",
       "    }\n",
       "\n",
       "    .dataframe thead th {\n",
       "        text-align: right;\n",
       "    }\n",
       "</style>\n",
       "<table border=\"1\" class=\"dataframe\">\n",
       "  <thead>\n",
       "    <tr style=\"text-align: right;\">\n",
       "      <th></th>\n",
       "      <th>id</th>\n",
       "      <th>object_name</th>\n",
       "      <th>chain</th>\n",
       "      <th>object_type</th>\n",
       "      <th>address</th>\n",
       "      <th>number</th>\n",
       "    </tr>\n",
       "  </thead>\n",
       "  <tbody>\n",
       "    <tr>\n",
       "      <th>0</th>\n",
       "      <td>151635</td>\n",
       "      <td>СМЕТАНА</td>\n",
       "      <td>нет</td>\n",
       "      <td>кафе</td>\n",
       "      <td>город Москва, улица Егора Абакумова, дом 9</td>\n",
       "      <td>48</td>\n",
       "    </tr>\n",
       "    <tr>\n",
       "      <th>1</th>\n",
       "      <td>77874</td>\n",
       "      <td>Родник</td>\n",
       "      <td>нет</td>\n",
       "      <td>кафе</td>\n",
       "      <td>город Москва, улица Талалихина, дом 2/1, корпус 1</td>\n",
       "      <td>35</td>\n",
       "    </tr>\n",
       "    <tr>\n",
       "      <th>2</th>\n",
       "      <td>24309</td>\n",
       "      <td>Кафе «Академия»</td>\n",
       "      <td>нет</td>\n",
       "      <td>кафе</td>\n",
       "      <td>город Москва, Абельмановская улица, дом 6</td>\n",
       "      <td>95</td>\n",
       "    </tr>\n",
       "    <tr>\n",
       "      <th>3</th>\n",
       "      <td>21894</td>\n",
       "      <td>ПИЦЦЕТОРИЯ</td>\n",
       "      <td>да</td>\n",
       "      <td>кафе</td>\n",
       "      <td>город Москва, Абрамцевская улица, дом 1</td>\n",
       "      <td>40</td>\n",
       "    </tr>\n",
       "    <tr>\n",
       "      <th>4</th>\n",
       "      <td>119365</td>\n",
       "      <td>Кафе «Вишневая метель»</td>\n",
       "      <td>нет</td>\n",
       "      <td>кафе</td>\n",
       "      <td>город Москва, Абрамцевская улица, дом 9, корпус 1</td>\n",
       "      <td>50</td>\n",
       "    </tr>\n",
       "    <tr>\n",
       "      <th>5</th>\n",
       "      <td>27429</td>\n",
       "      <td>СТОЛ. ПРИ ГОУ СОШ № 1051</td>\n",
       "      <td>нет</td>\n",
       "      <td>столовая</td>\n",
       "      <td>город Москва, Абрамцевская улица, дом 15, корп...</td>\n",
       "      <td>240</td>\n",
       "    </tr>\n",
       "    <tr>\n",
       "      <th>6</th>\n",
       "      <td>148815</td>\n",
       "      <td>Брусника</td>\n",
       "      <td>да</td>\n",
       "      <td>кафе</td>\n",
       "      <td>город Москва, переулок Сивцев Вражек, дом 6/2</td>\n",
       "      <td>10</td>\n",
       "    </tr>\n",
       "    <tr>\n",
       "      <th>7</th>\n",
       "      <td>20957</td>\n",
       "      <td>Буфет МТУСИ</td>\n",
       "      <td>нет</td>\n",
       "      <td>столовая</td>\n",
       "      <td>город Москва, Авиамоторная улица, дом 8, строе...</td>\n",
       "      <td>90</td>\n",
       "    </tr>\n",
       "    <tr>\n",
       "      <th>8</th>\n",
       "      <td>20958</td>\n",
       "      <td>КПФ СЕМЬЯ-1</td>\n",
       "      <td>нет</td>\n",
       "      <td>столовая</td>\n",
       "      <td>город Москва, Авиамоторная улица, дом 8, строе...</td>\n",
       "      <td>150</td>\n",
       "    </tr>\n",
       "    <tr>\n",
       "      <th>9</th>\n",
       "      <td>28858</td>\n",
       "      <td>Столовая МТУСИ</td>\n",
       "      <td>нет</td>\n",
       "      <td>столовая</td>\n",
       "      <td>город Москва, Авиамоторная улица, дом 8, строе...</td>\n",
       "      <td>120</td>\n",
       "    </tr>\n",
       "  </tbody>\n",
       "</table>\n",
       "</div>"
      ],
      "text/plain": [
       "       id               object_name chain object_type  \\\n",
       "0  151635                   СМЕТАНА   нет        кафе   \n",
       "1   77874                    Родник   нет        кафе   \n",
       "2   24309           Кафе «Академия»   нет        кафе   \n",
       "3   21894                ПИЦЦЕТОРИЯ    да        кафе   \n",
       "4  119365    Кафе «Вишневая метель»   нет        кафе   \n",
       "5   27429  СТОЛ. ПРИ ГОУ СОШ № 1051   нет    столовая   \n",
       "6  148815                  Брусника    да        кафе   \n",
       "7   20957               Буфет МТУСИ   нет    столовая   \n",
       "8   20958               КПФ СЕМЬЯ-1   нет    столовая   \n",
       "9   28858            Столовая МТУСИ   нет    столовая   \n",
       "\n",
       "                                             address  number  \n",
       "0         город Москва, улица Егора Абакумова, дом 9      48  \n",
       "1  город Москва, улица Талалихина, дом 2/1, корпус 1      35  \n",
       "2          город Москва, Абельмановская улица, дом 6      95  \n",
       "3            город Москва, Абрамцевская улица, дом 1      40  \n",
       "4  город Москва, Абрамцевская улица, дом 9, корпус 1      50  \n",
       "5  город Москва, Абрамцевская улица, дом 15, корп...     240  \n",
       "6      город Москва, переулок Сивцев Вражек, дом 6/2      10  \n",
       "7  город Москва, Авиамоторная улица, дом 8, строе...      90  \n",
       "8  город Москва, Авиамоторная улица, дом 8, строе...     150  \n",
       "9  город Москва, Авиамоторная улица, дом 8, строе...     120  "
      ]
     },
     "execution_count": 7,
     "metadata": {},
     "output_type": "execute_result"
    }
   ],
   "source": [
    "data.head(10)"
   ]
  },
  {
   "cell_type": "markdown",
   "metadata": {},
   "source": [
    "## Предобработка данных\n",
    "### Обработка пропущенных значений"
   ]
  },
  {
   "cell_type": "code",
   "execution_count": 8,
   "metadata": {},
   "outputs": [],
   "source": [
    "for column in data.columns:\n",
    "    print(column, data[column].isna().mean())"
   ]
  },
  {
   "cell_type": "markdown",
   "metadata": {},
   "source": [
    "Пропусков в данных не обнаружено"
   ]
  },
  {
   "cell_type": "markdown",
   "metadata": {},
   "source": [
    "### Преобразование данных"
   ]
  },
  {
   "cell_type": "code",
   "execution_count": 9,
   "metadata": {},
   "outputs": [],
   "source": [
    "data['id'] = data['id'].astype('str')"
   ]
  },
  {
   "cell_type": "markdown",
   "metadata": {},
   "source": [
    "В столбце 'id' значения заменены на строковые"
   ]
  },
  {
   "cell_type": "markdown",
   "metadata": {},
   "source": [
    "### Обработка дубликатов"
   ]
  },
  {
   "cell_type": "code",
   "execution_count": 10,
   "metadata": {},
   "outputs": [
    {
     "data": {
      "text/plain": [
       "0"
      ]
     },
     "execution_count": 10,
     "metadata": {},
     "output_type": "execute_result"
    }
   ],
   "source": [
    "data.duplicated().sum()"
   ]
  },
  {
   "cell_type": "markdown",
   "metadata": {},
   "source": [
    "Проверим на уникальность значения в столбце 'id'"
   ]
  },
  {
   "cell_type": "code",
   "execution_count": 11,
   "metadata": {},
   "outputs": [
    {
     "data": {
      "text/plain": [
       "15366"
      ]
     },
     "execution_count": 11,
     "metadata": {},
     "output_type": "execute_result"
    }
   ],
   "source": [
    "len(data['id'].unique())"
   ]
  },
  {
   "cell_type": "markdown",
   "metadata": {},
   "source": [
    "Посмотрим неявные дубликаты в столбце 'object_name'"
   ]
  },
  {
   "cell_type": "code",
   "execution_count": 12,
   "metadata": {},
   "outputs": [
    {
     "data": {
      "text/plain": [
       "Столовая                  267\n",
       "Кафе                      236\n",
       "Шаурма                    234\n",
       "KFC                       155\n",
       "Шоколадница               142\n",
       "                         ... \n",
       "ШКОЛА 507 КДП               1\n",
       "Кухня на районе             1\n",
       "Ресторан «Балзи Росси»      1\n",
       "КП МГУ буфет 91             1\n",
       "Хлебная Затея               1\n",
       "Name: object_name, Length: 10393, dtype: int64"
      ]
     },
     "execution_count": 12,
     "metadata": {},
     "output_type": "execute_result"
    }
   ],
   "source": [
    "data['object_name'].value_counts()"
   ]
  },
  {
   "cell_type": "code",
   "execution_count": 13,
   "metadata": {},
   "outputs": [
    {
     "data": {
      "text/plain": [
       "array(['Старбакс Starbucks', 'Кофейня «Старбакс»', 'Старбакс',\n",
       "       'Кафе «Сабвей» Старбакс', 'кафе «Старбакс»',\n",
       "       'Кафе «Кофейня Старбакс»', 'Кофейня «СТАРБАКС КОФЕ»',\n",
       "       'Старбакс Кофе', 'Кафе «Старбакс»', 'Starbucks, СТАРБАКС КОФЕ',\n",
       "       'Starbucks Старбакс'], dtype=object)"
      ]
     },
     "execution_count": 13,
     "metadata": {},
     "output_type": "execute_result"
    }
   ],
   "source": [
    "data[data['object_name'].str.contains('Старбакс', case=False)]['object_name'].unique()"
   ]
  },
  {
   "cell_type": "code",
   "execution_count": 14,
   "metadata": {},
   "outputs": [
    {
     "data": {
      "text/plain": [
       "array(['Старбакс Starbucks', 'Starbucks', 'Кафе «Starbucks»',\n",
       "       'КАФЕ Starbucks', 'Starbucks кофе', 'Starbucks, СТАРБАКС КОФЕ',\n",
       "       'Starbucks Старбакс', 'STARBUCKS COFFEE', 'Кофемания Starbucks'],\n",
       "      dtype=object)"
      ]
     },
     "execution_count": 14,
     "metadata": {},
     "output_type": "execute_result"
    }
   ],
   "source": [
    "data[data['object_name'].str.contains('Starbucks', case=False)]['object_name'].unique()"
   ]
  },
  {
   "cell_type": "markdown",
   "metadata": {},
   "source": [
    "На примере кофеин Starbucks видим разные варианты написания наименования - полностью заглавные буквы, кавычки, англоязычное написание, слова \"кафе\" и \"кофейня\" и т.д.\n",
    "Для того чтобы снизить кол-во вариантов, переведём все наименование в верхний регистр."
   ]
  },
  {
   "cell_type": "code",
   "execution_count": 15,
   "metadata": {},
   "outputs": [
    {
     "data": {
      "text/plain": [
       "10393"
      ]
     },
     "execution_count": 15,
     "metadata": {},
     "output_type": "execute_result"
    }
   ],
   "source": [
    "len(data['object_name'].unique())"
   ]
  },
  {
   "cell_type": "code",
   "execution_count": 16,
   "metadata": {},
   "outputs": [
    {
     "data": {
      "text/plain": [
       "9924"
      ]
     },
     "execution_count": 16,
     "metadata": {},
     "output_type": "execute_result"
    }
   ],
   "source": [
    "data['object_name'] = data['object_name'].str.upper() \n",
    "len(data['object_name'].unique())"
   ]
  },
  {
   "cell_type": "markdown",
   "metadata": {},
   "source": [
    "Приведём наименование самых известных сетевых заведений к единому названию"
   ]
  },
  {
   "cell_type": "code",
   "execution_count": 17,
   "metadata": {},
   "outputs": [],
   "source": [
    "def same_name (wrong, correct):\n",
    "    for wrong in wrong:\n",
    "        data['object_name'] = data['object_name'].replace(wrong, correct)"
   ]
  },
  {
   "cell_type": "code",
   "execution_count": 18,
   "metadata": {},
   "outputs": [],
   "source": [
    "mac = data[data['object_name'].str.contains('Макдоналдс', case=False)]['object_name'].unique()\n",
    "mac_cor = 'МАКДОНАЛДС'\n",
    "same_name(mac, mac_cor)"
   ]
  },
  {
   "cell_type": "code",
   "execution_count": 19,
   "metadata": {},
   "outputs": [],
   "source": [
    "star_ru = data[data['object_name'].str.contains('Старбакс', case=False)]['object_name'].unique()\n",
    "star_eng = data[data['object_name'].str.contains('Старбакс', case=False)]['object_name'].unique()\n",
    "star_cor = 'STARBUCKS'\n",
    "same_name(star_ru, star_cor)\n",
    "same_name(star_eng, star_cor)"
   ]
  },
  {
   "cell_type": "code",
   "execution_count": 20,
   "metadata": {},
   "outputs": [],
   "source": [
    "brat = data[data['object_name'].str.contains('Братьев Караваев', case=False)]['object_name'].unique()\n",
    "bratya = data[data['object_name'].str.contains('Братья Караваев', case=False)]['object_name'].unique()\n",
    "brat_cor = 'КУЛИНАРНАЯ ЛАВКА БРАТЬЕВ КАРАВАЕВЫХ'\n",
    "same_name(brat, brat_cor)\n",
    "same_name(bratya, brat_cor)"
   ]
  },
  {
   "cell_type": "code",
   "execution_count": 21,
   "metadata": {},
   "outputs": [],
   "source": [
    "bking = data[data['object_name'].str.contains('Бургер кинг', case=False)]['object_name'].unique()\n",
    "bking_cor = 'БУРГЕР КИНГ'\n",
    "same_name(bking, bking_cor)"
   ]
  },
  {
   "cell_type": "code",
   "execution_count": 22,
   "metadata": {},
   "outputs": [],
   "source": [
    "kfc = data[data['object_name'].str.contains('KFC', case=False)]['object_name'].unique()\n",
    "kfc_cor = 'KFC'\n",
    "same_name(kfc, kfc_cor)"
   ]
  },
  {
   "cell_type": "code",
   "execution_count": 23,
   "metadata": {},
   "outputs": [],
   "source": [
    "ander = data[data['object_name'].str.contains('Андерсон', case=False)]['object_name'].unique()\n",
    "ander_cor = 'АНДЕРСОН'\n",
    "same_name(ander, ander_cor)"
   ]
  },
  {
   "cell_type": "code",
   "execution_count": 24,
   "metadata": {},
   "outputs": [],
   "source": [
    "mint = data[data['object_name'].str.contains('Мята lounge', case=False)]['object_name'].unique()\n",
    "mint_cor = 'МЯТА LOUNGE'\n",
    "same_name(mint, mint_cor)"
   ]
  },
  {
   "cell_type": "code",
   "execution_count": 25,
   "metadata": {},
   "outputs": [],
   "source": [
    "kart = data[data['object_name'].str.contains('Крошка', case=False)]['object_name'].unique()\n",
    "kart_cor = 'КРОШКА КАРТОШКА'\n",
    "same_name(kart, kart_cor)"
   ]
  },
  {
   "cell_type": "code",
   "execution_count": 26,
   "metadata": {},
   "outputs": [],
   "source": [
    "terem = data[data['object_name'].str.contains('Теремок', case=False)]['object_name'].unique()\n",
    "terem_cor = 'ТЕРЕМОК'\n",
    "same_name(terem, terem_cor)"
   ]
  },
  {
   "cell_type": "code",
   "execution_count": 27,
   "metadata": {},
   "outputs": [],
   "source": [
    "milti = data[data['object_name'].str.contains('Милти', case=False)]['object_name'].unique()\n",
    "milti_cor = 'МИЛТИ'\n",
    "same_name(milti, milti_cor)"
   ]
  },
  {
   "cell_type": "code",
   "execution_count": 28,
   "metadata": {},
   "outputs": [],
   "source": [
    "il = data[data['object_name'].str.contains('Иль Патио', case=False)]['object_name'].unique()\n",
    "il_cor = 'ИЛЬ ПАТИО'\n",
    "same_name(il, il_cor)"
   ]
  },
  {
   "cell_type": "code",
   "execution_count": 29,
   "metadata": {},
   "outputs": [],
   "source": [
    "domi = data[data['object_name'].str.contains('Домино', case=False)]['object_name'].unique()\n",
    "domi_cor = 'ДОМИНОС ПИЦЦА'\n",
    "same_name(domi, domi_cor)"
   ]
  },
  {
   "cell_type": "code",
   "execution_count": 30,
   "metadata": {},
   "outputs": [],
   "source": [
    "papa = data[data['object_name'].str.contains('Джонс', case=False)]['object_name'].unique()\n",
    "papa_cor = 'ПАПА ДЖОНС'\n",
    "same_name(papa, papa_cor)"
   ]
  },
  {
   "cell_type": "markdown",
   "metadata": {},
   "source": [
    "Посмотрим на кол-во дубликатов по сочетанию стобцов `object_name` и `address`"
   ]
  },
  {
   "cell_type": "markdown",
   "metadata": {},
   "source": [
    "В исходных данных в столбце 'object_name' большое кол-во неявных дубликатов, связанных с отсутствием формы заполнения наименования заведений. Часть значений была приведена к единому виду. Тем не менее бОльшая часть данных требует проверки и корректировки."
   ]
  },
  {
   "cell_type": "markdown",
   "metadata": {},
   "source": [
    "## Анализ данных"
   ]
  },
  {
   "cell_type": "markdown",
   "metadata": {},
   "source": [
    "### Cоотношение видов объектов общественного питания по количеству."
   ]
  },
  {
   "cell_type": "code",
   "execution_count": 33,
   "metadata": {},
   "outputs": [
    {
     "data": {
      "text/plain": [
       "кафе                                 6099\n",
       "столовая                             2587\n",
       "ресторан                             2285\n",
       "предприятие быстрого обслуживания    1923\n",
       "бар                                   856\n",
       "буфет                                 585\n",
       "кафетерий                             398\n",
       "закусочная                            360\n",
       "магазин (отдел кулинарии)             273\n",
       "Name: object_type, dtype: int64"
      ]
     },
     "execution_count": 33,
     "metadata": {},
     "output_type": "execute_result"
    }
   ],
   "source": [
    "data['object_type'].value_counts()"
   ]
  },
  {
   "cell_type": "code",
   "execution_count": 34,
   "metadata": {},
   "outputs": [
    {
     "data": {
      "image/png": "[encoded data removed]",
      "text/plain": [
       "<Figure size 576x576 with 1 Axes>"
      ]
     },
     "metadata": {},
     "output_type": "display_data"
    }
   ],
   "source": [
    "(\n",
    "    data.pivot_table(index = 'object_type', values = 'id', aggfunc = 'count')\n",
    "        .plot(kind = 'pie', subplots=True, legend = False, figsize = (8, 8), ylabel = \"\", autopct='%.1f')\n",
    ")\n",
    "plt.title('Соотношение видов объектов общественного питания по количеству');"
   ]
  },
  {
   "cell_type": "markdown",
   "metadata": {},
   "source": [
    "Лидеры по кол-ву заведений: кафе, столовые, рестораны и ПБО.  \n",
    "### Cоотношение сетевых и несетевых заведений по количеству."
   ]
  },
  {
   "cell_type": "code",
   "execution_count": 35,
   "metadata": {},
   "outputs": [
    {
     "data": {
      "text/plain": [
       "нет    12398\n",
       "да      2968\n",
       "Name: chain, dtype: int64"
      ]
     },
     "execution_count": 35,
     "metadata": {},
     "output_type": "execute_result"
    }
   ],
   "source": [
    "data['chain'].value_counts()"
   ]
  },
  {
   "cell_type": "code",
   "execution_count": 36,
   "metadata": {},
   "outputs": [
    {
     "data": {
      "image/png": "[encoded data removed]",
      "text/plain": [
       "<Figure size 576x576 with 1 Axes>"
      ]
     },
     "metadata": {},
     "output_type": "display_data"
    }
   ],
   "source": [
    "(\n",
    "    data.pivot_table(index = 'chain', values = 'id', aggfunc = 'count')\n",
    "    .plot(kind = 'pie', subplots=True, legend = False, figsize = (8, 8), ylabel = \"\", autopct='%.1f')\n",
    ")\n",
    "plt.title('Соотношение сетевых и несетевых заведений');"
   ]
  },
  {
   "cell_type": "markdown",
   "metadata": {},
   "source": [
    "Количество несетевых объектов более чем в 4 раза превышает кол-во сетевых заведений.  \n",
    "Посмотрим, для каких видов заведений характерно сетевое распространение."
   ]
  },
  {
   "cell_type": "code",
   "execution_count": 37,
   "metadata": {},
   "outputs": [
    {
     "data": {
      "text/html": [
       "<div>\n",
       "<style scoped>\n",
       "    .dataframe tbody tr th:only-of-type {\n",
       "        vertical-align: middle;\n",
       "    }\n",
       "\n",
       "    .dataframe tbody tr th {\n",
       "        vertical-align: top;\n",
       "    }\n",
       "\n",
       "    .dataframe thead th {\n",
       "        text-align: right;\n",
       "    }\n",
       "</style>\n",
       "<table border=\"1\" class=\"dataframe\">\n",
       "  <thead>\n",
       "    <tr style=\"text-align: right;\">\n",
       "      <th>chain</th>\n",
       "      <th>да</th>\n",
       "      <th>нет</th>\n",
       "    </tr>\n",
       "  </thead>\n",
       "  <tbody>\n",
       "    <tr>\n",
       "      <th>предприятие быстрого обслуживания</th>\n",
       "      <td>0.411336</td>\n",
       "      <td>0.588664</td>\n",
       "    </tr>\n",
       "    <tr>\n",
       "      <th>магазин (отдел кулинарии)</th>\n",
       "      <td>0.285714</td>\n",
       "      <td>0.714286</td>\n",
       "    </tr>\n",
       "    <tr>\n",
       "      <th>ресторан</th>\n",
       "      <td>0.238074</td>\n",
       "      <td>0.761926</td>\n",
       "    </tr>\n",
       "    <tr>\n",
       "      <th>кафе</th>\n",
       "      <td>0.228890</td>\n",
       "      <td>0.771110</td>\n",
       "    </tr>\n",
       "    <tr>\n",
       "      <th>закусочная</th>\n",
       "      <td>0.155556</td>\n",
       "      <td>0.844444</td>\n",
       "    </tr>\n",
       "    <tr>\n",
       "      <th>кафетерий</th>\n",
       "      <td>0.130653</td>\n",
       "      <td>0.869347</td>\n",
       "    </tr>\n",
       "    <tr>\n",
       "      <th>бар</th>\n",
       "      <td>0.043224</td>\n",
       "      <td>0.956776</td>\n",
       "    </tr>\n",
       "    <tr>\n",
       "      <th>буфет</th>\n",
       "      <td>0.018803</td>\n",
       "      <td>0.981197</td>\n",
       "    </tr>\n",
       "    <tr>\n",
       "      <th>столовая</th>\n",
       "      <td>0.001160</td>\n",
       "      <td>0.998840</td>\n",
       "    </tr>\n",
       "  </tbody>\n",
       "</table>\n",
       "</div>"
      ],
      "text/plain": [
       "chain                                    да       нет\n",
       "предприятие быстрого обслуживания  0.411336  0.588664\n",
       "магазин (отдел кулинарии)          0.285714  0.714286\n",
       "ресторан                           0.238074  0.761926\n",
       "кафе                               0.228890  0.771110\n",
       "закусочная                         0.155556  0.844444\n",
       "кафетерий                          0.130653  0.869347\n",
       "бар                                0.043224  0.956776\n",
       "буфет                              0.018803  0.981197\n",
       "столовая                           0.001160  0.998840"
      ]
     },
     "execution_count": 37,
     "metadata": {},
     "output_type": "execute_result"
    }
   ],
   "source": [
    "(\n",
    "data.pivot_table(index = 'object_type', columns = 'chain', values = 'id', aggfunc = 'count')\n",
    "    .div(data['object_type'].value_counts(), axis=0)\n",
    "    .sort_values(by='да', ascending = False)\n",
    ")"
   ]
  },
  {
   "cell_type": "markdown",
   "metadata": {},
   "source": [
    "Чуть больше 40% предприятий быстрого обслуживания являются сетевыми заведениями.  \n",
    "На втором месте - магазины с кулинарией - почти 29%.  \n",
    "Далее - рестораны и кафе. Каждое четвёртое заведение - является сетевым. \n",
    "### Характеристика сетей: количество заведений и посадочных мест\n",
    "Рассмотри, что характерно для сетевых заведений: много заведений с небольшим числом посадочных мест или мало заведений с большим количеством посадочных мест."
   ]
  },
  {
   "cell_type": "code",
   "execution_count": 38,
   "metadata": {},
   "outputs": [
    {
     "data": {
      "text/html": [
       "<div>\n",
       "<style scoped>\n",
       "    .dataframe tbody tr th:only-of-type {\n",
       "        vertical-align: middle;\n",
       "    }\n",
       "\n",
       "    .dataframe tbody tr th {\n",
       "        vertical-align: top;\n",
       "    }\n",
       "\n",
       "    .dataframe thead th {\n",
       "        text-align: right;\n",
       "    }\n",
       "</style>\n",
       "<table border=\"1\" class=\"dataframe\">\n",
       "  <thead>\n",
       "    <tr style=\"text-align: right;\">\n",
       "      <th></th>\n",
       "      <th>id</th>\n",
       "      <th>number</th>\n",
       "    </tr>\n",
       "  </thead>\n",
       "  <tbody>\n",
       "    <tr>\n",
       "      <th>count</th>\n",
       "      <td>213.000000</td>\n",
       "      <td>213.000000</td>\n",
       "    </tr>\n",
       "    <tr>\n",
       "      <th>mean</th>\n",
       "      <td>12.638498</td>\n",
       "      <td>58.490610</td>\n",
       "    </tr>\n",
       "    <tr>\n",
       "      <th>std</th>\n",
       "      <td>27.469294</td>\n",
       "      <td>48.938688</td>\n",
       "    </tr>\n",
       "    <tr>\n",
       "      <th>min</th>\n",
       "      <td>2.000000</td>\n",
       "      <td>0.000000</td>\n",
       "    </tr>\n",
       "    <tr>\n",
       "      <th>25%</th>\n",
       "      <td>2.000000</td>\n",
       "      <td>20.000000</td>\n",
       "    </tr>\n",
       "    <tr>\n",
       "      <th>50%</th>\n",
       "      <td>4.000000</td>\n",
       "      <td>45.000000</td>\n",
       "    </tr>\n",
       "    <tr>\n",
       "      <th>75%</th>\n",
       "      <td>7.000000</td>\n",
       "      <td>90.000000</td>\n",
       "    </tr>\n",
       "    <tr>\n",
       "      <th>max</th>\n",
       "      <td>188.000000</td>\n",
       "      <td>245.000000</td>\n",
       "    </tr>\n",
       "  </tbody>\n",
       "</table>\n",
       "</div>"
      ],
      "text/plain": [
       "               id      number\n",
       "count  213.000000  213.000000\n",
       "mean    12.638498   58.490610\n",
       "std     27.469294   48.938688\n",
       "min      2.000000    0.000000\n",
       "25%      2.000000   20.000000\n",
       "50%      4.000000   45.000000\n",
       "75%      7.000000   90.000000\n",
       "max    188.000000  245.000000"
      ]
     },
     "execution_count": 38,
     "metadata": {},
     "output_type": "execute_result"
    }
   ],
   "source": [
    "chain_objects = data.loc[data['chain'] == 'да'].pivot_table(index = 'object_name', values = ['id','number'], aggfunc = {'number':'median', 'id':'count'})\n",
    "chain_objects = chain_objects.loc[chain_objects['id'] > 1] # исключаем \"сети\", в которых только одно заведение\n",
    "chain_objects.describe()"
   ]
  },
  {
   "cell_type": "code",
   "execution_count": 39,
   "metadata": {},
   "outputs": [
    {
     "data": {
      "image/png": "[encoded data removed]",
      "text/plain": [
       "<Figure size 576x576 with 3 Axes>"
      ]
     },
     "metadata": {},
     "output_type": "display_data"
    }
   ],
   "source": [
    "sns.jointplot(x='number', y='id', data=chain_objects, kind='reg', height=8);"
   ]
  },
  {
   "cell_type": "markdown",
   "metadata": {},
   "source": [
    "Для сетей характерно небольшое кол-во заведений: у 75% - их от 2 до 8.  \n",
    "И небольшое количество посадочных мест - от 20 до 90.  \n",
    "Рассмотрим количество посадочных мест для каждого вида объекта общественного питания."
   ]
  },
  {
   "cell_type": "code",
   "execution_count": 40,
   "metadata": {},
   "outputs": [
    {
     "data": {
      "text/plain": [
       "Text(0, 0.5, '')"
      ]
     },
     "execution_count": 40,
     "metadata": {},
     "output_type": "execute_result"
    },
    {
     "data": {
      "image/png": "[encoded data removed]",
      "text/plain": [
       "<Figure size 576x432 with 1 Axes>"
      ]
     },
     "metadata": {},
     "output_type": "display_data"
    }
   ],
   "source": [
    "object_number = data.pivot_table(index = 'object_type', values = 'number', aggfunc = 'median').sort_values(by = 'number', ascending = False).reset_index()\n",
    "plt.figure(figsize = (8, 6))\n",
    "#sns.barplot(x = 'number', y = 'object_type', data = object_number)\n",
    "plt.barh(object_number['object_type'], object_number['number'])\n",
    "for x,y in zip(object_number['number'], object_number['object_type']):\n",
    "    label = \"{:.0f}\".format(x)\n",
    "    plt.annotate(label,\n",
    "                 (x,y),\n",
    "                 textcoords = \"offset points\",\n",
    "                 xytext = (22, 0),\n",
    "                 ha = 'right',\n",
    "                fontsize = 12)\n",
    "plt.title('Тип заведений по медианному кол-ву мест')\n",
    "plt.xlabel('Количество посадочных мест')\n",
    "plt.ylabel(\"\")"
   ]
  },
  {
   "cell_type": "code",
   "execution_count": 41,
   "metadata": {
    "scrolled": true
   },
   "outputs": [
    {
     "data": {
      "image/png": "[encoded data removed]",
      "text/plain": [
       "<Figure size 1080x504 with 1 Axes>"
      ]
     },
     "metadata": {},
     "output_type": "display_data"
    }
   ],
   "source": [
    "plt.figure(figsize = (15, 7))\n",
    "plt.xlim(0, 400) \n",
    "sns.boxplot(x = 'number', y = 'object_type', data = data)\n",
    "plt.title('Количество посадочных мест по типу заведений')\n",
    "plt.xlabel('Количество посадочных мест')\n",
    "plt.ylabel(\"\");"
   ]
  },
  {
   "cell_type": "markdown",
   "metadata": {},
   "source": [
    "Наибольшее количество посадочных мест у столовых.\n",
    "### Анализ расположения заведений: улицы\n",
    "Выделим в отдельный столбец информацию об улице из столбца 'address'"
   ]
  },
  {
   "cell_type": "code",
   "execution_count": 42,
   "metadata": {},
   "outputs": [],
   "source": [
    "street_types = ['улица', 'бульвар', 'проспект', 'переулок', 'шоссе', \n",
    "'проезд', 'набережная', 'площадь', 'аллея', 'линия', 'квартал', 'мост', 'тупик', 'просека']\n",
    "def street(address):\n",
    "    for address_part in address.split(', '):\n",
    "        for street_type in street_types:\n",
    "            if address_part.lower().find(street_type)!= -1:\n",
    "                return address_part\n",
    "\n",
    "data['street'] = data['address'].apply(street)"
   ]
  },
  {
   "cell_type": "markdown",
   "metadata": {},
   "source": [
    "Рассмотрим график топ-10 улиц по количеству объектов общественного питания."
   ]
  },
  {
   "cell_type": "code",
   "execution_count": 43,
   "metadata": {},
   "outputs": [
    {
     "data": {
      "image/png": "[encoded data removed]",
      "text/plain": [
       "<Figure size 576x432 with 1 Axes>"
      ]
     },
     "metadata": {},
     "output_type": "display_data"
    }
   ],
   "source": [
    "street_group = data.pivot_table(index = 'street', values = 'id', aggfunc = 'count').reset_index()\n",
    "top10 = street_group.sort_values(by = 'id', ascending = False).head(10)\n",
    "plt.figure(figsize = (8, 6))\n",
    "sns.barplot(x = 'id', y = 'street', data = top10)\n",
    "plt.title('Топ-10 улиц с наибольшим количеством заведений')\n",
    "plt.xlabel('Количество заведений')\n",
    "plt.ylabel(\"\");"
   ]
  },
  {
   "cell_type": "markdown",
   "metadata": {},
   "source": [
    "Используя внешнюю информацию, найдём в каких районах Москвы находятся эти улицы."
   ]
  },
  {
   "cell_type": "code",
   "execution_count": 44,
   "metadata": {},
   "outputs": [
    {
     "data": {
      "text/plain": [
       "street\n",
       "Варшавское шоссе          [Район Чертаново Центральное, Район Чертаново Северное, Район Чертаново Южное, Донской район, Район Нагатино-Садовники, Нагорный район, Район Северное Бутово, Район Южное Бутово]\n",
       "Каширское шоссе                                                                        [Район Москворечье-Сабурово, Район Нагатино-Садовники, Район Орехово-Борисово Южное, Район Орехово-Борисово Северное]\n",
       "Кировоградская улица                                                                                                          [Район Чертаново Центральное, Район Чертаново Северное, Район Чертаново Южное]\n",
       "Кутузовский проспект                                                                                                                                              [Район Дорогомилово, Район Фили-Давыдково]\n",
       "Ленинградский проспект                                                                                                                       [Район Аэропорт, Район Беговой, Хорошевский район, Район Сокол]\n",
       "Ленинский проспект                       [Район Проспект Вернадского, Район Тропарево-Никулино, Донской район, Район Гагаринский, Ломоносовский район, Обручевский район, Район Теплый Стан, Район Якиманка]\n",
       "Пресненская набережная                                                                                                                                                                   [Пресненский район]\n",
       "Профсоюзная улица                                                                                [Академический район, Район Черемушки, Район Ясенево, Район Коньково, Обручевский район, Район Теплый Стан]\n",
       "проспект Вернадского                                                                           [Район Проспект Вернадского, Район Раменки, Район Тропарево-Никулино, Район Гагаринский, Ломоносовский район]\n",
       "проспект Мира                                                              [Алексеевский район, Ярославский Район, Район Марьина роща, Останкинский район, Район Ростокино, Район Свиблово, Мещанский район]\n",
       "Name: area, dtype: object"
      ]
     },
     "execution_count": 44,
     "metadata": {},
     "output_type": "execute_result"
    }
   ],
   "source": [
    "pd.set_option('display.max_colwidth', None)\n",
    "top10_with_area = top10.merge(outside_data, left_on='street', right_on='streetname')\n",
    "top10_with_area.groupby('street')['area'].unique()"
   ]
  },
  {
   "cell_type": "markdown",
   "metadata": {},
   "source": [
    "Смотрим количество улиц с одним объектом общественного питания."
   ]
  },
  {
   "cell_type": "code",
   "execution_count": 45,
   "metadata": {},
   "outputs": [
    {
     "data": {
      "text/plain": [
       "551"
      ]
     },
     "execution_count": 45,
     "metadata": {},
     "output_type": "execute_result"
    }
   ],
   "source": [
    "only_one = street_group[street_group['id'] == 1]\n",
    "len(only_one)"
   ]
  },
  {
   "cell_type": "markdown",
   "metadata": {},
   "source": [
    "Используя внешнюю информацию, рассмотрим в каких районах Москвы находятся эти улицы."
   ]
  },
  {
   "cell_type": "code",
   "execution_count": 46,
   "metadata": {},
   "outputs": [
    {
     "data": {
      "text/plain": [
       "array(['Район Аэропорт', 'Басманный район', 'Красносельский район',\n",
       "       'Район Свиблово', 'Рязанский район', 'Район Якиманка',\n",
       "       'Район Хамовники', 'Район Соколиная Гора', 'Даниловский район',\n",
       "       'Мещанский район', 'Таганский район', 'Район Лефортово',\n",
       "       'Район Печатники', 'Район Замоскворечье', 'Хорошевский район',\n",
       "       'Район Арбат', 'Алексеевский район', 'Район Текстильщики',\n",
       "       'Район Ростокино', 'Район Раменки', 'Район Хорошево-Мневники',\n",
       "       'Район Покровское-Стрешнево', 'Район Марьина роща',\n",
       "       'Район Сокольники', 'Район Богородское', 'Нижегородский район',\n",
       "       'Тверской район', 'Лосиноостровский район', 'Район Преображенское',\n",
       "       'Район Ново-Переделкино', 'Район Измайлово',\n",
       "       'Район Северное Измайлово', 'Район Восточное Измайлово',\n",
       "       'Район Беговой', 'Донской район', 'Район Гольяново',\n",
       "       'Войковский Район', 'Савеловский район', 'Район Филевский Парк',\n",
       "       'Район Перово', 'Район Чертаново Южное', 'Южнопортовый Район',\n",
       "       'Головинский район', 'Район Южное Бутово', 'Останкинский район',\n",
       "       'Район Сокол', 'Район Северный', 'Район Кунцево', 'Район Люблино',\n",
       "       'Тимирязевский Район', 'Район Внуково', 'Бескудниковский Район',\n",
       "       'Район Зюзино', 'Пресненский район', 'Район Солнцево',\n",
       "       'Дмитровский район', 'Район Метрогородок', 'Район Митино',\n",
       "       'Можайский Район', 'Район Кузьминки', 'Район Черемушки',\n",
       "       'Район Косино-Ухтомский', 'Район Коптево', 'Район Выхино-Жулебино',\n",
       "       'Район Куркино', 'Ярославский Район', 'Район Бирюлево Восточное',\n",
       "       'Район Гагаринский', 'Район Котловка', 'Район Южное Тушино',\n",
       "       'Район Строгино', 'Район Отрадное', 'Район Матушкино-Савелки',\n",
       "       'Бабушкинский район', 'Район Дорогомилово', 'Район Марьино',\n",
       "       'Район Левобережный', 'Молжаниновский район',\n",
       "       'Район Очаково-Матвеевское', 'Район Ивановское',\n",
       "       'Район Западное Дегунино', 'Район Северное Медведково',\n",
       "       'Нагорный район', 'Панфиловский район', 'Район Новогиреево',\n",
       "       'Район Царицыно', 'Алтуфьевский район', 'Район Чертаново Северное',\n",
       "       'Район Ясенево', 'Район Северное Бутово', 'Район Южное Медведково',\n",
       "       'Район Восточный', 'Район Коньково', 'Район Марфино',\n",
       "       'Обручевский район', 'Район Крюково', 'Район Щукино',\n",
       "       'Бутырский район', 'Район Лианозово', 'Район Фили-Давыдково',\n",
       "       'Район Москворечье-Сабурово'], dtype=object)"
      ]
     },
     "execution_count": 46,
     "metadata": {},
     "output_type": "execute_result"
    }
   ],
   "source": [
    "only_one_with_area = only_one.merge(outside_data, left_on='street', right_on='streetname')\n",
    "only_one_with_area['area'].unique()"
   ]
  },
  {
   "cell_type": "markdown",
   "metadata": {},
   "source": [
    "### Анализ расположения заведений: округа и районы\n",
    "Выделим округа с наибольшим кол-вом заведений"
   ]
  },
  {
   "cell_type": "code",
   "execution_count": 47,
   "metadata": {},
   "outputs": [
    {
     "data": {
      "text/html": [
       "<div>\n",
       "<style scoped>\n",
       "    .dataframe tbody tr th:only-of-type {\n",
       "        vertical-align: middle;\n",
       "    }\n",
       "\n",
       "    .dataframe tbody tr th {\n",
       "        vertical-align: top;\n",
       "    }\n",
       "\n",
       "    .dataframe thead th {\n",
       "        text-align: right;\n",
       "    }\n",
       "</style>\n",
       "<table border=\"1\" class=\"dataframe\">\n",
       "  <thead>\n",
       "    <tr style=\"text-align: right;\">\n",
       "      <th></th>\n",
       "      <th>id</th>\n",
       "    </tr>\n",
       "    <tr>\n",
       "      <th>okrug</th>\n",
       "      <th></th>\n",
       "    </tr>\n",
       "  </thead>\n",
       "  <tbody>\n",
       "    <tr>\n",
       "      <th>ЦАО</th>\n",
       "      <td>5877</td>\n",
       "    </tr>\n",
       "    <tr>\n",
       "      <th>ЮАО</th>\n",
       "      <td>4445</td>\n",
       "    </tr>\n",
       "    <tr>\n",
       "      <th>ЮЗАО</th>\n",
       "      <td>4082</td>\n",
       "    </tr>\n",
       "    <tr>\n",
       "      <th>САО</th>\n",
       "      <td>3448</td>\n",
       "    </tr>\n",
       "    <tr>\n",
       "      <th>СВАО</th>\n",
       "      <td>3304</td>\n",
       "    </tr>\n",
       "    <tr>\n",
       "      <th>ЗАО</th>\n",
       "      <td>2684</td>\n",
       "    </tr>\n",
       "    <tr>\n",
       "      <th>ВАО</th>\n",
       "      <td>2143</td>\n",
       "    </tr>\n",
       "    <tr>\n",
       "      <th>ЮВАО</th>\n",
       "      <td>1932</td>\n",
       "    </tr>\n",
       "    <tr>\n",
       "      <th>СЗАО</th>\n",
       "      <td>1025</td>\n",
       "    </tr>\n",
       "    <tr>\n",
       "      <th>Зеленоград</th>\n",
       "      <td>450</td>\n",
       "    </tr>\n",
       "  </tbody>\n",
       "</table>\n",
       "</div>"
      ],
      "text/plain": [
       "              id\n",
       "okrug           \n",
       "ЦАО         5877\n",
       "ЮАО         4445\n",
       "ЮЗАО        4082\n",
       "САО         3448\n",
       "СВАО        3304\n",
       "ЗАО         2684\n",
       "ВАО         2143\n",
       "ЮВАО        1932\n",
       "СЗАО        1025\n",
       "Зеленоград   450"
      ]
     },
     "execution_count": 47,
     "metadata": {},
     "output_type": "execute_result"
    }
   ],
   "source": [
    "data_with_area = data.merge(outside_data, left_on='street', right_on='streetname')\n",
    "data_with_area.pivot_table(index = 'okrug', values = 'id', aggfunc = 'count').sort_values(by = 'id', ascending = False)"
   ]
  },
  {
   "cell_type": "markdown",
   "metadata": {},
   "source": [
    "Выделим топ-10 районов по наибольшему кол-вом заведений"
   ]
  },
  {
   "cell_type": "code",
   "execution_count": 48,
   "metadata": {},
   "outputs": [
    {
     "data": {
      "text/html": [
       "<div>\n",
       "<style scoped>\n",
       "    .dataframe tbody tr th:only-of-type {\n",
       "        vertical-align: middle;\n",
       "    }\n",
       "\n",
       "    .dataframe tbody tr th {\n",
       "        vertical-align: top;\n",
       "    }\n",
       "\n",
       "    .dataframe thead th {\n",
       "        text-align: right;\n",
       "    }\n",
       "</style>\n",
       "<table border=\"1\" class=\"dataframe\">\n",
       "  <thead>\n",
       "    <tr style=\"text-align: right;\">\n",
       "      <th></th>\n",
       "      <th></th>\n",
       "      <th>id</th>\n",
       "    </tr>\n",
       "    <tr>\n",
       "      <th>area</th>\n",
       "      <th>okrug</th>\n",
       "      <th></th>\n",
       "    </tr>\n",
       "  </thead>\n",
       "  <tbody>\n",
       "    <tr>\n",
       "      <th>Тверской район</th>\n",
       "      <th>ЦАО</th>\n",
       "      <td>1135</td>\n",
       "    </tr>\n",
       "    <tr>\n",
       "      <th>Пресненский район</th>\n",
       "      <th>ЦАО</th>\n",
       "      <td>795</td>\n",
       "    </tr>\n",
       "    <tr>\n",
       "      <th>Басманный район</th>\n",
       "      <th>ЦАО</th>\n",
       "      <td>706</td>\n",
       "    </tr>\n",
       "    <tr>\n",
       "      <th>Даниловский район</th>\n",
       "      <th>ЮАО</th>\n",
       "      <td>678</td>\n",
       "    </tr>\n",
       "    <tr>\n",
       "      <th>Мещанский район</th>\n",
       "      <th>ЦАО</th>\n",
       "      <td>671</td>\n",
       "    </tr>\n",
       "    <tr>\n",
       "      <th>Донской район</th>\n",
       "      <th>ЮАО</th>\n",
       "      <td>587</td>\n",
       "    </tr>\n",
       "    <tr>\n",
       "      <th>Таганский район</th>\n",
       "      <th>ЦАО</th>\n",
       "      <td>549</td>\n",
       "    </tr>\n",
       "    <tr>\n",
       "      <th>Обручевский район</th>\n",
       "      <th>ЮЗАО</th>\n",
       "      <td>496</td>\n",
       "    </tr>\n",
       "    <tr>\n",
       "      <th>Район Замоскворечье</th>\n",
       "      <th>ЦАО</th>\n",
       "      <td>480</td>\n",
       "    </tr>\n",
       "    <tr>\n",
       "      <th>Район Гагаринский</th>\n",
       "      <th>ЮЗАО</th>\n",
       "      <td>475</td>\n",
       "    </tr>\n",
       "  </tbody>\n",
       "</table>\n",
       "</div>"
      ],
      "text/plain": [
       "                             id\n",
       "area                okrug      \n",
       "Тверской район      ЦАО    1135\n",
       "Пресненский район   ЦАО     795\n",
       "Басманный район     ЦАО     706\n",
       "Даниловский район   ЮАО     678\n",
       "Мещанский район     ЦАО     671\n",
       "Донской район       ЮАО     587\n",
       "Таганский район     ЦАО     549\n",
       "Обручевский район   ЮЗАО    496\n",
       "Район Замоскворечье ЦАО     480\n",
       "Район Гагаринский   ЮЗАО    475"
      ]
     },
     "execution_count": 48,
     "metadata": {},
     "output_type": "execute_result"
    }
   ],
   "source": [
    "data_with_area.pivot_table(index = ['area', 'okrug'], values = 'id', aggfunc = 'count').sort_values(by = 'id', ascending = False).head(10)"
   ]
  },
  {
   "cell_type": "markdown",
   "metadata": {},
   "source": [
    "Рассмотрим районы в ЦАО по количеству кафе и ресторанов"
   ]
  },
  {
   "cell_type": "code",
   "execution_count": 49,
   "metadata": {},
   "outputs": [
    {
     "data": {
      "text/html": [
       "<div>\n",
       "<style scoped>\n",
       "    .dataframe tbody tr th:only-of-type {\n",
       "        vertical-align: middle;\n",
       "    }\n",
       "\n",
       "    .dataframe tbody tr th {\n",
       "        vertical-align: top;\n",
       "    }\n",
       "\n",
       "    .dataframe thead th {\n",
       "        text-align: right;\n",
       "    }\n",
       "</style>\n",
       "<table border=\"1\" class=\"dataframe\">\n",
       "  <thead>\n",
       "    <tr style=\"text-align: right;\">\n",
       "      <th></th>\n",
       "      <th>area</th>\n",
       "      <th>id</th>\n",
       "    </tr>\n",
       "  </thead>\n",
       "  <tbody>\n",
       "    <tr>\n",
       "      <th>1</th>\n",
       "      <td>Красносельский район</td>\n",
       "      <td>244</td>\n",
       "    </tr>\n",
       "    <tr>\n",
       "      <th>6</th>\n",
       "      <td>Район Хамовники</td>\n",
       "      <td>263</td>\n",
       "    </tr>\n",
       "    <tr>\n",
       "      <th>7</th>\n",
       "      <td>Район Якиманка</td>\n",
       "      <td>284</td>\n",
       "    </tr>\n",
       "    <tr>\n",
       "      <th>4</th>\n",
       "      <td>Район Арбат</td>\n",
       "      <td>301</td>\n",
       "    </tr>\n",
       "    <tr>\n",
       "      <th>8</th>\n",
       "      <td>Таганский район</td>\n",
       "      <td>340</td>\n",
       "    </tr>\n",
       "    <tr>\n",
       "      <th>5</th>\n",
       "      <td>Район Замоскворечье</td>\n",
       "      <td>342</td>\n",
       "    </tr>\n",
       "    <tr>\n",
       "      <th>2</th>\n",
       "      <td>Мещанский район</td>\n",
       "      <td>473</td>\n",
       "    </tr>\n",
       "    <tr>\n",
       "      <th>0</th>\n",
       "      <td>Басманный район</td>\n",
       "      <td>481</td>\n",
       "    </tr>\n",
       "    <tr>\n",
       "      <th>3</th>\n",
       "      <td>Пресненский район</td>\n",
       "      <td>635</td>\n",
       "    </tr>\n",
       "    <tr>\n",
       "      <th>9</th>\n",
       "      <td>Тверской район</td>\n",
       "      <td>857</td>\n",
       "    </tr>\n",
       "  </tbody>\n",
       "</table>\n",
       "</div>"
      ],
      "text/plain": [
       "                   area   id\n",
       "1  Красносельский район  244\n",
       "6       Район Хамовники  263\n",
       "7        Район Якиманка  284\n",
       "4           Район Арбат  301\n",
       "8       Таганский район  340\n",
       "5   Район Замоскворечье  342\n",
       "2       Мещанский район  473\n",
       "0       Басманный район  481\n",
       "3     Пресненский район  635\n",
       "9        Тверской район  857"
      ]
     },
     "execution_count": 49,
     "metadata": {},
     "output_type": "execute_result"
    }
   ],
   "source": [
    "(\n",
    "data_with_area.query('okrug == \"ЦАО\" and (object_type == \"кафе\" or object_type == \"ресторан\")')\n",
    "    .pivot_table(index = 'area', values = 'id', aggfunc = 'count').reset_index()\n",
    "    .sort_values(by = 'id')\n",
    ")\n"
   ]
  },
  {
   "cell_type": "markdown",
   "metadata": {},
   "source": [
    "Наименьшая конкуренция в наиболее популярном округе в районах: Красноселский, Хамовники, Якиманка, Арбат и Таганский."
   ]
  },
  {
   "cell_type": "markdown",
   "metadata": {},
   "source": [
    "## Вывод"
   ]
  },
  {
   "cell_type": "markdown",
   "metadata": {},
   "source": [
    "Можно предположить, что концепция заведения с использованием роботов будет в первую очередь интересна молодой аудитории, которая не боится пробовать что-то новое. А так же семьям с детьми и подростками, в качестве места для необычного проведения общего семейного досуга.  \n",
    "Лучшим соседством для кафе, в таком случае, могут стать главные парки (Парк Горького, ВДНХ), а также крупные ТЦ (как вариант, заведение непосредственно в самом ТЦ). \n",
    "  \n",
    "Для того чтобы снизить опасения инвесторов, связанные со снижением интереса к роботам с течением времени, необходимо рассматривать места с хорошей проходимостью. Главным образом - это центральный округ с пешеходно-туристическими маршрутами. \n",
    "Наименьшая конкуренция в наиболее популярном округе в районах: **Красноселский, Хамовники, Якиманка, Арбат и Таганский**.\n",
    "  \n",
    "Поскольку концепция подразумевает наличие роботов-официантов лучшими видами заведения становятся **кафе** и **ресторан**.\n",
    "  \n",
    "Исходя из средних показателей, в **кафе** рекомендуется **30-35 посадочных мест**, для **ресторан** чуть больше - **80-90**.  \n",
    "  \n",
    "Так же варианты (кафе на 30-35 мест и ресторан на 80-90 мест) характерны для сетевых заведений. Поэтому для успешного развития заведения в сетевое распространение, можно придерживаться этих же рекомендаций.  \n",
    "  \n",
    "В качестве дополнения к возможностям развитя проекта можно предложить доставку из кафе/ресторана средствами роботов, по аналогии с роверами."
   ]
  },
  {
   "cell_type": "markdown",
   "metadata": {},
   "source": [
    "Ссылка на презентацию: https://1drv.ms/p/s!Ak1-sB34FBGClTpjQ0rCVXTllINT?e=dAwgG5"
   ]
  }
 ],
 "metadata": {
  "ExecuteTimeLog": [
   {
    "duration": 1441,
    "start_time": "2022-07-10T10:51:08.658Z"
   },
   {
    "duration": 306,
    "start_time": "2022-07-10T10:51:10.203Z"
   },
   {
    "duration": 15,
    "start_time": "2022-07-10T10:51:20.250Z"
   },
   {
    "duration": 51,
    "start_time": "2022-07-10T10:51:48.743Z"
   },
   {
    "duration": 9,
    "start_time": "2022-07-10T10:52:43.651Z"
   },
   {
    "duration": 37,
    "start_time": "2022-07-10T10:53:00.490Z"
   },
   {
    "duration": 16,
    "start_time": "2022-07-10T10:53:14.643Z"
   },
   {
    "duration": 45,
    "start_time": "2022-07-10T10:53:29.590Z"
   },
   {
    "duration": 10,
    "start_time": "2022-07-10T10:54:02.119Z"
   },
   {
    "duration": 21,
    "start_time": "2022-07-10T10:58:02.166Z"
   },
   {
    "duration": 18,
    "start_time": "2022-07-10T10:58:10.109Z"
   },
   {
    "duration": 103,
    "start_time": "2022-07-10T10:59:20.278Z"
   },
   {
    "duration": 12,
    "start_time": "2022-07-10T10:59:33.419Z"
   },
   {
    "duration": 7,
    "start_time": "2022-07-10T11:00:02.519Z"
   },
   {
    "duration": 23,
    "start_time": "2022-07-10T11:05:18.874Z"
   },
   {
    "duration": 8,
    "start_time": "2022-07-10T11:05:40.834Z"
   },
   {
    "duration": 83,
    "start_time": "2022-07-10T11:08:27.201Z"
   },
   {
    "duration": 139,
    "start_time": "2022-07-10T11:08:31.255Z"
   },
   {
    "duration": 454,
    "start_time": "2022-07-10T11:08:37.198Z"
   },
   {
    "duration": 26,
    "start_time": "2022-07-10T11:11:25.194Z"
   },
   {
    "duration": 21,
    "start_time": "2022-07-10T11:11:29.394Z"
   },
   {
    "duration": 13,
    "start_time": "2022-07-10T11:11:34.480Z"
   },
   {
    "duration": 15,
    "start_time": "2022-07-10T11:11:51.625Z"
   },
   {
    "duration": 18,
    "start_time": "2022-07-10T11:13:52.023Z"
   },
   {
    "duration": 179,
    "start_time": "2022-07-10T11:14:12.106Z"
   },
   {
    "duration": 80,
    "start_time": "2022-07-10T11:14:41.852Z"
   },
   {
    "duration": 12,
    "start_time": "2022-07-10T11:19:00.594Z"
   },
   {
    "duration": 13,
    "start_time": "2022-07-10T11:20:07.536Z"
   },
   {
    "duration": 258,
    "start_time": "2022-07-10T11:20:40.322Z"
   },
   {
    "duration": 93,
    "start_time": "2022-07-10T11:27:40.675Z"
   },
   {
    "duration": 671,
    "start_time": "2022-07-10T11:27:47.134Z"
   },
   {
    "duration": 32,
    "start_time": "2022-07-10T11:35:14.721Z"
   },
   {
    "duration": 32,
    "start_time": "2022-07-10T11:35:44.162Z"
   },
   {
    "duration": 10,
    "start_time": "2022-07-10T11:43:09.999Z"
   },
   {
    "duration": 21,
    "start_time": "2022-07-10T11:43:30.040Z"
   },
   {
    "duration": 10,
    "start_time": "2022-07-10T11:43:44.022Z"
   },
   {
    "duration": 21,
    "start_time": "2022-07-10T11:43:54.565Z"
   },
   {
    "duration": 21,
    "start_time": "2022-07-10T11:44:11.811Z"
   },
   {
    "duration": 9,
    "start_time": "2022-07-10T11:44:18.281Z"
   },
   {
    "duration": 10,
    "start_time": "2022-07-10T11:44:34.168Z"
   },
   {
    "duration": 22,
    "start_time": "2022-07-10T11:44:41.606Z"
   },
   {
    "duration": 9,
    "start_time": "2022-07-10T11:45:00.010Z"
   },
   {
    "duration": 730,
    "start_time": "2022-07-10T11:45:22.103Z"
   },
   {
    "duration": 511,
    "start_time": "2022-07-10T11:46:15.700Z"
   },
   {
    "duration": 47,
    "start_time": "2022-07-10T15:42:29.364Z"
   },
   {
    "duration": 1273,
    "start_time": "2022-07-10T15:42:34.582Z"
   },
   {
    "duration": 6,
    "start_time": "2022-07-10T15:42:35.857Z"
   },
   {
    "duration": 103,
    "start_time": "2022-07-10T15:42:45.815Z"
   },
   {
    "duration": 15,
    "start_time": "2022-07-10T15:42:46.840Z"
   },
   {
    "duration": 38,
    "start_time": "2022-07-10T15:42:48.490Z"
   },
   {
    "duration": 188,
    "start_time": "2022-07-10T15:43:05.339Z"
   },
   {
    "duration": 114,
    "start_time": "2022-07-10T15:52:26.141Z"
   },
   {
    "duration": 43,
    "start_time": "2022-07-10T15:52:37.451Z"
   },
   {
    "duration": 1127,
    "start_time": "2022-07-10T15:52:48.040Z"
   },
   {
    "duration": 5,
    "start_time": "2022-07-10T15:52:49.169Z"
   },
   {
    "duration": 56,
    "start_time": "2022-07-10T15:52:49.542Z"
   },
   {
    "duration": 76,
    "start_time": "2022-07-10T15:53:04.844Z"
   },
   {
    "duration": 22,
    "start_time": "2022-07-10T15:53:36.942Z"
   },
   {
    "duration": 287,
    "start_time": "2022-07-10T15:53:44.358Z"
   },
   {
    "duration": 283,
    "start_time": "2022-07-10T15:54:12.424Z"
   },
   {
    "duration": 283,
    "start_time": "2022-07-10T15:54:54.825Z"
   },
   {
    "duration": 299,
    "start_time": "2022-07-10T15:55:15.325Z"
   },
   {
    "duration": 240,
    "start_time": "2022-07-10T16:06:45.990Z"
   },
   {
    "duration": 240,
    "start_time": "2022-07-10T16:07:02.698Z"
   },
   {
    "duration": 256,
    "start_time": "2022-07-10T16:07:08.761Z"
   },
   {
    "duration": 212,
    "start_time": "2022-07-10T16:07:18.500Z"
   },
   {
    "duration": 223,
    "start_time": "2022-07-10T16:07:35.465Z"
   },
   {
    "duration": 292,
    "start_time": "2022-07-10T16:07:50.156Z"
   },
   {
    "duration": 212,
    "start_time": "2022-07-10T16:08:00.283Z"
   },
   {
    "duration": 231,
    "start_time": "2022-07-10T16:08:12.683Z"
   },
   {
    "duration": 279,
    "start_time": "2022-07-10T16:08:31.850Z"
   },
   {
    "duration": 280,
    "start_time": "2022-07-10T16:08:41.545Z"
   },
   {
    "duration": 423,
    "start_time": "2022-07-10T16:08:52.821Z"
   },
   {
    "duration": 286,
    "start_time": "2022-07-10T16:09:09.140Z"
   },
   {
    "duration": 296,
    "start_time": "2022-07-10T16:09:17.608Z"
   },
   {
    "duration": 9,
    "start_time": "2022-07-10T16:10:44.426Z"
   },
   {
    "duration": 14,
    "start_time": "2022-07-10T16:10:54.802Z"
   },
   {
    "duration": 7,
    "start_time": "2022-07-10T16:11:45.309Z"
   },
   {
    "duration": 22,
    "start_time": "2022-07-10T16:15:14.210Z"
   },
   {
    "duration": 9,
    "start_time": "2022-07-10T16:15:24.461Z"
   },
   {
    "duration": 208,
    "start_time": "2022-07-10T16:15:34.996Z"
   },
   {
    "duration": 16,
    "start_time": "2022-07-10T16:17:39.001Z"
   },
   {
    "duration": 18,
    "start_time": "2022-07-10T16:18:10.986Z"
   },
   {
    "duration": 130,
    "start_time": "2022-07-10T16:18:37.346Z"
   },
   {
    "duration": 7,
    "start_time": "2022-07-10T16:19:50.574Z"
   },
   {
    "duration": 130,
    "start_time": "2022-07-10T16:23:51.904Z"
   },
   {
    "duration": 131,
    "start_time": "2022-07-10T16:24:00.152Z"
   },
   {
    "duration": 217,
    "start_time": "2022-07-10T16:27:15.903Z"
   },
   {
    "duration": 121,
    "start_time": "2022-07-10T16:27:45.791Z"
   },
   {
    "duration": 134,
    "start_time": "2022-07-10T16:28:13.047Z"
   },
   {
    "duration": 111,
    "start_time": "2022-07-10T16:28:35.637Z"
   },
   {
    "duration": 3,
    "start_time": "2022-07-10T16:29:36.210Z"
   },
   {
    "duration": 2,
    "start_time": "2022-07-10T16:29:45.193Z"
   },
   {
    "duration": 3,
    "start_time": "2022-07-10T16:29:50.793Z"
   },
   {
    "duration": 3,
    "start_time": "2022-07-10T16:29:56.430Z"
   },
   {
    "duration": 328,
    "start_time": "2022-07-10T16:30:35.280Z"
   },
   {
    "duration": 320,
    "start_time": "2022-07-10T16:30:44.899Z"
   },
   {
    "duration": 279,
    "start_time": "2022-07-10T16:31:21.676Z"
   },
   {
    "duration": 329,
    "start_time": "2022-07-10T16:31:30.427Z"
   },
   {
    "duration": 250,
    "start_time": "2022-07-10T16:33:38.436Z"
   },
   {
    "duration": 254,
    "start_time": "2022-07-10T16:34:23.849Z"
   },
   {
    "duration": 276,
    "start_time": "2022-07-10T16:34:42.635Z"
   },
   {
    "duration": 310,
    "start_time": "2022-07-10T16:34:48.904Z"
   },
   {
    "duration": 236,
    "start_time": "2022-07-10T16:35:07.407Z"
   },
   {
    "duration": 222,
    "start_time": "2022-07-10T16:35:21.639Z"
   },
   {
    "duration": 346,
    "start_time": "2022-07-10T16:35:33.983Z"
   },
   {
    "duration": 196,
    "start_time": "2022-07-10T16:36:43.023Z"
   },
   {
    "duration": 119,
    "start_time": "2022-07-10T16:36:53.899Z"
   },
   {
    "duration": 148,
    "start_time": "2022-07-10T16:37:15.215Z"
   },
   {
    "duration": 149,
    "start_time": "2022-07-10T16:37:59.088Z"
   },
   {
    "duration": 148,
    "start_time": "2022-07-10T16:39:34.012Z"
   },
   {
    "duration": 150,
    "start_time": "2022-07-10T16:39:42.484Z"
   },
   {
    "duration": 418,
    "start_time": "2022-07-10T16:44:00.785Z"
   },
   {
    "duration": 446,
    "start_time": "2022-07-10T16:44:20.672Z"
   },
   {
    "duration": 1323,
    "start_time": "2022-07-11T18:25:43.712Z"
   },
   {
    "duration": 6,
    "start_time": "2022-07-11T18:25:45.037Z"
   },
   {
    "duration": 285,
    "start_time": "2022-07-11T18:25:45.685Z"
   },
   {
    "duration": 3,
    "start_time": "2022-07-11T18:25:46.411Z"
   },
   {
    "duration": 3,
    "start_time": "2022-07-11T18:25:47.147Z"
   },
   {
    "duration": 2,
    "start_time": "2022-07-11T18:25:49.085Z"
   },
   {
    "duration": 10,
    "start_time": "2022-07-11T18:25:50.635Z"
   },
   {
    "duration": 20,
    "start_time": "2022-07-11T18:25:52.372Z"
   },
   {
    "duration": 7,
    "start_time": "2022-07-11T18:25:54.595Z"
   },
   {
    "duration": 184,
    "start_time": "2022-07-11T18:26:05.598Z"
   },
   {
    "duration": 7,
    "start_time": "2022-07-11T18:26:28.997Z"
   },
   {
    "duration": 125,
    "start_time": "2022-07-11T18:26:30.346Z"
   },
   {
    "duration": 76,
    "start_time": "2022-07-11T18:30:37.339Z"
   },
   {
    "duration": 21,
    "start_time": "2022-07-11T18:30:49.553Z"
   },
   {
    "duration": 41,
    "start_time": "2022-07-11T18:33:10.386Z"
   },
   {
    "duration": 45,
    "start_time": "2022-07-11T18:36:37.270Z"
   },
   {
    "duration": 53,
    "start_time": "2022-07-11T18:37:38.775Z"
   },
   {
    "duration": 87,
    "start_time": "2022-07-11T18:47:08.736Z"
   },
   {
    "duration": 125,
    "start_time": "2022-07-11T18:47:14.707Z"
   },
   {
    "duration": 79,
    "start_time": "2022-07-11T18:47:46.191Z"
   },
   {
    "duration": 30,
    "start_time": "2022-07-11T18:48:01.562Z"
   },
   {
    "duration": 19,
    "start_time": "2022-07-11T18:49:03.071Z"
   },
   {
    "duration": 19,
    "start_time": "2022-07-11T18:49:44.321Z"
   },
   {
    "duration": 26,
    "start_time": "2022-07-11T18:50:56.731Z"
   },
   {
    "duration": 21,
    "start_time": "2022-07-11T18:51:38.194Z"
   },
   {
    "duration": 25,
    "start_time": "2022-07-11T18:52:23.094Z"
   },
   {
    "duration": 1279,
    "start_time": "2022-07-17T08:24:46.280Z"
   },
   {
    "duration": 7,
    "start_time": "2022-07-17T08:24:47.561Z"
   },
   {
    "duration": 241,
    "start_time": "2022-07-17T08:24:47.867Z"
   },
   {
    "duration": 11,
    "start_time": "2022-07-17T08:24:53.573Z"
   },
   {
    "duration": 19,
    "start_time": "2022-07-17T08:24:57.089Z"
   },
   {
    "duration": 832,
    "start_time": "2022-07-17T08:29:46.767Z"
   },
   {
    "duration": 8,
    "start_time": "2022-07-17T08:30:16.736Z"
   },
   {
    "duration": 8,
    "start_time": "2022-07-17T08:30:25.039Z"
   },
   {
    "duration": 22,
    "start_time": "2022-07-17T08:31:38.976Z"
   },
   {
    "duration": 10,
    "start_time": "2022-07-17T08:35:15.909Z"
   },
   {
    "duration": 27,
    "start_time": "2022-07-17T08:35:26.858Z"
   },
   {
    "duration": 13,
    "start_time": "2022-07-17T08:37:45.817Z"
   },
   {
    "duration": 9,
    "start_time": "2022-07-17T08:41:55.549Z"
   },
   {
    "duration": 996,
    "start_time": "2022-07-17T08:43:47.479Z"
   },
   {
    "duration": 64,
    "start_time": "2022-07-17T08:52:38.190Z"
   },
   {
    "duration": 10,
    "start_time": "2022-07-17T08:53:53.612Z"
   },
   {
    "duration": 31,
    "start_time": "2022-07-17T08:54:52.224Z"
   },
   {
    "duration": 20,
    "start_time": "2022-07-17T08:55:05.423Z"
   },
   {
    "duration": 23,
    "start_time": "2022-07-17T08:55:17.587Z"
   },
   {
    "duration": 18,
    "start_time": "2022-07-17T08:55:27.207Z"
   },
   {
    "duration": 21,
    "start_time": "2022-07-17T08:55:44.580Z"
   },
   {
    "duration": 37,
    "start_time": "2022-07-17T08:55:52.703Z"
   },
   {
    "duration": 28,
    "start_time": "2022-07-17T08:56:09.349Z"
   },
   {
    "duration": 23,
    "start_time": "2022-07-17T08:58:19.728Z"
   },
   {
    "duration": 28,
    "start_time": "2022-07-17T09:04:03.495Z"
   },
   {
    "duration": 17,
    "start_time": "2022-07-17T09:15:41.929Z"
   },
   {
    "duration": 69,
    "start_time": "2022-07-17T09:15:51.679Z"
   },
   {
    "duration": 16,
    "start_time": "2022-07-17T09:16:33.684Z"
   },
   {
    "duration": 9,
    "start_time": "2022-07-17T09:17:59.843Z"
   },
   {
    "duration": 13,
    "start_time": "2022-07-17T09:22:19.407Z"
   },
   {
    "duration": 8,
    "start_time": "2022-07-17T09:27:16.749Z"
   },
   {
    "duration": 6,
    "start_time": "2022-07-17T09:27:21.123Z"
   },
   {
    "duration": 6,
    "start_time": "2022-07-17T09:28:02.952Z"
   },
   {
    "duration": 1365,
    "start_time": "2022-07-17T09:34:59.495Z"
   },
   {
    "duration": 5,
    "start_time": "2022-07-17T09:35:01.015Z"
   },
   {
    "duration": 19,
    "start_time": "2022-07-17T09:35:27.180Z"
   },
   {
    "duration": 14,
    "start_time": "2022-07-17T09:35:31.475Z"
   },
   {
    "duration": 14,
    "start_time": "2022-07-17T09:40:04.945Z"
   },
   {
    "duration": 15,
    "start_time": "2022-07-17T09:41:24.217Z"
   },
   {
    "duration": 6,
    "start_time": "2022-07-17T09:41:52.682Z"
   },
   {
    "duration": 27,
    "start_time": "2022-07-17T09:42:07.475Z"
   },
   {
    "duration": 13,
    "start_time": "2022-07-17T09:42:25.525Z"
   },
   {
    "duration": 8,
    "start_time": "2022-07-17T09:44:28.793Z"
   },
   {
    "duration": 9,
    "start_time": "2022-07-17T09:46:11.788Z"
   },
   {
    "duration": 25,
    "start_time": "2022-07-17T09:47:49.984Z"
   },
   {
    "duration": 36,
    "start_time": "2022-07-17T09:48:02.689Z"
   },
   {
    "duration": 15,
    "start_time": "2022-07-17T09:48:19.303Z"
   },
   {
    "duration": 21,
    "start_time": "2022-07-17T09:48:35.477Z"
   },
   {
    "duration": 16,
    "start_time": "2022-07-17T09:49:17.295Z"
   },
   {
    "duration": 12,
    "start_time": "2022-07-17T09:49:41.132Z"
   },
   {
    "duration": 13,
    "start_time": "2022-07-17T09:49:57.622Z"
   },
   {
    "duration": 9,
    "start_time": "2022-07-17T09:50:30.387Z"
   },
   {
    "duration": 26,
    "start_time": "2022-07-17T09:50:31.710Z"
   },
   {
    "duration": 21,
    "start_time": "2022-07-17T09:50:34.599Z"
   },
   {
    "duration": 8,
    "start_time": "2022-07-17T10:06:24.638Z"
   },
   {
    "duration": 23,
    "start_time": "2022-07-17T10:06:34.484Z"
   },
   {
    "duration": 22,
    "start_time": "2022-07-17T10:07:39.175Z"
   },
   {
    "duration": 7,
    "start_time": "2022-07-17T10:08:09.573Z"
   },
   {
    "duration": 193,
    "start_time": "2022-07-17T10:08:13.860Z"
   },
   {
    "duration": 23,
    "start_time": "2022-07-17T10:18:12.785Z"
   },
   {
    "duration": 14,
    "start_time": "2022-07-17T10:18:33.181Z"
   },
   {
    "duration": 119,
    "start_time": "2022-07-17T10:19:04.216Z"
   },
   {
    "duration": 63,
    "start_time": "2022-07-17T10:19:10.129Z"
   },
   {
    "duration": 17,
    "start_time": "2022-07-17T10:19:14.704Z"
   },
   {
    "duration": 10,
    "start_time": "2022-07-17T10:19:40.663Z"
   },
   {
    "duration": 177,
    "start_time": "2022-07-17T10:19:53.725Z"
   },
   {
    "duration": 169,
    "start_time": "2022-07-17T10:23:54.152Z"
   },
   {
    "duration": 152,
    "start_time": "2022-07-17T10:24:21.075Z"
   },
   {
    "duration": 191,
    "start_time": "2022-07-17T10:25:29.193Z"
   },
   {
    "duration": 235,
    "start_time": "2022-07-17T10:26:32.964Z"
   },
   {
    "duration": 157,
    "start_time": "2022-07-17T10:26:54.199Z"
   },
   {
    "duration": 167,
    "start_time": "2022-07-17T10:27:05.863Z"
   },
   {
    "duration": 160,
    "start_time": "2022-07-17T10:28:13.757Z"
   },
   {
    "duration": 7,
    "start_time": "2022-07-17T10:30:07.909Z"
   },
   {
    "duration": 145,
    "start_time": "2022-07-17T10:30:10.391Z"
   },
   {
    "duration": 50,
    "start_time": "2022-07-17T10:33:11.057Z"
   },
   {
    "duration": 26,
    "start_time": "2022-07-17T10:33:20.385Z"
   },
   {
    "duration": 46,
    "start_time": "2022-07-17T10:33:34.153Z"
   },
   {
    "duration": 42,
    "start_time": "2022-07-17T10:33:52.299Z"
   },
   {
    "duration": 41,
    "start_time": "2022-07-17T10:34:03.981Z"
   },
   {
    "duration": 45,
    "start_time": "2022-07-17T10:34:09.484Z"
   },
   {
    "duration": 55,
    "start_time": "2022-07-17T10:34:56.367Z"
   },
   {
    "duration": 21,
    "start_time": "2022-07-17T10:35:37.039Z"
   },
   {
    "duration": 27,
    "start_time": "2022-07-17T10:35:45.157Z"
   },
   {
    "duration": 20,
    "start_time": "2022-07-17T10:35:51.739Z"
   },
   {
    "duration": 21,
    "start_time": "2022-07-17T10:38:33.077Z"
   },
   {
    "duration": 57,
    "start_time": "2022-07-17T10:40:46.487Z"
   },
   {
    "duration": 955,
    "start_time": "2022-07-17T10:41:06.226Z"
   },
   {
    "duration": 55,
    "start_time": "2022-07-17T10:41:58.374Z"
   },
   {
    "duration": 409,
    "start_time": "2022-07-17T10:49:55.197Z"
   },
   {
    "duration": 513,
    "start_time": "2022-07-17T10:50:32.491Z"
   },
   {
    "duration": 432,
    "start_time": "2022-07-17T10:50:40.512Z"
   },
   {
    "duration": 521,
    "start_time": "2022-07-17T10:51:47.257Z"
   },
   {
    "duration": 459,
    "start_time": "2022-07-17T10:52:23.101Z"
   },
   {
    "duration": 54,
    "start_time": "2022-07-17T10:53:29.080Z"
   },
   {
    "duration": 469,
    "start_time": "2022-07-17T10:53:39.276Z"
   },
   {
    "duration": 439,
    "start_time": "2022-07-17T10:53:53.597Z"
   },
   {
    "duration": 527,
    "start_time": "2022-07-17T10:54:02.584Z"
   },
   {
    "duration": 468,
    "start_time": "2022-07-17T10:54:17.593Z"
   },
   {
    "duration": 494,
    "start_time": "2022-07-17T10:54:46.388Z"
   },
   {
    "duration": 501,
    "start_time": "2022-07-17T10:54:58.097Z"
   },
   {
    "duration": 492,
    "start_time": "2022-07-17T10:55:44.442Z"
   },
   {
    "duration": 492,
    "start_time": "2022-07-17T10:56:13.109Z"
   },
   {
    "duration": 4,
    "start_time": "2022-07-17T11:06:20.136Z"
   },
   {
    "duration": 410,
    "start_time": "2022-07-17T11:07:14.938Z"
   },
   {
    "duration": 261,
    "start_time": "2022-07-17T11:07:44.279Z"
   },
   {
    "duration": 4,
    "start_time": "2022-07-17T11:08:49.678Z"
   },
   {
    "duration": 68,
    "start_time": "2022-07-17T11:09:33.528Z"
   },
   {
    "duration": 4,
    "start_time": "2022-07-17T11:09:43.873Z"
   },
   {
    "duration": 200,
    "start_time": "2022-07-17T11:09:49.538Z"
   },
   {
    "duration": 3,
    "start_time": "2022-07-17T11:10:06.203Z"
   },
   {
    "duration": 58,
    "start_time": "2022-07-17T11:11:01.531Z"
   },
   {
    "duration": 25,
    "start_time": "2022-07-17T11:11:06.720Z"
   },
   {
    "duration": 25,
    "start_time": "2022-07-17T11:11:36.984Z"
   },
   {
    "duration": 3,
    "start_time": "2022-07-17T11:13:26.369Z"
   },
   {
    "duration": 297,
    "start_time": "2022-07-17T11:13:33.495Z"
   },
   {
    "duration": 63,
    "start_time": "2022-07-17T11:15:20.638Z"
   },
   {
    "duration": 22,
    "start_time": "2022-07-17T11:16:07.327Z"
   },
   {
    "duration": 860,
    "start_time": "2022-07-17T11:16:26.481Z"
   },
   {
    "duration": 23,
    "start_time": "2022-07-17T11:17:43.841Z"
   },
   {
    "duration": 51,
    "start_time": "2022-07-17T11:18:20.822Z"
   },
   {
    "duration": 28,
    "start_time": "2022-07-17T11:18:24.780Z"
   },
   {
    "duration": 19,
    "start_time": "2022-07-17T11:18:33.579Z"
   },
   {
    "duration": 33,
    "start_time": "2022-07-17T11:18:42.662Z"
   },
   {
    "duration": 23,
    "start_time": "2022-07-17T11:19:07.850Z"
   },
   {
    "duration": 216,
    "start_time": "2022-07-17T11:25:47.800Z"
   },
   {
    "duration": 206,
    "start_time": "2022-07-17T11:26:11.571Z"
   },
   {
    "duration": 3,
    "start_time": "2022-07-17T11:33:55.731Z"
   },
   {
    "duration": 3,
    "start_time": "2022-07-17T11:34:10.993Z"
   },
   {
    "duration": 2,
    "start_time": "2022-07-17T11:34:16.523Z"
   },
   {
    "duration": 159,
    "start_time": "2022-07-17T11:35:21.630Z"
   },
   {
    "duration": 54,
    "start_time": "2022-07-17T11:35:54.335Z"
   },
   {
    "duration": 75,
    "start_time": "2022-07-17T11:37:25.812Z"
   },
   {
    "duration": 932,
    "start_time": "2022-07-17T11:41:24.208Z"
   },
   {
    "duration": 63,
    "start_time": "2022-07-17T11:41:39.090Z"
   },
   {
    "duration": 61,
    "start_time": "2022-07-17T11:41:57.795Z"
   },
   {
    "duration": 174,
    "start_time": "2022-07-17T11:42:08.750Z"
   },
   {
    "duration": 52,
    "start_time": "2022-07-17T11:42:14.416Z"
   },
   {
    "duration": 48,
    "start_time": "2022-07-17T11:49:18.979Z"
   },
   {
    "duration": 265,
    "start_time": "2022-07-17T11:49:36.245Z"
   },
   {
    "duration": 59,
    "start_time": "2022-07-17T11:50:47.616Z"
   },
   {
    "duration": 1058,
    "start_time": "2022-07-17T11:53:27.459Z"
   },
   {
    "duration": 9,
    "start_time": "2022-07-17T11:53:48.264Z"
   },
   {
    "duration": 43,
    "start_time": "2022-07-17T11:54:04.948Z"
   },
   {
    "duration": 64,
    "start_time": "2022-07-17T12:01:24.749Z"
   },
   {
    "duration": 16,
    "start_time": "2022-07-17T12:01:44.718Z"
   },
   {
    "duration": 5,
    "start_time": "2022-07-17T12:08:00.318Z"
   },
   {
    "duration": 21,
    "start_time": "2022-07-17T12:08:14.436Z"
   },
   {
    "duration": 29,
    "start_time": "2022-07-17T12:08:29.547Z"
   },
   {
    "duration": 24,
    "start_time": "2022-07-17T12:09:54.190Z"
   },
   {
    "duration": 20,
    "start_time": "2022-07-17T12:10:26.406Z"
   },
   {
    "duration": 17,
    "start_time": "2022-07-17T12:10:39.665Z"
   },
   {
    "duration": 17,
    "start_time": "2022-07-17T12:10:57.928Z"
   },
   {
    "duration": 47,
    "start_time": "2022-07-17T12:11:38.909Z"
   },
   {
    "duration": 23,
    "start_time": "2022-07-17T12:11:54.025Z"
   },
   {
    "duration": 48,
    "start_time": "2022-07-17T12:12:28.343Z"
   },
   {
    "duration": 44,
    "start_time": "2022-07-17T12:12:34.865Z"
   },
   {
    "duration": 36,
    "start_time": "2022-07-17T12:12:52.800Z"
   },
   {
    "duration": 13,
    "start_time": "2022-07-17T12:13:16.808Z"
   },
   {
    "duration": 51,
    "start_time": "2022-07-17T12:16:47.011Z"
   },
   {
    "duration": 55,
    "start_time": "2022-07-17T12:16:52.571Z"
   },
   {
    "duration": 50,
    "start_time": "2022-07-17T12:16:58.409Z"
   },
   {
    "duration": 145,
    "start_time": "2022-07-17T12:17:27.299Z"
   },
   {
    "duration": 43,
    "start_time": "2022-07-17T12:17:41.500Z"
   },
   {
    "duration": 56,
    "start_time": "2022-07-17T12:17:58.224Z"
   },
   {
    "duration": 989,
    "start_time": "2022-07-17T12:32:25.438Z"
   },
   {
    "duration": 214,
    "start_time": "2022-07-17T12:33:02.856Z"
   },
   {
    "duration": 195,
    "start_time": "2022-07-17T12:34:35.229Z"
   },
   {
    "duration": 240,
    "start_time": "2022-07-17T12:34:45.330Z"
   },
   {
    "duration": 295,
    "start_time": "2022-07-17T12:35:42.151Z"
   },
   {
    "duration": 48,
    "start_time": "2022-07-17T12:47:05.506Z"
   },
   {
    "duration": 212,
    "start_time": "2022-07-17T12:47:19.510Z"
   },
   {
    "duration": 267,
    "start_time": "2022-07-17T12:49:59.973Z"
   },
   {
    "duration": 238,
    "start_time": "2022-07-17T12:51:16.482Z"
   },
   {
    "duration": 198,
    "start_time": "2022-07-17T12:51:33.277Z"
   },
   {
    "duration": 14,
    "start_time": "2022-07-17T12:53:41.618Z"
   },
   {
    "duration": 32,
    "start_time": "2022-07-17T12:54:26.569Z"
   },
   {
    "duration": 35,
    "start_time": "2022-07-17T12:54:34.398Z"
   },
   {
    "duration": 16,
    "start_time": "2022-07-17T12:54:58.590Z"
   },
   {
    "duration": 12,
    "start_time": "2022-07-17T12:55:45.110Z"
   },
   {
    "duration": 12,
    "start_time": "2022-07-17T12:56:01.499Z"
   },
   {
    "duration": 73,
    "start_time": "2022-07-17T12:56:16.101Z"
   },
   {
    "duration": 14,
    "start_time": "2022-07-17T12:56:35.271Z"
   },
   {
    "duration": 31,
    "start_time": "2022-07-17T13:01:30.443Z"
   },
   {
    "duration": 19,
    "start_time": "2022-07-17T13:01:51.405Z"
   },
   {
    "duration": 18,
    "start_time": "2022-07-17T13:02:27.456Z"
   },
   {
    "duration": 47,
    "start_time": "2022-07-17T13:02:49.786Z"
   },
   {
    "duration": 58,
    "start_time": "2022-07-17T13:03:11.266Z"
   },
   {
    "duration": 18,
    "start_time": "2022-07-17T13:03:21.328Z"
   },
   {
    "duration": 15,
    "start_time": "2022-07-17T13:03:30.857Z"
   },
   {
    "duration": 10,
    "start_time": "2022-07-17T13:04:08.519Z"
   },
   {
    "duration": 12,
    "start_time": "2022-07-17T13:04:22.490Z"
   },
   {
    "duration": 26,
    "start_time": "2022-07-17T13:04:56.263Z"
   },
   {
    "duration": 13,
    "start_time": "2022-07-17T13:05:18.324Z"
   },
   {
    "duration": 17,
    "start_time": "2022-07-17T13:05:40.504Z"
   },
   {
    "duration": 55,
    "start_time": "2022-07-17T13:10:05.761Z"
   },
   {
    "duration": 21,
    "start_time": "2022-07-17T13:10:16.557Z"
   },
   {
    "duration": 15,
    "start_time": "2022-07-17T13:11:09.533Z"
   },
   {
    "duration": 30,
    "start_time": "2022-07-17T13:11:41.639Z"
   },
   {
    "duration": 17,
    "start_time": "2022-07-17T13:32:37.825Z"
   },
   {
    "duration": 22,
    "start_time": "2022-07-17T13:32:50.208Z"
   },
   {
    "duration": 17,
    "start_time": "2022-07-17T13:33:05.900Z"
   },
   {
    "duration": 15,
    "start_time": "2022-07-17T13:33:44.026Z"
   },
   {
    "duration": 22,
    "start_time": "2022-07-17T13:34:22.828Z"
   },
   {
    "duration": 24,
    "start_time": "2022-07-17T13:35:04.657Z"
   },
   {
    "duration": 20,
    "start_time": "2022-07-17T13:35:52.799Z"
   },
   {
    "duration": 13,
    "start_time": "2022-07-17T13:36:25.460Z"
   },
   {
    "duration": 23,
    "start_time": "2022-07-17T13:36:27.093Z"
   },
   {
    "duration": 13,
    "start_time": "2022-07-17T13:41:16.159Z"
   },
   {
    "duration": 13,
    "start_time": "2022-07-17T13:41:48.080Z"
   },
   {
    "duration": 17,
    "start_time": "2022-07-17T13:43:01.184Z"
   },
   {
    "duration": 4,
    "start_time": "2022-07-17T13:43:06.862Z"
   },
   {
    "duration": 18,
    "start_time": "2022-07-17T13:43:07.755Z"
   },
   {
    "duration": 58,
    "start_time": "2022-07-17T13:45:37.373Z"
   },
   {
    "duration": 16,
    "start_time": "2022-07-17T13:47:30.189Z"
   },
   {
    "duration": 16,
    "start_time": "2022-07-17T13:49:49.189Z"
   },
   {
    "duration": 20,
    "start_time": "2022-07-17T13:50:57.193Z"
   },
   {
    "duration": 21,
    "start_time": "2022-07-17T13:50:57.736Z"
   },
   {
    "duration": 27,
    "start_time": "2022-07-17T13:51:06.448Z"
   },
   {
    "duration": 18,
    "start_time": "2022-07-17T13:53:20.165Z"
   },
   {
    "duration": 19,
    "start_time": "2022-07-17T13:53:30.048Z"
   },
   {
    "duration": 31,
    "start_time": "2022-07-17T13:56:00.108Z"
   },
   {
    "duration": 37,
    "start_time": "2022-07-17T13:58:59.729Z"
   },
   {
    "duration": 19,
    "start_time": "2022-07-17T13:59:04.804Z"
   },
   {
    "duration": 27,
    "start_time": "2022-07-17T14:01:22.206Z"
   },
   {
    "duration": 4,
    "start_time": "2022-07-17T14:03:25.504Z"
   },
   {
    "duration": 4,
    "start_time": "2022-07-17T14:03:40.873Z"
   },
   {
    "duration": 6,
    "start_time": "2022-07-17T14:05:04.884Z"
   },
   {
    "duration": 19,
    "start_time": "2022-07-17T14:05:09.896Z"
   },
   {
    "duration": 14,
    "start_time": "2022-07-17T14:05:49.907Z"
   },
   {
    "duration": 26,
    "start_time": "2022-07-17T14:06:04.416Z"
   },
   {
    "duration": 14,
    "start_time": "2022-07-17T14:06:16.770Z"
   },
   {
    "duration": 6,
    "start_time": "2022-07-17T14:06:33.686Z"
   },
   {
    "duration": 167,
    "start_time": "2022-07-17T14:06:35.434Z"
   },
   {
    "duration": 7,
    "start_time": "2022-07-17T14:06:48.306Z"
   },
   {
    "duration": 277,
    "start_time": "2022-07-17T14:06:52.475Z"
   },
   {
    "duration": 24,
    "start_time": "2022-07-17T14:07:00.382Z"
   },
   {
    "duration": 23,
    "start_time": "2022-07-17T14:07:08.988Z"
   },
   {
    "duration": 392,
    "start_time": "2022-07-17T14:07:38.124Z"
   },
   {
    "duration": 21,
    "start_time": "2022-07-17T14:24:33.436Z"
   },
   {
    "duration": 12,
    "start_time": "2022-07-17T14:26:51.811Z"
   },
   {
    "duration": 22,
    "start_time": "2022-07-17T14:28:27.214Z"
   },
   {
    "duration": 1098,
    "start_time": "2022-07-17T14:29:07.306Z"
   },
   {
    "duration": 6,
    "start_time": "2022-07-17T14:29:08.406Z"
   },
   {
    "duration": 77,
    "start_time": "2022-07-17T14:29:08.922Z"
   },
   {
    "duration": 15,
    "start_time": "2022-07-17T14:29:09.778Z"
   },
   {
    "duration": 3,
    "start_time": "2022-07-17T14:29:10.489Z"
   },
   {
    "duration": 2,
    "start_time": "2022-07-17T14:29:11.299Z"
   },
   {
    "duration": 17,
    "start_time": "2022-07-17T14:29:13.233Z"
   },
   {
    "duration": 13,
    "start_time": "2022-07-17T14:29:15.190Z"
   },
   {
    "duration": 21,
    "start_time": "2022-07-17T14:29:16.787Z"
   },
   {
    "duration": 6,
    "start_time": "2022-07-17T14:29:18.491Z"
   },
   {
    "duration": 14,
    "start_time": "2022-07-17T14:29:20.690Z"
   },
   {
    "duration": 15,
    "start_time": "2022-07-17T14:29:21.704Z"
   },
   {
    "duration": 25,
    "start_time": "2022-07-17T14:29:23.257Z"
   },
   {
    "duration": 7,
    "start_time": "2022-07-17T14:29:26.482Z"
   },
   {
    "duration": 14,
    "start_time": "2022-07-17T14:29:27.638Z"
   },
   {
    "duration": 4,
    "start_time": "2022-07-17T14:29:32.885Z"
   },
   {
    "duration": 29,
    "start_time": "2022-07-17T14:29:33.821Z"
   },
   {
    "duration": 43,
    "start_time": "2022-07-17T14:29:34.776Z"
   },
   {
    "duration": 21,
    "start_time": "2022-07-17T14:29:35.716Z"
   },
   {
    "duration": 28,
    "start_time": "2022-07-17T14:29:36.757Z"
   },
   {
    "duration": 29,
    "start_time": "2022-07-17T14:29:37.704Z"
   },
   {
    "duration": 26,
    "start_time": "2022-07-17T14:29:38.653Z"
   },
   {
    "duration": 30,
    "start_time": "2022-07-17T14:29:39.738Z"
   },
   {
    "duration": 22,
    "start_time": "2022-07-17T14:29:40.905Z"
   },
   {
    "duration": 23,
    "start_time": "2022-07-17T14:29:41.697Z"
   },
   {
    "duration": 19,
    "start_time": "2022-07-17T14:29:43.391Z"
   },
   {
    "duration": 31,
    "start_time": "2022-07-17T14:29:46.062Z"
   },
   {
    "duration": 10,
    "start_time": "2022-07-17T14:29:49.791Z"
   },
   {
    "duration": 198,
    "start_time": "2022-07-17T14:29:51.019Z"
   },
   {
    "duration": 10,
    "start_time": "2022-07-17T14:29:53.256Z"
   },
   {
    "duration": 23,
    "start_time": "2022-07-17T14:31:41.407Z"
   },
   {
    "duration": 64,
    "start_time": "2022-07-17T14:36:24.297Z"
   },
   {
    "duration": 42,
    "start_time": "2022-07-17T14:36:40.181Z"
   },
   {
    "duration": 21,
    "start_time": "2022-07-17T14:39:15.973Z"
   },
   {
    "duration": 21,
    "start_time": "2022-07-17T14:42:41.115Z"
   },
   {
    "duration": 21,
    "start_time": "2022-07-17T14:42:45.661Z"
   },
   {
    "duration": 22,
    "start_time": "2022-07-17T14:43:19.964Z"
   },
   {
    "duration": 27,
    "start_time": "2022-07-17T14:43:26.984Z"
   },
   {
    "duration": 15,
    "start_time": "2022-07-17T14:43:35.784Z"
   },
   {
    "duration": 17,
    "start_time": "2022-07-17T14:43:52.835Z"
   },
   {
    "duration": 14,
    "start_time": "2022-07-17T14:43:57.365Z"
   },
   {
    "duration": 13,
    "start_time": "2022-07-17T14:44:16.375Z"
   },
   {
    "duration": 157,
    "start_time": "2022-07-17T14:44:20.120Z"
   },
   {
    "duration": 7,
    "start_time": "2022-07-17T14:44:28.214Z"
   },
   {
    "duration": 132,
    "start_time": "2022-07-17T14:44:30.858Z"
   },
   {
    "duration": 24,
    "start_time": "2022-07-17T14:44:46.780Z"
   },
   {
    "duration": 28,
    "start_time": "2022-07-17T14:45:21.262Z"
   },
   {
    "duration": 30,
    "start_time": "2022-07-17T14:45:48.681Z"
   },
   {
    "duration": 19,
    "start_time": "2022-07-17T14:47:43.983Z"
   },
   {
    "duration": 32,
    "start_time": "2022-07-17T14:47:54.226Z"
   },
   {
    "duration": 26,
    "start_time": "2022-07-17T14:48:07.652Z"
   },
   {
    "duration": 32,
    "start_time": "2022-07-17T14:48:17.006Z"
   },
   {
    "duration": 21,
    "start_time": "2022-07-17T14:51:14.463Z"
   },
   {
    "duration": 20,
    "start_time": "2022-07-17T14:51:21.466Z"
   },
   {
    "duration": 22,
    "start_time": "2022-07-17T14:52:03.665Z"
   },
   {
    "duration": 56,
    "start_time": "2022-07-17T14:55:12.150Z"
   },
   {
    "duration": 46,
    "start_time": "2022-07-17T14:55:19.816Z"
   },
   {
    "duration": 64,
    "start_time": "2022-07-17T14:55:36.048Z"
   },
   {
    "duration": 54,
    "start_time": "2022-07-17T14:55:59.708Z"
   },
   {
    "duration": 114,
    "start_time": "2022-07-17T14:56:07.660Z"
   },
   {
    "duration": 27,
    "start_time": "2022-07-17T14:56:28.662Z"
   },
   {
    "duration": 1334,
    "start_time": "2022-07-17T14:56:46.003Z"
   },
   {
    "duration": 22,
    "start_time": "2022-07-17T14:57:10.101Z"
   },
   {
    "duration": 634,
    "start_time": "2022-07-17T14:57:15.985Z"
   },
   {
    "duration": 640,
    "start_time": "2022-07-17T14:57:55.103Z"
   },
   {
    "duration": 131,
    "start_time": "2022-07-17T14:58:18.180Z"
   },
   {
    "duration": 127,
    "start_time": "2022-07-17T14:58:42.771Z"
   },
   {
    "duration": 123,
    "start_time": "2022-07-17T14:59:21.347Z"
   },
   {
    "duration": 22,
    "start_time": "2022-07-17T15:00:01.901Z"
   },
   {
    "duration": 19,
    "start_time": "2022-07-17T15:05:20.841Z"
   },
   {
    "duration": 38,
    "start_time": "2022-07-17T15:05:40.859Z"
   },
   {
    "duration": 18,
    "start_time": "2022-07-17T15:05:42.193Z"
   },
   {
    "duration": 8,
    "start_time": "2022-07-17T15:05:56.153Z"
   },
   {
    "duration": 14,
    "start_time": "2022-07-17T15:06:06.862Z"
   },
   {
    "duration": 30,
    "start_time": "2022-07-17T15:07:32.657Z"
   },
   {
    "duration": 9,
    "start_time": "2022-07-17T15:08:29.705Z"
   },
   {
    "duration": 19,
    "start_time": "2022-07-17T15:08:34.864Z"
   },
   {
    "duration": 49,
    "start_time": "2022-07-17T15:09:39.055Z"
   },
   {
    "duration": 18,
    "start_time": "2022-07-17T15:09:45.657Z"
   },
   {
    "duration": 17,
    "start_time": "2022-07-17T15:09:56.504Z"
   },
   {
    "duration": 22,
    "start_time": "2022-07-17T15:10:09.025Z"
   },
   {
    "duration": 35,
    "start_time": "2022-07-17T15:20:44.723Z"
   },
   {
    "duration": 38,
    "start_time": "2022-07-17T15:21:03.822Z"
   },
   {
    "duration": 1560,
    "start_time": "2022-07-17T15:32:48.305Z"
   },
   {
    "duration": 1880,
    "start_time": "2022-07-17T15:33:13.923Z"
   },
   {
    "duration": 1187,
    "start_time": "2022-07-17T15:34:39.334Z"
   },
   {
    "duration": 1152,
    "start_time": "2022-07-17T15:35:12.133Z"
   },
   {
    "duration": 2315,
    "start_time": "2022-07-17T15:35:15.232Z"
   },
   {
    "duration": 1412,
    "start_time": "2022-07-17T15:36:45.373Z"
   },
   {
    "duration": 2511,
    "start_time": "2022-07-17T15:46:09.604Z"
   },
   {
    "duration": 1508,
    "start_time": "2022-07-17T15:47:58.467Z"
   },
   {
    "duration": 1779,
    "start_time": "2022-07-17T15:52:09.568Z"
   },
   {
    "duration": 10,
    "start_time": "2022-07-17T16:17:48.713Z"
   },
   {
    "duration": 110,
    "start_time": "2022-07-17T16:17:56.180Z"
   },
   {
    "duration": 11,
    "start_time": "2022-07-17T16:17:56.374Z"
   },
   {
    "duration": 71,
    "start_time": "2022-07-17T16:17:56.575Z"
   },
   {
    "duration": 1785,
    "start_time": "2022-07-17T16:17:56.762Z"
   },
   {
    "duration": 0,
    "start_time": "2022-07-17T16:17:58.549Z"
   },
   {
    "duration": 0,
    "start_time": "2022-07-17T16:17:58.550Z"
   },
   {
    "duration": 0,
    "start_time": "2022-07-17T16:17:58.551Z"
   },
   {
    "duration": 0,
    "start_time": "2022-07-17T16:17:58.552Z"
   },
   {
    "duration": 0,
    "start_time": "2022-07-17T16:17:58.553Z"
   },
   {
    "duration": 0,
    "start_time": "2022-07-17T16:17:58.554Z"
   },
   {
    "duration": 6,
    "start_time": "2022-07-17T16:17:58.756Z"
   },
   {
    "duration": 13,
    "start_time": "2022-07-17T16:17:59.169Z"
   },
   {
    "duration": 13,
    "start_time": "2022-07-17T16:17:59.325Z"
   },
   {
    "duration": 13,
    "start_time": "2022-07-17T16:17:59.514Z"
   },
   {
    "duration": 7,
    "start_time": "2022-07-17T16:17:59.991Z"
   },
   {
    "duration": 15,
    "start_time": "2022-07-17T16:18:00.247Z"
   },
   {
    "duration": 3,
    "start_time": "2022-07-17T16:18:01.543Z"
   },
   {
    "duration": 26,
    "start_time": "2022-07-17T16:18:01.568Z"
   },
   {
    "duration": 39,
    "start_time": "2022-07-17T16:18:01.724Z"
   },
   {
    "duration": 47,
    "start_time": "2022-07-17T16:18:01.918Z"
   },
   {
    "duration": 32,
    "start_time": "2022-07-17T16:18:02.080Z"
   },
   {
    "duration": 44,
    "start_time": "2022-07-17T16:18:02.296Z"
   },
   {
    "duration": 20,
    "start_time": "2022-07-17T16:18:02.492Z"
   },
   {
    "duration": 33,
    "start_time": "2022-07-17T16:18:02.696Z"
   },
   {
    "duration": 39,
    "start_time": "2022-07-17T16:18:02.867Z"
   },
   {
    "duration": 26,
    "start_time": "2022-07-17T16:18:03.061Z"
   },
   {
    "duration": 22,
    "start_time": "2022-07-17T16:18:03.191Z"
   },
   {
    "duration": 28,
    "start_time": "2022-07-17T16:18:03.392Z"
   },
   {
    "duration": 28,
    "start_time": "2022-07-17T16:18:03.563Z"
   },
   {
    "duration": 22,
    "start_time": "2022-07-17T16:18:03.782Z"
   },
   {
    "duration": 18,
    "start_time": "2022-07-17T16:18:04.158Z"
   },
   {
    "duration": 14,
    "start_time": "2022-07-17T16:18:04.565Z"
   },
   {
    "duration": 7,
    "start_time": "2022-07-17T16:18:07.220Z"
   },
   {
    "duration": 196,
    "start_time": "2022-07-17T16:18:08.821Z"
   },
   {
    "duration": 162,
    "start_time": "2022-07-17T16:18:27.392Z"
   },
   {
    "duration": 146,
    "start_time": "2022-07-17T16:18:36.905Z"
   },
   {
    "duration": 189,
    "start_time": "2022-07-17T16:18:45.359Z"
   },
   {
    "duration": 153,
    "start_time": "2022-07-17T16:18:52.784Z"
   },
   {
    "duration": 152,
    "start_time": "2022-07-17T16:19:03.389Z"
   },
   {
    "duration": 160,
    "start_time": "2022-07-17T16:19:42.779Z"
   },
   {
    "duration": 51,
    "start_time": "2022-07-17T16:20:25.066Z"
   },
   {
    "duration": 52,
    "start_time": "2022-07-17T16:20:40.621Z"
   },
   {
    "duration": 139,
    "start_time": "2022-07-17T16:20:49.391Z"
   },
   {
    "duration": 212,
    "start_time": "2022-07-17T16:20:59.370Z"
   },
   {
    "duration": 141,
    "start_time": "2022-07-17T16:21:14.614Z"
   },
   {
    "duration": 133,
    "start_time": "2022-07-17T16:27:58.099Z"
   },
   {
    "duration": 146,
    "start_time": "2022-07-17T16:36:33.495Z"
   },
   {
    "duration": 9,
    "start_time": "2022-07-17T16:43:36.229Z"
   },
   {
    "duration": 21,
    "start_time": "2022-07-17T16:43:43.274Z"
   },
   {
    "duration": 32,
    "start_time": "2022-07-17T16:44:15.621Z"
   },
   {
    "duration": 28,
    "start_time": "2022-07-17T16:44:38.674Z"
   },
   {
    "duration": 30,
    "start_time": "2022-07-17T16:45:01.425Z"
   },
   {
    "duration": 25,
    "start_time": "2022-07-17T16:45:12.605Z"
   },
   {
    "duration": 23,
    "start_time": "2022-07-17T16:45:44.496Z"
   },
   {
    "duration": 112,
    "start_time": "2022-07-17T16:46:01.196Z"
   },
   {
    "duration": 21,
    "start_time": "2022-07-17T16:46:26.635Z"
   },
   {
    "duration": 25,
    "start_time": "2022-07-17T16:46:34.905Z"
   },
   {
    "duration": 22,
    "start_time": "2022-07-17T16:46:59.826Z"
   },
   {
    "duration": 23,
    "start_time": "2022-07-17T16:47:15.005Z"
   },
   {
    "duration": 16,
    "start_time": "2022-07-17T16:47:41.814Z"
   },
   {
    "duration": 12,
    "start_time": "2022-07-17T16:48:41.291Z"
   },
   {
    "duration": 16,
    "start_time": "2022-07-17T16:48:53.074Z"
   },
   {
    "duration": 159,
    "start_time": "2022-07-17T16:49:02.934Z"
   },
   {
    "duration": 161,
    "start_time": "2022-07-17T16:55:03.592Z"
   },
   {
    "duration": 163,
    "start_time": "2022-07-17T16:55:25.875Z"
   },
   {
    "duration": 165,
    "start_time": "2022-07-17T16:55:48.329Z"
   },
   {
    "duration": 184,
    "start_time": "2022-07-17T16:56:09.375Z"
   },
   {
    "duration": 174,
    "start_time": "2022-07-17T16:56:30.435Z"
   },
   {
    "duration": 11,
    "start_time": "2022-07-17T17:01:39.408Z"
   },
   {
    "duration": 11,
    "start_time": "2022-07-17T17:02:16.975Z"
   },
   {
    "duration": 10,
    "start_time": "2022-07-17T17:02:50.185Z"
   },
   {
    "duration": 83,
    "start_time": "2022-07-17T17:16:22.209Z"
   },
   {
    "duration": 86,
    "start_time": "2022-07-17T17:16:25.988Z"
   },
   {
    "duration": 6,
    "start_time": "2022-07-17T17:16:39.781Z"
   },
   {
    "duration": 17,
    "start_time": "2022-07-17T17:17:14.569Z"
   },
   {
    "duration": 6,
    "start_time": "2022-07-17T17:17:18.377Z"
   },
   {
    "duration": 22,
    "start_time": "2022-07-17T17:17:26.982Z"
   },
   {
    "duration": 6,
    "start_time": "2022-07-17T17:17:29.489Z"
   },
   {
    "duration": 6,
    "start_time": "2022-07-17T17:17:32.990Z"
   },
   {
    "duration": 17,
    "start_time": "2022-07-17T17:17:38.314Z"
   },
   {
    "duration": 6,
    "start_time": "2022-07-17T17:17:40.281Z"
   },
   {
    "duration": 79,
    "start_time": "2022-07-17T17:17:58.281Z"
   },
   {
    "duration": 6,
    "start_time": "2022-07-17T17:18:00.123Z"
   },
   {
    "duration": 17,
    "start_time": "2022-07-17T17:18:34.215Z"
   },
   {
    "duration": 6,
    "start_time": "2022-07-17T17:18:36.316Z"
   },
   {
    "duration": 6,
    "start_time": "2022-07-17T17:18:45.082Z"
   },
   {
    "duration": 95,
    "start_time": "2022-07-17T17:18:47.469Z"
   },
   {
    "duration": 6,
    "start_time": "2022-07-17T17:18:49.169Z"
   },
   {
    "duration": 17,
    "start_time": "2022-07-17T17:19:14.513Z"
   },
   {
    "duration": 5,
    "start_time": "2022-07-17T17:19:15.586Z"
   },
   {
    "duration": 5,
    "start_time": "2022-07-17T17:19:27.329Z"
   },
   {
    "duration": 15,
    "start_time": "2022-07-17T17:20:04.981Z"
   },
   {
    "duration": 5,
    "start_time": "2022-07-17T17:20:07.434Z"
   },
   {
    "duration": 267,
    "start_time": "2022-07-17T17:21:08.469Z"
   },
   {
    "duration": 88,
    "start_time": "2022-07-17T17:22:01.577Z"
   },
   {
    "duration": 6,
    "start_time": "2022-07-17T17:22:02.897Z"
   },
   {
    "duration": 15,
    "start_time": "2022-07-17T17:22:17.440Z"
   },
   {
    "duration": 5,
    "start_time": "2022-07-17T17:23:55.324Z"
   },
   {
    "duration": 11,
    "start_time": "2022-07-17T17:25:53.224Z"
   },
   {
    "duration": 14,
    "start_time": "2022-07-17T17:26:05.140Z"
   },
   {
    "duration": 19,
    "start_time": "2022-07-17T17:28:12.524Z"
   },
   {
    "duration": 112,
    "start_time": "2022-07-17T17:28:25.440Z"
   },
   {
    "duration": 19,
    "start_time": "2022-07-17T17:29:00.296Z"
   },
   {
    "duration": 20,
    "start_time": "2022-07-17T17:29:11.073Z"
   },
   {
    "duration": 13,
    "start_time": "2022-07-17T17:29:21.847Z"
   },
   {
    "duration": 201,
    "start_time": "2022-07-17T17:31:11.481Z"
   },
   {
    "duration": 6,
    "start_time": "2022-07-17T17:33:35.097Z"
   },
   {
    "duration": 888,
    "start_time": "2022-07-17T18:33:39.511Z"
   },
   {
    "duration": 8,
    "start_time": "2022-07-17T18:38:38.611Z"
   },
   {
    "duration": 8,
    "start_time": "2022-07-17T18:38:41.112Z"
   },
   {
    "duration": 16,
    "start_time": "2022-07-17T18:38:49.370Z"
   },
   {
    "duration": 164,
    "start_time": "2022-07-17T18:40:33.601Z"
   },
   {
    "duration": 184,
    "start_time": "2022-07-17T18:40:49.776Z"
   },
   {
    "duration": 20,
    "start_time": "2022-07-17T18:44:30.411Z"
   },
   {
    "duration": 831,
    "start_time": "2022-07-17T18:47:44.195Z"
   },
   {
    "duration": 11,
    "start_time": "2022-07-17T18:48:33.410Z"
   },
   {
    "duration": 11,
    "start_time": "2022-07-17T18:48:55.621Z"
   },
   {
    "duration": 9,
    "start_time": "2022-07-17T18:49:17.483Z"
   },
   {
    "duration": 13,
    "start_time": "2022-07-17T18:49:25.603Z"
   },
   {
    "duration": 52,
    "start_time": "2022-07-17T18:50:25.253Z"
   },
   {
    "duration": 16,
    "start_time": "2022-07-17T18:50:38.967Z"
   },
   {
    "duration": 13,
    "start_time": "2022-07-17T18:51:20.789Z"
   },
   {
    "duration": 11,
    "start_time": "2022-07-17T18:52:14.659Z"
   },
   {
    "duration": 10,
    "start_time": "2022-07-17T18:52:36.035Z"
   },
   {
    "duration": 58,
    "start_time": "2022-07-17T18:52:56.930Z"
   },
   {
    "duration": 48,
    "start_time": "2022-07-17T18:53:01.876Z"
   },
   {
    "duration": 15,
    "start_time": "2022-07-17T18:53:09.665Z"
   },
   {
    "duration": 11,
    "start_time": "2022-07-17T18:53:25.997Z"
   },
   {
    "duration": 14,
    "start_time": "2022-07-17T18:53:33.355Z"
   },
   {
    "duration": 11,
    "start_time": "2022-07-17T18:53:51.495Z"
   },
   {
    "duration": 13,
    "start_time": "2022-07-17T18:54:08.709Z"
   },
   {
    "duration": 7,
    "start_time": "2022-07-17T18:54:49.325Z"
   },
   {
    "duration": 9,
    "start_time": "2022-07-17T18:55:10.952Z"
   },
   {
    "duration": 23,
    "start_time": "2022-07-17T18:56:04.161Z"
   },
   {
    "duration": 9,
    "start_time": "2022-07-17T18:56:11.007Z"
   },
   {
    "duration": 919,
    "start_time": "2022-07-17T19:13:42.323Z"
   },
   {
    "duration": 934,
    "start_time": "2022-07-17T19:14:14.471Z"
   },
   {
    "duration": 1365,
    "start_time": "2022-07-17T19:14:52.652Z"
   },
   {
    "duration": 149,
    "start_time": "2022-07-17T19:15:02.038Z"
   },
   {
    "duration": 91,
    "start_time": "2022-07-17T19:17:00.176Z"
   },
   {
    "duration": 12,
    "start_time": "2022-07-17T19:22:19.372Z"
   },
   {
    "duration": 14,
    "start_time": "2022-07-17T19:23:22.057Z"
   },
   {
    "duration": 25,
    "start_time": "2022-07-17T19:25:54.503Z"
   },
   {
    "duration": 152,
    "start_time": "2022-07-17T19:26:02.301Z"
   },
   {
    "duration": 47,
    "start_time": "2022-07-17T19:38:40.370Z"
   },
   {
    "duration": 1343,
    "start_time": "2022-07-19T19:13:18.884Z"
   },
   {
    "duration": 6,
    "start_time": "2022-07-19T19:13:20.229Z"
   },
   {
    "duration": 117,
    "start_time": "2022-07-19T19:13:20.345Z"
   },
   {
    "duration": 1433,
    "start_time": "2022-07-19T19:13:30.571Z"
   },
   {
    "duration": 14,
    "start_time": "2022-07-19T19:13:32.006Z"
   },
   {
    "duration": 2,
    "start_time": "2022-07-19T19:13:32.732Z"
   },
   {
    "duration": 2,
    "start_time": "2022-07-19T19:13:33.929Z"
   },
   {
    "duration": 12,
    "start_time": "2022-07-19T19:13:35.667Z"
   },
   {
    "duration": 12,
    "start_time": "2022-07-19T19:13:44.240Z"
   },
   {
    "duration": 20,
    "start_time": "2022-07-19T19:13:45.777Z"
   },
   {
    "duration": 6,
    "start_time": "2022-07-19T19:13:58.543Z"
   },
   {
    "duration": 12,
    "start_time": "2022-07-19T19:14:00.325Z"
   },
   {
    "duration": 17,
    "start_time": "2022-07-19T19:14:01.243Z"
   },
   {
    "duration": 14,
    "start_time": "2022-07-19T19:14:01.756Z"
   },
   {
    "duration": 6,
    "start_time": "2022-07-19T19:14:03.162Z"
   },
   {
    "duration": 14,
    "start_time": "2022-07-19T19:14:04.481Z"
   },
   {
    "duration": 3,
    "start_time": "2022-07-19T19:14:06.526Z"
   },
   {
    "duration": 20,
    "start_time": "2022-07-19T19:14:07.789Z"
   },
   {
    "duration": 40,
    "start_time": "2022-07-19T19:14:08.674Z"
   },
   {
    "duration": 26,
    "start_time": "2022-07-19T19:14:09.873Z"
   },
   {
    "duration": 20,
    "start_time": "2022-07-19T19:14:10.697Z"
   },
   {
    "duration": 29,
    "start_time": "2022-07-19T19:14:11.455Z"
   },
   {
    "duration": 20,
    "start_time": "2022-07-19T19:14:12.220Z"
   },
   {
    "duration": 23,
    "start_time": "2022-07-19T19:14:13.011Z"
   },
   {
    "duration": 23,
    "start_time": "2022-07-19T19:14:13.660Z"
   },
   {
    "duration": 24,
    "start_time": "2022-07-19T19:14:14.548Z"
   },
   {
    "duration": 19,
    "start_time": "2022-07-19T19:14:15.342Z"
   },
   {
    "duration": 21,
    "start_time": "2022-07-19T19:14:16.162Z"
   },
   {
    "duration": 23,
    "start_time": "2022-07-19T19:14:17.993Z"
   },
   {
    "duration": 23,
    "start_time": "2022-07-19T19:14:18.753Z"
   },
   {
    "duration": 14,
    "start_time": "2022-07-19T19:14:20.369Z"
   },
   {
    "duration": 15,
    "start_time": "2022-07-19T19:14:22.503Z"
   },
   {
    "duration": 7,
    "start_time": "2022-07-19T19:14:24.961Z"
   },
   {
    "duration": 300,
    "start_time": "2022-07-19T19:16:38.821Z"
   },
   {
    "duration": 161,
    "start_time": "2022-07-19T19:16:47.365Z"
   },
   {
    "duration": 10,
    "start_time": "2022-07-19T19:19:01.216Z"
   },
   {
    "duration": 31,
    "start_time": "2022-07-19T19:19:08.565Z"
   },
   {
    "duration": 1023,
    "start_time": "2022-07-19T19:19:10.561Z"
   },
   {
    "duration": 1117,
    "start_time": "2022-07-19T19:20:05.170Z"
   },
   {
    "duration": 1201,
    "start_time": "2022-07-19T19:20:46.005Z"
   },
   {
    "duration": 1066,
    "start_time": "2022-07-19T19:24:41.609Z"
   },
   {
    "duration": 1188,
    "start_time": "2022-07-19T19:25:15.343Z"
   },
   {
    "duration": 1073,
    "start_time": "2022-07-19T19:25:30.397Z"
   },
   {
    "duration": 1251,
    "start_time": "2022-07-19T19:25:46.725Z"
   },
   {
    "duration": 1083,
    "start_time": "2022-07-19T19:33:21.066Z"
   },
   {
    "duration": 1494,
    "start_time": "2022-07-19T19:33:28.844Z"
   },
   {
    "duration": 1077,
    "start_time": "2022-07-19T19:33:45.612Z"
   },
   {
    "duration": 1279,
    "start_time": "2022-07-19T19:34:18.067Z"
   },
   {
    "duration": 1015,
    "start_time": "2022-07-19T19:34:44.677Z"
   },
   {
    "duration": 1372,
    "start_time": "2022-07-19T19:35:08.112Z"
   },
   {
    "duration": 1080,
    "start_time": "2022-07-19T19:36:00.940Z"
   },
   {
    "duration": 1161,
    "start_time": "2022-07-19T19:36:19.414Z"
   },
   {
    "duration": 1496,
    "start_time": "2022-07-19T19:36:46.416Z"
   },
   {
    "duration": 19,
    "start_time": "2022-07-19T19:37:02.661Z"
   },
   {
    "duration": 1195,
    "start_time": "2022-07-19T19:37:08.679Z"
   },
   {
    "duration": 1070,
    "start_time": "2022-07-19T19:37:23.553Z"
   },
   {
    "duration": 106,
    "start_time": "2022-07-19T19:38:22.034Z"
   },
   {
    "duration": 107,
    "start_time": "2022-07-19T19:38:26.135Z"
   },
   {
    "duration": 100,
    "start_time": "2022-07-19T19:38:31.812Z"
   },
   {
    "duration": 9,
    "start_time": "2022-07-19T19:40:33.734Z"
   },
   {
    "duration": 18,
    "start_time": "2022-07-19T19:40:42.815Z"
   },
   {
    "duration": 88,
    "start_time": "2022-07-19T19:40:52.361Z"
   },
   {
    "duration": 223,
    "start_time": "2022-07-19T19:40:55.535Z"
   },
   {
    "duration": 12,
    "start_time": "2022-07-19T19:41:02.713Z"
   },
   {
    "duration": 9,
    "start_time": "2022-07-19T19:41:49.429Z"
   },
   {
    "duration": 18,
    "start_time": "2022-07-19T19:42:11.117Z"
   },
   {
    "duration": 17,
    "start_time": "2022-07-19T19:42:17.971Z"
   },
   {
    "duration": 11,
    "start_time": "2022-07-19T19:42:39.782Z"
   },
   {
    "duration": 51,
    "start_time": "2022-07-20T19:29:01.170Z"
   },
   {
    "duration": 1366,
    "start_time": "2022-07-20T19:29:07.982Z"
   },
   {
    "duration": 6,
    "start_time": "2022-07-20T19:29:09.350Z"
   },
   {
    "duration": 128,
    "start_time": "2022-07-20T19:29:09.358Z"
   },
   {
    "duration": 1448,
    "start_time": "2022-07-20T19:29:09.489Z"
   },
   {
    "duration": 21,
    "start_time": "2022-07-20T19:29:10.939Z"
   },
   {
    "duration": 3,
    "start_time": "2022-07-20T19:29:10.962Z"
   },
   {
    "duration": 8,
    "start_time": "2022-07-20T19:29:10.966Z"
   },
   {
    "duration": 14,
    "start_time": "2022-07-20T19:29:10.977Z"
   },
   {
    "duration": 22,
    "start_time": "2022-07-20T19:29:10.993Z"
   },
   {
    "duration": 42,
    "start_time": "2022-07-20T19:29:11.017Z"
   },
   {
    "duration": 6,
    "start_time": "2022-07-20T19:29:11.061Z"
   },
   {
    "duration": 12,
    "start_time": "2022-07-20T19:29:11.116Z"
   },
   {
    "duration": 15,
    "start_time": "2022-07-20T19:29:11.263Z"
   },
   {
    "duration": 16,
    "start_time": "2022-07-20T19:29:11.526Z"
   },
   {
    "duration": 6,
    "start_time": "2022-07-20T19:29:11.951Z"
   },
   {
    "duration": 14,
    "start_time": "2022-07-20T19:29:12.098Z"
   },
   {
    "duration": 3,
    "start_time": "2022-07-20T19:29:12.500Z"
   },
   {
    "duration": 20,
    "start_time": "2022-07-20T19:29:12.733Z"
   },
   {
    "duration": 41,
    "start_time": "2022-07-20T19:29:12.870Z"
   },
   {
    "duration": 27,
    "start_time": "2022-07-20T19:29:13.140Z"
   },
   {
    "duration": 20,
    "start_time": "2022-07-20T19:29:13.312Z"
   },
   {
    "duration": 29,
    "start_time": "2022-07-20T19:29:13.530Z"
   },
   {
    "duration": 23,
    "start_time": "2022-07-20T19:29:13.672Z"
   },
   {
    "duration": 32,
    "start_time": "2022-07-20T19:29:13.957Z"
   },
   {
    "duration": 25,
    "start_time": "2022-07-20T19:29:14.123Z"
   },
   {
    "duration": 24,
    "start_time": "2022-07-20T19:29:14.346Z"
   },
   {
    "duration": 21,
    "start_time": "2022-07-20T19:29:14.481Z"
   },
   {
    "duration": 30,
    "start_time": "2022-07-20T19:29:14.752Z"
   },
   {
    "duration": 30,
    "start_time": "2022-07-20T19:29:14.905Z"
   },
   {
    "duration": 21,
    "start_time": "2022-07-20T19:29:15.168Z"
   },
   {
    "duration": 14,
    "start_time": "2022-07-20T19:29:15.557Z"
   },
   {
    "duration": 13,
    "start_time": "2022-07-20T19:29:15.997Z"
   },
   {
    "duration": 6,
    "start_time": "2022-07-20T19:29:16.558Z"
   },
   {
    "duration": 197,
    "start_time": "2022-07-20T19:29:16.871Z"
   },
   {
    "duration": 7,
    "start_time": "2022-07-20T19:29:20.210Z"
   },
   {
    "duration": 99,
    "start_time": "2022-07-20T19:29:21.326Z"
   },
   {
    "duration": 25,
    "start_time": "2022-07-20T19:29:22.931Z"
   },
   {
    "duration": 26,
    "start_time": "2022-07-20T19:29:25.530Z"
   },
   {
    "duration": 1104,
    "start_time": "2022-07-20T19:29:27.146Z"
   },
   {
    "duration": 250,
    "start_time": "2022-07-20T19:29:39.250Z"
   },
   {
    "duration": 191,
    "start_time": "2022-07-20T19:29:59.731Z"
   },
   {
    "duration": 183,
    "start_time": "2022-07-20T19:30:15.783Z"
   },
   {
    "duration": 198,
    "start_time": "2022-07-20T19:30:30.142Z"
   },
   {
    "duration": 7,
    "start_time": "2022-07-20T20:21:42.165Z"
   },
   {
    "duration": 163,
    "start_time": "2022-07-20T20:21:44.828Z"
   },
   {
    "duration": 1262,
    "start_time": "2022-07-20T20:43:46.101Z"
   },
   {
    "duration": 1150,
    "start_time": "2022-07-20T20:43:54.545Z"
   },
   {
    "duration": 1221,
    "start_time": "2022-07-20T20:44:21.700Z"
   },
   {
    "duration": 936,
    "start_time": "2022-07-20T20:45:04.848Z"
   },
   {
    "duration": 1125,
    "start_time": "2022-07-20T20:45:28.511Z"
   },
   {
    "duration": 1121,
    "start_time": "2022-07-20T20:45:36.667Z"
   },
   {
    "duration": 185,
    "start_time": "2022-07-20T20:46:04.076Z"
   },
   {
    "duration": 11,
    "start_time": "2022-07-20T20:47:58.742Z"
   },
   {
    "duration": 1786,
    "start_time": "2022-07-23T16:47:20.003Z"
   },
   {
    "duration": 292,
    "start_time": "2022-07-23T16:50:11.926Z"
   },
   {
    "duration": 1611,
    "start_time": "2022-07-23T16:50:15.446Z"
   },
   {
    "duration": 25,
    "start_time": "2022-07-23T16:50:19.299Z"
   },
   {
    "duration": 4,
    "start_time": "2022-07-23T16:50:21.436Z"
   },
   {
    "duration": 5,
    "start_time": "2022-07-23T16:50:22.252Z"
   },
   {
    "duration": 17,
    "start_time": "2022-07-23T16:50:24.157Z"
   },
   {
    "duration": 20,
    "start_time": "2022-07-23T16:50:26.773Z"
   },
   {
    "duration": 100,
    "start_time": "2022-07-23T16:50:27.732Z"
   },
   {
    "duration": 24,
    "start_time": "2022-07-23T16:50:39.653Z"
   },
   {
    "duration": 8,
    "start_time": "2022-07-23T16:50:41.167Z"
   },
   {
    "duration": 18,
    "start_time": "2022-07-23T16:50:42.387Z"
   },
   {
    "duration": 42,
    "start_time": "2022-07-23T16:50:42.906Z"
   },
   {
    "duration": 16,
    "start_time": "2022-07-23T16:50:43.282Z"
   },
   {
    "duration": 6,
    "start_time": "2022-07-23T16:50:44.347Z"
   },
   {
    "duration": 26,
    "start_time": "2022-07-23T16:50:44.866Z"
   },
   {
    "duration": 4,
    "start_time": "2022-07-23T16:50:46.262Z"
   },
   {
    "duration": 25,
    "start_time": "2022-07-23T16:50:46.875Z"
   },
   {
    "duration": 68,
    "start_time": "2022-07-23T16:50:47.037Z"
   },
   {
    "duration": 56,
    "start_time": "2022-07-23T16:50:47.390Z"
   },
   {
    "duration": 37,
    "start_time": "2022-07-23T16:50:47.547Z"
   },
   {
    "duration": 45,
    "start_time": "2022-07-23T16:50:47.852Z"
   },
   {
    "duration": 30,
    "start_time": "2022-07-23T16:50:48.037Z"
   },
   {
    "duration": 43,
    "start_time": "2022-07-23T16:50:48.253Z"
   },
   {
    "duration": 48,
    "start_time": "2022-07-23T16:50:48.390Z"
   },
   {
    "duration": 34,
    "start_time": "2022-07-23T16:50:48.671Z"
   },
   {
    "duration": 44,
    "start_time": "2022-07-23T16:50:48.804Z"
   },
   {
    "duration": 30,
    "start_time": "2022-07-23T16:50:49.149Z"
   },
   {
    "duration": 52,
    "start_time": "2022-07-23T16:50:49.265Z"
   },
   {
    "duration": 44,
    "start_time": "2022-07-23T16:50:49.688Z"
   },
   {
    "duration": 22,
    "start_time": "2022-07-23T16:50:50.169Z"
   },
   {
    "duration": 20,
    "start_time": "2022-07-23T16:50:51.828Z"
   },
   {
    "duration": 11,
    "start_time": "2022-07-23T16:50:56.236Z"
   },
   {
    "duration": 544,
    "start_time": "2022-07-23T17:02:24.405Z"
   },
   {
    "duration": 236,
    "start_time": "2022-07-23T17:02:31.225Z"
   },
   {
    "duration": 335,
    "start_time": "2022-07-23T17:03:33.905Z"
   },
   {
    "duration": 296,
    "start_time": "2022-07-23T17:03:47.889Z"
   },
   {
    "duration": 228,
    "start_time": "2022-07-23T17:06:37.208Z"
   },
   {
    "duration": 59,
    "start_time": "2022-07-23T17:06:47.351Z"
   },
   {
    "duration": 103,
    "start_time": "2022-07-23T17:06:50.445Z"
   },
   {
    "duration": 2021,
    "start_time": "2022-07-23T17:06:51.834Z"
   },
   {
    "duration": 2348,
    "start_time": "2022-07-23T17:08:14.083Z"
   },
   {
    "duration": 1406,
    "start_time": "2022-07-23T17:08:51.670Z"
   },
   {
    "duration": 1620,
    "start_time": "2022-07-23T17:09:18.568Z"
   },
   {
    "duration": 18,
    "start_time": "2022-07-23T17:09:36.966Z"
   },
   {
    "duration": 1345,
    "start_time": "2022-07-23T17:09:41.150Z"
   },
   {
    "duration": 1980,
    "start_time": "2022-07-23T17:10:01.983Z"
   },
   {
    "duration": 1202,
    "start_time": "2022-07-23T17:10:19.400Z"
   },
   {
    "duration": 1532,
    "start_time": "2022-07-23T17:11:01.554Z"
   },
   {
    "duration": 1010,
    "start_time": "2022-07-23T17:11:58.059Z"
   },
   {
    "duration": 1073,
    "start_time": "2022-07-23T17:12:17.452Z"
   },
   {
    "duration": 1419,
    "start_time": "2022-07-23T17:13:57.501Z"
   },
   {
    "duration": 1307,
    "start_time": "2022-07-23T17:14:51.499Z"
   },
   {
    "duration": 1224,
    "start_time": "2022-07-23T17:14:57.883Z"
   },
   {
    "duration": 1486,
    "start_time": "2022-07-23T17:15:14.109Z"
   },
   {
    "duration": 1165,
    "start_time": "2022-07-23T17:15:24.074Z"
   },
   {
    "duration": 1123,
    "start_time": "2022-07-23T17:15:30.188Z"
   },
   {
    "duration": 1112,
    "start_time": "2022-07-23T17:15:46.672Z"
   },
   {
    "duration": 1238,
    "start_time": "2022-07-23T17:15:51.284Z"
   },
   {
    "duration": 810,
    "start_time": "2022-07-23T17:16:24.849Z"
   },
   {
    "duration": 1521,
    "start_time": "2022-07-23T17:19:29.341Z"
   },
   {
    "duration": 1393,
    "start_time": "2022-07-23T17:19:52.207Z"
   },
   {
    "duration": 1182,
    "start_time": "2022-07-23T17:20:09.563Z"
   },
   {
    "duration": 47,
    "start_time": "2022-07-23T17:22:09.237Z"
   },
   {
    "duration": 37,
    "start_time": "2022-07-23T17:22:37.497Z"
   },
   {
    "duration": 41,
    "start_time": "2022-07-23T17:23:05.057Z"
   },
   {
    "duration": 20,
    "start_time": "2022-07-23T17:24:56.681Z"
   },
   {
    "duration": 67,
    "start_time": "2022-07-23T17:25:13.704Z"
   },
   {
    "duration": 39,
    "start_time": "2022-07-23T17:25:33.549Z"
   },
   {
    "duration": 559,
    "start_time": "2022-07-23T17:28:06.624Z"
   },
   {
    "duration": 162,
    "start_time": "2022-07-23T17:28:15.107Z"
   },
   {
    "duration": 619,
    "start_time": "2022-07-23T17:28:22.792Z"
   },
   {
    "duration": 877,
    "start_time": "2022-07-23T17:28:35.916Z"
   },
   {
    "duration": 842,
    "start_time": "2022-07-23T17:29:16.048Z"
   },
   {
    "duration": 864,
    "start_time": "2022-07-23T17:29:36.085Z"
   },
   {
    "duration": 1011,
    "start_time": "2022-07-23T17:30:06.399Z"
   },
   {
    "duration": 808,
    "start_time": "2022-07-23T17:36:23.948Z"
   },
   {
    "duration": 826,
    "start_time": "2022-07-23T17:36:35.069Z"
   },
   {
    "duration": 877,
    "start_time": "2022-07-23T17:36:41.756Z"
   },
   {
    "duration": 771,
    "start_time": "2022-07-23T17:36:47.557Z"
   },
   {
    "duration": 515,
    "start_time": "2022-07-23T17:39:27.846Z"
   },
   {
    "duration": 542,
    "start_time": "2022-07-23T17:40:53.460Z"
   },
   {
    "duration": 449,
    "start_time": "2022-07-23T17:41:45.855Z"
   },
   {
    "duration": 15,
    "start_time": "2022-07-23T17:42:29.659Z"
   },
   {
    "duration": 12,
    "start_time": "2022-07-23T17:42:50.162Z"
   },
   {
    "duration": 73,
    "start_time": "2022-07-23T17:43:33.778Z"
   },
   {
    "duration": 37,
    "start_time": "2022-07-23T17:43:45.381Z"
   },
   {
    "duration": 112,
    "start_time": "2022-07-23T17:46:43.747Z"
   },
   {
    "duration": 36,
    "start_time": "2022-07-23T17:46:56.590Z"
   },
   {
    "duration": 54,
    "start_time": "2022-07-23T17:49:31.600Z"
   },
   {
    "duration": 22,
    "start_time": "2022-07-23T17:50:22.680Z"
   },
   {
    "duration": 124,
    "start_time": "2022-07-23T17:50:43.452Z"
   },
   {
    "duration": 43,
    "start_time": "2022-07-23T17:50:47.854Z"
   },
   {
    "duration": 39,
    "start_time": "2022-07-23T17:51:52.752Z"
   },
   {
    "duration": 31,
    "start_time": "2022-07-23T17:52:12.984Z"
   },
   {
    "duration": 35,
    "start_time": "2022-07-23T17:53:02.154Z"
   },
   {
    "duration": 101,
    "start_time": "2022-07-23T17:53:39.904Z"
   },
   {
    "duration": 547,
    "start_time": "2022-07-23T17:59:38.232Z"
   },
   {
    "duration": 143,
    "start_time": "2022-07-23T17:59:57.664Z"
   },
   {
    "duration": 129,
    "start_time": "2022-07-23T18:00:11.378Z"
   },
   {
    "duration": 51,
    "start_time": "2022-07-23T18:01:14.910Z"
   },
   {
    "duration": 499,
    "start_time": "2022-07-23T18:02:05.936Z"
   },
   {
    "duration": 22,
    "start_time": "2022-07-23T18:02:31.773Z"
   },
   {
    "duration": 48,
    "start_time": "2022-07-23T18:02:52.607Z"
   },
   {
    "duration": 33,
    "start_time": "2022-07-23T18:03:15.965Z"
   },
   {
    "duration": 22,
    "start_time": "2022-07-23T18:03:19.984Z"
   },
   {
    "duration": 23,
    "start_time": "2022-07-23T18:03:33.277Z"
   },
   {
    "duration": 25,
    "start_time": "2022-07-23T18:03:50.179Z"
   },
   {
    "duration": 93,
    "start_time": "2022-07-23T18:03:55.698Z"
   },
   {
    "duration": 46,
    "start_time": "2022-07-23T18:04:02.212Z"
   },
   {
    "duration": 87,
    "start_time": "2022-07-23T18:04:06.975Z"
   },
   {
    "duration": 82,
    "start_time": "2022-07-23T18:04:37.836Z"
   },
   {
    "duration": 30,
    "start_time": "2022-07-23T18:04:47.476Z"
   },
   {
    "duration": 32,
    "start_time": "2022-07-23T18:04:53.180Z"
   },
   {
    "duration": 21,
    "start_time": "2022-07-23T18:04:56.381Z"
   },
   {
    "duration": 135,
    "start_time": "2022-07-23T18:07:21.263Z"
   },
   {
    "duration": 356,
    "start_time": "2022-07-23T18:07:37.770Z"
   },
   {
    "duration": 10,
    "start_time": "2022-07-23T18:08:03.268Z"
   },
   {
    "duration": 8,
    "start_time": "2022-07-23T18:08:25.252Z"
   },
   {
    "duration": 44,
    "start_time": "2022-07-23T18:08:43.704Z"
   },
   {
    "duration": 19,
    "start_time": "2022-07-23T18:09:01.785Z"
   },
   {
    "duration": 25,
    "start_time": "2022-07-23T18:09:19.052Z"
   },
   {
    "duration": 21,
    "start_time": "2022-07-23T18:10:35.468Z"
   },
   {
    "duration": 27,
    "start_time": "2022-07-23T18:10:53.061Z"
   },
   {
    "duration": 25,
    "start_time": "2022-07-23T18:11:00.131Z"
   },
   {
    "duration": 12,
    "start_time": "2022-07-23T18:11:05.567Z"
   },
   {
    "duration": 21,
    "start_time": "2022-07-23T18:11:18.055Z"
   },
   {
    "duration": 21,
    "start_time": "2022-07-23T18:11:26.944Z"
   },
   {
    "duration": 10,
    "start_time": "2022-07-23T18:11:40.629Z"
   },
   {
    "duration": 10,
    "start_time": "2022-07-23T18:11:53.633Z"
   },
   {
    "duration": 9,
    "start_time": "2022-07-23T18:11:59.159Z"
   },
   {
    "duration": 10,
    "start_time": "2022-07-23T18:12:12.101Z"
   },
   {
    "duration": 9,
    "start_time": "2022-07-23T18:12:23.594Z"
   },
   {
    "duration": 1454,
    "start_time": "2022-07-23T18:12:56.585Z"
   },
   {
    "duration": 7,
    "start_time": "2022-07-23T18:12:58.043Z"
   },
   {
    "duration": 130,
    "start_time": "2022-07-23T18:12:58.052Z"
   },
   {
    "duration": 1272,
    "start_time": "2022-07-23T18:12:58.185Z"
   },
   {
    "duration": 16,
    "start_time": "2022-07-23T18:12:59.459Z"
   },
   {
    "duration": 7,
    "start_time": "2022-07-23T18:12:59.477Z"
   },
   {
    "duration": 5,
    "start_time": "2022-07-23T18:12:59.486Z"
   },
   {
    "duration": 15,
    "start_time": "2022-07-23T18:12:59.493Z"
   },
   {
    "duration": 55,
    "start_time": "2022-07-23T18:12:59.513Z"
   },
   {
    "duration": 37,
    "start_time": "2022-07-23T18:12:59.570Z"
   },
   {
    "duration": 9,
    "start_time": "2022-07-23T18:12:59.732Z"
   },
   {
    "duration": 21,
    "start_time": "2022-07-23T18:13:00.125Z"
   },
   {
    "duration": 31,
    "start_time": "2022-07-23T18:13:00.331Z"
   },
   {
    "duration": 17,
    "start_time": "2022-07-23T18:13:00.491Z"
   },
   {
    "duration": 8,
    "start_time": "2022-07-23T18:13:00.893Z"
   },
   {
    "duration": 18,
    "start_time": "2022-07-23T18:13:01.057Z"
   },
   {
    "duration": 3,
    "start_time": "2022-07-23T18:13:01.403Z"
   },
   {
    "duration": 22,
    "start_time": "2022-07-23T18:13:01.672Z"
   },
   {
    "duration": 57,
    "start_time": "2022-07-23T18:13:01.865Z"
   },
   {
    "duration": 55,
    "start_time": "2022-07-23T18:13:02.086Z"
   },
   {
    "duration": 29,
    "start_time": "2022-07-23T18:13:02.261Z"
   },
   {
    "duration": 32,
    "start_time": "2022-07-23T18:13:02.471Z"
   },
   {
    "duration": 23,
    "start_time": "2022-07-23T18:13:02.666Z"
   },
   {
    "duration": 27,
    "start_time": "2022-07-23T18:13:02.862Z"
   },
   {
    "duration": 28,
    "start_time": "2022-07-23T18:13:02.987Z"
   },
   {
    "duration": 27,
    "start_time": "2022-07-23T18:13:03.272Z"
   },
   {
    "duration": 23,
    "start_time": "2022-07-23T18:13:03.462Z"
   },
   {
    "duration": 25,
    "start_time": "2022-07-23T18:13:03.669Z"
   },
   {
    "duration": 33,
    "start_time": "2022-07-23T18:13:03.838Z"
   },
   {
    "duration": 22,
    "start_time": "2022-07-23T18:13:04.077Z"
   },
   {
    "duration": 15,
    "start_time": "2022-07-23T18:13:04.485Z"
   },
   {
    "duration": 25,
    "start_time": "2022-07-23T18:13:04.900Z"
   },
   {
    "duration": 8,
    "start_time": "2022-07-23T18:13:05.698Z"
   },
   {
    "duration": 255,
    "start_time": "2022-07-23T18:13:05.900Z"
   },
   {
    "duration": 9,
    "start_time": "2022-07-23T18:13:07.144Z"
   },
   {
    "duration": 136,
    "start_time": "2022-07-23T18:13:07.156Z"
   },
   {
    "duration": 52,
    "start_time": "2022-07-23T18:13:07.295Z"
   },
   {
    "duration": 31,
    "start_time": "2022-07-23T18:13:07.468Z"
   },
   {
    "duration": 758,
    "start_time": "2022-07-23T18:13:07.636Z"
   },
   {
    "duration": 292,
    "start_time": "2022-07-23T18:13:08.397Z"
   },
   {
    "duration": 149,
    "start_time": "2022-07-23T18:13:08.692Z"
   },
   {
    "duration": 412,
    "start_time": "2022-07-23T18:13:11.866Z"
   },
   {
    "duration": 9,
    "start_time": "2022-07-23T18:13:18.089Z"
   },
   {
    "duration": 156,
    "start_time": "2022-07-23T18:13:57.537Z"
   },
   {
    "duration": 15,
    "start_time": "2022-07-23T18:14:05.032Z"
   },
   {
    "duration": 13,
    "start_time": "2022-07-23T18:14:39.487Z"
   },
   {
    "duration": 22,
    "start_time": "2022-07-23T18:15:01.965Z"
   },
   {
    "duration": 16,
    "start_time": "2022-07-23T18:15:18.706Z"
   },
   {
    "duration": 146,
    "start_time": "2022-07-23T18:18:55.304Z"
   },
   {
    "duration": 16,
    "start_time": "2022-07-23T18:19:03.788Z"
   },
   {
    "duration": 10,
    "start_time": "2022-07-23T18:19:14.647Z"
   },
   {
    "duration": 21,
    "start_time": "2022-07-23T18:19:22.560Z"
   },
   {
    "duration": 121,
    "start_time": "2022-07-23T18:19:40.457Z"
   },
   {
    "duration": 12,
    "start_time": "2022-07-23T18:19:44.594Z"
   },
   {
    "duration": 12,
    "start_time": "2022-07-23T18:21:21.853Z"
   },
   {
    "duration": 13,
    "start_time": "2022-07-23T18:21:38.562Z"
   },
   {
    "duration": 10,
    "start_time": "2022-07-23T18:22:17.684Z"
   },
   {
    "duration": 22,
    "start_time": "2022-07-23T18:22:26.805Z"
   },
   {
    "duration": 12,
    "start_time": "2022-07-23T18:22:40.890Z"
   },
   {
    "duration": 12,
    "start_time": "2022-07-23T18:23:50.352Z"
   },
   {
    "duration": 94,
    "start_time": "2022-07-23T18:26:55.864Z"
   },
   {
    "duration": 123,
    "start_time": "2022-07-23T18:27:09.936Z"
   },
   {
    "duration": 13,
    "start_time": "2022-07-23T18:27:19.074Z"
   },
   {
    "duration": 20,
    "start_time": "2022-07-23T18:28:38.966Z"
   },
   {
    "duration": 15,
    "start_time": "2022-07-23T18:28:58.969Z"
   },
   {
    "duration": 18,
    "start_time": "2022-07-23T18:29:18.908Z"
   },
   {
    "duration": 17,
    "start_time": "2022-07-23T18:29:29.348Z"
   },
   {
    "duration": 9,
    "start_time": "2022-07-23T18:31:14.202Z"
   },
   {
    "duration": 15,
    "start_time": "2022-07-23T18:31:16.236Z"
   },
   {
    "duration": 27,
    "start_time": "2022-07-23T18:31:43.536Z"
   },
   {
    "duration": 24,
    "start_time": "2022-07-23T18:31:51.863Z"
   },
   {
    "duration": 1634,
    "start_time": "2022-07-23T18:32:29.937Z"
   },
   {
    "duration": 4,
    "start_time": "2022-07-23T18:32:31.573Z"
   },
   {
    "duration": 115,
    "start_time": "2022-07-23T18:32:31.579Z"
   },
   {
    "duration": 1268,
    "start_time": "2022-07-23T18:32:31.696Z"
   },
   {
    "duration": 24,
    "start_time": "2022-07-23T18:32:32.968Z"
   },
   {
    "duration": 114,
    "start_time": "2022-07-23T18:32:32.994Z"
   },
   {
    "duration": 16,
    "start_time": "2022-07-23T18:32:33.111Z"
   },
   {
    "duration": 59,
    "start_time": "2022-07-23T18:32:33.130Z"
   },
   {
    "duration": 17,
    "start_time": "2022-07-23T18:32:33.191Z"
   },
   {
    "duration": 73,
    "start_time": "2022-07-23T18:32:33.213Z"
   },
   {
    "duration": 9,
    "start_time": "2022-07-23T18:32:33.288Z"
   },
   {
    "duration": 23,
    "start_time": "2022-07-23T18:32:33.299Z"
   },
   {
    "duration": 55,
    "start_time": "2022-07-23T18:32:33.324Z"
   },
   {
    "duration": 29,
    "start_time": "2022-07-23T18:32:33.384Z"
   },
   {
    "duration": 14,
    "start_time": "2022-07-23T18:32:33.415Z"
   },
   {
    "duration": 53,
    "start_time": "2022-07-23T18:32:33.431Z"
   },
   {
    "duration": 4,
    "start_time": "2022-07-23T18:32:33.487Z"
   },
   {
    "duration": 40,
    "start_time": "2022-07-23T18:32:33.492Z"
   },
   {
    "duration": 71,
    "start_time": "2022-07-23T18:32:33.534Z"
   },
   {
    "duration": 64,
    "start_time": "2022-07-23T18:32:33.607Z"
   },
   {
    "duration": 25,
    "start_time": "2022-07-23T18:32:33.673Z"
   },
   {
    "duration": 71,
    "start_time": "2022-07-23T18:32:33.700Z"
   },
   {
    "duration": 25,
    "start_time": "2022-07-23T18:32:33.773Z"
   },
   {
    "duration": 58,
    "start_time": "2022-07-23T18:32:33.801Z"
   },
   {
    "duration": 85,
    "start_time": "2022-07-23T18:32:33.862Z"
   },
   {
    "duration": 34,
    "start_time": "2022-07-23T18:32:33.953Z"
   },
   {
    "duration": 30,
    "start_time": "2022-07-23T18:32:33.989Z"
   },
   {
    "duration": 67,
    "start_time": "2022-07-23T18:32:34.021Z"
   },
   {
    "duration": 48,
    "start_time": "2022-07-23T18:32:34.090Z"
   },
   {
    "duration": 57,
    "start_time": "2022-07-23T18:32:34.141Z"
   },
   {
    "duration": 81,
    "start_time": "2022-07-23T18:32:34.201Z"
   },
   {
    "duration": 21,
    "start_time": "2022-07-23T18:32:34.284Z"
   },
   {
    "duration": 15,
    "start_time": "2022-07-23T18:32:34.308Z"
   },
   {
    "duration": 336,
    "start_time": "2022-07-23T18:32:34.328Z"
   },
   {
    "duration": 12,
    "start_time": "2022-07-23T18:32:34.667Z"
   },
   {
    "duration": 183,
    "start_time": "2022-07-23T18:32:34.681Z"
   },
   {
    "duration": 28,
    "start_time": "2022-07-23T18:32:34.867Z"
   },
   {
    "duration": 49,
    "start_time": "2022-07-23T18:32:34.911Z"
   },
   {
    "duration": 851,
    "start_time": "2022-07-23T18:32:34.962Z"
   },
   {
    "duration": 288,
    "start_time": "2022-07-23T18:32:35.815Z"
   },
   {
    "duration": 152,
    "start_time": "2022-07-23T18:32:36.120Z"
   },
   {
    "duration": 381,
    "start_time": "2022-07-23T18:32:36.275Z"
   },
   {
    "duration": 16,
    "start_time": "2022-07-23T18:32:36.659Z"
   },
   {
    "duration": 6,
    "start_time": "2022-07-23T18:32:36.677Z"
   },
   {
    "duration": 13,
    "start_time": "2022-07-23T18:32:36.685Z"
   },
   {
    "duration": 28,
    "start_time": "2022-07-23T19:56:02.644Z"
   },
   {
    "duration": 30,
    "start_time": "2022-07-23T19:58:26.150Z"
   },
   {
    "duration": 48,
    "start_time": "2022-07-23T20:12:13.607Z"
   },
   {
    "duration": 33,
    "start_time": "2022-07-23T20:12:33.357Z"
   },
   {
    "duration": 928,
    "start_time": "2022-07-23T20:13:24.144Z"
   },
   {
    "duration": 816,
    "start_time": "2022-07-23T20:13:42.486Z"
   },
   {
    "duration": 273,
    "start_time": "2022-07-23T20:15:32.528Z"
   },
   {
    "duration": 261,
    "start_time": "2022-07-23T20:18:36.245Z"
   },
   {
    "duration": 23,
    "start_time": "2022-07-23T20:22:59.755Z"
   },
   {
    "duration": 32,
    "start_time": "2022-07-23T20:23:52.479Z"
   },
   {
    "duration": 255,
    "start_time": "2022-07-23T20:24:54.640Z"
   },
   {
    "duration": 32,
    "start_time": "2022-07-23T20:25:01.336Z"
   },
   {
    "duration": 67,
    "start_time": "2022-07-23T20:25:36.637Z"
   },
   {
    "duration": 52,
    "start_time": "2022-07-23T20:25:47.936Z"
   },
   {
    "duration": 59,
    "start_time": "2022-07-23T20:26:21.692Z"
   },
   {
    "duration": 25,
    "start_time": "2022-07-23T20:27:06.537Z"
   },
   {
    "duration": 90,
    "start_time": "2022-07-23T20:30:07.604Z"
   },
   {
    "duration": 1154,
    "start_time": "2022-07-23T20:30:21.432Z"
   },
   {
    "duration": 33,
    "start_time": "2022-07-23T20:30:57.850Z"
   },
   {
    "duration": 21,
    "start_time": "2022-07-23T20:31:49.852Z"
   },
   {
    "duration": 5,
    "start_time": "2022-07-23T20:33:37.305Z"
   },
   {
    "duration": 23,
    "start_time": "2022-07-23T20:33:58.160Z"
   },
   {
    "duration": 19,
    "start_time": "2022-07-23T20:34:17.344Z"
   },
   {
    "duration": 28,
    "start_time": "2022-07-23T20:34:27.600Z"
   },
   {
    "duration": 21,
    "start_time": "2022-07-23T20:35:22.705Z"
   },
   {
    "duration": 21,
    "start_time": "2022-07-23T20:36:44.097Z"
   },
   {
    "duration": 11,
    "start_time": "2022-07-23T20:37:05.961Z"
   },
   {
    "duration": 10,
    "start_time": "2022-07-23T20:37:27.198Z"
   },
   {
    "duration": 34,
    "start_time": "2022-07-23T20:37:53.288Z"
   },
   {
    "duration": 18,
    "start_time": "2022-07-23T20:38:03.738Z"
   },
   {
    "duration": 27,
    "start_time": "2022-07-23T20:38:43.858Z"
   },
   {
    "duration": 26,
    "start_time": "2022-07-23T20:39:31.055Z"
   },
   {
    "duration": 31,
    "start_time": "2022-07-23T20:40:43.208Z"
   },
   {
    "duration": 101,
    "start_time": "2022-07-23T20:43:55.237Z"
   },
   {
    "duration": 109,
    "start_time": "2022-07-23T20:44:50.754Z"
   },
   {
    "duration": 25,
    "start_time": "2022-07-23T20:45:18.888Z"
   },
   {
    "duration": 22,
    "start_time": "2022-07-23T20:45:25.367Z"
   },
   {
    "duration": 21,
    "start_time": "2022-07-23T20:46:02.779Z"
   },
   {
    "duration": 39,
    "start_time": "2022-07-23T20:47:59.889Z"
   },
   {
    "duration": 29,
    "start_time": "2022-07-23T20:48:15.137Z"
   },
   {
    "duration": 20,
    "start_time": "2022-07-23T20:48:37.965Z"
   },
   {
    "duration": 25,
    "start_time": "2022-07-23T20:50:41.250Z"
   },
   {
    "duration": 241,
    "start_time": "2022-07-23T21:41:46.166Z"
   },
   {
    "duration": 767,
    "start_time": "2022-07-23T21:43:13.995Z"
   },
   {
    "duration": 904,
    "start_time": "2022-07-23T21:44:25.817Z"
   },
   {
    "duration": 782,
    "start_time": "2022-07-23T21:44:42.398Z"
   },
   {
    "duration": 54,
    "start_time": "2022-07-23T22:22:13.823Z"
   },
   {
    "duration": 1284,
    "start_time": "2022-07-23T22:29:00.756Z"
   },
   {
    "duration": 4,
    "start_time": "2022-07-23T22:29:02.042Z"
   },
   {
    "duration": 151,
    "start_time": "2022-07-23T22:29:02.048Z"
   },
   {
    "duration": 1217,
    "start_time": "2022-07-23T22:29:02.202Z"
   },
   {
    "duration": 20,
    "start_time": "2022-07-23T22:29:03.421Z"
   },
   {
    "duration": 69,
    "start_time": "2022-07-23T22:29:03.443Z"
   },
   {
    "duration": 13,
    "start_time": "2022-07-23T22:29:03.514Z"
   },
   {
    "duration": 26,
    "start_time": "2022-07-23T22:29:03.528Z"
   },
   {
    "duration": 32,
    "start_time": "2022-07-23T22:29:03.556Z"
   },
   {
    "duration": 32,
    "start_time": "2022-07-23T22:29:03.593Z"
   },
   {
    "duration": 7,
    "start_time": "2022-07-23T22:29:03.628Z"
   },
   {
    "duration": 14,
    "start_time": "2022-07-23T22:29:03.637Z"
   },
   {
    "duration": 26,
    "start_time": "2022-07-23T22:29:03.653Z"
   },
   {
    "duration": 52,
    "start_time": "2022-07-23T22:29:03.681Z"
   },
   {
    "duration": 8,
    "start_time": "2022-07-23T22:29:03.735Z"
   },
   {
    "duration": 29,
    "start_time": "2022-07-23T22:29:03.746Z"
   },
   {
    "duration": 4,
    "start_time": "2022-07-23T22:29:03.777Z"
   },
   {
    "duration": 29,
    "start_time": "2022-07-23T22:29:03.810Z"
   },
   {
    "duration": 43,
    "start_time": "2022-07-23T22:29:03.841Z"
   },
   {
    "duration": 45,
    "start_time": "2022-07-23T22:29:03.886Z"
   },
   {
    "duration": 22,
    "start_time": "2022-07-23T22:29:03.933Z"
   },
   {
    "duration": 60,
    "start_time": "2022-07-23T22:29:03.957Z"
   },
   {
    "duration": 20,
    "start_time": "2022-07-23T22:29:04.019Z"
   },
   {
    "duration": 24,
    "start_time": "2022-07-23T22:29:04.041Z"
   },
   {
    "duration": 44,
    "start_time": "2022-07-23T22:29:04.066Z"
   },
   {
    "duration": 33,
    "start_time": "2022-07-23T22:29:04.112Z"
   },
   {
    "duration": 20,
    "start_time": "2022-07-23T22:29:04.147Z"
   },
   {
    "duration": 43,
    "start_time": "2022-07-23T22:29:04.171Z"
   },
   {
    "duration": 24,
    "start_time": "2022-07-23T22:29:04.216Z"
   },
   {
    "duration": 22,
    "start_time": "2022-07-23T22:29:04.242Z"
   },
   {
    "duration": 14,
    "start_time": "2022-07-23T22:29:04.266Z"
   },
   {
    "duration": 42,
    "start_time": "2022-07-23T22:29:04.282Z"
   },
   {
    "duration": 8,
    "start_time": "2022-07-23T22:29:04.325Z"
   },
   {
    "duration": 196,
    "start_time": "2022-07-23T22:29:04.334Z"
   },
   {
    "duration": 7,
    "start_time": "2022-07-23T22:29:04.532Z"
   },
   {
    "duration": 145,
    "start_time": "2022-07-23T22:29:04.541Z"
   },
   {
    "duration": 28,
    "start_time": "2022-07-23T22:29:04.688Z"
   },
   {
    "duration": 27,
    "start_time": "2022-07-23T22:29:04.718Z"
   },
   {
    "duration": 802,
    "start_time": "2022-07-23T22:29:04.747Z"
   },
   {
    "duration": 227,
    "start_time": "2022-07-23T22:29:05.551Z"
   },
   {
    "duration": 105,
    "start_time": "2022-07-23T22:29:05.779Z"
   },
   {
    "duration": 272,
    "start_time": "2022-07-23T22:29:05.886Z"
   },
   {
    "duration": 19,
    "start_time": "2022-07-23T22:29:06.159Z"
   },
   {
    "duration": 8,
    "start_time": "2022-07-23T22:29:06.180Z"
   },
   {
    "duration": 27,
    "start_time": "2022-07-23T22:29:06.190Z"
   },
   {
    "duration": 73,
    "start_time": "2022-07-23T22:29:06.219Z"
   },
   {
    "duration": 37,
    "start_time": "2022-07-23T22:29:06.295Z"
   },
   {
    "duration": 24,
    "start_time": "2022-07-23T22:29:06.335Z"
   },
   {
    "duration": 73,
    "start_time": "2022-07-23T22:29:06.361Z"
   },
   {
    "duration": 49,
    "start_time": "2022-07-24T10:52:48.189Z"
   },
   {
    "duration": 54,
    "start_time": "2022-07-24T16:08:35.512Z"
   },
   {
    "duration": 1261,
    "start_time": "2022-07-24T16:09:08.509Z"
   },
   {
    "duration": 3,
    "start_time": "2022-07-24T16:09:09.772Z"
   },
   {
    "duration": 258,
    "start_time": "2022-07-24T16:09:10.000Z"
   },
   {
    "duration": 1277,
    "start_time": "2022-07-24T16:09:10.759Z"
   },
   {
    "duration": 14,
    "start_time": "2022-07-24T16:09:12.038Z"
   },
   {
    "duration": 40,
    "start_time": "2022-07-24T16:09:12.459Z"
   },
   {
    "duration": 14,
    "start_time": "2022-07-24T16:09:13.461Z"
   },
   {
    "duration": 2,
    "start_time": "2022-07-24T16:09:25.168Z"
   },
   {
    "duration": 12,
    "start_time": "2022-07-24T16:10:51.751Z"
   },
   {
    "duration": 19,
    "start_time": "2022-07-24T16:10:54.124Z"
   },
   {
    "duration": 6,
    "start_time": "2022-07-24T16:10:56.117Z"
   },
   {
    "duration": 11,
    "start_time": "2022-07-24T16:10:57.692Z"
   },
   {
    "duration": 20,
    "start_time": "2022-07-24T16:10:59.179Z"
   },
   {
    "duration": 14,
    "start_time": "2022-07-24T16:11:00.372Z"
   },
   {
    "duration": 5,
    "start_time": "2022-07-24T16:11:02.166Z"
   },
   {
    "duration": 15,
    "start_time": "2022-07-24T16:11:03.211Z"
   },
   {
    "duration": 5,
    "start_time": "2022-07-24T16:11:05.534Z"
   },
   {
    "duration": 29,
    "start_time": "2022-07-24T16:11:06.351Z"
   },
   {
    "duration": 45,
    "start_time": "2022-07-24T16:11:07.264Z"
   },
   {
    "duration": 33,
    "start_time": "2022-07-24T16:11:16.185Z"
   },
   {
    "duration": 21,
    "start_time": "2022-07-24T16:11:17.010Z"
   },
   {
    "duration": 28,
    "start_time": "2022-07-24T16:11:17.903Z"
   },
   {
    "duration": 19,
    "start_time": "2022-07-24T16:11:19.188Z"
   },
   {
    "duration": 24,
    "start_time": "2022-07-24T16:11:20.280Z"
   },
   {
    "duration": 24,
    "start_time": "2022-07-24T16:11:21.469Z"
   },
   {
    "duration": 23,
    "start_time": "2022-07-24T16:11:22.064Z"
   },
   {
    "duration": 28,
    "start_time": "2022-07-24T16:11:22.800Z"
   },
   {
    "duration": 29,
    "start_time": "2022-07-24T16:11:23.562Z"
   },
   {
    "duration": 22,
    "start_time": "2022-07-24T16:11:24.363Z"
   },
   {
    "duration": 22,
    "start_time": "2022-07-24T16:11:25.372Z"
   },
   {
    "duration": 15,
    "start_time": "2022-07-24T16:11:27.511Z"
   },
   {
    "duration": 16,
    "start_time": "2022-07-24T16:15:23.800Z"
   },
   {
    "duration": 13,
    "start_time": "2022-07-24T16:15:31.051Z"
   },
   {
    "duration": 17,
    "start_time": "2022-07-24T16:16:31.529Z"
   },
   {
    "duration": 3,
    "start_time": "2022-07-24T16:16:41.036Z"
   },
   {
    "duration": 3,
    "start_time": "2022-07-24T16:16:41.208Z"
   },
   {
    "duration": 67,
    "start_time": "2022-07-24T16:16:41.419Z"
   },
   {
    "duration": 1237,
    "start_time": "2022-07-24T16:16:41.592Z"
   },
   {
    "duration": 13,
    "start_time": "2022-07-24T16:16:42.831Z"
   },
   {
    "duration": 47,
    "start_time": "2022-07-24T16:16:42.846Z"
   },
   {
    "duration": 9,
    "start_time": "2022-07-24T16:16:42.895Z"
   },
   {
    "duration": 7,
    "start_time": "2022-07-24T16:16:42.906Z"
   },
   {
    "duration": 13,
    "start_time": "2022-07-24T16:16:43.600Z"
   },
   {
    "duration": 20,
    "start_time": "2022-07-24T16:16:44.193Z"
   },
   {
    "duration": 6,
    "start_time": "2022-07-24T16:16:44.590Z"
   },
   {
    "duration": 12,
    "start_time": "2022-07-24T16:16:44.997Z"
   },
   {
    "duration": 16,
    "start_time": "2022-07-24T16:16:45.175Z"
   },
   {
    "duration": 14,
    "start_time": "2022-07-24T16:16:45.378Z"
   },
   {
    "duration": 6,
    "start_time": "2022-07-24T16:16:45.773Z"
   },
   {
    "duration": 15,
    "start_time": "2022-07-24T16:16:45.998Z"
   },
   {
    "duration": 4,
    "start_time": "2022-07-24T16:16:46.366Z"
   },
   {
    "duration": 27,
    "start_time": "2022-07-24T16:16:46.608Z"
   },
   {
    "duration": 47,
    "start_time": "2022-07-24T16:16:46.784Z"
   },
   {
    "duration": 27,
    "start_time": "2022-07-24T16:16:47.766Z"
   },
   {
    "duration": 20,
    "start_time": "2022-07-24T16:16:47.921Z"
   },
   {
    "duration": 29,
    "start_time": "2022-07-24T16:16:48.171Z"
   },
   {
    "duration": 28,
    "start_time": "2022-07-24T16:16:48.328Z"
   },
   {
    "duration": 24,
    "start_time": "2022-07-24T16:16:48.589Z"
   },
   {
    "duration": 23,
    "start_time": "2022-07-24T16:16:48.743Z"
   },
   {
    "duration": 26,
    "start_time": "2022-07-24T16:16:49.056Z"
   },
   {
    "duration": 20,
    "start_time": "2022-07-24T16:16:49.210Z"
   },
   {
    "duration": 28,
    "start_time": "2022-07-24T16:16:49.522Z"
   },
   {
    "duration": 22,
    "start_time": "2022-07-24T16:16:49.672Z"
   },
   {
    "duration": 22,
    "start_time": "2022-07-24T16:16:49.919Z"
   },
   {
    "duration": 22,
    "start_time": "2022-07-24T16:16:50.508Z"
   },
   {
    "duration": 18,
    "start_time": "2022-07-24T16:18:41.943Z"
   },
   {
    "duration": 85,
    "start_time": "2022-07-24T16:18:50.391Z"
   },
   {
    "duration": 36,
    "start_time": "2022-07-24T16:20:12.111Z"
   },
   {
    "duration": 28,
    "start_time": "2022-07-24T16:21:36.831Z"
   },
   {
    "duration": 15,
    "start_time": "2022-07-24T16:21:50.035Z"
   },
   {
    "duration": 1227,
    "start_time": "2022-07-24T16:22:22.662Z"
   },
   {
    "duration": 14,
    "start_time": "2022-07-24T16:23:17.130Z"
   },
   {
    "duration": 17,
    "start_time": "2022-07-24T16:23:25.111Z"
   },
   {
    "duration": 2,
    "start_time": "2022-07-24T16:28:14.182Z"
   },
   {
    "duration": 7,
    "start_time": "2022-07-24T16:28:14.995Z"
   },
   {
    "duration": 185,
    "start_time": "2022-07-24T16:28:15.178Z"
   },
   {
    "duration": 183,
    "start_time": "2022-07-24T16:28:26.309Z"
   },
   {
    "duration": 26,
    "start_time": "2022-07-24T16:31:42.340Z"
   },
   {
    "duration": 167,
    "start_time": "2022-07-24T16:31:58.896Z"
   },
   {
    "duration": 177,
    "start_time": "2022-07-24T16:32:33.025Z"
   },
   {
    "duration": 175,
    "start_time": "2022-07-24T16:33:19.001Z"
   },
   {
    "duration": 231,
    "start_time": "2022-07-24T16:34:06.335Z"
   },
   {
    "duration": 51,
    "start_time": "2022-07-24T16:34:22.662Z"
   },
   {
    "duration": 51,
    "start_time": "2022-07-24T16:34:36.391Z"
   },
   {
    "duration": 163,
    "start_time": "2022-07-24T16:35:32.908Z"
   },
   {
    "duration": 225,
    "start_time": "2022-07-24T16:36:46.278Z"
   },
   {
    "duration": 242,
    "start_time": "2022-07-24T16:36:55.266Z"
   },
   {
    "duration": 156,
    "start_time": "2022-07-24T16:37:00.078Z"
   },
   {
    "duration": 17,
    "start_time": "2022-07-24T16:38:49.563Z"
   },
   {
    "duration": 172,
    "start_time": "2022-07-24T16:39:00.962Z"
   },
   {
    "duration": 175,
    "start_time": "2022-07-24T16:39:09.072Z"
   },
   {
    "duration": 97,
    "start_time": "2022-07-24T16:41:27.340Z"
   },
   {
    "duration": 148,
    "start_time": "2022-07-24T17:09:43.715Z"
   },
   {
    "duration": 252,
    "start_time": "2022-07-24T17:10:24.793Z"
   },
   {
    "duration": 298,
    "start_time": "2022-07-24T17:10:51.693Z"
   },
   {
    "duration": 11,
    "start_time": "2022-07-24T17:14:02.585Z"
   },
   {
    "duration": 38,
    "start_time": "2022-07-24T17:14:23.434Z"
   },
   {
    "duration": 919,
    "start_time": "2022-07-24T17:14:25.010Z"
   },
   {
    "duration": 1711,
    "start_time": "2022-07-24T17:15:26.267Z"
   },
   {
    "duration": 814,
    "start_time": "2022-07-24T17:15:58.699Z"
   },
   {
    "duration": 783,
    "start_time": "2022-07-24T17:16:20.718Z"
   },
   {
    "duration": 287,
    "start_time": "2022-07-24T17:30:37.160Z"
   },
   {
    "duration": 213,
    "start_time": "2022-07-24T17:30:58.300Z"
   },
   {
    "duration": 472,
    "start_time": "2022-07-24T17:38:38.795Z"
   },
   {
    "duration": 235,
    "start_time": "2022-07-24T17:40:27.261Z"
   },
   {
    "duration": 229,
    "start_time": "2022-07-24T17:41:00.278Z"
   },
   {
    "duration": 251,
    "start_time": "2022-07-24T17:41:30.628Z"
   },
   {
    "duration": 256,
    "start_time": "2022-07-24T17:41:48.849Z"
   },
   {
    "duration": 155,
    "start_time": "2022-07-24T17:42:05.894Z"
   },
   {
    "duration": 124,
    "start_time": "2022-07-24T17:44:31.621Z"
   },
   {
    "duration": 134,
    "start_time": "2022-07-24T17:47:12.479Z"
   },
   {
    "duration": 257,
    "start_time": "2022-07-24T17:47:21.596Z"
   },
   {
    "duration": 124,
    "start_time": "2022-07-24T17:47:34.543Z"
   },
   {
    "duration": 136,
    "start_time": "2022-07-24T17:51:33.022Z"
   },
   {
    "duration": 192,
    "start_time": "2022-07-24T17:52:39.434Z"
   },
   {
    "duration": 172,
    "start_time": "2022-07-24T17:53:41.074Z"
   },
   {
    "duration": 165,
    "start_time": "2022-07-24T17:54:39.015Z"
   },
   {
    "duration": 215,
    "start_time": "2022-07-24T17:55:50.510Z"
   },
   {
    "duration": 120,
    "start_time": "2022-07-24T18:02:36.086Z"
   },
   {
    "duration": 208,
    "start_time": "2022-07-24T18:02:52.724Z"
   },
   {
    "duration": 230,
    "start_time": "2022-07-24T18:03:13.107Z"
   },
   {
    "duration": 249,
    "start_time": "2022-07-24T18:04:21.057Z"
   },
   {
    "duration": 220,
    "start_time": "2022-07-24T18:04:34.209Z"
   },
   {
    "duration": 183,
    "start_time": "2022-07-24T18:04:47.044Z"
   },
   {
    "duration": 265,
    "start_time": "2022-07-24T18:04:56.388Z"
   },
   {
    "duration": 296,
    "start_time": "2022-07-24T18:05:08.583Z"
   },
   {
    "duration": 322,
    "start_time": "2022-07-24T18:05:35.843Z"
   },
   {
    "duration": 207,
    "start_time": "2022-07-24T18:06:50.419Z"
   },
   {
    "duration": 208,
    "start_time": "2022-07-24T18:06:59.423Z"
   },
   {
    "duration": 99,
    "start_time": "2022-07-24T18:07:49.877Z"
   },
   {
    "duration": 240,
    "start_time": "2022-07-24T18:08:19.728Z"
   },
   {
    "duration": 110,
    "start_time": "2022-07-24T18:09:11.409Z"
   },
   {
    "duration": 225,
    "start_time": "2022-07-24T18:10:03.236Z"
   },
   {
    "duration": 170,
    "start_time": "2022-07-24T18:11:27.629Z"
   },
   {
    "duration": 212,
    "start_time": "2022-07-24T18:11:34.196Z"
   },
   {
    "duration": 232,
    "start_time": "2022-07-24T18:13:51.171Z"
   },
   {
    "duration": 237,
    "start_time": "2022-07-24T18:14:41.897Z"
   },
   {
    "duration": 519,
    "start_time": "2022-07-24T18:14:56.311Z"
   },
   {
    "duration": 66,
    "start_time": "2022-07-24T18:15:11.326Z"
   },
   {
    "duration": 279,
    "start_time": "2022-07-24T18:15:16.820Z"
   },
   {
    "duration": 750,
    "start_time": "2022-07-24T18:22:04.699Z"
   },
   {
    "duration": 201,
    "start_time": "2022-07-24T18:23:01.205Z"
   },
   {
    "duration": 23,
    "start_time": "2022-07-24T18:26:38.059Z"
   },
   {
    "duration": 337,
    "start_time": "2022-07-24T18:27:08.886Z"
   },
   {
    "duration": 281,
    "start_time": "2022-07-24T18:27:28.100Z"
   },
   {
    "duration": 458,
    "start_time": "2022-07-24T18:27:52.457Z"
   },
   {
    "duration": 330,
    "start_time": "2022-07-24T18:29:06.545Z"
   },
   {
    "duration": 318,
    "start_time": "2022-07-24T18:29:24.365Z"
   },
   {
    "duration": 323,
    "start_time": "2022-07-24T18:30:13.530Z"
   },
   {
    "duration": 330,
    "start_time": "2022-07-24T18:30:58.630Z"
   },
   {
    "duration": 454,
    "start_time": "2022-07-24T18:31:36.476Z"
   },
   {
    "duration": 277,
    "start_time": "2022-07-24T18:33:18.904Z"
   },
   {
    "duration": 352,
    "start_time": "2022-07-24T18:33:26.404Z"
   },
   {
    "duration": 293,
    "start_time": "2022-07-24T18:33:37.980Z"
   },
   {
    "duration": 317,
    "start_time": "2022-07-24T18:34:02.768Z"
   },
   {
    "duration": 214,
    "start_time": "2022-07-24T18:34:21.663Z"
   },
   {
    "duration": 317,
    "start_time": "2022-07-24T18:34:38.617Z"
   },
   {
    "duration": 390,
    "start_time": "2022-07-24T18:34:50.032Z"
   },
   {
    "duration": 292,
    "start_time": "2022-07-24T18:35:00.763Z"
   },
   {
    "duration": 307,
    "start_time": "2022-07-24T18:35:10.390Z"
   },
   {
    "duration": 282,
    "start_time": "2022-07-24T18:35:39.931Z"
   },
   {
    "duration": 322,
    "start_time": "2022-07-24T18:35:58.460Z"
   },
   {
    "duration": 364,
    "start_time": "2022-07-24T18:41:17.436Z"
   },
   {
    "duration": 435,
    "start_time": "2022-07-24T18:41:30.337Z"
   },
   {
    "duration": 497,
    "start_time": "2022-07-24T18:41:44.509Z"
   },
   {
    "duration": 240,
    "start_time": "2022-07-24T18:42:58.965Z"
   },
   {
    "duration": 484,
    "start_time": "2022-07-24T18:43:26.260Z"
   },
   {
    "duration": 562,
    "start_time": "2022-07-24T18:47:56.436Z"
   },
   {
    "duration": 396,
    "start_time": "2022-07-24T18:48:03.335Z"
   },
   {
    "duration": 380,
    "start_time": "2022-07-24T18:48:15.569Z"
   },
   {
    "duration": 240,
    "start_time": "2022-07-24T18:48:26.697Z"
   },
   {
    "duration": 221,
    "start_time": "2022-07-24T18:48:39.982Z"
   },
   {
    "duration": 370,
    "start_time": "2022-07-24T18:49:06.342Z"
   },
   {
    "duration": 225,
    "start_time": "2022-07-24T18:49:12.403Z"
   },
   {
    "duration": 224,
    "start_time": "2022-07-24T18:49:20.998Z"
   },
   {
    "duration": 1292,
    "start_time": "2022-07-24T19:02:38.347Z"
   },
   {
    "duration": 3,
    "start_time": "2022-07-24T19:02:39.641Z"
   },
   {
    "duration": 76,
    "start_time": "2022-07-24T19:02:39.646Z"
   },
   {
    "duration": 1114,
    "start_time": "2022-07-24T19:02:39.724Z"
   },
   {
    "duration": 15,
    "start_time": "2022-07-24T19:02:40.840Z"
   },
   {
    "duration": 47,
    "start_time": "2022-07-24T19:02:40.856Z"
   },
   {
    "duration": 9,
    "start_time": "2022-07-24T19:02:40.904Z"
   },
   {
    "duration": 5,
    "start_time": "2022-07-24T19:02:40.916Z"
   },
   {
    "duration": 16,
    "start_time": "2022-07-24T19:02:40.922Z"
   },
   {
    "duration": 27,
    "start_time": "2022-07-24T19:02:40.940Z"
   },
   {
    "duration": 5,
    "start_time": "2022-07-24T19:02:40.969Z"
   },
   {
    "duration": 11,
    "start_time": "2022-07-24T19:02:40.976Z"
   },
   {
    "duration": 15,
    "start_time": "2022-07-24T19:02:40.990Z"
   },
   {
    "duration": 14,
    "start_time": "2022-07-24T19:02:41.007Z"
   },
   {
    "duration": 39,
    "start_time": "2022-07-24T19:02:41.023Z"
   },
   {
    "duration": 31,
    "start_time": "2022-07-24T19:02:41.064Z"
   },
   {
    "duration": 29,
    "start_time": "2022-07-24T19:02:41.097Z"
   },
   {
    "duration": 48,
    "start_time": "2022-07-24T19:02:41.127Z"
   },
   {
    "duration": 64,
    "start_time": "2022-07-24T19:02:41.177Z"
   },
   {
    "duration": 26,
    "start_time": "2022-07-24T19:02:41.243Z"
   },
   {
    "duration": 22,
    "start_time": "2022-07-24T19:02:41.271Z"
   },
   {
    "duration": 28,
    "start_time": "2022-07-24T19:02:41.295Z"
   },
   {
    "duration": 38,
    "start_time": "2022-07-24T19:02:41.325Z"
   },
   {
    "duration": 25,
    "start_time": "2022-07-24T19:02:41.365Z"
   },
   {
    "duration": 23,
    "start_time": "2022-07-24T19:02:41.391Z"
   },
   {
    "duration": 49,
    "start_time": "2022-07-24T19:02:41.416Z"
   },
   {
    "duration": 20,
    "start_time": "2022-07-24T19:02:41.467Z"
   },
   {
    "duration": 18,
    "start_time": "2022-07-24T19:02:41.490Z"
   },
   {
    "duration": 22,
    "start_time": "2022-07-24T19:02:41.510Z"
   },
   {
    "duration": 42,
    "start_time": "2022-07-24T19:02:41.534Z"
   },
   {
    "duration": 2,
    "start_time": "2022-07-24T19:02:41.578Z"
   },
   {
    "duration": 7,
    "start_time": "2022-07-24T19:02:41.582Z"
   },
   {
    "duration": 11,
    "start_time": "2022-07-24T19:02:41.590Z"
   },
   {
    "duration": 187,
    "start_time": "2022-07-24T19:02:41.603Z"
   },
   {
    "duration": 9,
    "start_time": "2022-07-24T19:02:41.792Z"
   },
   {
    "duration": 114,
    "start_time": "2022-07-24T19:02:41.802Z"
   },
   {
    "duration": 21,
    "start_time": "2022-07-24T19:02:41.918Z"
   },
   {
    "duration": 35,
    "start_time": "2022-07-24T19:02:41.941Z"
   },
   {
    "duration": 734,
    "start_time": "2022-07-24T19:02:41.978Z"
   },
   {
    "duration": 232,
    "start_time": "2022-07-24T19:02:42.714Z"
   },
   {
    "duration": 292,
    "start_time": "2022-07-24T19:02:42.948Z"
   },
   {
    "duration": 97,
    "start_time": "2022-07-24T19:02:43.241Z"
   },
   {
    "duration": 333,
    "start_time": "2022-07-24T19:02:43.340Z"
   },
   {
    "duration": 12,
    "start_time": "2022-07-24T19:02:43.675Z"
   },
   {
    "duration": 10,
    "start_time": "2022-07-24T19:02:43.689Z"
   },
   {
    "duration": 10,
    "start_time": "2022-07-24T19:02:43.700Z"
   },
   {
    "duration": 67,
    "start_time": "2022-07-24T19:02:43.712Z"
   },
   {
    "duration": 31,
    "start_time": "2022-07-24T19:02:43.781Z"
   },
   {
    "duration": 60,
    "start_time": "2022-07-24T19:02:43.814Z"
   },
   {
    "duration": 322,
    "start_time": "2022-07-24T19:03:35.527Z"
   },
   {
    "duration": 235,
    "start_time": "2022-07-24T19:03:51.959Z"
   },
   {
    "duration": 229,
    "start_time": "2022-07-24T19:04:02.770Z"
   },
   {
    "duration": 248,
    "start_time": "2022-07-24T19:04:13.549Z"
   },
   {
    "duration": 189,
    "start_time": "2022-07-24T19:04:49.728Z"
   },
   {
    "duration": 114,
    "start_time": "2022-07-24T19:05:20.653Z"
   },
   {
    "duration": 243,
    "start_time": "2022-07-24T19:05:58.760Z"
   },
   {
    "duration": 274,
    "start_time": "2022-07-24T19:06:16.482Z"
   },
   {
    "duration": 230,
    "start_time": "2022-07-24T19:06:23.146Z"
   },
   {
    "duration": 231,
    "start_time": "2022-07-24T19:06:39.683Z"
   },
   {
    "duration": 277,
    "start_time": "2022-07-24T19:06:55.422Z"
   },
   {
    "duration": 256,
    "start_time": "2022-07-24T19:07:06.655Z"
   },
   {
    "duration": 303,
    "start_time": "2022-07-24T19:07:26.350Z"
   },
   {
    "duration": 228,
    "start_time": "2022-07-24T19:07:45.781Z"
   },
   {
    "duration": 287,
    "start_time": "2022-07-24T19:07:54.897Z"
   },
   {
    "duration": 249,
    "start_time": "2022-07-24T19:08:05.525Z"
   },
   {
    "duration": 244,
    "start_time": "2022-07-24T19:08:29.352Z"
   },
   {
    "duration": 255,
    "start_time": "2022-07-24T19:08:38.856Z"
   },
   {
    "duration": 250,
    "start_time": "2022-07-24T19:08:48.584Z"
   },
   {
    "duration": 243,
    "start_time": "2022-07-24T19:08:57.421Z"
   },
   {
    "duration": 248,
    "start_time": "2022-07-24T19:09:57.161Z"
   },
   {
    "duration": 239,
    "start_time": "2022-07-24T19:10:04.732Z"
   },
   {
    "duration": 344,
    "start_time": "2022-07-24T19:10:20.118Z"
   },
   {
    "duration": 253,
    "start_time": "2022-07-24T19:12:26.538Z"
   },
   {
    "duration": 228,
    "start_time": "2022-07-24T19:12:56.569Z"
   },
   {
    "duration": 239,
    "start_time": "2022-07-24T19:13:14.509Z"
   },
   {
    "duration": 217,
    "start_time": "2022-07-24T19:13:22.515Z"
   },
   {
    "duration": 243,
    "start_time": "2022-07-24T19:13:45.013Z"
   },
   {
    "duration": 243,
    "start_time": "2022-07-24T19:13:52.734Z"
   },
   {
    "duration": 229,
    "start_time": "2022-07-24T19:14:11.782Z"
   },
   {
    "duration": 329,
    "start_time": "2022-07-24T19:14:23.326Z"
   },
   {
    "duration": 215,
    "start_time": "2022-07-24T19:14:32.774Z"
   },
   {
    "duration": 279,
    "start_time": "2022-07-24T19:14:39.288Z"
   },
   {
    "duration": 109,
    "start_time": "2022-07-24T19:14:56.013Z"
   },
   {
    "duration": 104,
    "start_time": "2022-07-24T19:15:01.271Z"
   },
   {
    "duration": 237,
    "start_time": "2022-07-24T19:15:07.358Z"
   },
   {
    "duration": 1288,
    "start_time": "2022-07-24T20:37:06.821Z"
   },
   {
    "duration": 4,
    "start_time": "2022-07-24T20:37:08.112Z"
   },
   {
    "duration": 134,
    "start_time": "2022-07-24T20:37:08.118Z"
   },
   {
    "duration": 1115,
    "start_time": "2022-07-24T20:37:08.255Z"
   },
   {
    "duration": 15,
    "start_time": "2022-07-24T20:37:09.378Z"
   },
   {
    "duration": 41,
    "start_time": "2022-07-24T20:37:09.394Z"
   },
   {
    "duration": 9,
    "start_time": "2022-07-24T20:37:09.437Z"
   },
   {
    "duration": 8,
    "start_time": "2022-07-24T20:37:09.448Z"
   },
   {
    "duration": 20,
    "start_time": "2022-07-24T20:37:09.463Z"
   },
   {
    "duration": 26,
    "start_time": "2022-07-24T20:37:09.486Z"
   },
   {
    "duration": 6,
    "start_time": "2022-07-24T20:37:09.514Z"
   },
   {
    "duration": 12,
    "start_time": "2022-07-24T20:37:09.522Z"
   },
   {
    "duration": 53,
    "start_time": "2022-07-24T20:37:09.535Z"
   },
   {
    "duration": 16,
    "start_time": "2022-07-24T20:37:09.589Z"
   },
   {
    "duration": 11,
    "start_time": "2022-07-24T20:37:09.607Z"
   },
   {
    "duration": 16,
    "start_time": "2022-07-24T20:37:09.620Z"
   },
   {
    "duration": 25,
    "start_time": "2022-07-24T20:37:09.637Z"
   },
   {
    "duration": 38,
    "start_time": "2022-07-24T20:37:09.664Z"
   },
   {
    "duration": 40,
    "start_time": "2022-07-24T20:37:09.704Z"
   },
   {
    "duration": 37,
    "start_time": "2022-07-24T20:37:09.746Z"
   },
   {
    "duration": 30,
    "start_time": "2022-07-24T20:37:09.785Z"
   },
   {
    "duration": 35,
    "start_time": "2022-07-24T20:37:09.818Z"
   },
   {
    "duration": 27,
    "start_time": "2022-07-24T20:37:09.860Z"
   },
   {
    "duration": 36,
    "start_time": "2022-07-24T20:37:09.890Z"
   },
   {
    "duration": 50,
    "start_time": "2022-07-24T20:37:09.928Z"
   },
   {
    "duration": 46,
    "start_time": "2022-07-24T20:37:09.983Z"
   },
   {
    "duration": 43,
    "start_time": "2022-07-24T20:37:10.031Z"
   },
   {
    "duration": 27,
    "start_time": "2022-07-24T20:37:10.083Z"
   },
   {
    "duration": 33,
    "start_time": "2022-07-24T20:37:10.112Z"
   },
   {
    "duration": 56,
    "start_time": "2022-07-24T20:37:10.147Z"
   },
   {
    "duration": 4,
    "start_time": "2022-07-24T20:37:10.205Z"
   },
   {
    "duration": 36,
    "start_time": "2022-07-24T20:37:10.211Z"
   },
   {
    "duration": 18,
    "start_time": "2022-07-24T20:37:10.249Z"
   },
   {
    "duration": 266,
    "start_time": "2022-07-24T20:37:10.269Z"
   },
   {
    "duration": 7,
    "start_time": "2022-07-24T20:37:10.537Z"
   },
   {
    "duration": 161,
    "start_time": "2022-07-24T20:37:10.546Z"
   },
   {
    "duration": 33,
    "start_time": "2022-07-24T20:37:10.709Z"
   },
   {
    "duration": 47,
    "start_time": "2022-07-24T20:37:10.744Z"
   },
   {
    "duration": 758,
    "start_time": "2022-07-24T20:37:10.793Z"
   },
   {
    "duration": 273,
    "start_time": "2022-07-24T20:37:11.552Z"
   },
   {
    "duration": 319,
    "start_time": "2022-07-24T20:37:11.827Z"
   },
   {
    "duration": 99,
    "start_time": "2022-07-24T20:37:12.147Z"
   },
   {
    "duration": 337,
    "start_time": "2022-07-24T20:37:12.248Z"
   },
   {
    "duration": 12,
    "start_time": "2022-07-24T20:37:12.587Z"
   },
   {
    "duration": 12,
    "start_time": "2022-07-24T20:37:12.601Z"
   },
   {
    "duration": 10,
    "start_time": "2022-07-24T20:37:12.615Z"
   },
   {
    "duration": 77,
    "start_time": "2022-07-24T20:37:12.627Z"
   },
   {
    "duration": 22,
    "start_time": "2022-07-24T20:37:12.705Z"
   },
   {
    "duration": 22,
    "start_time": "2022-07-24T20:37:12.729Z"
   }
  ],
  "kernelspec": {
   "display_name": "Python 3 (ipykernel)",
   "language": "python",
   "name": "python3"
  },
  "language_info": {
   "codemirror_mode": {
    "name": "ipython",
    "version": 3
   },
   "file_extension": ".py",
   "mimetype": "text/x-python",
   "name": "python",
   "nbconvert_exporter": "python",
   "pygments_lexer": "ipython3",
   "version": "3.9.7"
  },
  "toc": {
   "base_numbering": 1,
   "nav_menu": {},
   "number_sections": true,
   "sideBar": true,
   "skip_h1_title": true,
   "title_cell": "Table of Contents",
   "title_sidebar": "Contents",
   "toc_cell": false,
   "toc_position": {},
   "toc_section_display": true,
   "toc_window_display": true
  }
 },
 "nbformat": 4,
 "nbformat_minor": 2
}
